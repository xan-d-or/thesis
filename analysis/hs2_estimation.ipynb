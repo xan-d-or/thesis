{
 "cells": [
  {
   "cell_type": "markdown",
   "metadata": {},
   "source": [
    "# Оцениваем разные спецификации для HS2"
   ]
  },
  {
   "cell_type": "code",
   "execution_count": 1,
   "metadata": {
    "vscode": {
     "languageId": "r"
    }
   },
   "outputs": [
    {
     "name": "stderr",
     "output_type": "stream",
     "text": [
      "\n",
      "Присоединяю пакет: 'arrow'\n",
      "\n",
      "\n",
      "Следующий объект скрыт от 'package:utils':\n",
      "\n",
      "    timestamp\n",
      "\n",
      "\n",
      "\n",
      "Please cite as: \n",
      "\n",
      "\n",
      " Hlavac, Marek (2022). stargazer: Well-Formatted Regression and Summary Statistics Tables.\n",
      "\n",
      " R package version 5.2.3. https://CRAN.R-project.org/package=stargazer \n",
      "\n",
      "\n",
      "Warning message:\n",
      "\"пакет 'tidyverse' был собран под R версии 4.4.2\"\n",
      "── \u001b[1mAttaching core tidyverse packages\u001b[22m ──────────────────────── tidyverse 2.0.0 ──\n",
      "\u001b[32m✔\u001b[39m \u001b[34mdplyr    \u001b[39m 1.1.4     \u001b[32m✔\u001b[39m \u001b[34mreadr    \u001b[39m 2.1.5\n",
      "\u001b[32m✔\u001b[39m \u001b[34mforcats  \u001b[39m 1.0.0     \u001b[32m✔\u001b[39m \u001b[34mstringr  \u001b[39m 1.5.1\n",
      "\u001b[32m✔\u001b[39m \u001b[34mggplot2  \u001b[39m 3.5.1     \u001b[32m✔\u001b[39m \u001b[34mtibble   \u001b[39m 3.2.1\n",
      "\u001b[32m✔\u001b[39m \u001b[34mlubridate\u001b[39m 1.9.3     \u001b[32m✔\u001b[39m \u001b[34mtidyr    \u001b[39m 1.3.1\n",
      "\u001b[32m✔\u001b[39m \u001b[34mpurrr    \u001b[39m 1.0.2     \n",
      "── \u001b[1mConflicts\u001b[22m ────────────────────────────────────────── tidyverse_conflicts() ──\n",
      "\u001b[31m✖\u001b[39m \u001b[34mlubridate\u001b[39m::\u001b[32mduration()\u001b[39m masks \u001b[34marrow\u001b[39m::duration()\n",
      "\u001b[31m✖\u001b[39m \u001b[34mdplyr\u001b[39m::\u001b[32mfilter()\u001b[39m       masks \u001b[34mstats\u001b[39m::filter()\n",
      "\u001b[31m✖\u001b[39m \u001b[34mdplyr\u001b[39m::\u001b[32mlag()\u001b[39m          masks \u001b[34mstats\u001b[39m::lag()\n",
      "\u001b[36mℹ\u001b[39m Use the conflicted package (\u001b[3m\u001b[34m<http://conflicted.r-lib.org/>\u001b[39m\u001b[23m) to force all conflicts to become errors\n",
      "Warning message:\n",
      "\"пакет 'plotly' был собран под R версии 4.4.2\"\n",
      "\n",
      "Присоединяю пакет: 'plotly'\n",
      "\n",
      "\n",
      "Следующий объект скрыт от 'package:ggplot2':\n",
      "\n",
      "    last_plot\n",
      "\n",
      "\n",
      "Следующий объект скрыт от 'package:arrow':\n",
      "\n",
      "    schema\n",
      "\n",
      "\n",
      "Следующий объект скрыт от 'package:stats':\n",
      "\n",
      "    filter\n",
      "\n",
      "\n",
      "Следующий объект скрыт от 'package:graphics':\n",
      "\n",
      "    layout\n",
      "\n",
      "\n"
     ]
    }
   ],
   "source": [
    "library(arrow)\n",
    "library(stargazer)\n",
    "library(tidyverse)\n",
    "library(plotly)\n",
    "library(fixest)"
   ]
  },
  {
   "cell_type": "code",
   "execution_count": 2,
   "metadata": {
    "vscode": {
     "languageId": "r"
    }
   },
   "outputs": [
    {
     "data": {
      "text/html": [
       "<table class=\"dataframe\">\n",
       "<caption>A tibble: 6 × 100</caption>\n",
       "<thead>\n",
       "\t<tr><th scope=col>t</th><th scope=col>i</th><th scope=col>j</th><th scope=col>category</th><th scope=col>v</th><th scope=col>q</th><th scope=col>v19</th><th scope=col>q19</th><th scope=col>country</th><th scope=col>t:r_i</th><th scope=col>⋯</th><th scope=col>median_age_i</th><th scope=col>median_age_j</th><th scope=col>population_density_i</th><th scope=col>population_density_j</th><th scope=col>share_1_members_i</th><th scope=col>share_1_members_j</th><th scope=col>H6M_Facial_Coverings_i</th><th scope=col>H6M_Facial_Coverings_j</th><th scope=col>C8EV_International_travel_controls_i</th><th scope=col>C8EV_International_travel_controls_j</th></tr>\n",
       "\t<tr><th scope=col>&lt;int&gt;</th><th scope=col>&lt;chr&gt;</th><th scope=col>&lt;chr&gt;</th><th scope=col>&lt;chr&gt;</th><th scope=col>&lt;dbl&gt;</th><th scope=col>&lt;dbl&gt;</th><th scope=col>&lt;dbl&gt;</th><th scope=col>&lt;dbl&gt;</th><th scope=col>&lt;chr&gt;</th><th scope=col>&lt;int&gt;</th><th scope=col>⋯</th><th scope=col>&lt;dbl&gt;</th><th scope=col>&lt;dbl&gt;</th><th scope=col>&lt;dbl&gt;</th><th scope=col>&lt;dbl&gt;</th><th scope=col>&lt;dbl&gt;</th><th scope=col>&lt;dbl&gt;</th><th scope=col>&lt;dbl&gt;</th><th scope=col>&lt;dbl&gt;</th><th scope=col>&lt;dbl&gt;</th><th scope=col>&lt;dbl&gt;</th></tr>\n",
       "</thead>\n",
       "<tbody>\n",
       "\t<tr><td>2021</td><td>SVK</td><td>RUS</td><td>12</td><td>   37.881</td><td>  18.000</td><td> 310.385</td><td>104.000</td><td>SVK</td><td>2021</td><td>⋯</td><td>39.805</td><td>38.441</td><td>113.43900</td><td>  8.881629</td><td>25.33</td><td>25.69</td><td>3.065753</td><td>2.3150685</td><td>1.545205</td><td>2.6109588</td></tr>\n",
       "\t<tr><td>2021</td><td>JAM</td><td>FRA</td><td>04</td><td>    7.270</td><td>   4.502</td><td>   0.160</td><td>  0.022</td><td>JAM</td><td>2021</td><td>⋯</td><td>29.746</td><td>41.080</td><td>260.68984</td><td>123.059446</td><td>   NA</td><td>   NA</td><td>3.095891</td><td>3.2000000</td><td>2.427397</td><td>2.0520549</td></tr>\n",
       "\t<tr><td>2021</td><td>AGO</td><td>CHN</td><td>74</td><td>13144.124</td><td>1492.615</td><td>1866.895</td><td>333.660</td><td>AGO</td><td>2021</td><td>⋯</td><td>16.302</td><td>37.026</td><td> 25.96906</td><td>149.948180</td><td>10.81</td><td>14.53</td><td>2.895890</td><td>2.4054794</td><td>2.487671</td><td>2.5479453</td></tr>\n",
       "\t<tr><td>2022</td><td>PAK</td><td>CHE</td><td>84</td><td>  257.766</td><td>  17.832</td><td> 150.195</td><td>  2.863</td><td>PAK</td><td>2022</td><td>⋯</td><td>19.652</td><td>41.582</td><td>299.39926</td><td>217.042782</td><td> 1.08</td><td>   NA</td><td>2.969863</td><td>0.4931507</td><td>1.000000</td><td>0.1287671</td></tr>\n",
       "\t<tr><td>2021</td><td>CUB</td><td>CZE</td><td>24</td><td> 1600.466</td><td>   4.743</td><td>1647.356</td><td>  4.901</td><td>CUB</td><td>2021</td><td>⋯</td><td>41.096</td><td>41.963</td><td>107.92723</td><td>138.226810</td><td>21.14</td><td>32.51</td><td>3.315068</td><td>2.6356165</td><td>1.838356</td><td>2.4712329</td></tr>\n",
       "\t<tr><td>2020</td><td>GBR</td><td>LKA</td><td>05</td><td>  209.375</td><td>   0.083</td><td> 174.662</td><td>  0.100</td><td>GBR</td><td>2020</td><td>⋯</td><td>39.091</td><td>31.816</td><td>276.26308</td><td>352.431695</td><td>30.58</td><td>   NA</td><td>1.579235</td><td>2.4699454</td><td>1.153005</td><td>2.3087432</td></tr>\n",
       "</tbody>\n",
       "</table>\n"
      ],
      "text/latex": [
       "A tibble: 6 × 100\n",
       "\\begin{tabular}{lllllllllllllllllllll}\n",
       " t & i & j & category & v & q & v19 & q19 & country & t:r\\_i & ⋯ & median\\_age\\_i & median\\_age\\_j & population\\_density\\_i & population\\_density\\_j & share\\_1\\_members\\_i & share\\_1\\_members\\_j & H6M\\_Facial\\_Coverings\\_i & H6M\\_Facial\\_Coverings\\_j & C8EV\\_International\\_travel\\_controls\\_i & C8EV\\_International\\_travel\\_controls\\_j\\\\\n",
       " <int> & <chr> & <chr> & <chr> & <dbl> & <dbl> & <dbl> & <dbl> & <chr> & <int> & ⋯ & <dbl> & <dbl> & <dbl> & <dbl> & <dbl> & <dbl> & <dbl> & <dbl> & <dbl> & <dbl>\\\\\n",
       "\\hline\n",
       "\t 2021 & SVK & RUS & 12 &    37.881 &   18.000 &  310.385 & 104.000 & SVK & 2021 & ⋯ & 39.805 & 38.441 & 113.43900 &   8.881629 & 25.33 & 25.69 & 3.065753 & 2.3150685 & 1.545205 & 2.6109588\\\\\n",
       "\t 2021 & JAM & FRA & 04 &     7.270 &    4.502 &    0.160 &   0.022 & JAM & 2021 & ⋯ & 29.746 & 41.080 & 260.68984 & 123.059446 &    NA &    NA & 3.095891 & 3.2000000 & 2.427397 & 2.0520549\\\\\n",
       "\t 2021 & AGO & CHN & 74 & 13144.124 & 1492.615 & 1866.895 & 333.660 & AGO & 2021 & ⋯ & 16.302 & 37.026 &  25.96906 & 149.948180 & 10.81 & 14.53 & 2.895890 & 2.4054794 & 2.487671 & 2.5479453\\\\\n",
       "\t 2022 & PAK & CHE & 84 &   257.766 &   17.832 &  150.195 &   2.863 & PAK & 2022 & ⋯ & 19.652 & 41.582 & 299.39926 & 217.042782 &  1.08 &    NA & 2.969863 & 0.4931507 & 1.000000 & 0.1287671\\\\\n",
       "\t 2021 & CUB & CZE & 24 &  1600.466 &    4.743 & 1647.356 &   4.901 & CUB & 2021 & ⋯ & 41.096 & 41.963 & 107.92723 & 138.226810 & 21.14 & 32.51 & 3.315068 & 2.6356165 & 1.838356 & 2.4712329\\\\\n",
       "\t 2020 & GBR & LKA & 05 &   209.375 &    0.083 &  174.662 &   0.100 & GBR & 2020 & ⋯ & 39.091 & 31.816 & 276.26308 & 352.431695 & 30.58 &    NA & 1.579235 & 2.4699454 & 1.153005 & 2.3087432\\\\\n",
       "\\end{tabular}\n"
      ],
      "text/markdown": [
       "\n",
       "A tibble: 6 × 100\n",
       "\n",
       "| t &lt;int&gt; | i &lt;chr&gt; | j &lt;chr&gt; | category &lt;chr&gt; | v &lt;dbl&gt; | q &lt;dbl&gt; | v19 &lt;dbl&gt; | q19 &lt;dbl&gt; | country &lt;chr&gt; | t:r_i &lt;int&gt; | ⋯ ⋯ | median_age_i &lt;dbl&gt; | median_age_j &lt;dbl&gt; | population_density_i &lt;dbl&gt; | population_density_j &lt;dbl&gt; | share_1_members_i &lt;dbl&gt; | share_1_members_j &lt;dbl&gt; | H6M_Facial_Coverings_i &lt;dbl&gt; | H6M_Facial_Coverings_j &lt;dbl&gt; | C8EV_International_travel_controls_i &lt;dbl&gt; | C8EV_International_travel_controls_j &lt;dbl&gt; |\n",
       "|---|---|---|---|---|---|---|---|---|---|---|---|---|---|---|---|---|---|---|---|---|\n",
       "| 2021 | SVK | RUS | 12 |    37.881 |   18.000 |  310.385 | 104.000 | SVK | 2021 | ⋯ | 39.805 | 38.441 | 113.43900 |   8.881629 | 25.33 | 25.69 | 3.065753 | 2.3150685 | 1.545205 | 2.6109588 |\n",
       "| 2021 | JAM | FRA | 04 |     7.270 |    4.502 |    0.160 |   0.022 | JAM | 2021 | ⋯ | 29.746 | 41.080 | 260.68984 | 123.059446 |    NA |    NA | 3.095891 | 3.2000000 | 2.427397 | 2.0520549 |\n",
       "| 2021 | AGO | CHN | 74 | 13144.124 | 1492.615 | 1866.895 | 333.660 | AGO | 2021 | ⋯ | 16.302 | 37.026 |  25.96906 | 149.948180 | 10.81 | 14.53 | 2.895890 | 2.4054794 | 2.487671 | 2.5479453 |\n",
       "| 2022 | PAK | CHE | 84 |   257.766 |   17.832 |  150.195 |   2.863 | PAK | 2022 | ⋯ | 19.652 | 41.582 | 299.39926 | 217.042782 |  1.08 |    NA | 2.969863 | 0.4931507 | 1.000000 | 0.1287671 |\n",
       "| 2021 | CUB | CZE | 24 |  1600.466 |    4.743 | 1647.356 |   4.901 | CUB | 2021 | ⋯ | 41.096 | 41.963 | 107.92723 | 138.226810 | 21.14 | 32.51 | 3.315068 | 2.6356165 | 1.838356 | 2.4712329 |\n",
       "| 2020 | GBR | LKA | 05 |   209.375 |    0.083 |  174.662 |   0.100 | GBR | 2020 | ⋯ | 39.091 | 31.816 | 276.26308 | 352.431695 | 30.58 |    NA | 1.579235 | 2.4699454 | 1.153005 | 2.3087432 |\n",
       "\n"
      ],
      "text/plain": [
       "  t    i   j   category v         q        v19      q19     country t:r_i ⋯\n",
       "1 2021 SVK RUS 12          37.881   18.000  310.385 104.000 SVK     2021  ⋯\n",
       "2 2021 JAM FRA 04           7.270    4.502    0.160   0.022 JAM     2021  ⋯\n",
       "3 2021 AGO CHN 74       13144.124 1492.615 1866.895 333.660 AGO     2021  ⋯\n",
       "4 2022 PAK CHE 84         257.766   17.832  150.195   2.863 PAK     2022  ⋯\n",
       "5 2021 CUB CZE 24        1600.466    4.743 1647.356   4.901 CUB     2021  ⋯\n",
       "6 2020 GBR LKA 05         209.375    0.083  174.662   0.100 GBR     2020  ⋯\n",
       "  median_age_i median_age_j population_density_i population_density_j\n",
       "1 39.805       38.441       113.43900              8.881629          \n",
       "2 29.746       41.080       260.68984            123.059446          \n",
       "3 16.302       37.026        25.96906            149.948180          \n",
       "4 19.652       41.582       299.39926            217.042782          \n",
       "5 41.096       41.963       107.92723            138.226810          \n",
       "6 39.091       31.816       276.26308            352.431695          \n",
       "  share_1_members_i share_1_members_j H6M_Facial_Coverings_i\n",
       "1 25.33             25.69             3.065753              \n",
       "2    NA                NA             3.095891              \n",
       "3 10.81             14.53             2.895890              \n",
       "4  1.08                NA             2.969863              \n",
       "5 21.14             32.51             3.315068              \n",
       "6 30.58                NA             1.579235              \n",
       "  H6M_Facial_Coverings_j C8EV_International_travel_controls_i\n",
       "1 2.3150685              1.545205                            \n",
       "2 3.2000000              2.427397                            \n",
       "3 2.4054794              2.487671                            \n",
       "4 0.4931507              1.000000                            \n",
       "5 2.6356165              1.838356                            \n",
       "6 2.4699454              1.153005                            \n",
       "  C8EV_International_travel_controls_j\n",
       "1 2.6109588                           \n",
       "2 2.0520549                           \n",
       "3 2.5479453                           \n",
       "4 0.1287671                           \n",
       "5 2.4712329                           \n",
       "6 2.3087432                           "
      ]
     },
     "metadata": {},
     "output_type": "display_data"
    }
   ],
   "source": [
    "# Скачиваю данные и переназываю переменные\n",
    "df = read_parquet('../data/processed_data/trade_hs2_x_covid.parquet.gzip')\n",
    "# Добавить везде _i для симметрии\n",
    "df$deaths_i = df$deaths\n",
    "df$deaths_j = df$`deaths:r_j`\n",
    "\n",
    "df$median_age_i = df$median_age\n",
    "df$median_age_j = df$`median_age:r_j`\n",
    "\n",
    "df$population_density_i = df$population_density\n",
    "df$population_density_j = df$`population_density:r_j`\n",
    "\n",
    "df$share_1_members_i = df$share_1_members\n",
    "df$share_1_members_j = df$`share_1_members:r_j`\n",
    "\n",
    "df$H6M_Facial_Coverings_i = df$H6M_Facial_Coverings\n",
    "df$H6M_Facial_Coverings_j = df$`H6M_Facial_Coverings:r_j`\n",
    "\n",
    "df$C8EV_International_travel_controls_i = df$C8EV_International_travel_controls\n",
    "df$C8EV_International_travel_controls_j = df$`C8EV_International_travel_controls:r_j`\n",
    "df %>% head()"
   ]
  },
  {
   "cell_type": "code",
   "execution_count": 3,
   "metadata": {
    "vscode": {
     "languageId": "r"
    }
   },
   "outputs": [
    {
     "name": "stderr",
     "output_type": "stream",
     "text": [
      "NOTE: 201,840 observations removed because of NA and infinite values (RHS: 201,840).\n",
      "\n"
     ]
    },
    {
     "data": {
      "text/plain": [
       "OLS estimation, Dep. Var.: log(v/v19)\n",
       "Observations: 1,688,768\n",
       "Fixed-effects: year: 3\n",
       "Standard-errors: Clustered (i^category & j^category) \n",
       "                                      Estimate Std. Error  t value   Pr(>|t|)\n",
       "log(deaths_i)                        -0.004933   0.001299 -3.79819 1.4634e-04\n",
       "log(deaths_j)                        -0.003739   0.001113 -3.36050 7.7998e-04\n",
       "C8EV_International_travel_controls_i -0.027423   0.003357 -8.16952 3.3454e-16\n",
       "C8EV_International_travel_controls_j -0.023852   0.002999 -7.95391 1.9374e-15\n",
       "                                        \n",
       "log(deaths_i)                        ***\n",
       "log(deaths_j)                        ***\n",
       "C8EV_International_travel_controls_i ***\n",
       "C8EV_International_travel_controls_j ***\n",
       "---\n",
       "Signif. codes:  0 '***' 0.001 '**' 0.01 '*' 0.05 '.' 0.1 ' ' 1\n",
       "RMSE: 1.46761     Adj. R2: 0.004419\n",
       "                Within R2: 2.309e-4"
      ]
     },
     "metadata": {},
     "output_type": "display_data"
    }
   ],
   "source": [
    "# Pulled OLS\n",
    "m0 = feols(log(v/v19) ~ log(deaths_i) + log(deaths_j) +\n",
    " C8EV_International_travel_controls_i + C8EV_International_travel_controls_j| year,\n",
    " data = df)\n",
    "m0 %>% summary(cluster = ~ i^category+j^category)"
   ]
  },
  {
   "cell_type": "code",
   "execution_count": 4,
   "metadata": {
    "vscode": {
     "languageId": "r"
    }
   },
   "outputs": [
    {
     "name": "stderr",
     "output_type": "stream",
     "text": [
      "NOTE: 201,840 observations removed because of NA and infinite values (RHS: 201,840).\n",
      "\n"
     ]
    },
    {
     "data": {
      "text/plain": [
       "OLS estimation, Dep. Var.: log(v/v19)\n",
       "Observations: 1,688,768\n",
       "Fixed-effects: i: 175,  j: 175,  category: 96,  year: 3\n",
       "Standard-errors: Clustered (i^category & j^category) \n",
       "                                      Estimate Std. Error  t value   Pr(>|t|)\n",
       "log(deaths_i)                        -0.003270   0.001475 -2.21720 2.6624e-02\n",
       "log(deaths_j)                        -0.011519   0.001313 -8.77570  < 2.2e-16\n",
       "C8EV_International_travel_controls_i -0.013569   0.003142 -4.31827 1.5828e-05\n",
       "C8EV_International_travel_controls_j -0.029011   0.002975 -9.75181  < 2.2e-16\n",
       "                                        \n",
       "log(deaths_i)                        *  \n",
       "log(deaths_j)                        ***\n",
       "C8EV_International_travel_controls_i ***\n",
       "C8EV_International_travel_controls_j ***\n",
       "---\n",
       "Signif. codes:  0 '***' 0.001 '**' 0.01 '*' 0.05 '.' 0.1 ' ' 1\n",
       "RMSE: 1.45977     Adj. R2: 0.014776\n",
       "                Within R2: 1.045e-4"
      ]
     },
     "metadata": {},
     "output_type": "display_data"
    }
   ],
   "source": [
    "# FE (т.е. оценка на панельных данных с использованием внутригрупповой дисперсии)\n",
    "m1 = feols(log(v/v19) ~ log(deaths_i) + log(deaths_j) +\n",
    " C8EV_International_travel_controls_i + C8EV_International_travel_controls_j| i + j + category +year,\n",
    " data = df)\n",
    "m1 %>% summary(cluster = ~ i^category+j^category)"
   ]
  },
  {
   "cell_type": "code",
   "execution_count": null,
   "metadata": {
    "vscode": {
     "languageId": "r"
    }
   },
   "outputs": [
    {
     "name": "stderr",
     "output_type": "stream",
     "text": [
      "NOTE: 201,840 observations removed because of NA and infinite values (RHS: 201,840).\n",
      "\n"
     ]
    },
    {
     "data": {
      "text/plain": [
       "OLS estimation, Dep. Var.: log(v/v19)\n",
       "Observations: 1,688,768\n",
       "Fixed-effects: i^category: 14,779,  j^category: 16,571,  year: 3\n",
       "Standard-errors: Clustered (i^category & j^category) \n",
       "                                      Estimate Std. Error  t value   Pr(>|t|)\n",
       "log(deaths_i)                        -0.003078   0.001466 -2.09939 3.5800e-02\n",
       "log(deaths_j)                        -0.011592   0.001296 -8.94197  < 2.2e-16\n",
       "C8EV_International_travel_controls_i -0.013433   0.003136 -4.28389 1.8482e-05\n",
       "C8EV_International_travel_controls_j -0.029208   0.002956 -9.87953  < 2.2e-16\n",
       "                                        \n",
       "log(deaths_i)                        *  \n",
       "log(deaths_j)                        ***\n",
       "C8EV_International_travel_controls_i ***\n",
       "C8EV_International_travel_controls_j ***\n",
       "---\n",
       "Signif. codes:  0 '***' 0.001 '**' 0.01 '*' 0.05 '.' 0.1 ' ' 1\n",
       "RMSE: 1.42017     Adj. R2: 0.05011 \n",
       "                Within R2: 1.107e-4"
      ]
     },
     "metadata": {},
     "output_type": "display_data"
    }
   ],
   "source": [
    "# По-другому включаю фиксированные эффекты категории\n",
    "m2 = feols(log(v/v19) ~ log(deaths_i) + log(deaths_j) +\n",
    " C8EV_International_travel_controls_i + C8EV_International_travel_controls_j| i^category + j^category + year,\n",
    " data = df)\n",
    "m2 %>% summary(cluster = ~ i^category+j^category)"
   ]
  },
  {
   "cell_type": "code",
   "execution_count": null,
   "metadata": {
    "vscode": {
     "languageId": "r"
    }
   },
   "outputs": [
    {
     "ename": "ERROR",
     "evalue": "Error in feols(log(v/v19) ~ category/log(deaths_i) + category/log(deaths_j) + : Evaluation of the right-hand-side of the formula raises an error: \n  не могу разместить вектор размером 6.8 Gb\n",
     "output_type": "error",
     "traceback": [
      "Error in feols(log(v/v19) ~ category/log(deaths_i) + category/log(deaths_j) + : Evaluation of the right-hand-side of the formula raises an error: \n  не могу разместить вектор размером 6.8 Gb\nTraceback:\n",
      "1. stop(format_error_msg(env, \"feols\"))",
      "2. .handleSimpleError(function (cnd) \n . {\n .     watcher$capture_plot_and_output()\n .     cnd <- sanitize_call(cnd)\n .     watcher$push(cnd)\n .     switch(on_error, continue = invokeRestart(\"eval_continue\"), \n .         stop = invokeRestart(\"eval_stop\"), error = invokeRestart(\"eval_error\", \n .             cnd))\n . }, \"Evaluation of the right-hand-side of the formula raises an error: \\n  не могу разместить вектор размером 6.8 Gb\", \n .     base::quote(feols(log(v/v19) ~ category/log(deaths_i) + category/log(deaths_j) + \n .         category/C8EV_International_travel_controls_i + category/C8EV_International_travel_controls_j | \n .         i^category + j^category, data = df)))"
     ]
    }
   ],
   "source": [
    "# Гетерогенность по категории не влезла в оперативку (22 Гб с годом, 6 Гб без года)\n",
    "# m3 = feols(log(v/v19) ~ year:category/log(deaths_i) + year:category/log(deaths_j) +\n",
    "# year:category/C8EV_International_travel_controls_i + year:category/C8EV_International_travel_controls_j| i^category + j^category,\n",
    "#  data = df)\n",
    "m3 = feols(log(v/v19) ~ category/log(deaths_i) + category/log(deaths_j) +\n",
    "category/C8EV_International_travel_controls_i + category/C8EV_International_travel_controls_j| i^category + j^category,\n",
    " data = df) \n",
    "m3 %>% summary(cluster = ~ i^category+j^category)"
   ]
  },
  {
   "cell_type": "code",
   "execution_count": 11,
   "metadata": {
    "vscode": {
     "languageId": "r"
    }
   },
   "outputs": [
    {
     "data": {
      "text/html": [
       "<table class=\"dataframe\">\n",
       "<caption>A etable_df: 15 × 4</caption>\n",
       "<thead>\n",
       "\t<tr><th></th><th scope=col></th><th scope=col>m0</th><th scope=col>m1</th><th scope=col>m2</th></tr>\n",
       "\t<tr><th></th><th scope=col>&lt;chr&gt;</th><th scope=col>&lt;chr&gt;</th><th scope=col>&lt;chr&gt;</th><th scope=col>&lt;chr&gt;</th></tr>\n",
       "</thead>\n",
       "<tbody>\n",
       "\t<tr><th scope=row>1</th><td>Dependent Var.:                     </td><td>log(v/v19)              </td><td>log(v/v19)              </td><td>log(v/v19)              </td></tr>\n",
       "\t<tr><th scope=row>2</th><td>                                    </td><td>                        </td><td>                        </td><td>                        </td></tr>\n",
       "\t<tr><th scope=row>3</th><td>log(deaths_i)                       </td><td>-0.0049 (0.0045)        </td><td>-0.0031 (0.0011)        </td><td>-0.0031 (0.0011)        </td></tr>\n",
       "\t<tr><th scope=row>4</th><td>log(deaths_j)                       </td><td>-0.0037. (0.0010)       </td><td>-0.0116* (0.0025)       </td><td>-0.0116* (0.0025)       </td></tr>\n",
       "\t<tr><th scope=row>5</th><td>C8EV_International_travel_controls_i</td><td>-0.0274* (0.0030)       </td><td>-0.0134 (0.0068)        </td><td>-0.0134 (0.0068)        </td></tr>\n",
       "\t<tr><th scope=row>6</th><td>C8EV_International_travel_controls_j</td><td>-0.0238 (0.0215)        </td><td>-0.0292. (0.0099)       </td><td>-0.0292. (0.0099)       </td></tr>\n",
       "\t<tr><th scope=row>7</th><td>Fixed-Effects:                      </td><td>-----------------       </td><td>-----------------       </td><td>-----------------       </td></tr>\n",
       "\t<tr><th scope=row>8</th><td>year                                </td><td>Yes                     </td><td>Yes                     </td><td>Yes                     </td></tr>\n",
       "\t<tr><th scope=row>9</th><td>i-category                          </td><td>No                      </td><td>Yes                     </td><td>Yes                     </td></tr>\n",
       "\t<tr><th scope=row>10</th><td>j-category                          </td><td>No                      </td><td>Yes                     </td><td>Yes                     </td></tr>\n",
       "\t<tr><th scope=row>11</th><td>____________________________________</td><td>_________________       </td><td>_________________       </td><td>_________________       </td></tr>\n",
       "\t<tr><th scope=row>12</th><td><span style=white-space:pre-wrap>S.E.: Clustered                     </span></td><td>by: i-ca. &amp; j-ca. &amp; year</td><td>by: i-ca. &amp; j-ca. &amp; year</td><td>by: i-ca. &amp; j-ca. &amp; year</td></tr>\n",
       "\t<tr><th scope=row>13</th><td>Observations                        </td><td>1,688,768               </td><td>1,688,768               </td><td>1,688,768               </td></tr>\n",
       "\t<tr><th scope=row>14</th><td>R2                                  </td><td>0.00442                 </td><td>0.06775                 </td><td>0.06775                 </td></tr>\n",
       "\t<tr><th scope=row>15</th><td>Within R2                           </td><td>0.00023                 </td><td>0.00011                 </td><td>0.00011                 </td></tr>\n",
       "</tbody>\n",
       "</table>\n"
      ],
      "text/latex": [
       "A etable\\_df: 15 × 4\n",
       "\\begin{tabular}{r|llll}\n",
       "  &  & m0 & m1 & m2\\\\\n",
       "  & <chr> & <chr> & <chr> & <chr>\\\\\n",
       "\\hline\n",
       "\t1 & Dependent Var.:                      & log(v/v19)               & log(v/v19)               & log(v/v19)              \\\\\n",
       "\t2 &                                      &                          &                          &                         \\\\\n",
       "\t3 & log(deaths\\_i)                        & -0.0049 (0.0045)         & -0.0031 (0.0011)         & -0.0031 (0.0011)        \\\\\n",
       "\t4 & log(deaths\\_j)                        & -0.0037. (0.0010)        & -0.0116* (0.0025)        & -0.0116* (0.0025)       \\\\\n",
       "\t5 & C8EV\\_International\\_travel\\_controls\\_i & -0.0274* (0.0030)        & -0.0134 (0.0068)         & -0.0134 (0.0068)        \\\\\n",
       "\t6 & C8EV\\_International\\_travel\\_controls\\_j & -0.0238 (0.0215)         & -0.0292. (0.0099)        & -0.0292. (0.0099)       \\\\\n",
       "\t7 & Fixed-Effects:                       & -----------------        & -----------------        & -----------------       \\\\\n",
       "\t8 & year                                 & Yes                      & Yes                      & Yes                     \\\\\n",
       "\t9 & i-category                           & No                       & Yes                      & Yes                     \\\\\n",
       "\t10 & j-category                           & No                       & Yes                      & Yes                     \\\\\n",
       "\t11 & \\_\\_\\_\\_\\_\\_\\_\\_\\_\\_\\_\\_\\_\\_\\_\\_\\_\\_\\_\\_\\_\\_\\_\\_\\_\\_\\_\\_\\_\\_\\_\\_\\_\\_\\_\\_ & \\_\\_\\_\\_\\_\\_\\_\\_\\_\\_\\_\\_\\_\\_\\_\\_\\_        & \\_\\_\\_\\_\\_\\_\\_\\_\\_\\_\\_\\_\\_\\_\\_\\_\\_        & \\_\\_\\_\\_\\_\\_\\_\\_\\_\\_\\_\\_\\_\\_\\_\\_\\_       \\\\\n",
       "\t12 & S.E.: Clustered                      & by: i-ca. \\& j-ca. \\& year & by: i-ca. \\& j-ca. \\& year & by: i-ca. \\& j-ca. \\& year\\\\\n",
       "\t13 & Observations                         & 1,688,768                & 1,688,768                & 1,688,768               \\\\\n",
       "\t14 & R2                                   & 0.00442                  & 0.06775                  & 0.06775                 \\\\\n",
       "\t15 & Within R2                            & 0.00023                  & 0.00011                  & 0.00011                 \\\\\n",
       "\\end{tabular}\n"
      ],
      "text/markdown": [
       "\n",
       "A etable_df: 15 × 4\n",
       "\n",
       "| <!--/--> | <!----> &lt;chr&gt; | m0 &lt;chr&gt; | m1 &lt;chr&gt; | m2 &lt;chr&gt; |\n",
       "|---|---|---|---|---|\n",
       "| 1 | Dependent Var.:                      | log(v/v19)               | log(v/v19)               | log(v/v19)               |\n",
       "| 2 | <!----> | <!----> | <!----> | <!----> |\n",
       "| 3 | log(deaths_i)                        | -0.0049 (0.0045)         | -0.0031 (0.0011)         | -0.0031 (0.0011)         |\n",
       "| 4 | log(deaths_j)                        | -0.0037. (0.0010)        | -0.0116* (0.0025)        | -0.0116* (0.0025)        |\n",
       "| 5 | C8EV_International_travel_controls_i | -0.0274* (0.0030)        | -0.0134 (0.0068)         | -0.0134 (0.0068)         |\n",
       "| 6 | C8EV_International_travel_controls_j | -0.0238 (0.0215)         | -0.0292. (0.0099)        | -0.0292. (0.0099)        |\n",
       "| 7 | Fixed-Effects:                       | -----------------        | -----------------        | -----------------        |\n",
       "| 8 | year                                 | Yes                      | Yes                      | Yes                      |\n",
       "| 9 | i-category                           | No                       | Yes                      | Yes                      |\n",
       "| 10 | j-category                           | No                       | Yes                      | Yes                      |\n",
       "| 11 | ____________________________________ | _________________        | _________________        | _________________        |\n",
       "| 12 | S.E.: Clustered                      | by: i-ca. &amp; j-ca. &amp; year | by: i-ca. &amp; j-ca. &amp; year | by: i-ca. &amp; j-ca. &amp; year |\n",
       "| 13 | Observations                         | 1,688,768                | 1,688,768                | 1,688,768                |\n",
       "| 14 | R2                                   | 0.00442                  | 0.06775                  | 0.06775                  |\n",
       "| 15 | Within R2                            | 0.00023                  | 0.00011                  | 0.00011                  |\n",
       "\n"
      ],
      "text/plain": [
       "                                        m0                      \n",
       "1  Dependent Var.:                      log(v/v19)              \n",
       "2                                                               \n",
       "3  log(deaths_i)                        -0.0049 (0.0045)        \n",
       "4  log(deaths_j)                        -0.0037. (0.0010)       \n",
       "5  C8EV_International_travel_controls_i -0.0274* (0.0030)       \n",
       "6  C8EV_International_travel_controls_j -0.0238 (0.0215)        \n",
       "7  Fixed-Effects:                       -----------------       \n",
       "8  year                                 Yes                     \n",
       "9  i-category                           No                      \n",
       "10 j-category                           No                      \n",
       "11 ____________________________________ _________________       \n",
       "12 S.E.: Clustered                      by: i-ca. & j-ca. & year\n",
       "13 Observations                         1,688,768               \n",
       "14 R2                                   0.00442                 \n",
       "15 Within R2                            0.00023                 \n",
       "   m1                       m2                      \n",
       "1  log(v/v19)               log(v/v19)              \n",
       "2                                                   \n",
       "3  -0.0031 (0.0011)         -0.0031 (0.0011)        \n",
       "4  -0.0116* (0.0025)        -0.0116* (0.0025)       \n",
       "5  -0.0134 (0.0068)         -0.0134 (0.0068)        \n",
       "6  -0.0292. (0.0099)        -0.0292. (0.0099)       \n",
       "7  -----------------        -----------------       \n",
       "8  Yes                      Yes                     \n",
       "9  Yes                      Yes                     \n",
       "10 Yes                      Yes                     \n",
       "11 _________________        _________________       \n",
       "12 by: i-ca. & j-ca. & year by: i-ca. & j-ca. & year\n",
       "13 1,688,768                1,688,768               \n",
       "14 0.06775                  0.06775                 \n",
       "15 0.00011                  0.00011                 "
      ]
     },
     "metadata": {},
     "output_type": "display_data"
    }
   ],
   "source": [
    "etable(m0, m1, m2, vcov = ~i^category+j^category+year)"
   ]
  },
  {
   "cell_type": "code",
   "execution_count": 12,
   "metadata": {
    "vscode": {
     "languageId": "r"
    }
   },
   "outputs": [
    {
     "data": {
      "text/html": [
       "<table class=\"dataframe\">\n",
       "<caption>A etable_df: 15 × 4</caption>\n",
       "<thead>\n",
       "\t<tr><th></th><th scope=col></th><th scope=col>m0</th><th scope=col>m1</th><th scope=col>m2</th></tr>\n",
       "\t<tr><th></th><th scope=col>&lt;chr&gt;</th><th scope=col>&lt;chr&gt;</th><th scope=col>&lt;chr&gt;</th><th scope=col>&lt;chr&gt;</th></tr>\n",
       "</thead>\n",
       "<tbody>\n",
       "\t<tr><th scope=row>1</th><td>Dependent Var.:                     </td><td>log(v/v19)         </td><td>log(v/v19)         </td><td>log(v/v19)         </td></tr>\n",
       "\t<tr><th scope=row>2</th><td>                                    </td><td>                   </td><td>                   </td><td>                   </td></tr>\n",
       "\t<tr><th scope=row>3</th><td>log(deaths_i)                       </td><td>-0.0049*** (0.0013)</td><td>-0.0031* (0.0015)  </td><td>-0.0031* (0.0015)  </td></tr>\n",
       "\t<tr><th scope=row>4</th><td>log(deaths_j)                       </td><td>-0.0037*** (0.0011)</td><td>-0.0116*** (0.0013)</td><td>-0.0116*** (0.0013)</td></tr>\n",
       "\t<tr><th scope=row>5</th><td>C8EV_International_travel_controls_i</td><td>-0.0274*** (0.0034)</td><td>-0.0134*** (0.0031)</td><td>-0.0134*** (0.0031)</td></tr>\n",
       "\t<tr><th scope=row>6</th><td>C8EV_International_travel_controls_j</td><td>-0.0238*** (0.0030)</td><td>-0.0292*** (0.0030)</td><td>-0.0292*** (0.0030)</td></tr>\n",
       "\t<tr><th scope=row>7</th><td>Fixed-Effects:                      </td><td>-------------------</td><td>-------------------</td><td>-------------------</td></tr>\n",
       "\t<tr><th scope=row>8</th><td>year                                </td><td>Yes                </td><td>Yes                </td><td>Yes                </td></tr>\n",
       "\t<tr><th scope=row>9</th><td>i-category                          </td><td>No                 </td><td>Yes                </td><td>Yes                </td></tr>\n",
       "\t<tr><th scope=row>10</th><td>j-category                          </td><td>No                 </td><td>Yes                </td><td>Yes                </td></tr>\n",
       "\t<tr><th scope=row>11</th><td>____________________________________</td><td>___________________</td><td>___________________</td><td>___________________</td></tr>\n",
       "\t<tr><th scope=row>12</th><td><span style=white-space:pre-wrap>S.E.: Clustered                     </span></td><td><span style=white-space:pre-wrap>by: i-ca. &amp; j-ca.  </span></td><td><span style=white-space:pre-wrap>by: i-ca. &amp; j-ca.  </span></td><td><span style=white-space:pre-wrap>by: i-ca. &amp; j-ca.  </span></td></tr>\n",
       "\t<tr><th scope=row>13</th><td>Observations                        </td><td>1,688,768          </td><td>1,688,768          </td><td>1,688,768          </td></tr>\n",
       "\t<tr><th scope=row>14</th><td>R2                                  </td><td>0.00442            </td><td>0.06775            </td><td>0.06775            </td></tr>\n",
       "\t<tr><th scope=row>15</th><td>Within R2                           </td><td>0.00023            </td><td>0.00011            </td><td>0.00011            </td></tr>\n",
       "</tbody>\n",
       "</table>\n"
      ],
      "text/latex": [
       "A etable\\_df: 15 × 4\n",
       "\\begin{tabular}{r|llll}\n",
       "  &  & m0 & m1 & m2\\\\\n",
       "  & <chr> & <chr> & <chr> & <chr>\\\\\n",
       "\\hline\n",
       "\t1 & Dependent Var.:                      & log(v/v19)          & log(v/v19)          & log(v/v19)         \\\\\n",
       "\t2 &                                      &                     &                     &                    \\\\\n",
       "\t3 & log(deaths\\_i)                        & -0.0049*** (0.0013) & -0.0031* (0.0015)   & -0.0031* (0.0015)  \\\\\n",
       "\t4 & log(deaths\\_j)                        & -0.0037*** (0.0011) & -0.0116*** (0.0013) & -0.0116*** (0.0013)\\\\\n",
       "\t5 & C8EV\\_International\\_travel\\_controls\\_i & -0.0274*** (0.0034) & -0.0134*** (0.0031) & -0.0134*** (0.0031)\\\\\n",
       "\t6 & C8EV\\_International\\_travel\\_controls\\_j & -0.0238*** (0.0030) & -0.0292*** (0.0030) & -0.0292*** (0.0030)\\\\\n",
       "\t7 & Fixed-Effects:                       & ------------------- & ------------------- & -------------------\\\\\n",
       "\t8 & year                                 & Yes                 & Yes                 & Yes                \\\\\n",
       "\t9 & i-category                           & No                  & Yes                 & Yes                \\\\\n",
       "\t10 & j-category                           & No                  & Yes                 & Yes                \\\\\n",
       "\t11 & \\_\\_\\_\\_\\_\\_\\_\\_\\_\\_\\_\\_\\_\\_\\_\\_\\_\\_\\_\\_\\_\\_\\_\\_\\_\\_\\_\\_\\_\\_\\_\\_\\_\\_\\_\\_ & \\_\\_\\_\\_\\_\\_\\_\\_\\_\\_\\_\\_\\_\\_\\_\\_\\_\\_\\_ & \\_\\_\\_\\_\\_\\_\\_\\_\\_\\_\\_\\_\\_\\_\\_\\_\\_\\_\\_ & \\_\\_\\_\\_\\_\\_\\_\\_\\_\\_\\_\\_\\_\\_\\_\\_\\_\\_\\_\\\\\n",
       "\t12 & S.E.: Clustered                      & by: i-ca. \\& j-ca.   & by: i-ca. \\& j-ca.   & by: i-ca. \\& j-ca.  \\\\\n",
       "\t13 & Observations                         & 1,688,768           & 1,688,768           & 1,688,768          \\\\\n",
       "\t14 & R2                                   & 0.00442             & 0.06775             & 0.06775            \\\\\n",
       "\t15 & Within R2                            & 0.00023             & 0.00011             & 0.00011            \\\\\n",
       "\\end{tabular}\n"
      ],
      "text/markdown": [
       "\n",
       "A etable_df: 15 × 4\n",
       "\n",
       "| <!--/--> | <!----> &lt;chr&gt; | m0 &lt;chr&gt; | m1 &lt;chr&gt; | m2 &lt;chr&gt; |\n",
       "|---|---|---|---|---|\n",
       "| 1 | Dependent Var.:                      | log(v/v19)          | log(v/v19)          | log(v/v19)          |\n",
       "| 2 | <!----> | <!----> | <!----> | <!----> |\n",
       "| 3 | log(deaths_i)                        | -0.0049*** (0.0013) | -0.0031* (0.0015)   | -0.0031* (0.0015)   |\n",
       "| 4 | log(deaths_j)                        | -0.0037*** (0.0011) | -0.0116*** (0.0013) | -0.0116*** (0.0013) |\n",
       "| 5 | C8EV_International_travel_controls_i | -0.0274*** (0.0034) | -0.0134*** (0.0031) | -0.0134*** (0.0031) |\n",
       "| 6 | C8EV_International_travel_controls_j | -0.0238*** (0.0030) | -0.0292*** (0.0030) | -0.0292*** (0.0030) |\n",
       "| 7 | Fixed-Effects:                       | ------------------- | ------------------- | ------------------- |\n",
       "| 8 | year                                 | Yes                 | Yes                 | Yes                 |\n",
       "| 9 | i-category                           | No                  | Yes                 | Yes                 |\n",
       "| 10 | j-category                           | No                  | Yes                 | Yes                 |\n",
       "| 11 | ____________________________________ | ___________________ | ___________________ | ___________________ |\n",
       "| 12 | S.E.: Clustered                      | by: i-ca. &amp; j-ca.   | by: i-ca. &amp; j-ca.   | by: i-ca. &amp; j-ca.   |\n",
       "| 13 | Observations                         | 1,688,768           | 1,688,768           | 1,688,768           |\n",
       "| 14 | R2                                   | 0.00442             | 0.06775             | 0.06775             |\n",
       "| 15 | Within R2                            | 0.00023             | 0.00011             | 0.00011             |\n",
       "\n"
      ],
      "text/plain": [
       "                                        m0                  m1                 \n",
       "1  Dependent Var.:                      log(v/v19)          log(v/v19)         \n",
       "2                                                                              \n",
       "3  log(deaths_i)                        -0.0049*** (0.0013) -0.0031* (0.0015)  \n",
       "4  log(deaths_j)                        -0.0037*** (0.0011) -0.0116*** (0.0013)\n",
       "5  C8EV_International_travel_controls_i -0.0274*** (0.0034) -0.0134*** (0.0031)\n",
       "6  C8EV_International_travel_controls_j -0.0238*** (0.0030) -0.0292*** (0.0030)\n",
       "7  Fixed-Effects:                       ------------------- -------------------\n",
       "8  year                                 Yes                 Yes                \n",
       "9  i-category                           No                  Yes                \n",
       "10 j-category                           No                  Yes                \n",
       "11 ____________________________________ ___________________ ___________________\n",
       "12 S.E.: Clustered                      by: i-ca. & j-ca.   by: i-ca. & j-ca.  \n",
       "13 Observations                         1,688,768           1,688,768          \n",
       "14 R2                                   0.00442             0.06775            \n",
       "15 Within R2                            0.00023             0.00011            \n",
       "   m2                 \n",
       "1  log(v/v19)         \n",
       "2                     \n",
       "3  -0.0031* (0.0015)  \n",
       "4  -0.0116*** (0.0013)\n",
       "5  -0.0134*** (0.0031)\n",
       "6  -0.0292*** (0.0030)\n",
       "7  -------------------\n",
       "8  Yes                \n",
       "9  Yes                \n",
       "10 Yes                \n",
       "11 ___________________\n",
       "12 by: i-ca. & j-ca.  \n",
       "13 1,688,768          \n",
       "14 0.06775            \n",
       "15 0.00011            "
      ]
     },
     "metadata": {},
     "output_type": "display_data"
    }
   ],
   "source": [
    "etable(m0, m1, m2, vcov = ~i^category+j^category)"
   ]
  },
  {
   "cell_type": "code",
   "execution_count": null,
   "metadata": {
    "vscode": {
     "languageId": "r"
    }
   },
   "outputs": [],
   "source": [
    "# Добавить инструменты"
   ]
  },
  {
   "cell_type": "markdown",
   "metadata": {},
   "source": [
    "## Фиксированные эффекты"
   ]
  },
  {
   "cell_type": "markdown",
   "metadata": {},
   "source": [
    "### Экспорт\n",
    "\n",
    "+иллюстрирую, зачем тут нужны фиксированные эффекты"
   ]
  },
  {
   "cell_type": "code",
   "execution_count": 11,
   "metadata": {
    "vscode": {
     "languageId": "r"
    }
   },
   "outputs": [
    {
     "data": {
      "text/html": [
       "<table class=\"dataframe\">\n",
       "<caption>A tibble: 6 × 45</caption>\n",
       "<thead>\n",
       "\t<tr><th scope=col>year</th><th scope=col>country</th><th scope=col>category</th><th scope=col>value</th><th scope=col>country:r</th><th scope=col>t</th><th scope=col>cases</th><th scope=col>deaths</th><th scope=col>tests</th><th scope=col>C8EV_International_travel_controls</th><th scope=col>⋯</th><th scope=col>infant_mortality</th><th scope=col>largest_city_share</th><th scope=col>urbanization</th><th scope=col>country:household_size</th><th scope=col>avg_hh_size</th><th scope=col>share_1_members</th><th scope=col>share_2_3_members</th><th scope=col>share_4_5_members</th><th scope=col>year:r</th><th scope=col>SARS_flg</th></tr>\n",
       "\t<tr><th scope=col>&lt;chr&gt;</th><th scope=col>&lt;chr&gt;</th><th scope=col>&lt;chr&gt;</th><th scope=col>&lt;dbl&gt;</th><th scope=col>&lt;chr&gt;</th><th scope=col>&lt;int&gt;</th><th scope=col>&lt;dbl&gt;</th><th scope=col>&lt;dbl&gt;</th><th scope=col>&lt;chr&gt;</th><th scope=col>&lt;dbl&gt;</th><th scope=col>⋯</th><th scope=col>&lt;dbl&gt;</th><th scope=col>&lt;dbl&gt;</th><th scope=col>&lt;dbl&gt;</th><th scope=col>&lt;chr&gt;</th><th scope=col>&lt;dbl&gt;</th><th scope=col>&lt;dbl&gt;</th><th scope=col>&lt;dbl&gt;</th><th scope=col>&lt;dbl&gt;</th><th scope=col>&lt;chr&gt;</th><th scope=col>&lt;int&gt;</th></tr>\n",
       "</thead>\n",
       "<tbody>\n",
       "\t<tr><td>2020</td><td>ABW</td><td>03</td><td> 5.267693</td><td>ABW</td><td>2020</td><td>133.9801</td><td>1.204475</td><td>NA</td><td>2.051913</td><td>⋯</td><td>NA</td><td>NA</td><td>NA</td><td>ABW</td><td>2.89</td><td>21.37</td><td>46.77</td><td>25.59</td><td>2020</td><td>0</td></tr>\n",
       "\t<tr><td>2020</td><td>ABW</td><td>07</td><td>-1.537117</td><td>ABW</td><td>2020</td><td>133.9801</td><td>1.204475</td><td>NA</td><td>2.051913</td><td>⋯</td><td>NA</td><td>NA</td><td>NA</td><td>ABW</td><td>2.89</td><td>21.37</td><td>46.77</td><td>25.59</td><td>2020</td><td>0</td></tr>\n",
       "\t<tr><td>2020</td><td>ABW</td><td>15</td><td> 4.671670</td><td>ABW</td><td>2020</td><td>133.9801</td><td>1.204475</td><td>NA</td><td>2.051913</td><td>⋯</td><td>NA</td><td>NA</td><td>NA</td><td>ABW</td><td>2.89</td><td>21.37</td><td>46.77</td><td>25.59</td><td>2020</td><td>0</td></tr>\n",
       "\t<tr><td>2020</td><td>ABW</td><td>16</td><td>-1.565421</td><td>ABW</td><td>2020</td><td>133.9801</td><td>1.204475</td><td>NA</td><td>2.051913</td><td>⋯</td><td>NA</td><td>NA</td><td>NA</td><td>ABW</td><td>2.89</td><td>21.37</td><td>46.77</td><td>25.59</td><td>2020</td><td>0</td></tr>\n",
       "\t<tr><td>2020</td><td>ABW</td><td>17</td><td>-5.132723</td><td>ABW</td><td>2020</td><td>133.9801</td><td>1.204475</td><td>NA</td><td>2.051913</td><td>⋯</td><td>NA</td><td>NA</td><td>NA</td><td>ABW</td><td>2.89</td><td>21.37</td><td>46.77</td><td>25.59</td><td>2020</td><td>0</td></tr>\n",
       "\t<tr><td>2020</td><td>ABW</td><td>18</td><td>-3.772261</td><td>ABW</td><td>2020</td><td>133.9801</td><td>1.204475</td><td>NA</td><td>2.051913</td><td>⋯</td><td>NA</td><td>NA</td><td>NA</td><td>ABW</td><td>2.89</td><td>21.37</td><td>46.77</td><td>25.59</td><td>2020</td><td>0</td></tr>\n",
       "</tbody>\n",
       "</table>\n"
      ],
      "text/latex": [
       "A tibble: 6 × 45\n",
       "\\begin{tabular}{lllllllllllllllllllll}\n",
       " year & country & category & value & country:r & t & cases & deaths & tests & C8EV\\_International\\_travel\\_controls & ⋯ & infant\\_mortality & largest\\_city\\_share & urbanization & country:household\\_size & avg\\_hh\\_size & share\\_1\\_members & share\\_2\\_3\\_members & share\\_4\\_5\\_members & year:r & SARS\\_flg\\\\\n",
       " <chr> & <chr> & <chr> & <dbl> & <chr> & <int> & <dbl> & <dbl> & <chr> & <dbl> & ⋯ & <dbl> & <dbl> & <dbl> & <chr> & <dbl> & <dbl> & <dbl> & <dbl> & <chr> & <int>\\\\\n",
       "\\hline\n",
       "\t 2020 & ABW & 03 &  5.267693 & ABW & 2020 & 133.9801 & 1.204475 & NA & 2.051913 & ⋯ & NA & NA & NA & ABW & 2.89 & 21.37 & 46.77 & 25.59 & 2020 & 0\\\\\n",
       "\t 2020 & ABW & 07 & -1.537117 & ABW & 2020 & 133.9801 & 1.204475 & NA & 2.051913 & ⋯ & NA & NA & NA & ABW & 2.89 & 21.37 & 46.77 & 25.59 & 2020 & 0\\\\\n",
       "\t 2020 & ABW & 15 &  4.671670 & ABW & 2020 & 133.9801 & 1.204475 & NA & 2.051913 & ⋯ & NA & NA & NA & ABW & 2.89 & 21.37 & 46.77 & 25.59 & 2020 & 0\\\\\n",
       "\t 2020 & ABW & 16 & -1.565421 & ABW & 2020 & 133.9801 & 1.204475 & NA & 2.051913 & ⋯ & NA & NA & NA & ABW & 2.89 & 21.37 & 46.77 & 25.59 & 2020 & 0\\\\\n",
       "\t 2020 & ABW & 17 & -5.132723 & ABW & 2020 & 133.9801 & 1.204475 & NA & 2.051913 & ⋯ & NA & NA & NA & ABW & 2.89 & 21.37 & 46.77 & 25.59 & 2020 & 0\\\\\n",
       "\t 2020 & ABW & 18 & -3.772261 & ABW & 2020 & 133.9801 & 1.204475 & NA & 2.051913 & ⋯ & NA & NA & NA & ABW & 2.89 & 21.37 & 46.77 & 25.59 & 2020 & 0\\\\\n",
       "\\end{tabular}\n"
      ],
      "text/markdown": [
       "\n",
       "A tibble: 6 × 45\n",
       "\n",
       "| year &lt;chr&gt; | country &lt;chr&gt; | category &lt;chr&gt; | value &lt;dbl&gt; | country:r &lt;chr&gt; | t &lt;int&gt; | cases &lt;dbl&gt; | deaths &lt;dbl&gt; | tests &lt;chr&gt; | C8EV_International_travel_controls &lt;dbl&gt; | ⋯ ⋯ | infant_mortality &lt;dbl&gt; | largest_city_share &lt;dbl&gt; | urbanization &lt;dbl&gt; | country:household_size &lt;chr&gt; | avg_hh_size &lt;dbl&gt; | share_1_members &lt;dbl&gt; | share_2_3_members &lt;dbl&gt; | share_4_5_members &lt;dbl&gt; | year:r &lt;chr&gt; | SARS_flg &lt;int&gt; |\n",
       "|---|---|---|---|---|---|---|---|---|---|---|---|---|---|---|---|---|---|---|---|---|\n",
       "| 2020 | ABW | 03 |  5.267693 | ABW | 2020 | 133.9801 | 1.204475 | NA | 2.051913 | ⋯ | NA | NA | NA | ABW | 2.89 | 21.37 | 46.77 | 25.59 | 2020 | 0 |\n",
       "| 2020 | ABW | 07 | -1.537117 | ABW | 2020 | 133.9801 | 1.204475 | NA | 2.051913 | ⋯ | NA | NA | NA | ABW | 2.89 | 21.37 | 46.77 | 25.59 | 2020 | 0 |\n",
       "| 2020 | ABW | 15 |  4.671670 | ABW | 2020 | 133.9801 | 1.204475 | NA | 2.051913 | ⋯ | NA | NA | NA | ABW | 2.89 | 21.37 | 46.77 | 25.59 | 2020 | 0 |\n",
       "| 2020 | ABW | 16 | -1.565421 | ABW | 2020 | 133.9801 | 1.204475 | NA | 2.051913 | ⋯ | NA | NA | NA | ABW | 2.89 | 21.37 | 46.77 | 25.59 | 2020 | 0 |\n",
       "| 2020 | ABW | 17 | -5.132723 | ABW | 2020 | 133.9801 | 1.204475 | NA | 2.051913 | ⋯ | NA | NA | NA | ABW | 2.89 | 21.37 | 46.77 | 25.59 | 2020 | 0 |\n",
       "| 2020 | ABW | 18 | -3.772261 | ABW | 2020 | 133.9801 | 1.204475 | NA | 2.051913 | ⋯ | NA | NA | NA | ABW | 2.89 | 21.37 | 46.77 | 25.59 | 2020 | 0 |\n",
       "\n"
      ],
      "text/plain": [
       "  year country category value     country:r t    cases    deaths   tests\n",
       "1 2020 ABW     03        5.267693 ABW       2020 133.9801 1.204475 NA   \n",
       "2 2020 ABW     07       -1.537117 ABW       2020 133.9801 1.204475 NA   \n",
       "3 2020 ABW     15        4.671670 ABW       2020 133.9801 1.204475 NA   \n",
       "4 2020 ABW     16       -1.565421 ABW       2020 133.9801 1.204475 NA   \n",
       "5 2020 ABW     17       -5.132723 ABW       2020 133.9801 1.204475 NA   \n",
       "6 2020 ABW     18       -3.772261 ABW       2020 133.9801 1.204475 NA   \n",
       "  C8EV_International_travel_controls ⋯ infant_mortality largest_city_share\n",
       "1 2.051913                           ⋯ NA               NA                \n",
       "2 2.051913                           ⋯ NA               NA                \n",
       "3 2.051913                           ⋯ NA               NA                \n",
       "4 2.051913                           ⋯ NA               NA                \n",
       "5 2.051913                           ⋯ NA               NA                \n",
       "6 2.051913                           ⋯ NA               NA                \n",
       "  urbanization country:household_size avg_hh_size share_1_members\n",
       "1 NA           ABW                    2.89        21.37          \n",
       "2 NA           ABW                    2.89        21.37          \n",
       "3 NA           ABW                    2.89        21.37          \n",
       "4 NA           ABW                    2.89        21.37          \n",
       "5 NA           ABW                    2.89        21.37          \n",
       "6 NA           ABW                    2.89        21.37          \n",
       "  share_2_3_members share_4_5_members year:r SARS_flg\n",
       "1 46.77             25.59             2020   0       \n",
       "2 46.77             25.59             2020   0       \n",
       "3 46.77             25.59             2020   0       \n",
       "4 46.77             25.59             2020   0       \n",
       "5 46.77             25.59             2020   0       \n",
       "6 46.77             25.59             2020   0       "
      ]
     },
     "metadata": {},
     "output_type": "display_data"
    }
   ],
   "source": [
    "# Скачиваю данные и переназываю переменные\n",
    "df = read_parquet('../data/processed_data/trade_hs2_export_fe_x_covid.parquet.gzip')\n",
    "df = df %>% mutate(year = as.character(year), SARS_flg = as.integer(!is.na(SARS_total_cases)))\n",
    "df %>% head()"
   ]
  },
  {
   "cell_type": "code",
   "execution_count": null,
   "metadata": {
    "vscode": {
     "languageId": "r"
    }
   },
   "outputs": [
    {
     "name": "stderr",
     "output_type": "stream",
     "text": [
      "NOTE: 6,261 observations removed because of NA and infinite values (RHS: 6,261).\n",
      "\n"
     ]
    },
    {
     "data": {
      "text/plain": [
       "OLS estimation, Dep. Var.: value\n",
       "Observations: 42,148\n",
       "Fixed-effects: country: 175,  category: 96,  year: 3\n",
       "Standard-errors: Clustered (country & year) \n",
       "                                    Estimate Std. Error   t value Pr(>|t|) \n",
       "log(deaths)                        -0.000593   0.005506 -0.107674  0.92408 \n",
       "C8EV_International_travel_controls -0.021152   0.014301 -1.479073  0.27722 \n",
       "---\n",
       "Signif. codes:  0 '***' 0.001 '**' 0.01 '*' 0.05 '.' 0.1 ' ' 1\n",
       "RMSE: 1.76793     Adj. R2: 0.51019 \n",
       "                Within R2: 2.244e-5"
      ]
     },
     "metadata": {},
     "output_type": "display_data"
    },
    {
     "name": "stderr",
     "output_type": "stream",
     "text": [
      "NOTE: 6,261 observations removed because of NA and infinite values (RHS: 6,261).\n",
      "\n"
     ]
    },
    {
     "data": {
      "text/plain": [
       "OLS estimation, Dep. Var.: value\n",
       "Observations: 42,148\n",
       "Fixed-effects: country^category: 14,809,  year^category: 288\n",
       "Standard-errors: Clustered (country & year) \n",
       "                                    Estimate Std. Error   t value Pr(>|t|) \n",
       "log(deaths)                         0.000620   0.006195  0.100124  0.92938 \n",
       "C8EV_International_travel_controls -0.027324   0.013388 -2.041022  0.17803 \n",
       "---\n",
       "Signif. codes:  0 '***' 0.001 '**' 0.01 '*' 0.05 '.' 0.1 ' ' 1\n",
       "RMSE: 0.521132     Adj. R2: 0.934117\n",
       "                 Within R2: 4.426e-4"
      ]
     },
     "metadata": {},
     "output_type": "display_data"
    }
   ],
   "source": [
    "# Результат сходится с (Berthou, 2024), если не делать кластеризацию ошибок. Иначе значимого эффекта нет. Заставляет задуматься.\n",
    "feols(value ~ log(deaths) +\n",
    " C8EV_International_travel_controls| country+category+year,\n",
    " data = df) %>% summary(vcov = ~country+year)\n",
    "m1 = feols(value ~ log(deaths) +\n",
    " C8EV_International_travel_controls| country^category +  year^category,\n",
    " data = df)\n",
    "m1 %>% summary(vcov = ~country+year)"
   ]
  },
  {
   "cell_type": "code",
   "execution_count": 10,
   "metadata": {
    "vscode": {
     "languageId": "r"
    }
   },
   "outputs": [
    {
     "name": "stderr",
     "output_type": "stream",
     "text": [
      "NOTE: 532 observations removed because of NA values (Breakup: X: 532, f: 0).\n",
      "\n"
     ]
    },
    {
     "name": "stderr",
     "output_type": "stream",
     "text": [
      "Warning message in log(deaths):\n",
      "\"созданы NaN\"\n",
      "Warning message:\n",
      "\"\u001b[1m\u001b[22mRemoved 22080 rows containing missing values or values outside the scale range\n",
      "(`geom_point()`).\"\n"
     ]
    },
    {
     "data": {
      "image/png": "[encoded data removed]",
      "text/plain": [
       "plot without title"
      ]
     },
     "metadata": {
      "image/png": {
       "height": 420,
       "width": 420
      }
     },
     "output_type": "display_data"
    }
   ],
   "source": [
    "demean(df[, c('deaths', 'value')], df[, c('country', 'category', 'year')]) %>% ggplot(., aes(x = log(deaths), y = value)) + geom_point()"
   ]
  }
 ],
 "metadata": {
  "kernelspec": {
   "display_name": "R",
   "language": "R",
   "name": "ir"
  },
  "language_info": {
   "codemirror_mode": "r",
   "file_extension": ".r",
   "mimetype": "text/x-r-source",
   "name": "R",
   "pygments_lexer": "r",
   "version": "4.4.1"
  }
 },
 "nbformat": 4,
 "nbformat_minor": 2
}
