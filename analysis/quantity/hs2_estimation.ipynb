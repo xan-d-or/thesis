{
 "cells": [
  {
   "cell_type": "markdown",
   "metadata": {},
   "source": [
    "# Оцениваем разные спецификации для HS2"
   ]
  },
  {
   "cell_type": "code",
   "execution_count": 1,
   "metadata": {
    "vscode": {
     "languageId": "r"
    }
   },
   "outputs": [
    {
     "name": "stderr",
     "output_type": "stream",
     "text": [
      "\n",
      "Присоединяю пакет: 'arrow'\n",
      "\n",
      "\n",
      "Следующий объект скрыт от 'package:utils':\n",
      "\n",
      "    timestamp\n",
      "\n",
      "\n",
      "\n",
      "Please cite as: \n",
      "\n",
      "\n",
      " Hlavac, Marek (2022). stargazer: Well-Formatted Regression and Summary Statistics Tables.\n",
      "\n",
      " R package version 5.2.3. https://CRAN.R-project.org/package=stargazer \n",
      "\n",
      "\n",
      "Warning message:\n",
      "\"пакет 'tidyverse' был собран под R версии 4.4.2\"\n",
      "── \u001b[1mAttaching core tidyverse packages\u001b[22m ──────────────────────── tidyverse 2.0.0 ──\n",
      "\u001b[32m✔\u001b[39m \u001b[34mdplyr    \u001b[39m 1.1.4     \u001b[32m✔\u001b[39m \u001b[34mreadr    \u001b[39m 2.1.5\n",
      "\u001b[32m✔\u001b[39m \u001b[34mforcats  \u001b[39m 1.0.0     \u001b[32m✔\u001b[39m \u001b[34mstringr  \u001b[39m 1.5.1\n",
      "\u001b[32m✔\u001b[39m \u001b[34mggplot2  \u001b[39m 3.5.1     \u001b[32m✔\u001b[39m \u001b[34mtibble   \u001b[39m 3.2.1\n",
      "\u001b[32m✔\u001b[39m \u001b[34mlubridate\u001b[39m 1.9.3     \u001b[32m✔\u001b[39m \u001b[34mtidyr    \u001b[39m 1.3.1\n",
      "\u001b[32m✔\u001b[39m \u001b[34mpurrr    \u001b[39m 1.0.2     \n",
      "── \u001b[1mConflicts\u001b[22m ────────────────────────────────────────── tidyverse_conflicts() ──\n",
      "\u001b[31m✖\u001b[39m \u001b[34mlubridate\u001b[39m::\u001b[32mduration()\u001b[39m masks \u001b[34marrow\u001b[39m::duration()\n",
      "\u001b[31m✖\u001b[39m \u001b[34mdplyr\u001b[39m::\u001b[32mfilter()\u001b[39m       masks \u001b[34mstats\u001b[39m::filter()\n",
      "\u001b[31m✖\u001b[39m \u001b[34mdplyr\u001b[39m::\u001b[32mlag()\u001b[39m          masks \u001b[34mstats\u001b[39m::lag()\n",
      "\u001b[36mℹ\u001b[39m Use the conflicted package (\u001b[3m\u001b[34m<http://conflicted.r-lib.org/>\u001b[39m\u001b[23m) to force all conflicts to become errors\n",
      "Warning message:\n",
      "\"пакет 'plotly' был собран под R версии 4.4.2\"\n",
      "\n",
      "Присоединяю пакет: 'plotly'\n",
      "\n",
      "\n",
      "Следующий объект скрыт от 'package:ggplot2':\n",
      "\n",
      "    last_plot\n",
      "\n",
      "\n",
      "Следующий объект скрыт от 'package:arrow':\n",
      "\n",
      "    schema\n",
      "\n",
      "\n",
      "Следующий объект скрыт от 'package:stats':\n",
      "\n",
      "    filter\n",
      "\n",
      "\n",
      "Следующий объект скрыт от 'package:graphics':\n",
      "\n",
      "    layout\n",
      "\n",
      "\n"
     ]
    }
   ],
   "source": [
    "library(arrow)\n",
    "library(stargazer)\n",
    "library(tidyverse)\n",
    "library(plotly)\n",
    "library(fixest)"
   ]
  },
  {
   "cell_type": "code",
   "execution_count": 2,
   "metadata": {
    "vscode": {
     "languageId": "r"
    }
   },
   "outputs": [
    {
     "data": {
      "text/html": [
       "<table class=\"dataframe\">\n",
       "<caption>A tibble: 6 × 142</caption>\n",
       "<thead>\n",
       "\t<tr><th scope=col>t</th><th scope=col>i</th><th scope=col>j</th><th scope=col>category</th><th scope=col>v</th><th scope=col>q</th><th scope=col>v19</th><th scope=col>q19</th><th scope=col>country</th><th scope=col>t:r_i</th><th scope=col>⋯</th><th scope=col>C1M_School_closing_i</th><th scope=col>C1M_School_closing_j</th><th scope=col>population_density_i</th><th scope=col>population_density_j</th><th scope=col>share_1_members_i</th><th scope=col>share_1_members_j</th><th scope=col>H6M_Facial_Coverings_i</th><th scope=col>H6M_Facial_Coverings_j</th><th scope=col>C8EV_International_travel_controls_i</th><th scope=col>C8EV_International_travel_controls_j</th></tr>\n",
       "\t<tr><th scope=col>&lt;int&gt;</th><th scope=col>&lt;chr&gt;</th><th scope=col>&lt;chr&gt;</th><th scope=col>&lt;chr&gt;</th><th scope=col>&lt;dbl&gt;</th><th scope=col>&lt;dbl&gt;</th><th scope=col>&lt;dbl&gt;</th><th scope=col>&lt;dbl&gt;</th><th scope=col>&lt;chr&gt;</th><th scope=col>&lt;int&gt;</th><th scope=col>⋯</th><th scope=col>&lt;dbl&gt;</th><th scope=col>&lt;dbl&gt;</th><th scope=col>&lt;dbl&gt;</th><th scope=col>&lt;dbl&gt;</th><th scope=col>&lt;dbl&gt;</th><th scope=col>&lt;dbl&gt;</th><th scope=col>&lt;dbl&gt;</th><th scope=col>&lt;dbl&gt;</th><th scope=col>&lt;dbl&gt;</th><th scope=col>&lt;dbl&gt;</th></tr>\n",
       "</thead>\n",
       "<tbody>\n",
       "\t<tr><td>2021</td><td>SVK</td><td>RUS</td><td>12</td><td>   37.881</td><td>  18.000</td><td> 310.385</td><td>104.000</td><td>SVK</td><td>2021</td><td>⋯</td><td>1.9616438</td><td>1.2904110</td><td>113.29549</td><td>  8.838488</td><td>25.33</td><td>25.69</td><td>3.065753</td><td>2.3150685</td><td>1.545205</td><td>2.6109588</td></tr>\n",
       "\t<tr><td>2021</td><td>JAM</td><td>FRA</td><td>04</td><td>    7.270</td><td>   4.502</td><td>   0.160</td><td>  0.022</td><td>JAM</td><td>2021</td><td>⋯</td><td>1.4465753</td><td>1.1780822</td><td>262.02050</td><td>123.900911</td><td>   NA</td><td>   NA</td><td>3.095891</td><td>3.2000000</td><td>2.427397</td><td>2.0520549</td></tr>\n",
       "\t<tr><td>2021</td><td>AGO</td><td>CHN</td><td>74</td><td>13144.124</td><td>1492.615</td><td>1866.895</td><td>333.660</td><td>AGO</td><td>2021</td><td>⋯</td><td>0.3561644</td><td>2.6986301</td><td> 27.69907</td><td>150.439754</td><td>10.81</td><td>14.53</td><td>2.895890</td><td>2.4054794</td><td>2.487671</td><td>2.5479453</td></tr>\n",
       "\t<tr><td>2022</td><td>PAK</td><td>CHE</td><td>84</td><td>  257.766</td><td>  17.832</td><td> 150.195</td><td>  2.863</td><td>PAK</td><td>2022</td><td>⋯</td><td>0.5424657</td><td>0.2575342</td><td>316.13308</td><td>222.150600</td><td> 1.08</td><td>   NA</td><td>2.969863</td><td>0.4931507</td><td>1.000000</td><td>0.1287671</td></tr>\n",
       "\t<tr><td>2021</td><td>CUB</td><td>CZE</td><td>24</td><td> 1600.466</td><td>   4.743</td><td>1647.356</td><td>  4.901</td><td>CUB</td><td>2021</td><td>⋯</td><td>2.5561643</td><td>1.7780821</td><td>107.14998</td><td>136.108349</td><td>21.14</td><td>32.51</td><td>3.315068</td><td>2.6356165</td><td>1.838356</td><td>2.4712329</td></tr>\n",
       "\t<tr><td>2020</td><td>GBR</td><td>LKA</td><td>05</td><td>  209.375</td><td>   0.083</td><td> 174.662</td><td>  0.100</td><td>GBR</td><td>2020</td><td>⋯</td><td>1.8633879</td><td>1.9316940</td><td>277.27539</td><td>354.332363</td><td>30.58</td><td>   NA</td><td>1.579235</td><td>2.4699454</td><td>1.153005</td><td>2.3087432</td></tr>\n",
       "</tbody>\n",
       "</table>\n"
      ],
      "text/latex": [
       "A tibble: 6 × 142\n",
       "\\begin{tabular}{lllllllllllllllllllll}\n",
       " t & i & j & category & v & q & v19 & q19 & country & t:r\\_i & ⋯ & C1M\\_School\\_closing\\_i & C1M\\_School\\_closing\\_j & population\\_density\\_i & population\\_density\\_j & share\\_1\\_members\\_i & share\\_1\\_members\\_j & H6M\\_Facial\\_Coverings\\_i & H6M\\_Facial\\_Coverings\\_j & C8EV\\_International\\_travel\\_controls\\_i & C8EV\\_International\\_travel\\_controls\\_j\\\\\n",
       " <int> & <chr> & <chr> & <chr> & <dbl> & <dbl> & <dbl> & <dbl> & <chr> & <int> & ⋯ & <dbl> & <dbl> & <dbl> & <dbl> & <dbl> & <dbl> & <dbl> & <dbl> & <dbl> & <dbl>\\\\\n",
       "\\hline\n",
       "\t 2021 & SVK & RUS & 12 &    37.881 &   18.000 &  310.385 & 104.000 & SVK & 2021 & ⋯ & 1.9616438 & 1.2904110 & 113.29549 &   8.838488 & 25.33 & 25.69 & 3.065753 & 2.3150685 & 1.545205 & 2.6109588\\\\\n",
       "\t 2021 & JAM & FRA & 04 &     7.270 &    4.502 &    0.160 &   0.022 & JAM & 2021 & ⋯ & 1.4465753 & 1.1780822 & 262.02050 & 123.900911 &    NA &    NA & 3.095891 & 3.2000000 & 2.427397 & 2.0520549\\\\\n",
       "\t 2021 & AGO & CHN & 74 & 13144.124 & 1492.615 & 1866.895 & 333.660 & AGO & 2021 & ⋯ & 0.3561644 & 2.6986301 &  27.69907 & 150.439754 & 10.81 & 14.53 & 2.895890 & 2.4054794 & 2.487671 & 2.5479453\\\\\n",
       "\t 2022 & PAK & CHE & 84 &   257.766 &   17.832 &  150.195 &   2.863 & PAK & 2022 & ⋯ & 0.5424657 & 0.2575342 & 316.13308 & 222.150600 &  1.08 &    NA & 2.969863 & 0.4931507 & 1.000000 & 0.1287671\\\\\n",
       "\t 2021 & CUB & CZE & 24 &  1600.466 &    4.743 & 1647.356 &   4.901 & CUB & 2021 & ⋯ & 2.5561643 & 1.7780821 & 107.14998 & 136.108349 & 21.14 & 32.51 & 3.315068 & 2.6356165 & 1.838356 & 2.4712329\\\\\n",
       "\t 2020 & GBR & LKA & 05 &   209.375 &    0.083 &  174.662 &   0.100 & GBR & 2020 & ⋯ & 1.8633879 & 1.9316940 & 277.27539 & 354.332363 & 30.58 &    NA & 1.579235 & 2.4699454 & 1.153005 & 2.3087432\\\\\n",
       "\\end{tabular}\n"
      ],
      "text/markdown": [
       "\n",
       "A tibble: 6 × 142\n",
       "\n",
       "| t &lt;int&gt; | i &lt;chr&gt; | j &lt;chr&gt; | category &lt;chr&gt; | v &lt;dbl&gt; | q &lt;dbl&gt; | v19 &lt;dbl&gt; | q19 &lt;dbl&gt; | country &lt;chr&gt; | t:r_i &lt;int&gt; | ⋯ ⋯ | C1M_School_closing_i &lt;dbl&gt; | C1M_School_closing_j &lt;dbl&gt; | population_density_i &lt;dbl&gt; | population_density_j &lt;dbl&gt; | share_1_members_i &lt;dbl&gt; | share_1_members_j &lt;dbl&gt; | H6M_Facial_Coverings_i &lt;dbl&gt; | H6M_Facial_Coverings_j &lt;dbl&gt; | C8EV_International_travel_controls_i &lt;dbl&gt; | C8EV_International_travel_controls_j &lt;dbl&gt; |\n",
       "|---|---|---|---|---|---|---|---|---|---|---|---|---|---|---|---|---|---|---|---|---|\n",
       "| 2021 | SVK | RUS | 12 |    37.881 |   18.000 |  310.385 | 104.000 | SVK | 2021 | ⋯ | 1.9616438 | 1.2904110 | 113.29549 |   8.838488 | 25.33 | 25.69 | 3.065753 | 2.3150685 | 1.545205 | 2.6109588 |\n",
       "| 2021 | JAM | FRA | 04 |     7.270 |    4.502 |    0.160 |   0.022 | JAM | 2021 | ⋯ | 1.4465753 | 1.1780822 | 262.02050 | 123.900911 |    NA |    NA | 3.095891 | 3.2000000 | 2.427397 | 2.0520549 |\n",
       "| 2021 | AGO | CHN | 74 | 13144.124 | 1492.615 | 1866.895 | 333.660 | AGO | 2021 | ⋯ | 0.3561644 | 2.6986301 |  27.69907 | 150.439754 | 10.81 | 14.53 | 2.895890 | 2.4054794 | 2.487671 | 2.5479453 |\n",
       "| 2022 | PAK | CHE | 84 |   257.766 |   17.832 |  150.195 |   2.863 | PAK | 2022 | ⋯ | 0.5424657 | 0.2575342 | 316.13308 | 222.150600 |  1.08 |    NA | 2.969863 | 0.4931507 | 1.000000 | 0.1287671 |\n",
       "| 2021 | CUB | CZE | 24 |  1600.466 |    4.743 | 1647.356 |   4.901 | CUB | 2021 | ⋯ | 2.5561643 | 1.7780821 | 107.14998 | 136.108349 | 21.14 | 32.51 | 3.315068 | 2.6356165 | 1.838356 | 2.4712329 |\n",
       "| 2020 | GBR | LKA | 05 |   209.375 |    0.083 |  174.662 |   0.100 | GBR | 2020 | ⋯ | 1.8633879 | 1.9316940 | 277.27539 | 354.332363 | 30.58 |    NA | 1.579235 | 2.4699454 | 1.153005 | 2.3087432 |\n",
       "\n"
      ],
      "text/plain": [
       "  t    i   j   category v         q        v19      q19     country t:r_i ⋯\n",
       "1 2021 SVK RUS 12          37.881   18.000  310.385 104.000 SVK     2021  ⋯\n",
       "2 2021 JAM FRA 04           7.270    4.502    0.160   0.022 JAM     2021  ⋯\n",
       "3 2021 AGO CHN 74       13144.124 1492.615 1866.895 333.660 AGO     2021  ⋯\n",
       "4 2022 PAK CHE 84         257.766   17.832  150.195   2.863 PAK     2022  ⋯\n",
       "5 2021 CUB CZE 24        1600.466    4.743 1647.356   4.901 CUB     2021  ⋯\n",
       "6 2020 GBR LKA 05         209.375    0.083  174.662   0.100 GBR     2020  ⋯\n",
       "  C1M_School_closing_i C1M_School_closing_j population_density_i\n",
       "1 1.9616438            1.2904110            113.29549           \n",
       "2 1.4465753            1.1780822            262.02050           \n",
       "3 0.3561644            2.6986301             27.69907           \n",
       "4 0.5424657            0.2575342            316.13308           \n",
       "5 2.5561643            1.7780821            107.14998           \n",
       "6 1.8633879            1.9316940            277.27539           \n",
       "  population_density_j share_1_members_i share_1_members_j\n",
       "1   8.838488           25.33             25.69            \n",
       "2 123.900911              NA                NA            \n",
       "3 150.439754           10.81             14.53            \n",
       "4 222.150600            1.08                NA            \n",
       "5 136.108349           21.14             32.51            \n",
       "6 354.332363           30.58                NA            \n",
       "  H6M_Facial_Coverings_i H6M_Facial_Coverings_j\n",
       "1 3.065753               2.3150685             \n",
       "2 3.095891               3.2000000             \n",
       "3 2.895890               2.4054794             \n",
       "4 2.969863               0.4931507             \n",
       "5 3.315068               2.6356165             \n",
       "6 1.579235               2.4699454             \n",
       "  C8EV_International_travel_controls_i C8EV_International_travel_controls_j\n",
       "1 1.545205                             2.6109588                           \n",
       "2 2.427397                             2.0520549                           \n",
       "3 2.487671                             2.5479453                           \n",
       "4 1.000000                             0.1287671                           \n",
       "5 1.838356                             2.4712329                           \n",
       "6 1.153005                             2.3087432                           "
      ]
     },
     "metadata": {},
     "output_type": "display_data"
    }
   ],
   "source": [
    "# Скачиваю данные и переназываю переменные\n",
    "df = read_parquet('../../data/processed_data/trade_hs2_x_covid.parquet.gzip')\n",
    "# Добавить везде _i для симметрии\n",
    "df$deaths_i = df$deaths\n",
    "df$deaths_j = df$`deaths:r_j`\n",
    "\n",
    "df$median_age_i = df$median_age\n",
    "df$median_age_j = df$`median_age:r_j`\n",
    "\n",
    "df$average_surface_temperature_i = df$average_surface_temperature\n",
    "df$average_surface_temperature_j = df$`average_surface_temperature:r_j`\n",
    "\n",
    "df$C1M_School_closing_i = df$C1M_School_closing\n",
    "df$C1M_School_closing_j = df$`C1M_School_closing:r_j`\n",
    "\n",
    "df$population_density_i = df$population_density\n",
    "df$population_density_j = df$`population_density:r_j`\n",
    "\n",
    "df$share_1_members_i = df$share_1_members\n",
    "df$share_1_members_j = df$`share_1_members:r_j`\n",
    "\n",
    "df$H6M_Facial_Coverings_i = df$H6M_Facial_Coverings\n",
    "df$H6M_Facial_Coverings_j = df$`H6M_Facial_Coverings:r_j`\n",
    "\n",
    "df$C8EV_International_travel_controls_i = df$C8EV_International_travel_controls\n",
    "df$C8EV_International_travel_controls_j = df$`C8EV_International_travel_controls:r_j`\n",
    "df %>% head()"
   ]
  },
  {
   "cell_type": "code",
   "execution_count": 3,
   "metadata": {
    "vscode": {
     "languageId": "r"
    }
   },
   "outputs": [
    {
     "name": "stderr",
     "output_type": "stream",
     "text": [
      "NOTE: 227,317 observations removed because of NA and infinite values (LHS: 30,079, RHS: 201,840).\n",
      "\n"
     ]
    },
    {
     "data": {
      "text/plain": [
       "OLS estimation, Dep. Var.: log(q/q19)\n",
       "Observations: 1,663,291\n",
       "Fixed-effects: year: 3\n",
       "Standard-errors: Clustered (i^category & j^category) \n",
       "                                      Estimate Std. Error  t value   Pr(>|t|)\n",
       "log(deaths_i)                        -0.004143   0.001334 -3.10490 1.9070e-03\n",
       "log(deaths_j)                        -0.007852   0.001209 -6.49556 8.5383e-11\n",
       "C8EV_International_travel_controls_i -0.028256   0.003497 -8.08006 6.9742e-16\n",
       "C8EV_International_travel_controls_j -0.029599   0.003158 -9.37345  < 2.2e-16\n",
       "                                        \n",
       "log(deaths_i)                        ** \n",
       "log(deaths_j)                        ***\n",
       "C8EV_International_travel_controls_i ***\n",
       "C8EV_International_travel_controls_j ***\n",
       "---\n",
       "Signif. codes:  0 '***' 0.001 '**' 0.01 '*' 0.05 '.' 0.1 ' ' 1\n",
       "RMSE: 1.60056     Adj. R2: 8.951e-4\n",
       "                Within R2: 2.88e-4 "
      ]
     },
     "metadata": {},
     "output_type": "display_data"
    }
   ],
   "source": [
    "# Pulled OLS\n",
    "m0 = feols(log(q/q19) ~ log(deaths_i) + log(deaths_j) +\n",
    " C8EV_International_travel_controls_i + C8EV_International_travel_controls_j| year,\n",
    " data = df)\n",
    "m0 %>% summary(cluster = ~ i^category+j^category)"
   ]
  },
  {
   "cell_type": "code",
   "execution_count": 4,
   "metadata": {
    "vscode": {
     "languageId": "r"
    }
   },
   "outputs": [
    {
     "name": "stderr",
     "output_type": "stream",
     "text": [
      "NOTE: 227,317 observations removed because of NA and infinite values (LHS: 30,079, RHS: 201,840).\n",
      "\n"
     ]
    },
    {
     "data": {
      "text/plain": [
       "OLS estimation, Dep. Var.: log(q/q19)\n",
       "Observations: 1,663,291\n",
       "Fixed-effects: i: 175,  j: 175,  category: 96,  year: 3\n",
       "Standard-errors: Clustered (i^category & j^category) \n",
       "                                      Estimate Std. Error   t value   Pr(>|t|)\n",
       "log(deaths_i)                        -0.005243   0.001550  -3.38309 7.1861e-04\n",
       "log(deaths_j)                        -0.019884   0.001531 -12.98954  < 2.2e-16\n",
       "C8EV_International_travel_controls_i -0.019855   0.003437  -5.77633 7.7892e-09\n",
       "C8EV_International_travel_controls_j -0.044852   0.003254 -13.78418  < 2.2e-16\n",
       "                                        \n",
       "log(deaths_i)                        ***\n",
       "log(deaths_j)                        ***\n",
       "C8EV_International_travel_controls_i ***\n",
       "C8EV_International_travel_controls_j ***\n",
       "---\n",
       "Signif. codes:  0 '***' 0.001 '**' 0.01 '*' 0.05 '.' 0.1 ' ' 1\n",
       "RMSE: 1.59147     Adj. R2: 0.01194 \n",
       "                Within R2: 2.256e-4"
      ]
     },
     "metadata": {},
     "output_type": "display_data"
    }
   ],
   "source": [
    "# FE (т.е. оценка на панельных данных с использованием внутригрупповой дисперсии)\n",
    "m1 = feols(log(q/q19) ~ log(deaths_i) + log(deaths_j) +\n",
    " C8EV_International_travel_controls_i + C8EV_International_travel_controls_j| i + j + category +year,\n",
    " data = df)\n",
    "m1 %>% summary(cluster = ~ i^category + j^category)"
   ]
  },
  {
   "cell_type": "code",
   "execution_count": 5,
   "metadata": {
    "vscode": {
     "languageId": "r"
    }
   },
   "outputs": [
    {
     "name": "stderr",
     "output_type": "stream",
     "text": [
      "NOTE: 227,317 observations removed because of NA and infinite values (LHS: 30,079, RHS: 201,840).\n",
      "\n"
     ]
    },
    {
     "data": {
      "text/plain": [
       "OLS estimation, Dep. Var.: log(q/q19)\n",
       "Observations: 1,663,291\n",
       "Fixed-effects: i^category: 14,697,  j^category: 16,563,  year: 3\n",
       "Standard-errors: Clustered (i^category & j^category) \n",
       "                                      Estimate Std. Error   t value   Pr(>|t|)\n",
       "log(deaths_i)                        -0.004882   0.001547  -3.15602 1.6026e-03\n",
       "log(deaths_j)                        -0.019823   0.001521 -13.02960  < 2.2e-16\n",
       "C8EV_International_travel_controls_i -0.019618   0.003431  -5.71727 1.1035e-08\n",
       "C8EV_International_travel_controls_j -0.044796   0.003232 -13.86073  < 2.2e-16\n",
       "                                        \n",
       "log(deaths_i)                        ** \n",
       "log(deaths_j)                        ***\n",
       "C8EV_International_travel_controls_i ***\n",
       "C8EV_International_travel_controls_j ***\n",
       "---\n",
       "Signif. codes:  0 '***' 0.001 '**' 0.01 '*' 0.05 '.' 0.1 ' ' 1\n",
       "RMSE: 1.54848     Adj. R2: 0.046941\n",
       "                Within R2: 2.351e-4"
      ]
     },
     "metadata": {},
     "output_type": "display_data"
    }
   ],
   "source": [
    "# По-другому включаю фиксированные эффекты категории\n",
    "m2 = feols(log(q/q19) ~ log(deaths_i) + log(deaths_j) +\n",
    " C8EV_International_travel_controls_i + C8EV_International_travel_controls_j| i^category + j^category + year,\n",
    " data = df)\n",
    "m2 %>% summary(cluster = ~ i^category+j^category)"
   ]
  },
  {
   "cell_type": "code",
   "execution_count": 6,
   "metadata": {
    "vscode": {
     "languageId": "r"
    }
   },
   "outputs": [
    {
     "ename": "ERROR",
     "evalue": "Error in feols(log(q/q19) ~ category/log(deaths_i) + category/log(deaths_j) + : Evaluation of the right-hand-side of the formula raises an error: \n  не могу разместить вектор размером 6.8 Gb\n",
     "output_type": "error",
     "traceback": [
      "Error in feols(log(q/q19) ~ category/log(deaths_i) + category/log(deaths_j) + : Evaluation of the right-hand-side of the formula raises an error: \n  не могу разместить вектор размером 6.8 Gb\nTraceback:\n",
      "1. stop(format_error_msg(env, \"feols\"))",
      "2. .handleSimpleError(function (cnd) \n . {\n .     watcher$capture_plot_and_output()\n .     cnd <- sanitize_call(cnd)\n .     watcher$push(cnd)\n .     switch(on_error, continue = invokeRestart(\"eval_continue\"), \n .         stop = invokeRestart(\"eval_stop\"), error = invokeRestart(\"eval_error\", \n .             cnd))\n . }, \"Evaluation of the right-hand-side of the formula raises an error: \\n  не могу разместить вектор размером 6.8 Gb\", \n .     base::quote(feols(log(q/q19) ~ category/log(deaths_i) + category/log(deaths_j) + \n .         category/C8EV_International_travel_controls_i + category/C8EV_International_travel_controls_j | \n .         i^category + j^category, data = df)))"
     ]
    }
   ],
   "source": [
    "# Гетерогенность по категории не влезла в оперативку (22 Гб с годом, 6 Гб без года)\n",
    "# m3 = feols(log(q/q19) ~ year:category/log(deaths_i) + year:category/log(deaths_j) +\n",
    "# year:category/C8EV_International_travel_controls_i + year:category/C8EV_International_travel_controls_j| i^category + j^category,\n",
    "#  data = df)\n",
    "m3 = feols(log(q/q19) ~ category/log(deaths_i) + category/log(deaths_j) +\n",
    "category/C8EV_International_travel_controls_i + category/C8EV_International_travel_controls_j| i^category + j^category,\n",
    " data = df) \n",
    "m3 %>% summary(cluster = ~ i^category+j^category)"
   ]
  },
  {
   "cell_type": "code",
   "execution_count": 7,
   "metadata": {
    "vscode": {
     "languageId": "r"
    }
   },
   "outputs": [
    {
     "name": "stderr",
     "output_type": "stream",
     "text": [
      "NOTE: 236,971 observations removed because of NA and infinite values (LHS: 30,079, RHS: 123,242, IV: 96,034/148,824).\n",
      "\n"
     ]
    },
    {
     "data": {
      "text/plain": [
       "TSLS estimation - Dep. Var.: log(q/q19)\n",
       "                  Endo.    : log(deaths_i), log(deaths_j)\n",
       "                  Instr.   : C1M_School_closing_i, C1M_School_closing_j, population_density_i, population_density_j\n",
       "Second stage: Dep. Var.: log(q/q19)\n",
       "Observations: 1,653,637\n",
       "Fixed-effects: i^category: 14,697,  j^category: 16,562,  year: 3\n",
       "Standard-errors: Clustered (i^category & j^category) \n",
       "                                      Estimate Std. Error    t value   Pr(>|t|)\n",
       "fit_log(deaths_i)                     0.003115   0.005203   0.598593 5.4945e-01\n",
       "fit_log(deaths_j)                    -0.025828   0.006456  -4.000589 6.3495e-05\n",
       "C8EV_International_travel_controls_i -0.019068   0.003533  -5.396907 6.8851e-08\n",
       "C8EV_International_travel_controls_j -0.048298   0.003979 -12.139199  < 2.2e-16\n",
       "                                        \n",
       "fit_log(deaths_i)                       \n",
       "fit_log(deaths_j)                    ***\n",
       "C8EV_International_travel_controls_i ***\n",
       "C8EV_International_travel_controls_j ***\n",
       "---\n",
       "Signif. codes:  0 '***' 0.001 '**' 0.01 '*' 0.05 '.' 0.1 ' ' 1\n",
       "RMSE: 1.54787     Adj. R2: 0.046846\n",
       "                Within R2: 2.144e-4\n",
       "F-test (1st stage), log(deaths_i): stat = 38,923.0    , p < 2.2e-16 , on 4 and 1,637,067 DoF.\n",
       "F-test (1st stage), log(deaths_j): stat = 27,201.5    , p < 2.2e-16 , on 4 and 1,637,067 DoF.\n",
       "                       Wu-Hausman: stat =      1.93138, p = 0.144948, on 2 and 1,622,371 DoF.\n",
       "                           Sargan: stat =      6.27657, p = 0.043357, on 2 DoF."
      ]
     },
     "metadata": {},
     "output_type": "display_data"
    }
   ],
   "source": [
    "# Инструменты не экзогенные :(\n",
    "m2_iv = feols(log(q/q19) ~ 1 +\n",
    " C8EV_International_travel_controls_i + C8EV_International_travel_controls_j| i^category + j^category + year|\n",
    " log(deaths_i) + log(deaths_j) ~ \n",
    "#  H6M_Facial_Coverings_i+H6M_Facial_Coverings_j\n",
    "#  + \n",
    " C1M_School_closing_i+C1M_School_closing_j\n",
    " +\n",
    "# median_age_i + median_age_j\n",
    "# +\n",
    "population_density_i + population_density_j\n",
    "# +\n",
    "# average_surface_temperature_i + average_surface_temperature_j\n",
    ",\n",
    " data = df)\n",
    "m2_iv %>% summary(cluster = ~ i^category+j^category)"
   ]
  },
  {
   "cell_type": "code",
   "execution_count": 8,
   "metadata": {
    "vscode": {
     "languageId": "r"
    }
   },
   "outputs": [
    {
     "name": "stderr",
     "output_type": "stream",
     "text": [
      "Variance contained negative values in the diagonal and was 'fixed' (a la Cameron, Gelbach & Miller 2011).\n",
      "\n"
     ]
    },
    {
     "data": {
      "text/html": [
       "<table class=\"dataframe\">\n",
       "<caption>A etable_df: 18 × 5</caption>\n",
       "<thead>\n",
       "\t<tr><th></th><th scope=col></th><th scope=col>m0</th><th scope=col>m1</th><th scope=col>m2</th><th scope=col>m2_iv</th></tr>\n",
       "\t<tr><th></th><th scope=col>&lt;chr&gt;</th><th scope=col>&lt;chr&gt;</th><th scope=col>&lt;chr&gt;</th><th scope=col>&lt;chr&gt;</th><th scope=col>&lt;chr&gt;</th></tr>\n",
       "</thead>\n",
       "<tbody>\n",
       "\t<tr><th scope=row>1</th><td>Dependent Var.:                     </td><td>log(q/q19)              </td><td>log(q/q19)              </td><td>log(q/q19)              </td><td>log(q/q19)              </td></tr>\n",
       "\t<tr><th scope=row>2</th><td>                                    </td><td>                        </td><td>                        </td><td>                        </td><td>                        </td></tr>\n",
       "\t<tr><th scope=row>3</th><td>log(deaths_i)                       </td><td>-0.0041 (0.0046)        </td><td>-0.0052** (0.0003)      </td><td>-0.0049. (0.0011)       </td><td>0.0031 (0.0082)         </td></tr>\n",
       "\t<tr><th scope=row>4</th><td>log(deaths_j)                       </td><td>-0.0079. (0.0022)       </td><td>-0.0199** (0.0018)      </td><td>-0.0198* (0.0024)       </td><td>-0.0258 (0.0111)        </td></tr>\n",
       "\t<tr><th scope=row>5</th><td>C8EV_International_travel_controls_i</td><td>-0.0283* (0.0051)       </td><td>-0.0199 (0.0069)        </td><td>-0.0196 (0.0078)        </td><td>-0.0191 (0.0096)        </td></tr>\n",
       "\t<tr><th scope=row>6</th><td>C8EV_International_travel_controls_j</td><td>-0.0296 (0.0154)        </td><td>-0.0449* (0.0094)       </td><td>-0.0448* (0.0101)       </td><td>-0.0483. (0.0131)       </td></tr>\n",
       "\t<tr><th scope=row>7</th><td>Fixed-Effects:                      </td><td>-----------------       </td><td>------------------      </td><td>-----------------       </td><td>-----------------       </td></tr>\n",
       "\t<tr><th scope=row>8</th><td>year                                </td><td>Yes                     </td><td>Yes                     </td><td>Yes                     </td><td>Yes                     </td></tr>\n",
       "\t<tr><th scope=row>9</th><td>i                                   </td><td>No                      </td><td>Yes                     </td><td>No                      </td><td>No                      </td></tr>\n",
       "\t<tr><th scope=row>10</th><td>j                                   </td><td>No                      </td><td>Yes                     </td><td>No                      </td><td>No                      </td></tr>\n",
       "\t<tr><th scope=row>11</th><td>category                            </td><td>No                      </td><td>Yes                     </td><td>No                      </td><td>No                      </td></tr>\n",
       "\t<tr><th scope=row>12</th><td>i-category                          </td><td>No                      </td><td>No                      </td><td>Yes                     </td><td>Yes                     </td></tr>\n",
       "\t<tr><th scope=row>13</th><td>j-category                          </td><td>No                      </td><td>No                      </td><td>Yes                     </td><td>Yes                     </td></tr>\n",
       "\t<tr><th scope=row>14</th><td>____________________________________</td><td>_________________       </td><td>__________________      </td><td>_________________       </td><td>_________________       </td></tr>\n",
       "\t<tr><th scope=row>15</th><td><span style=white-space:pre-wrap>S.E.: Clustered                     </span></td><td>by: i-ca. &amp; j-ca. &amp; year</td><td>by: i-ca. &amp; j-ca. &amp; year</td><td>by: i-ca. &amp; j-ca. &amp; year</td><td>by: i-ca. &amp; j-ca. &amp; year</td></tr>\n",
       "\t<tr><th scope=row>16</th><td>Observations                        </td><td>1,663,291               </td><td>1,663,291               </td><td>1,663,291               </td><td>1,653,637               </td></tr>\n",
       "\t<tr><th scope=row>17</th><td>R2                                  </td><td>0.00090                 </td><td>0.01221                 </td><td>0.06486                 </td><td>0.06487                 </td></tr>\n",
       "\t<tr><th scope=row>18</th><td>Within R2                           </td><td>0.00029                 </td><td>0.00023                 </td><td>0.00024                 </td><td>0.00021                 </td></tr>\n",
       "</tbody>\n",
       "</table>\n"
      ],
      "text/latex": [
       "A etable\\_df: 18 × 5\n",
       "\\begin{tabular}{r|lllll}\n",
       "  &  & m0 & m1 & m2 & m2\\_iv\\\\\n",
       "  & <chr> & <chr> & <chr> & <chr> & <chr>\\\\\n",
       "\\hline\n",
       "\t1 & Dependent Var.:                      & log(q/q19)               & log(q/q19)               & log(q/q19)               & log(q/q19)              \\\\\n",
       "\t2 &                                      &                          &                          &                          &                         \\\\\n",
       "\t3 & log(deaths\\_i)                        & -0.0041 (0.0046)         & -0.0052** (0.0003)       & -0.0049. (0.0011)        & 0.0031 (0.0082)         \\\\\n",
       "\t4 & log(deaths\\_j)                        & -0.0079. (0.0022)        & -0.0199** (0.0018)       & -0.0198* (0.0024)        & -0.0258 (0.0111)        \\\\\n",
       "\t5 & C8EV\\_International\\_travel\\_controls\\_i & -0.0283* (0.0051)        & -0.0199 (0.0069)         & -0.0196 (0.0078)         & -0.0191 (0.0096)        \\\\\n",
       "\t6 & C8EV\\_International\\_travel\\_controls\\_j & -0.0296 (0.0154)         & -0.0449* (0.0094)        & -0.0448* (0.0101)        & -0.0483. (0.0131)       \\\\\n",
       "\t7 & Fixed-Effects:                       & -----------------        & ------------------       & -----------------        & -----------------       \\\\\n",
       "\t8 & year                                 & Yes                      & Yes                      & Yes                      & Yes                     \\\\\n",
       "\t9 & i                                    & No                       & Yes                      & No                       & No                      \\\\\n",
       "\t10 & j                                    & No                       & Yes                      & No                       & No                      \\\\\n",
       "\t11 & category                             & No                       & Yes                      & No                       & No                      \\\\\n",
       "\t12 & i-category                           & No                       & No                       & Yes                      & Yes                     \\\\\n",
       "\t13 & j-category                           & No                       & No                       & Yes                      & Yes                     \\\\\n",
       "\t14 & \\_\\_\\_\\_\\_\\_\\_\\_\\_\\_\\_\\_\\_\\_\\_\\_\\_\\_\\_\\_\\_\\_\\_\\_\\_\\_\\_\\_\\_\\_\\_\\_\\_\\_\\_\\_ & \\_\\_\\_\\_\\_\\_\\_\\_\\_\\_\\_\\_\\_\\_\\_\\_\\_        & \\_\\_\\_\\_\\_\\_\\_\\_\\_\\_\\_\\_\\_\\_\\_\\_\\_\\_       & \\_\\_\\_\\_\\_\\_\\_\\_\\_\\_\\_\\_\\_\\_\\_\\_\\_        & \\_\\_\\_\\_\\_\\_\\_\\_\\_\\_\\_\\_\\_\\_\\_\\_\\_       \\\\\n",
       "\t15 & S.E.: Clustered                      & by: i-ca. \\& j-ca. \\& year & by: i-ca. \\& j-ca. \\& year & by: i-ca. \\& j-ca. \\& year & by: i-ca. \\& j-ca. \\& year\\\\\n",
       "\t16 & Observations                         & 1,663,291                & 1,663,291                & 1,663,291                & 1,653,637               \\\\\n",
       "\t17 & R2                                   & 0.00090                  & 0.01221                  & 0.06486                  & 0.06487                 \\\\\n",
       "\t18 & Within R2                            & 0.00029                  & 0.00023                  & 0.00024                  & 0.00021                 \\\\\n",
       "\\end{tabular}\n"
      ],
      "text/markdown": [
       "\n",
       "A etable_df: 18 × 5\n",
       "\n",
       "| <!--/--> | <!----> &lt;chr&gt; | m0 &lt;chr&gt; | m1 &lt;chr&gt; | m2 &lt;chr&gt; | m2_iv &lt;chr&gt; |\n",
       "|---|---|---|---|---|---|\n",
       "| 1 | Dependent Var.:                      | log(q/q19)               | log(q/q19)               | log(q/q19)               | log(q/q19)               |\n",
       "| 2 | <!----> | <!----> | <!----> | <!----> | <!----> |\n",
       "| 3 | log(deaths_i)                        | -0.0041 (0.0046)         | -0.0052** (0.0003)       | -0.0049. (0.0011)        | 0.0031 (0.0082)          |\n",
       "| 4 | log(deaths_j)                        | -0.0079. (0.0022)        | -0.0199** (0.0018)       | -0.0198* (0.0024)        | -0.0258 (0.0111)         |\n",
       "| 5 | C8EV_International_travel_controls_i | -0.0283* (0.0051)        | -0.0199 (0.0069)         | -0.0196 (0.0078)         | -0.0191 (0.0096)         |\n",
       "| 6 | C8EV_International_travel_controls_j | -0.0296 (0.0154)         | -0.0449* (0.0094)        | -0.0448* (0.0101)        | -0.0483. (0.0131)        |\n",
       "| 7 | Fixed-Effects:                       | -----------------        | ------------------       | -----------------        | -----------------        |\n",
       "| 8 | year                                 | Yes                      | Yes                      | Yes                      | Yes                      |\n",
       "| 9 | i                                    | No                       | Yes                      | No                       | No                       |\n",
       "| 10 | j                                    | No                       | Yes                      | No                       | No                       |\n",
       "| 11 | category                             | No                       | Yes                      | No                       | No                       |\n",
       "| 12 | i-category                           | No                       | No                       | Yes                      | Yes                      |\n",
       "| 13 | j-category                           | No                       | No                       | Yes                      | Yes                      |\n",
       "| 14 | ____________________________________ | _________________        | __________________       | _________________        | _________________        |\n",
       "| 15 | S.E.: Clustered                      | by: i-ca. &amp; j-ca. &amp; year | by: i-ca. &amp; j-ca. &amp; year | by: i-ca. &amp; j-ca. &amp; year | by: i-ca. &amp; j-ca. &amp; year |\n",
       "| 16 | Observations                         | 1,663,291                | 1,663,291                | 1,663,291                | 1,653,637                |\n",
       "| 17 | R2                                   | 0.00090                  | 0.01221                  | 0.06486                  | 0.06487                  |\n",
       "| 18 | Within R2                            | 0.00029                  | 0.00023                  | 0.00024                  | 0.00021                  |\n",
       "\n"
      ],
      "text/plain": [
       "                                        m0                      \n",
       "1  Dependent Var.:                      log(q/q19)              \n",
       "2                                                               \n",
       "3  log(deaths_i)                        -0.0041 (0.0046)        \n",
       "4  log(deaths_j)                        -0.0079. (0.0022)       \n",
       "5  C8EV_International_travel_controls_i -0.0283* (0.0051)       \n",
       "6  C8EV_International_travel_controls_j -0.0296 (0.0154)        \n",
       "7  Fixed-Effects:                       -----------------       \n",
       "8  year                                 Yes                     \n",
       "9  i                                    No                      \n",
       "10 j                                    No                      \n",
       "11 category                             No                      \n",
       "12 i-category                           No                      \n",
       "13 j-category                           No                      \n",
       "14 ____________________________________ _________________       \n",
       "15 S.E.: Clustered                      by: i-ca. & j-ca. & year\n",
       "16 Observations                         1,663,291               \n",
       "17 R2                                   0.00090                 \n",
       "18 Within R2                            0.00029                 \n",
       "   m1                       m2                       m2_iv                   \n",
       "1  log(q/q19)               log(q/q19)               log(q/q19)              \n",
       "2                                                                            \n",
       "3  -0.0052** (0.0003)       -0.0049. (0.0011)        0.0031 (0.0082)         \n",
       "4  -0.0199** (0.0018)       -0.0198* (0.0024)        -0.0258 (0.0111)        \n",
       "5  -0.0199 (0.0069)         -0.0196 (0.0078)         -0.0191 (0.0096)        \n",
       "6  -0.0449* (0.0094)        -0.0448* (0.0101)        -0.0483. (0.0131)       \n",
       "7  ------------------       -----------------        -----------------       \n",
       "8  Yes                      Yes                      Yes                     \n",
       "9  Yes                      No                       No                      \n",
       "10 Yes                      No                       No                      \n",
       "11 Yes                      No                       No                      \n",
       "12 No                       Yes                      Yes                     \n",
       "13 No                       Yes                      Yes                     \n",
       "14 __________________       _________________        _________________       \n",
       "15 by: i-ca. & j-ca. & year by: i-ca. & j-ca. & year by: i-ca. & j-ca. & year\n",
       "16 1,663,291                1,663,291                1,653,637               \n",
       "17 0.01221                  0.06486                  0.06487                 \n",
       "18 0.00023                  0.00024                  0.00021                 "
      ]
     },
     "metadata": {},
     "output_type": "display_data"
    }
   ],
   "source": [
    "etable(m0, m1, m2, m2_iv, vcov = ~i^category + j^category + year)"
   ]
  },
  {
   "cell_type": "code",
   "execution_count": 9,
   "metadata": {
    "vscode": {
     "languageId": "r"
    }
   },
   "outputs": [
    {
     "data": {
      "text/html": [
       "<table class=\"dataframe\">\n",
       "<caption>A etable_df: 18 × 5</caption>\n",
       "<thead>\n",
       "\t<tr><th></th><th scope=col></th><th scope=col>m0</th><th scope=col>m1</th><th scope=col>m2</th><th scope=col>m2_iv</th></tr>\n",
       "\t<tr><th></th><th scope=col>&lt;chr&gt;</th><th scope=col>&lt;chr&gt;</th><th scope=col>&lt;chr&gt;</th><th scope=col>&lt;chr&gt;</th><th scope=col>&lt;chr&gt;</th></tr>\n",
       "</thead>\n",
       "<tbody>\n",
       "\t<tr><th scope=row>1</th><td>Dependent Var.:                     </td><td>log(q/q19)         </td><td>log(q/q19)         </td><td>log(q/q19)         </td><td>log(q/q19)         </td></tr>\n",
       "\t<tr><th scope=row>2</th><td>                                    </td><td>                   </td><td>                   </td><td>                   </td><td>                   </td></tr>\n",
       "\t<tr><th scope=row>3</th><td>log(deaths_i)                       </td><td>-0.0041** (0.0013) </td><td>-0.0052*** (0.0015)</td><td>-0.0049** (0.0015) </td><td>0.0031 (0.0052)    </td></tr>\n",
       "\t<tr><th scope=row>4</th><td>log(deaths_j)                       </td><td>-0.0079*** (0.0012)</td><td>-0.0199*** (0.0015)</td><td>-0.0198*** (0.0015)</td><td>-0.0258*** (0.0065)</td></tr>\n",
       "\t<tr><th scope=row>5</th><td>C8EV_International_travel_controls_i</td><td>-0.0283*** (0.0035)</td><td>-0.0199*** (0.0034)</td><td>-0.0196*** (0.0034)</td><td>-0.0191*** (0.0035)</td></tr>\n",
       "\t<tr><th scope=row>6</th><td>C8EV_International_travel_controls_j</td><td>-0.0296*** (0.0032)</td><td>-0.0449*** (0.0033)</td><td>-0.0448*** (0.0032)</td><td>-0.0483*** (0.0040)</td></tr>\n",
       "\t<tr><th scope=row>7</th><td>Fixed-Effects:                      </td><td>-------------------</td><td>-------------------</td><td>-------------------</td><td>-------------------</td></tr>\n",
       "\t<tr><th scope=row>8</th><td>year                                </td><td>Yes                </td><td>Yes                </td><td>Yes                </td><td>Yes                </td></tr>\n",
       "\t<tr><th scope=row>9</th><td>i                                   </td><td>No                 </td><td>Yes                </td><td>No                 </td><td>No                 </td></tr>\n",
       "\t<tr><th scope=row>10</th><td>j                                   </td><td>No                 </td><td>Yes                </td><td>No                 </td><td>No                 </td></tr>\n",
       "\t<tr><th scope=row>11</th><td>category                            </td><td>No                 </td><td>Yes                </td><td>No                 </td><td>No                 </td></tr>\n",
       "\t<tr><th scope=row>12</th><td>i-category                          </td><td>No                 </td><td>No                 </td><td>Yes                </td><td>Yes                </td></tr>\n",
       "\t<tr><th scope=row>13</th><td>j-category                          </td><td>No                 </td><td>No                 </td><td>Yes                </td><td>Yes                </td></tr>\n",
       "\t<tr><th scope=row>14</th><td>____________________________________</td><td>___________________</td><td>___________________</td><td>___________________</td><td>___________________</td></tr>\n",
       "\t<tr><th scope=row>15</th><td><span style=white-space:pre-wrap>S.E.: Clustered                     </span></td><td><span style=white-space:pre-wrap>by: i-ca. &amp; j-ca.  </span></td><td><span style=white-space:pre-wrap>by: i-ca. &amp; j-ca.  </span></td><td><span style=white-space:pre-wrap>by: i-ca. &amp; j-ca.  </span></td><td><span style=white-space:pre-wrap>by: i-ca. &amp; j-ca.  </span></td></tr>\n",
       "\t<tr><th scope=row>16</th><td>Observations                        </td><td>1,663,291          </td><td>1,663,291          </td><td>1,663,291          </td><td>1,653,637          </td></tr>\n",
       "\t<tr><th scope=row>17</th><td>R2                                  </td><td>0.00090            </td><td>0.01221            </td><td>0.06486            </td><td>0.06487            </td></tr>\n",
       "\t<tr><th scope=row>18</th><td>Within R2                           </td><td>0.00029            </td><td>0.00023            </td><td>0.00024            </td><td>0.00021            </td></tr>\n",
       "</tbody>\n",
       "</table>\n"
      ],
      "text/latex": [
       "A etable\\_df: 18 × 5\n",
       "\\begin{tabular}{r|lllll}\n",
       "  &  & m0 & m1 & m2 & m2\\_iv\\\\\n",
       "  & <chr> & <chr> & <chr> & <chr> & <chr>\\\\\n",
       "\\hline\n",
       "\t1 & Dependent Var.:                      & log(q/q19)          & log(q/q19)          & log(q/q19)          & log(q/q19)         \\\\\n",
       "\t2 &                                      &                     &                     &                     &                    \\\\\n",
       "\t3 & log(deaths\\_i)                        & -0.0041** (0.0013)  & -0.0052*** (0.0015) & -0.0049** (0.0015)  & 0.0031 (0.0052)    \\\\\n",
       "\t4 & log(deaths\\_j)                        & -0.0079*** (0.0012) & -0.0199*** (0.0015) & -0.0198*** (0.0015) & -0.0258*** (0.0065)\\\\\n",
       "\t5 & C8EV\\_International\\_travel\\_controls\\_i & -0.0283*** (0.0035) & -0.0199*** (0.0034) & -0.0196*** (0.0034) & -0.0191*** (0.0035)\\\\\n",
       "\t6 & C8EV\\_International\\_travel\\_controls\\_j & -0.0296*** (0.0032) & -0.0449*** (0.0033) & -0.0448*** (0.0032) & -0.0483*** (0.0040)\\\\\n",
       "\t7 & Fixed-Effects:                       & ------------------- & ------------------- & ------------------- & -------------------\\\\\n",
       "\t8 & year                                 & Yes                 & Yes                 & Yes                 & Yes                \\\\\n",
       "\t9 & i                                    & No                  & Yes                 & No                  & No                 \\\\\n",
       "\t10 & j                                    & No                  & Yes                 & No                  & No                 \\\\\n",
       "\t11 & category                             & No                  & Yes                 & No                  & No                 \\\\\n",
       "\t12 & i-category                           & No                  & No                  & Yes                 & Yes                \\\\\n",
       "\t13 & j-category                           & No                  & No                  & Yes                 & Yes                \\\\\n",
       "\t14 & \\_\\_\\_\\_\\_\\_\\_\\_\\_\\_\\_\\_\\_\\_\\_\\_\\_\\_\\_\\_\\_\\_\\_\\_\\_\\_\\_\\_\\_\\_\\_\\_\\_\\_\\_\\_ & \\_\\_\\_\\_\\_\\_\\_\\_\\_\\_\\_\\_\\_\\_\\_\\_\\_\\_\\_ & \\_\\_\\_\\_\\_\\_\\_\\_\\_\\_\\_\\_\\_\\_\\_\\_\\_\\_\\_ & \\_\\_\\_\\_\\_\\_\\_\\_\\_\\_\\_\\_\\_\\_\\_\\_\\_\\_\\_ & \\_\\_\\_\\_\\_\\_\\_\\_\\_\\_\\_\\_\\_\\_\\_\\_\\_\\_\\_\\\\\n",
       "\t15 & S.E.: Clustered                      & by: i-ca. \\& j-ca.   & by: i-ca. \\& j-ca.   & by: i-ca. \\& j-ca.   & by: i-ca. \\& j-ca.  \\\\\n",
       "\t16 & Observations                         & 1,663,291           & 1,663,291           & 1,663,291           & 1,653,637          \\\\\n",
       "\t17 & R2                                   & 0.00090             & 0.01221             & 0.06486             & 0.06487            \\\\\n",
       "\t18 & Within R2                            & 0.00029             & 0.00023             & 0.00024             & 0.00021            \\\\\n",
       "\\end{tabular}\n"
      ],
      "text/markdown": [
       "\n",
       "A etable_df: 18 × 5\n",
       "\n",
       "| <!--/--> | <!----> &lt;chr&gt; | m0 &lt;chr&gt; | m1 &lt;chr&gt; | m2 &lt;chr&gt; | m2_iv &lt;chr&gt; |\n",
       "|---|---|---|---|---|---|\n",
       "| 1 | Dependent Var.:                      | log(q/q19)          | log(q/q19)          | log(q/q19)          | log(q/q19)          |\n",
       "| 2 | <!----> | <!----> | <!----> | <!----> | <!----> |\n",
       "| 3 | log(deaths_i)                        | -0.0041** (0.0013)  | -0.0052*** (0.0015) | -0.0049** (0.0015)  | 0.0031 (0.0052)     |\n",
       "| 4 | log(deaths_j)                        | -0.0079*** (0.0012) | -0.0199*** (0.0015) | -0.0198*** (0.0015) | -0.0258*** (0.0065) |\n",
       "| 5 | C8EV_International_travel_controls_i | -0.0283*** (0.0035) | -0.0199*** (0.0034) | -0.0196*** (0.0034) | -0.0191*** (0.0035) |\n",
       "| 6 | C8EV_International_travel_controls_j | -0.0296*** (0.0032) | -0.0449*** (0.0033) | -0.0448*** (0.0032) | -0.0483*** (0.0040) |\n",
       "| 7 | Fixed-Effects:                       | ------------------- | ------------------- | ------------------- | ------------------- |\n",
       "| 8 | year                                 | Yes                 | Yes                 | Yes                 | Yes                 |\n",
       "| 9 | i                                    | No                  | Yes                 | No                  | No                  |\n",
       "| 10 | j                                    | No                  | Yes                 | No                  | No                  |\n",
       "| 11 | category                             | No                  | Yes                 | No                  | No                  |\n",
       "| 12 | i-category                           | No                  | No                  | Yes                 | Yes                 |\n",
       "| 13 | j-category                           | No                  | No                  | Yes                 | Yes                 |\n",
       "| 14 | ____________________________________ | ___________________ | ___________________ | ___________________ | ___________________ |\n",
       "| 15 | S.E.: Clustered                      | by: i-ca. &amp; j-ca.   | by: i-ca. &amp; j-ca.   | by: i-ca. &amp; j-ca.   | by: i-ca. &amp; j-ca.   |\n",
       "| 16 | Observations                         | 1,663,291           | 1,663,291           | 1,663,291           | 1,653,637           |\n",
       "| 17 | R2                                   | 0.00090             | 0.01221             | 0.06486             | 0.06487             |\n",
       "| 18 | Within R2                            | 0.00029             | 0.00023             | 0.00024             | 0.00021             |\n",
       "\n"
      ],
      "text/plain": [
       "                                        m0                  m1                 \n",
       "1  Dependent Var.:                      log(q/q19)          log(q/q19)         \n",
       "2                                                                              \n",
       "3  log(deaths_i)                        -0.0041** (0.0013)  -0.0052*** (0.0015)\n",
       "4  log(deaths_j)                        -0.0079*** (0.0012) -0.0199*** (0.0015)\n",
       "5  C8EV_International_travel_controls_i -0.0283*** (0.0035) -0.0199*** (0.0034)\n",
       "6  C8EV_International_travel_controls_j -0.0296*** (0.0032) -0.0449*** (0.0033)\n",
       "7  Fixed-Effects:                       ------------------- -------------------\n",
       "8  year                                 Yes                 Yes                \n",
       "9  i                                    No                  Yes                \n",
       "10 j                                    No                  Yes                \n",
       "11 category                             No                  Yes                \n",
       "12 i-category                           No                  No                 \n",
       "13 j-category                           No                  No                 \n",
       "14 ____________________________________ ___________________ ___________________\n",
       "15 S.E.: Clustered                      by: i-ca. & j-ca.   by: i-ca. & j-ca.  \n",
       "16 Observations                         1,663,291           1,663,291          \n",
       "17 R2                                   0.00090             0.01221            \n",
       "18 Within R2                            0.00029             0.00023            \n",
       "   m2                  m2_iv              \n",
       "1  log(q/q19)          log(q/q19)         \n",
       "2                                         \n",
       "3  -0.0049** (0.0015)  0.0031 (0.0052)    \n",
       "4  -0.0198*** (0.0015) -0.0258*** (0.0065)\n",
       "5  -0.0196*** (0.0034) -0.0191*** (0.0035)\n",
       "6  -0.0448*** (0.0032) -0.0483*** (0.0040)\n",
       "7  ------------------- -------------------\n",
       "8  Yes                 Yes                \n",
       "9  No                  No                 \n",
       "10 No                  No                 \n",
       "11 No                  No                 \n",
       "12 Yes                 Yes                \n",
       "13 Yes                 Yes                \n",
       "14 ___________________ ___________________\n",
       "15 by: i-ca. & j-ca.   by: i-ca. & j-ca.  \n",
       "16 1,663,291           1,653,637          \n",
       "17 0.06486             0.06487            \n",
       "18 0.00024             0.00021            "
      ]
     },
     "metadata": {},
     "output_type": "display_data"
    }
   ],
   "source": [
    "# На отраслевом и на макроэкономическом уровне получаются рах+зные результаты --- насколько это бьётся с теорией?\n",
    "etable(m0, m1, m2, m2_iv, vcov = ~i^category+j^category)"
   ]
  },
  {
   "cell_type": "code",
   "execution_count": 10,
   "metadata": {
    "vscode": {
     "languageId": "r"
    }
   },
   "outputs": [
    {
     "data": {
      "text/html": [
       "<table class=\"dataframe\">\n",
       "<caption>A etable_df: 18 × 5</caption>\n",
       "<thead>\n",
       "\t<tr><th></th><th scope=col></th><th scope=col>m0</th><th scope=col>m1</th><th scope=col>m2</th><th scope=col>m2_iv</th></tr>\n",
       "\t<tr><th></th><th scope=col>&lt;chr&gt;</th><th scope=col>&lt;chr&gt;</th><th scope=col>&lt;chr&gt;</th><th scope=col>&lt;chr&gt;</th><th scope=col>&lt;chr&gt;</th></tr>\n",
       "</thead>\n",
       "<tbody>\n",
       "\t<tr><th scope=row>1</th><td>Dependent Var.:                     </td><td>log(q/q19)        </td><td>log(q/q19)          </td><td>log(q/q19)          </td><td>log(q/q19)          </td></tr>\n",
       "\t<tr><th scope=row>2</th><td>                                    </td><td>                  </td><td>                    </td><td>                    </td><td>                    </td></tr>\n",
       "\t<tr><th scope=row>3</th><td>log(deaths_i)                       </td><td>-0.0041 (0.0036)  </td><td>-0.0052 (0.0053)    </td><td>-0.0049 (0.0053)    </td><td>0.0031 (0.0181)     </td></tr>\n",
       "\t<tr><th scope=row>4</th><td>log(deaths_j)                       </td><td>-0.0079* (0.0038) </td><td>-0.0199*** (0.0048) </td><td>-0.0198*** (0.0048) </td><td>-0.0258 (0.0255)    </td></tr>\n",
       "\t<tr><th scope=row>5</th><td>C8EV_International_travel_controls_i</td><td>-0.0283** (0.0093)</td><td>-0.0199 (0.0135)    </td><td>-0.0196 (0.0136)    </td><td>-0.0191 (0.0118)    </td></tr>\n",
       "\t<tr><th scope=row>6</th><td>C8EV_International_travel_controls_j</td><td>-0.0296* (0.0119) </td><td>-0.0449** (0.0137)  </td><td>-0.0448** (0.0137)  </td><td>-0.0483*** (0.0134) </td></tr>\n",
       "\t<tr><th scope=row>7</th><td>Fixed-Effects:                      </td><td>------------------</td><td>------------------- </td><td>------------------- </td><td>------------------- </td></tr>\n",
       "\t<tr><th scope=row>8</th><td>year                                </td><td>Yes               </td><td>Yes                 </td><td>Yes                 </td><td>Yes                 </td></tr>\n",
       "\t<tr><th scope=row>9</th><td>i                                   </td><td>No                </td><td>Yes                 </td><td>No                  </td><td>No                  </td></tr>\n",
       "\t<tr><th scope=row>10</th><td>j                                   </td><td>No                </td><td>Yes                 </td><td>No                  </td><td>No                  </td></tr>\n",
       "\t<tr><th scope=row>11</th><td>category                            </td><td>No                </td><td>Yes                 </td><td>No                  </td><td>No                  </td></tr>\n",
       "\t<tr><th scope=row>12</th><td>i-category                          </td><td>No                </td><td>No                  </td><td>Yes                 </td><td>Yes                 </td></tr>\n",
       "\t<tr><th scope=row>13</th><td>j-category                          </td><td>No                </td><td>No                  </td><td>Yes                 </td><td>Yes                 </td></tr>\n",
       "\t<tr><th scope=row>14</th><td>____________________________________</td><td>__________________</td><td>___________________ </td><td>___________________ </td><td>___________________ </td></tr>\n",
       "\t<tr><th scope=row>15</th><td><span style=white-space:pre-wrap>S.E.: Clustered                     </span></td><td>by: i &amp; j &amp; cate. </td><td>by: i &amp; j &amp; category</td><td>by: i &amp; j &amp; category</td><td>by: i &amp; j &amp; category</td></tr>\n",
       "\t<tr><th scope=row>16</th><td>Observations                        </td><td>1,663,291         </td><td>1,663,291           </td><td>1,663,291           </td><td>1,653,637           </td></tr>\n",
       "\t<tr><th scope=row>17</th><td>R2                                  </td><td>0.00090           </td><td>0.01221             </td><td>0.06486             </td><td>0.06487             </td></tr>\n",
       "\t<tr><th scope=row>18</th><td>Within R2                           </td><td>0.00029           </td><td>0.00023             </td><td>0.00024             </td><td>0.00021             </td></tr>\n",
       "</tbody>\n",
       "</table>\n"
      ],
      "text/latex": [
       "A etable\\_df: 18 × 5\n",
       "\\begin{tabular}{r|lllll}\n",
       "  &  & m0 & m1 & m2 & m2\\_iv\\\\\n",
       "  & <chr> & <chr> & <chr> & <chr> & <chr>\\\\\n",
       "\\hline\n",
       "\t1 & Dependent Var.:                      & log(q/q19)         & log(q/q19)           & log(q/q19)           & log(q/q19)          \\\\\n",
       "\t2 &                                      &                    &                      &                      &                     \\\\\n",
       "\t3 & log(deaths\\_i)                        & -0.0041 (0.0036)   & -0.0052 (0.0053)     & -0.0049 (0.0053)     & 0.0031 (0.0181)     \\\\\n",
       "\t4 & log(deaths\\_j)                        & -0.0079* (0.0038)  & -0.0199*** (0.0048)  & -0.0198*** (0.0048)  & -0.0258 (0.0255)    \\\\\n",
       "\t5 & C8EV\\_International\\_travel\\_controls\\_i & -0.0283** (0.0093) & -0.0199 (0.0135)     & -0.0196 (0.0136)     & -0.0191 (0.0118)    \\\\\n",
       "\t6 & C8EV\\_International\\_travel\\_controls\\_j & -0.0296* (0.0119)  & -0.0449** (0.0137)   & -0.0448** (0.0137)   & -0.0483*** (0.0134) \\\\\n",
       "\t7 & Fixed-Effects:                       & ------------------ & -------------------  & -------------------  & ------------------- \\\\\n",
       "\t8 & year                                 & Yes                & Yes                  & Yes                  & Yes                 \\\\\n",
       "\t9 & i                                    & No                 & Yes                  & No                   & No                  \\\\\n",
       "\t10 & j                                    & No                 & Yes                  & No                   & No                  \\\\\n",
       "\t11 & category                             & No                 & Yes                  & No                   & No                  \\\\\n",
       "\t12 & i-category                           & No                 & No                   & Yes                  & Yes                 \\\\\n",
       "\t13 & j-category                           & No                 & No                   & Yes                  & Yes                 \\\\\n",
       "\t14 & \\_\\_\\_\\_\\_\\_\\_\\_\\_\\_\\_\\_\\_\\_\\_\\_\\_\\_\\_\\_\\_\\_\\_\\_\\_\\_\\_\\_\\_\\_\\_\\_\\_\\_\\_\\_ & \\_\\_\\_\\_\\_\\_\\_\\_\\_\\_\\_\\_\\_\\_\\_\\_\\_\\_ & \\_\\_\\_\\_\\_\\_\\_\\_\\_\\_\\_\\_\\_\\_\\_\\_\\_\\_\\_  & \\_\\_\\_\\_\\_\\_\\_\\_\\_\\_\\_\\_\\_\\_\\_\\_\\_\\_\\_  & \\_\\_\\_\\_\\_\\_\\_\\_\\_\\_\\_\\_\\_\\_\\_\\_\\_\\_\\_ \\\\\n",
       "\t15 & S.E.: Clustered                      & by: i \\& j \\& cate.  & by: i \\& j \\& category & by: i \\& j \\& category & by: i \\& j \\& category\\\\\n",
       "\t16 & Observations                         & 1,663,291          & 1,663,291            & 1,663,291            & 1,653,637           \\\\\n",
       "\t17 & R2                                   & 0.00090            & 0.01221              & 0.06486              & 0.06487             \\\\\n",
       "\t18 & Within R2                            & 0.00029            & 0.00023              & 0.00024              & 0.00021             \\\\\n",
       "\\end{tabular}\n"
      ],
      "text/markdown": [
       "\n",
       "A etable_df: 18 × 5\n",
       "\n",
       "| <!--/--> | <!----> &lt;chr&gt; | m0 &lt;chr&gt; | m1 &lt;chr&gt; | m2 &lt;chr&gt; | m2_iv &lt;chr&gt; |\n",
       "|---|---|---|---|---|---|\n",
       "| 1 | Dependent Var.:                      | log(q/q19)         | log(q/q19)           | log(q/q19)           | log(q/q19)           |\n",
       "| 2 | <!----> | <!----> | <!----> | <!----> | <!----> |\n",
       "| 3 | log(deaths_i)                        | -0.0041 (0.0036)   | -0.0052 (0.0053)     | -0.0049 (0.0053)     | 0.0031 (0.0181)      |\n",
       "| 4 | log(deaths_j)                        | -0.0079* (0.0038)  | -0.0199*** (0.0048)  | -0.0198*** (0.0048)  | -0.0258 (0.0255)     |\n",
       "| 5 | C8EV_International_travel_controls_i | -0.0283** (0.0093) | -0.0199 (0.0135)     | -0.0196 (0.0136)     | -0.0191 (0.0118)     |\n",
       "| 6 | C8EV_International_travel_controls_j | -0.0296* (0.0119)  | -0.0449** (0.0137)   | -0.0448** (0.0137)   | -0.0483*** (0.0134)  |\n",
       "| 7 | Fixed-Effects:                       | ------------------ | -------------------  | -------------------  | -------------------  |\n",
       "| 8 | year                                 | Yes                | Yes                  | Yes                  | Yes                  |\n",
       "| 9 | i                                    | No                 | Yes                  | No                   | No                   |\n",
       "| 10 | j                                    | No                 | Yes                  | No                   | No                   |\n",
       "| 11 | category                             | No                 | Yes                  | No                   | No                   |\n",
       "| 12 | i-category                           | No                 | No                   | Yes                  | Yes                  |\n",
       "| 13 | j-category                           | No                 | No                   | Yes                  | Yes                  |\n",
       "| 14 | ____________________________________ | __________________ | ___________________  | ___________________  | ___________________  |\n",
       "| 15 | S.E.: Clustered                      | by: i &amp; j &amp; cate.  | by: i &amp; j &amp; category | by: i &amp; j &amp; category | by: i &amp; j &amp; category |\n",
       "| 16 | Observations                         | 1,663,291          | 1,663,291            | 1,663,291            | 1,653,637            |\n",
       "| 17 | R2                                   | 0.00090            | 0.01221              | 0.06486              | 0.06487              |\n",
       "| 18 | Within R2                            | 0.00029            | 0.00023              | 0.00024              | 0.00021              |\n",
       "\n"
      ],
      "text/plain": [
       "                                        m0                 m1                  \n",
       "1  Dependent Var.:                      log(q/q19)         log(q/q19)          \n",
       "2                                                                              \n",
       "3  log(deaths_i)                        -0.0041 (0.0036)   -0.0052 (0.0053)    \n",
       "4  log(deaths_j)                        -0.0079* (0.0038)  -0.0199*** (0.0048) \n",
       "5  C8EV_International_travel_controls_i -0.0283** (0.0093) -0.0199 (0.0135)    \n",
       "6  C8EV_International_travel_controls_j -0.0296* (0.0119)  -0.0449** (0.0137)  \n",
       "7  Fixed-Effects:                       ------------------ ------------------- \n",
       "8  year                                 Yes                Yes                 \n",
       "9  i                                    No                 Yes                 \n",
       "10 j                                    No                 Yes                 \n",
       "11 category                             No                 Yes                 \n",
       "12 i-category                           No                 No                  \n",
       "13 j-category                           No                 No                  \n",
       "14 ____________________________________ __________________ ___________________ \n",
       "15 S.E.: Clustered                      by: i & j & cate.  by: i & j & category\n",
       "16 Observations                         1,663,291          1,663,291           \n",
       "17 R2                                   0.00090            0.01221             \n",
       "18 Within R2                            0.00029            0.00023             \n",
       "   m2                   m2_iv               \n",
       "1  log(q/q19)           log(q/q19)          \n",
       "2                                           \n",
       "3  -0.0049 (0.0053)     0.0031 (0.0181)     \n",
       "4  -0.0198*** (0.0048)  -0.0258 (0.0255)    \n",
       "5  -0.0196 (0.0136)     -0.0191 (0.0118)    \n",
       "6  -0.0448** (0.0137)   -0.0483*** (0.0134) \n",
       "7  -------------------  ------------------- \n",
       "8  Yes                  Yes                 \n",
       "9  No                   No                  \n",
       "10 No                   No                  \n",
       "11 No                   No                  \n",
       "12 Yes                  Yes                 \n",
       "13 Yes                  Yes                 \n",
       "14 ___________________  ___________________ \n",
       "15 by: i & j & category by: i & j & category\n",
       "16 1,663,291            1,653,637           \n",
       "17 0.06486              0.06487             \n",
       "18 0.00024              0.00021             "
      ]
     },
     "metadata": {},
     "output_type": "display_data"
    }
   ],
   "source": [
    "etable(m0, m1, m2, m2_iv, vcov = ~i+j+category)"
   ]
  },
  {
   "cell_type": "markdown",
   "metadata": {},
   "source": [
    "## Для каждой категории делаю отдельную регрессиию, т.к. предполагаем гетерогенность\n",
    "\n",
    "- Сравниваю регрессии с инструментами и без\n",
    "- Надо подумать о FWER: как будто найденные для некоторых категорий эффекты -- последствие FWER. "
   ]
  },
  {
   "cell_type": "code",
   "execution_count": 11,
   "metadata": {
    "vscode": {
     "languageId": "r"
    }
   },
   "outputs": [
    {
     "data": {
      "text/html": [
       "<style>\n",
       ".list-inline {list-style: none; margin:0; padding: 0}\n",
       ".list-inline>li {display: inline-block}\n",
       ".list-inline>li:not(:last-child)::after {content: \"\\00b7\"; padding: 0 .5ex}\n",
       "</style>\n",
       "<ol class=list-inline><li>'12'</li><li>'04'</li><li>'74'</li><li>'84'</li><li>'24'</li><li>'05'</li><li>'82'</li><li>'42'</li><li>'95'</li><li>'34'</li><li>'81'</li><li>'73'</li><li>'32'</li><li>'23'</li><li>'50'</li><li>'33'</li><li>'09'</li><li>'43'</li><li>'56'</li><li>'01'</li><li>'63'</li><li>'25'</li><li>'61'</li><li>'35'</li><li>'40'</li><li>'58'</li><li>'03'</li><li>'39'</li><li>'18'</li><li>'15'</li><li>'30'</li><li>'64'</li><li>'91'</li><li>'90'</li><li>'92'</li><li>'02'</li><li>'96'</li><li>'97'</li><li>'69'</li><li>'55'</li><li>'83'</li><li>'57'</li><li>'93'</li><li>'22'</li><li>'62'</li><li>'68'</li><li>'11'</li><li>'38'</li><li>'29'</li><li>'46'</li><li>'41'</li><li>'28'</li><li>'27'</li><li>'07'</li><li>'31'</li><li>'94'</li><li>'85'</li><li>'54'</li><li>'70'</li><li>'48'</li><li>'44'</li><li>'60'</li><li>'59'</li><li>'16'</li><li>'49'</li><li>'14'</li><li>'80'</li><li>'71'</li><li>'17'</li><li>'21'</li><li>'45'</li><li>'76'</li><li>'08'</li><li>'06'</li><li>'75'</li><li>'47'</li><li>'65'</li><li>'66'</li><li>'67'</li><li>'79'</li><li>'10'</li><li>'13'</li><li>'86'</li><li>'87'</li><li>'72'</li><li>'26'</li><li>'88'</li><li>'36'</li><li>'19'</li><li>'20'</li><li>'53'</li><li>'78'</li><li>'51'</li><li>'89'</li><li>'37'</li><li>'52'</li></ol>\n"
      ],
      "text/latex": [
       "\\begin{enumerate*}\n",
       "\\item '12'\n",
       "\\item '04'\n",
       "\\item '74'\n",
       "\\item '84'\n",
       "\\item '24'\n",
       "\\item '05'\n",
       "\\item '82'\n",
       "\\item '42'\n",
       "\\item '95'\n",
       "\\item '34'\n",
       "\\item '81'\n",
       "\\item '73'\n",
       "\\item '32'\n",
       "\\item '23'\n",
       "\\item '50'\n",
       "\\item '33'\n",
       "\\item '09'\n",
       "\\item '43'\n",
       "\\item '56'\n",
       "\\item '01'\n",
       "\\item '63'\n",
       "\\item '25'\n",
       "\\item '61'\n",
       "\\item '35'\n",
       "\\item '40'\n",
       "\\item '58'\n",
       "\\item '03'\n",
       "\\item '39'\n",
       "\\item '18'\n",
       "\\item '15'\n",
       "\\item '30'\n",
       "\\item '64'\n",
       "\\item '91'\n",
       "\\item '90'\n",
       "\\item '92'\n",
       "\\item '02'\n",
       "\\item '96'\n",
       "\\item '97'\n",
       "\\item '69'\n",
       "\\item '55'\n",
       "\\item '83'\n",
       "\\item '57'\n",
       "\\item '93'\n",
       "\\item '22'\n",
       "\\item '62'\n",
       "\\item '68'\n",
       "\\item '11'\n",
       "\\item '38'\n",
       "\\item '29'\n",
       "\\item '46'\n",
       "\\item '41'\n",
       "\\item '28'\n",
       "\\item '27'\n",
       "\\item '07'\n",
       "\\item '31'\n",
       "\\item '94'\n",
       "\\item '85'\n",
       "\\item '54'\n",
       "\\item '70'\n",
       "\\item '48'\n",
       "\\item '44'\n",
       "\\item '60'\n",
       "\\item '59'\n",
       "\\item '16'\n",
       "\\item '49'\n",
       "\\item '14'\n",
       "\\item '80'\n",
       "\\item '71'\n",
       "\\item '17'\n",
       "\\item '21'\n",
       "\\item '45'\n",
       "\\item '76'\n",
       "\\item '08'\n",
       "\\item '06'\n",
       "\\item '75'\n",
       "\\item '47'\n",
       "\\item '65'\n",
       "\\item '66'\n",
       "\\item '67'\n",
       "\\item '79'\n",
       "\\item '10'\n",
       "\\item '13'\n",
       "\\item '86'\n",
       "\\item '87'\n",
       "\\item '72'\n",
       "\\item '26'\n",
       "\\item '88'\n",
       "\\item '36'\n",
       "\\item '19'\n",
       "\\item '20'\n",
       "\\item '53'\n",
       "\\item '78'\n",
       "\\item '51'\n",
       "\\item '89'\n",
       "\\item '37'\n",
       "\\item '52'\n",
       "\\end{enumerate*}\n"
      ],
      "text/markdown": [
       "1. '12'\n",
       "2. '04'\n",
       "3. '74'\n",
       "4. '84'\n",
       "5. '24'\n",
       "6. '05'\n",
       "7. '82'\n",
       "8. '42'\n",
       "9. '95'\n",
       "10. '34'\n",
       "11. '81'\n",
       "12. '73'\n",
       "13. '32'\n",
       "14. '23'\n",
       "15. '50'\n",
       "16. '33'\n",
       "17. '09'\n",
       "18. '43'\n",
       "19. '56'\n",
       "20. '01'\n",
       "21. '63'\n",
       "22. '25'\n",
       "23. '61'\n",
       "24. '35'\n",
       "25. '40'\n",
       "26. '58'\n",
       "27. '03'\n",
       "28. '39'\n",
       "29. '18'\n",
       "30. '15'\n",
       "31. '30'\n",
       "32. '64'\n",
       "33. '91'\n",
       "34. '90'\n",
       "35. '92'\n",
       "36. '02'\n",
       "37. '96'\n",
       "38. '97'\n",
       "39. '69'\n",
       "40. '55'\n",
       "41. '83'\n",
       "42. '57'\n",
       "43. '93'\n",
       "44. '22'\n",
       "45. '62'\n",
       "46. '68'\n",
       "47. '11'\n",
       "48. '38'\n",
       "49. '29'\n",
       "50. '46'\n",
       "51. '41'\n",
       "52. '28'\n",
       "53. '27'\n",
       "54. '07'\n",
       "55. '31'\n",
       "56. '94'\n",
       "57. '85'\n",
       "58. '54'\n",
       "59. '70'\n",
       "60. '48'\n",
       "61. '44'\n",
       "62. '60'\n",
       "63. '59'\n",
       "64. '16'\n",
       "65. '49'\n",
       "66. '14'\n",
       "67. '80'\n",
       "68. '71'\n",
       "69. '17'\n",
       "70. '21'\n",
       "71. '45'\n",
       "72. '76'\n",
       "73. '08'\n",
       "74. '06'\n",
       "75. '75'\n",
       "76. '47'\n",
       "77. '65'\n",
       "78. '66'\n",
       "79. '67'\n",
       "80. '79'\n",
       "81. '10'\n",
       "82. '13'\n",
       "83. '86'\n",
       "84. '87'\n",
       "85. '72'\n",
       "86. '26'\n",
       "87. '88'\n",
       "88. '36'\n",
       "89. '19'\n",
       "90. '20'\n",
       "91. '53'\n",
       "92. '78'\n",
       "93. '51'\n",
       "94. '89'\n",
       "95. '37'\n",
       "96. '52'\n",
       "\n",
       "\n"
      ],
      "text/plain": [
       " [1] \"12\" \"04\" \"74\" \"84\" \"24\" \"05\" \"82\" \"42\" \"95\" \"34\" \"81\" \"73\" \"32\" \"23\" \"50\"\n",
       "[16] \"33\" \"09\" \"43\" \"56\" \"01\" \"63\" \"25\" \"61\" \"35\" \"40\" \"58\" \"03\" \"39\" \"18\" \"15\"\n",
       "[31] \"30\" \"64\" \"91\" \"90\" \"92\" \"02\" \"96\" \"97\" \"69\" \"55\" \"83\" \"57\" \"93\" \"22\" \"62\"\n",
       "[46] \"68\" \"11\" \"38\" \"29\" \"46\" \"41\" \"28\" \"27\" \"07\" \"31\" \"94\" \"85\" \"54\" \"70\" \"48\"\n",
       "[61] \"44\" \"60\" \"59\" \"16\" \"49\" \"14\" \"80\" \"71\" \"17\" \"21\" \"45\" \"76\" \"08\" \"06\" \"75\"\n",
       "[76] \"47\" \"65\" \"66\" \"67\" \"79\" \"10\" \"13\" \"86\" \"87\" \"72\" \"26\" \"88\" \"36\" \"19\" \"20\"\n",
       "[91] \"53\" \"78\" \"51\" \"89\" \"37\" \"52\""
      ]
     },
     "metadata": {},
     "output_type": "display_data"
    }
   ],
   "source": [
    "df$category %>% unique()"
   ]
  },
  {
   "cell_type": "code",
   "execution_count": 12,
   "metadata": {
    "vscode": {
     "languageId": "r"
    }
   },
   "outputs": [
    {
     "name": "stderr",
     "output_type": "stream",
     "text": [
      "NOTE: 4,136 observations removed because of NA and infinite values (LHS: 439, RHS: 2,250, IV: 1,643/2,684).\n",
      "\n"
     ]
    },
    {
     "data": {
      "text/plain": [
       "TSLS estimation - Dep. Var.: log(q/q19)\n",
       "                  Endo.    : log(deaths_i), log(deaths_j)\n",
       "                  Instr.   : C1M_School_closing_i, C1M_School_closing_j, median_age_i, median_age_j, population_density_i, population_density_j\n",
       "Second stage: Dep. Var.: log(q/q19)\n",
       "Observations: 26,825\n",
       "Fixed-effects: year: 3,  i: 174,  j: 175\n",
       "Standard-errors: Clustered (i & j) \n",
       "                                      Estimate Std. Error   t value Pr(>|t|)\n",
       "fit_log(deaths_i)                     0.007862   0.026081  0.301459 0.763426\n",
       "fit_log(deaths_j)                    -0.032250   0.033034 -0.976287 0.330285\n",
       "C8EV_International_travel_controls_i -0.028627   0.023727 -1.206518 0.229265\n",
       "C8EV_International_travel_controls_j -0.059823   0.025322 -2.362459 0.019265\n",
       "                                        \n",
       "fit_log(deaths_i)                       \n",
       "fit_log(deaths_j)                       \n",
       "C8EV_International_travel_controls_i    \n",
       "C8EV_International_travel_controls_j *  \n",
       "---\n",
       "Signif. codes:  0 '***' 0.001 '**' 0.01 '*' 0.05 '.' 0.1 ' ' 1\n",
       "RMSE: 1.4599     Adj. R2: 0.048214\n",
       "               Within R2: 2.903e-4\n",
       "F-test (1st stage), log(deaths_i): stat = 643.0     , p < 2.2e-16 , on 6 and 26,469 DoF.\n",
       "F-test (1st stage), log(deaths_j): stat = 458.0     , p < 2.2e-16 , on 6 and 26,469 DoF.\n",
       "                       Wu-Hausman: stat =   0.088221, p = 0.915558, on 2 and 26,469 DoF.\n",
       "                           Sargan: stat =   1.0134  , p = 0.907757, on 4 DoF."
      ]
     },
     "metadata": {},
     "output_type": "display_data"
    },
    {
     "name": "stderr",
     "output_type": "stream",
     "text": [
      "NOTE: 3,972 observations removed because of NA and infinite values (LHS: 439, RHS: 3,605).\n",
      "\n"
     ]
    },
    {
     "data": {
      "text/plain": [
       "OLS estimation, Dep. Var.: log(q/q19)\n",
       "Observations: 26,989\n",
       "Fixed-effects: year: 3,  i: 174,  j: 175\n",
       "Standard-errors: Clustered (i & j) \n",
       "                                      Estimate Std. Error   t value Pr(>|t|)\n",
       "log(deaths_i)                         0.005884   0.011890  0.494870 0.621319\n",
       "log(deaths_j)                        -0.018493   0.012173 -1.519172 0.130545\n",
       "C8EV_International_travel_controls_i -0.027010   0.024005 -1.125185 0.262069\n",
       "C8EV_International_travel_controls_j -0.047704   0.024266 -1.965882 0.050913\n",
       "                                        \n",
       "log(deaths_i)                           \n",
       "log(deaths_j)                           \n",
       "C8EV_International_travel_controls_i    \n",
       "C8EV_International_travel_controls_j .  \n",
       "---\n",
       "Signif. codes:  0 '***' 0.001 '**' 0.01 '*' 0.05 '.' 0.1 ' ' 1\n",
       "RMSE: 1.4585     Adj. R2: 0.047997\n",
       "               Within R2: 3.061e-4"
      ]
     },
     "metadata": {},
     "output_type": "display_data"
    }
   ],
   "source": [
    "oil = feols(log(q/q19) ~  1 +\n",
    " C8EV_International_travel_controls_i + C8EV_International_travel_controls_j | year+i+j|\n",
    " log(deaths_i) + log(deaths_j) ~ \n",
    "C1M_School_closing_i+C1M_School_closing_j\n",
    "+\n",
    "median_age_i + median_age_j\n",
    "+\n",
    "population_density_i + population_density_j\n",
    " ,\n",
    " data = df %>% filter(category == '33')\n",
    " )\n",
    "oil %>% summary(cluster = ~ i+j)\n",
    "oil_ols = feols(log(q/q19) ~  log(deaths_i) + log(deaths_j) +\n",
    " C8EV_International_travel_controls_i + C8EV_International_travel_controls_j | year+i+j\n",
    "  ,\n",
    " data = df %>% filter(category == '33')\n",
    " )\n",
    "oil_ols %>% summary(cluster = ~ i+j)"
   ]
  },
  {
   "cell_type": "code",
   "execution_count": 13,
   "metadata": {
    "vscode": {
     "languageId": "r"
    }
   },
   "outputs": [
    {
     "name": "stderr",
     "output_type": "stream",
     "text": [
      "NOTE: 532 observations removed because of NA and infinite values (LHS: 85, RHS: 232, IV: 226/296).\n",
      "\n"
     ]
    },
    {
     "data": {
      "text/plain": [
       "TSLS estimation - Dep. Var.: log(q/q19)\n",
       "                  Endo.    : log(deaths_i), log(deaths_j)\n",
       "                  Instr.   : C1M_School_closing_i, C1M_School_closing_j, median_age_i, median_age_j, population_density_i, population_density_j\n",
       "Second stage: Dep. Var.: log(q/q19)\n",
       "Observations: 7,397\n",
       "Fixed-effects: year: 3,  i: 153,  j: 159\n",
       "Standard-errors: Clustered (i & j) \n",
       "                                      Estimate Std. Error   t value Pr(>|t|)\n",
       "fit_log(deaths_i)                     0.133500   0.072650  1.837580 0.068077\n",
       "fit_log(deaths_j)                     0.127365   0.076903  1.656187 0.099747\n",
       "C8EV_International_travel_controls_i  0.003625   0.065977  0.054936 0.956262\n",
       "C8EV_International_travel_controls_j -0.062618   0.047658 -1.313903 0.190858\n",
       "                                        \n",
       "fit_log(deaths_i)                    .  \n",
       "fit_log(deaths_j)                    .  \n",
       "C8EV_International_travel_controls_i    \n",
       "C8EV_International_travel_controls_j    \n",
       "---\n",
       "Signif. codes:  0 '***' 0.001 '**' 0.01 '*' 0.05 '.' 0.1 ' ' 1\n",
       "RMSE: 2.03289     Adj. R2:  0.039971\n",
       "                Within R2: -0.00627 \n",
       "F-test (1st stage), log(deaths_i): stat = 175.4    , p < 2.2e-16 , on 6 and 7,078 DoF.\n",
       "F-test (1st stage), log(deaths_j): stat = 246.9    , p < 2.2e-16 , on 6 and 7,078 DoF.\n",
       "                       Wu-Hausman: stat =   4.40025, p = 0.012308, on 2 and 7,078 DoF.\n",
       "                           Sargan: stat =   4.34546, p = 0.361267, on 4 DoF."
      ]
     },
     "metadata": {},
     "output_type": "display_data"
    },
    {
     "name": "stderr",
     "output_type": "stream",
     "text": [
      "NOTE: 511 observations removed because of NA and infinite values (LHS: 85, RHS: 436).\n",
      "\n"
     ]
    },
    {
     "data": {
      "text/plain": [
       "OLS estimation, Dep. Var.: log(q/q19)\n",
       "Observations: 7,418\n",
       "Fixed-effects: year: 3,  i: 153,  j: 159\n",
       "Standard-errors: Clustered (i & j) \n",
       "                                      Estimate Std. Error   t value Pr(>|t|) \n",
       "log(deaths_i)                        -0.008914   0.021426 -0.416058  0.67795 \n",
       "log(deaths_j)                        -0.003971   0.029724 -0.133598  0.89390 \n",
       "C8EV_International_travel_controls_i -0.044738   0.056894 -0.786334  0.43290 \n",
       "C8EV_International_travel_controls_j -0.056448   0.052348 -1.078322  0.28260 \n",
       "---\n",
       "Signif. codes:  0 '***' 0.001 '**' 0.01 '*' 0.05 '.' 0.1 ' ' 1\n",
       "RMSE: 2.02833     Adj. R2: 0.046024\n",
       "                Within R2: 2.062e-4"
      ]
     },
     "metadata": {},
     "output_type": "display_data"
    }
   ],
   "source": [
    "textile_fibres = feols(log(q/q19) ~  1 +\n",
    " C8EV_International_travel_controls_i + C8EV_International_travel_controls_j | year+i+j|\n",
    " log(deaths_i) + log(deaths_j) ~ \n",
    "C1M_School_closing_i+C1M_School_closing_j\n",
    "+\n",
    "median_age_i + median_age_j\n",
    "+\n",
    "population_density_i + population_density_j\n",
    " ,\n",
    " data = df %>% filter(category == '26')\n",
    " )\n",
    "textile_fibres %>% summary(cluster = ~ i+j)\n",
    "textile_fibres_ols = feols(log(q/q19) ~  log(deaths_i) + log(deaths_j) +\n",
    " C8EV_International_travel_controls_i + C8EV_International_travel_controls_j | year+i+j\n",
    "  ,\n",
    " data = df %>% filter(category == '26')\n",
    " )\n",
    "textile_fibres_ols %>% summary(cluster = ~ i+j)"
   ]
  },
  {
   "cell_type": "code",
   "execution_count": 14,
   "metadata": {
    "vscode": {
     "languageId": "r"
    }
   },
   "outputs": [
    {
     "name": "stderr",
     "output_type": "stream",
     "text": [
      "NOTE: 6,769 observations removed because of NA and infinite values (LHS: 586, RHS: 4,116, IV: 2,826/4,669).\n",
      "\n"
     ]
    },
    {
     "data": {
      "text/plain": [
       "TSLS estimation - Dep. Var.: log(q/q19)\n",
       "                  Endo.    : log(deaths_i), log(deaths_j)\n",
       "                  Instr.   : C1M_School_closing_i, C1M_School_closing_j, median_age_i, median_age_j, population_density_i, population_density_j\n",
       "Second stage: Dep. Var.: log(q/q19)\n",
       "Observations: 36,233\n",
       "Fixed-effects: year: 3,  i: 175,  j: 175\n",
       "Standard-errors: Clustered (i & j) \n",
       "                                      Estimate Std. Error   t value Pr(>|t|) \n",
       "fit_log(deaths_i)                     0.035025   0.025869  1.353949  0.17751 \n",
       "fit_log(deaths_j)                    -0.007153   0.034015 -0.210297  0.83368 \n",
       "C8EV_International_travel_controls_i  0.024716   0.024390  1.013337  0.31231 \n",
       "C8EV_International_travel_controls_j -0.007611   0.024081 -0.316071  0.75233 \n",
       "---\n",
       "Signif. codes:  0 '***' 0.001 '**' 0.01 '*' 0.05 '.' 0.1 ' ' 1\n",
       "RMSE: 1.33357     Adj. R2:  0.029953\n",
       "                Within R2: -5.125e-4\n",
       "F-test (1st stage), log(deaths_i): stat = 763.6    , p < 2.2e-16 , on 6 and 35,876 DoF.\n",
       "F-test (1st stage), log(deaths_j): stat = 559.8    , p < 2.2e-16 , on 6 and 35,876 DoF.\n",
       "                       Wu-Hausman: stat =   1.23313, p = 0.291392, on 2 and 35,876 DoF.\n",
       "                           Sargan: stat =   5.64655, p = 0.227145, on 4 DoF."
      ]
     },
     "metadata": {},
     "output_type": "display_data"
    },
    {
     "name": "stderr",
     "output_type": "stream",
     "text": [
      "NOTE: 6,562 observations removed because of NA and infinite values (LHS: 586, RHS: 6,115).\n",
      "\n"
     ]
    },
    {
     "data": {
      "text/plain": [
       "OLS estimation, Dep. Var.: log(q/q19)\n",
       "Observations: 36,440\n",
       "Fixed-effects: year: 3,  i: 175,  j: 175\n",
       "Standard-errors: Clustered (i & j) \n",
       "                                      Estimate Std. Error   t value Pr(>|t|) \n",
       "log(deaths_i)                        -0.001659   0.010430 -0.159022  0.87384 \n",
       "log(deaths_j)                        -0.005739   0.009859 -0.582120  0.56124 \n",
       "C8EV_International_travel_controls_i  0.015789   0.023734  0.665281  0.50675 \n",
       "C8EV_International_travel_controls_j -0.003567   0.020425 -0.174616  0.86158 \n",
       "---\n",
       "Signif. codes:  0 '***' 0.001 '**' 0.01 '*' 0.05 '.' 0.1 ' ' 1\n",
       "RMSE: 1.33379     Adj. R2: 0.03029 \n",
       "                Within R2: 3.767e-5"
      ]
     },
     "metadata": {},
     "output_type": "display_data"
    }
   ],
   "source": [
    "clothing = feols(log(q/q19) ~  1 +\n",
    " C8EV_International_travel_controls_i + C8EV_International_travel_controls_j | year+i+j|\n",
    " log(deaths_i) + log(deaths_j) ~ \n",
    "C1M_School_closing_i+C1M_School_closing_j\n",
    "+\n",
    "median_age_i + median_age_j\n",
    "+\n",
    "population_density_i + population_density_j\n",
    " ,\n",
    " data = df %>% filter(category == '84')\n",
    " )\n",
    "clothing %>% summary(cluster = ~ i+j)\n",
    "clothing_ols = feols(log(q/q19) ~  log(deaths_i) + log(deaths_j) +\n",
    " C8EV_International_travel_controls_i + C8EV_International_travel_controls_j | year+i+j\n",
    "  ,\n",
    " data = df %>% filter(category == '84')\n",
    " )\n",
    "clothing_ols %>% summary(cluster = ~ i+j)"
   ]
  },
  {
   "cell_type": "code",
   "execution_count": 15,
   "metadata": {
    "vscode": {
     "languageId": "r"
    }
   },
   "outputs": [
    {
     "name": "stderr",
     "output_type": "stream",
     "text": [
      "NOTE: 1,585 observations removed because of NA and infinite values (LHS: 128, RHS: 704, IV: 755/954).\n",
      "\n"
     ]
    },
    {
     "data": {
      "text/plain": [
       "TSLS estimation - Dep. Var.: log(q/q19)\n",
       "                  Endo.    : log(deaths_i), log(deaths_j)\n",
       "                  Instr.   : C1M_School_closing_i, C1M_School_closing_j, median_age_i, median_age_j, population_density_i, population_density_j\n",
       "Second stage: Dep. Var.: log(q/q19)\n",
       "Observations: 13,253\n",
       "Fixed-effects: year: 3,  i: 140,  j: 175\n",
       "Standard-errors: Clustered (i & j) \n",
       "                                      Estimate Std. Error   t value Pr(>|t|) \n",
       "fit_log(deaths_i)                     0.016690   0.027721  0.602077  0.54810 \n",
       "fit_log(deaths_j)                    -0.047428   0.038716 -1.225025  0.22264 \n",
       "C8EV_International_travel_controls_i  0.022798   0.028224  0.807770  0.42060 \n",
       "C8EV_International_travel_controls_j -0.051783   0.032211 -1.607629  0.11019 \n",
       "---\n",
       "Signif. codes:  0 '***' 0.001 '**' 0.01 '*' 0.05 '.' 0.1 ' ' 1\n",
       "RMSE: 1.39427     Adj. R2:  0.041952\n",
       "                Within R2: -4.55e-4 \n",
       "F-test (1st stage), log(deaths_i): stat = 549.8     , p < 2.2e-16 , on 6 and 12,931 DoF.\n",
       "F-test (1st stage), log(deaths_j): stat = 290.5     , p < 2.2e-16 , on 6 and 12,931 DoF.\n",
       "                       Wu-Hausman: stat =   0.609026, p = 0.543896, on 2 and 12,931 DoF.\n",
       "                           Sargan: stat =   1.06999 , p = 0.899004, on 4 DoF."
      ]
     },
     "metadata": {},
     "output_type": "display_data"
    },
    {
     "name": "stderr",
     "output_type": "stream",
     "text": [
      "NOTE: 1,487 observations removed because of NA and infinite values (LHS: 128, RHS: 1,380).\n",
      "\n"
     ]
    },
    {
     "data": {
      "text/plain": [
       "OLS estimation, Dep. Var.: log(q/q19)\n",
       "Observations: 13,351\n",
       "Fixed-effects: year: 3,  i: 140,  j: 175\n",
       "Standard-errors: Clustered (i & j) \n",
       "                                      Estimate Std. Error   t value Pr(>|t|) \n",
       "log(deaths_i)                         0.003833   0.015402  0.248878  0.80382 \n",
       "log(deaths_j)                        -0.009624   0.014262 -0.674791  0.50093 \n",
       "C8EV_International_travel_controls_i  0.025248   0.027101  0.931616  0.35315 \n",
       "C8EV_International_travel_controls_j -0.046395   0.031633 -1.466666  0.14473 \n",
       "---\n",
       "Signif. codes:  0 '***' 0.001 '**' 0.01 '*' 0.05 '.' 0.1 ' ' 1\n",
       "RMSE: 1.3957     Adj. R2: 0.04287\n",
       "               Within R2: 2.34e-4"
      ]
     },
     "metadata": {},
     "output_type": "display_data"
    }
   ],
   "source": [
    "medicines = feols(log(q/q19) ~  1 +\n",
    " C8EV_International_travel_controls_i + C8EV_International_travel_controls_j | year+i+j|\n",
    " log(deaths_i) + log(deaths_j) ~ \n",
    "\n",
    "C1M_School_closing_i+C1M_School_closing_j\n",
    "+\n",
    "median_age_i + median_age_j\n",
    "+\n",
    "population_density_i + population_density_j\n",
    "\n",
    "\n",
    " ,\n",
    " data = df %>% filter(category == '54')\n",
    " )\n",
    "medicines %>% summary(cluster = ~ i+j)\n",
    "medicines_ols = feols(log(q/q19) ~  log(deaths_i) + log(deaths_j) +\n",
    " C8EV_International_travel_controls_i + C8EV_International_travel_controls_j | year+i+j\n",
    "  ,\n",
    " data = df %>% filter(category == '54')\n",
    " )\n",
    "medicines_ols %>% summary(cluster = ~ i+j)"
   ]
  },
  {
   "cell_type": "code",
   "execution_count": 16,
   "metadata": {
    "vscode": {
     "languageId": "r"
    }
   },
   "outputs": [
    {
     "name": "stderr",
     "output_type": "stream",
     "text": [
      "NOTE: 2,105 observations removed because of NA and infinite values (LHS: 88, RHS: 1,297, IV: 871/1,500).\n",
      "\n"
     ]
    },
    {
     "data": {
      "text/plain": [
       "TSLS estimation - Dep. Var.: log(q/q19)\n",
       "                  Endo.    : log(deaths_i), log(deaths_j)\n",
       "                  Instr.   : C1M_School_closing_i, C1M_School_closing_j, median_age_i, median_age_j, population_density_i, population_density_j\n",
       "Second stage: Dep. Var.: log(q/q19)\n",
       "Observations: 17,272\n",
       "Fixed-effects: year: 3,  i: 170,  j: 175\n",
       "Standard-errors: Clustered (i & j) \n",
       "                                      Estimate Std. Error   t value Pr(>|t|) \n",
       "fit_log(deaths_i)                     0.036216   0.040918  0.885089  0.37737 \n",
       "fit_log(deaths_j)                     0.046397   0.045808  1.012864  0.31257 \n",
       "C8EV_International_travel_controls_i -0.043368   0.035052 -1.237245  0.21771 \n",
       "C8EV_International_travel_controls_j -0.016504   0.036238 -0.455423  0.64939 \n",
       "---\n",
       "Signif. codes:  0 '***' 0.001 '**' 0.01 '*' 0.05 '.' 0.1 ' ' 1\n",
       "RMSE: 1.40577     Adj. R2:  0.0368  \n",
       "                Within R2: -9.259e-4\n",
       "F-test (1st stage), log(deaths_i): stat = 465.4    , p < 2.2e-16 , on 6 and 16,920 DoF.\n",
       "F-test (1st stage), log(deaths_j): stat = 376.0    , p < 2.2e-16 , on 6 and 16,920 DoF.\n",
       "                       Wu-Hausman: stat =   1.55839, p = 0.210505, on 2 and 16,920 DoF.\n",
       "                           Sargan: stat =   3.94046, p = 0.414123, on 4 DoF."
      ]
     },
     "metadata": {},
     "output_type": "display_data"
    },
    {
     "name": "stderr",
     "output_type": "stream",
     "text": [
      "NOTE: 2,029 observations removed because of NA and infinite values (LHS: 88, RHS: 1,953).\n",
      "\n"
     ]
    },
    {
     "data": {
      "text/plain": [
       "OLS estimation, Dep. Var.: log(q/q19)\n",
       "Observations: 17,348\n",
       "Fixed-effects: year: 3,  i: 170,  j: 175\n",
       "Standard-errors: Clustered (i & j) \n",
       "                                      Estimate Std. Error   t value Pr(>|t|) \n",
       "log(deaths_i)                         0.011462   0.016857  0.679965  0.49746 \n",
       "log(deaths_j)                        -0.009262   0.013251 -0.698977  0.48553 \n",
       "C8EV_International_travel_controls_i -0.051402   0.035224 -1.459274  0.14635 \n",
       "C8EV_International_travel_controls_j -0.029942   0.031579 -0.948173  0.34440 \n",
       "---\n",
       "Signif. codes:  0 '***' 0.001 '**' 0.01 '*' 0.05 '.' 0.1 ' ' 1\n",
       "RMSE: 1.40571     Adj. R2: 0.038079\n",
       "                Within R2: 3.662e-4"
      ]
     },
     "metadata": {},
     "output_type": "display_data"
    }
   ],
   "source": [
    "electrical_machinery = feols(log(q/q19) ~  1 +\n",
    " C8EV_International_travel_controls_i + C8EV_International_travel_controls_j | year+i+j|\n",
    " log(deaths_i) + log(deaths_j) ~ \n",
    "C1M_School_closing_i+C1M_School_closing_j\n",
    "+\n",
    "median_age_i + median_age_j\n",
    "+\n",
    "population_density_i + population_density_j\n",
    " ,\n",
    " data = df %>% filter(category == '72')\n",
    " )\n",
    "electrical_machinery %>% summary(cluster = ~ i+j)\n",
    "electrical_machinery_ols = feols(log(q/q19) ~  log(deaths_i) + log(deaths_j) +\n",
    " C8EV_International_travel_controls_i + C8EV_International_travel_controls_j | year+i+j\n",
    "  ,\n",
    " data = df %>% filter(category == '72')\n",
    " )\n",
    "electrical_machinery_ols %>% summary(cluster = ~ i+j)"
   ]
  },
  {
   "cell_type": "code",
   "execution_count": 17,
   "metadata": {
    "vscode": {
     "languageId": "r"
    }
   },
   "outputs": [
    {
     "name": "stderr",
     "output_type": "stream",
     "text": [
      "NOTE: 2,455 observations removed because of NA and infinite values (LHS: 72, RHS: 1,466, IV: 1,199/1,727).\n",
      "\n"
     ]
    },
    {
     "data": {
      "text/plain": [
       "TSLS estimation - Dep. Var.: log(q/q19)\n",
       "                  Endo.    : log(deaths_i), log(deaths_j)\n",
       "                  Instr.   : C1M_School_closing_i, C1M_School_closing_j, median_age_i, median_age_j, population_density_i, population_density_j\n",
       "Second stage: Dep. Var.: log(q/q19)\n",
       "Observations: 15,793\n",
       "Fixed-effects: year: 3,  i: 163,  j: 175\n",
       "Standard-errors: Clustered (i & j) \n",
       "                                      Estimate Std. Error   t value Pr(>|t|) \n",
       "fit_log(deaths_i)                    -0.024466   0.025047 -0.976828  0.33011 \n",
       "fit_log(deaths_j)                     0.013470   0.042089  0.320035  0.74935 \n",
       "C8EV_International_travel_controls_i -0.027585   0.024975 -1.104518  0.27101 \n",
       "C8EV_International_travel_controls_j -0.043409   0.030354 -1.430100  0.15461 \n",
       "---\n",
       "Signif. codes:  0 '***' 0.001 '**' 0.01 '*' 0.05 '.' 0.1 ' ' 1\n",
       "RMSE: 1.1659     Adj. R2: 0.084863\n",
       "               Within R2: 2.213e-4\n",
       "F-test (1st stage), log(deaths_i): stat = 472.1     , p < 2.2e-16 , on 6 and 15,448 DoF.\n",
       "F-test (1st stage), log(deaths_j): stat = 376.5     , p < 2.2e-16 , on 6 and 15,448 DoF.\n",
       "                       Wu-Hausman: stat =   0.452065, p = 0.636321, on 2 and 15,448 DoF.\n",
       "                           Sargan: stat =   2.41384 , p = 0.660127, on 4 DoF."
      ]
     },
     "metadata": {},
     "output_type": "display_data"
    },
    {
     "name": "stderr",
     "output_type": "stream",
     "text": [
      "NOTE: 2,375 observations removed because of NA and infinite values (LHS: 72, RHS: 2,319).\n",
      "\n"
     ]
    },
    {
     "data": {
      "text/plain": [
       "OLS estimation, Dep. Var.: log(q/q19)\n",
       "Observations: 15,873\n",
       "Fixed-effects: year: 3,  i: 163,  j: 175\n",
       "Standard-errors: Clustered (i & j) \n",
       "                                      Estimate Std. Error   t value Pr(>|t|)\n",
       "log(deaths_i)                        -0.017173   0.010077 -1.704127 0.090275\n",
       "log(deaths_j)                        -0.012507   0.011791 -1.060674 0.290417\n",
       "C8EV_International_travel_controls_i -0.022899   0.024078 -0.951043 0.342999\n",
       "C8EV_International_travel_controls_j -0.048511   0.024942 -1.944916 0.053517\n",
       "                                        \n",
       "log(deaths_i)                        .  \n",
       "log(deaths_j)                           \n",
       "C8EV_International_travel_controls_i    \n",
       "C8EV_International_travel_controls_j .  \n",
       "---\n",
       "Signif. codes:  0 '***' 0.001 '**' 0.01 '*' 0.05 '.' 0.1 ' ' 1\n",
       "RMSE: 1.16549     Adj. R2: 0.08518 \n",
       "                Within R2: 5.453e-4"
      ]
     },
     "metadata": {},
     "output_type": "display_data"
    }
   ],
   "source": [
    "fish = feols(log(q/q19) ~  1 +\n",
    " C8EV_International_travel_controls_i + C8EV_International_travel_controls_j | year+i+j|\n",
    " log(deaths_i) + log(deaths_j) ~ \n",
    "C1M_School_closing_i+C1M_School_closing_j\n",
    "+\n",
    "median_age_i + median_age_j\n",
    "+\n",
    "population_density_i + population_density_j\n",
    " ,\n",
    " data = df %>% filter(category == '03')\n",
    " )\n",
    "fish %>% summary(cluster = ~ i+j)\n",
    "fish_ols = feols(log(q/q19) ~  log(deaths_i) + log(deaths_j) +\n",
    " C8EV_International_travel_controls_i + C8EV_International_travel_controls_j | year+i+j\n",
    "  ,\n",
    " data = df %>% filter(category == '03')\n",
    " )\n",
    "fish_ols %>% summary(cluster = ~ i+j)"
   ]
  }
 ],
 "metadata": {
  "kernelspec": {
   "display_name": "R",
   "language": "R",
   "name": "ir"
  },
  "language_info": {
   "codemirror_mode": "r",
   "file_extension": ".r",
   "mimetype": "text/x-r-source",
   "name": "R",
   "pygments_lexer": "r",
   "version": "4.4.1"
  }
 },
 "nbformat": 4,
 "nbformat_minor": 2
}
