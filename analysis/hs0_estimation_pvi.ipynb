{
 "cells": [
  {
   "cell_type": "markdown",
   "metadata": {},
   "source": [
    "# Оцениваем регрессии на данных HS0 в спецификациях:\n",
    "- Сырые данные ~ ковид и ограничения + контроль на дамми\n",
    "- Сырые данные ~ ковид и ограничения + контроль на дамми | инструментальные переменные\n",
    "\n",
    "Для второй спецификации считаем бутстраповские доверительные интервалы"
   ]
  },
  {
   "cell_type": "code",
   "execution_count": 1,
   "metadata": {
    "vscode": {
     "languageId": "r"
    }
   },
   "outputs": [
    {
     "name": "stderr",
     "output_type": "stream",
     "text": [
      "\n",
      "Присоединяю пакет: 'arrow'\n",
      "\n",
      "\n",
      "Следующий объект скрыт от 'package:utils':\n",
      "\n",
      "    timestamp\n",
      "\n",
      "\n",
      "\n",
      "Please cite as: \n",
      "\n",
      "\n",
      " Hlavac, Marek (2022). stargazer: Well-Formatted Regression and Summary Statistics Tables.\n",
      "\n",
      " R package version 5.2.3. https://CRAN.R-project.org/package=stargazer \n",
      "\n",
      "\n",
      "Warning message:\n",
      "\"пакет 'tidyverse' был собран под R версии 4.4.2\"\n",
      "── \u001b[1mAttaching core tidyverse packages\u001b[22m ──────────────────────── tidyverse 2.0.0 ──\n",
      "\u001b[32m✔\u001b[39m \u001b[34mdplyr    \u001b[39m 1.1.4     \u001b[32m✔\u001b[39m \u001b[34mreadr    \u001b[39m 2.1.5\n",
      "\u001b[32m✔\u001b[39m \u001b[34mforcats  \u001b[39m 1.0.0     \u001b[32m✔\u001b[39m \u001b[34mstringr  \u001b[39m 1.5.1\n",
      "\u001b[32m✔\u001b[39m \u001b[34mggplot2  \u001b[39m 3.5.1     \u001b[32m✔\u001b[39m \u001b[34mtibble   \u001b[39m 3.2.1\n",
      "\u001b[32m✔\u001b[39m \u001b[34mlubridate\u001b[39m 1.9.3     \u001b[32m✔\u001b[39m \u001b[34mtidyr    \u001b[39m 1.3.1\n",
      "\u001b[32m✔\u001b[39m \u001b[34mpurrr    \u001b[39m 1.0.2     \n",
      "── \u001b[1mConflicts\u001b[22m ────────────────────────────────────────── tidyverse_conflicts() ──\n",
      "\u001b[31m✖\u001b[39m \u001b[34mlubridate\u001b[39m::\u001b[32mduration()\u001b[39m masks \u001b[34marrow\u001b[39m::duration()\n",
      "\u001b[31m✖\u001b[39m \u001b[34mdplyr\u001b[39m::\u001b[32mfilter()\u001b[39m       masks \u001b[34mstats\u001b[39m::filter()\n",
      "\u001b[31m✖\u001b[39m \u001b[34mdplyr\u001b[39m::\u001b[32mlag()\u001b[39m          masks \u001b[34mstats\u001b[39m::lag()\n",
      "\u001b[36mℹ\u001b[39m Use the conflicted package (\u001b[3m\u001b[34m<http://conflicted.r-lib.org/>\u001b[39m\u001b[23m) to force all conflicts to become errors\n",
      "Warning message:\n",
      "\"пакет 'plotly' был собран под R версии 4.4.2\"\n",
      "\n",
      "Присоединяю пакет: 'plotly'\n",
      "\n",
      "\n",
      "Следующий объект скрыт от 'package:ggplot2':\n",
      "\n",
      "    last_plot\n",
      "\n",
      "\n",
      "Следующий объект скрыт от 'package:arrow':\n",
      "\n",
      "    schema\n",
      "\n",
      "\n",
      "Следующий объект скрыт от 'package:stats':\n",
      "\n",
      "    filter\n",
      "\n",
      "\n",
      "Следующий объект скрыт от 'package:graphics':\n",
      "\n",
      "    layout\n",
      "\n",
      "\n"
     ]
    }
   ],
   "source": [
    "library(arrow)\n",
    "library(stargazer)\n",
    "library(tidyverse)\n",
    "library(plotly)\n",
    "library(fixest)\n",
    "signif.code = signif.code = c(\"***\" = 0.001, \"**\" = 0.01, \"*\" = 0.05, \".\" = 0.10)"
   ]
  },
  {
   "cell_type": "markdown",
   "metadata": {},
   "source": [
    "## Сырые данные\n",
    "\n",
    "Под каждой регрессией вывожу summary с кластеризацией ошибок. В конце блока сравниваю робастность результата по используемым ошибкам."
   ]
  },
  {
   "cell_type": "code",
   "execution_count": 3,
   "metadata": {
    "vscode": {
     "languageId": "r"
    }
   },
   "outputs": [
    {
     "data": {
      "text/html": [
       "<table class=\"dataframe\">\n",
       "<caption>A tibble: 6 × 141</caption>\n",
       "<thead>\n",
       "\t<tr><th scope=col>t</th><th scope=col>i</th><th scope=col>j</th><th scope=col>pvi</th><th scope=col>country</th><th scope=col>t:r_i</th><th scope=col>cases</th><th scope=col>deaths</th><th scope=col>tests</th><th scope=col>C1M_School_closing</th><th scope=col>⋯</th><th scope=col>population_density_i</th><th scope=col>population_density_j</th><th scope=col>StringencyIndex_Average_i</th><th scope=col>StringencyIndex_Average_j</th><th scope=col>share_1_members_i</th><th scope=col>share_1_members_j</th><th scope=col>H6M_Facial_Coverings_i</th><th scope=col>H6M_Facial_Coverings_j</th><th scope=col>C8EV_International_travel_controls_i</th><th scope=col>C8EV_International_travel_controls_j</th></tr>\n",
       "\t<tr><th scope=col>&lt;int&gt;</th><th scope=col>&lt;chr&gt;</th><th scope=col>&lt;chr&gt;</th><th scope=col>&lt;dbl&gt;</th><th scope=col>&lt;chr&gt;</th><th scope=col>&lt;int&gt;</th><th scope=col>&lt;dbl&gt;</th><th scope=col>&lt;dbl&gt;</th><th scope=col>&lt;chr&gt;</th><th scope=col>&lt;dbl&gt;</th><th scope=col>⋯</th><th scope=col>&lt;dbl&gt;</th><th scope=col>&lt;dbl&gt;</th><th scope=col>&lt;dbl&gt;</th><th scope=col>&lt;dbl&gt;</th><th scope=col>&lt;dbl&gt;</th><th scope=col>&lt;dbl&gt;</th><th scope=col>&lt;dbl&gt;</th><th scope=col>&lt;dbl&gt;</th><th scope=col>&lt;dbl&gt;</th><th scope=col>&lt;dbl&gt;</th></tr>\n",
       "</thead>\n",
       "<tbody>\n",
       "\t<tr><td>2020</td><td>BGD</td><td>SVK</td><td>1.0461535</td><td>BGD</td><td>2020</td><td> 8.303453</td><td>0.121436464</td><td>NA</td><td>2.38524580</td><td>⋯</td><td>1277.54493</td><td>113.53634</td><td>66.01172</td><td>45.50587</td><td> 2.85</td><td>25.33</td><td>2.3606558</td><td>2.2459016</td><td>2.491803</td><td>2.128415</td></tr>\n",
       "\t<tr><td>2020</td><td>BRA</td><td>TCA</td><td>0.7051130</td><td>BRA</td><td>2020</td><td>97.838812</td><td>2.502044199</td><td>NA</td><td>2.41803288</td><td>⋯</td><td>  24.96499</td><td> 46.72211</td><td>57.50563</td><td>      NA</td><td>12.00</td><td>33.59</td><td>3.0601094</td><td>       NA</td><td>1.879781</td><td>      NA</td></tr>\n",
       "\t<tr><td>2021</td><td>BDI</td><td>TZA</td><td>3.0319083</td><td>BDI</td><td>2021</td><td> 5.386493</td><td>0.002493151</td><td>NA</td><td>0.07123288</td><td>⋯</td><td> 504.88633</td><td> 70.93070</td><td>16.09011</td><td>12.24427</td><td> 6.04</td><td> 9.63</td><td>1.2273972</td><td>0.7369863</td><td>1.383562</td><td>1.495890</td></tr>\n",
       "\t<tr><td>2020</td><td>IRL</td><td>GHA</td><td>1.8881887</td><td>IRL</td><td>2020</td><td>46.045442</td><td>1.205662983</td><td>NA</td><td>1.81693995</td><td>⋯</td><td>  72.36728</td><td>140.14771</td><td>56.54366</td><td>42.53210</td><td>22.02</td><td>21.48</td><td>0.9234973</td><td>2.3551912</td><td>1.502732</td><td>2.300546</td></tr>\n",
       "\t<tr><td>2020</td><td>IND</td><td>JOR</td><td>0.6454931</td><td>IND</td><td>2020</td><td>19.743646</td><td>0.286104972</td><td>NA</td><td>2.18579245</td><td>⋯</td><td> 471.75515</td><td>122.36444</td><td>64.76656</td><td>58.29060</td><td>   NA</td><td> 4.36</td><td>2.9371586</td><td>0.9508197</td><td>3.131148</td><td>2.877049</td></tr>\n",
       "\t<tr><td>2021</td><td>THA</td><td>UKR</td><td>1.7877377</td><td>THA</td><td>2021</td><td>84.168932</td><td>0.821890411</td><td>NA</td><td>2.04657531</td><td>⋯</td><td> 140.39682</td><td> 76.45606</td><td>55.72677</td><td>55.13792</td><td>21.59</td><td>24.96</td><td>3.2465754</td><td>2.5999999</td><td>2.591781</td><td>1.586301</td></tr>\n",
       "</tbody>\n",
       "</table>\n"
      ],
      "text/latex": [
       "A tibble: 6 × 141\n",
       "\\begin{tabular}{lllllllllllllllllllll}\n",
       " t & i & j & pvi & country & t:r\\_i & cases & deaths & tests & C1M\\_School\\_closing & ⋯ & population\\_density\\_i & population\\_density\\_j & StringencyIndex\\_Average\\_i & StringencyIndex\\_Average\\_j & share\\_1\\_members\\_i & share\\_1\\_members\\_j & H6M\\_Facial\\_Coverings\\_i & H6M\\_Facial\\_Coverings\\_j & C8EV\\_International\\_travel\\_controls\\_i & C8EV\\_International\\_travel\\_controls\\_j\\\\\n",
       " <int> & <chr> & <chr> & <dbl> & <chr> & <int> & <dbl> & <dbl> & <chr> & <dbl> & ⋯ & <dbl> & <dbl> & <dbl> & <dbl> & <dbl> & <dbl> & <dbl> & <dbl> & <dbl> & <dbl>\\\\\n",
       "\\hline\n",
       "\t 2020 & BGD & SVK & 1.0461535 & BGD & 2020 &  8.303453 & 0.121436464 & NA & 2.38524580 & ⋯ & 1277.54493 & 113.53634 & 66.01172 & 45.50587 &  2.85 & 25.33 & 2.3606558 & 2.2459016 & 2.491803 & 2.128415\\\\\n",
       "\t 2020 & BRA & TCA & 0.7051130 & BRA & 2020 & 97.838812 & 2.502044199 & NA & 2.41803288 & ⋯ &   24.96499 &  46.72211 & 57.50563 &       NA & 12.00 & 33.59 & 3.0601094 &        NA & 1.879781 &       NA\\\\\n",
       "\t 2021 & BDI & TZA & 3.0319083 & BDI & 2021 &  5.386493 & 0.002493151 & NA & 0.07123288 & ⋯ &  504.88633 &  70.93070 & 16.09011 & 12.24427 &  6.04 &  9.63 & 1.2273972 & 0.7369863 & 1.383562 & 1.495890\\\\\n",
       "\t 2020 & IRL & GHA & 1.8881887 & IRL & 2020 & 46.045442 & 1.205662983 & NA & 1.81693995 & ⋯ &   72.36728 & 140.14771 & 56.54366 & 42.53210 & 22.02 & 21.48 & 0.9234973 & 2.3551912 & 1.502732 & 2.300546\\\\\n",
       "\t 2020 & IND & JOR & 0.6454931 & IND & 2020 & 19.743646 & 0.286104972 & NA & 2.18579245 & ⋯ &  471.75515 & 122.36444 & 64.76656 & 58.29060 &    NA &  4.36 & 2.9371586 & 0.9508197 & 3.131148 & 2.877049\\\\\n",
       "\t 2021 & THA & UKR & 1.7877377 & THA & 2021 & 84.168932 & 0.821890411 & NA & 2.04657531 & ⋯ &  140.39682 &  76.45606 & 55.72677 & 55.13792 & 21.59 & 24.96 & 3.2465754 & 2.5999999 & 2.591781 & 1.586301\\\\\n",
       "\\end{tabular}\n"
      ],
      "text/markdown": [
       "\n",
       "A tibble: 6 × 141\n",
       "\n",
       "| t &lt;int&gt; | i &lt;chr&gt; | j &lt;chr&gt; | pvi &lt;dbl&gt; | country &lt;chr&gt; | t:r_i &lt;int&gt; | cases &lt;dbl&gt; | deaths &lt;dbl&gt; | tests &lt;chr&gt; | C1M_School_closing &lt;dbl&gt; | ⋯ ⋯ | population_density_i &lt;dbl&gt; | population_density_j &lt;dbl&gt; | StringencyIndex_Average_i &lt;dbl&gt; | StringencyIndex_Average_j &lt;dbl&gt; | share_1_members_i &lt;dbl&gt; | share_1_members_j &lt;dbl&gt; | H6M_Facial_Coverings_i &lt;dbl&gt; | H6M_Facial_Coverings_j &lt;dbl&gt; | C8EV_International_travel_controls_i &lt;dbl&gt; | C8EV_International_travel_controls_j &lt;dbl&gt; |\n",
       "|---|---|---|---|---|---|---|---|---|---|---|---|---|---|---|---|---|---|---|---|---|\n",
       "| 2020 | BGD | SVK | 1.0461535 | BGD | 2020 |  8.303453 | 0.121436464 | NA | 2.38524580 | ⋯ | 1277.54493 | 113.53634 | 66.01172 | 45.50587 |  2.85 | 25.33 | 2.3606558 | 2.2459016 | 2.491803 | 2.128415 |\n",
       "| 2020 | BRA | TCA | 0.7051130 | BRA | 2020 | 97.838812 | 2.502044199 | NA | 2.41803288 | ⋯ |   24.96499 |  46.72211 | 57.50563 |       NA | 12.00 | 33.59 | 3.0601094 |        NA | 1.879781 |       NA |\n",
       "| 2021 | BDI | TZA | 3.0319083 | BDI | 2021 |  5.386493 | 0.002493151 | NA | 0.07123288 | ⋯ |  504.88633 |  70.93070 | 16.09011 | 12.24427 |  6.04 |  9.63 | 1.2273972 | 0.7369863 | 1.383562 | 1.495890 |\n",
       "| 2020 | IRL | GHA | 1.8881887 | IRL | 2020 | 46.045442 | 1.205662983 | NA | 1.81693995 | ⋯ |   72.36728 | 140.14771 | 56.54366 | 42.53210 | 22.02 | 21.48 | 0.9234973 | 2.3551912 | 1.502732 | 2.300546 |\n",
       "| 2020 | IND | JOR | 0.6454931 | IND | 2020 | 19.743646 | 0.286104972 | NA | 2.18579245 | ⋯ |  471.75515 | 122.36444 | 64.76656 | 58.29060 |    NA |  4.36 | 2.9371586 | 0.9508197 | 3.131148 | 2.877049 |\n",
       "| 2021 | THA | UKR | 1.7877377 | THA | 2021 | 84.168932 | 0.821890411 | NA | 2.04657531 | ⋯ |  140.39682 |  76.45606 | 55.72677 | 55.13792 | 21.59 | 24.96 | 3.2465754 | 2.5999999 | 2.591781 | 1.586301 |\n",
       "\n"
      ],
      "text/plain": [
       "  t    i   j   pvi       country t:r_i cases     deaths      tests\n",
       "1 2020 BGD SVK 1.0461535 BGD     2020   8.303453 0.121436464 NA   \n",
       "2 2020 BRA TCA 0.7051130 BRA     2020  97.838812 2.502044199 NA   \n",
       "3 2021 BDI TZA 3.0319083 BDI     2021   5.386493 0.002493151 NA   \n",
       "4 2020 IRL GHA 1.8881887 IRL     2020  46.045442 1.205662983 NA   \n",
       "5 2020 IND JOR 0.6454931 IND     2020  19.743646 0.286104972 NA   \n",
       "6 2021 THA UKR 1.7877377 THA     2021  84.168932 0.821890411 NA   \n",
       "  C1M_School_closing ⋯ population_density_i population_density_j\n",
       "1 2.38524580         ⋯ 1277.54493           113.53634           \n",
       "2 2.41803288         ⋯   24.96499            46.72211           \n",
       "3 0.07123288         ⋯  504.88633            70.93070           \n",
       "4 1.81693995         ⋯   72.36728           140.14771           \n",
       "5 2.18579245         ⋯  471.75515           122.36444           \n",
       "6 2.04657531         ⋯  140.39682            76.45606           \n",
       "  StringencyIndex_Average_i StringencyIndex_Average_j share_1_members_i\n",
       "1 66.01172                  45.50587                   2.85            \n",
       "2 57.50563                        NA                  12.00            \n",
       "3 16.09011                  12.24427                   6.04            \n",
       "4 56.54366                  42.53210                  22.02            \n",
       "5 64.76656                  58.29060                     NA            \n",
       "6 55.72677                  55.13792                  21.59            \n",
       "  share_1_members_j H6M_Facial_Coverings_i H6M_Facial_Coverings_j\n",
       "1 25.33             2.3606558              2.2459016             \n",
       "2 33.59             3.0601094                     NA             \n",
       "3  9.63             1.2273972              0.7369863             \n",
       "4 21.48             0.9234973              2.3551912             \n",
       "5  4.36             2.9371586              0.9508197             \n",
       "6 24.96             3.2465754              2.5999999             \n",
       "  C8EV_International_travel_controls_i C8EV_International_travel_controls_j\n",
       "1 2.491803                             2.128415                            \n",
       "2 1.879781                                   NA                            \n",
       "3 1.383562                             1.495890                            \n",
       "4 1.502732                             2.300546                            \n",
       "5 3.131148                             2.877049                            \n",
       "6 2.591781                             1.586301                            "
      ]
     },
     "metadata": {},
     "output_type": "display_data"
    }
   ],
   "source": [
    "# Скачиваю данные и переназываю переменные\n",
    "df = read_parquet('../data/processed_data/trade_pvi_hs0_x_covid.parquet.gzip')\n",
    "# Переменная pair нужна, чтобы считать НАС стандартные ошибки\n",
    "df = df %>% mutate(pair = paste(i, j))\n",
    "\n",
    "df$deaths_i = df$deaths\n",
    "df$deaths_j = df$`deaths:r_j`\n",
    "\n",
    "df$median_age_i = df$median_age\n",
    "df$median_age_j = df$`median_age:r_j`\n",
    "\n",
    "df$average_surface_temperature_i = df$average_surface_temperature\n",
    "df$average_surface_temperature_j = df$`average_surface_temperature:r_j`\n",
    "\n",
    "df$C1M_School_closing_i = df$C1M_School_closing\n",
    "df$C1M_School_closing_j = df$`C1M_School_closing:r_j`\n",
    "\n",
    "df$population_density_i = df$population_density\n",
    "df$population_density_j = df$`population_density:r_j`\n",
    "\n",
    "df$StringencyIndex_Average_i = df$StringencyIndex_Average\n",
    "df$StringencyIndex_Average_j = df$`StringencyIndex_Average:r_j`\n",
    "\n",
    "df$share_1_members_i = df$share_1_members\n",
    "df$share_1_members_j = df$`share_1_members:r_j`\n",
    "\n",
    "df$H6M_Facial_Coverings_i = df$H6M_Facial_Coverings\n",
    "df$H6M_Facial_Coverings_j = df$`H6M_Facial_Coverings:r_j`\n",
    "\n",
    "df$C8EV_International_travel_controls_i = df$C8EV_International_travel_controls\n",
    "df$C8EV_International_travel_controls_j = df$`C8EV_International_travel_controls:r_j`\n",
    "df %>% head()"
   ]
  },
  {
   "cell_type": "code",
   "execution_count": 4,
   "metadata": {
    "vscode": {
     "languageId": "r"
    }
   },
   "outputs": [],
   "source": [
    "df$C3M_Cancel_public_events_i = df$C3M_Cancel_public_events\n",
    "df$C3M_Cancel_public_events_j = df$`C3M_Cancel_public_events:r_j`"
   ]
  },
  {
   "cell_type": "code",
   "execution_count": 5,
   "metadata": {
    "vscode": {
     "languageId": "r"
    }
   },
   "outputs": [
    {
     "name": "stderr",
     "output_type": "stream",
     "text": [
      "NOTE: 13,955 observations removed because of NA and infinite values (LHS: 645, RHS: 13,568).\n",
      "\n"
     ]
    },
    {
     "data": {
      "text/plain": [
       "OLS estimation, Dep. Var.: log(pvi)\n",
       "Observations: 56,352\n",
       "Fixed-effects: i: 175,  j: 175,  year: 3\n",
       "Standard-errors: Clustered (i & j) \n",
       "                                      Estimate Std. Error   t value Pr(>|t|)\n",
       "log(deaths_i)                        -0.003444   0.005978 -0.576110 0.565285\n",
       "log(deaths_j)                        -0.008151   0.006454 -1.262939 0.208301\n",
       "C8EV_International_travel_controls_i -0.019261   0.015293 -1.259528 0.209527\n",
       "C8EV_International_travel_controls_j -0.031013   0.016185 -1.916170 0.056983\n",
       "                                        \n",
       "log(deaths_i)                           \n",
       "log(deaths_j)                           \n",
       "C8EV_International_travel_controls_i    \n",
       "C8EV_International_travel_controls_j .  \n",
       "---\n",
       "Signif. codes:  0 '***' 0.001 '**' 0.01 '*' 0.05 '.' 0.1 ' ' 1\n",
       "RMSE: 1.14948     Adj. R2: 0.066016\n",
       "                Within R2: 1.691e-4"
      ]
     },
     "metadata": {},
     "output_type": "display_data"
    }
   ],
   "source": [
    "# FE (т.е. оценка на панельных данных с использованием внутригрупповой дисперсии)\n",
    "fe_no_iv = feols(log(pvi) ~ log(deaths_i) + log(deaths_j) +\n",
    " C8EV_International_travel_controls_i + C8EV_International_travel_controls_j| i + j + year,\n",
    " data = df)\n",
    "fe_no_iv %>% summary(cluster = ~ i+j)"
   ]
  },
  {
   "cell_type": "code",
   "execution_count": 6,
   "metadata": {
    "vscode": {
     "languageId": "r"
    }
   },
   "outputs": [
    {
     "name": "stderr",
     "output_type": "stream",
     "text": [
      "NOTE: 13,955 observations removed because of NA and infinite values (LHS: 645, RHS: 13,568).\n",
      "\n"
     ]
    },
    {
     "data": {
      "text/plain": [
       "OLS estimation, Dep. Var.: log(pvi)\n",
       "Observations: 56,352\n",
       "Fixed-effects: i: 175,  j: 175\n",
       "Standard-errors: Clustered (i & j) \n",
       "                                               Estimate Std. Error   t value\n",
       "year2021                                      -0.083139   0.107813 -0.771142\n",
       "year2022                                      -0.039314   0.121528 -0.323500\n",
       "year2020:log(deaths_i)                        -0.002528   0.006974 -0.362575\n",
       "year2021:log(deaths_i)                        -0.005490   0.006618 -0.829478\n",
       "year2022:log(deaths_i)                        -0.004427   0.008075 -0.548191\n",
       "year2020:log(deaths_j)                        -0.017383   0.007751 -2.242750\n",
       "year2021:log(deaths_j)                        -0.011549   0.009057 -1.275226\n",
       "year2022:log(deaths_j)                        -0.000355   0.008111 -0.043791\n",
       "year2020:C8EV_International_travel_controls_i -0.039234   0.029757 -1.318511\n",
       "year2021:C8EV_International_travel_controls_i -0.005611   0.015257 -0.367740\n",
       "year2022:C8EV_International_travel_controls_i -0.040231   0.044737 -0.899290\n",
       "year2020:C8EV_International_travel_controls_j -0.064293   0.035122 -1.830578\n",
       "year2021:C8EV_International_travel_controls_j -0.012468   0.014228 -0.876326\n",
       "year2022:C8EV_International_travel_controls_j -0.014656   0.041396 -0.354059\n",
       "                                              Pr(>|t|)    \n",
       "year2021                                      0.441668    \n",
       "year2022                                      0.746705    \n",
       "year2020:log(deaths_i)                        0.717362    \n",
       "year2021:log(deaths_i)                        0.407970    \n",
       "year2022:log(deaths_i)                        0.584264    \n",
       "year2020:log(deaths_j)                        0.026175 *  \n",
       "year2021:log(deaths_j)                        0.203929    \n",
       "year2022:log(deaths_j)                        0.965121    \n",
       "year2020:C8EV_International_travel_controls_i 0.189065    \n",
       "year2021:C8EV_International_travel_controls_i 0.713514    \n",
       "year2022:C8EV_International_travel_controls_i 0.369741    \n",
       "year2020:C8EV_International_travel_controls_j 0.068874 .  \n",
       "year2021:C8EV_International_travel_controls_j 0.382061    \n",
       "year2022:C8EV_International_travel_controls_j 0.723723    \n",
       "---\n",
       "Signif. codes:  0 '***' 0.001 '**' 0.01 '*' 0.05 '.' 0.1 ' ' 1\n",
       "RMSE: 1.14932     Adj. R2: 0.066143\n",
       "                Within R2: 0.00341 "
      ]
     },
     "metadata": {},
     "output_type": "display_data"
    }
   ],
   "source": [
    "# Добавляю гетерогенность эффектов во времени\n",
    "heterogenous_fe = feols(log(pvi) ~ year/log(deaths_i) + year/log(deaths_j) +\n",
    "year/C8EV_International_travel_controls_i + year/C8EV_International_travel_controls_j|\n",
    "i + j ,\n",
    "data = df)\n",
    "heterogenous_fe %>% summary(cluster = ~ i+j)"
   ]
  },
  {
   "cell_type": "markdown",
   "metadata": {},
   "source": [
    "### Инструментальные переменные на панельных данных"
   ]
  },
  {
   "cell_type": "code",
   "execution_count": 7,
   "metadata": {
    "vscode": {
     "languageId": "r"
    }
   },
   "outputs": [
    {
     "name": "stderr",
     "output_type": "stream",
     "text": [
      "NOTE: 14,291 observations removed because of NA and infinite values (LHS: 645, RHS: 9,802, IV: 6,067/10,661).\n",
      "\n"
     ]
    },
    {
     "data": {
      "text/plain": [
       "TSLS estimation - Dep. Var.: log(pvi)\n",
       "                  Endo.    : log(deaths_i), log(deaths_j)\n",
       "                  Instr.   : C1M_School_closing_i, C1M_School_closing_j, median_age_i, median_age_j, population_density_i, population_density_j\n",
       "Second stage: Dep. Var.: log(pvi)\n",
       "Observations: 56,016\n",
       "Fixed-effects: year: 3,  i: 175,  j: 175\n",
       "Standard-errors: Clustered (i & j) \n",
       "                                      Estimate Std. Error   t value Pr(>|t|) \n",
       "fit_log(deaths_i)                    -0.016405   0.025204 -0.650906  0.51597 \n",
       "fit_log(deaths_j)                    -0.009376   0.021768 -0.430749  0.66718 \n",
       "C8EV_International_travel_controls_i -0.024592   0.016748 -1.468357  0.14381 \n",
       "C8EV_International_travel_controls_j -0.028803   0.017509 -1.645023  0.10177 \n",
       "---\n",
       "Signif. codes:  0 '***' 0.001 '**' 0.01 '*' 0.05 '.' 0.1 ' ' 1\n",
       "RMSE: 1.14939     Adj. R2: 0.065875\n",
       "                Within R2: 7.592e-5\n",
       "F-test (1st stage), log(deaths_i): stat = 945.9     , p < 2.2e-16 , on 6 and 55,659 DoF.\n",
       "F-test (1st stage), log(deaths_j): stat = 913.2     , p < 2.2e-16 , on 6 and 55,659 DoF.\n",
       "                       Wu-Hausman: stat =   0.231592, p = 0.79327 , on 2 and 55,659 DoF.\n",
       "                           Sargan: stat =   4.63976 , p = 0.326296, on 4 DoF."
      ]
     },
     "metadata": {},
     "output_type": "display_data"
    }
   ],
   "source": [
    "# Спецификация с фиксированными эффектами, куда я добавил инструменты, чтобы убрать потенциальную двустороннюю связь. \n",
    "\n",
    "fe_iv = feols(log(pvi) ~  1 +\n",
    " C8EV_International_travel_controls_i + C8EV_International_travel_controls_j | year+i+j|\n",
    " log(deaths_i) + log(deaths_j) ~ \n",
    "# H6M_Facial_Coverings_i+H6M_Facial_Coverings_j\n",
    "# +\n",
    "C1M_School_closing_i+C1M_School_closing_j\n",
    "+\n",
    "median_age_i + median_age_j\n",
    "+\n",
    "population_density_i + population_density_j\n",
    "# +\n",
    "# average_surface_temperature_i + average_surface_temperature_j # Добавляет пропусков\n",
    "\n",
    " ,\n",
    " data = df\n",
    " )\n",
    "fe_iv %>% summary(cluster = ~ i+j)"
   ]
  },
  {
   "cell_type": "markdown",
   "metadata": {},
   "source": [
    "### Точечная оценка руками"
   ]
  },
  {
   "cell_type": "code",
   "execution_count": 8,
   "metadata": {
    "vscode": {
     "languageId": "r"
    }
   },
   "outputs": [
    {
     "name": "stdout",
     "output_type": "stream",
     "text": [
      "\u001b[90m# A tibble: 1 × 1\u001b[39m\n",
      "      n\n",
      "  \u001b[3m\u001b[90m<int>\u001b[39m\u001b[23m\n",
      "\u001b[90m1\u001b[39m   660\n",
      "\u001b[90m# A tibble: 1 × 1\u001b[39m\n",
      "      n\n",
      "  \u001b[3m\u001b[90m<int>\u001b[39m\u001b[23m\n",
      "\u001b[90m1\u001b[39m   660\n"
     ]
    }
   ],
   "source": [
    "# Т.к. данные корректные, это одно и то же\n",
    "df %>% distinct(t, i, deaths_i, C8EV_International_travel_controls_i)  %>% count() %>% print()\n",
    "df %>% distinct(t, i)  %>% count() %>% print()"
   ]
  },
  {
   "cell_type": "code",
   "execution_count": 9,
   "metadata": {
    "vscode": {
     "languageId": "r"
    }
   },
   "outputs": [
    {
     "data": {
      "text/html": [
       "<table class=\"dataframe\">\n",
       "<caption>A tibble: 6 × 9</caption>\n",
       "<thead>\n",
       "\t<tr><th scope=col>year</th><th scope=col>i</th><th scope=col>deaths_i</th><th scope=col>C8EV_International_travel_controls_i</th><th scope=col>C1M_School_closing_i</th><th scope=col>median_age_i</th><th scope=col>population_density_i</th><th scope=col>H6M_Facial_Coverings</th><th scope=col>C3M_Cancel_public_events</th></tr>\n",
       "\t<tr><th scope=col>&lt;chr&gt;</th><th scope=col>&lt;chr&gt;</th><th scope=col>&lt;dbl&gt;</th><th scope=col>&lt;dbl&gt;</th><th scope=col>&lt;dbl&gt;</th><th scope=col>&lt;dbl&gt;</th><th scope=col>&lt;dbl&gt;</th><th scope=col>&lt;dbl&gt;</th><th scope=col>&lt;dbl&gt;</th></tr>\n",
       "</thead>\n",
       "<tbody>\n",
       "\t<tr><td>2020</td><td>ABW</td><td>1.20447514</td><td>2.051913</td><td>1.385246</td><td>40.399</td><td>603.26111</td><td>1.054645</td><td>1.4153005</td></tr>\n",
       "\t<tr><td>2020</td><td>AFG</td><td>0.14687845</td><td>1.461749</td><td>1.748634</td><td>16.411</td><td> 59.90062</td><td>1.743169</td><td>0.9125683</td></tr>\n",
       "\t<tr><td>2020</td><td>AGO</td><td>0.03096685</td><td>3.248634</td><td>2.079235</td><td>16.321</td><td> 26.83174</td><td>2.467213</td><td>1.3005464</td></tr>\n",
       "\t<tr><td>2020</td><td>AIA</td><td>0.00000000</td><td>      NA</td><td>      NA</td><td>36.071</td><td>       NA</td><td>      NA</td><td>       NA</td></tr>\n",
       "\t<tr><td>2020</td><td>ALB</td><td>1.10790055</td><td>1.836066</td><td>1.653005</td><td>35.127</td><td>103.57113</td><td>1.991803</td><td>1.6284153</td></tr>\n",
       "\t<tr><td>2020</td><td>AND</td><td>2.87596685</td><td>1.557377</td><td>1.229508</td><td>42.125</td><td>164.63830</td><td>2.081967</td><td>1.1202186</td></tr>\n",
       "</tbody>\n",
       "</table>\n"
      ],
      "text/latex": [
       "A tibble: 6 × 9\n",
       "\\begin{tabular}{lllllllll}\n",
       " year & i & deaths\\_i & C8EV\\_International\\_travel\\_controls\\_i & C1M\\_School\\_closing\\_i & median\\_age\\_i & population\\_density\\_i & H6M\\_Facial\\_Coverings & C3M\\_Cancel\\_public\\_events\\\\\n",
       " <chr> & <chr> & <dbl> & <dbl> & <dbl> & <dbl> & <dbl> & <dbl> & <dbl>\\\\\n",
       "\\hline\n",
       "\t 2020 & ABW & 1.20447514 & 2.051913 & 1.385246 & 40.399 & 603.26111 & 1.054645 & 1.4153005\\\\\n",
       "\t 2020 & AFG & 0.14687845 & 1.461749 & 1.748634 & 16.411 &  59.90062 & 1.743169 & 0.9125683\\\\\n",
       "\t 2020 & AGO & 0.03096685 & 3.248634 & 2.079235 & 16.321 &  26.83174 & 2.467213 & 1.3005464\\\\\n",
       "\t 2020 & AIA & 0.00000000 &       NA &       NA & 36.071 &        NA &       NA &        NA\\\\\n",
       "\t 2020 & ALB & 1.10790055 & 1.836066 & 1.653005 & 35.127 & 103.57113 & 1.991803 & 1.6284153\\\\\n",
       "\t 2020 & AND & 2.87596685 & 1.557377 & 1.229508 & 42.125 & 164.63830 & 2.081967 & 1.1202186\\\\\n",
       "\\end{tabular}\n"
      ],
      "text/markdown": [
       "\n",
       "A tibble: 6 × 9\n",
       "\n",
       "| year &lt;chr&gt; | i &lt;chr&gt; | deaths_i &lt;dbl&gt; | C8EV_International_travel_controls_i &lt;dbl&gt; | C1M_School_closing_i &lt;dbl&gt; | median_age_i &lt;dbl&gt; | population_density_i &lt;dbl&gt; | H6M_Facial_Coverings &lt;dbl&gt; | C3M_Cancel_public_events &lt;dbl&gt; |\n",
       "|---|---|---|---|---|---|---|---|---|\n",
       "| 2020 | ABW | 1.20447514 | 2.051913 | 1.385246 | 40.399 | 603.26111 | 1.054645 | 1.4153005 |\n",
       "| 2020 | AFG | 0.14687845 | 1.461749 | 1.748634 | 16.411 |  59.90062 | 1.743169 | 0.9125683 |\n",
       "| 2020 | AGO | 0.03096685 | 3.248634 | 2.079235 | 16.321 |  26.83174 | 2.467213 | 1.3005464 |\n",
       "| 2020 | AIA | 0.00000000 |       NA |       NA | 36.071 |        NA |       NA |        NA |\n",
       "| 2020 | ALB | 1.10790055 | 1.836066 | 1.653005 | 35.127 | 103.57113 | 1.991803 | 1.6284153 |\n",
       "| 2020 | AND | 2.87596685 | 1.557377 | 1.229508 | 42.125 | 164.63830 | 2.081967 | 1.1202186 |\n",
       "\n"
      ],
      "text/plain": [
       "  year i   deaths_i   C8EV_International_travel_controls_i C1M_School_closing_i\n",
       "1 2020 ABW 1.20447514 2.051913                             1.385246            \n",
       "2 2020 AFG 0.14687845 1.461749                             1.748634            \n",
       "3 2020 AGO 0.03096685 3.248634                             2.079235            \n",
       "4 2020 AIA 0.00000000       NA                                   NA            \n",
       "5 2020 ALB 1.10790055 1.836066                             1.653005            \n",
       "6 2020 AND 2.87596685 1.557377                             1.229508            \n",
       "  median_age_i population_density_i H6M_Facial_Coverings\n",
       "1 40.399       603.26111            1.054645            \n",
       "2 16.411        59.90062            1.743169            \n",
       "3 16.321        26.83174            2.467213            \n",
       "4 36.071              NA                  NA            \n",
       "5 35.127       103.57113            1.991803            \n",
       "6 42.125       164.63830            2.081967            \n",
       "  C3M_Cancel_public_events\n",
       "1 1.4153005               \n",
       "2 0.9125683               \n",
       "3 1.3005464               \n",
       "4        NA               \n",
       "5 1.6284153               \n",
       "6 1.1202186               "
      ]
     },
     "metadata": {},
     "output_type": "display_data"
    }
   ],
   "source": [
    "# Дистинкт он вручную\n",
    "iv_df = df %>% group_by(year, i) %>% \n",
    "summarise(deaths_i = min(deaths_i),\n",
    "          C8EV_International_travel_controls_i = min(C8EV_International_travel_controls_i),\n",
    "          C1M_School_closing_i = min(C1M_School_closing_i),\n",
    "          median_age_i = min(median_age_i),\n",
    "          population_density_i = min(population_density_i),\n",
    "          H6M_Facial_Coverings = min(H6M_Facial_Coverings),\n",
    "          C3M_Cancel_public_events = min(C3M_Cancel_public_events),\n",
    "          .groups = 'drop') \n",
    "head(iv_df)"
   ]
  },
  {
   "cell_type": "code",
   "execution_count": 10,
   "metadata": {
    "vscode": {
     "languageId": "r"
    }
   },
   "outputs": [
    {
     "name": "stderr",
     "output_type": "stream",
     "text": [
      "NOTE: 156 observations removed because of NA and infinite values (LHS: 74, RHS: 130).\n",
      "\n"
     ]
    },
    {
     "name": "stdout",
     "output_type": "stream",
     "text": [
      "Wald test, H0: joint nullity of C1M_School_closing_i, median_age_i and population_density_i\n",
      " stat = 14.0, p-value = 1.385e-8, on 3 and 323 DoF, VCOV: Clustered (i)."
     ]
    },
    {
     "data": {
      "text/plain": [
       "OLS estimation, Dep. Var.: log(deaths_i)\n",
       "Observations: 504\n",
       "Fixed-effects: year: 3,  i: 175\n",
       "Standard-errors: Clustered (i) \n",
       "                                      Estimate Std. Error  t value   Pr(>|t|)\n",
       "C8EV_International_travel_controls_i -0.612210   0.126406 -4.84322 2.8097e-06\n",
       "C1M_School_closing_i                  0.552634   0.142851  3.86862 1.5452e-04\n",
       "median_age_i                          0.722052   0.223577  3.22955 1.4824e-03\n",
       "population_density_i                 -0.002437   0.001035 -2.35422 1.9677e-02\n",
       "                                        \n",
       "C8EV_International_travel_controls_i ***\n",
       "C1M_School_closing_i                 ***\n",
       "median_age_i                         ** \n",
       "population_density_i                 *  \n",
       "---\n",
       "Signif. codes:  0 '***' 0.001 '**' 0.01 '*' 0.05 '.' 0.1 ' ' 1\n",
       "RMSE: 0.793277     Adj. R2: 0.784621\n",
       "                 Within R2: 0.123806"
      ]
     },
     "metadata": {},
     "output_type": "display_data"
    }
   ],
   "source": [
    "# Оцениваю регрессию первого шага\n",
    "set.seed(123)\n",
    "first_stage = feols(log(deaths_i) ~ C8EV_International_travel_controls_i + \n",
    "C1M_School_closing_i + \n",
    "median_age_i + \n",
    "population_density_i\n",
    "  | year+i,\n",
    " data = iv_df)\n",
    "\n",
    "first_stage %>% wald(.,keep = 'C1M_School_closing_i|median_age_i|population_density_i', vcov = ~i)  # Проверка релевантности инструментов\n",
    "first_stage  %>% summary(cluster = ~ i)"
   ]
  },
  {
   "cell_type": "code",
   "execution_count": 11,
   "metadata": {
    "vscode": {
     "languageId": "r"
    }
   },
   "outputs": [
    {
     "data": {
      "text/html": [
       "<table class=\"dataframe\">\n",
       "<caption>A tibble: 6 × 3</caption>\n",
       "<thead>\n",
       "\t<tr><th scope=col>year</th><th scope=col>i</th><th scope=col>predicted_log_deaths_i</th></tr>\n",
       "\t<tr><th scope=col>&lt;chr&gt;</th><th scope=col>&lt;chr&gt;</th><th scope=col>&lt;dbl&gt;</th></tr>\n",
       "</thead>\n",
       "<tbody>\n",
       "\t<tr><td>2020</td><td>ABW</td><td> 0.40567115</td></tr>\n",
       "\t<tr><td>2020</td><td>AFG</td><td>-1.99526479</td></tr>\n",
       "\t<tr><td>2020</td><td>AGO</td><td>-3.32115465</td></tr>\n",
       "\t<tr><td>2020</td><td>ALB</td><td>-0.66682830</td></tr>\n",
       "\t<tr><td>2020</td><td>AND</td><td> 0.03465424</td></tr>\n",
       "\t<tr><td>2020</td><td>ARE</td><td>-2.10135519</td></tr>\n",
       "</tbody>\n",
       "</table>\n"
      ],
      "text/latex": [
       "A tibble: 6 × 3\n",
       "\\begin{tabular}{lll}\n",
       " year & i & predicted\\_log\\_deaths\\_i\\\\\n",
       " <chr> & <chr> & <dbl>\\\\\n",
       "\\hline\n",
       "\t 2020 & ABW &  0.40567115\\\\\n",
       "\t 2020 & AFG & -1.99526479\\\\\n",
       "\t 2020 & AGO & -3.32115465\\\\\n",
       "\t 2020 & ALB & -0.66682830\\\\\n",
       "\t 2020 & AND &  0.03465424\\\\\n",
       "\t 2020 & ARE & -2.10135519\\\\\n",
       "\\end{tabular}\n"
      ],
      "text/markdown": [
       "\n",
       "A tibble: 6 × 3\n",
       "\n",
       "| year &lt;chr&gt; | i &lt;chr&gt; | predicted_log_deaths_i &lt;dbl&gt; |\n",
       "|---|---|---|\n",
       "| 2020 | ABW |  0.40567115 |\n",
       "| 2020 | AFG | -1.99526479 |\n",
       "| 2020 | AGO | -3.32115465 |\n",
       "| 2020 | ALB | -0.66682830 |\n",
       "| 2020 | AND |  0.03465424 |\n",
       "| 2020 | ARE | -2.10135519 |\n",
       "\n"
      ],
      "text/plain": [
       "  year i   predicted_log_deaths_i\n",
       "1 2020 ABW  0.40567115           \n",
       "2 2020 AFG -1.99526479           \n",
       "3 2020 AGO -3.32115465           \n",
       "4 2020 ALB -0.66682830           \n",
       "5 2020 AND  0.03465424           \n",
       "6 2020 ARE -2.10135519           "
      ]
     },
     "metadata": {},
     "output_type": "display_data"
    }
   ],
   "source": [
    "# Предикт регрессии первого шага\n",
    "new_iv_df = iv_df[, c('i', 'year', 'deaths_i', 'C8EV_International_travel_controls_i', 'C1M_School_closing_i',\n",
    "                      'median_age_i', 'population_density_i')]  %>% drop_na()  %>% filter(deaths_i > 0)  %>% select(year, i) # Т.к. логарифм нуля это бесконечность\n",
    "new_iv_df$predicted_log_deaths_i = first_stage %>% predict()\n",
    "new_iv_df %>% head()"
   ]
  },
  {
   "cell_type": "code",
   "execution_count": 12,
   "metadata": {
    "vscode": {
     "languageId": "r"
    }
   },
   "outputs": [
    {
     "data": {
      "text/html": [
       "<table class=\"dataframe\">\n",
       "<caption>A data.frame: 6 × 145</caption>\n",
       "<thead>\n",
       "\t<tr><th></th><th scope=col>year</th><th scope=col>j</th><th scope=col>i</th><th scope=col>t</th><th scope=col>pvi</th><th scope=col>country</th><th scope=col>t:r_i</th><th scope=col>cases</th><th scope=col>deaths</th><th scope=col>tests</th><th scope=col>⋯</th><th scope=col>share_1_members_i</th><th scope=col>share_1_members_j</th><th scope=col>H6M_Facial_Coverings_i</th><th scope=col>H6M_Facial_Coverings_j</th><th scope=col>C8EV_International_travel_controls_i</th><th scope=col>C8EV_International_travel_controls_j</th><th scope=col>C3M_Cancel_public_events_i</th><th scope=col>C3M_Cancel_public_events_j</th><th scope=col>predicted_log_deaths_i</th><th scope=col>predicted_log_deaths_j</th></tr>\n",
       "\t<tr><th></th><th scope=col>&lt;chr&gt;</th><th scope=col>&lt;chr&gt;</th><th scope=col>&lt;chr&gt;</th><th scope=col>&lt;int&gt;</th><th scope=col>&lt;dbl&gt;</th><th scope=col>&lt;chr&gt;</th><th scope=col>&lt;int&gt;</th><th scope=col>&lt;dbl&gt;</th><th scope=col>&lt;dbl&gt;</th><th scope=col>&lt;chr&gt;</th><th scope=col>⋯</th><th scope=col>&lt;dbl&gt;</th><th scope=col>&lt;dbl&gt;</th><th scope=col>&lt;dbl&gt;</th><th scope=col>&lt;dbl&gt;</th><th scope=col>&lt;dbl&gt;</th><th scope=col>&lt;dbl&gt;</th><th scope=col>&lt;dbl&gt;</th><th scope=col>&lt;dbl&gt;</th><th scope=col>&lt;dbl&gt;</th><th scope=col>&lt;dbl&gt;</th></tr>\n",
       "</thead>\n",
       "<tbody>\n",
       "\t<tr><th scope=row>1</th><td>2020</td><td>ABW</td><td>SWE</td><td>2020</td><td>0.4421886</td><td>SWE</td><td>2020</td><td>110.13782</td><td>2.455691</td><td>NA</td><td>⋯</td><td>   NA</td><td>21.37</td><td>0.000000</td><td>1.054645</td><td>2.500000</td><td>2.051913</td><td>1.565574</td><td>1.4153</td><td> 0.03743995</td><td>0.4056712</td></tr>\n",
       "\t<tr><th scope=row>2</th><td>2020</td><td>ABW</td><td>AUT</td><td>2020</td><td>0.4519360</td><td>AUT</td><td>2020</td><td>105.05586</td><td>2.148066</td><td>NA</td><td>⋯</td><td>36.29</td><td>21.37</td><td>1.786885</td><td>1.054645</td><td>2.442623</td><td>2.051913</td><td>1.333333</td><td>1.4153</td><td> 0.05819797</td><td>0.4056712</td></tr>\n",
       "\t<tr><th scope=row>3</th><td>2020</td><td>ABW</td><td>CZE</td><td>2020</td><td>0.7562766</td><td>CZE</td><td>2020</td><td>174.71884</td><td>2.942072</td><td>NA</td><td>⋯</td><td>32.51</td><td>21.37</td><td>2.193989</td><td>1.054645</td><td>2.633880</td><td>2.051913</td><td>1.013661</td><td>1.4153</td><td> 0.50476226</td><td>0.4056712</td></tr>\n",
       "\t<tr><th scope=row>4</th><td>2020</td><td>ABW</td><td>CRI</td><td>2020</td><td>1.0718229</td><td>CRI</td><td>2020</td><td> 89.18359</td><td>1.143204</td><td>NA</td><td>⋯</td><td>12.07</td><td>21.37</td><td>1.218579</td><td>1.054645</td><td>2.322404</td><td>2.051913</td><td>1.622951</td><td>1.4153</td><td>-0.33880730</td><td>0.4056712</td></tr>\n",
       "\t<tr><th scope=row>5</th><td>2020</td><td>ABW</td><td>GBR</td><td>2020</td><td>0.7566244</td><td>GBR</td><td>2020</td><td> 94.98970</td><td>3.665912</td><td>NA</td><td>⋯</td><td>30.58</td><td>21.37</td><td>1.579235</td><td>1.054645</td><td>1.153005</td><td>2.051913</td><td>1.573771</td><td>1.4153</td><td> 1.30345677</td><td>0.4056712</td></tr>\n",
       "\t<tr><th scope=row>6</th><td>2020</td><td>ABW</td><td>CHL</td><td>2020</td><td>0.4039197</td><td>CHL</td><td>2020</td><td> 84.54039</td><td>2.317541</td><td>NA</td><td>⋯</td><td>20.17</td><td>21.37</td><td>1.464481</td><td>1.054645</td><td>2.934426</td><td>2.051913</td><td>1.590164</td><td>1.4153</td><td> 0.55502878</td><td>0.4056712</td></tr>\n",
       "</tbody>\n",
       "</table>\n"
      ],
      "text/latex": [
       "A data.frame: 6 × 145\n",
       "\\begin{tabular}{r|lllllllllllllllllllll}\n",
       "  & year & j & i & t & pvi & country & t:r\\_i & cases & deaths & tests & ⋯ & share\\_1\\_members\\_i & share\\_1\\_members\\_j & H6M\\_Facial\\_Coverings\\_i & H6M\\_Facial\\_Coverings\\_j & C8EV\\_International\\_travel\\_controls\\_i & C8EV\\_International\\_travel\\_controls\\_j & C3M\\_Cancel\\_public\\_events\\_i & C3M\\_Cancel\\_public\\_events\\_j & predicted\\_log\\_deaths\\_i & predicted\\_log\\_deaths\\_j\\\\\n",
       "  & <chr> & <chr> & <chr> & <int> & <dbl> & <chr> & <int> & <dbl> & <dbl> & <chr> & ⋯ & <dbl> & <dbl> & <dbl> & <dbl> & <dbl> & <dbl> & <dbl> & <dbl> & <dbl> & <dbl>\\\\\n",
       "\\hline\n",
       "\t1 & 2020 & ABW & SWE & 2020 & 0.4421886 & SWE & 2020 & 110.13782 & 2.455691 & NA & ⋯ &    NA & 21.37 & 0.000000 & 1.054645 & 2.500000 & 2.051913 & 1.565574 & 1.4153 &  0.03743995 & 0.4056712\\\\\n",
       "\t2 & 2020 & ABW & AUT & 2020 & 0.4519360 & AUT & 2020 & 105.05586 & 2.148066 & NA & ⋯ & 36.29 & 21.37 & 1.786885 & 1.054645 & 2.442623 & 2.051913 & 1.333333 & 1.4153 &  0.05819797 & 0.4056712\\\\\n",
       "\t3 & 2020 & ABW & CZE & 2020 & 0.7562766 & CZE & 2020 & 174.71884 & 2.942072 & NA & ⋯ & 32.51 & 21.37 & 2.193989 & 1.054645 & 2.633880 & 2.051913 & 1.013661 & 1.4153 &  0.50476226 & 0.4056712\\\\\n",
       "\t4 & 2020 & ABW & CRI & 2020 & 1.0718229 & CRI & 2020 &  89.18359 & 1.143204 & NA & ⋯ & 12.07 & 21.37 & 1.218579 & 1.054645 & 2.322404 & 2.051913 & 1.622951 & 1.4153 & -0.33880730 & 0.4056712\\\\\n",
       "\t5 & 2020 & ABW & GBR & 2020 & 0.7566244 & GBR & 2020 &  94.98970 & 3.665912 & NA & ⋯ & 30.58 & 21.37 & 1.579235 & 1.054645 & 1.153005 & 2.051913 & 1.573771 & 1.4153 &  1.30345677 & 0.4056712\\\\\n",
       "\t6 & 2020 & ABW & CHL & 2020 & 0.4039197 & CHL & 2020 &  84.54039 & 2.317541 & NA & ⋯ & 20.17 & 21.37 & 1.464481 & 1.054645 & 2.934426 & 2.051913 & 1.590164 & 1.4153 &  0.55502878 & 0.4056712\\\\\n",
       "\\end{tabular}\n"
      ],
      "text/markdown": [
       "\n",
       "A data.frame: 6 × 145\n",
       "\n",
       "| <!--/--> | year &lt;chr&gt; | j &lt;chr&gt; | i &lt;chr&gt; | t &lt;int&gt; | pvi &lt;dbl&gt; | country &lt;chr&gt; | t:r_i &lt;int&gt; | cases &lt;dbl&gt; | deaths &lt;dbl&gt; | tests &lt;chr&gt; | ⋯ ⋯ | share_1_members_i &lt;dbl&gt; | share_1_members_j &lt;dbl&gt; | H6M_Facial_Coverings_i &lt;dbl&gt; | H6M_Facial_Coverings_j &lt;dbl&gt; | C8EV_International_travel_controls_i &lt;dbl&gt; | C8EV_International_travel_controls_j &lt;dbl&gt; | C3M_Cancel_public_events_i &lt;dbl&gt; | C3M_Cancel_public_events_j &lt;dbl&gt; | predicted_log_deaths_i &lt;dbl&gt; | predicted_log_deaths_j &lt;dbl&gt; |\n",
       "|---|---|---|---|---|---|---|---|---|---|---|---|---|---|---|---|---|---|---|---|---|---|\n",
       "| 1 | 2020 | ABW | SWE | 2020 | 0.4421886 | SWE | 2020 | 110.13782 | 2.455691 | NA | ⋯ |    NA | 21.37 | 0.000000 | 1.054645 | 2.500000 | 2.051913 | 1.565574 | 1.4153 |  0.03743995 | 0.4056712 |\n",
       "| 2 | 2020 | ABW | AUT | 2020 | 0.4519360 | AUT | 2020 | 105.05586 | 2.148066 | NA | ⋯ | 36.29 | 21.37 | 1.786885 | 1.054645 | 2.442623 | 2.051913 | 1.333333 | 1.4153 |  0.05819797 | 0.4056712 |\n",
       "| 3 | 2020 | ABW | CZE | 2020 | 0.7562766 | CZE | 2020 | 174.71884 | 2.942072 | NA | ⋯ | 32.51 | 21.37 | 2.193989 | 1.054645 | 2.633880 | 2.051913 | 1.013661 | 1.4153 |  0.50476226 | 0.4056712 |\n",
       "| 4 | 2020 | ABW | CRI | 2020 | 1.0718229 | CRI | 2020 |  89.18359 | 1.143204 | NA | ⋯ | 12.07 | 21.37 | 1.218579 | 1.054645 | 2.322404 | 2.051913 | 1.622951 | 1.4153 | -0.33880730 | 0.4056712 |\n",
       "| 5 | 2020 | ABW | GBR | 2020 | 0.7566244 | GBR | 2020 |  94.98970 | 3.665912 | NA | ⋯ | 30.58 | 21.37 | 1.579235 | 1.054645 | 1.153005 | 2.051913 | 1.573771 | 1.4153 |  1.30345677 | 0.4056712 |\n",
       "| 6 | 2020 | ABW | CHL | 2020 | 0.4039197 | CHL | 2020 |  84.54039 | 2.317541 | NA | ⋯ | 20.17 | 21.37 | 1.464481 | 1.054645 | 2.934426 | 2.051913 | 1.590164 | 1.4153 |  0.55502878 | 0.4056712 |\n",
       "\n"
      ],
      "text/plain": [
       "  year j   i   t    pvi       country t:r_i cases     deaths   tests ⋯\n",
       "1 2020 ABW SWE 2020 0.4421886 SWE     2020  110.13782 2.455691 NA    ⋯\n",
       "2 2020 ABW AUT 2020 0.4519360 AUT     2020  105.05586 2.148066 NA    ⋯\n",
       "3 2020 ABW CZE 2020 0.7562766 CZE     2020  174.71884 2.942072 NA    ⋯\n",
       "4 2020 ABW CRI 2020 1.0718229 CRI     2020   89.18359 1.143204 NA    ⋯\n",
       "5 2020 ABW GBR 2020 0.7566244 GBR     2020   94.98970 3.665912 NA    ⋯\n",
       "6 2020 ABW CHL 2020 0.4039197 CHL     2020   84.54039 2.317541 NA    ⋯\n",
       "  share_1_members_i share_1_members_j H6M_Facial_Coverings_i\n",
       "1    NA             21.37             0.000000              \n",
       "2 36.29             21.37             1.786885              \n",
       "3 32.51             21.37             2.193989              \n",
       "4 12.07             21.37             1.218579              \n",
       "5 30.58             21.37             1.579235              \n",
       "6 20.17             21.37             1.464481              \n",
       "  H6M_Facial_Coverings_j C8EV_International_travel_controls_i\n",
       "1 1.054645               2.500000                            \n",
       "2 1.054645               2.442623                            \n",
       "3 1.054645               2.633880                            \n",
       "4 1.054645               2.322404                            \n",
       "5 1.054645               1.153005                            \n",
       "6 1.054645               2.934426                            \n",
       "  C8EV_International_travel_controls_j C3M_Cancel_public_events_i\n",
       "1 2.051913                             1.565574                  \n",
       "2 2.051913                             1.333333                  \n",
       "3 2.051913                             1.013661                  \n",
       "4 2.051913                             1.622951                  \n",
       "5 2.051913                             1.573771                  \n",
       "6 2.051913                             1.590164                  \n",
       "  C3M_Cancel_public_events_j predicted_log_deaths_i predicted_log_deaths_j\n",
       "1 1.4153                      0.03743995            0.4056712             \n",
       "2 1.4153                      0.05819797            0.4056712             \n",
       "3 1.4153                      0.50476226            0.4056712             \n",
       "4 1.4153                     -0.33880730            0.4056712             \n",
       "5 1.4153                      1.30345677            0.4056712             \n",
       "6 1.4153                      0.55502878            0.4056712             "
      ]
     },
     "metadata": {},
     "output_type": "display_data"
    }
   ],
   "source": [
    "# Джоиню предикт на исходный датафрейм\n",
    "df_w_predictions = df %>% \n",
    "merge(., new_iv_df, by = c('year', 'i')) %>% \n",
    "merge(., new_iv_df, by.x = c('year', 'j'), by.y = c('year', 'i')) \n",
    "names(df_w_predictions)[names(df_w_predictions) == 'predicted_log_deaths_i.x'] <- 'predicted_log_deaths_i'\n",
    "names(df_w_predictions)[names(df_w_predictions) == 'predicted_log_deaths_i.y'] <- 'predicted_log_deaths_j'\n",
    "df_w_predictions %>% head()"
   ]
  },
  {
   "cell_type": "code",
   "execution_count": 13,
   "metadata": {
    "vscode": {
     "languageId": "r"
    }
   },
   "outputs": [
    {
     "name": "stderr",
     "output_type": "stream",
     "text": [
      "NOTE: 385 observations removed because of NA and infinite values (LHS: 385).\n",
      "\n"
     ]
    },
    {
     "data": {
      "text/plain": [
       "OLS estimation, Dep. Var.: log(pvi)\n",
       "Observations: 56,016\n",
       "Fixed-effects: year: 3,  i: 175,  j: 175\n",
       "Standard-errors: Clustered (i & j) \n",
       "                                      Estimate Std. Error   t value Pr(>|t|) \n",
       "predicted_log_deaths_i               -0.017456   0.026622 -0.655691  0.51289 \n",
       "predicted_log_deaths_j               -0.009221   0.022896 -0.402738  0.68764 \n",
       "C8EV_International_travel_controls_i -0.026431   0.017666 -1.496195  0.13641 \n",
       "C8EV_International_travel_controls_j -0.029285   0.017943 -1.632098  0.10447 \n",
       "---\n",
       "Signif. codes:  0 '***' 0.001 '**' 0.01 '*' 0.05 '.' 0.1 ' ' 1\n",
       "RMSE: 1.14936     Adj. R2: 0.065923\n",
       "                Within R2: 1.275e-4"
      ]
     },
     "metadata": {},
     "output_type": "display_data"
    }
   ],
   "source": [
    "# Регрессия второго шага\n",
    "second_stage = feols(log(pvi) ~ \n",
    " predicted_log_deaths_i + predicted_log_deaths_j +\n",
    " C8EV_International_travel_controls_i + C8EV_International_travel_controls_j | year+i+j,\n",
    " data = df_w_predictions)\n",
    "second_stage %>% summary(cluster = ~ i+j)"
   ]
  },
  {
   "cell_type": "code",
   "execution_count": 14,
   "metadata": {
    "vscode": {
     "languageId": "r"
    }
   },
   "outputs": [
    {
     "data": {
      "text/plain": [
       "\\begingroup\n",
       "\\centering\n",
       "\\begin{tabular}{lc}\n",
       "   \\tabularnewline \\midrule \\midrule\n",
       "   Dependent Variable:                          & log(deaths\\_i)\\\\   \n",
       "   Model:                                       & (1)\\\\  \n",
       "   \\midrule\n",
       "   \\emph{Variables}\\\\\n",
       "   C8EV\\_International\\_travel\\_controls\\_i     & -0.6122$^{***}$\\\\   \n",
       "                                                & (0.1264)\\\\   \n",
       "   C1M\\_School\\_closing\\_i                      & 0.5526$^{***}$\\\\   \n",
       "                                                & (0.1429)\\\\   \n",
       "   median\\_age\\_i                               & 0.7221$^{**}$\\\\   \n",
       "                                                & (0.2236)\\\\   \n",
       "   population\\_density\\_i                       & -0.0024$^{*}$\\\\   \n",
       "                                                & (0.0010)\\\\   \n",
       "   \\midrule\n",
       "   \\emph{Fixed-effects}\\\\\n",
       "   year                                         & Yes\\\\  \n",
       "   i                                            & Yes\\\\  \n",
       "   \\midrule\n",
       "   \\emph{Fit statistics}\\\\\n",
       "   Observations                                 & 504\\\\  \n",
       "   R$^2$                                        & 0.86170\\\\  \n",
       "   Within R$^2$                                 & 0.12381\\\\  \n",
       "   \\midrule \\midrule\n",
       "   \\multicolumn{2}{l}{\\emph{Clustered (i) standard-errors in parentheses}}\\\\\n",
       "   \\multicolumn{2}{l}{\\emph{Signif. Codes: ***: 0.001, **: 0.01, *: 0.05, .: 0.1}}\\\\\n",
       "\\end{tabular}\n",
       "\\par\\endgroup"
      ]
     },
     "metadata": {},
     "output_type": "display_data"
    },
    {
     "data": {
      "text/plain": [
       "\\begingroup\n",
       "\\centering\n",
       "\\begin{tabular}{lc}\n",
       "   \\tabularnewline \\midrule \\midrule\n",
       "   Dependent Variable:                          & log(pvi)\\\\  \n",
       "   Model:                                       & (1)\\\\  \n",
       "   \\midrule\n",
       "   \\emph{Variables}\\\\\n",
       "   predicted\\_log\\_deaths\\_i                    & -0.0175\\\\   \n",
       "                                                & (0.0266)\\\\   \n",
       "   predicted\\_log\\_deaths\\_j                    & -0.0092\\\\   \n",
       "                                                & (0.0229)\\\\   \n",
       "   C8EV\\_International\\_travel\\_controls\\_i     & -0.0264\\\\   \n",
       "                                                & (0.0177)\\\\   \n",
       "   C8EV\\_International\\_travel\\_controls\\_j     & -0.0293\\\\   \n",
       "                                                & (0.0179)\\\\   \n",
       "   \\midrule\n",
       "   \\emph{Fixed-effects}\\\\\n",
       "   year                                         & Yes\\\\  \n",
       "   i                                            & Yes\\\\  \n",
       "   j                                            & Yes\\\\  \n",
       "   \\midrule\n",
       "   \\emph{Fit statistics}\\\\\n",
       "   Observations                                 & 56,016\\\\  \n",
       "   R$^2$                                        & 0.07183\\\\  \n",
       "   Within R$^2$                                 & 0.00013\\\\  \n",
       "   \\midrule \\midrule\n",
       "   \\multicolumn{2}{l}{\\emph{Clustered (i \\& j) standard-errors in parentheses}}\\\\\n",
       "   \\multicolumn{2}{l}{\\emph{Signif. Codes: ***: 0.001, **: 0.01, *: 0.05, .: 0.1}}\\\\\n",
       "\\end{tabular}\n",
       "\\par\\endgroup"
      ]
     },
     "metadata": {},
     "output_type": "display_data"
    }
   ],
   "source": [
    "# Экспорт в латех\n",
    "etable(first_stage, vcov = ~i, signif.code=signif.code, tex=TRUE)\n",
    "etable(second_stage, vcov = ~i+j, signif.code=signif.code, tex=TRUE)"
   ]
  },
  {
   "cell_type": "markdown",
   "metadata": {},
   "source": [
    "### Разные наборы инструментов"
   ]
  },
  {
   "cell_type": "code",
   "execution_count": 15,
   "metadata": {
    "vscode": {
     "languageId": "r"
    }
   },
   "outputs": [
    {
     "data": {
      "text/plain": [
       "log(pvi) ~ 1 + C8EV_International_travel_controls_i + C8EV_International_travel_controls_j | \n",
       "    year + i + j | log(deaths_i) + log(deaths_j) ~ population_density_i + \n",
       "    population_density_j\n",
       "<environment: 0x000002029178d118>"
      ]
     },
     "metadata": {},
     "output_type": "display_data"
    }
   ],
   "source": [
    "# List of instrumental variables\n",
    "instrumental_variables <- c( \"C1M_School_closing\", \"median_age\", \"population_density\")\n",
    "\n",
    "# Generate all subsets\n",
    "all_subsets <- lapply(0:length(instrumental_variables), function(n) combn(instrumental_variables, n, simplify = FALSE))\n",
    "\n",
    "# Flatten the list of subsets\n",
    "all_subsets <- unlist(all_subsets, recursive = FALSE)\n",
    "\n",
    "# Transform subsets to strings with _i and _j suffixes\n",
    "transformed_subsets <- sapply(all_subsets, function(subset) {\n",
    "  if (length(subset) == 0) return(\"\")  # Handle empty subset\n",
    "  # Create pairs for each variable and collapse with \" + \"\n",
    "  paste(\n",
    "    unlist(lapply(subset, function(var) paste0(var, c(\"_i\", \"_j\"))), \n",
    "         recursive = TRUE),\n",
    "    collapse = \" + \"\n",
    "  )\n",
    "})\n",
    "\n",
    "# Remove empty string for empty subset (optional)\n",
    "transformed_subsets <- transformed_subsets[transformed_subsets != \"\"]\n",
    "\n",
    "formulas = lapply(transformed_subsets, function(subset){\n",
    "    formula(paste(\"log(pvi) ~  1 + C8EV_International_travel_controls_i + C8EV_International_travel_controls_j | year+i+j | log(deaths_i) + log(deaths_j) ~\", subset))\n",
    "})\n",
    "formulas[3][[1]]"
   ]
  },
  {
   "cell_type": "code",
   "execution_count": 16,
   "metadata": {
    "vscode": {
     "languageId": "r"
    }
   },
   "outputs": [
    {
     "data": {
      "text/html": [
       "<style>\n",
       ".list-inline {list-style: none; margin:0; padding: 0}\n",
       ".list-inline>li {display: inline-block}\n",
       ".list-inline>li:not(:last-child)::after {content: \"\\00b7\"; padding: 0 .5ex}\n",
       "</style>\n",
       "<ol class=list-inline><li>'C1M_School_closing'</li><li>'median_age'</li><li>'population_density'</li><li>'C1M_School_closing + median_age'</li><li>'C1M_School_closing + population_density'</li><li>'median_age + population_density'</li><li>'C1M_School_closing + median_age + population_density'</li></ol>\n"
      ],
      "text/latex": [
       "\\begin{enumerate*}\n",
       "\\item 'C1M\\_School\\_closing'\n",
       "\\item 'median\\_age'\n",
       "\\item 'population\\_density'\n",
       "\\item 'C1M\\_School\\_closing + median\\_age'\n",
       "\\item 'C1M\\_School\\_closing + population\\_density'\n",
       "\\item 'median\\_age + population\\_density'\n",
       "\\item 'C1M\\_School\\_closing + median\\_age + population\\_density'\n",
       "\\end{enumerate*}\n"
      ],
      "text/markdown": [
       "1. 'C1M_School_closing'\n",
       "2. 'median_age'\n",
       "3. 'population_density'\n",
       "4. 'C1M_School_closing + median_age'\n",
       "5. 'C1M_School_closing + population_density'\n",
       "6. 'median_age + population_density'\n",
       "7. 'C1M_School_closing + median_age + population_density'\n",
       "\n",
       "\n"
      ],
      "text/plain": [
       "[1] \"C1M_School_closing\"                                  \n",
       "[2] \"median_age\"                                          \n",
       "[3] \"population_density\"                                  \n",
       "[4] \"C1M_School_closing + median_age\"                     \n",
       "[5] \"C1M_School_closing + population_density\"             \n",
       "[6] \"median_age + population_density\"                     \n",
       "[7] \"C1M_School_closing + median_age + population_density\""
      ]
     },
     "metadata": {},
     "output_type": "display_data"
    }
   ],
   "source": [
    "headers <- sapply(all_subsets, function(subset) {\n",
    "  if (length(subset) == 0) return(\"\")  # Handle empty subset\n",
    "  # Create pairs for each variable and collapse with \" + \"\n",
    "  paste(\n",
    "    unlist(subset, recursive = TRUE),\n",
    "    collapse = \" + \"\n",
    "  )\n",
    "})\n",
    "headers[2:length(headers)]"
   ]
  },
  {
   "cell_type": "code",
   "execution_count": 17,
   "metadata": {
    "vscode": {
     "languageId": "r"
    }
   },
   "outputs": [
    {
     "data": {
      "text/html": [
       "<style>\n",
       ".dl-inline {width: auto; margin:0; padding: 0}\n",
       ".dl-inline>dt, .dl-inline>dd {float: none; width: auto; display: inline-block}\n",
       ".dl-inline>dt::after {content: \":\\0020\"; padding-right: .5ex}\n",
       ".dl-inline>dt:not(:first-of-type) {padding-left: .5ex}\n",
       "</style><dl class=dl-inline><dt>C1M_School_closing</dt><dd>'1'</dd><dt>median_age</dt><dd>'2'</dd><dt>population_density</dt><dd>'3'</dd><dt>C1M_School_closing + median_age</dt><dd>'1 + 2'</dd><dt>C1M_School_closing + population_density</dt><dd>'1 + 3'</dd><dt>median_age + population_density</dt><dd>'2 + 3'</dd><dt>C1M_School_closing + median_age + population_density</dt><dd>'1 + 2 + 3'</dd></dl>\n"
      ],
      "text/latex": [
       "\\begin{description*}\n",
       "\\item[C1M\\textbackslash{}\\_School\\textbackslash{}\\_closing] '1'\n",
       "\\item[median\\textbackslash{}\\_age] '2'\n",
       "\\item[population\\textbackslash{}\\_density] '3'\n",
       "\\item[C1M\\textbackslash{}\\_School\\textbackslash{}\\_closing + median\\textbackslash{}\\_age] '1 + 2'\n",
       "\\item[C1M\\textbackslash{}\\_School\\textbackslash{}\\_closing + population\\textbackslash{}\\_density] '1 + 3'\n",
       "\\item[median\\textbackslash{}\\_age + population\\textbackslash{}\\_density] '2 + 3'\n",
       "\\item[C1M\\textbackslash{}\\_School\\textbackslash{}\\_closing + median\\textbackslash{}\\_age + population\\textbackslash{}\\_density] '1 + 2 + 3'\n",
       "\\end{description*}\n"
      ],
      "text/markdown": [
       "C1M_School_closing\n",
       ":   '1'median_age\n",
       ":   '2'population_density\n",
       ":   '3'C1M_School_closing + median_age\n",
       ":   '1 + 2'C1M_School_closing + population_density\n",
       ":   '1 + 3'median_age + population_density\n",
       ":   '2 + 3'C1M_School_closing + median_age + population_density\n",
       ":   '1 + 2 + 3'\n",
       "\n"
      ],
      "text/plain": [
       "                                  C1M_School_closing \n",
       "                                                 \"1\" \n",
       "                                          median_age \n",
       "                                                 \"2\" \n",
       "                                  population_density \n",
       "                                                 \"3\" \n",
       "                     C1M_School_closing + median_age \n",
       "                                             \"1 + 2\" \n",
       "             C1M_School_closing + population_density \n",
       "                                             \"1 + 3\" \n",
       "                     median_age + population_density \n",
       "                                             \"2 + 3\" \n",
       "C1M_School_closing + median_age + population_density \n",
       "                                         \"1 + 2 + 3\" "
      ]
     },
     "metadata": {},
     "output_type": "display_data"
    }
   ],
   "source": [
    "replace_vars_with_numbers <- function(headers) {\n",
    "  # Define all unique variables\n",
    "  variables <- c(\"C1M_School_closing\",\n",
    "               \"median_age\",\n",
    "               \"population_density\")\n",
    "  \n",
    "  # Create a named vector for mapping\n",
    "  var_numbers <- setNames(as.character(seq_along(variables)), variables)\n",
    "  \n",
    "  # Split and replace components\n",
    "  sapply(headers, function(h) {\n",
    "    components <- unlist(strsplit(h, \" \\\\+ \"))\n",
    "    numbers <- var_numbers[components]\n",
    "    paste(numbers, collapse = \" + \")\n",
    "  })\n",
    "}\n",
    "numbered_headers <- replace_vars_with_numbers(headers[2:length(headers)])\n",
    "numbered_headers"
   ]
  },
  {
   "cell_type": "code",
   "execution_count": 18,
   "metadata": {
    "vscode": {
     "languageId": "r"
    }
   },
   "outputs": [
    {
     "name": "stderr",
     "output_type": "stream",
     "text": [
      "NOTE: 13,955 observations removed because of NA and infinite values (LHS: 645, RHS: 9,802, IV: 6,067/9,802).\n",
      "\n",
      "NOTE: 13,955 observations removed because of NA and infinite values (LHS: 645, RHS: 9,802, IV: 6,067/47).\n",
      "\n",
      "NOTE: 14,291 observations removed because of NA and infinite values (LHS: 645, RHS: 9,802, IV: 6,067/2,257).\n",
      "\n",
      "NOTE: 13,955 observations removed because of NA and infinite values (LHS: 645, RHS: 9,802, IV: 6,067/9,802).\n",
      "\n",
      "NOTE: 14,291 observations removed because of NA and infinite values (LHS: 645, RHS: 9,802, IV: 6,067/10,661).\n",
      "\n",
      "NOTE: 14,291 observations removed because of NA and infinite values (LHS: 645, RHS: 9,802, IV: 6,067/2,257).\n",
      "\n",
      "NOTE: 14,291 observations removed because of NA and infinite values (LHS: 645, RHS: 9,802, IV: 6,067/10,661).\n",
      "\n"
     ]
    },
    {
     "data": {
      "text/plain": [
       "\\begingroup\n",
       "\\centering\n",
       "\\begin{tabular}{lccccccc}\n",
       "   \\tabularnewline \\midrule \\midrule\n",
       "   Dependent Variable: & \\multicolumn{7}{c}{log(pvi)}\\\\\n",
       "                                                & 1        & 2             & 3               & 1 + 2         & 1 + 3         & 2 + 3         & 1 + 2 + 3 \\\\   \n",
       "   Model:                                       & (1)      & (2)           & (3)             & (4)           & (5)           & (6)           & (7)\\\\  \n",
       "   \\midrule\n",
       "   \\emph{Variables}\\\\\n",
       "   log(deaths\\_i)                               & -0.0230  & 0.0050        & -0.1518$^{***}$ & -0.0134       & -0.0282       & -0.0096       & -0.0164\\\\   \n",
       "                                                & (0.0318) & (0.0255)      & (0.0345)        & (0.0245)      & (0.0314)      & (0.0307)      & (0.0252)\\\\   \n",
       "   log(deaths\\_j)                               & 0.0085   & -0.0320       & -0.0751         & -0.0068       & 0.0025        & -0.0367       & -0.0094\\\\   \n",
       "                                                & (0.0316) & (0.0228)      & (0.0806)        & (0.0215)      & (0.0315)      & (0.0236)      & (0.0218)\\\\   \n",
       "   C8EV\\_International\\_travel\\_controls\\_i     & -0.0276  & -0.0153       & -0.0785$^{*}$   & -0.0233       & -0.0297$^{.}$ & -0.0212       & -0.0246\\\\   \n",
       "                                                & (0.0172) & (0.0188)      & (0.0316)        & (0.0162)      & (0.0176)      & (0.0208)      & (0.0168)\\\\   \n",
       "   C8EV\\_International\\_travel\\_controls\\_j     & -0.0234  & -0.0416$^{*}$ & -0.0557         & -0.0303$^{.}$ & -0.0234       & -0.0409$^{*}$ & -0.0288\\\\   \n",
       "                                                & (0.0192) & (0.0194)      & (0.0411)        & (0.0171)      & (0.0194)      & (0.0203)      & (0.0175)\\\\   \n",
       "   \\midrule\n",
       "   \\emph{Fixed-effects}\\\\\n",
       "   year                                         & Yes      & Yes           & Yes             & Yes           & Yes           & Yes           & Yes\\\\  \n",
       "   i                                            & Yes      & Yes           & Yes             & Yes           & Yes           & Yes           & Yes\\\\  \n",
       "   j                                            & Yes      & Yes           & Yes             & Yes           & Yes           & Yes           & Yes\\\\  \n",
       "   \\midrule\n",
       "   \\emph{Fit statistics}\\\\\n",
       "   Observations                                 & 56,352   & 56,352        & 56,016          & 56,352        & 56,016        & 56,016        & 56,016\\\\  \n",
       "   R$^2$                                        & 0.07157  & 0.07157       & 0.05937         & 0.07184       & 0.07151       & 0.07146       & 0.07178\\\\  \n",
       "   Within R$^2$                                 & -0.00017 & -0.00016      & -0.01329        & 0.00012       & -0.00021      & -0.00027      & $7.59\\times 10^{-5}$\\\\   \n",
       "   Sargan, p-value                              &          &               &                 & 0.45087       & 0.22025       & 0.21194       & 0.32630\\\\  \n",
       "   Wu-Hausman, p-value                          & 0.55913  & 0.71576       & 0.18232         & 0.86942       & 0.50044       & 0.61825       & 0.79327\\\\  \n",
       "   F-test (1st stage), log(deaths\\_i)           & 1,884.5  & 938.42        & 115.70          & 1,389.8       & 991.88        & 511.35        & 945.95\\\\  \n",
       "   F-test (1st stage), log(deaths\\_j)           & 1,707.1  & 1,024.3       & 120.58          & 1,339.5       & 904.50        & 555.69        & 913.24\\\\  \n",
       "   \\midrule \\midrule\n",
       "   \\multicolumn{8}{l}{\\emph{Clustered (i \\& j) standard-errors in parentheses}}\\\\\n",
       "   \\multicolumn{8}{l}{\\emph{Signif. Codes: ***: 0.001, **: 0.01, *: 0.05, .: 0.1}}\\\\\n",
       "\\end{tabular}\n",
       "\\par\\endgroup"
      ]
     },
     "metadata": {},
     "output_type": "display_data"
    },
    {
     "data": {
      "text/html": [
       "<table class=\"dataframe\">\n",
       "<caption>A etable_df: 20 × 8</caption>\n",
       "<thead>\n",
       "\t<tr><th></th><th scope=col></th><th scope=col>model 1</th><th scope=col>model 2</th><th scope=col>model 3</th><th scope=col>model 4</th><th scope=col>model 5</th><th scope=col>model 6</th><th scope=col>model 7</th></tr>\n",
       "\t<tr><th></th><th scope=col>&lt;chr&gt;</th><th scope=col>&lt;chr&gt;</th><th scope=col>&lt;chr&gt;</th><th scope=col>&lt;chr&gt;</th><th scope=col>&lt;chr&gt;</th><th scope=col>&lt;chr&gt;</th><th scope=col>&lt;chr&gt;</th><th scope=col>&lt;chr&gt;</th></tr>\n",
       "</thead>\n",
       "<tbody>\n",
       "\t<tr><th scope=row>1</th><td>                                    </td><td>1               </td><td>2                </td><td>3                  </td><td>1 + 2            </td><td>1 + 3            </td><td>2 + 3            </td><td>1 + 2 + 3       </td></tr>\n",
       "\t<tr><th scope=row>2</th><td>Dependent Var.:                     </td><td>log(pvi)        </td><td>log(pvi)         </td><td>log(pvi)           </td><td>log(pvi)         </td><td>log(pvi)         </td><td>log(pvi)         </td><td>log(pvi)        </td></tr>\n",
       "\t<tr><th scope=row>3</th><td>                                    </td><td>                </td><td>                 </td><td>                   </td><td>                 </td><td>                 </td><td>                 </td><td>                </td></tr>\n",
       "\t<tr><th scope=row>4</th><td>log(deaths_i)                       </td><td>-0.0230 (0.0318)</td><td>0.0050 (0.0255)  </td><td>-0.1518*** (0.0345)</td><td>-0.0134 (0.0245) </td><td>-0.0282 (0.0314) </td><td>-0.0096 (0.0307) </td><td>-0.0164 (0.0252)</td></tr>\n",
       "\t<tr><th scope=row>5</th><td>log(deaths_j)                       </td><td>0.0085 (0.0316) </td><td>-0.0320 (0.0228) </td><td>-0.0751 (0.0806)   </td><td>-0.0068 (0.0215) </td><td>0.0025 (0.0315)  </td><td>-0.0367 (0.0236) </td><td>-0.0094 (0.0218)</td></tr>\n",
       "\t<tr><th scope=row>6</th><td>C8EV_International_travel_controls_i</td><td>-0.0276 (0.0172)</td><td>-0.0153 (0.0188) </td><td>-0.0785* (0.0316)  </td><td>-0.0233 (0.0162) </td><td>-0.0297. (0.0176)</td><td>-0.0212 (0.0208) </td><td>-0.0246 (0.0168)</td></tr>\n",
       "\t<tr><th scope=row>7</th><td>C8EV_International_travel_controls_j</td><td>-0.0234 (0.0192)</td><td>-0.0416* (0.0194)</td><td>-0.0557 (0.0411)   </td><td>-0.0303. (0.0171)</td><td>-0.0234 (0.0194) </td><td>-0.0409* (0.0203)</td><td>-0.0288 (0.0175)</td></tr>\n",
       "\t<tr><th scope=row>8</th><td>Fixed-Effects:                      </td><td>----------------</td><td>-----------------</td><td>-------------------</td><td>-----------------</td><td>-----------------</td><td>-----------------</td><td>----------------</td></tr>\n",
       "\t<tr><th scope=row>9</th><td>year                                </td><td>Yes             </td><td>Yes              </td><td>Yes                </td><td>Yes              </td><td>Yes              </td><td>Yes              </td><td>Yes             </td></tr>\n",
       "\t<tr><th scope=row>10</th><td>i                                   </td><td>Yes             </td><td>Yes              </td><td>Yes                </td><td>Yes              </td><td>Yes              </td><td>Yes              </td><td>Yes             </td></tr>\n",
       "\t<tr><th scope=row>11</th><td>j                                   </td><td>Yes             </td><td>Yes              </td><td>Yes                </td><td>Yes              </td><td>Yes              </td><td>Yes              </td><td>Yes             </td></tr>\n",
       "\t<tr><th scope=row>12</th><td>____________________________________</td><td>________________</td><td>_________________</td><td>___________________</td><td>_________________</td><td>_________________</td><td>_________________</td><td>________________</td></tr>\n",
       "\t<tr><th scope=row>13</th><td><span style=white-space:pre-wrap>S.E.: Clustered                     </span></td><td><span style=white-space:pre-wrap>by: i &amp; j       </span></td><td><span style=white-space:pre-wrap>by: i &amp; j        </span></td><td><span style=white-space:pre-wrap>by: i &amp; j          </span></td><td><span style=white-space:pre-wrap>by: i &amp; j        </span></td><td><span style=white-space:pre-wrap>by: i &amp; j        </span></td><td><span style=white-space:pre-wrap>by: i &amp; j        </span></td><td><span style=white-space:pre-wrap>by: i &amp; j       </span></td></tr>\n",
       "\t<tr><th scope=row>14</th><td>Observations                        </td><td>56,352          </td><td>56,352           </td><td>56,016             </td><td>56,352           </td><td>56,016           </td><td>56,016           </td><td>56,016          </td></tr>\n",
       "\t<tr><th scope=row>15</th><td>R2                                  </td><td>0.07157         </td><td>0.07157          </td><td>0.05937            </td><td>0.07184          </td><td>0.07151          </td><td>0.07146          </td><td>0.07178         </td></tr>\n",
       "\t<tr><th scope=row>16</th><td>Within R2                           </td><td>-0.00017        </td><td>-0.00016         </td><td>-0.01329           </td><td>0.00012          </td><td>-0.00021         </td><td>-0.00027         </td><td>7.59e-5         </td></tr>\n",
       "\t<tr><th scope=row>17</th><td>Sargan, p-value                     </td><td>--              </td><td>--               </td><td>--                 </td><td>0.45087          </td><td>0.22025          </td><td>0.21194          </td><td>0.32630         </td></tr>\n",
       "\t<tr><th scope=row>18</th><td>Wu-Hausman, p-value                 </td><td>0.55913         </td><td>0.71576          </td><td>0.18232            </td><td>0.86942          </td><td>0.50044          </td><td>0.61825          </td><td>0.79327         </td></tr>\n",
       "\t<tr><th scope=row>19</th><td>F-test (1st stage), log(deaths_i)   </td><td>1,884.5         </td><td>938.42           </td><td>115.70             </td><td>1,389.8          </td><td>991.88           </td><td>511.35           </td><td>945.95          </td></tr>\n",
       "\t<tr><th scope=row>20</th><td>F-test (1st stage), log(deaths_j)   </td><td>1,707.1         </td><td>1,024.3          </td><td>120.58             </td><td>1,339.5          </td><td>904.50           </td><td>555.69           </td><td>913.24          </td></tr>\n",
       "</tbody>\n",
       "</table>\n"
      ],
      "text/latex": [
       "A etable\\_df: 20 × 8\n",
       "\\begin{tabular}{r|llllllll}\n",
       "  &  & model 1 & model 2 & model 3 & model 4 & model 5 & model 6 & model 7\\\\\n",
       "  & <chr> & <chr> & <chr> & <chr> & <chr> & <chr> & <chr> & <chr>\\\\\n",
       "\\hline\n",
       "\t1 &                                      & 1                & 2                 & 3                   & 1 + 2             & 1 + 3             & 2 + 3             & 1 + 2 + 3       \\\\\n",
       "\t2 & Dependent Var.:                      & log(pvi)         & log(pvi)          & log(pvi)            & log(pvi)          & log(pvi)          & log(pvi)          & log(pvi)        \\\\\n",
       "\t3 &                                      &                  &                   &                     &                   &                   &                   &                 \\\\\n",
       "\t4 & log(deaths\\_i)                        & -0.0230 (0.0318) & 0.0050 (0.0255)   & -0.1518*** (0.0345) & -0.0134 (0.0245)  & -0.0282 (0.0314)  & -0.0096 (0.0307)  & -0.0164 (0.0252)\\\\\n",
       "\t5 & log(deaths\\_j)                        & 0.0085 (0.0316)  & -0.0320 (0.0228)  & -0.0751 (0.0806)    & -0.0068 (0.0215)  & 0.0025 (0.0315)   & -0.0367 (0.0236)  & -0.0094 (0.0218)\\\\\n",
       "\t6 & C8EV\\_International\\_travel\\_controls\\_i & -0.0276 (0.0172) & -0.0153 (0.0188)  & -0.0785* (0.0316)   & -0.0233 (0.0162)  & -0.0297. (0.0176) & -0.0212 (0.0208)  & -0.0246 (0.0168)\\\\\n",
       "\t7 & C8EV\\_International\\_travel\\_controls\\_j & -0.0234 (0.0192) & -0.0416* (0.0194) & -0.0557 (0.0411)    & -0.0303. (0.0171) & -0.0234 (0.0194)  & -0.0409* (0.0203) & -0.0288 (0.0175)\\\\\n",
       "\t8 & Fixed-Effects:                       & ---------------- & ----------------- & ------------------- & ----------------- & ----------------- & ----------------- & ----------------\\\\\n",
       "\t9 & year                                 & Yes              & Yes               & Yes                 & Yes               & Yes               & Yes               & Yes             \\\\\n",
       "\t10 & i                                    & Yes              & Yes               & Yes                 & Yes               & Yes               & Yes               & Yes             \\\\\n",
       "\t11 & j                                    & Yes              & Yes               & Yes                 & Yes               & Yes               & Yes               & Yes             \\\\\n",
       "\t12 & \\_\\_\\_\\_\\_\\_\\_\\_\\_\\_\\_\\_\\_\\_\\_\\_\\_\\_\\_\\_\\_\\_\\_\\_\\_\\_\\_\\_\\_\\_\\_\\_\\_\\_\\_\\_ & \\_\\_\\_\\_\\_\\_\\_\\_\\_\\_\\_\\_\\_\\_\\_\\_ & \\_\\_\\_\\_\\_\\_\\_\\_\\_\\_\\_\\_\\_\\_\\_\\_\\_ & \\_\\_\\_\\_\\_\\_\\_\\_\\_\\_\\_\\_\\_\\_\\_\\_\\_\\_\\_ & \\_\\_\\_\\_\\_\\_\\_\\_\\_\\_\\_\\_\\_\\_\\_\\_\\_ & \\_\\_\\_\\_\\_\\_\\_\\_\\_\\_\\_\\_\\_\\_\\_\\_\\_ & \\_\\_\\_\\_\\_\\_\\_\\_\\_\\_\\_\\_\\_\\_\\_\\_\\_ & \\_\\_\\_\\_\\_\\_\\_\\_\\_\\_\\_\\_\\_\\_\\_\\_\\\\\n",
       "\t13 & S.E.: Clustered                      & by: i \\& j        & by: i \\& j         & by: i \\& j           & by: i \\& j         & by: i \\& j         & by: i \\& j         & by: i \\& j       \\\\\n",
       "\t14 & Observations                         & 56,352           & 56,352            & 56,016              & 56,352            & 56,016            & 56,016            & 56,016          \\\\\n",
       "\t15 & R2                                   & 0.07157          & 0.07157           & 0.05937             & 0.07184           & 0.07151           & 0.07146           & 0.07178         \\\\\n",
       "\t16 & Within R2                            & -0.00017         & -0.00016          & -0.01329            & 0.00012           & -0.00021          & -0.00027          & 7.59e-5         \\\\\n",
       "\t17 & Sargan, p-value                      & --               & --                & --                  & 0.45087           & 0.22025           & 0.21194           & 0.32630         \\\\\n",
       "\t18 & Wu-Hausman, p-value                  & 0.55913          & 0.71576           & 0.18232             & 0.86942           & 0.50044           & 0.61825           & 0.79327         \\\\\n",
       "\t19 & F-test (1st stage), log(deaths\\_i)    & 1,884.5          & 938.42            & 115.70              & 1,389.8           & 991.88            & 511.35            & 945.95          \\\\\n",
       "\t20 & F-test (1st stage), log(deaths\\_j)    & 1,707.1          & 1,024.3           & 120.58              & 1,339.5           & 904.50            & 555.69            & 913.24          \\\\\n",
       "\\end{tabular}\n"
      ],
      "text/markdown": [
       "\n",
       "A etable_df: 20 × 8\n",
       "\n",
       "| <!--/--> | <!----> &lt;chr&gt; | model 1 &lt;chr&gt; | model 2 &lt;chr&gt; | model 3 &lt;chr&gt; | model 4 &lt;chr&gt; | model 5 &lt;chr&gt; | model 6 &lt;chr&gt; | model 7 &lt;chr&gt; |\n",
       "|---|---|---|---|---|---|---|---|---|\n",
       "| 1 | <!----> | 1                | 2                 | 3                   | 1 + 2             | 1 + 3             | 2 + 3             | 1 + 2 + 3        |\n",
       "| 2 | Dependent Var.:                      | log(pvi)         | log(pvi)          | log(pvi)            | log(pvi)          | log(pvi)          | log(pvi)          | log(pvi)         |\n",
       "| 3 | <!----> | <!----> | <!----> | <!----> | <!----> | <!----> | <!----> | <!----> |\n",
       "| 4 | log(deaths_i)                        | -0.0230 (0.0318) | 0.0050 (0.0255)   | -0.1518*** (0.0345) | -0.0134 (0.0245)  | -0.0282 (0.0314)  | -0.0096 (0.0307)  | -0.0164 (0.0252) |\n",
       "| 5 | log(deaths_j)                        | 0.0085 (0.0316)  | -0.0320 (0.0228)  | -0.0751 (0.0806)    | -0.0068 (0.0215)  | 0.0025 (0.0315)   | -0.0367 (0.0236)  | -0.0094 (0.0218) |\n",
       "| 6 | C8EV_International_travel_controls_i | -0.0276 (0.0172) | -0.0153 (0.0188)  | -0.0785* (0.0316)   | -0.0233 (0.0162)  | -0.0297. (0.0176) | -0.0212 (0.0208)  | -0.0246 (0.0168) |\n",
       "| 7 | C8EV_International_travel_controls_j | -0.0234 (0.0192) | -0.0416* (0.0194) | -0.0557 (0.0411)    | -0.0303. (0.0171) | -0.0234 (0.0194)  | -0.0409* (0.0203) | -0.0288 (0.0175) |\n",
       "| 8 | Fixed-Effects:                       | ---------------- | ----------------- | ------------------- | ----------------- | ----------------- | ----------------- | ---------------- |\n",
       "| 9 | year                                 | Yes              | Yes               | Yes                 | Yes               | Yes               | Yes               | Yes              |\n",
       "| 10 | i                                    | Yes              | Yes               | Yes                 | Yes               | Yes               | Yes               | Yes              |\n",
       "| 11 | j                                    | Yes              | Yes               | Yes                 | Yes               | Yes               | Yes               | Yes              |\n",
       "| 12 | ____________________________________ | ________________ | _________________ | ___________________ | _________________ | _________________ | _________________ | ________________ |\n",
       "| 13 | S.E.: Clustered                      | by: i &amp; j        | by: i &amp; j         | by: i &amp; j           | by: i &amp; j         | by: i &amp; j         | by: i &amp; j         | by: i &amp; j        |\n",
       "| 14 | Observations                         | 56,352           | 56,352            | 56,016              | 56,352            | 56,016            | 56,016            | 56,016           |\n",
       "| 15 | R2                                   | 0.07157          | 0.07157           | 0.05937             | 0.07184           | 0.07151           | 0.07146           | 0.07178          |\n",
       "| 16 | Within R2                            | -0.00017         | -0.00016          | -0.01329            | 0.00012           | -0.00021          | -0.00027          | 7.59e-5          |\n",
       "| 17 | Sargan, p-value                      | --               | --                | --                  | 0.45087           | 0.22025           | 0.21194           | 0.32630          |\n",
       "| 18 | Wu-Hausman, p-value                  | 0.55913          | 0.71576           | 0.18232             | 0.86942           | 0.50044           | 0.61825           | 0.79327          |\n",
       "| 19 | F-test (1st stage), log(deaths_i)    | 1,884.5          | 938.42            | 115.70              | 1,389.8           | 991.88            | 511.35            | 945.95           |\n",
       "| 20 | F-test (1st stage), log(deaths_j)    | 1,707.1          | 1,024.3           | 120.58              | 1,339.5           | 904.50            | 555.69            | 913.24           |\n",
       "\n"
      ],
      "text/plain": [
       "                                        model 1          model 2          \n",
       "1                                       1                2                \n",
       "2  Dependent Var.:                      log(pvi)         log(pvi)         \n",
       "3                                                                         \n",
       "4  log(deaths_i)                        -0.0230 (0.0318) 0.0050 (0.0255)  \n",
       "5  log(deaths_j)                        0.0085 (0.0316)  -0.0320 (0.0228) \n",
       "6  C8EV_International_travel_controls_i -0.0276 (0.0172) -0.0153 (0.0188) \n",
       "7  C8EV_International_travel_controls_j -0.0234 (0.0192) -0.0416* (0.0194)\n",
       "8  Fixed-Effects:                       ---------------- -----------------\n",
       "9  year                                 Yes              Yes              \n",
       "10 i                                    Yes              Yes              \n",
       "11 j                                    Yes              Yes              \n",
       "12 ____________________________________ ________________ _________________\n",
       "13 S.E.: Clustered                      by: i & j        by: i & j        \n",
       "14 Observations                         56,352           56,352           \n",
       "15 R2                                   0.07157          0.07157          \n",
       "16 Within R2                            -0.00017         -0.00016         \n",
       "17 Sargan, p-value                      --               --               \n",
       "18 Wu-Hausman, p-value                  0.55913          0.71576          \n",
       "19 F-test (1st stage), log(deaths_i)    1,884.5          938.42           \n",
       "20 F-test (1st stage), log(deaths_j)    1,707.1          1,024.3          \n",
       "   model 3             model 4           model 5           model 6          \n",
       "1  3                   1 + 2             1 + 3             2 + 3            \n",
       "2  log(pvi)            log(pvi)          log(pvi)          log(pvi)         \n",
       "3                                                                           \n",
       "4  -0.1518*** (0.0345) -0.0134 (0.0245)  -0.0282 (0.0314)  -0.0096 (0.0307) \n",
       "5  -0.0751 (0.0806)    -0.0068 (0.0215)  0.0025 (0.0315)   -0.0367 (0.0236) \n",
       "6  -0.0785* (0.0316)   -0.0233 (0.0162)  -0.0297. (0.0176) -0.0212 (0.0208) \n",
       "7  -0.0557 (0.0411)    -0.0303. (0.0171) -0.0234 (0.0194)  -0.0409* (0.0203)\n",
       "8  ------------------- ----------------- ----------------- -----------------\n",
       "9  Yes                 Yes               Yes               Yes              \n",
       "10 Yes                 Yes               Yes               Yes              \n",
       "11 Yes                 Yes               Yes               Yes              \n",
       "12 ___________________ _________________ _________________ _________________\n",
       "13 by: i & j           by: i & j         by: i & j         by: i & j        \n",
       "14 56,016              56,352            56,016            56,016           \n",
       "15 0.05937             0.07184           0.07151           0.07146          \n",
       "16 -0.01329            0.00012           -0.00021          -0.00027         \n",
       "17 --                  0.45087           0.22025           0.21194          \n",
       "18 0.18232             0.86942           0.50044           0.61825          \n",
       "19 115.70              1,389.8           991.88            511.35           \n",
       "20 120.58              1,339.5           904.50            555.69           \n",
       "   model 7         \n",
       "1  1 + 2 + 3       \n",
       "2  log(pvi)        \n",
       "3                  \n",
       "4  -0.0164 (0.0252)\n",
       "5  -0.0094 (0.0218)\n",
       "6  -0.0246 (0.0168)\n",
       "7  -0.0288 (0.0175)\n",
       "8  ----------------\n",
       "9  Yes             \n",
       "10 Yes             \n",
       "11 Yes             \n",
       "12 ________________\n",
       "13 by: i & j       \n",
       "14 56,016          \n",
       "15 0.07178         \n",
       "16 7.59e-5         \n",
       "17 0.32630         \n",
       "18 0.79327         \n",
       "19 945.95          \n",
       "20 913.24          "
      ]
     },
     "metadata": {},
     "output_type": "display_data"
    }
   ],
   "source": [
    "list_of_iv_models = list()\n",
    "for (i in 1:length(formulas)){\n",
    "    list_of_iv_models[[i]] = feols(formulas[i][[1]], data = df)\n",
    "}\n",
    "etable(list_of_iv_models, vcov=~i+j, signif.code=signif.code, fitstat=~ . + sargan.p + wh.p + ivf,\n",
    "    headers=numbered_headers, tex=TRUE)\n",
    "etable(list_of_iv_models, vcov=~i+j, signif.code=signif.code, fitstat=~ . + sargan.p + wh.p + ivf,\n",
    "    headers=numbered_headers, tex=FALSE)"
   ]
  },
  {
   "cell_type": "markdown",
   "metadata": {},
   "source": [
    "### Робастность с выкидываем одного года"
   ]
  },
  {
   "cell_type": "code",
   "execution_count": 19,
   "metadata": {
    "vscode": {
     "languageId": "r"
    }
   },
   "outputs": [
    {
     "name": "stderr",
     "output_type": "stream",
     "text": [
      "NOTE: 8,651 observations removed because of NA and infinite values (LHS: 448, RHS: 6,383, IV: 2,686/7,242).\n",
      "\n"
     ]
    },
    {
     "data": {
      "text/plain": [
       "TSLS estimation - Dep. Var.: log(pvi)\n",
       "                  Endo.    : log(deaths_i), log(deaths_j)\n",
       "                  Instr.   : C1M_School_closing_i, C1M_School_closing_j, median_age_i, median_age_j, population_density_i, population_density_j\n",
       "Second stage: Dep. Var.: log(pvi)\n",
       "Observations: 37,734\n",
       "Fixed-effects: year: 2,  i: 175,  j: 175\n",
       "Standard-errors: Clustered (i & j) \n",
       "                                      Estimate Std. Error   t value Pr(>|t|) \n",
       "fit_log(deaths_i)                    -0.018923   0.043527 -0.434742  0.66429 \n",
       "fit_log(deaths_j)                    -0.010297   0.033263 -0.309580  0.75725 \n",
       "C8EV_International_travel_controls_i -0.038285   0.025561 -1.497803  0.13600 \n",
       "C8EV_International_travel_controls_j -0.018656   0.022651 -0.823649  0.41127 \n",
       "---\n",
       "Signif. codes:  0 '***' 0.001 '**' 0.01 '*' 0.05 '.' 0.1 ' ' 1\n",
       "RMSE: 1.20388     Adj. R2: 0.064592\n",
       "                Within R2: 2.457e-5\n",
       "F-test (1st stage), log(deaths_i): stat = 526.6    , p < 2.2e-16, on 6 and 37,377 DoF.\n",
       "F-test (1st stage), log(deaths_j): stat = 523.0    , p < 2.2e-16, on 6 and 37,377 DoF.\n",
       "                       Wu-Hausman: stat =   0.1283 , p = 0.87959, on 2 and 37,378 DoF.\n",
       "                           Sargan: stat =   1.17597, p = 0.88204, on 4 DoF."
      ]
     },
     "metadata": {},
     "output_type": "display_data"
    },
    {
     "name": "stderr",
     "output_type": "stream",
     "text": [
      "NOTE: 8,315 observations removed because of NA and infinite values (LHS: 448, RHS: 8,037).\n",
      "\n"
     ]
    },
    {
     "data": {
      "text/plain": [
       "OLS estimation, Dep. Var.: log(pvi)\n",
       "Observations: 38,070\n",
       "Fixed-effects: year: 2,  i: 175,  j: 175\n",
       "Standard-errors: Clustered (i & j) \n",
       "                                      Estimate Std. Error   t value Pr(>|t|) \n",
       "log(deaths_i)                        -0.003686   0.008410 -0.438238  0.66176 \n",
       "log(deaths_j)                        -0.001383   0.010638 -0.129996  0.89672 \n",
       "C8EV_International_travel_controls_i -0.029246   0.021260 -1.375623  0.17071 \n",
       "C8EV_International_travel_controls_j -0.016205   0.018940 -0.855575  0.39341 \n",
       "---\n",
       "Signif. codes:  0 '***' 0.001 '**' 0.01 '*' 0.05 '.' 0.1 ' ' 1\n",
       "RMSE: 1.20355     Adj. R2: 0.064756\n",
       "                Within R2: 1.02e-4 "
      ]
     },
     "metadata": {},
     "output_type": "display_data"
    }
   ],
   "source": [
    "fe_iv_no2020 = feols(log(pvi) ~  1 +\n",
    " C8EV_International_travel_controls_i + C8EV_International_travel_controls_j | year+i+j|\n",
    " log(deaths_i) + log(deaths_j) ~ \n",
    "# H6M_Facial_Coverings_i+H6M_Facial_Coverings_j\n",
    "# +\n",
    "C1M_School_closing_i+C1M_School_closing_j\n",
    "+\n",
    "median_age_i + median_age_j\n",
    "+\n",
    "population_density_i + population_density_j\n",
    "# +\n",
    "# average_surface_temperature_i + average_surface_temperature_j # Добавляет пропусков\n",
    "\n",
    " ,\n",
    " data = df %>% filter(year != \"2020\")\n",
    " )\n",
    "\n",
    "fe_iv_no2020 %>% summary(cluster = ~ i+j)\n",
    "\n",
    "feols(log(pvi) ~  1 + log(deaths_i) + log(deaths_j) +\n",
    " C8EV_International_travel_controls_i + C8EV_International_travel_controls_j | year+i+j,\n",
    " data = df %>% filter(year != \"2020\")) %>% summary(cluster = ~ i+j)"
   ]
  },
  {
   "cell_type": "code",
   "execution_count": 20,
   "metadata": {
    "vscode": {
     "languageId": "r"
    }
   },
   "outputs": [
    {
     "name": "stderr",
     "output_type": "stream",
     "text": [
      "NOTE: 10,033 observations removed because of NA and infinite values (LHS: 433, RHS: 6,512, IV: 4,510/7,371).\n",
      "\n"
     ]
    },
    {
     "data": {
      "text/plain": [
       "TSLS estimation - Dep. Var.: log(pvi)\n",
       "                  Endo.    : log(deaths_i), log(deaths_j)\n",
       "                  Instr.   : C1M_School_closing_i, C1M_School_closing_j, median_age_i, median_age_j, population_density_i, population_density_j\n",
       "Second stage: Dep. Var.: log(pvi)\n",
       "Observations: 36,716\n",
       "Fixed-effects: year: 2,  i: 175,  j: 175\n",
       "Standard-errors: Clustered (i & j) \n",
       "                                      Estimate Std. Error   t value Pr(>|t|) \n",
       "fit_log(deaths_i)                    -0.021265   0.024623 -0.863618  0.38899 \n",
       "fit_log(deaths_j)                    -0.000103   0.018908 -0.005469  0.99564 \n",
       "C8EV_International_travel_controls_i -0.042041   0.029512 -1.424564  0.15607 \n",
       "C8EV_International_travel_controls_j -0.046876   0.028680 -1.634458  0.10397 \n",
       "---\n",
       "Signif. codes:  0 '***' 0.001 '**' 0.01 '*' 0.05 '.' 0.1 ' ' 1\n",
       "RMSE: 1.13481     Adj. R2: 0.069122\n",
       "                Within R2: 2.02e-4 \n",
       "F-test (1st stage), log(deaths_i): stat = 1,339.5     , p < 2.2e-16 , on 6 and 36,359 DoF.\n",
       "F-test (1st stage), log(deaths_j): stat = 1,357.0     , p < 2.2e-16 , on 6 and 36,359 DoF.\n",
       "                       Wu-Hausman: stat =     0.464473, p = 0.62847 , on 2 and 36,360 DoF.\n",
       "                           Sargan: stat =    13.7     , p = 0.008463, on 4 DoF."
      ]
     },
     "metadata": {},
     "output_type": "display_data"
    },
    {
     "name": "stderr",
     "output_type": "stream",
     "text": [
      "NOTE: 9,697 observations removed because of NA and infinite values (LHS: 433, RHS: 9,442).\n",
      "\n"
     ]
    },
    {
     "data": {
      "text/plain": [
       "OLS estimation, Dep. Var.: log(pvi)\n",
       "Observations: 37,052\n",
       "Fixed-effects: year: 2,  i: 175,  j: 175\n",
       "Standard-errors: Clustered (i & j) \n",
       "                                      Estimate Std. Error  t value Pr(>|t|)    \n",
       "log(deaths_i)                        -0.008575   0.008337 -1.02860  0.30509    \n",
       "log(deaths_j)                        -0.008519   0.008221 -1.03623  0.30153    \n",
       "C8EV_International_travel_controls_i -0.035910   0.025286 -1.42016  0.15735    \n",
       "C8EV_International_travel_controls_j -0.055573   0.027289 -2.03646  0.04322 *  \n",
       "---\n",
       "Signif. codes:  0 '***' 0.001 '**' 0.01 '*' 0.05 '.' 0.1 ' ' 1\n",
       "RMSE: 1.13512     Adj. R2: 0.06926 \n",
       "                Within R2: 3.371e-4"
      ]
     },
     "metadata": {},
     "output_type": "display_data"
    }
   ],
   "source": [
    "fe_iv_no2021 = feols(log(pvi) ~  1 +\n",
    " C8EV_International_travel_controls_i + C8EV_International_travel_controls_j | year+i+j|\n",
    " log(deaths_i) + log(deaths_j) ~ \n",
    "# H6M_Facial_Coverings_i+H6M_Facial_Coverings_j\n",
    "# +\n",
    "C1M_School_closing_i+C1M_School_closing_j\n",
    "+\n",
    "median_age_i + median_age_j\n",
    "+\n",
    "population_density_i + population_density_j\n",
    "# +\n",
    "# average_surface_temperature_i + average_surface_temperature_j # Добавляет пропусков\n",
    "\n",
    " ,\n",
    " data = df %>% filter(year != \"2021\")\n",
    " )\n",
    "\n",
    "fe_iv_no2021 %>% summary(cluster = ~ i+j)\n",
    "\n",
    "feols(log(pvi) ~  1 + log(deaths_i) + log(deaths_j) +\n",
    " C8EV_International_travel_controls_i + C8EV_International_travel_controls_j | year+i+j,\n",
    " data = df %>% filter(year != \"2021\")) %>% summary(cluster = ~ i+j)"
   ]
  },
  {
   "cell_type": "code",
   "execution_count": 21,
   "metadata": {
    "vscode": {
     "languageId": "r"
    }
   },
   "outputs": [
    {
     "name": "stderr",
     "output_type": "stream",
     "text": [
      "NOTE: 9,898 observations removed because of NA and infinite values (LHS: 409, RHS: 6,709, IV: 4,938/6,709).\n",
      "\n"
     ]
    },
    {
     "data": {
      "text/plain": [
       "TSLS estimation - Dep. Var.: log(pvi)\n",
       "                  Endo.    : log(deaths_i), log(deaths_j)\n",
       "                  Instr.   : C1M_School_closing_i, C1M_School_closing_j, median_age_i, median_age_j, population_density_i, population_density_j\n",
       "Second stage: Dep. Var.: log(pvi)\n",
       "Observations: 37,582\n",
       "Fixed-effects: year: 2,  i: 171,  j: 171\n",
       "Standard-errors: Clustered (i & j) \n",
       "                                      Estimate Std. Error   t value Pr(>|t|) \n",
       "fit_log(deaths_i)                    -0.044444   0.033994 -1.307419  0.19284 \n",
       "fit_log(deaths_j)                     0.012552   0.045345  0.276806  0.78227 \n",
       "C8EV_International_travel_controls_i -0.003148   0.024339 -0.129330  0.89725 \n",
       "C8EV_International_travel_controls_j -0.020780   0.026277 -0.790810  0.43016 \n",
       "---\n",
       "Signif. codes:  0 '***' 0.001 '**' 0.01 '*' 0.05 '.' 0.1 ' ' 1\n",
       "RMSE: 1.09978     Adj. R2:  0.064375\n",
       "                Within R2: -9.236e-4\n",
       "F-test (1st stage), log(deaths_i): stat = 407.5    , p < 2.2e-16 , on 6 and 37,233 DoF.\n",
       "F-test (1st stage), log(deaths_j): stat = 406.3    , p < 2.2e-16 , on 6 and 37,233 DoF.\n",
       "                       Wu-Hausman: stat =   1.14643, p = 0.31778 , on 2 and 37,234 DoF.\n",
       "                           Sargan: stat =   7.10769, p = 0.130305, on 4 DoF."
      ]
     },
     "metadata": {},
     "output_type": "display_data"
    },
    {
     "name": "stderr",
     "output_type": "stream",
     "text": [
      "NOTE: 9,898 observations removed because of NA and infinite values (LHS: 409, RHS: 9,657).\n",
      "\n"
     ]
    },
    {
     "data": {
      "text/plain": [
       "OLS estimation, Dep. Var.: log(pvi)\n",
       "Observations: 37,582\n",
       "Fixed-effects: year: 2,  i: 171,  j: 171\n",
       "Standard-errors: Clustered (i & j) \n",
       "                                      Estimate Std. Error   t value Pr(>|t|) \n",
       "log(deaths_i)                         0.001408   0.007287  0.193175  0.84705 \n",
       "log(deaths_j)                        -0.013597   0.009654 -1.408468  0.16082 \n",
       "C8EV_International_travel_controls_i  0.005658   0.022578  0.250592  0.80243 \n",
       "C8EV_International_travel_controls_j -0.027211   0.025703 -1.058682  0.29125 \n",
       "---\n",
       "Signif. codes:  0 '***' 0.001 '**' 0.01 '*' 0.05 '.' 0.1 ' ' 1\n",
       "RMSE: 1.0992     Adj. R2: 0.065361\n",
       "               Within R2: 1.316e-4"
      ]
     },
     "metadata": {},
     "output_type": "display_data"
    }
   ],
   "source": [
    "fe_iv_no2022 = feols(log(pvi) ~  1 +\n",
    " C8EV_International_travel_controls_i + C8EV_International_travel_controls_j | year+i+j|\n",
    " log(deaths_i) + log(deaths_j) ~ \n",
    "# H6M_Facial_Coverings_i+H6M_Facial_Coverings_j\n",
    "# +\n",
    "C1M_School_closing_i+C1M_School_closing_j\n",
    "+\n",
    "median_age_i + median_age_j\n",
    "+\n",
    "population_density_i + population_density_j\n",
    "# +\n",
    "# average_surface_temperature_i + average_surface_temperature_j # Добавляет пропусков\n",
    "\n",
    " ,\n",
    " data = df %>% filter(year != \"2022\")\n",
    " )\n",
    "\n",
    "fe_iv_no2022 %>% summary(cluster = ~ i+j)\n",
    "\n",
    "feols(log(pvi) ~  1 + log(deaths_i) + log(deaths_j) +\n",
    " C8EV_International_travel_controls_i + C8EV_International_travel_controls_j | year+i+j,\n",
    " data = df %>% filter(year != \"2022\")) %>% summary(cluster = ~ i+j)"
   ]
  },
  {
   "cell_type": "markdown",
   "metadata": {},
   "source": [
    "### Экспорт результатов в латех"
   ]
  },
  {
   "cell_type": "code",
   "execution_count": 22,
   "metadata": {
    "vscode": {
     "languageId": "r"
    }
   },
   "outputs": [
    {
     "data": {
      "text/plain": [
       "\\begingroup\n",
       "\\centering\n",
       "\\begin{tabular}{lccc}\n",
       "   \\tabularnewline \\midrule \\midrule\n",
       "   Dependent Variable: & \\multicolumn{3}{c}{log(pvi)}\\\\\n",
       "   Model:                                                          & (1)           & (2)           & (3)\\\\  \n",
       "   \\midrule\n",
       "   \\emph{Variables}\\\\\n",
       "   log(deaths\\_i)                                                  & -0.0034       &               & -0.0164\\\\   \n",
       "                                                                   & (0.0060)      &               & (0.0252)\\\\   \n",
       "   log(deaths\\_j)                                                  & -0.0082       &               & -0.0094\\\\   \n",
       "                                                                   & (0.0065)      &               & (0.0218)\\\\   \n",
       "   C8EV\\_International\\_travel\\_controls\\_i                        & -0.0193       &               & -0.0246\\\\   \n",
       "                                                                   & (0.0153)      &               & (0.0168)\\\\   \n",
       "   C8EV\\_International\\_travel\\_controls\\_j                        & -0.0310$^{.}$ &               & -0.0288\\\\   \n",
       "                                                                   & (0.0162)      &               & (0.0175)\\\\   \n",
       "   year2021                                                        &               & -0.0831       &   \\\\   \n",
       "                                                                   &               & (0.1078)      &   \\\\   \n",
       "   year2022                                                        &               & -0.0393       &   \\\\   \n",
       "                                                                   &               & (0.1215)      &   \\\\   \n",
       "   year2020 $\\times$ log(deaths\\_i)                                &               & -0.0025       &   \\\\   \n",
       "                                                                   &               & (0.0070)      &   \\\\   \n",
       "   year2021 $\\times$ log(deaths\\_i)                                &               & -0.0055       &   \\\\   \n",
       "                                                                   &               & (0.0066)      &   \\\\   \n",
       "   year2022 $\\times$ log(deaths\\_i)                                &               & -0.0044       &   \\\\   \n",
       "                                                                   &               & (0.0081)      &   \\\\   \n",
       "   year2020 $\\times$ log(deaths\\_j)                                &               & -0.0174$^{*}$ &   \\\\   \n",
       "                                                                   &               & (0.0078)      &   \\\\   \n",
       "   year2021 $\\times$ log(deaths\\_j)                                &               & -0.0115       &   \\\\   \n",
       "                                                                   &               & (0.0091)      &   \\\\   \n",
       "   year2022 $\\times$ log(deaths\\_j)                                &               & -0.0004       &   \\\\   \n",
       "                                                                   &               & (0.0081)      &   \\\\   \n",
       "   year2020 $\\times$ C8EV\\_International\\_travel\\_controls\\_i      &               & -0.0392       &   \\\\   \n",
       "                                                                   &               & (0.0298)      &   \\\\   \n",
       "   year2021 $\\times$ C8EV\\_International\\_travel\\_controls\\_i      &               & -0.0056       &   \\\\   \n",
       "                                                                   &               & (0.0153)      &   \\\\   \n",
       "   year2022 $\\times$ C8EV\\_International\\_travel\\_controls\\_i      &               & -0.0402       &   \\\\   \n",
       "                                                                   &               & (0.0447)      &   \\\\   \n",
       "   year2020 $\\times$ C8EV\\_International\\_travel\\_controls\\_j      &               & -0.0643$^{.}$ &   \\\\   \n",
       "                                                                   &               & (0.0351)      &   \\\\   \n",
       "   year2021 $\\times$ C8EV\\_International\\_travel\\_controls\\_j      &               & -0.0125       &   \\\\   \n",
       "                                                                   &               & (0.0142)      &   \\\\   \n",
       "   year2022 $\\times$ C8EV\\_International\\_travel\\_controls\\_j      &               & -0.0147       &   \\\\   \n",
       "                                                                   &               & (0.0414)      &   \\\\   \n",
       "   \\midrule\n",
       "   \\emph{Fixed-effects}\\\\\n",
       "   i                                                               & Yes           & Yes           & Yes\\\\  \n",
       "   j                                                               & Yes           & Yes           & Yes\\\\  \n",
       "   year                                                            & Yes           &               & Yes\\\\  \n",
       "   \\midrule\n",
       "   \\emph{Fit statistics}\\\\\n",
       "   Observations                                                    & 56,352        & 56,352        & 56,016\\\\  \n",
       "   R$^2$                                                           & 0.07188       & 0.07214       & 0.07178\\\\  \n",
       "   Within R$^2$                                                    & 0.00017       & 0.00341       & $7.59\\times 10^{-5}$\\\\   \n",
       "   Sargan, p-value                                                 &               &               & 0.32630\\\\  \n",
       "   Wu-Hausman, p-value                                             &               &               & 0.79327\\\\  \n",
       "   F-test (1st stage), log(deaths\\_i)                              &               &               & 945.95\\\\  \n",
       "   F-test (1st stage), log(deaths\\_j)                              &               &               & 913.24\\\\  \n",
       "   \\midrule \\midrule\n",
       "   \\multicolumn{4}{l}{\\emph{Clustered (i \\& j) standard-errors in parentheses}}\\\\\n",
       "   \\multicolumn{4}{l}{\\emph{Signif. Codes: ***: 0.001, **: 0.01, *: 0.05, .: 0.1}}\\\\\n",
       "\\end{tabular}\n",
       "\\par\\endgroup"
      ]
     },
     "metadata": {},
     "output_type": "display_data"
    }
   ],
   "source": [
    "etable(fe_no_iv, heterogenous_fe, fe_iv, vcov = ~i+j, signif.code=signif.code, fitstat=~ . + sargan.p + wh.p + ivf, tex=TRUE)"
   ]
  },
  {
   "cell_type": "code",
   "execution_count": 23,
   "metadata": {
    "vscode": {
     "languageId": "r"
    }
   },
   "outputs": [
    {
     "data": {
      "text/html": [
       "<table class=\"dataframe\">\n",
       "<caption>A etable_df: 33 × 4</caption>\n",
       "<thead>\n",
       "\t<tr><th></th><th scope=col></th><th scope=col>fe_no_iv</th><th scope=col>heterogenous_fe</th><th scope=col>fe_iv</th></tr>\n",
       "\t<tr><th></th><th scope=col>&lt;chr&gt;</th><th scope=col>&lt;chr&gt;</th><th scope=col>&lt;chr&gt;</th><th scope=col>&lt;chr&gt;</th></tr>\n",
       "</thead>\n",
       "<tbody>\n",
       "\t<tr><th scope=row>1</th><td>Dependent Var.:                                </td><td>log(pvi)         </td><td>log(pvi)         </td><td>log(pvi)        </td></tr>\n",
       "\t<tr><th scope=row>2</th><td>                                               </td><td>                 </td><td>                 </td><td>                </td></tr>\n",
       "\t<tr><th scope=row>3</th><td>log(deaths_i)                                  </td><td>-0.0034 (0.0060) </td><td>                 </td><td>-0.0164 (0.0252)</td></tr>\n",
       "\t<tr><th scope=row>4</th><td>log(deaths_j)                                  </td><td>-0.0082 (0.0065) </td><td>                 </td><td>-0.0094 (0.0218)</td></tr>\n",
       "\t<tr><th scope=row>5</th><td>C8EV_International_travel_controls_i           </td><td>-0.0193 (0.0153) </td><td>                 </td><td>-0.0246 (0.0168)</td></tr>\n",
       "\t<tr><th scope=row>6</th><td>C8EV_International_travel_controls_j           </td><td>-0.0310. (0.0162)</td><td>                 </td><td>-0.0288 (0.0175)</td></tr>\n",
       "\t<tr><th scope=row>7</th><td>year2021                                       </td><td>                 </td><td>-0.0831 (0.1078) </td><td>                </td></tr>\n",
       "\t<tr><th scope=row>8</th><td>year2022                                       </td><td>                 </td><td>-0.0393 (0.1215) </td><td>                </td></tr>\n",
       "\t<tr><th scope=row>9</th><td>year2020 x log(deaths_i)                       </td><td>                 </td><td>-0.0025 (0.0070) </td><td>                </td></tr>\n",
       "\t<tr><th scope=row>10</th><td>year2021 x log(deaths_i)                       </td><td>                 </td><td>-0.0055 (0.0066) </td><td>                </td></tr>\n",
       "\t<tr><th scope=row>11</th><td>year2022 x log(deaths_i)                       </td><td>                 </td><td>-0.0044 (0.0081) </td><td>                </td></tr>\n",
       "\t<tr><th scope=row>12</th><td>year2020 x log(deaths_j)                       </td><td>                 </td><td>-0.0174* (0.0078)</td><td>                </td></tr>\n",
       "\t<tr><th scope=row>13</th><td>year2021 x log(deaths_j)                       </td><td>                 </td><td>-0.0115 (0.0091) </td><td>                </td></tr>\n",
       "\t<tr><th scope=row>14</th><td>year2022 x log(deaths_j)                       </td><td>                 </td><td>-0.0004 (0.0081) </td><td>                </td></tr>\n",
       "\t<tr><th scope=row>15</th><td>year2020 x C8EV_International_travel_controls_i</td><td>                 </td><td>-0.0392 (0.0298) </td><td>                </td></tr>\n",
       "\t<tr><th scope=row>16</th><td>year2021 x C8EV_International_travel_controls_i</td><td>                 </td><td>-0.0056 (0.0153) </td><td>                </td></tr>\n",
       "\t<tr><th scope=row>17</th><td>year2022 x C8EV_International_travel_controls_i</td><td>                 </td><td>-0.0402 (0.0447) </td><td>                </td></tr>\n",
       "\t<tr><th scope=row>18</th><td>year2020 x C8EV_International_travel_controls_j</td><td>                 </td><td>-0.0643. (0.0351)</td><td>                </td></tr>\n",
       "\t<tr><th scope=row>19</th><td>year2021 x C8EV_International_travel_controls_j</td><td>                 </td><td>-0.0125 (0.0142) </td><td>                </td></tr>\n",
       "\t<tr><th scope=row>20</th><td>year2022 x C8EV_International_travel_controls_j</td><td>                 </td><td>-0.0147 (0.0414) </td><td>                </td></tr>\n",
       "\t<tr><th scope=row>21</th><td>Fixed-Effects:                                 </td><td>-----------------</td><td>-----------------</td><td>----------------</td></tr>\n",
       "\t<tr><th scope=row>22</th><td>i                                              </td><td>Yes              </td><td>Yes              </td><td>Yes             </td></tr>\n",
       "\t<tr><th scope=row>23</th><td>j                                              </td><td>Yes              </td><td>Yes              </td><td>Yes             </td></tr>\n",
       "\t<tr><th scope=row>24</th><td>year                                           </td><td>Yes              </td><td>No               </td><td>Yes             </td></tr>\n",
       "\t<tr><th scope=row>25</th><td>________________________________________       </td><td>_________________</td><td>_________________</td><td>________________</td></tr>\n",
       "\t<tr><th scope=row>26</th><td><span style=white-space:pre-wrap>S.E.: Clustered                                </span></td><td><span style=white-space:pre-wrap>by: i &amp; j        </span></td><td><span style=white-space:pre-wrap>by: i &amp; j        </span></td><td><span style=white-space:pre-wrap>by: i &amp; j       </span></td></tr>\n",
       "\t<tr><th scope=row>27</th><td>Observations                                   </td><td>56,352           </td><td>56,352           </td><td>56,016          </td></tr>\n",
       "\t<tr><th scope=row>28</th><td>R2                                             </td><td>0.07188          </td><td>0.07214          </td><td>0.07178         </td></tr>\n",
       "\t<tr><th scope=row>29</th><td>Within R2                                      </td><td>0.00017          </td><td>0.00341          </td><td>7.59e-5         </td></tr>\n",
       "\t<tr><th scope=row>30</th><td>Sargan, p-value                                </td><td>--               </td><td>--               </td><td>0.32630         </td></tr>\n",
       "\t<tr><th scope=row>31</th><td>Wu-Hausman, p-value                            </td><td>--               </td><td>--               </td><td>0.79327         </td></tr>\n",
       "\t<tr><th scope=row>32</th><td>F-test (1st stage), log(deaths_i)              </td><td>--               </td><td>--               </td><td>945.95          </td></tr>\n",
       "\t<tr><th scope=row>33</th><td>F-test (1st stage), log(deaths_j)              </td><td>--               </td><td>--               </td><td>913.24          </td></tr>\n",
       "</tbody>\n",
       "</table>\n"
      ],
      "text/latex": [
       "A etable\\_df: 33 × 4\n",
       "\\begin{tabular}{r|llll}\n",
       "  &  & fe\\_no\\_iv & heterogenous\\_fe & fe\\_iv\\\\\n",
       "  & <chr> & <chr> & <chr> & <chr>\\\\\n",
       "\\hline\n",
       "\t1 & Dependent Var.:                                 & log(pvi)          & log(pvi)          & log(pvi)        \\\\\n",
       "\t2 &                                                 &                   &                   &                 \\\\\n",
       "\t3 & log(deaths\\_i)                                   & -0.0034 (0.0060)  &                   & -0.0164 (0.0252)\\\\\n",
       "\t4 & log(deaths\\_j)                                   & -0.0082 (0.0065)  &                   & -0.0094 (0.0218)\\\\\n",
       "\t5 & C8EV\\_International\\_travel\\_controls\\_i            & -0.0193 (0.0153)  &                   & -0.0246 (0.0168)\\\\\n",
       "\t6 & C8EV\\_International\\_travel\\_controls\\_j            & -0.0310. (0.0162) &                   & -0.0288 (0.0175)\\\\\n",
       "\t7 & year2021                                        &                   & -0.0831 (0.1078)  &                 \\\\\n",
       "\t8 & year2022                                        &                   & -0.0393 (0.1215)  &                 \\\\\n",
       "\t9 & year2020 x log(deaths\\_i)                        &                   & -0.0025 (0.0070)  &                 \\\\\n",
       "\t10 & year2021 x log(deaths\\_i)                        &                   & -0.0055 (0.0066)  &                 \\\\\n",
       "\t11 & year2022 x log(deaths\\_i)                        &                   & -0.0044 (0.0081)  &                 \\\\\n",
       "\t12 & year2020 x log(deaths\\_j)                        &                   & -0.0174* (0.0078) &                 \\\\\n",
       "\t13 & year2021 x log(deaths\\_j)                        &                   & -0.0115 (0.0091)  &                 \\\\\n",
       "\t14 & year2022 x log(deaths\\_j)                        &                   & -0.0004 (0.0081)  &                 \\\\\n",
       "\t15 & year2020 x C8EV\\_International\\_travel\\_controls\\_i &                   & -0.0392 (0.0298)  &                 \\\\\n",
       "\t16 & year2021 x C8EV\\_International\\_travel\\_controls\\_i &                   & -0.0056 (0.0153)  &                 \\\\\n",
       "\t17 & year2022 x C8EV\\_International\\_travel\\_controls\\_i &                   & -0.0402 (0.0447)  &                 \\\\\n",
       "\t18 & year2020 x C8EV\\_International\\_travel\\_controls\\_j &                   & -0.0643. (0.0351) &                 \\\\\n",
       "\t19 & year2021 x C8EV\\_International\\_travel\\_controls\\_j &                   & -0.0125 (0.0142)  &                 \\\\\n",
       "\t20 & year2022 x C8EV\\_International\\_travel\\_controls\\_j &                   & -0.0147 (0.0414)  &                 \\\\\n",
       "\t21 & Fixed-Effects:                                  & ----------------- & ----------------- & ----------------\\\\\n",
       "\t22 & i                                               & Yes               & Yes               & Yes             \\\\\n",
       "\t23 & j                                               & Yes               & Yes               & Yes             \\\\\n",
       "\t24 & year                                            & Yes               & No                & Yes             \\\\\n",
       "\t25 & \\_\\_\\_\\_\\_\\_\\_\\_\\_\\_\\_\\_\\_\\_\\_\\_\\_\\_\\_\\_\\_\\_\\_\\_\\_\\_\\_\\_\\_\\_\\_\\_\\_\\_\\_\\_\\_\\_\\_\\_        & \\_\\_\\_\\_\\_\\_\\_\\_\\_\\_\\_\\_\\_\\_\\_\\_\\_ & \\_\\_\\_\\_\\_\\_\\_\\_\\_\\_\\_\\_\\_\\_\\_\\_\\_ & \\_\\_\\_\\_\\_\\_\\_\\_\\_\\_\\_\\_\\_\\_\\_\\_\\\\\n",
       "\t26 & S.E.: Clustered                                 & by: i \\& j         & by: i \\& j         & by: i \\& j       \\\\\n",
       "\t27 & Observations                                    & 56,352            & 56,352            & 56,016          \\\\\n",
       "\t28 & R2                                              & 0.07188           & 0.07214           & 0.07178         \\\\\n",
       "\t29 & Within R2                                       & 0.00017           & 0.00341           & 7.59e-5         \\\\\n",
       "\t30 & Sargan, p-value                                 & --                & --                & 0.32630         \\\\\n",
       "\t31 & Wu-Hausman, p-value                             & --                & --                & 0.79327         \\\\\n",
       "\t32 & F-test (1st stage), log(deaths\\_i)               & --                & --                & 945.95          \\\\\n",
       "\t33 & F-test (1st stage), log(deaths\\_j)               & --                & --                & 913.24          \\\\\n",
       "\\end{tabular}\n"
      ],
      "text/markdown": [
       "\n",
       "A etable_df: 33 × 4\n",
       "\n",
       "| <!--/--> | <!----> &lt;chr&gt; | fe_no_iv &lt;chr&gt; | heterogenous_fe &lt;chr&gt; | fe_iv &lt;chr&gt; |\n",
       "|---|---|---|---|---|\n",
       "| 1 | Dependent Var.:                                 | log(pvi)          | log(pvi)          | log(pvi)         |\n",
       "| 2 | <!----> | <!----> | <!----> | <!----> |\n",
       "| 3 | log(deaths_i)                                   | -0.0034 (0.0060)  | <!----> | -0.0164 (0.0252) |\n",
       "| 4 | log(deaths_j)                                   | -0.0082 (0.0065)  | <!----> | -0.0094 (0.0218) |\n",
       "| 5 | C8EV_International_travel_controls_i            | -0.0193 (0.0153)  | <!----> | -0.0246 (0.0168) |\n",
       "| 6 | C8EV_International_travel_controls_j            | -0.0310. (0.0162) | <!----> | -0.0288 (0.0175) |\n",
       "| 7 | year2021                                        | <!----> | -0.0831 (0.1078)  | <!----> |\n",
       "| 8 | year2022                                        | <!----> | -0.0393 (0.1215)  | <!----> |\n",
       "| 9 | year2020 x log(deaths_i)                        | <!----> | -0.0025 (0.0070)  | <!----> |\n",
       "| 10 | year2021 x log(deaths_i)                        | <!----> | -0.0055 (0.0066)  | <!----> |\n",
       "| 11 | year2022 x log(deaths_i)                        | <!----> | -0.0044 (0.0081)  | <!----> |\n",
       "| 12 | year2020 x log(deaths_j)                        | <!----> | -0.0174* (0.0078) | <!----> |\n",
       "| 13 | year2021 x log(deaths_j)                        | <!----> | -0.0115 (0.0091)  | <!----> |\n",
       "| 14 | year2022 x log(deaths_j)                        | <!----> | -0.0004 (0.0081)  | <!----> |\n",
       "| 15 | year2020 x C8EV_International_travel_controls_i | <!----> | -0.0392 (0.0298)  | <!----> |\n",
       "| 16 | year2021 x C8EV_International_travel_controls_i | <!----> | -0.0056 (0.0153)  | <!----> |\n",
       "| 17 | year2022 x C8EV_International_travel_controls_i | <!----> | -0.0402 (0.0447)  | <!----> |\n",
       "| 18 | year2020 x C8EV_International_travel_controls_j | <!----> | -0.0643. (0.0351) | <!----> |\n",
       "| 19 | year2021 x C8EV_International_travel_controls_j | <!----> | -0.0125 (0.0142)  | <!----> |\n",
       "| 20 | year2022 x C8EV_International_travel_controls_j | <!----> | -0.0147 (0.0414)  | <!----> |\n",
       "| 21 | Fixed-Effects:                                  | ----------------- | ----------------- | ---------------- |\n",
       "| 22 | i                                               | Yes               | Yes               | Yes              |\n",
       "| 23 | j                                               | Yes               | Yes               | Yes              |\n",
       "| 24 | year                                            | Yes               | No                | Yes              |\n",
       "| 25 | ________________________________________        | _________________ | _________________ | ________________ |\n",
       "| 26 | S.E.: Clustered                                 | by: i &amp; j         | by: i &amp; j         | by: i &amp; j        |\n",
       "| 27 | Observations                                    | 56,352            | 56,352            | 56,016           |\n",
       "| 28 | R2                                              | 0.07188           | 0.07214           | 0.07178          |\n",
       "| 29 | Within R2                                       | 0.00017           | 0.00341           | 7.59e-5          |\n",
       "| 30 | Sargan, p-value                                 | --                | --                | 0.32630          |\n",
       "| 31 | Wu-Hausman, p-value                             | --                | --                | 0.79327          |\n",
       "| 32 | F-test (1st stage), log(deaths_i)               | --                | --                | 945.95           |\n",
       "| 33 | F-test (1st stage), log(deaths_j)               | --                | --                | 913.24           |\n",
       "\n"
      ],
      "text/plain": [
       "                                                   fe_no_iv         \n",
       "1  Dependent Var.:                                 log(pvi)         \n",
       "2                                                                   \n",
       "3  log(deaths_i)                                   -0.0034 (0.0060) \n",
       "4  log(deaths_j)                                   -0.0082 (0.0065) \n",
       "5  C8EV_International_travel_controls_i            -0.0193 (0.0153) \n",
       "6  C8EV_International_travel_controls_j            -0.0310. (0.0162)\n",
       "7  year2021                                                         \n",
       "8  year2022                                                         \n",
       "9  year2020 x log(deaths_i)                                         \n",
       "10 year2021 x log(deaths_i)                                         \n",
       "11 year2022 x log(deaths_i)                                         \n",
       "12 year2020 x log(deaths_j)                                         \n",
       "13 year2021 x log(deaths_j)                                         \n",
       "14 year2022 x log(deaths_j)                                         \n",
       "15 year2020 x C8EV_International_travel_controls_i                  \n",
       "16 year2021 x C8EV_International_travel_controls_i                  \n",
       "17 year2022 x C8EV_International_travel_controls_i                  \n",
       "18 year2020 x C8EV_International_travel_controls_j                  \n",
       "19 year2021 x C8EV_International_travel_controls_j                  \n",
       "20 year2022 x C8EV_International_travel_controls_j                  \n",
       "21 Fixed-Effects:                                  -----------------\n",
       "22 i                                               Yes              \n",
       "23 j                                               Yes              \n",
       "24 year                                            Yes              \n",
       "25 ________________________________________        _________________\n",
       "26 S.E.: Clustered                                 by: i & j        \n",
       "27 Observations                                    56,352           \n",
       "28 R2                                              0.07188          \n",
       "29 Within R2                                       0.00017          \n",
       "30 Sargan, p-value                                 --               \n",
       "31 Wu-Hausman, p-value                             --               \n",
       "32 F-test (1st stage), log(deaths_i)               --               \n",
       "33 F-test (1st stage), log(deaths_j)               --               \n",
       "   heterogenous_fe   fe_iv           \n",
       "1  log(pvi)          log(pvi)        \n",
       "2                                    \n",
       "3                    -0.0164 (0.0252)\n",
       "4                    -0.0094 (0.0218)\n",
       "5                    -0.0246 (0.0168)\n",
       "6                    -0.0288 (0.0175)\n",
       "7  -0.0831 (0.1078)                  \n",
       "8  -0.0393 (0.1215)                  \n",
       "9  -0.0025 (0.0070)                  \n",
       "10 -0.0055 (0.0066)                  \n",
       "11 -0.0044 (0.0081)                  \n",
       "12 -0.0174* (0.0078)                 \n",
       "13 -0.0115 (0.0091)                  \n",
       "14 -0.0004 (0.0081)                  \n",
       "15 -0.0392 (0.0298)                  \n",
       "16 -0.0056 (0.0153)                  \n",
       "17 -0.0402 (0.0447)                  \n",
       "18 -0.0643. (0.0351)                 \n",
       "19 -0.0125 (0.0142)                  \n",
       "20 -0.0147 (0.0414)                  \n",
       "21 ----------------- ----------------\n",
       "22 Yes               Yes             \n",
       "23 Yes               Yes             \n",
       "24 No                Yes             \n",
       "25 _________________ ________________\n",
       "26 by: i & j         by: i & j       \n",
       "27 56,352            56,016          \n",
       "28 0.07214           0.07178         \n",
       "29 0.00341           7.59e-5         \n",
       "30 --                0.32630         \n",
       "31 --                0.79327         \n",
       "32 --                945.95          \n",
       "33 --                913.24          "
      ]
     },
     "metadata": {},
     "output_type": "display_data"
    }
   ],
   "source": [
    "etable(fe_no_iv, heterogenous_fe, fe_iv, vcov = ~i+j, signif.code=signif.code, fitstat=~ . + sargan.p + wh.p + ivf, tex=FALSE)"
   ]
  }
 ],
 "metadata": {
  "kernelspec": {
   "display_name": "R",
   "language": "R",
   "name": "ir"
  },
  "language_info": {
   "codemirror_mode": "r",
   "file_extension": ".r",
   "mimetype": "text/x-r-source",
   "name": "R",
   "pygments_lexer": "r",
   "version": "4.4.1"
  }
 },
 "nbformat": 4,
 "nbformat_minor": 2
}
