{
 "cells": [
  {
   "cell_type": "markdown",
   "metadata": {},
   "source": [
    "# Как число смертей зависит от международной торговли"
   ]
  },
  {
   "cell_type": "code",
   "execution_count": 3,
   "metadata": {
    "vscode": {
     "languageId": "r"
    }
   },
   "outputs": [
    {
     "name": "stderr",
     "output_type": "stream",
     "text": [
      "\n",
      "Присоединяю пакет: 'arrow'\n",
      "\n",
      "\n",
      "Следующий объект скрыт от 'package:utils':\n",
      "\n",
      "    timestamp\n",
      "\n",
      "\n"
     ]
    }
   ],
   "source": [
    "library(fixest)\n",
    "library(arrow)\n",
    "library(tidyr)"
   ]
  },
  {
   "cell_type": "code",
   "execution_count": 4,
   "metadata": {
    "vscode": {
     "languageId": "r"
    }
   },
   "outputs": [
    {
     "data": {
      "text/html": [
       "<table class=\"dataframe\">\n",
       "<caption>A tibble: 6 × 58</caption>\n",
       "<thead>\n",
       "\t<tr><th scope=col>country</th><th scope=col>t</th><th scope=col>cases</th><th scope=col>deaths</th><th scope=col>tests</th><th scope=col>C1M_School_closing</th><th scope=col>C2M_Workplace_closing</th><th scope=col>C3M_Cancel_public_events</th><th scope=col>C4M_Restrictions_on_gatherings</th><th scope=col>C5M_Close_public_transport</th><th scope=col>⋯</th><th scope=col>female_mortality</th><th scope=col>male_mortality</th><th scope=col>infant_mortality</th><th scope=col>largest_city_share</th><th scope=col>urbanization</th><th scope=col>country:household_size</th><th scope=col>avg_hh_size</th><th scope=col>share_1_members</th><th scope=col>share_2_3_members</th><th scope=col>share_4_5_members</th></tr>\n",
       "\t<tr><th scope=col>&lt;chr&gt;</th><th scope=col>&lt;int&gt;</th><th scope=col>&lt;dbl&gt;</th><th scope=col>&lt;dbl&gt;</th><th scope=col>&lt;chr&gt;</th><th scope=col>&lt;dbl&gt;</th><th scope=col>&lt;dbl&gt;</th><th scope=col>&lt;dbl&gt;</th><th scope=col>&lt;dbl&gt;</th><th scope=col>&lt;dbl&gt;</th><th scope=col>⋯</th><th scope=col>&lt;dbl&gt;</th><th scope=col>&lt;dbl&gt;</th><th scope=col>&lt;dbl&gt;</th><th scope=col>&lt;dbl&gt;</th><th scope=col>&lt;dbl&gt;</th><th scope=col>&lt;chr&gt;</th><th scope=col>&lt;dbl&gt;</th><th scope=col>&lt;dbl&gt;</th><th scope=col>&lt;dbl&gt;</th><th scope=col>&lt;dbl&gt;</th></tr>\n",
       "</thead>\n",
       "<tbody>\n",
       "\t<tr><td>SLV</td><td>2020</td><td> 19.6259116</td><td>0.57060773</td><td>NA</td><td>2.426229</td><td>1.4344262</td><td>1.306011</td><td>2.297814</td><td>0.8333333</td><td>⋯</td><td>124.344</td><td>293.265</td><td>11.0</td><td>24.14867</td><td>17.73575</td><td>SLV</td><td>3.92</td><td> 8.46</td><td>36.01</td><td>37.84</td></tr>\n",
       "\t<tr><td>ASM</td><td>2022</td><td>467.6200274</td><td>1.92600000</td><td>NA</td><td>      NA</td><td>       NA</td><td>      NA</td><td>      NA</td><td>       NA</td><td>⋯</td><td>     NA</td><td>     NA</td><td>  NA</td><td>      NA</td><td>      NA</td><td>NA </td><td>  NA</td><td>   NA</td><td>   NA</td><td>   NA</td></tr>\n",
       "\t<tr><td>BOL</td><td>2020</td><td> 35.1308840</td><td>2.07754144</td><td>NA</td><td>2.418033</td><td>1.8306011</td><td>1.527322</td><td>2.844262</td><td>1.4207650</td><td>⋯</td><td>190.705</td><td>316.665</td><td>21.0</td><td>22.42107</td><td>41.25143</td><td>BOL</td><td>3.53</td><td>20.34</td><td>34.82</td><td>27.64</td></tr>\n",
       "\t<tr><td>SLE</td><td>2020</td><td>  0.8507182</td><td>0.02530387</td><td>NA</td><td>1.606557</td><td>0.2349727</td><td>1.087432</td><td>1.822404</td><td>0.3360656</td><td>⋯</td><td>228.946</td><td>270.279</td><td>80.3</td><td>35.38844</td><td>15.18978</td><td>SLE</td><td>5.29</td><td> 6.42</td><td>20.52</td><td>33.28</td></tr>\n",
       "\t<tr><td>LKA</td><td>2020</td><td>  4.9664917</td><td>0.02309392</td><td>NA</td><td>1.931694</td><td>0.5546448</td><td>1.027322</td><td>2.180328</td><td>0.4508197</td><td>⋯</td><td> 65.980</td><td>152.109</td><td> 6.0</td><td>14.93368</td><td>      NA</td><td>NA </td><td>  NA</td><td>   NA</td><td>   NA</td><td>   NA</td></tr>\n",
       "\t<tr><td>ATG</td><td>2022</td><td>143.9042740</td><td>0.82619178</td><td>NA</td><td>      NA</td><td>       NA</td><td>      NA</td><td>      NA</td><td>       NA</td><td>⋯</td><td> 60.727</td><td>104.913</td><td> 8.1</td><td>      NA</td><td>      NA</td><td>NA </td><td>  NA</td><td>   NA</td><td>   NA</td><td>   NA</td></tr>\n",
       "</tbody>\n",
       "</table>\n"
      ],
      "text/latex": [
       "A tibble: 6 × 58\n",
       "\\begin{tabular}{lllllllllllllllllllll}\n",
       " country & t & cases & deaths & tests & C1M\\_School\\_closing & C2M\\_Workplace\\_closing & C3M\\_Cancel\\_public\\_events & C4M\\_Restrictions\\_on\\_gatherings & C5M\\_Close\\_public\\_transport & ⋯ & female\\_mortality & male\\_mortality & infant\\_mortality & largest\\_city\\_share & urbanization & country:household\\_size & avg\\_hh\\_size & share\\_1\\_members & share\\_2\\_3\\_members & share\\_4\\_5\\_members\\\\\n",
       " <chr> & <int> & <dbl> & <dbl> & <chr> & <dbl> & <dbl> & <dbl> & <dbl> & <dbl> & ⋯ & <dbl> & <dbl> & <dbl> & <dbl> & <dbl> & <chr> & <dbl> & <dbl> & <dbl> & <dbl>\\\\\n",
       "\\hline\n",
       "\t SLV & 2020 &  19.6259116 & 0.57060773 & NA & 2.426229 & 1.4344262 & 1.306011 & 2.297814 & 0.8333333 & ⋯ & 124.344 & 293.265 & 11.0 & 24.14867 & 17.73575 & SLV & 3.92 &  8.46 & 36.01 & 37.84\\\\\n",
       "\t ASM & 2022 & 467.6200274 & 1.92600000 & NA &       NA &        NA &       NA &       NA &        NA & ⋯ &      NA &      NA &   NA &       NA &       NA & NA  &   NA &    NA &    NA &    NA\\\\\n",
       "\t BOL & 2020 &  35.1308840 & 2.07754144 & NA & 2.418033 & 1.8306011 & 1.527322 & 2.844262 & 1.4207650 & ⋯ & 190.705 & 316.665 & 21.0 & 22.42107 & 41.25143 & BOL & 3.53 & 20.34 & 34.82 & 27.64\\\\\n",
       "\t SLE & 2020 &   0.8507182 & 0.02530387 & NA & 1.606557 & 0.2349727 & 1.087432 & 1.822404 & 0.3360656 & ⋯ & 228.946 & 270.279 & 80.3 & 35.38844 & 15.18978 & SLE & 5.29 &  6.42 & 20.52 & 33.28\\\\\n",
       "\t LKA & 2020 &   4.9664917 & 0.02309392 & NA & 1.931694 & 0.5546448 & 1.027322 & 2.180328 & 0.4508197 & ⋯ &  65.980 & 152.109 &  6.0 & 14.93368 &       NA & NA  &   NA &    NA &    NA &    NA\\\\\n",
       "\t ATG & 2022 & 143.9042740 & 0.82619178 & NA &       NA &        NA &       NA &       NA &        NA & ⋯ &  60.727 & 104.913 &  8.1 &       NA &       NA & NA  &   NA &    NA &    NA &    NA\\\\\n",
       "\\end{tabular}\n"
      ],
      "text/markdown": [
       "\n",
       "A tibble: 6 × 58\n",
       "\n",
       "| country &lt;chr&gt; | t &lt;int&gt; | cases &lt;dbl&gt; | deaths &lt;dbl&gt; | tests &lt;chr&gt; | C1M_School_closing &lt;dbl&gt; | C2M_Workplace_closing &lt;dbl&gt; | C3M_Cancel_public_events &lt;dbl&gt; | C4M_Restrictions_on_gatherings &lt;dbl&gt; | C5M_Close_public_transport &lt;dbl&gt; | ⋯ ⋯ | female_mortality &lt;dbl&gt; | male_mortality &lt;dbl&gt; | infant_mortality &lt;dbl&gt; | largest_city_share &lt;dbl&gt; | urbanization &lt;dbl&gt; | country:household_size &lt;chr&gt; | avg_hh_size &lt;dbl&gt; | share_1_members &lt;dbl&gt; | share_2_3_members &lt;dbl&gt; | share_4_5_members &lt;dbl&gt; |\n",
       "|---|---|---|---|---|---|---|---|---|---|---|---|---|---|---|---|---|---|---|---|---|\n",
       "| SLV | 2020 |  19.6259116 | 0.57060773 | NA | 2.426229 | 1.4344262 | 1.306011 | 2.297814 | 0.8333333 | ⋯ | 124.344 | 293.265 | 11.0 | 24.14867 | 17.73575 | SLV | 3.92 |  8.46 | 36.01 | 37.84 |\n",
       "| ASM | 2022 | 467.6200274 | 1.92600000 | NA |       NA |        NA |       NA |       NA |        NA | ⋯ |      NA |      NA |   NA |       NA |       NA | NA  |   NA |    NA |    NA |    NA |\n",
       "| BOL | 2020 |  35.1308840 | 2.07754144 | NA | 2.418033 | 1.8306011 | 1.527322 | 2.844262 | 1.4207650 | ⋯ | 190.705 | 316.665 | 21.0 | 22.42107 | 41.25143 | BOL | 3.53 | 20.34 | 34.82 | 27.64 |\n",
       "| SLE | 2020 |   0.8507182 | 0.02530387 | NA | 1.606557 | 0.2349727 | 1.087432 | 1.822404 | 0.3360656 | ⋯ | 228.946 | 270.279 | 80.3 | 35.38844 | 15.18978 | SLE | 5.29 |  6.42 | 20.52 | 33.28 |\n",
       "| LKA | 2020 |   4.9664917 | 0.02309392 | NA | 1.931694 | 0.5546448 | 1.027322 | 2.180328 | 0.4508197 | ⋯ |  65.980 | 152.109 |  6.0 | 14.93368 |       NA | NA  |   NA |    NA |    NA |    NA |\n",
       "| ATG | 2022 | 143.9042740 | 0.82619178 | NA |       NA |        NA |       NA |       NA |        NA | ⋯ |  60.727 | 104.913 |  8.1 |       NA |       NA | NA  |   NA |    NA |    NA |    NA |\n",
       "\n"
      ],
      "text/plain": [
       "  country t    cases       deaths     tests C1M_School_closing\n",
       "1 SLV     2020  19.6259116 0.57060773 NA    2.426229          \n",
       "2 ASM     2022 467.6200274 1.92600000 NA          NA          \n",
       "3 BOL     2020  35.1308840 2.07754144 NA    2.418033          \n",
       "4 SLE     2020   0.8507182 0.02530387 NA    1.606557          \n",
       "5 LKA     2020   4.9664917 0.02309392 NA    1.931694          \n",
       "6 ATG     2022 143.9042740 0.82619178 NA          NA          \n",
       "  C2M_Workplace_closing C3M_Cancel_public_events C4M_Restrictions_on_gatherings\n",
       "1 1.4344262             1.306011                 2.297814                      \n",
       "2        NA                   NA                       NA                      \n",
       "3 1.8306011             1.527322                 2.844262                      \n",
       "4 0.2349727             1.087432                 1.822404                      \n",
       "5 0.5546448             1.027322                 2.180328                      \n",
       "6        NA                   NA                       NA                      \n",
       "  C5M_Close_public_transport ⋯ female_mortality male_mortality infant_mortality\n",
       "1 0.8333333                  ⋯ 124.344          293.265        11.0            \n",
       "2        NA                  ⋯      NA               NA          NA            \n",
       "3 1.4207650                  ⋯ 190.705          316.665        21.0            \n",
       "4 0.3360656                  ⋯ 228.946          270.279        80.3            \n",
       "5 0.4508197                  ⋯  65.980          152.109         6.0            \n",
       "6        NA                  ⋯  60.727          104.913         8.1            \n",
       "  largest_city_share urbanization country:household_size avg_hh_size\n",
       "1 24.14867           17.73575     SLV                    3.92       \n",
       "2       NA                 NA     NA                       NA       \n",
       "3 22.42107           41.25143     BOL                    3.53       \n",
       "4 35.38844           15.18978     SLE                    5.29       \n",
       "5 14.93368                 NA     NA                       NA       \n",
       "6       NA                 NA     NA                       NA       \n",
       "  share_1_members share_2_3_members share_4_5_members\n",
       "1  8.46           36.01             37.84            \n",
       "2    NA              NA                NA            \n",
       "3 20.34           34.82             27.64            \n",
       "4  6.42           20.52             33.28            \n",
       "5    NA              NA                NA            \n",
       "6    NA              NA                NA            "
      ]
     },
     "metadata": {},
     "output_type": "display_data"
    }
   ],
   "source": [
    "df = read_parquet(\"../data/preprocessed_data/regressors.parquet.gzip\")\n",
    "df %>% head()"
   ]
  },
  {
   "cell_type": "code",
   "execution_count": 6,
   "metadata": {
    "vscode": {
     "languageId": "r"
    }
   },
   "outputs": [
    {
     "name": "stderr",
     "output_type": "stream",
     "text": [
      "NOTE: 245 observations removed because of NA and infinite values (LHS: 99, RHS: 210).\n",
      "\n"
     ]
    },
    {
     "data": {
      "text/plain": [
       "OLS estimation, Dep. Var.: log(deaths)\n",
       "Observations: 520\n",
       "Fixed-effects: t: 3,  country: 180\n",
       "Standard-errors: Clustered (country) \n",
       "                                    Estimate Std. Error t value   Pr(>|t|)    \n",
       "C8EV_International_travel_controls -0.440674   0.116025 -3.7981 0.00019955 ***\n",
       "---\n",
       "Signif. codes:  0 '***' 0.001 '**' 0.01 '*' 0.05 '.' 0.1 ' ' 1\n",
       "RMSE: 0.823145     Adj. R2: 0.766892\n",
       "                 Within R2: 0.043445"
      ]
     },
     "metadata": {},
     "output_type": "display_data"
    }
   ],
   "source": [
    "m = feols(log(deaths) ~ C8EV_International_travel_controls | t + country, data = df)\n",
    "m %>% summary(., vcov = ~ country)"
   ]
  },
  {
   "cell_type": "code",
   "execution_count": 8,
   "metadata": {
    "vscode": {
     "languageId": "r"
    }
   },
   "outputs": [
    {
     "name": "stderr",
     "output_type": "stream",
     "text": [
      "NOTE: 245 observations removed because of NA and infinite values (LHS: 99, RHS: 210).\n",
      "\n"
     ]
    },
    {
     "data": {
      "text/plain": [
       "OLS estimation, Dep. Var.: log(deaths)\n",
       "Observations: 520\n",
       "Fixed-effects: country: 180\n",
       "Standard-errors: Clustered (country) \n",
       "                                                     Estimate Std. Error\n",
       "as.factor(t)2021                                    -0.086233   0.602258\n",
       "as.factor(t)2022                                    -1.786758   0.617648\n",
       "as.factor(t)2020:C8EV_International_travel_controls -0.817267   0.262116\n",
       "as.factor(t)2021:C8EV_International_travel_controls -0.347923   0.122649\n",
       "as.factor(t)2022:C8EV_International_travel_controls -0.318692   0.237970\n",
       "                                                      t value  Pr(>|t|)    \n",
       "as.factor(t)2021                                    -0.143183 0.8863065    \n",
       "as.factor(t)2022                                    -2.892844 0.0042917 ** \n",
       "as.factor(t)2020:C8EV_International_travel_controls -3.117956 0.0021224 ** \n",
       "as.factor(t)2021:C8EV_International_travel_controls -2.836741 0.0050832 ** \n",
       "as.factor(t)2022:C8EV_International_travel_controls -1.339212 0.1821996    \n",
       "---\n",
       "Signif. codes:  0 '***' 0.001 '**' 0.01 '*' 0.05 '.' 0.1 ' ' 1\n",
       "RMSE: 0.816041     Adj. R2: 0.769531\n",
       "                 Within R2: 0.347461"
      ]
     },
     "metadata": {},
     "output_type": "display_data"
    }
   ],
   "source": [
    "heterogenous_fe = feols(log(deaths) ~ as.factor(t)/C8EV_International_travel_controls | country, data = df)\n",
    "heterogenous_fe %>% summary(., vcov = ~ country)"
   ]
  }
 ],
 "metadata": {
  "kernelspec": {
   "display_name": "R",
   "language": "R",
   "name": "ir"
  },
  "language_info": {
   "codemirror_mode": "r",
   "file_extension": ".r",
   "mimetype": "text/x-r-source",
   "name": "R",
   "pygments_lexer": "r",
   "version": "4.4.1"
  }
 },
 "nbformat": 4,
 "nbformat_minor": 2
}
