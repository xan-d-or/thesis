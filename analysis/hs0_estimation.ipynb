{
 "cells": [
  {
   "cell_type": "markdown",
   "metadata": {},
   "source": [
    "# Оцениваем регрессии на данных HS0 в разных спецификациях:\n",
    "- Сырые данные ~ ковид и ограничения + контроль на дамми\n",
    "- Сырые данные ~ ковид и ограничения + контроль на дамми | инструментальные переменные\n",
    "- Фиксированные эффекты ~ ковид и ограничения\n",
    "- Фиксированные эффекты ~ ковид и ограничения | инструментальные переменные\n",
    "- В перспективе: суммарный экспорт/импорт в зависимости от ковида (+ IV)"
   ]
  },
  {
   "cell_type": "code",
   "execution_count": 34,
   "metadata": {
    "vscode": {
     "languageId": "r"
    }
   },
   "outputs": [
    {
     "name": "stderr",
     "output_type": "stream",
     "text": [
      "Warning message:\n",
      "\"пакет 'marginaleffects' был собран под R версии 4.4.2\"\n"
     ]
    }
   ],
   "source": [
    "library(arrow)\n",
    "library(ivreg)\n",
    "library(stargazer)\n",
    "library(tidyverse)\n",
    "library(marginaleffects)\n",
    "# library(plm)\n",
    "# library(\"lmtest\")\n",
    "library(\"sandwich\")\n",
    "library(fixest)"
   ]
  },
  {
   "cell_type": "markdown",
   "metadata": {},
   "source": [
    "## Сырые данные"
   ]
  },
  {
   "cell_type": "code",
   "execution_count": 58,
   "metadata": {
    "vscode": {
     "languageId": "r"
    }
   },
   "outputs": [
    {
     "data": {
      "text/html": [
       "<table class=\"dataframe\">\n",
       "<caption>A tibble: 6 × 91</caption>\n",
       "<thead>\n",
       "\t<tr><th scope=col>t</th><th scope=col>i</th><th scope=col>j</th><th scope=col>v</th><th scope=col>q</th><th scope=col>v19</th><th scope=col>q19</th><th scope=col>country</th><th scope=col>t:r_i</th><th scope=col>cases</th><th scope=col>⋯</th><th scope=col>country:household_size:r_j</th><th scope=col>avg_hh_size:r_j</th><th scope=col>share_1_members:r_j</th><th scope=col>share_2_3_members:r_j</th><th scope=col>share_4_5_members:r_j</th><th scope=col>year:r_j</th><th scope=col>deaths_j</th><th scope=col>median_age_j</th><th scope=col>population_density_j</th><th scope=col>C8EV_International_travel_controls_j</th></tr>\n",
       "\t<tr><th scope=col>&lt;int&gt;</th><th scope=col>&lt;chr&gt;</th><th scope=col>&lt;chr&gt;</th><th scope=col>&lt;dbl&gt;</th><th scope=col>&lt;dbl&gt;</th><th scope=col>&lt;dbl&gt;</th><th scope=col>&lt;dbl&gt;</th><th scope=col>&lt;chr&gt;</th><th scope=col>&lt;int&gt;</th><th scope=col>&lt;dbl&gt;</th><th scope=col>⋯</th><th scope=col>&lt;chr&gt;</th><th scope=col>&lt;dbl&gt;</th><th scope=col>&lt;dbl&gt;</th><th scope=col>&lt;dbl&gt;</th><th scope=col>&lt;dbl&gt;</th><th scope=col>&lt;chr&gt;</th><th scope=col>&lt;dbl&gt;</th><th scope=col>&lt;dbl&gt;</th><th scope=col>&lt;dbl&gt;</th><th scope=col>&lt;dbl&gt;</th></tr>\n",
       "</thead>\n",
       "<tbody>\n",
       "\t<tr><td>2021</td><td>LUX</td><td>LBY</td><td>    968.018</td><td>    210.173</td><td>   501.858</td><td>    127.012</td><td>LUX</td><td>2021</td><td>241.1512329</td><td>⋯</td><td>NA </td><td>  NA</td><td>   NA</td><td>   NA</td><td>   NA</td><td>2021</td><td>1.60279452</td><td>26.235</td><td>   3.950483</td><td>2.520548</td></tr>\n",
       "\t<tr><td>2021</td><td>RUS</td><td>SEN</td><td>1307165.125</td><td>3131615.500</td><td>789625.305</td><td>2232100.632</td><td>RUS</td><td>2021</td><td>138.1677534</td><td>⋯</td><td>SEN</td><td>8.66</td><td> 6.92</td><td>11.47</td><td>15.48</td><td>2021</td><td>0.23334247</td><td>18.160</td><td>  84.937007</td><td>2.561644</td></tr>\n",
       "\t<tr><td>2020</td><td>SOM</td><td>KOR</td><td>   3136.611</td><td>   2045.876</td><td>  5608.268</td><td>   4002.770</td><td>SOM</td><td>2020</td><td>  0.7276796</td><td>⋯</td><td>KOR</td><td>2.34</td><td>31.75</td><td>48.10</td><td>19.27</td><td>2020</td><td>0.04320442</td><td>42.184</td><td> 530.377275</td><td>2.415301</td></tr>\n",
       "\t<tr><td>2020</td><td>TUR</td><td>CRI</td><td>  57792.285</td><td>  98850.453</td><td> 60858.013</td><td>  86163.873</td><td>TUR</td><td>2020</td><td> 67.6935912</td><td>⋯</td><td>CRI</td><td>3.21</td><td>12.07</td><td>48.80</td><td>31.61</td><td>2020</td><td>1.14320442</td><td>32.014</td><td>  97.915257</td><td>2.322404</td></tr>\n",
       "\t<tr><td>2021</td><td>KNA</td><td>BIH</td><td>      0.520</td><td>      0.008</td><td>     0.460</td><td>      0.005</td><td>KNA</td><td>2021</td><td>164.5090411</td><td>⋯</td><td>BIH</td><td>3.50</td><td>11.50</td><td>37.07</td><td>41.57</td><td>2021</td><td>8.00158904</td><td>43.292</td><td>  65.342441</td><td>1.000000</td></tr>\n",
       "\t<tr><td>2022</td><td>AZE</td><td>MLT</td><td>  22060.938</td><td>  39007.156</td><td> 12476.490</td><td>  33493.400</td><td>AZE</td><td>2022</td><td> 56.3560822</td><td>⋯</td><td>MLT</td><td>2.67</td><td>22.64</td><td>49.28</td><td>25.60</td><td>2022</td><td>1.76879452</td><td>38.893</td><td>1575.193750</td><td>1.263014</td></tr>\n",
       "</tbody>\n",
       "</table>\n"
      ],
      "text/latex": [
       "A tibble: 6 × 91\n",
       "\\begin{tabular}{lllllllllllllllllllll}\n",
       " t & i & j & v & q & v19 & q19 & country & t:r\\_i & cases & ⋯ & country:household\\_size:r\\_j & avg\\_hh\\_size:r\\_j & share\\_1\\_members:r\\_j & share\\_2\\_3\\_members:r\\_j & share\\_4\\_5\\_members:r\\_j & year:r\\_j & deaths\\_j & median\\_age\\_j & population\\_density\\_j & C8EV\\_International\\_travel\\_controls\\_j\\\\\n",
       " <int> & <chr> & <chr> & <dbl> & <dbl> & <dbl> & <dbl> & <chr> & <int> & <dbl> & ⋯ & <chr> & <dbl> & <dbl> & <dbl> & <dbl> & <chr> & <dbl> & <dbl> & <dbl> & <dbl>\\\\\n",
       "\\hline\n",
       "\t 2021 & LUX & LBY &     968.018 &     210.173 &    501.858 &     127.012 & LUX & 2021 & 241.1512329 & ⋯ & NA  &   NA &    NA &    NA &    NA & 2021 & 1.60279452 & 26.235 &    3.950483 & 2.520548\\\\\n",
       "\t 2021 & RUS & SEN & 1307165.125 & 3131615.500 & 789625.305 & 2232100.632 & RUS & 2021 & 138.1677534 & ⋯ & SEN & 8.66 &  6.92 & 11.47 & 15.48 & 2021 & 0.23334247 & 18.160 &   84.937007 & 2.561644\\\\\n",
       "\t 2020 & SOM & KOR &    3136.611 &    2045.876 &   5608.268 &    4002.770 & SOM & 2020 &   0.7276796 & ⋯ & KOR & 2.34 & 31.75 & 48.10 & 19.27 & 2020 & 0.04320442 & 42.184 &  530.377275 & 2.415301\\\\\n",
       "\t 2020 & TUR & CRI &   57792.285 &   98850.453 &  60858.013 &   86163.873 & TUR & 2020 &  67.6935912 & ⋯ & CRI & 3.21 & 12.07 & 48.80 & 31.61 & 2020 & 1.14320442 & 32.014 &   97.915257 & 2.322404\\\\\n",
       "\t 2021 & KNA & BIH &       0.520 &       0.008 &      0.460 &       0.005 & KNA & 2021 & 164.5090411 & ⋯ & BIH & 3.50 & 11.50 & 37.07 & 41.57 & 2021 & 8.00158904 & 43.292 &   65.342441 & 1.000000\\\\\n",
       "\t 2022 & AZE & MLT &   22060.938 &   39007.156 &  12476.490 &   33493.400 & AZE & 2022 &  56.3560822 & ⋯ & MLT & 2.67 & 22.64 & 49.28 & 25.60 & 2022 & 1.76879452 & 38.893 & 1575.193750 & 1.263014\\\\\n",
       "\\end{tabular}\n"
      ],
      "text/markdown": [
       "\n",
       "A tibble: 6 × 91\n",
       "\n",
       "| t &lt;int&gt; | i &lt;chr&gt; | j &lt;chr&gt; | v &lt;dbl&gt; | q &lt;dbl&gt; | v19 &lt;dbl&gt; | q19 &lt;dbl&gt; | country &lt;chr&gt; | t:r_i &lt;int&gt; | cases &lt;dbl&gt; | ⋯ ⋯ | country:household_size:r_j &lt;chr&gt; | avg_hh_size:r_j &lt;dbl&gt; | share_1_members:r_j &lt;dbl&gt; | share_2_3_members:r_j &lt;dbl&gt; | share_4_5_members:r_j &lt;dbl&gt; | year:r_j &lt;chr&gt; | deaths_j &lt;dbl&gt; | median_age_j &lt;dbl&gt; | population_density_j &lt;dbl&gt; | C8EV_International_travel_controls_j &lt;dbl&gt; |\n",
       "|---|---|---|---|---|---|---|---|---|---|---|---|---|---|---|---|---|---|---|---|---|\n",
       "| 2021 | LUX | LBY |     968.018 |     210.173 |    501.858 |     127.012 | LUX | 2021 | 241.1512329 | ⋯ | NA  |   NA |    NA |    NA |    NA | 2021 | 1.60279452 | 26.235 |    3.950483 | 2.520548 |\n",
       "| 2021 | RUS | SEN | 1307165.125 | 3131615.500 | 789625.305 | 2232100.632 | RUS | 2021 | 138.1677534 | ⋯ | SEN | 8.66 |  6.92 | 11.47 | 15.48 | 2021 | 0.23334247 | 18.160 |   84.937007 | 2.561644 |\n",
       "| 2020 | SOM | KOR |    3136.611 |    2045.876 |   5608.268 |    4002.770 | SOM | 2020 |   0.7276796 | ⋯ | KOR | 2.34 | 31.75 | 48.10 | 19.27 | 2020 | 0.04320442 | 42.184 |  530.377275 | 2.415301 |\n",
       "| 2020 | TUR | CRI |   57792.285 |   98850.453 |  60858.013 |   86163.873 | TUR | 2020 |  67.6935912 | ⋯ | CRI | 3.21 | 12.07 | 48.80 | 31.61 | 2020 | 1.14320442 | 32.014 |   97.915257 | 2.322404 |\n",
       "| 2021 | KNA | BIH |       0.520 |       0.008 |      0.460 |       0.005 | KNA | 2021 | 164.5090411 | ⋯ | BIH | 3.50 | 11.50 | 37.07 | 41.57 | 2021 | 8.00158904 | 43.292 |   65.342441 | 1.000000 |\n",
       "| 2022 | AZE | MLT |   22060.938 |   39007.156 |  12476.490 |   33493.400 | AZE | 2022 |  56.3560822 | ⋯ | MLT | 2.67 | 22.64 | 49.28 | 25.60 | 2022 | 1.76879452 | 38.893 | 1575.193750 | 1.263014 |\n",
       "\n"
      ],
      "text/plain": [
       "  t    i   j   v           q           v19        q19         country t:r_i\n",
       "1 2021 LUX LBY     968.018     210.173    501.858     127.012 LUX     2021 \n",
       "2 2021 RUS SEN 1307165.125 3131615.500 789625.305 2232100.632 RUS     2021 \n",
       "3 2020 SOM KOR    3136.611    2045.876   5608.268    4002.770 SOM     2020 \n",
       "4 2020 TUR CRI   57792.285   98850.453  60858.013   86163.873 TUR     2020 \n",
       "5 2021 KNA BIH       0.520       0.008      0.460       0.005 KNA     2021 \n",
       "6 2022 AZE MLT   22060.938   39007.156  12476.490   33493.400 AZE     2022 \n",
       "  cases       ⋯ country:household_size:r_j avg_hh_size:r_j share_1_members:r_j\n",
       "1 241.1512329 ⋯ NA                           NA               NA              \n",
       "2 138.1677534 ⋯ SEN                        8.66             6.92              \n",
       "3   0.7276796 ⋯ KOR                        2.34            31.75              \n",
       "4  67.6935912 ⋯ CRI                        3.21            12.07              \n",
       "5 164.5090411 ⋯ BIH                        3.50            11.50              \n",
       "6  56.3560822 ⋯ MLT                        2.67            22.64              \n",
       "  share_2_3_members:r_j share_4_5_members:r_j year:r_j deaths_j   median_age_j\n",
       "1    NA                    NA                 2021     1.60279452 26.235      \n",
       "2 11.47                 15.48                 2021     0.23334247 18.160      \n",
       "3 48.10                 19.27                 2020     0.04320442 42.184      \n",
       "4 48.80                 31.61                 2020     1.14320442 32.014      \n",
       "5 37.07                 41.57                 2021     8.00158904 43.292      \n",
       "6 49.28                 25.60                 2022     1.76879452 38.893      \n",
       "  population_density_j C8EV_International_travel_controls_j\n",
       "1    3.950483          2.520548                            \n",
       "2   84.937007          2.561644                            \n",
       "3  530.377275          2.415301                            \n",
       "4   97.915257          2.322404                            \n",
       "5   65.342441          1.000000                            \n",
       "6 1575.193750          1.263014                            "
      ]
     },
     "metadata": {},
     "output_type": "display_data"
    }
   ],
   "source": [
    "df = read_parquet('../data/processed_data/trade_hs0_x_covid.parquet.gzip')\n",
    "df$deaths_j = df$`deaths:r_j`\n",
    "df$median_age_j = df$`median_age:r_j`\n",
    "df$population_density_j = df$`population_density:r_j`\n",
    "df$C8EV_International_travel_controls_j = df$`C8EV_International_travel_controls:r_j`\n",
    "df %>% head()"
   ]
  },
  {
   "cell_type": "code",
   "execution_count": 45,
   "metadata": {
    "vscode": {
     "languageId": "r"
    }
   },
   "outputs": [
    {
     "name": "stderr",
     "output_type": "stream",
     "text": [
      "NOTE: 13,568 observations removed because of NA and infinite values (RHS: 13,568).\n",
      "\n"
     ]
    },
    {
     "data": {
      "text/plain": [
       "OLS estimation, Dep. Var.: log(v/v19)\n",
       "Observations: 56,739\n",
       "Fixed-effects: i: 175,  j: 175,  year: 3\n",
       "Standard-errors: Clustered (i & j) \n",
       "                                      Estimate Std. Error   t value Pr(>|t|)\n",
       "log(deaths)                          -0.015588   0.006061 -2.571959 0.010948\n",
       "log(deaths_j)                        -0.003195   0.005269 -0.606428 0.545021\n",
       "C8EV_International_travel_controls   -0.021174   0.013888 -1.524631 0.129167\n",
       "C8EV_International_travel_controls_j -0.021157   0.013751 -1.538635 0.125710\n",
       "                                        \n",
       "log(deaths)                          *  \n",
       "log(deaths_j)                           \n",
       "C8EV_International_travel_controls      \n",
       "C8EV_International_travel_controls_j    \n",
       "---\n",
       "Signif. codes:  0 '***' 0.001 '**' 0.01 '*' 0.05 '.' 0.1 ' ' 1\n",
       "RMSE: 0.981558     Adj. R2: 0.038294\n",
       "                 Within R2: 2.777e-4"
      ]
     },
     "metadata": {},
     "output_type": "display_data"
    }
   ],
   "source": [
    "m1 = feols(log(v/v19) ~ log(deaths) + log(deaths_j) +\n",
    " C8EV_International_travel_controls + C8EV_International_travel_controls_j| i + j + year,\n",
    " data = df)\n",
    "m1 %>% summary(cluster = ~ i+j)"
   ]
  },
  {
   "cell_type": "code",
   "execution_count": 49,
   "metadata": {
    "vscode": {
     "languageId": "r"
    }
   },
   "outputs": [
    {
     "name": "stderr",
     "output_type": "stream",
     "text": [
      "NOTE: 13,568 observations removed because of NA and infinite values (RHS: 13,568).\n",
      "\n"
     ]
    },
    {
     "data": {
      "text/plain": [
       "OLS estimation, Dep. Var.: log(v/v19)\n",
       "Observations: 56,739\n",
       "Fixed-effects: i: 175,  j: 175\n",
       "Standard-errors: Clustered (i & j) \n",
       "                                               Estimate Std. Error   t value\n",
       "year2021                                       0.078145   0.077102  1.013525\n",
       "year2022                                       0.132887   0.088895  1.494875\n",
       "year2020:log(deaths)                          -0.014540   0.006968 -2.086681\n",
       "year2021:log(deaths)                          -0.014148   0.006784 -2.085578\n",
       "year2022:log(deaths)                          -0.021569   0.007546 -2.858254\n",
       "year2020:log(deaths_j)                        -0.010634   0.006580 -1.616124\n",
       "year2021:log(deaths_j)                         0.001444   0.006831  0.211366\n",
       "year2022:log(deaths_j)                         0.003974   0.007462  0.532606\n",
       "year2020:C8EV_International_travel_controls   -0.057193   0.025847 -2.212732\n",
       "year2021:C8EV_International_travel_controls   -0.026873   0.012924 -2.079314\n",
       "year2022:C8EV_International_travel_controls    0.007942   0.034949  0.227242\n",
       "year2020:C8EV_International_travel_controls_j -0.028177   0.022278 -1.264786\n",
       "year2021:C8EV_International_travel_controls_j -0.000711   0.010361 -0.068597\n",
       "year2022:C8EV_International_travel_controls_j -0.046153   0.051303 -0.899623\n",
       "                                               Pr(>|t|)    \n",
       "year2021                                      0.3122167    \n",
       "year2022                                      0.1367585    \n",
       "year2020:log(deaths)                          0.0383748 *  \n",
       "year2021:log(deaths)                          0.0384760 *  \n",
       "year2022:log(deaths)                          0.0047801 ** \n",
       "year2020:log(deaths_j)                        0.1078791    \n",
       "year2021:log(deaths_j)                        0.8328492    \n",
       "year2022:log(deaths_j)                        0.5949858    \n",
       "year2020:C8EV_International_travel_controls   0.0282173 *  \n",
       "year2021:C8EV_International_travel_controls   0.0390549 *  \n",
       "year2022:C8EV_International_travel_controls   0.8205022    \n",
       "year2020:C8EV_International_travel_controls_j 0.2076394    \n",
       "year2021:C8EV_International_travel_controls_j 0.9453895    \n",
       "year2022:C8EV_International_travel_controls_j 0.3695640    \n",
       "---\n",
       "Signif. codes:  0 '***' 0.001 '**' 0.01 '*' 0.05 '.' 0.1 ' ' 1\n",
       "RMSE: 0.981324     Adj. R2: 0.038615\n",
       "                 Within R2: 0.016045"
      ]
     },
     "metadata": {},
     "output_type": "display_data"
    }
   ],
   "source": [
    "# Добавляю гетерогенность во времени\n",
    "m2 = feols(log(v/v19) ~ year/log(deaths) + year/log(deaths_j) +\n",
    "year/C8EV_International_travel_controls + year/C8EV_International_travel_controls_j|\n",
    "i + j ,\n",
    "data = df)\n",
    "m2 %>% summary(cluster = ~ i+j)"
   ]
  },
  {
   "cell_type": "code",
   "execution_count": 50,
   "metadata": {
    "vscode": {
     "languageId": "r"
    }
   },
   "outputs": [
    {
     "data": {
      "text/html": [
       "<table class=\"dataframe\">\n",
       "<caption>A etable_df: 29 × 3</caption>\n",
       "<thead>\n",
       "\t<tr><th></th><th scope=col></th><th scope=col>m1</th><th scope=col>m2</th></tr>\n",
       "\t<tr><th></th><th scope=col>&lt;chr&gt;</th><th scope=col>&lt;chr&gt;</th><th scope=col>&lt;chr&gt;</th></tr>\n",
       "</thead>\n",
       "<tbody>\n",
       "\t<tr><th scope=row>1</th><td>Dependent Var.:                                </td><td>log(v/v19)       </td><td>log(v/v19)        </td></tr>\n",
       "\t<tr><th scope=row>2</th><td>                                               </td><td>                 </td><td>                  </td></tr>\n",
       "\t<tr><th scope=row>3</th><td>log(deaths)                                    </td><td>-0.0156* (0.0061)</td><td>                  </td></tr>\n",
       "\t<tr><th scope=row>4</th><td>log(deaths_j)                                  </td><td>-0.0032 (0.0053) </td><td>                  </td></tr>\n",
       "\t<tr><th scope=row>5</th><td>C8EV_International_travel_controls             </td><td>-0.0212 (0.0139) </td><td>                  </td></tr>\n",
       "\t<tr><th scope=row>6</th><td>C8EV_International_travel_controls_j           </td><td>-0.0212 (0.0138) </td><td>                  </td></tr>\n",
       "\t<tr><th scope=row>7</th><td>year2021                                       </td><td>                 </td><td>0.0781 (0.0771)   </td></tr>\n",
       "\t<tr><th scope=row>8</th><td>year2022                                       </td><td>                 </td><td>0.1329 (0.0889)   </td></tr>\n",
       "\t<tr><th scope=row>9</th><td>year2020 x log(deaths)                         </td><td>                 </td><td>-0.0145* (0.0070) </td></tr>\n",
       "\t<tr><th scope=row>10</th><td>year2021 x log(deaths)                         </td><td>                 </td><td>-0.0141* (0.0068) </td></tr>\n",
       "\t<tr><th scope=row>11</th><td>year2022 x log(deaths)                         </td><td>                 </td><td>-0.0216** (0.0075)</td></tr>\n",
       "\t<tr><th scope=row>12</th><td>year2020 x log(deaths_j)                       </td><td>                 </td><td>-0.0106 (0.0066)  </td></tr>\n",
       "\t<tr><th scope=row>13</th><td>year2021 x log(deaths_j)                       </td><td>                 </td><td>0.0014 (0.0068)   </td></tr>\n",
       "\t<tr><th scope=row>14</th><td>year2022 x log(deaths_j)                       </td><td>                 </td><td>0.0040 (0.0075)   </td></tr>\n",
       "\t<tr><th scope=row>15</th><td>year2020 x C8EV_International_travel_controls  </td><td>                 </td><td>-0.0572* (0.0259) </td></tr>\n",
       "\t<tr><th scope=row>16</th><td>year2021 x C8EV_International_travel_controls  </td><td>                 </td><td>-0.0269* (0.0129) </td></tr>\n",
       "\t<tr><th scope=row>17</th><td>year2022 x C8EV_International_travel_controls  </td><td>                 </td><td>0.0079 (0.0350)   </td></tr>\n",
       "\t<tr><th scope=row>18</th><td>year2020 x C8EV_International_travel_controls_j</td><td>                 </td><td>-0.0282 (0.0223)  </td></tr>\n",
       "\t<tr><th scope=row>19</th><td>year2021 x C8EV_International_travel_controls_j</td><td>                 </td><td>-0.0007 (0.0104)  </td></tr>\n",
       "\t<tr><th scope=row>20</th><td>year2022 x C8EV_International_travel_controls_j</td><td>                 </td><td>-0.0461 (0.0513)  </td></tr>\n",
       "\t<tr><th scope=row>21</th><td>Fixed-Effects:                                 </td><td>-----------------</td><td>------------------</td></tr>\n",
       "\t<tr><th scope=row>22</th><td>i                                              </td><td>Yes              </td><td>Yes               </td></tr>\n",
       "\t<tr><th scope=row>23</th><td>j                                              </td><td>Yes              </td><td>Yes               </td></tr>\n",
       "\t<tr><th scope=row>24</th><td>year                                           </td><td>Yes              </td><td>No                </td></tr>\n",
       "\t<tr><th scope=row>25</th><td>________________________________________       </td><td>_________________</td><td>__________________</td></tr>\n",
       "\t<tr><th scope=row>26</th><td><span style=white-space:pre-wrap>S.E.: Clustered                                </span></td><td><span style=white-space:pre-wrap>by: i &amp; j        </span></td><td><span style=white-space:pre-wrap>by: i &amp; j         </span></td></tr>\n",
       "\t<tr><th scope=row>27</th><td>Observations                                   </td><td>56,739           </td><td>56,739            </td></tr>\n",
       "\t<tr><th scope=row>28</th><td>R2                                             </td><td>0.04430          </td><td>0.04475           </td></tr>\n",
       "\t<tr><th scope=row>29</th><td>Within R2                                      </td><td>0.00028          </td><td>0.01605           </td></tr>\n",
       "</tbody>\n",
       "</table>\n"
      ],
      "text/latex": [
       "A etable\\_df: 29 × 3\n",
       "\\begin{tabular}{r|lll}\n",
       "  &  & m1 & m2\\\\\n",
       "  & <chr> & <chr> & <chr>\\\\\n",
       "\\hline\n",
       "\t1 & Dependent Var.:                                 & log(v/v19)        & log(v/v19)        \\\\\n",
       "\t2 &                                                 &                   &                   \\\\\n",
       "\t3 & log(deaths)                                     & -0.0156* (0.0061) &                   \\\\\n",
       "\t4 & log(deaths\\_j)                                   & -0.0032 (0.0053)  &                   \\\\\n",
       "\t5 & C8EV\\_International\\_travel\\_controls              & -0.0212 (0.0139)  &                   \\\\\n",
       "\t6 & C8EV\\_International\\_travel\\_controls\\_j            & -0.0212 (0.0138)  &                   \\\\\n",
       "\t7 & year2021                                        &                   & 0.0781 (0.0771)   \\\\\n",
       "\t8 & year2022                                        &                   & 0.1329 (0.0889)   \\\\\n",
       "\t9 & year2020 x log(deaths)                          &                   & -0.0145* (0.0070) \\\\\n",
       "\t10 & year2021 x log(deaths)                          &                   & -0.0141* (0.0068) \\\\\n",
       "\t11 & year2022 x log(deaths)                          &                   & -0.0216** (0.0075)\\\\\n",
       "\t12 & year2020 x log(deaths\\_j)                        &                   & -0.0106 (0.0066)  \\\\\n",
       "\t13 & year2021 x log(deaths\\_j)                        &                   & 0.0014 (0.0068)   \\\\\n",
       "\t14 & year2022 x log(deaths\\_j)                        &                   & 0.0040 (0.0075)   \\\\\n",
       "\t15 & year2020 x C8EV\\_International\\_travel\\_controls   &                   & -0.0572* (0.0259) \\\\\n",
       "\t16 & year2021 x C8EV\\_International\\_travel\\_controls   &                   & -0.0269* (0.0129) \\\\\n",
       "\t17 & year2022 x C8EV\\_International\\_travel\\_controls   &                   & 0.0079 (0.0350)   \\\\\n",
       "\t18 & year2020 x C8EV\\_International\\_travel\\_controls\\_j &                   & -0.0282 (0.0223)  \\\\\n",
       "\t19 & year2021 x C8EV\\_International\\_travel\\_controls\\_j &                   & -0.0007 (0.0104)  \\\\\n",
       "\t20 & year2022 x C8EV\\_International\\_travel\\_controls\\_j &                   & -0.0461 (0.0513)  \\\\\n",
       "\t21 & Fixed-Effects:                                  & ----------------- & ------------------\\\\\n",
       "\t22 & i                                               & Yes               & Yes               \\\\\n",
       "\t23 & j                                               & Yes               & Yes               \\\\\n",
       "\t24 & year                                            & Yes               & No                \\\\\n",
       "\t25 & \\_\\_\\_\\_\\_\\_\\_\\_\\_\\_\\_\\_\\_\\_\\_\\_\\_\\_\\_\\_\\_\\_\\_\\_\\_\\_\\_\\_\\_\\_\\_\\_\\_\\_\\_\\_\\_\\_\\_\\_        & \\_\\_\\_\\_\\_\\_\\_\\_\\_\\_\\_\\_\\_\\_\\_\\_\\_ & \\_\\_\\_\\_\\_\\_\\_\\_\\_\\_\\_\\_\\_\\_\\_\\_\\_\\_\\\\\n",
       "\t26 & S.E.: Clustered                                 & by: i \\& j         & by: i \\& j         \\\\\n",
       "\t27 & Observations                                    & 56,739            & 56,739            \\\\\n",
       "\t28 & R2                                              & 0.04430           & 0.04475           \\\\\n",
       "\t29 & Within R2                                       & 0.00028           & 0.01605           \\\\\n",
       "\\end{tabular}\n"
      ],
      "text/markdown": [
       "\n",
       "A etable_df: 29 × 3\n",
       "\n",
       "| <!--/--> | <!----> &lt;chr&gt; | m1 &lt;chr&gt; | m2 &lt;chr&gt; |\n",
       "|---|---|---|---|\n",
       "| 1 | Dependent Var.:                                 | log(v/v19)        | log(v/v19)         |\n",
       "| 2 | <!----> | <!----> | <!----> |\n",
       "| 3 | log(deaths)                                     | -0.0156* (0.0061) | <!----> |\n",
       "| 4 | log(deaths_j)                                   | -0.0032 (0.0053)  | <!----> |\n",
       "| 5 | C8EV_International_travel_controls              | -0.0212 (0.0139)  | <!----> |\n",
       "| 6 | C8EV_International_travel_controls_j            | -0.0212 (0.0138)  | <!----> |\n",
       "| 7 | year2021                                        | <!----> | 0.0781 (0.0771)    |\n",
       "| 8 | year2022                                        | <!----> | 0.1329 (0.0889)    |\n",
       "| 9 | year2020 x log(deaths)                          | <!----> | -0.0145* (0.0070)  |\n",
       "| 10 | year2021 x log(deaths)                          | <!----> | -0.0141* (0.0068)  |\n",
       "| 11 | year2022 x log(deaths)                          | <!----> | -0.0216** (0.0075) |\n",
       "| 12 | year2020 x log(deaths_j)                        | <!----> | -0.0106 (0.0066)   |\n",
       "| 13 | year2021 x log(deaths_j)                        | <!----> | 0.0014 (0.0068)    |\n",
       "| 14 | year2022 x log(deaths_j)                        | <!----> | 0.0040 (0.0075)    |\n",
       "| 15 | year2020 x C8EV_International_travel_controls   | <!----> | -0.0572* (0.0259)  |\n",
       "| 16 | year2021 x C8EV_International_travel_controls   | <!----> | -0.0269* (0.0129)  |\n",
       "| 17 | year2022 x C8EV_International_travel_controls   | <!----> | 0.0079 (0.0350)    |\n",
       "| 18 | year2020 x C8EV_International_travel_controls_j | <!----> | -0.0282 (0.0223)   |\n",
       "| 19 | year2021 x C8EV_International_travel_controls_j | <!----> | -0.0007 (0.0104)   |\n",
       "| 20 | year2022 x C8EV_International_travel_controls_j | <!----> | -0.0461 (0.0513)   |\n",
       "| 21 | Fixed-Effects:                                  | ----------------- | ------------------ |\n",
       "| 22 | i                                               | Yes               | Yes                |\n",
       "| 23 | j                                               | Yes               | Yes                |\n",
       "| 24 | year                                            | Yes               | No                 |\n",
       "| 25 | ________________________________________        | _________________ | __________________ |\n",
       "| 26 | S.E.: Clustered                                 | by: i &amp; j         | by: i &amp; j          |\n",
       "| 27 | Observations                                    | 56,739            | 56,739             |\n",
       "| 28 | R2                                              | 0.04430           | 0.04475            |\n",
       "| 29 | Within R2                                       | 0.00028           | 0.01605            |\n",
       "\n"
      ],
      "text/plain": [
       "                                                   m1               \n",
       "1  Dependent Var.:                                 log(v/v19)       \n",
       "2                                                                   \n",
       "3  log(deaths)                                     -0.0156* (0.0061)\n",
       "4  log(deaths_j)                                   -0.0032 (0.0053) \n",
       "5  C8EV_International_travel_controls              -0.0212 (0.0139) \n",
       "6  C8EV_International_travel_controls_j            -0.0212 (0.0138) \n",
       "7  year2021                                                         \n",
       "8  year2022                                                         \n",
       "9  year2020 x log(deaths)                                           \n",
       "10 year2021 x log(deaths)                                           \n",
       "11 year2022 x log(deaths)                                           \n",
       "12 year2020 x log(deaths_j)                                         \n",
       "13 year2021 x log(deaths_j)                                         \n",
       "14 year2022 x log(deaths_j)                                         \n",
       "15 year2020 x C8EV_International_travel_controls                    \n",
       "16 year2021 x C8EV_International_travel_controls                    \n",
       "17 year2022 x C8EV_International_travel_controls                    \n",
       "18 year2020 x C8EV_International_travel_controls_j                  \n",
       "19 year2021 x C8EV_International_travel_controls_j                  \n",
       "20 year2022 x C8EV_International_travel_controls_j                  \n",
       "21 Fixed-Effects:                                  -----------------\n",
       "22 i                                               Yes              \n",
       "23 j                                               Yes              \n",
       "24 year                                            Yes              \n",
       "25 ________________________________________        _________________\n",
       "26 S.E.: Clustered                                 by: i & j        \n",
       "27 Observations                                    56,739           \n",
       "28 R2                                              0.04430          \n",
       "29 Within R2                                       0.00028          \n",
       "   m2                \n",
       "1  log(v/v19)        \n",
       "2                    \n",
       "3                    \n",
       "4                    \n",
       "5                    \n",
       "6                    \n",
       "7  0.0781 (0.0771)   \n",
       "8  0.1329 (0.0889)   \n",
       "9  -0.0145* (0.0070) \n",
       "10 -0.0141* (0.0068) \n",
       "11 -0.0216** (0.0075)\n",
       "12 -0.0106 (0.0066)  \n",
       "13 0.0014 (0.0068)   \n",
       "14 0.0040 (0.0075)   \n",
       "15 -0.0572* (0.0259) \n",
       "16 -0.0269* (0.0129) \n",
       "17 0.0079 (0.0350)   \n",
       "18 -0.0282 (0.0223)  \n",
       "19 -0.0007 (0.0104)  \n",
       "20 -0.0461 (0.0513)  \n",
       "21 ------------------\n",
       "22 Yes               \n",
       "23 Yes               \n",
       "24 No                \n",
       "25 __________________\n",
       "26 by: i & j         \n",
       "27 56,739            \n",
       "28 0.04475           \n",
       "29 0.01605           "
      ]
     },
     "metadata": {},
     "output_type": "display_data"
    }
   ],
   "source": [
    "etable(m1, m2, vcov = 'twoway')"
   ]
  },
  {
   "cell_type": "code",
   "execution_count": null,
   "metadata": {
    "vscode": {
     "languageId": "r"
    }
   },
   "outputs": [
    {
     "name": "stderr",
     "output_type": "stream",
     "text": [
      "NOTE: 5,531 observations removed because of NA and infinite values (RHS: 3,419, IV: 3,381/450).\n",
      "\n"
     ]
    },
    {
     "data": {
      "text/plain": [
       "TSLS estimation - Dep. Var.: log(v/v19)\n",
       "                  Endo.    : log(deaths), log(deaths_j)\n",
       "                  Instr.   : median_age, median_age_j, population_density, population_density_j\n",
       "Second stage: Dep. Var.: log(v/v19)\n",
       "Observations: 18,391\n",
       "Standard-errors: Clustered (i & j) \n",
       "                                      Estimate Std. Error   t value Pr(>|t|)\n",
       "(Intercept)                           0.026734   0.065750  0.406599 0.684842\n",
       "fit_log(deaths)                       0.009457   0.006338  1.492044 0.137644\n",
       "fit_log(deaths_j)                    -0.012174   0.007311 -1.665129 0.097832\n",
       "C8EV_International_travel_controls   -0.014747   0.017973 -0.820538 0.413123\n",
       "C8EV_International_travel_controls_j -0.034874   0.017615 -1.979781 0.049433\n",
       "                                        \n",
       "(Intercept)                             \n",
       "fit_log(deaths)                         \n",
       "fit_log(deaths_j)                    .  \n",
       "C8EV_International_travel_controls      \n",
       "C8EV_International_travel_controls_j *  \n",
       "---\n",
       "Signif. codes:  0 '***' 0.001 '**' 0.01 '*' 0.05 '.' 0.1 ' ' 1\n",
       "RMSE: 0.868613   Adj. R2: 6.959e-4\n",
       "F-test (1st stage), log(deaths)  : stat = 2,327.9     , p < 2.2e-16 , on 4 and 18,384 DoF.\n",
       "F-test (1st stage), log(deaths_j): stat = 2,493.2     , p < 2.2e-16 , on 4 and 18,384 DoF.\n",
       "                       Wu-Hausman: stat =     0.946373, p = 0.388165, on 2 and 18,384 DoF.\n",
       "                           Sargan: stat =     2.36997 , p = 0.305751, on 2 DoF."
      ]
     },
     "metadata": {},
     "output_type": "display_data"
    }
   ],
   "source": [
    "# Норм ли, что выше были панельные регрессии, а эта пространственная? Как их тогда сравнивать?\n",
    "# Подумать про эндогенность пропусков. Мб пропуски в инструментальных переменных можно смело заполнять?\n",
    "m3 = feols(log(v/v19) ~  1 +\n",
    " C8EV_International_travel_controls + C8EV_International_travel_controls_j|\n",
    " log(deaths) + log(deaths_j) ~ \n",
    " median_age + median_age_j + population_density + population_density_j,\n",
    " data = df %>% filter(year == '2020'))\n",
    "m3 %>% summary(cluster = ~ i+j)"
   ]
  }
 ],
 "metadata": {
  "kernelspec": {
   "display_name": "R",
   "language": "R",
   "name": "ir"
  },
  "language_info": {
   "codemirror_mode": "r",
   "file_extension": ".r",
   "mimetype": "text/x-r-source",
   "name": "R",
   "pygments_lexer": "r",
   "version": "4.4.1"
  }
 },
 "nbformat": 4,
 "nbformat_minor": 2
}
