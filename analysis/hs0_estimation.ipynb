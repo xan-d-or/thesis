{
 "cells": [
  {
   "cell_type": "markdown",
   "metadata": {},
   "source": [
    "# Оцениваем регрессии на данных HS0 в спецификациях:\n",
    "- Сырые данные ~ ковид и ограничения + контроль на дамми\n",
    "- Сырые данные ~ ковид и ограничения + контроль на дамми | инструментальные переменные\n",
    "\n",
    "Для второй спецификации считаем бутстраповские доверительные интервалы"
   ]
  },
  {
   "cell_type": "code",
   "execution_count": 15,
   "metadata": {
    "vscode": {
     "languageId": "r"
    }
   },
   "outputs": [],
   "source": [
    "library(arrow)\n",
    "library(stargazer)\n",
    "library(tidyverse)\n",
    "library(plotly)\n",
    "library(fixest)\n",
    "signif.code = signif.code = c(\"***\" = 0.001, \"**\" = 0.01, \"*\" = 0.05, \".\" = 0.10)"
   ]
  },
  {
   "cell_type": "markdown",
   "metadata": {},
   "source": [
    "## Сырые данные\n",
    "\n",
    "Под каждой регрессией вывожу summary с кластеризацией ошибок. В конце блока сравниваю робастность результата по используемым ошибкам."
   ]
  },
  {
   "cell_type": "code",
   "execution_count": 16,
   "metadata": {
    "vscode": {
     "languageId": "r"
    }
   },
   "outputs": [
    {
     "data": {
      "text/html": [
       "<table class=\"dataframe\">\n",
       "<caption>A tibble: 6 × 144</caption>\n",
       "<thead>\n",
       "\t<tr><th scope=col>t</th><th scope=col>i</th><th scope=col>j</th><th scope=col>v</th><th scope=col>q</th><th scope=col>v19</th><th scope=col>q19</th><th scope=col>country</th><th scope=col>t:r_i</th><th scope=col>cases</th><th scope=col>⋯</th><th scope=col>population_density_i</th><th scope=col>population_density_j</th><th scope=col>StringencyIndex_Average_i</th><th scope=col>StringencyIndex_Average_j</th><th scope=col>share_1_members_i</th><th scope=col>share_1_members_j</th><th scope=col>H6M_Facial_Coverings_i</th><th scope=col>H6M_Facial_Coverings_j</th><th scope=col>C8EV_International_travel_controls_i</th><th scope=col>C8EV_International_travel_controls_j</th></tr>\n",
       "\t<tr><th scope=col>&lt;int&gt;</th><th scope=col>&lt;chr&gt;</th><th scope=col>&lt;chr&gt;</th><th scope=col>&lt;dbl&gt;</th><th scope=col>&lt;dbl&gt;</th><th scope=col>&lt;dbl&gt;</th><th scope=col>&lt;dbl&gt;</th><th scope=col>&lt;chr&gt;</th><th scope=col>&lt;int&gt;</th><th scope=col>&lt;dbl&gt;</th><th scope=col>⋯</th><th scope=col>&lt;dbl&gt;</th><th scope=col>&lt;dbl&gt;</th><th scope=col>&lt;dbl&gt;</th><th scope=col>&lt;dbl&gt;</th><th scope=col>&lt;dbl&gt;</th><th scope=col>&lt;dbl&gt;</th><th scope=col>&lt;dbl&gt;</th><th scope=col>&lt;dbl&gt;</th><th scope=col>&lt;dbl&gt;</th><th scope=col>&lt;dbl&gt;</th></tr>\n",
       "</thead>\n",
       "<tbody>\n",
       "\t<tr><td>2021</td><td>LUX</td><td>LBY</td><td>    968.018</td><td>    210.173</td><td>   501.858</td><td>    127.012</td><td>LUX</td><td>2021</td><td>241.1512329</td><td>⋯</td><td>248.620682</td><td>   4.055137</td><td>46.04334</td><td>63.24680</td><td>33.34</td><td>   NA</td><td>2.0082192</td><td>2.827397</td><td>2.534247</td><td>2.520548</td></tr>\n",
       "\t<tr><td>2021</td><td>RUS</td><td>SEN</td><td>1307165.125</td><td>3131615.500</td><td>789625.305</td><td>2232100.632</td><td>RUS</td><td>2021</td><td>138.1677534</td><td>⋯</td><td>  8.838488</td><td>  89.445110</td><td>46.46488</td><td>24.90279</td><td>25.69</td><td> 6.92</td><td>2.3150685</td><td>3.402740</td><td>2.610959</td><td>2.561644</td></tr>\n",
       "\t<tr><td>2020</td><td>SOM</td><td>KOR</td><td>   3136.611</td><td>   2045.876</td><td>  5608.268</td><td>   4002.770</td><td>SOM</td><td>2020</td><td>  0.7276796</td><td>⋯</td><td> 26.542530</td><td> 531.109006</td><td>34.65910</td><td>49.42956</td><td> 1.53</td><td>31.75</td><td>0.7622951</td><td>1.653005</td><td>2.101093</td><td>2.415301</td></tr>\n",
       "\t<tr><td>2020</td><td>TUR</td><td>CRI</td><td>  57792.285</td><td>  98850.453</td><td> 60858.013</td><td>  86163.873</td><td>TUR</td><td>2020</td><td> 67.6935912</td><td>⋯</td><td>108.343854</td><td>  98.596161</td><td>54.57148</td><td>54.39423</td><td> 6.37</td><td>12.07</td><td>2.2732241</td><td>1.218579</td><td>2.040984</td><td>2.322404</td></tr>\n",
       "\t<tr><td>2021</td><td>KNA</td><td>BIH</td><td>      0.520</td><td>      0.008</td><td>     0.460</td><td>      0.005</td><td>KNA</td><td>2021</td><td>164.5090411</td><td>⋯</td><td>179.857692</td><td>  63.377090</td><td>      NA</td><td>38.78658</td><td>   NA</td><td>11.50</td><td>       NA</td><td>2.476712</td><td>      NA</td><td>1.000000</td></tr>\n",
       "\t<tr><td>2022</td><td>AZE</td><td>MLT</td><td>  22060.938</td><td>  39007.156</td><td> 12476.490</td><td>  33493.400</td><td>AZE</td><td>2022</td><td> 56.3560822</td><td>⋯</td><td>122.707272</td><td>1660.971875</td><td>49.01625</td><td>22.13003</td><td> 6.77</td><td>22.64</td><td>0.6575342</td><td>2.323288</td><td>3.000000</td><td>1.263014</td></tr>\n",
       "</tbody>\n",
       "</table>\n"
      ],
      "text/latex": [
       "A tibble: 6 × 144\n",
       "\\begin{tabular}{lllllllllllllllllllll}\n",
       " t & i & j & v & q & v19 & q19 & country & t:r\\_i & cases & ⋯ & population\\_density\\_i & population\\_density\\_j & StringencyIndex\\_Average\\_i & StringencyIndex\\_Average\\_j & share\\_1\\_members\\_i & share\\_1\\_members\\_j & H6M\\_Facial\\_Coverings\\_i & H6M\\_Facial\\_Coverings\\_j & C8EV\\_International\\_travel\\_controls\\_i & C8EV\\_International\\_travel\\_controls\\_j\\\\\n",
       " <int> & <chr> & <chr> & <dbl> & <dbl> & <dbl> & <dbl> & <chr> & <int> & <dbl> & ⋯ & <dbl> & <dbl> & <dbl> & <dbl> & <dbl> & <dbl> & <dbl> & <dbl> & <dbl> & <dbl>\\\\\n",
       "\\hline\n",
       "\t 2021 & LUX & LBY &     968.018 &     210.173 &    501.858 &     127.012 & LUX & 2021 & 241.1512329 & ⋯ & 248.620682 &    4.055137 & 46.04334 & 63.24680 & 33.34 &    NA & 2.0082192 & 2.827397 & 2.534247 & 2.520548\\\\\n",
       "\t 2021 & RUS & SEN & 1307165.125 & 3131615.500 & 789625.305 & 2232100.632 & RUS & 2021 & 138.1677534 & ⋯ &   8.838488 &   89.445110 & 46.46488 & 24.90279 & 25.69 &  6.92 & 2.3150685 & 3.402740 & 2.610959 & 2.561644\\\\\n",
       "\t 2020 & SOM & KOR &    3136.611 &    2045.876 &   5608.268 &    4002.770 & SOM & 2020 &   0.7276796 & ⋯ &  26.542530 &  531.109006 & 34.65910 & 49.42956 &  1.53 & 31.75 & 0.7622951 & 1.653005 & 2.101093 & 2.415301\\\\\n",
       "\t 2020 & TUR & CRI &   57792.285 &   98850.453 &  60858.013 &   86163.873 & TUR & 2020 &  67.6935912 & ⋯ & 108.343854 &   98.596161 & 54.57148 & 54.39423 &  6.37 & 12.07 & 2.2732241 & 1.218579 & 2.040984 & 2.322404\\\\\n",
       "\t 2021 & KNA & BIH &       0.520 &       0.008 &      0.460 &       0.005 & KNA & 2021 & 164.5090411 & ⋯ & 179.857692 &   63.377090 &       NA & 38.78658 &    NA & 11.50 &        NA & 2.476712 &       NA & 1.000000\\\\\n",
       "\t 2022 & AZE & MLT &   22060.938 &   39007.156 &  12476.490 &   33493.400 & AZE & 2022 &  56.3560822 & ⋯ & 122.707272 & 1660.971875 & 49.01625 & 22.13003 &  6.77 & 22.64 & 0.6575342 & 2.323288 & 3.000000 & 1.263014\\\\\n",
       "\\end{tabular}\n"
      ],
      "text/markdown": [
       "\n",
       "A tibble: 6 × 144\n",
       "\n",
       "| t &lt;int&gt; | i &lt;chr&gt; | j &lt;chr&gt; | v &lt;dbl&gt; | q &lt;dbl&gt; | v19 &lt;dbl&gt; | q19 &lt;dbl&gt; | country &lt;chr&gt; | t:r_i &lt;int&gt; | cases &lt;dbl&gt; | ⋯ ⋯ | population_density_i &lt;dbl&gt; | population_density_j &lt;dbl&gt; | StringencyIndex_Average_i &lt;dbl&gt; | StringencyIndex_Average_j &lt;dbl&gt; | share_1_members_i &lt;dbl&gt; | share_1_members_j &lt;dbl&gt; | H6M_Facial_Coverings_i &lt;dbl&gt; | H6M_Facial_Coverings_j &lt;dbl&gt; | C8EV_International_travel_controls_i &lt;dbl&gt; | C8EV_International_travel_controls_j &lt;dbl&gt; |\n",
       "|---|---|---|---|---|---|---|---|---|---|---|---|---|---|---|---|---|---|---|---|---|\n",
       "| 2021 | LUX | LBY |     968.018 |     210.173 |    501.858 |     127.012 | LUX | 2021 | 241.1512329 | ⋯ | 248.620682 |    4.055137 | 46.04334 | 63.24680 | 33.34 |    NA | 2.0082192 | 2.827397 | 2.534247 | 2.520548 |\n",
       "| 2021 | RUS | SEN | 1307165.125 | 3131615.500 | 789625.305 | 2232100.632 | RUS | 2021 | 138.1677534 | ⋯ |   8.838488 |   89.445110 | 46.46488 | 24.90279 | 25.69 |  6.92 | 2.3150685 | 3.402740 | 2.610959 | 2.561644 |\n",
       "| 2020 | SOM | KOR |    3136.611 |    2045.876 |   5608.268 |    4002.770 | SOM | 2020 |   0.7276796 | ⋯ |  26.542530 |  531.109006 | 34.65910 | 49.42956 |  1.53 | 31.75 | 0.7622951 | 1.653005 | 2.101093 | 2.415301 |\n",
       "| 2020 | TUR | CRI |   57792.285 |   98850.453 |  60858.013 |   86163.873 | TUR | 2020 |  67.6935912 | ⋯ | 108.343854 |   98.596161 | 54.57148 | 54.39423 |  6.37 | 12.07 | 2.2732241 | 1.218579 | 2.040984 | 2.322404 |\n",
       "| 2021 | KNA | BIH |       0.520 |       0.008 |      0.460 |       0.005 | KNA | 2021 | 164.5090411 | ⋯ | 179.857692 |   63.377090 |       NA | 38.78658 |    NA | 11.50 |        NA | 2.476712 |       NA | 1.000000 |\n",
       "| 2022 | AZE | MLT |   22060.938 |   39007.156 |  12476.490 |   33493.400 | AZE | 2022 |  56.3560822 | ⋯ | 122.707272 | 1660.971875 | 49.01625 | 22.13003 |  6.77 | 22.64 | 0.6575342 | 2.323288 | 3.000000 | 1.263014 |\n",
       "\n"
      ],
      "text/plain": [
       "  t    i   j   v           q           v19        q19         country t:r_i\n",
       "1 2021 LUX LBY     968.018     210.173    501.858     127.012 LUX     2021 \n",
       "2 2021 RUS SEN 1307165.125 3131615.500 789625.305 2232100.632 RUS     2021 \n",
       "3 2020 SOM KOR    3136.611    2045.876   5608.268    4002.770 SOM     2020 \n",
       "4 2020 TUR CRI   57792.285   98850.453  60858.013   86163.873 TUR     2020 \n",
       "5 2021 KNA BIH       0.520       0.008      0.460       0.005 KNA     2021 \n",
       "6 2022 AZE MLT   22060.938   39007.156  12476.490   33493.400 AZE     2022 \n",
       "  cases       ⋯ population_density_i population_density_j\n",
       "1 241.1512329 ⋯ 248.620682              4.055137         \n",
       "2 138.1677534 ⋯   8.838488             89.445110         \n",
       "3   0.7276796 ⋯  26.542530            531.109006         \n",
       "4  67.6935912 ⋯ 108.343854             98.596161         \n",
       "5 164.5090411 ⋯ 179.857692             63.377090         \n",
       "6  56.3560822 ⋯ 122.707272           1660.971875         \n",
       "  StringencyIndex_Average_i StringencyIndex_Average_j share_1_members_i\n",
       "1 46.04334                  63.24680                  33.34            \n",
       "2 46.46488                  24.90279                  25.69            \n",
       "3 34.65910                  49.42956                   1.53            \n",
       "4 54.57148                  54.39423                   6.37            \n",
       "5       NA                  38.78658                     NA            \n",
       "6 49.01625                  22.13003                   6.77            \n",
       "  share_1_members_j H6M_Facial_Coverings_i H6M_Facial_Coverings_j\n",
       "1    NA             2.0082192              2.827397              \n",
       "2  6.92             2.3150685              3.402740              \n",
       "3 31.75             0.7622951              1.653005              \n",
       "4 12.07             2.2732241              1.218579              \n",
       "5 11.50                    NA              2.476712              \n",
       "6 22.64             0.6575342              2.323288              \n",
       "  C8EV_International_travel_controls_i C8EV_International_travel_controls_j\n",
       "1 2.534247                             2.520548                            \n",
       "2 2.610959                             2.561644                            \n",
       "3 2.101093                             2.415301                            \n",
       "4 2.040984                             2.322404                            \n",
       "5       NA                             1.000000                            \n",
       "6 3.000000                             1.263014                            "
      ]
     },
     "metadata": {},
     "output_type": "display_data"
    }
   ],
   "source": [
    "# Скачиваю данные и переназываю переменные\n",
    "df = read_parquet('../data/processed_data/trade_hs0_x_covid.parquet.gzip')\n",
    "# Переменная pair нужна, чтобы считать НАС стандартные ошибки\n",
    "df = df %>% mutate(pair = paste(i, j))\n",
    "\n",
    "df$deaths_i = df$deaths\n",
    "df$deaths_j = df$`deaths:r_j`\n",
    "\n",
    "df$median_age_i = df$median_age\n",
    "df$median_age_j = df$`median_age:r_j`\n",
    "\n",
    "df$average_surface_temperature_i = df$average_surface_temperature\n",
    "df$average_surface_temperature_j = df$`average_surface_temperature:r_j`\n",
    "\n",
    "df$C1M_School_closing_i = df$C1M_School_closing\n",
    "df$C1M_School_closing_j = df$`C1M_School_closing:r_j`\n",
    "\n",
    "df$population_density_i = df$population_density\n",
    "df$population_density_j = df$`population_density:r_j`\n",
    "\n",
    "df$StringencyIndex_Average_i = df$StringencyIndex_Average\n",
    "df$StringencyIndex_Average_j = df$`StringencyIndex_Average:r_j`\n",
    "\n",
    "df$share_1_members_i = df$share_1_members\n",
    "df$share_1_members_j = df$`share_1_members:r_j`\n",
    "\n",
    "df$H6M_Facial_Coverings_i = df$H6M_Facial_Coverings\n",
    "df$H6M_Facial_Coverings_j = df$`H6M_Facial_Coverings:r_j`\n",
    "\n",
    "df$C8EV_International_travel_controls_i = df$C8EV_International_travel_controls\n",
    "df$C8EV_International_travel_controls_j = df$`C8EV_International_travel_controls:r_j`\n",
    "df %>% head()"
   ]
  },
  {
   "cell_type": "code",
   "execution_count": 26,
   "metadata": {
    "vscode": {
     "languageId": "r"
    }
   },
   "outputs": [],
   "source": [
    "df$C3M_Cancel_public_events_i = df$C3M_Cancel_public_events\n",
    "df$C3M_Cancel_public_events_j = df$`C3M_Cancel_public_events:r_j`"
   ]
  },
  {
   "cell_type": "code",
   "execution_count": null,
   "metadata": {
    "vscode": {
     "languageId": "r"
    }
   },
   "outputs": [],
   "source": [
    "# FE (т.е. оценка на панельных данных с использованием внутригрупповой дисперсии)\n",
    "fe_no_iv = feols(log(v/v19) ~ log(deaths_i) + log(deaths_j) +\n",
    " C8EV_International_travel_controls_i + C8EV_International_travel_controls_j| i + j + year,\n",
    " data = df)\n",
    "fe_no_iv %>% summary(cluster = ~ i+j)"
   ]
  },
  {
   "cell_type": "code",
   "execution_count": 8,
   "metadata": {
    "vscode": {
     "languageId": "r"
    }
   },
   "outputs": [
    {
     "name": "stderr",
     "output_type": "stream",
     "text": [
      "NOTE: 13,568 observations removed because of NA and infinite values (RHS: 13,568).\n",
      "\n"
     ]
    },
    {
     "data": {
      "text/plain": [
       "OLS estimation, Dep. Var.: log(v/v19)\n",
       "Observations: 56,739\n",
       "Fixed-effects: i: 175,  j: 175\n",
       "Standard-errors: Clustered (i & j) \n",
       "                                               Estimate Std. Error   t value\n",
       "year2021                                       0.078145   0.077102  1.013525\n",
       "year2022                                       0.132887   0.088895  1.494875\n",
       "year2020:log(deaths_i)                        -0.014540   0.006968 -2.086681\n",
       "year2021:log(deaths_i)                        -0.014148   0.006784 -2.085578\n",
       "year2022:log(deaths_i)                        -0.021569   0.007546 -2.858254\n",
       "year2020:log(deaths_j)                        -0.010634   0.006580 -1.616124\n",
       "year2021:log(deaths_j)                         0.001444   0.006831  0.211366\n",
       "year2022:log(deaths_j)                         0.003974   0.007462  0.532606\n",
       "year2020:C8EV_International_travel_controls_i -0.057193   0.025847 -2.212732\n",
       "year2021:C8EV_International_travel_controls_i -0.026873   0.012924 -2.079314\n",
       "year2022:C8EV_International_travel_controls_i  0.007942   0.034949  0.227242\n",
       "year2020:C8EV_International_travel_controls_j -0.028177   0.022278 -1.264786\n",
       "year2021:C8EV_International_travel_controls_j -0.000711   0.010361 -0.068597\n",
       "year2022:C8EV_International_travel_controls_j -0.046153   0.051303 -0.899623\n",
       "                                               Pr(>|t|)    \n",
       "year2021                                      0.3122167    \n",
       "year2022                                      0.1367585    \n",
       "year2020:log(deaths_i)                        0.0383748 *  \n",
       "year2021:log(deaths_i)                        0.0384760 *  \n",
       "year2022:log(deaths_i)                        0.0047801 ** \n",
       "year2020:log(deaths_j)                        0.1078791    \n",
       "year2021:log(deaths_j)                        0.8328492    \n",
       "year2022:log(deaths_j)                        0.5949858    \n",
       "year2020:C8EV_International_travel_controls_i 0.0282173 *  \n",
       "year2021:C8EV_International_travel_controls_i 0.0390549 *  \n",
       "year2022:C8EV_International_travel_controls_i 0.8205022    \n",
       "year2020:C8EV_International_travel_controls_j 0.2076394    \n",
       "year2021:C8EV_International_travel_controls_j 0.9453895    \n",
       "year2022:C8EV_International_travel_controls_j 0.3695640    \n",
       "---\n",
       "Signif. codes:  0 '***' 0.001 '**' 0.01 '*' 0.05 '.' 0.1 ' ' 1\n",
       "RMSE: 0.981324     Adj. R2: 0.038615\n",
       "                 Within R2: 0.016045"
      ]
     },
     "metadata": {},
     "output_type": "display_data"
    }
   ],
   "source": [
    "# Добавляю гетерогенность эффектов во времени\n",
    "heterogenous_fe = feols(log(v/v19) ~ year/log(deaths_i) + year/log(deaths_j) +\n",
    "year/C8EV_International_travel_controls_i + year/C8EV_International_travel_controls_j|\n",
    "i + j ,\n",
    "data = df)\n",
    "heterogenous_fe %>% summary(cluster = ~ i+j)"
   ]
  },
  {
   "cell_type": "markdown",
   "metadata": {},
   "source": [
    "### Инструментальные переменные на панельных данных"
   ]
  },
  {
   "cell_type": "code",
   "execution_count": 30,
   "metadata": {
    "vscode": {
     "languageId": "r"
    }
   },
   "outputs": [
    {
     "name": "stderr",
     "output_type": "stream",
     "text": [
      "NOTE: 13,906 observations removed because of NA and infinite values (RHS: 9,802, IV: 6,067/10,661).\n",
      "\n"
     ]
    },
    {
     "data": {
      "text/plain": [
       "TSLS estimation - Dep. Var.: log(v/v19)\n",
       "                  Endo.    : log(deaths_i), log(deaths_j)\n",
       "                  Instr.   : C1M_School_closing_i, C1M_School_closing_j, median_age_i, median_age_j, population_density_i, population_density_j\n",
       "Second stage: Dep. Var.: log(v/v19)\n",
       "Observations: 56,401\n",
       "Fixed-effects: year: 3,  i: 175,  j: 175\n",
       "Standard-errors: Clustered (i & j) \n",
       "                                      Estimate Std. Error   t value Pr(>|t|)\n",
       "fit_log(deaths_i)                    -0.060122   0.024117 -2.492990 0.013602\n",
       "fit_log(deaths_j)                     0.019263   0.021785  0.884262 0.377775\n",
       "C8EV_International_travel_controls_i -0.039837   0.018595 -2.142345 0.033556\n",
       "C8EV_International_travel_controls_j -0.008328   0.013863 -0.600745 0.548791\n",
       "                                        \n",
       "fit_log(deaths_i)                    *  \n",
       "fit_log(deaths_j)                       \n",
       "C8EV_International_travel_controls_i *  \n",
       "C8EV_International_travel_controls_j    \n",
       "---\n",
       "Signif. codes:  0 '***' 0.001 '**' 0.01 '*' 0.05 '.' 0.1 ' ' 1\n",
       "RMSE: 0.981936     Adj. R2:  0.036649\n",
       "                 Within R2: -0.001478\n",
       "F-test (1st stage), log(deaths_i): stat = 948.9    , p < 2.2e-16 , on 6 and 56,044 DoF.\n",
       "F-test (1st stage), log(deaths_j): stat = 919.6    , p < 2.2e-16 , on 6 and 56,044 DoF.\n",
       "                       Wu-Hausman: stat =   4.75857, p = 0.008581, on 2 and 56,044 DoF.\n",
       "                           Sargan: stat =   4.68934, p = 0.320684, on 4 DoF."
      ]
     },
     "metadata": {},
     "output_type": "display_data"
    }
   ],
   "source": [
    "# Спецификация с фиксированными эффектами, куда я добавил инструменты, чтобы убрать потенциальную двустороннюю связь. \n",
    "\n",
    "fe_iv = feols(log(v/v19) ~  1 +\n",
    " C8EV_International_travel_controls_i + C8EV_International_travel_controls_j | year+i+j|\n",
    " log(deaths_i) + log(deaths_j) ~ \n",
    "# H6M_Facial_Coverings_i+H6M_Facial_Coverings_j\n",
    "# +\n",
    "C1M_School_closing_i+C1M_School_closing_j\n",
    "+\n",
    "median_age_i + median_age_j\n",
    "+\n",
    "population_density_i + population_density_j\n",
    "# +\n",
    "# average_surface_temperature_i + average_surface_temperature_j # Добавляет пропусков\n",
    "\n",
    " ,\n",
    " data = df\n",
    " )\n",
    "fe_iv %>% summary(cluster = ~ i+j)"
   ]
  },
  {
   "cell_type": "code",
   "execution_count": 6,
   "metadata": {
    "vscode": {
     "languageId": "r"
    }
   },
   "outputs": [],
   "source": [
    "# Слово влияние это экспертное мнение на основе методов"
   ]
  },
  {
   "cell_type": "markdown",
   "metadata": {},
   "source": [
    "### Точечная оценка руками"
   ]
  },
  {
   "cell_type": "code",
   "execution_count": 7,
   "metadata": {
    "vscode": {
     "languageId": "r"
    }
   },
   "outputs": [
    {
     "name": "stdout",
     "output_type": "stream",
     "text": [
      "\u001b[90m# A tibble: 1 × 1\u001b[39m\n",
      "      n\n",
      "  \u001b[3m\u001b[90m<int>\u001b[39m\u001b[23m\n",
      "\u001b[90m1\u001b[39m   660\n",
      "\u001b[90m# A tibble: 1 × 1\u001b[39m\n",
      "      n\n",
      "  \u001b[3m\u001b[90m<int>\u001b[39m\u001b[23m\n",
      "\u001b[90m1\u001b[39m   660\n"
     ]
    }
   ],
   "source": [
    "# Т.к. данные корректные, это одно и то же\n",
    "df %>% distinct(t, i, deaths_i, C8EV_International_travel_controls_i)  %>% count() %>% print()\n",
    "df %>% distinct(t, i)  %>% count() %>% print()"
   ]
  },
  {
   "cell_type": "code",
   "execution_count": 8,
   "metadata": {
    "vscode": {
     "languageId": "r"
    }
   },
   "outputs": [
    {
     "data": {
      "text/html": [
       "<table class=\"dataframe\">\n",
       "<caption>A tibble: 6 × 9</caption>\n",
       "<thead>\n",
       "\t<tr><th scope=col>year</th><th scope=col>i</th><th scope=col>deaths_i</th><th scope=col>C8EV_International_travel_controls_i</th><th scope=col>C1M_School_closing_i</th><th scope=col>median_age_i</th><th scope=col>population_density_i</th><th scope=col>H6M_Facial_Coverings</th><th scope=col>C3M_Cancel_public_events</th></tr>\n",
       "\t<tr><th scope=col>&lt;chr&gt;</th><th scope=col>&lt;chr&gt;</th><th scope=col>&lt;dbl&gt;</th><th scope=col>&lt;dbl&gt;</th><th scope=col>&lt;dbl&gt;</th><th scope=col>&lt;dbl&gt;</th><th scope=col>&lt;dbl&gt;</th><th scope=col>&lt;dbl&gt;</th><th scope=col>&lt;dbl&gt;</th></tr>\n",
       "</thead>\n",
       "<tbody>\n",
       "\t<tr><td>2020</td><td>ABW</td><td>1.20447514</td><td>2.051913</td><td>1.385246</td><td>40.399</td><td>603.26111</td><td>1.054645</td><td>1.4153005</td></tr>\n",
       "\t<tr><td>2020</td><td>AFG</td><td>0.14687845</td><td>1.461749</td><td>1.748634</td><td>16.411</td><td> 59.90062</td><td>1.743169</td><td>0.9125683</td></tr>\n",
       "\t<tr><td>2020</td><td>AGO</td><td>0.03096685</td><td>3.248634</td><td>2.079235</td><td>16.321</td><td> 26.83174</td><td>2.467213</td><td>1.3005464</td></tr>\n",
       "\t<tr><td>2020</td><td>AIA</td><td>0.00000000</td><td>      NA</td><td>      NA</td><td>36.071</td><td>       NA</td><td>      NA</td><td>       NA</td></tr>\n",
       "\t<tr><td>2020</td><td>ALB</td><td>1.10790055</td><td>1.836066</td><td>1.653005</td><td>35.127</td><td>103.57113</td><td>1.991803</td><td>1.6284153</td></tr>\n",
       "\t<tr><td>2020</td><td>AND</td><td>2.87596685</td><td>1.557377</td><td>1.229508</td><td>42.125</td><td>164.63830</td><td>2.081967</td><td>1.1202186</td></tr>\n",
       "</tbody>\n",
       "</table>\n"
      ],
      "text/latex": [
       "A tibble: 6 × 9\n",
       "\\begin{tabular}{lllllllll}\n",
       " year & i & deaths\\_i & C8EV\\_International\\_travel\\_controls\\_i & C1M\\_School\\_closing\\_i & median\\_age\\_i & population\\_density\\_i & H6M\\_Facial\\_Coverings & C3M\\_Cancel\\_public\\_events\\\\\n",
       " <chr> & <chr> & <dbl> & <dbl> & <dbl> & <dbl> & <dbl> & <dbl> & <dbl>\\\\\n",
       "\\hline\n",
       "\t 2020 & ABW & 1.20447514 & 2.051913 & 1.385246 & 40.399 & 603.26111 & 1.054645 & 1.4153005\\\\\n",
       "\t 2020 & AFG & 0.14687845 & 1.461749 & 1.748634 & 16.411 &  59.90062 & 1.743169 & 0.9125683\\\\\n",
       "\t 2020 & AGO & 0.03096685 & 3.248634 & 2.079235 & 16.321 &  26.83174 & 2.467213 & 1.3005464\\\\\n",
       "\t 2020 & AIA & 0.00000000 &       NA &       NA & 36.071 &        NA &       NA &        NA\\\\\n",
       "\t 2020 & ALB & 1.10790055 & 1.836066 & 1.653005 & 35.127 & 103.57113 & 1.991803 & 1.6284153\\\\\n",
       "\t 2020 & AND & 2.87596685 & 1.557377 & 1.229508 & 42.125 & 164.63830 & 2.081967 & 1.1202186\\\\\n",
       "\\end{tabular}\n"
      ],
      "text/markdown": [
       "\n",
       "A tibble: 6 × 9\n",
       "\n",
       "| year &lt;chr&gt; | i &lt;chr&gt; | deaths_i &lt;dbl&gt; | C8EV_International_travel_controls_i &lt;dbl&gt; | C1M_School_closing_i &lt;dbl&gt; | median_age_i &lt;dbl&gt; | population_density_i &lt;dbl&gt; | H6M_Facial_Coverings &lt;dbl&gt; | C3M_Cancel_public_events &lt;dbl&gt; |\n",
       "|---|---|---|---|---|---|---|---|---|\n",
       "| 2020 | ABW | 1.20447514 | 2.051913 | 1.385246 | 40.399 | 603.26111 | 1.054645 | 1.4153005 |\n",
       "| 2020 | AFG | 0.14687845 | 1.461749 | 1.748634 | 16.411 |  59.90062 | 1.743169 | 0.9125683 |\n",
       "| 2020 | AGO | 0.03096685 | 3.248634 | 2.079235 | 16.321 |  26.83174 | 2.467213 | 1.3005464 |\n",
       "| 2020 | AIA | 0.00000000 |       NA |       NA | 36.071 |        NA |       NA |        NA |\n",
       "| 2020 | ALB | 1.10790055 | 1.836066 | 1.653005 | 35.127 | 103.57113 | 1.991803 | 1.6284153 |\n",
       "| 2020 | AND | 2.87596685 | 1.557377 | 1.229508 | 42.125 | 164.63830 | 2.081967 | 1.1202186 |\n",
       "\n"
      ],
      "text/plain": [
       "  year i   deaths_i   C8EV_International_travel_controls_i C1M_School_closing_i\n",
       "1 2020 ABW 1.20447514 2.051913                             1.385246            \n",
       "2 2020 AFG 0.14687845 1.461749                             1.748634            \n",
       "3 2020 AGO 0.03096685 3.248634                             2.079235            \n",
       "4 2020 AIA 0.00000000       NA                                   NA            \n",
       "5 2020 ALB 1.10790055 1.836066                             1.653005            \n",
       "6 2020 AND 2.87596685 1.557377                             1.229508            \n",
       "  median_age_i population_density_i H6M_Facial_Coverings\n",
       "1 40.399       603.26111            1.054645            \n",
       "2 16.411        59.90062            1.743169            \n",
       "3 16.321        26.83174            2.467213            \n",
       "4 36.071              NA                  NA            \n",
       "5 35.127       103.57113            1.991803            \n",
       "6 42.125       164.63830            2.081967            \n",
       "  C3M_Cancel_public_events\n",
       "1 1.4153005               \n",
       "2 0.9125683               \n",
       "3 1.3005464               \n",
       "4        NA               \n",
       "5 1.6284153               \n",
       "6 1.1202186               "
      ]
     },
     "metadata": {},
     "output_type": "display_data"
    }
   ],
   "source": [
    "# Дистинкт он вручную\n",
    "iv_df = df %>% group_by(year, i) %>% \n",
    "summarise(deaths_i = min(deaths_i),\n",
    "          C8EV_International_travel_controls_i = min(C8EV_International_travel_controls_i),\n",
    "          C1M_School_closing_i = min(C1M_School_closing_i),\n",
    "          median_age_i = min(median_age_i),\n",
    "          population_density_i = min(population_density_i),\n",
    "          H6M_Facial_Coverings = min(H6M_Facial_Coverings),\n",
    "          C3M_Cancel_public_events = min(C3M_Cancel_public_events),\n",
    "          .groups = 'drop') \n",
    "head(iv_df)"
   ]
  },
  {
   "cell_type": "code",
   "execution_count": 9,
   "metadata": {
    "vscode": {
     "languageId": "r"
    }
   },
   "outputs": [
    {
     "name": "stderr",
     "output_type": "stream",
     "text": [
      "NOTE: 156 observations removed because of NA and infinite values (LHS: 74, RHS: 130).\n",
      "\n"
     ]
    },
    {
     "name": "stdout",
     "output_type": "stream",
     "text": [
      "Wald test, H0: joint nullity of C1M_School_closing_i, median_age_i and population_density_i\n",
      " stat = 14.0, p-value = 1.385e-8, on 3 and 323 DoF, VCOV: Clustered (i)."
     ]
    },
    {
     "data": {
      "text/plain": [
       "OLS estimation, Dep. Var.: log(deaths_i)\n",
       "Observations: 504\n",
       "Fixed-effects: year: 3,  i: 175\n",
       "Standard-errors: Clustered (i) \n",
       "                                      Estimate Std. Error  t value   Pr(>|t|)\n",
       "C8EV_International_travel_controls_i -0.612210   0.126406 -4.84322 2.8097e-06\n",
       "C1M_School_closing_i                  0.552634   0.142851  3.86862 1.5452e-04\n",
       "median_age_i                          0.722052   0.223577  3.22955 1.4824e-03\n",
       "population_density_i                 -0.002437   0.001035 -2.35422 1.9677e-02\n",
       "                                        \n",
       "C8EV_International_travel_controls_i ***\n",
       "C1M_School_closing_i                 ***\n",
       "median_age_i                         ** \n",
       "population_density_i                 *  \n",
       "---\n",
       "Signif. codes:  0 '***' 0.001 '**' 0.01 '*' 0.05 '.' 0.1 ' ' 1\n",
       "RMSE: 0.793277     Adj. R2: 0.784621\n",
       "                 Within R2: 0.123806"
      ]
     },
     "metadata": {},
     "output_type": "display_data"
    }
   ],
   "source": [
    "# Оцениваю регрессию первого шага\n",
    "set.seed(123)\n",
    "first_stage = feols(log(deaths_i) ~ C8EV_International_travel_controls_i + \n",
    "C1M_School_closing_i + \n",
    "median_age_i + \n",
    "population_density_i\n",
    "  | year+i,\n",
    " data = iv_df)\n",
    "\n",
    "first_stage %>% wald(.,keep = 'C1M_School_closing_i|median_age_i|population_density_i', vcov = ~i)  # Проверка релевантности инструментов\n",
    "first_stage  %>% summary(cluster = ~ i)"
   ]
  },
  {
   "cell_type": "code",
   "execution_count": 10,
   "metadata": {
    "vscode": {
     "languageId": "r"
    }
   },
   "outputs": [
    {
     "data": {
      "text/html": [
       "<table class=\"dataframe\">\n",
       "<caption>A tibble: 6 × 3</caption>\n",
       "<thead>\n",
       "\t<tr><th scope=col>year</th><th scope=col>i</th><th scope=col>predicted_log_deaths_i</th></tr>\n",
       "\t<tr><th scope=col>&lt;chr&gt;</th><th scope=col>&lt;chr&gt;</th><th scope=col>&lt;dbl&gt;</th></tr>\n",
       "</thead>\n",
       "<tbody>\n",
       "\t<tr><td>2020</td><td>ABW</td><td> 0.40567115</td></tr>\n",
       "\t<tr><td>2020</td><td>AFG</td><td>-1.99526479</td></tr>\n",
       "\t<tr><td>2020</td><td>AGO</td><td>-3.32115465</td></tr>\n",
       "\t<tr><td>2020</td><td>ALB</td><td>-0.66682830</td></tr>\n",
       "\t<tr><td>2020</td><td>AND</td><td> 0.03465424</td></tr>\n",
       "\t<tr><td>2020</td><td>ARE</td><td>-2.10135519</td></tr>\n",
       "</tbody>\n",
       "</table>\n"
      ],
      "text/latex": [
       "A tibble: 6 × 3\n",
       "\\begin{tabular}{lll}\n",
       " year & i & predicted\\_log\\_deaths\\_i\\\\\n",
       " <chr> & <chr> & <dbl>\\\\\n",
       "\\hline\n",
       "\t 2020 & ABW &  0.40567115\\\\\n",
       "\t 2020 & AFG & -1.99526479\\\\\n",
       "\t 2020 & AGO & -3.32115465\\\\\n",
       "\t 2020 & ALB & -0.66682830\\\\\n",
       "\t 2020 & AND &  0.03465424\\\\\n",
       "\t 2020 & ARE & -2.10135519\\\\\n",
       "\\end{tabular}\n"
      ],
      "text/markdown": [
       "\n",
       "A tibble: 6 × 3\n",
       "\n",
       "| year &lt;chr&gt; | i &lt;chr&gt; | predicted_log_deaths_i &lt;dbl&gt; |\n",
       "|---|---|---|\n",
       "| 2020 | ABW |  0.40567115 |\n",
       "| 2020 | AFG | -1.99526479 |\n",
       "| 2020 | AGO | -3.32115465 |\n",
       "| 2020 | ALB | -0.66682830 |\n",
       "| 2020 | AND |  0.03465424 |\n",
       "| 2020 | ARE | -2.10135519 |\n",
       "\n"
      ],
      "text/plain": [
       "  year i   predicted_log_deaths_i\n",
       "1 2020 ABW  0.40567115           \n",
       "2 2020 AFG -1.99526479           \n",
       "3 2020 AGO -3.32115465           \n",
       "4 2020 ALB -0.66682830           \n",
       "5 2020 AND  0.03465424           \n",
       "6 2020 ARE -2.10135519           "
      ]
     },
     "metadata": {},
     "output_type": "display_data"
    }
   ],
   "source": [
    "# Предикт регрессии первого шага\n",
    "new_iv_df = iv_df[, c('i', 'year', 'deaths_i', 'C8EV_International_travel_controls_i', 'C1M_School_closing_i',\n",
    "                      'median_age_i', 'population_density_i')]  %>% drop_na()  %>% filter(deaths_i > 0)  %>% select(year, i) # Т.к. логарифм нуля это бесконечность\n",
    "new_iv_df$predicted_log_deaths_i = first_stage %>% predict()\n",
    "new_iv_df %>% head()"
   ]
  },
  {
   "cell_type": "code",
   "execution_count": 11,
   "metadata": {
    "vscode": {
     "languageId": "r"
    }
   },
   "outputs": [
    {
     "data": {
      "text/html": [
       "<table class=\"dataframe\">\n",
       "<caption>A data.frame: 6 × 144</caption>\n",
       "<thead>\n",
       "\t<tr><th></th><th scope=col>year</th><th scope=col>j</th><th scope=col>i</th><th scope=col>t</th><th scope=col>v</th><th scope=col>q</th><th scope=col>v19</th><th scope=col>q19</th><th scope=col>country</th><th scope=col>t:r_i</th><th scope=col>⋯</th><th scope=col>population_density_i</th><th scope=col>population_density_j</th><th scope=col>share_1_members_i</th><th scope=col>share_1_members_j</th><th scope=col>H6M_Facial_Coverings_i</th><th scope=col>H6M_Facial_Coverings_j</th><th scope=col>C8EV_International_travel_controls_i</th><th scope=col>C8EV_International_travel_controls_j</th><th scope=col>predicted_log_deaths_i</th><th scope=col>predicted_log_deaths_j</th></tr>\n",
       "\t<tr><th></th><th scope=col>&lt;chr&gt;</th><th scope=col>&lt;chr&gt;</th><th scope=col>&lt;chr&gt;</th><th scope=col>&lt;int&gt;</th><th scope=col>&lt;dbl&gt;</th><th scope=col>&lt;dbl&gt;</th><th scope=col>&lt;dbl&gt;</th><th scope=col>&lt;dbl&gt;</th><th scope=col>&lt;chr&gt;</th><th scope=col>&lt;int&gt;</th><th scope=col>⋯</th><th scope=col>&lt;dbl&gt;</th><th scope=col>&lt;dbl&gt;</th><th scope=col>&lt;dbl&gt;</th><th scope=col>&lt;dbl&gt;</th><th scope=col>&lt;dbl&gt;</th><th scope=col>&lt;dbl&gt;</th><th scope=col>&lt;dbl&gt;</th><th scope=col>&lt;dbl&gt;</th><th scope=col>&lt;dbl&gt;</th><th scope=col>&lt;dbl&gt;</th></tr>\n",
       "</thead>\n",
       "<tbody>\n",
       "\t<tr><th scope=row>1</th><td>2020</td><td>ABW</td><td>HUN</td><td>2020</td><td>  272.220</td><td>  29.8930</td><td>  490.397</td><td>  55.795</td><td>HUN</td><td>2020</td><td>⋯</td><td>106.83924</td><td>603.2611</td><td>32.08</td><td>21.37</td><td>1.360656</td><td>1.054645</td><td>2.909836</td><td>2.051913</td><td> 0.8023361</td><td>0.4056712</td></tr>\n",
       "\t<tr><th scope=row>2</th><td>2020</td><td>ABW</td><td>PRT</td><td>2020</td><td> 1310.497</td><td> 866.1259</td><td>  964.039</td><td> 663.928</td><td>PRT</td><td>2020</td><td>⋯</td><td>112.40668</td><td>603.2611</td><td>21.44</td><td>21.37</td><td>1.505464</td><td>1.054645</td><td>2.434426</td><td>2.051913</td><td> 0.4363426</td><td>0.4056712</td></tr>\n",
       "\t<tr><th scope=row>3</th><td>2020</td><td>ABW</td><td>DNK</td><td>2020</td><td>  486.216</td><td> 152.8090</td><td>  414.461</td><td> 129.961</td><td>DNK</td><td>2020</td><td>⋯</td><td>145.78510</td><td>603.2611</td><td>   NA</td><td>21.37</td><td>0.841530</td><td>1.054645</td><td>2.666667</td><td>2.051913</td><td>-0.4828896</td><td>0.4056712</td></tr>\n",
       "\t<tr><th scope=row>4</th><td>2020</td><td>ABW</td><td>CZE</td><td>2020</td><td>   15.502</td><td>   2.7770</td><td>   17.646</td><td>   8.501</td><td>CZE</td><td>2020</td><td>⋯</td><td>138.57593</td><td>603.2611</td><td>32.51</td><td>21.37</td><td>2.193989</td><td>1.054645</td><td>2.633880</td><td>2.051913</td><td> 0.5047623</td><td>0.4056712</td></tr>\n",
       "\t<tr><th scope=row>5</th><td>2020</td><td>ABW</td><td>CUB</td><td>2020</td><td>   41.840</td><td>  19.6300</td><td>   55.130</td><td>  36.300</td><td>CUB</td><td>2020</td><td>⋯</td><td>107.67200</td><td>603.2611</td><td>21.14</td><td>21.37</td><td>2.254098</td><td>1.054645</td><td>2.472678</td><td>2.051913</td><td>-2.4601167</td><td>0.4056712</td></tr>\n",
       "\t<tr><th scope=row>6</th><td>2020</td><td>ABW</td><td>PRY</td><td>2020</td><td>10960.152</td><td>1451.1599</td><td>10232.720</td><td>1280.786</td><td>PRY</td><td>2020</td><td>⋯</td><td> 16.62154</td><td>603.2611</td><td>10.39</td><td>21.37</td><td>1.251366</td><td>1.054645</td><td>2.765027</td><td>2.051913</td><td> 0.1523012</td><td>0.4056712</td></tr>\n",
       "</tbody>\n",
       "</table>\n"
      ],
      "text/latex": [
       "A data.frame: 6 × 144\n",
       "\\begin{tabular}{r|lllllllllllllllllllll}\n",
       "  & year & j & i & t & v & q & v19 & q19 & country & t:r\\_i & ⋯ & population\\_density\\_i & population\\_density\\_j & share\\_1\\_members\\_i & share\\_1\\_members\\_j & H6M\\_Facial\\_Coverings\\_i & H6M\\_Facial\\_Coverings\\_j & C8EV\\_International\\_travel\\_controls\\_i & C8EV\\_International\\_travel\\_controls\\_j & predicted\\_log\\_deaths\\_i & predicted\\_log\\_deaths\\_j\\\\\n",
       "  & <chr> & <chr> & <chr> & <int> & <dbl> & <dbl> & <dbl> & <dbl> & <chr> & <int> & ⋯ & <dbl> & <dbl> & <dbl> & <dbl> & <dbl> & <dbl> & <dbl> & <dbl> & <dbl> & <dbl>\\\\\n",
       "\\hline\n",
       "\t1 & 2020 & ABW & HUN & 2020 &   272.220 &   29.8930 &   490.397 &   55.795 & HUN & 2020 & ⋯ & 106.83924 & 603.2611 & 32.08 & 21.37 & 1.360656 & 1.054645 & 2.909836 & 2.051913 &  0.8023361 & 0.4056712\\\\\n",
       "\t2 & 2020 & ABW & PRT & 2020 &  1310.497 &  866.1259 &   964.039 &  663.928 & PRT & 2020 & ⋯ & 112.40668 & 603.2611 & 21.44 & 21.37 & 1.505464 & 1.054645 & 2.434426 & 2.051913 &  0.4363426 & 0.4056712\\\\\n",
       "\t3 & 2020 & ABW & DNK & 2020 &   486.216 &  152.8090 &   414.461 &  129.961 & DNK & 2020 & ⋯ & 145.78510 & 603.2611 &    NA & 21.37 & 0.841530 & 1.054645 & 2.666667 & 2.051913 & -0.4828896 & 0.4056712\\\\\n",
       "\t4 & 2020 & ABW & CZE & 2020 &    15.502 &    2.7770 &    17.646 &    8.501 & CZE & 2020 & ⋯ & 138.57593 & 603.2611 & 32.51 & 21.37 & 2.193989 & 1.054645 & 2.633880 & 2.051913 &  0.5047623 & 0.4056712\\\\\n",
       "\t5 & 2020 & ABW & CUB & 2020 &    41.840 &   19.6300 &    55.130 &   36.300 & CUB & 2020 & ⋯ & 107.67200 & 603.2611 & 21.14 & 21.37 & 2.254098 & 1.054645 & 2.472678 & 2.051913 & -2.4601167 & 0.4056712\\\\\n",
       "\t6 & 2020 & ABW & PRY & 2020 & 10960.152 & 1451.1599 & 10232.720 & 1280.786 & PRY & 2020 & ⋯ &  16.62154 & 603.2611 & 10.39 & 21.37 & 1.251366 & 1.054645 & 2.765027 & 2.051913 &  0.1523012 & 0.4056712\\\\\n",
       "\\end{tabular}\n"
      ],
      "text/markdown": [
       "\n",
       "A data.frame: 6 × 144\n",
       "\n",
       "| <!--/--> | year &lt;chr&gt; | j &lt;chr&gt; | i &lt;chr&gt; | t &lt;int&gt; | v &lt;dbl&gt; | q &lt;dbl&gt; | v19 &lt;dbl&gt; | q19 &lt;dbl&gt; | country &lt;chr&gt; | t:r_i &lt;int&gt; | ⋯ ⋯ | population_density_i &lt;dbl&gt; | population_density_j &lt;dbl&gt; | share_1_members_i &lt;dbl&gt; | share_1_members_j &lt;dbl&gt; | H6M_Facial_Coverings_i &lt;dbl&gt; | H6M_Facial_Coverings_j &lt;dbl&gt; | C8EV_International_travel_controls_i &lt;dbl&gt; | C8EV_International_travel_controls_j &lt;dbl&gt; | predicted_log_deaths_i &lt;dbl&gt; | predicted_log_deaths_j &lt;dbl&gt; |\n",
       "|---|---|---|---|---|---|---|---|---|---|---|---|---|---|---|---|---|---|---|---|---|---|\n",
       "| 1 | 2020 | ABW | HUN | 2020 |   272.220 |   29.8930 |   490.397 |   55.795 | HUN | 2020 | ⋯ | 106.83924 | 603.2611 | 32.08 | 21.37 | 1.360656 | 1.054645 | 2.909836 | 2.051913 |  0.8023361 | 0.4056712 |\n",
       "| 2 | 2020 | ABW | PRT | 2020 |  1310.497 |  866.1259 |   964.039 |  663.928 | PRT | 2020 | ⋯ | 112.40668 | 603.2611 | 21.44 | 21.37 | 1.505464 | 1.054645 | 2.434426 | 2.051913 |  0.4363426 | 0.4056712 |\n",
       "| 3 | 2020 | ABW | DNK | 2020 |   486.216 |  152.8090 |   414.461 |  129.961 | DNK | 2020 | ⋯ | 145.78510 | 603.2611 |    NA | 21.37 | 0.841530 | 1.054645 | 2.666667 | 2.051913 | -0.4828896 | 0.4056712 |\n",
       "| 4 | 2020 | ABW | CZE | 2020 |    15.502 |    2.7770 |    17.646 |    8.501 | CZE | 2020 | ⋯ | 138.57593 | 603.2611 | 32.51 | 21.37 | 2.193989 | 1.054645 | 2.633880 | 2.051913 |  0.5047623 | 0.4056712 |\n",
       "| 5 | 2020 | ABW | CUB | 2020 |    41.840 |   19.6300 |    55.130 |   36.300 | CUB | 2020 | ⋯ | 107.67200 | 603.2611 | 21.14 | 21.37 | 2.254098 | 1.054645 | 2.472678 | 2.051913 | -2.4601167 | 0.4056712 |\n",
       "| 6 | 2020 | ABW | PRY | 2020 | 10960.152 | 1451.1599 | 10232.720 | 1280.786 | PRY | 2020 | ⋯ |  16.62154 | 603.2611 | 10.39 | 21.37 | 1.251366 | 1.054645 | 2.765027 | 2.051913 |  0.1523012 | 0.4056712 |\n",
       "\n"
      ],
      "text/plain": [
       "  year j   i   t    v         q         v19       q19      country t:r_i ⋯\n",
       "1 2020 ABW HUN 2020   272.220   29.8930   490.397   55.795 HUN     2020  ⋯\n",
       "2 2020 ABW PRT 2020  1310.497  866.1259   964.039  663.928 PRT     2020  ⋯\n",
       "3 2020 ABW DNK 2020   486.216  152.8090   414.461  129.961 DNK     2020  ⋯\n",
       "4 2020 ABW CZE 2020    15.502    2.7770    17.646    8.501 CZE     2020  ⋯\n",
       "5 2020 ABW CUB 2020    41.840   19.6300    55.130   36.300 CUB     2020  ⋯\n",
       "6 2020 ABW PRY 2020 10960.152 1451.1599 10232.720 1280.786 PRY     2020  ⋯\n",
       "  population_density_i population_density_j share_1_members_i share_1_members_j\n",
       "1 106.83924            603.2611             32.08             21.37            \n",
       "2 112.40668            603.2611             21.44             21.37            \n",
       "3 145.78510            603.2611                NA             21.37            \n",
       "4 138.57593            603.2611             32.51             21.37            \n",
       "5 107.67200            603.2611             21.14             21.37            \n",
       "6  16.62154            603.2611             10.39             21.37            \n",
       "  H6M_Facial_Coverings_i H6M_Facial_Coverings_j\n",
       "1 1.360656               1.054645              \n",
       "2 1.505464               1.054645              \n",
       "3 0.841530               1.054645              \n",
       "4 2.193989               1.054645              \n",
       "5 2.254098               1.054645              \n",
       "6 1.251366               1.054645              \n",
       "  C8EV_International_travel_controls_i C8EV_International_travel_controls_j\n",
       "1 2.909836                             2.051913                            \n",
       "2 2.434426                             2.051913                            \n",
       "3 2.666667                             2.051913                            \n",
       "4 2.633880                             2.051913                            \n",
       "5 2.472678                             2.051913                            \n",
       "6 2.765027                             2.051913                            \n",
       "  predicted_log_deaths_i predicted_log_deaths_j\n",
       "1  0.8023361             0.4056712             \n",
       "2  0.4363426             0.4056712             \n",
       "3 -0.4828896             0.4056712             \n",
       "4  0.5047623             0.4056712             \n",
       "5 -2.4601167             0.4056712             \n",
       "6  0.1523012             0.4056712             "
      ]
     },
     "metadata": {},
     "output_type": "display_data"
    }
   ],
   "source": [
    "# Джоиню предикт на исходный датафрейм\n",
    "df_w_predictions = df %>% \n",
    "merge(., new_iv_df, by = c('year', 'i')) %>% \n",
    "merge(., new_iv_df, by.x = c('year', 'j'), by.y = c('year', 'i')) \n",
    "names(df_w_predictions)[names(df_w_predictions) == 'predicted_log_deaths_i.x'] <- 'predicted_log_deaths_i'\n",
    "names(df_w_predictions)[names(df_w_predictions) == 'predicted_log_deaths_i.y'] <- 'predicted_log_deaths_j'\n",
    "df_w_predictions %>% head()"
   ]
  },
  {
   "cell_type": "code",
   "execution_count": 12,
   "metadata": {
    "vscode": {
     "languageId": "r"
    }
   },
   "outputs": [
    {
     "data": {
      "text/plain": [
       "OLS estimation, Dep. Var.: log(v/v19)\n",
       "Observations: 56,401\n",
       "Fixed-effects: year: 3,  i: 175,  j: 175\n",
       "Standard-errors: Clustered (i & j) \n",
       "                                      Estimate Std. Error   t value  Pr(>|t|)\n",
       "predicted_log_deaths_i               -0.062746   0.021371 -2.936055 0.0037737\n",
       "predicted_log_deaths_j                0.018943   0.021979  0.861875 0.3899423\n",
       "C8EV_International_travel_controls_i -0.044554   0.017667 -2.521957 0.0125681\n",
       "C8EV_International_travel_controls_j -0.009087   0.013965 -0.650704 0.5160958\n",
       "                                        \n",
       "predicted_log_deaths_i               ** \n",
       "predicted_log_deaths_j                  \n",
       "C8EV_International_travel_controls_i *  \n",
       "C8EV_International_travel_controls_j    \n",
       "---\n",
       "Signif. codes:  0 '***' 0.001 '**' 0.01 '*' 0.05 '.' 0.1 ' ' 1\n",
       "RMSE: 0.981048     Adj. R2: 0.038391\n",
       "                 Within R2: 3.317e-4"
      ]
     },
     "metadata": {},
     "output_type": "display_data"
    }
   ],
   "source": [
    "# Регрессия второго шага\n",
    "second_stage = feols(log(v/v19) ~ \n",
    " predicted_log_deaths_i + predicted_log_deaths_j +\n",
    " C8EV_International_travel_controls_i + C8EV_International_travel_controls_j | year+i+j,\n",
    " data = df_w_predictions)\n",
    "second_stage %>% summary(cluster = ~ i+j)"
   ]
  },
  {
   "cell_type": "code",
   "execution_count": null,
   "metadata": {
    "vscode": {
     "languageId": "r"
    }
   },
   "outputs": [],
   "source": []
  },
  {
   "cell_type": "code",
   "execution_count": 13,
   "metadata": {
    "vscode": {
     "languageId": "r"
    }
   },
   "outputs": [
    {
     "data": {
      "text/plain": [
       "\\begingroup\n",
       "\\centering\n",
       "\\begin{tabular}{lc}\n",
       "   \\tabularnewline \\midrule \\midrule\n",
       "   Dependent Variable:                          & log(deaths\\_i)\\\\   \n",
       "   Model:                                       & (1)\\\\  \n",
       "   \\midrule\n",
       "   \\emph{Variables}\\\\\n",
       "   C8EV\\_International\\_travel\\_controls\\_i     & -0.6122$^{***}$\\\\   \n",
       "                                                & (0.1264)\\\\   \n",
       "   C1M\\_School\\_closing\\_i                      & 0.5526$^{***}$\\\\   \n",
       "                                                & (0.1429)\\\\   \n",
       "   median\\_age\\_i                               & 0.7221$^{**}$\\\\   \n",
       "                                                & (0.2236)\\\\   \n",
       "   population\\_density\\_i                       & -0.0024$^{*}$\\\\   \n",
       "                                                & (0.0010)\\\\   \n",
       "   \\midrule\n",
       "   \\emph{Fixed-effects}\\\\\n",
       "   year                                         & Yes\\\\  \n",
       "   i                                            & Yes\\\\  \n",
       "   \\midrule\n",
       "   \\emph{Fit statistics}\\\\\n",
       "   Observations                                 & 504\\\\  \n",
       "   R$^2$                                        & 0.86170\\\\  \n",
       "   Within R$^2$                                 & 0.12381\\\\  \n",
       "   \\midrule \\midrule\n",
       "   \\multicolumn{2}{l}{\\emph{Clustered (i) standard-errors in parentheses}}\\\\\n",
       "   \\multicolumn{2}{l}{\\emph{Signif. Codes: ***: 0.001, **: 0.01, *: 0.05, .: 0.1}}\\\\\n",
       "\\end{tabular}\n",
       "\\par\\endgroup"
      ]
     },
     "metadata": {},
     "output_type": "display_data"
    },
    {
     "data": {
      "text/plain": [
       "\\begingroup\n",
       "\\centering\n",
       "\\begin{tabular}{lc}\n",
       "   \\tabularnewline \\midrule \\midrule\n",
       "   Dependent Variable:                          & log(v/v19)\\\\  \n",
       "   Model:                                       & (1)\\\\  \n",
       "   \\midrule\n",
       "   \\emph{Variables}\\\\\n",
       "   predicted\\_log\\_deaths\\_i                    & -0.0628$^{**}$\\\\   \n",
       "                                                & (0.0214)\\\\   \n",
       "   predicted\\_log\\_deaths\\_j                    & 0.0189\\\\   \n",
       "                                                & (0.0220)\\\\   \n",
       "   C8EV\\_International\\_travel\\_controls\\_i     & -0.0445$^{*}$\\\\   \n",
       "                                                & (0.0177)\\\\   \n",
       "   C8EV\\_International\\_travel\\_controls\\_j     & -0.0091\\\\   \n",
       "                                                & (0.0140)\\\\   \n",
       "   \\midrule\n",
       "   \\emph{Fixed-effects}\\\\\n",
       "   year                                         & Yes\\\\  \n",
       "   i                                            & Yes\\\\  \n",
       "   j                                            & Yes\\\\  \n",
       "   \\midrule\n",
       "   \\emph{Fit statistics}\\\\\n",
       "   Observations                                 & 56,401\\\\  \n",
       "   R$^2$                                        & 0.04443\\\\  \n",
       "   Within R$^2$                                 & 0.00033\\\\  \n",
       "   \\midrule \\midrule\n",
       "   \\multicolumn{2}{l}{\\emph{Clustered (i \\& j) standard-errors in parentheses}}\\\\\n",
       "   \\multicolumn{2}{l}{\\emph{Signif. Codes: ***: 0.001, **: 0.01, *: 0.05, .: 0.1}}\\\\\n",
       "\\end{tabular}\n",
       "\\par\\endgroup"
      ]
     },
     "metadata": {},
     "output_type": "display_data"
    }
   ],
   "source": [
    "# Экспорт в латех\n",
    "etable(first_stage, vcov = ~i, signif.code=signif.code, tex=TRUE)\n",
    "etable(second_stage, vcov = ~i+j, signif.code=signif.code, tex=TRUE)"
   ]
  },
  {
   "cell_type": "markdown",
   "metadata": {},
   "source": [
    "### Разные наборы инструментов"
   ]
  },
  {
   "cell_type": "code",
   "execution_count": 31,
   "metadata": {
    "vscode": {
     "languageId": "r"
    }
   },
   "outputs": [
    {
     "data": {
      "text/plain": [
       "log(v/v19) ~ 1 + C8EV_International_travel_controls_i + C8EV_International_travel_controls_j | \n",
       "    year + i + j | log(deaths_i) + log(deaths_j) ~ population_density_i + \n",
       "    population_density_j\n",
       "<environment: 0x000001b20bb209e0>"
      ]
     },
     "metadata": {},
     "output_type": "display_data"
    }
   ],
   "source": [
    "# List of instrumental variables\n",
    "instrumental_variables <- c( \"C1M_School_closing\", \"median_age\", \"population_density\")\n",
    "\n",
    "# Generate all subsets\n",
    "all_subsets <- lapply(0:length(instrumental_variables), function(n) combn(instrumental_variables, n, simplify = FALSE))\n",
    "\n",
    "# Flatten the list of subsets\n",
    "all_subsets <- unlist(all_subsets, recursive = FALSE)\n",
    "\n",
    "# Transform subsets to strings with _i and _j suffixes\n",
    "transformed_subsets <- sapply(all_subsets, function(subset) {\n",
    "  if (length(subset) == 0) return(\"\")  # Handle empty subset\n",
    "  # Create pairs for each variable and collapse with \" + \"\n",
    "  paste(\n",
    "    unlist(lapply(subset, function(var) paste0(var, c(\"_i\", \"_j\"))), \n",
    "         recursive = TRUE),\n",
    "    collapse = \" + \"\n",
    "  )\n",
    "})\n",
    "\n",
    "# Remove empty string for empty subset (optional)\n",
    "transformed_subsets <- transformed_subsets[transformed_subsets != \"\"]\n",
    "\n",
    "formulas = lapply(transformed_subsets, function(subset){\n",
    "    formula(paste(\"log(v/v19) ~  1 + C8EV_International_travel_controls_i + C8EV_International_travel_controls_j | year+i+j | log(deaths_i) + log(deaths_j) ~\", subset))\n",
    "})\n",
    "formulas[3][[1]]"
   ]
  },
  {
   "cell_type": "code",
   "execution_count": 32,
   "metadata": {
    "vscode": {
     "languageId": "r"
    }
   },
   "outputs": [
    {
     "data": {
      "text/html": [
       "<style>\n",
       ".list-inline {list-style: none; margin:0; padding: 0}\n",
       ".list-inline>li {display: inline-block}\n",
       ".list-inline>li:not(:last-child)::after {content: \"\\00b7\"; padding: 0 .5ex}\n",
       "</style>\n",
       "<ol class=list-inline><li>'C1M_School_closing'</li><li>'median_age'</li><li>'population_density'</li><li>'C1M_School_closing + median_age'</li><li>'C1M_School_closing + population_density'</li><li>'median_age + population_density'</li><li>'C1M_School_closing + median_age + population_density'</li></ol>\n"
      ],
      "text/latex": [
       "\\begin{enumerate*}\n",
       "\\item 'C1M\\_School\\_closing'\n",
       "\\item 'median\\_age'\n",
       "\\item 'population\\_density'\n",
       "\\item 'C1M\\_School\\_closing + median\\_age'\n",
       "\\item 'C1M\\_School\\_closing + population\\_density'\n",
       "\\item 'median\\_age + population\\_density'\n",
       "\\item 'C1M\\_School\\_closing + median\\_age + population\\_density'\n",
       "\\end{enumerate*}\n"
      ],
      "text/markdown": [
       "1. 'C1M_School_closing'\n",
       "2. 'median_age'\n",
       "3. 'population_density'\n",
       "4. 'C1M_School_closing + median_age'\n",
       "5. 'C1M_School_closing + population_density'\n",
       "6. 'median_age + population_density'\n",
       "7. 'C1M_School_closing + median_age + population_density'\n",
       "\n",
       "\n"
      ],
      "text/plain": [
       "[1] \"C1M_School_closing\"                                  \n",
       "[2] \"median_age\"                                          \n",
       "[3] \"population_density\"                                  \n",
       "[4] \"C1M_School_closing + median_age\"                     \n",
       "[5] \"C1M_School_closing + population_density\"             \n",
       "[6] \"median_age + population_density\"                     \n",
       "[7] \"C1M_School_closing + median_age + population_density\""
      ]
     },
     "metadata": {},
     "output_type": "display_data"
    }
   ],
   "source": [
    "headers <- sapply(all_subsets, function(subset) {\n",
    "  if (length(subset) == 0) return(\"\")  # Handle empty subset\n",
    "  # Create pairs for each variable and collapse with \" + \"\n",
    "  paste(\n",
    "    unlist(subset, recursive = TRUE),\n",
    "    collapse = \" + \"\n",
    "  )\n",
    "})\n",
    "headers[2:length(headers)]"
   ]
  },
  {
   "cell_type": "code",
   "execution_count": 33,
   "metadata": {
    "vscode": {
     "languageId": "r"
    }
   },
   "outputs": [
    {
     "data": {
      "text/html": [
       "<style>\n",
       ".dl-inline {width: auto; margin:0; padding: 0}\n",
       ".dl-inline>dt, .dl-inline>dd {float: none; width: auto; display: inline-block}\n",
       ".dl-inline>dt::after {content: \":\\0020\"; padding-right: .5ex}\n",
       ".dl-inline>dt:not(:first-of-type) {padding-left: .5ex}\n",
       "</style><dl class=dl-inline><dt>C1M_School_closing</dt><dd>'1'</dd><dt>median_age</dt><dd>'2'</dd><dt>population_density</dt><dd>'3'</dd><dt>C1M_School_closing + median_age</dt><dd>'1 + 2'</dd><dt>C1M_School_closing + population_density</dt><dd>'1 + 3'</dd><dt>median_age + population_density</dt><dd>'2 + 3'</dd><dt>C1M_School_closing + median_age + population_density</dt><dd>'1 + 2 + 3'</dd></dl>\n"
      ],
      "text/latex": [
       "\\begin{description*}\n",
       "\\item[C1M\\textbackslash{}\\_School\\textbackslash{}\\_closing] '1'\n",
       "\\item[median\\textbackslash{}\\_age] '2'\n",
       "\\item[population\\textbackslash{}\\_density] '3'\n",
       "\\item[C1M\\textbackslash{}\\_School\\textbackslash{}\\_closing + median\\textbackslash{}\\_age] '1 + 2'\n",
       "\\item[C1M\\textbackslash{}\\_School\\textbackslash{}\\_closing + population\\textbackslash{}\\_density] '1 + 3'\n",
       "\\item[median\\textbackslash{}\\_age + population\\textbackslash{}\\_density] '2 + 3'\n",
       "\\item[C1M\\textbackslash{}\\_School\\textbackslash{}\\_closing + median\\textbackslash{}\\_age + population\\textbackslash{}\\_density] '1 + 2 + 3'\n",
       "\\end{description*}\n"
      ],
      "text/markdown": [
       "C1M_School_closing\n",
       ":   '1'median_age\n",
       ":   '2'population_density\n",
       ":   '3'C1M_School_closing + median_age\n",
       ":   '1 + 2'C1M_School_closing + population_density\n",
       ":   '1 + 3'median_age + population_density\n",
       ":   '2 + 3'C1M_School_closing + median_age + population_density\n",
       ":   '1 + 2 + 3'\n",
       "\n"
      ],
      "text/plain": [
       "                                  C1M_School_closing \n",
       "                                                 \"1\" \n",
       "                                          median_age \n",
       "                                                 \"2\" \n",
       "                                  population_density \n",
       "                                                 \"3\" \n",
       "                     C1M_School_closing + median_age \n",
       "                                             \"1 + 2\" \n",
       "             C1M_School_closing + population_density \n",
       "                                             \"1 + 3\" \n",
       "                     median_age + population_density \n",
       "                                             \"2 + 3\" \n",
       "C1M_School_closing + median_age + population_density \n",
       "                                         \"1 + 2 + 3\" "
      ]
     },
     "metadata": {},
     "output_type": "display_data"
    }
   ],
   "source": [
    "replace_vars_with_numbers <- function(headers) {\n",
    "  # Define all unique variables\n",
    "  variables <- c(\"C1M_School_closing\",\n",
    "               \"median_age\",\n",
    "               \"population_density\")\n",
    "  \n",
    "  # Create a named vector for mapping\n",
    "  var_numbers <- setNames(as.character(seq_along(variables)), variables)\n",
    "  \n",
    "  # Split and replace components\n",
    "  sapply(headers, function(h) {\n",
    "    components <- unlist(strsplit(h, \" \\\\+ \"))\n",
    "    numbers <- var_numbers[components]\n",
    "    paste(numbers, collapse = \" + \")\n",
    "  })\n",
    "}\n",
    "numbered_headers <- replace_vars_with_numbers(headers[2:length(headers)])\n",
    "numbered_headers"
   ]
  },
  {
   "cell_type": "code",
   "execution_count": 34,
   "metadata": {
    "vscode": {
     "languageId": "r"
    }
   },
   "outputs": [
    {
     "name": "stderr",
     "output_type": "stream",
     "text": [
      "NOTE: 13,568 observations removed because of NA and infinite values (RHS: 9,802, IV: 6,067/9,802).\n",
      "\n",
      "NOTE: 13,568 observations removed because of NA and infinite values (RHS: 9,802, IV: 6,067/47).\n",
      "\n",
      "NOTE: 13,906 observations removed because of NA and infinite values (RHS: 9,802, IV: 6,067/2,257).\n",
      "\n",
      "NOTE: 13,568 observations removed because of NA and infinite values (RHS: 9,802, IV: 6,067/9,802).\n",
      "\n",
      "NOTE: 13,906 observations removed because of NA and infinite values (RHS: 9,802, IV: 6,067/10,661).\n",
      "\n",
      "NOTE: 13,906 observations removed because of NA and infinite values (RHS: 9,802, IV: 6,067/2,257).\n",
      "\n",
      "NOTE: 13,906 observations removed because of NA and infinite values (RHS: 9,802, IV: 6,067/10,661).\n",
      "\n"
     ]
    },
    {
     "data": {
      "text/plain": [
       "\\begingroup\n",
       "\\centering\n",
       "\\begin{tabular}{lccccccc}\n",
       "   \\tabularnewline \\midrule \\midrule\n",
       "   Dependent Variable: & \\multicolumn{7}{c}{log(v/v19)}\\\\\n",
       "                                                & 1             & 2            & 3        & 1 + 2         & 1 + 3         & 2 + 3    & 1 + 2 + 3 \\\\   \n",
       "   Model:                                       & (1)           & (2)          & (3)      & (4)           & (5)           & (6)      & (7)\\\\  \n",
       "   \\midrule\n",
       "   \\emph{Variables}\\\\\n",
       "   log(deaths\\_i)                               & -0.0743$^{*}$ & -0.0307      & -0.0729  & -0.0602$^{*}$ & -0.0752$^{*}$ & -0.0318  & -0.0601$^{*}$\\\\   \n",
       "                                                & (0.0340)      & (0.0295)     & (0.0478) & (0.0245)      & (0.0326)      & (0.0281) & (0.0241)\\\\   \n",
       "   log(deaths\\_j)                               & 0.0100        & 0.0459$^{.}$ & -0.0580  & 0.0229        & 0.0050        & 0.0354   & 0.0193\\\\   \n",
       "                                                & (0.0283)      & (0.0260)     & (0.0789) & (0.0219)      & (0.0271)      & (0.0281) & (0.0218)\\\\   \n",
       "   C8EV\\_International\\_travel\\_controls\\_i     & -0.0455$^{*}$ & -0.0284      & -0.0434  & -0.0400$^{*}$ & -0.0457$^{*}$ & -0.0286  & -0.0398$^{*}$\\\\   \n",
       "                                                & (0.0213)      & (0.0194)     & (0.0284) & (0.0184)      & (0.0211)      & (0.0197) & (0.0186)\\\\   \n",
       "   C8EV\\_International\\_travel\\_controls\\_j     & -0.0145       & 0.0007       & -0.0422  & -0.0090       & -0.0144       & -0.0016  & -0.0083\\\\   \n",
       "                                                & (0.0149)      & (0.0167)     & (0.0401) & (0.0136)      & (0.0150)      & (0.0175) & (0.0139)\\\\   \n",
       "   \\midrule\n",
       "   \\emph{Fixed-effects}\\\\\n",
       "   year                                         & Yes           & Yes          & Yes      & Yes           & Yes           & Yes      & Yes\\\\  \n",
       "   i                                            & Yes           & Yes          & Yes      & Yes           & Yes           & Yes      & Yes\\\\  \n",
       "   j                                            & Yes           & Yes          & Yes      & Yes           & Yes           & Yes      & Yes\\\\  \n",
       "   \\midrule\n",
       "   \\emph{Fit statistics}\\\\\n",
       "   Observations                                 & 56,739        & 56,739       & 56,401   & 56,739        & 56,401        & 56,401   & 56,401\\\\  \n",
       "   R$^2$                                        & 0.04187       & 0.04249      & 0.04015  & 0.04249       & 0.04196       & 0.04316  & 0.04270\\\\  \n",
       "   Within R$^2$                                 & -0.00226      & -0.00161     & -0.00414 & -0.00161      & -0.00225      & -0.00099 & -0.00148\\\\  \n",
       "   Sargan, p-value                              &               &              &          & 0.22489       & 0.69514       & 0.34134  & 0.32068\\\\  \n",
       "   Wu-Hausman, p-value                          & 0.00950       & 0.14722      & 0.56513  & 0.00654       & 0.00731       & 0.25468  & 0.00858\\\\  \n",
       "   F-test (1st stage), log(deaths\\_i)           & 1,887.4       & 946.37       & 115.35   & 1,394.2       & 993.23        & 515.11   & 948.88\\\\  \n",
       "   F-test (1st stage), log(deaths\\_j)           & 1,723.7       & 1,028.4      & 119.00   & 1,349.3       & 912.59        & 556.88   & 919.56\\\\  \n",
       "   \\midrule \\midrule\n",
       "   \\multicolumn{8}{l}{\\emph{Clustered (i \\& j) standard-errors in parentheses}}\\\\\n",
       "   \\multicolumn{8}{l}{\\emph{Signif. Codes: ***: 0.001, **: 0.01, *: 0.05, .: 0.1}}\\\\\n",
       "\\end{tabular}\n",
       "\\par\\endgroup"
      ]
     },
     "metadata": {},
     "output_type": "display_data"
    },
    {
     "data": {
      "text/html": [
       "<table class=\"dataframe\">\n",
       "<caption>A etable_df: 20 × 8</caption>\n",
       "<thead>\n",
       "\t<tr><th></th><th scope=col></th><th scope=col>model 1</th><th scope=col>model 2</th><th scope=col>model 3</th><th scope=col>model 4</th><th scope=col>model 5</th><th scope=col>model 6</th><th scope=col>model 7</th></tr>\n",
       "\t<tr><th></th><th scope=col>&lt;chr&gt;</th><th scope=col>&lt;chr&gt;</th><th scope=col>&lt;chr&gt;</th><th scope=col>&lt;chr&gt;</th><th scope=col>&lt;chr&gt;</th><th scope=col>&lt;chr&gt;</th><th scope=col>&lt;chr&gt;</th><th scope=col>&lt;chr&gt;</th></tr>\n",
       "</thead>\n",
       "<tbody>\n",
       "\t<tr><th scope=row>1</th><td>                                    </td><td>1                </td><td>2               </td><td>3               </td><td>1 + 2            </td><td>1 + 3            </td><td>2 + 3           </td><td>1 + 2 + 3        </td></tr>\n",
       "\t<tr><th scope=row>2</th><td>Dependent Var.:                     </td><td>log(v/v19)       </td><td>log(v/v19)      </td><td>log(v/v19)      </td><td>log(v/v19)       </td><td>log(v/v19)       </td><td>log(v/v19)      </td><td>log(v/v19)       </td></tr>\n",
       "\t<tr><th scope=row>3</th><td>                                    </td><td>                 </td><td>                </td><td>                </td><td>                 </td><td>                 </td><td>                </td><td>                 </td></tr>\n",
       "\t<tr><th scope=row>4</th><td>log(deaths_i)                       </td><td>-0.0743* (0.0340)</td><td>-0.0307 (0.0295)</td><td>-0.0729 (0.0478)</td><td>-0.0602* (0.0245)</td><td>-0.0752* (0.0326)</td><td>-0.0318 (0.0281)</td><td>-0.0601* (0.0241)</td></tr>\n",
       "\t<tr><th scope=row>5</th><td>log(deaths_j)                       </td><td>0.0100 (0.0283)  </td><td>0.0459. (0.0260)</td><td>-0.0580 (0.0789)</td><td>0.0229 (0.0219)  </td><td>0.0050 (0.0271)  </td><td>0.0354 (0.0281) </td><td>0.0193 (0.0218)  </td></tr>\n",
       "\t<tr><th scope=row>6</th><td>C8EV_International_travel_controls_i</td><td>-0.0455* (0.0213)</td><td>-0.0284 (0.0194)</td><td>-0.0434 (0.0284)</td><td>-0.0400* (0.0184)</td><td>-0.0457* (0.0211)</td><td>-0.0286 (0.0197)</td><td>-0.0398* (0.0186)</td></tr>\n",
       "\t<tr><th scope=row>7</th><td>C8EV_International_travel_controls_j</td><td>-0.0145 (0.0149) </td><td>0.0007 (0.0167) </td><td>-0.0422 (0.0401)</td><td>-0.0090 (0.0136) </td><td>-0.0144 (0.0150) </td><td>-0.0016 (0.0175)</td><td>-0.0083 (0.0139) </td></tr>\n",
       "\t<tr><th scope=row>8</th><td>Fixed-Effects:                      </td><td>-----------------</td><td>----------------</td><td>----------------</td><td>-----------------</td><td>-----------------</td><td>----------------</td><td>-----------------</td></tr>\n",
       "\t<tr><th scope=row>9</th><td>year                                </td><td>Yes              </td><td>Yes             </td><td>Yes             </td><td>Yes              </td><td>Yes              </td><td>Yes             </td><td>Yes              </td></tr>\n",
       "\t<tr><th scope=row>10</th><td>i                                   </td><td>Yes              </td><td>Yes             </td><td>Yes             </td><td>Yes              </td><td>Yes              </td><td>Yes             </td><td>Yes              </td></tr>\n",
       "\t<tr><th scope=row>11</th><td>j                                   </td><td>Yes              </td><td>Yes             </td><td>Yes             </td><td>Yes              </td><td>Yes              </td><td>Yes             </td><td>Yes              </td></tr>\n",
       "\t<tr><th scope=row>12</th><td>____________________________________</td><td>_________________</td><td>________________</td><td>________________</td><td>_________________</td><td>_________________</td><td>________________</td><td>_________________</td></tr>\n",
       "\t<tr><th scope=row>13</th><td><span style=white-space:pre-wrap>S.E.: Clustered                     </span></td><td><span style=white-space:pre-wrap>by: i &amp; j        </span></td><td><span style=white-space:pre-wrap>by: i &amp; j       </span></td><td><span style=white-space:pre-wrap>by: i &amp; j       </span></td><td><span style=white-space:pre-wrap>by: i &amp; j        </span></td><td><span style=white-space:pre-wrap>by: i &amp; j        </span></td><td><span style=white-space:pre-wrap>by: i &amp; j       </span></td><td><span style=white-space:pre-wrap>by: i &amp; j        </span></td></tr>\n",
       "\t<tr><th scope=row>14</th><td>Observations                        </td><td>56,739           </td><td>56,739          </td><td>56,401          </td><td>56,739           </td><td>56,401           </td><td>56,401          </td><td>56,401           </td></tr>\n",
       "\t<tr><th scope=row>15</th><td>R2                                  </td><td>0.04187          </td><td>0.04249         </td><td>0.04015         </td><td>0.04249          </td><td>0.04196          </td><td>0.04316         </td><td>0.04270          </td></tr>\n",
       "\t<tr><th scope=row>16</th><td>Within R2                           </td><td>-0.00226         </td><td>-0.00161        </td><td>-0.00414        </td><td>-0.00161         </td><td>-0.00225         </td><td>-0.00099        </td><td>-0.00148         </td></tr>\n",
       "\t<tr><th scope=row>17</th><td>Sargan, p-value                     </td><td>--               </td><td>--              </td><td>--              </td><td>0.22489          </td><td>0.69514          </td><td>0.34134         </td><td>0.32068          </td></tr>\n",
       "\t<tr><th scope=row>18</th><td>Wu-Hausman, p-value                 </td><td>0.00950          </td><td>0.14722         </td><td>0.56513         </td><td>0.00654          </td><td>0.00731          </td><td>0.25468         </td><td>0.00858          </td></tr>\n",
       "\t<tr><th scope=row>19</th><td>F-test (1st stage), log(deaths_i)   </td><td>1,887.4          </td><td>946.37          </td><td>115.35          </td><td>1,394.2          </td><td>993.23           </td><td>515.11          </td><td>948.88           </td></tr>\n",
       "\t<tr><th scope=row>20</th><td>F-test (1st stage), log(deaths_j)   </td><td>1,723.7          </td><td>1,028.4         </td><td>119.00          </td><td>1,349.3          </td><td>912.59           </td><td>556.88          </td><td>919.56           </td></tr>\n",
       "</tbody>\n",
       "</table>\n"
      ],
      "text/latex": [
       "A etable\\_df: 20 × 8\n",
       "\\begin{tabular}{r|llllllll}\n",
       "  &  & model 1 & model 2 & model 3 & model 4 & model 5 & model 6 & model 7\\\\\n",
       "  & <chr> & <chr> & <chr> & <chr> & <chr> & <chr> & <chr> & <chr>\\\\\n",
       "\\hline\n",
       "\t1 &                                      & 1                 & 2                & 3                & 1 + 2             & 1 + 3             & 2 + 3            & 1 + 2 + 3        \\\\\n",
       "\t2 & Dependent Var.:                      & log(v/v19)        & log(v/v19)       & log(v/v19)       & log(v/v19)        & log(v/v19)        & log(v/v19)       & log(v/v19)       \\\\\n",
       "\t3 &                                      &                   &                  &                  &                   &                   &                  &                  \\\\\n",
       "\t4 & log(deaths\\_i)                        & -0.0743* (0.0340) & -0.0307 (0.0295) & -0.0729 (0.0478) & -0.0602* (0.0245) & -0.0752* (0.0326) & -0.0318 (0.0281) & -0.0601* (0.0241)\\\\\n",
       "\t5 & log(deaths\\_j)                        & 0.0100 (0.0283)   & 0.0459. (0.0260) & -0.0580 (0.0789) & 0.0229 (0.0219)   & 0.0050 (0.0271)   & 0.0354 (0.0281)  & 0.0193 (0.0218)  \\\\\n",
       "\t6 & C8EV\\_International\\_travel\\_controls\\_i & -0.0455* (0.0213) & -0.0284 (0.0194) & -0.0434 (0.0284) & -0.0400* (0.0184) & -0.0457* (0.0211) & -0.0286 (0.0197) & -0.0398* (0.0186)\\\\\n",
       "\t7 & C8EV\\_International\\_travel\\_controls\\_j & -0.0145 (0.0149)  & 0.0007 (0.0167)  & -0.0422 (0.0401) & -0.0090 (0.0136)  & -0.0144 (0.0150)  & -0.0016 (0.0175) & -0.0083 (0.0139) \\\\\n",
       "\t8 & Fixed-Effects:                       & ----------------- & ---------------- & ---------------- & ----------------- & ----------------- & ---------------- & -----------------\\\\\n",
       "\t9 & year                                 & Yes               & Yes              & Yes              & Yes               & Yes               & Yes              & Yes              \\\\\n",
       "\t10 & i                                    & Yes               & Yes              & Yes              & Yes               & Yes               & Yes              & Yes              \\\\\n",
       "\t11 & j                                    & Yes               & Yes              & Yes              & Yes               & Yes               & Yes              & Yes              \\\\\n",
       "\t12 & \\_\\_\\_\\_\\_\\_\\_\\_\\_\\_\\_\\_\\_\\_\\_\\_\\_\\_\\_\\_\\_\\_\\_\\_\\_\\_\\_\\_\\_\\_\\_\\_\\_\\_\\_\\_ & \\_\\_\\_\\_\\_\\_\\_\\_\\_\\_\\_\\_\\_\\_\\_\\_\\_ & \\_\\_\\_\\_\\_\\_\\_\\_\\_\\_\\_\\_\\_\\_\\_\\_ & \\_\\_\\_\\_\\_\\_\\_\\_\\_\\_\\_\\_\\_\\_\\_\\_ & \\_\\_\\_\\_\\_\\_\\_\\_\\_\\_\\_\\_\\_\\_\\_\\_\\_ & \\_\\_\\_\\_\\_\\_\\_\\_\\_\\_\\_\\_\\_\\_\\_\\_\\_ & \\_\\_\\_\\_\\_\\_\\_\\_\\_\\_\\_\\_\\_\\_\\_\\_ & \\_\\_\\_\\_\\_\\_\\_\\_\\_\\_\\_\\_\\_\\_\\_\\_\\_\\\\\n",
       "\t13 & S.E.: Clustered                      & by: i \\& j         & by: i \\& j        & by: i \\& j        & by: i \\& j         & by: i \\& j         & by: i \\& j        & by: i \\& j        \\\\\n",
       "\t14 & Observations                         & 56,739            & 56,739           & 56,401           & 56,739            & 56,401            & 56,401           & 56,401           \\\\\n",
       "\t15 & R2                                   & 0.04187           & 0.04249          & 0.04015          & 0.04249           & 0.04196           & 0.04316          & 0.04270          \\\\\n",
       "\t16 & Within R2                            & -0.00226          & -0.00161         & -0.00414         & -0.00161          & -0.00225          & -0.00099         & -0.00148         \\\\\n",
       "\t17 & Sargan, p-value                      & --                & --               & --               & 0.22489           & 0.69514           & 0.34134          & 0.32068          \\\\\n",
       "\t18 & Wu-Hausman, p-value                  & 0.00950           & 0.14722          & 0.56513          & 0.00654           & 0.00731           & 0.25468          & 0.00858          \\\\\n",
       "\t19 & F-test (1st stage), log(deaths\\_i)    & 1,887.4           & 946.37           & 115.35           & 1,394.2           & 993.23            & 515.11           & 948.88           \\\\\n",
       "\t20 & F-test (1st stage), log(deaths\\_j)    & 1,723.7           & 1,028.4          & 119.00           & 1,349.3           & 912.59            & 556.88           & 919.56           \\\\\n",
       "\\end{tabular}\n"
      ],
      "text/markdown": [
       "\n",
       "A etable_df: 20 × 8\n",
       "\n",
       "| <!--/--> | <!----> &lt;chr&gt; | model 1 &lt;chr&gt; | model 2 &lt;chr&gt; | model 3 &lt;chr&gt; | model 4 &lt;chr&gt; | model 5 &lt;chr&gt; | model 6 &lt;chr&gt; | model 7 &lt;chr&gt; |\n",
       "|---|---|---|---|---|---|---|---|---|\n",
       "| 1 | <!----> | 1                 | 2                | 3                | 1 + 2             | 1 + 3             | 2 + 3            | 1 + 2 + 3         |\n",
       "| 2 | Dependent Var.:                      | log(v/v19)        | log(v/v19)       | log(v/v19)       | log(v/v19)        | log(v/v19)        | log(v/v19)       | log(v/v19)        |\n",
       "| 3 | <!----> | <!----> | <!----> | <!----> | <!----> | <!----> | <!----> | <!----> |\n",
       "| 4 | log(deaths_i)                        | -0.0743* (0.0340) | -0.0307 (0.0295) | -0.0729 (0.0478) | -0.0602* (0.0245) | -0.0752* (0.0326) | -0.0318 (0.0281) | -0.0601* (0.0241) |\n",
       "| 5 | log(deaths_j)                        | 0.0100 (0.0283)   | 0.0459. (0.0260) | -0.0580 (0.0789) | 0.0229 (0.0219)   | 0.0050 (0.0271)   | 0.0354 (0.0281)  | 0.0193 (0.0218)   |\n",
       "| 6 | C8EV_International_travel_controls_i | -0.0455* (0.0213) | -0.0284 (0.0194) | -0.0434 (0.0284) | -0.0400* (0.0184) | -0.0457* (0.0211) | -0.0286 (0.0197) | -0.0398* (0.0186) |\n",
       "| 7 | C8EV_International_travel_controls_j | -0.0145 (0.0149)  | 0.0007 (0.0167)  | -0.0422 (0.0401) | -0.0090 (0.0136)  | -0.0144 (0.0150)  | -0.0016 (0.0175) | -0.0083 (0.0139)  |\n",
       "| 8 | Fixed-Effects:                       | ----------------- | ---------------- | ---------------- | ----------------- | ----------------- | ---------------- | ----------------- |\n",
       "| 9 | year                                 | Yes               | Yes              | Yes              | Yes               | Yes               | Yes              | Yes               |\n",
       "| 10 | i                                    | Yes               | Yes              | Yes              | Yes               | Yes               | Yes              | Yes               |\n",
       "| 11 | j                                    | Yes               | Yes              | Yes              | Yes               | Yes               | Yes              | Yes               |\n",
       "| 12 | ____________________________________ | _________________ | ________________ | ________________ | _________________ | _________________ | ________________ | _________________ |\n",
       "| 13 | S.E.: Clustered                      | by: i &amp; j         | by: i &amp; j        | by: i &amp; j        | by: i &amp; j         | by: i &amp; j         | by: i &amp; j        | by: i &amp; j         |\n",
       "| 14 | Observations                         | 56,739            | 56,739           | 56,401           | 56,739            | 56,401            | 56,401           | 56,401            |\n",
       "| 15 | R2                                   | 0.04187           | 0.04249          | 0.04015          | 0.04249           | 0.04196           | 0.04316          | 0.04270           |\n",
       "| 16 | Within R2                            | -0.00226          | -0.00161         | -0.00414         | -0.00161          | -0.00225          | -0.00099         | -0.00148          |\n",
       "| 17 | Sargan, p-value                      | --                | --               | --               | 0.22489           | 0.69514           | 0.34134          | 0.32068           |\n",
       "| 18 | Wu-Hausman, p-value                  | 0.00950           | 0.14722          | 0.56513          | 0.00654           | 0.00731           | 0.25468          | 0.00858           |\n",
       "| 19 | F-test (1st stage), log(deaths_i)    | 1,887.4           | 946.37           | 115.35           | 1,394.2           | 993.23            | 515.11           | 948.88            |\n",
       "| 20 | F-test (1st stage), log(deaths_j)    | 1,723.7           | 1,028.4          | 119.00           | 1,349.3           | 912.59            | 556.88           | 919.56            |\n",
       "\n"
      ],
      "text/plain": [
       "                                        model 1           model 2         \n",
       "1                                       1                 2               \n",
       "2  Dependent Var.:                      log(v/v19)        log(v/v19)      \n",
       "3                                                                         \n",
       "4  log(deaths_i)                        -0.0743* (0.0340) -0.0307 (0.0295)\n",
       "5  log(deaths_j)                        0.0100 (0.0283)   0.0459. (0.0260)\n",
       "6  C8EV_International_travel_controls_i -0.0455* (0.0213) -0.0284 (0.0194)\n",
       "7  C8EV_International_travel_controls_j -0.0145 (0.0149)  0.0007 (0.0167) \n",
       "8  Fixed-Effects:                       ----------------- ----------------\n",
       "9  year                                 Yes               Yes             \n",
       "10 i                                    Yes               Yes             \n",
       "11 j                                    Yes               Yes             \n",
       "12 ____________________________________ _________________ ________________\n",
       "13 S.E.: Clustered                      by: i & j         by: i & j       \n",
       "14 Observations                         56,739            56,739          \n",
       "15 R2                                   0.04187           0.04249         \n",
       "16 Within R2                            -0.00226          -0.00161        \n",
       "17 Sargan, p-value                      --                --              \n",
       "18 Wu-Hausman, p-value                  0.00950           0.14722         \n",
       "19 F-test (1st stage), log(deaths_i)    1,887.4           946.37          \n",
       "20 F-test (1st stage), log(deaths_j)    1,723.7           1,028.4         \n",
       "   model 3          model 4           model 5           model 6         \n",
       "1  3                1 + 2             1 + 3             2 + 3           \n",
       "2  log(v/v19)       log(v/v19)        log(v/v19)        log(v/v19)      \n",
       "3                                                                       \n",
       "4  -0.0729 (0.0478) -0.0602* (0.0245) -0.0752* (0.0326) -0.0318 (0.0281)\n",
       "5  -0.0580 (0.0789) 0.0229 (0.0219)   0.0050 (0.0271)   0.0354 (0.0281) \n",
       "6  -0.0434 (0.0284) -0.0400* (0.0184) -0.0457* (0.0211) -0.0286 (0.0197)\n",
       "7  -0.0422 (0.0401) -0.0090 (0.0136)  -0.0144 (0.0150)  -0.0016 (0.0175)\n",
       "8  ---------------- ----------------- ----------------- ----------------\n",
       "9  Yes              Yes               Yes               Yes             \n",
       "10 Yes              Yes               Yes               Yes             \n",
       "11 Yes              Yes               Yes               Yes             \n",
       "12 ________________ _________________ _________________ ________________\n",
       "13 by: i & j        by: i & j         by: i & j         by: i & j       \n",
       "14 56,401           56,739            56,401            56,401          \n",
       "15 0.04015          0.04249           0.04196           0.04316         \n",
       "16 -0.00414         -0.00161          -0.00225          -0.00099        \n",
       "17 --               0.22489           0.69514           0.34134         \n",
       "18 0.56513          0.00654           0.00731           0.25468         \n",
       "19 115.35           1,394.2           993.23            515.11          \n",
       "20 119.00           1,349.3           912.59            556.88          \n",
       "   model 7          \n",
       "1  1 + 2 + 3        \n",
       "2  log(v/v19)       \n",
       "3                   \n",
       "4  -0.0601* (0.0241)\n",
       "5  0.0193 (0.0218)  \n",
       "6  -0.0398* (0.0186)\n",
       "7  -0.0083 (0.0139) \n",
       "8  -----------------\n",
       "9  Yes              \n",
       "10 Yes              \n",
       "11 Yes              \n",
       "12 _________________\n",
       "13 by: i & j        \n",
       "14 56,401           \n",
       "15 0.04270          \n",
       "16 -0.00148         \n",
       "17 0.32068          \n",
       "18 0.00858          \n",
       "19 948.88           \n",
       "20 919.56           "
      ]
     },
     "metadata": {},
     "output_type": "display_data"
    }
   ],
   "source": [
    "list_of_iv_models = list()\n",
    "for (i in 1:length(formulas)){\n",
    "    list_of_iv_models[[i]] = feols(formulas[i][[1]], data = df)\n",
    "}\n",
    "etable(list_of_iv_models, vcov=~i+j, signif.code=signif.code, fitstat=~ . + sargan.p + wh.p + ivf,\n",
    "    headers=numbered_headers, tex=TRUE)\n",
    "etable(list_of_iv_models, vcov=~i+j, signif.code=signif.code, fitstat=~ . + sargan.p + wh.p + ivf,\n",
    "    headers=numbered_headers, tex=FALSE)"
   ]
  },
  {
   "cell_type": "markdown",
   "metadata": {},
   "source": [
    "### Робастность с выкидываем одного года"
   ]
  },
  {
   "cell_type": "code",
   "execution_count": 18,
   "metadata": {
    "vscode": {
     "languageId": "r"
    }
   },
   "outputs": [
    {
     "name": "stderr",
     "output_type": "stream",
     "text": [
      "NOTE: 8,375 observations removed because of NA and infinite values (RHS: 6,383, IV: 2,686/7,242).\n",
      "\n"
     ]
    },
    {
     "data": {
      "text/plain": [
       "TSLS estimation - Dep. Var.: log(v/v19)\n",
       "                  Endo.    : log(deaths_i), log(deaths_j)\n",
       "                  Instr.   : C1M_School_closing_i, C1M_School_closing_j, median_age_i, median_age_j, population_density_i, population_density_j\n",
       "Second stage: Dep. Var.: log(v/v19)\n",
       "Observations: 38,010\n",
       "Fixed-effects: year: 2,  i: 175,  j: 175\n",
       "Standard-errors: Clustered (i & j) \n",
       "                                      Estimate Std. Error   t value Pr(>|t|) \n",
       "fit_log(deaths_i)                    -0.038613   0.036766 -1.050219  0.29507 \n",
       "fit_log(deaths_j)                     0.005131   0.032703  0.156888  0.87552 \n",
       "C8EV_International_travel_controls_i -0.034057   0.025004 -1.362064  0.17494 \n",
       "C8EV_International_travel_controls_j -0.006258   0.018649 -0.335578  0.73759 \n",
       "---\n",
       "Signif. codes:  0 '***' 0.001 '**' 0.01 '*' 0.05 '.' 0.1 ' ' 1\n",
       "RMSE: 1.03094     Adj. R2:  0.03273 \n",
       "                Within R2: -1.469e-4\n",
       "F-test (1st stage), log(deaths_i): stat = 530.1     , p < 2.2e-16 , on 6 and 37,653 DoF.\n",
       "F-test (1st stage), log(deaths_j): stat = 529.1     , p < 2.2e-16 , on 6 and 37,653 DoF.\n",
       "                       Wu-Hausman: stat =   0.398477, p = 0.671345, on 2 and 37,654 DoF.\n",
       "                           Sargan: stat =   2.09369 , p = 0.718532, on 4 DoF."
      ]
     },
     "metadata": {},
     "output_type": "display_data"
    },
    {
     "name": "stderr",
     "output_type": "stream",
     "text": [
      "NOTE: 8,037 observations removed because of NA and infinite values (RHS: 8,037).\n",
      "\n"
     ]
    },
    {
     "data": {
      "text/plain": [
       "OLS estimation, Dep. Var.: log(v/v19)\n",
       "Observations: 38,348\n",
       "Fixed-effects: year: 2,  i: 175,  j: 175\n",
       "Standard-errors: Clustered (i & j) \n",
       "                                      Estimate Std. Error   t value Pr(>|t|) \n",
       "log(deaths_i)                        -0.012427   0.007960 -1.561136  0.12031 \n",
       "log(deaths_j)                         0.001750   0.007853  0.222812  0.82394 \n",
       "C8EV_International_travel_controls_i -0.020393   0.018478 -1.103686  0.27125 \n",
       "C8EV_International_travel_controls_j -0.012554   0.019027 -0.659795  0.51026 \n",
       "---\n",
       "Signif. codes:  0 '***' 0.001 '**' 0.01 '*' 0.05 '.' 0.1 ' ' 1\n",
       "RMSE: 1.03103     Adj. R2: 0.032831\n",
       "                Within R2: 1.12e-4 "
      ]
     },
     "metadata": {},
     "output_type": "display_data"
    }
   ],
   "source": [
    "fe_iv_no2020 = feols(log(v/v19) ~  1 +\n",
    " C8EV_International_travel_controls_i + C8EV_International_travel_controls_j | year+i+j|\n",
    " log(deaths_i) + log(deaths_j) ~ \n",
    "# H6M_Facial_Coverings_i+H6M_Facial_Coverings_j\n",
    "# +\n",
    "C1M_School_closing_i+C1M_School_closing_j\n",
    "+\n",
    "median_age_i + median_age_j\n",
    "+\n",
    "population_density_i + population_density_j\n",
    "# +\n",
    "# average_surface_temperature_i + average_surface_temperature_j # Добавляет пропусков\n",
    "\n",
    " ,\n",
    " data = df %>% filter(year != \"2020\")\n",
    " )\n",
    "\n",
    "fe_iv_no2020 %>% summary(cluster = ~ i+j)\n",
    "\n",
    "feols(log(v/v19) ~  1 + log(deaths_i) + log(deaths_j) +\n",
    " C8EV_International_travel_controls_i + C8EV_International_travel_controls_j | year+i+j,\n",
    " data = df %>% filter(year != \"2020\")) %>% summary(cluster = ~ i+j)"
   ]
  },
  {
   "cell_type": "code",
   "execution_count": 19,
   "metadata": {
    "vscode": {
     "languageId": "r"
    }
   },
   "outputs": [
    {
     "name": "stderr",
     "output_type": "stream",
     "text": [
      "NOTE: 9,780 observations removed because of NA and infinite values (RHS: 6,512, IV: 4,510/7,371).\n",
      "\n"
     ]
    },
    {
     "data": {
      "text/plain": [
       "TSLS estimation - Dep. Var.: log(v/v19)\n",
       "                  Endo.    : log(deaths_i), log(deaths_j)\n",
       "                  Instr.   : C1M_School_closing_i, C1M_School_closing_j, median_age_i, median_age_j, population_density_i, population_density_j\n",
       "Second stage: Dep. Var.: log(v/v19)\n",
       "Observations: 36,969\n",
       "Fixed-effects: year: 2,  i: 175,  j: 175\n",
       "Standard-errors: Clustered (i & j) \n",
       "                                      Estimate Std. Error  t value Pr(>|t|)    \n",
       "fit_log(deaths_i)                    -0.066556   0.024162 -2.75457 0.006502 ** \n",
       "fit_log(deaths_j)                     0.020572   0.020131  1.02192 0.308235    \n",
       "C8EV_International_travel_controls_i -0.052320   0.032441 -1.61279 0.108602    \n",
       "C8EV_International_travel_controls_j -0.029075   0.027235 -1.06756 0.287197    \n",
       "---\n",
       "Signif. codes:  0 '***' 0.001 '**' 0.01 '*' 0.05 '.' 0.1 ' ' 1\n",
       "RMSE: 0.963672     Adj. R2:  0.045084\n",
       "                 Within R2: -0.001063\n",
       "F-test (1st stage), log(deaths_i): stat = 1,345.3   , p < 2.2e-16 , on 6 and 36,612 DoF.\n",
       "F-test (1st stage), log(deaths_j): stat = 1,364.0   , p < 2.2e-16 , on 6 and 36,612 DoF.\n",
       "                       Wu-Hausman: stat =     6.9648, p = 9.458e-4, on 2 and 36,613 DoF.\n",
       "                           Sargan: stat =    15.3   , p = 0.004082, on 4 DoF."
      ]
     },
     "metadata": {},
     "output_type": "display_data"
    },
    {
     "name": "stderr",
     "output_type": "stream",
     "text": [
      "NOTE: 9,442 observations removed because of NA and infinite values (RHS: 9,442).\n",
      "\n"
     ]
    },
    {
     "data": {
      "text/plain": [
       "OLS estimation, Dep. Var.: log(v/v19)\n",
       "Observations: 37,307\n",
       "Fixed-effects: year: 2,  i: 175,  j: 175\n",
       "Standard-errors: Clustered (i & j) \n",
       "                                      Estimate Std. Error   t value  Pr(>|t|)\n",
       "log(deaths_i)                        -0.024073   0.008215 -2.930532 0.0038381\n",
       "log(deaths_j)                        -0.004361   0.008051 -0.541649 0.5887530\n",
       "C8EV_International_travel_controls_i -0.030196   0.024647 -1.225141 0.2221780\n",
       "C8EV_International_travel_controls_j -0.046039   0.027666 -1.664077 0.0978969\n",
       "                                        \n",
       "log(deaths_i)                        ** \n",
       "log(deaths_j)                           \n",
       "C8EV_International_travel_controls_i    \n",
       "C8EV_International_travel_controls_j .  \n",
       "---\n",
       "Signif. codes:  0 '***' 0.001 '**' 0.01 '*' 0.05 '.' 0.1 ' ' 1\n",
       "RMSE: 0.963722     Adj. R2: 0.046687\n",
       "                 Within R2: 6.399e-4"
      ]
     },
     "metadata": {},
     "output_type": "display_data"
    }
   ],
   "source": [
    "fe_iv_no2021 = feols(log(v/v19) ~  1 +\n",
    " C8EV_International_travel_controls_i + C8EV_International_travel_controls_j | year+i+j|\n",
    " log(deaths_i) + log(deaths_j) ~ \n",
    "# H6M_Facial_Coverings_i+H6M_Facial_Coverings_j\n",
    "# +\n",
    "C1M_School_closing_i+C1M_School_closing_j\n",
    "+\n",
    "median_age_i + median_age_j\n",
    "+\n",
    "population_density_i + population_density_j\n",
    "# +\n",
    "# average_surface_temperature_i + average_surface_temperature_j # Добавляет пропусков\n",
    "\n",
    " ,\n",
    " data = df %>% filter(year != \"2021\")\n",
    " )\n",
    "\n",
    "fe_iv_no2021 %>% summary(cluster = ~ i+j)\n",
    "\n",
    "feols(log(v/v19) ~  1 + log(deaths_i) + log(deaths_j) +\n",
    " C8EV_International_travel_controls_i + C8EV_International_travel_controls_j | year+i+j,\n",
    " data = df %>% filter(year != \"2021\")) %>% summary(cluster = ~ i+j)"
   ]
  },
  {
   "cell_type": "code",
   "execution_count": 20,
   "metadata": {
    "vscode": {
     "languageId": "r"
    }
   },
   "outputs": [
    {
     "name": "stderr",
     "output_type": "stream",
     "text": [
      "NOTE: 9,657 observations removed because of NA and infinite values (RHS: 6,709, IV: 4,938/6,709).\n",
      "\n"
     ]
    },
    {
     "data": {
      "text/plain": [
       "TSLS estimation - Dep. Var.: log(v/v19)\n",
       "                  Endo.    : log(deaths_i), log(deaths_j)\n",
       "                  Instr.   : C1M_School_closing_i, C1M_School_closing_j, median_age_i, median_age_j, population_density_i, population_density_j\n",
       "Second stage: Dep. Var.: log(v/v19)\n",
       "Observations: 37,823\n",
       "Fixed-effects: year: 2,  i: 171,  j: 171\n",
       "Standard-errors: Clustered (i & j) \n",
       "                                      Estimate Std. Error   t value Pr(>|t|)\n",
       "fit_log(deaths_i)                    -0.077656   0.037527 -2.069365 0.040025\n",
       "fit_log(deaths_j)                     0.032304   0.037056  0.871771 0.384563\n",
       "C8EV_International_travel_controls_i -0.028841   0.021968 -1.312869 0.190997\n",
       "C8EV_International_travel_controls_j  0.000174   0.013966  0.012477 0.990059\n",
       "                                        \n",
       "fit_log(deaths_i)                    *  \n",
       "fit_log(deaths_j)                       \n",
       "C8EV_International_travel_controls_i    \n",
       "C8EV_International_travel_controls_j    \n",
       "---\n",
       "Signif. codes:  0 '***' 0.001 '**' 0.01 '*' 0.05 '.' 0.1 ' ' 1\n",
       "RMSE: 0.94151     Adj. R2:  0.025893\n",
       "                Within R2: -0.003231\n",
       "F-test (1st stage), log(deaths_i): stat = 408.7    , p < 2.2e-16 , on 6 and 37,474 DoF.\n",
       "F-test (1st stage), log(deaths_j): stat = 409.1    , p < 2.2e-16 , on 6 and 37,474 DoF.\n",
       "                       Wu-Hausman: stat =   3.63616, p = 0.026363, on 2 and 37,475 DoF.\n",
       "                           Sargan: stat =   6.64507, p = 0.155876, on 4 DoF."
      ]
     },
     "metadata": {},
     "output_type": "display_data"
    },
    {
     "name": "stderr",
     "output_type": "stream",
     "text": [
      "NOTE: 9,657 observations removed because of NA and infinite values (RHS: 9,657).\n",
      "\n"
     ]
    },
    {
     "data": {
      "text/plain": [
       "OLS estimation, Dep. Var.: log(v/v19)\n",
       "Observations: 37,823\n",
       "Fixed-effects: year: 2,  i: 171,  j: 171\n",
       "Standard-errors: Clustered (i & j) \n",
       "                                      Estimate Std. Error   t value Pr(>|t|) \n",
       "log(deaths_i)                        -0.008123   0.007331 -1.108128  0.26937 \n",
       "log(deaths_j)                        -0.007513   0.007523 -0.998707  0.31936 \n",
       "C8EV_International_travel_controls_i -0.015374   0.016756 -0.917493  0.36018 \n",
       "C8EV_International_travel_controls_j -0.009799   0.010460 -0.936821  0.35018 \n",
       "---\n",
       "Signif. codes:  0 '***' 0.001 '**' 0.01 '*' 0.05 '.' 0.1 ' ' 1\n",
       "RMSE: 0.939947     Adj. R2: 0.029125\n",
       "                 Within R2: 9.698e-5"
      ]
     },
     "metadata": {},
     "output_type": "display_data"
    }
   ],
   "source": [
    "fe_iv_no2022 = feols(log(v/v19) ~  1 +\n",
    " C8EV_International_travel_controls_i + C8EV_International_travel_controls_j | year+i+j|\n",
    " log(deaths_i) + log(deaths_j) ~ \n",
    "# H6M_Facial_Coverings_i+H6M_Facial_Coverings_j\n",
    "# +\n",
    "C1M_School_closing_i+C1M_School_closing_j\n",
    "+\n",
    "median_age_i + median_age_j\n",
    "+\n",
    "population_density_i + population_density_j\n",
    "# +\n",
    "# average_surface_temperature_i + average_surface_temperature_j # Добавляет пропусков\n",
    "\n",
    " ,\n",
    " data = df %>% filter(year != \"2022\")\n",
    " )\n",
    "\n",
    "fe_iv_no2022 %>% summary(cluster = ~ i+j)\n",
    "\n",
    "feols(log(v/v19) ~  1 + log(deaths_i) + log(deaths_j) +\n",
    " C8EV_International_travel_controls_i + C8EV_International_travel_controls_j | year+i+j,\n",
    " data = df %>% filter(year != \"2022\")) %>% summary(cluster = ~ i+j)"
   ]
  },
  {
   "cell_type": "markdown",
   "metadata": {},
   "source": [
    "### Экспорт результатов в латех"
   ]
  },
  {
   "cell_type": "code",
   "execution_count": 21,
   "metadata": {
    "vscode": {
     "languageId": "r"
    }
   },
   "outputs": [
    {
     "data": {
      "text/plain": [
       "\\begingroup\n",
       "\\centering\n",
       "\\begin{tabular}{lccc}\n",
       "   \\tabularnewline \\midrule \\midrule\n",
       "   Dependent Variable: & \\multicolumn{3}{c}{log(v/v19)}\\\\\n",
       "   Model:                                                          & (1)           & (2)            & (3)\\\\  \n",
       "   \\midrule\n",
       "   \\emph{Variables}\\\\\n",
       "   log(deaths\\_i)                                                  & -0.0156$^{*}$ &                & -0.0601$^{*}$\\\\   \n",
       "                                                                   & (0.0061)      &                & (0.0241)\\\\   \n",
       "   log(deaths\\_j)                                                  & -0.0032       &                & 0.0193\\\\   \n",
       "                                                                   & (0.0053)      &                & (0.0218)\\\\   \n",
       "   C8EV\\_International\\_travel\\_controls\\_i                        & -0.0212       &                & -0.0398$^{*}$\\\\   \n",
       "                                                                   & (0.0139)      &                & (0.0186)\\\\   \n",
       "   C8EV\\_International\\_travel\\_controls\\_j                        & -0.0212       &                & -0.0083\\\\   \n",
       "                                                                   & (0.0138)      &                & (0.0139)\\\\   \n",
       "   year2021                                                        &               & 0.0781         &   \\\\   \n",
       "                                                                   &               & (0.0771)       &   \\\\   \n",
       "   year2022                                                        &               & 0.1329         &   \\\\   \n",
       "                                                                   &               & (0.0889)       &   \\\\   \n",
       "   year2020 $\\times$ log(deaths\\_i)                                &               & -0.0145$^{*}$  &   \\\\   \n",
       "                                                                   &               & (0.0070)       &   \\\\   \n",
       "   year2021 $\\times$ log(deaths\\_i)                                &               & -0.0141$^{*}$  &   \\\\   \n",
       "                                                                   &               & (0.0068)       &   \\\\   \n",
       "   year2022 $\\times$ log(deaths\\_i)                                &               & -0.0216$^{**}$ &   \\\\   \n",
       "                                                                   &               & (0.0075)       &   \\\\   \n",
       "   year2020 $\\times$ log(deaths\\_j)                                &               & -0.0106        &   \\\\   \n",
       "                                                                   &               & (0.0066)       &   \\\\   \n",
       "   year2021 $\\times$ log(deaths\\_j)                                &               & 0.0014         &   \\\\   \n",
       "                                                                   &               & (0.0068)       &   \\\\   \n",
       "   year2022 $\\times$ log(deaths\\_j)                                &               & 0.0040         &   \\\\   \n",
       "                                                                   &               & (0.0075)       &   \\\\   \n",
       "   year2020 $\\times$ C8EV\\_International\\_travel\\_controls\\_i      &               & -0.0572$^{*}$  &   \\\\   \n",
       "                                                                   &               & (0.0259)       &   \\\\   \n",
       "   year2021 $\\times$ C8EV\\_International\\_travel\\_controls\\_i      &               & -0.0269$^{*}$  &   \\\\   \n",
       "                                                                   &               & (0.0129)       &   \\\\   \n",
       "   year2022 $\\times$ C8EV\\_International\\_travel\\_controls\\_i      &               & 0.0079         &   \\\\   \n",
       "                                                                   &               & (0.0350)       &   \\\\   \n",
       "   year2020 $\\times$ C8EV\\_International\\_travel\\_controls\\_j      &               & -0.0282        &   \\\\   \n",
       "                                                                   &               & (0.0223)       &   \\\\   \n",
       "   year2021 $\\times$ C8EV\\_International\\_travel\\_controls\\_j      &               & -0.0007        &   \\\\   \n",
       "                                                                   &               & (0.0104)       &   \\\\   \n",
       "   year2022 $\\times$ C8EV\\_International\\_travel\\_controls\\_j      &               & -0.0461        &   \\\\   \n",
       "                                                                   &               & (0.0513)       &   \\\\   \n",
       "   \\midrule\n",
       "   \\emph{Fixed-effects}\\\\\n",
       "   i                                                               & Yes           & Yes            & Yes\\\\  \n",
       "   j                                                               & Yes           & Yes            & Yes\\\\  \n",
       "   year                                                            & Yes           &                & Yes\\\\  \n",
       "   \\midrule\n",
       "   \\emph{Fit statistics}\\\\\n",
       "   Observations                                                    & 56,739        & 56,739         & 56,401\\\\  \n",
       "   R$^2$                                                           & 0.04430       & 0.04475        & 0.04270\\\\  \n",
       "   Within R$^2$                                                    & 0.00028       & 0.01605        & -0.00148\\\\  \n",
       "   Sargan, p-value                                                 &               &                & 0.32068\\\\  \n",
       "   Wu-Hausman, p-value                                             &               &                & 0.00858\\\\  \n",
       "   F-test (1st stage), log(deaths\\_i)                              &               &                & 948.88\\\\  \n",
       "   F-test (1st stage), log(deaths\\_j)                              &               &                & 919.56\\\\  \n",
       "   \\midrule \\midrule\n",
       "   \\multicolumn{4}{l}{\\emph{Clustered (i \\& j) standard-errors in parentheses}}\\\\\n",
       "   \\multicolumn{4}{l}{\\emph{Signif. Codes: ***: 0.001, **: 0.01, *: 0.05, .: 0.1}}\\\\\n",
       "\\end{tabular}\n",
       "\\par\\endgroup"
      ]
     },
     "metadata": {},
     "output_type": "display_data"
    }
   ],
   "source": [
    "etable(fe_no_iv, heterogenous_fe, fe_iv, vcov = ~i+j, signif.code=signif.code, fitstat=~ . + sargan.p + wh.p + ivf, tex=TRUE)"
   ]
  },
  {
   "cell_type": "code",
   "execution_count": 22,
   "metadata": {
    "vscode": {
     "languageId": "r"
    }
   },
   "outputs": [
    {
     "name": "stderr",
     "output_type": "stream",
     "text": [
      "NOTE: 17,571 observations removed because of NA and infinite values (RHS: 9,802, IV: 6,067/15,000).\n",
      "\n"
     ]
    },
    {
     "data": {
      "text/plain": [
       "TSLS estimation - Dep. Var.: log(v/v19)\n",
       "                  Endo.    : year, year:log(deaths_i), year:log(deaths_j)\n",
       "                  Instr.   : H6M_Facial_Coverings_i, H6M_Facial_Coverings_j, C1M_School_closing_i, C1M_School_closing_j, median_age_i, median_age_j, population_density_i, population_density_j, average_surface_temperature_i, average_surface_temperature_j\n",
       "Second stage: Dep. Var.: log(v/v19)\n",
       "Observations: 52,736\n",
       "Fixed-effects: i: 166,  j: 166\n",
       "Standard-errors: Clustered (i & j) \n",
       "                                      Estimate Std. Error   t value  Pr(>|t|)\n",
       "fit_year2021                          0.278363   0.102155  2.724918 0.0071255\n",
       "fit_year2022                          0.351154   0.115421  3.042371 0.0027316\n",
       "fit_year2020:log(deaths_i)           -0.036202   0.047670 -0.759427 0.4486807\n",
       "fit_year2021:log(deaths_i)           -0.048061   0.030965 -1.552105 0.1225532\n",
       "fit_year2022:log(deaths_i)           -0.063724   0.026392 -2.414505 0.0168501\n",
       "fit_year2020:log(deaths_j)           -0.030900   0.049119 -0.629073 0.5301709\n",
       "fit_year2021:log(deaths_j)            0.020177   0.030772  0.655705 0.5129270\n",
       "fit_year2022:log(deaths_j)            0.035042   0.023963  1.462332 0.1455522\n",
       "C8EV_International_travel_controls_i -0.032107   0.023842 -1.346611 0.1799523\n",
       "C8EV_International_travel_controls_j  0.023854   0.022028  1.082885 0.2804395\n",
       "                                        \n",
       "fit_year2021                         ** \n",
       "fit_year2022                         ** \n",
       "fit_year2020:log(deaths_i)              \n",
       "fit_year2021:log(deaths_i)              \n",
       "fit_year2022:log(deaths_i)           *  \n",
       "fit_year2020:log(deaths_j)              \n",
       "fit_year2021:log(deaths_j)              \n",
       "fit_year2022:log(deaths_j)              \n",
       "C8EV_International_travel_controls_i    \n",
       "C8EV_International_travel_controls_j    \n",
       "---\n",
       "Signif. codes:  0 '***' 0.001 '**' 0.01 '*' 0.05 '.' 0.1 ' ' 1\n",
       "RMSE: 0.973715     Adj. R2: 0.037881\n",
       "                 Within R2: 0.013512\n",
       "F-test (1st stage), year2021              : stat = 14,946.0    , p < 2.2e-16 , on 10 and 52,558 DoF.\n",
       "F-test (1st stage), year2022              : stat =  3,923.7    , p < 2.2e-16 , on 10 and 52,558 DoF.\n",
       "F-test (1st stage), year2020:log(deaths_i): stat =  1,268.3    , p < 2.2e-16 , on 10 and 52,558 DoF.\n",
       "F-test (1st stage), year2021:log(deaths_i): stat =    931.0    , p < 2.2e-16 , on 10 and 52,558 DoF.\n",
       "F-test (1st stage), year2022:log(deaths_i): stat =    909.5    , p < 2.2e-16 , on 10 and 52,558 DoF.\n",
       "F-test (1st stage), year2020:log(deaths_j): stat =  1,466.5    , p < 2.2e-16 , on 10 and 52,558 DoF.\n",
       "F-test (1st stage), year2021:log(deaths_j): stat =  1,053.0    , p < 2.2e-16 , on 10 and 52,558 DoF.\n",
       "F-test (1st stage), year2022:log(deaths_j): stat =    885.1    , p < 2.2e-16 , on 10 and 52,558 DoF.\n",
       "                                Wu-Hausman: stat =      2.67654, p = 0.006136, on 8 and 52,387 DoF.\n",
       "                                    Sargan: stat =      1.17384, p = 0.556038, on 2 DoF."
      ]
     },
     "metadata": {},
     "output_type": "display_data"
    }
   ],
   "source": [
    "# Совмещаю гетерогенность с инструментами\n",
    "feols(log(v/v19) ~ \n",
    "C8EV_International_travel_controls_i + C8EV_International_travel_controls_j|\n",
    "i + j | year/log(deaths_i) + year/log(deaths_j)\n",
    "~\n",
    "H6M_Facial_Coverings_i+H6M_Facial_Coverings_j\n",
    "+\n",
    "C1M_School_closing_i+C1M_School_closing_j\n",
    "+\n",
    "median_age_i + median_age_j\n",
    "+\n",
    "population_density_i + population_density_j\n",
    "+\n",
    "average_surface_temperature_i + average_surface_temperature_j\n",
    ",\n",
    "data = df) %>% summary(cluster = ~ i+j)"
   ]
  },
  {
   "cell_type": "code",
   "execution_count": 37,
   "metadata": {
    "vscode": {
     "languageId": "r"
    }
   },
   "outputs": [
    {
     "name": "stderr",
     "output_type": "stream",
     "text": [
      "NOTE: 11,717 observations removed because of NA values (RHS: 9,802, IV: 1,683/10,661).\n",
      "\n"
     ]
    },
    {
     "data": {
      "text/plain": [
       "TSLS estimation - Dep. Var.: log(v/v19)\n",
       "                  Endo.    : deaths_i, deaths_j\n",
       "                  Instr.   : C1M_School_closing_i, C1M_School_closing_j, median_age_i, median_age_j, population_density_i, population_density_j\n",
       "Second stage: Dep. Var.: log(v/v19)\n",
       "Observations: 58,590\n",
       "Fixed-effects: i: 176,  j: 176,  year: 3\n",
       "Standard-errors: Clustered (i & j) \n",
       "                                      Estimate Std. Error   t value Pr(>|t|)\n",
       "fit_deaths_i                         -0.103772   0.052719 -1.968393 0.050602\n",
       "fit_deaths_j                          0.040706   0.040900  0.995262 0.320983\n",
       "C8EV_International_travel_controls_i -0.031528   0.021111 -1.493456 0.137119\n",
       "C8EV_International_travel_controls_j -0.014769   0.013653 -1.081778 0.280840\n",
       "                                        \n",
       "fit_deaths_i                         .  \n",
       "fit_deaths_j                            \n",
       "C8EV_International_travel_controls_i    \n",
       "C8EV_International_travel_controls_j    \n",
       "---\n",
       "Signif. codes:  0 '***' 0.001 '**' 0.01 '*' 0.05 '.' 0.1 ' ' 1\n",
       "RMSE: 0.992022     Adj. R2:  0.027903\n",
       "                 Within R2: -0.010162\n",
       "F-test (1st stage), deaths_i: stat = 248.8    , p < 2.2e-16 , on 6 and 58,404 DoF.\n",
       "F-test (1st stage), deaths_j: stat = 298.7    , p < 2.2e-16 , on 6 and 58,404 DoF.\n",
       "                  Wu-Hausman: stat =   7.21618, p = 7.353e-4, on 2 and 58,231 DoF.\n",
       "                      Sargan: stat =   7.25523, p = 0.123   , on 4 DoF."
      ]
     },
     "metadata": {},
     "output_type": "display_data"
    }
   ],
   "source": [
    "# Совмещаю гетерогенность с инструментами\n",
    "feols(log(v/v19) ~ \n",
    "C8EV_International_travel_controls_i + C8EV_International_travel_controls_j|\n",
    "i + j + year| deaths_i + deaths_j\n",
    "~\n",
    "# H6M_Facial_Coverings_i+H6M_Facial_Coverings_j\n",
    "# +\n",
    "C1M_School_closing_i+C1M_School_closing_j\n",
    "+\n",
    "median_age_i + median_age_j\n",
    "+\n",
    "population_density_i + population_density_j\n",
    "# +\n",
    "# average_surface_temperature_i + average_surface_temperature_j\n",
    ",\n",
    "data = df) %>% summary(cluster = ~ i+j)"
   ]
  },
  {
   "cell_type": "code",
   "execution_count": 29,
   "metadata": {
    "vscode": {
     "languageId": "r"
    }
   },
   "outputs": [
    {
     "name": "stderr",
     "output_type": "stream",
     "text": [
      "NOTE: 11,377 observations removed because of NA values (RHS: 11,377).\n",
      "\n"
     ]
    },
    {
     "data": {
      "text/plain": [
       "OLS estimation, Dep. Var.: log(v/v19)\n",
       "Observations: 58,930\n",
       "Fixed-effects: i: 176,  j: 176,  year: 3\n",
       "Standard-errors: Clustered (i & j) \n",
       "                                      Estimate Std. Error   t value Pr(>|t|)\n",
       "deaths_i                             -0.000866   0.004215 -0.205459 0.837452\n",
       "deaths_j                             -0.009835   0.003781 -2.601532 0.010076\n",
       "C8EV_International_travel_controls_i -0.014892   0.012893 -1.155082 0.249631\n",
       "C8EV_International_travel_controls_j -0.022658   0.013162 -1.721482 0.086931\n",
       "                                        \n",
       "deaths_i                                \n",
       "deaths_j                             *  \n",
       "C8EV_International_travel_controls_i    \n",
       "C8EV_International_travel_controls_j .  \n",
       "---\n",
       "Signif. codes:  0 '***' 0.001 '**' 0.01 '*' 0.05 '.' 0.1 ' ' 1\n",
       "RMSE: 0.987368     Adj. R2: 0.037829\n",
       "                 Within R2: 1.796e-4"
      ]
     },
     "metadata": {},
     "output_type": "display_data"
    }
   ],
   "source": [
    "# Совмещаю гетерогенность с инструментами\n",
    "feols(log(v/v19) ~ deaths_i + deaths_j +\n",
    "C8EV_International_travel_controls_i + C8EV_International_travel_controls_j|\n",
    "i + j + year\n",
    ",\n",
    "data = df) %>% summary(cluster = ~ i+j)"
   ]
  },
  {
   "cell_type": "code",
   "execution_count": 31,
   "metadata": {
    "vscode": {
     "languageId": "r"
    }
   },
   "outputs": [
    {
     "name": "stderr",
     "output_type": "stream",
     "text": [
      "NOTE: 11,377 observations removed because of NA values (RHS: 11,377).\n",
      "\n"
     ]
    },
    {
     "data": {
      "text/plain": [
       "OLS estimation, Dep. Var.: log(v/v19)\n",
       "Observations: 58,930\n",
       "Fixed-effects: i: 176,  j: 176\n",
       "Standard-errors: Clustered (i & j) \n",
       "                                               Estimate Std. Error   t value\n",
       "year2021                                       0.064779   0.077509  0.835761\n",
       "year2022                                       0.125198   0.092179  1.358212\n",
       "year2020:deaths_i                              0.000763   0.009298  0.082032\n",
       "year2021:deaths_i                             -0.002453   0.004312 -0.568838\n",
       "year2022:deaths_i                             -0.017255   0.014403 -1.197975\n",
       "year2020:deaths_j                             -0.025880   0.007699 -3.361387\n",
       "year2021:deaths_j                             -0.007041   0.004195 -1.678409\n",
       "year2022:deaths_j                             -0.006701   0.014829 -0.451846\n",
       "year2020:C8EV_International_travel_controls_i -0.040867   0.023181 -1.762989\n",
       "year2021:C8EV_International_travel_controls_i -0.023526   0.012415 -1.894997\n",
       "year2022:C8EV_International_travel_controls_i  0.011099   0.030451  0.364481\n",
       "year2020:C8EV_International_travel_controls_j -0.038432   0.021283 -1.805748\n",
       "year2021:C8EV_International_travel_controls_j -0.008107   0.010147 -0.798947\n",
       "year2022:C8EV_International_travel_controls_j -0.039848   0.044101 -0.903570\n",
       "                                                Pr(>|t|)    \n",
       "year2021                                      0.40442901    \n",
       "year2022                                      0.17614493    \n",
       "year2020:deaths_i                             0.93471519    \n",
       "year2021:deaths_i                             0.57019518    \n",
       "year2022:deaths_i                             0.23254683    \n",
       "year2020:deaths_j                             0.00095231 ***\n",
       "year2021:deaths_j                             0.09505213 .  \n",
       "year2022:deaths_j                             0.65193968    \n",
       "year2020:C8EV_International_travel_controls_i 0.07964771 .  \n",
       "year2021:C8EV_International_travel_controls_i 0.05974164 .  \n",
       "year2022:C8EV_International_travel_controls_i 0.71593879    \n",
       "year2020:C8EV_International_travel_controls_j 0.07267630 .  \n",
       "year2021:C8EV_International_travel_controls_j 0.42540414    \n",
       "year2022:C8EV_International_travel_controls_j 0.36746561    \n",
       "---\n",
       "Signif. codes:  0 '***' 0.001 '**' 0.01 '*' 0.05 '.' 0.1 ' ' 1\n",
       "RMSE: 0.987181     Adj. R2: 0.038062\n",
       "                 Within R2: 0.016087"
      ]
     },
     "metadata": {},
     "output_type": "display_data"
    }
   ],
   "source": [
    "# Совмещаю гетерогенность с инструментами\n",
    "feols(log(v/v19) ~ year/deaths_i + year/deaths_j +\n",
    "year/C8EV_International_travel_controls_i + year/C8EV_International_travel_controls_j|\n",
    "i + j \n",
    ",\n",
    "data = df) %>% summary(cluster = ~ i+j)"
   ]
  }
 ],
 "metadata": {
  "kernelspec": {
   "display_name": "R",
   "language": "R",
   "name": "ir"
  },
  "language_info": {
   "codemirror_mode": "r",
   "file_extension": ".r",
   "mimetype": "text/x-r-source",
   "name": "R",
   "pygments_lexer": "r",
   "version": "4.4.1"
  }
 },
 "nbformat": 4,
 "nbformat_minor": 2
}
