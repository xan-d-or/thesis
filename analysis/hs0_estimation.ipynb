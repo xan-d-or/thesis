{
 "cells": [
  {
   "cell_type": "markdown",
   "metadata": {},
   "source": [
    "# Оцениваем регрессии на данных HS0 в спецификациях:\n",
    "- Сырые данные ~ ковид и ограничения + контроль на дамми\n",
    "- Сырые данные ~ ковид и ограничения + контроль на дамми | инструментальные переменные"
   ]
  },
  {
   "cell_type": "code",
   "execution_count": 41,
   "metadata": {
    "vscode": {
     "languageId": "r"
    }
   },
   "outputs": [],
   "source": [
    "library(arrow)\n",
    "library(stargazer)\n",
    "library(tidyverse)\n",
    "library(plotly)\n",
    "library(fixest)\n",
    "signif.code = signif.code = c(\"***\" = 0.001, \"**\" = 0.01, \"*\" = 0.05, \".\" = 0.10)"
   ]
  },
  {
   "cell_type": "markdown",
   "metadata": {},
   "source": [
    "## Сырые данные\n",
    "\n",
    "Под каждой регрессией вывожу summary с кластеризацией ошибок. В конце блока сравниваю робастность результата по используемым ошибкам."
   ]
  },
  {
   "cell_type": "code",
   "execution_count": 42,
   "metadata": {
    "vscode": {
     "languageId": "r"
    }
   },
   "outputs": [
    {
     "data": {
      "text/html": [
       "<table class=\"dataframe\">\n",
       "<caption>A tibble: 6 × 142</caption>\n",
       "<thead>\n",
       "\t<tr><th scope=col>t</th><th scope=col>i</th><th scope=col>j</th><th scope=col>v</th><th scope=col>q</th><th scope=col>v19</th><th scope=col>q19</th><th scope=col>country</th><th scope=col>t:r_i</th><th scope=col>cases</th><th scope=col>⋯</th><th scope=col>C1M_School_closing_i</th><th scope=col>C1M_School_closing_j</th><th scope=col>population_density_i</th><th scope=col>population_density_j</th><th scope=col>share_1_members_i</th><th scope=col>share_1_members_j</th><th scope=col>H6M_Facial_Coverings_i</th><th scope=col>H6M_Facial_Coverings_j</th><th scope=col>C8EV_International_travel_controls_i</th><th scope=col>C8EV_International_travel_controls_j</th></tr>\n",
       "\t<tr><th scope=col>&lt;int&gt;</th><th scope=col>&lt;chr&gt;</th><th scope=col>&lt;chr&gt;</th><th scope=col>&lt;dbl&gt;</th><th scope=col>&lt;dbl&gt;</th><th scope=col>&lt;dbl&gt;</th><th scope=col>&lt;dbl&gt;</th><th scope=col>&lt;chr&gt;</th><th scope=col>&lt;int&gt;</th><th scope=col>&lt;dbl&gt;</th><th scope=col>⋯</th><th scope=col>&lt;dbl&gt;</th><th scope=col>&lt;dbl&gt;</th><th scope=col>&lt;dbl&gt;</th><th scope=col>&lt;dbl&gt;</th><th scope=col>&lt;dbl&gt;</th><th scope=col>&lt;dbl&gt;</th><th scope=col>&lt;dbl&gt;</th><th scope=col>&lt;dbl&gt;</th><th scope=col>&lt;dbl&gt;</th><th scope=col>&lt;dbl&gt;</th></tr>\n",
       "</thead>\n",
       "<tbody>\n",
       "\t<tr><td>2021</td><td>LUX</td><td>LBY</td><td>    968.018</td><td>    210.173</td><td>   501.858</td><td>    127.012</td><td>LUX</td><td>2021</td><td>241.1512329</td><td>⋯</td><td>1.183562</td><td>1.49315071</td><td>248.620682</td><td>   4.055137</td><td>33.34</td><td>   NA</td><td>2.0082192</td><td>2.827397</td><td>2.534247</td><td>2.520548</td></tr>\n",
       "\t<tr><td>2021</td><td>RUS</td><td>SEN</td><td>1307165.125</td><td>3131615.500</td><td>789625.305</td><td>2232100.632</td><td>RUS</td><td>2021</td><td>138.1677534</td><td>⋯</td><td>1.290411</td><td>0.07671233</td><td>  8.838488</td><td>  89.445110</td><td>25.69</td><td> 6.92</td><td>2.3150685</td><td>3.402740</td><td>2.610959</td><td>2.561644</td></tr>\n",
       "\t<tr><td>2020</td><td>SOM</td><td>KOR</td><td>   3136.611</td><td>   2045.876</td><td>  5608.268</td><td>   4002.770</td><td>SOM</td><td>2020</td><td>  0.7276796</td><td>⋯</td><td>1.584700</td><td>1.98087430</td><td> 26.542530</td><td> 531.109006</td><td> 1.53</td><td>31.75</td><td>0.7622951</td><td>1.653005</td><td>2.101093</td><td>2.415301</td></tr>\n",
       "\t<tr><td>2020</td><td>TUR</td><td>CRI</td><td>  57792.285</td><td>  98850.453</td><td> 60858.013</td><td>  86163.873</td><td>TUR</td><td>2020</td><td> 67.6935912</td><td>⋯</td><td>2.153005</td><td>2.40437150</td><td>108.343854</td><td>  98.596161</td><td> 6.37</td><td>12.07</td><td>2.2732241</td><td>1.218579</td><td>2.040984</td><td>2.322404</td></tr>\n",
       "\t<tr><td>2021</td><td>KNA</td><td>BIH</td><td>      0.520</td><td>      0.008</td><td>     0.460</td><td>      0.005</td><td>KNA</td><td>2021</td><td>164.5090411</td><td>⋯</td><td>      NA</td><td>1.00000000</td><td>179.857692</td><td>  63.377090</td><td>   NA</td><td>11.50</td><td>       NA</td><td>2.476712</td><td>      NA</td><td>1.000000</td></tr>\n",
       "\t<tr><td>2022</td><td>AZE</td><td>MLT</td><td>  22060.938</td><td>  39007.156</td><td> 12476.490</td><td>  33493.400</td><td>AZE</td><td>2022</td><td> 56.3560822</td><td>⋯</td><td>2.000000</td><td>0.27945206</td><td>122.707272</td><td>1660.971875</td><td> 6.77</td><td>22.64</td><td>0.6575342</td><td>2.323288</td><td>3.000000</td><td>1.263014</td></tr>\n",
       "</tbody>\n",
       "</table>\n"
      ],
      "text/latex": [
       "A tibble: 6 × 142\n",
       "\\begin{tabular}{lllllllllllllllllllll}\n",
       " t & i & j & v & q & v19 & q19 & country & t:r\\_i & cases & ⋯ & C1M\\_School\\_closing\\_i & C1M\\_School\\_closing\\_j & population\\_density\\_i & population\\_density\\_j & share\\_1\\_members\\_i & share\\_1\\_members\\_j & H6M\\_Facial\\_Coverings\\_i & H6M\\_Facial\\_Coverings\\_j & C8EV\\_International\\_travel\\_controls\\_i & C8EV\\_International\\_travel\\_controls\\_j\\\\\n",
       " <int> & <chr> & <chr> & <dbl> & <dbl> & <dbl> & <dbl> & <chr> & <int> & <dbl> & ⋯ & <dbl> & <dbl> & <dbl> & <dbl> & <dbl> & <dbl> & <dbl> & <dbl> & <dbl> & <dbl>\\\\\n",
       "\\hline\n",
       "\t 2021 & LUX & LBY &     968.018 &     210.173 &    501.858 &     127.012 & LUX & 2021 & 241.1512329 & ⋯ & 1.183562 & 1.49315071 & 248.620682 &    4.055137 & 33.34 &    NA & 2.0082192 & 2.827397 & 2.534247 & 2.520548\\\\\n",
       "\t 2021 & RUS & SEN & 1307165.125 & 3131615.500 & 789625.305 & 2232100.632 & RUS & 2021 & 138.1677534 & ⋯ & 1.290411 & 0.07671233 &   8.838488 &   89.445110 & 25.69 &  6.92 & 2.3150685 & 3.402740 & 2.610959 & 2.561644\\\\\n",
       "\t 2020 & SOM & KOR &    3136.611 &    2045.876 &   5608.268 &    4002.770 & SOM & 2020 &   0.7276796 & ⋯ & 1.584700 & 1.98087430 &  26.542530 &  531.109006 &  1.53 & 31.75 & 0.7622951 & 1.653005 & 2.101093 & 2.415301\\\\\n",
       "\t 2020 & TUR & CRI &   57792.285 &   98850.453 &  60858.013 &   86163.873 & TUR & 2020 &  67.6935912 & ⋯ & 2.153005 & 2.40437150 & 108.343854 &   98.596161 &  6.37 & 12.07 & 2.2732241 & 1.218579 & 2.040984 & 2.322404\\\\\n",
       "\t 2021 & KNA & BIH &       0.520 &       0.008 &      0.460 &       0.005 & KNA & 2021 & 164.5090411 & ⋯ &       NA & 1.00000000 & 179.857692 &   63.377090 &    NA & 11.50 &        NA & 2.476712 &       NA & 1.000000\\\\\n",
       "\t 2022 & AZE & MLT &   22060.938 &   39007.156 &  12476.490 &   33493.400 & AZE & 2022 &  56.3560822 & ⋯ & 2.000000 & 0.27945206 & 122.707272 & 1660.971875 &  6.77 & 22.64 & 0.6575342 & 2.323288 & 3.000000 & 1.263014\\\\\n",
       "\\end{tabular}\n"
      ],
      "text/markdown": [
       "\n",
       "A tibble: 6 × 142\n",
       "\n",
       "| t &lt;int&gt; | i &lt;chr&gt; | j &lt;chr&gt; | v &lt;dbl&gt; | q &lt;dbl&gt; | v19 &lt;dbl&gt; | q19 &lt;dbl&gt; | country &lt;chr&gt; | t:r_i &lt;int&gt; | cases &lt;dbl&gt; | ⋯ ⋯ | C1M_School_closing_i &lt;dbl&gt; | C1M_School_closing_j &lt;dbl&gt; | population_density_i &lt;dbl&gt; | population_density_j &lt;dbl&gt; | share_1_members_i &lt;dbl&gt; | share_1_members_j &lt;dbl&gt; | H6M_Facial_Coverings_i &lt;dbl&gt; | H6M_Facial_Coverings_j &lt;dbl&gt; | C8EV_International_travel_controls_i &lt;dbl&gt; | C8EV_International_travel_controls_j &lt;dbl&gt; |\n",
       "|---|---|---|---|---|---|---|---|---|---|---|---|---|---|---|---|---|---|---|---|---|\n",
       "| 2021 | LUX | LBY |     968.018 |     210.173 |    501.858 |     127.012 | LUX | 2021 | 241.1512329 | ⋯ | 1.183562 | 1.49315071 | 248.620682 |    4.055137 | 33.34 |    NA | 2.0082192 | 2.827397 | 2.534247 | 2.520548 |\n",
       "| 2021 | RUS | SEN | 1307165.125 | 3131615.500 | 789625.305 | 2232100.632 | RUS | 2021 | 138.1677534 | ⋯ | 1.290411 | 0.07671233 |   8.838488 |   89.445110 | 25.69 |  6.92 | 2.3150685 | 3.402740 | 2.610959 | 2.561644 |\n",
       "| 2020 | SOM | KOR |    3136.611 |    2045.876 |   5608.268 |    4002.770 | SOM | 2020 |   0.7276796 | ⋯ | 1.584700 | 1.98087430 |  26.542530 |  531.109006 |  1.53 | 31.75 | 0.7622951 | 1.653005 | 2.101093 | 2.415301 |\n",
       "| 2020 | TUR | CRI |   57792.285 |   98850.453 |  60858.013 |   86163.873 | TUR | 2020 |  67.6935912 | ⋯ | 2.153005 | 2.40437150 | 108.343854 |   98.596161 |  6.37 | 12.07 | 2.2732241 | 1.218579 | 2.040984 | 2.322404 |\n",
       "| 2021 | KNA | BIH |       0.520 |       0.008 |      0.460 |       0.005 | KNA | 2021 | 164.5090411 | ⋯ |       NA | 1.00000000 | 179.857692 |   63.377090 |    NA | 11.50 |        NA | 2.476712 |       NA | 1.000000 |\n",
       "| 2022 | AZE | MLT |   22060.938 |   39007.156 |  12476.490 |   33493.400 | AZE | 2022 |  56.3560822 | ⋯ | 2.000000 | 0.27945206 | 122.707272 | 1660.971875 |  6.77 | 22.64 | 0.6575342 | 2.323288 | 3.000000 | 1.263014 |\n",
       "\n"
      ],
      "text/plain": [
       "  t    i   j   v           q           v19        q19         country t:r_i\n",
       "1 2021 LUX LBY     968.018     210.173    501.858     127.012 LUX     2021 \n",
       "2 2021 RUS SEN 1307165.125 3131615.500 789625.305 2232100.632 RUS     2021 \n",
       "3 2020 SOM KOR    3136.611    2045.876   5608.268    4002.770 SOM     2020 \n",
       "4 2020 TUR CRI   57792.285   98850.453  60858.013   86163.873 TUR     2020 \n",
       "5 2021 KNA BIH       0.520       0.008      0.460       0.005 KNA     2021 \n",
       "6 2022 AZE MLT   22060.938   39007.156  12476.490   33493.400 AZE     2022 \n",
       "  cases       ⋯ C1M_School_closing_i C1M_School_closing_j population_density_i\n",
       "1 241.1512329 ⋯ 1.183562             1.49315071           248.620682          \n",
       "2 138.1677534 ⋯ 1.290411             0.07671233             8.838488          \n",
       "3   0.7276796 ⋯ 1.584700             1.98087430            26.542530          \n",
       "4  67.6935912 ⋯ 2.153005             2.40437150           108.343854          \n",
       "5 164.5090411 ⋯       NA             1.00000000           179.857692          \n",
       "6  56.3560822 ⋯ 2.000000             0.27945206           122.707272          \n",
       "  population_density_j share_1_members_i share_1_members_j\n",
       "1    4.055137          33.34                NA            \n",
       "2   89.445110          25.69              6.92            \n",
       "3  531.109006           1.53             31.75            \n",
       "4   98.596161           6.37             12.07            \n",
       "5   63.377090             NA             11.50            \n",
       "6 1660.971875           6.77             22.64            \n",
       "  H6M_Facial_Coverings_i H6M_Facial_Coverings_j\n",
       "1 2.0082192              2.827397              \n",
       "2 2.3150685              3.402740              \n",
       "3 0.7622951              1.653005              \n",
       "4 2.2732241              1.218579              \n",
       "5        NA              2.476712              \n",
       "6 0.6575342              2.323288              \n",
       "  C8EV_International_travel_controls_i C8EV_International_travel_controls_j\n",
       "1 2.534247                             2.520548                            \n",
       "2 2.610959                             2.561644                            \n",
       "3 2.101093                             2.415301                            \n",
       "4 2.040984                             2.322404                            \n",
       "5       NA                             1.000000                            \n",
       "6 3.000000                             1.263014                            "
      ]
     },
     "metadata": {},
     "output_type": "display_data"
    }
   ],
   "source": [
    "# Скачиваю данные и переназываю переменные\n",
    "df = read_parquet('../data/processed_data/trade_hs0_x_covid.parquet.gzip')\n",
    "# Переменная pair нужна, чтобы считать НАС стандартные ошибки\n",
    "df = df %>% mutate(pair = paste(i, j))\n",
    "\n",
    "df$deaths_i = df$deaths\n",
    "df$deaths_j = df$`deaths:r_j`\n",
    "\n",
    "df$median_age_i = df$median_age\n",
    "df$median_age_j = df$`median_age:r_j`\n",
    "\n",
    "df$average_surface_temperature_i = df$average_surface_temperature\n",
    "df$average_surface_temperature_j = df$`average_surface_temperature:r_j`\n",
    "\n",
    "df$C1M_School_closing_i = df$C1M_School_closing\n",
    "df$C1M_School_closing_j = df$`C1M_School_closing:r_j`\n",
    "\n",
    "df$population_density_i = df$population_density\n",
    "df$population_density_j = df$`population_density:r_j`\n",
    "\n",
    "df$share_1_members_i = df$share_1_members\n",
    "df$share_1_members_j = df$`share_1_members:r_j`\n",
    "\n",
    "df$H6M_Facial_Coverings_i = df$H6M_Facial_Coverings\n",
    "df$H6M_Facial_Coverings_j = df$`H6M_Facial_Coverings:r_j`\n",
    "\n",
    "df$C8EV_International_travel_controls_i = df$C8EV_International_travel_controls\n",
    "df$C8EV_International_travel_controls_j = df$`C8EV_International_travel_controls:r_j`\n",
    "df %>% head()"
   ]
  },
  {
   "cell_type": "code",
   "execution_count": 43,
   "metadata": {
    "vscode": {
     "languageId": "r"
    }
   },
   "outputs": [
    {
     "name": "stderr",
     "output_type": "stream",
     "text": [
      "NOTE: 13,568 observations removed because of NA and infinite values (RHS: 13,568).\n",
      "\n"
     ]
    },
    {
     "data": {
      "text/plain": [
       "OLS estimation, Dep. Var.: log(v/v19)\n",
       "Observations: 56,739\n",
       "Standard-errors: Clustered (i & j) \n",
       "                                      Estimate Std. Error   t value   Pr(>|t|)\n",
       "(Intercept)                           0.295297   0.023853 12.380068  < 2.2e-16\n",
       "log(deaths_i)                         0.006162   0.004416  1.395247 1.6472e-01\n",
       "log(deaths_j)                         0.001219   0.003722  0.327451 7.4372e-01\n",
       "C8EV_International_travel_controls_i -0.044532   0.011159 -3.990762 9.6932e-05\n",
       "C8EV_International_travel_controls_j -0.070629   0.010809 -6.534204 6.8081e-10\n",
       "                                        \n",
       "(Intercept)                          ***\n",
       "log(deaths_i)                           \n",
       "log(deaths_j)                           \n",
       "C8EV_International_travel_controls_i ***\n",
       "C8EV_International_travel_controls_j ***\n",
       "---\n",
       "Signif. codes:  0 '***' 0.001 '**' 0.01 '*' 0.05 '.' 0.1 ' ' 1\n",
       "RMSE: 0.999317   Adj. R2: 0.009329"
      ]
     },
     "metadata": {},
     "output_type": "display_data"
    }
   ],
   "source": [
    "# Делаю pulled OLS ради интереса\n",
    "pulled_ols = feols(log(v/v19) ~ log(deaths_i) + log(deaths_j) +\n",
    " C8EV_International_travel_controls_i + C8EV_International_travel_controls_j,\n",
    " data = df)\n",
    "pulled_ols %>% summary(cluster = ~ i+j)"
   ]
  },
  {
   "cell_type": "code",
   "execution_count": 44,
   "metadata": {
    "vscode": {
     "languageId": "r"
    }
   },
   "outputs": [
    {
     "name": "stderr",
     "output_type": "stream",
     "text": [
      "NOTE: 13,568 observations removed because of NA and infinite values (RHS: 13,568).\n",
      "\n"
     ]
    },
    {
     "data": {
      "text/plain": [
       "OLS estimation, Dep. Var.: log(v/v19)\n",
       "Observations: 56,739\n",
       "Fixed-effects: i: 175,  j: 175,  year: 3\n",
       "Standard-errors: Clustered (i & j) \n",
       "                                      Estimate Std. Error   t value Pr(>|t|)\n",
       "log(deaths_i)                        -0.015588   0.006061 -2.571959 0.010948\n",
       "log(deaths_j)                        -0.003195   0.005269 -0.606428 0.545021\n",
       "C8EV_International_travel_controls_i -0.021174   0.013888 -1.524631 0.129167\n",
       "C8EV_International_travel_controls_j -0.021157   0.013751 -1.538635 0.125710\n",
       "                                        \n",
       "log(deaths_i)                        *  \n",
       "log(deaths_j)                           \n",
       "C8EV_International_travel_controls_i    \n",
       "C8EV_International_travel_controls_j    \n",
       "---\n",
       "Signif. codes:  0 '***' 0.001 '**' 0.01 '*' 0.05 '.' 0.1 ' ' 1\n",
       "RMSE: 0.981558     Adj. R2: 0.038294\n",
       "                 Within R2: 2.777e-4"
      ]
     },
     "metadata": {},
     "output_type": "display_data"
    }
   ],
   "source": [
    "# FE (т.е. оценка на панельных данных с использованием внутригрупповой дисперсии)\n",
    "fe_no_iv = feols(log(v/v19) ~ log(deaths_i) + log(deaths_j) +\n",
    " C8EV_International_travel_controls_i + C8EV_International_travel_controls_j| i + j + year,\n",
    " data = df)\n",
    "fe_no_iv %>% summary(cluster = ~ i+j)"
   ]
  },
  {
   "cell_type": "code",
   "execution_count": 45,
   "metadata": {
    "vscode": {
     "languageId": "r"
    }
   },
   "outputs": [
    {
     "name": "stderr",
     "output_type": "stream",
     "text": [
      "NOTE: 13,568 observations removed because of NA and infinite values (RHS: 13,568).\n",
      "\n"
     ]
    },
    {
     "data": {
      "text/plain": [
       "OLS estimation, Dep. Var.: log(v/v19)\n",
       "Observations: 56,739\n",
       "Fixed-effects: i: 175,  j: 175\n",
       "Standard-errors: Clustered (i & j) \n",
       "                                               Estimate Std. Error   t value\n",
       "year2021                                       0.078145   0.077102  1.013525\n",
       "year2022                                       0.132887   0.088895  1.494875\n",
       "year2020:log(deaths_i)                        -0.014540   0.006968 -2.086681\n",
       "year2021:log(deaths_i)                        -0.014148   0.006784 -2.085578\n",
       "year2022:log(deaths_i)                        -0.021569   0.007546 -2.858254\n",
       "year2020:log(deaths_j)                        -0.010634   0.006580 -1.616124\n",
       "year2021:log(deaths_j)                         0.001444   0.006831  0.211366\n",
       "year2022:log(deaths_j)                         0.003974   0.007462  0.532606\n",
       "year2020:C8EV_International_travel_controls_i -0.057193   0.025847 -2.212732\n",
       "year2021:C8EV_International_travel_controls_i -0.026873   0.012924 -2.079314\n",
       "year2022:C8EV_International_travel_controls_i  0.007942   0.034949  0.227242\n",
       "year2020:C8EV_International_travel_controls_j -0.028177   0.022278 -1.264786\n",
       "year2021:C8EV_International_travel_controls_j -0.000711   0.010361 -0.068597\n",
       "year2022:C8EV_International_travel_controls_j -0.046153   0.051303 -0.899623\n",
       "                                               Pr(>|t|)    \n",
       "year2021                                      0.3122167    \n",
       "year2022                                      0.1367585    \n",
       "year2020:log(deaths_i)                        0.0383748 *  \n",
       "year2021:log(deaths_i)                        0.0384760 *  \n",
       "year2022:log(deaths_i)                        0.0047801 ** \n",
       "year2020:log(deaths_j)                        0.1078791    \n",
       "year2021:log(deaths_j)                        0.8328492    \n",
       "year2022:log(deaths_j)                        0.5949858    \n",
       "year2020:C8EV_International_travel_controls_i 0.0282173 *  \n",
       "year2021:C8EV_International_travel_controls_i 0.0390549 *  \n",
       "year2022:C8EV_International_travel_controls_i 0.8205022    \n",
       "year2020:C8EV_International_travel_controls_j 0.2076394    \n",
       "year2021:C8EV_International_travel_controls_j 0.9453895    \n",
       "year2022:C8EV_International_travel_controls_j 0.3695640    \n",
       "---\n",
       "Signif. codes:  0 '***' 0.001 '**' 0.01 '*' 0.05 '.' 0.1 ' ' 1\n",
       "RMSE: 0.981324     Adj. R2: 0.038615\n",
       "                 Within R2: 0.016045"
      ]
     },
     "metadata": {},
     "output_type": "display_data"
    }
   ],
   "source": [
    "# Добавляю гетерогенность эффектов во времени\n",
    "heterogenous_fe = feols(log(v/v19) ~ year/log(deaths_i) + year/log(deaths_j) +\n",
    "year/C8EV_International_travel_controls_i + year/C8EV_International_travel_controls_j|\n",
    "i + j ,\n",
    "data = df)\n",
    "heterogenous_fe %>% summary(cluster = ~ i+j)"
   ]
  },
  {
   "cell_type": "code",
   "execution_count": 46,
   "metadata": {
    "vscode": {
     "languageId": "r"
    }
   },
   "outputs": [
    {
     "data": {
      "text/html": [
       "<table class=\"dataframe\">\n",
       "<caption>A etable_df: 30 × 4</caption>\n",
       "<thead>\n",
       "\t<tr><th></th><th scope=col></th><th scope=col>pulled_ols</th><th scope=col>fe_no_iv</th><th scope=col>heterogenous_fe</th></tr>\n",
       "\t<tr><th></th><th scope=col>&lt;chr&gt;</th><th scope=col>&lt;chr&gt;</th><th scope=col>&lt;chr&gt;</th><th scope=col>&lt;chr&gt;</th></tr>\n",
       "</thead>\n",
       "<tbody>\n",
       "\t<tr><th scope=row>1</th><td>Dependent Var.:                                </td><td>log(v/v19)         </td><td>log(v/v19)       </td><td>log(v/v19)        </td></tr>\n",
       "\t<tr><th scope=row>2</th><td>                                               </td><td>                   </td><td>                 </td><td>                  </td></tr>\n",
       "\t<tr><th scope=row>3</th><td>Constant                                       </td><td>0.2953*** (0.0238) </td><td>                 </td><td>                  </td></tr>\n",
       "\t<tr><th scope=row>4</th><td>log(deaths_i)                                  </td><td>0.0062 (0.0044)    </td><td>-0.0156* (0.0061)</td><td>                  </td></tr>\n",
       "\t<tr><th scope=row>5</th><td>log(deaths_j)                                  </td><td>0.0012 (0.0037)    </td><td>-0.0032 (0.0053) </td><td>                  </td></tr>\n",
       "\t<tr><th scope=row>6</th><td>C8EV_International_travel_controls_i           </td><td>-0.0445*** (0.0112)</td><td>-0.0212 (0.0139) </td><td>                  </td></tr>\n",
       "\t<tr><th scope=row>7</th><td>C8EV_International_travel_controls_j           </td><td>-0.0706*** (0.0108)</td><td>-0.0212 (0.0138) </td><td>                  </td></tr>\n",
       "\t<tr><th scope=row>8</th><td>year2021                                       </td><td>                   </td><td>                 </td><td>0.0781 (0.0771)   </td></tr>\n",
       "\t<tr><th scope=row>9</th><td>year2022                                       </td><td>                   </td><td>                 </td><td>0.1329 (0.0889)   </td></tr>\n",
       "\t<tr><th scope=row>10</th><td>year2020 x log(deaths_i)                       </td><td>                   </td><td>                 </td><td>-0.0145* (0.0070) </td></tr>\n",
       "\t<tr><th scope=row>11</th><td>year2021 x log(deaths_i)                       </td><td>                   </td><td>                 </td><td>-0.0141* (0.0068) </td></tr>\n",
       "\t<tr><th scope=row>12</th><td>year2022 x log(deaths_i)                       </td><td>                   </td><td>                 </td><td>-0.0216** (0.0075)</td></tr>\n",
       "\t<tr><th scope=row>13</th><td>year2020 x log(deaths_j)                       </td><td>                   </td><td>                 </td><td>-0.0106 (0.0066)  </td></tr>\n",
       "\t<tr><th scope=row>14</th><td>year2021 x log(deaths_j)                       </td><td>                   </td><td>                 </td><td>0.0014 (0.0068)   </td></tr>\n",
       "\t<tr><th scope=row>15</th><td>year2022 x log(deaths_j)                       </td><td>                   </td><td>                 </td><td>0.0040 (0.0075)   </td></tr>\n",
       "\t<tr><th scope=row>16</th><td>year2020 x C8EV_International_travel_controls_i</td><td>                   </td><td>                 </td><td>-0.0572* (0.0259) </td></tr>\n",
       "\t<tr><th scope=row>17</th><td>year2021 x C8EV_International_travel_controls_i</td><td>                   </td><td>                 </td><td>-0.0269* (0.0129) </td></tr>\n",
       "\t<tr><th scope=row>18</th><td>year2022 x C8EV_International_travel_controls_i</td><td>                   </td><td>                 </td><td>0.0079 (0.0350)   </td></tr>\n",
       "\t<tr><th scope=row>19</th><td>year2020 x C8EV_International_travel_controls_j</td><td>                   </td><td>                 </td><td>-0.0282 (0.0223)  </td></tr>\n",
       "\t<tr><th scope=row>20</th><td>year2021 x C8EV_International_travel_controls_j</td><td>                   </td><td>                 </td><td>-0.0007 (0.0104)  </td></tr>\n",
       "\t<tr><th scope=row>21</th><td>year2022 x C8EV_International_travel_controls_j</td><td>                   </td><td>                 </td><td>-0.0461 (0.0513)  </td></tr>\n",
       "\t<tr><th scope=row>22</th><td>Fixed-Effects:                                 </td><td>-------------------</td><td>-----------------</td><td>------------------</td></tr>\n",
       "\t<tr><th scope=row>23</th><td>i                                              </td><td>No                 </td><td>Yes              </td><td>Yes               </td></tr>\n",
       "\t<tr><th scope=row>24</th><td>j                                              </td><td>No                 </td><td>Yes              </td><td>Yes               </td></tr>\n",
       "\t<tr><th scope=row>25</th><td>year                                           </td><td>No                 </td><td>Yes              </td><td>No                </td></tr>\n",
       "\t<tr><th scope=row>26</th><td>________________________________________       </td><td>___________________</td><td>_________________</td><td>__________________</td></tr>\n",
       "\t<tr><th scope=row>27</th><td><span style=white-space:pre-wrap>S.E.: Clustered                                </span></td><td><span style=white-space:pre-wrap>by: i &amp; j          </span></td><td><span style=white-space:pre-wrap>by: i &amp; j        </span></td><td><span style=white-space:pre-wrap>by: i &amp; j         </span></td></tr>\n",
       "\t<tr><th scope=row>28</th><td>Observations                                   </td><td>56,739             </td><td>56,739           </td><td>56,739            </td></tr>\n",
       "\t<tr><th scope=row>29</th><td>R2                                             </td><td>0.00940            </td><td>0.04430          </td><td>0.04475           </td></tr>\n",
       "\t<tr><th scope=row>30</th><td>Within R2                                      </td><td>--                 </td><td>0.00028          </td><td>0.01605           </td></tr>\n",
       "</tbody>\n",
       "</table>\n"
      ],
      "text/latex": [
       "A etable\\_df: 30 × 4\n",
       "\\begin{tabular}{r|llll}\n",
       "  &  & pulled\\_ols & fe\\_no\\_iv & heterogenous\\_fe\\\\\n",
       "  & <chr> & <chr> & <chr> & <chr>\\\\\n",
       "\\hline\n",
       "\t1 & Dependent Var.:                                 & log(v/v19)          & log(v/v19)        & log(v/v19)        \\\\\n",
       "\t2 &                                                 &                     &                   &                   \\\\\n",
       "\t3 & Constant                                        & 0.2953*** (0.0238)  &                   &                   \\\\\n",
       "\t4 & log(deaths\\_i)                                   & 0.0062 (0.0044)     & -0.0156* (0.0061) &                   \\\\\n",
       "\t5 & log(deaths\\_j)                                   & 0.0012 (0.0037)     & -0.0032 (0.0053)  &                   \\\\\n",
       "\t6 & C8EV\\_International\\_travel\\_controls\\_i            & -0.0445*** (0.0112) & -0.0212 (0.0139)  &                   \\\\\n",
       "\t7 & C8EV\\_International\\_travel\\_controls\\_j            & -0.0706*** (0.0108) & -0.0212 (0.0138)  &                   \\\\\n",
       "\t8 & year2021                                        &                     &                   & 0.0781 (0.0771)   \\\\\n",
       "\t9 & year2022                                        &                     &                   & 0.1329 (0.0889)   \\\\\n",
       "\t10 & year2020 x log(deaths\\_i)                        &                     &                   & -0.0145* (0.0070) \\\\\n",
       "\t11 & year2021 x log(deaths\\_i)                        &                     &                   & -0.0141* (0.0068) \\\\\n",
       "\t12 & year2022 x log(deaths\\_i)                        &                     &                   & -0.0216** (0.0075)\\\\\n",
       "\t13 & year2020 x log(deaths\\_j)                        &                     &                   & -0.0106 (0.0066)  \\\\\n",
       "\t14 & year2021 x log(deaths\\_j)                        &                     &                   & 0.0014 (0.0068)   \\\\\n",
       "\t15 & year2022 x log(deaths\\_j)                        &                     &                   & 0.0040 (0.0075)   \\\\\n",
       "\t16 & year2020 x C8EV\\_International\\_travel\\_controls\\_i &                     &                   & -0.0572* (0.0259) \\\\\n",
       "\t17 & year2021 x C8EV\\_International\\_travel\\_controls\\_i &                     &                   & -0.0269* (0.0129) \\\\\n",
       "\t18 & year2022 x C8EV\\_International\\_travel\\_controls\\_i &                     &                   & 0.0079 (0.0350)   \\\\\n",
       "\t19 & year2020 x C8EV\\_International\\_travel\\_controls\\_j &                     &                   & -0.0282 (0.0223)  \\\\\n",
       "\t20 & year2021 x C8EV\\_International\\_travel\\_controls\\_j &                     &                   & -0.0007 (0.0104)  \\\\\n",
       "\t21 & year2022 x C8EV\\_International\\_travel\\_controls\\_j &                     &                   & -0.0461 (0.0513)  \\\\\n",
       "\t22 & Fixed-Effects:                                  & ------------------- & ----------------- & ------------------\\\\\n",
       "\t23 & i                                               & No                  & Yes               & Yes               \\\\\n",
       "\t24 & j                                               & No                  & Yes               & Yes               \\\\\n",
       "\t25 & year                                            & No                  & Yes               & No                \\\\\n",
       "\t26 & \\_\\_\\_\\_\\_\\_\\_\\_\\_\\_\\_\\_\\_\\_\\_\\_\\_\\_\\_\\_\\_\\_\\_\\_\\_\\_\\_\\_\\_\\_\\_\\_\\_\\_\\_\\_\\_\\_\\_\\_        & \\_\\_\\_\\_\\_\\_\\_\\_\\_\\_\\_\\_\\_\\_\\_\\_\\_\\_\\_ & \\_\\_\\_\\_\\_\\_\\_\\_\\_\\_\\_\\_\\_\\_\\_\\_\\_ & \\_\\_\\_\\_\\_\\_\\_\\_\\_\\_\\_\\_\\_\\_\\_\\_\\_\\_\\\\\n",
       "\t27 & S.E.: Clustered                                 & by: i \\& j           & by: i \\& j         & by: i \\& j         \\\\\n",
       "\t28 & Observations                                    & 56,739              & 56,739            & 56,739            \\\\\n",
       "\t29 & R2                                              & 0.00940             & 0.04430           & 0.04475           \\\\\n",
       "\t30 & Within R2                                       & --                  & 0.00028           & 0.01605           \\\\\n",
       "\\end{tabular}\n"
      ],
      "text/markdown": [
       "\n",
       "A etable_df: 30 × 4\n",
       "\n",
       "| <!--/--> | <!----> &lt;chr&gt; | pulled_ols &lt;chr&gt; | fe_no_iv &lt;chr&gt; | heterogenous_fe &lt;chr&gt; |\n",
       "|---|---|---|---|---|\n",
       "| 1 | Dependent Var.:                                 | log(v/v19)          | log(v/v19)        | log(v/v19)         |\n",
       "| 2 | <!----> | <!----> | <!----> | <!----> |\n",
       "| 3 | Constant                                        | 0.2953*** (0.0238)  | <!----> | <!----> |\n",
       "| 4 | log(deaths_i)                                   | 0.0062 (0.0044)     | -0.0156* (0.0061) | <!----> |\n",
       "| 5 | log(deaths_j)                                   | 0.0012 (0.0037)     | -0.0032 (0.0053)  | <!----> |\n",
       "| 6 | C8EV_International_travel_controls_i            | -0.0445*** (0.0112) | -0.0212 (0.0139)  | <!----> |\n",
       "| 7 | C8EV_International_travel_controls_j            | -0.0706*** (0.0108) | -0.0212 (0.0138)  | <!----> |\n",
       "| 8 | year2021                                        | <!----> | <!----> | 0.0781 (0.0771)    |\n",
       "| 9 | year2022                                        | <!----> | <!----> | 0.1329 (0.0889)    |\n",
       "| 10 | year2020 x log(deaths_i)                        | <!----> | <!----> | -0.0145* (0.0070)  |\n",
       "| 11 | year2021 x log(deaths_i)                        | <!----> | <!----> | -0.0141* (0.0068)  |\n",
       "| 12 | year2022 x log(deaths_i)                        | <!----> | <!----> | -0.0216** (0.0075) |\n",
       "| 13 | year2020 x log(deaths_j)                        | <!----> | <!----> | -0.0106 (0.0066)   |\n",
       "| 14 | year2021 x log(deaths_j)                        | <!----> | <!----> | 0.0014 (0.0068)    |\n",
       "| 15 | year2022 x log(deaths_j)                        | <!----> | <!----> | 0.0040 (0.0075)    |\n",
       "| 16 | year2020 x C8EV_International_travel_controls_i | <!----> | <!----> | -0.0572* (0.0259)  |\n",
       "| 17 | year2021 x C8EV_International_travel_controls_i | <!----> | <!----> | -0.0269* (0.0129)  |\n",
       "| 18 | year2022 x C8EV_International_travel_controls_i | <!----> | <!----> | 0.0079 (0.0350)    |\n",
       "| 19 | year2020 x C8EV_International_travel_controls_j | <!----> | <!----> | -0.0282 (0.0223)   |\n",
       "| 20 | year2021 x C8EV_International_travel_controls_j | <!----> | <!----> | -0.0007 (0.0104)   |\n",
       "| 21 | year2022 x C8EV_International_travel_controls_j | <!----> | <!----> | -0.0461 (0.0513)   |\n",
       "| 22 | Fixed-Effects:                                  | ------------------- | ----------------- | ------------------ |\n",
       "| 23 | i                                               | No                  | Yes               | Yes                |\n",
       "| 24 | j                                               | No                  | Yes               | Yes                |\n",
       "| 25 | year                                            | No                  | Yes               | No                 |\n",
       "| 26 | ________________________________________        | ___________________ | _________________ | __________________ |\n",
       "| 27 | S.E.: Clustered                                 | by: i &amp; j           | by: i &amp; j         | by: i &amp; j          |\n",
       "| 28 | Observations                                    | 56,739              | 56,739            | 56,739             |\n",
       "| 29 | R2                                              | 0.00940             | 0.04430           | 0.04475            |\n",
       "| 30 | Within R2                                       | --                  | 0.00028           | 0.01605            |\n",
       "\n"
      ],
      "text/plain": [
       "                                                   pulled_ols         \n",
       "1  Dependent Var.:                                 log(v/v19)         \n",
       "2                                                                     \n",
       "3  Constant                                        0.2953*** (0.0238) \n",
       "4  log(deaths_i)                                   0.0062 (0.0044)    \n",
       "5  log(deaths_j)                                   0.0012 (0.0037)    \n",
       "6  C8EV_International_travel_controls_i            -0.0445*** (0.0112)\n",
       "7  C8EV_International_travel_controls_j            -0.0706*** (0.0108)\n",
       "8  year2021                                                           \n",
       "9  year2022                                                           \n",
       "10 year2020 x log(deaths_i)                                           \n",
       "11 year2021 x log(deaths_i)                                           \n",
       "12 year2022 x log(deaths_i)                                           \n",
       "13 year2020 x log(deaths_j)                                           \n",
       "14 year2021 x log(deaths_j)                                           \n",
       "15 year2022 x log(deaths_j)                                           \n",
       "16 year2020 x C8EV_International_travel_controls_i                    \n",
       "17 year2021 x C8EV_International_travel_controls_i                    \n",
       "18 year2022 x C8EV_International_travel_controls_i                    \n",
       "19 year2020 x C8EV_International_travel_controls_j                    \n",
       "20 year2021 x C8EV_International_travel_controls_j                    \n",
       "21 year2022 x C8EV_International_travel_controls_j                    \n",
       "22 Fixed-Effects:                                  -------------------\n",
       "23 i                                               No                 \n",
       "24 j                                               No                 \n",
       "25 year                                            No                 \n",
       "26 ________________________________________        ___________________\n",
       "27 S.E.: Clustered                                 by: i & j          \n",
       "28 Observations                                    56,739             \n",
       "29 R2                                              0.00940            \n",
       "30 Within R2                                       --                 \n",
       "   fe_no_iv          heterogenous_fe   \n",
       "1  log(v/v19)        log(v/v19)        \n",
       "2                                      \n",
       "3                                      \n",
       "4  -0.0156* (0.0061)                   \n",
       "5  -0.0032 (0.0053)                    \n",
       "6  -0.0212 (0.0139)                    \n",
       "7  -0.0212 (0.0138)                    \n",
       "8                    0.0781 (0.0771)   \n",
       "9                    0.1329 (0.0889)   \n",
       "10                   -0.0145* (0.0070) \n",
       "11                   -0.0141* (0.0068) \n",
       "12                   -0.0216** (0.0075)\n",
       "13                   -0.0106 (0.0066)  \n",
       "14                   0.0014 (0.0068)   \n",
       "15                   0.0040 (0.0075)   \n",
       "16                   -0.0572* (0.0259) \n",
       "17                   -0.0269* (0.0129) \n",
       "18                   0.0079 (0.0350)   \n",
       "19                   -0.0282 (0.0223)  \n",
       "20                   -0.0007 (0.0104)  \n",
       "21                   -0.0461 (0.0513)  \n",
       "22 ----------------- ------------------\n",
       "23 Yes               Yes               \n",
       "24 Yes               Yes               \n",
       "25 Yes               No                \n",
       "26 _________________ __________________\n",
       "27 by: i & j         by: i & j         \n",
       "28 56,739            56,739            \n",
       "29 0.04430           0.04475           \n",
       "30 0.00028           0.01605           "
      ]
     },
     "metadata": {},
     "output_type": "display_data"
    }
   ],
   "source": [
    "# С кластеризацией ошибок есть значимый эффект и наблюдается гетерогенность во времени (+ направление связи соотносится с описанным в литературе)\n",
    "etable(pulled_ols, fe_no_iv, heterogenous_fe, vcov = ~i+j, signif.code=signif.code)\n",
    "# А чем такая кластеризация отличается от i^j?"
   ]
  },
  {
   "cell_type": "code",
   "execution_count": 47,
   "metadata": {
    "vscode": {
     "languageId": "r"
    }
   },
   "outputs": [
    {
     "data": {
      "text/html": [
       "<table class=\"dataframe\">\n",
       "<caption>A etable_df: 30 × 4</caption>\n",
       "<thead>\n",
       "\t<tr><th></th><th scope=col></th><th scope=col>pulled_ols</th><th scope=col>fe_no_iv</th><th scope=col>heterogenous_fe</th></tr>\n",
       "\t<tr><th></th><th scope=col>&lt;chr&gt;</th><th scope=col>&lt;chr&gt;</th><th scope=col>&lt;chr&gt;</th><th scope=col>&lt;chr&gt;</th></tr>\n",
       "</thead>\n",
       "<tbody>\n",
       "\t<tr><th scope=row>1</th><td>Dependent Var.:                                </td><td>log(v/v19)       </td><td>log(v/v19)      </td><td>log(v/v19)      </td></tr>\n",
       "\t<tr><th scope=row>2</th><td>                                               </td><td>                 </td><td>                </td><td>                </td></tr>\n",
       "\t<tr><th scope=row>3</th><td>Constant                                       </td><td>0.2953** (0.0131)</td><td>                </td><td>                </td></tr>\n",
       "\t<tr><th scope=row>4</th><td>log(deaths_i)                                  </td><td>0.0062 (0.0030)  </td><td>-0.0156 (0.0055)</td><td>                </td></tr>\n",
       "\t<tr><th scope=row>5</th><td>log(deaths_j)                                  </td><td>0.0012 (0.0028)  </td><td>-0.0032 (0.0057)</td><td>                </td></tr>\n",
       "\t<tr><th scope=row>6</th><td>C8EV_International_travel_controls_i           </td><td>-0.0445* (0.0070)</td><td>-0.0212 (0.0122)</td><td>                </td></tr>\n",
       "\t<tr><th scope=row>7</th><td>C8EV_International_travel_controls_j           </td><td>-0.0706* (0.0072)</td><td>-0.0212 (0.0120)</td><td>                </td></tr>\n",
       "\t<tr><th scope=row>8</th><td>year2021                                       </td><td>                 </td><td>                </td><td>0.0781 (0.0779) </td></tr>\n",
       "\t<tr><th scope=row>9</th><td>year2022                                       </td><td>                 </td><td>                </td><td>0.1329 (0.0787) </td></tr>\n",
       "\t<tr><th scope=row>10</th><td>year2020 x log(deaths_i)                       </td><td>                 </td><td>                </td><td>-0.0145 (0.0062)</td></tr>\n",
       "\t<tr><th scope=row>11</th><td>year2021 x log(deaths_i)                       </td><td>                 </td><td>                </td><td>-0.0141 (0.0074)</td></tr>\n",
       "\t<tr><th scope=row>12</th><td>year2022 x log(deaths_i)                       </td><td>                 </td><td>                </td><td>-0.0216 (0.0075)</td></tr>\n",
       "\t<tr><th scope=row>13</th><td>year2020 x log(deaths_j)                       </td><td>                 </td><td>                </td><td>-0.0106 (0.0065)</td></tr>\n",
       "\t<tr><th scope=row>14</th><td>year2021 x log(deaths_j)                       </td><td>                 </td><td>                </td><td>0.0014 (0.0075) </td></tr>\n",
       "\t<tr><th scope=row>15</th><td>year2022 x log(deaths_j)                       </td><td>                 </td><td>                </td><td>0.0040 (0.0071) </td></tr>\n",
       "\t<tr><th scope=row>16</th><td>year2020 x C8EV_International_travel_controls_i</td><td>                 </td><td>                </td><td>-0.0572 (0.0217)</td></tr>\n",
       "\t<tr><th scope=row>17</th><td>year2021 x C8EV_International_travel_controls_i</td><td>                 </td><td>                </td><td>-0.0269 (0.0137)</td></tr>\n",
       "\t<tr><th scope=row>18</th><td>year2022 x C8EV_International_travel_controls_i</td><td>                 </td><td>                </td><td>0.0079 (0.0263) </td></tr>\n",
       "\t<tr><th scope=row>19</th><td>year2020 x C8EV_International_travel_controls_j</td><td>                 </td><td>                </td><td>-0.0282 (0.0213)</td></tr>\n",
       "\t<tr><th scope=row>20</th><td>year2021 x C8EV_International_travel_controls_j</td><td>                 </td><td>                </td><td>-0.0007 (0.0139)</td></tr>\n",
       "\t<tr><th scope=row>21</th><td>year2022 x C8EV_International_travel_controls_j</td><td>                 </td><td>                </td><td>-0.0461 (0.0247)</td></tr>\n",
       "\t<tr><th scope=row>22</th><td>Fixed-Effects:                                 </td><td>-----------------</td><td>----------------</td><td>----------------</td></tr>\n",
       "\t<tr><th scope=row>23</th><td>i                                              </td><td>No               </td><td>Yes             </td><td>Yes             </td></tr>\n",
       "\t<tr><th scope=row>24</th><td>j                                              </td><td>No               </td><td>Yes             </td><td>Yes             </td></tr>\n",
       "\t<tr><th scope=row>25</th><td>year                                           </td><td>No               </td><td>Yes             </td><td>No              </td></tr>\n",
       "\t<tr><th scope=row>26</th><td>________________________________________       </td><td>_________________</td><td>________________</td><td>________________</td></tr>\n",
       "\t<tr><th scope=row>27</th><td>S.E. type                                      </td><td>Newey-West (L=1) </td><td>Newey-West (L=1)</td><td>Newey-West (L=1)</td></tr>\n",
       "\t<tr><th scope=row>28</th><td>Observations                                   </td><td>56,739           </td><td>56,739          </td><td>56,739          </td></tr>\n",
       "\t<tr><th scope=row>29</th><td>R2                                             </td><td>0.00940          </td><td>0.04430         </td><td>0.04475         </td></tr>\n",
       "\t<tr><th scope=row>30</th><td>Within R2                                      </td><td>--               </td><td>0.00028         </td><td>0.01605         </td></tr>\n",
       "</tbody>\n",
       "</table>\n"
      ],
      "text/latex": [
       "A etable\\_df: 30 × 4\n",
       "\\begin{tabular}{r|llll}\n",
       "  &  & pulled\\_ols & fe\\_no\\_iv & heterogenous\\_fe\\\\\n",
       "  & <chr> & <chr> & <chr> & <chr>\\\\\n",
       "\\hline\n",
       "\t1 & Dependent Var.:                                 & log(v/v19)        & log(v/v19)       & log(v/v19)      \\\\\n",
       "\t2 &                                                 &                   &                  &                 \\\\\n",
       "\t3 & Constant                                        & 0.2953** (0.0131) &                  &                 \\\\\n",
       "\t4 & log(deaths\\_i)                                   & 0.0062 (0.0030)   & -0.0156 (0.0055) &                 \\\\\n",
       "\t5 & log(deaths\\_j)                                   & 0.0012 (0.0028)   & -0.0032 (0.0057) &                 \\\\\n",
       "\t6 & C8EV\\_International\\_travel\\_controls\\_i            & -0.0445* (0.0070) & -0.0212 (0.0122) &                 \\\\\n",
       "\t7 & C8EV\\_International\\_travel\\_controls\\_j            & -0.0706* (0.0072) & -0.0212 (0.0120) &                 \\\\\n",
       "\t8 & year2021                                        &                   &                  & 0.0781 (0.0779) \\\\\n",
       "\t9 & year2022                                        &                   &                  & 0.1329 (0.0787) \\\\\n",
       "\t10 & year2020 x log(deaths\\_i)                        &                   &                  & -0.0145 (0.0062)\\\\\n",
       "\t11 & year2021 x log(deaths\\_i)                        &                   &                  & -0.0141 (0.0074)\\\\\n",
       "\t12 & year2022 x log(deaths\\_i)                        &                   &                  & -0.0216 (0.0075)\\\\\n",
       "\t13 & year2020 x log(deaths\\_j)                        &                   &                  & -0.0106 (0.0065)\\\\\n",
       "\t14 & year2021 x log(deaths\\_j)                        &                   &                  & 0.0014 (0.0075) \\\\\n",
       "\t15 & year2022 x log(deaths\\_j)                        &                   &                  & 0.0040 (0.0071) \\\\\n",
       "\t16 & year2020 x C8EV\\_International\\_travel\\_controls\\_i &                   &                  & -0.0572 (0.0217)\\\\\n",
       "\t17 & year2021 x C8EV\\_International\\_travel\\_controls\\_i &                   &                  & -0.0269 (0.0137)\\\\\n",
       "\t18 & year2022 x C8EV\\_International\\_travel\\_controls\\_i &                   &                  & 0.0079 (0.0263) \\\\\n",
       "\t19 & year2020 x C8EV\\_International\\_travel\\_controls\\_j &                   &                  & -0.0282 (0.0213)\\\\\n",
       "\t20 & year2021 x C8EV\\_International\\_travel\\_controls\\_j &                   &                  & -0.0007 (0.0139)\\\\\n",
       "\t21 & year2022 x C8EV\\_International\\_travel\\_controls\\_j &                   &                  & -0.0461 (0.0247)\\\\\n",
       "\t22 & Fixed-Effects:                                  & ----------------- & ---------------- & ----------------\\\\\n",
       "\t23 & i                                               & No                & Yes              & Yes             \\\\\n",
       "\t24 & j                                               & No                & Yes              & Yes             \\\\\n",
       "\t25 & year                                            & No                & Yes              & No              \\\\\n",
       "\t26 & \\_\\_\\_\\_\\_\\_\\_\\_\\_\\_\\_\\_\\_\\_\\_\\_\\_\\_\\_\\_\\_\\_\\_\\_\\_\\_\\_\\_\\_\\_\\_\\_\\_\\_\\_\\_\\_\\_\\_\\_        & \\_\\_\\_\\_\\_\\_\\_\\_\\_\\_\\_\\_\\_\\_\\_\\_\\_ & \\_\\_\\_\\_\\_\\_\\_\\_\\_\\_\\_\\_\\_\\_\\_\\_ & \\_\\_\\_\\_\\_\\_\\_\\_\\_\\_\\_\\_\\_\\_\\_\\_\\\\\n",
       "\t27 & S.E. type                                       & Newey-West (L=1)  & Newey-West (L=1) & Newey-West (L=1)\\\\\n",
       "\t28 & Observations                                    & 56,739            & 56,739           & 56,739          \\\\\n",
       "\t29 & R2                                              & 0.00940           & 0.04430          & 0.04475         \\\\\n",
       "\t30 & Within R2                                       & --                & 0.00028          & 0.01605         \\\\\n",
       "\\end{tabular}\n"
      ],
      "text/markdown": [
       "\n",
       "A etable_df: 30 × 4\n",
       "\n",
       "| <!--/--> | <!----> &lt;chr&gt; | pulled_ols &lt;chr&gt; | fe_no_iv &lt;chr&gt; | heterogenous_fe &lt;chr&gt; |\n",
       "|---|---|---|---|---|\n",
       "| 1 | Dependent Var.:                                 | log(v/v19)        | log(v/v19)       | log(v/v19)       |\n",
       "| 2 | <!----> | <!----> | <!----> | <!----> |\n",
       "| 3 | Constant                                        | 0.2953** (0.0131) | <!----> | <!----> |\n",
       "| 4 | log(deaths_i)                                   | 0.0062 (0.0030)   | -0.0156 (0.0055) | <!----> |\n",
       "| 5 | log(deaths_j)                                   | 0.0012 (0.0028)   | -0.0032 (0.0057) | <!----> |\n",
       "| 6 | C8EV_International_travel_controls_i            | -0.0445* (0.0070) | -0.0212 (0.0122) | <!----> |\n",
       "| 7 | C8EV_International_travel_controls_j            | -0.0706* (0.0072) | -0.0212 (0.0120) | <!----> |\n",
       "| 8 | year2021                                        | <!----> | <!----> | 0.0781 (0.0779)  |\n",
       "| 9 | year2022                                        | <!----> | <!----> | 0.1329 (0.0787)  |\n",
       "| 10 | year2020 x log(deaths_i)                        | <!----> | <!----> | -0.0145 (0.0062) |\n",
       "| 11 | year2021 x log(deaths_i)                        | <!----> | <!----> | -0.0141 (0.0074) |\n",
       "| 12 | year2022 x log(deaths_i)                        | <!----> | <!----> | -0.0216 (0.0075) |\n",
       "| 13 | year2020 x log(deaths_j)                        | <!----> | <!----> | -0.0106 (0.0065) |\n",
       "| 14 | year2021 x log(deaths_j)                        | <!----> | <!----> | 0.0014 (0.0075)  |\n",
       "| 15 | year2022 x log(deaths_j)                        | <!----> | <!----> | 0.0040 (0.0071)  |\n",
       "| 16 | year2020 x C8EV_International_travel_controls_i | <!----> | <!----> | -0.0572 (0.0217) |\n",
       "| 17 | year2021 x C8EV_International_travel_controls_i | <!----> | <!----> | -0.0269 (0.0137) |\n",
       "| 18 | year2022 x C8EV_International_travel_controls_i | <!----> | <!----> | 0.0079 (0.0263)  |\n",
       "| 19 | year2020 x C8EV_International_travel_controls_j | <!----> | <!----> | -0.0282 (0.0213) |\n",
       "| 20 | year2021 x C8EV_International_travel_controls_j | <!----> | <!----> | -0.0007 (0.0139) |\n",
       "| 21 | year2022 x C8EV_International_travel_controls_j | <!----> | <!----> | -0.0461 (0.0247) |\n",
       "| 22 | Fixed-Effects:                                  | ----------------- | ---------------- | ---------------- |\n",
       "| 23 | i                                               | No                | Yes              | Yes              |\n",
       "| 24 | j                                               | No                | Yes              | Yes              |\n",
       "| 25 | year                                            | No                | Yes              | No               |\n",
       "| 26 | ________________________________________        | _________________ | ________________ | ________________ |\n",
       "| 27 | S.E. type                                       | Newey-West (L=1)  | Newey-West (L=1) | Newey-West (L=1) |\n",
       "| 28 | Observations                                    | 56,739            | 56,739           | 56,739           |\n",
       "| 29 | R2                                              | 0.00940           | 0.04430          | 0.04475          |\n",
       "| 30 | Within R2                                       | --                | 0.00028          | 0.01605          |\n",
       "\n"
      ],
      "text/plain": [
       "                                                   pulled_ols       \n",
       "1  Dependent Var.:                                 log(v/v19)       \n",
       "2                                                                   \n",
       "3  Constant                                        0.2953** (0.0131)\n",
       "4  log(deaths_i)                                   0.0062 (0.0030)  \n",
       "5  log(deaths_j)                                   0.0012 (0.0028)  \n",
       "6  C8EV_International_travel_controls_i            -0.0445* (0.0070)\n",
       "7  C8EV_International_travel_controls_j            -0.0706* (0.0072)\n",
       "8  year2021                                                         \n",
       "9  year2022                                                         \n",
       "10 year2020 x log(deaths_i)                                         \n",
       "11 year2021 x log(deaths_i)                                         \n",
       "12 year2022 x log(deaths_i)                                         \n",
       "13 year2020 x log(deaths_j)                                         \n",
       "14 year2021 x log(deaths_j)                                         \n",
       "15 year2022 x log(deaths_j)                                         \n",
       "16 year2020 x C8EV_International_travel_controls_i                  \n",
       "17 year2021 x C8EV_International_travel_controls_i                  \n",
       "18 year2022 x C8EV_International_travel_controls_i                  \n",
       "19 year2020 x C8EV_International_travel_controls_j                  \n",
       "20 year2021 x C8EV_International_travel_controls_j                  \n",
       "21 year2022 x C8EV_International_travel_controls_j                  \n",
       "22 Fixed-Effects:                                  -----------------\n",
       "23 i                                               No               \n",
       "24 j                                               No               \n",
       "25 year                                            No               \n",
       "26 ________________________________________        _________________\n",
       "27 S.E. type                                       Newey-West (L=1) \n",
       "28 Observations                                    56,739           \n",
       "29 R2                                              0.00940          \n",
       "30 Within R2                                       --               \n",
       "   fe_no_iv         heterogenous_fe \n",
       "1  log(v/v19)       log(v/v19)      \n",
       "2                                   \n",
       "3                                   \n",
       "4  -0.0156 (0.0055)                 \n",
       "5  -0.0032 (0.0057)                 \n",
       "6  -0.0212 (0.0122)                 \n",
       "7  -0.0212 (0.0120)                 \n",
       "8                   0.0781 (0.0779) \n",
       "9                   0.1329 (0.0787) \n",
       "10                  -0.0145 (0.0062)\n",
       "11                  -0.0141 (0.0074)\n",
       "12                  -0.0216 (0.0075)\n",
       "13                  -0.0106 (0.0065)\n",
       "14                  0.0014 (0.0075) \n",
       "15                  0.0040 (0.0071) \n",
       "16                  -0.0572 (0.0217)\n",
       "17                  -0.0269 (0.0137)\n",
       "18                  0.0079 (0.0263) \n",
       "19                  -0.0282 (0.0213)\n",
       "20                  -0.0007 (0.0139)\n",
       "21                  -0.0461 (0.0247)\n",
       "22 ---------------- ----------------\n",
       "23 Yes              Yes             \n",
       "24 Yes              Yes             \n",
       "25 Yes              No              \n",
       "26 ________________ ________________\n",
       "27 Newey-West (L=1) Newey-West (L=1)\n",
       "28 56,739           56,739          \n",
       "29 0.04430          0.04475         \n",
       "30 0.00028          0.01605         "
      ]
     },
     "metadata": {},
     "output_type": "display_data"
    }
   ],
   "source": [
    "# При использовании НАС ошибок все эффекты становятся незначимыми\n",
    "etable(pulled_ols, fe_no_iv, heterogenous_fe, vcov = vcov_NW(unit = 'pair', time = 'year'), signif.code=signif.code)"
   ]
  },
  {
   "cell_type": "code",
   "execution_count": 48,
   "metadata": {
    "vscode": {
     "languageId": "r"
    }
   },
   "outputs": [
    {
     "data": {
      "text/html": [
       "<table class=\"dataframe\">\n",
       "<caption>A etable_df: 30 × 4</caption>\n",
       "<thead>\n",
       "\t<tr><th></th><th scope=col></th><th scope=col>pulled_ols</th><th scope=col>fe_no_iv</th><th scope=col>heterogenous_fe</th></tr>\n",
       "\t<tr><th></th><th scope=col>&lt;chr&gt;</th><th scope=col>&lt;chr&gt;</th><th scope=col>&lt;chr&gt;</th><th scope=col>&lt;chr&gt;</th></tr>\n",
       "</thead>\n",
       "<tbody>\n",
       "\t<tr><th scope=row>1</th><td>Dependent Var.:                                </td><td>log(v/v19)      </td><td>log(v/v19)      </td><td>log(v/v19)      </td></tr>\n",
       "\t<tr><th scope=row>2</th><td>                                               </td><td>                </td><td>                </td><td>                </td></tr>\n",
       "\t<tr><th scope=row>3</th><td>Constant                                       </td><td>0.2953* (0.0334)</td><td>                </td><td>                </td></tr>\n",
       "\t<tr><th scope=row>4</th><td>log(deaths_i)                                  </td><td>0.0062 (0.0084) </td><td>-0.0156 (0.0066)</td><td>                </td></tr>\n",
       "\t<tr><th scope=row>5</th><td>log(deaths_j)                                  </td><td>0.0012 (0.0036) </td><td>-0.0032 (0.0036)</td><td>                </td></tr>\n",
       "\t<tr><th scope=row>6</th><td>C8EV_International_travel_controls_i           </td><td>-0.0445 (0.0179)</td><td>-0.0212 (0.0117)</td><td>                </td></tr>\n",
       "\t<tr><th scope=row>7</th><td>C8EV_International_travel_controls_j           </td><td>-0.0706 (0.0288)</td><td>-0.0212 (0.0139)</td><td>                </td></tr>\n",
       "\t<tr><th scope=row>8</th><td>year2021                                       </td><td>                </td><td>                </td><td>0.0781 (0.0622) </td></tr>\n",
       "\t<tr><th scope=row>9</th><td>year2022                                       </td><td>                </td><td>                </td><td>0.1329 (0.0834) </td></tr>\n",
       "\t<tr><th scope=row>10</th><td>year2020 x log(deaths_i)                       </td><td>                </td><td>                </td><td>-0.0145 (0.0071)</td></tr>\n",
       "\t<tr><th scope=row>11</th><td>year2021 x log(deaths_i)                       </td><td>                </td><td>                </td><td>-0.0141 (0.0063)</td></tr>\n",
       "\t<tr><th scope=row>12</th><td>year2022 x log(deaths_i)                       </td><td>                </td><td>                </td><td>-0.0216 (0.0083)</td></tr>\n",
       "\t<tr><th scope=row>13</th><td>year2020 x log(deaths_j)                       </td><td>                </td><td>                </td><td>-0.0106 (0.0042)</td></tr>\n",
       "\t<tr><th scope=row>14</th><td>year2021 x log(deaths_j)                       </td><td>                </td><td>                </td><td>0.0014 (0.0028) </td></tr>\n",
       "\t<tr><th scope=row>15</th><td>year2022 x log(deaths_j)                       </td><td>                </td><td>                </td><td>0.0040 (0.0053) </td></tr>\n",
       "\t<tr><th scope=row>16</th><td>year2020 x C8EV_International_travel_controls_i</td><td>                </td><td>                </td><td>-0.0572 (0.0288)</td></tr>\n",
       "\t<tr><th scope=row>17</th><td>year2021 x C8EV_International_travel_controls_i</td><td>                </td><td>                </td><td>-0.0269 (0.0130)</td></tr>\n",
       "\t<tr><th scope=row>18</th><td>year2022 x C8EV_International_travel_controls_i</td><td>                </td><td>                </td><td>0.0079 (0.0269) </td></tr>\n",
       "\t<tr><th scope=row>19</th><td>year2020 x C8EV_International_travel_controls_j</td><td>                </td><td>                </td><td>-0.0282 (0.0163)</td></tr>\n",
       "\t<tr><th scope=row>20</th><td>year2021 x C8EV_International_travel_controls_j</td><td>                </td><td>                </td><td>-0.0007 (0.0035)</td></tr>\n",
       "\t<tr><th scope=row>21</th><td>year2022 x C8EV_International_travel_controls_j</td><td>                </td><td>                </td><td>-0.0461 (0.0425)</td></tr>\n",
       "\t<tr><th scope=row>22</th><td>Fixed-Effects:                                 </td><td>----------------</td><td>----------------</td><td>----------------</td></tr>\n",
       "\t<tr><th scope=row>23</th><td>i                                              </td><td>No              </td><td>Yes             </td><td>Yes             </td></tr>\n",
       "\t<tr><th scope=row>24</th><td>j                                              </td><td>No              </td><td>Yes             </td><td>Yes             </td></tr>\n",
       "\t<tr><th scope=row>25</th><td>year                                           </td><td>No              </td><td>Yes             </td><td>No              </td></tr>\n",
       "\t<tr><th scope=row>26</th><td>________________________________________       </td><td>________________</td><td>________________</td><td>________________</td></tr>\n",
       "\t<tr><th scope=row>27</th><td><span style=white-space:pre-wrap>S.E.: Clustered                                </span></td><td>by: i &amp; j &amp; year</td><td>by: i &amp; j &amp; year</td><td>by: i &amp; j &amp; year</td></tr>\n",
       "\t<tr><th scope=row>28</th><td>Observations                                   </td><td>56,739          </td><td>56,739          </td><td>56,739          </td></tr>\n",
       "\t<tr><th scope=row>29</th><td>R2                                             </td><td>0.00940         </td><td>0.04430         </td><td>0.04475         </td></tr>\n",
       "\t<tr><th scope=row>30</th><td>Within R2                                      </td><td>--              </td><td>0.00028         </td><td>0.01605         </td></tr>\n",
       "</tbody>\n",
       "</table>\n"
      ],
      "text/latex": [
       "A etable\\_df: 30 × 4\n",
       "\\begin{tabular}{r|llll}\n",
       "  &  & pulled\\_ols & fe\\_no\\_iv & heterogenous\\_fe\\\\\n",
       "  & <chr> & <chr> & <chr> & <chr>\\\\\n",
       "\\hline\n",
       "\t1 & Dependent Var.:                                 & log(v/v19)       & log(v/v19)       & log(v/v19)      \\\\\n",
       "\t2 &                                                 &                  &                  &                 \\\\\n",
       "\t3 & Constant                                        & 0.2953* (0.0334) &                  &                 \\\\\n",
       "\t4 & log(deaths\\_i)                                   & 0.0062 (0.0084)  & -0.0156 (0.0066) &                 \\\\\n",
       "\t5 & log(deaths\\_j)                                   & 0.0012 (0.0036)  & -0.0032 (0.0036) &                 \\\\\n",
       "\t6 & C8EV\\_International\\_travel\\_controls\\_i            & -0.0445 (0.0179) & -0.0212 (0.0117) &                 \\\\\n",
       "\t7 & C8EV\\_International\\_travel\\_controls\\_j            & -0.0706 (0.0288) & -0.0212 (0.0139) &                 \\\\\n",
       "\t8 & year2021                                        &                  &                  & 0.0781 (0.0622) \\\\\n",
       "\t9 & year2022                                        &                  &                  & 0.1329 (0.0834) \\\\\n",
       "\t10 & year2020 x log(deaths\\_i)                        &                  &                  & -0.0145 (0.0071)\\\\\n",
       "\t11 & year2021 x log(deaths\\_i)                        &                  &                  & -0.0141 (0.0063)\\\\\n",
       "\t12 & year2022 x log(deaths\\_i)                        &                  &                  & -0.0216 (0.0083)\\\\\n",
       "\t13 & year2020 x log(deaths\\_j)                        &                  &                  & -0.0106 (0.0042)\\\\\n",
       "\t14 & year2021 x log(deaths\\_j)                        &                  &                  & 0.0014 (0.0028) \\\\\n",
       "\t15 & year2022 x log(deaths\\_j)                        &                  &                  & 0.0040 (0.0053) \\\\\n",
       "\t16 & year2020 x C8EV\\_International\\_travel\\_controls\\_i &                  &                  & -0.0572 (0.0288)\\\\\n",
       "\t17 & year2021 x C8EV\\_International\\_travel\\_controls\\_i &                  &                  & -0.0269 (0.0130)\\\\\n",
       "\t18 & year2022 x C8EV\\_International\\_travel\\_controls\\_i &                  &                  & 0.0079 (0.0269) \\\\\n",
       "\t19 & year2020 x C8EV\\_International\\_travel\\_controls\\_j &                  &                  & -0.0282 (0.0163)\\\\\n",
       "\t20 & year2021 x C8EV\\_International\\_travel\\_controls\\_j &                  &                  & -0.0007 (0.0035)\\\\\n",
       "\t21 & year2022 x C8EV\\_International\\_travel\\_controls\\_j &                  &                  & -0.0461 (0.0425)\\\\\n",
       "\t22 & Fixed-Effects:                                  & ---------------- & ---------------- & ----------------\\\\\n",
       "\t23 & i                                               & No               & Yes              & Yes             \\\\\n",
       "\t24 & j                                               & No               & Yes              & Yes             \\\\\n",
       "\t25 & year                                            & No               & Yes              & No              \\\\\n",
       "\t26 & \\_\\_\\_\\_\\_\\_\\_\\_\\_\\_\\_\\_\\_\\_\\_\\_\\_\\_\\_\\_\\_\\_\\_\\_\\_\\_\\_\\_\\_\\_\\_\\_\\_\\_\\_\\_\\_\\_\\_\\_        & \\_\\_\\_\\_\\_\\_\\_\\_\\_\\_\\_\\_\\_\\_\\_\\_ & \\_\\_\\_\\_\\_\\_\\_\\_\\_\\_\\_\\_\\_\\_\\_\\_ & \\_\\_\\_\\_\\_\\_\\_\\_\\_\\_\\_\\_\\_\\_\\_\\_\\\\\n",
       "\t27 & S.E.: Clustered                                 & by: i \\& j \\& year & by: i \\& j \\& year & by: i \\& j \\& year\\\\\n",
       "\t28 & Observations                                    & 56,739           & 56,739           & 56,739          \\\\\n",
       "\t29 & R2                                              & 0.00940          & 0.04430          & 0.04475         \\\\\n",
       "\t30 & Within R2                                       & --               & 0.00028          & 0.01605         \\\\\n",
       "\\end{tabular}\n"
      ],
      "text/markdown": [
       "\n",
       "A etable_df: 30 × 4\n",
       "\n",
       "| <!--/--> | <!----> &lt;chr&gt; | pulled_ols &lt;chr&gt; | fe_no_iv &lt;chr&gt; | heterogenous_fe &lt;chr&gt; |\n",
       "|---|---|---|---|---|\n",
       "| 1 | Dependent Var.:                                 | log(v/v19)       | log(v/v19)       | log(v/v19)       |\n",
       "| 2 | <!----> | <!----> | <!----> | <!----> |\n",
       "| 3 | Constant                                        | 0.2953* (0.0334) | <!----> | <!----> |\n",
       "| 4 | log(deaths_i)                                   | 0.0062 (0.0084)  | -0.0156 (0.0066) | <!----> |\n",
       "| 5 | log(deaths_j)                                   | 0.0012 (0.0036)  | -0.0032 (0.0036) | <!----> |\n",
       "| 6 | C8EV_International_travel_controls_i            | -0.0445 (0.0179) | -0.0212 (0.0117) | <!----> |\n",
       "| 7 | C8EV_International_travel_controls_j            | -0.0706 (0.0288) | -0.0212 (0.0139) | <!----> |\n",
       "| 8 | year2021                                        | <!----> | <!----> | 0.0781 (0.0622)  |\n",
       "| 9 | year2022                                        | <!----> | <!----> | 0.1329 (0.0834)  |\n",
       "| 10 | year2020 x log(deaths_i)                        | <!----> | <!----> | -0.0145 (0.0071) |\n",
       "| 11 | year2021 x log(deaths_i)                        | <!----> | <!----> | -0.0141 (0.0063) |\n",
       "| 12 | year2022 x log(deaths_i)                        | <!----> | <!----> | -0.0216 (0.0083) |\n",
       "| 13 | year2020 x log(deaths_j)                        | <!----> | <!----> | -0.0106 (0.0042) |\n",
       "| 14 | year2021 x log(deaths_j)                        | <!----> | <!----> | 0.0014 (0.0028)  |\n",
       "| 15 | year2022 x log(deaths_j)                        | <!----> | <!----> | 0.0040 (0.0053)  |\n",
       "| 16 | year2020 x C8EV_International_travel_controls_i | <!----> | <!----> | -0.0572 (0.0288) |\n",
       "| 17 | year2021 x C8EV_International_travel_controls_i | <!----> | <!----> | -0.0269 (0.0130) |\n",
       "| 18 | year2022 x C8EV_International_travel_controls_i | <!----> | <!----> | 0.0079 (0.0269)  |\n",
       "| 19 | year2020 x C8EV_International_travel_controls_j | <!----> | <!----> | -0.0282 (0.0163) |\n",
       "| 20 | year2021 x C8EV_International_travel_controls_j | <!----> | <!----> | -0.0007 (0.0035) |\n",
       "| 21 | year2022 x C8EV_International_travel_controls_j | <!----> | <!----> | -0.0461 (0.0425) |\n",
       "| 22 | Fixed-Effects:                                  | ---------------- | ---------------- | ---------------- |\n",
       "| 23 | i                                               | No               | Yes              | Yes              |\n",
       "| 24 | j                                               | No               | Yes              | Yes              |\n",
       "| 25 | year                                            | No               | Yes              | No               |\n",
       "| 26 | ________________________________________        | ________________ | ________________ | ________________ |\n",
       "| 27 | S.E.: Clustered                                 | by: i &amp; j &amp; year | by: i &amp; j &amp; year | by: i &amp; j &amp; year |\n",
       "| 28 | Observations                                    | 56,739           | 56,739           | 56,739           |\n",
       "| 29 | R2                                              | 0.00940          | 0.04430          | 0.04475          |\n",
       "| 30 | Within R2                                       | --               | 0.00028          | 0.01605          |\n",
       "\n"
      ],
      "text/plain": [
       "                                                   pulled_ols      \n",
       "1  Dependent Var.:                                 log(v/v19)      \n",
       "2                                                                  \n",
       "3  Constant                                        0.2953* (0.0334)\n",
       "4  log(deaths_i)                                   0.0062 (0.0084) \n",
       "5  log(deaths_j)                                   0.0012 (0.0036) \n",
       "6  C8EV_International_travel_controls_i            -0.0445 (0.0179)\n",
       "7  C8EV_International_travel_controls_j            -0.0706 (0.0288)\n",
       "8  year2021                                                        \n",
       "9  year2022                                                        \n",
       "10 year2020 x log(deaths_i)                                        \n",
       "11 year2021 x log(deaths_i)                                        \n",
       "12 year2022 x log(deaths_i)                                        \n",
       "13 year2020 x log(deaths_j)                                        \n",
       "14 year2021 x log(deaths_j)                                        \n",
       "15 year2022 x log(deaths_j)                                        \n",
       "16 year2020 x C8EV_International_travel_controls_i                 \n",
       "17 year2021 x C8EV_International_travel_controls_i                 \n",
       "18 year2022 x C8EV_International_travel_controls_i                 \n",
       "19 year2020 x C8EV_International_travel_controls_j                 \n",
       "20 year2021 x C8EV_International_travel_controls_j                 \n",
       "21 year2022 x C8EV_International_travel_controls_j                 \n",
       "22 Fixed-Effects:                                  ----------------\n",
       "23 i                                               No              \n",
       "24 j                                               No              \n",
       "25 year                                            No              \n",
       "26 ________________________________________        ________________\n",
       "27 S.E.: Clustered                                 by: i & j & year\n",
       "28 Observations                                    56,739          \n",
       "29 R2                                              0.00940         \n",
       "30 Within R2                                       --              \n",
       "   fe_no_iv         heterogenous_fe \n",
       "1  log(v/v19)       log(v/v19)      \n",
       "2                                   \n",
       "3                                   \n",
       "4  -0.0156 (0.0066)                 \n",
       "5  -0.0032 (0.0036)                 \n",
       "6  -0.0212 (0.0117)                 \n",
       "7  -0.0212 (0.0139)                 \n",
       "8                   0.0781 (0.0622) \n",
       "9                   0.1329 (0.0834) \n",
       "10                  -0.0145 (0.0071)\n",
       "11                  -0.0141 (0.0063)\n",
       "12                  -0.0216 (0.0083)\n",
       "13                  -0.0106 (0.0042)\n",
       "14                  0.0014 (0.0028) \n",
       "15                  0.0040 (0.0053) \n",
       "16                  -0.0572 (0.0288)\n",
       "17                  -0.0269 (0.0130)\n",
       "18                  0.0079 (0.0269) \n",
       "19                  -0.0282 (0.0163)\n",
       "20                  -0.0007 (0.0035)\n",
       "21                  -0.0461 (0.0425)\n",
       "22 ---------------- ----------------\n",
       "23 Yes              Yes             \n",
       "24 Yes              Yes             \n",
       "25 Yes              No              \n",
       "26 ________________ ________________\n",
       "27 by: i & j & year by: i & j & year\n",
       "28 56,739           56,739          \n",
       "29 0.04430          0.04475         \n",
       "30 0.00028          0.01605         "
      ]
     },
     "metadata": {},
     "output_type": "display_data"
    }
   ],
   "source": [
    "# Всё-таки кластеризовать только по году нельзя, потому что мы в формуле указываем кусочки ошибок которые скоррелированные\n",
    "    # Пробую кластеризацию ошибок по годам: с теоретической точки зрения это обосновано тем,\n",
    "    # что все связанные с одной страной наблюдения связаны, значит и во всём графе наблюдения связаны.\n",
    "    # При этом если нет автокорреляции (учитывая, что у меня 3 периода, это вроде ОК), то кластеризация по годам именно так и делает.\n",
    "    # Но в статьях пишут, что нельзя использовать кластеризацию ошибок, если меньше чем 50 кластеров...\n",
    "    # Интересно, что здесь эффект импортёра значимый, а в предыдущей спецификации эффект экспортёра...\n",
    "etable(pulled_ols, fe_no_iv, heterogenous_fe, vcov = ~i+j+year, signif.code=signif.code)"
   ]
  },
  {
   "cell_type": "code",
   "execution_count": 49,
   "metadata": {
    "vscode": {
     "languageId": "r"
    }
   },
   "outputs": [
    {
     "data": {
      "text/html": [
       "<table class=\"dataframe\">\n",
       "<caption>A etable_df: 30 × 4</caption>\n",
       "<thead>\n",
       "\t<tr><th></th><th scope=col></th><th scope=col>pulled_ols</th><th scope=col>fe_no_iv</th><th scope=col>heterogenous_fe</th></tr>\n",
       "\t<tr><th></th><th scope=col>&lt;chr&gt;</th><th scope=col>&lt;chr&gt;</th><th scope=col>&lt;chr&gt;</th><th scope=col>&lt;chr&gt;</th></tr>\n",
       "</thead>\n",
       "<tbody>\n",
       "\t<tr><th scope=row>1</th><td>Dependent Var.:                                </td><td>log(v/v19)         </td><td>log(v/v19)         </td><td>log(v/v19)         </td></tr>\n",
       "\t<tr><th scope=row>2</th><td>                                               </td><td>                   </td><td>                   </td><td>                   </td></tr>\n",
       "\t<tr><th scope=row>3</th><td>Constant                                       </td><td>0.2953*** (0.0231) </td><td>                   </td><td>                   </td></tr>\n",
       "\t<tr><th scope=row>4</th><td>log(deaths_i)                                  </td><td>0.0062. (0.0037)   </td><td>-0.0156** (0.0049) </td><td>                   </td></tr>\n",
       "\t<tr><th scope=row>5</th><td>log(deaths_j)                                  </td><td>0.0012 (0.0035)    </td><td>-0.0032 (0.0047)   </td><td>                   </td></tr>\n",
       "\t<tr><th scope=row>6</th><td>C8EV_International_travel_controls_i           </td><td>-0.0445*** (0.0115)</td><td>-0.0212. (0.0109)  </td><td>                   </td></tr>\n",
       "\t<tr><th scope=row>7</th><td>C8EV_International_travel_controls_j           </td><td>-0.0706*** (0.0113)</td><td>-0.0212. (0.0113)  </td><td>                   </td></tr>\n",
       "\t<tr><th scope=row>8</th><td>year2021                                       </td><td>                   </td><td>                   </td><td>0.0781 (0.0624)    </td></tr>\n",
       "\t<tr><th scope=row>9</th><td>year2022                                       </td><td>                   </td><td>                   </td><td>0.1329. (0.0701)   </td></tr>\n",
       "\t<tr><th scope=row>10</th><td>year2020 x log(deaths_i)                       </td><td>                   </td><td>                   </td><td>-0.0145* (0.0058)  </td></tr>\n",
       "\t<tr><th scope=row>11</th><td>year2021 x log(deaths_i)                       </td><td>                   </td><td>                   </td><td>-0.0141* (0.0060)  </td></tr>\n",
       "\t<tr><th scope=row>12</th><td>year2022 x log(deaths_i)                       </td><td>                   </td><td>                   </td><td>-0.0216*** (0.0062)</td></tr>\n",
       "\t<tr><th scope=row>13</th><td>year2020 x log(deaths_j)                       </td><td>                   </td><td>                   </td><td>-0.0106. (0.0057)  </td></tr>\n",
       "\t<tr><th scope=row>14</th><td>year2021 x log(deaths_j)                       </td><td>                   </td><td>                   </td><td>0.0014 (0.0066)    </td></tr>\n",
       "\t<tr><th scope=row>15</th><td>year2022 x log(deaths_j)                       </td><td>                   </td><td>                   </td><td>0.0040 (0.0062)    </td></tr>\n",
       "\t<tr><th scope=row>16</th><td>year2020 x C8EV_International_travel_controls_i</td><td>                   </td><td>                   </td><td>-0.0572** (0.0194) </td></tr>\n",
       "\t<tr><th scope=row>17</th><td>year2021 x C8EV_International_travel_controls_i</td><td>                   </td><td>                   </td><td>-0.0269* (0.0106)  </td></tr>\n",
       "\t<tr><th scope=row>18</th><td>year2022 x C8EV_International_travel_controls_i</td><td>                   </td><td>                   </td><td>0.0079 (0.0278)    </td></tr>\n",
       "\t<tr><th scope=row>19</th><td>year2020 x C8EV_International_travel_controls_j</td><td>                   </td><td>                   </td><td>-0.0282 (0.0179)   </td></tr>\n",
       "\t<tr><th scope=row>20</th><td>year2021 x C8EV_International_travel_controls_j</td><td>                   </td><td>                   </td><td>-0.0007 (0.0105)   </td></tr>\n",
       "\t<tr><th scope=row>21</th><td>year2022 x C8EV_International_travel_controls_j</td><td>                   </td><td>                   </td><td>-0.0461 (0.0387)   </td></tr>\n",
       "\t<tr><th scope=row>22</th><td>Fixed-Effects:                                 </td><td>-------------------</td><td>------------------ </td><td>-------------------</td></tr>\n",
       "\t<tr><th scope=row>23</th><td>i                                              </td><td>No                 </td><td>Yes                </td><td>Yes                </td></tr>\n",
       "\t<tr><th scope=row>24</th><td>j                                              </td><td>No                 </td><td>Yes                </td><td>Yes                </td></tr>\n",
       "\t<tr><th scope=row>25</th><td>year                                           </td><td>No                 </td><td>Yes                </td><td>No                 </td></tr>\n",
       "\t<tr><th scope=row>26</th><td>________________________________________       </td><td>___________________</td><td>__________________ </td><td>___________________</td></tr>\n",
       "\t<tr><th scope=row>27</th><td><span style=white-space:pre-wrap>S.E.: Clustered                                </span></td><td>by: i-year &amp; j-year</td><td>by: i-year &amp; j-year</td><td>by: i-year &amp; j-year</td></tr>\n",
       "\t<tr><th scope=row>28</th><td>Observations                                   </td><td>56,739             </td><td>56,739             </td><td>56,739             </td></tr>\n",
       "\t<tr><th scope=row>29</th><td>R2                                             </td><td>0.00940            </td><td>0.04430            </td><td>0.04475            </td></tr>\n",
       "\t<tr><th scope=row>30</th><td>Within R2                                      </td><td>--                 </td><td>0.00028            </td><td>0.01605            </td></tr>\n",
       "</tbody>\n",
       "</table>\n"
      ],
      "text/latex": [
       "A etable\\_df: 30 × 4\n",
       "\\begin{tabular}{r|llll}\n",
       "  &  & pulled\\_ols & fe\\_no\\_iv & heterogenous\\_fe\\\\\n",
       "  & <chr> & <chr> & <chr> & <chr>\\\\\n",
       "\\hline\n",
       "\t1 & Dependent Var.:                                 & log(v/v19)          & log(v/v19)          & log(v/v19)         \\\\\n",
       "\t2 &                                                 &                     &                     &                    \\\\\n",
       "\t3 & Constant                                        & 0.2953*** (0.0231)  &                     &                    \\\\\n",
       "\t4 & log(deaths\\_i)                                   & 0.0062. (0.0037)    & -0.0156** (0.0049)  &                    \\\\\n",
       "\t5 & log(deaths\\_j)                                   & 0.0012 (0.0035)     & -0.0032 (0.0047)    &                    \\\\\n",
       "\t6 & C8EV\\_International\\_travel\\_controls\\_i            & -0.0445*** (0.0115) & -0.0212. (0.0109)   &                    \\\\\n",
       "\t7 & C8EV\\_International\\_travel\\_controls\\_j            & -0.0706*** (0.0113) & -0.0212. (0.0113)   &                    \\\\\n",
       "\t8 & year2021                                        &                     &                     & 0.0781 (0.0624)    \\\\\n",
       "\t9 & year2022                                        &                     &                     & 0.1329. (0.0701)   \\\\\n",
       "\t10 & year2020 x log(deaths\\_i)                        &                     &                     & -0.0145* (0.0058)  \\\\\n",
       "\t11 & year2021 x log(deaths\\_i)                        &                     &                     & -0.0141* (0.0060)  \\\\\n",
       "\t12 & year2022 x log(deaths\\_i)                        &                     &                     & -0.0216*** (0.0062)\\\\\n",
       "\t13 & year2020 x log(deaths\\_j)                        &                     &                     & -0.0106. (0.0057)  \\\\\n",
       "\t14 & year2021 x log(deaths\\_j)                        &                     &                     & 0.0014 (0.0066)    \\\\\n",
       "\t15 & year2022 x log(deaths\\_j)                        &                     &                     & 0.0040 (0.0062)    \\\\\n",
       "\t16 & year2020 x C8EV\\_International\\_travel\\_controls\\_i &                     &                     & -0.0572** (0.0194) \\\\\n",
       "\t17 & year2021 x C8EV\\_International\\_travel\\_controls\\_i &                     &                     & -0.0269* (0.0106)  \\\\\n",
       "\t18 & year2022 x C8EV\\_International\\_travel\\_controls\\_i &                     &                     & 0.0079 (0.0278)    \\\\\n",
       "\t19 & year2020 x C8EV\\_International\\_travel\\_controls\\_j &                     &                     & -0.0282 (0.0179)   \\\\\n",
       "\t20 & year2021 x C8EV\\_International\\_travel\\_controls\\_j &                     &                     & -0.0007 (0.0105)   \\\\\n",
       "\t21 & year2022 x C8EV\\_International\\_travel\\_controls\\_j &                     &                     & -0.0461 (0.0387)   \\\\\n",
       "\t22 & Fixed-Effects:                                  & ------------------- & ------------------  & -------------------\\\\\n",
       "\t23 & i                                               & No                  & Yes                 & Yes                \\\\\n",
       "\t24 & j                                               & No                  & Yes                 & Yes                \\\\\n",
       "\t25 & year                                            & No                  & Yes                 & No                 \\\\\n",
       "\t26 & \\_\\_\\_\\_\\_\\_\\_\\_\\_\\_\\_\\_\\_\\_\\_\\_\\_\\_\\_\\_\\_\\_\\_\\_\\_\\_\\_\\_\\_\\_\\_\\_\\_\\_\\_\\_\\_\\_\\_\\_        & \\_\\_\\_\\_\\_\\_\\_\\_\\_\\_\\_\\_\\_\\_\\_\\_\\_\\_\\_ & \\_\\_\\_\\_\\_\\_\\_\\_\\_\\_\\_\\_\\_\\_\\_\\_\\_\\_  & \\_\\_\\_\\_\\_\\_\\_\\_\\_\\_\\_\\_\\_\\_\\_\\_\\_\\_\\_\\\\\n",
       "\t27 & S.E.: Clustered                                 & by: i-year \\& j-year & by: i-year \\& j-year & by: i-year \\& j-year\\\\\n",
       "\t28 & Observations                                    & 56,739              & 56,739              & 56,739             \\\\\n",
       "\t29 & R2                                              & 0.00940             & 0.04430             & 0.04475            \\\\\n",
       "\t30 & Within R2                                       & --                  & 0.00028             & 0.01605            \\\\\n",
       "\\end{tabular}\n"
      ],
      "text/markdown": [
       "\n",
       "A etable_df: 30 × 4\n",
       "\n",
       "| <!--/--> | <!----> &lt;chr&gt; | pulled_ols &lt;chr&gt; | fe_no_iv &lt;chr&gt; | heterogenous_fe &lt;chr&gt; |\n",
       "|---|---|---|---|---|\n",
       "| 1 | Dependent Var.:                                 | log(v/v19)          | log(v/v19)          | log(v/v19)          |\n",
       "| 2 | <!----> | <!----> | <!----> | <!----> |\n",
       "| 3 | Constant                                        | 0.2953*** (0.0231)  | <!----> | <!----> |\n",
       "| 4 | log(deaths_i)                                   | 0.0062. (0.0037)    | -0.0156** (0.0049)  | <!----> |\n",
       "| 5 | log(deaths_j)                                   | 0.0012 (0.0035)     | -0.0032 (0.0047)    | <!----> |\n",
       "| 6 | C8EV_International_travel_controls_i            | -0.0445*** (0.0115) | -0.0212. (0.0109)   | <!----> |\n",
       "| 7 | C8EV_International_travel_controls_j            | -0.0706*** (0.0113) | -0.0212. (0.0113)   | <!----> |\n",
       "| 8 | year2021                                        | <!----> | <!----> | 0.0781 (0.0624)     |\n",
       "| 9 | year2022                                        | <!----> | <!----> | 0.1329. (0.0701)    |\n",
       "| 10 | year2020 x log(deaths_i)                        | <!----> | <!----> | -0.0145* (0.0058)   |\n",
       "| 11 | year2021 x log(deaths_i)                        | <!----> | <!----> | -0.0141* (0.0060)   |\n",
       "| 12 | year2022 x log(deaths_i)                        | <!----> | <!----> | -0.0216*** (0.0062) |\n",
       "| 13 | year2020 x log(deaths_j)                        | <!----> | <!----> | -0.0106. (0.0057)   |\n",
       "| 14 | year2021 x log(deaths_j)                        | <!----> | <!----> | 0.0014 (0.0066)     |\n",
       "| 15 | year2022 x log(deaths_j)                        | <!----> | <!----> | 0.0040 (0.0062)     |\n",
       "| 16 | year2020 x C8EV_International_travel_controls_i | <!----> | <!----> | -0.0572** (0.0194)  |\n",
       "| 17 | year2021 x C8EV_International_travel_controls_i | <!----> | <!----> | -0.0269* (0.0106)   |\n",
       "| 18 | year2022 x C8EV_International_travel_controls_i | <!----> | <!----> | 0.0079 (0.0278)     |\n",
       "| 19 | year2020 x C8EV_International_travel_controls_j | <!----> | <!----> | -0.0282 (0.0179)    |\n",
       "| 20 | year2021 x C8EV_International_travel_controls_j | <!----> | <!----> | -0.0007 (0.0105)    |\n",
       "| 21 | year2022 x C8EV_International_travel_controls_j | <!----> | <!----> | -0.0461 (0.0387)    |\n",
       "| 22 | Fixed-Effects:                                  | ------------------- | ------------------  | ------------------- |\n",
       "| 23 | i                                               | No                  | Yes                 | Yes                 |\n",
       "| 24 | j                                               | No                  | Yes                 | Yes                 |\n",
       "| 25 | year                                            | No                  | Yes                 | No                  |\n",
       "| 26 | ________________________________________        | ___________________ | __________________  | ___________________ |\n",
       "| 27 | S.E.: Clustered                                 | by: i-year &amp; j-year | by: i-year &amp; j-year | by: i-year &amp; j-year |\n",
       "| 28 | Observations                                    | 56,739              | 56,739              | 56,739              |\n",
       "| 29 | R2                                              | 0.00940             | 0.04430             | 0.04475             |\n",
       "| 30 | Within R2                                       | --                  | 0.00028             | 0.01605             |\n",
       "\n"
      ],
      "text/plain": [
       "                                                   pulled_ols         \n",
       "1  Dependent Var.:                                 log(v/v19)         \n",
       "2                                                                     \n",
       "3  Constant                                        0.2953*** (0.0231) \n",
       "4  log(deaths_i)                                   0.0062. (0.0037)   \n",
       "5  log(deaths_j)                                   0.0012 (0.0035)    \n",
       "6  C8EV_International_travel_controls_i            -0.0445*** (0.0115)\n",
       "7  C8EV_International_travel_controls_j            -0.0706*** (0.0113)\n",
       "8  year2021                                                           \n",
       "9  year2022                                                           \n",
       "10 year2020 x log(deaths_i)                                           \n",
       "11 year2021 x log(deaths_i)                                           \n",
       "12 year2022 x log(deaths_i)                                           \n",
       "13 year2020 x log(deaths_j)                                           \n",
       "14 year2021 x log(deaths_j)                                           \n",
       "15 year2022 x log(deaths_j)                                           \n",
       "16 year2020 x C8EV_International_travel_controls_i                    \n",
       "17 year2021 x C8EV_International_travel_controls_i                    \n",
       "18 year2022 x C8EV_International_travel_controls_i                    \n",
       "19 year2020 x C8EV_International_travel_controls_j                    \n",
       "20 year2021 x C8EV_International_travel_controls_j                    \n",
       "21 year2022 x C8EV_International_travel_controls_j                    \n",
       "22 Fixed-Effects:                                  -------------------\n",
       "23 i                                               No                 \n",
       "24 j                                               No                 \n",
       "25 year                                            No                 \n",
       "26 ________________________________________        ___________________\n",
       "27 S.E.: Clustered                                 by: i-year & j-year\n",
       "28 Observations                                    56,739             \n",
       "29 R2                                              0.00940            \n",
       "30 Within R2                                       --                 \n",
       "   fe_no_iv            heterogenous_fe    \n",
       "1  log(v/v19)          log(v/v19)         \n",
       "2                                         \n",
       "3                                         \n",
       "4  -0.0156** (0.0049)                     \n",
       "5  -0.0032 (0.0047)                       \n",
       "6  -0.0212. (0.0109)                      \n",
       "7  -0.0212. (0.0113)                      \n",
       "8                      0.0781 (0.0624)    \n",
       "9                      0.1329. (0.0701)   \n",
       "10                     -0.0145* (0.0058)  \n",
       "11                     -0.0141* (0.0060)  \n",
       "12                     -0.0216*** (0.0062)\n",
       "13                     -0.0106. (0.0057)  \n",
       "14                     0.0014 (0.0066)    \n",
       "15                     0.0040 (0.0062)    \n",
       "16                     -0.0572** (0.0194) \n",
       "17                     -0.0269* (0.0106)  \n",
       "18                     0.0079 (0.0278)    \n",
       "19                     -0.0282 (0.0179)   \n",
       "20                     -0.0007 (0.0105)   \n",
       "21                     -0.0461 (0.0387)   \n",
       "22 ------------------  -------------------\n",
       "23 Yes                 Yes                \n",
       "24 Yes                 Yes                \n",
       "25 Yes                 No                 \n",
       "26 __________________  ___________________\n",
       "27 by: i-year & j-year by: i-year & j-year\n",
       "28 56,739              56,739             \n",
       "29 0.04430             0.04475            \n",
       "30 0.00028             0.01605            "
      ]
     },
     "metadata": {},
     "output_type": "display_data"
    }
   ],
   "source": [
    "# Не понятно, насколько это осмысленно, но сделал на всякий случай\n",
    "etable(pulled_ols, fe_no_iv, heterogenous_fe, vcov = ~i^year+j^year, signif.code=signif.code)"
   ]
  },
  {
   "cell_type": "markdown",
   "metadata": {},
   "source": [
    "### Инструментальные переменные на панельных данных"
   ]
  },
  {
   "cell_type": "code",
   "execution_count": 50,
   "metadata": {
    "vscode": {
     "languageId": "r"
    }
   },
   "outputs": [
    {
     "name": "stderr",
     "output_type": "stream",
     "text": [
      "NOTE: 13,906 observations removed because of NA and infinite values (RHS: 9,802, IV: 6,067/10,661).\n",
      "\n"
     ]
    },
    {
     "data": {
      "text/plain": [
       "TSLS estimation - Dep. Var.: log(v/v19)\n",
       "                  Endo.    : log(deaths_i), log(deaths_j)\n",
       "                  Instr.   : H6M_Facial_Coverings_i, H6M_Facial_Coverings_j, population_density, population_density_j\n",
       "Second stage: Dep. Var.: log(v/v19)\n",
       "Observations: 56,401\n",
       "Standard-errors: Clustered (i & j) \n",
       "                                      Estimate Std. Error   t value   Pr(>|t|)\n",
       "(Intercept)                           0.475873   0.065821  7.229792 1.4676e-11\n",
       "fit_log(deaths_i)                     0.036144   0.071053  0.508685 6.1162e-01\n",
       "fit_log(deaths_j)                     0.127073   0.053270  2.385467 1.8132e-02\n",
       "C8EV_International_travel_controls_i -0.069961   0.022727 -3.078373 2.4189e-03\n",
       "C8EV_International_travel_controls_j -0.065094   0.027706 -2.349425 1.9924e-02\n",
       "                                        \n",
       "(Intercept)                          ***\n",
       "fit_log(deaths_i)                       \n",
       "fit_log(deaths_j)                    *  \n",
       "C8EV_International_travel_controls_i ** \n",
       "C8EV_International_travel_controls_j *  \n",
       "---\n",
       "Signif. codes:  0 '***' 0.001 '**' 0.01 '*' 0.05 '.' 0.1 ' ' 1\n",
       "RMSE: 1.03433   Adj. R2: -0.062273\n",
       "F-test (1st stage), log(deaths_i): stat = 336.7     , p < 2.2e-16 , on 4 and 56,394 DoF.\n",
       "F-test (1st stage), log(deaths_j): stat = 322.8     , p < 2.2e-16 , on 4 and 56,394 DoF.\n",
       "                       Wu-Hausman: stat =  59.7     , p < 2.2e-16 , on 2 and 56,394 DoF.\n",
       "                           Sargan: stat =   0.034797, p = 0.982752, on 2 DoF."
      ]
     },
     "metadata": {},
     "output_type": "display_data"
    }
   ],
   "source": [
    "# Pulled TSLS\n",
    "# Подумать про эндогенность пропусков. Мб пропуски в инструментальных переменных можно смело заполнять?\n",
    "pulled_tsls = feols(log(v/v19) ~  1+\n",
    " C8EV_International_travel_controls_i + C8EV_International_travel_controls_j |\n",
    " log(deaths_i) + log(deaths_j) \n",
    " ~ \n",
    "H6M_Facial_Coverings_i+H6M_Facial_Coverings_j\n",
    "+\n",
    "population_density + population_density_j\n",
    "  ,\n",
    " data = df\n",
    " )\n",
    "pulled_tsls %>% summary(vcov = ~i+j)"
   ]
  },
  {
   "cell_type": "code",
   "execution_count": 51,
   "metadata": {
    "vscode": {
     "languageId": "r"
    }
   },
   "outputs": [
    {
     "name": "stderr",
     "output_type": "stream",
     "text": [
      "NOTE: 13,906 observations removed because of NA and infinite values (RHS: 9,802, IV: 6,067/10,661).\n",
      "\n"
     ]
    },
    {
     "data": {
      "text/plain": [
       "TSLS estimation - Dep. Var.: log(v/v19)\n",
       "                  Endo.    : log(deaths_i), log(deaths_j)\n",
       "                  Instr.   : median_age_i, median_age_j, H6M_Facial_Coverings_i, H6M_Facial_Coverings_j, population_density, population_density_j\n",
       "Second stage: Dep. Var.: log(v/v19)\n",
       "Observations: 56,401\n",
       "Fixed-effects: year: 3\n",
       "Standard-errors: Clustered (i & j) \n",
       "                                      Estimate Std. Error   t value Pr(>|t|)\n",
       "fit_log(deaths_i)                    -0.001246   0.007454 -0.167119 0.867470\n",
       "fit_log(deaths_j)                    -0.006622   0.006354 -1.042260 0.298737\n",
       "C8EV_International_travel_controls_i -0.000548   0.013922 -0.039367 0.968643\n",
       "C8EV_International_travel_controls_j -0.027118   0.013303 -2.038542 0.043009\n",
       "                                        \n",
       "fit_log(deaths_i)                       \n",
       "fit_log(deaths_j)                       \n",
       "C8EV_International_travel_controls_i    \n",
       "C8EV_International_travel_controls_j *  \n",
       "---\n",
       "Signif. codes:  0 '***' 0.001 '**' 0.01 '*' 0.05 '.' 0.1 ' ' 1\n",
       "RMSE: 0.995775     Adj. R2: 0.015416\n",
       "                 Within R2: 2.682e-4\n",
       "F-test (1st stage), log(deaths_i): stat = 7,515.0     , p < 2.2e-16 , on 6 and 56,392 DoF.\n",
       "F-test (1st stage), log(deaths_j): stat = 8,009.6     , p < 2.2e-16 , on 6 and 56,392 DoF.\n",
       "                       Wu-Hausman: stat =     0.620671, p = 0.537587, on 2 and 56,392 DoF.\n",
       "                           Sargan: stat =    17.7     , p = 0.001394, on 4 DoF."
      ]
     },
     "metadata": {},
     "output_type": "display_data"
    }
   ],
   "source": [
    "# Только FE года (инструменты эндогенные)\n",
    "fe_iv_year = feols(log(v/v19) ~  1 +\n",
    " C8EV_International_travel_controls_i + C8EV_International_travel_controls_j | year|\n",
    " log(deaths_i) + log(deaths_j) ~ \n",
    " median_age_i + median_age_j \n",
    "+\n",
    "H6M_Facial_Coverings_i+H6M_Facial_Coverings_j\n",
    "+\n",
    "  population_density + population_density_j\n",
    " ,\n",
    " data = df\n",
    " )\n",
    "fe_iv_year %>% summary(cluster = ~ i+j)"
   ]
  },
  {
   "cell_type": "code",
   "execution_count": 52,
   "metadata": {
    "vscode": {
     "languageId": "r"
    }
   },
   "outputs": [
    {
     "name": "stderr",
     "output_type": "stream",
     "text": [
      "NOTE: 13,906 observations removed because of NA and infinite values (RHS: 9,802, IV: 6,067/10,661).\n",
      "\n"
     ]
    },
    {
     "data": {
      "text/plain": [
       "TSLS estimation - Dep. Var.: log(v/v19)\n",
       "                  Endo.    : log(deaths_i), log(deaths_j)\n",
       "                  Instr.   : H6M_Facial_Coverings_i, H6M_Facial_Coverings_j, C1M_School_closing_i, C1M_School_closing_j, median_age_i, median_age_j, population_density_i, population_density_j\n",
       "Second stage: Dep. Var.: log(v/v19)\n",
       "Observations: 56,401\n",
       "Fixed-effects: year: 3,  i: 175,  j: 175\n",
       "Standard-errors: Clustered (i & j) \n",
       "                                      Estimate Std. Error   t value Pr(>|t|)\n",
       "fit_log(deaths_i)                    -0.057844   0.023691 -2.441643 0.015621\n",
       "fit_log(deaths_j)                     0.009690   0.021422  0.452308 0.651610\n",
       "C8EV_International_travel_controls_i -0.038695   0.018131 -2.134269 0.034221\n",
       "C8EV_International_travel_controls_j -0.012589   0.013998 -0.899347 0.369711\n",
       "                                        \n",
       "fit_log(deaths_i)                    *  \n",
       "fit_log(deaths_j)                       \n",
       "C8EV_International_travel_controls_i *  \n",
       "C8EV_International_travel_controls_j    \n",
       "---\n",
       "Signif. codes:  0 '***' 0.001 '**' 0.01 '*' 0.05 '.' 0.1 ' ' 1\n",
       "RMSE: 0.981746     Adj. R2:  0.037021\n",
       "                 Within R2: -0.001092\n",
       "F-test (1st stage), log(deaths_i): stat = 738.3    , p < 2.2e-16 , on 8 and 56,042 DoF.\n",
       "F-test (1st stage), log(deaths_j): stat = 721.0    , p < 2.2e-16 , on 8 and 56,042 DoF.\n",
       "                       Wu-Hausman: stat =   3.91184, p = 0.020009, on 2 and 56,044 DoF.\n",
       "                           Sargan: stat =  13.3    , p = 0.038024, on 6 DoF."
      ]
     },
     "metadata": {},
     "output_type": "display_data"
    }
   ],
   "source": [
    "# Маски эндогенные :(\n",
    "feols(log(v/v19) ~  1 +\n",
    " C8EV_International_travel_controls_i + C8EV_International_travel_controls_j | year+i+j|\n",
    " log(deaths_i) + log(deaths_j) ~ \n",
    "H6M_Facial_Coverings_i+H6M_Facial_Coverings_j\n",
    "+\n",
    "C1M_School_closing_i+C1M_School_closing_j\n",
    "+\n",
    "median_age_i + median_age_j\n",
    "+\n",
    "population_density_i + population_density_j\n",
    "\n",
    " ,\n",
    " data = df\n",
    " ) %>% summary(cluster = ~ i+j)"
   ]
  },
  {
   "cell_type": "code",
   "execution_count": 53,
   "metadata": {
    "vscode": {
     "languageId": "r"
    }
   },
   "outputs": [
    {
     "name": "stderr",
     "output_type": "stream",
     "text": [
      "NOTE: 13,906 observations removed because of NA and infinite values (RHS: 9,802, IV: 6,067/10,661).\n",
      "\n"
     ]
    },
    {
     "data": {
      "text/plain": [
       "TSLS estimation - Dep. Var.: log(v/v19)\n",
       "                  Endo.    : log(deaths_i), log(deaths_j)\n",
       "                  Instr.   : C1M_School_closing_i, C1M_School_closing_j, median_age_i, median_age_j, population_density_i, population_density_j\n",
       "Second stage: Dep. Var.: log(v/v19)\n",
       "Observations: 56,401\n",
       "Fixed-effects: year: 3,  i: 175,  j: 175\n",
       "Standard-errors: Clustered (i & j) \n",
       "                                      Estimate Std. Error   t value Pr(>|t|)\n",
       "fit_log(deaths_i)                    -0.060122   0.024117 -2.492990 0.013602\n",
       "fit_log(deaths_j)                     0.019263   0.021785  0.884262 0.377775\n",
       "C8EV_International_travel_controls_i -0.039837   0.018595 -2.142345 0.033556\n",
       "C8EV_International_travel_controls_j -0.008328   0.013863 -0.600745 0.548791\n",
       "                                        \n",
       "fit_log(deaths_i)                    *  \n",
       "fit_log(deaths_j)                       \n",
       "C8EV_International_travel_controls_i *  \n",
       "C8EV_International_travel_controls_j    \n",
       "---\n",
       "Signif. codes:  0 '***' 0.001 '**' 0.01 '*' 0.05 '.' 0.1 ' ' 1\n",
       "RMSE: 0.981936     Adj. R2:  0.036649\n",
       "                 Within R2: -0.001478\n",
       "F-test (1st stage), log(deaths_i): stat = 948.9    , p < 2.2e-16 , on 6 and 56,044 DoF.\n",
       "F-test (1st stage), log(deaths_j): stat = 919.6    , p < 2.2e-16 , on 6 and 56,044 DoF.\n",
       "                       Wu-Hausman: stat =   4.75857, p = 0.008581, on 2 and 56,044 DoF.\n",
       "                           Sargan: stat =   4.68934, p = 0.320684, on 4 DoF."
      ]
     },
     "metadata": {},
     "output_type": "display_data"
    }
   ],
   "source": [
    "# Спецификация с фиксированными эффектами, куда я добавил инструменты, чтобы убрать потенциальную двустороннюю связь. \n",
    "# Добавить больше инструментов, которые меняются во времени. Мб плотность населения или медианный возраст брать не за 2019 год а в динамике, \n",
    "# чтобы использовать их как инструменты в этой спецификации.\n",
    "fe_iv = feols(log(v/v19) ~  1 +\n",
    " C8EV_International_travel_controls_i + C8EV_International_travel_controls_j | year+i+j|\n",
    " log(deaths_i) + log(deaths_j) ~ \n",
    "# H6M_Facial_Coverings_i+H6M_Facial_Coverings_j\n",
    "# +\n",
    "C1M_School_closing_i+C1M_School_closing_j\n",
    "+\n",
    "median_age_i + median_age_j\n",
    "+\n",
    "population_density_i + population_density_j\n",
    "# +\n",
    "# average_surface_temperature_i + average_surface_temperature_j # Добавляет пропусков\n",
    "\n",
    " ,\n",
    " data = df\n",
    " )\n",
    "fe_iv %>% summary(cluster = ~ i+j)"
   ]
  },
  {
   "cell_type": "code",
   "execution_count": 54,
   "metadata": {
    "vscode": {
     "languageId": "r"
    }
   },
   "outputs": [
    {
     "name": "stderr",
     "output_type": "stream",
     "text": [
      "NOTE: 13,906 observations removed because of NA and infinite values (IV: 13,568/10,661).\n",
      "\n"
     ]
    },
    {
     "data": {
      "text/plain": [
       "TSLS estimation - Dep. Var.: log(v/v19)\n",
       "                  Endo.    : log(deaths_i), log(deaths_j), C8EV_International_travel_controls_i, C8EV_International_travel_controls_j\n",
       "                  Instr.   : C1M_School_closing_i, C1M_School_closing_j, median_age_i, median_age_j, population_density_i, population_density_j\n",
       "Second stage: Dep. Var.: log(v/v19)\n",
       "Observations: 56,401\n",
       "Fixed-effects: year: 3,  i: 175,  j: 175\n",
       "Standard-errors: Clustered (i & j) \n",
       "                                          Estimate Std. Error   t value\n",
       "fit_log(deaths_i)                        -0.039481   0.028997 -1.361569\n",
       "fit_log(deaths_j)                         0.023025   0.042251  0.544964\n",
       "fit_C8EV_International_travel_controls_i -0.088341   0.070657 -1.250274\n",
       "fit_C8EV_International_travel_controls_j -0.020243   0.080973 -0.249992\n",
       "                                         Pr(>|t|) \n",
       "fit_log(deaths_i)                         0.17509 \n",
       "fit_log(deaths_j)                         0.58648 \n",
       "fit_C8EV_International_travel_controls_i  0.21288 \n",
       "fit_C8EV_International_travel_controls_j  0.80289 \n",
       "---\n",
       "Signif. codes:  0 '***' 0.001 '**' 0.01 '*' 0.05 '.' 0.1 ' ' 1\n",
       "RMSE: 0.981788     Adj. R2:  0.03694 \n",
       "                 Within R2: -0.001177\n",
       "F-test (1st stage), log(deaths_i)                       : stat = 618.4    , p < 2.2e-16 , on 6 and 56,046 DoF.\n",
       "F-test (1st stage), log(deaths_j)                       : stat = 573.6    , p < 2.2e-16 , on 6 and 56,046 DoF.\n",
       "F-test (1st stage), C8EV_International_travel_controls_i: stat = 700.6    , p < 2.2e-16 , on 6 and 56,046 DoF.\n",
       "F-test (1st stage), C8EV_International_travel_controls_j: stat = 778.3    , p < 2.2e-16 , on 6 and 56,046 DoF.\n",
       "                                              Wu-Hausman: stat =   2.54965, p = 0.037224, on 4 and 56,042 DoF.\n",
       "                                                  Sargan: stat =   4.00583, p = 0.134942, on 2 DoF."
      ]
     },
     "metadata": {},
     "output_type": "display_data"
    }
   ],
   "source": [
    "iv_both_endo = feols(log(v/v19) ~  1 | year+i+j|\n",
    " log(deaths_i) + log(deaths_j) +\n",
    " C8EV_International_travel_controls_i + C8EV_International_travel_controls_j ~ \n",
    "# H6M_Facial_Coverings_i+H6M_Facial_Coverings_j\n",
    "# +\n",
    "C1M_School_closing_i+C1M_School_closing_j\n",
    "+\n",
    "median_age_i + median_age_j\n",
    "+\n",
    "population_density_i + population_density_j\n",
    "# +\n",
    "# average_surface_temperature_i + average_surface_temperature_j # Добавляет пропусков\n",
    "\n",
    " ,\n",
    " data = df\n",
    " )\n",
    "iv_both_endo %>% summary(cluster = ~ i+j)"
   ]
  },
  {
   "cell_type": "code",
   "execution_count": 55,
   "metadata": {
    "vscode": {
     "languageId": "r"
    }
   },
   "outputs": [
    {
     "name": "stdout",
     "output_type": "stream",
     "text": [
      "Wald test, H0: joint nullity of fit_log(deaths_i), fit_log(deaths_j), fit_C8EV_International_travel_controls_i and fit_C8EV_International_travel_controls_j\n",
      " stat = 1.98393, p-value = 0.093977, on 4 and 56,046 DoF, VCOV: Clustered (i & j)."
     ]
    }
   ],
   "source": [
    "# Даже тест Вальда говорит, что ничего не значимо...\n",
    "wald(iv_both_endo, keep = 'log|C8', vcov = ~i+j)"
   ]
  },
  {
   "cell_type": "code",
   "execution_count": null,
   "metadata": {
    "vscode": {
     "languageId": "r"
    }
   },
   "outputs": [
    {
     "name": "stderr",
     "output_type": "stream",
     "text": [
      "NOTE: 13,906 observations removed because of NA and infinite values (IV: 13,568/10,661).\n",
      "\n"
     ]
    },
    {
     "data": {
      "text/plain": [
       "TSLS estimation - Dep. Var.: log(v/v19)\n",
       "                  Endo.    : log(deaths_i), log(deaths_j), C8EV_International_travel_controls_i, C8EV_International_travel_controls_j\n",
       "                  Instr.   : C1M_School_closing_i, C1M_School_closing_j, median_age_i, median_age_j, population_density_i, population_density_j\n",
       "Second stage: Dep. Var.: log(v/v19)\n",
       "Observations: 56,401\n",
       "Fixed-effects: year: 3\n",
       "Standard-errors: Clustered (i & j) \n",
       "                                          Estimate Std. Error   t value\n",
       "fit_log(deaths_i)                        -0.001573   0.007683 -0.204743\n",
       "fit_log(deaths_j)                        -0.004590   0.007171 -0.640056\n",
       "fit_C8EV_International_travel_controls_i  0.001171   0.058712  0.019943\n",
       "fit_C8EV_International_travel_controls_j -0.036391   0.057637 -0.631380\n",
       "                                         Pr(>|t|) \n",
       "fit_log(deaths_i)                         0.83801 \n",
       "fit_log(deaths_j)                         0.52298 \n",
       "fit_C8EV_International_travel_controls_i  0.98411 \n",
       "fit_C8EV_International_travel_controls_j  0.52862 \n",
       "---\n",
       "Signif. codes:  0 '***' 0.001 '**' 0.01 '*' 0.05 '.' 0.1 ' ' 1\n",
       "RMSE: 0.995786     Adj. R2: 0.015395\n",
       "                 Within R2: 2.461e-4\n",
       "F-test (1st stage), log(deaths_i)                       : stat = 7,656.7     , p < 2.2e-16 , on 6 and 56,394 DoF.\n",
       "F-test (1st stage), log(deaths_j)                       : stat = 8,181.8     , p < 2.2e-16 , on 6 and 56,394 DoF.\n",
       "F-test (1st stage), C8EV_International_travel_controls_i: stat =   700.3     , p < 2.2e-16 , on 6 and 56,394 DoF.\n",
       "F-test (1st stage), C8EV_International_travel_controls_j: stat =   723.4     , p < 2.2e-16 , on 6 and 56,394 DoF.\n",
       "                                              Wu-Hausman: stat =     0.210962, p = 0.932474, on 4 and 56,390 DoF.\n",
       "                                                  Sargan: stat =     9.47894 , p = 0.008743, on 2 DoF."
      ]
     },
     "metadata": {},
     "output_type": "display_data"
    }
   ],
   "source": [
    "# Тут всё плохо в тесте Саргана\n",
    "# Мы верим в синюю схему, поэтому такая спецификация бессмысленна. Утверждение в ВКР: если схема верна, то влияение отрицательное.\n",
    "feols(log(v/v19) ~  1 | year|\n",
    " log(deaths_i) + log(deaths_j) +\n",
    " C8EV_International_travel_controls_i + C8EV_International_travel_controls_j ~ \n",
    "# H6M_Facial_Coverings_i+H6M_Facial_Coverings_j\n",
    "# +\n",
    "C1M_School_closing_i+C1M_School_closing_j\n",
    "+\n",
    "median_age_i + median_age_j\n",
    "+\n",
    "population_density_i + population_density_j\n",
    "# +\n",
    "# average_surface_temperature_i + average_surface_temperature_j # Добавляет пропусков\n",
    "\n",
    " ,\n",
    " data = df\n",
    " ) %>% summary(cluster = ~ i+j)"
   ]
  },
  {
   "cell_type": "code",
   "execution_count": 56,
   "metadata": {
    "vscode": {
     "languageId": "r"
    }
   },
   "outputs": [
    {
     "name": "stderr",
     "output_type": "stream",
     "text": [
      "NOTE: 17,571 observations removed because of NA and infinite values (IV: 13,568/15,000).\n",
      "\n"
     ]
    },
    {
     "data": {
      "text/plain": [
       "TSLS estimation - Dep. Var.: log(v/v19)\n",
       "                  Endo.    : log(deaths_i), log(deaths_j), C8EV_International_travel_controls_i, C8EV_International_travel_controls_j\n",
       "                  Instr.   : C1M_School_closing_i, C1M_School_closing_j, median_age_i, median_age_j, population_density_i, population_density_j, average_surface_temperature_i, average_surface_temperature_j\n",
       "Second stage: Dep. Var.: log(v/v19)\n",
       "Observations: 52,736\n",
       "Fixed-effects: year: 3,  i: 166,  j: 166\n",
       "Standard-errors: Clustered (i & j) \n",
       "                                          Estimate Std. Error   t value\n",
       "fit_log(deaths_i)                        -0.064510   0.050350 -1.281246\n",
       "fit_log(deaths_j)                         0.070782   0.035221  2.009671\n",
       "fit_C8EV_International_travel_controls_i -0.049153   0.096618 -0.508742\n",
       "fit_C8EV_International_travel_controls_j -0.079520   0.066498 -1.195819\n",
       "                                         Pr(>|t|)    \n",
       "fit_log(deaths_i)                        0.201905    \n",
       "fit_log(deaths_j)                        0.046096 *  \n",
       "fit_C8EV_International_travel_controls_i 0.611613    \n",
       "fit_C8EV_International_travel_controls_j 0.233483    \n",
       "---\n",
       "Signif. codes:  0 '***' 0.001 '**' 0.01 '*' 0.05 '.' 0.1 ' ' 1\n",
       "RMSE: 0.976019     Adj. R2:  0.033396\n",
       "                 Within R2: -0.007097\n",
       "F-test (1st stage), log(deaths_i)                       : stat = 416.1    , p < 2.2e-16 , on 8 and 52,397 DoF.\n",
       "F-test (1st stage), log(deaths_j)                       : stat = 396.3    , p < 2.2e-16 , on 8 and 52,397 DoF.\n",
       "F-test (1st stage), C8EV_International_travel_controls_i: stat = 527.9    , p < 2.2e-16 , on 8 and 52,397 DoF.\n",
       "F-test (1st stage), C8EV_International_travel_controls_j: stat = 587.3    , p < 2.2e-16 , on 8 and 52,397 DoF.\n",
       "                                              Wu-Hausman: stat =   4.52134, p = 0.001189, on 4 and 52,395 DoF.\n",
       "                                                  Sargan: stat =   6.42557, p = 0.169541, on 4 DoF."
      ]
     },
     "metadata": {},
     "output_type": "display_data"
    },
    {
     "name": "stdout",
     "output_type": "stream",
     "text": [
      "Wald test, H0: joint nullity of fit_log(deaths_i), fit_log(deaths_j), fit_C8EV_International_travel_controls_i and fit_C8EV_International_travel_controls_j\n",
      " stat = 2.5918, p-value = 0.034688, on 4 and 52,399 DoF, VCOV: Clustered (i & j)."
     ]
    }
   ],
   "source": [
    "# Но если добавить температуру как инструмент, то значимость появляется...\n",
    "iv_both_endo_temperature = feols(log(v/v19) ~  1 | year+i+j|\n",
    " log(deaths_i) + log(deaths_j) +\n",
    " C8EV_International_travel_controls_i + C8EV_International_travel_controls_j ~ \n",
    "# H6M_Facial_Coverings_i+H6M_Facial_Coverings_j\n",
    "# +\n",
    "C1M_School_closing_i+C1M_School_closing_j\n",
    "+\n",
    "median_age_i + median_age_j\n",
    "+\n",
    "population_density_i + population_density_j\n",
    "+\n",
    "average_surface_temperature_i + average_surface_temperature_j # Добавляет пропусков\n",
    "\n",
    " ,\n",
    " data = df\n",
    " )\n",
    "iv_both_endo_temperature %>% summary(cluster = ~ i+j)\n",
    "wald(iv_both_endo_temperature, keep = 'log|C8', vcov = ~i+j)"
   ]
  },
  {
   "cell_type": "code",
   "execution_count": null,
   "metadata": {
    "vscode": {
     "languageId": "r"
    }
   },
   "outputs": [
    {
     "name": "stderr",
     "output_type": "stream",
     "text": [
      "NOTE: 13,906 observations removed because of NA and infinite values (RHS: 6,067, IV: 9,802/10,661).\n",
      "\n"
     ]
    },
    {
     "data": {
      "text/plain": [
       "TSLS estimation - Dep. Var.: log(v/v19)\n",
       "                  Endo.    : C8EV_International_travel_controls_i, C8EV_International_travel_controls_j\n",
       "                  Instr.   : C1M_School_closing_i, C1M_School_closing_j, median_age_i, median_age_j, population_density_i, population_density_j\n",
       "Second stage: Dep. Var.: log(v/v19)\n",
       "Observations: 56,401\n",
       "Fixed-effects: year: 3,  i: 175,  j: 175\n",
       "Standard-errors: Clustered (i & j) \n",
       "                                          Estimate Std. Error   t value\n",
       "fit_C8EV_International_travel_controls_i -0.112069   0.050736 -2.208859\n",
       "fit_C8EV_International_travel_controls_j  0.012931   0.041572  0.311041\n",
       "log(deaths_i)                            -0.024355   0.008355 -2.915039\n",
       "log(deaths_j)                             0.000300   0.006404  0.046868\n",
       "                                          Pr(>|t|)    \n",
       "fit_C8EV_International_travel_controls_i 0.0284906 *  \n",
       "fit_C8EV_International_travel_controls_j 0.7561421    \n",
       "log(deaths_i)                            0.0040244 ** \n",
       "log(deaths_j)                            0.9626719    \n",
       "---\n",
       "Signif. codes:  0 '***' 0.001 '**' 0.01 '*' 0.05 '.' 0.1 ' ' 1\n",
       "RMSE: 0.9818     Adj. R2:  0.036916\n",
       "               Within R2: -0.001201\n",
       "F-test (1st stage), C8EV_International_travel_controls_i: stat = 1,033.6    , p < 2.2e-16 , on 6 and 56,044 DoF.\n",
       "F-test (1st stage), C8EV_International_travel_controls_j: stat = 1,131.1    , p < 2.2e-16 , on 6 and 56,044 DoF.\n",
       "                                              Wu-Hausman: stat =     4.71185, p = 0.008992, on 2 and 56,044 DoF.\n",
       "                                                  Sargan: stat =     4.78451, p = 0.310131, on 4 DoF."
      ]
     },
     "metadata": {},
     "output_type": "display_data"
    }
   ],
   "source": [
    "# Как будто ограничения тоже эндогенные...\n",
    "# Но в своей схеме я считаю, что они экзогенные, потому что обосновали схему.\n",
    "# Если бы они были эндогенными, то наша оценка была бы смещена куда-то\n",
    "iv_itc_endo = feols(log(v/v19) ~  1 + log(deaths_i) + log(deaths_j) | year+i+j|\n",
    " C8EV_International_travel_controls_i + C8EV_International_travel_controls_j ~ \n",
    "# H6M_Facial_Coverings_i+H6M_Facial_Coverings_j\n",
    "# +\n",
    "C1M_School_closing_i+C1M_School_closing_j\n",
    "+\n",
    "median_age_i + median_age_j\n",
    "+\n",
    "population_density_i + population_density_j\n",
    "# +\n",
    "# average_surface_temperature_i + average_surface_temperature_j # Добавляет пропусков\n",
    "\n",
    " ,\n",
    " data = df\n",
    " )\n",
    "iv_itc_endo %>% summary(cluster = ~ i+j)"
   ]
  },
  {
   "cell_type": "code",
   "execution_count": 58,
   "metadata": {
    "vscode": {
     "languageId": "r"
    }
   },
   "outputs": [
    {
     "name": "stderr",
     "output_type": "stream",
     "text": [
      "NOTE: 10,661 observations removed because of NA values (IV: 9,802/10,661).\n",
      "\n"
     ]
    },
    {
     "data": {
      "text/plain": [
       "TSLS estimation - Dep. Var.: log(v/v19)\n",
       "                  Endo.    : C8EV_International_travel_controls_i, C8EV_International_travel_controls_j\n",
       "                  Instr.   : C1M_School_closing_i, C1M_School_closing_j, median_age_i, median_age_j, population_density_i, population_density_j\n",
       "Second stage: Dep. Var.: log(v/v19)\n",
       "Observations: 59,646\n",
       "Fixed-effects: year: 3,  i: 178,  j: 178\n",
       "Standard-errors: Clustered (i & j) \n",
       "                                          Estimate Std. Error   t value\n",
       "fit_C8EV_International_travel_controls_i -0.141839   0.060640 -2.339034\n",
       "fit_C8EV_International_travel_controls_j  0.019681   0.049138  0.400527\n",
       "                                         Pr(>|t|)    \n",
       "fit_C8EV_International_travel_controls_i  0.02045 *  \n",
       "fit_C8EV_International_travel_controls_j  0.68925    \n",
       "---\n",
       "Signif. codes:  0 '***' 0.001 '**' 0.01 '*' 0.05 '.' 0.1 ' ' 1\n",
       "RMSE: 0.987093     Adj. R2:  0.035325\n",
       "                 Within R2: -0.002872\n",
       "F-test (1st stage), C8EV_International_travel_controls_i: stat = 719.1    , p < 2.2e-16 , on 6 and 59,285 DoF.\n",
       "F-test (1st stage), C8EV_International_travel_controls_j: stat = 750.5    , p < 2.2e-16 , on 6 and 59,285 DoF.\n",
       "                                              Wu-Hausman: stat =   6.59034, p = 0.001375, on 2 and 59,285 DoF.\n",
       "                                                  Sargan: stat =   6.10351, p = 0.19155 , on 4 DoF."
      ]
     },
     "metadata": {},
     "output_type": "display_data"
    }
   ],
   "source": [
    "# Как будто ограничения тоже эндогенные...\n",
    "m8 = feols(log(v/v19) ~  1 | year+i+j|\n",
    " C8EV_International_travel_controls_i + C8EV_International_travel_controls_j ~ \n",
    "# H6M_Facial_Coverings_i+H6M_Facial_Coverings_j\n",
    "# +\n",
    "C1M_School_closing_i+C1M_School_closing_j\n",
    "+\n",
    "median_age_i + median_age_j\n",
    "+\n",
    "population_density_i + population_density_j\n",
    "# +\n",
    "# average_surface_temperature_i + average_surface_temperature_j # Добавляет пропусков\n",
    "\n",
    " ,\n",
    " data = df\n",
    " )\n",
    "m8 %>% summary(cluster = ~ i+j)"
   ]
  },
  {
   "cell_type": "code",
   "execution_count": 59,
   "metadata": {
    "vscode": {
     "languageId": "r"
    }
   },
   "outputs": [
    {
     "name": "stderr",
     "output_type": "stream",
     "text": [
      "NOTE: 13,906 observations removed because of NA and infinite values (IV: 6,067/10,661).\n",
      "\n"
     ]
    },
    {
     "data": {
      "text/plain": [
       "TSLS estimation - Dep. Var.: log(v/v19)\n",
       "                  Endo.    : log(deaths_i), log(deaths_j)\n",
       "                  Instr.   : C1M_School_closing_i, C1M_School_closing_j, median_age_i, median_age_j, population_density_i, population_density_j\n",
       "Second stage: Dep. Var.: log(v/v19)\n",
       "Observations: 56,401\n",
       "Fixed-effects: year: 3,  i: 175,  j: 175\n",
       "Standard-errors: Clustered (i & j) \n",
       "                   Estimate Std. Error   t value Pr(>|t|)    \n",
       "fit_log(deaths_i) -0.073065   0.029231 -2.499539 0.013362 *  \n",
       "fit_log(deaths_j)  0.017674   0.024206  0.730150 0.466280    \n",
       "---\n",
       "Signif. codes:  0 '***' 0.001 '**' 0.01 '*' 0.05 '.' 0.1 ' ' 1\n",
       "RMSE: 0.982531     Adj. R2:  0.035516\n",
       "                 Within R2: -0.002692\n",
       "F-test (1st stage), log(deaths_i): stat = 618.4    , p < 2.2e-16 , on 6 and 56,046 DoF.\n",
       "F-test (1st stage), log(deaths_j): stat = 573.6    , p < 2.2e-16 , on 6 and 56,046 DoF.\n",
       "                       Wu-Hausman: stat =   4.95255, p = 0.007068, on 2 and 56,046 DoF.\n",
       "                           Sargan: stat =   6.15726, p = 0.187708, on 4 DoF."
      ]
     },
     "metadata": {},
     "output_type": "display_data"
    }
   ],
   "source": [
    "m9 = feols(log(v/v19) ~  1 | year+i+j|\n",
    " log(deaths_i) + log(deaths_j) ~ \n",
    "# H6M_Facial_Coverings_i+H6M_Facial_Coverings_j\n",
    "# +\n",
    "C1M_School_closing_i+C1M_School_closing_j\n",
    "+\n",
    "median_age_i + median_age_j\n",
    "+\n",
    "population_density_i + population_density_j\n",
    "# +\n",
    "# average_surface_temperature_i + average_surface_temperature_j # Добавляет пропусков\n",
    "\n",
    " ,\n",
    " data = df\n",
    " )\n",
    "m9 %>% summary(cluster = ~ i+j)"
   ]
  },
  {
   "cell_type": "code",
   "execution_count": null,
   "metadata": {
    "vscode": {
     "languageId": "r"
    }
   },
   "outputs": [
    {
     "data": {
      "text/html": [
       "<table class=\"dataframe\">\n",
       "<caption>A etable_df: 16 × 7</caption>\n",
       "<thead>\n",
       "\t<tr><th></th><th scope=col></th><th scope=col>pulled_tsls</th><th scope=col>fe_iv_year</th><th scope=col>fe_iv</th><th scope=col>iv_both_endo</th><th scope=col>iv_both_endo_t..</th><th scope=col>iv_itc_endo</th></tr>\n",
       "\t<tr><th></th><th scope=col>&lt;chr&gt;</th><th scope=col>&lt;chr&gt;</th><th scope=col>&lt;chr&gt;</th><th scope=col>&lt;chr&gt;</th><th scope=col>&lt;chr&gt;</th><th scope=col>&lt;chr&gt;</th><th scope=col>&lt;chr&gt;</th></tr>\n",
       "</thead>\n",
       "<tbody>\n",
       "\t<tr><th scope=row>1</th><td>Dependent Var.:                     </td><td>log(v/v19)        </td><td>log(v/v19)       </td><td>log(v/v19)       </td><td>log(v/v19)      </td><td>log(v/v19)      </td><td>log(v/v19)        </td></tr>\n",
       "\t<tr><th scope=row>2</th><td>                                    </td><td>                  </td><td>                 </td><td>                 </td><td>                </td><td>                </td><td>                  </td></tr>\n",
       "\t<tr><th scope=row>3</th><td>Constant                            </td><td>0.4759*** (0.0658)</td><td>                 </td><td>                 </td><td>                </td><td>                </td><td>                  </td></tr>\n",
       "\t<tr><th scope=row>4</th><td>log(deaths_i)                       </td><td>0.0361 (0.0711)   </td><td>-0.0012 (0.0075) </td><td>-0.0601* (0.0241)</td><td>-0.0395 (0.0290)</td><td>-0.0645 (0.0503)</td><td>-0.0244** (0.0084)</td></tr>\n",
       "\t<tr><th scope=row>5</th><td>log(deaths_j)                       </td><td>0.1271* (0.0533)  </td><td>-0.0066 (0.0064) </td><td>0.0193 (0.0218)  </td><td>0.0230 (0.0423) </td><td>0.0708* (0.0352)</td><td>0.0003 (0.0064)   </td></tr>\n",
       "\t<tr><th scope=row>6</th><td>C8EV_International_travel_controls_i</td><td>-0.0700** (0.0227)</td><td>-0.0005 (0.0139) </td><td>-0.0398* (0.0186)</td><td>-0.0883 (0.0707)</td><td>-0.0491 (0.0966)</td><td>-0.1121* (0.0507) </td></tr>\n",
       "\t<tr><th scope=row>7</th><td>C8EV_International_travel_controls_j</td><td>-0.0651* (0.0277) </td><td>-0.0271* (0.0133)</td><td>-0.0083 (0.0139) </td><td>-0.0202 (0.0810)</td><td>-0.0795 (0.0665)</td><td>0.0129 (0.0416)   </td></tr>\n",
       "\t<tr><th scope=row>8</th><td>Fixed-Effects:                      </td><td>------------------</td><td>-----------------</td><td>-----------------</td><td>----------------</td><td>----------------</td><td>------------------</td></tr>\n",
       "\t<tr><th scope=row>9</th><td>year                                </td><td>No                </td><td>Yes              </td><td>Yes              </td><td>Yes             </td><td>Yes             </td><td>Yes               </td></tr>\n",
       "\t<tr><th scope=row>10</th><td>i                                   </td><td>No                </td><td>No               </td><td>Yes              </td><td>Yes             </td><td>Yes             </td><td>Yes               </td></tr>\n",
       "\t<tr><th scope=row>11</th><td>j                                   </td><td>No                </td><td>No               </td><td>Yes              </td><td>Yes             </td><td>Yes             </td><td>Yes               </td></tr>\n",
       "\t<tr><th scope=row>12</th><td>____________________________________</td><td>__________________</td><td>_________________</td><td>_________________</td><td>________________</td><td>________________</td><td>__________________</td></tr>\n",
       "\t<tr><th scope=row>13</th><td><span style=white-space:pre-wrap>S.E.: Clustered                     </span></td><td><span style=white-space:pre-wrap>by: i &amp; j         </span></td><td><span style=white-space:pre-wrap>by: i &amp; j        </span></td><td><span style=white-space:pre-wrap>by: i &amp; j        </span></td><td><span style=white-space:pre-wrap>by: i &amp; j       </span></td><td><span style=white-space:pre-wrap>by: i &amp; j       </span></td><td><span style=white-space:pre-wrap>by: i &amp; j         </span></td></tr>\n",
       "\t<tr><th scope=row>14</th><td>Observations                        </td><td>56,401            </td><td>56,401           </td><td>56,401           </td><td>56,401          </td><td>52,736          </td><td>56,401            </td></tr>\n",
       "\t<tr><th scope=row>15</th><td>R2                                  </td><td>-0.06220          </td><td>0.01552          </td><td>0.04270          </td><td>0.04298         </td><td>0.03955         </td><td>0.04296           </td></tr>\n",
       "\t<tr><th scope=row>16</th><td>Within R2                           </td><td>--                </td><td>0.00027          </td><td>-0.00148         </td><td>-0.00118        </td><td>-0.00710        </td><td>-0.00120          </td></tr>\n",
       "</tbody>\n",
       "</table>\n"
      ],
      "text/latex": [
       "A etable\\_df: 16 × 7\n",
       "\\begin{tabular}{r|lllllll}\n",
       "  &  & pulled\\_tsls & fe\\_iv\\_year & fe\\_iv & iv\\_both\\_endo & iv\\_both\\_endo\\_t.. & iv\\_itc\\_endo\\\\\n",
       "  & <chr> & <chr> & <chr> & <chr> & <chr> & <chr> & <chr>\\\\\n",
       "\\hline\n",
       "\t1 & Dependent Var.:                      & log(v/v19)         & log(v/v19)        & log(v/v19)        & log(v/v19)       & log(v/v19)       & log(v/v19)        \\\\\n",
       "\t2 &                                      &                    &                   &                   &                  &                  &                   \\\\\n",
       "\t3 & Constant                             & 0.4759*** (0.0658) &                   &                   &                  &                  &                   \\\\\n",
       "\t4 & log(deaths\\_i)                        & 0.0361 (0.0711)    & -0.0012 (0.0075)  & -0.0601* (0.0241) & -0.0395 (0.0290) & -0.0645 (0.0503) & -0.0244** (0.0084)\\\\\n",
       "\t5 & log(deaths\\_j)                        & 0.1271* (0.0533)   & -0.0066 (0.0064)  & 0.0193 (0.0218)   & 0.0230 (0.0423)  & 0.0708* (0.0352) & 0.0003 (0.0064)   \\\\\n",
       "\t6 & C8EV\\_International\\_travel\\_controls\\_i & -0.0700** (0.0227) & -0.0005 (0.0139)  & -0.0398* (0.0186) & -0.0883 (0.0707) & -0.0491 (0.0966) & -0.1121* (0.0507) \\\\\n",
       "\t7 & C8EV\\_International\\_travel\\_controls\\_j & -0.0651* (0.0277)  & -0.0271* (0.0133) & -0.0083 (0.0139)  & -0.0202 (0.0810) & -0.0795 (0.0665) & 0.0129 (0.0416)   \\\\\n",
       "\t8 & Fixed-Effects:                       & ------------------ & ----------------- & ----------------- & ---------------- & ---------------- & ------------------\\\\\n",
       "\t9 & year                                 & No                 & Yes               & Yes               & Yes              & Yes              & Yes               \\\\\n",
       "\t10 & i                                    & No                 & No                & Yes               & Yes              & Yes              & Yes               \\\\\n",
       "\t11 & j                                    & No                 & No                & Yes               & Yes              & Yes              & Yes               \\\\\n",
       "\t12 & \\_\\_\\_\\_\\_\\_\\_\\_\\_\\_\\_\\_\\_\\_\\_\\_\\_\\_\\_\\_\\_\\_\\_\\_\\_\\_\\_\\_\\_\\_\\_\\_\\_\\_\\_\\_ & \\_\\_\\_\\_\\_\\_\\_\\_\\_\\_\\_\\_\\_\\_\\_\\_\\_\\_ & \\_\\_\\_\\_\\_\\_\\_\\_\\_\\_\\_\\_\\_\\_\\_\\_\\_ & \\_\\_\\_\\_\\_\\_\\_\\_\\_\\_\\_\\_\\_\\_\\_\\_\\_ & \\_\\_\\_\\_\\_\\_\\_\\_\\_\\_\\_\\_\\_\\_\\_\\_ & \\_\\_\\_\\_\\_\\_\\_\\_\\_\\_\\_\\_\\_\\_\\_\\_ & \\_\\_\\_\\_\\_\\_\\_\\_\\_\\_\\_\\_\\_\\_\\_\\_\\_\\_\\\\\n",
       "\t13 & S.E.: Clustered                      & by: i \\& j          & by: i \\& j         & by: i \\& j         & by: i \\& j        & by: i \\& j        & by: i \\& j         \\\\\n",
       "\t14 & Observations                         & 56,401             & 56,401            & 56,401            & 56,401           & 52,736           & 56,401            \\\\\n",
       "\t15 & R2                                   & -0.06220           & 0.01552           & 0.04270           & 0.04298          & 0.03955          & 0.04296           \\\\\n",
       "\t16 & Within R2                            & --                 & 0.00027           & -0.00148          & -0.00118         & -0.00710         & -0.00120          \\\\\n",
       "\\end{tabular}\n"
      ],
      "text/markdown": [
       "\n",
       "A etable_df: 16 × 7\n",
       "\n",
       "| <!--/--> | <!----> &lt;chr&gt; | pulled_tsls &lt;chr&gt; | fe_iv_year &lt;chr&gt; | fe_iv &lt;chr&gt; | iv_both_endo &lt;chr&gt; | iv_both_endo_t.. &lt;chr&gt; | iv_itc_endo &lt;chr&gt; |\n",
       "|---|---|---|---|---|---|---|---|\n",
       "| 1 | Dependent Var.:                      | log(v/v19)         | log(v/v19)        | log(v/v19)        | log(v/v19)       | log(v/v19)       | log(v/v19)         |\n",
       "| 2 | <!----> | <!----> | <!----> | <!----> | <!----> | <!----> | <!----> |\n",
       "| 3 | Constant                             | 0.4759*** (0.0658) | <!----> | <!----> | <!----> | <!----> | <!----> |\n",
       "| 4 | log(deaths_i)                        | 0.0361 (0.0711)    | -0.0012 (0.0075)  | -0.0601* (0.0241) | -0.0395 (0.0290) | -0.0645 (0.0503) | -0.0244** (0.0084) |\n",
       "| 5 | log(deaths_j)                        | 0.1271* (0.0533)   | -0.0066 (0.0064)  | 0.0193 (0.0218)   | 0.0230 (0.0423)  | 0.0708* (0.0352) | 0.0003 (0.0064)    |\n",
       "| 6 | C8EV_International_travel_controls_i | -0.0700** (0.0227) | -0.0005 (0.0139)  | -0.0398* (0.0186) | -0.0883 (0.0707) | -0.0491 (0.0966) | -0.1121* (0.0507)  |\n",
       "| 7 | C8EV_International_travel_controls_j | -0.0651* (0.0277)  | -0.0271* (0.0133) | -0.0083 (0.0139)  | -0.0202 (0.0810) | -0.0795 (0.0665) | 0.0129 (0.0416)    |\n",
       "| 8 | Fixed-Effects:                       | ------------------ | ----------------- | ----------------- | ---------------- | ---------------- | ------------------ |\n",
       "| 9 | year                                 | No                 | Yes               | Yes               | Yes              | Yes              | Yes                |\n",
       "| 10 | i                                    | No                 | No                | Yes               | Yes              | Yes              | Yes                |\n",
       "| 11 | j                                    | No                 | No                | Yes               | Yes              | Yes              | Yes                |\n",
       "| 12 | ____________________________________ | __________________ | _________________ | _________________ | ________________ | ________________ | __________________ |\n",
       "| 13 | S.E.: Clustered                      | by: i &amp; j          | by: i &amp; j         | by: i &amp; j         | by: i &amp; j        | by: i &amp; j        | by: i &amp; j          |\n",
       "| 14 | Observations                         | 56,401             | 56,401            | 56,401            | 56,401           | 52,736           | 56,401             |\n",
       "| 15 | R2                                   | -0.06220           | 0.01552           | 0.04270           | 0.04298          | 0.03955          | 0.04296            |\n",
       "| 16 | Within R2                            | --                 | 0.00027           | -0.00148          | -0.00118         | -0.00710         | -0.00120           |\n",
       "\n"
      ],
      "text/plain": [
       "                                        pulled_tsls        fe_iv_year       \n",
       "1  Dependent Var.:                      log(v/v19)         log(v/v19)       \n",
       "2                                                                           \n",
       "3  Constant                             0.4759*** (0.0658)                  \n",
       "4  log(deaths_i)                        0.0361 (0.0711)    -0.0012 (0.0075) \n",
       "5  log(deaths_j)                        0.1271* (0.0533)   -0.0066 (0.0064) \n",
       "6  C8EV_International_travel_controls_i -0.0700** (0.0227) -0.0005 (0.0139) \n",
       "7  C8EV_International_travel_controls_j -0.0651* (0.0277)  -0.0271* (0.0133)\n",
       "8  Fixed-Effects:                       ------------------ -----------------\n",
       "9  year                                 No                 Yes              \n",
       "10 i                                    No                 No               \n",
       "11 j                                    No                 No               \n",
       "12 ____________________________________ __________________ _________________\n",
       "13 S.E.: Clustered                      by: i & j          by: i & j        \n",
       "14 Observations                         56,401             56,401           \n",
       "15 R2                                   -0.06220           0.01552          \n",
       "16 Within R2                            --                 0.00027          \n",
       "   fe_iv             iv_both_endo     iv_both_endo_t.. iv_itc_endo       \n",
       "1  log(v/v19)        log(v/v19)       log(v/v19)       log(v/v19)        \n",
       "2                                                                        \n",
       "3                                                                        \n",
       "4  -0.0601* (0.0241) -0.0395 (0.0290) -0.0645 (0.0503) -0.0244** (0.0084)\n",
       "5  0.0193 (0.0218)   0.0230 (0.0423)  0.0708* (0.0352) 0.0003 (0.0064)   \n",
       "6  -0.0398* (0.0186) -0.0883 (0.0707) -0.0491 (0.0966) -0.1121* (0.0507) \n",
       "7  -0.0083 (0.0139)  -0.0202 (0.0810) -0.0795 (0.0665) 0.0129 (0.0416)   \n",
       "8  ----------------- ---------------- ---------------- ------------------\n",
       "9  Yes               Yes              Yes              Yes               \n",
       "10 Yes               Yes              Yes              Yes               \n",
       "11 Yes               Yes              Yes              Yes               \n",
       "12 _________________ ________________ ________________ __________________\n",
       "13 by: i & j         by: i & j        by: i & j        by: i & j         \n",
       "14 56,401            56,401           52,736           56,401            \n",
       "15 0.04270           0.04298          0.03955          0.04296           \n",
       "16 -0.00148          -0.00118         -0.00710         -0.00120          "
      ]
     },
     "metadata": {},
     "output_type": "display_data"
    }
   ],
   "source": [
    "# Слово влияние это экспертное мнение на основе методов\n",
    "# Температура это ложная корреляция, не надо\n",
    "# Колонка 4 --- у нас нет данных, чтобы оценить эту связь. Недоидентифицированная система (всё на всё влияет)\n",
    "etable(pulled_tsls, fe_iv_year, fe_iv, iv_both_endo, iv_both_endo_temperature, iv_itc_endo, vcov = ~i+j, signif.code = signif.code)"
   ]
  },
  {
   "cell_type": "code",
   "execution_count": 61,
   "metadata": {
    "vscode": {
     "languageId": "r"
    }
   },
   "outputs": [
    {
     "data": {
      "text/html": [
       "<table class=\"dataframe\">\n",
       "<caption>A etable_df: 16 × 7</caption>\n",
       "<thead>\n",
       "\t<tr><th></th><th scope=col></th><th scope=col>pulled_tsls</th><th scope=col>fe_iv_year</th><th scope=col>fe_iv</th><th scope=col>iv_both_endo</th><th scope=col>iv_both_endo_t..</th><th scope=col>iv_itc_endo</th></tr>\n",
       "\t<tr><th></th><th scope=col>&lt;chr&gt;</th><th scope=col>&lt;chr&gt;</th><th scope=col>&lt;chr&gt;</th><th scope=col>&lt;chr&gt;</th><th scope=col>&lt;chr&gt;</th><th scope=col>&lt;chr&gt;</th><th scope=col>&lt;chr&gt;</th></tr>\n",
       "</thead>\n",
       "<tbody>\n",
       "\t<tr><th scope=row>1</th><td>Dependent Var.:                     </td><td>log(v/v19)       </td><td>log(v/v19)      </td><td>log(v/v19)      </td><td>log(v/v19)      </td><td>log(v/v19)      </td><td>log(v/v19)       </td></tr>\n",
       "\t<tr><th scope=row>2</th><td>                                    </td><td>                 </td><td>                </td><td>                </td><td>                </td><td>                </td><td>                 </td></tr>\n",
       "\t<tr><th scope=row>3</th><td>Constant                            </td><td>0.4759** (0.0275)</td><td>                </td><td>                </td><td>                </td><td>                </td><td>                 </td></tr>\n",
       "\t<tr><th scope=row>4</th><td>log(deaths_i)                       </td><td>0.0361 (0.0241)  </td><td>-0.0012 (0.0048)</td><td>-0.0601 (0.0207)</td><td>-0.0395 (0.0366)</td><td>-0.0645 (0.0373)</td><td>-0.0244. (0.0065)</td></tr>\n",
       "\t<tr><th scope=row>5</th><td>log(deaths_j)                       </td><td>0.1271* (0.0245) </td><td>-0.0066 (0.0043)</td><td>0.0193 (0.0187) </td><td>0.0230 (0.0331) </td><td>0.0708 (0.0278) </td><td>0.0003 (0.0066)  </td></tr>\n",
       "\t<tr><th scope=row>6</th><td>C8EV_International_travel_controls_i</td><td>-0.0700* (0.0102)</td><td>-0.0005 (0.0096)</td><td>-0.0398 (0.0154)</td><td>-0.0883 (0.0665)</td><td>-0.0491 (0.0639)</td><td>-0.1121 (0.0412) </td></tr>\n",
       "\t<tr><th scope=row>7</th><td>C8EV_International_travel_controls_j</td><td>-0.0651* (0.0101)</td><td>-0.0271 (0.0094)</td><td>-0.0083 (0.0142)</td><td>-0.0202 (0.0635)</td><td>-0.0795 (0.0515)</td><td>0.0129 (0.0371)  </td></tr>\n",
       "\t<tr><th scope=row>8</th><td>Fixed-Effects:                      </td><td>-----------------</td><td>----------------</td><td>----------------</td><td>----------------</td><td>----------------</td><td>-----------------</td></tr>\n",
       "\t<tr><th scope=row>9</th><td>year                                </td><td>No               </td><td>Yes             </td><td>Yes             </td><td>Yes             </td><td>Yes             </td><td>Yes              </td></tr>\n",
       "\t<tr><th scope=row>10</th><td>i                                   </td><td>No               </td><td>No              </td><td>Yes             </td><td>Yes             </td><td>Yes             </td><td>Yes              </td></tr>\n",
       "\t<tr><th scope=row>11</th><td>j                                   </td><td>No               </td><td>No              </td><td>Yes             </td><td>Yes             </td><td>Yes             </td><td>Yes              </td></tr>\n",
       "\t<tr><th scope=row>12</th><td>____________________________________</td><td>_________________</td><td>________________</td><td>________________</td><td>________________</td><td>________________</td><td>_________________</td></tr>\n",
       "\t<tr><th scope=row>13</th><td>S.E. type                           </td><td>Newey-West (L=1) </td><td>Newey-West (L=1)</td><td>Newey-West (L=1)</td><td>Newey-West (L=1)</td><td>Newey-West (L=1)</td><td>Newey-West (L=1) </td></tr>\n",
       "\t<tr><th scope=row>14</th><td>Observations                        </td><td>56,401           </td><td>56,401          </td><td>56,401          </td><td>56,401          </td><td>52,736          </td><td>56,401           </td></tr>\n",
       "\t<tr><th scope=row>15</th><td>R2                                  </td><td>-0.06220         </td><td>0.01552         </td><td>0.04270         </td><td>0.04298         </td><td>0.03955         </td><td>0.04296          </td></tr>\n",
       "\t<tr><th scope=row>16</th><td>Within R2                           </td><td>--               </td><td>0.00027         </td><td>-0.00148        </td><td>-0.00118        </td><td>-0.00710        </td><td>-0.00120         </td></tr>\n",
       "</tbody>\n",
       "</table>\n"
      ],
      "text/latex": [
       "A etable\\_df: 16 × 7\n",
       "\\begin{tabular}{r|lllllll}\n",
       "  &  & pulled\\_tsls & fe\\_iv\\_year & fe\\_iv & iv\\_both\\_endo & iv\\_both\\_endo\\_t.. & iv\\_itc\\_endo\\\\\n",
       "  & <chr> & <chr> & <chr> & <chr> & <chr> & <chr> & <chr>\\\\\n",
       "\\hline\n",
       "\t1 & Dependent Var.:                      & log(v/v19)        & log(v/v19)       & log(v/v19)       & log(v/v19)       & log(v/v19)       & log(v/v19)       \\\\\n",
       "\t2 &                                      &                   &                  &                  &                  &                  &                  \\\\\n",
       "\t3 & Constant                             & 0.4759** (0.0275) &                  &                  &                  &                  &                  \\\\\n",
       "\t4 & log(deaths\\_i)                        & 0.0361 (0.0241)   & -0.0012 (0.0048) & -0.0601 (0.0207) & -0.0395 (0.0366) & -0.0645 (0.0373) & -0.0244. (0.0065)\\\\\n",
       "\t5 & log(deaths\\_j)                        & 0.1271* (0.0245)  & -0.0066 (0.0043) & 0.0193 (0.0187)  & 0.0230 (0.0331)  & 0.0708 (0.0278)  & 0.0003 (0.0066)  \\\\\n",
       "\t6 & C8EV\\_International\\_travel\\_controls\\_i & -0.0700* (0.0102) & -0.0005 (0.0096) & -0.0398 (0.0154) & -0.0883 (0.0665) & -0.0491 (0.0639) & -0.1121 (0.0412) \\\\\n",
       "\t7 & C8EV\\_International\\_travel\\_controls\\_j & -0.0651* (0.0101) & -0.0271 (0.0094) & -0.0083 (0.0142) & -0.0202 (0.0635) & -0.0795 (0.0515) & 0.0129 (0.0371)  \\\\\n",
       "\t8 & Fixed-Effects:                       & ----------------- & ---------------- & ---------------- & ---------------- & ---------------- & -----------------\\\\\n",
       "\t9 & year                                 & No                & Yes              & Yes              & Yes              & Yes              & Yes              \\\\\n",
       "\t10 & i                                    & No                & No               & Yes              & Yes              & Yes              & Yes              \\\\\n",
       "\t11 & j                                    & No                & No               & Yes              & Yes              & Yes              & Yes              \\\\\n",
       "\t12 & \\_\\_\\_\\_\\_\\_\\_\\_\\_\\_\\_\\_\\_\\_\\_\\_\\_\\_\\_\\_\\_\\_\\_\\_\\_\\_\\_\\_\\_\\_\\_\\_\\_\\_\\_\\_ & \\_\\_\\_\\_\\_\\_\\_\\_\\_\\_\\_\\_\\_\\_\\_\\_\\_ & \\_\\_\\_\\_\\_\\_\\_\\_\\_\\_\\_\\_\\_\\_\\_\\_ & \\_\\_\\_\\_\\_\\_\\_\\_\\_\\_\\_\\_\\_\\_\\_\\_ & \\_\\_\\_\\_\\_\\_\\_\\_\\_\\_\\_\\_\\_\\_\\_\\_ & \\_\\_\\_\\_\\_\\_\\_\\_\\_\\_\\_\\_\\_\\_\\_\\_ & \\_\\_\\_\\_\\_\\_\\_\\_\\_\\_\\_\\_\\_\\_\\_\\_\\_\\\\\n",
       "\t13 & S.E. type                            & Newey-West (L=1)  & Newey-West (L=1) & Newey-West (L=1) & Newey-West (L=1) & Newey-West (L=1) & Newey-West (L=1) \\\\\n",
       "\t14 & Observations                         & 56,401            & 56,401           & 56,401           & 56,401           & 52,736           & 56,401           \\\\\n",
       "\t15 & R2                                   & -0.06220          & 0.01552          & 0.04270          & 0.04298          & 0.03955          & 0.04296          \\\\\n",
       "\t16 & Within R2                            & --                & 0.00027          & -0.00148         & -0.00118         & -0.00710         & -0.00120         \\\\\n",
       "\\end{tabular}\n"
      ],
      "text/markdown": [
       "\n",
       "A etable_df: 16 × 7\n",
       "\n",
       "| <!--/--> | <!----> &lt;chr&gt; | pulled_tsls &lt;chr&gt; | fe_iv_year &lt;chr&gt; | fe_iv &lt;chr&gt; | iv_both_endo &lt;chr&gt; | iv_both_endo_t.. &lt;chr&gt; | iv_itc_endo &lt;chr&gt; |\n",
       "|---|---|---|---|---|---|---|---|\n",
       "| 1 | Dependent Var.:                      | log(v/v19)        | log(v/v19)       | log(v/v19)       | log(v/v19)       | log(v/v19)       | log(v/v19)        |\n",
       "| 2 | <!----> | <!----> | <!----> | <!----> | <!----> | <!----> | <!----> |\n",
       "| 3 | Constant                             | 0.4759** (0.0275) | <!----> | <!----> | <!----> | <!----> | <!----> |\n",
       "| 4 | log(deaths_i)                        | 0.0361 (0.0241)   | -0.0012 (0.0048) | -0.0601 (0.0207) | -0.0395 (0.0366) | -0.0645 (0.0373) | -0.0244. (0.0065) |\n",
       "| 5 | log(deaths_j)                        | 0.1271* (0.0245)  | -0.0066 (0.0043) | 0.0193 (0.0187)  | 0.0230 (0.0331)  | 0.0708 (0.0278)  | 0.0003 (0.0066)   |\n",
       "| 6 | C8EV_International_travel_controls_i | -0.0700* (0.0102) | -0.0005 (0.0096) | -0.0398 (0.0154) | -0.0883 (0.0665) | -0.0491 (0.0639) | -0.1121 (0.0412)  |\n",
       "| 7 | C8EV_International_travel_controls_j | -0.0651* (0.0101) | -0.0271 (0.0094) | -0.0083 (0.0142) | -0.0202 (0.0635) | -0.0795 (0.0515) | 0.0129 (0.0371)   |\n",
       "| 8 | Fixed-Effects:                       | ----------------- | ---------------- | ---------------- | ---------------- | ---------------- | ----------------- |\n",
       "| 9 | year                                 | No                | Yes              | Yes              | Yes              | Yes              | Yes               |\n",
       "| 10 | i                                    | No                | No               | Yes              | Yes              | Yes              | Yes               |\n",
       "| 11 | j                                    | No                | No               | Yes              | Yes              | Yes              | Yes               |\n",
       "| 12 | ____________________________________ | _________________ | ________________ | ________________ | ________________ | ________________ | _________________ |\n",
       "| 13 | S.E. type                            | Newey-West (L=1)  | Newey-West (L=1) | Newey-West (L=1) | Newey-West (L=1) | Newey-West (L=1) | Newey-West (L=1)  |\n",
       "| 14 | Observations                         | 56,401            | 56,401           | 56,401           | 56,401           | 52,736           | 56,401            |\n",
       "| 15 | R2                                   | -0.06220          | 0.01552          | 0.04270          | 0.04298          | 0.03955          | 0.04296           |\n",
       "| 16 | Within R2                            | --                | 0.00027          | -0.00148         | -0.00118         | -0.00710         | -0.00120          |\n",
       "\n"
      ],
      "text/plain": [
       "                                        pulled_tsls       fe_iv_year      \n",
       "1  Dependent Var.:                      log(v/v19)        log(v/v19)      \n",
       "2                                                                         \n",
       "3  Constant                             0.4759** (0.0275)                 \n",
       "4  log(deaths_i)                        0.0361 (0.0241)   -0.0012 (0.0048)\n",
       "5  log(deaths_j)                        0.1271* (0.0245)  -0.0066 (0.0043)\n",
       "6  C8EV_International_travel_controls_i -0.0700* (0.0102) -0.0005 (0.0096)\n",
       "7  C8EV_International_travel_controls_j -0.0651* (0.0101) -0.0271 (0.0094)\n",
       "8  Fixed-Effects:                       ----------------- ----------------\n",
       "9  year                                 No                Yes             \n",
       "10 i                                    No                No              \n",
       "11 j                                    No                No              \n",
       "12 ____________________________________ _________________ ________________\n",
       "13 S.E. type                            Newey-West (L=1)  Newey-West (L=1)\n",
       "14 Observations                         56,401            56,401          \n",
       "15 R2                                   -0.06220          0.01552         \n",
       "16 Within R2                            --                0.00027         \n",
       "   fe_iv            iv_both_endo     iv_both_endo_t.. iv_itc_endo      \n",
       "1  log(v/v19)       log(v/v19)       log(v/v19)       log(v/v19)       \n",
       "2                                                                      \n",
       "3                                                                      \n",
       "4  -0.0601 (0.0207) -0.0395 (0.0366) -0.0645 (0.0373) -0.0244. (0.0065)\n",
       "5  0.0193 (0.0187)  0.0230 (0.0331)  0.0708 (0.0278)  0.0003 (0.0066)  \n",
       "6  -0.0398 (0.0154) -0.0883 (0.0665) -0.0491 (0.0639) -0.1121 (0.0412) \n",
       "7  -0.0083 (0.0142) -0.0202 (0.0635) -0.0795 (0.0515) 0.0129 (0.0371)  \n",
       "8  ---------------- ---------------- ---------------- -----------------\n",
       "9  Yes              Yes              Yes              Yes              \n",
       "10 Yes              Yes              Yes              Yes              \n",
       "11 Yes              Yes              Yes              Yes              \n",
       "12 ________________ ________________ ________________ _________________\n",
       "13 Newey-West (L=1) Newey-West (L=1) Newey-West (L=1) Newey-West (L=1) \n",
       "14 56,401           56,401           52,736           56,401           \n",
       "15 0.04270          0.04298          0.03955          0.04296          \n",
       "16 -0.00148         -0.00118         -0.00710         -0.00120         "
      ]
     },
     "metadata": {},
     "output_type": "display_data"
    }
   ],
   "source": [
    "etable(pulled_tsls, fe_iv_year, fe_iv, iv_both_endo, iv_both_endo_temperature, iv_itc_endo, vcov = vcov_NW(unit = 'pair', time = 'year'), signif.code = signif.code)"
   ]
  },
  {
   "cell_type": "code",
   "execution_count": 62,
   "metadata": {
    "vscode": {
     "languageId": "r"
    }
   },
   "outputs": [
    {
     "data": {
      "text/html": [
       "<table class=\"dataframe\">\n",
       "<caption>A etable_df: 16 × 7</caption>\n",
       "<thead>\n",
       "\t<tr><th></th><th scope=col></th><th scope=col>pulled_tsls</th><th scope=col>fe_iv_year</th><th scope=col>fe_iv</th><th scope=col>iv_both_endo</th><th scope=col>iv_both_endo_t..</th><th scope=col>iv_itc_endo</th></tr>\n",
       "\t<tr><th></th><th scope=col>&lt;chr&gt;</th><th scope=col>&lt;chr&gt;</th><th scope=col>&lt;chr&gt;</th><th scope=col>&lt;chr&gt;</th><th scope=col>&lt;chr&gt;</th><th scope=col>&lt;chr&gt;</th><th scope=col>&lt;chr&gt;</th></tr>\n",
       "</thead>\n",
       "<tbody>\n",
       "\t<tr><th scope=row>1</th><td>Dependent Var.:                     </td><td>log(v/v19)       </td><td>log(v/v19)      </td><td>log(v/v19)       </td><td>log(v/v19)      </td><td>log(v/v19)      </td><td>log(v/v19)      </td></tr>\n",
       "\t<tr><th scope=row>2</th><td>                                    </td><td>                 </td><td>                </td><td>                 </td><td>                </td><td>                </td><td>                </td></tr>\n",
       "\t<tr><th scope=row>3</th><td>Constant                            </td><td>0.4759 (0.1861)  </td><td>                </td><td>                 </td><td>                </td><td>                </td><td>                </td></tr>\n",
       "\t<tr><th scope=row>4</th><td>log(deaths_i)                       </td><td>0.0361 (0.0930)  </td><td>-0.0012 (0.0083)</td><td>-0.0601. (0.0176)</td><td>-0.0395 (0.0291)</td><td>-0.0645 (0.0416)</td><td>-0.0244 (0.0089)</td></tr>\n",
       "\t<tr><th scope=row>5</th><td>log(deaths_j)                       </td><td>0.1271 (0.0490)  </td><td>-0.0066 (0.0070)</td><td>0.0193 (0.0195)  </td><td>0.0230 (0.0459) </td><td>0.0708 (0.0422) </td><td>0.0003 (0.0045) </td></tr>\n",
       "\t<tr><th scope=row>6</th><td>C8EV_International_travel_controls_i</td><td>-0.0700. (0.0216)</td><td>-0.0005 (0.0100)</td><td>-0.0398. (0.0136)</td><td>-0.0883 (0.0833)</td><td>-0.0491 (0.0775)</td><td>-0.1121 (0.0508)</td></tr>\n",
       "\t<tr><th scope=row>7</th><td>C8EV_International_travel_controls_j</td><td>-0.0651 (0.0246) </td><td>-0.0271 (0.0217)</td><td>-0.0083 (0.0138) </td><td>-0.0202 (0.1020)</td><td>-0.0795 (0.1088)</td><td>0.0129 (0.0396) </td></tr>\n",
       "\t<tr><th scope=row>8</th><td>Fixed-Effects:                      </td><td>-----------------</td><td>----------------</td><td>-----------------</td><td>----------------</td><td>----------------</td><td>----------------</td></tr>\n",
       "\t<tr><th scope=row>9</th><td>year                                </td><td>No               </td><td>Yes             </td><td>Yes              </td><td>Yes             </td><td>Yes             </td><td>Yes             </td></tr>\n",
       "\t<tr><th scope=row>10</th><td>i                                   </td><td>No               </td><td>No              </td><td>Yes              </td><td>Yes             </td><td>Yes             </td><td>Yes             </td></tr>\n",
       "\t<tr><th scope=row>11</th><td>j                                   </td><td>No               </td><td>No              </td><td>Yes              </td><td>Yes             </td><td>Yes             </td><td>Yes             </td></tr>\n",
       "\t<tr><th scope=row>12</th><td>____________________________________</td><td>_________________</td><td>________________</td><td>_________________</td><td>________________</td><td>________________</td><td>________________</td></tr>\n",
       "\t<tr><th scope=row>13</th><td><span style=white-space:pre-wrap>S.E.: Clustered                     </span></td><td>by: i &amp; j &amp; year </td><td>by: i &amp; j &amp; year</td><td>by: i &amp; j &amp; year </td><td>by: i &amp; j &amp; year</td><td>by: i &amp; j &amp; year</td><td>by: i &amp; j &amp; year</td></tr>\n",
       "\t<tr><th scope=row>14</th><td>Observations                        </td><td>56,401           </td><td>56,401          </td><td>56,401           </td><td>56,401          </td><td>52,736          </td><td>56,401          </td></tr>\n",
       "\t<tr><th scope=row>15</th><td>R2                                  </td><td>-0.06220         </td><td>0.01552         </td><td>0.04270          </td><td>0.04298         </td><td>0.03955         </td><td>0.04296         </td></tr>\n",
       "\t<tr><th scope=row>16</th><td>Within R2                           </td><td>--               </td><td>0.00027         </td><td>-0.00148         </td><td>-0.00118        </td><td>-0.00710        </td><td>-0.00120        </td></tr>\n",
       "</tbody>\n",
       "</table>\n"
      ],
      "text/latex": [
       "A etable\\_df: 16 × 7\n",
       "\\begin{tabular}{r|lllllll}\n",
       "  &  & pulled\\_tsls & fe\\_iv\\_year & fe\\_iv & iv\\_both\\_endo & iv\\_both\\_endo\\_t.. & iv\\_itc\\_endo\\\\\n",
       "  & <chr> & <chr> & <chr> & <chr> & <chr> & <chr> & <chr>\\\\\n",
       "\\hline\n",
       "\t1 & Dependent Var.:                      & log(v/v19)        & log(v/v19)       & log(v/v19)        & log(v/v19)       & log(v/v19)       & log(v/v19)      \\\\\n",
       "\t2 &                                      &                   &                  &                   &                  &                  &                 \\\\\n",
       "\t3 & Constant                             & 0.4759 (0.1861)   &                  &                   &                  &                  &                 \\\\\n",
       "\t4 & log(deaths\\_i)                        & 0.0361 (0.0930)   & -0.0012 (0.0083) & -0.0601. (0.0176) & -0.0395 (0.0291) & -0.0645 (0.0416) & -0.0244 (0.0089)\\\\\n",
       "\t5 & log(deaths\\_j)                        & 0.1271 (0.0490)   & -0.0066 (0.0070) & 0.0193 (0.0195)   & 0.0230 (0.0459)  & 0.0708 (0.0422)  & 0.0003 (0.0045) \\\\\n",
       "\t6 & C8EV\\_International\\_travel\\_controls\\_i & -0.0700. (0.0216) & -0.0005 (0.0100) & -0.0398. (0.0136) & -0.0883 (0.0833) & -0.0491 (0.0775) & -0.1121 (0.0508)\\\\\n",
       "\t7 & C8EV\\_International\\_travel\\_controls\\_j & -0.0651 (0.0246)  & -0.0271 (0.0217) & -0.0083 (0.0138)  & -0.0202 (0.1020) & -0.0795 (0.1088) & 0.0129 (0.0396) \\\\\n",
       "\t8 & Fixed-Effects:                       & ----------------- & ---------------- & ----------------- & ---------------- & ---------------- & ----------------\\\\\n",
       "\t9 & year                                 & No                & Yes              & Yes               & Yes              & Yes              & Yes             \\\\\n",
       "\t10 & i                                    & No                & No               & Yes               & Yes              & Yes              & Yes             \\\\\n",
       "\t11 & j                                    & No                & No               & Yes               & Yes              & Yes              & Yes             \\\\\n",
       "\t12 & \\_\\_\\_\\_\\_\\_\\_\\_\\_\\_\\_\\_\\_\\_\\_\\_\\_\\_\\_\\_\\_\\_\\_\\_\\_\\_\\_\\_\\_\\_\\_\\_\\_\\_\\_\\_ & \\_\\_\\_\\_\\_\\_\\_\\_\\_\\_\\_\\_\\_\\_\\_\\_\\_ & \\_\\_\\_\\_\\_\\_\\_\\_\\_\\_\\_\\_\\_\\_\\_\\_ & \\_\\_\\_\\_\\_\\_\\_\\_\\_\\_\\_\\_\\_\\_\\_\\_\\_ & \\_\\_\\_\\_\\_\\_\\_\\_\\_\\_\\_\\_\\_\\_\\_\\_ & \\_\\_\\_\\_\\_\\_\\_\\_\\_\\_\\_\\_\\_\\_\\_\\_ & \\_\\_\\_\\_\\_\\_\\_\\_\\_\\_\\_\\_\\_\\_\\_\\_\\\\\n",
       "\t13 & S.E.: Clustered                      & by: i \\& j \\& year  & by: i \\& j \\& year & by: i \\& j \\& year  & by: i \\& j \\& year & by: i \\& j \\& year & by: i \\& j \\& year\\\\\n",
       "\t14 & Observations                         & 56,401            & 56,401           & 56,401            & 56,401           & 52,736           & 56,401          \\\\\n",
       "\t15 & R2                                   & -0.06220          & 0.01552          & 0.04270           & 0.04298          & 0.03955          & 0.04296         \\\\\n",
       "\t16 & Within R2                            & --                & 0.00027          & -0.00148          & -0.00118         & -0.00710         & -0.00120        \\\\\n",
       "\\end{tabular}\n"
      ],
      "text/markdown": [
       "\n",
       "A etable_df: 16 × 7\n",
       "\n",
       "| <!--/--> | <!----> &lt;chr&gt; | pulled_tsls &lt;chr&gt; | fe_iv_year &lt;chr&gt; | fe_iv &lt;chr&gt; | iv_both_endo &lt;chr&gt; | iv_both_endo_t.. &lt;chr&gt; | iv_itc_endo &lt;chr&gt; |\n",
       "|---|---|---|---|---|---|---|---|\n",
       "| 1 | Dependent Var.:                      | log(v/v19)        | log(v/v19)       | log(v/v19)        | log(v/v19)       | log(v/v19)       | log(v/v19)       |\n",
       "| 2 | <!----> | <!----> | <!----> | <!----> | <!----> | <!----> | <!----> |\n",
       "| 3 | Constant                             | 0.4759 (0.1861)   | <!----> | <!----> | <!----> | <!----> | <!----> |\n",
       "| 4 | log(deaths_i)                        | 0.0361 (0.0930)   | -0.0012 (0.0083) | -0.0601. (0.0176) | -0.0395 (0.0291) | -0.0645 (0.0416) | -0.0244 (0.0089) |\n",
       "| 5 | log(deaths_j)                        | 0.1271 (0.0490)   | -0.0066 (0.0070) | 0.0193 (0.0195)   | 0.0230 (0.0459)  | 0.0708 (0.0422)  | 0.0003 (0.0045)  |\n",
       "| 6 | C8EV_International_travel_controls_i | -0.0700. (0.0216) | -0.0005 (0.0100) | -0.0398. (0.0136) | -0.0883 (0.0833) | -0.0491 (0.0775) | -0.1121 (0.0508) |\n",
       "| 7 | C8EV_International_travel_controls_j | -0.0651 (0.0246)  | -0.0271 (0.0217) | -0.0083 (0.0138)  | -0.0202 (0.1020) | -0.0795 (0.1088) | 0.0129 (0.0396)  |\n",
       "| 8 | Fixed-Effects:                       | ----------------- | ---------------- | ----------------- | ---------------- | ---------------- | ---------------- |\n",
       "| 9 | year                                 | No                | Yes              | Yes               | Yes              | Yes              | Yes              |\n",
       "| 10 | i                                    | No                | No               | Yes               | Yes              | Yes              | Yes              |\n",
       "| 11 | j                                    | No                | No               | Yes               | Yes              | Yes              | Yes              |\n",
       "| 12 | ____________________________________ | _________________ | ________________ | _________________ | ________________ | ________________ | ________________ |\n",
       "| 13 | S.E.: Clustered                      | by: i &amp; j &amp; year  | by: i &amp; j &amp; year | by: i &amp; j &amp; year  | by: i &amp; j &amp; year | by: i &amp; j &amp; year | by: i &amp; j &amp; year |\n",
       "| 14 | Observations                         | 56,401            | 56,401           | 56,401            | 56,401           | 52,736           | 56,401           |\n",
       "| 15 | R2                                   | -0.06220          | 0.01552          | 0.04270           | 0.04298          | 0.03955          | 0.04296          |\n",
       "| 16 | Within R2                            | --                | 0.00027          | -0.00148          | -0.00118         | -0.00710         | -0.00120         |\n",
       "\n"
      ],
      "text/plain": [
       "                                        pulled_tsls       fe_iv_year      \n",
       "1  Dependent Var.:                      log(v/v19)        log(v/v19)      \n",
       "2                                                                         \n",
       "3  Constant                             0.4759 (0.1861)                   \n",
       "4  log(deaths_i)                        0.0361 (0.0930)   -0.0012 (0.0083)\n",
       "5  log(deaths_j)                        0.1271 (0.0490)   -0.0066 (0.0070)\n",
       "6  C8EV_International_travel_controls_i -0.0700. (0.0216) -0.0005 (0.0100)\n",
       "7  C8EV_International_travel_controls_j -0.0651 (0.0246)  -0.0271 (0.0217)\n",
       "8  Fixed-Effects:                       ----------------- ----------------\n",
       "9  year                                 No                Yes             \n",
       "10 i                                    No                No              \n",
       "11 j                                    No                No              \n",
       "12 ____________________________________ _________________ ________________\n",
       "13 S.E.: Clustered                      by: i & j & year  by: i & j & year\n",
       "14 Observations                         56,401            56,401          \n",
       "15 R2                                   -0.06220          0.01552         \n",
       "16 Within R2                            --                0.00027         \n",
       "   fe_iv             iv_both_endo     iv_both_endo_t.. iv_itc_endo     \n",
       "1  log(v/v19)        log(v/v19)       log(v/v19)       log(v/v19)      \n",
       "2                                                                      \n",
       "3                                                                      \n",
       "4  -0.0601. (0.0176) -0.0395 (0.0291) -0.0645 (0.0416) -0.0244 (0.0089)\n",
       "5  0.0193 (0.0195)   0.0230 (0.0459)  0.0708 (0.0422)  0.0003 (0.0045) \n",
       "6  -0.0398. (0.0136) -0.0883 (0.0833) -0.0491 (0.0775) -0.1121 (0.0508)\n",
       "7  -0.0083 (0.0138)  -0.0202 (0.1020) -0.0795 (0.1088) 0.0129 (0.0396) \n",
       "8  ----------------- ---------------- ---------------- ----------------\n",
       "9  Yes               Yes              Yes              Yes             \n",
       "10 Yes               Yes              Yes              Yes             \n",
       "11 Yes               Yes              Yes              Yes             \n",
       "12 _________________ ________________ ________________ ________________\n",
       "13 by: i & j & year  by: i & j & year by: i & j & year by: i & j & year\n",
       "14 56,401            56,401           52,736           56,401          \n",
       "15 0.04270           0.04298          0.03955          0.04296         \n",
       "16 -0.00148          -0.00118         -0.00710         -0.00120        "
      ]
     },
     "metadata": {},
     "output_type": "display_data"
    }
   ],
   "source": [
    "    # Всё ещё странно использовать кластеризацию по году... \n",
    "    # etable(m3, m4, vcov = function(x) vcovHC(x, method=\"arellano\", type=\"HC1\"), signif.code = signif.code) Не сработало\n",
    "etable(pulled_tsls, fe_iv_year, fe_iv, iv_both_endo, iv_both_endo_temperature, iv_itc_endo, vcov = ~i+j+year, signif.code = signif.code)"
   ]
  },
  {
   "cell_type": "code",
   "execution_count": 63,
   "metadata": {
    "vscode": {
     "languageId": "r"
    }
   },
   "outputs": [
    {
     "data": {
      "text/html": [
       "<table class=\"dataframe\">\n",
       "<caption>A etable_df: 16 × 7</caption>\n",
       "<thead>\n",
       "\t<tr><th></th><th scope=col></th><th scope=col>pulled_tsls</th><th scope=col>fe_iv_year</th><th scope=col>fe_iv</th><th scope=col>iv_both_endo</th><th scope=col>iv_both_endo_t..</th><th scope=col>iv_itc_endo</th></tr>\n",
       "\t<tr><th></th><th scope=col>&lt;chr&gt;</th><th scope=col>&lt;chr&gt;</th><th scope=col>&lt;chr&gt;</th><th scope=col>&lt;chr&gt;</th><th scope=col>&lt;chr&gt;</th><th scope=col>&lt;chr&gt;</th><th scope=col>&lt;chr&gt;</th></tr>\n",
       "</thead>\n",
       "<tbody>\n",
       "\t<tr><th scope=row>1</th><td>Dependent Var.:                     </td><td>log(v/v19)         </td><td>log(v/v19)       </td><td>log(v/v19)         </td><td>log(v/v19)       </td><td>log(v/v19)       </td><td>log(v/v19)         </td></tr>\n",
       "\t<tr><th scope=row>2</th><td>                                    </td><td>                   </td><td>                 </td><td>                   </td><td>                 </td><td>                 </td><td>                   </td></tr>\n",
       "\t<tr><th scope=row>3</th><td>Constant                            </td><td>0.4759*** (0.0646) </td><td>                 </td><td>                   </td><td>                 </td><td>                 </td><td>                   </td></tr>\n",
       "\t<tr><th scope=row>4</th><td>log(deaths_i)                       </td><td>0.0361 (0.0558)    </td><td>-0.0012 (0.0052) </td><td>-0.0601** (0.0204) </td><td>-0.0395 (0.0255) </td><td>-0.0645 (0.0399) </td><td>-0.0244*** (0.0068)</td></tr>\n",
       "\t<tr><th scope=row>5</th><td>log(deaths_j)                       </td><td>0.1271** (0.0476)  </td><td>-0.0066 (0.0046) </td><td>0.0193 (0.0180)    </td><td>0.0230 (0.0314)  </td><td>0.0708* (0.0281) </td><td>0.0003 (0.0055)    </td></tr>\n",
       "\t<tr><th scope=row>6</th><td>C8EV_International_travel_controls_i</td><td>-0.0700** (0.0215) </td><td>-0.0005 (0.0126) </td><td>-0.0398** (0.0154) </td><td>-0.0883 (0.0545) </td><td>-0.0491 (0.0747) </td><td>-0.1121** (0.0425) </td></tr>\n",
       "\t<tr><th scope=row>7</th><td>C8EV_International_travel_controls_j</td><td>-0.0651** (0.0236) </td><td>-0.0271* (0.0120)</td><td>-0.0083 (0.0124)   </td><td>-0.0202 (0.0651) </td><td>-0.0795 (0.0584) </td><td>0.0129 (0.0363)    </td></tr>\n",
       "\t<tr><th scope=row>8</th><td>Fixed-Effects:                      </td><td>------------------ </td><td>-----------------</td><td>------------------ </td><td>---------------- </td><td>---------------- </td><td>-------------------</td></tr>\n",
       "\t<tr><th scope=row>9</th><td>year                                </td><td>No                 </td><td>Yes              </td><td>Yes                </td><td>Yes              </td><td>Yes              </td><td>Yes                </td></tr>\n",
       "\t<tr><th scope=row>10</th><td>i                                   </td><td>No                 </td><td>No               </td><td>Yes                </td><td>Yes              </td><td>Yes              </td><td>Yes                </td></tr>\n",
       "\t<tr><th scope=row>11</th><td>j                                   </td><td>No                 </td><td>No               </td><td>Yes                </td><td>Yes              </td><td>Yes              </td><td>Yes                </td></tr>\n",
       "\t<tr><th scope=row>12</th><td>____________________________________</td><td>__________________ </td><td>_________________</td><td>__________________ </td><td>________________ </td><td>________________ </td><td>___________________</td></tr>\n",
       "\t<tr><th scope=row>13</th><td><span style=white-space:pre-wrap>S.E.: Clustered                     </span></td><td>by: i-year &amp; j-year</td><td>by: i-ye. &amp; j-ye.</td><td>by: i-year &amp; j-year</td><td>by: i-ye. &amp; j-ye.</td><td>by: i-ye. &amp; j-ye.</td><td>by: i-year &amp; j-year</td></tr>\n",
       "\t<tr><th scope=row>14</th><td>Observations                        </td><td>56,401             </td><td>56,401           </td><td>56,401             </td><td>56,401           </td><td>52,736           </td><td>56,401             </td></tr>\n",
       "\t<tr><th scope=row>15</th><td>R2                                  </td><td>-0.06220           </td><td>0.01552          </td><td>0.04270            </td><td>0.04298          </td><td>0.03955          </td><td>0.04296            </td></tr>\n",
       "\t<tr><th scope=row>16</th><td>Within R2                           </td><td>--                 </td><td>0.00027          </td><td>-0.00148           </td><td>-0.00118         </td><td>-0.00710         </td><td>-0.00120           </td></tr>\n",
       "</tbody>\n",
       "</table>\n"
      ],
      "text/latex": [
       "A etable\\_df: 16 × 7\n",
       "\\begin{tabular}{r|lllllll}\n",
       "  &  & pulled\\_tsls & fe\\_iv\\_year & fe\\_iv & iv\\_both\\_endo & iv\\_both\\_endo\\_t.. & iv\\_itc\\_endo\\\\\n",
       "  & <chr> & <chr> & <chr> & <chr> & <chr> & <chr> & <chr>\\\\\n",
       "\\hline\n",
       "\t1 & Dependent Var.:                      & log(v/v19)          & log(v/v19)        & log(v/v19)          & log(v/v19)        & log(v/v19)        & log(v/v19)         \\\\\n",
       "\t2 &                                      &                     &                   &                     &                   &                   &                    \\\\\n",
       "\t3 & Constant                             & 0.4759*** (0.0646)  &                   &                     &                   &                   &                    \\\\\n",
       "\t4 & log(deaths\\_i)                        & 0.0361 (0.0558)     & -0.0012 (0.0052)  & -0.0601** (0.0204)  & -0.0395 (0.0255)  & -0.0645 (0.0399)  & -0.0244*** (0.0068)\\\\\n",
       "\t5 & log(deaths\\_j)                        & 0.1271** (0.0476)   & -0.0066 (0.0046)  & 0.0193 (0.0180)     & 0.0230 (0.0314)   & 0.0708* (0.0281)  & 0.0003 (0.0055)    \\\\\n",
       "\t6 & C8EV\\_International\\_travel\\_controls\\_i & -0.0700** (0.0215)  & -0.0005 (0.0126)  & -0.0398** (0.0154)  & -0.0883 (0.0545)  & -0.0491 (0.0747)  & -0.1121** (0.0425) \\\\\n",
       "\t7 & C8EV\\_International\\_travel\\_controls\\_j & -0.0651** (0.0236)  & -0.0271* (0.0120) & -0.0083 (0.0124)    & -0.0202 (0.0651)  & -0.0795 (0.0584)  & 0.0129 (0.0363)    \\\\\n",
       "\t8 & Fixed-Effects:                       & ------------------  & ----------------- & ------------------  & ----------------  & ----------------  & -------------------\\\\\n",
       "\t9 & year                                 & No                  & Yes               & Yes                 & Yes               & Yes               & Yes                \\\\\n",
       "\t10 & i                                    & No                  & No                & Yes                 & Yes               & Yes               & Yes                \\\\\n",
       "\t11 & j                                    & No                  & No                & Yes                 & Yes               & Yes               & Yes                \\\\\n",
       "\t12 & \\_\\_\\_\\_\\_\\_\\_\\_\\_\\_\\_\\_\\_\\_\\_\\_\\_\\_\\_\\_\\_\\_\\_\\_\\_\\_\\_\\_\\_\\_\\_\\_\\_\\_\\_\\_ & \\_\\_\\_\\_\\_\\_\\_\\_\\_\\_\\_\\_\\_\\_\\_\\_\\_\\_  & \\_\\_\\_\\_\\_\\_\\_\\_\\_\\_\\_\\_\\_\\_\\_\\_\\_ & \\_\\_\\_\\_\\_\\_\\_\\_\\_\\_\\_\\_\\_\\_\\_\\_\\_\\_  & \\_\\_\\_\\_\\_\\_\\_\\_\\_\\_\\_\\_\\_\\_\\_\\_  & \\_\\_\\_\\_\\_\\_\\_\\_\\_\\_\\_\\_\\_\\_\\_\\_  & \\_\\_\\_\\_\\_\\_\\_\\_\\_\\_\\_\\_\\_\\_\\_\\_\\_\\_\\_\\\\\n",
       "\t13 & S.E.: Clustered                      & by: i-year \\& j-year & by: i-ye. \\& j-ye. & by: i-year \\& j-year & by: i-ye. \\& j-ye. & by: i-ye. \\& j-ye. & by: i-year \\& j-year\\\\\n",
       "\t14 & Observations                         & 56,401              & 56,401            & 56,401              & 56,401            & 52,736            & 56,401             \\\\\n",
       "\t15 & R2                                   & -0.06220            & 0.01552           & 0.04270             & 0.04298           & 0.03955           & 0.04296            \\\\\n",
       "\t16 & Within R2                            & --                  & 0.00027           & -0.00148            & -0.00118          & -0.00710          & -0.00120           \\\\\n",
       "\\end{tabular}\n"
      ],
      "text/markdown": [
       "\n",
       "A etable_df: 16 × 7\n",
       "\n",
       "| <!--/--> | <!----> &lt;chr&gt; | pulled_tsls &lt;chr&gt; | fe_iv_year &lt;chr&gt; | fe_iv &lt;chr&gt; | iv_both_endo &lt;chr&gt; | iv_both_endo_t.. &lt;chr&gt; | iv_itc_endo &lt;chr&gt; |\n",
       "|---|---|---|---|---|---|---|---|\n",
       "| 1 | Dependent Var.:                      | log(v/v19)          | log(v/v19)        | log(v/v19)          | log(v/v19)        | log(v/v19)        | log(v/v19)          |\n",
       "| 2 | <!----> | <!----> | <!----> | <!----> | <!----> | <!----> | <!----> |\n",
       "| 3 | Constant                             | 0.4759*** (0.0646)  | <!----> | <!----> | <!----> | <!----> | <!----> |\n",
       "| 4 | log(deaths_i)                        | 0.0361 (0.0558)     | -0.0012 (0.0052)  | -0.0601** (0.0204)  | -0.0395 (0.0255)  | -0.0645 (0.0399)  | -0.0244*** (0.0068) |\n",
       "| 5 | log(deaths_j)                        | 0.1271** (0.0476)   | -0.0066 (0.0046)  | 0.0193 (0.0180)     | 0.0230 (0.0314)   | 0.0708* (0.0281)  | 0.0003 (0.0055)     |\n",
       "| 6 | C8EV_International_travel_controls_i | -0.0700** (0.0215)  | -0.0005 (0.0126)  | -0.0398** (0.0154)  | -0.0883 (0.0545)  | -0.0491 (0.0747)  | -0.1121** (0.0425)  |\n",
       "| 7 | C8EV_International_travel_controls_j | -0.0651** (0.0236)  | -0.0271* (0.0120) | -0.0083 (0.0124)    | -0.0202 (0.0651)  | -0.0795 (0.0584)  | 0.0129 (0.0363)     |\n",
       "| 8 | Fixed-Effects:                       | ------------------  | ----------------- | ------------------  | ----------------  | ----------------  | ------------------- |\n",
       "| 9 | year                                 | No                  | Yes               | Yes                 | Yes               | Yes               | Yes                 |\n",
       "| 10 | i                                    | No                  | No                | Yes                 | Yes               | Yes               | Yes                 |\n",
       "| 11 | j                                    | No                  | No                | Yes                 | Yes               | Yes               | Yes                 |\n",
       "| 12 | ____________________________________ | __________________  | _________________ | __________________  | ________________  | ________________  | ___________________ |\n",
       "| 13 | S.E.: Clustered                      | by: i-year &amp; j-year | by: i-ye. &amp; j-ye. | by: i-year &amp; j-year | by: i-ye. &amp; j-ye. | by: i-ye. &amp; j-ye. | by: i-year &amp; j-year |\n",
       "| 14 | Observations                         | 56,401              | 56,401            | 56,401              | 56,401            | 52,736            | 56,401              |\n",
       "| 15 | R2                                   | -0.06220            | 0.01552           | 0.04270             | 0.04298           | 0.03955           | 0.04296             |\n",
       "| 16 | Within R2                            | --                  | 0.00027           | -0.00148            | -0.00118          | -0.00710          | -0.00120            |\n",
       "\n"
      ],
      "text/plain": [
       "                                        pulled_tsls         fe_iv_year       \n",
       "1  Dependent Var.:                      log(v/v19)          log(v/v19)       \n",
       "2                                                                            \n",
       "3  Constant                             0.4759*** (0.0646)                   \n",
       "4  log(deaths_i)                        0.0361 (0.0558)     -0.0012 (0.0052) \n",
       "5  log(deaths_j)                        0.1271** (0.0476)   -0.0066 (0.0046) \n",
       "6  C8EV_International_travel_controls_i -0.0700** (0.0215)  -0.0005 (0.0126) \n",
       "7  C8EV_International_travel_controls_j -0.0651** (0.0236)  -0.0271* (0.0120)\n",
       "8  Fixed-Effects:                       ------------------  -----------------\n",
       "9  year                                 No                  Yes              \n",
       "10 i                                    No                  No               \n",
       "11 j                                    No                  No               \n",
       "12 ____________________________________ __________________  _________________\n",
       "13 S.E.: Clustered                      by: i-year & j-year by: i-ye. & j-ye.\n",
       "14 Observations                         56,401              56,401           \n",
       "15 R2                                   -0.06220            0.01552          \n",
       "16 Within R2                            --                  0.00027          \n",
       "   fe_iv               iv_both_endo      iv_both_endo_t..  iv_itc_endo        \n",
       "1  log(v/v19)          log(v/v19)        log(v/v19)        log(v/v19)         \n",
       "2                                                                             \n",
       "3                                                                             \n",
       "4  -0.0601** (0.0204)  -0.0395 (0.0255)  -0.0645 (0.0399)  -0.0244*** (0.0068)\n",
       "5  0.0193 (0.0180)     0.0230 (0.0314)   0.0708* (0.0281)  0.0003 (0.0055)    \n",
       "6  -0.0398** (0.0154)  -0.0883 (0.0545)  -0.0491 (0.0747)  -0.1121** (0.0425) \n",
       "7  -0.0083 (0.0124)    -0.0202 (0.0651)  -0.0795 (0.0584)  0.0129 (0.0363)    \n",
       "8  ------------------  ----------------  ----------------  -------------------\n",
       "9  Yes                 Yes               Yes               Yes                \n",
       "10 Yes                 Yes               Yes               Yes                \n",
       "11 Yes                 Yes               Yes               Yes                \n",
       "12 __________________  ________________  ________________  ___________________\n",
       "13 by: i-year & j-year by: i-ye. & j-ye. by: i-ye. & j-ye. by: i-year & j-year\n",
       "14 56,401              56,401            52,736            56,401             \n",
       "15 0.04270             0.04298           0.03955           0.04296            \n",
       "16 -0.00148            -0.00118          -0.00710          -0.00120           "
      ]
     },
     "metadata": {},
     "output_type": "display_data"
    }
   ],
   "source": [
    "# Так вроде не очень корректно делать, если мы верим в возможную автокорреляцию\n",
    "etable(pulled_tsls, fe_iv_year, fe_iv, iv_both_endo, iv_both_endo_temperature, iv_itc_endo, vcov = ~i^year+j^year, signif.code = signif.code)"
   ]
  },
  {
   "cell_type": "markdown",
   "metadata": {},
   "source": [
    "## Три пространственные регрессии (как в курсовой)\n",
    "\n",
    "Но в такую спецификацию нельзя добавить фиксированные эффекты, поэтому почти наверное без инструментов будет смещение из-за пропущенных переменных"
   ]
  },
  {
   "cell_type": "code",
   "execution_count": 64,
   "metadata": {
    "vscode": {
     "languageId": "r"
    }
   },
   "outputs": [
    {
     "name": "stderr",
     "output_type": "stream",
     "text": [
      "NOTE: 5,531 observations removed because of NA and infinite values (RHS: 5,531).\n",
      "\n",
      "NOTE: 4,126 observations removed because of NA and infinite values (RHS: 4,126).\n",
      "\n",
      "NOTE: 3,911 observations removed because of NA and infinite values (RHS: 3,911).\n",
      "\n"
     ]
    },
    {
     "data": {
      "text/plain": [
       "OLS estimation, Dep. Var.: log(v/v19)\n",
       "Observations: 18,391\n",
       "Standard-errors: Heteroskedasticity-robust \n",
       "                                      Estimate Std. Error   t value  Pr(>|t|)\n",
       "(Intercept)                           0.025597   0.046849  0.546368 0.5848197\n",
       "log(deaths_i)                         0.004091   0.003260  1.254760 0.2095820\n",
       "log(deaths_j)                        -0.009842   0.003226 -3.051141 0.0022830\n",
       "C8EV_International_travel_controls_i -0.016298   0.013407 -1.215616 0.2241469\n",
       "C8EV_International_travel_controls_j -0.034239   0.012831 -2.668548 0.0076247\n",
       "                                        \n",
       "(Intercept)                             \n",
       "log(deaths_i)                           \n",
       "log(deaths_j)                        ** \n",
       "C8EV_International_travel_controls_i    \n",
       "C8EV_International_travel_controls_j ** \n",
       "---\n",
       "Signif. codes:  0 '***' 0.001 '**' 0.01 '*' 0.05 '.' 0.1 ' ' 1\n",
       "RMSE: 0.86853   Adj. R2: 8.875e-4"
      ]
     },
     "metadata": {},
     "output_type": "display_data"
    },
    {
     "data": {
      "text/plain": [
       "OLS estimation, Dep. Var.: log(v/v19)\n",
       "Observations: 19,432\n",
       "Standard-errors: Heteroskedasticity-robust \n",
       "                                      Estimate Std. Error   t value   Pr(>|t|)\n",
       "(Intercept)                           0.121186   0.035212  3.441616 0.00057947\n",
       "log(deaths_i)                         0.003676   0.004665  0.787934 0.43074466\n",
       "log(deaths_j)                        -0.004846   0.004284 -1.131245 0.25796589\n",
       "C8EV_International_travel_controls_i -0.002579   0.009918 -0.260020 0.79485144\n",
       "C8EV_International_travel_controls_j -0.004681   0.010183 -0.459701 0.64573592\n",
       "                                        \n",
       "(Intercept)                          ***\n",
       "log(deaths_i)                           \n",
       "log(deaths_j)                           \n",
       "C8EV_International_travel_controls_i    \n",
       "C8EV_International_travel_controls_j    \n",
       "---\n",
       "Signif. codes:  0 '***' 0.001 '**' 0.01 '*' 0.05 '.' 0.1 ' ' 1\n",
       "RMSE: 1.0266   Adj. R2: -8.166e-5"
      ]
     },
     "metadata": {},
     "output_type": "display_data"
    },
    {
     "data": {
      "text/plain": [
       "OLS estimation, Dep. Var.: log(v/v19)\n",
       "Observations: 18,916\n",
       "Standard-errors: Heteroskedasticity-robust \n",
       "                                      Estimate Std. Error   t value   Pr(>|t|)\n",
       "(Intercept)                           0.239995   0.019842 12.095399  < 2.2e-16\n",
       "log(deaths_i)                        -0.003994   0.004750 -0.840924 0.40040089\n",
       "log(deaths_j)                        -0.001500   0.004216 -0.355718 0.72205574\n",
       "C8EV_International_travel_controls_i  0.021464   0.019187  1.118691 0.26328611\n",
       "C8EV_International_travel_controls_j -0.063888   0.017143 -3.726715 0.00019456\n",
       "                                        \n",
       "(Intercept)                          ***\n",
       "log(deaths_i)                           \n",
       "log(deaths_j)                           \n",
       "C8EV_International_travel_controls_i    \n",
       "C8EV_International_travel_controls_j ***\n",
       "---\n",
       "Signif. codes:  0 '***' 0.001 '**' 0.01 '*' 0.05 '.' 0.1 ' ' 1\n",
       "RMSE: 1.07671   Adj. R2: 7.389e-4"
      ]
     },
     "metadata": {},
     "output_type": "display_data"
    },
    {
     "data": {
      "text/html": [
       "<table class=\"dataframe\">\n",
       "<caption>A etable_df: 12 × 4</caption>\n",
       "<thead>\n",
       "\t<tr><th></th><th scope=col></th><th scope=col>m_2020</th><th scope=col>m_2021</th><th scope=col>m_2022</th></tr>\n",
       "\t<tr><th></th><th scope=col>&lt;chr&gt;</th><th scope=col>&lt;chr&gt;</th><th scope=col>&lt;chr&gt;</th><th scope=col>&lt;chr&gt;</th></tr>\n",
       "</thead>\n",
       "<tbody>\n",
       "\t<tr><th scope=row>1</th><td>Dependent Var.:                     </td><td>log(v/v19)        </td><td>log(v/v19)        </td><td>log(v/v19)         </td></tr>\n",
       "\t<tr><th scope=row>2</th><td>                                    </td><td>                  </td><td>                  </td><td>                   </td></tr>\n",
       "\t<tr><th scope=row>3</th><td>Constant                            </td><td>0.0256 (0.0469)   </td><td>0.1212*** (0.0352)</td><td>0.2400*** (0.0198) </td></tr>\n",
       "\t<tr><th scope=row>4</th><td>log(deaths_i)                       </td><td>0.0041 (0.0033)   </td><td>0.0037 (0.0047)   </td><td>-0.0040 (0.0047)   </td></tr>\n",
       "\t<tr><th scope=row>5</th><td>log(deaths_j)                       </td><td>-0.0098** (0.0032)</td><td>-0.0048 (0.0043)  </td><td>-0.0015 (0.0042)   </td></tr>\n",
       "\t<tr><th scope=row>6</th><td>C8EV_International_travel_controls_i</td><td>-0.0163 (0.0134)  </td><td>-0.0026 (0.0099)  </td><td>0.0215 (0.0192)    </td></tr>\n",
       "\t<tr><th scope=row>7</th><td>C8EV_International_travel_controls_j</td><td>-0.0342** (0.0128)</td><td>-0.0047 (0.0102)  </td><td>-0.0639*** (0.0171)</td></tr>\n",
       "\t<tr><th scope=row>8</th><td>____________________________________</td><td>__________________</td><td>__________________</td><td>___________________</td></tr>\n",
       "\t<tr><th scope=row>9</th><td>S.E. type                           </td><td>Heteroskedas.-rob.</td><td>Heteroskedas.-rob.</td><td>Heteroskedast.-rob.</td></tr>\n",
       "\t<tr><th scope=row>10</th><td>Observations                        </td><td>18,391            </td><td>19,432            </td><td>18,916             </td></tr>\n",
       "\t<tr><th scope=row>11</th><td>R2                                  </td><td>0.00110           </td><td>0.00012           </td><td>0.00095            </td></tr>\n",
       "\t<tr><th scope=row>12</th><td>Adj. R2                             </td><td>0.00089           </td><td>-8.17e-5          </td><td>0.00074            </td></tr>\n",
       "</tbody>\n",
       "</table>\n"
      ],
      "text/latex": [
       "A etable\\_df: 12 × 4\n",
       "\\begin{tabular}{r|llll}\n",
       "  &  & m\\_2020 & m\\_2021 & m\\_2022\\\\\n",
       "  & <chr> & <chr> & <chr> & <chr>\\\\\n",
       "\\hline\n",
       "\t1 & Dependent Var.:                      & log(v/v19)         & log(v/v19)         & log(v/v19)         \\\\\n",
       "\t2 &                                      &                    &                    &                    \\\\\n",
       "\t3 & Constant                             & 0.0256 (0.0469)    & 0.1212*** (0.0352) & 0.2400*** (0.0198) \\\\\n",
       "\t4 & log(deaths\\_i)                        & 0.0041 (0.0033)    & 0.0037 (0.0047)    & -0.0040 (0.0047)   \\\\\n",
       "\t5 & log(deaths\\_j)                        & -0.0098** (0.0032) & -0.0048 (0.0043)   & -0.0015 (0.0042)   \\\\\n",
       "\t6 & C8EV\\_International\\_travel\\_controls\\_i & -0.0163 (0.0134)   & -0.0026 (0.0099)   & 0.0215 (0.0192)    \\\\\n",
       "\t7 & C8EV\\_International\\_travel\\_controls\\_j & -0.0342** (0.0128) & -0.0047 (0.0102)   & -0.0639*** (0.0171)\\\\\n",
       "\t8 & \\_\\_\\_\\_\\_\\_\\_\\_\\_\\_\\_\\_\\_\\_\\_\\_\\_\\_\\_\\_\\_\\_\\_\\_\\_\\_\\_\\_\\_\\_\\_\\_\\_\\_\\_\\_ & \\_\\_\\_\\_\\_\\_\\_\\_\\_\\_\\_\\_\\_\\_\\_\\_\\_\\_ & \\_\\_\\_\\_\\_\\_\\_\\_\\_\\_\\_\\_\\_\\_\\_\\_\\_\\_ & \\_\\_\\_\\_\\_\\_\\_\\_\\_\\_\\_\\_\\_\\_\\_\\_\\_\\_\\_\\\\\n",
       "\t9 & S.E. type                            & Heteroskedas.-rob. & Heteroskedas.-rob. & Heteroskedast.-rob.\\\\\n",
       "\t10 & Observations                         & 18,391             & 19,432             & 18,916             \\\\\n",
       "\t11 & R2                                   & 0.00110            & 0.00012            & 0.00095            \\\\\n",
       "\t12 & Adj. R2                              & 0.00089            & -8.17e-5           & 0.00074            \\\\\n",
       "\\end{tabular}\n"
      ],
      "text/markdown": [
       "\n",
       "A etable_df: 12 × 4\n",
       "\n",
       "| <!--/--> | <!----> &lt;chr&gt; | m_2020 &lt;chr&gt; | m_2021 &lt;chr&gt; | m_2022 &lt;chr&gt; |\n",
       "|---|---|---|---|---|\n",
       "| 1 | Dependent Var.:                      | log(v/v19)         | log(v/v19)         | log(v/v19)          |\n",
       "| 2 | <!----> | <!----> | <!----> | <!----> |\n",
       "| 3 | Constant                             | 0.0256 (0.0469)    | 0.1212*** (0.0352) | 0.2400*** (0.0198)  |\n",
       "| 4 | log(deaths_i)                        | 0.0041 (0.0033)    | 0.0037 (0.0047)    | -0.0040 (0.0047)    |\n",
       "| 5 | log(deaths_j)                        | -0.0098** (0.0032) | -0.0048 (0.0043)   | -0.0015 (0.0042)    |\n",
       "| 6 | C8EV_International_travel_controls_i | -0.0163 (0.0134)   | -0.0026 (0.0099)   | 0.0215 (0.0192)     |\n",
       "| 7 | C8EV_International_travel_controls_j | -0.0342** (0.0128) | -0.0047 (0.0102)   | -0.0639*** (0.0171) |\n",
       "| 8 | ____________________________________ | __________________ | __________________ | ___________________ |\n",
       "| 9 | S.E. type                            | Heteroskedas.-rob. | Heteroskedas.-rob. | Heteroskedast.-rob. |\n",
       "| 10 | Observations                         | 18,391             | 19,432             | 18,916              |\n",
       "| 11 | R2                                   | 0.00110            | 0.00012            | 0.00095             |\n",
       "| 12 | Adj. R2                              | 0.00089            | -8.17e-5           | 0.00074             |\n",
       "\n"
      ],
      "text/plain": [
       "                                        m_2020             m_2021            \n",
       "1  Dependent Var.:                      log(v/v19)         log(v/v19)        \n",
       "2                                                                            \n",
       "3  Constant                             0.0256 (0.0469)    0.1212*** (0.0352)\n",
       "4  log(deaths_i)                        0.0041 (0.0033)    0.0037 (0.0047)   \n",
       "5  log(deaths_j)                        -0.0098** (0.0032) -0.0048 (0.0043)  \n",
       "6  C8EV_International_travel_controls_i -0.0163 (0.0134)   -0.0026 (0.0099)  \n",
       "7  C8EV_International_travel_controls_j -0.0342** (0.0128) -0.0047 (0.0102)  \n",
       "8  ____________________________________ __________________ __________________\n",
       "9  S.E. type                            Heteroskedas.-rob. Heteroskedas.-rob.\n",
       "10 Observations                         18,391             19,432            \n",
       "11 R2                                   0.00110            0.00012           \n",
       "12 Adj. R2                              0.00089            -8.17e-5          \n",
       "   m_2022             \n",
       "1  log(v/v19)         \n",
       "2                     \n",
       "3  0.2400*** (0.0198) \n",
       "4  -0.0040 (0.0047)   \n",
       "5  -0.0015 (0.0042)   \n",
       "6  0.0215 (0.0192)    \n",
       "7  -0.0639*** (0.0171)\n",
       "8  ___________________\n",
       "9  Heteroskedast.-rob.\n",
       "10 18,916             \n",
       "11 0.00095            \n",
       "12 0.00074            "
      ]
     },
     "metadata": {},
     "output_type": "display_data"
    }
   ],
   "source": [
    "# Без инструментов.\n",
    "m_2020 = feols(log(v/v19) ~  1+log(deaths_i) + log(deaths_j) +\n",
    " C8EV_International_travel_controls_i + C8EV_International_travel_controls_j ,\n",
    " data = df %>% filter(year == '2020')\n",
    " )\n",
    "m_2021 = feols(log(v/v19) ~  1+log(deaths_i) + log(deaths_j) +\n",
    " C8EV_International_travel_controls_i + C8EV_International_travel_controls_j,\n",
    " data = df %>% filter(year == '2021')\n",
    " )\n",
    "m_2022 = feols(log(v/v19) ~  1+log(deaths_i) + log(deaths_j) +\n",
    " C8EV_International_travel_controls_i + C8EV_International_travel_controls_j,\n",
    " data = df %>% filter(year == '2022')\n",
    " )\n",
    "summary(m_2020, vcov = 'hc1') \n",
    "summary(m_2021, vcov = 'hc1') \n",
    "summary(m_2022, vcov = 'hc1') \n",
    "etable(m_2020, m_2021, m_2022, vcov = 'hc1', signif.code = signif.code)"
   ]
  },
  {
   "cell_type": "code",
   "execution_count": 65,
   "metadata": {
    "vscode": {
     "languageId": "r"
    }
   },
   "outputs": [
    {
     "name": "stderr",
     "output_type": "stream",
     "text": [
      "NOTE: 5,531 observations removed because of NA and infinite values (RHS: 3,419, IV: 3,381/3,419).\n",
      "\n",
      "NOTE: 4,126 observations removed because of NA and infinite values (RHS: 3,290, IV: 1,557/3,290).\n",
      "\n",
      "NOTE: 4,249 observations removed because of NA and infinite values (RHS: 3,093, IV: 1,129/3,952).\n",
      "\n"
     ]
    },
    {
     "data": {
      "text/plain": [
       "TSLS estimation - Dep. Var.: log(v/v19)\n",
       "                  Endo.    : log(deaths_i), log(deaths_j)\n",
       "                  Instr.   : C1M_School_closing_i, C1M_School_closing_j, median_age_i, median_age_j, population_density_i, population_density_j\n",
       "Second stage: Dep. Var.: log(v/v19)\n",
       "Observations: 18,391\n",
       "Standard-errors: Heteroskedasticity-robust \n",
       "                                      Estimate Std. Error   t value  Pr(>|t|)\n",
       "(Intercept)                           0.024395   0.046827  0.520964 0.6023978\n",
       "fit_log(deaths_i)                     0.007152   0.005200  1.375351 0.1690393\n",
       "fit_log(deaths_j)                    -0.014607   0.004704 -3.105197 0.0019044\n",
       "C8EV_International_travel_controls_i -0.015467   0.013462 -1.148868 0.2506255\n",
       "C8EV_International_travel_controls_j -0.035657   0.012855 -2.773835 0.0055456\n",
       "                                        \n",
       "(Intercept)                             \n",
       "fit_log(deaths_i)                       \n",
       "fit_log(deaths_j)                    ** \n",
       "C8EV_International_travel_controls_i    \n",
       "C8EV_International_travel_controls_j ** \n",
       "---\n",
       "Signif. codes:  0 '***' 0.001 '**' 0.01 '*' 0.05 '.' 0.1 ' ' 1\n",
       "RMSE: 0.86861   Adj. R2: 7.033e-4\n",
       "F-test (1st stage), log(deaths_i): stat = 2,699.8    , p < 2.2e-16 , on 6 and 18,382 DoF.\n",
       "F-test (1st stage), log(deaths_j): stat = 2,843.7    , p < 2.2e-16 , on 6 and 18,382 DoF.\n",
       "                       Wu-Hausman: stat =     1.58757, p = 0.20445 , on 2 and 18,384 DoF.\n",
       "                           Sargan: stat =     3.58722, p = 0.464741, on 4 DoF."
      ]
     },
     "metadata": {},
     "output_type": "display_data"
    },
    {
     "data": {
      "text/plain": [
       "TSLS estimation - Dep. Var.: log(v/v19)\n",
       "                  Endo.    : log(deaths_i), log(deaths_j)\n",
       "                  Instr.   : C1M_School_closing_i, C1M_School_closing_j, median_age_i, median_age_j, population_density_i, population_density_j\n",
       "Second stage: Dep. Var.: log(v/v19)\n",
       "Observations: 19,432\n",
       "Standard-errors: Heteroskedasticity-robust \n",
       "                                      Estimate Std. Error   t value   Pr(>|t|)\n",
       "(Intercept)                           0.121400   0.035088  3.459907 0.00054152\n",
       "fit_log(deaths_i)                     0.000796   0.007722  0.103102 0.91788319\n",
       "fit_log(deaths_j)                    -0.002472   0.006674 -0.370455 0.71104728\n",
       "C8EV_International_travel_controls_i -0.002355   0.009920 -0.237414 0.81233821\n",
       "C8EV_International_travel_controls_j -0.004927   0.010189 -0.483577 0.62869129\n",
       "                                        \n",
       "(Intercept)                          ***\n",
       "fit_log(deaths_i)                       \n",
       "fit_log(deaths_j)                       \n",
       "C8EV_International_travel_controls_i    \n",
       "C8EV_International_travel_controls_j    \n",
       "---\n",
       "Signif. codes:  0 '***' 0.001 '**' 0.01 '*' 0.05 '.' 0.1 ' ' 1\n",
       "RMSE: 1.02662   Adj. R2: -1.221e-4\n",
       "F-test (1st stage), log(deaths_i): stat = 2,100.5     , p < 2.2e-16 , on 6 and 19,423 DoF.\n",
       "F-test (1st stage), log(deaths_j): stat = 2,295.0     , p < 2.2e-16 , on 6 and 19,423 DoF.\n",
       "                       Wu-Hausman: stat =     0.266233, p = 0.766263, on 2 and 19,425 DoF.\n",
       "                           Sargan: stat =     5.32421 , p = 0.255619, on 4 DoF."
      ]
     },
     "metadata": {},
     "output_type": "display_data"
    },
    {
     "data": {
      "text/plain": [
       "TSLS estimation - Dep. Var.: log(v/v19)\n",
       "                  Endo.    : log(deaths_i), log(deaths_j)\n",
       "                  Instr.   : C1M_School_closing_i, C1M_School_closing_j, median_age_i, median_age_j, population_density_i, population_density_j\n",
       "Second stage: Dep. Var.: log(v/v19)\n",
       "Observations: 18,578\n",
       "Standard-errors: Heteroskedasticity-robust \n",
       "                                      Estimate Std. Error   t value   Pr(>|t|)\n",
       "(Intercept)                           0.240394   0.020214 11.892533  < 2.2e-16\n",
       "fit_log(deaths_i)                    -0.010058   0.005532 -1.818169 6.9054e-02\n",
       "fit_log(deaths_j)                    -0.008796   0.004957 -1.774405 7.6013e-02\n",
       "C8EV_International_travel_controls_i  0.014454   0.019502  0.741180 4.5859e-01\n",
       "C8EV_International_travel_controls_j -0.079894   0.017737 -4.504482 6.6940e-06\n",
       "                                        \n",
       "(Intercept)                          ***\n",
       "fit_log(deaths_i)                    .  \n",
       "fit_log(deaths_j)                    .  \n",
       "C8EV_International_travel_controls_i    \n",
       "C8EV_International_travel_controls_j ***\n",
       "---\n",
       "Signif. codes:  0 '***' 0.001 '**' 0.01 '*' 0.05 '.' 0.1 ' ' 1\n",
       "RMSE: 1.07704   Adj. R2: 6.728e-4\n",
       "F-test (1st stage), log(deaths_i): stat = 5,398.6    , p < 2.2e-16 , on 6 and 18,569 DoF.\n",
       "F-test (1st stage), log(deaths_j): stat = 5,644.8    , p < 2.2e-16 , on 6 and 18,569 DoF.\n",
       "                       Wu-Hausman: stat =     3.57855, p = 0.027935, on 2 and 18,571 DoF.\n",
       "                           Sargan: stat =     7.48559, p = 0.112346, on 4 DoF."
      ]
     },
     "metadata": {},
     "output_type": "display_data"
    },
    {
     "data": {
      "text/html": [
       "<table class=\"dataframe\">\n",
       "<caption>A etable_df: 12 × 4</caption>\n",
       "<thead>\n",
       "\t<tr><th></th><th scope=col></th><th scope=col>m_2020</th><th scope=col>m_2021</th><th scope=col>m_2022</th></tr>\n",
       "\t<tr><th></th><th scope=col>&lt;chr&gt;</th><th scope=col>&lt;chr&gt;</th><th scope=col>&lt;chr&gt;</th><th scope=col>&lt;chr&gt;</th></tr>\n",
       "</thead>\n",
       "<tbody>\n",
       "\t<tr><th scope=row>1</th><td>Dependent Var.:                     </td><td>log(v/v19)        </td><td>log(v/v19)        </td><td>log(v/v19)         </td></tr>\n",
       "\t<tr><th scope=row>2</th><td>                                    </td><td>                  </td><td>                  </td><td>                   </td></tr>\n",
       "\t<tr><th scope=row>3</th><td>Constant                            </td><td>0.0244 (0.0468)   </td><td>0.1214*** (0.0351)</td><td>0.2404*** (0.0202) </td></tr>\n",
       "\t<tr><th scope=row>4</th><td>log(deaths_i)                       </td><td>0.0072 (0.0052)   </td><td>0.0008 (0.0077)   </td><td>-0.0101. (0.0055)  </td></tr>\n",
       "\t<tr><th scope=row>5</th><td>log(deaths_j)                       </td><td>-0.0146** (0.0047)</td><td>-0.0025 (0.0067)  </td><td>-0.0088. (0.0050)  </td></tr>\n",
       "\t<tr><th scope=row>6</th><td>C8EV_International_travel_controls_i</td><td>-0.0155 (0.0135)  </td><td>-0.0024 (0.0099)  </td><td>0.0144 (0.0195)    </td></tr>\n",
       "\t<tr><th scope=row>7</th><td>C8EV_International_travel_controls_j</td><td>-0.0357** (0.0128)</td><td>-0.0049 (0.0102)  </td><td>-0.0799*** (0.0177)</td></tr>\n",
       "\t<tr><th scope=row>8</th><td>____________________________________</td><td>__________________</td><td>__________________</td><td>___________________</td></tr>\n",
       "\t<tr><th scope=row>9</th><td>S.E. type                           </td><td>Heteroskedas.-rob.</td><td>Heteroskedas.-rob.</td><td>Heteroskedast.-rob.</td></tr>\n",
       "\t<tr><th scope=row>10</th><td>Observations                        </td><td>18,391            </td><td>19,432            </td><td>18,578             </td></tr>\n",
       "\t<tr><th scope=row>11</th><td>R2                                  </td><td>0.00092           </td><td>8.38e-5           </td><td>0.00089            </td></tr>\n",
       "\t<tr><th scope=row>12</th><td>Adj. R2                             </td><td>0.00070           </td><td>-0.00012          </td><td>0.00067            </td></tr>\n",
       "</tbody>\n",
       "</table>\n"
      ],
      "text/latex": [
       "A etable\\_df: 12 × 4\n",
       "\\begin{tabular}{r|llll}\n",
       "  &  & m\\_2020 & m\\_2021 & m\\_2022\\\\\n",
       "  & <chr> & <chr> & <chr> & <chr>\\\\\n",
       "\\hline\n",
       "\t1 & Dependent Var.:                      & log(v/v19)         & log(v/v19)         & log(v/v19)         \\\\\n",
       "\t2 &                                      &                    &                    &                    \\\\\n",
       "\t3 & Constant                             & 0.0244 (0.0468)    & 0.1214*** (0.0351) & 0.2404*** (0.0202) \\\\\n",
       "\t4 & log(deaths\\_i)                        & 0.0072 (0.0052)    & 0.0008 (0.0077)    & -0.0101. (0.0055)  \\\\\n",
       "\t5 & log(deaths\\_j)                        & -0.0146** (0.0047) & -0.0025 (0.0067)   & -0.0088. (0.0050)  \\\\\n",
       "\t6 & C8EV\\_International\\_travel\\_controls\\_i & -0.0155 (0.0135)   & -0.0024 (0.0099)   & 0.0144 (0.0195)    \\\\\n",
       "\t7 & C8EV\\_International\\_travel\\_controls\\_j & -0.0357** (0.0128) & -0.0049 (0.0102)   & -0.0799*** (0.0177)\\\\\n",
       "\t8 & \\_\\_\\_\\_\\_\\_\\_\\_\\_\\_\\_\\_\\_\\_\\_\\_\\_\\_\\_\\_\\_\\_\\_\\_\\_\\_\\_\\_\\_\\_\\_\\_\\_\\_\\_\\_ & \\_\\_\\_\\_\\_\\_\\_\\_\\_\\_\\_\\_\\_\\_\\_\\_\\_\\_ & \\_\\_\\_\\_\\_\\_\\_\\_\\_\\_\\_\\_\\_\\_\\_\\_\\_\\_ & \\_\\_\\_\\_\\_\\_\\_\\_\\_\\_\\_\\_\\_\\_\\_\\_\\_\\_\\_\\\\\n",
       "\t9 & S.E. type                            & Heteroskedas.-rob. & Heteroskedas.-rob. & Heteroskedast.-rob.\\\\\n",
       "\t10 & Observations                         & 18,391             & 19,432             & 18,578             \\\\\n",
       "\t11 & R2                                   & 0.00092            & 8.38e-5            & 0.00089            \\\\\n",
       "\t12 & Adj. R2                              & 0.00070            & -0.00012           & 0.00067            \\\\\n",
       "\\end{tabular}\n"
      ],
      "text/markdown": [
       "\n",
       "A etable_df: 12 × 4\n",
       "\n",
       "| <!--/--> | <!----> &lt;chr&gt; | m_2020 &lt;chr&gt; | m_2021 &lt;chr&gt; | m_2022 &lt;chr&gt; |\n",
       "|---|---|---|---|---|\n",
       "| 1 | Dependent Var.:                      | log(v/v19)         | log(v/v19)         | log(v/v19)          |\n",
       "| 2 | <!----> | <!----> | <!----> | <!----> |\n",
       "| 3 | Constant                             | 0.0244 (0.0468)    | 0.1214*** (0.0351) | 0.2404*** (0.0202)  |\n",
       "| 4 | log(deaths_i)                        | 0.0072 (0.0052)    | 0.0008 (0.0077)    | -0.0101. (0.0055)   |\n",
       "| 5 | log(deaths_j)                        | -0.0146** (0.0047) | -0.0025 (0.0067)   | -0.0088. (0.0050)   |\n",
       "| 6 | C8EV_International_travel_controls_i | -0.0155 (0.0135)   | -0.0024 (0.0099)   | 0.0144 (0.0195)     |\n",
       "| 7 | C8EV_International_travel_controls_j | -0.0357** (0.0128) | -0.0049 (0.0102)   | -0.0799*** (0.0177) |\n",
       "| 8 | ____________________________________ | __________________ | __________________ | ___________________ |\n",
       "| 9 | S.E. type                            | Heteroskedas.-rob. | Heteroskedas.-rob. | Heteroskedast.-rob. |\n",
       "| 10 | Observations                         | 18,391             | 19,432             | 18,578              |\n",
       "| 11 | R2                                   | 0.00092            | 8.38e-5            | 0.00089             |\n",
       "| 12 | Adj. R2                              | 0.00070            | -0.00012           | 0.00067             |\n",
       "\n"
      ],
      "text/plain": [
       "                                        m_2020             m_2021            \n",
       "1  Dependent Var.:                      log(v/v19)         log(v/v19)        \n",
       "2                                                                            \n",
       "3  Constant                             0.0244 (0.0468)    0.1214*** (0.0351)\n",
       "4  log(deaths_i)                        0.0072 (0.0052)    0.0008 (0.0077)   \n",
       "5  log(deaths_j)                        -0.0146** (0.0047) -0.0025 (0.0067)  \n",
       "6  C8EV_International_travel_controls_i -0.0155 (0.0135)   -0.0024 (0.0099)  \n",
       "7  C8EV_International_travel_controls_j -0.0357** (0.0128) -0.0049 (0.0102)  \n",
       "8  ____________________________________ __________________ __________________\n",
       "9  S.E. type                            Heteroskedas.-rob. Heteroskedas.-rob.\n",
       "10 Observations                         18,391             19,432            \n",
       "11 R2                                   0.00092            8.38e-5           \n",
       "12 Adj. R2                              0.00070            -0.00012          \n",
       "   m_2022             \n",
       "1  log(v/v19)         \n",
       "2                     \n",
       "3  0.2404*** (0.0202) \n",
       "4  -0.0101. (0.0055)  \n",
       "5  -0.0088. (0.0050)  \n",
       "6  0.0144 (0.0195)    \n",
       "7  -0.0799*** (0.0177)\n",
       "8  ___________________\n",
       "9  Heteroskedast.-rob.\n",
       "10 18,578             \n",
       "11 0.00089            \n",
       "12 0.00067            "
      ]
     },
     "metadata": {},
     "output_type": "display_data"
    },
    {
     "data": {
      "text/html": [
       "<table class=\"dataframe\">\n",
       "<caption>A etable_df: 12 × 4</caption>\n",
       "<thead>\n",
       "\t<tr><th></th><th scope=col></th><th scope=col>m_2020</th><th scope=col>m_2021</th><th scope=col>m_2022</th></tr>\n",
       "\t<tr><th></th><th scope=col>&lt;chr&gt;</th><th scope=col>&lt;chr&gt;</th><th scope=col>&lt;chr&gt;</th><th scope=col>&lt;chr&gt;</th></tr>\n",
       "</thead>\n",
       "<tbody>\n",
       "\t<tr><th scope=row>1</th><td>Dependent Var.:                     </td><td>log(v/v19)       </td><td>log(v/v19)      </td><td>log(v/v19)        </td></tr>\n",
       "\t<tr><th scope=row>2</th><td>                                    </td><td>                 </td><td>                </td><td>                  </td></tr>\n",
       "\t<tr><th scope=row>3</th><td>Constant                            </td><td>0.0244 (0.0654)  </td><td>0.1214* (0.0492)</td><td>0.2404*** (0.0446)</td></tr>\n",
       "\t<tr><th scope=row>4</th><td>log(deaths_i)                       </td><td>0.0072 (0.0058)  </td><td>0.0008 (0.0109) </td><td>-0.0101 (0.0099)  </td></tr>\n",
       "\t<tr><th scope=row>5</th><td>log(deaths_j)                       </td><td>-0.0146* (0.0061)</td><td>-0.0025 (0.0093)</td><td>-0.0088 (0.0084)  </td></tr>\n",
       "\t<tr><th scope=row>6</th><td>C8EV_International_travel_controls_i</td><td>-0.0155 (0.0180) </td><td>-0.0024 (0.0138)</td><td>0.0144 (0.0467)   </td></tr>\n",
       "\t<tr><th scope=row>7</th><td>C8EV_International_travel_controls_j</td><td>-0.0357* (0.0178)</td><td>-0.0049 (0.0134)</td><td>-0.0799. (0.0428) </td></tr>\n",
       "\t<tr><th scope=row>8</th><td>____________________________________</td><td>_________________</td><td>________________</td><td>__________________</td></tr>\n",
       "\t<tr><th scope=row>9</th><td><span style=white-space:pre-wrap>S.E.: Clustered                     </span></td><td><span style=white-space:pre-wrap>by: i &amp; j        </span></td><td><span style=white-space:pre-wrap>by: i &amp; j       </span></td><td><span style=white-space:pre-wrap>by: i &amp; j         </span></td></tr>\n",
       "\t<tr><th scope=row>10</th><td>Observations                        </td><td>18,391           </td><td>19,432          </td><td>18,578            </td></tr>\n",
       "\t<tr><th scope=row>11</th><td>R2                                  </td><td>0.00092          </td><td>8.38e-5         </td><td>0.00089           </td></tr>\n",
       "\t<tr><th scope=row>12</th><td>Adj. R2                             </td><td>0.00070          </td><td>-0.00012        </td><td>0.00067           </td></tr>\n",
       "</tbody>\n",
       "</table>\n"
      ],
      "text/latex": [
       "A etable\\_df: 12 × 4\n",
       "\\begin{tabular}{r|llll}\n",
       "  &  & m\\_2020 & m\\_2021 & m\\_2022\\\\\n",
       "  & <chr> & <chr> & <chr> & <chr>\\\\\n",
       "\\hline\n",
       "\t1 & Dependent Var.:                      & log(v/v19)        & log(v/v19)       & log(v/v19)        \\\\\n",
       "\t2 &                                      &                   &                  &                   \\\\\n",
       "\t3 & Constant                             & 0.0244 (0.0654)   & 0.1214* (0.0492) & 0.2404*** (0.0446)\\\\\n",
       "\t4 & log(deaths\\_i)                        & 0.0072 (0.0058)   & 0.0008 (0.0109)  & -0.0101 (0.0099)  \\\\\n",
       "\t5 & log(deaths\\_j)                        & -0.0146* (0.0061) & -0.0025 (0.0093) & -0.0088 (0.0084)  \\\\\n",
       "\t6 & C8EV\\_International\\_travel\\_controls\\_i & -0.0155 (0.0180)  & -0.0024 (0.0138) & 0.0144 (0.0467)   \\\\\n",
       "\t7 & C8EV\\_International\\_travel\\_controls\\_j & -0.0357* (0.0178) & -0.0049 (0.0134) & -0.0799. (0.0428) \\\\\n",
       "\t8 & \\_\\_\\_\\_\\_\\_\\_\\_\\_\\_\\_\\_\\_\\_\\_\\_\\_\\_\\_\\_\\_\\_\\_\\_\\_\\_\\_\\_\\_\\_\\_\\_\\_\\_\\_\\_ & \\_\\_\\_\\_\\_\\_\\_\\_\\_\\_\\_\\_\\_\\_\\_\\_\\_ & \\_\\_\\_\\_\\_\\_\\_\\_\\_\\_\\_\\_\\_\\_\\_\\_ & \\_\\_\\_\\_\\_\\_\\_\\_\\_\\_\\_\\_\\_\\_\\_\\_\\_\\_\\\\\n",
       "\t9 & S.E.: Clustered                      & by: i \\& j         & by: i \\& j        & by: i \\& j         \\\\\n",
       "\t10 & Observations                         & 18,391            & 19,432           & 18,578            \\\\\n",
       "\t11 & R2                                   & 0.00092           & 8.38e-5          & 0.00089           \\\\\n",
       "\t12 & Adj. R2                              & 0.00070           & -0.00012         & 0.00067           \\\\\n",
       "\\end{tabular}\n"
      ],
      "text/markdown": [
       "\n",
       "A etable_df: 12 × 4\n",
       "\n",
       "| <!--/--> | <!----> &lt;chr&gt; | m_2020 &lt;chr&gt; | m_2021 &lt;chr&gt; | m_2022 &lt;chr&gt; |\n",
       "|---|---|---|---|---|\n",
       "| 1 | Dependent Var.:                      | log(v/v19)        | log(v/v19)       | log(v/v19)         |\n",
       "| 2 | <!----> | <!----> | <!----> | <!----> |\n",
       "| 3 | Constant                             | 0.0244 (0.0654)   | 0.1214* (0.0492) | 0.2404*** (0.0446) |\n",
       "| 4 | log(deaths_i)                        | 0.0072 (0.0058)   | 0.0008 (0.0109)  | -0.0101 (0.0099)   |\n",
       "| 5 | log(deaths_j)                        | -0.0146* (0.0061) | -0.0025 (0.0093) | -0.0088 (0.0084)   |\n",
       "| 6 | C8EV_International_travel_controls_i | -0.0155 (0.0180)  | -0.0024 (0.0138) | 0.0144 (0.0467)    |\n",
       "| 7 | C8EV_International_travel_controls_j | -0.0357* (0.0178) | -0.0049 (0.0134) | -0.0799. (0.0428)  |\n",
       "| 8 | ____________________________________ | _________________ | ________________ | __________________ |\n",
       "| 9 | S.E.: Clustered                      | by: i &amp; j         | by: i &amp; j        | by: i &amp; j          |\n",
       "| 10 | Observations                         | 18,391            | 19,432           | 18,578             |\n",
       "| 11 | R2                                   | 0.00092           | 8.38e-5          | 0.00089            |\n",
       "| 12 | Adj. R2                              | 0.00070           | -0.00012         | 0.00067            |\n",
       "\n"
      ],
      "text/plain": [
       "                                        m_2020            m_2021          \n",
       "1  Dependent Var.:                      log(v/v19)        log(v/v19)      \n",
       "2                                                                         \n",
       "3  Constant                             0.0244 (0.0654)   0.1214* (0.0492)\n",
       "4  log(deaths_i)                        0.0072 (0.0058)   0.0008 (0.0109) \n",
       "5  log(deaths_j)                        -0.0146* (0.0061) -0.0025 (0.0093)\n",
       "6  C8EV_International_travel_controls_i -0.0155 (0.0180)  -0.0024 (0.0138)\n",
       "7  C8EV_International_travel_controls_j -0.0357* (0.0178) -0.0049 (0.0134)\n",
       "8  ____________________________________ _________________ ________________\n",
       "9  S.E.: Clustered                      by: i & j         by: i & j       \n",
       "10 Observations                         18,391            19,432          \n",
       "11 R2                                   0.00092           8.38e-5         \n",
       "12 Adj. R2                              0.00070           -0.00012        \n",
       "   m_2022            \n",
       "1  log(v/v19)        \n",
       "2                    \n",
       "3  0.2404*** (0.0446)\n",
       "4  -0.0101 (0.0099)  \n",
       "5  -0.0088 (0.0084)  \n",
       "6  0.0144 (0.0467)   \n",
       "7  -0.0799. (0.0428) \n",
       "8  __________________\n",
       "9  by: i & j         \n",
       "10 18,578            \n",
       "11 0.00089           \n",
       "12 0.00067           "
      ]
     },
     "metadata": {},
     "output_type": "display_data"
    }
   ],
   "source": [
    "# С инструментами оценки коэффициентов всё равно не похожи на панельные данные (пространственные смещённые, т.к должно быть много unobservables)\n",
    "# Использую ошибки hc1\n",
    "# Подумать про эндогенность пропусков. Мб пропуски в инструментальных переменных можно смело заполнять?\n",
    "# Почему экзогенные в панельной спецификации инструменты эндогенны в пространственной?\n",
    "m_2020 = feols(log(v/v19) ~  1+\n",
    " C8EV_International_travel_controls_i + C8EV_International_travel_controls_j |\n",
    " log(deaths_i) + log(deaths_j) ~ \n",
    " C1M_School_closing_i+C1M_School_closing_j+median_age_i + median_age_j + population_density_i + population_density_j,\n",
    " data = df %>% filter(year == '2020')\n",
    " )\n",
    "m_2021 = feols(log(v/v19) ~  1+\n",
    " C8EV_International_travel_controls_i + C8EV_International_travel_controls_j |\n",
    " log(deaths_i) + log(deaths_j) ~ \n",
    " C1M_School_closing_i+C1M_School_closing_j+ median_age_i + median_age_j + population_density_i + population_density_j,\n",
    " data = df %>% filter(year == '2021')\n",
    " )\n",
    "m_2022 = feols(log(v/v19) ~  1+\n",
    " C8EV_International_travel_controls_i + C8EV_International_travel_controls_j |\n",
    " log(deaths_i) + log(deaths_j) ~ \n",
    " C1M_School_closing_i+C1M_School_closing_j+ median_age_i + median_age_j + population_density_i + population_density_j,\n",
    " data = df %>% filter(year == '2022')\n",
    " )\n",
    "summary(m_2020, vcov = 'hc1') \n",
    "summary(m_2021, vcov = 'hc1') \n",
    "summary(m_2022, vcov = 'hc1') \n",
    "etable(m_2020, m_2021, m_2022, vcov = 'hc1', signif.code = signif.code)\n",
    "etable(m_2020, m_2021, m_2022, vcov = ~i+j, signif.code = signif.code)"
   ]
  }
 ],
 "metadata": {
  "kernelspec": {
   "display_name": "R",
   "language": "R",
   "name": "ir"
  },
  "language_info": {
   "codemirror_mode": "r",
   "file_extension": ".r",
   "mimetype": "text/x-r-source",
   "name": "R",
   "pygments_lexer": "r",
   "version": "4.4.1"
  }
 },
 "nbformat": 4,
 "nbformat_minor": 2
}
