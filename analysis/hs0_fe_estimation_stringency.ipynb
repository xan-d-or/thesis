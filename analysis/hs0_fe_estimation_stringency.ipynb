{
 "cells": [
  {
   "cell_type": "markdown",
   "metadata": {},
   "source": [
    "# Оцениваем регрессии на данных HS0 в спецификациях:\n",
    "- Фиксированные эффекты ~ ковид и ограничения\n",
    "- Фиксированные эффекты ~ ковид и ограничения | инструментальные переменные\n",
    "- В перспективе: суммарный экспорт/импорт в зависимости от ковида (+ IV)"
   ]
  },
  {
   "cell_type": "code",
   "execution_count": 1,
   "metadata": {
    "vscode": {
     "languageId": "r"
    }
   },
   "outputs": [
    {
     "name": "stderr",
     "output_type": "stream",
     "text": [
      "\n",
      "Присоединяю пакет: 'arrow'\n",
      "\n",
      "\n",
      "Следующий объект скрыт от 'package:utils':\n",
      "\n",
      "    timestamp\n",
      "\n",
      "\n",
      "\n",
      "Please cite as: \n",
      "\n",
      "\n",
      " Hlavac, Marek (2022). stargazer: Well-Formatted Regression and Summary Statistics Tables.\n",
      "\n",
      " R package version 5.2.3. https://CRAN.R-project.org/package=stargazer \n",
      "\n",
      "\n",
      "Warning message:\n",
      "\"пакет 'tidyverse' был собран под R версии 4.4.2\"\n",
      "── \u001b[1mAttaching core tidyverse packages\u001b[22m ──────────────────────── tidyverse 2.0.0 ──\n",
      "\u001b[32m✔\u001b[39m \u001b[34mdplyr    \u001b[39m 1.1.4     \u001b[32m✔\u001b[39m \u001b[34mreadr    \u001b[39m 2.1.5\n",
      "\u001b[32m✔\u001b[39m \u001b[34mforcats  \u001b[39m 1.0.0     \u001b[32m✔\u001b[39m \u001b[34mstringr  \u001b[39m 1.5.1\n",
      "\u001b[32m✔\u001b[39m \u001b[34mggplot2  \u001b[39m 3.5.1     \u001b[32m✔\u001b[39m \u001b[34mtibble   \u001b[39m 3.2.1\n",
      "\u001b[32m✔\u001b[39m \u001b[34mlubridate\u001b[39m 1.9.3     \u001b[32m✔\u001b[39m \u001b[34mtidyr    \u001b[39m 1.3.1\n",
      "\u001b[32m✔\u001b[39m \u001b[34mpurrr    \u001b[39m 1.0.2     \n",
      "── \u001b[1mConflicts\u001b[22m ────────────────────────────────────────── tidyverse_conflicts() ──\n",
      "\u001b[31m✖\u001b[39m \u001b[34mlubridate\u001b[39m::\u001b[32mduration()\u001b[39m masks \u001b[34marrow\u001b[39m::duration()\n",
      "\u001b[31m✖\u001b[39m \u001b[34mdplyr\u001b[39m::\u001b[32mfilter()\u001b[39m       masks \u001b[34mstats\u001b[39m::filter()\n",
      "\u001b[31m✖\u001b[39m \u001b[34mdplyr\u001b[39m::\u001b[32mlag()\u001b[39m          masks \u001b[34mstats\u001b[39m::lag()\n",
      "\u001b[36mℹ\u001b[39m Use the conflicted package (\u001b[3m\u001b[34m<http://conflicted.r-lib.org/>\u001b[39m\u001b[23m) to force all conflicts to become errors\n",
      "Warning message:\n",
      "\"пакет 'plotly' был собран под R версии 4.4.2\"\n",
      "\n",
      "Присоединяю пакет: 'plotly'\n",
      "\n",
      "\n",
      "Следующий объект скрыт от 'package:ggplot2':\n",
      "\n",
      "    last_plot\n",
      "\n",
      "\n",
      "Следующий объект скрыт от 'package:arrow':\n",
      "\n",
      "    schema\n",
      "\n",
      "\n",
      "Следующий объект скрыт от 'package:stats':\n",
      "\n",
      "    filter\n",
      "\n",
      "\n",
      "Следующий объект скрыт от 'package:graphics':\n",
      "\n",
      "    layout\n",
      "\n",
      "\n"
     ]
    }
   ],
   "source": [
    "library(arrow)\n",
    "library(stargazer)\n",
    "library(tidyverse)\n",
    "library(plotly)\n",
    "library(fixest)"
   ]
  },
  {
   "cell_type": "markdown",
   "metadata": {},
   "source": [
    "## Фиксированные эффекты"
   ]
  },
  {
   "cell_type": "markdown",
   "metadata": {},
   "source": [
    "### Экспорт\n",
    "\n",
    "+иллюстрирую, зачем тут нужны фиксированные эффекты"
   ]
  },
  {
   "cell_type": "code",
   "execution_count": 2,
   "metadata": {
    "vscode": {
     "languageId": "r"
    }
   },
   "outputs": [
    {
     "data": {
      "text/html": [
       "<table class=\"dataframe\">\n",
       "<caption>A tibble: 6 × 63</caption>\n",
       "<thead>\n",
       "\t<tr><th scope=col>year</th><th scope=col>country</th><th scope=col>value</th><th scope=col>country:r</th><th scope=col>t</th><th scope=col>cases</th><th scope=col>deaths</th><th scope=col>tests</th><th scope=col>C1M_School_closing</th><th scope=col>C2M_Workplace_closing</th><th scope=col>⋯</th><th scope=col>infant_mortality</th><th scope=col>largest_city_share</th><th scope=col>urbanization</th><th scope=col>country:household_size</th><th scope=col>avg_hh_size</th><th scope=col>share_1_members</th><th scope=col>share_2_3_members</th><th scope=col>share_4_5_members</th><th scope=col>year:r</th><th scope=col>SARS_flg</th></tr>\n",
       "\t<tr><th scope=col>&lt;chr&gt;</th><th scope=col>&lt;chr&gt;</th><th scope=col>&lt;dbl&gt;</th><th scope=col>&lt;chr&gt;</th><th scope=col>&lt;int&gt;</th><th scope=col>&lt;dbl&gt;</th><th scope=col>&lt;dbl&gt;</th><th scope=col>&lt;chr&gt;</th><th scope=col>&lt;dbl&gt;</th><th scope=col>&lt;dbl&gt;</th><th scope=col>⋯</th><th scope=col>&lt;dbl&gt;</th><th scope=col>&lt;dbl&gt;</th><th scope=col>&lt;dbl&gt;</th><th scope=col>&lt;chr&gt;</th><th scope=col>&lt;dbl&gt;</th><th scope=col>&lt;dbl&gt;</th><th scope=col>&lt;dbl&gt;</th><th scope=col>&lt;dbl&gt;</th><th scope=col>&lt;chr&gt;</th><th scope=col>&lt;int&gt;</th></tr>\n",
       "</thead>\n",
       "<tbody>\n",
       "\t<tr><td>2020</td><td>SLV</td><td> 4.858130</td><td>SLV</td><td>2020</td><td> 19.6259116</td><td>0.57060773</td><td>NA</td><td>2.426229</td><td>1.4344262</td><td>⋯</td><td>11.0</td><td>24.14867</td><td>17.73575</td><td>SLV</td><td>3.92</td><td> 8.46</td><td>36.01</td><td>37.84</td><td>2020</td><td>0</td></tr>\n",
       "\t<tr><td>2022</td><td>ASM</td><td>-6.219868</td><td>ASM</td><td>2022</td><td>467.6200274</td><td>1.92600000</td><td>NA</td><td>      NA</td><td>       NA</td><td>⋯</td><td>  NA</td><td>      NA</td><td>      NA</td><td>NA </td><td>  NA</td><td>   NA</td><td>   NA</td><td>   NA</td><td>2022</td><td>0</td></tr>\n",
       "\t<tr><td>2020</td><td>BOL</td><td> 5.237020</td><td>BOL</td><td>2020</td><td> 35.1308840</td><td>2.07754144</td><td>NA</td><td>2.418033</td><td>1.8306011</td><td>⋯</td><td>21.0</td><td>22.42107</td><td>41.25143</td><td>BOL</td><td>3.53</td><td>20.34</td><td>34.82</td><td>27.64</td><td>2020</td><td>0</td></tr>\n",
       "\t<tr><td>2020</td><td>SLE</td><td> 2.576115</td><td>SLE</td><td>2020</td><td>  0.8507182</td><td>0.02530387</td><td>NA</td><td>1.606557</td><td>0.2349727</td><td>⋯</td><td>80.3</td><td>35.38844</td><td>15.18978</td><td>SLE</td><td>5.29</td><td> 6.42</td><td>20.52</td><td>33.28</td><td>2020</td><td>0</td></tr>\n",
       "\t<tr><td>2020</td><td>LKA</td><td> 7.712751</td><td>LKA</td><td>2020</td><td>  4.9664917</td><td>0.02309392</td><td>NA</td><td>1.931694</td><td>0.5546448</td><td>⋯</td><td> 6.0</td><td>14.93368</td><td>      NA</td><td>NA </td><td>  NA</td><td>   NA</td><td>   NA</td><td>   NA</td><td>2020</td><td>0</td></tr>\n",
       "\t<tr><td>2022</td><td>ATG</td><td>-4.746044</td><td>ATG</td><td>2022</td><td>143.9042740</td><td>0.82619178</td><td>NA</td><td>      NA</td><td>       NA</td><td>⋯</td><td> 8.1</td><td>      NA</td><td>      NA</td><td>NA </td><td>  NA</td><td>   NA</td><td>   NA</td><td>   NA</td><td>2022</td><td>0</td></tr>\n",
       "</tbody>\n",
       "</table>\n"
      ],
      "text/latex": [
       "A tibble: 6 × 63\n",
       "\\begin{tabular}{lllllllllllllllllllll}\n",
       " year & country & value & country:r & t & cases & deaths & tests & C1M\\_School\\_closing & C2M\\_Workplace\\_closing & ⋯ & infant\\_mortality & largest\\_city\\_share & urbanization & country:household\\_size & avg\\_hh\\_size & share\\_1\\_members & share\\_2\\_3\\_members & share\\_4\\_5\\_members & year:r & SARS\\_flg\\\\\n",
       " <chr> & <chr> & <dbl> & <chr> & <int> & <dbl> & <dbl> & <chr> & <dbl> & <dbl> & ⋯ & <dbl> & <dbl> & <dbl> & <chr> & <dbl> & <dbl> & <dbl> & <dbl> & <chr> & <int>\\\\\n",
       "\\hline\n",
       "\t 2020 & SLV &  4.858130 & SLV & 2020 &  19.6259116 & 0.57060773 & NA & 2.426229 & 1.4344262 & ⋯ & 11.0 & 24.14867 & 17.73575 & SLV & 3.92 &  8.46 & 36.01 & 37.84 & 2020 & 0\\\\\n",
       "\t 2022 & ASM & -6.219868 & ASM & 2022 & 467.6200274 & 1.92600000 & NA &       NA &        NA & ⋯ &   NA &       NA &       NA & NA  &   NA &    NA &    NA &    NA & 2022 & 0\\\\\n",
       "\t 2020 & BOL &  5.237020 & BOL & 2020 &  35.1308840 & 2.07754144 & NA & 2.418033 & 1.8306011 & ⋯ & 21.0 & 22.42107 & 41.25143 & BOL & 3.53 & 20.34 & 34.82 & 27.64 & 2020 & 0\\\\\n",
       "\t 2020 & SLE &  2.576115 & SLE & 2020 &   0.8507182 & 0.02530387 & NA & 1.606557 & 0.2349727 & ⋯ & 80.3 & 35.38844 & 15.18978 & SLE & 5.29 &  6.42 & 20.52 & 33.28 & 2020 & 0\\\\\n",
       "\t 2020 & LKA &  7.712751 & LKA & 2020 &   4.9664917 & 0.02309392 & NA & 1.931694 & 0.5546448 & ⋯ &  6.0 & 14.93368 &       NA & NA  &   NA &    NA &    NA &    NA & 2020 & 0\\\\\n",
       "\t 2022 & ATG & -4.746044 & ATG & 2022 & 143.9042740 & 0.82619178 & NA &       NA &        NA & ⋯ &  8.1 &       NA &       NA & NA  &   NA &    NA &    NA &    NA & 2022 & 0\\\\\n",
       "\\end{tabular}\n"
      ],
      "text/markdown": [
       "\n",
       "A tibble: 6 × 63\n",
       "\n",
       "| year &lt;chr&gt; | country &lt;chr&gt; | value &lt;dbl&gt; | country:r &lt;chr&gt; | t &lt;int&gt; | cases &lt;dbl&gt; | deaths &lt;dbl&gt; | tests &lt;chr&gt; | C1M_School_closing &lt;dbl&gt; | C2M_Workplace_closing &lt;dbl&gt; | ⋯ ⋯ | infant_mortality &lt;dbl&gt; | largest_city_share &lt;dbl&gt; | urbanization &lt;dbl&gt; | country:household_size &lt;chr&gt; | avg_hh_size &lt;dbl&gt; | share_1_members &lt;dbl&gt; | share_2_3_members &lt;dbl&gt; | share_4_5_members &lt;dbl&gt; | year:r &lt;chr&gt; | SARS_flg &lt;int&gt; |\n",
       "|---|---|---|---|---|---|---|---|---|---|---|---|---|---|---|---|---|---|---|---|---|\n",
       "| 2020 | SLV |  4.858130 | SLV | 2020 |  19.6259116 | 0.57060773 | NA | 2.426229 | 1.4344262 | ⋯ | 11.0 | 24.14867 | 17.73575 | SLV | 3.92 |  8.46 | 36.01 | 37.84 | 2020 | 0 |\n",
       "| 2022 | ASM | -6.219868 | ASM | 2022 | 467.6200274 | 1.92600000 | NA |       NA |        NA | ⋯ |   NA |       NA |       NA | NA  |   NA |    NA |    NA |    NA | 2022 | 0 |\n",
       "| 2020 | BOL |  5.237020 | BOL | 2020 |  35.1308840 | 2.07754144 | NA | 2.418033 | 1.8306011 | ⋯ | 21.0 | 22.42107 | 41.25143 | BOL | 3.53 | 20.34 | 34.82 | 27.64 | 2020 | 0 |\n",
       "| 2020 | SLE |  2.576115 | SLE | 2020 |   0.8507182 | 0.02530387 | NA | 1.606557 | 0.2349727 | ⋯ | 80.3 | 35.38844 | 15.18978 | SLE | 5.29 |  6.42 | 20.52 | 33.28 | 2020 | 0 |\n",
       "| 2020 | LKA |  7.712751 | LKA | 2020 |   4.9664917 | 0.02309392 | NA | 1.931694 | 0.5546448 | ⋯ |  6.0 | 14.93368 |       NA | NA  |   NA |    NA |    NA |    NA | 2020 | 0 |\n",
       "| 2022 | ATG | -4.746044 | ATG | 2022 | 143.9042740 | 0.82619178 | NA |       NA |        NA | ⋯ |  8.1 |       NA |       NA | NA  |   NA |    NA |    NA |    NA | 2022 | 0 |\n",
       "\n"
      ],
      "text/plain": [
       "  year country value     country:r t    cases       deaths     tests\n",
       "1 2020 SLV      4.858130 SLV       2020  19.6259116 0.57060773 NA   \n",
       "2 2022 ASM     -6.219868 ASM       2022 467.6200274 1.92600000 NA   \n",
       "3 2020 BOL      5.237020 BOL       2020  35.1308840 2.07754144 NA   \n",
       "4 2020 SLE      2.576115 SLE       2020   0.8507182 0.02530387 NA   \n",
       "5 2020 LKA      7.712751 LKA       2020   4.9664917 0.02309392 NA   \n",
       "6 2022 ATG     -4.746044 ATG       2022 143.9042740 0.82619178 NA   \n",
       "  C1M_School_closing C2M_Workplace_closing ⋯ infant_mortality\n",
       "1 2.426229           1.4344262             ⋯ 11.0            \n",
       "2       NA                  NA             ⋯   NA            \n",
       "3 2.418033           1.8306011             ⋯ 21.0            \n",
       "4 1.606557           0.2349727             ⋯ 80.3            \n",
       "5 1.931694           0.5546448             ⋯  6.0            \n",
       "6       NA                  NA             ⋯  8.1            \n",
       "  largest_city_share urbanization country:household_size avg_hh_size\n",
       "1 24.14867           17.73575     SLV                    3.92       \n",
       "2       NA                 NA     NA                       NA       \n",
       "3 22.42107           41.25143     BOL                    3.53       \n",
       "4 35.38844           15.18978     SLE                    5.29       \n",
       "5 14.93368                 NA     NA                       NA       \n",
       "6       NA                 NA     NA                       NA       \n",
       "  share_1_members share_2_3_members share_4_5_members year:r SARS_flg\n",
       "1  8.46           36.01             37.84             2020   0       \n",
       "2    NA              NA                NA             2022   0       \n",
       "3 20.34           34.82             27.64             2020   0       \n",
       "4  6.42           20.52             33.28             2020   0       \n",
       "5    NA              NA                NA             2020   0       \n",
       "6    NA              NA                NA             2022   0       "
      ]
     },
     "metadata": {},
     "output_type": "display_data"
    }
   ],
   "source": [
    "# Скачиваю данные и переназываю переменные\n",
    "df = read_parquet('../data/processed_data/trade_hs0_export_fe_x_covid.parquet.gzip')\n",
    "df = df %>% mutate(year = as.character(year), SARS_flg = as.integer(!is.na(SARS_total_cases)))\n",
    "df %>% head()\n"
   ]
  },
  {
   "cell_type": "markdown",
   "metadata": {},
   "source": [
    "### Рисую обычный и demeaned scatterplot, чтобы обосновать необходимость использования фиксированных эффектов\n",
    "\n",
    "Графики будут интерактивные, если раскомментить ggplotly, закомментить p и перепрогнать"
   ]
  },
  {
   "cell_type": "code",
   "execution_count": 4,
   "metadata": {
    "vscode": {
     "languageId": "r"
    }
   },
   "outputs": [
    {
     "name": "stderr",
     "output_type": "stream",
     "text": [
      "Warning message:\n",
      "\"\u001b[1m\u001b[22mRemoved 128 rows containing missing values or values outside the scale range\n",
      "(`geom_point()`).\"\n"
     ]
    },
    {
     "data": {
      "image/png": "[encoded data removed]",
      "text/plain": [
       "plot without title"
      ]
     },
     "metadata": {
      "image/png": {
       "height": 420,
       "width": 420
      }
     },
     "output_type": "display_data"
    }
   ],
   "source": [
    "country_means_df = df %>% group_by(country) %>%\n",
    " summarize(avg_value = mean(value, na.rm = TRUE), avg_StringencyIndex_Average = mean(StringencyIndex_Average, na.rm = TRUE))\n",
    "\n",
    "demeaned_df = df %>% merge(., country_means_df, by = 'country')  %>%\n",
    "  mutate(StringencyIndex_Average = StringencyIndex_Average- avg_StringencyIndex_Average, value = value- avg_value) %>%\n",
    "   select(country, year, StringencyIndex_Average, value)\n",
    "   \n",
    "year_means_df = demeaned_df %>% group_by(year) %>%\n",
    " summarize(avg_value = mean(value, na.rm = TRUE), avg_StringencyIndex_Average = mean(StringencyIndex_Average, na.rm = TRUE))\n",
    "\n",
    "demeaned_df2 = demeaned_df %>% merge(., year_means_df, by = 'year')  %>%\n",
    "  mutate(StringencyIndex_Average = StringencyIndex_Average- avg_StringencyIndex_Average, value = value - avg_value) %>%\n",
    "   select(country, year, StringencyIndex_Average, value)\n",
    "\n",
    "p = ggplot(demeaned_df2, aes(x = StringencyIndex_Average, y = value, text = factor(country), color = factor(year)\n",
    "    )) + geom_point()+ theme(legend.position = \"none\")\n",
    "# ggplotly(p)    \n",
    "p"
   ]
  },
  {
   "cell_type": "markdown",
   "metadata": {},
   "source": [
    "### Сами регрессии"
   ]
  },
  {
   "cell_type": "code",
   "execution_count": 5,
   "metadata": {
    "vscode": {
     "languageId": "r"
    }
   },
   "outputs": [
    {
     "name": "stderr",
     "output_type": "stream",
     "text": [
      "NOTE: 156 observations removed because of NA and infinite values (LHS: 2, RHS: 154).\n",
      "\n"
     ]
    },
    {
     "data": {
      "text/plain": [
       "OLS estimation, Dep. Var.: value\n",
       "Observations: 503\n",
       "Fixed-effects: year: 3\n",
       "Standard-errors: Clustered (country) \n",
       "                        Estimate Std. Error t value   Pr(>|t|)    \n",
       "log(deaths)             0.524724   0.110739 4.73840 4.4569e-06 ***\n",
       "StringencyIndex_Average 0.018684   0.018433 1.01366 3.1215e-01    \n",
       "---\n",
       "Signif. codes:  0 '***' 0.001 '**' 0.01 '*' 0.05 '.' 0.1 ' ' 1\n",
       "RMSE: 2.99351     Adj. R2: 0.436824\n",
       "                Within R2: 0.128344"
      ]
     },
     "metadata": {},
     "output_type": "display_data"
    }
   ],
   "source": [
    "# Pulled OLS\n",
    "export_pulled_ols = feols(value ~ log(deaths) +\n",
    " StringencyIndex_Average| year,\n",
    " data = df)\n",
    "export_pulled_ols %>% summary(vcov = ~country)"
   ]
  },
  {
   "cell_type": "code",
   "execution_count": 6,
   "metadata": {
    "vscode": {
     "languageId": "r"
    }
   },
   "outputs": [
    {
     "name": "stderr",
     "output_type": "stream",
     "text": [
      "NOTE: 156 observations removed because of NA and infinite values (LHS: 2, RHS: 154).\n",
      "\n"
     ]
    },
    {
     "data": {
      "text/plain": [
       "OLS estimation, Dep. Var.: value\n",
       "Observations: 503\n",
       "Fixed-effects: country: 175,  year: 3\n",
       "Standard-errors: Clustered (country) \n",
       "                         Estimate Std. Error  t value Pr(>|t|)    \n",
       "log(deaths)             -0.029375   0.012601 -2.33122 0.020888 *  \n",
       "StringencyIndex_Average -0.001757   0.001390 -1.26337 0.208147    \n",
       "---\n",
       "Signif. codes:  0 '***' 0.001 '**' 0.01 '*' 0.05 '.' 0.1 ' ' 1\n",
       "RMSE: 0.174355     Adj. R2: 0.997063\n",
       "                 Within R2: 0.027457"
      ]
     },
     "metadata": {},
     "output_type": "display_data"
    }
   ],
   "source": [
    "export_fe_ols = feols(value ~ log(deaths) +\n",
    " StringencyIndex_Average| country + year,\n",
    " data = df)\n",
    "export_fe_ols %>% summary(vcov = ~country)"
   ]
  },
  {
   "cell_type": "code",
   "execution_count": 7,
   "metadata": {
    "vscode": {
     "languageId": "r"
    }
   },
   "outputs": [
    {
     "name": "stderr",
     "output_type": "stream",
     "text": [
      "NOTE: 158 observations removed because of NA and infinite values (LHS: 2, RHS: 126, IV: 74/130).\n",
      "\n"
     ]
    },
    {
     "data": {
      "text/plain": [
       "TSLS estimation - Dep. Var.: value\n",
       "                  Endo.    : log(deaths)\n",
       "                  Instr.   : C1M_School_closing, median_age, population_density\n",
       "Second stage: Dep. Var.: value\n",
       "Observations: 501\n",
       "Fixed-effects: country: 175,  year: 3\n",
       "Standard-errors: Clustered (country) \n",
       "                         Estimate Std. Error   t value Pr(>|t|) \n",
       "fit_log(deaths)          0.034276   0.055603  0.616443  0.53841 \n",
       "StringencyIndex_Average -0.002944   0.001845 -1.595744  0.11236 \n",
       "---\n",
       "Signif. codes:  0 '***' 0.001 '**' 0.01 '*' 0.05 '.' 0.1 ' ' 1\n",
       "RMSE: 0.182672     Adj. R2:  0.99677 \n",
       "                 Within R2: -0.063851\n",
       "F-test (1st stage), log(deaths): stat = 5.12746 , p = 0.001683, on 3 and 494 DoF.\n",
       "                     Wu-Hausman: stat = 0.937527, p = 0.333644, on 1 and 321 DoF.\n",
       "                         Sargan: stat = 1.33405 , p = 0.513234, on 2 DoF."
      ]
     },
     "metadata": {},
     "output_type": "display_data"
    }
   ],
   "source": [
    "# Тут всё экзогенно\n",
    "export_covid_iv = feols(value ~ 1 + StringencyIndex_Average|country + year|\n",
    " log(deaths) ~ \n",
    "#  H6M_Facial_Coverings+\n",
    " C1M_School_closing+median_age+population_density,\n",
    " data = df)\n",
    "export_covid_iv %>% summary(vcov = ~country)"
   ]
  },
  {
   "cell_type": "code",
   "execution_count": 8,
   "metadata": {
    "vscode": {
     "languageId": "r"
    }
   },
   "outputs": [
    {
     "name": "stderr",
     "output_type": "stream",
     "text": [
      "NOTE: 158 observations removed because of NA and infinite values (LHS: 2, IV: 154/130).\n",
      "\n"
     ]
    },
    {
     "data": {
      "text/plain": [
       "TSLS estimation - Dep. Var.: value\n",
       "                  Endo.    : log(deaths), StringencyIndex_Average\n",
       "                  Instr.   : C1M_School_closing, median_age, population_density\n",
       "Second stage: Dep. Var.: value\n",
       "Observations: 501\n",
       "Fixed-effects: country: 175,  year: 3\n",
       "Standard-errors: Clustered (country) \n",
       "                             Estimate Std. Error   t value Pr(>|t|) \n",
       "fit_log(deaths)              0.056799   0.059845  0.949111  0.34388 \n",
       "fit_StringencyIndex_Average -0.004506   0.002925 -1.540445  0.12527 \n",
       "---\n",
       "Signif. codes:  0 '***' 0.001 '**' 0.01 '*' 0.05 '.' 0.1 ' ' 1\n",
       "RMSE: 0.189214     Adj. R2:  0.996534\n",
       "                 Within R2: -0.141422\n",
       "F-test (1st stage), log(deaths)            : stat =   8.63355 , p = 1.355e-5, on 3 and 495 DoF.\n",
       "F-test (1st stage), StringencyIndex_Average: stat = 117.7     , p < 2.2e-16 , on 3 and 495 DoF.\n",
       "                                 Wu-Hausman: stat =   0.632627, p = 0.531858, on 2 and 320 DoF.\n",
       "                                     Sargan: stat =   0.805178, p = 0.36955 , on 1 DoF."
      ]
     },
     "metadata": {},
     "output_type": "display_data"
    }
   ],
   "source": [
    "export_all_iv = feols(value ~ 1 |country + year|\n",
    " log(deaths) + StringencyIndex_Average ~ #H6M_Facial_Coverings+\n",
    " C1M_School_closing+median_age+population_density,\n",
    " data = df)\n",
    "export_all_iv %>% summary(vcov = ~country)"
   ]
  },
  {
   "cell_type": "code",
   "execution_count": 9,
   "metadata": {
    "vscode": {
     "languageId": "r"
    }
   },
   "outputs": [
    {
     "name": "stderr",
     "output_type": "stream",
     "text": [
      "NOTE: 156 observations removed because of NA and infinite values (LHS: 2, RHS: 154).\n",
      "\n"
     ]
    },
    {
     "data": {
      "text/plain": [
       "OLS estimation, Dep. Var.: value\n",
       "Observations: 503\n",
       "Fixed-effects: country: 175\n",
       "Standard-errors: Clustered (country) \n",
       "                                  Estimate Std. Error    t value  Pr(>|t|)    \n",
       "year2021                         -5.054656   0.143238 -35.288439 < 2.2e-16 ***\n",
       "year2022                         -5.094831   0.152739 -33.356520 < 2.2e-16 ***\n",
       "year2020:log(deaths)             -0.036097   0.016491  -2.188913  0.029935 *  \n",
       "year2021:log(deaths)             -0.029316   0.015828  -1.852174  0.065695 .  \n",
       "year2022:log(deaths)             -0.022349   0.013791  -1.620544  0.106926    \n",
       "year2020:StringencyIndex_Average -0.004144   0.002811  -1.474399  0.142181    \n",
       "year2021:StringencyIndex_Average -0.001306   0.001806  -0.723238  0.470505    \n",
       "year2022:StringencyIndex_Average  0.001000   0.001840   0.543252  0.587651    \n",
       "---\n",
       "Signif. codes:  0 '***' 0.001 '**' 0.01 '*' 0.05 '.' 0.1 ' ' 1\n",
       "RMSE: 0.172732     Adj. R2: 0.997082\n",
       "                 Within R2: 0.994195"
      ]
     },
     "metadata": {},
     "output_type": "display_data"
    }
   ],
   "source": [
    "# Гетерогенность во времени\n",
    "export_time_effects = feols(value ~ year/log(deaths) + year/StringencyIndex_Average| country,\n",
    " data = df)\n",
    "export_time_effects %>% summary(vcov = ~country)"
   ]
  },
  {
   "cell_type": "code",
   "execution_count": 10,
   "metadata": {
    "vscode": {
     "languageId": "r"
    }
   },
   "outputs": [
    {
     "name": "stderr",
     "output_type": "stream",
     "text": [
      "NOTE: 76 observations removed because of NA and infinite values (LHS: 2, RHS: 74).\n",
      "\n"
     ]
    },
    {
     "data": {
      "text/plain": [
       "OLS estimation, Dep. Var.: value\n",
       "Observations: 583\n",
       "Fixed-effects: country: 210\n",
       "Standard-errors: Clustered (country) \n",
       "                      Estimate Std. Error    t value   Pr(>|t|)    \n",
       "year2021             -4.898938   0.031134 -157.35089  < 2.2e-16 ***\n",
       "year2022             -4.868733   0.033772 -144.16483  < 2.2e-16 ***\n",
       "year2020:log(deaths) -0.052960   0.015411   -3.43655 0.00071073 ***\n",
       "year2021:log(deaths) -0.045316   0.015409   -2.94095 0.00364076 ** \n",
       "year2022:log(deaths) -0.033211   0.014880   -2.23194 0.02668008 *  \n",
       "---\n",
       "Signif. codes:  0 '***' 0.001 '**' 0.01 '*' 0.05 '.' 0.1 ' ' 1\n",
       "RMSE: 0.189434     Adj. R2: 0.996996\n",
       "                 Within R2: 0.992858"
      ]
     },
     "metadata": {},
     "output_type": "display_data"
    }
   ],
   "source": [
    "# Гетерогенность во времени\n",
    "export_covid_time_effects = feols(value ~ year/log(deaths)| country,\n",
    " data = df)\n",
    "export_covid_time_effects %>% summary(vcov = ~country)\n",
    "# Ядро крашится почему-то\n",
    "# feols(value ~ 1| country|\n",
    "# year/log(deaths)~C1M_School_closing+median_age+population_density,\n",
    "#  data = df) %>% summary(vcov = ~country)"
   ]
  },
  {
   "cell_type": "code",
   "execution_count": 11,
   "metadata": {
    "vscode": {
     "languageId": "r"
    }
   },
   "outputs": [
    {
     "data": {
      "text/html": [
       "<table class=\"dataframe\">\n",
       "<caption>A etable_df: 23 × 4</caption>\n",
       "<thead>\n",
       "\t<tr><th></th><th scope=col></th><th scope=col>export_fe_ols</th><th scope=col>export_time_effe..</th><th scope=col>export_covid_iv</th></tr>\n",
       "\t<tr><th></th><th scope=col>&lt;chr&gt;</th><th scope=col>&lt;chr&gt;</th><th scope=col>&lt;chr&gt;</th><th scope=col>&lt;chr&gt;</th></tr>\n",
       "</thead>\n",
       "<tbody>\n",
       "\t<tr><th scope=row>1</th><td>Dependent Var.:                   </td><td>value            </td><td>value             </td><td>value           </td></tr>\n",
       "\t<tr><th scope=row>2</th><td>                                  </td><td>                 </td><td>                  </td><td>                </td></tr>\n",
       "\t<tr><th scope=row>3</th><td>log(deaths)                       </td><td>-0.0294* (0.0126)</td><td>                  </td><td>0.0343 (0.0556) </td></tr>\n",
       "\t<tr><th scope=row>4</th><td>StringencyIndex_Average           </td><td>-0.0018 (0.0014) </td><td>                  </td><td>-0.0029 (0.0018)</td></tr>\n",
       "\t<tr><th scope=row>5</th><td>year2021                          </td><td>                 </td><td>-5.055*** (0.1432)</td><td>                </td></tr>\n",
       "\t<tr><th scope=row>6</th><td>year2022                          </td><td>                 </td><td>-5.095*** (0.1527)</td><td>                </td></tr>\n",
       "\t<tr><th scope=row>7</th><td>year2020 x log(deaths)            </td><td>                 </td><td>-0.0361* (0.0165) </td><td>                </td></tr>\n",
       "\t<tr><th scope=row>8</th><td>year2021 x log(deaths)            </td><td>                 </td><td>-0.0293. (0.0158) </td><td>                </td></tr>\n",
       "\t<tr><th scope=row>9</th><td>year2022 x log(deaths)            </td><td>                 </td><td>-0.0223 (0.0138)  </td><td>                </td></tr>\n",
       "\t<tr><th scope=row>10</th><td>year2020 x StringencyIndex_Average</td><td>                 </td><td>-0.0041 (0.0028)  </td><td>                </td></tr>\n",
       "\t<tr><th scope=row>11</th><td>year2021 x StringencyIndex_Average</td><td>                 </td><td>-0.0013 (0.0018)  </td><td>                </td></tr>\n",
       "\t<tr><th scope=row>12</th><td>year2022 x StringencyIndex_Average</td><td>                 </td><td>0.0010 (0.0018)   </td><td>                </td></tr>\n",
       "\t<tr><th scope=row>13</th><td>Fixed-Effects:                    </td><td>-----------------</td><td>------------------</td><td>----------------</td></tr>\n",
       "\t<tr><th scope=row>14</th><td>country                           </td><td>Yes              </td><td>Yes               </td><td>Yes             </td></tr>\n",
       "\t<tr><th scope=row>15</th><td>year                              </td><td>Yes              </td><td>No                </td><td>Yes             </td></tr>\n",
       "\t<tr><th scope=row>16</th><td>__________________________________</td><td>_________________</td><td>__________________</td><td>________________</td></tr>\n",
       "\t<tr><th scope=row>17</th><td>S.E.: Clustered                   </td><td>by: country      </td><td>by: country       </td><td>by: country     </td></tr>\n",
       "\t<tr><th scope=row>18</th><td>Observations                      </td><td>503              </td><td>503               </td><td>501             </td></tr>\n",
       "\t<tr><th scope=row>19</th><td>R2                                </td><td>0.99810          </td><td>0.99814           </td><td>0.99792         </td></tr>\n",
       "\t<tr><th scope=row>20</th><td>Within R2                         </td><td>0.02746          </td><td>0.99419           </td><td>-0.06385        </td></tr>\n",
       "\t<tr><th scope=row>21</th><td>Sargan, p-value                   </td><td>--               </td><td>--                </td><td>0.51323         </td></tr>\n",
       "\t<tr><th scope=row>22</th><td>Wu-Hausman, p-value               </td><td>--               </td><td>--                </td><td>0.33364         </td></tr>\n",
       "\t<tr><th scope=row>23</th><td>F-test (1st stage), log(deaths)   </td><td>--               </td><td>--                </td><td>5.1275          </td></tr>\n",
       "</tbody>\n",
       "</table>\n"
      ],
      "text/latex": [
       "A etable\\_df: 23 × 4\n",
       "\\begin{tabular}{r|llll}\n",
       "  &  & export\\_fe\\_ols & export\\_time\\_effe.. & export\\_covid\\_iv\\\\\n",
       "  & <chr> & <chr> & <chr> & <chr>\\\\\n",
       "\\hline\n",
       "\t1 & Dependent Var.:                    & value             & value              & value           \\\\\n",
       "\t2 &                                    &                   &                    &                 \\\\\n",
       "\t3 & log(deaths)                        & -0.0294* (0.0126) &                    & 0.0343 (0.0556) \\\\\n",
       "\t4 & StringencyIndex\\_Average            & -0.0018 (0.0014)  &                    & -0.0029 (0.0018)\\\\\n",
       "\t5 & year2021                           &                   & -5.055*** (0.1432) &                 \\\\\n",
       "\t6 & year2022                           &                   & -5.095*** (0.1527) &                 \\\\\n",
       "\t7 & year2020 x log(deaths)             &                   & -0.0361* (0.0165)  &                 \\\\\n",
       "\t8 & year2021 x log(deaths)             &                   & -0.0293. (0.0158)  &                 \\\\\n",
       "\t9 & year2022 x log(deaths)             &                   & -0.0223 (0.0138)   &                 \\\\\n",
       "\t10 & year2020 x StringencyIndex\\_Average &                   & -0.0041 (0.0028)   &                 \\\\\n",
       "\t11 & year2021 x StringencyIndex\\_Average &                   & -0.0013 (0.0018)   &                 \\\\\n",
       "\t12 & year2022 x StringencyIndex\\_Average &                   & 0.0010 (0.0018)    &                 \\\\\n",
       "\t13 & Fixed-Effects:                     & ----------------- & ------------------ & ----------------\\\\\n",
       "\t14 & country                            & Yes               & Yes                & Yes             \\\\\n",
       "\t15 & year                               & Yes               & No                 & Yes             \\\\\n",
       "\t16 & \\_\\_\\_\\_\\_\\_\\_\\_\\_\\_\\_\\_\\_\\_\\_\\_\\_\\_\\_\\_\\_\\_\\_\\_\\_\\_\\_\\_\\_\\_\\_\\_\\_\\_ & \\_\\_\\_\\_\\_\\_\\_\\_\\_\\_\\_\\_\\_\\_\\_\\_\\_ & \\_\\_\\_\\_\\_\\_\\_\\_\\_\\_\\_\\_\\_\\_\\_\\_\\_\\_ & \\_\\_\\_\\_\\_\\_\\_\\_\\_\\_\\_\\_\\_\\_\\_\\_\\\\\n",
       "\t17 & S.E.: Clustered                    & by: country       & by: country        & by: country     \\\\\n",
       "\t18 & Observations                       & 503               & 503                & 501             \\\\\n",
       "\t19 & R2                                 & 0.99810           & 0.99814            & 0.99792         \\\\\n",
       "\t20 & Within R2                          & 0.02746           & 0.99419            & -0.06385        \\\\\n",
       "\t21 & Sargan, p-value                    & --                & --                 & 0.51323         \\\\\n",
       "\t22 & Wu-Hausman, p-value                & --                & --                 & 0.33364         \\\\\n",
       "\t23 & F-test (1st stage), log(deaths)    & --                & --                 & 5.1275          \\\\\n",
       "\\end{tabular}\n"
      ],
      "text/markdown": [
       "\n",
       "A etable_df: 23 × 4\n",
       "\n",
       "| <!--/--> | <!----> &lt;chr&gt; | export_fe_ols &lt;chr&gt; | export_time_effe.. &lt;chr&gt; | export_covid_iv &lt;chr&gt; |\n",
       "|---|---|---|---|---|\n",
       "| 1 | Dependent Var.:                    | value             | value              | value            |\n",
       "| 2 | <!----> | <!----> | <!----> | <!----> |\n",
       "| 3 | log(deaths)                        | -0.0294* (0.0126) | <!----> | 0.0343 (0.0556)  |\n",
       "| 4 | StringencyIndex_Average            | -0.0018 (0.0014)  | <!----> | -0.0029 (0.0018) |\n",
       "| 5 | year2021                           | <!----> | -5.055*** (0.1432) | <!----> |\n",
       "| 6 | year2022                           | <!----> | -5.095*** (0.1527) | <!----> |\n",
       "| 7 | year2020 x log(deaths)             | <!----> | -0.0361* (0.0165)  | <!----> |\n",
       "| 8 | year2021 x log(deaths)             | <!----> | -0.0293. (0.0158)  | <!----> |\n",
       "| 9 | year2022 x log(deaths)             | <!----> | -0.0223 (0.0138)   | <!----> |\n",
       "| 10 | year2020 x StringencyIndex_Average | <!----> | -0.0041 (0.0028)   | <!----> |\n",
       "| 11 | year2021 x StringencyIndex_Average | <!----> | -0.0013 (0.0018)   | <!----> |\n",
       "| 12 | year2022 x StringencyIndex_Average | <!----> | 0.0010 (0.0018)    | <!----> |\n",
       "| 13 | Fixed-Effects:                     | ----------------- | ------------------ | ---------------- |\n",
       "| 14 | country                            | Yes               | Yes                | Yes              |\n",
       "| 15 | year                               | Yes               | No                 | Yes              |\n",
       "| 16 | __________________________________ | _________________ | __________________ | ________________ |\n",
       "| 17 | S.E.: Clustered                    | by: country       | by: country        | by: country      |\n",
       "| 18 | Observations                       | 503               | 503                | 501              |\n",
       "| 19 | R2                                 | 0.99810           | 0.99814            | 0.99792          |\n",
       "| 20 | Within R2                          | 0.02746           | 0.99419            | -0.06385         |\n",
       "| 21 | Sargan, p-value                    | --                | --                 | 0.51323          |\n",
       "| 22 | Wu-Hausman, p-value                | --                | --                 | 0.33364          |\n",
       "| 23 | F-test (1st stage), log(deaths)    | --                | --                 | 5.1275           |\n",
       "\n"
      ],
      "text/plain": [
       "                                      export_fe_ols     export_time_effe..\n",
       "1  Dependent Var.:                    value             value             \n",
       "2                                                                         \n",
       "3  log(deaths)                        -0.0294* (0.0126)                   \n",
       "4  StringencyIndex_Average            -0.0018 (0.0014)                    \n",
       "5  year2021                                             -5.055*** (0.1432)\n",
       "6  year2022                                             -5.095*** (0.1527)\n",
       "7  year2020 x log(deaths)                               -0.0361* (0.0165) \n",
       "8  year2021 x log(deaths)                               -0.0293. (0.0158) \n",
       "9  year2022 x log(deaths)                               -0.0223 (0.0138)  \n",
       "10 year2020 x StringencyIndex_Average                   -0.0041 (0.0028)  \n",
       "11 year2021 x StringencyIndex_Average                   -0.0013 (0.0018)  \n",
       "12 year2022 x StringencyIndex_Average                   0.0010 (0.0018)   \n",
       "13 Fixed-Effects:                     ----------------- ------------------\n",
       "14 country                            Yes               Yes               \n",
       "15 year                               Yes               No                \n",
       "16 __________________________________ _________________ __________________\n",
       "17 S.E.: Clustered                    by: country       by: country       \n",
       "18 Observations                       503               503               \n",
       "19 R2                                 0.99810           0.99814           \n",
       "20 Within R2                          0.02746           0.99419           \n",
       "21 Sargan, p-value                    --                --                \n",
       "22 Wu-Hausman, p-value                --                --                \n",
       "23 F-test (1st stage), log(deaths)    --                --                \n",
       "   export_covid_iv \n",
       "1  value           \n",
       "2                  \n",
       "3  0.0343 (0.0556) \n",
       "4  -0.0029 (0.0018)\n",
       "5                  \n",
       "6                  \n",
       "7                  \n",
       "8                  \n",
       "9                  \n",
       "10                 \n",
       "11                 \n",
       "12                 \n",
       "13 ----------------\n",
       "14 Yes             \n",
       "15 Yes             \n",
       "16 ________________\n",
       "17 by: country     \n",
       "18 501             \n",
       "19 0.99792         \n",
       "20 -0.06385        \n",
       "21 0.51323         \n",
       "22 0.33364         \n",
       "23 5.1275          "
      ]
     },
     "metadata": {},
     "output_type": "display_data"
    }
   ],
   "source": [
    "etable(export_fe_ols, export_time_effects, export_covid_iv, vcov = ~country, fitstat=~ . + sargan.p + wh.p + ivf)"
   ]
  },
  {
   "cell_type": "code",
   "execution_count": 12,
   "metadata": {
    "vscode": {
     "languageId": "r"
    }
   },
   "outputs": [
    {
     "data": {
      "text/plain": [
       "\\begingroup\n",
       "\\centering\n",
       "\\begin{tabular}{lccc}\n",
       "   \\tabularnewline \\midrule \\midrule\n",
       "   Dependent Variable: & \\multicolumn{3}{c}{value}\\\\\n",
       "   Model:                                       & (1)            & (2)            & (3)\\\\  \n",
       "   \\midrule\n",
       "   \\emph{Variables}\\\\\n",
       "   log(deaths)                                  & -0.0294$^{**}$ &                & 0.0343\\\\   \n",
       "                                                & (0.0126)       &                & (0.0556)\\\\   \n",
       "   StringencyIndex\\_Average                     & -0.0018        &                & -0.0029\\\\   \n",
       "                                                & (0.0014)       &                & (0.0018)\\\\   \n",
       "   year2021                                     &                & -5.055$^{***}$ &   \\\\   \n",
       "                                                &                & (0.1432)       &   \\\\   \n",
       "   year2022                                     &                & -5.095$^{***}$ &   \\\\   \n",
       "                                                &                & (0.1527)       &   \\\\   \n",
       "   year2020 $\\times$ log(deaths)                &                & -0.0361$^{**}$ &   \\\\   \n",
       "                                                &                & (0.0165)       &   \\\\   \n",
       "   year2021 $\\times$ log(deaths)                &                & -0.0293$^{*}$  &   \\\\   \n",
       "                                                &                & (0.0158)       &   \\\\   \n",
       "   year2022 $\\times$ log(deaths)                &                & -0.0223        &   \\\\   \n",
       "                                                &                & (0.0138)       &   \\\\   \n",
       "   year2020 $\\times$ StringencyIndex\\_Average   &                & -0.0041        &   \\\\   \n",
       "                                                &                & (0.0028)       &   \\\\   \n",
       "   year2021 $\\times$ StringencyIndex\\_Average   &                & -0.0013        &   \\\\   \n",
       "                                                &                & (0.0018)       &   \\\\   \n",
       "   year2022 $\\times$ StringencyIndex\\_Average   &                & 0.0010         &   \\\\   \n",
       "                                                &                & (0.0018)       &   \\\\   \n",
       "   \\midrule\n",
       "   \\emph{Fixed-effects}\\\\\n",
       "   country                                      & Yes            & Yes            & Yes\\\\  \n",
       "   year                                         & Yes            &                & Yes\\\\  \n",
       "   \\midrule\n",
       "   \\emph{Fit statistics}\\\\\n",
       "   Observations                                 & 503            & 503            & 501\\\\  \n",
       "   R$^2$                                        & 0.99810        & 0.99814        & 0.99792\\\\  \n",
       "   Within R$^2$                                 & 0.02746        & 0.99419        & -0.06385\\\\  \n",
       "   Sargan, p-value                              &                &                & 0.51323\\\\  \n",
       "   Wu-Hausman, p-value                          &                &                & 0.33364\\\\  \n",
       "   F-test (1st stage), log(deaths)              &                &                & 5.1275\\\\  \n",
       "   \\midrule \\midrule\n",
       "   \\multicolumn{4}{l}{\\emph{Clustered (country) standard-errors in parentheses}}\\\\\n",
       "   \\multicolumn{4}{l}{\\emph{Signif. Codes: ***: 0.01, **: 0.05, *: 0.1}}\\\\\n",
       "\\end{tabular}\n",
       "\\par\\endgroup"
      ]
     },
     "metadata": {},
     "output_type": "display_data"
    }
   ],
   "source": [
    "etable(export_fe_ols, export_time_effects, export_covid_iv, vcov = ~country, fitstat=~ . + sargan.p + wh.p + ivf, tex=TRUE)"
   ]
  },
  {
   "cell_type": "markdown",
   "metadata": {},
   "source": [
    "### Импорт\n",
    "\n",
    "+иллюстрирую, зачем тут нужны фиксированные эффекты"
   ]
  },
  {
   "cell_type": "code",
   "execution_count": 13,
   "metadata": {
    "vscode": {
     "languageId": "r"
    }
   },
   "outputs": [
    {
     "data": {
      "text/html": [
       "<table class=\"dataframe\">\n",
       "<caption>A tibble: 6 × 63</caption>\n",
       "<thead>\n",
       "\t<tr><th scope=col>year</th><th scope=col>country</th><th scope=col>value</th><th scope=col>country:r</th><th scope=col>t</th><th scope=col>cases</th><th scope=col>deaths</th><th scope=col>tests</th><th scope=col>C1M_School_closing</th><th scope=col>C2M_Workplace_closing</th><th scope=col>⋯</th><th scope=col>infant_mortality</th><th scope=col>largest_city_share</th><th scope=col>urbanization</th><th scope=col>country:household_size</th><th scope=col>avg_hh_size</th><th scope=col>share_1_members</th><th scope=col>share_2_3_members</th><th scope=col>share_4_5_members</th><th scope=col>year:r</th><th scope=col>SARS_flg</th></tr>\n",
       "\t<tr><th scope=col>&lt;chr&gt;</th><th scope=col>&lt;chr&gt;</th><th scope=col>&lt;dbl&gt;</th><th scope=col>&lt;chr&gt;</th><th scope=col>&lt;int&gt;</th><th scope=col>&lt;dbl&gt;</th><th scope=col>&lt;dbl&gt;</th><th scope=col>&lt;chr&gt;</th><th scope=col>&lt;dbl&gt;</th><th scope=col>&lt;dbl&gt;</th><th scope=col>⋯</th><th scope=col>&lt;dbl&gt;</th><th scope=col>&lt;dbl&gt;</th><th scope=col>&lt;dbl&gt;</th><th scope=col>&lt;chr&gt;</th><th scope=col>&lt;dbl&gt;</th><th scope=col>&lt;dbl&gt;</th><th scope=col>&lt;dbl&gt;</th><th scope=col>&lt;dbl&gt;</th><th scope=col>&lt;chr&gt;</th><th scope=col>&lt;int&gt;</th></tr>\n",
       "</thead>\n",
       "<tbody>\n",
       "\t<tr><td>2020</td><td>SLV</td><td> 2.321174</td><td>SLV</td><td>2020</td><td> 19.6259116</td><td>0.57060773</td><td>NA</td><td>2.426229</td><td>1.4344262</td><td>⋯</td><td>11.0</td><td>24.14867</td><td>17.73575</td><td>SLV</td><td>3.92</td><td> 8.46</td><td>36.01</td><td>37.84</td><td>2020</td><td>0</td></tr>\n",
       "\t<tr><td>2022</td><td>ASM</td><td>-2.471433</td><td>ASM</td><td>2022</td><td>467.6200274</td><td>1.92600000</td><td>NA</td><td>      NA</td><td>       NA</td><td>⋯</td><td>  NA</td><td>      NA</td><td>      NA</td><td>NA </td><td>  NA</td><td>   NA</td><td>   NA</td><td>   NA</td><td>2022</td><td>0</td></tr>\n",
       "\t<tr><td>2020</td><td>BOL</td><td> 1.776656</td><td>BOL</td><td>2020</td><td> 35.1308840</td><td>2.07754144</td><td>NA</td><td>2.418033</td><td>1.8306011</td><td>⋯</td><td>21.0</td><td>22.42107</td><td>41.25143</td><td>BOL</td><td>3.53</td><td>20.34</td><td>34.82</td><td>27.64</td><td>2020</td><td>0</td></tr>\n",
       "\t<tr><td>2020</td><td>SLE</td><td> 1.100952</td><td>SLE</td><td>2020</td><td>  0.8507182</td><td>0.02530387</td><td>NA</td><td>1.606557</td><td>0.2349727</td><td>⋯</td><td>80.3</td><td>35.38844</td><td>15.18978</td><td>SLE</td><td>5.29</td><td> 6.42</td><td>20.52</td><td>33.28</td><td>2020</td><td>0</td></tr>\n",
       "\t<tr><td>2020</td><td>LKA</td><td> 3.031731</td><td>LKA</td><td>2020</td><td>  4.9664917</td><td>0.02309392</td><td>NA</td><td>1.931694</td><td>0.5546448</td><td>⋯</td><td> 6.0</td><td>14.93368</td><td>      NA</td><td>NA </td><td>  NA</td><td>   NA</td><td>   NA</td><td>   NA</td><td>2020</td><td>0</td></tr>\n",
       "\t<tr><td>2022</td><td>ATG</td><td>-1.252042</td><td>ATG</td><td>2022</td><td>143.9042740</td><td>0.82619178</td><td>NA</td><td>      NA</td><td>       NA</td><td>⋯</td><td> 8.1</td><td>      NA</td><td>      NA</td><td>NA </td><td>  NA</td><td>   NA</td><td>   NA</td><td>   NA</td><td>2022</td><td>0</td></tr>\n",
       "</tbody>\n",
       "</table>\n"
      ],
      "text/latex": [
       "A tibble: 6 × 63\n",
       "\\begin{tabular}{lllllllllllllllllllll}\n",
       " year & country & value & country:r & t & cases & deaths & tests & C1M\\_School\\_closing & C2M\\_Workplace\\_closing & ⋯ & infant\\_mortality & largest\\_city\\_share & urbanization & country:household\\_size & avg\\_hh\\_size & share\\_1\\_members & share\\_2\\_3\\_members & share\\_4\\_5\\_members & year:r & SARS\\_flg\\\\\n",
       " <chr> & <chr> & <dbl> & <chr> & <int> & <dbl> & <dbl> & <chr> & <dbl> & <dbl> & ⋯ & <dbl> & <dbl> & <dbl> & <chr> & <dbl> & <dbl> & <dbl> & <dbl> & <chr> & <int>\\\\\n",
       "\\hline\n",
       "\t 2020 & SLV &  2.321174 & SLV & 2020 &  19.6259116 & 0.57060773 & NA & 2.426229 & 1.4344262 & ⋯ & 11.0 & 24.14867 & 17.73575 & SLV & 3.92 &  8.46 & 36.01 & 37.84 & 2020 & 0\\\\\n",
       "\t 2022 & ASM & -2.471433 & ASM & 2022 & 467.6200274 & 1.92600000 & NA &       NA &        NA & ⋯ &   NA &       NA &       NA & NA  &   NA &    NA &    NA &    NA & 2022 & 0\\\\\n",
       "\t 2020 & BOL &  1.776656 & BOL & 2020 &  35.1308840 & 2.07754144 & NA & 2.418033 & 1.8306011 & ⋯ & 21.0 & 22.42107 & 41.25143 & BOL & 3.53 & 20.34 & 34.82 & 27.64 & 2020 & 0\\\\\n",
       "\t 2020 & SLE &  1.100952 & SLE & 2020 &   0.8507182 & 0.02530387 & NA & 1.606557 & 0.2349727 & ⋯ & 80.3 & 35.38844 & 15.18978 & SLE & 5.29 &  6.42 & 20.52 & 33.28 & 2020 & 0\\\\\n",
       "\t 2020 & LKA &  3.031731 & LKA & 2020 &   4.9664917 & 0.02309392 & NA & 1.931694 & 0.5546448 & ⋯ &  6.0 & 14.93368 &       NA & NA  &   NA &    NA &    NA &    NA & 2020 & 0\\\\\n",
       "\t 2022 & ATG & -1.252042 & ATG & 2022 & 143.9042740 & 0.82619178 & NA &       NA &        NA & ⋯ &  8.1 &       NA &       NA & NA  &   NA &    NA &    NA &    NA & 2022 & 0\\\\\n",
       "\\end{tabular}\n"
      ],
      "text/markdown": [
       "\n",
       "A tibble: 6 × 63\n",
       "\n",
       "| year &lt;chr&gt; | country &lt;chr&gt; | value &lt;dbl&gt; | country:r &lt;chr&gt; | t &lt;int&gt; | cases &lt;dbl&gt; | deaths &lt;dbl&gt; | tests &lt;chr&gt; | C1M_School_closing &lt;dbl&gt; | C2M_Workplace_closing &lt;dbl&gt; | ⋯ ⋯ | infant_mortality &lt;dbl&gt; | largest_city_share &lt;dbl&gt; | urbanization &lt;dbl&gt; | country:household_size &lt;chr&gt; | avg_hh_size &lt;dbl&gt; | share_1_members &lt;dbl&gt; | share_2_3_members &lt;dbl&gt; | share_4_5_members &lt;dbl&gt; | year:r &lt;chr&gt; | SARS_flg &lt;int&gt; |\n",
       "|---|---|---|---|---|---|---|---|---|---|---|---|---|---|---|---|---|---|---|---|---|\n",
       "| 2020 | SLV |  2.321174 | SLV | 2020 |  19.6259116 | 0.57060773 | NA | 2.426229 | 1.4344262 | ⋯ | 11.0 | 24.14867 | 17.73575 | SLV | 3.92 |  8.46 | 36.01 | 37.84 | 2020 | 0 |\n",
       "| 2022 | ASM | -2.471433 | ASM | 2022 | 467.6200274 | 1.92600000 | NA |       NA |        NA | ⋯ |   NA |       NA |       NA | NA  |   NA |    NA |    NA |    NA | 2022 | 0 |\n",
       "| 2020 | BOL |  1.776656 | BOL | 2020 |  35.1308840 | 2.07754144 | NA | 2.418033 | 1.8306011 | ⋯ | 21.0 | 22.42107 | 41.25143 | BOL | 3.53 | 20.34 | 34.82 | 27.64 | 2020 | 0 |\n",
       "| 2020 | SLE |  1.100952 | SLE | 2020 |   0.8507182 | 0.02530387 | NA | 1.606557 | 0.2349727 | ⋯ | 80.3 | 35.38844 | 15.18978 | SLE | 5.29 |  6.42 | 20.52 | 33.28 | 2020 | 0 |\n",
       "| 2020 | LKA |  3.031731 | LKA | 2020 |   4.9664917 | 0.02309392 | NA | 1.931694 | 0.5546448 | ⋯ |  6.0 | 14.93368 |       NA | NA  |   NA |    NA |    NA |    NA | 2020 | 0 |\n",
       "| 2022 | ATG | -1.252042 | ATG | 2022 | 143.9042740 | 0.82619178 | NA |       NA |        NA | ⋯ |  8.1 |       NA |       NA | NA  |   NA |    NA |    NA |    NA | 2022 | 0 |\n",
       "\n"
      ],
      "text/plain": [
       "  year country value     country:r t    cases       deaths     tests\n",
       "1 2020 SLV      2.321174 SLV       2020  19.6259116 0.57060773 NA   \n",
       "2 2022 ASM     -2.471433 ASM       2022 467.6200274 1.92600000 NA   \n",
       "3 2020 BOL      1.776656 BOL       2020  35.1308840 2.07754144 NA   \n",
       "4 2020 SLE      1.100952 SLE       2020   0.8507182 0.02530387 NA   \n",
       "5 2020 LKA      3.031731 LKA       2020   4.9664917 0.02309392 NA   \n",
       "6 2022 ATG     -1.252042 ATG       2022 143.9042740 0.82619178 NA   \n",
       "  C1M_School_closing C2M_Workplace_closing ⋯ infant_mortality\n",
       "1 2.426229           1.4344262             ⋯ 11.0            \n",
       "2       NA                  NA             ⋯   NA            \n",
       "3 2.418033           1.8306011             ⋯ 21.0            \n",
       "4 1.606557           0.2349727             ⋯ 80.3            \n",
       "5 1.931694           0.5546448             ⋯  6.0            \n",
       "6       NA                  NA             ⋯  8.1            \n",
       "  largest_city_share urbanization country:household_size avg_hh_size\n",
       "1 24.14867           17.73575     SLV                    3.92       \n",
       "2       NA                 NA     NA                       NA       \n",
       "3 22.42107           41.25143     BOL                    3.53       \n",
       "4 35.38844           15.18978     SLE                    5.29       \n",
       "5 14.93368                 NA     NA                       NA       \n",
       "6       NA                 NA     NA                       NA       \n",
       "  share_1_members share_2_3_members share_4_5_members year:r SARS_flg\n",
       "1  8.46           36.01             37.84             2020   0       \n",
       "2    NA              NA                NA             2022   0       \n",
       "3 20.34           34.82             27.64             2020   0       \n",
       "4  6.42           20.52             33.28             2020   0       \n",
       "5    NA              NA                NA             2020   0       \n",
       "6    NA              NA                NA             2022   0       "
      ]
     },
     "metadata": {},
     "output_type": "display_data"
    }
   ],
   "source": [
    "# Скачиваю данные и переназываю переменные\n",
    "df = read_parquet('../data/processed_data/trade_hs0_import_fe_x_covid.parquet.gzip')\n",
    "df = df %>% mutate(year = as.character(year), SARS_flg = as.integer(!is.na(SARS_total_cases)))\n",
    "df %>% head()"
   ]
  },
  {
   "cell_type": "markdown",
   "metadata": {},
   "source": [
    "### Рисую обычный и demeaned scatterplot, чтобы обосновать необходимость использования фиксированных эффектов\n",
    "\n",
    "Графики будут интерактивные, если раскомментить ggplotly, закомментить p и перепрогнать"
   ]
  },
  {
   "cell_type": "code",
   "execution_count": 15,
   "metadata": {
    "vscode": {
     "languageId": "r"
    }
   },
   "outputs": [
    {
     "name": "stderr",
     "output_type": "stream",
     "text": [
      "Warning message:\n",
      "\"\u001b[1m\u001b[22mRemoved 128 rows containing missing values or values outside the scale range\n",
      "(`geom_point()`).\"\n"
     ]
    },
    {
     "data": {
      "image/png": "[encoded data removed]",
      "text/plain": [
       "plot without title"
      ]
     },
     "metadata": {
      "image/png": {
       "height": 420,
       "width": 420
      }
     },
     "output_type": "display_data"
    }
   ],
   "source": [
    "country_means_df = df %>% group_by(country) %>%\n",
    " summarize(avg_value = mean(value, na.rm = TRUE), avg_StringencyIndex_Average = mean(StringencyIndex_Average, na.rm = TRUE))\n",
    "\n",
    "demeaned_df = df %>% merge(., country_means_df, by = 'country')  %>%\n",
    "  mutate(StringencyIndex_Average = StringencyIndex_Average- avg_StringencyIndex_Average, value = value- avg_value) %>%\n",
    "   select(country, year, StringencyIndex_Average, value)\n",
    "   \n",
    "year_means_df = demeaned_df %>% group_by(year) %>%\n",
    " summarize(avg_value = mean(value, na.rm = TRUE), avg_StringencyIndex_Average = mean(StringencyIndex_Average, na.rm = TRUE))\n",
    "\n",
    "demeaned_df2 = demeaned_df %>% merge(., year_means_df, by = 'year')  %>%\n",
    "  mutate(StringencyIndex_Average = StringencyIndex_Average- avg_StringencyIndex_Average, value = value - avg_value) %>%\n",
    "   select(country, year, StringencyIndex_Average, value)\n",
    "\n",
    "p = ggplot(demeaned_df2, aes(x = StringencyIndex_Average, y = value, text = factor(country), color = factor(year)\n",
    "    )) + geom_point()+ theme(legend.position = \"none\")\n",
    "# ggplotly(p)    \n",
    "p"
   ]
  },
  {
   "cell_type": "markdown",
   "metadata": {},
   "source": [
    "### Сами регрессии"
   ]
  },
  {
   "cell_type": "code",
   "execution_count": 16,
   "metadata": {
    "vscode": {
     "languageId": "r"
    }
   },
   "outputs": [
    {
     "name": "stderr",
     "output_type": "stream",
     "text": [
      "NOTE: 156 observations removed because of NA and infinite values (LHS: 2, RHS: 154).\n",
      "\n"
     ]
    },
    {
     "data": {
      "text/plain": [
       "OLS estimation, Dep. Var.: value\n",
       "Observations: 503\n",
       "Fixed-effects: year: 3\n",
       "Standard-errors: Clustered (country) \n",
       "                        Estimate Std. Error  t value   Pr(>|t|)    \n",
       "log(deaths)             0.315333    0.07999 3.942170 0.00011684 ***\n",
       "StringencyIndex_Average 0.010619    0.01352 0.785447 0.43325966    \n",
       "---\n",
       "Signif. codes:  0 '***' 0.001 '**' 0.01 '*' 0.05 '.' 0.1 ' ' 1\n",
       "RMSE: 2.2034     Adj. R2: 0.194255\n",
       "               Within R2: 0.088716"
      ]
     },
     "metadata": {},
     "output_type": "display_data"
    }
   ],
   "source": [
    "# Pulled OLS\n",
    "import_pulled_ols = feols(value ~ log(deaths) +\n",
    " StringencyIndex_Average| year,\n",
    " data = df)\n",
    "import_pulled_ols %>% summary(vcov = ~country)"
   ]
  },
  {
   "cell_type": "code",
   "execution_count": 17,
   "metadata": {
    "vscode": {
     "languageId": "r"
    }
   },
   "outputs": [
    {
     "name": "stderr",
     "output_type": "stream",
     "text": [
      "NOTE: 156 observations removed because of NA and infinite values (LHS: 2, RHS: 154).\n",
      "\n"
     ]
    },
    {
     "data": {
      "text/plain": [
       "OLS estimation, Dep. Var.: value\n",
       "Observations: 503\n",
       "Fixed-effects: country: 175,  year: 3\n",
       "Standard-errors: Clustered (country) \n",
       "                         Estimate Std. Error   t value Pr(>|t|) \n",
       "log(deaths)              0.001954   0.010623  0.183984  0.85424 \n",
       "StringencyIndex_Average -0.001685   0.001141 -1.476210  0.14169 \n",
       "---\n",
       "Signif. codes:  0 '***' 0.001 '**' 0.01 '*' 0.05 '.' 0.1 ' ' 1\n",
       "RMSE: 0.134983     Adj. R2: 0.995352\n",
       "                 Within R2: 0.00712 "
      ]
     },
     "metadata": {},
     "output_type": "display_data"
    }
   ],
   "source": [
    "import_fe_ols = feols(value ~ log(deaths) +\n",
    " StringencyIndex_Average| country + year,\n",
    " data = df)\n",
    "import_fe_ols %>% summary(vcov = ~country)"
   ]
  },
  {
   "cell_type": "code",
   "execution_count": 18,
   "metadata": {
    "vscode": {
     "languageId": "r"
    }
   },
   "outputs": [
    {
     "name": "stderr",
     "output_type": "stream",
     "text": [
      "NOTE: 158 observations removed because of NA and infinite values (LHS: 2, RHS: 126, IV: 74/130).\n",
      "\n"
     ]
    },
    {
     "data": {
      "text/plain": [
       "TSLS estimation - Dep. Var.: value\n",
       "                  Endo.    : log(deaths)\n",
       "                  Instr.   : C1M_School_closing, median_age, population_density\n",
       "Second stage: Dep. Var.: value\n",
       "Observations: 501\n",
       "Fixed-effects: country: 175,  year: 3\n",
       "Standard-errors: Clustered (country) \n",
       "                         Estimate Std. Error   t value Pr(>|t|) \n",
       "fit_log(deaths)          0.020045   0.038515  0.520444  0.60342 \n",
       "StringencyIndex_Average -0.001830   0.001329 -1.377091  0.17025 \n",
       "---\n",
       "Signif. codes:  0 '***' 0.001 '**' 0.01 '*' 0.05 '.' 0.1 ' ' 1\n",
       "RMSE: 0.135713     Adj. R2:  0.995297\n",
       "                 Within R2: -0.007399\n",
       "F-test (1st stage), log(deaths): stat = 5.12746 , p = 0.001683, on 3 and 494 DoF.\n",
       "                     Wu-Hausman: stat = 0.128798, p = 0.719918, on 1 and 321 DoF.\n",
       "                         Sargan: stat = 2.1758  , p = 0.336923, on 2 DoF."
      ]
     },
     "metadata": {},
     "output_type": "display_data"
    }
   ],
   "source": [
    "# Тут всё экзогенно\n",
    "import_covid_iv = feols(value ~ 1 + StringencyIndex_Average|country + year|\n",
    " log(deaths) ~ #H6M_Facial_Coverings+\n",
    " C1M_School_closing+median_age+population_density,\n",
    " data = df)\n",
    "import_covid_iv %>% summary(vcov = ~country)"
   ]
  },
  {
   "cell_type": "code",
   "execution_count": 19,
   "metadata": {
    "vscode": {
     "languageId": "r"
    }
   },
   "outputs": [
    {
     "name": "stderr",
     "output_type": "stream",
     "text": [
      "NOTE: 158 observations removed because of NA and infinite values (LHS: 2, IV: 154/130).\n",
      "\n"
     ]
    },
    {
     "data": {
      "text/plain": [
       "TSLS estimation - Dep. Var.: value\n",
       "                  Endo.    : log(deaths), StringencyIndex_Average\n",
       "                  Instr.   : C1M_School_closing, median_age, population_density\n",
       "Second stage: Dep. Var.: value\n",
       "Observations: 501\n",
       "Fixed-effects: country: 175,  year: 3\n",
       "Standard-errors: Clustered (country) \n",
       "                             Estimate Std. Error   t value Pr(>|t|) \n",
       "fit_log(deaths)             -0.015805   0.037120 -0.425782  0.67079 \n",
       "fit_StringencyIndex_Average  0.000657   0.002098  0.313066  0.75461 \n",
       "---\n",
       "Signif. codes:  0 '***' 0.001 '**' 0.01 '*' 0.05 '.' 0.1 ' ' 1\n",
       "RMSE: 0.136201     Adj. R2:  0.995263\n",
       "                 Within R2: -0.014667\n",
       "F-test (1st stage), log(deaths)            : stat =   8.63355 , p = 1.355e-5, on 3 and 495 DoF.\n",
       "F-test (1st stage), StringencyIndex_Average: stat = 117.7     , p < 2.2e-16 , on 3 and 495 DoF.\n",
       "                                 Wu-Hausman: stat =   0.765893, p = 0.465769, on 2 and 320 DoF.\n",
       "                                     Sargan: stat =   0.017632, p = 0.894363, on 1 DoF."
      ]
     },
     "metadata": {},
     "output_type": "display_data"
    }
   ],
   "source": [
    "import_all_iv = feols(value ~ 1 |country + year|\n",
    " log(deaths) + StringencyIndex_Average ~ #H6M_Facial_Coverings+\n",
    " C1M_School_closing+median_age+population_density,\n",
    " data = df)\n",
    "import_all_iv %>% summary(vcov = ~country)"
   ]
  },
  {
   "cell_type": "code",
   "execution_count": 20,
   "metadata": {
    "vscode": {
     "languageId": "r"
    }
   },
   "outputs": [
    {
     "name": "stderr",
     "output_type": "stream",
     "text": [
      "NOTE: 156 observations removed because of NA and infinite values (LHS: 2, RHS: 154).\n",
      "\n"
     ]
    },
    {
     "data": {
      "text/plain": [
       "OLS estimation, Dep. Var.: value\n",
       "Observations: 503\n",
       "Fixed-effects: country: 175\n",
       "Standard-errors: Clustered (country) \n",
       "                                  Estimate Std. Error    t value  Pr(>|t|)    \n",
       "year2021                         -1.785907   0.089386 -19.979621 < 2.2e-16 ***\n",
       "year2022                         -1.483281   0.111039 -13.358228 < 2.2e-16 ***\n",
       "year2020:log(deaths)             -0.015340   0.012159  -1.261682   0.20875    \n",
       "year2021:log(deaths)              0.000679   0.014878   0.045615   0.96367    \n",
       "year2022:log(deaths)              0.013814   0.011194   1.234095   0.21883    \n",
       "year2020:StringencyIndex_Average -0.001012   0.001886  -0.536605   0.59223    \n",
       "year2021:StringencyIndex_Average -0.000131   0.001386  -0.094285   0.92499    \n",
       "year2022:StringencyIndex_Average -0.000956   0.002058  -0.464638   0.64277    \n",
       "---\n",
       "Signif. codes:  0 '***' 0.001 '**' 0.01 '*' 0.05 '.' 0.1 ' ' 1\n",
       "RMSE: 0.132798     Adj. R2: 0.995445\n",
       "                 Within R2: 0.970316"
      ]
     },
     "metadata": {},
     "output_type": "display_data"
    },
    {
     "name": "stderr",
     "output_type": "stream",
     "text": [
      "NOTE: 156 observations removed because of NA and infinite values (LHS: 2, RHS: 154).\n",
      "\n"
     ]
    },
    {
     "data": {
      "text/plain": [
       "OLS estimation, Dep. Var.: value\n",
       "Observations: 503\n",
       "Fixed-effects: country: 175\n",
       "Standard-errors: Clustered (country) \n",
       "                         Estimate Std. Error    t value  Pr(>|t|)    \n",
       "year2021                -1.738521   0.022412 -77.572558 < 2.2e-16 ***\n",
       "year2022                -1.470466   0.046921 -31.339249 < 2.2e-16 ***\n",
       "StringencyIndex_Average -0.000628   0.001306  -0.480405   0.63154    \n",
       "year2020:log(deaths)    -0.015827   0.012405  -1.275904   0.20369    \n",
       "year2021:log(deaths)     0.002514   0.014730   0.170655   0.86469    \n",
       "year2022:log(deaths)     0.014199   0.011306   1.255899   0.21084    \n",
       "---\n",
       "Signif. codes:  0 '***' 0.001 '**' 0.01 '*' 0.05 '.' 0.1 ' ' 1\n",
       "RMSE: 0.13287     Adj. R2: 0.995469\n",
       "                Within R2: 0.970284"
      ]
     },
     "metadata": {},
     "output_type": "display_data"
    }
   ],
   "source": [
    "# Гетерогенность во времени\n",
    "import_time_effects = feols(value ~ year/log(deaths) + year/StringencyIndex_Average| country,\n",
    " data = df)\n",
    "import_time_effects %>% summary(vcov = ~country)\n",
    "\n",
    "feols(value ~ year/log(deaths) + StringencyIndex_Average| country,\n",
    " data = df) %>% summary(vcov = ~country)"
   ]
  },
  {
   "cell_type": "code",
   "execution_count": 21,
   "metadata": {
    "vscode": {
     "languageId": "r"
    }
   },
   "outputs": [
    {
     "name": "stderr",
     "output_type": "stream",
     "text": [
      "NOTE: 76 observations removed because of NA and infinite values (LHS: 2, RHS: 74).\n",
      "\n"
     ]
    },
    {
     "data": {
      "text/plain": [
       "OLS estimation, Dep. Var.: value\n",
       "Observations: 583\n",
       "Fixed-effects: country: 210\n",
       "Standard-errors: Clustered (country) \n",
       "                      Estimate Std. Error    t value  Pr(>|t|)    \n",
       "year2021             -1.736273   0.021463 -80.896340 < 2.2e-16 ***\n",
       "year2022             -1.435496   0.020997 -68.368321 < 2.2e-16 ***\n",
       "year2020:log(deaths) -0.020469   0.011199  -1.827768   0.06901 .  \n",
       "year2021:log(deaths) -0.000043   0.012479  -0.003408   0.99728    \n",
       "year2022:log(deaths)  0.014333   0.010783   1.329270   0.18521    \n",
       "---\n",
       "Signif. codes:  0 '***' 0.001 '**' 0.01 '*' 0.05 '.' 0.1 ' ' 1\n",
       "RMSE: 0.138164     Adj. R2: 0.995859\n",
       "                 Within R2: 0.966848"
      ]
     },
     "metadata": {},
     "output_type": "display_data"
    }
   ],
   "source": [
    "# Гетерогенность во времени\n",
    "import_covid_time_effects = feols(value ~ year/log(deaths)| country,\n",
    " data = df)\n",
    "import_covid_time_effects %>% summary(vcov = ~country)\n",
    "# Ядро крашится почему-то\n",
    "# feols(value ~ 1| country|\n",
    "# year/log(deaths)~C1M_School_closing+median_age+population_density,\n",
    "#  data = df) %>% summary(vcov = ~country)"
   ]
  },
  {
   "cell_type": "code",
   "execution_count": 22,
   "metadata": {
    "vscode": {
     "languageId": "r"
    }
   },
   "outputs": [
    {
     "data": {
      "text/html": [
       "<table class=\"dataframe\">\n",
       "<caption>A etable_df: 23 × 4</caption>\n",
       "<thead>\n",
       "\t<tr><th></th><th scope=col></th><th scope=col>import_fe_ols</th><th scope=col>import_time_effe..</th><th scope=col>import_covid_iv</th></tr>\n",
       "\t<tr><th></th><th scope=col>&lt;chr&gt;</th><th scope=col>&lt;chr&gt;</th><th scope=col>&lt;chr&gt;</th><th scope=col>&lt;chr&gt;</th></tr>\n",
       "</thead>\n",
       "<tbody>\n",
       "\t<tr><th scope=row>1</th><td>Dependent Var.:                   </td><td>value           </td><td>value             </td><td>value           </td></tr>\n",
       "\t<tr><th scope=row>2</th><td>                                  </td><td>                </td><td>                  </td><td>                </td></tr>\n",
       "\t<tr><th scope=row>3</th><td>log(deaths)                       </td><td>0.0020 (0.0106) </td><td>                  </td><td>0.0200 (0.0385) </td></tr>\n",
       "\t<tr><th scope=row>4</th><td>StringencyIndex_Average           </td><td>-0.0017 (0.0011)</td><td>                  </td><td>-0.0018 (0.0013)</td></tr>\n",
       "\t<tr><th scope=row>5</th><td>year2021                          </td><td>                </td><td>-1.786*** (0.0894)</td><td>                </td></tr>\n",
       "\t<tr><th scope=row>6</th><td>year2022                          </td><td>                </td><td>-1.483*** (0.1110)</td><td>                </td></tr>\n",
       "\t<tr><th scope=row>7</th><td>year2020 x log(deaths)            </td><td>                </td><td>-0.0153 (0.0122)  </td><td>                </td></tr>\n",
       "\t<tr><th scope=row>8</th><td>year2021 x log(deaths)            </td><td>                </td><td>0.0007 (0.0149)   </td><td>                </td></tr>\n",
       "\t<tr><th scope=row>9</th><td>year2022 x log(deaths)            </td><td>                </td><td>0.0138 (0.0112)   </td><td>                </td></tr>\n",
       "\t<tr><th scope=row>10</th><td>year2020 x StringencyIndex_Average</td><td>                </td><td>-0.0010 (0.0019)  </td><td>                </td></tr>\n",
       "\t<tr><th scope=row>11</th><td>year2021 x StringencyIndex_Average</td><td>                </td><td>-0.0001 (0.0014)  </td><td>                </td></tr>\n",
       "\t<tr><th scope=row>12</th><td>year2022 x StringencyIndex_Average</td><td>                </td><td>-0.0010 (0.0021)  </td><td>                </td></tr>\n",
       "\t<tr><th scope=row>13</th><td>Fixed-Effects:                    </td><td>----------------</td><td>------------------</td><td>----------------</td></tr>\n",
       "\t<tr><th scope=row>14</th><td>country                           </td><td>Yes             </td><td>Yes               </td><td>Yes             </td></tr>\n",
       "\t<tr><th scope=row>15</th><td>year                              </td><td>Yes             </td><td>No                </td><td>Yes             </td></tr>\n",
       "\t<tr><th scope=row>16</th><td>__________________________________</td><td>________________</td><td>__________________</td><td>________________</td></tr>\n",
       "\t<tr><th scope=row>17</th><td>S.E.: Clustered                   </td><td>by: country     </td><td>by: country       </td><td>by: country     </td></tr>\n",
       "\t<tr><th scope=row>18</th><td>Observations                      </td><td>503             </td><td>503               </td><td>501             </td></tr>\n",
       "\t<tr><th scope=row>19</th><td>R2                                </td><td>0.99700         </td><td>0.99710           </td><td>0.99697         </td></tr>\n",
       "\t<tr><th scope=row>20</th><td>Within R2                         </td><td>0.00712         </td><td>0.97032           </td><td>-0.00740        </td></tr>\n",
       "\t<tr><th scope=row>21</th><td>Sargan, p-value                   </td><td>--              </td><td>--                </td><td>0.33692         </td></tr>\n",
       "\t<tr><th scope=row>22</th><td>Wu-Hausman, p-value               </td><td>--              </td><td>--                </td><td>0.71992         </td></tr>\n",
       "\t<tr><th scope=row>23</th><td>F-test (1st stage), log(deaths)   </td><td>--              </td><td>--                </td><td>5.1275          </td></tr>\n",
       "</tbody>\n",
       "</table>\n"
      ],
      "text/latex": [
       "A etable\\_df: 23 × 4\n",
       "\\begin{tabular}{r|llll}\n",
       "  &  & import\\_fe\\_ols & import\\_time\\_effe.. & import\\_covid\\_iv\\\\\n",
       "  & <chr> & <chr> & <chr> & <chr>\\\\\n",
       "\\hline\n",
       "\t1 & Dependent Var.:                    & value            & value              & value           \\\\\n",
       "\t2 &                                    &                  &                    &                 \\\\\n",
       "\t3 & log(deaths)                        & 0.0020 (0.0106)  &                    & 0.0200 (0.0385) \\\\\n",
       "\t4 & StringencyIndex\\_Average            & -0.0017 (0.0011) &                    & -0.0018 (0.0013)\\\\\n",
       "\t5 & year2021                           &                  & -1.786*** (0.0894) &                 \\\\\n",
       "\t6 & year2022                           &                  & -1.483*** (0.1110) &                 \\\\\n",
       "\t7 & year2020 x log(deaths)             &                  & -0.0153 (0.0122)   &                 \\\\\n",
       "\t8 & year2021 x log(deaths)             &                  & 0.0007 (0.0149)    &                 \\\\\n",
       "\t9 & year2022 x log(deaths)             &                  & 0.0138 (0.0112)    &                 \\\\\n",
       "\t10 & year2020 x StringencyIndex\\_Average &                  & -0.0010 (0.0019)   &                 \\\\\n",
       "\t11 & year2021 x StringencyIndex\\_Average &                  & -0.0001 (0.0014)   &                 \\\\\n",
       "\t12 & year2022 x StringencyIndex\\_Average &                  & -0.0010 (0.0021)   &                 \\\\\n",
       "\t13 & Fixed-Effects:                     & ---------------- & ------------------ & ----------------\\\\\n",
       "\t14 & country                            & Yes              & Yes                & Yes             \\\\\n",
       "\t15 & year                               & Yes              & No                 & Yes             \\\\\n",
       "\t16 & \\_\\_\\_\\_\\_\\_\\_\\_\\_\\_\\_\\_\\_\\_\\_\\_\\_\\_\\_\\_\\_\\_\\_\\_\\_\\_\\_\\_\\_\\_\\_\\_\\_\\_ & \\_\\_\\_\\_\\_\\_\\_\\_\\_\\_\\_\\_\\_\\_\\_\\_ & \\_\\_\\_\\_\\_\\_\\_\\_\\_\\_\\_\\_\\_\\_\\_\\_\\_\\_ & \\_\\_\\_\\_\\_\\_\\_\\_\\_\\_\\_\\_\\_\\_\\_\\_\\\\\n",
       "\t17 & S.E.: Clustered                    & by: country      & by: country        & by: country     \\\\\n",
       "\t18 & Observations                       & 503              & 503                & 501             \\\\\n",
       "\t19 & R2                                 & 0.99700          & 0.99710            & 0.99697         \\\\\n",
       "\t20 & Within R2                          & 0.00712          & 0.97032            & -0.00740        \\\\\n",
       "\t21 & Sargan, p-value                    & --               & --                 & 0.33692         \\\\\n",
       "\t22 & Wu-Hausman, p-value                & --               & --                 & 0.71992         \\\\\n",
       "\t23 & F-test (1st stage), log(deaths)    & --               & --                 & 5.1275          \\\\\n",
       "\\end{tabular}\n"
      ],
      "text/markdown": [
       "\n",
       "A etable_df: 23 × 4\n",
       "\n",
       "| <!--/--> | <!----> &lt;chr&gt; | import_fe_ols &lt;chr&gt; | import_time_effe.. &lt;chr&gt; | import_covid_iv &lt;chr&gt; |\n",
       "|---|---|---|---|---|\n",
       "| 1 | Dependent Var.:                    | value            | value              | value            |\n",
       "| 2 | <!----> | <!----> | <!----> | <!----> |\n",
       "| 3 | log(deaths)                        | 0.0020 (0.0106)  | <!----> | 0.0200 (0.0385)  |\n",
       "| 4 | StringencyIndex_Average            | -0.0017 (0.0011) | <!----> | -0.0018 (0.0013) |\n",
       "| 5 | year2021                           | <!----> | -1.786*** (0.0894) | <!----> |\n",
       "| 6 | year2022                           | <!----> | -1.483*** (0.1110) | <!----> |\n",
       "| 7 | year2020 x log(deaths)             | <!----> | -0.0153 (0.0122)   | <!----> |\n",
       "| 8 | year2021 x log(deaths)             | <!----> | 0.0007 (0.0149)    | <!----> |\n",
       "| 9 | year2022 x log(deaths)             | <!----> | 0.0138 (0.0112)    | <!----> |\n",
       "| 10 | year2020 x StringencyIndex_Average | <!----> | -0.0010 (0.0019)   | <!----> |\n",
       "| 11 | year2021 x StringencyIndex_Average | <!----> | -0.0001 (0.0014)   | <!----> |\n",
       "| 12 | year2022 x StringencyIndex_Average | <!----> | -0.0010 (0.0021)   | <!----> |\n",
       "| 13 | Fixed-Effects:                     | ---------------- | ------------------ | ---------------- |\n",
       "| 14 | country                            | Yes              | Yes                | Yes              |\n",
       "| 15 | year                               | Yes              | No                 | Yes              |\n",
       "| 16 | __________________________________ | ________________ | __________________ | ________________ |\n",
       "| 17 | S.E.: Clustered                    | by: country      | by: country        | by: country      |\n",
       "| 18 | Observations                       | 503              | 503                | 501              |\n",
       "| 19 | R2                                 | 0.99700          | 0.99710            | 0.99697          |\n",
       "| 20 | Within R2                          | 0.00712          | 0.97032            | -0.00740         |\n",
       "| 21 | Sargan, p-value                    | --               | --                 | 0.33692          |\n",
       "| 22 | Wu-Hausman, p-value                | --               | --                 | 0.71992          |\n",
       "| 23 | F-test (1st stage), log(deaths)    | --               | --                 | 5.1275           |\n",
       "\n"
      ],
      "text/plain": [
       "                                      import_fe_ols    import_time_effe..\n",
       "1  Dependent Var.:                    value            value             \n",
       "2                                                                        \n",
       "3  log(deaths)                        0.0020 (0.0106)                    \n",
       "4  StringencyIndex_Average            -0.0017 (0.0011)                   \n",
       "5  year2021                                            -1.786*** (0.0894)\n",
       "6  year2022                                            -1.483*** (0.1110)\n",
       "7  year2020 x log(deaths)                              -0.0153 (0.0122)  \n",
       "8  year2021 x log(deaths)                              0.0007 (0.0149)   \n",
       "9  year2022 x log(deaths)                              0.0138 (0.0112)   \n",
       "10 year2020 x StringencyIndex_Average                  -0.0010 (0.0019)  \n",
       "11 year2021 x StringencyIndex_Average                  -0.0001 (0.0014)  \n",
       "12 year2022 x StringencyIndex_Average                  -0.0010 (0.0021)  \n",
       "13 Fixed-Effects:                     ---------------- ------------------\n",
       "14 country                            Yes              Yes               \n",
       "15 year                               Yes              No                \n",
       "16 __________________________________ ________________ __________________\n",
       "17 S.E.: Clustered                    by: country      by: country       \n",
       "18 Observations                       503              503               \n",
       "19 R2                                 0.99700          0.99710           \n",
       "20 Within R2                          0.00712          0.97032           \n",
       "21 Sargan, p-value                    --               --                \n",
       "22 Wu-Hausman, p-value                --               --                \n",
       "23 F-test (1st stage), log(deaths)    --               --                \n",
       "   import_covid_iv \n",
       "1  value           \n",
       "2                  \n",
       "3  0.0200 (0.0385) \n",
       "4  -0.0018 (0.0013)\n",
       "5                  \n",
       "6                  \n",
       "7                  \n",
       "8                  \n",
       "9                  \n",
       "10                 \n",
       "11                 \n",
       "12                 \n",
       "13 ----------------\n",
       "14 Yes             \n",
       "15 Yes             \n",
       "16 ________________\n",
       "17 by: country     \n",
       "18 501             \n",
       "19 0.99697         \n",
       "20 -0.00740        \n",
       "21 0.33692         \n",
       "22 0.71992         \n",
       "23 5.1275          "
      ]
     },
     "metadata": {},
     "output_type": "display_data"
    }
   ],
   "source": [
    "etable(import_fe_ols, import_time_effects, import_covid_iv, vcov = ~country, fitstat=~ . + sargan.p + wh.p + ivf, tex=FALSE)"
   ]
  },
  {
   "cell_type": "code",
   "execution_count": 23,
   "metadata": {
    "vscode": {
     "languageId": "r"
    }
   },
   "outputs": [
    {
     "data": {
      "text/plain": [
       "\\begingroup\n",
       "\\centering\n",
       "\\begin{tabular}{lccc}\n",
       "   \\tabularnewline \\midrule \\midrule\n",
       "   Dependent Variable: & \\multicolumn{3}{c}{value}\\\\\n",
       "   Model:                                       & (1)      & (2)            & (3)\\\\  \n",
       "   \\midrule\n",
       "   \\emph{Variables}\\\\\n",
       "   log(deaths)                                  & 0.0020   &                & 0.0200\\\\   \n",
       "                                                & (0.0106) &                & (0.0385)\\\\   \n",
       "   StringencyIndex\\_Average                     & -0.0017  &                & -0.0018\\\\   \n",
       "                                                & (0.0011) &                & (0.0013)\\\\   \n",
       "   year2021                                     &          & -1.786$^{***}$ &   \\\\   \n",
       "                                                &          & (0.0894)       &   \\\\   \n",
       "   year2022                                     &          & -1.483$^{***}$ &   \\\\   \n",
       "                                                &          & (0.1110)       &   \\\\   \n",
       "   year2020 $\\times$ log(deaths)                &          & -0.0153        &   \\\\   \n",
       "                                                &          & (0.0122)       &   \\\\   \n",
       "   year2021 $\\times$ log(deaths)                &          & 0.0007         &   \\\\   \n",
       "                                                &          & (0.0149)       &   \\\\   \n",
       "   year2022 $\\times$ log(deaths)                &          & 0.0138         &   \\\\   \n",
       "                                                &          & (0.0112)       &   \\\\   \n",
       "   year2020 $\\times$ StringencyIndex\\_Average   &          & -0.0010        &   \\\\   \n",
       "                                                &          & (0.0019)       &   \\\\   \n",
       "   year2021 $\\times$ StringencyIndex\\_Average   &          & -0.0001        &   \\\\   \n",
       "                                                &          & (0.0014)       &   \\\\   \n",
       "   year2022 $\\times$ StringencyIndex\\_Average   &          & -0.0010        &   \\\\   \n",
       "                                                &          & (0.0021)       &   \\\\   \n",
       "   \\midrule\n",
       "   \\emph{Fixed-effects}\\\\\n",
       "   country                                      & Yes      & Yes            & Yes\\\\  \n",
       "   year                                         & Yes      &                & Yes\\\\  \n",
       "   \\midrule\n",
       "   \\emph{Fit statistics}\\\\\n",
       "   Observations                                 & 503      & 503            & 501\\\\  \n",
       "   R$^2$                                        & 0.99700  & 0.99710        & 0.99697\\\\  \n",
       "   Within R$^2$                                 & 0.00712  & 0.97032        & -0.00740\\\\  \n",
       "   Sargan, p-value                              &          &                & 0.33692\\\\  \n",
       "   Wu-Hausman, p-value                          &          &                & 0.71992\\\\  \n",
       "   F-test (1st stage), log(deaths)              &          &                & 5.1275\\\\  \n",
       "   \\midrule \\midrule\n",
       "   \\multicolumn{4}{l}{\\emph{Clustered (country) standard-errors in parentheses}}\\\\\n",
       "   \\multicolumn{4}{l}{\\emph{Signif. Codes: ***: 0.01, **: 0.05, *: 0.1}}\\\\\n",
       "\\end{tabular}\n",
       "\\par\\endgroup"
      ]
     },
     "metadata": {},
     "output_type": "display_data"
    }
   ],
   "source": [
    "etable(import_fe_ols, import_time_effects, import_covid_iv, vcov = ~country, fitstat=~ . + sargan.p + wh.p + ivf, tex=TRUE)"
   ]
  }
 ],
 "metadata": {
  "kernelspec": {
   "display_name": "R",
   "language": "R",
   "name": "ir"
  },
  "language_info": {
   "codemirror_mode": "r",
   "file_extension": ".r",
   "mimetype": "text/x-r-source",
   "name": "R",
   "pygments_lexer": "r",
   "version": "4.4.1"
  }
 },
 "nbformat": 4,
 "nbformat_minor": 2
}
