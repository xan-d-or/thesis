{
 "cells": [
  {
   "cell_type": "markdown",
   "metadata": {},
   "source": [
    "# Оцениваем регрессии на данных HS0 в спецификациях:\n",
    "- Фиксированные эффекты ~ ковид и ограничения\n",
    "- Фиксированные эффекты ~ ковид и ограничения | инструментальные переменные\n",
    "- В перспективе: суммарный экспорт/импорт в зависимости от ковида (+ IV)"
   ]
  },
  {
   "cell_type": "code",
   "execution_count": 59,
   "metadata": {
    "vscode": {
     "languageId": "r"
    }
   },
   "outputs": [],
   "source": [
    "library(arrow)\n",
    "library(stargazer)\n",
    "library(tidyverse)\n",
    "library(plotly)\n",
    "library(fixest)"
   ]
  },
  {
   "cell_type": "markdown",
   "metadata": {},
   "source": [
    "## Фиксированные эффекты"
   ]
  },
  {
   "cell_type": "markdown",
   "metadata": {},
   "source": [
    "### Экспорт\n",
    "\n",
    "+иллюстрирую, зачем тут нужны фиксированные эффекты"
   ]
  },
  {
   "cell_type": "code",
   "execution_count": 60,
   "metadata": {
    "vscode": {
     "languageId": "r"
    }
   },
   "outputs": [
    {
     "data": {
      "text/html": [
       "<table class=\"dataframe\">\n",
       "<caption>A tibble: 6 × 44</caption>\n",
       "<thead>\n",
       "\t<tr><th scope=col>year</th><th scope=col>country</th><th scope=col>value</th><th scope=col>country:r</th><th scope=col>t</th><th scope=col>cases</th><th scope=col>deaths</th><th scope=col>tests</th><th scope=col>C8EV_International_travel_controls</th><th scope=col>E1_Income_support</th><th scope=col>⋯</th><th scope=col>infant_mortality</th><th scope=col>largest_city_share</th><th scope=col>urbanization</th><th scope=col>country:household_size</th><th scope=col>avg_hh_size</th><th scope=col>share_1_members</th><th scope=col>share_2_3_members</th><th scope=col>share_4_5_members</th><th scope=col>year:r</th><th scope=col>SARS_flg</th></tr>\n",
       "\t<tr><th scope=col>&lt;chr&gt;</th><th scope=col>&lt;chr&gt;</th><th scope=col>&lt;dbl&gt;</th><th scope=col>&lt;chr&gt;</th><th scope=col>&lt;int&gt;</th><th scope=col>&lt;dbl&gt;</th><th scope=col>&lt;dbl&gt;</th><th scope=col>&lt;chr&gt;</th><th scope=col>&lt;dbl&gt;</th><th scope=col>&lt;dbl&gt;</th><th scope=col>⋯</th><th scope=col>&lt;dbl&gt;</th><th scope=col>&lt;dbl&gt;</th><th scope=col>&lt;dbl&gt;</th><th scope=col>&lt;chr&gt;</th><th scope=col>&lt;dbl&gt;</th><th scope=col>&lt;dbl&gt;</th><th scope=col>&lt;dbl&gt;</th><th scope=col>&lt;dbl&gt;</th><th scope=col>&lt;chr&gt;</th><th scope=col>&lt;int&gt;</th></tr>\n",
       "</thead>\n",
       "<tbody>\n",
       "\t<tr><td>2021</td><td>BMU</td><td>-4.7322695</td><td>BMU</td><td>2021</td><td> 232.765781</td><td>4.10290411</td><td>NA</td><td>1.3397260</td><td>1.6410959</td><td>⋯</td><td>  NA</td><td>      NA</td><td>      NA</td><td>BMU</td><td>2.26</td><td>34.09</td><td>48.39</td><td>15.81</td><td>2021</td><td>0</td></tr>\n",
       "\t<tr><td>2020</td><td>FLK</td><td>-1.9501826</td><td>FLK</td><td>2020</td><td>  22.791077</td><td>0.00000000</td><td>NA</td><td>       NA</td><td>       NA</td><td>⋯</td><td>  NA</td><td>      NA</td><td>      NA</td><td>NA </td><td>  NA</td><td>   NA</td><td>   NA</td><td>   NA</td><td>2020</td><td>0</td></tr>\n",
       "\t<tr><td>2020</td><td>MAR</td><td>-4.6759347</td><td>MAR</td><td>2020</td><td>  31.862597</td><td>0.53309392</td><td>NA</td><td>2.8961749</td><td>0.7759563</td><td>⋯</td><td>16.7</td><td>16.29101</td><td>21.93080</td><td>MAR</td><td>4.58</td><td> 7.20</td><td>26.18</td><td>37.94</td><td>2020</td><td>0</td></tr>\n",
       "\t<tr><td>2022</td><td>CRI</td><td>11.6705995</td><td>CRI</td><td>2022</td><td> 319.252767</td><td>0.92893151</td><td>NA</td><td>0.2383562</td><td>0.0000000</td><td>⋯</td><td> 7.2</td><td>34.43402</td><td>27.57339</td><td>CRI</td><td>3.21</td><td>12.07</td><td>48.80</td><td>31.61</td><td>2022</td><td>0</td></tr>\n",
       "\t<tr><td>2021</td><td>SSD</td><td> 0.7983226</td><td>SSD</td><td>2021</td><td>   2.810219</td><td>0.01789041</td><td>NA</td><td>1.6520548</td><td>0.3260274</td><td>⋯</td><td>63.8</td><td>18.59871</td><td>      NA</td><td>SSD</td><td>5.98</td><td> 3.15</td><td>14.56</td><td>29.37</td><td>2021</td><td>0</td></tr>\n",
       "\t<tr><td>2022</td><td>ISL</td><td>10.7069034</td><td>ISL</td><td>2022</td><td>1318.168356</td><td>1.07320548</td><td>NA</td><td>0.1890411</td><td>1.0520548</td><td>⋯</td><td> 2.1</td><td>      NA</td><td>      NA</td><td>NA </td><td>  NA</td><td>   NA</td><td>   NA</td><td>   NA</td><td>2022</td><td>0</td></tr>\n",
       "</tbody>\n",
       "</table>\n"
      ],
      "text/latex": [
       "A tibble: 6 × 44\n",
       "\\begin{tabular}{lllllllllllllllllllll}\n",
       " year & country & value & country:r & t & cases & deaths & tests & C8EV\\_International\\_travel\\_controls & E1\\_Income\\_support & ⋯ & infant\\_mortality & largest\\_city\\_share & urbanization & country:household\\_size & avg\\_hh\\_size & share\\_1\\_members & share\\_2\\_3\\_members & share\\_4\\_5\\_members & year:r & SARS\\_flg\\\\\n",
       " <chr> & <chr> & <dbl> & <chr> & <int> & <dbl> & <dbl> & <chr> & <dbl> & <dbl> & ⋯ & <dbl> & <dbl> & <dbl> & <chr> & <dbl> & <dbl> & <dbl> & <dbl> & <chr> & <int>\\\\\n",
       "\\hline\n",
       "\t 2021 & BMU & -4.7322695 & BMU & 2021 &  232.765781 & 4.10290411 & NA & 1.3397260 & 1.6410959 & ⋯ &   NA &       NA &       NA & BMU & 2.26 & 34.09 & 48.39 & 15.81 & 2021 & 0\\\\\n",
       "\t 2020 & FLK & -1.9501826 & FLK & 2020 &   22.791077 & 0.00000000 & NA &        NA &        NA & ⋯ &   NA &       NA &       NA & NA  &   NA &    NA &    NA &    NA & 2020 & 0\\\\\n",
       "\t 2020 & MAR & -4.6759347 & MAR & 2020 &   31.862597 & 0.53309392 & NA & 2.8961749 & 0.7759563 & ⋯ & 16.7 & 16.29101 & 21.93080 & MAR & 4.58 &  7.20 & 26.18 & 37.94 & 2020 & 0\\\\\n",
       "\t 2022 & CRI & 11.6705995 & CRI & 2022 &  319.252767 & 0.92893151 & NA & 0.2383562 & 0.0000000 & ⋯ &  7.2 & 34.43402 & 27.57339 & CRI & 3.21 & 12.07 & 48.80 & 31.61 & 2022 & 0\\\\\n",
       "\t 2021 & SSD &  0.7983226 & SSD & 2021 &    2.810219 & 0.01789041 & NA & 1.6520548 & 0.3260274 & ⋯ & 63.8 & 18.59871 &       NA & SSD & 5.98 &  3.15 & 14.56 & 29.37 & 2021 & 0\\\\\n",
       "\t 2022 & ISL & 10.7069034 & ISL & 2022 & 1318.168356 & 1.07320548 & NA & 0.1890411 & 1.0520548 & ⋯ &  2.1 &       NA &       NA & NA  &   NA &    NA &    NA &    NA & 2022 & 0\\\\\n",
       "\\end{tabular}\n"
      ],
      "text/markdown": [
       "\n",
       "A tibble: 6 × 44\n",
       "\n",
       "| year &lt;chr&gt; | country &lt;chr&gt; | value &lt;dbl&gt; | country:r &lt;chr&gt; | t &lt;int&gt; | cases &lt;dbl&gt; | deaths &lt;dbl&gt; | tests &lt;chr&gt; | C8EV_International_travel_controls &lt;dbl&gt; | E1_Income_support &lt;dbl&gt; | ⋯ ⋯ | infant_mortality &lt;dbl&gt; | largest_city_share &lt;dbl&gt; | urbanization &lt;dbl&gt; | country:household_size &lt;chr&gt; | avg_hh_size &lt;dbl&gt; | share_1_members &lt;dbl&gt; | share_2_3_members &lt;dbl&gt; | share_4_5_members &lt;dbl&gt; | year:r &lt;chr&gt; | SARS_flg &lt;int&gt; |\n",
       "|---|---|---|---|---|---|---|---|---|---|---|---|---|---|---|---|---|---|---|---|---|\n",
       "| 2021 | BMU | -4.7322695 | BMU | 2021 |  232.765781 | 4.10290411 | NA | 1.3397260 | 1.6410959 | ⋯ |   NA |       NA |       NA | BMU | 2.26 | 34.09 | 48.39 | 15.81 | 2021 | 0 |\n",
       "| 2020 | FLK | -1.9501826 | FLK | 2020 |   22.791077 | 0.00000000 | NA |        NA |        NA | ⋯ |   NA |       NA |       NA | NA  |   NA |    NA |    NA |    NA | 2020 | 0 |\n",
       "| 2020 | MAR | -4.6759347 | MAR | 2020 |   31.862597 | 0.53309392 | NA | 2.8961749 | 0.7759563 | ⋯ | 16.7 | 16.29101 | 21.93080 | MAR | 4.58 |  7.20 | 26.18 | 37.94 | 2020 | 0 |\n",
       "| 2022 | CRI | 11.6705995 | CRI | 2022 |  319.252767 | 0.92893151 | NA | 0.2383562 | 0.0000000 | ⋯ |  7.2 | 34.43402 | 27.57339 | CRI | 3.21 | 12.07 | 48.80 | 31.61 | 2022 | 0 |\n",
       "| 2021 | SSD |  0.7983226 | SSD | 2021 |    2.810219 | 0.01789041 | NA | 1.6520548 | 0.3260274 | ⋯ | 63.8 | 18.59871 |       NA | SSD | 5.98 |  3.15 | 14.56 | 29.37 | 2021 | 0 |\n",
       "| 2022 | ISL | 10.7069034 | ISL | 2022 | 1318.168356 | 1.07320548 | NA | 0.1890411 | 1.0520548 | ⋯ |  2.1 |       NA |       NA | NA  |   NA |    NA |    NA |    NA | 2022 | 0 |\n",
       "\n"
      ],
      "text/plain": [
       "  year country value      country:r t    cases       deaths     tests\n",
       "1 2021 BMU     -4.7322695 BMU       2021  232.765781 4.10290411 NA   \n",
       "2 2020 FLK     -1.9501826 FLK       2020   22.791077 0.00000000 NA   \n",
       "3 2020 MAR     -4.6759347 MAR       2020   31.862597 0.53309392 NA   \n",
       "4 2022 CRI     11.6705995 CRI       2022  319.252767 0.92893151 NA   \n",
       "5 2021 SSD      0.7983226 SSD       2021    2.810219 0.01789041 NA   \n",
       "6 2022 ISL     10.7069034 ISL       2022 1318.168356 1.07320548 NA   \n",
       "  C8EV_International_travel_controls E1_Income_support ⋯ infant_mortality\n",
       "1 1.3397260                          1.6410959         ⋯   NA            \n",
       "2        NA                                 NA         ⋯   NA            \n",
       "3 2.8961749                          0.7759563         ⋯ 16.7            \n",
       "4 0.2383562                          0.0000000         ⋯  7.2            \n",
       "5 1.6520548                          0.3260274         ⋯ 63.8            \n",
       "6 0.1890411                          1.0520548         ⋯  2.1            \n",
       "  largest_city_share urbanization country:household_size avg_hh_size\n",
       "1       NA                 NA     BMU                    2.26       \n",
       "2       NA                 NA     NA                       NA       \n",
       "3 16.29101           21.93080     MAR                    4.58       \n",
       "4 34.43402           27.57339     CRI                    3.21       \n",
       "5 18.59871                 NA     SSD                    5.98       \n",
       "6       NA                 NA     NA                       NA       \n",
       "  share_1_members share_2_3_members share_4_5_members year:r SARS_flg\n",
       "1 34.09           48.39             15.81             2021   0       \n",
       "2    NA              NA                NA             2020   0       \n",
       "3  7.20           26.18             37.94             2020   0       \n",
       "4 12.07           48.80             31.61             2022   0       \n",
       "5  3.15           14.56             29.37             2021   0       \n",
       "6    NA              NA                NA             2022   0       "
      ]
     },
     "metadata": {},
     "output_type": "display_data"
    }
   ],
   "source": [
    "# Скачиваю данные и переназываю переменные\n",
    "df = read_parquet('../data/processed_data/trade_hs0_export_fe_x_covid.parquet.gzip')\n",
    "df = df %>% mutate(year = as.character(year), SARS_flg = as.integer(!is.na(SARS_total_cases)))\n",
    "df %>% head()"
   ]
  },
  {
   "cell_type": "code",
   "execution_count": 61,
   "metadata": {
    "vscode": {
     "languageId": "r"
    }
   },
   "outputs": [
    {
     "name": "stderr",
     "output_type": "stream",
     "text": [
      "Warning message:\n",
      "\"\u001b[1m\u001b[22mRemoved 6 rows containing missing values or values outside the scale range\n",
      "(`geom_point()`).\"\n"
     ]
    },
    {
     "data": {
      "image/png": "[encoded data removed]",
      "text/plain": [
       "plot without title"
      ]
     },
     "metadata": {
      "image/png": {
       "height": 420,
       "width": 420
      }
     },
     "output_type": "display_data"
    }
   ],
   "source": [
    "p = ggplot(df, aes(x = log(deaths), y = value, text = factor(country), color = factor(year)\n",
    "    )) + geom_point()+ theme(legend.position = \"none\")\n",
    "# ggplotly(p) \n",
    "p   "
   ]
  },
  {
   "cell_type": "code",
   "execution_count": 62,
   "metadata": {
    "vscode": {
     "languageId": "r"
    }
   },
   "outputs": [
    {
     "name": "stderr",
     "output_type": "stream",
     "text": [
      "NOTE: 154 observations removed because of NA and infinite values (RHS: 154).\n",
      "\n"
     ]
    },
    {
     "data": {
      "text/plain": [
       "OLS estimation, Dep. Var.: value\n",
       "Observations: 506\n",
       "Fixed-effects: year: 3\n",
       "Standard-errors: Newey-West (L=1) \n",
       "                                   Estimate Std. Error  t value Pr(>|t|)    \n",
       "log(deaths)                        1.137831   0.257579 4.417409 0.047616 *  \n",
       "C8EV_International_travel_controls 0.250616   0.723865 0.346219 0.762208    \n",
       "---\n",
       "Signif. codes:  0 '***' 0.001 '**' 0.01 '*' 0.05 '.' 0.1 ' ' 1\n",
       "RMSE: 7.3561     Adj. R2: 0.207405\n",
       "               Within R2: 0.091339"
      ]
     },
     "metadata": {},
     "output_type": "display_data"
    }
   ],
   "source": [
    "# Pulled OLS\n",
    "m0 = feols(value ~ log(deaths) +\n",
    " C8EV_International_travel_controls| year,\n",
    " data = df)\n",
    "m0 %>% summary(vcov = vcov_NW(unit = 'country', time = 'year'))"
   ]
  },
  {
   "cell_type": "code",
   "execution_count": 63,
   "metadata": {
    "vscode": {
     "languageId": "r"
    }
   },
   "outputs": [
    {
     "data": {
      "image/png": "[encoded data removed]",
      "text/plain": [
       "plot without title"
      ]
     },
     "metadata": {
      "image/png": {
       "height": 420,
       "width": 420
      }
     },
     "output_type": "display_data"
    }
   ],
   "source": [
    "country_means_df = df %>% group_by(country) %>%\n",
    " summarize(avg_value = mean(value, na.rm = TRUE), avg_log_deaths = mean(log(deaths), na.rm = TRUE))  %>% filter(avg_log_deaths > -1000)\n",
    "\n",
    "demeaned_df = df %>% merge(., country_means_df, by = 'country')  %>%\n",
    "  mutate(log_deaths = log(deaths)- avg_log_deaths, value = value- avg_value) %>%\n",
    "   select(country, year, log_deaths, value)\n",
    "p = ggplot(demeaned_df, aes(x = log_deaths, y = value, text = factor(country), color = factor(year)\n",
    "    )) + geom_point()+ theme(legend.position = \"none\")\n",
    "# ggplotly(p)    \n",
    "p"
   ]
  },
  {
   "cell_type": "code",
   "execution_count": 64,
   "metadata": {
    "vscode": {
     "languageId": "r"
    }
   },
   "outputs": [
    {
     "data": {
      "image/png": "[encoded data removed]",
      "text/plain": [
       "plot without title"
      ]
     },
     "metadata": {
      "image/png": {
       "height": 420,
       "width": 420
      }
     },
     "output_type": "display_data"
    }
   ],
   "source": [
    "year_means_df = demeaned_df %>% filter(log_deaths > -5) %>% group_by(year) %>%\n",
    " summarize(avg_value = mean(value, na.rm = TRUE), avg_log_deaths = mean(log_deaths, na.rm = TRUE))\n",
    "\n",
    "demeaned_df2 = demeaned_df %>% merge(., year_means_df, by = 'year')  %>%\n",
    "  mutate(log_deaths = log_deaths- avg_log_deaths, value = value - avg_value) %>%\n",
    "   select(country, year, log_deaths, value)\n",
    "\n",
    "p = ggplot(demeaned_df2, aes(x = log_deaths, y = value, text = factor(country), color = factor(year)\n",
    "    )) + geom_point()+ theme(legend.position = \"none\")\n",
    "# ggplotly(p)    \n",
    "p"
   ]
  },
  {
   "cell_type": "code",
   "execution_count": 65,
   "metadata": {
    "vscode": {
     "languageId": "r"
    }
   },
   "outputs": [
    {
     "data": {
      "text/html": [
       "<table class=\"dataframe\">\n",
       "<caption>A tibble: 3 × 3</caption>\n",
       "<thead>\n",
       "\t<tr><th scope=col>year</th><th scope=col>avg_value</th><th scope=col>avg_log_deaths</th></tr>\n",
       "\t<tr><th scope=col>&lt;chr&gt;</th><th scope=col>&lt;dbl&gt;</th><th scope=col>&lt;dbl&gt;</th></tr>\n",
       "</thead>\n",
       "<tbody>\n",
       "\t<tr><td>2020</td><td>-2.772960</td><td>-0.4175810</td></tr>\n",
       "\t<tr><td>2021</td><td>-1.664875</td><td> 0.8439503</td></tr>\n",
       "\t<tr><td>2022</td><td> 4.437835</td><td>-0.4263693</td></tr>\n",
       "</tbody>\n",
       "</table>\n"
      ],
      "text/latex": [
       "A tibble: 3 × 3\n",
       "\\begin{tabular}{lll}\n",
       " year & avg\\_value & avg\\_log\\_deaths\\\\\n",
       " <chr> & <dbl> & <dbl>\\\\\n",
       "\\hline\n",
       "\t 2020 & -2.772960 & -0.4175810\\\\\n",
       "\t 2021 & -1.664875 &  0.8439503\\\\\n",
       "\t 2022 &  4.437835 & -0.4263693\\\\\n",
       "\\end{tabular}\n"
      ],
      "text/markdown": [
       "\n",
       "A tibble: 3 × 3\n",
       "\n",
       "| year &lt;chr&gt; | avg_value &lt;dbl&gt; | avg_log_deaths &lt;dbl&gt; |\n",
       "|---|---|---|\n",
       "| 2020 | -2.772960 | -0.4175810 |\n",
       "| 2021 | -1.664875 |  0.8439503 |\n",
       "| 2022 |  4.437835 | -0.4263693 |\n",
       "\n"
      ],
      "text/plain": [
       "  year avg_value avg_log_deaths\n",
       "1 2020 -2.772960 -0.4175810    \n",
       "2 2021 -1.664875  0.8439503    \n",
       "3 2022  4.437835 -0.4263693    "
      ]
     },
     "metadata": {},
     "output_type": "display_data"
    }
   ],
   "source": [
    "year_means_df"
   ]
  },
  {
   "cell_type": "code",
   "execution_count": 66,
   "metadata": {
    "vscode": {
     "languageId": "r"
    }
   },
   "outputs": [
    {
     "name": "stderr",
     "output_type": "stream",
     "text": [
      "NOTE: 154 observations removed because of NA and infinite values (RHS: 154).\n",
      "\n"
     ]
    },
    {
     "data": {
      "text/plain": [
       "OLS estimation, Dep. Var.: value\n",
       "Observations: 506\n",
       "Fixed-effects: country: 175,  year: 3\n",
       "Standard-errors: Newey-West (L=1) \n",
       "                                    Estimate Std. Error  t value Pr(>|t|) \n",
       "log(deaths)                        -0.011189   0.010691 -1.04660  0.40513 \n",
       "C8EV_International_travel_controls -0.060563   0.031503 -1.92244  0.19448 \n",
       "---\n",
       "Signif. codes:  0 '***' 0.001 '**' 0.01 '*' 0.05 '.' 0.1 ' ' 1\n",
       "RMSE: 0.164813     Adj. R2: 0.99939 \n",
       "                 Within R2: 0.020382"
      ]
     },
     "metadata": {},
     "output_type": "display_data"
    }
   ],
   "source": [
    "m1 = feols(value ~ log(deaths) +\n",
    " C8EV_International_travel_controls| country + year,\n",
    " data = df)\n",
    "m1 %>% summary(vcov = vcov_NW(unit = 'country', time = 'year'))"
   ]
  },
  {
   "cell_type": "code",
   "execution_count": 67,
   "metadata": {
    "vscode": {
     "languageId": "r"
    }
   },
   "outputs": [
    {
     "name": "stderr",
     "output_type": "stream",
     "text": [
      "NOTE: 154 observations removed because of NA and infinite values (RHS: 126, IV: 74/126).\n",
      "\n"
     ]
    },
    {
     "data": {
      "text/plain": [
       "TSLS estimation - Dep. Var.: value\n",
       "                  Endo.    : log(deaths)\n",
       "                  Instr.   : H6M_Facial_Coverings\n",
       "Second stage: Dep. Var.: value\n",
       "Observations: 506\n",
       "Fixed-effects: country: 175,  year: 3\n",
       "Standard-errors: Newey-West (L=1) \n",
       "                                    Estimate Std. Error   t value Pr(>|t|) \n",
       "fit_log(deaths)                    -0.190729   0.205056 -0.930134  0.45049 \n",
       "C8EV_International_travel_controls -0.145438   0.108212 -1.344008  0.31111 \n",
       "---\n",
       "Signif. codes:  0 '***' 0.001 '**' 0.01 '*' 0.05 '.' 0.1 ' ' 1\n",
       "RMSE: 0.221611     Adj. R2:  0.998898\n",
       "                 Within R2: -0.771147\n",
       "F-test (1st stage), log(deaths): stat = 3.39781, p = 0.065873, on 1 and 501 DoF.\n",
       "                     Wu-Hausman: stat = 1.79629, p = 0.181095, on 1 and 326 DoF."
      ]
     },
     "metadata": {},
     "output_type": "display_data"
    }
   ],
   "source": [
    "# Маски сами по себе --- слабый инструмент\n",
    "m1_iv = feols(value ~ 1 +\n",
    " C8EV_International_travel_controls|country + year|\n",
    " log(deaths) ~ H6M_Facial_Coverings,\n",
    " data = df)\n",
    "m1_iv %>% summary(vcov = vcov_NW(unit = 'country', time = 'year'))"
   ]
  },
  {
   "cell_type": "code",
   "execution_count": 68,
   "metadata": {
    "vscode": {
     "languageId": "r"
    }
   },
   "outputs": [
    {
     "name": "stderr",
     "output_type": "stream",
     "text": [
      "NOTE: 154 observations removed because of NA and infinite values (RHS: 154).\n",
      "\n"
     ]
    },
    {
     "data": {
      "text/plain": [
       "OLS estimation, Dep. Var.: value\n",
       "Observations: 506\n",
       "Fixed-effects: country: 175\n",
       "Standard-errors: Newey-West (L=1) \n",
       "                                             Estimate Std. Error   t value\n",
       "year2021                                     1.022158   0.090863 11.249496\n",
       "year2022                                     7.073336   0.098474 71.829604\n",
       "year2020:log(deaths)                        -0.022881   0.011725 -1.951535\n",
       "year2021:log(deaths)                        -0.016422   0.013781 -1.191635\n",
       "year2022:log(deaths)                        -0.002128   0.013314 -0.159841\n",
       "year2020:C8EV_International_travel_controls -0.091384   0.042403 -2.155120\n",
       "year2021:C8EV_International_travel_controls -0.045326   0.035758 -1.267577\n",
       "year2022:C8EV_International_travel_controls -0.029126   0.058403 -0.498711\n",
       "                                              Pr(>|t|)    \n",
       "year2021                                    0.00780950 ** \n",
       "year2022                                    0.00019376 ***\n",
       "year2020:log(deaths)                        0.19026149    \n",
       "year2021:log(deaths)                        0.35563695    \n",
       "year2022:log(deaths)                        0.88769047    \n",
       "year2020:C8EV_International_travel_controls 0.16393710    \n",
       "year2021:C8EV_International_travel_controls 0.33255371    \n",
       "year2022:C8EV_International_travel_controls 0.66743078    \n",
       "---\n",
       "Signif. codes:  0 '***' 0.001 '**' 0.01 '*' 0.05 '.' 0.1 ' ' 1\n",
       "RMSE: 0.163684     Adj. R2: 0.999391\n",
       "                 Within R2: 0.997315"
      ]
     },
     "metadata": {},
     "output_type": "display_data"
    }
   ],
   "source": [
    "# Гетерогенность во времени\n",
    "m2 = feols(value ~ year/log(deaths) + year/C8EV_International_travel_controls| country,\n",
    " data = df)\n",
    "m2 %>% summary(vcov = vcov_NW(unit = 'country', time = 'year'))"
   ]
  },
  {
   "cell_type": "code",
   "execution_count": 87,
   "metadata": {
    "vscode": {
     "languageId": "r"
    }
   },
   "outputs": [
    {
     "name": "stderr",
     "output_type": "stream",
     "text": [
      "NOTE: 154 observations removed because of NA and infinite values (RHS: 126, IV: 74/126).\n",
      "\n"
     ]
    },
    {
     "data": {
      "text/plain": [
       "TSLS estimation - Dep. Var.: value\n",
       "                  Endo.    : log(deaths)\n",
       "                  Instr.   : population_density, H6M_Facial_Coverings, median_age\n",
       "Second stage: Dep. Var.: value\n",
       "Observations: 506\n",
       "Fixed-effects: year: 3\n",
       "Standard-errors: Heteroskedasticity-robust \n",
       "                                   Estimate Std. Error t value Pr(>|t|)    \n",
       "fit_log(deaths)                    0.524703   0.246844 2.12565 0.034021 *  \n",
       "C8EV_International_travel_controls 0.799780   0.581344 1.37574 0.169516    \n",
       "---\n",
       "Signif. codes:  0 '***' 0.001 '**' 0.01 '*' 0.05 '.' 0.1 ' ' 1\n",
       "RMSE: 7.45501     Adj. R2:  0.150418\n",
       "                Within R2: -0.006312\n",
       "F-test (1st stage), log(deaths): stat = 146.6    , p < 2.2e-16, on 3 and 501 DoF.\n",
       "                     Wu-Hausman: stat =   4.77197, p = 0.02939, on 1 and 500 DoF.\n",
       "                         Sargan: stat =   0.99276, p = 0.60873, on 2 DoF."
      ]
     },
     "metadata": {},
     "output_type": "display_data"
    }
   ],
   "source": [
    "m3 = feols(value ~ 1 +\n",
    " C8EV_International_travel_controls| year|\n",
    " log(deaths) ~\n",
    " population_density + \n",
    "#  SARS_flg + # Почему-то он эндогенный с точки зрения Саргана\n",
    " H6M_Facial_Coverings +\n",
    "#  share_1_members + # Добавляет пропуски\n",
    " median_age,\n",
    " data = df #%>% filter(year == '2020')\n",
    " )\n",
    "m3 %>% summary(vcov = 'hc1')"
   ]
  },
  {
   "cell_type": "code",
   "execution_count": 70,
   "metadata": {
    "vscode": {
     "languageId": "r"
    }
   },
   "outputs": [
    {
     "data": {
      "text/html": [
       "<table class=\"dataframe\">\n",
       "<caption>A etable_df: 20 × 5</caption>\n",
       "<thead>\n",
       "\t<tr><th></th><th scope=col></th><th scope=col>m0</th><th scope=col>m1</th><th scope=col>m2</th><th scope=col>m3</th></tr>\n",
       "\t<tr><th></th><th scope=col>&lt;chr&gt;</th><th scope=col>&lt;chr&gt;</th><th scope=col>&lt;chr&gt;</th><th scope=col>&lt;chr&gt;</th><th scope=col>&lt;chr&gt;</th></tr>\n",
       "</thead>\n",
       "<tbody>\n",
       "\t<tr><th scope=row>1</th><td>Dependent Var.:                              </td><td>value           </td><td>value            </td><td>value            </td><td>value           </td></tr>\n",
       "\t<tr><th scope=row>2</th><td>                                             </td><td>                </td><td>                 </td><td>                 </td><td>                </td></tr>\n",
       "\t<tr><th scope=row>3</th><td>log(deaths)                                  </td><td>1.138** (0.0571)</td><td>-0.0112 (0.0108) </td><td>                 </td><td>1.733** (0.1659)</td></tr>\n",
       "\t<tr><th scope=row>4</th><td>C8EV_International_travel_controls           </td><td>0.2506 (0.3831) </td><td>-0.0606* (0.0286)</td><td>                 </td><td>0.4206 (0.3100) </td></tr>\n",
       "\t<tr><th scope=row>5</th><td>year2021                                     </td><td>                </td><td>                 </td><td>1.022*** (0.0883)</td><td>                </td></tr>\n",
       "\t<tr><th scope=row>6</th><td>year2022                                     </td><td>                </td><td>                 </td><td>7.073*** (0.1018)</td><td>                </td></tr>\n",
       "\t<tr><th scope=row>7</th><td>year2020 x log(deaths)                       </td><td>                </td><td>                 </td><td>-0.0229. (0.0120)</td><td>                </td></tr>\n",
       "\t<tr><th scope=row>8</th><td>year2021 x log(deaths)                       </td><td>                </td><td>                 </td><td>-0.0164 (0.0124) </td><td>                </td></tr>\n",
       "\t<tr><th scope=row>9</th><td>year2022 x log(deaths)                       </td><td>                </td><td>                 </td><td>-0.0021 (0.0137) </td><td>                </td></tr>\n",
       "\t<tr><th scope=row>10</th><td>year2020 x C8EV_International_travel_controls</td><td>                </td><td>                 </td><td>-0.0914* (0.0425)</td><td>                </td></tr>\n",
       "\t<tr><th scope=row>11</th><td>year2021 x C8EV_International_travel_controls</td><td>                </td><td>                 </td><td>-0.0453 (0.0304) </td><td>                </td></tr>\n",
       "\t<tr><th scope=row>12</th><td>year2022 x C8EV_International_travel_controls</td><td>                </td><td>                 </td><td>-0.0291 (0.0589) </td><td>                </td></tr>\n",
       "\t<tr><th scope=row>13</th><td>Fixed-Effects:                               </td><td>----------------</td><td>-----------------</td><td>-----------------</td><td>----------------</td></tr>\n",
       "\t<tr><th scope=row>14</th><td>year                                         </td><td>Yes             </td><td>Yes              </td><td>No               </td><td>Yes             </td></tr>\n",
       "\t<tr><th scope=row>15</th><td>country                                      </td><td>No              </td><td>Yes              </td><td>Yes              </td><td>No              </td></tr>\n",
       "\t<tr><th scope=row>16</th><td>________________________________________     </td><td>________________</td><td>_________________</td><td>_________________</td><td>________________</td></tr>\n",
       "\t<tr><th scope=row>17</th><td>S.E.: Clustered                              </td><td>by: year        </td><td>by: country      </td><td>by: country      </td><td>by: year        </td></tr>\n",
       "\t<tr><th scope=row>18</th><td>Observations                                 </td><td>506             </td><td>506              </td><td>506              </td><td>506             </td></tr>\n",
       "\t<tr><th scope=row>19</th><td>R2                                           </td><td>0.21368         </td><td>0.99961          </td><td>0.99961          </td><td>0.19208         </td></tr>\n",
       "\t<tr><th scope=row>20</th><td>Within R2                                    </td><td>0.09134         </td><td>0.02038          </td><td>0.99731          </td><td>0.06637         </td></tr>\n",
       "</tbody>\n",
       "</table>\n"
      ],
      "text/latex": [
       "A etable\\_df: 20 × 5\n",
       "\\begin{tabular}{r|lllll}\n",
       "  &  & m0 & m1 & m2 & m3\\\\\n",
       "  & <chr> & <chr> & <chr> & <chr> & <chr>\\\\\n",
       "\\hline\n",
       "\t1 & Dependent Var.:                               & value            & value             & value             & value           \\\\\n",
       "\t2 &                                               &                  &                   &                   &                 \\\\\n",
       "\t3 & log(deaths)                                   & 1.138** (0.0571) & -0.0112 (0.0108)  &                   & 1.733** (0.1659)\\\\\n",
       "\t4 & C8EV\\_International\\_travel\\_controls            & 0.2506 (0.3831)  & -0.0606* (0.0286) &                   & 0.4206 (0.3100) \\\\\n",
       "\t5 & year2021                                      &                  &                   & 1.022*** (0.0883) &                 \\\\\n",
       "\t6 & year2022                                      &                  &                   & 7.073*** (0.1018) &                 \\\\\n",
       "\t7 & year2020 x log(deaths)                        &                  &                   & -0.0229. (0.0120) &                 \\\\\n",
       "\t8 & year2021 x log(deaths)                        &                  &                   & -0.0164 (0.0124)  &                 \\\\\n",
       "\t9 & year2022 x log(deaths)                        &                  &                   & -0.0021 (0.0137)  &                 \\\\\n",
       "\t10 & year2020 x C8EV\\_International\\_travel\\_controls &                  &                   & -0.0914* (0.0425) &                 \\\\\n",
       "\t11 & year2021 x C8EV\\_International\\_travel\\_controls &                  &                   & -0.0453 (0.0304)  &                 \\\\\n",
       "\t12 & year2022 x C8EV\\_International\\_travel\\_controls &                  &                   & -0.0291 (0.0589)  &                 \\\\\n",
       "\t13 & Fixed-Effects:                                & ---------------- & ----------------- & ----------------- & ----------------\\\\\n",
       "\t14 & year                                          & Yes              & Yes               & No                & Yes             \\\\\n",
       "\t15 & country                                       & No               & Yes               & Yes               & No              \\\\\n",
       "\t16 & \\_\\_\\_\\_\\_\\_\\_\\_\\_\\_\\_\\_\\_\\_\\_\\_\\_\\_\\_\\_\\_\\_\\_\\_\\_\\_\\_\\_\\_\\_\\_\\_\\_\\_\\_\\_\\_\\_\\_\\_      & \\_\\_\\_\\_\\_\\_\\_\\_\\_\\_\\_\\_\\_\\_\\_\\_ & \\_\\_\\_\\_\\_\\_\\_\\_\\_\\_\\_\\_\\_\\_\\_\\_\\_ & \\_\\_\\_\\_\\_\\_\\_\\_\\_\\_\\_\\_\\_\\_\\_\\_\\_ & \\_\\_\\_\\_\\_\\_\\_\\_\\_\\_\\_\\_\\_\\_\\_\\_\\\\\n",
       "\t17 & S.E.: Clustered                               & by: year         & by: country       & by: country       & by: year        \\\\\n",
       "\t18 & Observations                                  & 506              & 506               & 506               & 506             \\\\\n",
       "\t19 & R2                                            & 0.21368          & 0.99961           & 0.99961           & 0.19208         \\\\\n",
       "\t20 & Within R2                                     & 0.09134          & 0.02038           & 0.99731           & 0.06637         \\\\\n",
       "\\end{tabular}\n"
      ],
      "text/markdown": [
       "\n",
       "A etable_df: 20 × 5\n",
       "\n",
       "| <!--/--> | <!----> &lt;chr&gt; | m0 &lt;chr&gt; | m1 &lt;chr&gt; | m2 &lt;chr&gt; | m3 &lt;chr&gt; |\n",
       "|---|---|---|---|---|---|\n",
       "| 1 | Dependent Var.:                               | value            | value             | value             | value            |\n",
       "| 2 | <!----> | <!----> | <!----> | <!----> | <!----> |\n",
       "| 3 | log(deaths)                                   | 1.138** (0.0571) | -0.0112 (0.0108)  | <!----> | 1.733** (0.1659) |\n",
       "| 4 | C8EV_International_travel_controls            | 0.2506 (0.3831)  | -0.0606* (0.0286) | <!----> | 0.4206 (0.3100)  |\n",
       "| 5 | year2021                                      | <!----> | <!----> | 1.022*** (0.0883) | <!----> |\n",
       "| 6 | year2022                                      | <!----> | <!----> | 7.073*** (0.1018) | <!----> |\n",
       "| 7 | year2020 x log(deaths)                        | <!----> | <!----> | -0.0229. (0.0120) | <!----> |\n",
       "| 8 | year2021 x log(deaths)                        | <!----> | <!----> | -0.0164 (0.0124)  | <!----> |\n",
       "| 9 | year2022 x log(deaths)                        | <!----> | <!----> | -0.0021 (0.0137)  | <!----> |\n",
       "| 10 | year2020 x C8EV_International_travel_controls | <!----> | <!----> | -0.0914* (0.0425) | <!----> |\n",
       "| 11 | year2021 x C8EV_International_travel_controls | <!----> | <!----> | -0.0453 (0.0304)  | <!----> |\n",
       "| 12 | year2022 x C8EV_International_travel_controls | <!----> | <!----> | -0.0291 (0.0589)  | <!----> |\n",
       "| 13 | Fixed-Effects:                                | ---------------- | ----------------- | ----------------- | ---------------- |\n",
       "| 14 | year                                          | Yes              | Yes               | No                | Yes              |\n",
       "| 15 | country                                       | No               | Yes               | Yes               | No               |\n",
       "| 16 | ________________________________________      | ________________ | _________________ | _________________ | ________________ |\n",
       "| 17 | S.E.: Clustered                               | by: year         | by: country       | by: country       | by: year         |\n",
       "| 18 | Observations                                  | 506              | 506               | 506               | 506              |\n",
       "| 19 | R2                                            | 0.21368          | 0.99961           | 0.99961           | 0.19208          |\n",
       "| 20 | Within R2                                     | 0.09134          | 0.02038           | 0.99731           | 0.06637          |\n",
       "\n"
      ],
      "text/plain": [
       "                                                 m0              \n",
       "1  Dependent Var.:                               value           \n",
       "2                                                                \n",
       "3  log(deaths)                                   1.138** (0.0571)\n",
       "4  C8EV_International_travel_controls            0.2506 (0.3831) \n",
       "5  year2021                                                      \n",
       "6  year2022                                                      \n",
       "7  year2020 x log(deaths)                                        \n",
       "8  year2021 x log(deaths)                                        \n",
       "9  year2022 x log(deaths)                                        \n",
       "10 year2020 x C8EV_International_travel_controls                 \n",
       "11 year2021 x C8EV_International_travel_controls                 \n",
       "12 year2022 x C8EV_International_travel_controls                 \n",
       "13 Fixed-Effects:                                ----------------\n",
       "14 year                                          Yes             \n",
       "15 country                                       No              \n",
       "16 ________________________________________      ________________\n",
       "17 S.E.: Clustered                               by: year        \n",
       "18 Observations                                  506             \n",
       "19 R2                                            0.21368         \n",
       "20 Within R2                                     0.09134         \n",
       "   m1                m2                m3              \n",
       "1  value             value             value           \n",
       "2                                                      \n",
       "3  -0.0112 (0.0108)                    1.733** (0.1659)\n",
       "4  -0.0606* (0.0286)                   0.4206 (0.3100) \n",
       "5                    1.022*** (0.0883)                 \n",
       "6                    7.073*** (0.1018)                 \n",
       "7                    -0.0229. (0.0120)                 \n",
       "8                    -0.0164 (0.0124)                  \n",
       "9                    -0.0021 (0.0137)                  \n",
       "10                   -0.0914* (0.0425)                 \n",
       "11                   -0.0453 (0.0304)                  \n",
       "12                   -0.0291 (0.0589)                  \n",
       "13 ----------------- ----------------- ----------------\n",
       "14 Yes               No                Yes             \n",
       "15 Yes               Yes               No              \n",
       "16 _________________ _________________ ________________\n",
       "17 by: country       by: country       by: year        \n",
       "18 506               506               506             \n",
       "19 0.99961           0.99961           0.19208         \n",
       "20 0.02038           0.99731           0.06637         "
      ]
     },
     "metadata": {},
     "output_type": "display_data"
    }
   ],
   "source": [
    "etable(m0, m1, m2, m3)"
   ]
  },
  {
   "cell_type": "code",
   "execution_count": 88,
   "metadata": {
    "vscode": {
     "languageId": "r"
    }
   },
   "outputs": [
    {
     "name": "stderr",
     "output_type": "stream",
     "text": [
      "NOTE: 126 observations removed because of NA values (RHS: 126).\n",
      "\n"
     ]
    },
    {
     "data": {
      "text/plain": [
       "OLS estimation, Dep. Var.: value\n",
       "Observations: 534\n",
       "Fixed-effects: country: 178,  year: 3\n",
       "Standard-errors: Newey-West (L=1) \n",
       "                         Estimate Std. Error  t value Pr(>|t|) \n",
       "StringencyIndex_Average -0.002699   0.001079 -2.50267  0.12939 \n",
       "---\n",
       "Signif. codes:  0 '***' 0.001 '**' 0.01 '*' 0.05 '.' 0.1 ' ' 1\n",
       "RMSE: 0.141099     Adj. R2: 0.999541\n",
       "                 Within R2: 0.020914"
      ]
     },
     "metadata": {},
     "output_type": "display_data"
    },
    {
     "data": {
      "text/plain": [
       "OLS estimation, Dep. Var.: value\n",
       "Observations: 534\n",
       "Fixed-effects: country: 178,  year: 3\n",
       "Standard-errors: Clustered (country & year) \n",
       "                         Estimate Std. Error  t value Pr(>|t|) \n",
       "StringencyIndex_Average -0.002699   0.001205 -2.24076  0.15434 \n",
       "---\n",
       "Signif. codes:  0 '***' 0.001 '**' 0.01 '*' 0.05 '.' 0.1 ' ' 1\n",
       "RMSE: 0.141099     Adj. R2: 0.999541\n",
       "                 Within R2: 0.020914"
      ]
     },
     "metadata": {},
     "output_type": "display_data"
    }
   ],
   "source": [
    "# Реплицирую (Berthou, 2024), но результат совсем не сходится...\n",
    "m = feols(value ~ StringencyIndex_Average | country + year,\n",
    " data = df)\n",
    "m %>% summary(vcov = vcov_NW(unit = 'country', time = 'year'))\n",
    "m %>% summary(vcov = 'twoway')"
   ]
  },
  {
   "cell_type": "markdown",
   "metadata": {},
   "source": [
    "### Импорт"
   ]
  },
  {
   "cell_type": "code",
   "execution_count": 72,
   "metadata": {
    "vscode": {
     "languageId": "r"
    }
   },
   "outputs": [
    {
     "data": {
      "text/html": [
       "<table class=\"dataframe\">\n",
       "<caption>A tibble: 6 × 44</caption>\n",
       "<thead>\n",
       "\t<tr><th scope=col>year</th><th scope=col>country</th><th scope=col>value</th><th scope=col>country:r</th><th scope=col>t</th><th scope=col>cases</th><th scope=col>deaths</th><th scope=col>tests</th><th scope=col>C8EV_International_travel_controls</th><th scope=col>E1_Income_support</th><th scope=col>⋯</th><th scope=col>infant_mortality</th><th scope=col>largest_city_share</th><th scope=col>urbanization</th><th scope=col>country:household_size</th><th scope=col>avg_hh_size</th><th scope=col>share_1_members</th><th scope=col>share_2_3_members</th><th scope=col>share_4_5_members</th><th scope=col>year:r</th><th scope=col>SARS_flg</th></tr>\n",
       "\t<tr><th scope=col>&lt;chr&gt;</th><th scope=col>&lt;chr&gt;</th><th scope=col>&lt;dbl&gt;</th><th scope=col>&lt;chr&gt;</th><th scope=col>&lt;int&gt;</th><th scope=col>&lt;dbl&gt;</th><th scope=col>&lt;dbl&gt;</th><th scope=col>&lt;chr&gt;</th><th scope=col>&lt;dbl&gt;</th><th scope=col>&lt;dbl&gt;</th><th scope=col>⋯</th><th scope=col>&lt;dbl&gt;</th><th scope=col>&lt;dbl&gt;</th><th scope=col>&lt;dbl&gt;</th><th scope=col>&lt;chr&gt;</th><th scope=col>&lt;dbl&gt;</th><th scope=col>&lt;dbl&gt;</th><th scope=col>&lt;dbl&gt;</th><th scope=col>&lt;dbl&gt;</th><th scope=col>&lt;chr&gt;</th><th scope=col>&lt;int&gt;</th></tr>\n",
       "</thead>\n",
       "<tbody>\n",
       "\t<tr><td>2021</td><td>BMU</td><td>-3.3974488</td><td>BMU</td><td>2021</td><td> 232.765781</td><td>4.10290411</td><td>NA</td><td>1.3397260</td><td>1.6410959</td><td>⋯</td><td>  NA</td><td>      NA</td><td>      NA</td><td>BMU</td><td>2.26</td><td>34.09</td><td>48.39</td><td>15.81</td><td>2021</td><td>0</td></tr>\n",
       "\t<tr><td>2020</td><td>FLK</td><td>-1.5572519</td><td>FLK</td><td>2020</td><td>  22.791077</td><td>0.00000000</td><td>NA</td><td>       NA</td><td>       NA</td><td>⋯</td><td>  NA</td><td>      NA</td><td>      NA</td><td>NA </td><td>  NA</td><td>   NA</td><td>   NA</td><td>   NA</td><td>2020</td><td>0</td></tr>\n",
       "\t<tr><td>2020</td><td>MAR</td><td> 0.4427725</td><td>MAR</td><td>2020</td><td>  31.862597</td><td>0.53309392</td><td>NA</td><td>2.8961749</td><td>0.7759563</td><td>⋯</td><td>16.7</td><td>16.29101</td><td>21.93080</td><td>MAR</td><td>4.58</td><td> 7.20</td><td>26.18</td><td>37.94</td><td>2020</td><td>0</td></tr>\n",
       "\t<tr><td>2022</td><td>CRI</td><td>-4.5786255</td><td>CRI</td><td>2022</td><td> 319.252767</td><td>0.92893151</td><td>NA</td><td>0.2383562</td><td>0.0000000</td><td>⋯</td><td> 7.2</td><td>34.43402</td><td>27.57339</td><td>CRI</td><td>3.21</td><td>12.07</td><td>48.80</td><td>31.61</td><td>2022</td><td>0</td></tr>\n",
       "\t<tr><td>2021</td><td>SSD</td><td> 1.4891466</td><td>SSD</td><td>2021</td><td>   2.810219</td><td>0.01789041</td><td>NA</td><td>1.6520548</td><td>0.3260274</td><td>⋯</td><td>63.8</td><td>18.59871</td><td>      NA</td><td>SSD</td><td>5.98</td><td> 3.15</td><td>14.56</td><td>29.37</td><td>2021</td><td>0</td></tr>\n",
       "\t<tr><td>2022</td><td>ISL</td><td> 2.2191366</td><td>ISL</td><td>2022</td><td>1318.168356</td><td>1.07320548</td><td>NA</td><td>0.1890411</td><td>1.0520548</td><td>⋯</td><td> 2.1</td><td>      NA</td><td>      NA</td><td>NA </td><td>  NA</td><td>   NA</td><td>   NA</td><td>   NA</td><td>2022</td><td>0</td></tr>\n",
       "</tbody>\n",
       "</table>\n"
      ],
      "text/latex": [
       "A tibble: 6 × 44\n",
       "\\begin{tabular}{lllllllllllllllllllll}\n",
       " year & country & value & country:r & t & cases & deaths & tests & C8EV\\_International\\_travel\\_controls & E1\\_Income\\_support & ⋯ & infant\\_mortality & largest\\_city\\_share & urbanization & country:household\\_size & avg\\_hh\\_size & share\\_1\\_members & share\\_2\\_3\\_members & share\\_4\\_5\\_members & year:r & SARS\\_flg\\\\\n",
       " <chr> & <chr> & <dbl> & <chr> & <int> & <dbl> & <dbl> & <chr> & <dbl> & <dbl> & ⋯ & <dbl> & <dbl> & <dbl> & <chr> & <dbl> & <dbl> & <dbl> & <dbl> & <chr> & <int>\\\\\n",
       "\\hline\n",
       "\t 2021 & BMU & -3.3974488 & BMU & 2021 &  232.765781 & 4.10290411 & NA & 1.3397260 & 1.6410959 & ⋯ &   NA &       NA &       NA & BMU & 2.26 & 34.09 & 48.39 & 15.81 & 2021 & 0\\\\\n",
       "\t 2020 & FLK & -1.5572519 & FLK & 2020 &   22.791077 & 0.00000000 & NA &        NA &        NA & ⋯ &   NA &       NA &       NA & NA  &   NA &    NA &    NA &    NA & 2020 & 0\\\\\n",
       "\t 2020 & MAR &  0.4427725 & MAR & 2020 &   31.862597 & 0.53309392 & NA & 2.8961749 & 0.7759563 & ⋯ & 16.7 & 16.29101 & 21.93080 & MAR & 4.58 &  7.20 & 26.18 & 37.94 & 2020 & 0\\\\\n",
       "\t 2022 & CRI & -4.5786255 & CRI & 2022 &  319.252767 & 0.92893151 & NA & 0.2383562 & 0.0000000 & ⋯ &  7.2 & 34.43402 & 27.57339 & CRI & 3.21 & 12.07 & 48.80 & 31.61 & 2022 & 0\\\\\n",
       "\t 2021 & SSD &  1.4891466 & SSD & 2021 &    2.810219 & 0.01789041 & NA & 1.6520548 & 0.3260274 & ⋯ & 63.8 & 18.59871 &       NA & SSD & 5.98 &  3.15 & 14.56 & 29.37 & 2021 & 0\\\\\n",
       "\t 2022 & ISL &  2.2191366 & ISL & 2022 & 1318.168356 & 1.07320548 & NA & 0.1890411 & 1.0520548 & ⋯ &  2.1 &       NA &       NA & NA  &   NA &    NA &    NA &    NA & 2022 & 0\\\\\n",
       "\\end{tabular}\n"
      ],
      "text/markdown": [
       "\n",
       "A tibble: 6 × 44\n",
       "\n",
       "| year &lt;chr&gt; | country &lt;chr&gt; | value &lt;dbl&gt; | country:r &lt;chr&gt; | t &lt;int&gt; | cases &lt;dbl&gt; | deaths &lt;dbl&gt; | tests &lt;chr&gt; | C8EV_International_travel_controls &lt;dbl&gt; | E1_Income_support &lt;dbl&gt; | ⋯ ⋯ | infant_mortality &lt;dbl&gt; | largest_city_share &lt;dbl&gt; | urbanization &lt;dbl&gt; | country:household_size &lt;chr&gt; | avg_hh_size &lt;dbl&gt; | share_1_members &lt;dbl&gt; | share_2_3_members &lt;dbl&gt; | share_4_5_members &lt;dbl&gt; | year:r &lt;chr&gt; | SARS_flg &lt;int&gt; |\n",
       "|---|---|---|---|---|---|---|---|---|---|---|---|---|---|---|---|---|---|---|---|---|\n",
       "| 2021 | BMU | -3.3974488 | BMU | 2021 |  232.765781 | 4.10290411 | NA | 1.3397260 | 1.6410959 | ⋯ |   NA |       NA |       NA | BMU | 2.26 | 34.09 | 48.39 | 15.81 | 2021 | 0 |\n",
       "| 2020 | FLK | -1.5572519 | FLK | 2020 |   22.791077 | 0.00000000 | NA |        NA |        NA | ⋯ |   NA |       NA |       NA | NA  |   NA |    NA |    NA |    NA | 2020 | 0 |\n",
       "| 2020 | MAR |  0.4427725 | MAR | 2020 |   31.862597 | 0.53309392 | NA | 2.8961749 | 0.7759563 | ⋯ | 16.7 | 16.29101 | 21.93080 | MAR | 4.58 |  7.20 | 26.18 | 37.94 | 2020 | 0 |\n",
       "| 2022 | CRI | -4.5786255 | CRI | 2022 |  319.252767 | 0.92893151 | NA | 0.2383562 | 0.0000000 | ⋯ |  7.2 | 34.43402 | 27.57339 | CRI | 3.21 | 12.07 | 48.80 | 31.61 | 2022 | 0 |\n",
       "| 2021 | SSD |  1.4891466 | SSD | 2021 |    2.810219 | 0.01789041 | NA | 1.6520548 | 0.3260274 | ⋯ | 63.8 | 18.59871 |       NA | SSD | 5.98 |  3.15 | 14.56 | 29.37 | 2021 | 0 |\n",
       "| 2022 | ISL |  2.2191366 | ISL | 2022 | 1318.168356 | 1.07320548 | NA | 0.1890411 | 1.0520548 | ⋯ |  2.1 |       NA |       NA | NA  |   NA |    NA |    NA |    NA | 2022 | 0 |\n",
       "\n"
      ],
      "text/plain": [
       "  year country value      country:r t    cases       deaths     tests\n",
       "1 2021 BMU     -3.3974488 BMU       2021  232.765781 4.10290411 NA   \n",
       "2 2020 FLK     -1.5572519 FLK       2020   22.791077 0.00000000 NA   \n",
       "3 2020 MAR      0.4427725 MAR       2020   31.862597 0.53309392 NA   \n",
       "4 2022 CRI     -4.5786255 CRI       2022  319.252767 0.92893151 NA   \n",
       "5 2021 SSD      1.4891466 SSD       2021    2.810219 0.01789041 NA   \n",
       "6 2022 ISL      2.2191366 ISL       2022 1318.168356 1.07320548 NA   \n",
       "  C8EV_International_travel_controls E1_Income_support ⋯ infant_mortality\n",
       "1 1.3397260                          1.6410959         ⋯   NA            \n",
       "2        NA                                 NA         ⋯   NA            \n",
       "3 2.8961749                          0.7759563         ⋯ 16.7            \n",
       "4 0.2383562                          0.0000000         ⋯  7.2            \n",
       "5 1.6520548                          0.3260274         ⋯ 63.8            \n",
       "6 0.1890411                          1.0520548         ⋯  2.1            \n",
       "  largest_city_share urbanization country:household_size avg_hh_size\n",
       "1       NA                 NA     BMU                    2.26       \n",
       "2       NA                 NA     NA                       NA       \n",
       "3 16.29101           21.93080     MAR                    4.58       \n",
       "4 34.43402           27.57339     CRI                    3.21       \n",
       "5 18.59871                 NA     SSD                    5.98       \n",
       "6       NA                 NA     NA                       NA       \n",
       "  share_1_members share_2_3_members share_4_5_members year:r SARS_flg\n",
       "1 34.09           48.39             15.81             2021   0       \n",
       "2    NA              NA                NA             2020   0       \n",
       "3  7.20           26.18             37.94             2020   0       \n",
       "4 12.07           48.80             31.61             2022   0       \n",
       "5  3.15           14.56             29.37             2021   0       \n",
       "6    NA              NA                NA             2022   0       "
      ]
     },
     "metadata": {},
     "output_type": "display_data"
    }
   ],
   "source": [
    "# Скачиваю данные и переназываю переменные\n",
    "df = read_parquet('../data/processed_data/trade_hs0_import_fe_x_covid.parquet.gzip')\n",
    "df = df %>% mutate(year = as.character(year), SARS_flg = as.integer(!is.na(SARS_total_cases)))\n",
    "df %>% head()"
   ]
  },
  {
   "cell_type": "code",
   "execution_count": 73,
   "metadata": {
    "vscode": {
     "languageId": "r"
    }
   },
   "outputs": [
    {
     "name": "stderr",
     "output_type": "stream",
     "text": [
      "NOTE: 126 observations removed because of NA values (RHS: 126).\n",
      "\n"
     ]
    },
    {
     "data": {
      "text/plain": [
       "OLS estimation, Dep. Var.: value\n",
       "Observations: 534\n",
       "Fixed-effects: country: 178,  year: 3\n",
       "Standard-errors: Newey-West (L=1) \n",
       "                         Estimate Std. Error  t value Pr(>|t|) \n",
       "StringencyIndex_Average -0.002699   0.001079 -2.50267  0.12939 \n",
       "---\n",
       "Signif. codes:  0 '***' 0.001 '**' 0.01 '*' 0.05 '.' 0.1 ' ' 1\n",
       "RMSE: 0.141099     Adj. R2: 0.999541\n",
       "                 Within R2: 0.020914"
      ]
     },
     "metadata": {},
     "output_type": "display_data"
    }
   ],
   "source": [
    "# Реплицирую (Berthou, 2024), но результат совсем не сходится...\n",
    "m = feols(value ~ StringencyIndex_Average | country + year,\n",
    " data = df)\n",
    "m %>% summary(vcov = vcov_NW(unit = 'country', time = 'year'))"
   ]
  },
  {
   "cell_type": "code",
   "execution_count": 74,
   "metadata": {
    "vscode": {
     "languageId": "r"
    }
   },
   "outputs": [
    {
     "name": "stderr",
     "output_type": "stream",
     "text": [
      "NOTE: 6 observations removed because of NA values (Breakup: X: 6, f: 0).\n",
      "\n"
     ]
    },
    {
     "data": {
      "text/html": [
       "<table class=\"dataframe\">\n",
       "<caption>A tibble: 6 × 2</caption>\n",
       "<thead>\n",
       "\t<tr><th scope=col>deaths</th><th scope=col>value</th></tr>\n",
       "\t<tr><th scope=col>&lt;dbl&gt;</th><th scope=col>&lt;dbl&gt;</th></tr>\n",
       "</thead>\n",
       "<tbody>\n",
       "\t<tr><td> 1.2585530</td><td> 0.01435228</td></tr>\n",
       "\t<tr><td> 0.3737463</td><td>-0.06643084</td></tr>\n",
       "\t<tr><td> 0.5067952</td><td>-0.20461955</td></tr>\n",
       "\t<tr><td>-0.3781178</td><td> 0.01006644</td></tr>\n",
       "\t<tr><td>-0.6937078</td><td> 0.06000947</td></tr>\n",
       "\t<tr><td> 0.9524571</td><td> 0.07512482</td></tr>\n",
       "</tbody>\n",
       "</table>\n"
      ],
      "text/latex": [
       "A tibble: 6 × 2\n",
       "\\begin{tabular}{ll}\n",
       " deaths & value\\\\\n",
       " <dbl> & <dbl>\\\\\n",
       "\\hline\n",
       "\t  1.2585530 &  0.01435228\\\\\n",
       "\t  0.3737463 & -0.06643084\\\\\n",
       "\t  0.5067952 & -0.20461955\\\\\n",
       "\t -0.3781178 &  0.01006644\\\\\n",
       "\t -0.6937078 &  0.06000947\\\\\n",
       "\t  0.9524571 &  0.07512482\\\\\n",
       "\\end{tabular}\n"
      ],
      "text/markdown": [
       "\n",
       "A tibble: 6 × 2\n",
       "\n",
       "| deaths &lt;dbl&gt; | value &lt;dbl&gt; |\n",
       "|---|---|\n",
       "|  1.2585530 |  0.01435228 |\n",
       "|  0.3737463 | -0.06643084 |\n",
       "|  0.5067952 | -0.20461955 |\n",
       "| -0.3781178 |  0.01006644 |\n",
       "| -0.6937078 |  0.06000947 |\n",
       "|  0.9524571 |  0.07512482 |\n",
       "\n"
      ],
      "text/plain": [
       "  deaths     value      \n",
       "1  1.2585530  0.01435228\n",
       "2  0.3737463 -0.06643084\n",
       "3  0.5067952 -0.20461955\n",
       "4 -0.3781178  0.01006644\n",
       "5 -0.6937078  0.06000947\n",
       "6  0.9524571  0.07512482"
      ]
     },
     "metadata": {},
     "output_type": "display_data"
    }
   ],
   "source": [
    "demean(df[, c('deaths', 'value')], df[, c('country', 'year')]) %>% head()"
   ]
  },
  {
   "cell_type": "code",
   "execution_count": 75,
   "metadata": {
    "vscode": {
     "languageId": "r"
    }
   },
   "outputs": [
    {
     "name": "stderr",
     "output_type": "stream",
     "text": [
      "Warning message:\n",
      "\"\u001b[1m\u001b[22mRemoved 6 rows containing missing values or values outside the scale range\n",
      "(`geom_point()`).\"\n"
     ]
    },
    {
     "data": {
      "image/png": "[encoded data removed]",
      "text/plain": [
       "plot without title"
      ]
     },
     "metadata": {
      "image/png": {
       "height": 420,
       "width": 420
      }
     },
     "output_type": "display_data"
    }
   ],
   "source": [
    "p = ggplot(df, aes(x = log(deaths), y = value, text = factor(country), color = factor(year)\n",
    "    )) + geom_point()+ theme(legend.position = \"none\")\n",
    "# ggplotly(p)   \n",
    "p "
   ]
  },
  {
   "cell_type": "code",
   "execution_count": 76,
   "metadata": {
    "vscode": {
     "languageId": "r"
    }
   },
   "outputs": [
    {
     "name": "stderr",
     "output_type": "stream",
     "text": [
      "NOTE: 154 observations removed because of NA and infinite values (RHS: 154).\n",
      "\n"
     ]
    },
    {
     "data": {
      "text/plain": [
       "OLS estimation, Dep. Var.: value\n",
       "Observations: 506\n",
       "Fixed-effects: year: 3\n",
       "Standard-errors: Newey-West (L=1) \n",
       "                                   Estimate Std. Error  t value Pr(>|t|) \n",
       "log(deaths)                        0.149162   0.255517 0.583765  0.61844 \n",
       "C8EV_International_travel_controls 0.692519   0.837481 0.826907  0.49524 \n",
       "---\n",
       "Signif. codes:  0 '***' 0.001 '**' 0.01 '*' 0.05 '.' 0.1 ' ' 1\n",
       "RMSE: 7.41518     Adj. R2: 0.159473\n",
       "                Within R2: 0.004412"
      ]
     },
     "metadata": {},
     "output_type": "display_data"
    }
   ],
   "source": [
    "# Pulled OLS\n",
    "m0 = feols(value ~ log(deaths) +\n",
    " C8EV_International_travel_controls| year,\n",
    " data = df)\n",
    "m0 %>% summary(vcov = vcov_NW(unit = 'country', time = 'year'))"
   ]
  },
  {
   "cell_type": "code",
   "execution_count": 77,
   "metadata": {
    "vscode": {
     "languageId": "r"
    }
   },
   "outputs": [
    {
     "data": {
      "image/png": "[encoded data removed]",
      "text/plain": [
       "plot without title"
      ]
     },
     "metadata": {
      "image/png": {
       "height": 420,
       "width": 420
      }
     },
     "output_type": "display_data"
    }
   ],
   "source": [
    "country_means_df = df %>% group_by(country) %>%\n",
    " summarize(avg_value = mean(value, na.rm = TRUE), avg_log_deaths = mean(log(deaths), na.rm = TRUE))  %>% filter(avg_log_deaths > -1000)\n",
    "\n",
    "demeaned_df = df %>% merge(., country_means_df, by = 'country')  %>%\n",
    "  mutate(log_deaths = log(deaths)- avg_log_deaths, value = value- avg_value) %>%\n",
    "   select(country, year, log_deaths, value)\n",
    "p = ggplot(demeaned_df, aes(x = log_deaths, y = value, text = factor(country), color = factor(year)\n",
    "    )) + geom_point()+ theme(legend.position = \"none\")\n",
    "# ggplotly(p)  \n",
    "p  "
   ]
  },
  {
   "cell_type": "code",
   "execution_count": 78,
   "metadata": {
    "vscode": {
     "languageId": "r"
    }
   },
   "outputs": [
    {
     "data": {
      "text/html": [
       "<table class=\"dataframe\">\n",
       "<caption>A tibble: 3 × 3</caption>\n",
       "<thead>\n",
       "\t<tr><th scope=col>year</th><th scope=col>avg_value</th><th scope=col>avg_log_deaths</th></tr>\n",
       "\t<tr><th scope=col>&lt;chr&gt;</th><th scope=col>&lt;dbl&gt;</th><th scope=col>&lt;dbl&gt;</th></tr>\n",
       "</thead>\n",
       "<tbody>\n",
       "\t<tr><td>2020</td><td>-2.772960</td><td>-0.4175810</td></tr>\n",
       "\t<tr><td>2021</td><td>-1.664875</td><td> 0.8439503</td></tr>\n",
       "\t<tr><td>2022</td><td> 4.437835</td><td>-0.4263693</td></tr>\n",
       "</tbody>\n",
       "</table>\n"
      ],
      "text/latex": [
       "A tibble: 3 × 3\n",
       "\\begin{tabular}{lll}\n",
       " year & avg\\_value & avg\\_log\\_deaths\\\\\n",
       " <chr> & <dbl> & <dbl>\\\\\n",
       "\\hline\n",
       "\t 2020 & -2.772960 & -0.4175810\\\\\n",
       "\t 2021 & -1.664875 &  0.8439503\\\\\n",
       "\t 2022 &  4.437835 & -0.4263693\\\\\n",
       "\\end{tabular}\n"
      ],
      "text/markdown": [
       "\n",
       "A tibble: 3 × 3\n",
       "\n",
       "| year &lt;chr&gt; | avg_value &lt;dbl&gt; | avg_log_deaths &lt;dbl&gt; |\n",
       "|---|---|---|\n",
       "| 2020 | -2.772960 | -0.4175810 |\n",
       "| 2021 | -1.664875 |  0.8439503 |\n",
       "| 2022 |  4.437835 | -0.4263693 |\n",
       "\n"
      ],
      "text/plain": [
       "  year avg_value avg_log_deaths\n",
       "1 2020 -2.772960 -0.4175810    \n",
       "2 2021 -1.664875  0.8439503    \n",
       "3 2022  4.437835 -0.4263693    "
      ]
     },
     "metadata": {},
     "output_type": "display_data"
    }
   ],
   "source": [
    "year_means_df"
   ]
  },
  {
   "cell_type": "code",
   "execution_count": 79,
   "metadata": {
    "vscode": {
     "languageId": "r"
    }
   },
   "outputs": [
    {
     "data": {
      "image/png": "[encoded data removed]",
      "text/plain": [
       "plot without title"
      ]
     },
     "metadata": {
      "image/png": {
       "height": 420,
       "width": 420
      }
     },
     "output_type": "display_data"
    }
   ],
   "source": [
    "year_means_df = demeaned_df %>% filter(log_deaths > -5) %>% group_by(year) %>%\n",
    " summarize(avg_value = mean(value, na.rm = TRUE), avg_log_deaths = mean(log_deaths, na.rm = TRUE))\n",
    "\n",
    "demeaned_df2 = demeaned_df %>% merge(., year_means_df, by = 'year')  %>%\n",
    "  mutate(log_deaths = log_deaths- avg_log_deaths, value = value - avg_value) %>%\n",
    "   select(country, year, log_deaths, value)\n",
    "\n",
    "p = ggplot(demeaned_df2, aes(x = log_deaths, y = value, text = factor(country), color = factor(year)\n",
    "    )) + geom_point()#+ theme(legend.position = \"none\")\n",
    "# ggplotly(p)   \n",
    "p "
   ]
  },
  {
   "cell_type": "code",
   "execution_count": 80,
   "metadata": {
    "vscode": {
     "languageId": "r"
    }
   },
   "outputs": [
    {
     "name": "stderr",
     "output_type": "stream",
     "text": [
      "NOTE: 154 observations removed because of NA and infinite values (RHS: 154).\n",
      "\n"
     ]
    },
    {
     "data": {
      "text/plain": [
       "OLS estimation, Dep. Var.: value\n",
       "Observations: 506\n",
       "Fixed-effects: country: 175,  year: 3\n",
       "Standard-errors: Newey-West (L=1) \n",
       "                                    Estimate Std. Error   t value Pr(>|t|) \n",
       "log(deaths)                        -0.001126   0.008728 -0.129015  0.90915 \n",
       "C8EV_International_travel_controls -0.032537   0.023079 -1.409800  0.29400 \n",
       "---\n",
       "Signif. codes:  0 '***' 0.001 '**' 0.01 '*' 0.05 '.' 0.1 ' ' 1\n",
       "RMSE: 0.141505     Adj. R2: 0.999531\n",
       "                 Within R2: 0.008014"
      ]
     },
     "metadata": {},
     "output_type": "display_data"
    }
   ],
   "source": [
    "m1 = feols(value ~ log(deaths) +\n",
    " C8EV_International_travel_controls| country + year,\n",
    " data = df)\n",
    "m1 %>% summary(vcov = vcov_NW(unit = 'country', time = 'year'))"
   ]
  },
  {
   "cell_type": "code",
   "execution_count": 81,
   "metadata": {
    "vscode": {
     "languageId": "r"
    }
   },
   "outputs": [
    {
     "name": "stderr",
     "output_type": "stream",
     "text": [
      "NOTE: 154 observations removed because of NA and infinite values (RHS: 126, IV: 74/126).\n",
      "\n"
     ]
    },
    {
     "data": {
      "text/plain": [
       "TSLS estimation - Dep. Var.: value\n",
       "                  Endo.    : log(deaths)\n",
       "                  Instr.   : H6M_Facial_Coverings\n",
       "Second stage: Dep. Var.: value\n",
       "Observations: 506\n",
       "Fixed-effects: country: 175,  year: 3\n",
       "Standard-errors: Newey-West (L=1) \n",
       "                                    Estimate Std. Error  t value Pr(>|t|) \n",
       "fit_log(deaths)                    -0.354424   0.302017 -1.17352  0.36142 \n",
       "C8EV_International_travel_controls -0.199554   0.154980 -1.28761  0.32677 \n",
       "---\n",
       "Signif. codes:  0 '***' 0.001 '**' 0.01 '*' 0.05 '.' 0.1 ' ' 1\n",
       "RMSE: 0.324054     Adj. R2: 0.997541\n",
       "                 Within R2: -4.20231\n",
       "F-test (1st stage), log(deaths): stat = 3.39781, p = 0.065873, on 1 and 501 DoF.\n",
       "                     Wu-Hausman: stat = 9.66215, p = 0.002047, on 1 and 326 DoF."
      ]
     },
     "metadata": {},
     "output_type": "display_data"
    }
   ],
   "source": [
    "# Маски сами по себе --- слабый инструмент\n",
    "m1_iv = feols(value ~ 1 +\n",
    " C8EV_International_travel_controls|country + year|\n",
    " log(deaths) ~ H6M_Facial_Coverings,\n",
    " data = df)\n",
    "m1_iv %>% summary(vcov = vcov_NW(unit = 'country', time = 'year'))"
   ]
  },
  {
   "cell_type": "code",
   "execution_count": 82,
   "metadata": {
    "vscode": {
     "languageId": "r"
    }
   },
   "outputs": [
    {
     "name": "stderr",
     "output_type": "stream",
     "text": [
      "NOTE: 154 observations removed because of NA and infinite values (RHS: 154).\n",
      "\n"
     ]
    },
    {
     "data": {
      "text/plain": [
       "OLS estimation, Dep. Var.: value\n",
       "Observations: 506\n",
       "Fixed-effects: country: 175\n",
       "Standard-errors: Newey-West (L=1) \n",
       "                                             Estimate Std. Error    t value\n",
       "year2021                                    -1.126174   0.080969 -13.908692\n",
       "year2022                                    -7.154620   0.092792 -77.103871\n",
       "year2020:log(deaths)                        -0.020088   0.010316  -1.947238\n",
       "year2021:log(deaths)                         0.005541   0.011398   0.486103\n",
       "year2022:log(deaths)                         0.015720   0.010989   1.430566\n",
       "year2020:C8EV_International_travel_controls -0.030939   0.034473  -0.897481\n",
       "year2021:C8EV_International_travel_controls  0.009248   0.022288   0.414945\n",
       "year2022:C8EV_International_travel_controls -0.090944   0.075706  -1.201273\n",
       "                                              Pr(>|t|)    \n",
       "year2021                                    0.00512951 ** \n",
       "year2022                                    0.00016817 ***\n",
       "year2020:log(deaths)                        0.19087673    \n",
       "year2021:log(deaths)                        0.67494020    \n",
       "year2022:log(deaths)                        0.28884038    \n",
       "year2020:C8EV_International_travel_controls 0.46417582    \n",
       "year2021:C8EV_International_travel_controls 0.71845811    \n",
       "year2022:C8EV_International_travel_controls 0.35260450    \n",
       "---\n",
       "Signif. codes:  0 '***' 0.001 '**' 0.01 '*' 0.05 '.' 0.1 ' ' 1\n",
       "RMSE: 0.13623     Adj. R2: 0.99956 \n",
       "                Within R2: 0.998133"
      ]
     },
     "metadata": {},
     "output_type": "display_data"
    }
   ],
   "source": [
    "# Гетерогенность во времени\n",
    "m2 = feols(value ~ year/log(deaths) + year/C8EV_International_travel_controls| country,\n",
    " data = df)\n",
    "m2 %>% summary(vcov = vcov_NW(unit = 'country', time = 'year'))"
   ]
  },
  {
   "cell_type": "code",
   "execution_count": 83,
   "metadata": {
    "vscode": {
     "languageId": "r"
    }
   },
   "outputs": [
    {
     "name": "stderr",
     "output_type": "stream",
     "text": [
      "NOTE: 154 observations removed because of NA and infinite values (RHS: 126, IV: 74/126).\n",
      "\n"
     ]
    },
    {
     "data": {
      "text/plain": [
       "TSLS estimation - Dep. Var.: value\n",
       "                  Endo.    : log(deaths)\n",
       "                  Instr.   : population_density, H6M_Facial_Coverings, median_age\n",
       "Second stage: Dep. Var.: value\n",
       "Observations: 506\n",
       "Fixed-effects: year: 3\n",
       "Standard-errors: Heteroskedasticity-robust \n",
       "                                   Estimate Std. Error t value Pr(>|t|)    \n",
       "fit_log(deaths)                    0.524703   0.246844 2.12565 0.034021 *  \n",
       "C8EV_International_travel_controls 0.799780   0.581344 1.37574 0.169516    \n",
       "---\n",
       "Signif. codes:  0 '***' 0.001 '**' 0.01 '*' 0.05 '.' 0.1 ' ' 1\n",
       "RMSE: 7.45501     Adj. R2:  0.150418\n",
       "                Within R2: -0.006312\n",
       "F-test (1st stage), log(deaths): stat = 146.6    , p < 2.2e-16, on 3 and 501 DoF.\n",
       "                     Wu-Hausman: stat =   4.77197, p = 0.02939, on 1 and 500 DoF.\n",
       "                         Sargan: stat =   0.99276, p = 0.60873, on 2 DoF."
      ]
     },
     "metadata": {},
     "output_type": "display_data"
    }
   ],
   "source": [
    "m3 = feols(value ~ 1 +\n",
    " C8EV_International_travel_controls| year|\n",
    " log(deaths) ~\n",
    " population_density + \n",
    "#  SARS_flg + # Почему-то он эндогенный с точки зрения Саргана\n",
    " H6M_Facial_Coverings +\n",
    "#  share_1_members + # Добавляет пропуски\n",
    " median_age,\n",
    " data = df #%>% filter(year == '2020')\n",
    " )\n",
    "m3 %>% summary(vcov = 'hc1')"
   ]
  },
  {
   "cell_type": "code",
   "execution_count": 84,
   "metadata": {
    "vscode": {
     "languageId": "r"
    }
   },
   "outputs": [
    {
     "data": {
      "text/html": [
       "<table class=\"dataframe\">\n",
       "<caption>A etable_df: 20 × 5</caption>\n",
       "<thead>\n",
       "\t<tr><th></th><th scope=col></th><th scope=col>m0</th><th scope=col>m1</th><th scope=col>m2</th><th scope=col>m3</th></tr>\n",
       "\t<tr><th></th><th scope=col>&lt;chr&gt;</th><th scope=col>&lt;chr&gt;</th><th scope=col>&lt;chr&gt;</th><th scope=col>&lt;chr&gt;</th><th scope=col>&lt;chr&gt;</th></tr>\n",
       "</thead>\n",
       "<tbody>\n",
       "\t<tr><th scope=row>1</th><td>Dependent Var.:                              </td><td>value           </td><td>value           </td><td>value             </td><td>value             </td></tr>\n",
       "\t<tr><th scope=row>2</th><td>                                             </td><td>                </td><td>                </td><td>                  </td><td>                  </td></tr>\n",
       "\t<tr><th scope=row>3</th><td>log(deaths)                                  </td><td>0.1492 (0.1172) </td><td>-0.0011 (0.0087)</td><td>                  </td><td>0.5247*** (0.0089)</td></tr>\n",
       "\t<tr><th scope=row>4</th><td>C8EV_International_travel_controls           </td><td>0.6925. (0.1802)</td><td>-0.0325 (0.0208)</td><td>                  </td><td>0.7998* (0.0894)  </td></tr>\n",
       "\t<tr><th scope=row>5</th><td>year2021                                     </td><td>                </td><td>                </td><td>-1.126*** (0.0807)</td><td>                  </td></tr>\n",
       "\t<tr><th scope=row>6</th><td>year2022                                     </td><td>                </td><td>                </td><td>-7.155*** (0.0987)</td><td>                  </td></tr>\n",
       "\t<tr><th scope=row>7</th><td>year2020 x log(deaths)                       </td><td>                </td><td>                </td><td>-0.0201. (0.0107) </td><td>                  </td></tr>\n",
       "\t<tr><th scope=row>8</th><td>year2021 x log(deaths)                       </td><td>                </td><td>                </td><td>0.0055 (0.0105)   </td><td>                  </td></tr>\n",
       "\t<tr><th scope=row>9</th><td>year2022 x log(deaths)                       </td><td>                </td><td>                </td><td>0.0157 (0.0111)   </td><td>                  </td></tr>\n",
       "\t<tr><th scope=row>10</th><td>year2020 x C8EV_International_travel_controls</td><td>                </td><td>                </td><td>-0.0309 (0.0358)  </td><td>                  </td></tr>\n",
       "\t<tr><th scope=row>11</th><td>year2021 x C8EV_International_travel_controls</td><td>                </td><td>                </td><td>0.0092 (0.0165)   </td><td>                  </td></tr>\n",
       "\t<tr><th scope=row>12</th><td>year2022 x C8EV_International_travel_controls</td><td>                </td><td>                </td><td>-0.0909 (0.0769)  </td><td>                  </td></tr>\n",
       "\t<tr><th scope=row>13</th><td>Fixed-Effects:                               </td><td>----------------</td><td>----------------</td><td>------------------</td><td>------------------</td></tr>\n",
       "\t<tr><th scope=row>14</th><td>year                                         </td><td>Yes             </td><td>Yes             </td><td>No                </td><td>Yes               </td></tr>\n",
       "\t<tr><th scope=row>15</th><td>country                                      </td><td>No              </td><td>Yes             </td><td>Yes               </td><td>No                </td></tr>\n",
       "\t<tr><th scope=row>16</th><td>________________________________________     </td><td>________________</td><td>________________</td><td>__________________</td><td>__________________</td></tr>\n",
       "\t<tr><th scope=row>17</th><td>S.E.: Clustered                              </td><td>by: year        </td><td>by: country     </td><td>by: country       </td><td>by: year          </td></tr>\n",
       "\t<tr><th scope=row>18</th><td>Observations                                 </td><td>506             </td><td>506             </td><td>506               </td><td>506               </td></tr>\n",
       "\t<tr><th scope=row>19</th><td>R2                                           </td><td>0.16613         </td><td>0.99970         </td><td>0.99972           </td><td>0.15715           </td></tr>\n",
       "\t<tr><th scope=row>20</th><td>Within R2                                    </td><td>0.00441         </td><td>0.00801         </td><td>0.99813           </td><td>-0.00631          </td></tr>\n",
       "</tbody>\n",
       "</table>\n"
      ],
      "text/latex": [
       "A etable\\_df: 20 × 5\n",
       "\\begin{tabular}{r|lllll}\n",
       "  &  & m0 & m1 & m2 & m3\\\\\n",
       "  & <chr> & <chr> & <chr> & <chr> & <chr>\\\\\n",
       "\\hline\n",
       "\t1 & Dependent Var.:                               & value            & value            & value              & value             \\\\\n",
       "\t2 &                                               &                  &                  &                    &                   \\\\\n",
       "\t3 & log(deaths)                                   & 0.1492 (0.1172)  & -0.0011 (0.0087) &                    & 0.5247*** (0.0089)\\\\\n",
       "\t4 & C8EV\\_International\\_travel\\_controls            & 0.6925. (0.1802) & -0.0325 (0.0208) &                    & 0.7998* (0.0894)  \\\\\n",
       "\t5 & year2021                                      &                  &                  & -1.126*** (0.0807) &                   \\\\\n",
       "\t6 & year2022                                      &                  &                  & -7.155*** (0.0987) &                   \\\\\n",
       "\t7 & year2020 x log(deaths)                        &                  &                  & -0.0201. (0.0107)  &                   \\\\\n",
       "\t8 & year2021 x log(deaths)                        &                  &                  & 0.0055 (0.0105)    &                   \\\\\n",
       "\t9 & year2022 x log(deaths)                        &                  &                  & 0.0157 (0.0111)    &                   \\\\\n",
       "\t10 & year2020 x C8EV\\_International\\_travel\\_controls &                  &                  & -0.0309 (0.0358)   &                   \\\\\n",
       "\t11 & year2021 x C8EV\\_International\\_travel\\_controls &                  &                  & 0.0092 (0.0165)    &                   \\\\\n",
       "\t12 & year2022 x C8EV\\_International\\_travel\\_controls &                  &                  & -0.0909 (0.0769)   &                   \\\\\n",
       "\t13 & Fixed-Effects:                                & ---------------- & ---------------- & ------------------ & ------------------\\\\\n",
       "\t14 & year                                          & Yes              & Yes              & No                 & Yes               \\\\\n",
       "\t15 & country                                       & No               & Yes              & Yes                & No                \\\\\n",
       "\t16 & \\_\\_\\_\\_\\_\\_\\_\\_\\_\\_\\_\\_\\_\\_\\_\\_\\_\\_\\_\\_\\_\\_\\_\\_\\_\\_\\_\\_\\_\\_\\_\\_\\_\\_\\_\\_\\_\\_\\_\\_      & \\_\\_\\_\\_\\_\\_\\_\\_\\_\\_\\_\\_\\_\\_\\_\\_ & \\_\\_\\_\\_\\_\\_\\_\\_\\_\\_\\_\\_\\_\\_\\_\\_ & \\_\\_\\_\\_\\_\\_\\_\\_\\_\\_\\_\\_\\_\\_\\_\\_\\_\\_ & \\_\\_\\_\\_\\_\\_\\_\\_\\_\\_\\_\\_\\_\\_\\_\\_\\_\\_\\\\\n",
       "\t17 & S.E.: Clustered                               & by: year         & by: country      & by: country        & by: year          \\\\\n",
       "\t18 & Observations                                  & 506              & 506              & 506                & 506               \\\\\n",
       "\t19 & R2                                            & 0.16613          & 0.99970          & 0.99972            & 0.15715           \\\\\n",
       "\t20 & Within R2                                     & 0.00441          & 0.00801          & 0.99813            & -0.00631          \\\\\n",
       "\\end{tabular}\n"
      ],
      "text/markdown": [
       "\n",
       "A etable_df: 20 × 5\n",
       "\n",
       "| <!--/--> | <!----> &lt;chr&gt; | m0 &lt;chr&gt; | m1 &lt;chr&gt; | m2 &lt;chr&gt; | m3 &lt;chr&gt; |\n",
       "|---|---|---|---|---|---|\n",
       "| 1 | Dependent Var.:                               | value            | value            | value              | value              |\n",
       "| 2 | <!----> | <!----> | <!----> | <!----> | <!----> |\n",
       "| 3 | log(deaths)                                   | 0.1492 (0.1172)  | -0.0011 (0.0087) | <!----> | 0.5247*** (0.0089) |\n",
       "| 4 | C8EV_International_travel_controls            | 0.6925. (0.1802) | -0.0325 (0.0208) | <!----> | 0.7998* (0.0894)   |\n",
       "| 5 | year2021                                      | <!----> | <!----> | -1.126*** (0.0807) | <!----> |\n",
       "| 6 | year2022                                      | <!----> | <!----> | -7.155*** (0.0987) | <!----> |\n",
       "| 7 | year2020 x log(deaths)                        | <!----> | <!----> | -0.0201. (0.0107)  | <!----> |\n",
       "| 8 | year2021 x log(deaths)                        | <!----> | <!----> | 0.0055 (0.0105)    | <!----> |\n",
       "| 9 | year2022 x log(deaths)                        | <!----> | <!----> | 0.0157 (0.0111)    | <!----> |\n",
       "| 10 | year2020 x C8EV_International_travel_controls | <!----> | <!----> | -0.0309 (0.0358)   | <!----> |\n",
       "| 11 | year2021 x C8EV_International_travel_controls | <!----> | <!----> | 0.0092 (0.0165)    | <!----> |\n",
       "| 12 | year2022 x C8EV_International_travel_controls | <!----> | <!----> | -0.0909 (0.0769)   | <!----> |\n",
       "| 13 | Fixed-Effects:                                | ---------------- | ---------------- | ------------------ | ------------------ |\n",
       "| 14 | year                                          | Yes              | Yes              | No                 | Yes                |\n",
       "| 15 | country                                       | No               | Yes              | Yes                | No                 |\n",
       "| 16 | ________________________________________      | ________________ | ________________ | __________________ | __________________ |\n",
       "| 17 | S.E.: Clustered                               | by: year         | by: country      | by: country        | by: year           |\n",
       "| 18 | Observations                                  | 506              | 506              | 506                | 506                |\n",
       "| 19 | R2                                            | 0.16613          | 0.99970          | 0.99972            | 0.15715            |\n",
       "| 20 | Within R2                                     | 0.00441          | 0.00801          | 0.99813            | -0.00631           |\n",
       "\n"
      ],
      "text/plain": [
       "                                                 m0              \n",
       "1  Dependent Var.:                               value           \n",
       "2                                                                \n",
       "3  log(deaths)                                   0.1492 (0.1172) \n",
       "4  C8EV_International_travel_controls            0.6925. (0.1802)\n",
       "5  year2021                                                      \n",
       "6  year2022                                                      \n",
       "7  year2020 x log(deaths)                                        \n",
       "8  year2021 x log(deaths)                                        \n",
       "9  year2022 x log(deaths)                                        \n",
       "10 year2020 x C8EV_International_travel_controls                 \n",
       "11 year2021 x C8EV_International_travel_controls                 \n",
       "12 year2022 x C8EV_International_travel_controls                 \n",
       "13 Fixed-Effects:                                ----------------\n",
       "14 year                                          Yes             \n",
       "15 country                                       No              \n",
       "16 ________________________________________      ________________\n",
       "17 S.E.: Clustered                               by: year        \n",
       "18 Observations                                  506             \n",
       "19 R2                                            0.16613         \n",
       "20 Within R2                                     0.00441         \n",
       "   m1               m2                 m3                \n",
       "1  value            value              value             \n",
       "2                                                        \n",
       "3  -0.0011 (0.0087)                    0.5247*** (0.0089)\n",
       "4  -0.0325 (0.0208)                    0.7998* (0.0894)  \n",
       "5                   -1.126*** (0.0807)                   \n",
       "6                   -7.155*** (0.0987)                   \n",
       "7                   -0.0201. (0.0107)                    \n",
       "8                   0.0055 (0.0105)                      \n",
       "9                   0.0157 (0.0111)                      \n",
       "10                  -0.0309 (0.0358)                     \n",
       "11                  0.0092 (0.0165)                      \n",
       "12                  -0.0909 (0.0769)                     \n",
       "13 ---------------- ------------------ ------------------\n",
       "14 Yes              No                 Yes               \n",
       "15 Yes              Yes                No                \n",
       "16 ________________ __________________ __________________\n",
       "17 by: country      by: country        by: year          \n",
       "18 506              506                506               \n",
       "19 0.99970          0.99972            0.15715           \n",
       "20 0.00801          0.99813            -0.00631          "
      ]
     },
     "metadata": {},
     "output_type": "display_data"
    }
   ],
   "source": [
    "etable(m0, m1, m2, m3)"
   ]
  },
  {
   "cell_type": "markdown",
   "metadata": {},
   "source": [
    "## Суммарный экспорт/импорт"
   ]
  },
  {
   "cell_type": "markdown",
   "metadata": {},
   "source": []
  }
 ],
 "metadata": {
  "kernelspec": {
   "display_name": "R",
   "language": "R",
   "name": "ir"
  },
  "language_info": {
   "codemirror_mode": "r",
   "file_extension": ".r",
   "mimetype": "text/x-r-source",
   "name": "R",
   "pygments_lexer": "r",
   "version": "4.4.1"
  }
 },
 "nbformat": 4,
 "nbformat_minor": 2
}
