{
 "cells": [
  {
   "cell_type": "markdown",
   "metadata": {},
   "source": [
    "# Оцениваем регрессии на данных HS0 в спецификациях:\n",
    "- Фиксированные эффекты ~ ковид и ограничения\n",
    "- Фиксированные эффекты ~ ковид и ограничения | инструментальные переменные\n",
    "- В перспективе: суммарный экспорт/импорт в зависимости от ковида (+ IV)"
   ]
  },
  {
   "cell_type": "code",
   "execution_count": 1,
   "metadata": {
    "vscode": {
     "languageId": "r"
    }
   },
   "outputs": [
    {
     "name": "stderr",
     "output_type": "stream",
     "text": [
      "\n",
      "Присоединяю пакет: 'arrow'\n",
      "\n",
      "\n",
      "Следующий объект скрыт от 'package:utils':\n",
      "\n",
      "    timestamp\n",
      "\n",
      "\n",
      "\n",
      "Please cite as: \n",
      "\n",
      "\n",
      " Hlavac, Marek (2022). stargazer: Well-Formatted Regression and Summary Statistics Tables.\n",
      "\n",
      " R package version 5.2.3. https://CRAN.R-project.org/package=stargazer \n",
      "\n",
      "\n",
      "Warning message:\n",
      "\"пакет 'tidyverse' был собран под R версии 4.4.2\"\n",
      "── \u001b[1mAttaching core tidyverse packages\u001b[22m ──────────────────────── tidyverse 2.0.0 ──\n",
      "\u001b[32m✔\u001b[39m \u001b[34mdplyr    \u001b[39m 1.1.4     \u001b[32m✔\u001b[39m \u001b[34mreadr    \u001b[39m 2.1.5\n",
      "\u001b[32m✔\u001b[39m \u001b[34mforcats  \u001b[39m 1.0.0     \u001b[32m✔\u001b[39m \u001b[34mstringr  \u001b[39m 1.5.1\n",
      "\u001b[32m✔\u001b[39m \u001b[34mggplot2  \u001b[39m 3.5.1     \u001b[32m✔\u001b[39m \u001b[34mtibble   \u001b[39m 3.2.1\n",
      "\u001b[32m✔\u001b[39m \u001b[34mlubridate\u001b[39m 1.9.3     \u001b[32m✔\u001b[39m \u001b[34mtidyr    \u001b[39m 1.3.1\n",
      "\u001b[32m✔\u001b[39m \u001b[34mpurrr    \u001b[39m 1.0.2     \n",
      "── \u001b[1mConflicts\u001b[22m ────────────────────────────────────────── tidyverse_conflicts() ──\n",
      "\u001b[31m✖\u001b[39m \u001b[34mlubridate\u001b[39m::\u001b[32mduration()\u001b[39m masks \u001b[34marrow\u001b[39m::duration()\n",
      "\u001b[31m✖\u001b[39m \u001b[34mdplyr\u001b[39m::\u001b[32mfilter()\u001b[39m       masks \u001b[34mstats\u001b[39m::filter()\n",
      "\u001b[31m✖\u001b[39m \u001b[34mdplyr\u001b[39m::\u001b[32mlag()\u001b[39m          masks \u001b[34mstats\u001b[39m::lag()\n",
      "\u001b[36mℹ\u001b[39m Use the conflicted package (\u001b[3m\u001b[34m<http://conflicted.r-lib.org/>\u001b[39m\u001b[23m) to force all conflicts to become errors\n",
      "Warning message:\n",
      "\"пакет 'plotly' был собран под R версии 4.4.2\"\n",
      "\n",
      "Присоединяю пакет: 'plotly'\n",
      "\n",
      "\n",
      "Следующий объект скрыт от 'package:ggplot2':\n",
      "\n",
      "    last_plot\n",
      "\n",
      "\n",
      "Следующий объект скрыт от 'package:arrow':\n",
      "\n",
      "    schema\n",
      "\n",
      "\n",
      "Следующий объект скрыт от 'package:stats':\n",
      "\n",
      "    filter\n",
      "\n",
      "\n",
      "Следующий объект скрыт от 'package:graphics':\n",
      "\n",
      "    layout\n",
      "\n",
      "\n"
     ]
    }
   ],
   "source": [
    "library(arrow)\n",
    "library(stargazer)\n",
    "library(tidyverse)\n",
    "library(plotly)\n",
    "library(fixest)"
   ]
  },
  {
   "cell_type": "markdown",
   "metadata": {},
   "source": [
    "## Фиксированные эффекты"
   ]
  },
  {
   "cell_type": "markdown",
   "metadata": {},
   "source": [
    "### Экспорт\n",
    "\n",
    "+иллюстрирую, зачем тут нужны фиксированные эффекты"
   ]
  },
  {
   "cell_type": "code",
   "execution_count": 2,
   "metadata": {
    "vscode": {
     "languageId": "r"
    }
   },
   "outputs": [
    {
     "data": {
      "text/html": [
       "<table class=\"dataframe\">\n",
       "<caption>A tibble: 6 × 63</caption>\n",
       "<thead>\n",
       "\t<tr><th scope=col>year</th><th scope=col>country</th><th scope=col>value</th><th scope=col>country:r</th><th scope=col>t</th><th scope=col>cases</th><th scope=col>deaths</th><th scope=col>tests</th><th scope=col>C1M_School_closing</th><th scope=col>C2M_Workplace_closing</th><th scope=col>⋯</th><th scope=col>infant_mortality</th><th scope=col>largest_city_share</th><th scope=col>urbanization</th><th scope=col>country:household_size</th><th scope=col>avg_hh_size</th><th scope=col>share_1_members</th><th scope=col>share_2_3_members</th><th scope=col>share_4_5_members</th><th scope=col>year:r</th><th scope=col>SARS_flg</th></tr>\n",
       "\t<tr><th scope=col>&lt;chr&gt;</th><th scope=col>&lt;chr&gt;</th><th scope=col>&lt;dbl&gt;</th><th scope=col>&lt;chr&gt;</th><th scope=col>&lt;int&gt;</th><th scope=col>&lt;dbl&gt;</th><th scope=col>&lt;dbl&gt;</th><th scope=col>&lt;chr&gt;</th><th scope=col>&lt;dbl&gt;</th><th scope=col>&lt;dbl&gt;</th><th scope=col>⋯</th><th scope=col>&lt;dbl&gt;</th><th scope=col>&lt;dbl&gt;</th><th scope=col>&lt;dbl&gt;</th><th scope=col>&lt;chr&gt;</th><th scope=col>&lt;dbl&gt;</th><th scope=col>&lt;dbl&gt;</th><th scope=col>&lt;dbl&gt;</th><th scope=col>&lt;dbl&gt;</th><th scope=col>&lt;chr&gt;</th><th scope=col>&lt;int&gt;</th></tr>\n",
       "</thead>\n",
       "<tbody>\n",
       "\t<tr><td>2020</td><td>SLV</td><td> -3.339168</td><td>SLV</td><td>2020</td><td> 19.6259116</td><td>0.57060773</td><td>NA</td><td>2.426229</td><td>1.4344262</td><td>⋯</td><td>11.0</td><td>24.14867</td><td>17.73575</td><td>SLV</td><td>3.92</td><td> 8.46</td><td>36.01</td><td>37.84</td><td>2020</td><td>0</td></tr>\n",
       "\t<tr><td>2022</td><td>ASM</td><td>  7.347834</td><td>ASM</td><td>2022</td><td>467.6200274</td><td>1.92600000</td><td>NA</td><td>      NA</td><td>       NA</td><td>⋯</td><td>  NA</td><td>      NA</td><td>      NA</td><td>NA </td><td>  NA</td><td>   NA</td><td>   NA</td><td>   NA</td><td>2022</td><td>0</td></tr>\n",
       "\t<tr><td>2020</td><td>BOL</td><td> -5.962379</td><td>BOL</td><td>2020</td><td> 35.1308840</td><td>2.07754144</td><td>NA</td><td>2.418033</td><td>1.8306011</td><td>⋯</td><td>21.0</td><td>22.42107</td><td>41.25143</td><td>BOL</td><td>3.53</td><td>20.34</td><td>34.82</td><td>27.64</td><td>2020</td><td>0</td></tr>\n",
       "\t<tr><td>2020</td><td>SLE</td><td>  1.653766</td><td>SLE</td><td>2020</td><td>  0.8507182</td><td>0.02530387</td><td>NA</td><td>1.606557</td><td>0.2349727</td><td>⋯</td><td>80.3</td><td>35.38844</td><td>15.18978</td><td>SLE</td><td>5.29</td><td> 6.42</td><td>20.52</td><td>33.28</td><td>2020</td><td>0</td></tr>\n",
       "\t<tr><td>2020</td><td>LKA</td><td>-14.478386</td><td>LKA</td><td>2020</td><td>  4.9664917</td><td>0.02309392</td><td>NA</td><td>1.931694</td><td>0.5546448</td><td>⋯</td><td> 6.0</td><td>14.93368</td><td>      NA</td><td>NA </td><td>  NA</td><td>   NA</td><td>   NA</td><td>   NA</td><td>2020</td><td>0</td></tr>\n",
       "\t<tr><td>2022</td><td>ATG</td><td> 13.013159</td><td>ATG</td><td>2022</td><td>143.9042740</td><td>0.82619178</td><td>NA</td><td>      NA</td><td>       NA</td><td>⋯</td><td> 8.1</td><td>      NA</td><td>      NA</td><td>NA </td><td>  NA</td><td>   NA</td><td>   NA</td><td>   NA</td><td>2022</td><td>0</td></tr>\n",
       "</tbody>\n",
       "</table>\n"
      ],
      "text/latex": [
       "A tibble: 6 × 63\n",
       "\\begin{tabular}{lllllllllllllllllllll}\n",
       " year & country & value & country:r & t & cases & deaths & tests & C1M\\_School\\_closing & C2M\\_Workplace\\_closing & ⋯ & infant\\_mortality & largest\\_city\\_share & urbanization & country:household\\_size & avg\\_hh\\_size & share\\_1\\_members & share\\_2\\_3\\_members & share\\_4\\_5\\_members & year:r & SARS\\_flg\\\\\n",
       " <chr> & <chr> & <dbl> & <chr> & <int> & <dbl> & <dbl> & <chr> & <dbl> & <dbl> & ⋯ & <dbl> & <dbl> & <dbl> & <chr> & <dbl> & <dbl> & <dbl> & <dbl> & <chr> & <int>\\\\\n",
       "\\hline\n",
       "\t 2020 & SLV &  -3.339168 & SLV & 2020 &  19.6259116 & 0.57060773 & NA & 2.426229 & 1.4344262 & ⋯ & 11.0 & 24.14867 & 17.73575 & SLV & 3.92 &  8.46 & 36.01 & 37.84 & 2020 & 0\\\\\n",
       "\t 2022 & ASM &   7.347834 & ASM & 2022 & 467.6200274 & 1.92600000 & NA &       NA &        NA & ⋯ &   NA &       NA &       NA & NA  &   NA &    NA &    NA &    NA & 2022 & 0\\\\\n",
       "\t 2020 & BOL &  -5.962379 & BOL & 2020 &  35.1308840 & 2.07754144 & NA & 2.418033 & 1.8306011 & ⋯ & 21.0 & 22.42107 & 41.25143 & BOL & 3.53 & 20.34 & 34.82 & 27.64 & 2020 & 0\\\\\n",
       "\t 2020 & SLE &   1.653766 & SLE & 2020 &   0.8507182 & 0.02530387 & NA & 1.606557 & 0.2349727 & ⋯ & 80.3 & 35.38844 & 15.18978 & SLE & 5.29 &  6.42 & 20.52 & 33.28 & 2020 & 0\\\\\n",
       "\t 2020 & LKA & -14.478386 & LKA & 2020 &   4.9664917 & 0.02309392 & NA & 1.931694 & 0.5546448 & ⋯ &  6.0 & 14.93368 &       NA & NA  &   NA &    NA &    NA &    NA & 2020 & 0\\\\\n",
       "\t 2022 & ATG &  13.013159 & ATG & 2022 & 143.9042740 & 0.82619178 & NA &       NA &        NA & ⋯ &  8.1 &       NA &       NA & NA  &   NA &    NA &    NA &    NA & 2022 & 0\\\\\n",
       "\\end{tabular}\n"
      ],
      "text/markdown": [
       "\n",
       "A tibble: 6 × 63\n",
       "\n",
       "| year &lt;chr&gt; | country &lt;chr&gt; | value &lt;dbl&gt; | country:r &lt;chr&gt; | t &lt;int&gt; | cases &lt;dbl&gt; | deaths &lt;dbl&gt; | tests &lt;chr&gt; | C1M_School_closing &lt;dbl&gt; | C2M_Workplace_closing &lt;dbl&gt; | ⋯ ⋯ | infant_mortality &lt;dbl&gt; | largest_city_share &lt;dbl&gt; | urbanization &lt;dbl&gt; | country:household_size &lt;chr&gt; | avg_hh_size &lt;dbl&gt; | share_1_members &lt;dbl&gt; | share_2_3_members &lt;dbl&gt; | share_4_5_members &lt;dbl&gt; | year:r &lt;chr&gt; | SARS_flg &lt;int&gt; |\n",
       "|---|---|---|---|---|---|---|---|---|---|---|---|---|---|---|---|---|---|---|---|---|\n",
       "| 2020 | SLV |  -3.339168 | SLV | 2020 |  19.6259116 | 0.57060773 | NA | 2.426229 | 1.4344262 | ⋯ | 11.0 | 24.14867 | 17.73575 | SLV | 3.92 |  8.46 | 36.01 | 37.84 | 2020 | 0 |\n",
       "| 2022 | ASM |   7.347834 | ASM | 2022 | 467.6200274 | 1.92600000 | NA |       NA |        NA | ⋯ |   NA |       NA |       NA | NA  |   NA |    NA |    NA |    NA | 2022 | 0 |\n",
       "| 2020 | BOL |  -5.962379 | BOL | 2020 |  35.1308840 | 2.07754144 | NA | 2.418033 | 1.8306011 | ⋯ | 21.0 | 22.42107 | 41.25143 | BOL | 3.53 | 20.34 | 34.82 | 27.64 | 2020 | 0 |\n",
       "| 2020 | SLE |   1.653766 | SLE | 2020 |   0.8507182 | 0.02530387 | NA | 1.606557 | 0.2349727 | ⋯ | 80.3 | 35.38844 | 15.18978 | SLE | 5.29 |  6.42 | 20.52 | 33.28 | 2020 | 0 |\n",
       "| 2020 | LKA | -14.478386 | LKA | 2020 |   4.9664917 | 0.02309392 | NA | 1.931694 | 0.5546448 | ⋯ |  6.0 | 14.93368 |       NA | NA  |   NA |    NA |    NA |    NA | 2020 | 0 |\n",
       "| 2022 | ATG |  13.013159 | ATG | 2022 | 143.9042740 | 0.82619178 | NA |       NA |        NA | ⋯ |  8.1 |       NA |       NA | NA  |   NA |    NA |    NA |    NA | 2022 | 0 |\n",
       "\n"
      ],
      "text/plain": [
       "  year country value      country:r t    cases       deaths     tests\n",
       "1 2020 SLV      -3.339168 SLV       2020  19.6259116 0.57060773 NA   \n",
       "2 2022 ASM       7.347834 ASM       2022 467.6200274 1.92600000 NA   \n",
       "3 2020 BOL      -5.962379 BOL       2020  35.1308840 2.07754144 NA   \n",
       "4 2020 SLE       1.653766 SLE       2020   0.8507182 0.02530387 NA   \n",
       "5 2020 LKA     -14.478386 LKA       2020   4.9664917 0.02309392 NA   \n",
       "6 2022 ATG      13.013159 ATG       2022 143.9042740 0.82619178 NA   \n",
       "  C1M_School_closing C2M_Workplace_closing ⋯ infant_mortality\n",
       "1 2.426229           1.4344262             ⋯ 11.0            \n",
       "2       NA                  NA             ⋯   NA            \n",
       "3 2.418033           1.8306011             ⋯ 21.0            \n",
       "4 1.606557           0.2349727             ⋯ 80.3            \n",
       "5 1.931694           0.5546448             ⋯  6.0            \n",
       "6       NA                  NA             ⋯  8.1            \n",
       "  largest_city_share urbanization country:household_size avg_hh_size\n",
       "1 24.14867           17.73575     SLV                    3.92       \n",
       "2       NA                 NA     NA                       NA       \n",
       "3 22.42107           41.25143     BOL                    3.53       \n",
       "4 35.38844           15.18978     SLE                    5.29       \n",
       "5 14.93368                 NA     NA                       NA       \n",
       "6       NA                 NA     NA                       NA       \n",
       "  share_1_members share_2_3_members share_4_5_members year:r SARS_flg\n",
       "1  8.46           36.01             37.84             2020   0       \n",
       "2    NA              NA                NA             2022   0       \n",
       "3 20.34           34.82             27.64             2020   0       \n",
       "4  6.42           20.52             33.28             2020   0       \n",
       "5    NA              NA                NA             2020   0       \n",
       "6    NA              NA                NA             2022   0       "
      ]
     },
     "metadata": {},
     "output_type": "display_data"
    }
   ],
   "source": [
    "# Скачиваю данные и переназываю переменные\n",
    "df = read_parquet('../data/processed_data/trade_hs0_export_fe_x_covid.parquet.gzip')\n",
    "df = df %>% mutate(year = as.character(year), SARS_flg = as.integer(!is.na(SARS_total_cases)))\n",
    "df %>% head()"
   ]
  },
  {
   "cell_type": "markdown",
   "metadata": {},
   "source": [
    "### Рисую обычный и demeaned scatterplot, чтобы обосновать необходимость использования фиксированных эффектов\n",
    "\n",
    "Графики будут интерактивные, если раскомментить ggplotly, закомментить p и перепрогнать"
   ]
  },
  {
   "cell_type": "code",
   "execution_count": 215,
   "metadata": {
    "vscode": {
     "languageId": "r"
    }
   },
   "outputs": [
    {
     "name": "stderr",
     "output_type": "stream",
     "text": [
      "Warning message:\n",
      "\"\u001b[1m\u001b[22mRemoved 6 rows containing missing values or values outside the scale range\n",
      "(`geom_point()`).\"\n"
     ]
    },
    {
     "data": {
      "image/png": "[encoded data removed]",
      "text/plain": [
       "plot without title"
      ]
     },
     "metadata": {
      "image/png": {
       "height": 420,
       "width": 420
      }
     },
     "output_type": "display_data"
    }
   ],
   "source": [
    "p = ggplot(df, aes(x = log(deaths), y = value, text = factor(country), color = factor(year)\n",
    "    )) + geom_point()+ theme(legend.position = \"none\")\n",
    "# ggplotly(p) \n",
    "p   "
   ]
  },
  {
   "cell_type": "code",
   "execution_count": 216,
   "metadata": {
    "vscode": {
     "languageId": "r"
    }
   },
   "outputs": [
    {
     "data": {
      "image/png": "[encoded data removed]",
      "text/plain": [
       "plot without title"
      ]
     },
     "metadata": {
      "image/png": {
       "height": 420,
       "width": 420
      }
     },
     "output_type": "display_data"
    }
   ],
   "source": [
    "country_means_df = df %>% group_by(country) %>%\n",
    " summarize(avg_value = mean(value, na.rm = TRUE), avg_log_deaths = mean(log(deaths), na.rm = TRUE))  %>% filter(avg_log_deaths > -1000)\n",
    "\n",
    "demeaned_df = df %>% merge(., country_means_df, by = 'country')  %>%\n",
    "  mutate(log_deaths = log(deaths)- avg_log_deaths, value = value- avg_value) %>%\n",
    "   select(country, year, log_deaths, value)\n",
    "p = ggplot(demeaned_df, aes(x = log_deaths, y = value, text = factor(country), color = factor(year)\n",
    "    )) + geom_point()+ theme(legend.position = \"none\")\n",
    "# ggplotly(p)    \n",
    "p"
   ]
  },
  {
   "cell_type": "code",
   "execution_count": 217,
   "metadata": {
    "vscode": {
     "languageId": "r"
    }
   },
   "outputs": [
    {
     "data": {
      "image/png": "[encoded data removed]",
      "text/plain": [
       "plot without title"
      ]
     },
     "metadata": {
      "image/png": {
       "height": 420,
       "width": 420
      }
     },
     "output_type": "display_data"
    }
   ],
   "source": [
    "year_means_df = demeaned_df %>% filter(log_deaths > -5) %>% group_by(year) %>%\n",
    " summarize(avg_value = mean(value, na.rm = TRUE), avg_log_deaths = mean(log_deaths, na.rm = TRUE))\n",
    "\n",
    "demeaned_df2 = demeaned_df %>% merge(., year_means_df, by = 'year')  %>%\n",
    "  mutate(log_deaths = log_deaths- avg_log_deaths, value = value - avg_value) %>%\n",
    "   select(country, year, log_deaths, value)\n",
    "\n",
    "p = ggplot(demeaned_df2, aes(x = log_deaths, y = value, text = factor(country), color = factor(year)\n",
    "    )) + geom_point()+ theme(legend.position = \"none\")\n",
    "# ggplotly(p)    \n",
    "p"
   ]
  },
  {
   "cell_type": "code",
   "execution_count": 218,
   "metadata": {
    "vscode": {
     "languageId": "r"
    }
   },
   "outputs": [
    {
     "data": {
      "text/html": [
       "<table class=\"dataframe\">\n",
       "<caption>A tibble: 3 × 3</caption>\n",
       "<thead>\n",
       "\t<tr><th scope=col>year</th><th scope=col>avg_value</th><th scope=col>avg_log_deaths</th></tr>\n",
       "\t<tr><th scope=col>&lt;chr&gt;</th><th scope=col>&lt;dbl&gt;</th><th scope=col>&lt;dbl&gt;</th></tr>\n",
       "</thead>\n",
       "<tbody>\n",
       "\t<tr><td>2020</td><td>-2.772960</td><td>-0.4175810</td></tr>\n",
       "\t<tr><td>2021</td><td>-1.664875</td><td> 0.8439503</td></tr>\n",
       "\t<tr><td>2022</td><td> 4.437835</td><td>-0.4263693</td></tr>\n",
       "</tbody>\n",
       "</table>\n"
      ],
      "text/latex": [
       "A tibble: 3 × 3\n",
       "\\begin{tabular}{lll}\n",
       " year & avg\\_value & avg\\_log\\_deaths\\\\\n",
       " <chr> & <dbl> & <dbl>\\\\\n",
       "\\hline\n",
       "\t 2020 & -2.772960 & -0.4175810\\\\\n",
       "\t 2021 & -1.664875 &  0.8439503\\\\\n",
       "\t 2022 &  4.437835 & -0.4263693\\\\\n",
       "\\end{tabular}\n"
      ],
      "text/markdown": [
       "\n",
       "A tibble: 3 × 3\n",
       "\n",
       "| year &lt;chr&gt; | avg_value &lt;dbl&gt; | avg_log_deaths &lt;dbl&gt; |\n",
       "|---|---|---|\n",
       "| 2020 | -2.772960 | -0.4175810 |\n",
       "| 2021 | -1.664875 |  0.8439503 |\n",
       "| 2022 |  4.437835 | -0.4263693 |\n",
       "\n"
      ],
      "text/plain": [
       "  year avg_value avg_log_deaths\n",
       "1 2020 -2.772960 -0.4175810    \n",
       "2 2021 -1.664875  0.8439503    \n",
       "3 2022  4.437835 -0.4263693    "
      ]
     },
     "metadata": {},
     "output_type": "display_data"
    }
   ],
   "source": [
    "year_means_df"
   ]
  },
  {
   "cell_type": "markdown",
   "metadata": {},
   "source": [
    "### Сами регрессии"
   ]
  },
  {
   "cell_type": "code",
   "execution_count": 4,
   "metadata": {
    "vscode": {
     "languageId": "r"
    }
   },
   "outputs": [
    {
     "name": "stderr",
     "output_type": "stream",
     "text": [
      "NOTE: 154 observations removed because of NA and infinite values (RHS: 154).\n",
      "\n"
     ]
    },
    {
     "data": {
      "text/plain": [
       "OLS estimation, Dep. Var.: value\n",
       "Observations: 506\n",
       "Fixed-effects: year: 3\n",
       "Standard-errors: Clustered (country) \n",
       "                                   Estimate Std. Error  t value   Pr(>|t|)    \n",
       "log(deaths)                        1.137831   0.268169 4.242957 3.5795e-05 ***\n",
       "C8EV_International_travel_controls 0.250616   0.640685 0.391168 6.9615e-01    \n",
       "---\n",
       "Signif. codes:  0 '***' 0.001 '**' 0.01 '*' 0.05 '.' 0.1 ' ' 1\n",
       "RMSE: 7.3561     Adj. R2: 0.207405\n",
       "               Within R2: 0.091339"
      ]
     },
     "metadata": {},
     "output_type": "display_data"
    }
   ],
   "source": [
    "# Pulled OLS\n",
    "export_pulled_ols = feols(value ~ log(deaths) +\n",
    " C8EV_International_travel_controls| year,\n",
    " data = df)\n",
    "export_pulled_ols %>% summary(vcov = ~country)"
   ]
  },
  {
   "cell_type": "code",
   "execution_count": 5,
   "metadata": {
    "vscode": {
     "languageId": "r"
    }
   },
   "outputs": [
    {
     "name": "stderr",
     "output_type": "stream",
     "text": [
      "NOTE: 154 observations removed because of NA and infinite values (RHS: 154).\n",
      "\n"
     ]
    },
    {
     "data": {
      "text/plain": [
       "OLS estimation, Dep. Var.: value\n",
       "Observations: 506\n",
       "Fixed-effects: country: 175,  year: 3\n",
       "Standard-errors: Clustered (country) \n",
       "                                    Estimate Std. Error  t value Pr(>|t|)    \n",
       "log(deaths)                        -0.011189   0.010797 -1.03637 0.301469    \n",
       "C8EV_International_travel_controls -0.060563   0.028621 -2.11604 0.035764 *  \n",
       "---\n",
       "Signif. codes:  0 '***' 0.001 '**' 0.01 '*' 0.05 '.' 0.1 ' ' 1\n",
       "RMSE: 0.164813     Adj. R2: 0.99939 \n",
       "                 Within R2: 0.020382"
      ]
     },
     "metadata": {},
     "output_type": "display_data"
    }
   ],
   "source": [
    "export_fe_ols = feols(value ~ log(deaths) +\n",
    " C8EV_International_travel_controls| country + year,\n",
    " data = df)\n",
    "export_fe_ols %>% summary(vcov = ~country)"
   ]
  },
  {
   "cell_type": "code",
   "execution_count": 6,
   "metadata": {
    "vscode": {
     "languageId": "r"
    }
   },
   "outputs": [
    {
     "name": "stderr",
     "output_type": "stream",
     "text": [
      "NOTE: 156 observations removed because of NA and infinite values (RHS: 126, IV: 74/130).\n",
      "\n"
     ]
    },
    {
     "data": {
      "text/plain": [
       "TSLS estimation - Dep. Var.: value\n",
       "                  Endo.    : log(deaths)\n",
       "                  Instr.   : C1M_School_closing, median_age, population_density\n",
       "Second stage: Dep. Var.: value\n",
       "Observations: 504\n",
       "Fixed-effects: country: 175,  year: 3\n",
       "Standard-errors: Clustered (country) \n",
       "                                    Estimate Std. Error   t value Pr(>|t|)    \n",
       "fit_log(deaths)                    -0.027274   0.040390 -0.675269 0.500401    \n",
       "C8EV_International_travel_controls -0.068952   0.030996 -2.224567 0.027396 *  \n",
       "---\n",
       "Signif. codes:  0 '***' 0.001 '**' 0.01 '*' 0.05 '.' 0.1 ' ' 1\n",
       "RMSE: 0.165544     Adj. R2: 0.999383\n",
       "                 Within R2: 0.014292\n",
       "F-test (1st stage), log(deaths): stat = 14.3     , p = 6.098e-9, on 3 and 497 DoF.\n",
       "                     Wu-Hausman: stat =  0.180157, p = 0.67152 , on 1 and 324 DoF.\n",
       "                         Sargan: stat =  4.17049 , p = 0.124277, on 2 DoF."
      ]
     },
     "metadata": {},
     "output_type": "display_data"
    }
   ],
   "source": [
    "# Тут всё экзогенно\n",
    "export_covid_iv = feols(value ~ 1 + C8EV_International_travel_controls|country + year|\n",
    " log(deaths) ~ #H6M_Facial_Coverings+\n",
    " C1M_School_closing+median_age+population_density,\n",
    " data = df)\n",
    "export_covid_iv %>% summary(vcov = ~country)"
   ]
  },
  {
   "cell_type": "code",
   "execution_count": 7,
   "metadata": {
    "vscode": {
     "languageId": "r"
    }
   },
   "outputs": [
    {
     "name": "stderr",
     "output_type": "stream",
     "text": [
      "NOTE: 156 observations removed because of NA and infinite values (IV: 154/130).\n",
      "\n"
     ]
    },
    {
     "data": {
      "text/plain": [
       "TSLS estimation - Dep. Var.: value\n",
       "                  Endo.    : log(deaths), C8EV_International_travel_controls\n",
       "                  Instr.   : C1M_School_closing, median_age, population_density\n",
       "Second stage: Dep. Var.: value\n",
       "Observations: 504\n",
       "Fixed-effects: country: 175,  year: 3\n",
       "Standard-errors: Clustered (country) \n",
       "                                        Estimate Std. Error   t value Pr(>|t|)\n",
       "fit_log(deaths)                         0.036301   0.059790  0.607142 0.544548\n",
       "fit_C8EV_International_travel_controls -0.199077   0.115328 -1.726188 0.086089\n",
       "                                          \n",
       "fit_log(deaths)                           \n",
       "fit_C8EV_International_travel_controls .  \n",
       "---\n",
       "Signif. codes:  0 '***' 0.001 '**' 0.01 '*' 0.05 '.' 0.1 ' ' 1\n",
       "RMSE: 0.180966     Adj. R2:  0.999262\n",
       "                 Within R2: -0.177919\n",
       "F-test (1st stage), log(deaths)                       : stat =  8.55462 , p = 1.508e-5, on 3 and 498 DoF.\n",
       "F-test (1st stage), C8EV_International_travel_controls: stat = 13.3     , p = 2.234e-8, on 3 and 498 DoF.\n",
       "                                            Wu-Hausman: stat =  0.683617, p = 0.505517, on 2 and 323 DoF.\n",
       "                                                Sargan: stat =  1.95648 , p = 0.16189 , on 1 DoF."
      ]
     },
     "metadata": {},
     "output_type": "display_data"
    }
   ],
   "source": [
    "export_all_iv = feols(value ~ 1 |country + year|\n",
    " log(deaths) + C8EV_International_travel_controls ~ #H6M_Facial_Coverings+\n",
    " C1M_School_closing+median_age+population_density,\n",
    " data = df)\n",
    "export_all_iv %>% summary(vcov = ~country)"
   ]
  },
  {
   "cell_type": "code",
   "execution_count": 8,
   "metadata": {
    "vscode": {
     "languageId": "r"
    }
   },
   "outputs": [
    {
     "name": "stderr",
     "output_type": "stream",
     "text": [
      "NOTE: 154 observations removed because of NA and infinite values (RHS: 154).\n",
      "\n"
     ]
    },
    {
     "data": {
      "text/plain": [
       "OLS estimation, Dep. Var.: value\n",
       "Observations: 506\n",
       "Fixed-effects: country: 175\n",
       "Standard-errors: Clustered (country) \n",
       "                                             Estimate Std. Error   t value\n",
       "year2021                                     1.022158   0.088291 11.577136\n",
       "year2022                                     7.073336   0.101788 69.491178\n",
       "year2020:log(deaths)                        -0.022881   0.012000 -1.906742\n",
       "year2021:log(deaths)                        -0.016422   0.012414 -1.322804\n",
       "year2022:log(deaths)                        -0.002128   0.013705 -0.155286\n",
       "year2020:C8EV_International_travel_controls -0.091384   0.042503 -2.150051\n",
       "year2021:C8EV_International_travel_controls -0.045326   0.030397 -1.491127\n",
       "year2022:C8EV_International_travel_controls -0.029126   0.058872 -0.494737\n",
       "                                             Pr(>|t|)    \n",
       "year2021                                    < 2.2e-16 ***\n",
       "year2022                                    < 2.2e-16 ***\n",
       "year2020:log(deaths)                         0.058202 .  \n",
       "year2021:log(deaths)                         0.187637    \n",
       "year2022:log(deaths)                         0.876776    \n",
       "year2020:C8EV_International_travel_controls  0.032932 *  \n",
       "year2021:C8EV_International_travel_controls  0.137739    \n",
       "year2022:C8EV_International_travel_controls  0.621410    \n",
       "---\n",
       "Signif. codes:  0 '***' 0.001 '**' 0.01 '*' 0.05 '.' 0.1 ' ' 1\n",
       "RMSE: 0.163684     Adj. R2: 0.999391\n",
       "                 Within R2: 0.997315"
      ]
     },
     "metadata": {},
     "output_type": "display_data"
    }
   ],
   "source": [
    "# Гетерогенность во времени\n",
    "export_time_effects = feols(value ~ year/log(deaths) + year/C8EV_International_travel_controls| country,\n",
    " data = df)\n",
    "export_time_effects %>% summary(vcov = ~country)"
   ]
  },
  {
   "cell_type": "code",
   "execution_count": 9,
   "metadata": {
    "vscode": {
     "languageId": "r"
    }
   },
   "outputs": [
    {
     "name": "stderr",
     "output_type": "stream",
     "text": [
      "NOTE: 74 observations removed because of NA and infinite values (RHS: 74).\n",
      "\n"
     ]
    },
    {
     "data": {
      "text/plain": [
       "OLS estimation, Dep. Var.: value\n",
       "Observations: 586\n",
       "Fixed-effects: country: 210\n",
       "Standard-errors: Clustered (country) \n",
       "                      Estimate Std. Error    t value  Pr(>|t|)    \n",
       "year2021              1.155527   0.031399  36.801380 < 2.2e-16 ***\n",
       "year2022              7.236016   0.032826 220.435870 < 2.2e-16 ***\n",
       "year2020:log(deaths) -0.033043   0.012783  -2.584886  0.010422 *  \n",
       "year2021:log(deaths) -0.027045   0.013833  -1.955160  0.051897 .  \n",
       "year2022:log(deaths) -0.013553   0.014810  -0.915174  0.361155    \n",
       "---\n",
       "Signif. codes:  0 '***' 0.001 '**' 0.01 '*' 0.05 '.' 0.1 ' ' 1\n",
       "RMSE: 0.187515     Adj. R2: 0.999215\n",
       "                 Within R2: 0.996395"
      ]
     },
     "metadata": {},
     "output_type": "display_data"
    }
   ],
   "source": [
    "# Гетерогенность во времени\n",
    "export_covid_time_effects = feols(value ~ year/log(deaths)| country,\n",
    " data = df)\n",
    "export_covid_time_effects %>% summary(vcov = ~country)\n",
    "# Ядро крашится почему-то\n",
    "# feols(value ~ 1| country|\n",
    "# year/log(deaths)~C1M_School_closing+median_age+population_density,\n",
    "#  data = df) %>% summary(vcov = ~country)"
   ]
  },
  {
   "cell_type": "code",
   "execution_count": 10,
   "metadata": {
    "vscode": {
     "languageId": "r"
    }
   },
   "outputs": [
    {
     "data": {
      "text/html": [
       "<table class=\"dataframe\">\n",
       "<caption>A etable_df: 20 × 7</caption>\n",
       "<thead>\n",
       "\t<tr><th></th><th scope=col></th><th scope=col>export_pulled_ols</th><th scope=col>export_fe_ols</th><th scope=col>export_covid_iv</th><th scope=col>export_all_iv</th><th scope=col>export_time_eff..</th><th scope=col>export_covid_ti..</th></tr>\n",
       "\t<tr><th></th><th scope=col>&lt;chr&gt;</th><th scope=col>&lt;chr&gt;</th><th scope=col>&lt;chr&gt;</th><th scope=col>&lt;chr&gt;</th><th scope=col>&lt;chr&gt;</th><th scope=col>&lt;chr&gt;</th><th scope=col>&lt;chr&gt;</th></tr>\n",
       "</thead>\n",
       "<tbody>\n",
       "\t<tr><th scope=row>1</th><td>Dependent Var.:                              </td><td>value            </td><td>value            </td><td>value            </td><td>value            </td><td>value            </td><td>value            </td></tr>\n",
       "\t<tr><th scope=row>2</th><td>                                             </td><td>                 </td><td>                 </td><td>                 </td><td>                 </td><td>                 </td><td>                 </td></tr>\n",
       "\t<tr><th scope=row>3</th><td>log(deaths)                                  </td><td>1.138*** (0.2682)</td><td>-0.0112 (0.0108) </td><td>-0.0273 (0.0404) </td><td>0.0363 (0.0598)  </td><td>                 </td><td>                 </td></tr>\n",
       "\t<tr><th scope=row>4</th><td>C8EV_International_travel_controls           </td><td>0.2506 (0.6407)  </td><td>-0.0606* (0.0286)</td><td>-0.0689* (0.0310)</td><td>-0.1991. (0.1153)</td><td>                 </td><td>                 </td></tr>\n",
       "\t<tr><th scope=row>5</th><td>year2021                                     </td><td>                 </td><td>                 </td><td>                 </td><td>                 </td><td>1.022*** (0.0883)</td><td>1.156*** (0.0314)</td></tr>\n",
       "\t<tr><th scope=row>6</th><td>year2022                                     </td><td>                 </td><td>                 </td><td>                 </td><td>                 </td><td>7.073*** (0.1018)</td><td>7.236*** (0.0328)</td></tr>\n",
       "\t<tr><th scope=row>7</th><td>year2020 x log(deaths)                       </td><td>                 </td><td>                 </td><td>                 </td><td>                 </td><td>-0.0229. (0.0120)</td><td>-0.0330* (0.0128)</td></tr>\n",
       "\t<tr><th scope=row>8</th><td>year2021 x log(deaths)                       </td><td>                 </td><td>                 </td><td>                 </td><td>                 </td><td>-0.0164 (0.0124) </td><td>-0.0271. (0.0138)</td></tr>\n",
       "\t<tr><th scope=row>9</th><td>year2022 x log(deaths)                       </td><td>                 </td><td>                 </td><td>                 </td><td>                 </td><td>-0.0021 (0.0137) </td><td>-0.0135 (0.0148) </td></tr>\n",
       "\t<tr><th scope=row>10</th><td>year2020 x C8EV_International_travel_controls</td><td>                 </td><td>                 </td><td>                 </td><td>                 </td><td>-0.0914* (0.0425)</td><td>                 </td></tr>\n",
       "\t<tr><th scope=row>11</th><td>year2021 x C8EV_International_travel_controls</td><td>                 </td><td>                 </td><td>                 </td><td>                 </td><td>-0.0453 (0.0304) </td><td>                 </td></tr>\n",
       "\t<tr><th scope=row>12</th><td>year2022 x C8EV_International_travel_controls</td><td>                 </td><td>                 </td><td>                 </td><td>                 </td><td>-0.0291 (0.0589) </td><td>                 </td></tr>\n",
       "\t<tr><th scope=row>13</th><td>Fixed-Effects:                               </td><td>-----------------</td><td>-----------------</td><td>-----------------</td><td>-----------------</td><td>-----------------</td><td>-----------------</td></tr>\n",
       "\t<tr><th scope=row>14</th><td>year                                         </td><td>Yes              </td><td>Yes              </td><td>Yes              </td><td>Yes              </td><td>No               </td><td>No               </td></tr>\n",
       "\t<tr><th scope=row>15</th><td>country                                      </td><td>No               </td><td>Yes              </td><td>Yes              </td><td>Yes              </td><td>Yes              </td><td>Yes              </td></tr>\n",
       "\t<tr><th scope=row>16</th><td>________________________________________     </td><td>_________________</td><td>_________________</td><td>_________________</td><td>_________________</td><td>_________________</td><td>_________________</td></tr>\n",
       "\t<tr><th scope=row>17</th><td>S.E.: Clustered                              </td><td>by: country      </td><td>by: country      </td><td>by: country      </td><td>by: country      </td><td>by: country      </td><td>by: country      </td></tr>\n",
       "\t<tr><th scope=row>18</th><td>Observations                                 </td><td>506              </td><td>506              </td><td>504              </td><td>504              </td><td>506              </td><td>586              </td></tr>\n",
       "\t<tr><th scope=row>19</th><td>R2                                           </td><td>0.21368          </td><td>0.99961          </td><td>0.99960          </td><td>0.99952          </td><td>0.99961          </td><td>0.99950          </td></tr>\n",
       "\t<tr><th scope=row>20</th><td>Within R2                                    </td><td>0.09134          </td><td>0.02038          </td><td>0.01429          </td><td>-0.17792         </td><td>0.99731          </td><td>0.99639          </td></tr>\n",
       "</tbody>\n",
       "</table>\n"
      ],
      "text/latex": [
       "A etable\\_df: 20 × 7\n",
       "\\begin{tabular}{r|lllllll}\n",
       "  &  & export\\_pulled\\_ols & export\\_fe\\_ols & export\\_covid\\_iv & export\\_all\\_iv & export\\_time\\_eff.. & export\\_covid\\_ti..\\\\\n",
       "  & <chr> & <chr> & <chr> & <chr> & <chr> & <chr> & <chr>\\\\\n",
       "\\hline\n",
       "\t1 & Dependent Var.:                               & value             & value             & value             & value             & value             & value            \\\\\n",
       "\t2 &                                               &                   &                   &                   &                   &                   &                  \\\\\n",
       "\t3 & log(deaths)                                   & 1.138*** (0.2682) & -0.0112 (0.0108)  & -0.0273 (0.0404)  & 0.0363 (0.0598)   &                   &                  \\\\\n",
       "\t4 & C8EV\\_International\\_travel\\_controls            & 0.2506 (0.6407)   & -0.0606* (0.0286) & -0.0689* (0.0310) & -0.1991. (0.1153) &                   &                  \\\\\n",
       "\t5 & year2021                                      &                   &                   &                   &                   & 1.022*** (0.0883) & 1.156*** (0.0314)\\\\\n",
       "\t6 & year2022                                      &                   &                   &                   &                   & 7.073*** (0.1018) & 7.236*** (0.0328)\\\\\n",
       "\t7 & year2020 x log(deaths)                        &                   &                   &                   &                   & -0.0229. (0.0120) & -0.0330* (0.0128)\\\\\n",
       "\t8 & year2021 x log(deaths)                        &                   &                   &                   &                   & -0.0164 (0.0124)  & -0.0271. (0.0138)\\\\\n",
       "\t9 & year2022 x log(deaths)                        &                   &                   &                   &                   & -0.0021 (0.0137)  & -0.0135 (0.0148) \\\\\n",
       "\t10 & year2020 x C8EV\\_International\\_travel\\_controls &                   &                   &                   &                   & -0.0914* (0.0425) &                  \\\\\n",
       "\t11 & year2021 x C8EV\\_International\\_travel\\_controls &                   &                   &                   &                   & -0.0453 (0.0304)  &                  \\\\\n",
       "\t12 & year2022 x C8EV\\_International\\_travel\\_controls &                   &                   &                   &                   & -0.0291 (0.0589)  &                  \\\\\n",
       "\t13 & Fixed-Effects:                                & ----------------- & ----------------- & ----------------- & ----------------- & ----------------- & -----------------\\\\\n",
       "\t14 & year                                          & Yes               & Yes               & Yes               & Yes               & No                & No               \\\\\n",
       "\t15 & country                                       & No                & Yes               & Yes               & Yes               & Yes               & Yes              \\\\\n",
       "\t16 & \\_\\_\\_\\_\\_\\_\\_\\_\\_\\_\\_\\_\\_\\_\\_\\_\\_\\_\\_\\_\\_\\_\\_\\_\\_\\_\\_\\_\\_\\_\\_\\_\\_\\_\\_\\_\\_\\_\\_\\_      & \\_\\_\\_\\_\\_\\_\\_\\_\\_\\_\\_\\_\\_\\_\\_\\_\\_ & \\_\\_\\_\\_\\_\\_\\_\\_\\_\\_\\_\\_\\_\\_\\_\\_\\_ & \\_\\_\\_\\_\\_\\_\\_\\_\\_\\_\\_\\_\\_\\_\\_\\_\\_ & \\_\\_\\_\\_\\_\\_\\_\\_\\_\\_\\_\\_\\_\\_\\_\\_\\_ & \\_\\_\\_\\_\\_\\_\\_\\_\\_\\_\\_\\_\\_\\_\\_\\_\\_ & \\_\\_\\_\\_\\_\\_\\_\\_\\_\\_\\_\\_\\_\\_\\_\\_\\_\\\\\n",
       "\t17 & S.E.: Clustered                               & by: country       & by: country       & by: country       & by: country       & by: country       & by: country      \\\\\n",
       "\t18 & Observations                                  & 506               & 506               & 504               & 504               & 506               & 586              \\\\\n",
       "\t19 & R2                                            & 0.21368           & 0.99961           & 0.99960           & 0.99952           & 0.99961           & 0.99950          \\\\\n",
       "\t20 & Within R2                                     & 0.09134           & 0.02038           & 0.01429           & -0.17792          & 0.99731           & 0.99639          \\\\\n",
       "\\end{tabular}\n"
      ],
      "text/markdown": [
       "\n",
       "A etable_df: 20 × 7\n",
       "\n",
       "| <!--/--> | <!----> &lt;chr&gt; | export_pulled_ols &lt;chr&gt; | export_fe_ols &lt;chr&gt; | export_covid_iv &lt;chr&gt; | export_all_iv &lt;chr&gt; | export_time_eff.. &lt;chr&gt; | export_covid_ti.. &lt;chr&gt; |\n",
       "|---|---|---|---|---|---|---|---|\n",
       "| 1 | Dependent Var.:                               | value             | value             | value             | value             | value             | value             |\n",
       "| 2 | <!----> | <!----> | <!----> | <!----> | <!----> | <!----> | <!----> |\n",
       "| 3 | log(deaths)                                   | 1.138*** (0.2682) | -0.0112 (0.0108)  | -0.0273 (0.0404)  | 0.0363 (0.0598)   | <!----> | <!----> |\n",
       "| 4 | C8EV_International_travel_controls            | 0.2506 (0.6407)   | -0.0606* (0.0286) | -0.0689* (0.0310) | -0.1991. (0.1153) | <!----> | <!----> |\n",
       "| 5 | year2021                                      | <!----> | <!----> | <!----> | <!----> | 1.022*** (0.0883) | 1.156*** (0.0314) |\n",
       "| 6 | year2022                                      | <!----> | <!----> | <!----> | <!----> | 7.073*** (0.1018) | 7.236*** (0.0328) |\n",
       "| 7 | year2020 x log(deaths)                        | <!----> | <!----> | <!----> | <!----> | -0.0229. (0.0120) | -0.0330* (0.0128) |\n",
       "| 8 | year2021 x log(deaths)                        | <!----> | <!----> | <!----> | <!----> | -0.0164 (0.0124)  | -0.0271. (0.0138) |\n",
       "| 9 | year2022 x log(deaths)                        | <!----> | <!----> | <!----> | <!----> | -0.0021 (0.0137)  | -0.0135 (0.0148)  |\n",
       "| 10 | year2020 x C8EV_International_travel_controls | <!----> | <!----> | <!----> | <!----> | -0.0914* (0.0425) | <!----> |\n",
       "| 11 | year2021 x C8EV_International_travel_controls | <!----> | <!----> | <!----> | <!----> | -0.0453 (0.0304)  | <!----> |\n",
       "| 12 | year2022 x C8EV_International_travel_controls | <!----> | <!----> | <!----> | <!----> | -0.0291 (0.0589)  | <!----> |\n",
       "| 13 | Fixed-Effects:                                | ----------------- | ----------------- | ----------------- | ----------------- | ----------------- | ----------------- |\n",
       "| 14 | year                                          | Yes               | Yes               | Yes               | Yes               | No                | No                |\n",
       "| 15 | country                                       | No                | Yes               | Yes               | Yes               | Yes               | Yes               |\n",
       "| 16 | ________________________________________      | _________________ | _________________ | _________________ | _________________ | _________________ | _________________ |\n",
       "| 17 | S.E.: Clustered                               | by: country       | by: country       | by: country       | by: country       | by: country       | by: country       |\n",
       "| 18 | Observations                                  | 506               | 506               | 504               | 504               | 506               | 586               |\n",
       "| 19 | R2                                            | 0.21368           | 0.99961           | 0.99960           | 0.99952           | 0.99961           | 0.99950           |\n",
       "| 20 | Within R2                                     | 0.09134           | 0.02038           | 0.01429           | -0.17792          | 0.99731           | 0.99639           |\n",
       "\n"
      ],
      "text/plain": [
       "                                                 export_pulled_ols\n",
       "1  Dependent Var.:                               value            \n",
       "2                                                                 \n",
       "3  log(deaths)                                   1.138*** (0.2682)\n",
       "4  C8EV_International_travel_controls            0.2506 (0.6407)  \n",
       "5  year2021                                                       \n",
       "6  year2022                                                       \n",
       "7  year2020 x log(deaths)                                         \n",
       "8  year2021 x log(deaths)                                         \n",
       "9  year2022 x log(deaths)                                         \n",
       "10 year2020 x C8EV_International_travel_controls                  \n",
       "11 year2021 x C8EV_International_travel_controls                  \n",
       "12 year2022 x C8EV_International_travel_controls                  \n",
       "13 Fixed-Effects:                                -----------------\n",
       "14 year                                          Yes              \n",
       "15 country                                       No               \n",
       "16 ________________________________________      _________________\n",
       "17 S.E.: Clustered                               by: country      \n",
       "18 Observations                                  506              \n",
       "19 R2                                            0.21368          \n",
       "20 Within R2                                     0.09134          \n",
       "   export_fe_ols     export_covid_iv   export_all_iv     export_time_eff..\n",
       "1  value             value             value             value            \n",
       "2                                                                         \n",
       "3  -0.0112 (0.0108)  -0.0273 (0.0404)  0.0363 (0.0598)                    \n",
       "4  -0.0606* (0.0286) -0.0689* (0.0310) -0.1991. (0.1153)                  \n",
       "5                                                        1.022*** (0.0883)\n",
       "6                                                        7.073*** (0.1018)\n",
       "7                                                        -0.0229. (0.0120)\n",
       "8                                                        -0.0164 (0.0124) \n",
       "9                                                        -0.0021 (0.0137) \n",
       "10                                                       -0.0914* (0.0425)\n",
       "11                                                       -0.0453 (0.0304) \n",
       "12                                                       -0.0291 (0.0589) \n",
       "13 ----------------- ----------------- ----------------- -----------------\n",
       "14 Yes               Yes               Yes               No               \n",
       "15 Yes               Yes               Yes               Yes              \n",
       "16 _________________ _________________ _________________ _________________\n",
       "17 by: country       by: country       by: country       by: country      \n",
       "18 506               504               504               506              \n",
       "19 0.99961           0.99960           0.99952           0.99961          \n",
       "20 0.02038           0.01429           -0.17792          0.99731          \n",
       "   export_covid_ti..\n",
       "1  value            \n",
       "2                   \n",
       "3                   \n",
       "4                   \n",
       "5  1.156*** (0.0314)\n",
       "6  7.236*** (0.0328)\n",
       "7  -0.0330* (0.0128)\n",
       "8  -0.0271. (0.0138)\n",
       "9  -0.0135 (0.0148) \n",
       "10                  \n",
       "11                  \n",
       "12                  \n",
       "13 -----------------\n",
       "14 No               \n",
       "15 Yes              \n",
       "16 _________________\n",
       "17 by: country      \n",
       "18 586              \n",
       "19 0.99950          \n",
       "20 0.99639          "
      ]
     },
     "metadata": {},
     "output_type": "display_data"
    }
   ],
   "source": [
    "# Здесь это точно не осмысленно использовать кластеризацию по годам.\n",
    "# С кластеризацией по странам есть значимость только у ограничений на поездки. \n",
    "# На инструменты пока смотреть не стоит, потому что они слабые.\n",
    "etable(export_pulled_ols, export_fe_ols, export_covid_iv, export_all_iv, export_time_effects, export_covid_time_effects, vcov = ~country)"
   ]
  },
  {
   "cell_type": "code",
   "execution_count": 11,
   "metadata": {
    "vscode": {
     "languageId": "r"
    }
   },
   "outputs": [
    {
     "data": {
      "text/html": [
       "<table class=\"dataframe\">\n",
       "<caption>A etable_df: 20 × 7</caption>\n",
       "<thead>\n",
       "\t<tr><th></th><th scope=col></th><th scope=col>export_pulled..</th><th scope=col>export_fe_ols</th><th scope=col>export_covid_iv</th><th scope=col>export_all_iv</th><th scope=col>export_time_eff..</th><th scope=col>export_covid_ti..</th></tr>\n",
       "\t<tr><th></th><th scope=col>&lt;chr&gt;</th><th scope=col>&lt;chr&gt;</th><th scope=col>&lt;chr&gt;</th><th scope=col>&lt;chr&gt;</th><th scope=col>&lt;chr&gt;</th><th scope=col>&lt;chr&gt;</th><th scope=col>&lt;chr&gt;</th></tr>\n",
       "</thead>\n",
       "<tbody>\n",
       "\t<tr><th scope=row>1</th><td>Dependent Var.:                              </td><td>value          </td><td>value           </td><td>value           </td><td>value           </td><td>value            </td><td>value            </td></tr>\n",
       "\t<tr><th scope=row>2</th><td>                                             </td><td>               </td><td>                </td><td>                </td><td>                </td><td>                 </td><td>                 </td></tr>\n",
       "\t<tr><th scope=row>3</th><td>log(deaths)                                  </td><td>1.138* (0.2576)</td><td>-0.0112 (0.0107)</td><td>-0.0273 (0.0421)</td><td>0.0363 (0.0708) </td><td>                 </td><td>                 </td></tr>\n",
       "\t<tr><th scope=row>4</th><td>C8EV_International_travel_controls           </td><td>0.2506 (0.7239)</td><td>-0.0606 (0.0315)</td><td>-0.0689 (0.0327)</td><td>-0.1991 (0.1257)</td><td>                 </td><td>                 </td></tr>\n",
       "\t<tr><th scope=row>5</th><td>year2021                                     </td><td>               </td><td>                </td><td>                </td><td>                </td><td>1.022** (0.0909) </td><td>1.156*** (0.0333)</td></tr>\n",
       "\t<tr><th scope=row>6</th><td>year2022                                     </td><td>               </td><td>                </td><td>                </td><td>                </td><td>7.073*** (0.0985)</td><td>7.236*** (0.0315)</td></tr>\n",
       "\t<tr><th scope=row>7</th><td>year2020 x log(deaths)                       </td><td>               </td><td>                </td><td>                </td><td>                </td><td>-0.0229 (0.0117) </td><td>-0.0330 (0.0124) </td></tr>\n",
       "\t<tr><th scope=row>8</th><td>year2021 x log(deaths)                       </td><td>               </td><td>                </td><td>                </td><td>                </td><td>-0.0164 (0.0138) </td><td>-0.0271 (0.0152) </td></tr>\n",
       "\t<tr><th scope=row>9</th><td>year2022 x log(deaths)                       </td><td>               </td><td>                </td><td>                </td><td>                </td><td>-0.0021 (0.0133) </td><td>-0.0135 (0.0145) </td></tr>\n",
       "\t<tr><th scope=row>10</th><td>year2020 x C8EV_International_travel_controls</td><td>               </td><td>                </td><td>                </td><td>                </td><td>-0.0914 (0.0424) </td><td>                 </td></tr>\n",
       "\t<tr><th scope=row>11</th><td>year2021 x C8EV_International_travel_controls</td><td>               </td><td>                </td><td>                </td><td>                </td><td>-0.0453 (0.0358) </td><td>                 </td></tr>\n",
       "\t<tr><th scope=row>12</th><td>year2022 x C8EV_International_travel_controls</td><td>               </td><td>                </td><td>                </td><td>                </td><td>-0.0291 (0.0584) </td><td>                 </td></tr>\n",
       "\t<tr><th scope=row>13</th><td>Fixed-Effects:                               </td><td>---------------</td><td>----------------</td><td>----------------</td><td>----------------</td><td>-----------------</td><td>-----------------</td></tr>\n",
       "\t<tr><th scope=row>14</th><td>year                                         </td><td>Yes            </td><td>Yes             </td><td>Yes             </td><td>Yes             </td><td>No               </td><td>No               </td></tr>\n",
       "\t<tr><th scope=row>15</th><td>country                                      </td><td>No             </td><td>Yes             </td><td>Yes             </td><td>Yes             </td><td>Yes              </td><td>Yes              </td></tr>\n",
       "\t<tr><th scope=row>16</th><td>________________________________________     </td><td>_______________</td><td>________________</td><td>________________</td><td>________________</td><td>_________________</td><td>_________________</td></tr>\n",
       "\t<tr><th scope=row>17</th><td>S.E. type                                    </td><td>New.-West (L=1)</td><td>Newey-West (L=1)</td><td>Newey-West (L=1)</td><td>Newey-West (L=1)</td><td>Newey-West (L=1) </td><td>Newey-West (L=1) </td></tr>\n",
       "\t<tr><th scope=row>18</th><td>Observations                                 </td><td>506            </td><td>506             </td><td>504             </td><td>504             </td><td>506              </td><td>586              </td></tr>\n",
       "\t<tr><th scope=row>19</th><td>R2                                           </td><td>0.21368        </td><td>0.99961         </td><td>0.99960         </td><td>0.99952         </td><td>0.99961          </td><td>0.99950          </td></tr>\n",
       "\t<tr><th scope=row>20</th><td>Within R2                                    </td><td>0.09134        </td><td>0.02038         </td><td>0.01429         </td><td>-0.17792        </td><td>0.99731          </td><td>0.99639          </td></tr>\n",
       "</tbody>\n",
       "</table>\n"
      ],
      "text/latex": [
       "A etable\\_df: 20 × 7\n",
       "\\begin{tabular}{r|lllllll}\n",
       "  &  & export\\_pulled.. & export\\_fe\\_ols & export\\_covid\\_iv & export\\_all\\_iv & export\\_time\\_eff.. & export\\_covid\\_ti..\\\\\n",
       "  & <chr> & <chr> & <chr> & <chr> & <chr> & <chr> & <chr>\\\\\n",
       "\\hline\n",
       "\t1 & Dependent Var.:                               & value           & value            & value            & value            & value             & value            \\\\\n",
       "\t2 &                                               &                 &                  &                  &                  &                   &                  \\\\\n",
       "\t3 & log(deaths)                                   & 1.138* (0.2576) & -0.0112 (0.0107) & -0.0273 (0.0421) & 0.0363 (0.0708)  &                   &                  \\\\\n",
       "\t4 & C8EV\\_International\\_travel\\_controls            & 0.2506 (0.7239) & -0.0606 (0.0315) & -0.0689 (0.0327) & -0.1991 (0.1257) &                   &                  \\\\\n",
       "\t5 & year2021                                      &                 &                  &                  &                  & 1.022** (0.0909)  & 1.156*** (0.0333)\\\\\n",
       "\t6 & year2022                                      &                 &                  &                  &                  & 7.073*** (0.0985) & 7.236*** (0.0315)\\\\\n",
       "\t7 & year2020 x log(deaths)                        &                 &                  &                  &                  & -0.0229 (0.0117)  & -0.0330 (0.0124) \\\\\n",
       "\t8 & year2021 x log(deaths)                        &                 &                  &                  &                  & -0.0164 (0.0138)  & -0.0271 (0.0152) \\\\\n",
       "\t9 & year2022 x log(deaths)                        &                 &                  &                  &                  & -0.0021 (0.0133)  & -0.0135 (0.0145) \\\\\n",
       "\t10 & year2020 x C8EV\\_International\\_travel\\_controls &                 &                  &                  &                  & -0.0914 (0.0424)  &                  \\\\\n",
       "\t11 & year2021 x C8EV\\_International\\_travel\\_controls &                 &                  &                  &                  & -0.0453 (0.0358)  &                  \\\\\n",
       "\t12 & year2022 x C8EV\\_International\\_travel\\_controls &                 &                  &                  &                  & -0.0291 (0.0584)  &                  \\\\\n",
       "\t13 & Fixed-Effects:                                & --------------- & ---------------- & ---------------- & ---------------- & ----------------- & -----------------\\\\\n",
       "\t14 & year                                          & Yes             & Yes              & Yes              & Yes              & No                & No               \\\\\n",
       "\t15 & country                                       & No              & Yes              & Yes              & Yes              & Yes               & Yes              \\\\\n",
       "\t16 & \\_\\_\\_\\_\\_\\_\\_\\_\\_\\_\\_\\_\\_\\_\\_\\_\\_\\_\\_\\_\\_\\_\\_\\_\\_\\_\\_\\_\\_\\_\\_\\_\\_\\_\\_\\_\\_\\_\\_\\_      & \\_\\_\\_\\_\\_\\_\\_\\_\\_\\_\\_\\_\\_\\_\\_ & \\_\\_\\_\\_\\_\\_\\_\\_\\_\\_\\_\\_\\_\\_\\_\\_ & \\_\\_\\_\\_\\_\\_\\_\\_\\_\\_\\_\\_\\_\\_\\_\\_ & \\_\\_\\_\\_\\_\\_\\_\\_\\_\\_\\_\\_\\_\\_\\_\\_ & \\_\\_\\_\\_\\_\\_\\_\\_\\_\\_\\_\\_\\_\\_\\_\\_\\_ & \\_\\_\\_\\_\\_\\_\\_\\_\\_\\_\\_\\_\\_\\_\\_\\_\\_\\\\\n",
       "\t17 & S.E. type                                     & New.-West (L=1) & Newey-West (L=1) & Newey-West (L=1) & Newey-West (L=1) & Newey-West (L=1)  & Newey-West (L=1) \\\\\n",
       "\t18 & Observations                                  & 506             & 506              & 504              & 504              & 506               & 586              \\\\\n",
       "\t19 & R2                                            & 0.21368         & 0.99961          & 0.99960          & 0.99952          & 0.99961           & 0.99950          \\\\\n",
       "\t20 & Within R2                                     & 0.09134         & 0.02038          & 0.01429          & -0.17792         & 0.99731           & 0.99639          \\\\\n",
       "\\end{tabular}\n"
      ],
      "text/markdown": [
       "\n",
       "A etable_df: 20 × 7\n",
       "\n",
       "| <!--/--> | <!----> &lt;chr&gt; | export_pulled.. &lt;chr&gt; | export_fe_ols &lt;chr&gt; | export_covid_iv &lt;chr&gt; | export_all_iv &lt;chr&gt; | export_time_eff.. &lt;chr&gt; | export_covid_ti.. &lt;chr&gt; |\n",
       "|---|---|---|---|---|---|---|---|\n",
       "| 1 | Dependent Var.:                               | value           | value            | value            | value            | value             | value             |\n",
       "| 2 | <!----> | <!----> | <!----> | <!----> | <!----> | <!----> | <!----> |\n",
       "| 3 | log(deaths)                                   | 1.138* (0.2576) | -0.0112 (0.0107) | -0.0273 (0.0421) | 0.0363 (0.0708)  | <!----> | <!----> |\n",
       "| 4 | C8EV_International_travel_controls            | 0.2506 (0.7239) | -0.0606 (0.0315) | -0.0689 (0.0327) | -0.1991 (0.1257) | <!----> | <!----> |\n",
       "| 5 | year2021                                      | <!----> | <!----> | <!----> | <!----> | 1.022** (0.0909)  | 1.156*** (0.0333) |\n",
       "| 6 | year2022                                      | <!----> | <!----> | <!----> | <!----> | 7.073*** (0.0985) | 7.236*** (0.0315) |\n",
       "| 7 | year2020 x log(deaths)                        | <!----> | <!----> | <!----> | <!----> | -0.0229 (0.0117)  | -0.0330 (0.0124)  |\n",
       "| 8 | year2021 x log(deaths)                        | <!----> | <!----> | <!----> | <!----> | -0.0164 (0.0138)  | -0.0271 (0.0152)  |\n",
       "| 9 | year2022 x log(deaths)                        | <!----> | <!----> | <!----> | <!----> | -0.0021 (0.0133)  | -0.0135 (0.0145)  |\n",
       "| 10 | year2020 x C8EV_International_travel_controls | <!----> | <!----> | <!----> | <!----> | -0.0914 (0.0424)  | <!----> |\n",
       "| 11 | year2021 x C8EV_International_travel_controls | <!----> | <!----> | <!----> | <!----> | -0.0453 (0.0358)  | <!----> |\n",
       "| 12 | year2022 x C8EV_International_travel_controls | <!----> | <!----> | <!----> | <!----> | -0.0291 (0.0584)  | <!----> |\n",
       "| 13 | Fixed-Effects:                                | --------------- | ---------------- | ---------------- | ---------------- | ----------------- | ----------------- |\n",
       "| 14 | year                                          | Yes             | Yes              | Yes              | Yes              | No                | No                |\n",
       "| 15 | country                                       | No              | Yes              | Yes              | Yes              | Yes               | Yes               |\n",
       "| 16 | ________________________________________      | _______________ | ________________ | ________________ | ________________ | _________________ | _________________ |\n",
       "| 17 | S.E. type                                     | New.-West (L=1) | Newey-West (L=1) | Newey-West (L=1) | Newey-West (L=1) | Newey-West (L=1)  | Newey-West (L=1)  |\n",
       "| 18 | Observations                                  | 506             | 506              | 504              | 504              | 506               | 586               |\n",
       "| 19 | R2                                            | 0.21368         | 0.99961          | 0.99960          | 0.99952          | 0.99961           | 0.99950           |\n",
       "| 20 | Within R2                                     | 0.09134         | 0.02038          | 0.01429          | -0.17792         | 0.99731           | 0.99639           |\n",
       "\n"
      ],
      "text/plain": [
       "                                                 export_pulled..\n",
       "1  Dependent Var.:                               value          \n",
       "2                                                               \n",
       "3  log(deaths)                                   1.138* (0.2576)\n",
       "4  C8EV_International_travel_controls            0.2506 (0.7239)\n",
       "5  year2021                                                     \n",
       "6  year2022                                                     \n",
       "7  year2020 x log(deaths)                                       \n",
       "8  year2021 x log(deaths)                                       \n",
       "9  year2022 x log(deaths)                                       \n",
       "10 year2020 x C8EV_International_travel_controls                \n",
       "11 year2021 x C8EV_International_travel_controls                \n",
       "12 year2022 x C8EV_International_travel_controls                \n",
       "13 Fixed-Effects:                                ---------------\n",
       "14 year                                          Yes            \n",
       "15 country                                       No             \n",
       "16 ________________________________________      _______________\n",
       "17 S.E. type                                     New.-West (L=1)\n",
       "18 Observations                                  506            \n",
       "19 R2                                            0.21368        \n",
       "20 Within R2                                     0.09134        \n",
       "   export_fe_ols    export_covid_iv  export_all_iv    export_time_eff..\n",
       "1  value            value            value            value            \n",
       "2                                                                      \n",
       "3  -0.0112 (0.0107) -0.0273 (0.0421) 0.0363 (0.0708)                   \n",
       "4  -0.0606 (0.0315) -0.0689 (0.0327) -0.1991 (0.1257)                  \n",
       "5                                                     1.022** (0.0909) \n",
       "6                                                     7.073*** (0.0985)\n",
       "7                                                     -0.0229 (0.0117) \n",
       "8                                                     -0.0164 (0.0138) \n",
       "9                                                     -0.0021 (0.0133) \n",
       "10                                                    -0.0914 (0.0424) \n",
       "11                                                    -0.0453 (0.0358) \n",
       "12                                                    -0.0291 (0.0584) \n",
       "13 ---------------- ---------------- ---------------- -----------------\n",
       "14 Yes              Yes              Yes              No               \n",
       "15 Yes              Yes              Yes              Yes              \n",
       "16 ________________ ________________ ________________ _________________\n",
       "17 Newey-West (L=1) Newey-West (L=1) Newey-West (L=1) Newey-West (L=1) \n",
       "18 506              504              504              506              \n",
       "19 0.99961          0.99960          0.99952          0.99961          \n",
       "20 0.02038          0.01429          -0.17792         0.99731          \n",
       "   export_covid_ti..\n",
       "1  value            \n",
       "2                   \n",
       "3                   \n",
       "4                   \n",
       "5  1.156*** (0.0333)\n",
       "6  7.236*** (0.0315)\n",
       "7  -0.0330 (0.0124) \n",
       "8  -0.0271 (0.0152) \n",
       "9  -0.0135 (0.0145) \n",
       "10                  \n",
       "11                  \n",
       "12                  \n",
       "13 -----------------\n",
       "14 No               \n",
       "15 Yes              \n",
       "16 _________________\n",
       "17 Newey-West (L=1) \n",
       "18 586              \n",
       "19 0.99950          \n",
       "20 0.99639          "
      ]
     },
     "metadata": {},
     "output_type": "display_data"
    }
   ],
   "source": [
    "# С НАС ничего не значимо\n",
    "etable(export_pulled_ols, export_fe_ols, export_covid_iv, export_all_iv, export_time_effects, export_covid_time_effects, vcov = vcov_NW(unit = 'country', time = 'year'))"
   ]
  },
  {
   "cell_type": "code",
   "execution_count": 12,
   "metadata": {
    "vscode": {
     "languageId": "r"
    }
   },
   "outputs": [
    {
     "name": "stderr",
     "output_type": "stream",
     "text": [
      "NOTE: 126 observations removed because of NA values (RHS: 126).\n",
      "\n"
     ]
    },
    {
     "data": {
      "text/plain": [
       "OLS estimation, Dep. Var.: value\n",
       "Observations: 534\n",
       "Fixed-effects: country: 178,  year: 3\n",
       "Standard-errors: Newey-West (L=1) \n",
       "                         Estimate Std. Error  t value Pr(>|t|) \n",
       "StringencyIndex_Average -0.003248   0.001156 -2.80962  0.10677 \n",
       "---\n",
       "Signif. codes:  0 '***' 0.001 '**' 0.01 '*' 0.05 '.' 0.1 ' ' 1\n",
       "RMSE: 0.16986     Adj. R2: 0.999378\n",
       "                Within R2: 0.020902"
      ]
     },
     "metadata": {},
     "output_type": "display_data"
    },
    {
     "data": {
      "text/plain": [
       "OLS estimation, Dep. Var.: value\n",
       "Observations: 534\n",
       "Fixed-effects: country: 178,  year: 3\n",
       "Standard-errors: Clustered (country) \n",
       "                         Estimate Std. Error  t value  Pr(>|t|)    \n",
       "StringencyIndex_Average -0.003248   0.001159 -2.80255 0.0056352 ** \n",
       "---\n",
       "Signif. codes:  0 '***' 0.001 '**' 0.01 '*' 0.05 '.' 0.1 ' ' 1\n",
       "RMSE: 0.16986     Adj. R2: 0.999378\n",
       "                Within R2: 0.020902"
      ]
     },
     "metadata": {},
     "output_type": "display_data"
    }
   ],
   "source": [
    "# Реплицирую (Berthou, 2024), но результат не сходится, если использовать ошибки НАС\n",
    "m = feols(value ~ StringencyIndex_Average | country + year,\n",
    " data = df)\n",
    "m %>% summary(vcov = vcov_NW(unit = 'country', time = 'year'))\n",
    "m %>% summary(vcov = ~country)"
   ]
  },
  {
   "cell_type": "markdown",
   "metadata": {},
   "source": [
    "### Импорт\n",
    "\n",
    "+иллюстрирую, зачем тут нужны фиксированные эффекты"
   ]
  },
  {
   "cell_type": "code",
   "execution_count": 13,
   "metadata": {
    "vscode": {
     "languageId": "r"
    }
   },
   "outputs": [
    {
     "data": {
      "text/html": [
       "<table class=\"dataframe\">\n",
       "<caption>A tibble: 6 × 63</caption>\n",
       "<thead>\n",
       "\t<tr><th scope=col>year</th><th scope=col>country</th><th scope=col>value</th><th scope=col>country:r</th><th scope=col>t</th><th scope=col>cases</th><th scope=col>deaths</th><th scope=col>tests</th><th scope=col>C1M_School_closing</th><th scope=col>C2M_Workplace_closing</th><th scope=col>⋯</th><th scope=col>infant_mortality</th><th scope=col>largest_city_share</th><th scope=col>urbanization</th><th scope=col>country:household_size</th><th scope=col>avg_hh_size</th><th scope=col>share_1_members</th><th scope=col>share_2_3_members</th><th scope=col>share_4_5_members</th><th scope=col>year:r</th><th scope=col>SARS_flg</th></tr>\n",
       "\t<tr><th scope=col>&lt;chr&gt;</th><th scope=col>&lt;chr&gt;</th><th scope=col>&lt;dbl&gt;</th><th scope=col>&lt;chr&gt;</th><th scope=col>&lt;int&gt;</th><th scope=col>&lt;dbl&gt;</th><th scope=col>&lt;dbl&gt;</th><th scope=col>&lt;chr&gt;</th><th scope=col>&lt;dbl&gt;</th><th scope=col>&lt;dbl&gt;</th><th scope=col>⋯</th><th scope=col>&lt;dbl&gt;</th><th scope=col>&lt;dbl&gt;</th><th scope=col>&lt;dbl&gt;</th><th scope=col>&lt;chr&gt;</th><th scope=col>&lt;dbl&gt;</th><th scope=col>&lt;dbl&gt;</th><th scope=col>&lt;dbl&gt;</th><th scope=col>&lt;dbl&gt;</th><th scope=col>&lt;chr&gt;</th><th scope=col>&lt;int&gt;</th></tr>\n",
       "</thead>\n",
       "<tbody>\n",
       "\t<tr><td>2020</td><td>SLV</td><td>  5.593365</td><td>SLV</td><td>2020</td><td> 19.6259116</td><td>0.57060773</td><td>NA</td><td>2.426229</td><td>1.4344262</td><td>⋯</td><td>11.0</td><td>24.14867</td><td>17.73575</td><td>SLV</td><td>3.92</td><td> 8.46</td><td>36.01</td><td>37.84</td><td>2020</td><td>0</td></tr>\n",
       "\t<tr><td>2022</td><td>ASM</td><td> 11.366298</td><td>ASM</td><td>2022</td><td>467.6200274</td><td>1.92600000</td><td>NA</td><td>      NA</td><td>       NA</td><td>⋯</td><td>  NA</td><td>      NA</td><td>      NA</td><td>NA </td><td>  NA</td><td>   NA</td><td>   NA</td><td>   NA</td><td>2022</td><td>0</td></tr>\n",
       "\t<tr><td>2020</td><td>BOL</td><td> -4.466964</td><td>BOL</td><td>2020</td><td> 35.1308840</td><td>2.07754144</td><td>NA</td><td>2.418033</td><td>1.8306011</td><td>⋯</td><td>21.0</td><td>22.42107</td><td>41.25143</td><td>BOL</td><td>3.53</td><td>20.34</td><td>34.82</td><td>27.64</td><td>2020</td><td>0</td></tr>\n",
       "\t<tr><td>2020</td><td>SLE</td><td> -1.079447</td><td>SLE</td><td>2020</td><td>  0.8507182</td><td>0.02530387</td><td>NA</td><td>1.606557</td><td>0.2349727</td><td>⋯</td><td>80.3</td><td>35.38844</td><td>15.18978</td><td>SLE</td><td>5.29</td><td> 6.42</td><td>20.52</td><td>33.28</td><td>2020</td><td>0</td></tr>\n",
       "\t<tr><td>2020</td><td>LKA</td><td> 11.645198</td><td>LKA</td><td>2020</td><td>  4.9664917</td><td>0.02309392</td><td>NA</td><td>1.931694</td><td>0.5546448</td><td>⋯</td><td> 6.0</td><td>14.93368</td><td>      NA</td><td>NA </td><td>  NA</td><td>   NA</td><td>   NA</td><td>   NA</td><td>2020</td><td>0</td></tr>\n",
       "\t<tr><td>2022</td><td>ATG</td><td>-10.549667</td><td>ATG</td><td>2022</td><td>143.9042740</td><td>0.82619178</td><td>NA</td><td>      NA</td><td>       NA</td><td>⋯</td><td> 8.1</td><td>      NA</td><td>      NA</td><td>NA </td><td>  NA</td><td>   NA</td><td>   NA</td><td>   NA</td><td>2022</td><td>0</td></tr>\n",
       "</tbody>\n",
       "</table>\n"
      ],
      "text/latex": [
       "A tibble: 6 × 63\n",
       "\\begin{tabular}{lllllllllllllllllllll}\n",
       " year & country & value & country:r & t & cases & deaths & tests & C1M\\_School\\_closing & C2M\\_Workplace\\_closing & ⋯ & infant\\_mortality & largest\\_city\\_share & urbanization & country:household\\_size & avg\\_hh\\_size & share\\_1\\_members & share\\_2\\_3\\_members & share\\_4\\_5\\_members & year:r & SARS\\_flg\\\\\n",
       " <chr> & <chr> & <dbl> & <chr> & <int> & <dbl> & <dbl> & <chr> & <dbl> & <dbl> & ⋯ & <dbl> & <dbl> & <dbl> & <chr> & <dbl> & <dbl> & <dbl> & <dbl> & <chr> & <int>\\\\\n",
       "\\hline\n",
       "\t 2020 & SLV &   5.593365 & SLV & 2020 &  19.6259116 & 0.57060773 & NA & 2.426229 & 1.4344262 & ⋯ & 11.0 & 24.14867 & 17.73575 & SLV & 3.92 &  8.46 & 36.01 & 37.84 & 2020 & 0\\\\\n",
       "\t 2022 & ASM &  11.366298 & ASM & 2022 & 467.6200274 & 1.92600000 & NA &       NA &        NA & ⋯ &   NA &       NA &       NA & NA  &   NA &    NA &    NA &    NA & 2022 & 0\\\\\n",
       "\t 2020 & BOL &  -4.466964 & BOL & 2020 &  35.1308840 & 2.07754144 & NA & 2.418033 & 1.8306011 & ⋯ & 21.0 & 22.42107 & 41.25143 & BOL & 3.53 & 20.34 & 34.82 & 27.64 & 2020 & 0\\\\\n",
       "\t 2020 & SLE &  -1.079447 & SLE & 2020 &   0.8507182 & 0.02530387 & NA & 1.606557 & 0.2349727 & ⋯ & 80.3 & 35.38844 & 15.18978 & SLE & 5.29 &  6.42 & 20.52 & 33.28 & 2020 & 0\\\\\n",
       "\t 2020 & LKA &  11.645198 & LKA & 2020 &   4.9664917 & 0.02309392 & NA & 1.931694 & 0.5546448 & ⋯ &  6.0 & 14.93368 &       NA & NA  &   NA &    NA &    NA &    NA & 2020 & 0\\\\\n",
       "\t 2022 & ATG & -10.549667 & ATG & 2022 & 143.9042740 & 0.82619178 & NA &       NA &        NA & ⋯ &  8.1 &       NA &       NA & NA  &   NA &    NA &    NA &    NA & 2022 & 0\\\\\n",
       "\\end{tabular}\n"
      ],
      "text/markdown": [
       "\n",
       "A tibble: 6 × 63\n",
       "\n",
       "| year &lt;chr&gt; | country &lt;chr&gt; | value &lt;dbl&gt; | country:r &lt;chr&gt; | t &lt;int&gt; | cases &lt;dbl&gt; | deaths &lt;dbl&gt; | tests &lt;chr&gt; | C1M_School_closing &lt;dbl&gt; | C2M_Workplace_closing &lt;dbl&gt; | ⋯ ⋯ | infant_mortality &lt;dbl&gt; | largest_city_share &lt;dbl&gt; | urbanization &lt;dbl&gt; | country:household_size &lt;chr&gt; | avg_hh_size &lt;dbl&gt; | share_1_members &lt;dbl&gt; | share_2_3_members &lt;dbl&gt; | share_4_5_members &lt;dbl&gt; | year:r &lt;chr&gt; | SARS_flg &lt;int&gt; |\n",
       "|---|---|---|---|---|---|---|---|---|---|---|---|---|---|---|---|---|---|---|---|---|\n",
       "| 2020 | SLV |   5.593365 | SLV | 2020 |  19.6259116 | 0.57060773 | NA | 2.426229 | 1.4344262 | ⋯ | 11.0 | 24.14867 | 17.73575 | SLV | 3.92 |  8.46 | 36.01 | 37.84 | 2020 | 0 |\n",
       "| 2022 | ASM |  11.366298 | ASM | 2022 | 467.6200274 | 1.92600000 | NA |       NA |        NA | ⋯ |   NA |       NA |       NA | NA  |   NA |    NA |    NA |    NA | 2022 | 0 |\n",
       "| 2020 | BOL |  -4.466964 | BOL | 2020 |  35.1308840 | 2.07754144 | NA | 2.418033 | 1.8306011 | ⋯ | 21.0 | 22.42107 | 41.25143 | BOL | 3.53 | 20.34 | 34.82 | 27.64 | 2020 | 0 |\n",
       "| 2020 | SLE |  -1.079447 | SLE | 2020 |   0.8507182 | 0.02530387 | NA | 1.606557 | 0.2349727 | ⋯ | 80.3 | 35.38844 | 15.18978 | SLE | 5.29 |  6.42 | 20.52 | 33.28 | 2020 | 0 |\n",
       "| 2020 | LKA |  11.645198 | LKA | 2020 |   4.9664917 | 0.02309392 | NA | 1.931694 | 0.5546448 | ⋯ |  6.0 | 14.93368 |       NA | NA  |   NA |    NA |    NA |    NA | 2020 | 0 |\n",
       "| 2022 | ATG | -10.549667 | ATG | 2022 | 143.9042740 | 0.82619178 | NA |       NA |        NA | ⋯ |  8.1 |       NA |       NA | NA  |   NA |    NA |    NA |    NA | 2022 | 0 |\n",
       "\n"
      ],
      "text/plain": [
       "  year country value      country:r t    cases       deaths     tests\n",
       "1 2020 SLV       5.593365 SLV       2020  19.6259116 0.57060773 NA   \n",
       "2 2022 ASM      11.366298 ASM       2022 467.6200274 1.92600000 NA   \n",
       "3 2020 BOL      -4.466964 BOL       2020  35.1308840 2.07754144 NA   \n",
       "4 2020 SLE      -1.079447 SLE       2020   0.8507182 0.02530387 NA   \n",
       "5 2020 LKA      11.645198 LKA       2020   4.9664917 0.02309392 NA   \n",
       "6 2022 ATG     -10.549667 ATG       2022 143.9042740 0.82619178 NA   \n",
       "  C1M_School_closing C2M_Workplace_closing ⋯ infant_mortality\n",
       "1 2.426229           1.4344262             ⋯ 11.0            \n",
       "2       NA                  NA             ⋯   NA            \n",
       "3 2.418033           1.8306011             ⋯ 21.0            \n",
       "4 1.606557           0.2349727             ⋯ 80.3            \n",
       "5 1.931694           0.5546448             ⋯  6.0            \n",
       "6       NA                  NA             ⋯  8.1            \n",
       "  largest_city_share urbanization country:household_size avg_hh_size\n",
       "1 24.14867           17.73575     SLV                    3.92       \n",
       "2       NA                 NA     NA                       NA       \n",
       "3 22.42107           41.25143     BOL                    3.53       \n",
       "4 35.38844           15.18978     SLE                    5.29       \n",
       "5 14.93368                 NA     NA                       NA       \n",
       "6       NA                 NA     NA                       NA       \n",
       "  share_1_members share_2_3_members share_4_5_members year:r SARS_flg\n",
       "1  8.46           36.01             37.84             2020   0       \n",
       "2    NA              NA                NA             2022   0       \n",
       "3 20.34           34.82             27.64             2020   0       \n",
       "4  6.42           20.52             33.28             2020   0       \n",
       "5    NA              NA                NA             2020   0       \n",
       "6    NA              NA                NA             2022   0       "
      ]
     },
     "metadata": {},
     "output_type": "display_data"
    }
   ],
   "source": [
    "# Скачиваю данные и переназываю переменные\n",
    "df = read_parquet('../data/processed_data/trade_hs0_import_fe_x_covid.parquet.gzip')\n",
    "df = df %>% mutate(year = as.character(year), SARS_flg = as.integer(!is.na(SARS_total_cases)))\n",
    "df %>% head()"
   ]
  },
  {
   "cell_type": "markdown",
   "metadata": {},
   "source": [
    "### Рисую обычный и demeaned scatterplot, чтобы обосновать необходимость использования фиксированных эффектов\n",
    "\n",
    "Графики будут интерактивные, если раскомментить ggplotly, закомментить p и перепрогнать"
   ]
  },
  {
   "cell_type": "code",
   "execution_count": 14,
   "metadata": {
    "vscode": {
     "languageId": "r"
    }
   },
   "outputs": [
    {
     "name": "stderr",
     "output_type": "stream",
     "text": [
      "Warning message:\n",
      "\"\u001b[1m\u001b[22mRemoved 6 rows containing missing values or values outside the scale range\n",
      "(`geom_point()`).\"\n"
     ]
    },
    {
     "data": {
      "image/png": "[encoded data removed]",
      "text/plain": [
       "plot without title"
      ]
     },
     "metadata": {
      "image/png": {
       "height": 420,
       "width": 420
      }
     },
     "output_type": "display_data"
    }
   ],
   "source": [
    "p = ggplot(df, aes(x = log(deaths), y = value, text = factor(country), color = factor(year)\n",
    "    )) + geom_point()+ theme(legend.position = \"none\")\n",
    "# ggplotly(p) \n",
    "p   "
   ]
  },
  {
   "cell_type": "code",
   "execution_count": 15,
   "metadata": {
    "vscode": {
     "languageId": "r"
    }
   },
   "outputs": [
    {
     "data": {
      "image/png": "[encoded data removed]",
      "text/plain": [
       "plot without title"
      ]
     },
     "metadata": {
      "image/png": {
       "height": 420,
       "width": 420
      }
     },
     "output_type": "display_data"
    }
   ],
   "source": [
    "country_means_df = df %>% group_by(country) %>%\n",
    " summarize(avg_value = mean(value, na.rm = TRUE), avg_log_deaths = mean(log(deaths), na.rm = TRUE))  %>% filter(avg_log_deaths > -1000)\n",
    "\n",
    "demeaned_df = df %>% merge(., country_means_df, by = 'country')  %>%\n",
    "  mutate(log_deaths = log(deaths)- avg_log_deaths, value = value- avg_value) %>%\n",
    "   select(country, year, log_deaths, value)\n",
    "p = ggplot(demeaned_df, aes(x = log_deaths, y = value, text = factor(country), color = factor(year)\n",
    "    )) + geom_point()+ theme(legend.position = \"none\")\n",
    "# ggplotly(p)    \n",
    "p"
   ]
  },
  {
   "cell_type": "code",
   "execution_count": 16,
   "metadata": {
    "vscode": {
     "languageId": "r"
    }
   },
   "outputs": [
    {
     "data": {
      "image/png": "[encoded data removed]",
      "text/plain": [
       "plot without title"
      ]
     },
     "metadata": {
      "image/png": {
       "height": 420,
       "width": 420
      }
     },
     "output_type": "display_data"
    }
   ],
   "source": [
    "year_means_df = demeaned_df %>% filter(log_deaths > -5) %>% group_by(year) %>%\n",
    " summarize(avg_value = mean(value, na.rm = TRUE), avg_log_deaths = mean(log_deaths, na.rm = TRUE))\n",
    "\n",
    "demeaned_df2 = demeaned_df %>% merge(., year_means_df, by = 'year')  %>%\n",
    "  mutate(log_deaths = log_deaths- avg_log_deaths, value = value - avg_value) %>%\n",
    "   select(country, year, log_deaths, value)\n",
    "\n",
    "p = ggplot(demeaned_df2, aes(x = log_deaths, y = value, text = factor(country), color = factor(year)\n",
    "    )) + geom_point()+ theme(legend.position = \"none\")\n",
    "# ggplotly(p)    \n",
    "p"
   ]
  },
  {
   "cell_type": "code",
   "execution_count": 17,
   "metadata": {
    "vscode": {
     "languageId": "r"
    }
   },
   "outputs": [
    {
     "data": {
      "text/html": [
       "<table class=\"dataframe\">\n",
       "<caption>A tibble: 3 × 3</caption>\n",
       "<thead>\n",
       "\t<tr><th scope=col>year</th><th scope=col>avg_value</th><th scope=col>avg_log_deaths</th></tr>\n",
       "\t<tr><th scope=col>&lt;chr&gt;</th><th scope=col>&lt;dbl&gt;</th><th scope=col>&lt;dbl&gt;</th></tr>\n",
       "</thead>\n",
       "<tbody>\n",
       "\t<tr><td>2020</td><td> 2.753133</td><td>-0.4175810</td></tr>\n",
       "\t<tr><td>2021</td><td> 1.693918</td><td> 0.8439503</td></tr>\n",
       "\t<tr><td>2022</td><td>-4.447051</td><td>-0.4263693</td></tr>\n",
       "</tbody>\n",
       "</table>\n"
      ],
      "text/latex": [
       "A tibble: 3 × 3\n",
       "\\begin{tabular}{lll}\n",
       " year & avg\\_value & avg\\_log\\_deaths\\\\\n",
       " <chr> & <dbl> & <dbl>\\\\\n",
       "\\hline\n",
       "\t 2020 &  2.753133 & -0.4175810\\\\\n",
       "\t 2021 &  1.693918 &  0.8439503\\\\\n",
       "\t 2022 & -4.447051 & -0.4263693\\\\\n",
       "\\end{tabular}\n"
      ],
      "text/markdown": [
       "\n",
       "A tibble: 3 × 3\n",
       "\n",
       "| year &lt;chr&gt; | avg_value &lt;dbl&gt; | avg_log_deaths &lt;dbl&gt; |\n",
       "|---|---|---|\n",
       "| 2020 |  2.753133 | -0.4175810 |\n",
       "| 2021 |  1.693918 |  0.8439503 |\n",
       "| 2022 | -4.447051 | -0.4263693 |\n",
       "\n"
      ],
      "text/plain": [
       "  year avg_value avg_log_deaths\n",
       "1 2020  2.753133 -0.4175810    \n",
       "2 2021  1.693918  0.8439503    \n",
       "3 2022 -4.447051 -0.4263693    "
      ]
     },
     "metadata": {},
     "output_type": "display_data"
    }
   ],
   "source": [
    "year_means_df"
   ]
  },
  {
   "cell_type": "markdown",
   "metadata": {},
   "source": [
    "### Сами регрессии"
   ]
  },
  {
   "cell_type": "code",
   "execution_count": 18,
   "metadata": {
    "vscode": {
     "languageId": "r"
    }
   },
   "outputs": [
    {
     "name": "stderr",
     "output_type": "stream",
     "text": [
      "NOTE: 154 observations removed because of NA and infinite values (RHS: 154).\n",
      "\n"
     ]
    },
    {
     "data": {
      "text/plain": [
       "OLS estimation, Dep. Var.: value\n",
       "Observations: 506\n",
       "Fixed-effects: year: 3\n",
       "Standard-errors: Clustered (country) \n",
       "                                   Estimate Std. Error  t value Pr(>|t|) \n",
       "log(deaths)                        0.149162   0.273552 0.545279  0.58626 \n",
       "C8EV_International_travel_controls 0.692519   0.783283 0.884124  0.37785 \n",
       "---\n",
       "Signif. codes:  0 '***' 0.001 '**' 0.01 '*' 0.05 '.' 0.1 ' ' 1\n",
       "RMSE: 7.41518     Adj. R2: 0.159473\n",
       "                Within R2: 0.004412"
      ]
     },
     "metadata": {},
     "output_type": "display_data"
    }
   ],
   "source": [
    "# Pulled OLS\n",
    "import_pulled_ols = feols(value ~ log(deaths) +\n",
    " C8EV_International_travel_controls| year,\n",
    " data = df)\n",
    "import_pulled_ols %>% summary(vcov = ~country)"
   ]
  },
  {
   "cell_type": "code",
   "execution_count": 19,
   "metadata": {
    "vscode": {
     "languageId": "r"
    }
   },
   "outputs": [
    {
     "name": "stderr",
     "output_type": "stream",
     "text": [
      "NOTE: 154 observations removed because of NA and infinite values (RHS: 154).\n",
      "\n"
     ]
    },
    {
     "data": {
      "text/plain": [
       "OLS estimation, Dep. Var.: value\n",
       "Observations: 506\n",
       "Fixed-effects: country: 175,  year: 3\n",
       "Standard-errors: Clustered (country) \n",
       "                                    Estimate Std. Error   t value Pr(>|t|) \n",
       "log(deaths)                        -0.001126   0.008672 -0.129851  0.89683 \n",
       "C8EV_International_travel_controls -0.032537   0.020833 -1.561786  0.12016 \n",
       "---\n",
       "Signif. codes:  0 '***' 0.001 '**' 0.01 '*' 0.05 '.' 0.1 ' ' 1\n",
       "RMSE: 0.141505     Adj. R2: 0.999531\n",
       "                 Within R2: 0.008014"
      ]
     },
     "metadata": {},
     "output_type": "display_data"
    }
   ],
   "source": [
    "import_fe_ols = feols(value ~ log(deaths) +\n",
    " C8EV_International_travel_controls| country + year,\n",
    " data = df)\n",
    "import_fe_ols %>% summary(vcov = ~country)"
   ]
  },
  {
   "cell_type": "code",
   "execution_count": 20,
   "metadata": {
    "vscode": {
     "languageId": "r"
    }
   },
   "outputs": [
    {
     "name": "stderr",
     "output_type": "stream",
     "text": [
      "NOTE: 156 observations removed because of NA and infinite values (RHS: 126, IV: 74/130).\n",
      "\n"
     ]
    },
    {
     "data": {
      "text/plain": [
       "TSLS estimation - Dep. Var.: value\n",
       "                  Endo.    : log(deaths)\n",
       "                  Instr.   : C1M_School_closing, median_age, population_density\n",
       "Second stage: Dep. Var.: value\n",
       "Observations: 504\n",
       "Fixed-effects: country: 175,  year: 3\n",
       "Standard-errors: Clustered (country) \n",
       "                                    Estimate Std. Error   t value Pr(>|t|) \n",
       "fit_log(deaths)                     0.006351   0.040036  0.158641  0.87414 \n",
       "C8EV_International_travel_controls -0.028884   0.022614 -1.277251  0.20322 \n",
       "---\n",
       "Signif. codes:  0 '***' 0.001 '**' 0.01 '*' 0.05 '.' 0.1 ' ' 1\n",
       "RMSE: 0.141853     Adj. R2: 0.999526\n",
       "                 Within R2: 0.005951\n",
       "F-test (1st stage), log(deaths): stat = 14.3     , p = 6.098e-9, on 3 and 497 DoF.\n",
       "                     Wu-Hausman: stat =  0.052585, p = 0.818769, on 1 and 324 DoF.\n",
       "                         Sargan: stat =  0.403104, p = 0.817461, on 2 DoF."
      ]
     },
     "metadata": {},
     "output_type": "display_data"
    }
   ],
   "source": [
    "# Тут всё экзогенно\n",
    "import_covid_iv = feols(value ~ 1 + C8EV_International_travel_controls|country + year|\n",
    " log(deaths) ~ #H6M_Facial_Coverings+\n",
    " C1M_School_closing+median_age+population_density,\n",
    " data = df)\n",
    "import_covid_iv %>% summary(vcov = ~country)"
   ]
  },
  {
   "cell_type": "code",
   "execution_count": 21,
   "metadata": {
    "vscode": {
     "languageId": "r"
    }
   },
   "outputs": [
    {
     "name": "stderr",
     "output_type": "stream",
     "text": [
      "NOTE: 156 observations removed because of NA and infinite values (IV: 154/130).\n",
      "\n"
     ]
    },
    {
     "data": {
      "text/plain": [
       "TSLS estimation - Dep. Var.: value\n",
       "                  Endo.    : log(deaths), C8EV_International_travel_controls\n",
       "                  Instr.   : C1M_School_closing, median_age, population_density\n",
       "Second stage: Dep. Var.: value\n",
       "Observations: 504\n",
       "Fixed-effects: country: 175,  year: 3\n",
       "Standard-errors: Clustered (country) \n",
       "                                        Estimate Std. Error   t value Pr(>|t|) \n",
       "fit_log(deaths)                        -0.002909   0.037538 -0.077500  0.93831 \n",
       "fit_C8EV_International_travel_controls -0.009930   0.095810 -0.103637  0.91758 \n",
       "---\n",
       "Signif. codes:  0 '***' 0.001 '**' 0.01 '*' 0.05 '.' 0.1 ' ' 1\n",
       "RMSE: 0.142025     Adj. R2: 0.999525\n",
       "                 Within R2: 0.00354 \n",
       "F-test (1st stage), log(deaths)                       : stat =  8.55462 , p = 1.508e-5, on 3 and 498 DoF.\n",
       "F-test (1st stage), C8EV_International_travel_controls: stat = 13.3     , p = 2.234e-8, on 3 and 498 DoF.\n",
       "                                            Wu-Hausman: stat =  0.043219, p = 0.957707, on 2 and 323 DoF.\n",
       "                                                Sargan: stat =  0.349302, p = 0.554508, on 1 DoF."
      ]
     },
     "metadata": {},
     "output_type": "display_data"
    }
   ],
   "source": [
    "import_all_iv = feols(value ~ 1 |country + year|\n",
    " log(deaths) + C8EV_International_travel_controls ~ #H6M_Facial_Coverings+\n",
    " C1M_School_closing+median_age+population_density,\n",
    " data = df)\n",
    "import_all_iv %>% summary(vcov = ~country)"
   ]
  },
  {
   "cell_type": "code",
   "execution_count": 24,
   "metadata": {
    "vscode": {
     "languageId": "r"
    }
   },
   "outputs": [
    {
     "name": "stderr",
     "output_type": "stream",
     "text": [
      "NOTE: 154 observations removed because of NA and infinite values (RHS: 154).\n",
      "\n"
     ]
    },
    {
     "data": {
      "text/plain": [
       "OLS estimation, Dep. Var.: value\n",
       "Observations: 506\n",
       "Fixed-effects: country: 175\n",
       "Standard-errors: Clustered (country) \n",
       "                                             Estimate Std. Error    t value\n",
       "year2021                                    -1.126174   0.080742 -13.947839\n",
       "year2022                                    -7.154620   0.098653 -72.523242\n",
       "year2020:log(deaths)                        -0.020088   0.010659  -1.884583\n",
       "year2021:log(deaths)                         0.005541   0.010508   0.527290\n",
       "year2022:log(deaths)                         0.015720   0.011056   1.421793\n",
       "year2020:C8EV_International_travel_controls -0.030939   0.035794  -0.864373\n",
       "year2021:C8EV_International_travel_controls  0.009248   0.016513   0.560043\n",
       "year2022:C8EV_International_travel_controls -0.090944   0.076861  -1.183225\n",
       "                                             Pr(>|t|)    \n",
       "year2021                                    < 2.2e-16 ***\n",
       "year2022                                    < 2.2e-16 ***\n",
       "year2020:log(deaths)                         0.061154 .  \n",
       "year2021:log(deaths)                         0.598664    \n",
       "year2022:log(deaths)                         0.156876    \n",
       "year2020:C8EV_International_travel_controls  0.388573    \n",
       "year2021:C8EV_International_travel_controls  0.576170    \n",
       "year2022:C8EV_International_travel_controls  0.238334    \n",
       "---\n",
       "Signif. codes:  0 '***' 0.001 '**' 0.01 '*' 0.05 '.' 0.1 ' ' 1\n",
       "RMSE: 0.13623     Adj. R2: 0.99956 \n",
       "                Within R2: 0.998133"
      ]
     },
     "metadata": {},
     "output_type": "display_data"
    },
    {
     "name": "stderr",
     "output_type": "stream",
     "text": [
      "NOTE: 154 observations removed because of NA and infinite values (RHS: 154).\n",
      "\n"
     ]
    },
    {
     "data": {
      "text/plain": [
       "OLS estimation, Dep. Var.: value\n",
       "Observations: 506\n",
       "Fixed-effects: country: 175\n",
       "Standard-errors: Clustered (country) \n",
       "                                    Estimate Std. Error     t value  Pr(>|t|)\n",
       "year2021                           -1.032285   0.019068  -54.135732 < 2.2e-16\n",
       "year2022                           -7.174034   0.057507 -124.750797 < 2.2e-16\n",
       "C8EV_International_travel_controls -0.016332   0.024220   -0.674310  0.501009\n",
       "year2020:log(deaths)               -0.021635   0.009955   -2.173333  0.031107\n",
       "year2021:log(deaths)                0.003958   0.009783    0.404542  0.686311\n",
       "year2022:log(deaths)                0.018732   0.010745    1.743343  0.083040\n",
       "                                      \n",
       "year2021                           ***\n",
       "year2022                           ***\n",
       "C8EV_International_travel_controls    \n",
       "year2020:log(deaths)               *  \n",
       "year2021:log(deaths)                  \n",
       "year2022:log(deaths)               .  \n",
       "---\n",
       "Signif. codes:  0 '***' 0.001 '**' 0.01 '*' 0.05 '.' 0.1 ' ' 1\n",
       "RMSE: 0.13763     Adj. R2: 0.999554\n",
       "                Within R2: 0.998095"
      ]
     },
     "metadata": {},
     "output_type": "display_data"
    }
   ],
   "source": [
    "# Гетерогенность во времени\n",
    "import_time_effects = feols(value ~ year/log(deaths) + year/C8EV_International_travel_controls| country,\n",
    " data = df)\n",
    "import_time_effects %>% summary(vcov = ~country)\n",
    "\n",
    "feols(value ~ year/log(deaths) + C8EV_International_travel_controls| country,\n",
    " data = df) %>% summary(vcov = ~country)"
   ]
  },
  {
   "cell_type": "code",
   "execution_count": 25,
   "metadata": {
    "vscode": {
     "languageId": "r"
    }
   },
   "outputs": [
    {
     "name": "stderr",
     "output_type": "stream",
     "text": [
      "NOTE: 74 observations removed because of NA and infinite values (RHS: 74).\n",
      "\n"
     ]
    },
    {
     "data": {
      "text/plain": [
       "OLS estimation, Dep. Var.: value\n",
       "Observations: 586\n",
       "Fixed-effects: country: 210\n",
       "Standard-errors: Clustered (country) \n",
       "                      Estimate Std. Error     t value  Pr(>|t|)    \n",
       "year2021             -1.027164   0.018067  -56.854173 < 2.2e-16 ***\n",
       "year2022             -7.129887   0.023213 -307.156798 < 2.2e-16 ***\n",
       "year2020:log(deaths) -0.023164   0.009653   -2.399645  0.017288 *  \n",
       "year2021:log(deaths)  0.004835   0.009471    0.510539  0.610213    \n",
       "year2022:log(deaths)  0.023108   0.009383    2.462635  0.014601 *  \n",
       "---\n",
       "Signif. codes:  0 '***' 0.001 '**' 0.01 '*' 0.05 '.' 0.1 ' ' 1\n",
       "RMSE: 0.138456     Adj. R2: 0.999556\n",
       "                 Within R2: 0.998038"
      ]
     },
     "metadata": {},
     "output_type": "display_data"
    }
   ],
   "source": [
    "# Гетерогенность во времени\n",
    "import_covid_time_effects = feols(value ~ year/log(deaths)| country,\n",
    " data = df)\n",
    "import_covid_time_effects %>% summary(vcov = ~country)\n",
    "# Ядро крашится почему-то\n",
    "# feols(value ~ 1| country|\n",
    "# year/log(deaths)~C1M_School_closing+median_age+population_density,\n",
    "#  data = df) %>% summary(vcov = ~country)"
   ]
  },
  {
   "cell_type": "code",
   "execution_count": 26,
   "metadata": {
    "vscode": {
     "languageId": "r"
    }
   },
   "outputs": [
    {
     "data": {
      "text/html": [
       "<table class=\"dataframe\">\n",
       "<caption>A etable_df: 20 × 7</caption>\n",
       "<thead>\n",
       "\t<tr><th></th><th scope=col></th><th scope=col>import_pulled..</th><th scope=col>import_fe_ols</th><th scope=col>import_covid_iv</th><th scope=col>import_all_iv</th><th scope=col>import_time_effe..</th><th scope=col>import_covid_tim..</th></tr>\n",
       "\t<tr><th></th><th scope=col>&lt;chr&gt;</th><th scope=col>&lt;chr&gt;</th><th scope=col>&lt;chr&gt;</th><th scope=col>&lt;chr&gt;</th><th scope=col>&lt;chr&gt;</th><th scope=col>&lt;chr&gt;</th><th scope=col>&lt;chr&gt;</th></tr>\n",
       "</thead>\n",
       "<tbody>\n",
       "\t<tr><th scope=row>1</th><td>Dependent Var.:                              </td><td>value          </td><td>value           </td><td>value           </td><td>value           </td><td>value             </td><td>value             </td></tr>\n",
       "\t<tr><th scope=row>2</th><td>                                             </td><td>               </td><td>                </td><td>                </td><td>                </td><td>                  </td><td>                  </td></tr>\n",
       "\t<tr><th scope=row>3</th><td>log(deaths)                                  </td><td>0.1492 (0.2736)</td><td>-0.0011 (0.0087)</td><td>0.0064 (0.0400) </td><td>-0.0029 (0.0375)</td><td>                  </td><td>                  </td></tr>\n",
       "\t<tr><th scope=row>4</th><td>C8EV_International_travel_controls           </td><td>0.6925 (0.7833)</td><td>-0.0325 (0.0208)</td><td>-0.0289 (0.0226)</td><td>-0.0099 (0.0958)</td><td>                  </td><td>                  </td></tr>\n",
       "\t<tr><th scope=row>5</th><td>year2021                                     </td><td>               </td><td>                </td><td>                </td><td>                </td><td>-1.126*** (0.0807)</td><td>-1.027*** (0.0181)</td></tr>\n",
       "\t<tr><th scope=row>6</th><td>year2022                                     </td><td>               </td><td>                </td><td>                </td><td>                </td><td>-7.155*** (0.0987)</td><td>-7.130*** (0.0232)</td></tr>\n",
       "\t<tr><th scope=row>7</th><td>year2020 x log(deaths)                       </td><td>               </td><td>                </td><td>                </td><td>                </td><td>-0.0201. (0.0107) </td><td>-0.0232* (0.0097) </td></tr>\n",
       "\t<tr><th scope=row>8</th><td>year2021 x log(deaths)                       </td><td>               </td><td>                </td><td>                </td><td>                </td><td>0.0055 (0.0105)   </td><td>0.0048 (0.0095)   </td></tr>\n",
       "\t<tr><th scope=row>9</th><td>year2022 x log(deaths)                       </td><td>               </td><td>                </td><td>                </td><td>                </td><td>0.0157 (0.0111)   </td><td>0.0231* (0.0094)  </td></tr>\n",
       "\t<tr><th scope=row>10</th><td>year2020 x C8EV_International_travel_controls</td><td>               </td><td>                </td><td>                </td><td>                </td><td>-0.0309 (0.0358)  </td><td>                  </td></tr>\n",
       "\t<tr><th scope=row>11</th><td>year2021 x C8EV_International_travel_controls</td><td>               </td><td>                </td><td>                </td><td>                </td><td>0.0092 (0.0165)   </td><td>                  </td></tr>\n",
       "\t<tr><th scope=row>12</th><td>year2022 x C8EV_International_travel_controls</td><td>               </td><td>                </td><td>                </td><td>                </td><td>-0.0909 (0.0769)  </td><td>                  </td></tr>\n",
       "\t<tr><th scope=row>13</th><td>Fixed-Effects:                               </td><td>---------------</td><td>----------------</td><td>----------------</td><td>----------------</td><td>------------------</td><td>------------------</td></tr>\n",
       "\t<tr><th scope=row>14</th><td>year                                         </td><td>Yes            </td><td>Yes             </td><td>Yes             </td><td>Yes             </td><td>No                </td><td>No                </td></tr>\n",
       "\t<tr><th scope=row>15</th><td>country                                      </td><td>No             </td><td>Yes             </td><td>Yes             </td><td>Yes             </td><td>Yes               </td><td>Yes               </td></tr>\n",
       "\t<tr><th scope=row>16</th><td>________________________________________     </td><td>_______________</td><td>________________</td><td>________________</td><td>________________</td><td>__________________</td><td>__________________</td></tr>\n",
       "\t<tr><th scope=row>17</th><td>S.E.: Clustered                              </td><td>by: country    </td><td>by: country     </td><td>by: country     </td><td>by: country     </td><td>by: country       </td><td>by: country       </td></tr>\n",
       "\t<tr><th scope=row>18</th><td>Observations                                 </td><td>506            </td><td>506             </td><td>504             </td><td>504             </td><td>506               </td><td>586               </td></tr>\n",
       "\t<tr><th scope=row>19</th><td>R2                                           </td><td>0.16613        </td><td>0.99970         </td><td>0.99969         </td><td>0.99969         </td><td>0.99972           </td><td>0.99972           </td></tr>\n",
       "\t<tr><th scope=row>20</th><td>Within R2                                    </td><td>0.00441        </td><td>0.00801         </td><td>0.00595         </td><td>0.00354         </td><td>0.99813           </td><td>0.99804           </td></tr>\n",
       "</tbody>\n",
       "</table>\n"
      ],
      "text/latex": [
       "A etable\\_df: 20 × 7\n",
       "\\begin{tabular}{r|lllllll}\n",
       "  &  & import\\_pulled.. & import\\_fe\\_ols & import\\_covid\\_iv & import\\_all\\_iv & import\\_time\\_effe.. & import\\_covid\\_tim..\\\\\n",
       "  & <chr> & <chr> & <chr> & <chr> & <chr> & <chr> & <chr>\\\\\n",
       "\\hline\n",
       "\t1 & Dependent Var.:                               & value           & value            & value            & value            & value              & value             \\\\\n",
       "\t2 &                                               &                 &                  &                  &                  &                    &                   \\\\\n",
       "\t3 & log(deaths)                                   & 0.1492 (0.2736) & -0.0011 (0.0087) & 0.0064 (0.0400)  & -0.0029 (0.0375) &                    &                   \\\\\n",
       "\t4 & C8EV\\_International\\_travel\\_controls            & 0.6925 (0.7833) & -0.0325 (0.0208) & -0.0289 (0.0226) & -0.0099 (0.0958) &                    &                   \\\\\n",
       "\t5 & year2021                                      &                 &                  &                  &                  & -1.126*** (0.0807) & -1.027*** (0.0181)\\\\\n",
       "\t6 & year2022                                      &                 &                  &                  &                  & -7.155*** (0.0987) & -7.130*** (0.0232)\\\\\n",
       "\t7 & year2020 x log(deaths)                        &                 &                  &                  &                  & -0.0201. (0.0107)  & -0.0232* (0.0097) \\\\\n",
       "\t8 & year2021 x log(deaths)                        &                 &                  &                  &                  & 0.0055 (0.0105)    & 0.0048 (0.0095)   \\\\\n",
       "\t9 & year2022 x log(deaths)                        &                 &                  &                  &                  & 0.0157 (0.0111)    & 0.0231* (0.0094)  \\\\\n",
       "\t10 & year2020 x C8EV\\_International\\_travel\\_controls &                 &                  &                  &                  & -0.0309 (0.0358)   &                   \\\\\n",
       "\t11 & year2021 x C8EV\\_International\\_travel\\_controls &                 &                  &                  &                  & 0.0092 (0.0165)    &                   \\\\\n",
       "\t12 & year2022 x C8EV\\_International\\_travel\\_controls &                 &                  &                  &                  & -0.0909 (0.0769)   &                   \\\\\n",
       "\t13 & Fixed-Effects:                                & --------------- & ---------------- & ---------------- & ---------------- & ------------------ & ------------------\\\\\n",
       "\t14 & year                                          & Yes             & Yes              & Yes              & Yes              & No                 & No                \\\\\n",
       "\t15 & country                                       & No              & Yes              & Yes              & Yes              & Yes                & Yes               \\\\\n",
       "\t16 & \\_\\_\\_\\_\\_\\_\\_\\_\\_\\_\\_\\_\\_\\_\\_\\_\\_\\_\\_\\_\\_\\_\\_\\_\\_\\_\\_\\_\\_\\_\\_\\_\\_\\_\\_\\_\\_\\_\\_\\_      & \\_\\_\\_\\_\\_\\_\\_\\_\\_\\_\\_\\_\\_\\_\\_ & \\_\\_\\_\\_\\_\\_\\_\\_\\_\\_\\_\\_\\_\\_\\_\\_ & \\_\\_\\_\\_\\_\\_\\_\\_\\_\\_\\_\\_\\_\\_\\_\\_ & \\_\\_\\_\\_\\_\\_\\_\\_\\_\\_\\_\\_\\_\\_\\_\\_ & \\_\\_\\_\\_\\_\\_\\_\\_\\_\\_\\_\\_\\_\\_\\_\\_\\_\\_ & \\_\\_\\_\\_\\_\\_\\_\\_\\_\\_\\_\\_\\_\\_\\_\\_\\_\\_\\\\\n",
       "\t17 & S.E.: Clustered                               & by: country     & by: country      & by: country      & by: country      & by: country        & by: country       \\\\\n",
       "\t18 & Observations                                  & 506             & 506              & 504              & 504              & 506                & 586               \\\\\n",
       "\t19 & R2                                            & 0.16613         & 0.99970          & 0.99969          & 0.99969          & 0.99972            & 0.99972           \\\\\n",
       "\t20 & Within R2                                     & 0.00441         & 0.00801          & 0.00595          & 0.00354          & 0.99813            & 0.99804           \\\\\n",
       "\\end{tabular}\n"
      ],
      "text/markdown": [
       "\n",
       "A etable_df: 20 × 7\n",
       "\n",
       "| <!--/--> | <!----> &lt;chr&gt; | import_pulled.. &lt;chr&gt; | import_fe_ols &lt;chr&gt; | import_covid_iv &lt;chr&gt; | import_all_iv &lt;chr&gt; | import_time_effe.. &lt;chr&gt; | import_covid_tim.. &lt;chr&gt; |\n",
       "|---|---|---|---|---|---|---|---|\n",
       "| 1 | Dependent Var.:                               | value           | value            | value            | value            | value              | value              |\n",
       "| 2 | <!----> | <!----> | <!----> | <!----> | <!----> | <!----> | <!----> |\n",
       "| 3 | log(deaths)                                   | 0.1492 (0.2736) | -0.0011 (0.0087) | 0.0064 (0.0400)  | -0.0029 (0.0375) | <!----> | <!----> |\n",
       "| 4 | C8EV_International_travel_controls            | 0.6925 (0.7833) | -0.0325 (0.0208) | -0.0289 (0.0226) | -0.0099 (0.0958) | <!----> | <!----> |\n",
       "| 5 | year2021                                      | <!----> | <!----> | <!----> | <!----> | -1.126*** (0.0807) | -1.027*** (0.0181) |\n",
       "| 6 | year2022                                      | <!----> | <!----> | <!----> | <!----> | -7.155*** (0.0987) | -7.130*** (0.0232) |\n",
       "| 7 | year2020 x log(deaths)                        | <!----> | <!----> | <!----> | <!----> | -0.0201. (0.0107)  | -0.0232* (0.0097)  |\n",
       "| 8 | year2021 x log(deaths)                        | <!----> | <!----> | <!----> | <!----> | 0.0055 (0.0105)    | 0.0048 (0.0095)    |\n",
       "| 9 | year2022 x log(deaths)                        | <!----> | <!----> | <!----> | <!----> | 0.0157 (0.0111)    | 0.0231* (0.0094)   |\n",
       "| 10 | year2020 x C8EV_International_travel_controls | <!----> | <!----> | <!----> | <!----> | -0.0309 (0.0358)   | <!----> |\n",
       "| 11 | year2021 x C8EV_International_travel_controls | <!----> | <!----> | <!----> | <!----> | 0.0092 (0.0165)    | <!----> |\n",
       "| 12 | year2022 x C8EV_International_travel_controls | <!----> | <!----> | <!----> | <!----> | -0.0909 (0.0769)   | <!----> |\n",
       "| 13 | Fixed-Effects:                                | --------------- | ---------------- | ---------------- | ---------------- | ------------------ | ------------------ |\n",
       "| 14 | year                                          | Yes             | Yes              | Yes              | Yes              | No                 | No                 |\n",
       "| 15 | country                                       | No              | Yes              | Yes              | Yes              | Yes                | Yes                |\n",
       "| 16 | ________________________________________      | _______________ | ________________ | ________________ | ________________ | __________________ | __________________ |\n",
       "| 17 | S.E.: Clustered                               | by: country     | by: country      | by: country      | by: country      | by: country        | by: country        |\n",
       "| 18 | Observations                                  | 506             | 506              | 504              | 504              | 506                | 586                |\n",
       "| 19 | R2                                            | 0.16613         | 0.99970          | 0.99969          | 0.99969          | 0.99972            | 0.99972            |\n",
       "| 20 | Within R2                                     | 0.00441         | 0.00801          | 0.00595          | 0.00354          | 0.99813            | 0.99804            |\n",
       "\n"
      ],
      "text/plain": [
       "                                                 import_pulled..\n",
       "1  Dependent Var.:                               value          \n",
       "2                                                               \n",
       "3  log(deaths)                                   0.1492 (0.2736)\n",
       "4  C8EV_International_travel_controls            0.6925 (0.7833)\n",
       "5  year2021                                                     \n",
       "6  year2022                                                     \n",
       "7  year2020 x log(deaths)                                       \n",
       "8  year2021 x log(deaths)                                       \n",
       "9  year2022 x log(deaths)                                       \n",
       "10 year2020 x C8EV_International_travel_controls                \n",
       "11 year2021 x C8EV_International_travel_controls                \n",
       "12 year2022 x C8EV_International_travel_controls                \n",
       "13 Fixed-Effects:                                ---------------\n",
       "14 year                                          Yes            \n",
       "15 country                                       No             \n",
       "16 ________________________________________      _______________\n",
       "17 S.E.: Clustered                               by: country    \n",
       "18 Observations                                  506            \n",
       "19 R2                                            0.16613        \n",
       "20 Within R2                                     0.00441        \n",
       "   import_fe_ols    import_covid_iv  import_all_iv    import_time_effe..\n",
       "1  value            value            value            value             \n",
       "2                                                                       \n",
       "3  -0.0011 (0.0087) 0.0064 (0.0400)  -0.0029 (0.0375)                   \n",
       "4  -0.0325 (0.0208) -0.0289 (0.0226) -0.0099 (0.0958)                   \n",
       "5                                                     -1.126*** (0.0807)\n",
       "6                                                     -7.155*** (0.0987)\n",
       "7                                                     -0.0201. (0.0107) \n",
       "8                                                     0.0055 (0.0105)   \n",
       "9                                                     0.0157 (0.0111)   \n",
       "10                                                    -0.0309 (0.0358)  \n",
       "11                                                    0.0092 (0.0165)   \n",
       "12                                                    -0.0909 (0.0769)  \n",
       "13 ---------------- ---------------- ---------------- ------------------\n",
       "14 Yes              Yes              Yes              No                \n",
       "15 Yes              Yes              Yes              Yes               \n",
       "16 ________________ ________________ ________________ __________________\n",
       "17 by: country      by: country      by: country      by: country       \n",
       "18 506              504              504              506               \n",
       "19 0.99970          0.99969          0.99969          0.99972           \n",
       "20 0.00801          0.00595          0.00354          0.99813           \n",
       "   import_covid_tim..\n",
       "1  value             \n",
       "2                    \n",
       "3                    \n",
       "4                    \n",
       "5  -1.027*** (0.0181)\n",
       "6  -7.130*** (0.0232)\n",
       "7  -0.0232* (0.0097) \n",
       "8  0.0048 (0.0095)   \n",
       "9  0.0231* (0.0094)  \n",
       "10                   \n",
       "11                   \n",
       "12                   \n",
       "13 ------------------\n",
       "14 No                \n",
       "15 Yes               \n",
       "16 __________________\n",
       "17 by: country       \n",
       "18 586               \n",
       "19 0.99972           \n",
       "20 0.99804           "
      ]
     },
     "metadata": {},
     "output_type": "display_data"
    }
   ],
   "source": [
    "# Здесь это точно не осмысленно использовать кластеризацию по годам.\n",
    "# С кластеризацией по странам есть значимость только у ограничений на поездки. \n",
    "# На инструменты пока смотреть не стоит, потому что они слабые.\n",
    "etable(import_pulled_ols, import_fe_ols, import_covid_iv, import_all_iv, import_time_effects, import_covid_time_effects, vcov = ~country)"
   ]
  },
  {
   "cell_type": "code",
   "execution_count": 27,
   "metadata": {
    "vscode": {
     "languageId": "r"
    }
   },
   "outputs": [
    {
     "data": {
      "text/html": [
       "<table class=\"dataframe\">\n",
       "<caption>A etable_df: 20 × 7</caption>\n",
       "<thead>\n",
       "\t<tr><th></th><th scope=col></th><th scope=col>import_pulled..</th><th scope=col>import_fe_ols</th><th scope=col>import_covid_iv</th><th scope=col>import_all_iv</th><th scope=col>import_time_effe..</th><th scope=col>import_covid_tim..</th></tr>\n",
       "\t<tr><th></th><th scope=col>&lt;chr&gt;</th><th scope=col>&lt;chr&gt;</th><th scope=col>&lt;chr&gt;</th><th scope=col>&lt;chr&gt;</th><th scope=col>&lt;chr&gt;</th><th scope=col>&lt;chr&gt;</th><th scope=col>&lt;chr&gt;</th></tr>\n",
       "</thead>\n",
       "<tbody>\n",
       "\t<tr><th scope=row>1</th><td>Dependent Var.:                              </td><td>value          </td><td>value           </td><td>value           </td><td>value           </td><td>value             </td><td>value             </td></tr>\n",
       "\t<tr><th scope=row>2</th><td>                                             </td><td>               </td><td>                </td><td>                </td><td>                </td><td>                  </td><td>                  </td></tr>\n",
       "\t<tr><th scope=row>3</th><td>log(deaths)                                  </td><td>0.1492 (0.2555)</td><td>-0.0011 (0.0087)</td><td>0.0064 (0.0406) </td><td>-0.0029 (0.0368)</td><td>                  </td><td>                  </td></tr>\n",
       "\t<tr><th scope=row>4</th><td>C8EV_International_travel_controls           </td><td>0.6925 (0.8375)</td><td>-0.0325 (0.0231)</td><td>-0.0289 (0.0236)</td><td>-0.0099 (0.0994)</td><td>                  </td><td>                  </td></tr>\n",
       "\t<tr><th scope=row>5</th><td>year2021                                     </td><td>               </td><td>                </td><td>                </td><td>                </td><td>-1.126** (0.0810) </td><td>-1.027*** (0.0193)</td></tr>\n",
       "\t<tr><th scope=row>6</th><td>year2022                                     </td><td>               </td><td>                </td><td>                </td><td>                </td><td>-7.155*** (0.0928)</td><td>-7.130*** (0.0218)</td></tr>\n",
       "\t<tr><th scope=row>7</th><td>year2020 x log(deaths)                       </td><td>               </td><td>                </td><td>                </td><td>                </td><td>-0.0201 (0.0103)  </td><td>-0.0232 (0.0095)  </td></tr>\n",
       "\t<tr><th scope=row>8</th><td>year2021 x log(deaths)                       </td><td>               </td><td>                </td><td>                </td><td>                </td><td>0.0055 (0.0114)   </td><td>0.0048 (0.0104)   </td></tr>\n",
       "\t<tr><th scope=row>9</th><td>year2022 x log(deaths)                       </td><td>               </td><td>                </td><td>                </td><td>                </td><td>0.0157 (0.0110)   </td><td>0.0231 (0.0093)   </td></tr>\n",
       "\t<tr><th scope=row>10</th><td>year2020 x C8EV_International_travel_controls</td><td>               </td><td>                </td><td>                </td><td>                </td><td>-0.0309 (0.0345)  </td><td>                  </td></tr>\n",
       "\t<tr><th scope=row>11</th><td>year2021 x C8EV_International_travel_controls</td><td>               </td><td>                </td><td>                </td><td>                </td><td>0.0092 (0.0223)   </td><td>                  </td></tr>\n",
       "\t<tr><th scope=row>12</th><td>year2022 x C8EV_International_travel_controls</td><td>               </td><td>                </td><td>                </td><td>                </td><td>-0.0909 (0.0757)  </td><td>                  </td></tr>\n",
       "\t<tr><th scope=row>13</th><td>Fixed-Effects:                               </td><td>---------------</td><td>----------------</td><td>----------------</td><td>----------------</td><td>------------------</td><td>------------------</td></tr>\n",
       "\t<tr><th scope=row>14</th><td>year                                         </td><td>Yes            </td><td>Yes             </td><td>Yes             </td><td>Yes             </td><td>No                </td><td>No                </td></tr>\n",
       "\t<tr><th scope=row>15</th><td>country                                      </td><td>No             </td><td>Yes             </td><td>Yes             </td><td>Yes             </td><td>Yes               </td><td>Yes               </td></tr>\n",
       "\t<tr><th scope=row>16</th><td>________________________________________     </td><td>_______________</td><td>________________</td><td>________________</td><td>________________</td><td>__________________</td><td>__________________</td></tr>\n",
       "\t<tr><th scope=row>17</th><td>S.E. type                                    </td><td>New.-West (L=1)</td><td>Newey-West (L=1)</td><td>Newey-West (L=1)</td><td>Newey-West (L=1)</td><td>Newey-West (L=1)  </td><td>Newey-West (L=1)  </td></tr>\n",
       "\t<tr><th scope=row>18</th><td>Observations                                 </td><td>506            </td><td>506             </td><td>504             </td><td>504             </td><td>506               </td><td>586               </td></tr>\n",
       "\t<tr><th scope=row>19</th><td>R2                                           </td><td>0.16613        </td><td>0.99970         </td><td>0.99969         </td><td>0.99969         </td><td>0.99972           </td><td>0.99972           </td></tr>\n",
       "\t<tr><th scope=row>20</th><td>Within R2                                    </td><td>0.00441        </td><td>0.00801         </td><td>0.00595         </td><td>0.00354         </td><td>0.99813           </td><td>0.99804           </td></tr>\n",
       "</tbody>\n",
       "</table>\n"
      ],
      "text/latex": [
       "A etable\\_df: 20 × 7\n",
       "\\begin{tabular}{r|lllllll}\n",
       "  &  & import\\_pulled.. & import\\_fe\\_ols & import\\_covid\\_iv & import\\_all\\_iv & import\\_time\\_effe.. & import\\_covid\\_tim..\\\\\n",
       "  & <chr> & <chr> & <chr> & <chr> & <chr> & <chr> & <chr>\\\\\n",
       "\\hline\n",
       "\t1 & Dependent Var.:                               & value           & value            & value            & value            & value              & value             \\\\\n",
       "\t2 &                                               &                 &                  &                  &                  &                    &                   \\\\\n",
       "\t3 & log(deaths)                                   & 0.1492 (0.2555) & -0.0011 (0.0087) & 0.0064 (0.0406)  & -0.0029 (0.0368) &                    &                   \\\\\n",
       "\t4 & C8EV\\_International\\_travel\\_controls            & 0.6925 (0.8375) & -0.0325 (0.0231) & -0.0289 (0.0236) & -0.0099 (0.0994) &                    &                   \\\\\n",
       "\t5 & year2021                                      &                 &                  &                  &                  & -1.126** (0.0810)  & -1.027*** (0.0193)\\\\\n",
       "\t6 & year2022                                      &                 &                  &                  &                  & -7.155*** (0.0928) & -7.130*** (0.0218)\\\\\n",
       "\t7 & year2020 x log(deaths)                        &                 &                  &                  &                  & -0.0201 (0.0103)   & -0.0232 (0.0095)  \\\\\n",
       "\t8 & year2021 x log(deaths)                        &                 &                  &                  &                  & 0.0055 (0.0114)    & 0.0048 (0.0104)   \\\\\n",
       "\t9 & year2022 x log(deaths)                        &                 &                  &                  &                  & 0.0157 (0.0110)    & 0.0231 (0.0093)   \\\\\n",
       "\t10 & year2020 x C8EV\\_International\\_travel\\_controls &                 &                  &                  &                  & -0.0309 (0.0345)   &                   \\\\\n",
       "\t11 & year2021 x C8EV\\_International\\_travel\\_controls &                 &                  &                  &                  & 0.0092 (0.0223)    &                   \\\\\n",
       "\t12 & year2022 x C8EV\\_International\\_travel\\_controls &                 &                  &                  &                  & -0.0909 (0.0757)   &                   \\\\\n",
       "\t13 & Fixed-Effects:                                & --------------- & ---------------- & ---------------- & ---------------- & ------------------ & ------------------\\\\\n",
       "\t14 & year                                          & Yes             & Yes              & Yes              & Yes              & No                 & No                \\\\\n",
       "\t15 & country                                       & No              & Yes              & Yes              & Yes              & Yes                & Yes               \\\\\n",
       "\t16 & \\_\\_\\_\\_\\_\\_\\_\\_\\_\\_\\_\\_\\_\\_\\_\\_\\_\\_\\_\\_\\_\\_\\_\\_\\_\\_\\_\\_\\_\\_\\_\\_\\_\\_\\_\\_\\_\\_\\_\\_      & \\_\\_\\_\\_\\_\\_\\_\\_\\_\\_\\_\\_\\_\\_\\_ & \\_\\_\\_\\_\\_\\_\\_\\_\\_\\_\\_\\_\\_\\_\\_\\_ & \\_\\_\\_\\_\\_\\_\\_\\_\\_\\_\\_\\_\\_\\_\\_\\_ & \\_\\_\\_\\_\\_\\_\\_\\_\\_\\_\\_\\_\\_\\_\\_\\_ & \\_\\_\\_\\_\\_\\_\\_\\_\\_\\_\\_\\_\\_\\_\\_\\_\\_\\_ & \\_\\_\\_\\_\\_\\_\\_\\_\\_\\_\\_\\_\\_\\_\\_\\_\\_\\_\\\\\n",
       "\t17 & S.E. type                                     & New.-West (L=1) & Newey-West (L=1) & Newey-West (L=1) & Newey-West (L=1) & Newey-West (L=1)   & Newey-West (L=1)  \\\\\n",
       "\t18 & Observations                                  & 506             & 506              & 504              & 504              & 506                & 586               \\\\\n",
       "\t19 & R2                                            & 0.16613         & 0.99970          & 0.99969          & 0.99969          & 0.99972            & 0.99972           \\\\\n",
       "\t20 & Within R2                                     & 0.00441         & 0.00801          & 0.00595          & 0.00354          & 0.99813            & 0.99804           \\\\\n",
       "\\end{tabular}\n"
      ],
      "text/markdown": [
       "\n",
       "A etable_df: 20 × 7\n",
       "\n",
       "| <!--/--> | <!----> &lt;chr&gt; | import_pulled.. &lt;chr&gt; | import_fe_ols &lt;chr&gt; | import_covid_iv &lt;chr&gt; | import_all_iv &lt;chr&gt; | import_time_effe.. &lt;chr&gt; | import_covid_tim.. &lt;chr&gt; |\n",
       "|---|---|---|---|---|---|---|---|\n",
       "| 1 | Dependent Var.:                               | value           | value            | value            | value            | value              | value              |\n",
       "| 2 | <!----> | <!----> | <!----> | <!----> | <!----> | <!----> | <!----> |\n",
       "| 3 | log(deaths)                                   | 0.1492 (0.2555) | -0.0011 (0.0087) | 0.0064 (0.0406)  | -0.0029 (0.0368) | <!----> | <!----> |\n",
       "| 4 | C8EV_International_travel_controls            | 0.6925 (0.8375) | -0.0325 (0.0231) | -0.0289 (0.0236) | -0.0099 (0.0994) | <!----> | <!----> |\n",
       "| 5 | year2021                                      | <!----> | <!----> | <!----> | <!----> | -1.126** (0.0810)  | -1.027*** (0.0193) |\n",
       "| 6 | year2022                                      | <!----> | <!----> | <!----> | <!----> | -7.155*** (0.0928) | -7.130*** (0.0218) |\n",
       "| 7 | year2020 x log(deaths)                        | <!----> | <!----> | <!----> | <!----> | -0.0201 (0.0103)   | -0.0232 (0.0095)   |\n",
       "| 8 | year2021 x log(deaths)                        | <!----> | <!----> | <!----> | <!----> | 0.0055 (0.0114)    | 0.0048 (0.0104)    |\n",
       "| 9 | year2022 x log(deaths)                        | <!----> | <!----> | <!----> | <!----> | 0.0157 (0.0110)    | 0.0231 (0.0093)    |\n",
       "| 10 | year2020 x C8EV_International_travel_controls | <!----> | <!----> | <!----> | <!----> | -0.0309 (0.0345)   | <!----> |\n",
       "| 11 | year2021 x C8EV_International_travel_controls | <!----> | <!----> | <!----> | <!----> | 0.0092 (0.0223)    | <!----> |\n",
       "| 12 | year2022 x C8EV_International_travel_controls | <!----> | <!----> | <!----> | <!----> | -0.0909 (0.0757)   | <!----> |\n",
       "| 13 | Fixed-Effects:                                | --------------- | ---------------- | ---------------- | ---------------- | ------------------ | ------------------ |\n",
       "| 14 | year                                          | Yes             | Yes              | Yes              | Yes              | No                 | No                 |\n",
       "| 15 | country                                       | No              | Yes              | Yes              | Yes              | Yes                | Yes                |\n",
       "| 16 | ________________________________________      | _______________ | ________________ | ________________ | ________________ | __________________ | __________________ |\n",
       "| 17 | S.E. type                                     | New.-West (L=1) | Newey-West (L=1) | Newey-West (L=1) | Newey-West (L=1) | Newey-West (L=1)   | Newey-West (L=1)   |\n",
       "| 18 | Observations                                  | 506             | 506              | 504              | 504              | 506                | 586                |\n",
       "| 19 | R2                                            | 0.16613         | 0.99970          | 0.99969          | 0.99969          | 0.99972            | 0.99972            |\n",
       "| 20 | Within R2                                     | 0.00441         | 0.00801          | 0.00595          | 0.00354          | 0.99813            | 0.99804            |\n",
       "\n"
      ],
      "text/plain": [
       "                                                 import_pulled..\n",
       "1  Dependent Var.:                               value          \n",
       "2                                                               \n",
       "3  log(deaths)                                   0.1492 (0.2555)\n",
       "4  C8EV_International_travel_controls            0.6925 (0.8375)\n",
       "5  year2021                                                     \n",
       "6  year2022                                                     \n",
       "7  year2020 x log(deaths)                                       \n",
       "8  year2021 x log(deaths)                                       \n",
       "9  year2022 x log(deaths)                                       \n",
       "10 year2020 x C8EV_International_travel_controls                \n",
       "11 year2021 x C8EV_International_travel_controls                \n",
       "12 year2022 x C8EV_International_travel_controls                \n",
       "13 Fixed-Effects:                                ---------------\n",
       "14 year                                          Yes            \n",
       "15 country                                       No             \n",
       "16 ________________________________________      _______________\n",
       "17 S.E. type                                     New.-West (L=1)\n",
       "18 Observations                                  506            \n",
       "19 R2                                            0.16613        \n",
       "20 Within R2                                     0.00441        \n",
       "   import_fe_ols    import_covid_iv  import_all_iv    import_time_effe..\n",
       "1  value            value            value            value             \n",
       "2                                                                       \n",
       "3  -0.0011 (0.0087) 0.0064 (0.0406)  -0.0029 (0.0368)                   \n",
       "4  -0.0325 (0.0231) -0.0289 (0.0236) -0.0099 (0.0994)                   \n",
       "5                                                     -1.126** (0.0810) \n",
       "6                                                     -7.155*** (0.0928)\n",
       "7                                                     -0.0201 (0.0103)  \n",
       "8                                                     0.0055 (0.0114)   \n",
       "9                                                     0.0157 (0.0110)   \n",
       "10                                                    -0.0309 (0.0345)  \n",
       "11                                                    0.0092 (0.0223)   \n",
       "12                                                    -0.0909 (0.0757)  \n",
       "13 ---------------- ---------------- ---------------- ------------------\n",
       "14 Yes              Yes              Yes              No                \n",
       "15 Yes              Yes              Yes              Yes               \n",
       "16 ________________ ________________ ________________ __________________\n",
       "17 Newey-West (L=1) Newey-West (L=1) Newey-West (L=1) Newey-West (L=1)  \n",
       "18 506              504              504              506               \n",
       "19 0.99970          0.99969          0.99969          0.99972           \n",
       "20 0.00801          0.00595          0.00354          0.99813           \n",
       "   import_covid_tim..\n",
       "1  value             \n",
       "2                    \n",
       "3                    \n",
       "4                    \n",
       "5  -1.027*** (0.0193)\n",
       "6  -7.130*** (0.0218)\n",
       "7  -0.0232 (0.0095)  \n",
       "8  0.0048 (0.0104)   \n",
       "9  0.0231 (0.0093)   \n",
       "10                   \n",
       "11                   \n",
       "12                   \n",
       "13 ------------------\n",
       "14 No                \n",
       "15 Yes               \n",
       "16 __________________\n",
       "17 Newey-West (L=1)  \n",
       "18 586               \n",
       "19 0.99972           \n",
       "20 0.99804           "
      ]
     },
     "metadata": {},
     "output_type": "display_data"
    }
   ],
   "source": [
    "# С НАС ничего не значимо\n",
    "etable(import_pulled_ols, import_fe_ols, import_covid_iv, import_all_iv, import_time_effects, import_covid_time_effects, vcov = vcov_NW(unit = 'country', time = 'year'))"
   ]
  },
  {
   "cell_type": "code",
   "execution_count": 28,
   "metadata": {
    "vscode": {
     "languageId": "r"
    }
   },
   "outputs": [
    {
     "name": "stderr",
     "output_type": "stream",
     "text": [
      "NOTE: 126 observations removed because of NA values (RHS: 126).\n",
      "\n"
     ]
    },
    {
     "data": {
      "text/plain": [
       "OLS estimation, Dep. Var.: value\n",
       "Observations: 534\n",
       "Fixed-effects: country: 178,  year: 3\n",
       "Standard-errors: Newey-West (L=1) \n",
       "                         Estimate Std. Error  t value Pr(>|t|) \n",
       "StringencyIndex_Average -0.002699   0.001079 -2.50267  0.12939 \n",
       "---\n",
       "Signif. codes:  0 '***' 0.001 '**' 0.01 '*' 0.05 '.' 0.1 ' ' 1\n",
       "RMSE: 0.141099     Adj. R2: 0.999541\n",
       "                 Within R2: 0.020914"
      ]
     },
     "metadata": {},
     "output_type": "display_data"
    },
    {
     "data": {
      "text/plain": [
       "OLS estimation, Dep. Var.: value\n",
       "Observations: 534\n",
       "Fixed-effects: country: 178,  year: 3\n",
       "Standard-errors: Clustered (country) \n",
       "                         Estimate Std. Error  t value Pr(>|t|)    \n",
       "StringencyIndex_Average -0.002699   0.001101 -2.45075 0.015228 *  \n",
       "---\n",
       "Signif. codes:  0 '***' 0.001 '**' 0.01 '*' 0.05 '.' 0.1 ' ' 1\n",
       "RMSE: 0.141099     Adj. R2: 0.999541\n",
       "                 Within R2: 0.020914"
      ]
     },
     "metadata": {},
     "output_type": "display_data"
    }
   ],
   "source": [
    "# Реплицирую (Berthou, 2024), но результат не сходится, если использовать ошибки НАС\n",
    "m = feols(value ~ StringencyIndex_Average | country + year,\n",
    " data = df)\n",
    "m %>% summary(vcov = vcov_NW(unit = 'country', time = 'year'))\n",
    "m %>% summary(vcov = ~country)"
   ]
  },
  {
   "cell_type": "markdown",
   "metadata": {},
   "source": [
    "## Суммарный экспорт/импорт"
   ]
  },
  {
   "cell_type": "markdown",
   "metadata": {},
   "source": []
  }
 ],
 "metadata": {
  "kernelspec": {
   "display_name": "R",
   "language": "R",
   "name": "ir"
  },
  "language_info": {
   "codemirror_mode": "r",
   "file_extension": ".r",
   "mimetype": "text/x-r-source",
   "name": "R",
   "pygments_lexer": "r",
   "version": "4.4.1"
  }
 },
 "nbformat": 4,
 "nbformat_minor": 2
}
