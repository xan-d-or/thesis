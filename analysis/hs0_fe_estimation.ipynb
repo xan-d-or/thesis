{
 "cells": [
  {
   "cell_type": "markdown",
   "metadata": {},
   "source": [
    "# Оцениваем регрессии на данных HS0 в спецификациях:\n",
    "- Фиксированные эффекты ~ ковид и ограничения\n",
    "- Фиксированные эффекты ~ ковид и ограничения | инструментальные переменные\n",
    "- В перспективе: суммарный экспорт/импорт в зависимости от ковида (+ IV)"
   ]
  },
  {
   "cell_type": "code",
   "execution_count": 1,
   "metadata": {
    "vscode": {
     "languageId": "r"
    }
   },
   "outputs": [
    {
     "name": "stderr",
     "output_type": "stream",
     "text": [
      "\n",
      "Присоединяю пакет: 'arrow'\n",
      "\n",
      "\n",
      "Следующий объект скрыт от 'package:utils':\n",
      "\n",
      "    timestamp\n",
      "\n",
      "\n",
      "\n",
      "Please cite as: \n",
      "\n",
      "\n",
      " Hlavac, Marek (2022). stargazer: Well-Formatted Regression and Summary Statistics Tables.\n",
      "\n",
      " R package version 5.2.3. https://CRAN.R-project.org/package=stargazer \n",
      "\n",
      "\n",
      "Warning message:\n",
      "\"пакет 'tidyverse' был собран под R версии 4.4.2\"\n",
      "── \u001b[1mAttaching core tidyverse packages\u001b[22m ──────────────────────── tidyverse 2.0.0 ──\n",
      "\u001b[32m✔\u001b[39m \u001b[34mdplyr    \u001b[39m 1.1.4     \u001b[32m✔\u001b[39m \u001b[34mreadr    \u001b[39m 2.1.5\n",
      "\u001b[32m✔\u001b[39m \u001b[34mforcats  \u001b[39m 1.0.0     \u001b[32m✔\u001b[39m \u001b[34mstringr  \u001b[39m 1.5.1\n",
      "\u001b[32m✔\u001b[39m \u001b[34mggplot2  \u001b[39m 3.5.1     \u001b[32m✔\u001b[39m \u001b[34mtibble   \u001b[39m 3.2.1\n",
      "\u001b[32m✔\u001b[39m \u001b[34mlubridate\u001b[39m 1.9.3     \u001b[32m✔\u001b[39m \u001b[34mtidyr    \u001b[39m 1.3.1\n",
      "\u001b[32m✔\u001b[39m \u001b[34mpurrr    \u001b[39m 1.0.2     \n",
      "── \u001b[1mConflicts\u001b[22m ────────────────────────────────────────── tidyverse_conflicts() ──\n",
      "\u001b[31m✖\u001b[39m \u001b[34mlubridate\u001b[39m::\u001b[32mduration()\u001b[39m masks \u001b[34marrow\u001b[39m::duration()\n",
      "\u001b[31m✖\u001b[39m \u001b[34mdplyr\u001b[39m::\u001b[32mfilter()\u001b[39m       masks \u001b[34mstats\u001b[39m::filter()\n",
      "\u001b[31m✖\u001b[39m \u001b[34mdplyr\u001b[39m::\u001b[32mlag()\u001b[39m          masks \u001b[34mstats\u001b[39m::lag()\n",
      "\u001b[36mℹ\u001b[39m Use the conflicted package (\u001b[3m\u001b[34m<http://conflicted.r-lib.org/>\u001b[39m\u001b[23m) to force all conflicts to become errors\n",
      "Warning message:\n",
      "\"пакет 'plotly' был собран под R версии 4.4.2\"\n",
      "\n",
      "Присоединяю пакет: 'plotly'\n",
      "\n",
      "\n",
      "Следующий объект скрыт от 'package:ggplot2':\n",
      "\n",
      "    last_plot\n",
      "\n",
      "\n",
      "Следующий объект скрыт от 'package:arrow':\n",
      "\n",
      "    schema\n",
      "\n",
      "\n",
      "Следующий объект скрыт от 'package:stats':\n",
      "\n",
      "    filter\n",
      "\n",
      "\n",
      "Следующий объект скрыт от 'package:graphics':\n",
      "\n",
      "    layout\n",
      "\n",
      "\n"
     ]
    }
   ],
   "source": [
    "library(arrow)\n",
    "library(stargazer)\n",
    "library(tidyverse)\n",
    "library(plotly)\n",
    "library(fixest)"
   ]
  },
  {
   "cell_type": "markdown",
   "metadata": {},
   "source": [
    "## Фиксированные эффекты"
   ]
  },
  {
   "cell_type": "markdown",
   "metadata": {},
   "source": [
    "### Экспорт\n",
    "\n",
    "+иллюстрирую, зачем тут нужны фиксированные эффекты"
   ]
  },
  {
   "cell_type": "code",
   "execution_count": 31,
   "metadata": {
    "vscode": {
     "languageId": "r"
    }
   },
   "outputs": [
    {
     "data": {
      "text/html": [
       "<table class=\"dataframe\">\n",
       "<caption>A tibble: 6 × 63</caption>\n",
       "<thead>\n",
       "\t<tr><th scope=col>year</th><th scope=col>country</th><th scope=col>value</th><th scope=col>country:r</th><th scope=col>t</th><th scope=col>cases</th><th scope=col>deaths</th><th scope=col>tests</th><th scope=col>C1M_School_closing</th><th scope=col>C2M_Workplace_closing</th><th scope=col>⋯</th><th scope=col>infant_mortality</th><th scope=col>largest_city_share</th><th scope=col>urbanization</th><th scope=col>country:household_size</th><th scope=col>avg_hh_size</th><th scope=col>share_1_members</th><th scope=col>share_2_3_members</th><th scope=col>share_4_5_members</th><th scope=col>year:r</th><th scope=col>SARS_flg</th></tr>\n",
       "\t<tr><th scope=col>&lt;chr&gt;</th><th scope=col>&lt;chr&gt;</th><th scope=col>&lt;dbl&gt;</th><th scope=col>&lt;chr&gt;</th><th scope=col>&lt;int&gt;</th><th scope=col>&lt;dbl&gt;</th><th scope=col>&lt;dbl&gt;</th><th scope=col>&lt;chr&gt;</th><th scope=col>&lt;dbl&gt;</th><th scope=col>&lt;dbl&gt;</th><th scope=col>⋯</th><th scope=col>&lt;dbl&gt;</th><th scope=col>&lt;dbl&gt;</th><th scope=col>&lt;dbl&gt;</th><th scope=col>&lt;chr&gt;</th><th scope=col>&lt;dbl&gt;</th><th scope=col>&lt;dbl&gt;</th><th scope=col>&lt;dbl&gt;</th><th scope=col>&lt;dbl&gt;</th><th scope=col>&lt;chr&gt;</th><th scope=col>&lt;int&gt;</th></tr>\n",
       "</thead>\n",
       "<tbody>\n",
       "\t<tr><td>2020</td><td>SLV</td><td> 4.858130</td><td>SLV</td><td>2020</td><td> 19.6259116</td><td>0.57060773</td><td>NA</td><td>2.426229</td><td>1.4344262</td><td>⋯</td><td>11.0</td><td>24.14867</td><td>17.73575</td><td>SLV</td><td>3.92</td><td> 8.46</td><td>36.01</td><td>37.84</td><td>2020</td><td>0</td></tr>\n",
       "\t<tr><td>2022</td><td>ASM</td><td>-6.219868</td><td>ASM</td><td>2022</td><td>467.6200274</td><td>1.92600000</td><td>NA</td><td>      NA</td><td>       NA</td><td>⋯</td><td>  NA</td><td>      NA</td><td>      NA</td><td>NA </td><td>  NA</td><td>   NA</td><td>   NA</td><td>   NA</td><td>2022</td><td>0</td></tr>\n",
       "\t<tr><td>2020</td><td>BOL</td><td> 5.237020</td><td>BOL</td><td>2020</td><td> 35.1308840</td><td>2.07754144</td><td>NA</td><td>2.418033</td><td>1.8306011</td><td>⋯</td><td>21.0</td><td>22.42107</td><td>41.25143</td><td>BOL</td><td>3.53</td><td>20.34</td><td>34.82</td><td>27.64</td><td>2020</td><td>0</td></tr>\n",
       "\t<tr><td>2020</td><td>SLE</td><td> 2.576115</td><td>SLE</td><td>2020</td><td>  0.8507182</td><td>0.02530387</td><td>NA</td><td>1.606557</td><td>0.2349727</td><td>⋯</td><td>80.3</td><td>35.38844</td><td>15.18978</td><td>SLE</td><td>5.29</td><td> 6.42</td><td>20.52</td><td>33.28</td><td>2020</td><td>0</td></tr>\n",
       "\t<tr><td>2020</td><td>LKA</td><td> 7.712751</td><td>LKA</td><td>2020</td><td>  4.9664917</td><td>0.02309392</td><td>NA</td><td>1.931694</td><td>0.5546448</td><td>⋯</td><td> 6.0</td><td>14.93368</td><td>      NA</td><td>NA </td><td>  NA</td><td>   NA</td><td>   NA</td><td>   NA</td><td>2020</td><td>0</td></tr>\n",
       "\t<tr><td>2022</td><td>ATG</td><td>-4.746044</td><td>ATG</td><td>2022</td><td>143.9042740</td><td>0.82619178</td><td>NA</td><td>      NA</td><td>       NA</td><td>⋯</td><td> 8.1</td><td>      NA</td><td>      NA</td><td>NA </td><td>  NA</td><td>   NA</td><td>   NA</td><td>   NA</td><td>2022</td><td>0</td></tr>\n",
       "</tbody>\n",
       "</table>\n"
      ],
      "text/latex": [
       "A tibble: 6 × 63\n",
       "\\begin{tabular}{lllllllllllllllllllll}\n",
       " year & country & value & country:r & t & cases & deaths & tests & C1M\\_School\\_closing & C2M\\_Workplace\\_closing & ⋯ & infant\\_mortality & largest\\_city\\_share & urbanization & country:household\\_size & avg\\_hh\\_size & share\\_1\\_members & share\\_2\\_3\\_members & share\\_4\\_5\\_members & year:r & SARS\\_flg\\\\\n",
       " <chr> & <chr> & <dbl> & <chr> & <int> & <dbl> & <dbl> & <chr> & <dbl> & <dbl> & ⋯ & <dbl> & <dbl> & <dbl> & <chr> & <dbl> & <dbl> & <dbl> & <dbl> & <chr> & <int>\\\\\n",
       "\\hline\n",
       "\t 2020 & SLV &  4.858130 & SLV & 2020 &  19.6259116 & 0.57060773 & NA & 2.426229 & 1.4344262 & ⋯ & 11.0 & 24.14867 & 17.73575 & SLV & 3.92 &  8.46 & 36.01 & 37.84 & 2020 & 0\\\\\n",
       "\t 2022 & ASM & -6.219868 & ASM & 2022 & 467.6200274 & 1.92600000 & NA &       NA &        NA & ⋯ &   NA &       NA &       NA & NA  &   NA &    NA &    NA &    NA & 2022 & 0\\\\\n",
       "\t 2020 & BOL &  5.237020 & BOL & 2020 &  35.1308840 & 2.07754144 & NA & 2.418033 & 1.8306011 & ⋯ & 21.0 & 22.42107 & 41.25143 & BOL & 3.53 & 20.34 & 34.82 & 27.64 & 2020 & 0\\\\\n",
       "\t 2020 & SLE &  2.576115 & SLE & 2020 &   0.8507182 & 0.02530387 & NA & 1.606557 & 0.2349727 & ⋯ & 80.3 & 35.38844 & 15.18978 & SLE & 5.29 &  6.42 & 20.52 & 33.28 & 2020 & 0\\\\\n",
       "\t 2020 & LKA &  7.712751 & LKA & 2020 &   4.9664917 & 0.02309392 & NA & 1.931694 & 0.5546448 & ⋯ &  6.0 & 14.93368 &       NA & NA  &   NA &    NA &    NA &    NA & 2020 & 0\\\\\n",
       "\t 2022 & ATG & -4.746044 & ATG & 2022 & 143.9042740 & 0.82619178 & NA &       NA &        NA & ⋯ &  8.1 &       NA &       NA & NA  &   NA &    NA &    NA &    NA & 2022 & 0\\\\\n",
       "\\end{tabular}\n"
      ],
      "text/markdown": [
       "\n",
       "A tibble: 6 × 63\n",
       "\n",
       "| year &lt;chr&gt; | country &lt;chr&gt; | value &lt;dbl&gt; | country:r &lt;chr&gt; | t &lt;int&gt; | cases &lt;dbl&gt; | deaths &lt;dbl&gt; | tests &lt;chr&gt; | C1M_School_closing &lt;dbl&gt; | C2M_Workplace_closing &lt;dbl&gt; | ⋯ ⋯ | infant_mortality &lt;dbl&gt; | largest_city_share &lt;dbl&gt; | urbanization &lt;dbl&gt; | country:household_size &lt;chr&gt; | avg_hh_size &lt;dbl&gt; | share_1_members &lt;dbl&gt; | share_2_3_members &lt;dbl&gt; | share_4_5_members &lt;dbl&gt; | year:r &lt;chr&gt; | SARS_flg &lt;int&gt; |\n",
       "|---|---|---|---|---|---|---|---|---|---|---|---|---|---|---|---|---|---|---|---|---|\n",
       "| 2020 | SLV |  4.858130 | SLV | 2020 |  19.6259116 | 0.57060773 | NA | 2.426229 | 1.4344262 | ⋯ | 11.0 | 24.14867 | 17.73575 | SLV | 3.92 |  8.46 | 36.01 | 37.84 | 2020 | 0 |\n",
       "| 2022 | ASM | -6.219868 | ASM | 2022 | 467.6200274 | 1.92600000 | NA |       NA |        NA | ⋯ |   NA |       NA |       NA | NA  |   NA |    NA |    NA |    NA | 2022 | 0 |\n",
       "| 2020 | BOL |  5.237020 | BOL | 2020 |  35.1308840 | 2.07754144 | NA | 2.418033 | 1.8306011 | ⋯ | 21.0 | 22.42107 | 41.25143 | BOL | 3.53 | 20.34 | 34.82 | 27.64 | 2020 | 0 |\n",
       "| 2020 | SLE |  2.576115 | SLE | 2020 |   0.8507182 | 0.02530387 | NA | 1.606557 | 0.2349727 | ⋯ | 80.3 | 35.38844 | 15.18978 | SLE | 5.29 |  6.42 | 20.52 | 33.28 | 2020 | 0 |\n",
       "| 2020 | LKA |  7.712751 | LKA | 2020 |   4.9664917 | 0.02309392 | NA | 1.931694 | 0.5546448 | ⋯ |  6.0 | 14.93368 |       NA | NA  |   NA |    NA |    NA |    NA | 2020 | 0 |\n",
       "| 2022 | ATG | -4.746044 | ATG | 2022 | 143.9042740 | 0.82619178 | NA |       NA |        NA | ⋯ |  8.1 |       NA |       NA | NA  |   NA |    NA |    NA |    NA | 2022 | 0 |\n",
       "\n"
      ],
      "text/plain": [
       "  year country value     country:r t    cases       deaths     tests\n",
       "1 2020 SLV      4.858130 SLV       2020  19.6259116 0.57060773 NA   \n",
       "2 2022 ASM     -6.219868 ASM       2022 467.6200274 1.92600000 NA   \n",
       "3 2020 BOL      5.237020 BOL       2020  35.1308840 2.07754144 NA   \n",
       "4 2020 SLE      2.576115 SLE       2020   0.8507182 0.02530387 NA   \n",
       "5 2020 LKA      7.712751 LKA       2020   4.9664917 0.02309392 NA   \n",
       "6 2022 ATG     -4.746044 ATG       2022 143.9042740 0.82619178 NA   \n",
       "  C1M_School_closing C2M_Workplace_closing ⋯ infant_mortality\n",
       "1 2.426229           1.4344262             ⋯ 11.0            \n",
       "2       NA                  NA             ⋯   NA            \n",
       "3 2.418033           1.8306011             ⋯ 21.0            \n",
       "4 1.606557           0.2349727             ⋯ 80.3            \n",
       "5 1.931694           0.5546448             ⋯  6.0            \n",
       "6       NA                  NA             ⋯  8.1            \n",
       "  largest_city_share urbanization country:household_size avg_hh_size\n",
       "1 24.14867           17.73575     SLV                    3.92       \n",
       "2       NA                 NA     NA                       NA       \n",
       "3 22.42107           41.25143     BOL                    3.53       \n",
       "4 35.38844           15.18978     SLE                    5.29       \n",
       "5 14.93368                 NA     NA                       NA       \n",
       "6       NA                 NA     NA                       NA       \n",
       "  share_1_members share_2_3_members share_4_5_members year:r SARS_flg\n",
       "1  8.46           36.01             37.84             2020   0       \n",
       "2    NA              NA                NA             2022   0       \n",
       "3 20.34           34.82             27.64             2020   0       \n",
       "4  6.42           20.52             33.28             2020   0       \n",
       "5    NA              NA                NA             2020   0       \n",
       "6    NA              NA                NA             2022   0       "
      ]
     },
     "metadata": {},
     "output_type": "display_data"
    }
   ],
   "source": [
    "# Скачиваю данные и переназываю переменные\n",
    "df = read_parquet('../data/processed_data/trade_hs0_export_fe_x_covid.parquet.gzip')\n",
    "df = df %>% mutate(year = as.character(year), SARS_flg = as.integer(!is.na(SARS_total_cases)))\n",
    "df %>% head()"
   ]
  },
  {
   "cell_type": "markdown",
   "metadata": {},
   "source": [
    "### Рисую обычный и demeaned scatterplot, чтобы обосновать необходимость использования фиксированных эффектов\n",
    "\n",
    "Графики будут интерактивные, если раскомментить ggplotly, закомментить p и перепрогнать"
   ]
  },
  {
   "cell_type": "code",
   "execution_count": 32,
   "metadata": {
    "vscode": {
     "languageId": "r"
    }
   },
   "outputs": [
    {
     "name": "stderr",
     "output_type": "stream",
     "text": [
      "Warning message:\n",
      "\"\u001b[1m\u001b[22mRemoved 8 rows containing missing values or values outside the scale range\n",
      "(`geom_point()`).\"\n"
     ]
    },
    {
     "data": {
      "image/png": "[encoded data removed]",
      "text/plain": [
       "plot without title"
      ]
     },
     "metadata": {
      "image/png": {
       "height": 420,
       "width": 420
      }
     },
     "output_type": "display_data"
    }
   ],
   "source": [
    "p = ggplot(df, aes(x = log(deaths), y = value, text = factor(country), color = factor(year)\n",
    "    )) + geom_point()+ theme(legend.position = \"none\")\n",
    "# ggplotly(p) \n",
    "p   "
   ]
  },
  {
   "cell_type": "code",
   "execution_count": 33,
   "metadata": {
    "vscode": {
     "languageId": "r"
    }
   },
   "outputs": [
    {
     "name": "stderr",
     "output_type": "stream",
     "text": [
      "Warning message:\n",
      "\"\u001b[1m\u001b[22mRemoved 2 rows containing missing values or values outside the scale range\n",
      "(`geom_point()`).\"\n"
     ]
    },
    {
     "data": {
      "image/png": "[encoded data removed]",
      "text/plain": [
       "plot without title"
      ]
     },
     "metadata": {
      "image/png": {
       "height": 420,
       "width": 420
      }
     },
     "output_type": "display_data"
    }
   ],
   "source": [
    "country_means_df = df %>% group_by(country) %>%\n",
    " summarize(avg_value = mean(value, na.rm = TRUE), avg_log_deaths = mean(log(deaths), na.rm = TRUE))  %>% filter(avg_log_deaths > -1000)\n",
    "\n",
    "demeaned_df = df %>% merge(., country_means_df, by = 'country')  %>%\n",
    "  mutate(log_deaths = log(deaths)- avg_log_deaths, value = value- avg_value) %>%\n",
    "   select(country, year, log_deaths, value)\n",
    "p = ggplot(demeaned_df, aes(x = log_deaths, y = value, text = factor(country), color = factor(year)\n",
    "    )) + geom_point()+ theme(legend.position = \"none\")\n",
    "# ggplotly(p)    \n",
    "p"
   ]
  },
  {
   "cell_type": "code",
   "execution_count": 34,
   "metadata": {
    "vscode": {
     "languageId": "r"
    }
   },
   "outputs": [
    {
     "name": "stderr",
     "output_type": "stream",
     "text": [
      "Warning message:\n",
      "\"\u001b[1m\u001b[22mRemoved 2 rows containing missing values or values outside the scale range\n",
      "(`geom_point()`).\"\n"
     ]
    },
    {
     "data": {
      "image/png": "[encoded data removed]",
      "text/plain": [
       "plot without title"
      ]
     },
     "metadata": {
      "image/png": {
       "height": 420,
       "width": 420
      }
     },
     "output_type": "display_data"
    }
   ],
   "source": [
    "year_means_df = demeaned_df %>% filter(log_deaths > -5) %>% group_by(year) %>%\n",
    " summarize(avg_value = mean(value, na.rm = TRUE), avg_log_deaths = mean(log_deaths, na.rm = TRUE))\n",
    "\n",
    "demeaned_df2 = demeaned_df %>% merge(., year_means_df, by = 'year')  %>%\n",
    "  mutate(log_deaths = log_deaths- avg_log_deaths, value = value - avg_value) %>%\n",
    "   select(country, year, log_deaths, value)\n",
    "\n",
    "p = ggplot(demeaned_df2, aes(x = log_deaths, y = value, text = factor(country), color = factor(year)\n",
    "    )) + geom_point()+ theme(legend.position = \"none\")\n",
    "# ggplotly(p)    \n",
    "p"
   ]
  },
  {
   "cell_type": "code",
   "execution_count": 35,
   "metadata": {
    "vscode": {
     "languageId": "r"
    }
   },
   "outputs": [
    {
     "data": {
      "text/html": [
       "<table class=\"dataframe\">\n",
       "<caption>A tibble: 3 × 3</caption>\n",
       "<thead>\n",
       "\t<tr><th scope=col>year</th><th scope=col>avg_value</th><th scope=col>avg_log_deaths</th></tr>\n",
       "\t<tr><th scope=col>&lt;chr&gt;</th><th scope=col>&lt;dbl&gt;</th><th scope=col>&lt;dbl&gt;</th></tr>\n",
       "</thead>\n",
       "<tbody>\n",
       "\t<tr><td>2020</td><td> 3.269161</td><td>-0.4166008</td></tr>\n",
       "\t<tr><td>2021</td><td>-1.674689</td><td> 0.8422965</td></tr>\n",
       "\t<tr><td>2022</td><td>-1.594472</td><td>-0.4280231</td></tr>\n",
       "</tbody>\n",
       "</table>\n"
      ],
      "text/latex": [
       "A tibble: 3 × 3\n",
       "\\begin{tabular}{lll}\n",
       " year & avg\\_value & avg\\_log\\_deaths\\\\\n",
       " <chr> & <dbl> & <dbl>\\\\\n",
       "\\hline\n",
       "\t 2020 &  3.269161 & -0.4166008\\\\\n",
       "\t 2021 & -1.674689 &  0.8422965\\\\\n",
       "\t 2022 & -1.594472 & -0.4280231\\\\\n",
       "\\end{tabular}\n"
      ],
      "text/markdown": [
       "\n",
       "A tibble: 3 × 3\n",
       "\n",
       "| year &lt;chr&gt; | avg_value &lt;dbl&gt; | avg_log_deaths &lt;dbl&gt; |\n",
       "|---|---|---|\n",
       "| 2020 |  3.269161 | -0.4166008 |\n",
       "| 2021 | -1.674689 |  0.8422965 |\n",
       "| 2022 | -1.594472 | -0.4280231 |\n",
       "\n"
      ],
      "text/plain": [
       "  year avg_value avg_log_deaths\n",
       "1 2020  3.269161 -0.4166008    \n",
       "2 2021 -1.674689  0.8422965    \n",
       "3 2022 -1.594472 -0.4280231    "
      ]
     },
     "metadata": {},
     "output_type": "display_data"
    }
   ],
   "source": [
    "year_means_df"
   ]
  },
  {
   "cell_type": "code",
   "execution_count": 36,
   "metadata": {
    "vscode": {
     "languageId": "r"
    }
   },
   "outputs": [
    {
     "name": "stderr",
     "output_type": "stream",
     "text": [
      "Warning message:\n",
      "\"\u001b[1m\u001b[22mRemoved 128 rows containing missing values or values outside the scale range\n",
      "(`geom_point()`).\"\n"
     ]
    },
    {
     "data": {
      "image/png": "[encoded data removed]",
      "text/plain": [
       "plot without title"
      ]
     },
     "metadata": {
      "image/png": {
       "height": 420,
       "width": 420
      }
     },
     "output_type": "display_data"
    }
   ],
   "source": [
    "country_means_df = df %>% group_by(country) %>%\n",
    " summarize(avg_value = mean(value, na.rm = TRUE), avg_C8EV_International_travel_controls = mean(C8EV_International_travel_controls, na.rm = TRUE))\n",
    "\n",
    "demeaned_df = df %>% merge(., country_means_df, by = 'country')  %>%\n",
    "  mutate(C8EV_International_travel_controls = C8EV_International_travel_controls- avg_C8EV_International_travel_controls, value = value- avg_value) %>%\n",
    "   select(country, year, C8EV_International_travel_controls, value)\n",
    "   \n",
    "year_means_df = demeaned_df %>% filter(C8EV_International_travel_controls > -5) %>% group_by(year) %>%\n",
    " summarize(avg_value = mean(value, na.rm = TRUE), avg_C8EV_International_travel_controls = mean(C8EV_International_travel_controls, na.rm = TRUE))\n",
    "\n",
    "demeaned_df2 = demeaned_df %>% merge(., year_means_df, by = 'year')  %>%\n",
    "  mutate(C8EV_International_travel_controls = C8EV_International_travel_controls- avg_C8EV_International_travel_controls, value = value - avg_value) %>%\n",
    "   select(country, year, C8EV_International_travel_controls, value)\n",
    "\n",
    "p = ggplot(demeaned_df2, aes(x = C8EV_International_travel_controls, y = value, text = factor(country), color = factor(year)\n",
    "    )) + geom_point()+ theme(legend.position = \"none\")\n",
    "# ggplotly(p)    \n",
    "p"
   ]
  },
  {
   "cell_type": "markdown",
   "metadata": {},
   "source": [
    "### Сами регрессии"
   ]
  },
  {
   "cell_type": "code",
   "execution_count": 37,
   "metadata": {
    "vscode": {
     "languageId": "r"
    }
   },
   "outputs": [
    {
     "name": "stderr",
     "output_type": "stream",
     "text": [
      "NOTE: 156 observations removed because of NA and infinite values (LHS: 2, RHS: 154).\n",
      "\n"
     ]
    },
    {
     "data": {
      "text/plain": [
       "OLS estimation, Dep. Var.: value\n",
       "Observations: 503\n",
       "Fixed-effects: year: 3\n",
       "Standard-errors: Clustered (country) \n",
       "                                   Estimate Std. Error t value   Pr(>|t|)    \n",
       "log(deaths)                        0.563746   0.099325 5.67577 5.6726e-08 ***\n",
       "C8EV_International_travel_controls 0.701125   0.321204 2.18281 3.0390e-02 *  \n",
       "---\n",
       "Signif. codes:  0 '***' 0.001 '**' 0.01 '*' 0.05 '.' 0.1 ' ' 1\n",
       "RMSE: 2.97233     Adj. R2: 0.444767\n",
       "                Within R2: 0.140638"
      ]
     },
     "metadata": {},
     "output_type": "display_data"
    }
   ],
   "source": [
    "# Pulled OLS\n",
    "export_pulled_ols = feols(value ~ log(deaths) +\n",
    " C8EV_International_travel_controls| year,\n",
    " data = df)\n",
    "export_pulled_ols %>% summary(vcov = ~country)"
   ]
  },
  {
   "cell_type": "code",
   "execution_count": 41,
   "metadata": {
    "vscode": {
     "languageId": "r"
    }
   },
   "outputs": [
    {
     "name": "stderr",
     "output_type": "stream",
     "text": [
      "NOTE: 156 observations removed because of NA and infinite values (LHS: 2, RHS: 154).\n",
      "\n"
     ]
    },
    {
     "data": {
      "text/plain": [
       "OLS estimation, Dep. Var.: value\n",
       "Observations: 503\n",
       "Fixed-effects: country: 175,  year: 3\n",
       "Standard-errors: Clustered (country) \n",
       "                                    Estimate Std. Error  t value  Pr(>|t|)    \n",
       "log(deaths)                        -0.036593   0.013369 -2.73708 0.0068426 ** \n",
       "C8EV_International_travel_controls -0.049067   0.029783 -1.64748 0.1012633    \n",
       "---\n",
       "Signif. codes:  0 '***' 0.001 '**' 0.01 '*' 0.05 '.' 0.1 ' ' 1\n",
       "RMSE: 0.173731     Adj. R2: 0.997084\n",
       "                 Within R2: 0.034409"
      ]
     },
     "metadata": {},
     "output_type": "display_data"
    }
   ],
   "source": [
    "export_fe_ols = feols(value ~ log(deaths) +\n",
    " C8EV_International_travel_controls| country + year,\n",
    " data = df)\n",
    "export_fe_ols %>% summary(vcov = ~country)"
   ]
  },
  {
   "cell_type": "code",
   "execution_count": 51,
   "metadata": {
    "vscode": {
     "languageId": "r"
    }
   },
   "outputs": [
    {
     "name": "stderr",
     "output_type": "stream",
     "text": [
      "NOTE: 158 observations removed because of NA and infinite values (LHS: 2, RHS: 126, IV: 74/130).\n",
      "\n"
     ]
    },
    {
     "data": {
      "text/plain": [
       "TSLS estimation - Dep. Var.: value\n",
       "                  Endo.    : log(deaths)\n",
       "                  Instr.   : C1M_School_closing, median_age, population_density\n",
       "Second stage: Dep. Var.: value\n",
       "Observations: 501\n",
       "Fixed-effects: country: 175,  year: 3\n",
       "Standard-errors: Clustered (country) \n",
       "                                    Estimate Std. Error   t value Pr(>|t|) \n",
       "fit_log(deaths)                    -0.014171   0.039132 -0.362131  0.71769 \n",
       "C8EV_International_travel_controls -0.039104   0.030609 -1.277500  0.20313 \n",
       "---\n",
       "Signif. codes:  0 '***' 0.001 '**' 0.01 '*' 0.05 '.' 0.1 ' ' 1\n",
       "RMSE: 0.175014     Adj. R2: 0.997035\n",
       "                 Within R2: 0.023475\n",
       "F-test (1st stage), log(deaths): stat = 14.2     , p = 6.809e-9, on 3 and 494 DoF.\n",
       "                     Wu-Hausman: stat =  0.314932, p = 0.575061, on 1 and 321 DoF.\n",
       "                         Sargan: stat =  2.91965 , p = 0.232277, on 2 DoF."
      ]
     },
     "metadata": {},
     "output_type": "display_data"
    }
   ],
   "source": [
    "# Тут всё экзогенно\n",
    "export_covid_iv = feols(value ~ 1 + C8EV_International_travel_controls|country + year|\n",
    " log(deaths) ~ \n",
    "#  H6M_Facial_Coverings+\n",
    " C1M_School_closing+median_age+population_density,\n",
    " data = df)\n",
    "export_covid_iv %>% summary(vcov = ~country)"
   ]
  },
  {
   "cell_type": "code",
   "execution_count": 49,
   "metadata": {
    "vscode": {
     "languageId": "r"
    }
   },
   "outputs": [
    {
     "name": "stderr",
     "output_type": "stream",
     "text": [
      "NOTE: 158 observations removed because of NA and infinite values (LHS: 2, IV: 154/130).\n",
      "\n"
     ]
    },
    {
     "data": {
      "text/plain": [
       "TSLS estimation - Dep. Var.: value\n",
       "                  Endo.    : log(deaths), C8EV_International_travel_controls\n",
       "                  Instr.   : C1M_School_closing, median_age, population_density\n",
       "Second stage: Dep. Var.: value\n",
       "Observations: 501\n",
       "Fixed-effects: country: 175,  year: 3\n",
       "Standard-errors: Clustered (country) \n",
       "                                        Estimate Std. Error   t value Pr(>|t|) \n",
       "fit_log(deaths)                         0.040970   0.054258  0.755083  0.45122 \n",
       "fit_C8EV_International_travel_controls -0.154842   0.112054 -1.381846  0.16879 \n",
       "---\n",
       "Signif. codes:  0 '***' 0.001 '**' 0.01 '*' 0.05 '.' 0.1 ' ' 1\n",
       "RMSE: 0.193669     Adj. R2:  0.996369\n",
       "                 Within R2: -0.195801\n",
       "F-test (1st stage), log(deaths)                       : stat =  8.63355 , p = 1.355e-5, on 3 and 495 DoF.\n",
       "F-test (1st stage), C8EV_International_travel_controls: stat = 12.9     , p = 4.052e-8, on 3 and 495 DoF.\n",
       "                                            Wu-Hausman: stat =  0.560417, p = 0.57153 , on 2 and 320 DoF.\n",
       "                                                Sargan: stat =  1.36879 , p = 0.24202 , on 1 DoF."
      ]
     },
     "metadata": {},
     "output_type": "display_data"
    }
   ],
   "source": [
    "export_all_iv = feols(value ~ 1 |country + year|\n",
    " log(deaths) + C8EV_International_travel_controls ~ #H6M_Facial_Coverings+\n",
    " C1M_School_closing+median_age+population_density,\n",
    " data = df)\n",
    "export_all_iv %>% summary(vcov = ~country)"
   ]
  },
  {
   "cell_type": "code",
   "execution_count": 44,
   "metadata": {
    "vscode": {
     "languageId": "r"
    }
   },
   "outputs": [
    {
     "name": "stderr",
     "output_type": "stream",
     "text": [
      "NOTE: 156 observations removed because of NA and infinite values (LHS: 2, RHS: 154).\n",
      "\n"
     ]
    },
    {
     "data": {
      "text/plain": [
       "OLS estimation, Dep. Var.: value\n",
       "Observations: 503\n",
       "Fixed-effects: country: 175\n",
       "Standard-errors: Clustered (country) \n",
       "                                             Estimate Std. Error    t value\n",
       "year2021                                    -4.994896   0.105374 -47.401774\n",
       "year2022                                    -5.027781   0.110254 -45.601905\n",
       "year2020:log(deaths)                        -0.047159   0.016111  -2.927121\n",
       "year2021:log(deaths)                        -0.036435   0.015113  -2.410815\n",
       "year2022:log(deaths)                        -0.029721   0.014896  -1.995227\n",
       "year2020:C8EV_International_travel_controls -0.076754   0.046456  -1.652197\n",
       "year2021:C8EV_International_travel_controls -0.041017   0.033867  -1.211131\n",
       "year2022:C8EV_International_travel_controls -0.014681   0.047672  -0.307962\n",
       "                                             Pr(>|t|)    \n",
       "year2021                                    < 2.2e-16 ***\n",
       "year2022                                    < 2.2e-16 ***\n",
       "year2020:log(deaths)                        0.0038784 ** \n",
       "year2021:log(deaths)                        0.0169581 *  \n",
       "year2022:log(deaths)                        0.0475789 *  \n",
       "year2020:C8EV_International_travel_controls 0.1002979    \n",
       "year2021:C8EV_International_travel_controls 0.2274874    \n",
       "year2022:C8EV_International_travel_controls 0.7584797    \n",
       "---\n",
       "Signif. codes:  0 '***' 0.001 '**' 0.01 '*' 0.05 '.' 0.1 ' ' 1\n",
       "RMSE: 0.172948     Adj. R2: 0.997075\n",
       "                 Within R2: 0.99418 "
      ]
     },
     "metadata": {},
     "output_type": "display_data"
    }
   ],
   "source": [
    "# Гетерогенность во времени\n",
    "export_time_effects = feols(value ~ year/log(deaths) + year/C8EV_International_travel_controls| country,\n",
    " data = df)\n",
    "export_time_effects %>% summary(vcov = ~country)"
   ]
  },
  {
   "cell_type": "code",
   "execution_count": 45,
   "metadata": {
    "vscode": {
     "languageId": "r"
    }
   },
   "outputs": [
    {
     "name": "stderr",
     "output_type": "stream",
     "text": [
      "NOTE: 76 observations removed because of NA and infinite values (LHS: 2, RHS: 74).\n",
      "\n"
     ]
    },
    {
     "data": {
      "text/plain": [
       "OLS estimation, Dep. Var.: value\n",
       "Observations: 583\n",
       "Fixed-effects: country: 210\n",
       "Standard-errors: Clustered (country) \n",
       "                      Estimate Std. Error    t value   Pr(>|t|)    \n",
       "year2021             -4.898938   0.031134 -157.35089  < 2.2e-16 ***\n",
       "year2022             -4.868733   0.033772 -144.16483  < 2.2e-16 ***\n",
       "year2020:log(deaths) -0.052960   0.015411   -3.43655 0.00071073 ***\n",
       "year2021:log(deaths) -0.045316   0.015409   -2.94095 0.00364076 ** \n",
       "year2022:log(deaths) -0.033211   0.014880   -2.23194 0.02668008 *  \n",
       "---\n",
       "Signif. codes:  0 '***' 0.001 '**' 0.01 '*' 0.05 '.' 0.1 ' ' 1\n",
       "RMSE: 0.189434     Adj. R2: 0.996996\n",
       "                 Within R2: 0.992858"
      ]
     },
     "metadata": {},
     "output_type": "display_data"
    }
   ],
   "source": [
    "# Гетерогенность во времени\n",
    "export_covid_time_effects = feols(value ~ year/log(deaths)| country,\n",
    " data = df)\n",
    "export_covid_time_effects %>% summary(vcov = ~country)\n",
    "# Ядро крашится почему-то\n",
    "# feols(value ~ 1| country|\n",
    "# year/log(deaths)~C1M_School_closing+median_age+population_density,\n",
    "#  data = df) %>% summary(vcov = ~country)"
   ]
  },
  {
   "cell_type": "code",
   "execution_count": 70,
   "metadata": {
    "vscode": {
     "languageId": "r"
    }
   },
   "outputs": [
    {
     "data": {
      "text/html": [
       "<table class=\"dataframe\">\n",
       "<caption>A etable_df: 23 × 4</caption>\n",
       "<thead>\n",
       "\t<tr><th></th><th scope=col></th><th scope=col>export_fe_ols</th><th scope=col>export_time_effe..</th><th scope=col>export_covid_iv</th></tr>\n",
       "\t<tr><th></th><th scope=col>&lt;chr&gt;</th><th scope=col>&lt;chr&gt;</th><th scope=col>&lt;chr&gt;</th><th scope=col>&lt;chr&gt;</th></tr>\n",
       "</thead>\n",
       "<tbody>\n",
       "\t<tr><th scope=row>1</th><td>Dependent Var.:                              </td><td>value             </td><td>value             </td><td>value           </td></tr>\n",
       "\t<tr><th scope=row>2</th><td>                                             </td><td>                  </td><td>                  </td><td>                </td></tr>\n",
       "\t<tr><th scope=row>3</th><td>log(deaths)                                  </td><td>-0.0366** (0.0134)</td><td>                  </td><td>-0.0142 (0.0391)</td></tr>\n",
       "\t<tr><th scope=row>4</th><td>C8EV_International_travel_controls           </td><td>-0.0491 (0.0298)  </td><td>                  </td><td>-0.0391 (0.0306)</td></tr>\n",
       "\t<tr><th scope=row>5</th><td>year2021                                     </td><td>                  </td><td>-4.995*** (0.1054)</td><td>                </td></tr>\n",
       "\t<tr><th scope=row>6</th><td>year2022                                     </td><td>                  </td><td>-5.028*** (0.1103)</td><td>                </td></tr>\n",
       "\t<tr><th scope=row>7</th><td>year2020 x log(deaths)                       </td><td>                  </td><td>-0.0472** (0.0161)</td><td>                </td></tr>\n",
       "\t<tr><th scope=row>8</th><td>year2021 x log(deaths)                       </td><td>                  </td><td>-0.0364* (0.0151) </td><td>                </td></tr>\n",
       "\t<tr><th scope=row>9</th><td>year2022 x log(deaths)                       </td><td>                  </td><td>-0.0297* (0.0149) </td><td>                </td></tr>\n",
       "\t<tr><th scope=row>10</th><td>year2020 x C8EV_International_travel_controls</td><td>                  </td><td>-0.0767 (0.0465)  </td><td>                </td></tr>\n",
       "\t<tr><th scope=row>11</th><td>year2021 x C8EV_International_travel_controls</td><td>                  </td><td>-0.0410 (0.0339)  </td><td>                </td></tr>\n",
       "\t<tr><th scope=row>12</th><td>year2022 x C8EV_International_travel_controls</td><td>                  </td><td>-0.0147 (0.0477)  </td><td>                </td></tr>\n",
       "\t<tr><th scope=row>13</th><td>Fixed-Effects:                               </td><td>------------------</td><td>------------------</td><td>----------------</td></tr>\n",
       "\t<tr><th scope=row>14</th><td>country                                      </td><td>Yes               </td><td>Yes               </td><td>Yes             </td></tr>\n",
       "\t<tr><th scope=row>15</th><td>year                                         </td><td>Yes               </td><td>No                </td><td>Yes             </td></tr>\n",
       "\t<tr><th scope=row>16</th><td>________________________________________     </td><td>__________________</td><td>__________________</td><td>________________</td></tr>\n",
       "\t<tr><th scope=row>17</th><td>S.E.: Clustered                              </td><td>by: country       </td><td>by: country       </td><td>by: country     </td></tr>\n",
       "\t<tr><th scope=row>18</th><td>Observations                                 </td><td>503               </td><td>503               </td><td>501             </td></tr>\n",
       "\t<tr><th scope=row>19</th><td>R2                                           </td><td>0.99812           </td><td>0.99814           </td><td>0.99809         </td></tr>\n",
       "\t<tr><th scope=row>20</th><td>Within R2                                    </td><td>0.03441           </td><td>0.99418           </td><td>0.02347         </td></tr>\n",
       "\t<tr><th scope=row>21</th><td>Sargan, p-value                              </td><td>--                </td><td>--                </td><td>0.23228         </td></tr>\n",
       "\t<tr><th scope=row>22</th><td>Wu-Hausman, p-value                          </td><td>--                </td><td>--                </td><td>0.57506         </td></tr>\n",
       "\t<tr><th scope=row>23</th><td>F-test (1st stage), log(deaths)              </td><td>--                </td><td>--                </td><td>14.205          </td></tr>\n",
       "</tbody>\n",
       "</table>\n"
      ],
      "text/latex": [
       "A etable\\_df: 23 × 4\n",
       "\\begin{tabular}{r|llll}\n",
       "  &  & export\\_fe\\_ols & export\\_time\\_effe.. & export\\_covid\\_iv\\\\\n",
       "  & <chr> & <chr> & <chr> & <chr>\\\\\n",
       "\\hline\n",
       "\t1 & Dependent Var.:                               & value              & value              & value           \\\\\n",
       "\t2 &                                               &                    &                    &                 \\\\\n",
       "\t3 & log(deaths)                                   & -0.0366** (0.0134) &                    & -0.0142 (0.0391)\\\\\n",
       "\t4 & C8EV\\_International\\_travel\\_controls            & -0.0491 (0.0298)   &                    & -0.0391 (0.0306)\\\\\n",
       "\t5 & year2021                                      &                    & -4.995*** (0.1054) &                 \\\\\n",
       "\t6 & year2022                                      &                    & -5.028*** (0.1103) &                 \\\\\n",
       "\t7 & year2020 x log(deaths)                        &                    & -0.0472** (0.0161) &                 \\\\\n",
       "\t8 & year2021 x log(deaths)                        &                    & -0.0364* (0.0151)  &                 \\\\\n",
       "\t9 & year2022 x log(deaths)                        &                    & -0.0297* (0.0149)  &                 \\\\\n",
       "\t10 & year2020 x C8EV\\_International\\_travel\\_controls &                    & -0.0767 (0.0465)   &                 \\\\\n",
       "\t11 & year2021 x C8EV\\_International\\_travel\\_controls &                    & -0.0410 (0.0339)   &                 \\\\\n",
       "\t12 & year2022 x C8EV\\_International\\_travel\\_controls &                    & -0.0147 (0.0477)   &                 \\\\\n",
       "\t13 & Fixed-Effects:                                & ------------------ & ------------------ & ----------------\\\\\n",
       "\t14 & country                                       & Yes                & Yes                & Yes             \\\\\n",
       "\t15 & year                                          & Yes                & No                 & Yes             \\\\\n",
       "\t16 & \\_\\_\\_\\_\\_\\_\\_\\_\\_\\_\\_\\_\\_\\_\\_\\_\\_\\_\\_\\_\\_\\_\\_\\_\\_\\_\\_\\_\\_\\_\\_\\_\\_\\_\\_\\_\\_\\_\\_\\_      & \\_\\_\\_\\_\\_\\_\\_\\_\\_\\_\\_\\_\\_\\_\\_\\_\\_\\_ & \\_\\_\\_\\_\\_\\_\\_\\_\\_\\_\\_\\_\\_\\_\\_\\_\\_\\_ & \\_\\_\\_\\_\\_\\_\\_\\_\\_\\_\\_\\_\\_\\_\\_\\_\\\\\n",
       "\t17 & S.E.: Clustered                               & by: country        & by: country        & by: country     \\\\\n",
       "\t18 & Observations                                  & 503                & 503                & 501             \\\\\n",
       "\t19 & R2                                            & 0.99812            & 0.99814            & 0.99809         \\\\\n",
       "\t20 & Within R2                                     & 0.03441            & 0.99418            & 0.02347         \\\\\n",
       "\t21 & Sargan, p-value                               & --                 & --                 & 0.23228         \\\\\n",
       "\t22 & Wu-Hausman, p-value                           & --                 & --                 & 0.57506         \\\\\n",
       "\t23 & F-test (1st stage), log(deaths)               & --                 & --                 & 14.205          \\\\\n",
       "\\end{tabular}\n"
      ],
      "text/markdown": [
       "\n",
       "A etable_df: 23 × 4\n",
       "\n",
       "| <!--/--> | <!----> &lt;chr&gt; | export_fe_ols &lt;chr&gt; | export_time_effe.. &lt;chr&gt; | export_covid_iv &lt;chr&gt; |\n",
       "|---|---|---|---|---|\n",
       "| 1 | Dependent Var.:                               | value              | value              | value            |\n",
       "| 2 | <!----> | <!----> | <!----> | <!----> |\n",
       "| 3 | log(deaths)                                   | -0.0366** (0.0134) | <!----> | -0.0142 (0.0391) |\n",
       "| 4 | C8EV_International_travel_controls            | -0.0491 (0.0298)   | <!----> | -0.0391 (0.0306) |\n",
       "| 5 | year2021                                      | <!----> | -4.995*** (0.1054) | <!----> |\n",
       "| 6 | year2022                                      | <!----> | -5.028*** (0.1103) | <!----> |\n",
       "| 7 | year2020 x log(deaths)                        | <!----> | -0.0472** (0.0161) | <!----> |\n",
       "| 8 | year2021 x log(deaths)                        | <!----> | -0.0364* (0.0151)  | <!----> |\n",
       "| 9 | year2022 x log(deaths)                        | <!----> | -0.0297* (0.0149)  | <!----> |\n",
       "| 10 | year2020 x C8EV_International_travel_controls | <!----> | -0.0767 (0.0465)   | <!----> |\n",
       "| 11 | year2021 x C8EV_International_travel_controls | <!----> | -0.0410 (0.0339)   | <!----> |\n",
       "| 12 | year2022 x C8EV_International_travel_controls | <!----> | -0.0147 (0.0477)   | <!----> |\n",
       "| 13 | Fixed-Effects:                                | ------------------ | ------------------ | ---------------- |\n",
       "| 14 | country                                       | Yes                | Yes                | Yes              |\n",
       "| 15 | year                                          | Yes                | No                 | Yes              |\n",
       "| 16 | ________________________________________      | __________________ | __________________ | ________________ |\n",
       "| 17 | S.E.: Clustered                               | by: country        | by: country        | by: country      |\n",
       "| 18 | Observations                                  | 503                | 503                | 501              |\n",
       "| 19 | R2                                            | 0.99812            | 0.99814            | 0.99809          |\n",
       "| 20 | Within R2                                     | 0.03441            | 0.99418            | 0.02347          |\n",
       "| 21 | Sargan, p-value                               | --                 | --                 | 0.23228          |\n",
       "| 22 | Wu-Hausman, p-value                           | --                 | --                 | 0.57506          |\n",
       "| 23 | F-test (1st stage), log(deaths)               | --                 | --                 | 14.205           |\n",
       "\n"
      ],
      "text/plain": [
       "                                                 export_fe_ols     \n",
       "1  Dependent Var.:                               value             \n",
       "2                                                                  \n",
       "3  log(deaths)                                   -0.0366** (0.0134)\n",
       "4  C8EV_International_travel_controls            -0.0491 (0.0298)  \n",
       "5  year2021                                                        \n",
       "6  year2022                                                        \n",
       "7  year2020 x log(deaths)                                          \n",
       "8  year2021 x log(deaths)                                          \n",
       "9  year2022 x log(deaths)                                          \n",
       "10 year2020 x C8EV_International_travel_controls                   \n",
       "11 year2021 x C8EV_International_travel_controls                   \n",
       "12 year2022 x C8EV_International_travel_controls                   \n",
       "13 Fixed-Effects:                                ------------------\n",
       "14 country                                       Yes               \n",
       "15 year                                          Yes               \n",
       "16 ________________________________________      __________________\n",
       "17 S.E.: Clustered                               by: country       \n",
       "18 Observations                                  503               \n",
       "19 R2                                            0.99812           \n",
       "20 Within R2                                     0.03441           \n",
       "21 Sargan, p-value                               --                \n",
       "22 Wu-Hausman, p-value                           --                \n",
       "23 F-test (1st stage), log(deaths)               --                \n",
       "   export_time_effe.. export_covid_iv \n",
       "1  value              value           \n",
       "2                                     \n",
       "3                     -0.0142 (0.0391)\n",
       "4                     -0.0391 (0.0306)\n",
       "5  -4.995*** (0.1054)                 \n",
       "6  -5.028*** (0.1103)                 \n",
       "7  -0.0472** (0.0161)                 \n",
       "8  -0.0364* (0.0151)                  \n",
       "9  -0.0297* (0.0149)                  \n",
       "10 -0.0767 (0.0465)                   \n",
       "11 -0.0410 (0.0339)                   \n",
       "12 -0.0147 (0.0477)                   \n",
       "13 ------------------ ----------------\n",
       "14 Yes                Yes             \n",
       "15 No                 Yes             \n",
       "16 __________________ ________________\n",
       "17 by: country        by: country     \n",
       "18 503                501             \n",
       "19 0.99814            0.99809         \n",
       "20 0.99418            0.02347         \n",
       "21 --                 0.23228         \n",
       "22 --                 0.57506         \n",
       "23 --                 14.205          "
      ]
     },
     "metadata": {},
     "output_type": "display_data"
    }
   ],
   "source": [
    "etable(export_fe_ols, export_time_effects, export_covid_iv, vcov = ~country, fitstat=~ . + sargan.p + wh.p + ivf)"
   ]
  },
  {
   "cell_type": "code",
   "execution_count": 71,
   "metadata": {
    "vscode": {
     "languageId": "r"
    }
   },
   "outputs": [
    {
     "data": {
      "text/plain": [
       "\\begingroup\n",
       "\\centering\n",
       "\\begin{tabular}{lccc}\n",
       "   \\tabularnewline \\midrule \\midrule\n",
       "   Dependent Variable: & \\multicolumn{3}{c}{value}\\\\\n",
       "   Model:                                                      & (1)             & (2)             & (3)\\\\  \n",
       "   \\midrule\n",
       "   \\emph{Variables}\\\\\n",
       "   log(deaths)                                                 & -0.0366$^{***}$ &                 & -0.0142\\\\   \n",
       "                                                               & (0.0134)        &                 & (0.0391)\\\\   \n",
       "   C8EV\\_International\\_travel\\_controls                       & -0.0491         &                 & -0.0391\\\\   \n",
       "                                                               & (0.0298)        &                 & (0.0306)\\\\   \n",
       "   year2021                                                    &                 & -4.995$^{***}$  &   \\\\   \n",
       "                                                               &                 & (0.1054)        &   \\\\   \n",
       "   year2022                                                    &                 & -5.028$^{***}$  &   \\\\   \n",
       "                                                               &                 & (0.1103)        &   \\\\   \n",
       "   year2020 $\\times$ log(deaths)                               &                 & -0.0472$^{***}$ &   \\\\   \n",
       "                                                               &                 & (0.0161)        &   \\\\   \n",
       "   year2021 $\\times$ log(deaths)                               &                 & -0.0364$^{**}$  &   \\\\   \n",
       "                                                               &                 & (0.0151)        &   \\\\   \n",
       "   year2022 $\\times$ log(deaths)                               &                 & -0.0297$^{**}$  &   \\\\   \n",
       "                                                               &                 & (0.0149)        &   \\\\   \n",
       "   year2020 $\\times$ C8EV\\_International\\_travel\\_controls     &                 & -0.0767         &   \\\\   \n",
       "                                                               &                 & (0.0465)        &   \\\\   \n",
       "   year2021 $\\times$ C8EV\\_International\\_travel\\_controls     &                 & -0.0410         &   \\\\   \n",
       "                                                               &                 & (0.0339)        &   \\\\   \n",
       "   year2022 $\\times$ C8EV\\_International\\_travel\\_controls     &                 & -0.0147         &   \\\\   \n",
       "                                                               &                 & (0.0477)        &   \\\\   \n",
       "   \\midrule\n",
       "   \\emph{Fixed-effects}\\\\\n",
       "   country                                                     & Yes             & Yes             & Yes\\\\  \n",
       "   year                                                        & Yes             &                 & Yes\\\\  \n",
       "   \\midrule\n",
       "   \\emph{Fit statistics}\\\\\n",
       "   Observations                                                & 503             & 503             & 501\\\\  \n",
       "   R$^2$                                                       & 0.99812         & 0.99814         & 0.99809\\\\  \n",
       "   Within R$^2$                                                & 0.03441         & 0.99418         & 0.02347\\\\  \n",
       "   Sargan, p-value                                             &                 &                 & 0.23228\\\\  \n",
       "   Wu-Hausman, p-value                                         &                 &                 & 0.57506\\\\  \n",
       "   F-test (1st stage), log(deaths)                             &                 &                 & 14.205\\\\  \n",
       "   \\midrule \\midrule\n",
       "   \\multicolumn{4}{l}{\\emph{Clustered (country) standard-errors in parentheses}}\\\\\n",
       "   \\multicolumn{4}{l}{\\emph{Signif. Codes: ***: 0.01, **: 0.05, *: 0.1}}\\\\\n",
       "\\end{tabular}\n",
       "\\par\\endgroup"
      ]
     },
     "metadata": {},
     "output_type": "display_data"
    }
   ],
   "source": [
    "etable(export_fe_ols, export_time_effects, export_covid_iv, vcov = ~country, fitstat=~ . + sargan.p + wh.p + ivf, tex=TRUE)"
   ]
  },
  {
   "cell_type": "code",
   "execution_count": null,
   "metadata": {
    "vscode": {
     "languageId": "r"
    }
   },
   "outputs": [
    {
     "name": "stderr",
     "output_type": "stream",
     "text": [
      "NOTE: 156 observations removed because of NA and infinite values (LHS: 2, RHS: 154).\n",
      "\n"
     ]
    },
    {
     "data": {
      "text/plain": [
       "OLS estimation, Dep. Var.: value\n",
       "Observations: 503\n",
       "Fixed-effects: country: 175,  year: 3\n",
       "Standard-errors: Clustered (country) \n",
       "                         Estimate Std. Error  t value Pr(>|t|)    \n",
       "StringencyIndex_Average -0.001757   0.001390 -1.26337 0.208147    \n",
       "log(deaths)             -0.029375   0.012601 -2.33122 0.020888 *  \n",
       "---\n",
       "Signif. codes:  0 '***' 0.001 '**' 0.01 '*' 0.05 '.' 0.1 ' ' 1\n",
       "RMSE: 0.174355     Adj. R2: 0.997063\n",
       "                 Within R2: 0.027457"
      ]
     },
     "metadata": {},
     "output_type": "display_data"
    }
   ],
   "source": [
    "# Попытка реплицировать (Berthou, 2024)\n",
    "m = feols(value ~ StringencyIndex_Average + log(deaths)| country + year,\n",
    " data = df)\n",
    "m %>% summary(vcov = ~country)"
   ]
  },
  {
   "cell_type": "markdown",
   "metadata": {},
   "source": [
    "### Импорт\n",
    "\n",
    "+иллюстрирую, зачем тут нужны фиксированные эффекты"
   ]
  },
  {
   "cell_type": "code",
   "execution_count": 53,
   "metadata": {
    "vscode": {
     "languageId": "r"
    }
   },
   "outputs": [
    {
     "data": {
      "text/html": [
       "<table class=\"dataframe\">\n",
       "<caption>A tibble: 6 × 63</caption>\n",
       "<thead>\n",
       "\t<tr><th scope=col>year</th><th scope=col>country</th><th scope=col>value</th><th scope=col>country:r</th><th scope=col>t</th><th scope=col>cases</th><th scope=col>deaths</th><th scope=col>tests</th><th scope=col>C1M_School_closing</th><th scope=col>C2M_Workplace_closing</th><th scope=col>⋯</th><th scope=col>infant_mortality</th><th scope=col>largest_city_share</th><th scope=col>urbanization</th><th scope=col>country:household_size</th><th scope=col>avg_hh_size</th><th scope=col>share_1_members</th><th scope=col>share_2_3_members</th><th scope=col>share_4_5_members</th><th scope=col>year:r</th><th scope=col>SARS_flg</th></tr>\n",
       "\t<tr><th scope=col>&lt;chr&gt;</th><th scope=col>&lt;chr&gt;</th><th scope=col>&lt;dbl&gt;</th><th scope=col>&lt;chr&gt;</th><th scope=col>&lt;int&gt;</th><th scope=col>&lt;dbl&gt;</th><th scope=col>&lt;dbl&gt;</th><th scope=col>&lt;chr&gt;</th><th scope=col>&lt;dbl&gt;</th><th scope=col>&lt;dbl&gt;</th><th scope=col>⋯</th><th scope=col>&lt;dbl&gt;</th><th scope=col>&lt;dbl&gt;</th><th scope=col>&lt;dbl&gt;</th><th scope=col>&lt;chr&gt;</th><th scope=col>&lt;dbl&gt;</th><th scope=col>&lt;dbl&gt;</th><th scope=col>&lt;dbl&gt;</th><th scope=col>&lt;dbl&gt;</th><th scope=col>&lt;chr&gt;</th><th scope=col>&lt;int&gt;</th></tr>\n",
       "</thead>\n",
       "<tbody>\n",
       "\t<tr><td>2020</td><td>SLV</td><td> 2.321174</td><td>SLV</td><td>2020</td><td> 19.6259116</td><td>0.57060773</td><td>NA</td><td>2.426229</td><td>1.4344262</td><td>⋯</td><td>11.0</td><td>24.14867</td><td>17.73575</td><td>SLV</td><td>3.92</td><td> 8.46</td><td>36.01</td><td>37.84</td><td>2020</td><td>0</td></tr>\n",
       "\t<tr><td>2022</td><td>ASM</td><td>-2.471433</td><td>ASM</td><td>2022</td><td>467.6200274</td><td>1.92600000</td><td>NA</td><td>      NA</td><td>       NA</td><td>⋯</td><td>  NA</td><td>      NA</td><td>      NA</td><td>NA </td><td>  NA</td><td>   NA</td><td>   NA</td><td>   NA</td><td>2022</td><td>0</td></tr>\n",
       "\t<tr><td>2020</td><td>BOL</td><td> 1.776656</td><td>BOL</td><td>2020</td><td> 35.1308840</td><td>2.07754144</td><td>NA</td><td>2.418033</td><td>1.8306011</td><td>⋯</td><td>21.0</td><td>22.42107</td><td>41.25143</td><td>BOL</td><td>3.53</td><td>20.34</td><td>34.82</td><td>27.64</td><td>2020</td><td>0</td></tr>\n",
       "\t<tr><td>2020</td><td>SLE</td><td> 1.100952</td><td>SLE</td><td>2020</td><td>  0.8507182</td><td>0.02530387</td><td>NA</td><td>1.606557</td><td>0.2349727</td><td>⋯</td><td>80.3</td><td>35.38844</td><td>15.18978</td><td>SLE</td><td>5.29</td><td> 6.42</td><td>20.52</td><td>33.28</td><td>2020</td><td>0</td></tr>\n",
       "\t<tr><td>2020</td><td>LKA</td><td> 3.031731</td><td>LKA</td><td>2020</td><td>  4.9664917</td><td>0.02309392</td><td>NA</td><td>1.931694</td><td>0.5546448</td><td>⋯</td><td> 6.0</td><td>14.93368</td><td>      NA</td><td>NA </td><td>  NA</td><td>   NA</td><td>   NA</td><td>   NA</td><td>2020</td><td>0</td></tr>\n",
       "\t<tr><td>2022</td><td>ATG</td><td>-1.252042</td><td>ATG</td><td>2022</td><td>143.9042740</td><td>0.82619178</td><td>NA</td><td>      NA</td><td>       NA</td><td>⋯</td><td> 8.1</td><td>      NA</td><td>      NA</td><td>NA </td><td>  NA</td><td>   NA</td><td>   NA</td><td>   NA</td><td>2022</td><td>0</td></tr>\n",
       "</tbody>\n",
       "</table>\n"
      ],
      "text/latex": [
       "A tibble: 6 × 63\n",
       "\\begin{tabular}{lllllllllllllllllllll}\n",
       " year & country & value & country:r & t & cases & deaths & tests & C1M\\_School\\_closing & C2M\\_Workplace\\_closing & ⋯ & infant\\_mortality & largest\\_city\\_share & urbanization & country:household\\_size & avg\\_hh\\_size & share\\_1\\_members & share\\_2\\_3\\_members & share\\_4\\_5\\_members & year:r & SARS\\_flg\\\\\n",
       " <chr> & <chr> & <dbl> & <chr> & <int> & <dbl> & <dbl> & <chr> & <dbl> & <dbl> & ⋯ & <dbl> & <dbl> & <dbl> & <chr> & <dbl> & <dbl> & <dbl> & <dbl> & <chr> & <int>\\\\\n",
       "\\hline\n",
       "\t 2020 & SLV &  2.321174 & SLV & 2020 &  19.6259116 & 0.57060773 & NA & 2.426229 & 1.4344262 & ⋯ & 11.0 & 24.14867 & 17.73575 & SLV & 3.92 &  8.46 & 36.01 & 37.84 & 2020 & 0\\\\\n",
       "\t 2022 & ASM & -2.471433 & ASM & 2022 & 467.6200274 & 1.92600000 & NA &       NA &        NA & ⋯ &   NA &       NA &       NA & NA  &   NA &    NA &    NA &    NA & 2022 & 0\\\\\n",
       "\t 2020 & BOL &  1.776656 & BOL & 2020 &  35.1308840 & 2.07754144 & NA & 2.418033 & 1.8306011 & ⋯ & 21.0 & 22.42107 & 41.25143 & BOL & 3.53 & 20.34 & 34.82 & 27.64 & 2020 & 0\\\\\n",
       "\t 2020 & SLE &  1.100952 & SLE & 2020 &   0.8507182 & 0.02530387 & NA & 1.606557 & 0.2349727 & ⋯ & 80.3 & 35.38844 & 15.18978 & SLE & 5.29 &  6.42 & 20.52 & 33.28 & 2020 & 0\\\\\n",
       "\t 2020 & LKA &  3.031731 & LKA & 2020 &   4.9664917 & 0.02309392 & NA & 1.931694 & 0.5546448 & ⋯ &  6.0 & 14.93368 &       NA & NA  &   NA &    NA &    NA &    NA & 2020 & 0\\\\\n",
       "\t 2022 & ATG & -1.252042 & ATG & 2022 & 143.9042740 & 0.82619178 & NA &       NA &        NA & ⋯ &  8.1 &       NA &       NA & NA  &   NA &    NA &    NA &    NA & 2022 & 0\\\\\n",
       "\\end{tabular}\n"
      ],
      "text/markdown": [
       "\n",
       "A tibble: 6 × 63\n",
       "\n",
       "| year &lt;chr&gt; | country &lt;chr&gt; | value &lt;dbl&gt; | country:r &lt;chr&gt; | t &lt;int&gt; | cases &lt;dbl&gt; | deaths &lt;dbl&gt; | tests &lt;chr&gt; | C1M_School_closing &lt;dbl&gt; | C2M_Workplace_closing &lt;dbl&gt; | ⋯ ⋯ | infant_mortality &lt;dbl&gt; | largest_city_share &lt;dbl&gt; | urbanization &lt;dbl&gt; | country:household_size &lt;chr&gt; | avg_hh_size &lt;dbl&gt; | share_1_members &lt;dbl&gt; | share_2_3_members &lt;dbl&gt; | share_4_5_members &lt;dbl&gt; | year:r &lt;chr&gt; | SARS_flg &lt;int&gt; |\n",
       "|---|---|---|---|---|---|---|---|---|---|---|---|---|---|---|---|---|---|---|---|---|\n",
       "| 2020 | SLV |  2.321174 | SLV | 2020 |  19.6259116 | 0.57060773 | NA | 2.426229 | 1.4344262 | ⋯ | 11.0 | 24.14867 | 17.73575 | SLV | 3.92 |  8.46 | 36.01 | 37.84 | 2020 | 0 |\n",
       "| 2022 | ASM | -2.471433 | ASM | 2022 | 467.6200274 | 1.92600000 | NA |       NA |        NA | ⋯ |   NA |       NA |       NA | NA  |   NA |    NA |    NA |    NA | 2022 | 0 |\n",
       "| 2020 | BOL |  1.776656 | BOL | 2020 |  35.1308840 | 2.07754144 | NA | 2.418033 | 1.8306011 | ⋯ | 21.0 | 22.42107 | 41.25143 | BOL | 3.53 | 20.34 | 34.82 | 27.64 | 2020 | 0 |\n",
       "| 2020 | SLE |  1.100952 | SLE | 2020 |   0.8507182 | 0.02530387 | NA | 1.606557 | 0.2349727 | ⋯ | 80.3 | 35.38844 | 15.18978 | SLE | 5.29 |  6.42 | 20.52 | 33.28 | 2020 | 0 |\n",
       "| 2020 | LKA |  3.031731 | LKA | 2020 |   4.9664917 | 0.02309392 | NA | 1.931694 | 0.5546448 | ⋯ |  6.0 | 14.93368 |       NA | NA  |   NA |    NA |    NA |    NA | 2020 | 0 |\n",
       "| 2022 | ATG | -1.252042 | ATG | 2022 | 143.9042740 | 0.82619178 | NA |       NA |        NA | ⋯ |  8.1 |       NA |       NA | NA  |   NA |    NA |    NA |    NA | 2022 | 0 |\n",
       "\n"
      ],
      "text/plain": [
       "  year country value     country:r t    cases       deaths     tests\n",
       "1 2020 SLV      2.321174 SLV       2020  19.6259116 0.57060773 NA   \n",
       "2 2022 ASM     -2.471433 ASM       2022 467.6200274 1.92600000 NA   \n",
       "3 2020 BOL      1.776656 BOL       2020  35.1308840 2.07754144 NA   \n",
       "4 2020 SLE      1.100952 SLE       2020   0.8507182 0.02530387 NA   \n",
       "5 2020 LKA      3.031731 LKA       2020   4.9664917 0.02309392 NA   \n",
       "6 2022 ATG     -1.252042 ATG       2022 143.9042740 0.82619178 NA   \n",
       "  C1M_School_closing C2M_Workplace_closing ⋯ infant_mortality\n",
       "1 2.426229           1.4344262             ⋯ 11.0            \n",
       "2       NA                  NA             ⋯   NA            \n",
       "3 2.418033           1.8306011             ⋯ 21.0            \n",
       "4 1.606557           0.2349727             ⋯ 80.3            \n",
       "5 1.931694           0.5546448             ⋯  6.0            \n",
       "6       NA                  NA             ⋯  8.1            \n",
       "  largest_city_share urbanization country:household_size avg_hh_size\n",
       "1 24.14867           17.73575     SLV                    3.92       \n",
       "2       NA                 NA     NA                       NA       \n",
       "3 22.42107           41.25143     BOL                    3.53       \n",
       "4 35.38844           15.18978     SLE                    5.29       \n",
       "5 14.93368                 NA     NA                       NA       \n",
       "6       NA                 NA     NA                       NA       \n",
       "  share_1_members share_2_3_members share_4_5_members year:r SARS_flg\n",
       "1  8.46           36.01             37.84             2020   0       \n",
       "2    NA              NA                NA             2022   0       \n",
       "3 20.34           34.82             27.64             2020   0       \n",
       "4  6.42           20.52             33.28             2020   0       \n",
       "5    NA              NA                NA             2020   0       \n",
       "6    NA              NA                NA             2022   0       "
      ]
     },
     "metadata": {},
     "output_type": "display_data"
    }
   ],
   "source": [
    "# Скачиваю данные и переназываю переменные\n",
    "df = read_parquet('../data/processed_data/trade_hs0_import_fe_x_covid.parquet.gzip')\n",
    "df = df %>% mutate(year = as.character(year), SARS_flg = as.integer(!is.na(SARS_total_cases)))\n",
    "df %>% head()"
   ]
  },
  {
   "cell_type": "markdown",
   "metadata": {},
   "source": [
    "### Рисую обычный и demeaned scatterplot, чтобы обосновать необходимость использования фиксированных эффектов\n",
    "\n",
    "Графики будут интерактивные, если раскомментить ggplotly, закомментить p и перепрогнать"
   ]
  },
  {
   "cell_type": "code",
   "execution_count": 54,
   "metadata": {
    "vscode": {
     "languageId": "r"
    }
   },
   "outputs": [
    {
     "name": "stderr",
     "output_type": "stream",
     "text": [
      "Warning message:\n",
      "\"\u001b[1m\u001b[22mRemoved 8 rows containing missing values or values outside the scale range\n",
      "(`geom_point()`).\"\n"
     ]
    },
    {
     "data": {
      "image/png": "[encoded data removed]",
      "text/plain": [
       "plot without title"
      ]
     },
     "metadata": {
      "image/png": {
       "height": 420,
       "width": 420
      }
     },
     "output_type": "display_data"
    }
   ],
   "source": [
    "p = ggplot(df, aes(x = log(deaths), y = value, text = factor(country), color = factor(year)\n",
    "    )) + geom_point()+ theme(legend.position = \"none\")\n",
    "# ggplotly(p) \n",
    "p   "
   ]
  },
  {
   "cell_type": "code",
   "execution_count": 55,
   "metadata": {
    "vscode": {
     "languageId": "r"
    }
   },
   "outputs": [
    {
     "name": "stderr",
     "output_type": "stream",
     "text": [
      "Warning message:\n",
      "\"\u001b[1m\u001b[22mRemoved 2 rows containing missing values or values outside the scale range\n",
      "(`geom_point()`).\"\n"
     ]
    },
    {
     "data": {
      "image/png": "[encoded data removed]",
      "text/plain": [
       "plot without title"
      ]
     },
     "metadata": {
      "image/png": {
       "height": 420,
       "width": 420
      }
     },
     "output_type": "display_data"
    }
   ],
   "source": [
    "country_means_df = df %>% group_by(country) %>%\n",
    " summarize(avg_value = mean(value, na.rm = TRUE), avg_log_deaths = mean(log(deaths), na.rm = TRUE))  %>% filter(avg_log_deaths > -1000)\n",
    "\n",
    "demeaned_df = df %>% merge(., country_means_df, by = 'country')  %>%\n",
    "  mutate(log_deaths = log(deaths)- avg_log_deaths, value = value- avg_value) %>%\n",
    "   select(country, year, log_deaths, value)\n",
    "p = ggplot(demeaned_df, aes(x = log_deaths, y = value, text = factor(country), color = factor(year)\n",
    "    )) + geom_point()+ theme(legend.position = \"none\")\n",
    "# ggplotly(p)    \n",
    "p"
   ]
  },
  {
   "cell_type": "code",
   "execution_count": 56,
   "metadata": {
    "vscode": {
     "languageId": "r"
    }
   },
   "outputs": [
    {
     "name": "stderr",
     "output_type": "stream",
     "text": [
      "Warning message:\n",
      "\"\u001b[1m\u001b[22mRemoved 2 rows containing missing values or values outside the scale range\n",
      "(`geom_point()`).\"\n"
     ]
    },
    {
     "data": {
      "image/png": "[encoded data removed]",
      "text/plain": [
       "plot without title"
      ]
     },
     "metadata": {
      "image/png": {
       "height": 420,
       "width": 420
      }
     },
     "output_type": "display_data"
    }
   ],
   "source": [
    "year_means_df = demeaned_df %>% filter(log_deaths > -5) %>% group_by(year) %>%\n",
    " summarize(avg_value = mean(value, na.rm = TRUE), avg_log_deaths = mean(log_deaths, na.rm = TRUE))\n",
    "\n",
    "demeaned_df2 = demeaned_df %>% merge(., year_means_df, by = 'year')  %>%\n",
    "  mutate(log_deaths = log_deaths- avg_log_deaths, value = value - avg_value) %>%\n",
    "   select(country, year, log_deaths, value)\n",
    "\n",
    "p = ggplot(demeaned_df2, aes(x = log_deaths, y = value, text = factor(country), color = factor(year)\n",
    "    )) + geom_point()+ theme(legend.position = \"none\")\n",
    "# ggplotly(p)    \n",
    "p"
   ]
  },
  {
   "cell_type": "code",
   "execution_count": 57,
   "metadata": {
    "vscode": {
     "languageId": "r"
    }
   },
   "outputs": [
    {
     "data": {
      "text/html": [
       "<table class=\"dataframe\">\n",
       "<caption>A tibble: 3 × 3</caption>\n",
       "<thead>\n",
       "\t<tr><th scope=col>year</th><th scope=col>avg_value</th><th scope=col>avg_log_deaths</th></tr>\n",
       "\t<tr><th scope=col>&lt;chr&gt;</th><th scope=col>&lt;dbl&gt;</th><th scope=col>&lt;dbl&gt;</th></tr>\n",
       "</thead>\n",
       "<tbody>\n",
       "\t<tr><td>2020</td><td> 1.0785846</td><td>-0.4166008</td></tr>\n",
       "\t<tr><td>2021</td><td>-0.6694262</td><td> 0.8422965</td></tr>\n",
       "\t<tr><td>2022</td><td>-0.4091583</td><td>-0.4280231</td></tr>\n",
       "</tbody>\n",
       "</table>\n"
      ],
      "text/latex": [
       "A tibble: 3 × 3\n",
       "\\begin{tabular}{lll}\n",
       " year & avg\\_value & avg\\_log\\_deaths\\\\\n",
       " <chr> & <dbl> & <dbl>\\\\\n",
       "\\hline\n",
       "\t 2020 &  1.0785846 & -0.4166008\\\\\n",
       "\t 2021 & -0.6694262 &  0.8422965\\\\\n",
       "\t 2022 & -0.4091583 & -0.4280231\\\\\n",
       "\\end{tabular}\n"
      ],
      "text/markdown": [
       "\n",
       "A tibble: 3 × 3\n",
       "\n",
       "| year &lt;chr&gt; | avg_value &lt;dbl&gt; | avg_log_deaths &lt;dbl&gt; |\n",
       "|---|---|---|\n",
       "| 2020 |  1.0785846 | -0.4166008 |\n",
       "| 2021 | -0.6694262 |  0.8422965 |\n",
       "| 2022 | -0.4091583 | -0.4280231 |\n",
       "\n"
      ],
      "text/plain": [
       "  year avg_value  avg_log_deaths\n",
       "1 2020  1.0785846 -0.4166008    \n",
       "2 2021 -0.6694262  0.8422965    \n",
       "3 2022 -0.4091583 -0.4280231    "
      ]
     },
     "metadata": {},
     "output_type": "display_data"
    }
   ],
   "source": [
    "year_means_df"
   ]
  },
  {
   "cell_type": "code",
   "execution_count": 58,
   "metadata": {
    "vscode": {
     "languageId": "r"
    }
   },
   "outputs": [
    {
     "name": "stderr",
     "output_type": "stream",
     "text": [
      "Warning message:\n",
      "\"\u001b[1m\u001b[22mRemoved 128 rows containing missing values or values outside the scale range\n",
      "(`geom_point()`).\"\n"
     ]
    },
    {
     "data": {
      "image/png": "[encoded data removed]",
      "text/plain": [
       "plot without title"
      ]
     },
     "metadata": {
      "image/png": {
       "height": 420,
       "width": 420
      }
     },
     "output_type": "display_data"
    }
   ],
   "source": [
    "country_means_df = df %>% group_by(country) %>%\n",
    " summarize(avg_value = mean(value, na.rm = TRUE), avg_C8EV_International_travel_controls = mean(C8EV_International_travel_controls, na.rm = TRUE))\n",
    "\n",
    "demeaned_df = df %>% merge(., country_means_df, by = 'country')  %>%\n",
    "  mutate(C8EV_International_travel_controls = C8EV_International_travel_controls- avg_C8EV_International_travel_controls, value = value- avg_value) %>%\n",
    "   select(country, year, C8EV_International_travel_controls, value)\n",
    "   \n",
    "year_means_df = demeaned_df %>% filter(C8EV_International_travel_controls > -5) %>% group_by(year) %>%\n",
    " summarize(avg_value = mean(value, na.rm = TRUE), avg_C8EV_International_travel_controls = mean(C8EV_International_travel_controls, na.rm = TRUE))\n",
    "\n",
    "demeaned_df2 = demeaned_df %>% merge(., year_means_df, by = 'year')  %>%\n",
    "  mutate(C8EV_International_travel_controls = C8EV_International_travel_controls- avg_C8EV_International_travel_controls, value = value - avg_value) %>%\n",
    "   select(country, year, C8EV_International_travel_controls, value)\n",
    "\n",
    "p = ggplot(demeaned_df2, aes(x = C8EV_International_travel_controls, y = value, text = factor(country), color = factor(year)\n",
    "    )) + geom_point()+ theme(legend.position = \"none\")\n",
    "# ggplotly(p)    \n",
    "p"
   ]
  },
  {
   "cell_type": "markdown",
   "metadata": {},
   "source": [
    "### Сами регрессии"
   ]
  },
  {
   "cell_type": "code",
   "execution_count": 59,
   "metadata": {
    "vscode": {
     "languageId": "r"
    }
   },
   "outputs": [
    {
     "name": "stderr",
     "output_type": "stream",
     "text": [
      "NOTE: 156 observations removed because of NA and infinite values (LHS: 2, RHS: 154).\n",
      "\n"
     ]
    },
    {
     "data": {
      "text/plain": [
       "OLS estimation, Dep. Var.: value\n",
       "Observations: 503\n",
       "Fixed-effects: year: 3\n",
       "Standard-errors: Clustered (country) \n",
       "                                   Estimate Std. Error t value   Pr(>|t|)    \n",
       "log(deaths)                        0.339659   0.070520 4.81652 3.1622e-06 ***\n",
       "C8EV_International_travel_controls 0.489371   0.226937 2.15641 3.2424e-02 *  \n",
       "---\n",
       "Signif. codes:  0 '***' 0.001 '**' 0.01 '*' 0.05 '.' 0.1 ' ' 1\n",
       "RMSE: 2.1876     Adj. R2: 0.205771\n",
       "               Within R2: 0.101741"
      ]
     },
     "metadata": {},
     "output_type": "display_data"
    }
   ],
   "source": [
    "# Pulled OLS\n",
    "import_pulled_ols = feols(value ~ log(deaths) +\n",
    " C8EV_International_travel_controls| year,\n",
    " data = df)\n",
    "import_pulled_ols %>% summary(vcov = ~country)"
   ]
  },
  {
   "cell_type": "code",
   "execution_count": 60,
   "metadata": {
    "vscode": {
     "languageId": "r"
    }
   },
   "outputs": [
    {
     "name": "stderr",
     "output_type": "stream",
     "text": [
      "NOTE: 156 observations removed because of NA and infinite values (LHS: 2, RHS: 154).\n",
      "\n"
     ]
    },
    {
     "data": {
      "text/plain": [
       "OLS estimation, Dep. Var.: value\n",
       "Observations: 503\n",
       "Fixed-effects: country: 175,  year: 3\n",
       "Standard-errors: Clustered (country) \n",
       "                                    Estimate Std. Error   t value Pr(>|t|) \n",
       "log(deaths)                        -0.000596   0.010604 -0.056233  0.95522 \n",
       "C8EV_International_travel_controls -0.004258   0.016856 -0.252587  0.80089 \n",
       "---\n",
       "Signif. codes:  0 '***' 0.001 '**' 0.01 '*' 0.05 '.' 0.1 ' ' 1\n",
       "RMSE: 0.135456     Adj. R2: 0.99532 \n",
       "                 Within R2: 1.485e-4"
      ]
     },
     "metadata": {},
     "output_type": "display_data"
    }
   ],
   "source": [
    "import_fe_ols = feols(value ~ log(deaths) +\n",
    " C8EV_International_travel_controls| country + year,\n",
    " data = df)\n",
    "import_fe_ols %>% summary(vcov = ~country)"
   ]
  },
  {
   "cell_type": "code",
   "execution_count": 61,
   "metadata": {
    "vscode": {
     "languageId": "r"
    }
   },
   "outputs": [
    {
     "name": "stderr",
     "output_type": "stream",
     "text": [
      "NOTE: 158 observations removed because of NA and infinite values (LHS: 2, RHS: 126, IV: 74/130).\n",
      "\n"
     ]
    },
    {
     "data": {
      "text/plain": [
       "TSLS estimation - Dep. Var.: value\n",
       "                  Endo.    : log(deaths)\n",
       "                  Instr.   : C1M_School_closing, median_age, population_density\n",
       "Second stage: Dep. Var.: value\n",
       "Observations: 501\n",
       "Fixed-effects: country: 175,  year: 3\n",
       "Standard-errors: Clustered (country) \n",
       "                                    Estimate Std. Error   t value Pr(>|t|) \n",
       "fit_log(deaths)                    -0.000599   0.030936 -0.019365  0.98457 \n",
       "C8EV_International_travel_controls -0.004370   0.021298 -0.205170  0.83768 \n",
       "---\n",
       "Signif. codes:  0 '***' 0.001 '**' 0.01 '*' 0.05 '.' 0.1 ' ' 1\n",
       "RMSE: 0.135203     Adj. R2: 0.995333\n",
       "                 Within R2: 1.498e-4\n",
       "F-test (1st stage), log(deaths): stat = 14.2     , p = 6.809e-9, on 3 and 494 DoF.\n",
       "                     Wu-Hausman: stat =  1.268e-5, p = 0.997161, on 1 and 321 DoF.\n",
       "                         Sargan: stat =  0.158475, p = 0.923821, on 2 DoF."
      ]
     },
     "metadata": {},
     "output_type": "display_data"
    }
   ],
   "source": [
    "# Тут всё экзогенно\n",
    "import_covid_iv = feols(value ~ 1 + C8EV_International_travel_controls|country + year|\n",
    " log(deaths) ~ #H6M_Facial_Coverings+\n",
    " C1M_School_closing+median_age+population_density,\n",
    " data = df)\n",
    "import_covid_iv %>% summary(vcov = ~country)"
   ]
  },
  {
   "cell_type": "code",
   "execution_count": 62,
   "metadata": {
    "vscode": {
     "languageId": "r"
    }
   },
   "outputs": [
    {
     "name": "stderr",
     "output_type": "stream",
     "text": [
      "NOTE: 158 observations removed because of NA and infinite values (LHS: 2, IV: 154/130).\n",
      "\n"
     ]
    },
    {
     "data": {
      "text/plain": [
       "TSLS estimation - Dep. Var.: value\n",
       "                  Endo.    : log(deaths), C8EV_International_travel_controls\n",
       "                  Instr.   : C1M_School_closing, median_age, population_density\n",
       "Second stage: Dep. Var.: value\n",
       "Observations: 501\n",
       "Fixed-effects: country: 175,  year: 3\n",
       "Standard-errors: Clustered (country) \n",
       "                                        Estimate Std. Error   t value Pr(>|t|) \n",
       "fit_log(deaths)                        -0.013834   0.033116 -0.417735  0.67666 \n",
       "fit_C8EV_International_travel_controls  0.023410   0.079176  0.295666  0.76784 \n",
       "---\n",
       "Signif. codes:  0 '***' 0.001 '**' 0.01 '*' 0.05 '.' 0.1 ' ' 1\n",
       "RMSE: 0.13631     Adj. R2:  0.995256\n",
       "                Within R2: -0.016291\n",
       "F-test (1st stage), log(deaths)                       : stat =  8.63355 , p = 1.355e-5, on 3 and 495 DoF.\n",
       "F-test (1st stage), C8EV_International_travel_controls: stat = 12.9     , p = 4.052e-8, on 3 and 495 DoF.\n",
       "                                            Wu-Hausman: stat =  0.03835 , p = 0.96238 , on 2 and 320 DoF.\n",
       "                                                Sargan: stat =  0.037818, p = 0.845809, on 1 DoF."
      ]
     },
     "metadata": {},
     "output_type": "display_data"
    }
   ],
   "source": [
    "import_all_iv = feols(value ~ 1 |country + year|\n",
    " log(deaths) + C8EV_International_travel_controls ~ #H6M_Facial_Coverings+\n",
    " C1M_School_closing+median_age+population_density,\n",
    " data = df)\n",
    "import_all_iv %>% summary(vcov = ~country)"
   ]
  },
  {
   "cell_type": "code",
   "execution_count": 63,
   "metadata": {
    "vscode": {
     "languageId": "r"
    }
   },
   "outputs": [
    {
     "name": "stderr",
     "output_type": "stream",
     "text": [
      "NOTE: 156 observations removed because of NA and infinite values (LHS: 2, RHS: 154).\n",
      "\n"
     ]
    },
    {
     "data": {
      "text/plain": [
       "OLS estimation, Dep. Var.: value\n",
       "Observations: 503\n",
       "Fixed-effects: country: 175\n",
       "Standard-errors: Clustered (country) \n",
       "                                             Estimate Std. Error    t value\n",
       "year2021                                    -1.697528   0.086705 -19.578137\n",
       "year2022                                    -1.397096   0.098158 -14.233097\n",
       "year2020:log(deaths)                        -0.015986   0.012438  -1.285298\n",
       "year2021:log(deaths)                         0.001662   0.013993   0.118772\n",
       "year2022:log(deaths)                         0.016284   0.011734   1.387787\n",
       "year2020:C8EV_International_travel_controls  0.023331   0.036680   0.636083\n",
       "year2021:C8EV_International_travel_controls  0.007195   0.017225   0.417706\n",
       "year2022:C8EV_International_travel_controls  0.005205   0.047428   0.109748\n",
       "                                             Pr(>|t|)    \n",
       "year2021                                    < 2.2e-16 ***\n",
       "year2022                                    < 2.2e-16 ***\n",
       "year2020:log(deaths)                          0.20040    \n",
       "year2021:log(deaths)                          0.90559    \n",
       "year2022:log(deaths)                          0.16698    \n",
       "year2020:C8EV_International_travel_controls   0.52556    \n",
       "year2021:C8EV_International_travel_controls   0.67668    \n",
       "year2022:C8EV_International_travel_controls   0.91274    \n",
       "---\n",
       "Signif. codes:  0 '***' 0.001 '**' 0.01 '*' 0.05 '.' 0.1 ' ' 1\n",
       "RMSE: 0.132822     Adj. R2: 0.995444\n",
       "                 Within R2: 0.970305"
      ]
     },
     "metadata": {},
     "output_type": "display_data"
    },
    {
     "name": "stderr",
     "output_type": "stream",
     "text": [
      "NOTE: 156 observations removed because of NA and infinite values (LHS: 2, RHS: 154).\n",
      "\n"
     ]
    },
    {
     "data": {
      "text/plain": [
       "OLS estimation, Dep. Var.: value\n",
       "Observations: 503\n",
       "Fixed-effects: country: 175\n",
       "Standard-errors: Clustered (country) \n",
       "                                    Estimate Std. Error    t value  Pr(>|t|)\n",
       "year2021                           -1.735736   0.022717 -76.408213 < 2.2e-16\n",
       "year2022                           -1.433614   0.041711 -34.370504 < 2.2e-16\n",
       "C8EV_International_travel_controls  0.009941   0.018635   0.533483   0.59438\n",
       "year2020:log(deaths)               -0.016772   0.011634  -1.441574   0.15122\n",
       "year2021:log(deaths)                0.000696   0.013027   0.053442   0.95744\n",
       "year2022:log(deaths)                0.015835   0.011622   1.362514   0.17480\n",
       "                                      \n",
       "year2021                           ***\n",
       "year2022                           ***\n",
       "C8EV_International_travel_controls    \n",
       "year2020:log(deaths)                  \n",
       "year2021:log(deaths)                  \n",
       "year2022:log(deaths)                  \n",
       "---\n",
       "Signif. codes:  0 '***' 0.001 '**' 0.01 '*' 0.05 '.' 0.1 ' ' 1\n",
       "RMSE: 0.132872     Adj. R2: 0.995468\n",
       "                 Within R2: 0.970283"
      ]
     },
     "metadata": {},
     "output_type": "display_data"
    }
   ],
   "source": [
    "# Гетерогенность во времени\n",
    "import_time_effects = feols(value ~ year/log(deaths) + year/C8EV_International_travel_controls| country,\n",
    " data = df)\n",
    "import_time_effects %>% summary(vcov = ~country)\n",
    "\n",
    "feols(value ~ year/log(deaths) + C8EV_International_travel_controls| country,\n",
    " data = df) %>% summary(vcov = ~country)"
   ]
  },
  {
   "cell_type": "code",
   "execution_count": 64,
   "metadata": {
    "vscode": {
     "languageId": "r"
    }
   },
   "outputs": [
    {
     "name": "stderr",
     "output_type": "stream",
     "text": [
      "NOTE: 76 observations removed because of NA and infinite values (LHS: 2, RHS: 74).\n",
      "\n"
     ]
    },
    {
     "data": {
      "text/plain": [
       "OLS estimation, Dep. Var.: value\n",
       "Observations: 583\n",
       "Fixed-effects: country: 210\n",
       "Standard-errors: Clustered (country) \n",
       "                      Estimate Std. Error    t value  Pr(>|t|)    \n",
       "year2021             -1.736273   0.021463 -80.896340 < 2.2e-16 ***\n",
       "year2022             -1.435496   0.020997 -68.368321 < 2.2e-16 ***\n",
       "year2020:log(deaths) -0.020469   0.011199  -1.827768   0.06901 .  \n",
       "year2021:log(deaths) -0.000043   0.012479  -0.003408   0.99728    \n",
       "year2022:log(deaths)  0.014333   0.010783   1.329270   0.18521    \n",
       "---\n",
       "Signif. codes:  0 '***' 0.001 '**' 0.01 '*' 0.05 '.' 0.1 ' ' 1\n",
       "RMSE: 0.138164     Adj. R2: 0.995859\n",
       "                 Within R2: 0.966848"
      ]
     },
     "metadata": {},
     "output_type": "display_data"
    }
   ],
   "source": [
    "# Гетерогенность во времени\n",
    "import_covid_time_effects = feols(value ~ year/log(deaths)| country,\n",
    " data = df)\n",
    "import_covid_time_effects %>% summary(vcov = ~country)\n",
    "# Ядро крашится почему-то\n",
    "# feols(value ~ 1| country|\n",
    "# year/log(deaths)~C1M_School_closing+median_age+population_density,\n",
    "#  data = df) %>% summary(vcov = ~country)"
   ]
  },
  {
   "cell_type": "code",
   "execution_count": 73,
   "metadata": {
    "vscode": {
     "languageId": "r"
    }
   },
   "outputs": [
    {
     "data": {
      "text/html": [
       "<table class=\"dataframe\">\n",
       "<caption>A etable_df: 23 × 4</caption>\n",
       "<thead>\n",
       "\t<tr><th></th><th scope=col></th><th scope=col>import_fe_ols</th><th scope=col>import_time_effe..</th><th scope=col>import_covid_iv</th></tr>\n",
       "\t<tr><th></th><th scope=col>&lt;chr&gt;</th><th scope=col>&lt;chr&gt;</th><th scope=col>&lt;chr&gt;</th><th scope=col>&lt;chr&gt;</th></tr>\n",
       "</thead>\n",
       "<tbody>\n",
       "\t<tr><th scope=row>1</th><td>Dependent Var.:                              </td><td>value           </td><td>value             </td><td>value           </td></tr>\n",
       "\t<tr><th scope=row>2</th><td>                                             </td><td>                </td><td>                  </td><td>                </td></tr>\n",
       "\t<tr><th scope=row>3</th><td>log(deaths)                                  </td><td>-0.0006 (0.0106)</td><td>                  </td><td>-0.0006 (0.0309)</td></tr>\n",
       "\t<tr><th scope=row>4</th><td>C8EV_International_travel_controls           </td><td>-0.0043 (0.0169)</td><td>                  </td><td>-0.0044 (0.0213)</td></tr>\n",
       "\t<tr><th scope=row>5</th><td>year2021                                     </td><td>                </td><td>-1.698*** (0.0867)</td><td>                </td></tr>\n",
       "\t<tr><th scope=row>6</th><td>year2022                                     </td><td>                </td><td>-1.397*** (0.0982)</td><td>                </td></tr>\n",
       "\t<tr><th scope=row>7</th><td>year2020 x log(deaths)                       </td><td>                </td><td>-0.0160 (0.0124)  </td><td>                </td></tr>\n",
       "\t<tr><th scope=row>8</th><td>year2021 x log(deaths)                       </td><td>                </td><td>0.0017 (0.0140)   </td><td>                </td></tr>\n",
       "\t<tr><th scope=row>9</th><td>year2022 x log(deaths)                       </td><td>                </td><td>0.0163 (0.0117)   </td><td>                </td></tr>\n",
       "\t<tr><th scope=row>10</th><td>year2020 x C8EV_International_travel_controls</td><td>                </td><td>0.0233 (0.0367)   </td><td>                </td></tr>\n",
       "\t<tr><th scope=row>11</th><td>year2021 x C8EV_International_travel_controls</td><td>                </td><td>0.0072 (0.0172)   </td><td>                </td></tr>\n",
       "\t<tr><th scope=row>12</th><td>year2022 x C8EV_International_travel_controls</td><td>                </td><td>0.0052 (0.0474)   </td><td>                </td></tr>\n",
       "\t<tr><th scope=row>13</th><td>Fixed-Effects:                               </td><td>----------------</td><td>------------------</td><td>----------------</td></tr>\n",
       "\t<tr><th scope=row>14</th><td>country                                      </td><td>Yes             </td><td>Yes               </td><td>Yes             </td></tr>\n",
       "\t<tr><th scope=row>15</th><td>year                                         </td><td>Yes             </td><td>No                </td><td>Yes             </td></tr>\n",
       "\t<tr><th scope=row>16</th><td>________________________________________     </td><td>________________</td><td>__________________</td><td>________________</td></tr>\n",
       "\t<tr><th scope=row>17</th><td>S.E.: Clustered                              </td><td>by: country     </td><td>by: country       </td><td>by: country     </td></tr>\n",
       "\t<tr><th scope=row>18</th><td>Observations                                 </td><td>503             </td><td>503               </td><td>501             </td></tr>\n",
       "\t<tr><th scope=row>19</th><td>R2                                           </td><td>0.99698         </td><td>0.99710           </td><td>0.99699         </td></tr>\n",
       "\t<tr><th scope=row>20</th><td>Within R2                                    </td><td>0.00015         </td><td>0.97031           </td><td>0.00015         </td></tr>\n",
       "\t<tr><th scope=row>21</th><td>Sargan, p-value                              </td><td>--              </td><td>--                </td><td>0.92382         </td></tr>\n",
       "\t<tr><th scope=row>22</th><td>Wu-Hausman, p-value                          </td><td>--              </td><td>--                </td><td>0.99716         </td></tr>\n",
       "\t<tr><th scope=row>23</th><td>F-test (1st stage), log(deaths)              </td><td>--              </td><td>--                </td><td>14.205          </td></tr>\n",
       "</tbody>\n",
       "</table>\n"
      ],
      "text/latex": [
       "A etable\\_df: 23 × 4\n",
       "\\begin{tabular}{r|llll}\n",
       "  &  & import\\_fe\\_ols & import\\_time\\_effe.. & import\\_covid\\_iv\\\\\n",
       "  & <chr> & <chr> & <chr> & <chr>\\\\\n",
       "\\hline\n",
       "\t1 & Dependent Var.:                               & value            & value              & value           \\\\\n",
       "\t2 &                                               &                  &                    &                 \\\\\n",
       "\t3 & log(deaths)                                   & -0.0006 (0.0106) &                    & -0.0006 (0.0309)\\\\\n",
       "\t4 & C8EV\\_International\\_travel\\_controls            & -0.0043 (0.0169) &                    & -0.0044 (0.0213)\\\\\n",
       "\t5 & year2021                                      &                  & -1.698*** (0.0867) &                 \\\\\n",
       "\t6 & year2022                                      &                  & -1.397*** (0.0982) &                 \\\\\n",
       "\t7 & year2020 x log(deaths)                        &                  & -0.0160 (0.0124)   &                 \\\\\n",
       "\t8 & year2021 x log(deaths)                        &                  & 0.0017 (0.0140)    &                 \\\\\n",
       "\t9 & year2022 x log(deaths)                        &                  & 0.0163 (0.0117)    &                 \\\\\n",
       "\t10 & year2020 x C8EV\\_International\\_travel\\_controls &                  & 0.0233 (0.0367)    &                 \\\\\n",
       "\t11 & year2021 x C8EV\\_International\\_travel\\_controls &                  & 0.0072 (0.0172)    &                 \\\\\n",
       "\t12 & year2022 x C8EV\\_International\\_travel\\_controls &                  & 0.0052 (0.0474)    &                 \\\\\n",
       "\t13 & Fixed-Effects:                                & ---------------- & ------------------ & ----------------\\\\\n",
       "\t14 & country                                       & Yes              & Yes                & Yes             \\\\\n",
       "\t15 & year                                          & Yes              & No                 & Yes             \\\\\n",
       "\t16 & \\_\\_\\_\\_\\_\\_\\_\\_\\_\\_\\_\\_\\_\\_\\_\\_\\_\\_\\_\\_\\_\\_\\_\\_\\_\\_\\_\\_\\_\\_\\_\\_\\_\\_\\_\\_\\_\\_\\_\\_      & \\_\\_\\_\\_\\_\\_\\_\\_\\_\\_\\_\\_\\_\\_\\_\\_ & \\_\\_\\_\\_\\_\\_\\_\\_\\_\\_\\_\\_\\_\\_\\_\\_\\_\\_ & \\_\\_\\_\\_\\_\\_\\_\\_\\_\\_\\_\\_\\_\\_\\_\\_\\\\\n",
       "\t17 & S.E.: Clustered                               & by: country      & by: country        & by: country     \\\\\n",
       "\t18 & Observations                                  & 503              & 503                & 501             \\\\\n",
       "\t19 & R2                                            & 0.99698          & 0.99710            & 0.99699         \\\\\n",
       "\t20 & Within R2                                     & 0.00015          & 0.97031            & 0.00015         \\\\\n",
       "\t21 & Sargan, p-value                               & --               & --                 & 0.92382         \\\\\n",
       "\t22 & Wu-Hausman, p-value                           & --               & --                 & 0.99716         \\\\\n",
       "\t23 & F-test (1st stage), log(deaths)               & --               & --                 & 14.205          \\\\\n",
       "\\end{tabular}\n"
      ],
      "text/markdown": [
       "\n",
       "A etable_df: 23 × 4\n",
       "\n",
       "| <!--/--> | <!----> &lt;chr&gt; | import_fe_ols &lt;chr&gt; | import_time_effe.. &lt;chr&gt; | import_covid_iv &lt;chr&gt; |\n",
       "|---|---|---|---|---|\n",
       "| 1 | Dependent Var.:                               | value            | value              | value            |\n",
       "| 2 | <!----> | <!----> | <!----> | <!----> |\n",
       "| 3 | log(deaths)                                   | -0.0006 (0.0106) | <!----> | -0.0006 (0.0309) |\n",
       "| 4 | C8EV_International_travel_controls            | -0.0043 (0.0169) | <!----> | -0.0044 (0.0213) |\n",
       "| 5 | year2021                                      | <!----> | -1.698*** (0.0867) | <!----> |\n",
       "| 6 | year2022                                      | <!----> | -1.397*** (0.0982) | <!----> |\n",
       "| 7 | year2020 x log(deaths)                        | <!----> | -0.0160 (0.0124)   | <!----> |\n",
       "| 8 | year2021 x log(deaths)                        | <!----> | 0.0017 (0.0140)    | <!----> |\n",
       "| 9 | year2022 x log(deaths)                        | <!----> | 0.0163 (0.0117)    | <!----> |\n",
       "| 10 | year2020 x C8EV_International_travel_controls | <!----> | 0.0233 (0.0367)    | <!----> |\n",
       "| 11 | year2021 x C8EV_International_travel_controls | <!----> | 0.0072 (0.0172)    | <!----> |\n",
       "| 12 | year2022 x C8EV_International_travel_controls | <!----> | 0.0052 (0.0474)    | <!----> |\n",
       "| 13 | Fixed-Effects:                                | ---------------- | ------------------ | ---------------- |\n",
       "| 14 | country                                       | Yes              | Yes                | Yes              |\n",
       "| 15 | year                                          | Yes              | No                 | Yes              |\n",
       "| 16 | ________________________________________      | ________________ | __________________ | ________________ |\n",
       "| 17 | S.E.: Clustered                               | by: country      | by: country        | by: country      |\n",
       "| 18 | Observations                                  | 503              | 503                | 501              |\n",
       "| 19 | R2                                            | 0.99698          | 0.99710            | 0.99699          |\n",
       "| 20 | Within R2                                     | 0.00015          | 0.97031            | 0.00015          |\n",
       "| 21 | Sargan, p-value                               | --               | --                 | 0.92382          |\n",
       "| 22 | Wu-Hausman, p-value                           | --               | --                 | 0.99716          |\n",
       "| 23 | F-test (1st stage), log(deaths)               | --               | --                 | 14.205           |\n",
       "\n"
      ],
      "text/plain": [
       "                                                 import_fe_ols   \n",
       "1  Dependent Var.:                               value           \n",
       "2                                                                \n",
       "3  log(deaths)                                   -0.0006 (0.0106)\n",
       "4  C8EV_International_travel_controls            -0.0043 (0.0169)\n",
       "5  year2021                                                      \n",
       "6  year2022                                                      \n",
       "7  year2020 x log(deaths)                                        \n",
       "8  year2021 x log(deaths)                                        \n",
       "9  year2022 x log(deaths)                                        \n",
       "10 year2020 x C8EV_International_travel_controls                 \n",
       "11 year2021 x C8EV_International_travel_controls                 \n",
       "12 year2022 x C8EV_International_travel_controls                 \n",
       "13 Fixed-Effects:                                ----------------\n",
       "14 country                                       Yes             \n",
       "15 year                                          Yes             \n",
       "16 ________________________________________      ________________\n",
       "17 S.E.: Clustered                               by: country     \n",
       "18 Observations                                  503             \n",
       "19 R2                                            0.99698         \n",
       "20 Within R2                                     0.00015         \n",
       "21 Sargan, p-value                               --              \n",
       "22 Wu-Hausman, p-value                           --              \n",
       "23 F-test (1st stage), log(deaths)               --              \n",
       "   import_time_effe.. import_covid_iv \n",
       "1  value              value           \n",
       "2                                     \n",
       "3                     -0.0006 (0.0309)\n",
       "4                     -0.0044 (0.0213)\n",
       "5  -1.698*** (0.0867)                 \n",
       "6  -1.397*** (0.0982)                 \n",
       "7  -0.0160 (0.0124)                   \n",
       "8  0.0017 (0.0140)                    \n",
       "9  0.0163 (0.0117)                    \n",
       "10 0.0233 (0.0367)                    \n",
       "11 0.0072 (0.0172)                    \n",
       "12 0.0052 (0.0474)                    \n",
       "13 ------------------ ----------------\n",
       "14 Yes                Yes             \n",
       "15 No                 Yes             \n",
       "16 __________________ ________________\n",
       "17 by: country        by: country     \n",
       "18 503                501             \n",
       "19 0.99710            0.99699         \n",
       "20 0.97031            0.00015         \n",
       "21 --                 0.92382         \n",
       "22 --                 0.99716         \n",
       "23 --                 14.205          "
      ]
     },
     "metadata": {},
     "output_type": "display_data"
    }
   ],
   "source": [
    "etable(import_fe_ols, import_time_effects, import_covid_iv, vcov = ~country, fitstat=~ . + sargan.p + wh.p + ivf, tex=FALSE)"
   ]
  },
  {
   "cell_type": "code",
   "execution_count": 72,
   "metadata": {
    "vscode": {
     "languageId": "r"
    }
   },
   "outputs": [
    {
     "data": {
      "text/plain": [
       "\\begingroup\n",
       "\\centering\n",
       "\\begin{tabular}{lccc}\n",
       "   \\tabularnewline \\midrule \\midrule\n",
       "   Dependent Variable: & \\multicolumn{3}{c}{value}\\\\\n",
       "   Model:                                                      & (1)      & (2)            & (3)\\\\  \n",
       "   \\midrule\n",
       "   \\emph{Variables}\\\\\n",
       "   log(deaths)                                                 & -0.0006  &                & -0.0006\\\\   \n",
       "                                                               & (0.0106) &                & (0.0309)\\\\   \n",
       "   C8EV\\_International\\_travel\\_controls                       & -0.0043  &                & -0.0044\\\\   \n",
       "                                                               & (0.0169) &                & (0.0213)\\\\   \n",
       "   year2021                                                    &          & -1.698$^{***}$ &   \\\\   \n",
       "                                                               &          & (0.0867)       &   \\\\   \n",
       "   year2022                                                    &          & -1.397$^{***}$ &   \\\\   \n",
       "                                                               &          & (0.0982)       &   \\\\   \n",
       "   year2020 $\\times$ log(deaths)                               &          & -0.0160        &   \\\\   \n",
       "                                                               &          & (0.0124)       &   \\\\   \n",
       "   year2021 $\\times$ log(deaths)                               &          & 0.0017         &   \\\\   \n",
       "                                                               &          & (0.0140)       &   \\\\   \n",
       "   year2022 $\\times$ log(deaths)                               &          & 0.0163         &   \\\\   \n",
       "                                                               &          & (0.0117)       &   \\\\   \n",
       "   year2020 $\\times$ C8EV\\_International\\_travel\\_controls     &          & 0.0233         &   \\\\   \n",
       "                                                               &          & (0.0367)       &   \\\\   \n",
       "   year2021 $\\times$ C8EV\\_International\\_travel\\_controls     &          & 0.0072         &   \\\\   \n",
       "                                                               &          & (0.0172)       &   \\\\   \n",
       "   year2022 $\\times$ C8EV\\_International\\_travel\\_controls     &          & 0.0052         &   \\\\   \n",
       "                                                               &          & (0.0474)       &   \\\\   \n",
       "   \\midrule\n",
       "   \\emph{Fixed-effects}\\\\\n",
       "   country                                                     & Yes      & Yes            & Yes\\\\  \n",
       "   year                                                        & Yes      &                & Yes\\\\  \n",
       "   \\midrule\n",
       "   \\emph{Fit statistics}\\\\\n",
       "   Observations                                                & 503      & 503            & 501\\\\  \n",
       "   R$^2$                                                       & 0.99698  & 0.99710        & 0.99699\\\\  \n",
       "   Within R$^2$                                                & 0.00015  & 0.97031        & 0.00015\\\\  \n",
       "   Sargan, p-value                                             &          &                & 0.92382\\\\  \n",
       "   Wu-Hausman, p-value                                         &          &                & 0.99716\\\\  \n",
       "   F-test (1st stage), log(deaths)                             &          &                & 14.205\\\\  \n",
       "   \\midrule \\midrule\n",
       "   \\multicolumn{4}{l}{\\emph{Clustered (country) standard-errors in parentheses}}\\\\\n",
       "   \\multicolumn{4}{l}{\\emph{Signif. Codes: ***: 0.01, **: 0.05, *: 0.1}}\\\\\n",
       "\\end{tabular}\n",
       "\\par\\endgroup"
      ]
     },
     "metadata": {},
     "output_type": "display_data"
    }
   ],
   "source": [
    "etable(import_fe_ols, import_time_effects, import_covid_iv, vcov = ~country, fitstat=~ . + sargan.p + wh.p + ivf, tex=TRUE)"
   ]
  },
  {
   "cell_type": "code",
   "execution_count": null,
   "metadata": {
    "vscode": {
     "languageId": "r"
    }
   },
   "outputs": [
    {
     "name": "stderr",
     "output_type": "stream",
     "text": [
      "NOTE: 156 observations removed because of NA and infinite values (LHS: 2, RHS: 154).\n",
      "\n"
     ]
    },
    {
     "data": {
      "text/plain": [
       "OLS estimation, Dep. Var.: value\n",
       "Observations: 503\n",
       "Fixed-effects: country: 175,  year: 3\n",
       "Standard-errors: Clustered (country) \n",
       "                         Estimate Std. Error   t value Pr(>|t|) \n",
       "StringencyIndex_Average -0.001685   0.001141 -1.476210  0.14169 \n",
       "log(deaths)              0.001954   0.010623  0.183984  0.85424 \n",
       "---\n",
       "Signif. codes:  0 '***' 0.001 '**' 0.01 '*' 0.05 '.' 0.1 ' ' 1\n",
       "RMSE: 0.134983     Adj. R2: 0.995352\n",
       "                 Within R2: 0.00712 "
      ]
     },
     "metadata": {},
     "output_type": "display_data"
    }
   ],
   "source": [
    "m = feols(value ~ StringencyIndex_Average + log(deaths)| country + year,\n",
    " data = df)\n",
    "m %>% summary(vcov = ~country)"
   ]
  }
 ],
 "metadata": {
  "kernelspec": {
   "display_name": "R",
   "language": "R",
   "name": "ir"
  },
  "language_info": {
   "codemirror_mode": "r",
   "file_extension": ".r",
   "mimetype": "text/x-r-source",
   "name": "R",
   "pygments_lexer": "r",
   "version": "4.4.1"
  }
 },
 "nbformat": 4,
 "nbformat_minor": 2
}
