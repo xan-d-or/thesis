{
 "cells": [
  {
   "cell_type": "markdown",
   "metadata": {},
   "source": [
    "# Оцениваем разные спецификации для HS2"
   ]
  },
  {
   "cell_type": "code",
   "execution_count": 1,
   "metadata": {
    "vscode": {
     "languageId": "r"
    }
   },
   "outputs": [
    {
     "name": "stderr",
     "output_type": "stream",
     "text": [
      "\n",
      "Присоединяю пакет: 'arrow'\n",
      "\n",
      "\n",
      "Следующий объект скрыт от 'package:utils':\n",
      "\n",
      "    timestamp\n",
      "\n",
      "\n",
      "\n",
      "Please cite as: \n",
      "\n",
      "\n",
      " Hlavac, Marek (2022). stargazer: Well-Formatted Regression and Summary Statistics Tables.\n",
      "\n",
      " R package version 5.2.3. https://CRAN.R-project.org/package=stargazer \n",
      "\n",
      "\n",
      "Warning message:\n",
      "\"пакет 'tidyverse' был собран под R версии 4.4.2\"\n",
      "── \u001b[1mAttaching core tidyverse packages\u001b[22m ──────────────────────── tidyverse 2.0.0 ──\n",
      "\u001b[32m✔\u001b[39m \u001b[34mdplyr    \u001b[39m 1.1.4     \u001b[32m✔\u001b[39m \u001b[34mreadr    \u001b[39m 2.1.5\n",
      "\u001b[32m✔\u001b[39m \u001b[34mforcats  \u001b[39m 1.0.0     \u001b[32m✔\u001b[39m \u001b[34mstringr  \u001b[39m 1.5.1\n",
      "\u001b[32m✔\u001b[39m \u001b[34mggplot2  \u001b[39m 3.5.1     \u001b[32m✔\u001b[39m \u001b[34mtibble   \u001b[39m 3.2.1\n",
      "\u001b[32m✔\u001b[39m \u001b[34mlubridate\u001b[39m 1.9.3     \u001b[32m✔\u001b[39m \u001b[34mtidyr    \u001b[39m 1.3.1\n",
      "\u001b[32m✔\u001b[39m \u001b[34mpurrr    \u001b[39m 1.0.2     \n",
      "── \u001b[1mConflicts\u001b[22m ────────────────────────────────────────── tidyverse_conflicts() ──\n",
      "\u001b[31m✖\u001b[39m \u001b[34mlubridate\u001b[39m::\u001b[32mduration()\u001b[39m masks \u001b[34marrow\u001b[39m::duration()\n",
      "\u001b[31m✖\u001b[39m \u001b[34mdplyr\u001b[39m::\u001b[32mfilter()\u001b[39m       masks \u001b[34mstats\u001b[39m::filter()\n",
      "\u001b[31m✖\u001b[39m \u001b[34mdplyr\u001b[39m::\u001b[32mlag()\u001b[39m          masks \u001b[34mstats\u001b[39m::lag()\n",
      "\u001b[36mℹ\u001b[39m Use the conflicted package (\u001b[3m\u001b[34m<http://conflicted.r-lib.org/>\u001b[39m\u001b[23m) to force all conflicts to become errors\n",
      "Warning message:\n",
      "\"пакет 'plotly' был собран под R версии 4.4.2\"\n",
      "\n",
      "Присоединяю пакет: 'plotly'\n",
      "\n",
      "\n",
      "Следующий объект скрыт от 'package:ggplot2':\n",
      "\n",
      "    last_plot\n",
      "\n",
      "\n",
      "Следующий объект скрыт от 'package:arrow':\n",
      "\n",
      "    schema\n",
      "\n",
      "\n",
      "Следующий объект скрыт от 'package:stats':\n",
      "\n",
      "    filter\n",
      "\n",
      "\n",
      "Следующий объект скрыт от 'package:graphics':\n",
      "\n",
      "    layout\n",
      "\n",
      "\n"
     ]
    }
   ],
   "source": [
    "library(arrow)\n",
    "library(stargazer)\n",
    "library(tidyverse)\n",
    "library(plotly)\n",
    "library(fixest)"
   ]
  },
  {
   "cell_type": "code",
   "execution_count": 3,
   "metadata": {
    "vscode": {
     "languageId": "r"
    }
   },
   "outputs": [
    {
     "data": {
      "text/html": [
       "<table class=\"dataframe\">\n",
       "<caption>A tibble: 6 × 142</caption>\n",
       "<thead>\n",
       "\t<tr><th scope=col>t</th><th scope=col>i</th><th scope=col>j</th><th scope=col>category</th><th scope=col>v</th><th scope=col>q</th><th scope=col>v19</th><th scope=col>q19</th><th scope=col>country</th><th scope=col>t:r_i</th><th scope=col>⋯</th><th scope=col>C1M_School_closing_i</th><th scope=col>C1M_School_closing_j</th><th scope=col>population_density_i</th><th scope=col>population_density_j</th><th scope=col>share_1_members_i</th><th scope=col>share_1_members_j</th><th scope=col>H6M_Facial_Coverings_i</th><th scope=col>H6M_Facial_Coverings_j</th><th scope=col>C8EV_International_travel_controls_i</th><th scope=col>C8EV_International_travel_controls_j</th></tr>\n",
       "\t<tr><th scope=col>&lt;int&gt;</th><th scope=col>&lt;chr&gt;</th><th scope=col>&lt;chr&gt;</th><th scope=col>&lt;chr&gt;</th><th scope=col>&lt;dbl&gt;</th><th scope=col>&lt;dbl&gt;</th><th scope=col>&lt;dbl&gt;</th><th scope=col>&lt;dbl&gt;</th><th scope=col>&lt;chr&gt;</th><th scope=col>&lt;int&gt;</th><th scope=col>⋯</th><th scope=col>&lt;dbl&gt;</th><th scope=col>&lt;dbl&gt;</th><th scope=col>&lt;dbl&gt;</th><th scope=col>&lt;dbl&gt;</th><th scope=col>&lt;dbl&gt;</th><th scope=col>&lt;dbl&gt;</th><th scope=col>&lt;dbl&gt;</th><th scope=col>&lt;dbl&gt;</th><th scope=col>&lt;dbl&gt;</th><th scope=col>&lt;dbl&gt;</th></tr>\n",
       "</thead>\n",
       "<tbody>\n",
       "\t<tr><td>2021</td><td>SVK</td><td>RUS</td><td>12</td><td>   37.881</td><td>  18.000</td><td> 310.385</td><td>104.000</td><td>SVK</td><td>2021</td><td>⋯</td><td>1.9616438</td><td>1.2904110</td><td>113.29549</td><td>  8.838488</td><td>25.33</td><td>25.69</td><td>3.065753</td><td>2.3150685</td><td>1.545205</td><td>2.6109588</td></tr>\n",
       "\t<tr><td>2021</td><td>JAM</td><td>FRA</td><td>04</td><td>    7.270</td><td>   4.502</td><td>   0.160</td><td>  0.022</td><td>JAM</td><td>2021</td><td>⋯</td><td>1.4465753</td><td>1.1780822</td><td>262.02050</td><td>123.900911</td><td>   NA</td><td>   NA</td><td>3.095891</td><td>3.2000000</td><td>2.427397</td><td>2.0520549</td></tr>\n",
       "\t<tr><td>2021</td><td>AGO</td><td>CHN</td><td>74</td><td>13144.124</td><td>1492.615</td><td>1866.895</td><td>333.660</td><td>AGO</td><td>2021</td><td>⋯</td><td>0.3561644</td><td>2.6986301</td><td> 27.69907</td><td>150.439754</td><td>10.81</td><td>14.53</td><td>2.895890</td><td>2.4054794</td><td>2.487671</td><td>2.5479453</td></tr>\n",
       "\t<tr><td>2022</td><td>PAK</td><td>CHE</td><td>84</td><td>  257.766</td><td>  17.832</td><td> 150.195</td><td>  2.863</td><td>PAK</td><td>2022</td><td>⋯</td><td>0.5424657</td><td>0.2575342</td><td>316.13308</td><td>222.150600</td><td> 1.08</td><td>   NA</td><td>2.969863</td><td>0.4931507</td><td>1.000000</td><td>0.1287671</td></tr>\n",
       "\t<tr><td>2021</td><td>CUB</td><td>CZE</td><td>24</td><td> 1600.466</td><td>   4.743</td><td>1647.356</td><td>  4.901</td><td>CUB</td><td>2021</td><td>⋯</td><td>2.5561643</td><td>1.7780821</td><td>107.14998</td><td>136.108349</td><td>21.14</td><td>32.51</td><td>3.315068</td><td>2.6356165</td><td>1.838356</td><td>2.4712329</td></tr>\n",
       "\t<tr><td>2020</td><td>GBR</td><td>LKA</td><td>05</td><td>  209.375</td><td>   0.083</td><td> 174.662</td><td>  0.100</td><td>GBR</td><td>2020</td><td>⋯</td><td>1.8633879</td><td>1.9316940</td><td>277.27539</td><td>354.332363</td><td>30.58</td><td>   NA</td><td>1.579235</td><td>2.4699454</td><td>1.153005</td><td>2.3087432</td></tr>\n",
       "</tbody>\n",
       "</table>\n"
      ],
      "text/latex": [
       "A tibble: 6 × 142\n",
       "\\begin{tabular}{lllllllllllllllllllll}\n",
       " t & i & j & category & v & q & v19 & q19 & country & t:r\\_i & ⋯ & C1M\\_School\\_closing\\_i & C1M\\_School\\_closing\\_j & population\\_density\\_i & population\\_density\\_j & share\\_1\\_members\\_i & share\\_1\\_members\\_j & H6M\\_Facial\\_Coverings\\_i & H6M\\_Facial\\_Coverings\\_j & C8EV\\_International\\_travel\\_controls\\_i & C8EV\\_International\\_travel\\_controls\\_j\\\\\n",
       " <int> & <chr> & <chr> & <chr> & <dbl> & <dbl> & <dbl> & <dbl> & <chr> & <int> & ⋯ & <dbl> & <dbl> & <dbl> & <dbl> & <dbl> & <dbl> & <dbl> & <dbl> & <dbl> & <dbl>\\\\\n",
       "\\hline\n",
       "\t 2021 & SVK & RUS & 12 &    37.881 &   18.000 &  310.385 & 104.000 & SVK & 2021 & ⋯ & 1.9616438 & 1.2904110 & 113.29549 &   8.838488 & 25.33 & 25.69 & 3.065753 & 2.3150685 & 1.545205 & 2.6109588\\\\\n",
       "\t 2021 & JAM & FRA & 04 &     7.270 &    4.502 &    0.160 &   0.022 & JAM & 2021 & ⋯ & 1.4465753 & 1.1780822 & 262.02050 & 123.900911 &    NA &    NA & 3.095891 & 3.2000000 & 2.427397 & 2.0520549\\\\\n",
       "\t 2021 & AGO & CHN & 74 & 13144.124 & 1492.615 & 1866.895 & 333.660 & AGO & 2021 & ⋯ & 0.3561644 & 2.6986301 &  27.69907 & 150.439754 & 10.81 & 14.53 & 2.895890 & 2.4054794 & 2.487671 & 2.5479453\\\\\n",
       "\t 2022 & PAK & CHE & 84 &   257.766 &   17.832 &  150.195 &   2.863 & PAK & 2022 & ⋯ & 0.5424657 & 0.2575342 & 316.13308 & 222.150600 &  1.08 &    NA & 2.969863 & 0.4931507 & 1.000000 & 0.1287671\\\\\n",
       "\t 2021 & CUB & CZE & 24 &  1600.466 &    4.743 & 1647.356 &   4.901 & CUB & 2021 & ⋯ & 2.5561643 & 1.7780821 & 107.14998 & 136.108349 & 21.14 & 32.51 & 3.315068 & 2.6356165 & 1.838356 & 2.4712329\\\\\n",
       "\t 2020 & GBR & LKA & 05 &   209.375 &    0.083 &  174.662 &   0.100 & GBR & 2020 & ⋯ & 1.8633879 & 1.9316940 & 277.27539 & 354.332363 & 30.58 &    NA & 1.579235 & 2.4699454 & 1.153005 & 2.3087432\\\\\n",
       "\\end{tabular}\n"
      ],
      "text/markdown": [
       "\n",
       "A tibble: 6 × 142\n",
       "\n",
       "| t &lt;int&gt; | i &lt;chr&gt; | j &lt;chr&gt; | category &lt;chr&gt; | v &lt;dbl&gt; | q &lt;dbl&gt; | v19 &lt;dbl&gt; | q19 &lt;dbl&gt; | country &lt;chr&gt; | t:r_i &lt;int&gt; | ⋯ ⋯ | C1M_School_closing_i &lt;dbl&gt; | C1M_School_closing_j &lt;dbl&gt; | population_density_i &lt;dbl&gt; | population_density_j &lt;dbl&gt; | share_1_members_i &lt;dbl&gt; | share_1_members_j &lt;dbl&gt; | H6M_Facial_Coverings_i &lt;dbl&gt; | H6M_Facial_Coverings_j &lt;dbl&gt; | C8EV_International_travel_controls_i &lt;dbl&gt; | C8EV_International_travel_controls_j &lt;dbl&gt; |\n",
       "|---|---|---|---|---|---|---|---|---|---|---|---|---|---|---|---|---|---|---|---|---|\n",
       "| 2021 | SVK | RUS | 12 |    37.881 |   18.000 |  310.385 | 104.000 | SVK | 2021 | ⋯ | 1.9616438 | 1.2904110 | 113.29549 |   8.838488 | 25.33 | 25.69 | 3.065753 | 2.3150685 | 1.545205 | 2.6109588 |\n",
       "| 2021 | JAM | FRA | 04 |     7.270 |    4.502 |    0.160 |   0.022 | JAM | 2021 | ⋯ | 1.4465753 | 1.1780822 | 262.02050 | 123.900911 |    NA |    NA | 3.095891 | 3.2000000 | 2.427397 | 2.0520549 |\n",
       "| 2021 | AGO | CHN | 74 | 13144.124 | 1492.615 | 1866.895 | 333.660 | AGO | 2021 | ⋯ | 0.3561644 | 2.6986301 |  27.69907 | 150.439754 | 10.81 | 14.53 | 2.895890 | 2.4054794 | 2.487671 | 2.5479453 |\n",
       "| 2022 | PAK | CHE | 84 |   257.766 |   17.832 |  150.195 |   2.863 | PAK | 2022 | ⋯ | 0.5424657 | 0.2575342 | 316.13308 | 222.150600 |  1.08 |    NA | 2.969863 | 0.4931507 | 1.000000 | 0.1287671 |\n",
       "| 2021 | CUB | CZE | 24 |  1600.466 |    4.743 | 1647.356 |   4.901 | CUB | 2021 | ⋯ | 2.5561643 | 1.7780821 | 107.14998 | 136.108349 | 21.14 | 32.51 | 3.315068 | 2.6356165 | 1.838356 | 2.4712329 |\n",
       "| 2020 | GBR | LKA | 05 |   209.375 |    0.083 |  174.662 |   0.100 | GBR | 2020 | ⋯ | 1.8633879 | 1.9316940 | 277.27539 | 354.332363 | 30.58 |    NA | 1.579235 | 2.4699454 | 1.153005 | 2.3087432 |\n",
       "\n"
      ],
      "text/plain": [
       "  t    i   j   category v         q        v19      q19     country t:r_i ⋯\n",
       "1 2021 SVK RUS 12          37.881   18.000  310.385 104.000 SVK     2021  ⋯\n",
       "2 2021 JAM FRA 04           7.270    4.502    0.160   0.022 JAM     2021  ⋯\n",
       "3 2021 AGO CHN 74       13144.124 1492.615 1866.895 333.660 AGO     2021  ⋯\n",
       "4 2022 PAK CHE 84         257.766   17.832  150.195   2.863 PAK     2022  ⋯\n",
       "5 2021 CUB CZE 24        1600.466    4.743 1647.356   4.901 CUB     2021  ⋯\n",
       "6 2020 GBR LKA 05         209.375    0.083  174.662   0.100 GBR     2020  ⋯\n",
       "  C1M_School_closing_i C1M_School_closing_j population_density_i\n",
       "1 1.9616438            1.2904110            113.29549           \n",
       "2 1.4465753            1.1780822            262.02050           \n",
       "3 0.3561644            2.6986301             27.69907           \n",
       "4 0.5424657            0.2575342            316.13308           \n",
       "5 2.5561643            1.7780821            107.14998           \n",
       "6 1.8633879            1.9316940            277.27539           \n",
       "  population_density_j share_1_members_i share_1_members_j\n",
       "1   8.838488           25.33             25.69            \n",
       "2 123.900911              NA                NA            \n",
       "3 150.439754           10.81             14.53            \n",
       "4 222.150600            1.08                NA            \n",
       "5 136.108349           21.14             32.51            \n",
       "6 354.332363           30.58                NA            \n",
       "  H6M_Facial_Coverings_i H6M_Facial_Coverings_j\n",
       "1 3.065753               2.3150685             \n",
       "2 3.095891               3.2000000             \n",
       "3 2.895890               2.4054794             \n",
       "4 2.969863               0.4931507             \n",
       "5 3.315068               2.6356165             \n",
       "6 1.579235               2.4699454             \n",
       "  C8EV_International_travel_controls_i C8EV_International_travel_controls_j\n",
       "1 1.545205                             2.6109588                           \n",
       "2 2.427397                             2.0520549                           \n",
       "3 2.487671                             2.5479453                           \n",
       "4 1.000000                             0.1287671                           \n",
       "5 1.838356                             2.4712329                           \n",
       "6 1.153005                             2.3087432                           "
      ]
     },
     "metadata": {},
     "output_type": "display_data"
    }
   ],
   "source": [
    "# Скачиваю данные и переназываю переменные\n",
    "df = read_parquet('../../data/processed_data/trade_hs2_x_covid.parquet.gzip')\n",
    "# Добавить везде _i для симметрии\n",
    "df$cases_i = df$cases\n",
    "df$cases_j = df$`cases:r_j`\n",
    "\n",
    "df$median_age_i = df$median_age\n",
    "df$median_age_j = df$`median_age:r_j`\n",
    "\n",
    "df$average_surface_temperature_i = df$average_surface_temperature\n",
    "df$average_surface_temperature_j = df$`average_surface_temperature:r_j`\n",
    "\n",
    "df$C1M_School_closing_i = df$C1M_School_closing\n",
    "df$C1M_School_closing_j = df$`C1M_School_closing:r_j`\n",
    "\n",
    "df$population_density_i = df$population_density\n",
    "df$population_density_j = df$`population_density:r_j`\n",
    "\n",
    "df$share_1_members_i = df$share_1_members\n",
    "df$share_1_members_j = df$`share_1_members:r_j`\n",
    "\n",
    "df$H6M_Facial_Coverings_i = df$H6M_Facial_Coverings\n",
    "df$H6M_Facial_Coverings_j = df$`H6M_Facial_Coverings:r_j`\n",
    "\n",
    "df$C8EV_International_travel_controls_i = df$C8EV_International_travel_controls\n",
    "df$C8EV_International_travel_controls_j = df$`C8EV_International_travel_controls:r_j`\n",
    "df %>% head()"
   ]
  },
  {
   "cell_type": "code",
   "execution_count": 4,
   "metadata": {
    "vscode": {
     "languageId": "r"
    }
   },
   "outputs": [
    {
     "name": "stderr",
     "output_type": "stream",
     "text": [
      "NOTE: 179,913 observations removed because of NA and infinite values (RHS: 179,913).\n",
      "\n"
     ]
    },
    {
     "data": {
      "text/plain": [
       "OLS estimation, Dep. Var.: log(v/v19)\n",
       "Observations: 1,710,695\n",
       "Fixed-effects: year: 3\n",
       "Standard-errors: Clustered (i^category & j^category) \n",
       "                                      Estimate Std. Error  t value   Pr(>|t|)\n",
       "log(cases_i)                         -0.005848   0.001187 -4.92799 8.3979e-07\n",
       "log(cases_j)                         -0.001867   0.001012 -1.84503 6.5053e-02\n",
       "C8EV_International_travel_controls_i -0.026148   0.003327 -7.85901 4.1370e-15\n",
       "C8EV_International_travel_controls_j -0.022491   0.002966 -7.58168 3.6131e-14\n",
       "                                        \n",
       "log(cases_i)                         ***\n",
       "log(cases_j)                         .  \n",
       "C8EV_International_travel_controls_i ***\n",
       "C8EV_International_travel_controls_j ***\n",
       "---\n",
       "Signif. codes:  0 '***' 0.001 '**' 0.01 '*' 0.05 '.' 0.1 ' ' 1\n",
       "RMSE: 1.46813     Adj. R2: 0.004473\n",
       "                Within R2: 2.281e-4"
      ]
     },
     "metadata": {},
     "output_type": "display_data"
    }
   ],
   "source": [
    "# Pulled OLS\n",
    "m0 = feols(log(v/v19) ~ log(cases_i) + log(cases_j) +\n",
    " C8EV_International_travel_controls_i + C8EV_International_travel_controls_j| year,\n",
    " data = df)\n",
    "m0 %>% summary(cluster = ~ i^category+j^category)"
   ]
  },
  {
   "cell_type": "code",
   "execution_count": 5,
   "metadata": {
    "vscode": {
     "languageId": "r"
    }
   },
   "outputs": [
    {
     "name": "stderr",
     "output_type": "stream",
     "text": [
      "NOTE: 179,913 observations removed because of NA and infinite values (RHS: 179,913).\n",
      "\n"
     ]
    },
    {
     "data": {
      "text/plain": [
       "OLS estimation, Dep. Var.: log(v/v19)\n",
       "Observations: 1,710,695\n",
       "Fixed-effects: i: 175,  j: 175,  category: 96,  year: 3\n",
       "Standard-errors: Clustered (i^category & j^category) \n",
       "                                      Estimate Std. Error   t value   Pr(>|t|)\n",
       "log(cases_i)                         -0.001158   0.001363 -0.849900 3.9539e-01\n",
       "log(cases_j)                         -0.005932   0.001157 -5.125770 3.0005e-07\n",
       "C8EV_International_travel_controls_i -0.011962   0.003111 -3.845634 1.2074e-04\n",
       "C8EV_International_travel_controls_j -0.026615   0.002906 -9.158448  < 2.2e-16\n",
       "                                        \n",
       "log(cases_i)                            \n",
       "log(cases_j)                         ***\n",
       "C8EV_International_travel_controls_i ***\n",
       "C8EV_International_travel_controls_j ***\n",
       "---\n",
       "Signif. codes:  0 '***' 0.001 '**' 0.01 '*' 0.05 '.' 0.1 ' ' 1\n",
       "RMSE: 1.46029     Adj. R2: 0.014826\n",
       "                Within R2: 7.406e-5"
      ]
     },
     "metadata": {},
     "output_type": "display_data"
    }
   ],
   "source": [
    "# FE (т.е. оценка на панельных данных с использованием внутригрупповой дисперсии)\n",
    "m1 = feols(log(v/v19) ~ log(cases_i) + log(cases_j) +\n",
    " C8EV_International_travel_controls_i + C8EV_International_travel_controls_j| i + j + category +year,\n",
    " data = df)\n",
    "m1 %>% summary(cluster = ~ i^category + j^category)"
   ]
  },
  {
   "cell_type": "code",
   "execution_count": 6,
   "metadata": {
    "vscode": {
     "languageId": "r"
    }
   },
   "outputs": [
    {
     "name": "stderr",
     "output_type": "stream",
     "text": [
      "NOTE: 179,913 observations removed because of NA and infinite values (RHS: 179,913).\n",
      "\n"
     ]
    },
    {
     "data": {
      "text/plain": [
       "OLS estimation, Dep. Var.: log(v/v19)\n",
       "Observations: 1,710,695\n",
       "Fixed-effects: i^category: 14,819,  j^category: 16,575,  year: 3\n",
       "Standard-errors: Clustered (i^category & j^category) \n",
       "                                      Estimate Std. Error   t value   Pr(>|t|)\n",
       "log(cases_i)                         -0.000928   0.001353 -0.685670 4.9293e-01\n",
       "log(cases_j)                         -0.006107   0.001142 -5.346007 9.1248e-08\n",
       "C8EV_International_travel_controls_i -0.011968   0.003104 -3.855301 1.1608e-04\n",
       "C8EV_International_travel_controls_j -0.026949   0.002891 -9.322146  < 2.2e-16\n",
       "                                        \n",
       "log(cases_i)                            \n",
       "log(cases_j)                         ***\n",
       "C8EV_International_travel_controls_i ***\n",
       "C8EV_International_travel_controls_j ***\n",
       "---\n",
       "Signif. codes:  0 '***' 0.001 '**' 0.01 '*' 0.05 '.' 0.1 ' ' 1\n",
       "RMSE: 1.42086     Adj. R2: 0.050118\n",
       "                Within R2: 7.989e-5"
      ]
     },
     "metadata": {},
     "output_type": "display_data"
    }
   ],
   "source": [
    "# По-другому включаю фиксированные эффекты категории\n",
    "m2 = feols(log(v/v19) ~ log(cases_i) + log(cases_j) +\n",
    " C8EV_International_travel_controls_i + C8EV_International_travel_controls_j| i^category + j^category + year,\n",
    " data = df)\n",
    "m2 %>% summary(cluster = ~ i^category+j^category)"
   ]
  },
  {
   "cell_type": "code",
   "execution_count": 7,
   "metadata": {
    "vscode": {
     "languageId": "r"
    }
   },
   "outputs": [
    {
     "ename": "ERROR",
     "evalue": "Error in feols(log(v/v19) ~ category/log(cases_i) + category/log(cases_j) + : Evaluation of the right-hand-side of the formula raises an error: \n  не могу разместить вектор размером 6.8 Gb\n",
     "output_type": "error",
     "traceback": [
      "Error in feols(log(v/v19) ~ category/log(cases_i) + category/log(cases_j) + : Evaluation of the right-hand-side of the formula raises an error: \n  не могу разместить вектор размером 6.8 Gb\nTraceback:\n",
      "1. stop(format_error_msg(env, \"feols\"))",
      "2. .handleSimpleError(function (cnd) \n . {\n .     watcher$capture_plot_and_output()\n .     cnd <- sanitize_call(cnd)\n .     watcher$push(cnd)\n .     switch(on_error, continue = invokeRestart(\"eval_continue\"), \n .         stop = invokeRestart(\"eval_stop\"), error = invokeRestart(\"eval_error\", \n .             cnd))\n . }, \"Evaluation of the right-hand-side of the formula raises an error: \\n  не могу разместить вектор размером 6.8 Gb\", \n .     base::quote(feols(log(v/v19) ~ category/log(cases_i) + category/log(cases_j) + \n .         category/C8EV_International_travel_controls_i + category/C8EV_International_travel_controls_j | \n .         i^category + j^category, data = df)))"
     ]
    }
   ],
   "source": [
    "# Гетерогенность по категории не влезла в оперативку (22 Гб с годом, 6 Гб без года)\n",
    "# m3 = feols(log(v/v19) ~ year:category/log(cases_i) + year:category/log(cases_j) +\n",
    "# year:category/C8EV_International_travel_controls_i + year:category/C8EV_International_travel_controls_j| i^category + j^category,\n",
    "#  data = df)\n",
    "m3 = feols(log(v/v19) ~ category/log(cases_i) + category/log(cases_j) +\n",
    "category/C8EV_International_travel_controls_i + category/C8EV_International_travel_controls_j| i^category + j^category,\n",
    " data = df) \n",
    "m3 %>% summary(cluster = ~ i^category+j^category)"
   ]
  },
  {
   "cell_type": "code",
   "execution_count": 8,
   "metadata": {
    "vscode": {
     "languageId": "r"
    }
   },
   "outputs": [
    {
     "name": "stderr",
     "output_type": "stream",
     "text": [
      "NOTE: 189,895 observations removed because of NA and infinite values (RHS: 123,242, IV: 64,244/148,824).\n",
      "\n"
     ]
    },
    {
     "data": {
      "text/plain": [
       "TSLS estimation - Dep. Var.: log(v/v19)\n",
       "                  Endo.    : log(cases_i), log(cases_j)\n",
       "                  Instr.   : C1M_School_closing_i, C1M_School_closing_j, population_density_i, population_density_j\n",
       "Second stage: Dep. Var.: log(v/v19)\n",
       "Observations: 1,700,713\n",
       "Fixed-effects: i^category: 14,819,  j^category: 16,574,  year: 3\n",
       "Standard-errors: Clustered (i^category & j^category) \n",
       "                                      Estimate Std. Error   t value   Pr(>|t|)\n",
       "fit_log(cases_i)                     -0.003475   0.003912 -0.888181 0.37445759\n",
       "fit_log(cases_j)                     -0.004562   0.004253 -1.072492 0.28351673\n",
       "C8EV_International_travel_controls_i -0.012237   0.003157 -3.875790 0.00010674\n",
       "C8EV_International_travel_controls_j -0.026534   0.003002 -8.840002  < 2.2e-16\n",
       "                                        \n",
       "fit_log(cases_i)                        \n",
       "fit_log(cases_j)                        \n",
       "C8EV_International_travel_controls_i ***\n",
       "C8EV_International_travel_controls_j ***\n",
       "---\n",
       "Signif. codes:  0 '***' 0.001 '**' 0.01 '*' 0.05 '.' 0.1 ' ' 1\n",
       "RMSE: 1.42057     Adj. R2: 0.050111\n",
       "                Within R2: 7.568e-5\n",
       "F-test (1st stage), log(cases_i): stat = 60,159.8    , p < 2.2e-16 , on 4 and 1,684,131 DoF.\n",
       "F-test (1st stage), log(cases_j): stat = 41,702.9    , p < 2.2e-16 , on 4 and 1,684,131 DoF.\n",
       "                      Wu-Hausman: stat =      0.38481, p = 0.68058 , on 2 and 1,669,313 DoF.\n",
       "                          Sargan: stat =     14.7    , p = 6.319e-4, on 2 DoF."
      ]
     },
     "metadata": {},
     "output_type": "display_data"
    }
   ],
   "source": [
    "# Инструменты не экзогенные :(\n",
    "m2_iv = feols(log(v/v19) ~ 1 +\n",
    " C8EV_International_travel_controls_i + C8EV_International_travel_controls_j| i^category + j^category + year|\n",
    " log(cases_i) + log(cases_j) ~ \n",
    "#  H6M_Facial_Coverings_i+H6M_Facial_Coverings_j\n",
    "#  + \n",
    " C1M_School_closing_i+C1M_School_closing_j\n",
    " +\n",
    "# median_age_i + median_age_j\n",
    "# +\n",
    "population_density_i + population_density_j\n",
    "# +\n",
    "# average_surface_temperature_i + average_surface_temperature_j\n",
    ",\n",
    " data = df)\n",
    "m2_iv %>% summary(cluster = ~ i^category+j^category)"
   ]
  },
  {
   "cell_type": "code",
   "execution_count": 9,
   "metadata": {
    "vscode": {
     "languageId": "r"
    }
   },
   "outputs": [
    {
     "data": {
      "text/html": [
       "<table class=\"dataframe\">\n",
       "<caption>A etable_df: 18 × 5</caption>\n",
       "<thead>\n",
       "\t<tr><th></th><th scope=col></th><th scope=col>m0</th><th scope=col>m1</th><th scope=col>m2</th><th scope=col>m2_iv</th></tr>\n",
       "\t<tr><th></th><th scope=col>&lt;chr&gt;</th><th scope=col>&lt;chr&gt;</th><th scope=col>&lt;chr&gt;</th><th scope=col>&lt;chr&gt;</th><th scope=col>&lt;chr&gt;</th></tr>\n",
       "</thead>\n",
       "<tbody>\n",
       "\t<tr><th scope=row>1</th><td>Dependent Var.:                     </td><td>log(v/v19)              </td><td>log(v/v19)              </td><td>log(v/v19)              </td><td>log(v/v19)              </td></tr>\n",
       "\t<tr><th scope=row>2</th><td>                                    </td><td>                        </td><td>                        </td><td>                        </td><td>                        </td></tr>\n",
       "\t<tr><th scope=row>3</th><td>log(cases_i)                        </td><td>-0.0058 (0.0040)        </td><td>-0.0012 (0.0007)        </td><td>-0.0009 (0.0018)        </td><td>-0.0035 (0.0037)        </td></tr>\n",
       "\t<tr><th scope=row>4</th><td>log(cases_j)                        </td><td>-0.0019 (0.0009)        </td><td>-0.0059 (0.0024)        </td><td>-0.0061 (0.0027)        </td><td>-0.0046 (0.0088)        </td></tr>\n",
       "\t<tr><th scope=row>5</th><td>C8EV_International_travel_controls_i</td><td>-0.0261** (0.0024)      </td><td>-0.0120 (0.0049)        </td><td>-0.0120 (0.0062)        </td><td>-0.0122 (0.0062)        </td></tr>\n",
       "\t<tr><th scope=row>6</th><td>C8EV_International_travel_controls_j</td><td>-0.0225 (0.0210)        </td><td>-0.0266 (0.0094)        </td><td>-0.0270 (0.0099)        </td><td>-0.0265 (0.0117)        </td></tr>\n",
       "\t<tr><th scope=row>7</th><td>Fixed-Effects:                      </td><td>------------------      </td><td>----------------        </td><td>----------------        </td><td>----------------        </td></tr>\n",
       "\t<tr><th scope=row>8</th><td>year                                </td><td>Yes                     </td><td>Yes                     </td><td>Yes                     </td><td>Yes                     </td></tr>\n",
       "\t<tr><th scope=row>9</th><td>i                                   </td><td>No                      </td><td>Yes                     </td><td>No                      </td><td>No                      </td></tr>\n",
       "\t<tr><th scope=row>10</th><td>j                                   </td><td>No                      </td><td>Yes                     </td><td>No                      </td><td>No                      </td></tr>\n",
       "\t<tr><th scope=row>11</th><td>category                            </td><td>No                      </td><td>Yes                     </td><td>No                      </td><td>No                      </td></tr>\n",
       "\t<tr><th scope=row>12</th><td>i-category                          </td><td>No                      </td><td>No                      </td><td>Yes                     </td><td>Yes                     </td></tr>\n",
       "\t<tr><th scope=row>13</th><td>j-category                          </td><td>No                      </td><td>No                      </td><td>Yes                     </td><td>Yes                     </td></tr>\n",
       "\t<tr><th scope=row>14</th><td>____________________________________</td><td>__________________      </td><td>________________        </td><td>________________        </td><td>________________        </td></tr>\n",
       "\t<tr><th scope=row>15</th><td><span style=white-space:pre-wrap>S.E.: Clustered                     </span></td><td>by: i-ca. &amp; j-ca. &amp; year</td><td>by: i-ca. &amp; j-ca. &amp; year</td><td>by: i-ca. &amp; j-ca. &amp; year</td><td>by: i-ca. &amp; j-ca. &amp; year</td></tr>\n",
       "\t<tr><th scope=row>16</th><td>Observations                        </td><td>1,710,695               </td><td>1,710,695               </td><td>1,710,695               </td><td>1,700,713               </td></tr>\n",
       "\t<tr><th scope=row>17</th><td>R2                                  </td><td>0.00448                 </td><td>0.01508                 </td><td>0.06755                 </td><td>0.06765                 </td></tr>\n",
       "\t<tr><th scope=row>18</th><td>Within R2                           </td><td>0.00023                 </td><td>7.41e-5                 </td><td>7.99e-5                 </td><td>7.57e-5                 </td></tr>\n",
       "</tbody>\n",
       "</table>\n"
      ],
      "text/latex": [
       "A etable\\_df: 18 × 5\n",
       "\\begin{tabular}{r|lllll}\n",
       "  &  & m0 & m1 & m2 & m2\\_iv\\\\\n",
       "  & <chr> & <chr> & <chr> & <chr> & <chr>\\\\\n",
       "\\hline\n",
       "\t1 & Dependent Var.:                      & log(v/v19)               & log(v/v19)               & log(v/v19)               & log(v/v19)              \\\\\n",
       "\t2 &                                      &                          &                          &                          &                         \\\\\n",
       "\t3 & log(cases\\_i)                         & -0.0058 (0.0040)         & -0.0012 (0.0007)         & -0.0009 (0.0018)         & -0.0035 (0.0037)        \\\\\n",
       "\t4 & log(cases\\_j)                         & -0.0019 (0.0009)         & -0.0059 (0.0024)         & -0.0061 (0.0027)         & -0.0046 (0.0088)        \\\\\n",
       "\t5 & C8EV\\_International\\_travel\\_controls\\_i & -0.0261** (0.0024)       & -0.0120 (0.0049)         & -0.0120 (0.0062)         & -0.0122 (0.0062)        \\\\\n",
       "\t6 & C8EV\\_International\\_travel\\_controls\\_j & -0.0225 (0.0210)         & -0.0266 (0.0094)         & -0.0270 (0.0099)         & -0.0265 (0.0117)        \\\\\n",
       "\t7 & Fixed-Effects:                       & ------------------       & ----------------         & ----------------         & ----------------        \\\\\n",
       "\t8 & year                                 & Yes                      & Yes                      & Yes                      & Yes                     \\\\\n",
       "\t9 & i                                    & No                       & Yes                      & No                       & No                      \\\\\n",
       "\t10 & j                                    & No                       & Yes                      & No                       & No                      \\\\\n",
       "\t11 & category                             & No                       & Yes                      & No                       & No                      \\\\\n",
       "\t12 & i-category                           & No                       & No                       & Yes                      & Yes                     \\\\\n",
       "\t13 & j-category                           & No                       & No                       & Yes                      & Yes                     \\\\\n",
       "\t14 & \\_\\_\\_\\_\\_\\_\\_\\_\\_\\_\\_\\_\\_\\_\\_\\_\\_\\_\\_\\_\\_\\_\\_\\_\\_\\_\\_\\_\\_\\_\\_\\_\\_\\_\\_\\_ & \\_\\_\\_\\_\\_\\_\\_\\_\\_\\_\\_\\_\\_\\_\\_\\_\\_\\_       & \\_\\_\\_\\_\\_\\_\\_\\_\\_\\_\\_\\_\\_\\_\\_\\_         & \\_\\_\\_\\_\\_\\_\\_\\_\\_\\_\\_\\_\\_\\_\\_\\_         & \\_\\_\\_\\_\\_\\_\\_\\_\\_\\_\\_\\_\\_\\_\\_\\_        \\\\\n",
       "\t15 & S.E.: Clustered                      & by: i-ca. \\& j-ca. \\& year & by: i-ca. \\& j-ca. \\& year & by: i-ca. \\& j-ca. \\& year & by: i-ca. \\& j-ca. \\& year\\\\\n",
       "\t16 & Observations                         & 1,710,695                & 1,710,695                & 1,710,695                & 1,700,713               \\\\\n",
       "\t17 & R2                                   & 0.00448                  & 0.01508                  & 0.06755                  & 0.06765                 \\\\\n",
       "\t18 & Within R2                            & 0.00023                  & 7.41e-5                  & 7.99e-5                  & 7.57e-5                 \\\\\n",
       "\\end{tabular}\n"
      ],
      "text/markdown": [
       "\n",
       "A etable_df: 18 × 5\n",
       "\n",
       "| <!--/--> | <!----> &lt;chr&gt; | m0 &lt;chr&gt; | m1 &lt;chr&gt; | m2 &lt;chr&gt; | m2_iv &lt;chr&gt; |\n",
       "|---|---|---|---|---|---|\n",
       "| 1 | Dependent Var.:                      | log(v/v19)               | log(v/v19)               | log(v/v19)               | log(v/v19)               |\n",
       "| 2 | <!----> | <!----> | <!----> | <!----> | <!----> |\n",
       "| 3 | log(cases_i)                         | -0.0058 (0.0040)         | -0.0012 (0.0007)         | -0.0009 (0.0018)         | -0.0035 (0.0037)         |\n",
       "| 4 | log(cases_j)                         | -0.0019 (0.0009)         | -0.0059 (0.0024)         | -0.0061 (0.0027)         | -0.0046 (0.0088)         |\n",
       "| 5 | C8EV_International_travel_controls_i | -0.0261** (0.0024)       | -0.0120 (0.0049)         | -0.0120 (0.0062)         | -0.0122 (0.0062)         |\n",
       "| 6 | C8EV_International_travel_controls_j | -0.0225 (0.0210)         | -0.0266 (0.0094)         | -0.0270 (0.0099)         | -0.0265 (0.0117)         |\n",
       "| 7 | Fixed-Effects:                       | ------------------       | ----------------         | ----------------         | ----------------         |\n",
       "| 8 | year                                 | Yes                      | Yes                      | Yes                      | Yes                      |\n",
       "| 9 | i                                    | No                       | Yes                      | No                       | No                       |\n",
       "| 10 | j                                    | No                       | Yes                      | No                       | No                       |\n",
       "| 11 | category                             | No                       | Yes                      | No                       | No                       |\n",
       "| 12 | i-category                           | No                       | No                       | Yes                      | Yes                      |\n",
       "| 13 | j-category                           | No                       | No                       | Yes                      | Yes                      |\n",
       "| 14 | ____________________________________ | __________________       | ________________         | ________________         | ________________         |\n",
       "| 15 | S.E.: Clustered                      | by: i-ca. &amp; j-ca. &amp; year | by: i-ca. &amp; j-ca. &amp; year | by: i-ca. &amp; j-ca. &amp; year | by: i-ca. &amp; j-ca. &amp; year |\n",
       "| 16 | Observations                         | 1,710,695                | 1,710,695                | 1,710,695                | 1,700,713                |\n",
       "| 17 | R2                                   | 0.00448                  | 0.01508                  | 0.06755                  | 0.06765                  |\n",
       "| 18 | Within R2                            | 0.00023                  | 7.41e-5                  | 7.99e-5                  | 7.57e-5                  |\n",
       "\n"
      ],
      "text/plain": [
       "                                        m0                      \n",
       "1  Dependent Var.:                      log(v/v19)              \n",
       "2                                                               \n",
       "3  log(cases_i)                         -0.0058 (0.0040)        \n",
       "4  log(cases_j)                         -0.0019 (0.0009)        \n",
       "5  C8EV_International_travel_controls_i -0.0261** (0.0024)      \n",
       "6  C8EV_International_travel_controls_j -0.0225 (0.0210)        \n",
       "7  Fixed-Effects:                       ------------------      \n",
       "8  year                                 Yes                     \n",
       "9  i                                    No                      \n",
       "10 j                                    No                      \n",
       "11 category                             No                      \n",
       "12 i-category                           No                      \n",
       "13 j-category                           No                      \n",
       "14 ____________________________________ __________________      \n",
       "15 S.E.: Clustered                      by: i-ca. & j-ca. & year\n",
       "16 Observations                         1,710,695               \n",
       "17 R2                                   0.00448                 \n",
       "18 Within R2                            0.00023                 \n",
       "   m1                       m2                       m2_iv                   \n",
       "1  log(v/v19)               log(v/v19)               log(v/v19)              \n",
       "2                                                                            \n",
       "3  -0.0012 (0.0007)         -0.0009 (0.0018)         -0.0035 (0.0037)        \n",
       "4  -0.0059 (0.0024)         -0.0061 (0.0027)         -0.0046 (0.0088)        \n",
       "5  -0.0120 (0.0049)         -0.0120 (0.0062)         -0.0122 (0.0062)        \n",
       "6  -0.0266 (0.0094)         -0.0270 (0.0099)         -0.0265 (0.0117)        \n",
       "7  ----------------         ----------------         ----------------        \n",
       "8  Yes                      Yes                      Yes                     \n",
       "9  Yes                      No                       No                      \n",
       "10 Yes                      No                       No                      \n",
       "11 Yes                      No                       No                      \n",
       "12 No                       Yes                      Yes                     \n",
       "13 No                       Yes                      Yes                     \n",
       "14 ________________         ________________         ________________        \n",
       "15 by: i-ca. & j-ca. & year by: i-ca. & j-ca. & year by: i-ca. & j-ca. & year\n",
       "16 1,710,695                1,710,695                1,700,713               \n",
       "17 0.01508                  0.06755                  0.06765                 \n",
       "18 7.41e-5                  7.99e-5                  7.57e-5                 "
      ]
     },
     "metadata": {},
     "output_type": "display_data"
    }
   ],
   "source": [
    "etable(m0, m1, m2, m2_iv, vcov = ~i^category + j^category + year)"
   ]
  },
  {
   "cell_type": "code",
   "execution_count": 10,
   "metadata": {
    "vscode": {
     "languageId": "r"
    }
   },
   "outputs": [
    {
     "data": {
      "text/html": [
       "<table class=\"dataframe\">\n",
       "<caption>A etable_df: 18 × 5</caption>\n",
       "<thead>\n",
       "\t<tr><th></th><th scope=col></th><th scope=col>m0</th><th scope=col>m1</th><th scope=col>m2</th><th scope=col>m2_iv</th></tr>\n",
       "\t<tr><th></th><th scope=col>&lt;chr&gt;</th><th scope=col>&lt;chr&gt;</th><th scope=col>&lt;chr&gt;</th><th scope=col>&lt;chr&gt;</th><th scope=col>&lt;chr&gt;</th></tr>\n",
       "</thead>\n",
       "<tbody>\n",
       "\t<tr><th scope=row>1</th><td>Dependent Var.:                     </td><td>log(v/v19)         </td><td>log(v/v19)         </td><td>log(v/v19)         </td><td>log(v/v19)         </td></tr>\n",
       "\t<tr><th scope=row>2</th><td>                                    </td><td>                   </td><td>                   </td><td>                   </td><td>                   </td></tr>\n",
       "\t<tr><th scope=row>3</th><td>log(cases_i)                        </td><td>-0.0058*** (0.0012)</td><td>-0.0012 (0.0014)   </td><td>-0.0009 (0.0014)   </td><td>-0.0035 (0.0039)   </td></tr>\n",
       "\t<tr><th scope=row>4</th><td>log(cases_j)                        </td><td>-0.0019. (0.0010)  </td><td>-0.0059*** (0.0012)</td><td>-0.0061*** (0.0011)</td><td>-0.0046 (0.0043)   </td></tr>\n",
       "\t<tr><th scope=row>5</th><td>C8EV_International_travel_controls_i</td><td>-0.0261*** (0.0033)</td><td>-0.0120*** (0.0031)</td><td>-0.0120*** (0.0031)</td><td>-0.0122*** (0.0032)</td></tr>\n",
       "\t<tr><th scope=row>6</th><td>C8EV_International_travel_controls_j</td><td>-0.0225*** (0.0030)</td><td>-0.0266*** (0.0029)</td><td>-0.0270*** (0.0029)</td><td>-0.0265*** (0.0030)</td></tr>\n",
       "\t<tr><th scope=row>7</th><td>Fixed-Effects:                      </td><td>-------------------</td><td>-------------------</td><td>-------------------</td><td>-------------------</td></tr>\n",
       "\t<tr><th scope=row>8</th><td>year                                </td><td>Yes                </td><td>Yes                </td><td>Yes                </td><td>Yes                </td></tr>\n",
       "\t<tr><th scope=row>9</th><td>i                                   </td><td>No                 </td><td>Yes                </td><td>No                 </td><td>No                 </td></tr>\n",
       "\t<tr><th scope=row>10</th><td>j                                   </td><td>No                 </td><td>Yes                </td><td>No                 </td><td>No                 </td></tr>\n",
       "\t<tr><th scope=row>11</th><td>category                            </td><td>No                 </td><td>Yes                </td><td>No                 </td><td>No                 </td></tr>\n",
       "\t<tr><th scope=row>12</th><td>i-category                          </td><td>No                 </td><td>No                 </td><td>Yes                </td><td>Yes                </td></tr>\n",
       "\t<tr><th scope=row>13</th><td>j-category                          </td><td>No                 </td><td>No                 </td><td>Yes                </td><td>Yes                </td></tr>\n",
       "\t<tr><th scope=row>14</th><td>____________________________________</td><td>___________________</td><td>___________________</td><td>___________________</td><td>___________________</td></tr>\n",
       "\t<tr><th scope=row>15</th><td><span style=white-space:pre-wrap>S.E.: Clustered                     </span></td><td><span style=white-space:pre-wrap>by: i-ca. &amp; j-ca.  </span></td><td><span style=white-space:pre-wrap>by: i-ca. &amp; j-ca.  </span></td><td><span style=white-space:pre-wrap>by: i-ca. &amp; j-ca.  </span></td><td><span style=white-space:pre-wrap>by: i-ca. &amp; j-ca.  </span></td></tr>\n",
       "\t<tr><th scope=row>16</th><td>Observations                        </td><td>1,710,695          </td><td>1,710,695          </td><td>1,710,695          </td><td>1,700,713          </td></tr>\n",
       "\t<tr><th scope=row>17</th><td>R2                                  </td><td>0.00448            </td><td>0.01508            </td><td>0.06755            </td><td>0.06765            </td></tr>\n",
       "\t<tr><th scope=row>18</th><td>Within R2                           </td><td>0.00023            </td><td>7.41e-5            </td><td>7.99e-5            </td><td>7.57e-5            </td></tr>\n",
       "</tbody>\n",
       "</table>\n"
      ],
      "text/latex": [
       "A etable\\_df: 18 × 5\n",
       "\\begin{tabular}{r|lllll}\n",
       "  &  & m0 & m1 & m2 & m2\\_iv\\\\\n",
       "  & <chr> & <chr> & <chr> & <chr> & <chr>\\\\\n",
       "\\hline\n",
       "\t1 & Dependent Var.:                      & log(v/v19)          & log(v/v19)          & log(v/v19)          & log(v/v19)         \\\\\n",
       "\t2 &                                      &                     &                     &                     &                    \\\\\n",
       "\t3 & log(cases\\_i)                         & -0.0058*** (0.0012) & -0.0012 (0.0014)    & -0.0009 (0.0014)    & -0.0035 (0.0039)   \\\\\n",
       "\t4 & log(cases\\_j)                         & -0.0019. (0.0010)   & -0.0059*** (0.0012) & -0.0061*** (0.0011) & -0.0046 (0.0043)   \\\\\n",
       "\t5 & C8EV\\_International\\_travel\\_controls\\_i & -0.0261*** (0.0033) & -0.0120*** (0.0031) & -0.0120*** (0.0031) & -0.0122*** (0.0032)\\\\\n",
       "\t6 & C8EV\\_International\\_travel\\_controls\\_j & -0.0225*** (0.0030) & -0.0266*** (0.0029) & -0.0270*** (0.0029) & -0.0265*** (0.0030)\\\\\n",
       "\t7 & Fixed-Effects:                       & ------------------- & ------------------- & ------------------- & -------------------\\\\\n",
       "\t8 & year                                 & Yes                 & Yes                 & Yes                 & Yes                \\\\\n",
       "\t9 & i                                    & No                  & Yes                 & No                  & No                 \\\\\n",
       "\t10 & j                                    & No                  & Yes                 & No                  & No                 \\\\\n",
       "\t11 & category                             & No                  & Yes                 & No                  & No                 \\\\\n",
       "\t12 & i-category                           & No                  & No                  & Yes                 & Yes                \\\\\n",
       "\t13 & j-category                           & No                  & No                  & Yes                 & Yes                \\\\\n",
       "\t14 & \\_\\_\\_\\_\\_\\_\\_\\_\\_\\_\\_\\_\\_\\_\\_\\_\\_\\_\\_\\_\\_\\_\\_\\_\\_\\_\\_\\_\\_\\_\\_\\_\\_\\_\\_\\_ & \\_\\_\\_\\_\\_\\_\\_\\_\\_\\_\\_\\_\\_\\_\\_\\_\\_\\_\\_ & \\_\\_\\_\\_\\_\\_\\_\\_\\_\\_\\_\\_\\_\\_\\_\\_\\_\\_\\_ & \\_\\_\\_\\_\\_\\_\\_\\_\\_\\_\\_\\_\\_\\_\\_\\_\\_\\_\\_ & \\_\\_\\_\\_\\_\\_\\_\\_\\_\\_\\_\\_\\_\\_\\_\\_\\_\\_\\_\\\\\n",
       "\t15 & S.E.: Clustered                      & by: i-ca. \\& j-ca.   & by: i-ca. \\& j-ca.   & by: i-ca. \\& j-ca.   & by: i-ca. \\& j-ca.  \\\\\n",
       "\t16 & Observations                         & 1,710,695           & 1,710,695           & 1,710,695           & 1,700,713          \\\\\n",
       "\t17 & R2                                   & 0.00448             & 0.01508             & 0.06755             & 0.06765            \\\\\n",
       "\t18 & Within R2                            & 0.00023             & 7.41e-5             & 7.99e-5             & 7.57e-5            \\\\\n",
       "\\end{tabular}\n"
      ],
      "text/markdown": [
       "\n",
       "A etable_df: 18 × 5\n",
       "\n",
       "| <!--/--> | <!----> &lt;chr&gt; | m0 &lt;chr&gt; | m1 &lt;chr&gt; | m2 &lt;chr&gt; | m2_iv &lt;chr&gt; |\n",
       "|---|---|---|---|---|---|\n",
       "| 1 | Dependent Var.:                      | log(v/v19)          | log(v/v19)          | log(v/v19)          | log(v/v19)          |\n",
       "| 2 | <!----> | <!----> | <!----> | <!----> | <!----> |\n",
       "| 3 | log(cases_i)                         | -0.0058*** (0.0012) | -0.0012 (0.0014)    | -0.0009 (0.0014)    | -0.0035 (0.0039)    |\n",
       "| 4 | log(cases_j)                         | -0.0019. (0.0010)   | -0.0059*** (0.0012) | -0.0061*** (0.0011) | -0.0046 (0.0043)    |\n",
       "| 5 | C8EV_International_travel_controls_i | -0.0261*** (0.0033) | -0.0120*** (0.0031) | -0.0120*** (0.0031) | -0.0122*** (0.0032) |\n",
       "| 6 | C8EV_International_travel_controls_j | -0.0225*** (0.0030) | -0.0266*** (0.0029) | -0.0270*** (0.0029) | -0.0265*** (0.0030) |\n",
       "| 7 | Fixed-Effects:                       | ------------------- | ------------------- | ------------------- | ------------------- |\n",
       "| 8 | year                                 | Yes                 | Yes                 | Yes                 | Yes                 |\n",
       "| 9 | i                                    | No                  | Yes                 | No                  | No                  |\n",
       "| 10 | j                                    | No                  | Yes                 | No                  | No                  |\n",
       "| 11 | category                             | No                  | Yes                 | No                  | No                  |\n",
       "| 12 | i-category                           | No                  | No                  | Yes                 | Yes                 |\n",
       "| 13 | j-category                           | No                  | No                  | Yes                 | Yes                 |\n",
       "| 14 | ____________________________________ | ___________________ | ___________________ | ___________________ | ___________________ |\n",
       "| 15 | S.E.: Clustered                      | by: i-ca. &amp; j-ca.   | by: i-ca. &amp; j-ca.   | by: i-ca. &amp; j-ca.   | by: i-ca. &amp; j-ca.   |\n",
       "| 16 | Observations                         | 1,710,695           | 1,710,695           | 1,710,695           | 1,700,713           |\n",
       "| 17 | R2                                   | 0.00448             | 0.01508             | 0.06755             | 0.06765             |\n",
       "| 18 | Within R2                            | 0.00023             | 7.41e-5             | 7.99e-5             | 7.57e-5             |\n",
       "\n"
      ],
      "text/plain": [
       "                                        m0                  m1                 \n",
       "1  Dependent Var.:                      log(v/v19)          log(v/v19)         \n",
       "2                                                                              \n",
       "3  log(cases_i)                         -0.0058*** (0.0012) -0.0012 (0.0014)   \n",
       "4  log(cases_j)                         -0.0019. (0.0010)   -0.0059*** (0.0012)\n",
       "5  C8EV_International_travel_controls_i -0.0261*** (0.0033) -0.0120*** (0.0031)\n",
       "6  C8EV_International_travel_controls_j -0.0225*** (0.0030) -0.0266*** (0.0029)\n",
       "7  Fixed-Effects:                       ------------------- -------------------\n",
       "8  year                                 Yes                 Yes                \n",
       "9  i                                    No                  Yes                \n",
       "10 j                                    No                  Yes                \n",
       "11 category                             No                  Yes                \n",
       "12 i-category                           No                  No                 \n",
       "13 j-category                           No                  No                 \n",
       "14 ____________________________________ ___________________ ___________________\n",
       "15 S.E.: Clustered                      by: i-ca. & j-ca.   by: i-ca. & j-ca.  \n",
       "16 Observations                         1,710,695           1,710,695          \n",
       "17 R2                                   0.00448             0.01508            \n",
       "18 Within R2                            0.00023             7.41e-5            \n",
       "   m2                  m2_iv              \n",
       "1  log(v/v19)          log(v/v19)         \n",
       "2                                         \n",
       "3  -0.0009 (0.0014)    -0.0035 (0.0039)   \n",
       "4  -0.0061*** (0.0011) -0.0046 (0.0043)   \n",
       "5  -0.0120*** (0.0031) -0.0122*** (0.0032)\n",
       "6  -0.0270*** (0.0029) -0.0265*** (0.0030)\n",
       "7  ------------------- -------------------\n",
       "8  Yes                 Yes                \n",
       "9  No                  No                 \n",
       "10 No                  No                 \n",
       "11 No                  No                 \n",
       "12 Yes                 Yes                \n",
       "13 Yes                 Yes                \n",
       "14 ___________________ ___________________\n",
       "15 by: i-ca. & j-ca.   by: i-ca. & j-ca.  \n",
       "16 1,710,695           1,700,713          \n",
       "17 0.06755             0.06765            \n",
       "18 7.99e-5             7.57e-5            "
      ]
     },
     "metadata": {},
     "output_type": "display_data"
    }
   ],
   "source": [
    "# На отраслевом и на макроэкономическом уровне получаются разные результаты --- насколько это бьётся с теорией?\n",
    "etable(m0, m1, m2, m2_iv, vcov = ~i^category+j^category)"
   ]
  },
  {
   "cell_type": "code",
   "execution_count": 11,
   "metadata": {
    "vscode": {
     "languageId": "r"
    }
   },
   "outputs": [
    {
     "data": {
      "text/html": [
       "<table class=\"dataframe\">\n",
       "<caption>A etable_df: 18 × 5</caption>\n",
       "<thead>\n",
       "\t<tr><th></th><th scope=col></th><th scope=col>m0</th><th scope=col>m1</th><th scope=col>m2</th><th scope=col>m2_iv</th></tr>\n",
       "\t<tr><th></th><th scope=col>&lt;chr&gt;</th><th scope=col>&lt;chr&gt;</th><th scope=col>&lt;chr&gt;</th><th scope=col>&lt;chr&gt;</th><th scope=col>&lt;chr&gt;</th></tr>\n",
       "</thead>\n",
       "<tbody>\n",
       "\t<tr><th scope=row>1</th><td>Dependent Var.:                     </td><td>log(v/v19)        </td><td>log(v/v19)       </td><td>log(v/v19)       </td><td>log(v/v19)       </td></tr>\n",
       "\t<tr><th scope=row>2</th><td>                                    </td><td>                  </td><td>                 </td><td>                 </td><td>                 </td></tr>\n",
       "\t<tr><th scope=row>3</th><td>log(cases_i)                        </td><td>-0.0058. (0.0031) </td><td>-0.0012 (0.0054) </td><td>-0.0009 (0.0054) </td><td>-0.0035 (0.0157) </td></tr>\n",
       "\t<tr><th scope=row>4</th><td>log(cases_j)                        </td><td>-0.0019 (0.0031)  </td><td>-0.0059. (0.0031)</td><td>-0.0061* (0.0030)</td><td>-0.0046 (0.0164) </td></tr>\n",
       "\t<tr><th scope=row>5</th><td>C8EV_International_travel_controls_i</td><td>-0.0261** (0.0099)</td><td>-0.0120 (0.0114) </td><td>-0.0120 (0.0114) </td><td>-0.0122 (0.0118) </td></tr>\n",
       "\t<tr><th scope=row>6</th><td>C8EV_International_travel_controls_j</td><td>-0.0225. (0.0122) </td><td>-0.0266* (0.0120)</td><td>-0.0270* (0.0120)</td><td>-0.0265* (0.0109)</td></tr>\n",
       "\t<tr><th scope=row>7</th><td>Fixed-Effects:                      </td><td>------------------</td><td>-----------------</td><td>-----------------</td><td>-----------------</td></tr>\n",
       "\t<tr><th scope=row>8</th><td>year                                </td><td>Yes               </td><td>Yes              </td><td>Yes              </td><td>Yes              </td></tr>\n",
       "\t<tr><th scope=row>9</th><td>i                                   </td><td>No                </td><td>Yes              </td><td>No               </td><td>No               </td></tr>\n",
       "\t<tr><th scope=row>10</th><td>j                                   </td><td>No                </td><td>Yes              </td><td>No               </td><td>No               </td></tr>\n",
       "\t<tr><th scope=row>11</th><td>category                            </td><td>No                </td><td>Yes              </td><td>No               </td><td>No               </td></tr>\n",
       "\t<tr><th scope=row>12</th><td>i-category                          </td><td>No                </td><td>No               </td><td>Yes              </td><td>Yes              </td></tr>\n",
       "\t<tr><th scope=row>13</th><td>j-category                          </td><td>No                </td><td>No               </td><td>Yes              </td><td>Yes              </td></tr>\n",
       "\t<tr><th scope=row>14</th><td>____________________________________</td><td>__________________</td><td>_________________</td><td>_________________</td><td>_________________</td></tr>\n",
       "\t<tr><th scope=row>15</th><td><span style=white-space:pre-wrap>S.E.: Clustered                     </span></td><td>by: i &amp; j &amp; cate. </td><td>by: i &amp; j &amp; cate.</td><td>by: i &amp; j &amp; cate.</td><td>by: i &amp; j &amp; cate.</td></tr>\n",
       "\t<tr><th scope=row>16</th><td>Observations                        </td><td>1,710,695         </td><td>1,710,695        </td><td>1,710,695        </td><td>1,700,713        </td></tr>\n",
       "\t<tr><th scope=row>17</th><td>R2                                  </td><td>0.00448           </td><td>0.01508          </td><td>0.06755          </td><td>0.06765          </td></tr>\n",
       "\t<tr><th scope=row>18</th><td>Within R2                           </td><td>0.00023           </td><td>7.41e-5          </td><td>7.99e-5          </td><td>7.57e-5          </td></tr>\n",
       "</tbody>\n",
       "</table>\n"
      ],
      "text/latex": [
       "A etable\\_df: 18 × 5\n",
       "\\begin{tabular}{r|lllll}\n",
       "  &  & m0 & m1 & m2 & m2\\_iv\\\\\n",
       "  & <chr> & <chr> & <chr> & <chr> & <chr>\\\\\n",
       "\\hline\n",
       "\t1 & Dependent Var.:                      & log(v/v19)         & log(v/v19)        & log(v/v19)        & log(v/v19)       \\\\\n",
       "\t2 &                                      &                    &                   &                   &                  \\\\\n",
       "\t3 & log(cases\\_i)                         & -0.0058. (0.0031)  & -0.0012 (0.0054)  & -0.0009 (0.0054)  & -0.0035 (0.0157) \\\\\n",
       "\t4 & log(cases\\_j)                         & -0.0019 (0.0031)   & -0.0059. (0.0031) & -0.0061* (0.0030) & -0.0046 (0.0164) \\\\\n",
       "\t5 & C8EV\\_International\\_travel\\_controls\\_i & -0.0261** (0.0099) & -0.0120 (0.0114)  & -0.0120 (0.0114)  & -0.0122 (0.0118) \\\\\n",
       "\t6 & C8EV\\_International\\_travel\\_controls\\_j & -0.0225. (0.0122)  & -0.0266* (0.0120) & -0.0270* (0.0120) & -0.0265* (0.0109)\\\\\n",
       "\t7 & Fixed-Effects:                       & ------------------ & ----------------- & ----------------- & -----------------\\\\\n",
       "\t8 & year                                 & Yes                & Yes               & Yes               & Yes              \\\\\n",
       "\t9 & i                                    & No                 & Yes               & No                & No               \\\\\n",
       "\t10 & j                                    & No                 & Yes               & No                & No               \\\\\n",
       "\t11 & category                             & No                 & Yes               & No                & No               \\\\\n",
       "\t12 & i-category                           & No                 & No                & Yes               & Yes              \\\\\n",
       "\t13 & j-category                           & No                 & No                & Yes               & Yes              \\\\\n",
       "\t14 & \\_\\_\\_\\_\\_\\_\\_\\_\\_\\_\\_\\_\\_\\_\\_\\_\\_\\_\\_\\_\\_\\_\\_\\_\\_\\_\\_\\_\\_\\_\\_\\_\\_\\_\\_\\_ & \\_\\_\\_\\_\\_\\_\\_\\_\\_\\_\\_\\_\\_\\_\\_\\_\\_\\_ & \\_\\_\\_\\_\\_\\_\\_\\_\\_\\_\\_\\_\\_\\_\\_\\_\\_ & \\_\\_\\_\\_\\_\\_\\_\\_\\_\\_\\_\\_\\_\\_\\_\\_\\_ & \\_\\_\\_\\_\\_\\_\\_\\_\\_\\_\\_\\_\\_\\_\\_\\_\\_\\\\\n",
       "\t15 & S.E.: Clustered                      & by: i \\& j \\& cate.  & by: i \\& j \\& cate. & by: i \\& j \\& cate. & by: i \\& j \\& cate.\\\\\n",
       "\t16 & Observations                         & 1,710,695          & 1,710,695         & 1,710,695         & 1,700,713        \\\\\n",
       "\t17 & R2                                   & 0.00448            & 0.01508           & 0.06755           & 0.06765          \\\\\n",
       "\t18 & Within R2                            & 0.00023            & 7.41e-5           & 7.99e-5           & 7.57e-5          \\\\\n",
       "\\end{tabular}\n"
      ],
      "text/markdown": [
       "\n",
       "A etable_df: 18 × 5\n",
       "\n",
       "| <!--/--> | <!----> &lt;chr&gt; | m0 &lt;chr&gt; | m1 &lt;chr&gt; | m2 &lt;chr&gt; | m2_iv &lt;chr&gt; |\n",
       "|---|---|---|---|---|---|\n",
       "| 1 | Dependent Var.:                      | log(v/v19)         | log(v/v19)        | log(v/v19)        | log(v/v19)        |\n",
       "| 2 | <!----> | <!----> | <!----> | <!----> | <!----> |\n",
       "| 3 | log(cases_i)                         | -0.0058. (0.0031)  | -0.0012 (0.0054)  | -0.0009 (0.0054)  | -0.0035 (0.0157)  |\n",
       "| 4 | log(cases_j)                         | -0.0019 (0.0031)   | -0.0059. (0.0031) | -0.0061* (0.0030) | -0.0046 (0.0164)  |\n",
       "| 5 | C8EV_International_travel_controls_i | -0.0261** (0.0099) | -0.0120 (0.0114)  | -0.0120 (0.0114)  | -0.0122 (0.0118)  |\n",
       "| 6 | C8EV_International_travel_controls_j | -0.0225. (0.0122)  | -0.0266* (0.0120) | -0.0270* (0.0120) | -0.0265* (0.0109) |\n",
       "| 7 | Fixed-Effects:                       | ------------------ | ----------------- | ----------------- | ----------------- |\n",
       "| 8 | year                                 | Yes                | Yes               | Yes               | Yes               |\n",
       "| 9 | i                                    | No                 | Yes               | No                | No                |\n",
       "| 10 | j                                    | No                 | Yes               | No                | No                |\n",
       "| 11 | category                             | No                 | Yes               | No                | No                |\n",
       "| 12 | i-category                           | No                 | No                | Yes               | Yes               |\n",
       "| 13 | j-category                           | No                 | No                | Yes               | Yes               |\n",
       "| 14 | ____________________________________ | __________________ | _________________ | _________________ | _________________ |\n",
       "| 15 | S.E.: Clustered                      | by: i &amp; j &amp; cate.  | by: i &amp; j &amp; cate. | by: i &amp; j &amp; cate. | by: i &amp; j &amp; cate. |\n",
       "| 16 | Observations                         | 1,710,695          | 1,710,695         | 1,710,695         | 1,700,713         |\n",
       "| 17 | R2                                   | 0.00448            | 0.01508           | 0.06755           | 0.06765           |\n",
       "| 18 | Within R2                            | 0.00023            | 7.41e-5           | 7.99e-5           | 7.57e-5           |\n",
       "\n"
      ],
      "text/plain": [
       "                                        m0                 m1               \n",
       "1  Dependent Var.:                      log(v/v19)         log(v/v19)       \n",
       "2                                                                           \n",
       "3  log(cases_i)                         -0.0058. (0.0031)  -0.0012 (0.0054) \n",
       "4  log(cases_j)                         -0.0019 (0.0031)   -0.0059. (0.0031)\n",
       "5  C8EV_International_travel_controls_i -0.0261** (0.0099) -0.0120 (0.0114) \n",
       "6  C8EV_International_travel_controls_j -0.0225. (0.0122)  -0.0266* (0.0120)\n",
       "7  Fixed-Effects:                       ------------------ -----------------\n",
       "8  year                                 Yes                Yes              \n",
       "9  i                                    No                 Yes              \n",
       "10 j                                    No                 Yes              \n",
       "11 category                             No                 Yes              \n",
       "12 i-category                           No                 No               \n",
       "13 j-category                           No                 No               \n",
       "14 ____________________________________ __________________ _________________\n",
       "15 S.E.: Clustered                      by: i & j & cate.  by: i & j & cate.\n",
       "16 Observations                         1,710,695          1,710,695        \n",
       "17 R2                                   0.00448            0.01508          \n",
       "18 Within R2                            0.00023            7.41e-5          \n",
       "   m2                m2_iv            \n",
       "1  log(v/v19)        log(v/v19)       \n",
       "2                                     \n",
       "3  -0.0009 (0.0054)  -0.0035 (0.0157) \n",
       "4  -0.0061* (0.0030) -0.0046 (0.0164) \n",
       "5  -0.0120 (0.0114)  -0.0122 (0.0118) \n",
       "6  -0.0270* (0.0120) -0.0265* (0.0109)\n",
       "7  ----------------- -----------------\n",
       "8  Yes               Yes              \n",
       "9  No                No               \n",
       "10 No                No               \n",
       "11 No                No               \n",
       "12 Yes               Yes              \n",
       "13 Yes               Yes              \n",
       "14 _________________ _________________\n",
       "15 by: i & j & cate. by: i & j & cate.\n",
       "16 1,710,695         1,700,713        \n",
       "17 0.06755           0.06765          \n",
       "18 7.99e-5           7.57e-5          "
      ]
     },
     "metadata": {},
     "output_type": "display_data"
    }
   ],
   "source": [
    "etable(m0, m1, m2, m2_iv, vcov = ~i+j+category)"
   ]
  },
  {
   "cell_type": "markdown",
   "metadata": {},
   "source": [
    "## Для каждой категории делаю отдельную регрессиию, т.к. предполагаем гетерогенность\n",
    "\n",
    "- Сравниваю регрессии с инструментами и без\n",
    "- Надо подумать о FWER: как будто найденные для некоторых категорий эффекты -- последствие FWER. "
   ]
  },
  {
   "cell_type": "code",
   "execution_count": 12,
   "metadata": {
    "vscode": {
     "languageId": "r"
    }
   },
   "outputs": [
    {
     "data": {
      "text/html": [
       "<style>\n",
       ".list-inline {list-style: none; margin:0; padding: 0}\n",
       ".list-inline>li {display: inline-block}\n",
       ".list-inline>li:not(:last-child)::after {content: \"\\00b7\"; padding: 0 .5ex}\n",
       "</style>\n",
       "<ol class=list-inline><li>'12'</li><li>'04'</li><li>'74'</li><li>'84'</li><li>'24'</li><li>'05'</li><li>'82'</li><li>'42'</li><li>'95'</li><li>'34'</li><li>'81'</li><li>'73'</li><li>'32'</li><li>'23'</li><li>'50'</li><li>'33'</li><li>'09'</li><li>'43'</li><li>'56'</li><li>'01'</li><li>'63'</li><li>'25'</li><li>'61'</li><li>'35'</li><li>'40'</li><li>'58'</li><li>'03'</li><li>'39'</li><li>'18'</li><li>'15'</li><li>'30'</li><li>'64'</li><li>'91'</li><li>'90'</li><li>'92'</li><li>'02'</li><li>'96'</li><li>'97'</li><li>'69'</li><li>'55'</li><li>'83'</li><li>'57'</li><li>'93'</li><li>'22'</li><li>'62'</li><li>'68'</li><li>'11'</li><li>'38'</li><li>'29'</li><li>'46'</li><li>'41'</li><li>'28'</li><li>'27'</li><li>'07'</li><li>'31'</li><li>'94'</li><li>'85'</li><li>'54'</li><li>'70'</li><li>'48'</li><li>'44'</li><li>'60'</li><li>'59'</li><li>'16'</li><li>'49'</li><li>'14'</li><li>'80'</li><li>'71'</li><li>'17'</li><li>'21'</li><li>'45'</li><li>'76'</li><li>'08'</li><li>'06'</li><li>'75'</li><li>'47'</li><li>'65'</li><li>'66'</li><li>'67'</li><li>'79'</li><li>'10'</li><li>'13'</li><li>'86'</li><li>'87'</li><li>'72'</li><li>'26'</li><li>'88'</li><li>'36'</li><li>'19'</li><li>'20'</li><li>'53'</li><li>'78'</li><li>'51'</li><li>'89'</li><li>'37'</li><li>'52'</li></ol>\n"
      ],
      "text/latex": [
       "\\begin{enumerate*}\n",
       "\\item '12'\n",
       "\\item '04'\n",
       "\\item '74'\n",
       "\\item '84'\n",
       "\\item '24'\n",
       "\\item '05'\n",
       "\\item '82'\n",
       "\\item '42'\n",
       "\\item '95'\n",
       "\\item '34'\n",
       "\\item '81'\n",
       "\\item '73'\n",
       "\\item '32'\n",
       "\\item '23'\n",
       "\\item '50'\n",
       "\\item '33'\n",
       "\\item '09'\n",
       "\\item '43'\n",
       "\\item '56'\n",
       "\\item '01'\n",
       "\\item '63'\n",
       "\\item '25'\n",
       "\\item '61'\n",
       "\\item '35'\n",
       "\\item '40'\n",
       "\\item '58'\n",
       "\\item '03'\n",
       "\\item '39'\n",
       "\\item '18'\n",
       "\\item '15'\n",
       "\\item '30'\n",
       "\\item '64'\n",
       "\\item '91'\n",
       "\\item '90'\n",
       "\\item '92'\n",
       "\\item '02'\n",
       "\\item '96'\n",
       "\\item '97'\n",
       "\\item '69'\n",
       "\\item '55'\n",
       "\\item '83'\n",
       "\\item '57'\n",
       "\\item '93'\n",
       "\\item '22'\n",
       "\\item '62'\n",
       "\\item '68'\n",
       "\\item '11'\n",
       "\\item '38'\n",
       "\\item '29'\n",
       "\\item '46'\n",
       "\\item '41'\n",
       "\\item '28'\n",
       "\\item '27'\n",
       "\\item '07'\n",
       "\\item '31'\n",
       "\\item '94'\n",
       "\\item '85'\n",
       "\\item '54'\n",
       "\\item '70'\n",
       "\\item '48'\n",
       "\\item '44'\n",
       "\\item '60'\n",
       "\\item '59'\n",
       "\\item '16'\n",
       "\\item '49'\n",
       "\\item '14'\n",
       "\\item '80'\n",
       "\\item '71'\n",
       "\\item '17'\n",
       "\\item '21'\n",
       "\\item '45'\n",
       "\\item '76'\n",
       "\\item '08'\n",
       "\\item '06'\n",
       "\\item '75'\n",
       "\\item '47'\n",
       "\\item '65'\n",
       "\\item '66'\n",
       "\\item '67'\n",
       "\\item '79'\n",
       "\\item '10'\n",
       "\\item '13'\n",
       "\\item '86'\n",
       "\\item '87'\n",
       "\\item '72'\n",
       "\\item '26'\n",
       "\\item '88'\n",
       "\\item '36'\n",
       "\\item '19'\n",
       "\\item '20'\n",
       "\\item '53'\n",
       "\\item '78'\n",
       "\\item '51'\n",
       "\\item '89'\n",
       "\\item '37'\n",
       "\\item '52'\n",
       "\\end{enumerate*}\n"
      ],
      "text/markdown": [
       "1. '12'\n",
       "2. '04'\n",
       "3. '74'\n",
       "4. '84'\n",
       "5. '24'\n",
       "6. '05'\n",
       "7. '82'\n",
       "8. '42'\n",
       "9. '95'\n",
       "10. '34'\n",
       "11. '81'\n",
       "12. '73'\n",
       "13. '32'\n",
       "14. '23'\n",
       "15. '50'\n",
       "16. '33'\n",
       "17. '09'\n",
       "18. '43'\n",
       "19. '56'\n",
       "20. '01'\n",
       "21. '63'\n",
       "22. '25'\n",
       "23. '61'\n",
       "24. '35'\n",
       "25. '40'\n",
       "26. '58'\n",
       "27. '03'\n",
       "28. '39'\n",
       "29. '18'\n",
       "30. '15'\n",
       "31. '30'\n",
       "32. '64'\n",
       "33. '91'\n",
       "34. '90'\n",
       "35. '92'\n",
       "36. '02'\n",
       "37. '96'\n",
       "38. '97'\n",
       "39. '69'\n",
       "40. '55'\n",
       "41. '83'\n",
       "42. '57'\n",
       "43. '93'\n",
       "44. '22'\n",
       "45. '62'\n",
       "46. '68'\n",
       "47. '11'\n",
       "48. '38'\n",
       "49. '29'\n",
       "50. '46'\n",
       "51. '41'\n",
       "52. '28'\n",
       "53. '27'\n",
       "54. '07'\n",
       "55. '31'\n",
       "56. '94'\n",
       "57. '85'\n",
       "58. '54'\n",
       "59. '70'\n",
       "60. '48'\n",
       "61. '44'\n",
       "62. '60'\n",
       "63. '59'\n",
       "64. '16'\n",
       "65. '49'\n",
       "66. '14'\n",
       "67. '80'\n",
       "68. '71'\n",
       "69. '17'\n",
       "70. '21'\n",
       "71. '45'\n",
       "72. '76'\n",
       "73. '08'\n",
       "74. '06'\n",
       "75. '75'\n",
       "76. '47'\n",
       "77. '65'\n",
       "78. '66'\n",
       "79. '67'\n",
       "80. '79'\n",
       "81. '10'\n",
       "82. '13'\n",
       "83. '86'\n",
       "84. '87'\n",
       "85. '72'\n",
       "86. '26'\n",
       "87. '88'\n",
       "88. '36'\n",
       "89. '19'\n",
       "90. '20'\n",
       "91. '53'\n",
       "92. '78'\n",
       "93. '51'\n",
       "94. '89'\n",
       "95. '37'\n",
       "96. '52'\n",
       "\n",
       "\n"
      ],
      "text/plain": [
       " [1] \"12\" \"04\" \"74\" \"84\" \"24\" \"05\" \"82\" \"42\" \"95\" \"34\" \"81\" \"73\" \"32\" \"23\" \"50\"\n",
       "[16] \"33\" \"09\" \"43\" \"56\" \"01\" \"63\" \"25\" \"61\" \"35\" \"40\" \"58\" \"03\" \"39\" \"18\" \"15\"\n",
       "[31] \"30\" \"64\" \"91\" \"90\" \"92\" \"02\" \"96\" \"97\" \"69\" \"55\" \"83\" \"57\" \"93\" \"22\" \"62\"\n",
       "[46] \"68\" \"11\" \"38\" \"29\" \"46\" \"41\" \"28\" \"27\" \"07\" \"31\" \"94\" \"85\" \"54\" \"70\" \"48\"\n",
       "[61] \"44\" \"60\" \"59\" \"16\" \"49\" \"14\" \"80\" \"71\" \"17\" \"21\" \"45\" \"76\" \"08\" \"06\" \"75\"\n",
       "[76] \"47\" \"65\" \"66\" \"67\" \"79\" \"10\" \"13\" \"86\" \"87\" \"72\" \"26\" \"88\" \"36\" \"19\" \"20\"\n",
       "[91] \"53\" \"78\" \"51\" \"89\" \"37\" \"52\""
      ]
     },
     "metadata": {},
     "output_type": "display_data"
    }
   ],
   "source": [
    "df$category %>% unique()"
   ]
  },
  {
   "cell_type": "code",
   "execution_count": 13,
   "metadata": {
    "vscode": {
     "languageId": "r"
    }
   },
   "outputs": [
    {
     "name": "stderr",
     "output_type": "stream",
     "text": [
      "NOTE: 3,408 observations removed because of NA and infinite values (RHS: 2,250, IV: 1,112/2,684).\n",
      "\n"
     ]
    },
    {
     "data": {
      "text/plain": [
       "TSLS estimation - Dep. Var.: log(v/v19)\n",
       "                  Endo.    : log(cases_i), log(cases_j)\n",
       "                  Instr.   : C1M_School_closing_i, C1M_School_closing_j, median_age_i, median_age_j, population_density_i, population_density_j\n",
       "Second stage: Dep. Var.: log(v/v19)\n",
       "Observations: 27,553\n",
       "Fixed-effects: year: 3,  i: 174,  j: 175\n",
       "Standard-errors: Clustered (i & j) \n",
       "                                      Estimate Std. Error   t value Pr(>|t|) \n",
       "fit_log(cases_i)                     -0.005701   0.027458 -0.207625  0.83577 \n",
       "fit_log(cases_j)                      0.011728   0.018624  0.629702  0.52972 \n",
       "C8EV_International_travel_controls_i -0.009598   0.020961 -0.457922  0.64758 \n",
       "C8EV_International_travel_controls_j -0.017987   0.024226 -0.742489  0.45880 \n",
       "---\n",
       "Signif. codes:  0 '***' 0.001 '**' 0.01 '*' 0.05 '.' 0.1 ' ' 1\n",
       "RMSE: 1.38047     Adj. R2:  0.044816\n",
       "                Within R2: -2.263e-4\n",
       "F-test (1st stage), log(cases_i): stat = 790.9     , p < 2.2e-16 , on 6 and 27,197 DoF.\n",
       "F-test (1st stage), log(cases_j): stat = 546.0     , p < 2.2e-16 , on 6 and 27,197 DoF.\n",
       "                      Wu-Hausman: stat =   0.910931, p = 0.402162, on 2 and 27,197 DoF.\n",
       "                          Sargan: stat =   1.4197  , p = 0.840764, on 4 DoF."
      ]
     },
     "metadata": {},
     "output_type": "display_data"
    },
    {
     "name": "stderr",
     "output_type": "stream",
     "text": [
      "NOTE: 3,242 observations removed because of NA and infinite values (RHS: 3,242).\n",
      "\n"
     ]
    },
    {
     "data": {
      "text/plain": [
       "OLS estimation, Dep. Var.: log(v/v19)\n",
       "Observations: 27,719\n",
       "Fixed-effects: year: 3,  i: 174,  j: 175\n",
       "Standard-errors: Clustered (i & j) \n",
       "                                      Estimate Std. Error   t value Pr(>|t|)\n",
       "log(cases_i)                          0.017621   0.009369  1.880834 0.061675\n",
       "log(cases_j)                         -0.008779   0.009643 -0.910323 0.363919\n",
       "C8EV_International_travel_controls_i -0.007074   0.019794 -0.357361 0.721257\n",
       "C8EV_International_travel_controls_j -0.018894   0.024456 -0.772594 0.440817\n",
       "                                        \n",
       "log(cases_i)                         .  \n",
       "log(cases_j)                            \n",
       "C8EV_International_travel_controls_i    \n",
       "C8EV_International_travel_controls_j    \n",
       "---\n",
       "Signif. codes:  0 '***' 0.001 '**' 0.01 '*' 0.05 '.' 0.1 ' ' 1\n",
       "RMSE: 1.37866     Adj. R2: 0.045196\n",
       "                Within R2: 2.05e-4 "
      ]
     },
     "metadata": {},
     "output_type": "display_data"
    }
   ],
   "source": [
    "oil = feols(log(v/v19) ~  1 +\n",
    " C8EV_International_travel_controls_i + C8EV_International_travel_controls_j | year+i+j|\n",
    " log(cases_i) + log(cases_j) ~ \n",
    "C1M_School_closing_i+C1M_School_closing_j\n",
    "+\n",
    "median_age_i + median_age_j\n",
    "+\n",
    "population_density_i + population_density_j\n",
    " ,\n",
    " data = df %>% filter(category == '33')\n",
    " )\n",
    "oil %>% summary(cluster = ~ i+j)\n",
    "oil_ols = feols(log(v/v19) ~  log(cases_i) + log(cases_j) +\n",
    " C8EV_International_travel_controls_i + C8EV_International_travel_controls_j | year+i+j\n",
    "  ,\n",
    " data = df %>% filter(category == '33')\n",
    " )\n",
    "oil_ols %>% summary(cluster = ~ i+j)"
   ]
  },
  {
   "cell_type": "code",
   "execution_count": 14,
   "metadata": {
    "vscode": {
     "languageId": "r"
    }
   },
   "outputs": [
    {
     "name": "stderr",
     "output_type": "stream",
     "text": [
      "NOTE: 402 observations removed because of NA and infinite values (RHS: 232, IV: 156/296).\n",
      "\n"
     ]
    },
    {
     "data": {
      "text/plain": [
       "TSLS estimation - Dep. Var.: log(v/v19)\n",
       "                  Endo.    : log(cases_i), log(cases_j)\n",
       "                  Instr.   : C1M_School_closing_i, C1M_School_closing_j, median_age_i, median_age_j, population_density_i, population_density_j\n",
       "Second stage: Dep. Var.: log(v/v19)\n",
       "Observations: 7,527\n",
       "Fixed-effects: year: 3,  i: 155,  j: 159\n",
       "Standard-errors: Clustered (i & j) \n",
       "                                      Estimate Std. Error  t value  Pr(>|t|)\n",
       "fit_log(cases_i)                      0.069771   0.038639  1.80573 0.0729138\n",
       "fit_log(cases_j)                      0.108695   0.052574  2.06747 0.0403630\n",
       "C8EV_International_travel_controls_i -0.065652   0.046492 -1.41213 0.1599291\n",
       "C8EV_International_travel_controls_j -0.149501   0.052864 -2.82804 0.0053065\n",
       "                                        \n",
       "fit_log(cases_i)                     .  \n",
       "fit_log(cases_j)                     *  \n",
       "C8EV_International_travel_controls_i    \n",
       "C8EV_International_travel_controls_j ** \n",
       "---\n",
       "Signif. codes:  0 '***' 0.001 '**' 0.01 '*' 0.05 '.' 0.1 ' ' 1\n",
       "RMSE: 1.76457     Adj. R2:  0.035716\n",
       "                Within R2: -0.003701\n",
       "F-test (1st stage), log(cases_i): stat = 248.6    , p < 2.2e-16 , on 6 and 7,206 DoF.\n",
       "F-test (1st stage), log(cases_j): stat = 285.5    , p < 2.2e-16 , on 6 and 7,206 DoF.\n",
       "                      Wu-Hausman: stat =   4.10853, p = 0.01647 , on 2 and 7,206 DoF.\n",
       "                          Sargan: stat =   2.90747, p = 0.573428, on 4 DoF."
      ]
     },
     "metadata": {},
     "output_type": "display_data"
    },
    {
     "name": "stderr",
     "output_type": "stream",
     "text": [
      "NOTE: 377 observations removed because of NA and infinite values (RHS: 377).\n",
      "\n"
     ]
    },
    {
     "data": {
      "text/plain": [
       "OLS estimation, Dep. Var.: log(v/v19)\n",
       "Observations: 7,552\n",
       "Fixed-effects: year: 3,  i: 155,  j: 159\n",
       "Standard-errors: Clustered (i & j) \n",
       "                                      Estimate Std. Error   t value Pr(>|t|)\n",
       "log(cases_i)                          0.003252   0.014928  0.217821  0.82786\n",
       "log(cases_j)                          0.009789   0.021961  0.445728  0.65642\n",
       "C8EV_International_travel_controls_i -0.062255   0.045122 -1.379702  0.16968\n",
       "C8EV_International_travel_controls_j -0.122800   0.050660 -2.423986  0.01651\n",
       "                                        \n",
       "log(cases_i)                            \n",
       "log(cases_j)                            \n",
       "C8EV_International_travel_controls_i    \n",
       "C8EV_International_travel_controls_j *  \n",
       "---\n",
       "Signif. codes:  0 '***' 0.001 '**' 0.01 '*' 0.05 '.' 0.1 ' ' 1\n",
       "RMSE: 1.7597     Adj. R2: 0.039977\n",
       "               Within R2: 9.529e-4"
      ]
     },
     "metadata": {},
     "output_type": "display_data"
    }
   ],
   "source": [
    "textile_fibres = feols(log(v/v19) ~  1 +\n",
    " C8EV_International_travel_controls_i + C8EV_International_travel_controls_j | year+i+j|\n",
    " log(cases_i) + log(cases_j) ~ \n",
    "C1M_School_closing_i+C1M_School_closing_j\n",
    "+\n",
    "median_age_i + median_age_j\n",
    "+\n",
    "population_density_i + population_density_j\n",
    " ,\n",
    " data = df %>% filter(category == '26')\n",
    " )\n",
    "textile_fibres %>% summary(cluster = ~ i+j)\n",
    "textile_fibres_ols = feols(log(v/v19) ~  log(cases_i) + log(cases_j) +\n",
    " C8EV_International_travel_controls_i + C8EV_International_travel_controls_j | year+i+j\n",
    "  ,\n",
    " data = df %>% filter(category == '26')\n",
    " )\n",
    "textile_fibres_ols %>% summary(cluster = ~ i+j)"
   ]
  },
  {
   "cell_type": "code",
   "execution_count": 15,
   "metadata": {
    "vscode": {
     "languageId": "r"
    }
   },
   "outputs": [
    {
     "name": "stderr",
     "output_type": "stream",
     "text": [
      "NOTE: 5,648 observations removed because of NA and infinite values (RHS: 4,116, IV: 1,721/4,669).\n",
      "\n"
     ]
    },
    {
     "data": {
      "text/plain": [
       "TSLS estimation - Dep. Var.: log(v/v19)\n",
       "                  Endo.    : log(cases_i), log(cases_j)\n",
       "                  Instr.   : C1M_School_closing_i, C1M_School_closing_j, median_age_i, median_age_j, population_density_i, population_density_j\n",
       "Second stage: Dep. Var.: log(v/v19)\n",
       "Observations: 37,354\n",
       "Fixed-effects: year: 3,  i: 175,  j: 175\n",
       "Standard-errors: Clustered (i & j) \n",
       "                                      Estimate Std. Error   t value Pr(>|t|) \n",
       "fit_log(cases_i)                     -0.005657   0.021146 -0.267514  0.78939 \n",
       "fit_log(cases_j)                      0.029899   0.022222  1.345458  0.18023 \n",
       "C8EV_International_travel_controls_i  0.009440   0.019536  0.483214  0.62955 \n",
       "C8EV_International_travel_controls_j  0.013187   0.018445  0.714927  0.47561 \n",
       "---\n",
       "Signif. codes:  0 '***' 0.001 '**' 0.01 '*' 0.05 '.' 0.1 ' ' 1\n",
       "RMSE: 1.20539     Adj. R2:  0.025152\n",
       "                Within R2: -3.119e-4\n",
       "F-test (1st stage), log(cases_i): stat = 922.6    , p < 2.2e-16 , on 6 and 36,997 DoF.\n",
       "F-test (1st stage), log(cases_j): stat = 744.5    , p < 2.2e-16 , on 6 and 36,997 DoF.\n",
       "                      Wu-Hausman: stat =   0.81985, p = 0.440506, on 2 and 36,997 DoF.\n",
       "                          Sargan: stat =   2.49157, p = 0.646147, on 4 DoF."
      ]
     },
     "metadata": {},
     "output_type": "display_data"
    },
    {
     "name": "stderr",
     "output_type": "stream",
     "text": [
      "NOTE: 5,436 observations removed because of NA and infinite values (RHS: 5,436).\n",
      "\n"
     ]
    },
    {
     "data": {
      "text/plain": [
       "OLS estimation, Dep. Var.: log(v/v19)\n",
       "Observations: 37,566\n",
       "Fixed-effects: year: 3,  i: 175,  j: 175\n",
       "Standard-errors: Clustered (i & j) \n",
       "                                     Estimate Std. Error  t value Pr(>|t|) \n",
       "log(cases_i)                         0.002981   0.006163 0.483634  0.62925 \n",
       "log(cases_j)                         0.007269   0.006423 1.131705  0.25932 \n",
       "C8EV_International_travel_controls_i 0.012797   0.018674 0.685297  0.49407 \n",
       "C8EV_International_travel_controls_j 0.004676   0.016365 0.285747  0.77541 \n",
       "---\n",
       "Signif. codes:  0 '***' 0.001 '**' 0.01 '*' 0.05 '.' 0.1 ' ' 1\n",
       "RMSE: 1.20469     Adj. R2: 0.025436\n",
       "                Within R2: 5.713e-5"
      ]
     },
     "metadata": {},
     "output_type": "display_data"
    }
   ],
   "source": [
    "clothing = feols(log(v/v19) ~  1 +\n",
    " C8EV_International_travel_controls_i + C8EV_International_travel_controls_j | year+i+j|\n",
    " log(cases_i) + log(cases_j) ~ \n",
    "C1M_School_closing_i+C1M_School_closing_j\n",
    "+\n",
    "median_age_i + median_age_j\n",
    "+\n",
    "population_density_i + population_density_j\n",
    " ,\n",
    " data = df %>% filter(category == '84')\n",
    " )\n",
    "clothing %>% summary(cluster = ~ i+j)\n",
    "clothing_ols = feols(log(v/v19) ~  log(cases_i) + log(cases_j) +\n",
    " C8EV_International_travel_controls_i + C8EV_International_travel_controls_j | year+i+j\n",
    "  ,\n",
    " data = df %>% filter(category == '84')\n",
    " )\n",
    "clothing_ols %>% summary(cluster = ~ i+j)"
   ]
  },
  {
   "cell_type": "code",
   "execution_count": 16,
   "metadata": {
    "vscode": {
     "languageId": "r"
    }
   },
   "outputs": [
    {
     "name": "stderr",
     "output_type": "stream",
     "text": [
      "NOTE: 1,332 observations removed because of NA and infinite values (RHS: 704, IV: 568/954).\n",
      "\n"
     ]
    },
    {
     "data": {
      "text/plain": [
       "TSLS estimation - Dep. Var.: log(v/v19)\n",
       "                  Endo.    : log(cases_i), log(cases_j)\n",
       "                  Instr.   : C1M_School_closing_i, C1M_School_closing_j, median_age_i, median_age_j, population_density_i, population_density_j\n",
       "Second stage: Dep. Var.: log(v/v19)\n",
       "Observations: 13,506\n",
       "Fixed-effects: year: 3,  i: 142,  j: 175\n",
       "Standard-errors: Clustered (i & j) \n",
       "                                      Estimate Std. Error   t value Pr(>|t|) \n",
       "fit_log(cases_i)                      0.030195   0.023508  1.284495  0.20108 \n",
       "fit_log(cases_j)                     -0.010379   0.033777 -0.307299  0.75907 \n",
       "C8EV_International_travel_controls_i  0.011323   0.033796  0.335048  0.73809 \n",
       "C8EV_International_travel_controls_j -0.024699   0.031317 -0.788674  0.43163 \n",
       "---\n",
       "Signif. codes:  0 '***' 0.001 '**' 0.01 '*' 0.05 '.' 0.1 ' ' 1\n",
       "RMSE: 1.31044     Adj. R2:  0.045312\n",
       "                Within R2: -2.45e-4 \n",
       "F-test (1st stage), log(cases_i): stat = 651.9    , p < 2.2e-16 , on 6 and 13,182 DoF.\n",
       "F-test (1st stage), log(cases_j): stat = 323.7    , p < 2.2e-16 , on 6 and 13,182 DoF.\n",
       "                      Wu-Hausman: stat =   0.64639, p = 0.52395 , on 2 and 13,182 DoF.\n",
       "                          Sargan: stat =   2.59679, p = 0.627391, on 4 DoF."
      ]
     },
     "metadata": {},
     "output_type": "display_data"
    },
    {
     "name": "stderr",
     "output_type": "stream",
     "text": [
      "NOTE: 1,234 observations removed because of NA and infinite values (RHS: 1,234).\n",
      "\n"
     ]
    },
    {
     "data": {
      "text/plain": [
       "OLS estimation, Dep. Var.: log(v/v19)\n",
       "Observations: 13,604\n",
       "Fixed-effects: year: 3,  i: 142,  j: 175\n",
       "Standard-errors: Clustered (i & j) \n",
       "                                      Estimate Std. Error   t value Pr(>|t|) \n",
       "log(cases_i)                          0.008191   0.012954  0.632296  0.52822 \n",
       "log(cases_j)                         -0.002343   0.010858 -0.215777  0.82947 \n",
       "C8EV_International_travel_controls_i  0.015221   0.030384  0.500938  0.61720 \n",
       "C8EV_International_travel_controls_j -0.033452   0.033443 -1.000280  0.31889 \n",
       "---\n",
       "Signif. codes:  0 '***' 0.001 '**' 0.01 '*' 0.05 '.' 0.1 ' ' 1\n",
       "RMSE: 1.31308     Adj. R2: 0.045296\n",
       "                Within R2: 1.619e-4"
      ]
     },
     "metadata": {},
     "output_type": "display_data"
    }
   ],
   "source": [
    "medicines = feols(log(v/v19) ~  1 +\n",
    " C8EV_International_travel_controls_i + C8EV_International_travel_controls_j | year+i+j|\n",
    " log(cases_i) + log(cases_j) ~ \n",
    "\n",
    "C1M_School_closing_i+C1M_School_closing_j\n",
    "+\n",
    "median_age_i + median_age_j\n",
    "+\n",
    "population_density_i + population_density_j\n",
    "\n",
    "\n",
    " ,\n",
    " data = df %>% filter(category == '54')\n",
    " )\n",
    "medicines %>% summary(cluster = ~ i+j)\n",
    "medicines_ols = feols(log(v/v19) ~  log(cases_i) + log(cases_j) +\n",
    " C8EV_International_travel_controls_i + C8EV_International_travel_controls_j | year+i+j\n",
    "  ,\n",
    " data = df %>% filter(category == '54')\n",
    " )\n",
    "medicines_ols %>% summary(cluster = ~ i+j)"
   ]
  },
  {
   "cell_type": "code",
   "execution_count": 17,
   "metadata": {
    "vscode": {
     "languageId": "r"
    }
   },
   "outputs": [
    {
     "name": "stderr",
     "output_type": "stream",
     "text": [
      "NOTE: 1,849 observations removed because of NA and infinite values (RHS: 1,297, IV: 555/1,500).\n",
      "\n"
     ]
    },
    {
     "data": {
      "text/plain": [
       "TSLS estimation - Dep. Var.: log(v/v19)\n",
       "                  Endo.    : log(cases_i), log(cases_j)\n",
       "                  Instr.   : C1M_School_closing_i, C1M_School_closing_j, median_age_i, median_age_j, population_density_i, population_density_j\n",
       "Second stage: Dep. Var.: log(v/v19)\n",
       "Observations: 17,528\n",
       "Fixed-effects: year: 3,  i: 170,  j: 175\n",
       "Standard-errors: Clustered (i & j) \n",
       "                                      Estimate Std. Error   t value Pr(>|t|) \n",
       "fit_log(cases_i)                     -0.007405   0.040067 -0.184821  0.85359 \n",
       "fit_log(cases_j)                      0.052347   0.044880  1.166374  0.24511 \n",
       "C8EV_International_travel_controls_i -0.021884   0.033635 -0.650622  0.51617 \n",
       "C8EV_International_travel_controls_j -0.027871   0.034008 -0.819544  0.41363 \n",
       "---\n",
       "Signif. codes:  0 '***' 0.001 '**' 0.01 '*' 0.05 '.' 0.1 ' ' 1\n",
       "RMSE: 1.23512     Adj. R2:  0.057672\n",
       "                Within R2: -0.001878\n",
       "F-test (1st stage), log(cases_i): stat = 589.1    , p < 2.2e-16 , on 6 and 17,176 DoF.\n",
       "F-test (1st stage), log(cases_j): stat = 410.5    , p < 2.2e-16 , on 6 and 17,176 DoF.\n",
       "                      Wu-Hausman: stat =   2.58305, p = 0.075572, on 2 and 17,176 DoF.\n",
       "                          Sargan: stat =   2.44171, p = 0.655103, on 4 DoF."
      ]
     },
     "metadata": {},
     "output_type": "display_data"
    },
    {
     "name": "stderr",
     "output_type": "stream",
     "text": [
      "NOTE: 1,772 observations removed because of NA and infinite values (RHS: 1,772).\n",
      "\n"
     ]
    },
    {
     "data": {
      "text/plain": [
       "OLS estimation, Dep. Var.: log(v/v19)\n",
       "Observations: 17,605\n",
       "Fixed-effects: year: 3,  i: 170,  j: 175\n",
       "Standard-errors: Clustered (i & j) \n",
       "                                      Estimate Std. Error   t value Pr(>|t|) \n",
       "log(cases_i)                          0.003817   0.014836  0.257251  0.79730 \n",
       "log(cases_j)                         -0.005436   0.010757 -0.505389  0.61394 \n",
       "C8EV_International_travel_controls_i -0.031654   0.032077 -0.986825  0.32514 \n",
       "C8EV_International_travel_controls_j -0.034643   0.028391 -1.220217  0.22408 \n",
       "---\n",
       "Signif. codes:  0 '***' 0.001 '**' 0.01 '*' 0.05 '.' 0.1 ' ' 1\n",
       "RMSE: 1.23451     Adj. R2: 0.059591\n",
       "                Within R2: 2.493e-4"
      ]
     },
     "metadata": {},
     "output_type": "display_data"
    }
   ],
   "source": [
    "electrical_machinery = feols(log(v/v19) ~  1 +\n",
    " C8EV_International_travel_controls_i + C8EV_International_travel_controls_j | year+i+j|\n",
    " log(cases_i) + log(cases_j) ~ \n",
    "C1M_School_closing_i+C1M_School_closing_j\n",
    "+\n",
    "median_age_i + median_age_j\n",
    "+\n",
    "population_density_i + population_density_j\n",
    " ,\n",
    " data = df %>% filter(category == '72')\n",
    " )\n",
    "electrical_machinery %>% summary(cluster = ~ i+j)\n",
    "electrical_machinery_ols = feols(log(v/v19) ~  log(cases_i) + log(cases_j) +\n",
    " C8EV_International_travel_controls_i + C8EV_International_travel_controls_j | year+i+j\n",
    "  ,\n",
    " data = df %>% filter(category == '72')\n",
    " )\n",
    "electrical_machinery_ols %>% summary(cluster = ~ i+j)"
   ]
  },
  {
   "cell_type": "code",
   "execution_count": 18,
   "metadata": {
    "vscode": {
     "languageId": "r"
    }
   },
   "outputs": [
    {
     "name": "stderr",
     "output_type": "stream",
     "text": [
      "NOTE: 2,173 observations removed because of NA and infinite values (RHS: 1,466, IV: 770/1,727).\n",
      "\n"
     ]
    },
    {
     "data": {
      "text/plain": [
       "TSLS estimation - Dep. Var.: log(v/v19)\n",
       "                  Endo.    : log(cases_i), log(cases_j)\n",
       "                  Instr.   : C1M_School_closing_i, C1M_School_closing_j, median_age_i, median_age_j, population_density_i, population_density_j\n",
       "Second stage: Dep. Var.: log(v/v19)\n",
       "Observations: 16,075\n",
       "Fixed-effects: year: 3,  i: 163,  j: 175\n",
       "Standard-errors: Clustered (i & j) \n",
       "                                      Estimate Std. Error   t value Pr(>|t|) \n",
       "fit_log(cases_i)                     -0.016184   0.016680 -0.970314  0.33334 \n",
       "fit_log(cases_j)                      0.003953   0.029622  0.133431  0.89402 \n",
       "C8EV_International_travel_controls_i -0.034723   0.027080 -1.282221  0.20160 \n",
       "C8EV_International_travel_controls_j -0.026213   0.024105 -1.087473  0.27844 \n",
       "---\n",
       "Signif. codes:  0 '***' 0.001 '**' 0.01 '*' 0.05 '.' 0.1 ' ' 1\n",
       "RMSE: 1.11738     Adj. R2: 0.076206\n",
       "                Within R2: 2.114e-4\n",
       "F-test (1st stage), log(cases_i): stat = 780.6     , p < 2.2e-16 , on 6 and 15,730 DoF.\n",
       "F-test (1st stage), log(cases_j): stat = 453.7     , p < 2.2e-16 , on 6 and 15,730 DoF.\n",
       "                      Wu-Hausman: stat =   0.547127, p = 0.578621, on 2 and 15,730 DoF.\n",
       "                          Sargan: stat =   4.98226 , p = 0.289122, on 4 DoF."
      ]
     },
     "metadata": {},
     "output_type": "display_data"
    },
    {
     "name": "stderr",
     "output_type": "stream",
     "text": [
      "NOTE: 2,091 observations removed because of NA and infinite values (RHS: 2,091).\n",
      "\n"
     ]
    },
    {
     "data": {
      "text/plain": [
       "OLS estimation, Dep. Var.: log(v/v19)\n",
       "Observations: 16,157\n",
       "Fixed-effects: year: 3,  i: 163,  j: 175\n",
       "Standard-errors: Clustered (i & j) \n",
       "                                      Estimate Std. Error  t value Pr(>|t|)    \n",
       "log(cases_i)                         -0.011313   0.007187 -1.57415  0.11740    \n",
       "log(cases_j)                         -0.018861   0.009492 -1.98716  0.04859 *  \n",
       "C8EV_International_travel_controls_i -0.035432   0.026039 -1.36072  0.17549    \n",
       "C8EV_International_travel_controls_j -0.028957   0.023041 -1.25677  0.21065    \n",
       "---\n",
       "Signif. codes:  0 '***' 0.001 '**' 0.01 '*' 0.05 '.' 0.1 ' ' 1\n",
       "RMSE: 1.11692     Adj. R2:    0.076597\n",
       "                Within R2: 6e-4       "
      ]
     },
     "metadata": {},
     "output_type": "display_data"
    }
   ],
   "source": [
    "fish = feols(log(v/v19) ~  1 +\n",
    " C8EV_International_travel_controls_i + C8EV_International_travel_controls_j | year+i+j|\n",
    " log(cases_i) + log(cases_j) ~ \n",
    "C1M_School_closing_i+C1M_School_closing_j\n",
    "+\n",
    "median_age_i + median_age_j\n",
    "+\n",
    "population_density_i + population_density_j\n",
    " ,\n",
    " data = df %>% filter(category == '03')\n",
    " )\n",
    "fish %>% summary(cluster = ~ i+j)\n",
    "fish_ols = feols(log(v/v19) ~  log(cases_i) + log(cases_j) +\n",
    " C8EV_International_travel_controls_i + C8EV_International_travel_controls_j | year+i+j\n",
    "  ,\n",
    " data = df %>% filter(category == '03')\n",
    " )\n",
    "fish_ols %>% summary(cluster = ~ i+j)"
   ]
  }
 ],
 "metadata": {
  "kernelspec": {
   "display_name": "R",
   "language": "R",
   "name": "ir"
  },
  "language_info": {
   "codemirror_mode": "r",
   "file_extension": ".r",
   "mimetype": "text/x-r-source",
   "name": "R",
   "pygments_lexer": "r",
   "version": "4.4.1"
  }
 },
 "nbformat": 4,
 "nbformat_minor": 2
}
