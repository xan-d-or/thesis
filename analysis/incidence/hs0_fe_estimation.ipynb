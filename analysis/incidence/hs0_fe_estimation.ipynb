{
 "cells": [
  {
   "cell_type": "markdown",
   "metadata": {},
   "source": [
    "# Оцениваем регрессии на данных HS0 в спецификациях:\n",
    "- Фиксированные эффекты ~ ковид и ограничения\n",
    "- Фиксированные эффекты ~ ковид и ограничения | инструментальные переменные\n",
    "- В перспективе: суммарный экспорт/импорт в зависимости от ковида (+ IV)"
   ]
  },
  {
   "cell_type": "code",
   "execution_count": 1,
   "metadata": {
    "vscode": {
     "languageId": "r"
    }
   },
   "outputs": [
    {
     "name": "stderr",
     "output_type": "stream",
     "text": [
      "\n",
      "Присоединяю пакет: 'arrow'\n",
      "\n",
      "\n",
      "Следующий объект скрыт от 'package:utils':\n",
      "\n",
      "    timestamp\n",
      "\n",
      "\n",
      "\n",
      "Please cite as: \n",
      "\n",
      "\n",
      " Hlavac, Marek (2022). stargazer: Well-Formatted Regression and Summary Statistics Tables.\n",
      "\n",
      " R package version 5.2.3. https://CRAN.R-project.org/package=stargazer \n",
      "\n",
      "\n",
      "Warning message:\n",
      "\"пакет 'tidyverse' был собран под R версии 4.4.2\"\n",
      "── \u001b[1mAttaching core tidyverse packages\u001b[22m ──────────────────────── tidyverse 2.0.0 ──\n",
      "\u001b[32m✔\u001b[39m \u001b[34mdplyr    \u001b[39m 1.1.4     \u001b[32m✔\u001b[39m \u001b[34mreadr    \u001b[39m 2.1.5\n",
      "\u001b[32m✔\u001b[39m \u001b[34mforcats  \u001b[39m 1.0.0     \u001b[32m✔\u001b[39m \u001b[34mstringr  \u001b[39m 1.5.1\n",
      "\u001b[32m✔\u001b[39m \u001b[34mggplot2  \u001b[39m 3.5.1     \u001b[32m✔\u001b[39m \u001b[34mtibble   \u001b[39m 3.2.1\n",
      "\u001b[32m✔\u001b[39m \u001b[34mlubridate\u001b[39m 1.9.3     \u001b[32m✔\u001b[39m \u001b[34mtidyr    \u001b[39m 1.3.1\n",
      "\u001b[32m✔\u001b[39m \u001b[34mpurrr    \u001b[39m 1.0.2     \n",
      "── \u001b[1mConflicts\u001b[22m ────────────────────────────────────────── tidyverse_conflicts() ──\n",
      "\u001b[31m✖\u001b[39m \u001b[34mlubridate\u001b[39m::\u001b[32mduration()\u001b[39m masks \u001b[34marrow\u001b[39m::duration()\n",
      "\u001b[31m✖\u001b[39m \u001b[34mdplyr\u001b[39m::\u001b[32mfilter()\u001b[39m       masks \u001b[34mstats\u001b[39m::filter()\n",
      "\u001b[31m✖\u001b[39m \u001b[34mdplyr\u001b[39m::\u001b[32mlag()\u001b[39m          masks \u001b[34mstats\u001b[39m::lag()\n",
      "\u001b[36mℹ\u001b[39m Use the conflicted package (\u001b[3m\u001b[34m<http://conflicted.r-lib.org/>\u001b[39m\u001b[23m) to force all conflicts to become errors\n",
      "Warning message:\n",
      "\"пакет 'plotly' был собран под R версии 4.4.2\"\n",
      "\n",
      "Присоединяю пакет: 'plotly'\n",
      "\n",
      "\n",
      "Следующий объект скрыт от 'package:ggplot2':\n",
      "\n",
      "    last_plot\n",
      "\n",
      "\n",
      "Следующий объект скрыт от 'package:arrow':\n",
      "\n",
      "    schema\n",
      "\n",
      "\n",
      "Следующий объект скрыт от 'package:stats':\n",
      "\n",
      "    filter\n",
      "\n",
      "\n",
      "Следующий объект скрыт от 'package:graphics':\n",
      "\n",
      "    layout\n",
      "\n",
      "\n"
     ]
    }
   ],
   "source": [
    "library(arrow)\n",
    "library(stargazer)\n",
    "library(tidyverse)\n",
    "library(plotly)\n",
    "library(fixest)"
   ]
  },
  {
   "cell_type": "markdown",
   "metadata": {},
   "source": [
    "## Фиксированные эффекты"
   ]
  },
  {
   "cell_type": "markdown",
   "metadata": {},
   "source": [
    "### Экспорт\n",
    "\n",
    "+иллюстрирую, зачем тут нужны фиксированные эффекты"
   ]
  },
  {
   "cell_type": "code",
   "execution_count": 2,
   "metadata": {
    "vscode": {
     "languageId": "r"
    }
   },
   "outputs": [
    {
     "data": {
      "text/html": [
       "<table class=\"dataframe\">\n",
       "<caption>A tibble: 6 × 63</caption>\n",
       "<thead>\n",
       "\t<tr><th scope=col>year</th><th scope=col>country</th><th scope=col>value</th><th scope=col>country:r</th><th scope=col>t</th><th scope=col>cases</th><th scope=col>deaths</th><th scope=col>tests</th><th scope=col>C1M_School_closing</th><th scope=col>C2M_Workplace_closing</th><th scope=col>⋯</th><th scope=col>infant_mortality</th><th scope=col>largest_city_share</th><th scope=col>urbanization</th><th scope=col>country:household_size</th><th scope=col>avg_hh_size</th><th scope=col>share_1_members</th><th scope=col>share_2_3_members</th><th scope=col>share_4_5_members</th><th scope=col>year:r</th><th scope=col>SARS_flg</th></tr>\n",
       "\t<tr><th scope=col>&lt;chr&gt;</th><th scope=col>&lt;chr&gt;</th><th scope=col>&lt;dbl&gt;</th><th scope=col>&lt;chr&gt;</th><th scope=col>&lt;int&gt;</th><th scope=col>&lt;dbl&gt;</th><th scope=col>&lt;dbl&gt;</th><th scope=col>&lt;chr&gt;</th><th scope=col>&lt;dbl&gt;</th><th scope=col>&lt;dbl&gt;</th><th scope=col>⋯</th><th scope=col>&lt;dbl&gt;</th><th scope=col>&lt;dbl&gt;</th><th scope=col>&lt;dbl&gt;</th><th scope=col>&lt;chr&gt;</th><th scope=col>&lt;dbl&gt;</th><th scope=col>&lt;dbl&gt;</th><th scope=col>&lt;dbl&gt;</th><th scope=col>&lt;dbl&gt;</th><th scope=col>&lt;chr&gt;</th><th scope=col>&lt;int&gt;</th></tr>\n",
       "</thead>\n",
       "<tbody>\n",
       "\t<tr><td>2020</td><td>SLV</td><td> -3.339168</td><td>SLV</td><td>2020</td><td> 19.6259116</td><td>0.57060773</td><td>NA</td><td>2.426229</td><td>1.4344262</td><td>⋯</td><td>11.0</td><td>24.14867</td><td>17.73575</td><td>SLV</td><td>3.92</td><td> 8.46</td><td>36.01</td><td>37.84</td><td>2020</td><td>0</td></tr>\n",
       "\t<tr><td>2022</td><td>ASM</td><td>  7.347834</td><td>ASM</td><td>2022</td><td>467.6200274</td><td>1.92600000</td><td>NA</td><td>      NA</td><td>       NA</td><td>⋯</td><td>  NA</td><td>      NA</td><td>      NA</td><td>NA </td><td>  NA</td><td>   NA</td><td>   NA</td><td>   NA</td><td>2022</td><td>0</td></tr>\n",
       "\t<tr><td>2020</td><td>BOL</td><td> -5.962379</td><td>BOL</td><td>2020</td><td> 35.1308840</td><td>2.07754144</td><td>NA</td><td>2.418033</td><td>1.8306011</td><td>⋯</td><td>21.0</td><td>22.42107</td><td>41.25143</td><td>BOL</td><td>3.53</td><td>20.34</td><td>34.82</td><td>27.64</td><td>2020</td><td>0</td></tr>\n",
       "\t<tr><td>2020</td><td>SLE</td><td>  1.653766</td><td>SLE</td><td>2020</td><td>  0.8507182</td><td>0.02530387</td><td>NA</td><td>1.606557</td><td>0.2349727</td><td>⋯</td><td>80.3</td><td>35.38844</td><td>15.18978</td><td>SLE</td><td>5.29</td><td> 6.42</td><td>20.52</td><td>33.28</td><td>2020</td><td>0</td></tr>\n",
       "\t<tr><td>2020</td><td>LKA</td><td>-14.478386</td><td>LKA</td><td>2020</td><td>  4.9664917</td><td>0.02309392</td><td>NA</td><td>1.931694</td><td>0.5546448</td><td>⋯</td><td> 6.0</td><td>14.93368</td><td>      NA</td><td>NA </td><td>  NA</td><td>   NA</td><td>   NA</td><td>   NA</td><td>2020</td><td>0</td></tr>\n",
       "\t<tr><td>2022</td><td>ATG</td><td> 13.013159</td><td>ATG</td><td>2022</td><td>143.9042740</td><td>0.82619178</td><td>NA</td><td>      NA</td><td>       NA</td><td>⋯</td><td> 8.1</td><td>      NA</td><td>      NA</td><td>NA </td><td>  NA</td><td>   NA</td><td>   NA</td><td>   NA</td><td>2022</td><td>0</td></tr>\n",
       "</tbody>\n",
       "</table>\n"
      ],
      "text/latex": [
       "A tibble: 6 × 63\n",
       "\\begin{tabular}{lllllllllllllllllllll}\n",
       " year & country & value & country:r & t & cases & deaths & tests & C1M\\_School\\_closing & C2M\\_Workplace\\_closing & ⋯ & infant\\_mortality & largest\\_city\\_share & urbanization & country:household\\_size & avg\\_hh\\_size & share\\_1\\_members & share\\_2\\_3\\_members & share\\_4\\_5\\_members & year:r & SARS\\_flg\\\\\n",
       " <chr> & <chr> & <dbl> & <chr> & <int> & <dbl> & <dbl> & <chr> & <dbl> & <dbl> & ⋯ & <dbl> & <dbl> & <dbl> & <chr> & <dbl> & <dbl> & <dbl> & <dbl> & <chr> & <int>\\\\\n",
       "\\hline\n",
       "\t 2020 & SLV &  -3.339168 & SLV & 2020 &  19.6259116 & 0.57060773 & NA & 2.426229 & 1.4344262 & ⋯ & 11.0 & 24.14867 & 17.73575 & SLV & 3.92 &  8.46 & 36.01 & 37.84 & 2020 & 0\\\\\n",
       "\t 2022 & ASM &   7.347834 & ASM & 2022 & 467.6200274 & 1.92600000 & NA &       NA &        NA & ⋯ &   NA &       NA &       NA & NA  &   NA &    NA &    NA &    NA & 2022 & 0\\\\\n",
       "\t 2020 & BOL &  -5.962379 & BOL & 2020 &  35.1308840 & 2.07754144 & NA & 2.418033 & 1.8306011 & ⋯ & 21.0 & 22.42107 & 41.25143 & BOL & 3.53 & 20.34 & 34.82 & 27.64 & 2020 & 0\\\\\n",
       "\t 2020 & SLE &   1.653766 & SLE & 2020 &   0.8507182 & 0.02530387 & NA & 1.606557 & 0.2349727 & ⋯ & 80.3 & 35.38844 & 15.18978 & SLE & 5.29 &  6.42 & 20.52 & 33.28 & 2020 & 0\\\\\n",
       "\t 2020 & LKA & -14.478386 & LKA & 2020 &   4.9664917 & 0.02309392 & NA & 1.931694 & 0.5546448 & ⋯ &  6.0 & 14.93368 &       NA & NA  &   NA &    NA &    NA &    NA & 2020 & 0\\\\\n",
       "\t 2022 & ATG &  13.013159 & ATG & 2022 & 143.9042740 & 0.82619178 & NA &       NA &        NA & ⋯ &  8.1 &       NA &       NA & NA  &   NA &    NA &    NA &    NA & 2022 & 0\\\\\n",
       "\\end{tabular}\n"
      ],
      "text/markdown": [
       "\n",
       "A tibble: 6 × 63\n",
       "\n",
       "| year &lt;chr&gt; | country &lt;chr&gt; | value &lt;dbl&gt; | country:r &lt;chr&gt; | t &lt;int&gt; | cases &lt;dbl&gt; | deaths &lt;dbl&gt; | tests &lt;chr&gt; | C1M_School_closing &lt;dbl&gt; | C2M_Workplace_closing &lt;dbl&gt; | ⋯ ⋯ | infant_mortality &lt;dbl&gt; | largest_city_share &lt;dbl&gt; | urbanization &lt;dbl&gt; | country:household_size &lt;chr&gt; | avg_hh_size &lt;dbl&gt; | share_1_members &lt;dbl&gt; | share_2_3_members &lt;dbl&gt; | share_4_5_members &lt;dbl&gt; | year:r &lt;chr&gt; | SARS_flg &lt;int&gt; |\n",
       "|---|---|---|---|---|---|---|---|---|---|---|---|---|---|---|---|---|---|---|---|---|\n",
       "| 2020 | SLV |  -3.339168 | SLV | 2020 |  19.6259116 | 0.57060773 | NA | 2.426229 | 1.4344262 | ⋯ | 11.0 | 24.14867 | 17.73575 | SLV | 3.92 |  8.46 | 36.01 | 37.84 | 2020 | 0 |\n",
       "| 2022 | ASM |   7.347834 | ASM | 2022 | 467.6200274 | 1.92600000 | NA |       NA |        NA | ⋯ |   NA |       NA |       NA | NA  |   NA |    NA |    NA |    NA | 2022 | 0 |\n",
       "| 2020 | BOL |  -5.962379 | BOL | 2020 |  35.1308840 | 2.07754144 | NA | 2.418033 | 1.8306011 | ⋯ | 21.0 | 22.42107 | 41.25143 | BOL | 3.53 | 20.34 | 34.82 | 27.64 | 2020 | 0 |\n",
       "| 2020 | SLE |   1.653766 | SLE | 2020 |   0.8507182 | 0.02530387 | NA | 1.606557 | 0.2349727 | ⋯ | 80.3 | 35.38844 | 15.18978 | SLE | 5.29 |  6.42 | 20.52 | 33.28 | 2020 | 0 |\n",
       "| 2020 | LKA | -14.478386 | LKA | 2020 |   4.9664917 | 0.02309392 | NA | 1.931694 | 0.5546448 | ⋯ |  6.0 | 14.93368 |       NA | NA  |   NA |    NA |    NA |    NA | 2020 | 0 |\n",
       "| 2022 | ATG |  13.013159 | ATG | 2022 | 143.9042740 | 0.82619178 | NA |       NA |        NA | ⋯ |  8.1 |       NA |       NA | NA  |   NA |    NA |    NA |    NA | 2022 | 0 |\n",
       "\n"
      ],
      "text/plain": [
       "  year country value      country:r t    cases       deaths     tests\n",
       "1 2020 SLV      -3.339168 SLV       2020  19.6259116 0.57060773 NA   \n",
       "2 2022 ASM       7.347834 ASM       2022 467.6200274 1.92600000 NA   \n",
       "3 2020 BOL      -5.962379 BOL       2020  35.1308840 2.07754144 NA   \n",
       "4 2020 SLE       1.653766 SLE       2020   0.8507182 0.02530387 NA   \n",
       "5 2020 LKA     -14.478386 LKA       2020   4.9664917 0.02309392 NA   \n",
       "6 2022 ATG      13.013159 ATG       2022 143.9042740 0.82619178 NA   \n",
       "  C1M_School_closing C2M_Workplace_closing ⋯ infant_mortality\n",
       "1 2.426229           1.4344262             ⋯ 11.0            \n",
       "2       NA                  NA             ⋯   NA            \n",
       "3 2.418033           1.8306011             ⋯ 21.0            \n",
       "4 1.606557           0.2349727             ⋯ 80.3            \n",
       "5 1.931694           0.5546448             ⋯  6.0            \n",
       "6       NA                  NA             ⋯  8.1            \n",
       "  largest_city_share urbanization country:household_size avg_hh_size\n",
       "1 24.14867           17.73575     SLV                    3.92       \n",
       "2       NA                 NA     NA                       NA       \n",
       "3 22.42107           41.25143     BOL                    3.53       \n",
       "4 35.38844           15.18978     SLE                    5.29       \n",
       "5 14.93368                 NA     NA                       NA       \n",
       "6       NA                 NA     NA                       NA       \n",
       "  share_1_members share_2_3_members share_4_5_members year:r SARS_flg\n",
       "1  8.46           36.01             37.84             2020   0       \n",
       "2    NA              NA                NA             2022   0       \n",
       "3 20.34           34.82             27.64             2020   0       \n",
       "4  6.42           20.52             33.28             2020   0       \n",
       "5    NA              NA                NA             2020   0       \n",
       "6    NA              NA                NA             2022   0       "
      ]
     },
     "metadata": {},
     "output_type": "display_data"
    }
   ],
   "source": [
    "# Скачиваю данные и переназываю переменные\n",
    "df = read_parquet('../../data/processed_data/trade_hs0_export_fe_x_covid.parquet.gzip')\n",
    "df = df %>% mutate(year = as.character(year), SARS_flg = as.integer(!is.na(SARS_total_cases)))\n",
    "df %>% head()"
   ]
  },
  {
   "cell_type": "markdown",
   "metadata": {},
   "source": [
    "### Рисую обычный и demeaned scatterplot, чтобы обосновать необходимость использования фиксированных эффектов\n",
    "\n",
    "Графики будут интерактивные, если раскомментить ggplotly, закомментить p и перепрогнать"
   ]
  },
  {
   "cell_type": "code",
   "execution_count": 3,
   "metadata": {
    "vscode": {
     "languageId": "r"
    }
   },
   "outputs": [
    {
     "name": "stderr",
     "output_type": "stream",
     "text": [
      "Warning message:\n",
      "\"\u001b[1m\u001b[22mRemoved 6 rows containing missing values or values outside the scale range\n",
      "(`geom_point()`).\"\n"
     ]
    },
    {
     "data": {
      "image/png": "[encoded data removed]",
      "text/plain": [
       "plot without title"
      ]
     },
     "metadata": {
      "image/png": {
       "height": 420,
       "width": 420
      }
     },
     "output_type": "display_data"
    }
   ],
   "source": [
    "p = ggplot(df, aes(x = log(cases), y = value, text = factor(country), color = factor(year)\n",
    "    )) + geom_point()+ theme(legend.position = \"none\")\n",
    "# ggplotly(p) \n",
    "p   "
   ]
  },
  {
   "cell_type": "code",
   "execution_count": 4,
   "metadata": {
    "vscode": {
     "languageId": "r"
    }
   },
   "outputs": [
    {
     "data": {
      "image/png": "[encoded data removed]",
      "text/plain": [
       "plot without title"
      ]
     },
     "metadata": {
      "image/png": {
       "height": 420,
       "width": 420
      }
     },
     "output_type": "display_data"
    }
   ],
   "source": [
    "country_means_df = df %>% group_by(country) %>%\n",
    " summarize(avg_value = mean(value, na.rm = TRUE), avg_log_cases = mean(log(cases), na.rm = TRUE))  %>% filter(avg_log_cases > -1000)\n",
    "\n",
    "demeaned_df = df %>% merge(., country_means_df, by = 'country')  %>%\n",
    "  mutate(log_cases = log(cases)- avg_log_cases, value = value- avg_value) %>%\n",
    "   select(country, year, log_cases, value)\n",
    "p = ggplot(demeaned_df, aes(x = log_cases, y = value, text = factor(country), color = factor(year)\n",
    "    )) + geom_point()+ theme(legend.position = \"none\")\n",
    "# ggplotly(p)    \n",
    "p"
   ]
  },
  {
   "cell_type": "code",
   "execution_count": 5,
   "metadata": {
    "vscode": {
     "languageId": "r"
    }
   },
   "outputs": [
    {
     "data": {
      "image/png": "[encoded data removed]",
      "text/plain": [
       "plot without title"
      ]
     },
     "metadata": {
      "image/png": {
       "height": 420,
       "width": 420
      }
     },
     "output_type": "display_data"
    }
   ],
   "source": [
    "year_means_df = demeaned_df %>% filter(log_cases > -5) %>% group_by(year) %>%\n",
    " summarize(avg_value = mean(value, na.rm = TRUE), avg_log_cases = mean(log_cases, na.rm = TRUE))\n",
    "\n",
    "demeaned_df2 = demeaned_df %>% merge(., year_means_df, by = 'year')  %>%\n",
    "  mutate(log_cases = log_cases- avg_log_cases, value = value - avg_value) %>%\n",
    "   select(country, year, log_cases, value)\n",
    "\n",
    "p = ggplot(demeaned_df2, aes(x = log_cases, y = value, text = factor(country), color = factor(year)\n",
    "    )) + geom_point()+ theme(legend.position = \"none\")\n",
    "# ggplotly(p)    \n",
    "p"
   ]
  },
  {
   "cell_type": "code",
   "execution_count": 6,
   "metadata": {
    "vscode": {
     "languageId": "r"
    }
   },
   "outputs": [
    {
     "data": {
      "text/html": [
       "<table class=\"dataframe\">\n",
       "<caption>A tibble: 3 × 3</caption>\n",
       "<thead>\n",
       "\t<tr><th scope=col>year</th><th scope=col>avg_value</th><th scope=col>avg_log_cases</th></tr>\n",
       "\t<tr><th scope=col>&lt;chr&gt;</th><th scope=col>&lt;dbl&gt;</th><th scope=col>&lt;dbl&gt;</th></tr>\n",
       "</thead>\n",
       "<tbody>\n",
       "\t<tr><td>2020</td><td>-2.752748</td><td>-1.0799770</td></tr>\n",
       "\t<tr><td>2021</td><td>-1.667404</td><td> 0.4683864</td></tr>\n",
       "\t<tr><td>2022</td><td> 4.420130</td><td> 0.6776799</td></tr>\n",
       "</tbody>\n",
       "</table>\n"
      ],
      "text/latex": [
       "A tibble: 3 × 3\n",
       "\\begin{tabular}{lll}\n",
       " year & avg\\_value & avg\\_log\\_cases\\\\\n",
       " <chr> & <dbl> & <dbl>\\\\\n",
       "\\hline\n",
       "\t 2020 & -2.752748 & -1.0799770\\\\\n",
       "\t 2021 & -1.667404 &  0.4683864\\\\\n",
       "\t 2022 &  4.420130 &  0.6776799\\\\\n",
       "\\end{tabular}\n"
      ],
      "text/markdown": [
       "\n",
       "A tibble: 3 × 3\n",
       "\n",
       "| year &lt;chr&gt; | avg_value &lt;dbl&gt; | avg_log_cases &lt;dbl&gt; |\n",
       "|---|---|---|\n",
       "| 2020 | -2.752748 | -1.0799770 |\n",
       "| 2021 | -1.667404 |  0.4683864 |\n",
       "| 2022 |  4.420130 |  0.6776799 |\n",
       "\n"
      ],
      "text/plain": [
       "  year avg_value avg_log_cases\n",
       "1 2020 -2.752748 -1.0799770   \n",
       "2 2021 -1.667404  0.4683864   \n",
       "3 2022  4.420130  0.6776799   "
      ]
     },
     "metadata": {},
     "output_type": "display_data"
    }
   ],
   "source": [
    "year_means_df"
   ]
  },
  {
   "cell_type": "markdown",
   "metadata": {},
   "source": [
    "### Сами регрессии"
   ]
  },
  {
   "cell_type": "code",
   "execution_count": 7,
   "metadata": {
    "vscode": {
     "languageId": "r"
    }
   },
   "outputs": [
    {
     "name": "stderr",
     "output_type": "stream",
     "text": [
      "NOTE: 139 observations removed because of NA and infinite values (RHS: 139).\n",
      "\n"
     ]
    },
    {
     "data": {
      "text/plain": [
       "OLS estimation, Dep. Var.: value\n",
       "Observations: 521\n",
       "Fixed-effects: year: 3\n",
       "Standard-errors: Clustered (country) \n",
       "                                    Estimate Std. Error   t value   Pr(>|t|)\n",
       "log(cases)                          0.848212   0.218497  3.882035 0.00014688\n",
       "C8EV_International_travel_controls -0.050219   0.646687 -0.077655 0.93819158\n",
       "                                      \n",
       "log(cases)                         ***\n",
       "C8EV_International_travel_controls    \n",
       "---\n",
       "Signif. codes:  0 '***' 0.001 '**' 0.01 '*' 0.05 '.' 0.1 ' ' 1\n",
       "RMSE: 7.51242     Adj. R2: 0.190029\n",
       "                Within R2: 0.064397"
      ]
     },
     "metadata": {},
     "output_type": "display_data"
    }
   ],
   "source": [
    "# Pulled OLS\n",
    "export_m0 = feols(value ~ log(cases) +\n",
    " C8EV_International_travel_controls| year,\n",
    " data = df)\n",
    "export_m0 %>% summary(vcov = ~country)"
   ]
  },
  {
   "cell_type": "code",
   "execution_count": 8,
   "metadata": {
    "vscode": {
     "languageId": "r"
    }
   },
   "outputs": [
    {
     "name": "stderr",
     "output_type": "stream",
     "text": [
      "NOTE: 139 observations removed because of NA and infinite values (RHS: 139).\n",
      "\n"
     ]
    },
    {
     "data": {
      "text/plain": [
       "OLS estimation, Dep. Var.: value\n",
       "Observations: 521\n",
       "Fixed-effects: country: 175,  year: 3\n",
       "Standard-errors: Clustered (country) \n",
       "                                    Estimate Std. Error   t value Pr(>|t|)    \n",
       "log(cases)                         -0.007038   0.009333 -0.754089 0.451815    \n",
       "C8EV_International_travel_controls -0.062528   0.027495 -2.274181 0.024176 *  \n",
       "---\n",
       "Signif. codes:  0 '***' 0.001 '**' 0.01 '*' 0.05 '.' 0.1 ' ' 1\n",
       "RMSE: 0.168936     Adj. R2: 0.999382\n",
       "                 Within R2: 0.021597"
      ]
     },
     "metadata": {},
     "output_type": "display_data"
    }
   ],
   "source": [
    "export_m1 = feols(value ~ log(cases) +\n",
    " C8EV_International_travel_controls| country + year,\n",
    " data = df)\n",
    "export_m1 %>% summary(vcov = ~country)"
   ]
  },
  {
   "cell_type": "code",
   "execution_count": null,
   "metadata": {
    "vscode": {
     "languageId": "r"
    }
   },
   "outputs": [
    {
     "name": "stderr",
     "output_type": "stream",
     "text": [
      "NOTE: 141 observations removed because of NA and infinite values (RHS: 126, IV: 35/130).\n",
      "\n"
     ]
    },
    {
     "data": {
      "text/plain": [
       "TSLS estimation - Dep. Var.: value\n",
       "                  Endo.    : log(cases)\n",
       "                  Instr.   : C1M_School_closing, median_age, population_density\n",
       "Second stage: Dep. Var.: value\n",
       "Observations: 519\n",
       "Fixed-effects: country: 175,  year: 3\n",
       "Standard-errors: Clustered (country) \n",
       "                                    Estimate Std. Error  t value Pr(>|t|)    \n",
       "fit_log(cases)                     -0.042348   0.025484 -1.66178 0.098357 .  \n",
       "C8EV_International_travel_controls -0.073744   0.027924 -2.64087 0.009022 ** \n",
       "---\n",
       "Signif. codes:  0 '***' 0.001 '**' 0.01 '*' 0.05 '.' 0.1 ' ' 1\n",
       "RMSE: 0.173337     Adj. R2:  0.999347\n",
       "                 Within R2: -0.02717 \n",
       "F-test (1st stage), log(cases): stat = 25.6    , p = 2.025e-15, on 3 and 512 DoF.\n",
       "                    Wu-Hausman: stat =  2.56056, p = 0.110491 , on 1 and 339 DoF.\n",
       "                        Sargan: stat =  2.58727, p = 0.274272 , on 2 DoF."
      ]
     },
     "metadata": {},
     "output_type": "display_data"
    }
   ],
   "source": [
    "export_m1_iv = feols(value ~ 1 + C8EV_International_travel_controls|country + year|\n",
    " log(cases) ~ #H6M_Facial_Coverings+\n",
    " C1M_School_closing+median_age+population_density,\n",
    " data = df)\n",
    "export_m1_iv %>% summary(vcov = ~country)"
   ]
  },
  {
   "cell_type": "code",
   "execution_count": 10,
   "metadata": {
    "vscode": {
     "languageId": "r"
    }
   },
   "outputs": [
    {
     "name": "stderr",
     "output_type": "stream",
     "text": [
      "NOTE: 139 observations removed because of NA and infinite values (RHS: 139).\n",
      "\n"
     ]
    },
    {
     "data": {
      "text/plain": [
       "OLS estimation, Dep. Var.: value\n",
       "Observations: 521\n",
       "Fixed-effects: country: 175\n",
       "Standard-errors: Clustered (country) \n",
       "                                             Estimate Std. Error   t value\n",
       "year2021                                     0.978040   0.090260 10.835814\n",
       "year2022                                     7.018722   0.113267 61.966094\n",
       "year2020:log(cases)                         -0.019319   0.011731 -1.646787\n",
       "year2021:log(cases)                         -0.007983   0.012367 -0.645521\n",
       "year2022:log(cases)                          0.003302   0.010599  0.311530\n",
       "year2020:C8EV_International_travel_controls -0.080936   0.040766 -1.985362\n",
       "year2021:C8EV_International_travel_controls -0.035906   0.030117 -1.192187\n",
       "year2022:C8EV_International_travel_controls -0.053719   0.060003 -0.895274\n",
       "                                             Pr(>|t|)    \n",
       "year2021                                    < 2.2e-16 ***\n",
       "year2022                                    < 2.2e-16 ***\n",
       "year2020:log(cases)                          0.101407    \n",
       "year2021:log(cases)                          0.519440    \n",
       "year2022:log(cases)                          0.755771    \n",
       "year2020:C8EV_International_travel_controls  0.048675 *  \n",
       "year2021:C8EV_International_travel_controls  0.234811    \n",
       "year2022:C8EV_International_travel_controls  0.371877    \n",
       "---\n",
       "Signif. codes:  0 '***' 0.001 '**' 0.01 '*' 0.05 '.' 0.1 ' ' 1\n",
       "RMSE: 0.167419     Adj. R2: 0.999386\n",
       "                 Within R2: 0.997226"
      ]
     },
     "metadata": {},
     "output_type": "display_data"
    }
   ],
   "source": [
    "# Гетерогенность во времени\n",
    "export_m2 = feols(value ~ year/log(cases) + year/C8EV_International_travel_controls| country,\n",
    " data = df)\n",
    "export_m2 %>% summary(vcov = ~country)"
   ]
  },
  {
   "cell_type": "code",
   "execution_count": 11,
   "metadata": {
    "vscode": {
     "languageId": "r"
    }
   },
   "outputs": [
    {
     "data": {
      "text/html": [
       "<table class=\"dataframe\">\n",
       "<caption>A etable_df: 20 × 5</caption>\n",
       "<thead>\n",
       "\t<tr><th></th><th scope=col></th><th scope=col>export_m0</th><th scope=col>export_m1</th><th scope=col>export_m1_iv</th><th scope=col>export_m2</th></tr>\n",
       "\t<tr><th></th><th scope=col>&lt;chr&gt;</th><th scope=col>&lt;chr&gt;</th><th scope=col>&lt;chr&gt;</th><th scope=col>&lt;chr&gt;</th><th scope=col>&lt;chr&gt;</th></tr>\n",
       "</thead>\n",
       "<tbody>\n",
       "\t<tr><th scope=row>1</th><td>Dependent Var.:                              </td><td>value             </td><td>value            </td><td>value             </td><td>value             </td></tr>\n",
       "\t<tr><th scope=row>2</th><td>                                             </td><td>                  </td><td>                 </td><td>                  </td><td>                  </td></tr>\n",
       "\t<tr><th scope=row>3</th><td>log(cases)                                   </td><td>0.8482*** (0.2185)</td><td>-0.0070 (0.0093) </td><td>-0.0423. (0.0255) </td><td>                  </td></tr>\n",
       "\t<tr><th scope=row>4</th><td>C8EV_International_travel_controls           </td><td>-0.0502 (0.6467)  </td><td>-0.0625* (0.0275)</td><td>-0.0737** (0.0279)</td><td>                  </td></tr>\n",
       "\t<tr><th scope=row>5</th><td>year2021                                     </td><td>                  </td><td>                 </td><td>                  </td><td>0.9780*** (0.0903)</td></tr>\n",
       "\t<tr><th scope=row>6</th><td>year2022                                     </td><td>                  </td><td>                 </td><td>                  </td><td>7.019*** (0.1133) </td></tr>\n",
       "\t<tr><th scope=row>7</th><td>year2020 x log(cases)                        </td><td>                  </td><td>                 </td><td>                  </td><td>-0.0193 (0.0117)  </td></tr>\n",
       "\t<tr><th scope=row>8</th><td>year2021 x log(cases)                        </td><td>                  </td><td>                 </td><td>                  </td><td>-0.0080 (0.0124)  </td></tr>\n",
       "\t<tr><th scope=row>9</th><td>year2022 x log(cases)                        </td><td>                  </td><td>                 </td><td>                  </td><td>0.0033 (0.0106)   </td></tr>\n",
       "\t<tr><th scope=row>10</th><td>year2020 x C8EV_International_travel_controls</td><td>                  </td><td>                 </td><td>                  </td><td>-0.0809* (0.0408) </td></tr>\n",
       "\t<tr><th scope=row>11</th><td>year2021 x C8EV_International_travel_controls</td><td>                  </td><td>                 </td><td>                  </td><td>-0.0359 (0.0301)  </td></tr>\n",
       "\t<tr><th scope=row>12</th><td>year2022 x C8EV_International_travel_controls</td><td>                  </td><td>                 </td><td>                  </td><td>-0.0537 (0.0600)  </td></tr>\n",
       "\t<tr><th scope=row>13</th><td>Fixed-Effects:                               </td><td>------------------</td><td>-----------------</td><td>------------------</td><td>------------------</td></tr>\n",
       "\t<tr><th scope=row>14</th><td>year                                         </td><td>Yes               </td><td>Yes              </td><td>Yes               </td><td>No                </td></tr>\n",
       "\t<tr><th scope=row>15</th><td>country                                      </td><td>No                </td><td>Yes              </td><td>Yes               </td><td>Yes               </td></tr>\n",
       "\t<tr><th scope=row>16</th><td>________________________________________     </td><td>__________________</td><td>_________________</td><td>__________________</td><td>__________________</td></tr>\n",
       "\t<tr><th scope=row>17</th><td>S.E.: Clustered                              </td><td>by: country       </td><td>by: country      </td><td>by: country       </td><td>by: country       </td></tr>\n",
       "\t<tr><th scope=row>18</th><td>Observations                                 </td><td>521               </td><td>521              </td><td>519               </td><td>521               </td></tr>\n",
       "\t<tr><th scope=row>19</th><td>R2                                           </td><td>0.19626           </td><td>0.99959          </td><td>0.99957           </td><td>0.99960           </td></tr>\n",
       "\t<tr><th scope=row>20</th><td>Within R2                                    </td><td>0.06440           </td><td>0.02160          </td><td>-0.02717          </td><td>0.99723           </td></tr>\n",
       "</tbody>\n",
       "</table>\n"
      ],
      "text/latex": [
       "A etable\\_df: 20 × 5\n",
       "\\begin{tabular}{r|lllll}\n",
       "  &  & export\\_m0 & export\\_m1 & export\\_m1\\_iv & export\\_m2\\\\\n",
       "  & <chr> & <chr> & <chr> & <chr> & <chr>\\\\\n",
       "\\hline\n",
       "\t1 & Dependent Var.:                               & value              & value             & value              & value             \\\\\n",
       "\t2 &                                               &                    &                   &                    &                   \\\\\n",
       "\t3 & log(cases)                                    & 0.8482*** (0.2185) & -0.0070 (0.0093)  & -0.0423. (0.0255)  &                   \\\\\n",
       "\t4 & C8EV\\_International\\_travel\\_controls            & -0.0502 (0.6467)   & -0.0625* (0.0275) & -0.0737** (0.0279) &                   \\\\\n",
       "\t5 & year2021                                      &                    &                   &                    & 0.9780*** (0.0903)\\\\\n",
       "\t6 & year2022                                      &                    &                   &                    & 7.019*** (0.1133) \\\\\n",
       "\t7 & year2020 x log(cases)                         &                    &                   &                    & -0.0193 (0.0117)  \\\\\n",
       "\t8 & year2021 x log(cases)                         &                    &                   &                    & -0.0080 (0.0124)  \\\\\n",
       "\t9 & year2022 x log(cases)                         &                    &                   &                    & 0.0033 (0.0106)   \\\\\n",
       "\t10 & year2020 x C8EV\\_International\\_travel\\_controls &                    &                   &                    & -0.0809* (0.0408) \\\\\n",
       "\t11 & year2021 x C8EV\\_International\\_travel\\_controls &                    &                   &                    & -0.0359 (0.0301)  \\\\\n",
       "\t12 & year2022 x C8EV\\_International\\_travel\\_controls &                    &                   &                    & -0.0537 (0.0600)  \\\\\n",
       "\t13 & Fixed-Effects:                                & ------------------ & ----------------- & ------------------ & ------------------\\\\\n",
       "\t14 & year                                          & Yes                & Yes               & Yes                & No                \\\\\n",
       "\t15 & country                                       & No                 & Yes               & Yes                & Yes               \\\\\n",
       "\t16 & \\_\\_\\_\\_\\_\\_\\_\\_\\_\\_\\_\\_\\_\\_\\_\\_\\_\\_\\_\\_\\_\\_\\_\\_\\_\\_\\_\\_\\_\\_\\_\\_\\_\\_\\_\\_\\_\\_\\_\\_      & \\_\\_\\_\\_\\_\\_\\_\\_\\_\\_\\_\\_\\_\\_\\_\\_\\_\\_ & \\_\\_\\_\\_\\_\\_\\_\\_\\_\\_\\_\\_\\_\\_\\_\\_\\_ & \\_\\_\\_\\_\\_\\_\\_\\_\\_\\_\\_\\_\\_\\_\\_\\_\\_\\_ & \\_\\_\\_\\_\\_\\_\\_\\_\\_\\_\\_\\_\\_\\_\\_\\_\\_\\_\\\\\n",
       "\t17 & S.E.: Clustered                               & by: country        & by: country       & by: country        & by: country       \\\\\n",
       "\t18 & Observations                                  & 521                & 521               & 519                & 521               \\\\\n",
       "\t19 & R2                                            & 0.19626            & 0.99959           & 0.99957            & 0.99960           \\\\\n",
       "\t20 & Within R2                                     & 0.06440            & 0.02160           & -0.02717           & 0.99723           \\\\\n",
       "\\end{tabular}\n"
      ],
      "text/markdown": [
       "\n",
       "A etable_df: 20 × 5\n",
       "\n",
       "| <!--/--> | <!----> &lt;chr&gt; | export_m0 &lt;chr&gt; | export_m1 &lt;chr&gt; | export_m1_iv &lt;chr&gt; | export_m2 &lt;chr&gt; |\n",
       "|---|---|---|---|---|---|\n",
       "| 1 | Dependent Var.:                               | value              | value             | value              | value              |\n",
       "| 2 | <!----> | <!----> | <!----> | <!----> | <!----> |\n",
       "| 3 | log(cases)                                    | 0.8482*** (0.2185) | -0.0070 (0.0093)  | -0.0423. (0.0255)  | <!----> |\n",
       "| 4 | C8EV_International_travel_controls            | -0.0502 (0.6467)   | -0.0625* (0.0275) | -0.0737** (0.0279) | <!----> |\n",
       "| 5 | year2021                                      | <!----> | <!----> | <!----> | 0.9780*** (0.0903) |\n",
       "| 6 | year2022                                      | <!----> | <!----> | <!----> | 7.019*** (0.1133)  |\n",
       "| 7 | year2020 x log(cases)                         | <!----> | <!----> | <!----> | -0.0193 (0.0117)   |\n",
       "| 8 | year2021 x log(cases)                         | <!----> | <!----> | <!----> | -0.0080 (0.0124)   |\n",
       "| 9 | year2022 x log(cases)                         | <!----> | <!----> | <!----> | 0.0033 (0.0106)    |\n",
       "| 10 | year2020 x C8EV_International_travel_controls | <!----> | <!----> | <!----> | -0.0809* (0.0408)  |\n",
       "| 11 | year2021 x C8EV_International_travel_controls | <!----> | <!----> | <!----> | -0.0359 (0.0301)   |\n",
       "| 12 | year2022 x C8EV_International_travel_controls | <!----> | <!----> | <!----> | -0.0537 (0.0600)   |\n",
       "| 13 | Fixed-Effects:                                | ------------------ | ----------------- | ------------------ | ------------------ |\n",
       "| 14 | year                                          | Yes                | Yes               | Yes                | No                 |\n",
       "| 15 | country                                       | No                 | Yes               | Yes                | Yes                |\n",
       "| 16 | ________________________________________      | __________________ | _________________ | __________________ | __________________ |\n",
       "| 17 | S.E.: Clustered                               | by: country        | by: country       | by: country        | by: country        |\n",
       "| 18 | Observations                                  | 521                | 521               | 519                | 521                |\n",
       "| 19 | R2                                            | 0.19626            | 0.99959           | 0.99957            | 0.99960            |\n",
       "| 20 | Within R2                                     | 0.06440            | 0.02160           | -0.02717           | 0.99723            |\n",
       "\n"
      ],
      "text/plain": [
       "                                                 export_m0         \n",
       "1  Dependent Var.:                               value             \n",
       "2                                                                  \n",
       "3  log(cases)                                    0.8482*** (0.2185)\n",
       "4  C8EV_International_travel_controls            -0.0502 (0.6467)  \n",
       "5  year2021                                                        \n",
       "6  year2022                                                        \n",
       "7  year2020 x log(cases)                                           \n",
       "8  year2021 x log(cases)                                           \n",
       "9  year2022 x log(cases)                                           \n",
       "10 year2020 x C8EV_International_travel_controls                   \n",
       "11 year2021 x C8EV_International_travel_controls                   \n",
       "12 year2022 x C8EV_International_travel_controls                   \n",
       "13 Fixed-Effects:                                ------------------\n",
       "14 year                                          Yes               \n",
       "15 country                                       No                \n",
       "16 ________________________________________      __________________\n",
       "17 S.E.: Clustered                               by: country       \n",
       "18 Observations                                  521               \n",
       "19 R2                                            0.19626           \n",
       "20 Within R2                                     0.06440           \n",
       "   export_m1         export_m1_iv       export_m2         \n",
       "1  value             value              value             \n",
       "2                                                         \n",
       "3  -0.0070 (0.0093)  -0.0423. (0.0255)                    \n",
       "4  -0.0625* (0.0275) -0.0737** (0.0279)                   \n",
       "5                                       0.9780*** (0.0903)\n",
       "6                                       7.019*** (0.1133) \n",
       "7                                       -0.0193 (0.0117)  \n",
       "8                                       -0.0080 (0.0124)  \n",
       "9                                       0.0033 (0.0106)   \n",
       "10                                      -0.0809* (0.0408) \n",
       "11                                      -0.0359 (0.0301)  \n",
       "12                                      -0.0537 (0.0600)  \n",
       "13 ----------------- ------------------ ------------------\n",
       "14 Yes               Yes                No                \n",
       "15 Yes               Yes                Yes               \n",
       "16 _________________ __________________ __________________\n",
       "17 by: country       by: country        by: country       \n",
       "18 521               519                521               \n",
       "19 0.99959           0.99957            0.99960           \n",
       "20 0.02160           -0.02717           0.99723           "
      ]
     },
     "metadata": {},
     "output_type": "display_data"
    }
   ],
   "source": [
    "# Здесь это точно не осмысленно использовать кластеризацию по годам.\n",
    "# С кластеризацией по странам есть значимость только у ограничений на поездки. \n",
    "# На инструменты пока смотреть не стоит, потому что они слабые.\n",
    "etable(export_m0, export_m1, export_m1_iv, export_m2, vcov = ~country)"
   ]
  },
  {
   "cell_type": "code",
   "execution_count": 12,
   "metadata": {
    "vscode": {
     "languageId": "r"
    }
   },
   "outputs": [
    {
     "data": {
      "text/html": [
       "<table class=\"dataframe\">\n",
       "<caption>A etable_df: 20 × 5</caption>\n",
       "<thead>\n",
       "\t<tr><th></th><th scope=col></th><th scope=col>export_m0</th><th scope=col>export_m1</th><th scope=col>export_m1_iv</th><th scope=col>export_m2</th></tr>\n",
       "\t<tr><th></th><th scope=col>&lt;chr&gt;</th><th scope=col>&lt;chr&gt;</th><th scope=col>&lt;chr&gt;</th><th scope=col>&lt;chr&gt;</th><th scope=col>&lt;chr&gt;</th></tr>\n",
       "</thead>\n",
       "<tbody>\n",
       "\t<tr><th scope=row>1</th><td>Dependent Var.:                              </td><td>value           </td><td>value           </td><td>value           </td><td>value            </td></tr>\n",
       "\t<tr><th scope=row>2</th><td>                                             </td><td>                </td><td>                </td><td>                </td><td>                 </td></tr>\n",
       "\t<tr><th scope=row>3</th><td>log(cases)                                   </td><td>0.8482. (0.2121)</td><td>-0.0070 (0.0093)</td><td>-0.0423 (0.0266)</td><td>                 </td></tr>\n",
       "\t<tr><th scope=row>4</th><td>C8EV_International_travel_controls           </td><td>-0.0502 (0.7213)</td><td>-0.0625 (0.0302)</td><td>-0.0737 (0.0301)</td><td>                 </td></tr>\n",
       "\t<tr><th scope=row>5</th><td>year2021                                     </td><td>                </td><td>                </td><td>                </td><td>0.9780** (0.0953)</td></tr>\n",
       "\t<tr><th scope=row>6</th><td>year2022                                     </td><td>                </td><td>                </td><td>                </td><td>7.019*** (0.1076)</td></tr>\n",
       "\t<tr><th scope=row>7</th><td>year2020 x log(cases)                        </td><td>                </td><td>                </td><td>                </td><td>-0.0193 (0.0113) </td></tr>\n",
       "\t<tr><th scope=row>8</th><td>year2021 x log(cases)                        </td><td>                </td><td>                </td><td>                </td><td>-0.0080 (0.0138) </td></tr>\n",
       "\t<tr><th scope=row>9</th><td>year2022 x log(cases)                        </td><td>                </td><td>                </td><td>                </td><td>0.0033 (0.0106)  </td></tr>\n",
       "\t<tr><th scope=row>10</th><td>year2020 x C8EV_International_travel_controls</td><td>                </td><td>                </td><td>                </td><td>-0.0809 (0.0407) </td></tr>\n",
       "\t<tr><th scope=row>11</th><td>year2021 x C8EV_International_travel_controls</td><td>                </td><td>                </td><td>                </td><td>-0.0359 (0.0354) </td></tr>\n",
       "\t<tr><th scope=row>12</th><td>year2022 x C8EV_International_travel_controls</td><td>                </td><td>                </td><td>                </td><td>-0.0537 (0.0597) </td></tr>\n",
       "\t<tr><th scope=row>13</th><td>Fixed-Effects:                               </td><td>----------------</td><td>----------------</td><td>----------------</td><td>-----------------</td></tr>\n",
       "\t<tr><th scope=row>14</th><td>year                                         </td><td>Yes             </td><td>Yes             </td><td>Yes             </td><td>No               </td></tr>\n",
       "\t<tr><th scope=row>15</th><td>country                                      </td><td>No              </td><td>Yes             </td><td>Yes             </td><td>Yes              </td></tr>\n",
       "\t<tr><th scope=row>16</th><td>________________________________________     </td><td>________________</td><td>________________</td><td>________________</td><td>_________________</td></tr>\n",
       "\t<tr><th scope=row>17</th><td>S.E. type                                    </td><td>Newey-West (L=1)</td><td>Newey-West (L=1)</td><td>Newey-West (L=1)</td><td>Newey-West (L=1) </td></tr>\n",
       "\t<tr><th scope=row>18</th><td>Observations                                 </td><td>521             </td><td>521             </td><td>519             </td><td>521              </td></tr>\n",
       "\t<tr><th scope=row>19</th><td>R2                                           </td><td>0.19626         </td><td>0.99959         </td><td>0.99957         </td><td>0.99960          </td></tr>\n",
       "\t<tr><th scope=row>20</th><td>Within R2                                    </td><td>0.06440         </td><td>0.02160         </td><td>-0.02717        </td><td>0.99723          </td></tr>\n",
       "</tbody>\n",
       "</table>\n"
      ],
      "text/latex": [
       "A etable\\_df: 20 × 5\n",
       "\\begin{tabular}{r|lllll}\n",
       "  &  & export\\_m0 & export\\_m1 & export\\_m1\\_iv & export\\_m2\\\\\n",
       "  & <chr> & <chr> & <chr> & <chr> & <chr>\\\\\n",
       "\\hline\n",
       "\t1 & Dependent Var.:                               & value            & value            & value            & value            \\\\\n",
       "\t2 &                                               &                  &                  &                  &                  \\\\\n",
       "\t3 & log(cases)                                    & 0.8482. (0.2121) & -0.0070 (0.0093) & -0.0423 (0.0266) &                  \\\\\n",
       "\t4 & C8EV\\_International\\_travel\\_controls            & -0.0502 (0.7213) & -0.0625 (0.0302) & -0.0737 (0.0301) &                  \\\\\n",
       "\t5 & year2021                                      &                  &                  &                  & 0.9780** (0.0953)\\\\\n",
       "\t6 & year2022                                      &                  &                  &                  & 7.019*** (0.1076)\\\\\n",
       "\t7 & year2020 x log(cases)                         &                  &                  &                  & -0.0193 (0.0113) \\\\\n",
       "\t8 & year2021 x log(cases)                         &                  &                  &                  & -0.0080 (0.0138) \\\\\n",
       "\t9 & year2022 x log(cases)                         &                  &                  &                  & 0.0033 (0.0106)  \\\\\n",
       "\t10 & year2020 x C8EV\\_International\\_travel\\_controls &                  &                  &                  & -0.0809 (0.0407) \\\\\n",
       "\t11 & year2021 x C8EV\\_International\\_travel\\_controls &                  &                  &                  & -0.0359 (0.0354) \\\\\n",
       "\t12 & year2022 x C8EV\\_International\\_travel\\_controls &                  &                  &                  & -0.0537 (0.0597) \\\\\n",
       "\t13 & Fixed-Effects:                                & ---------------- & ---------------- & ---------------- & -----------------\\\\\n",
       "\t14 & year                                          & Yes              & Yes              & Yes              & No               \\\\\n",
       "\t15 & country                                       & No               & Yes              & Yes              & Yes              \\\\\n",
       "\t16 & \\_\\_\\_\\_\\_\\_\\_\\_\\_\\_\\_\\_\\_\\_\\_\\_\\_\\_\\_\\_\\_\\_\\_\\_\\_\\_\\_\\_\\_\\_\\_\\_\\_\\_\\_\\_\\_\\_\\_\\_      & \\_\\_\\_\\_\\_\\_\\_\\_\\_\\_\\_\\_\\_\\_\\_\\_ & \\_\\_\\_\\_\\_\\_\\_\\_\\_\\_\\_\\_\\_\\_\\_\\_ & \\_\\_\\_\\_\\_\\_\\_\\_\\_\\_\\_\\_\\_\\_\\_\\_ & \\_\\_\\_\\_\\_\\_\\_\\_\\_\\_\\_\\_\\_\\_\\_\\_\\_\\\\\n",
       "\t17 & S.E. type                                     & Newey-West (L=1) & Newey-West (L=1) & Newey-West (L=1) & Newey-West (L=1) \\\\\n",
       "\t18 & Observations                                  & 521              & 521              & 519              & 521              \\\\\n",
       "\t19 & R2                                            & 0.19626          & 0.99959          & 0.99957          & 0.99960          \\\\\n",
       "\t20 & Within R2                                     & 0.06440          & 0.02160          & -0.02717         & 0.99723          \\\\\n",
       "\\end{tabular}\n"
      ],
      "text/markdown": [
       "\n",
       "A etable_df: 20 × 5\n",
       "\n",
       "| <!--/--> | <!----> &lt;chr&gt; | export_m0 &lt;chr&gt; | export_m1 &lt;chr&gt; | export_m1_iv &lt;chr&gt; | export_m2 &lt;chr&gt; |\n",
       "|---|---|---|---|---|---|\n",
       "| 1 | Dependent Var.:                               | value            | value            | value            | value             |\n",
       "| 2 | <!----> | <!----> | <!----> | <!----> | <!----> |\n",
       "| 3 | log(cases)                                    | 0.8482. (0.2121) | -0.0070 (0.0093) | -0.0423 (0.0266) | <!----> |\n",
       "| 4 | C8EV_International_travel_controls            | -0.0502 (0.7213) | -0.0625 (0.0302) | -0.0737 (0.0301) | <!----> |\n",
       "| 5 | year2021                                      | <!----> | <!----> | <!----> | 0.9780** (0.0953) |\n",
       "| 6 | year2022                                      | <!----> | <!----> | <!----> | 7.019*** (0.1076) |\n",
       "| 7 | year2020 x log(cases)                         | <!----> | <!----> | <!----> | -0.0193 (0.0113)  |\n",
       "| 8 | year2021 x log(cases)                         | <!----> | <!----> | <!----> | -0.0080 (0.0138)  |\n",
       "| 9 | year2022 x log(cases)                         | <!----> | <!----> | <!----> | 0.0033 (0.0106)   |\n",
       "| 10 | year2020 x C8EV_International_travel_controls | <!----> | <!----> | <!----> | -0.0809 (0.0407)  |\n",
       "| 11 | year2021 x C8EV_International_travel_controls | <!----> | <!----> | <!----> | -0.0359 (0.0354)  |\n",
       "| 12 | year2022 x C8EV_International_travel_controls | <!----> | <!----> | <!----> | -0.0537 (0.0597)  |\n",
       "| 13 | Fixed-Effects:                                | ---------------- | ---------------- | ---------------- | ----------------- |\n",
       "| 14 | year                                          | Yes              | Yes              | Yes              | No                |\n",
       "| 15 | country                                       | No               | Yes              | Yes              | Yes               |\n",
       "| 16 | ________________________________________      | ________________ | ________________ | ________________ | _________________ |\n",
       "| 17 | S.E. type                                     | Newey-West (L=1) | Newey-West (L=1) | Newey-West (L=1) | Newey-West (L=1)  |\n",
       "| 18 | Observations                                  | 521              | 521              | 519              | 521               |\n",
       "| 19 | R2                                            | 0.19626          | 0.99959          | 0.99957          | 0.99960           |\n",
       "| 20 | Within R2                                     | 0.06440          | 0.02160          | -0.02717         | 0.99723           |\n",
       "\n"
      ],
      "text/plain": [
       "                                                 export_m0       \n",
       "1  Dependent Var.:                               value           \n",
       "2                                                                \n",
       "3  log(cases)                                    0.8482. (0.2121)\n",
       "4  C8EV_International_travel_controls            -0.0502 (0.7213)\n",
       "5  year2021                                                      \n",
       "6  year2022                                                      \n",
       "7  year2020 x log(cases)                                         \n",
       "8  year2021 x log(cases)                                         \n",
       "9  year2022 x log(cases)                                         \n",
       "10 year2020 x C8EV_International_travel_controls                 \n",
       "11 year2021 x C8EV_International_travel_controls                 \n",
       "12 year2022 x C8EV_International_travel_controls                 \n",
       "13 Fixed-Effects:                                ----------------\n",
       "14 year                                          Yes             \n",
       "15 country                                       No              \n",
       "16 ________________________________________      ________________\n",
       "17 S.E. type                                     Newey-West (L=1)\n",
       "18 Observations                                  521             \n",
       "19 R2                                            0.19626         \n",
       "20 Within R2                                     0.06440         \n",
       "   export_m1        export_m1_iv     export_m2        \n",
       "1  value            value            value            \n",
       "2                                                     \n",
       "3  -0.0070 (0.0093) -0.0423 (0.0266)                  \n",
       "4  -0.0625 (0.0302) -0.0737 (0.0301)                  \n",
       "5                                    0.9780** (0.0953)\n",
       "6                                    7.019*** (0.1076)\n",
       "7                                    -0.0193 (0.0113) \n",
       "8                                    -0.0080 (0.0138) \n",
       "9                                    0.0033 (0.0106)  \n",
       "10                                   -0.0809 (0.0407) \n",
       "11                                   -0.0359 (0.0354) \n",
       "12                                   -0.0537 (0.0597) \n",
       "13 ---------------- ---------------- -----------------\n",
       "14 Yes              Yes              No               \n",
       "15 Yes              Yes              Yes              \n",
       "16 ________________ ________________ _________________\n",
       "17 Newey-West (L=1) Newey-West (L=1) Newey-West (L=1) \n",
       "18 521              519              521              \n",
       "19 0.99959          0.99957          0.99960          \n",
       "20 0.02160          -0.02717         0.99723          "
      ]
     },
     "metadata": {},
     "output_type": "display_data"
    }
   ],
   "source": [
    "# С НАС ничего не значимо\n",
    "etable(export_m0, export_m1, export_m1_iv, export_m2, vcov = vcov_NW(unit = 'country', time = 'year'))"
   ]
  },
  {
   "cell_type": "code",
   "execution_count": 13,
   "metadata": {
    "vscode": {
     "languageId": "r"
    }
   },
   "outputs": [
    {
     "name": "stderr",
     "output_type": "stream",
     "text": [
      "NOTE: 126 observations removed because of NA values (RHS: 126).\n",
      "\n"
     ]
    },
    {
     "data": {
      "text/plain": [
       "OLS estimation, Dep. Var.: value\n",
       "Observations: 534\n",
       "Fixed-effects: country: 178,  year: 3\n",
       "Standard-errors: Newey-West (L=1) \n",
       "                         Estimate Std. Error  t value Pr(>|t|) \n",
       "StringencyIndex_Average -0.003248   0.001156 -2.80962  0.10677 \n",
       "---\n",
       "Signif. codes:  0 '***' 0.001 '**' 0.01 '*' 0.05 '.' 0.1 ' ' 1\n",
       "RMSE: 0.16986     Adj. R2: 0.999378\n",
       "                Within R2: 0.020902"
      ]
     },
     "metadata": {},
     "output_type": "display_data"
    },
    {
     "data": {
      "text/plain": [
       "OLS estimation, Dep. Var.: value\n",
       "Observations: 534\n",
       "Fixed-effects: country: 178,  year: 3\n",
       "Standard-errors: Clustered (country) \n",
       "                         Estimate Std. Error  t value  Pr(>|t|)    \n",
       "StringencyIndex_Average -0.003248   0.001159 -2.80255 0.0056352 ** \n",
       "---\n",
       "Signif. codes:  0 '***' 0.001 '**' 0.01 '*' 0.05 '.' 0.1 ' ' 1\n",
       "RMSE: 0.16986     Adj. R2: 0.999378\n",
       "                Within R2: 0.020902"
      ]
     },
     "metadata": {},
     "output_type": "display_data"
    }
   ],
   "source": [
    "# Реплицирую (Berthou, 2024), но результат не сходится, если использовать ошибки НАС\n",
    "m = feols(value ~ StringencyIndex_Average | country + year,\n",
    " data = df)\n",
    "m %>% summary(vcov = vcov_NW(unit = 'country', time = 'year'))\n",
    "m %>% summary(vcov = ~country)"
   ]
  },
  {
   "cell_type": "markdown",
   "metadata": {},
   "source": [
    "### Импорт"
   ]
  },
  {
   "cell_type": "code",
   "execution_count": 14,
   "metadata": {
    "vscode": {
     "languageId": "r"
    }
   },
   "outputs": [
    {
     "data": {
      "text/html": [
       "<table class=\"dataframe\">\n",
       "<caption>A tibble: 6 × 63</caption>\n",
       "<thead>\n",
       "\t<tr><th scope=col>year</th><th scope=col>country</th><th scope=col>value</th><th scope=col>country:r</th><th scope=col>t</th><th scope=col>cases</th><th scope=col>deaths</th><th scope=col>tests</th><th scope=col>C1M_School_closing</th><th scope=col>C2M_Workplace_closing</th><th scope=col>⋯</th><th scope=col>infant_mortality</th><th scope=col>largest_city_share</th><th scope=col>urbanization</th><th scope=col>country:household_size</th><th scope=col>avg_hh_size</th><th scope=col>share_1_members</th><th scope=col>share_2_3_members</th><th scope=col>share_4_5_members</th><th scope=col>year:r</th><th scope=col>SARS_flg</th></tr>\n",
       "\t<tr><th scope=col>&lt;chr&gt;</th><th scope=col>&lt;chr&gt;</th><th scope=col>&lt;dbl&gt;</th><th scope=col>&lt;chr&gt;</th><th scope=col>&lt;int&gt;</th><th scope=col>&lt;dbl&gt;</th><th scope=col>&lt;dbl&gt;</th><th scope=col>&lt;chr&gt;</th><th scope=col>&lt;dbl&gt;</th><th scope=col>&lt;dbl&gt;</th><th scope=col>⋯</th><th scope=col>&lt;dbl&gt;</th><th scope=col>&lt;dbl&gt;</th><th scope=col>&lt;dbl&gt;</th><th scope=col>&lt;chr&gt;</th><th scope=col>&lt;dbl&gt;</th><th scope=col>&lt;dbl&gt;</th><th scope=col>&lt;dbl&gt;</th><th scope=col>&lt;dbl&gt;</th><th scope=col>&lt;chr&gt;</th><th scope=col>&lt;int&gt;</th></tr>\n",
       "</thead>\n",
       "<tbody>\n",
       "\t<tr><td>2020</td><td>SLV</td><td>  5.593365</td><td>SLV</td><td>2020</td><td> 19.6259116</td><td>0.57060773</td><td>NA</td><td>2.426229</td><td>1.4344262</td><td>⋯</td><td>11.0</td><td>24.14867</td><td>17.73575</td><td>SLV</td><td>3.92</td><td> 8.46</td><td>36.01</td><td>37.84</td><td>2020</td><td>0</td></tr>\n",
       "\t<tr><td>2022</td><td>ASM</td><td> 11.366298</td><td>ASM</td><td>2022</td><td>467.6200274</td><td>1.92600000</td><td>NA</td><td>      NA</td><td>       NA</td><td>⋯</td><td>  NA</td><td>      NA</td><td>      NA</td><td>NA </td><td>  NA</td><td>   NA</td><td>   NA</td><td>   NA</td><td>2022</td><td>0</td></tr>\n",
       "\t<tr><td>2020</td><td>BOL</td><td> -4.466964</td><td>BOL</td><td>2020</td><td> 35.1308840</td><td>2.07754144</td><td>NA</td><td>2.418033</td><td>1.8306011</td><td>⋯</td><td>21.0</td><td>22.42107</td><td>41.25143</td><td>BOL</td><td>3.53</td><td>20.34</td><td>34.82</td><td>27.64</td><td>2020</td><td>0</td></tr>\n",
       "\t<tr><td>2020</td><td>SLE</td><td> -1.079447</td><td>SLE</td><td>2020</td><td>  0.8507182</td><td>0.02530387</td><td>NA</td><td>1.606557</td><td>0.2349727</td><td>⋯</td><td>80.3</td><td>35.38844</td><td>15.18978</td><td>SLE</td><td>5.29</td><td> 6.42</td><td>20.52</td><td>33.28</td><td>2020</td><td>0</td></tr>\n",
       "\t<tr><td>2020</td><td>LKA</td><td> 11.645198</td><td>LKA</td><td>2020</td><td>  4.9664917</td><td>0.02309392</td><td>NA</td><td>1.931694</td><td>0.5546448</td><td>⋯</td><td> 6.0</td><td>14.93368</td><td>      NA</td><td>NA </td><td>  NA</td><td>   NA</td><td>   NA</td><td>   NA</td><td>2020</td><td>0</td></tr>\n",
       "\t<tr><td>2022</td><td>ATG</td><td>-10.549667</td><td>ATG</td><td>2022</td><td>143.9042740</td><td>0.82619178</td><td>NA</td><td>      NA</td><td>       NA</td><td>⋯</td><td> 8.1</td><td>      NA</td><td>      NA</td><td>NA </td><td>  NA</td><td>   NA</td><td>   NA</td><td>   NA</td><td>2022</td><td>0</td></tr>\n",
       "</tbody>\n",
       "</table>\n"
      ],
      "text/latex": [
       "A tibble: 6 × 63\n",
       "\\begin{tabular}{lllllllllllllllllllll}\n",
       " year & country & value & country:r & t & cases & deaths & tests & C1M\\_School\\_closing & C2M\\_Workplace\\_closing & ⋯ & infant\\_mortality & largest\\_city\\_share & urbanization & country:household\\_size & avg\\_hh\\_size & share\\_1\\_members & share\\_2\\_3\\_members & share\\_4\\_5\\_members & year:r & SARS\\_flg\\\\\n",
       " <chr> & <chr> & <dbl> & <chr> & <int> & <dbl> & <dbl> & <chr> & <dbl> & <dbl> & ⋯ & <dbl> & <dbl> & <dbl> & <chr> & <dbl> & <dbl> & <dbl> & <dbl> & <chr> & <int>\\\\\n",
       "\\hline\n",
       "\t 2020 & SLV &   5.593365 & SLV & 2020 &  19.6259116 & 0.57060773 & NA & 2.426229 & 1.4344262 & ⋯ & 11.0 & 24.14867 & 17.73575 & SLV & 3.92 &  8.46 & 36.01 & 37.84 & 2020 & 0\\\\\n",
       "\t 2022 & ASM &  11.366298 & ASM & 2022 & 467.6200274 & 1.92600000 & NA &       NA &        NA & ⋯ &   NA &       NA &       NA & NA  &   NA &    NA &    NA &    NA & 2022 & 0\\\\\n",
       "\t 2020 & BOL &  -4.466964 & BOL & 2020 &  35.1308840 & 2.07754144 & NA & 2.418033 & 1.8306011 & ⋯ & 21.0 & 22.42107 & 41.25143 & BOL & 3.53 & 20.34 & 34.82 & 27.64 & 2020 & 0\\\\\n",
       "\t 2020 & SLE &  -1.079447 & SLE & 2020 &   0.8507182 & 0.02530387 & NA & 1.606557 & 0.2349727 & ⋯ & 80.3 & 35.38844 & 15.18978 & SLE & 5.29 &  6.42 & 20.52 & 33.28 & 2020 & 0\\\\\n",
       "\t 2020 & LKA &  11.645198 & LKA & 2020 &   4.9664917 & 0.02309392 & NA & 1.931694 & 0.5546448 & ⋯ &  6.0 & 14.93368 &       NA & NA  &   NA &    NA &    NA &    NA & 2020 & 0\\\\\n",
       "\t 2022 & ATG & -10.549667 & ATG & 2022 & 143.9042740 & 0.82619178 & NA &       NA &        NA & ⋯ &  8.1 &       NA &       NA & NA  &   NA &    NA &    NA &    NA & 2022 & 0\\\\\n",
       "\\end{tabular}\n"
      ],
      "text/markdown": [
       "\n",
       "A tibble: 6 × 63\n",
       "\n",
       "| year &lt;chr&gt; | country &lt;chr&gt; | value &lt;dbl&gt; | country:r &lt;chr&gt; | t &lt;int&gt; | cases &lt;dbl&gt; | deaths &lt;dbl&gt; | tests &lt;chr&gt; | C1M_School_closing &lt;dbl&gt; | C2M_Workplace_closing &lt;dbl&gt; | ⋯ ⋯ | infant_mortality &lt;dbl&gt; | largest_city_share &lt;dbl&gt; | urbanization &lt;dbl&gt; | country:household_size &lt;chr&gt; | avg_hh_size &lt;dbl&gt; | share_1_members &lt;dbl&gt; | share_2_3_members &lt;dbl&gt; | share_4_5_members &lt;dbl&gt; | year:r &lt;chr&gt; | SARS_flg &lt;int&gt; |\n",
       "|---|---|---|---|---|---|---|---|---|---|---|---|---|---|---|---|---|---|---|---|---|\n",
       "| 2020 | SLV |   5.593365 | SLV | 2020 |  19.6259116 | 0.57060773 | NA | 2.426229 | 1.4344262 | ⋯ | 11.0 | 24.14867 | 17.73575 | SLV | 3.92 |  8.46 | 36.01 | 37.84 | 2020 | 0 |\n",
       "| 2022 | ASM |  11.366298 | ASM | 2022 | 467.6200274 | 1.92600000 | NA |       NA |        NA | ⋯ |   NA |       NA |       NA | NA  |   NA |    NA |    NA |    NA | 2022 | 0 |\n",
       "| 2020 | BOL |  -4.466964 | BOL | 2020 |  35.1308840 | 2.07754144 | NA | 2.418033 | 1.8306011 | ⋯ | 21.0 | 22.42107 | 41.25143 | BOL | 3.53 | 20.34 | 34.82 | 27.64 | 2020 | 0 |\n",
       "| 2020 | SLE |  -1.079447 | SLE | 2020 |   0.8507182 | 0.02530387 | NA | 1.606557 | 0.2349727 | ⋯ | 80.3 | 35.38844 | 15.18978 | SLE | 5.29 |  6.42 | 20.52 | 33.28 | 2020 | 0 |\n",
       "| 2020 | LKA |  11.645198 | LKA | 2020 |   4.9664917 | 0.02309392 | NA | 1.931694 | 0.5546448 | ⋯ |  6.0 | 14.93368 |       NA | NA  |   NA |    NA |    NA |    NA | 2020 | 0 |\n",
       "| 2022 | ATG | -10.549667 | ATG | 2022 | 143.9042740 | 0.82619178 | NA |       NA |        NA | ⋯ |  8.1 |       NA |       NA | NA  |   NA |    NA |    NA |    NA | 2022 | 0 |\n",
       "\n"
      ],
      "text/plain": [
       "  year country value      country:r t    cases       deaths     tests\n",
       "1 2020 SLV       5.593365 SLV       2020  19.6259116 0.57060773 NA   \n",
       "2 2022 ASM      11.366298 ASM       2022 467.6200274 1.92600000 NA   \n",
       "3 2020 BOL      -4.466964 BOL       2020  35.1308840 2.07754144 NA   \n",
       "4 2020 SLE      -1.079447 SLE       2020   0.8507182 0.02530387 NA   \n",
       "5 2020 LKA      11.645198 LKA       2020   4.9664917 0.02309392 NA   \n",
       "6 2022 ATG     -10.549667 ATG       2022 143.9042740 0.82619178 NA   \n",
       "  C1M_School_closing C2M_Workplace_closing ⋯ infant_mortality\n",
       "1 2.426229           1.4344262             ⋯ 11.0            \n",
       "2       NA                  NA             ⋯   NA            \n",
       "3 2.418033           1.8306011             ⋯ 21.0            \n",
       "4 1.606557           0.2349727             ⋯ 80.3            \n",
       "5 1.931694           0.5546448             ⋯  6.0            \n",
       "6       NA                  NA             ⋯  8.1            \n",
       "  largest_city_share urbanization country:household_size avg_hh_size\n",
       "1 24.14867           17.73575     SLV                    3.92       \n",
       "2       NA                 NA     NA                       NA       \n",
       "3 22.42107           41.25143     BOL                    3.53       \n",
       "4 35.38844           15.18978     SLE                    5.29       \n",
       "5 14.93368                 NA     NA                       NA       \n",
       "6       NA                 NA     NA                       NA       \n",
       "  share_1_members share_2_3_members share_4_5_members year:r SARS_flg\n",
       "1  8.46           36.01             37.84             2020   0       \n",
       "2    NA              NA                NA             2022   0       \n",
       "3 20.34           34.82             27.64             2020   0       \n",
       "4  6.42           20.52             33.28             2020   0       \n",
       "5    NA              NA                NA             2020   0       \n",
       "6    NA              NA                NA             2022   0       "
      ]
     },
     "metadata": {},
     "output_type": "display_data"
    }
   ],
   "source": [
    "# Скачиваю данные и переназываю переменные\n",
    "df = read_parquet('../../data/processed_data/trade_hs0_import_fe_x_covid.parquet.gzip')\n",
    "df = df %>% mutate(year = as.character(year), SARS_flg = as.integer(!is.na(SARS_total_cases)))\n",
    "df %>% head()"
   ]
  },
  {
   "cell_type": "code",
   "execution_count": 15,
   "metadata": {
    "vscode": {
     "languageId": "r"
    }
   },
   "outputs": [
    {
     "name": "stderr",
     "output_type": "stream",
     "text": [
      "NOTE: 126 observations removed because of NA values (RHS: 126).\n",
      "\n"
     ]
    },
    {
     "data": {
      "text/plain": [
       "OLS estimation, Dep. Var.: value\n",
       "Observations: 534\n",
       "Fixed-effects: country: 178,  year: 3\n",
       "Standard-errors: Newey-West (L=1) \n",
       "                         Estimate Std. Error  t value Pr(>|t|) \n",
       "StringencyIndex_Average -0.002699   0.001079 -2.50267  0.12939 \n",
       "---\n",
       "Signif. codes:  0 '***' 0.001 '**' 0.01 '*' 0.05 '.' 0.1 ' ' 1\n",
       "RMSE: 0.141099     Adj. R2: 0.999541\n",
       "                 Within R2: 0.020914"
      ]
     },
     "metadata": {},
     "output_type": "display_data"
    },
    {
     "data": {
      "text/plain": [
       "OLS estimation, Dep. Var.: value\n",
       "Observations: 534\n",
       "Fixed-effects: country: 178,  year: 3\n",
       "Standard-errors: Clustered (country) \n",
       "                         Estimate Std. Error  t value Pr(>|t|)    \n",
       "StringencyIndex_Average -0.002699   0.001101 -2.45075 0.015228 *  \n",
       "---\n",
       "Signif. codes:  0 '***' 0.001 '**' 0.01 '*' 0.05 '.' 0.1 ' ' 1\n",
       "RMSE: 0.141099     Adj. R2: 0.999541\n",
       "                 Within R2: 0.020914"
      ]
     },
     "metadata": {},
     "output_type": "display_data"
    }
   ],
   "source": [
    "# Реплицирую (Berthou, 2024), но результат совсем не сходится...\n",
    "m = feols(value ~ StringencyIndex_Average | country + year,\n",
    " data = df)\n",
    "m %>% summary(vcov = vcov_NW(unit = 'country', time = 'year'))\n",
    "m %>% summary(vcov = ~country)"
   ]
  },
  {
   "cell_type": "markdown",
   "metadata": {},
   "source": [
    "### Обосновываю включение фиксированных эффектов"
   ]
  },
  {
   "cell_type": "code",
   "execution_count": 16,
   "metadata": {
    "vscode": {
     "languageId": "r"
    }
   },
   "outputs": [
    {
     "name": "stderr",
     "output_type": "stream",
     "text": [
      "NOTE: 6 observations removed because of NA values (Breakup: X: 6, f: 0).\n",
      "\n"
     ]
    },
    {
     "data": {
      "text/html": [
       "<table class=\"dataframe\">\n",
       "<caption>A tibble: 6 × 2</caption>\n",
       "<thead>\n",
       "\t<tr><th scope=col>cases</th><th scope=col>value</th></tr>\n",
       "\t<tr><th scope=col>&lt;dbl&gt;</th><th scope=col>&lt;dbl&gt;</th></tr>\n",
       "</thead>\n",
       "<tbody>\n",
       "\t<tr><td> 114.00370</td><td>-0.17822285</td></tr>\n",
       "\t<tr><td> 153.51594</td><td>-0.21494329</td></tr>\n",
       "\t<tr><td>  72.09498</td><td>-0.05014374</td></tr>\n",
       "\t<tr><td> 123.76607</td><td> 0.10634113</td></tr>\n",
       "\t<tr><td> 101.85724</td><td> 0.21114565</td></tr>\n",
       "\t<tr><td>-103.69409</td><td> 0.14120842</td></tr>\n",
       "</tbody>\n",
       "</table>\n"
      ],
      "text/latex": [
       "A tibble: 6 × 2\n",
       "\\begin{tabular}{ll}\n",
       " cases & value\\\\\n",
       " <dbl> & <dbl>\\\\\n",
       "\\hline\n",
       "\t  114.00370 & -0.17822285\\\\\n",
       "\t  153.51594 & -0.21494329\\\\\n",
       "\t   72.09498 & -0.05014374\\\\\n",
       "\t  123.76607 &  0.10634113\\\\\n",
       "\t  101.85724 &  0.21114565\\\\\n",
       "\t -103.69409 &  0.14120842\\\\\n",
       "\\end{tabular}\n"
      ],
      "text/markdown": [
       "\n",
       "A tibble: 6 × 2\n",
       "\n",
       "| cases &lt;dbl&gt; | value &lt;dbl&gt; |\n",
       "|---|---|\n",
       "|  114.00370 | -0.17822285 |\n",
       "|  153.51594 | -0.21494329 |\n",
       "|   72.09498 | -0.05014374 |\n",
       "|  123.76607 |  0.10634113 |\n",
       "|  101.85724 |  0.21114565 |\n",
       "| -103.69409 |  0.14120842 |\n",
       "\n"
      ],
      "text/plain": [
       "  cases      value      \n",
       "1  114.00370 -0.17822285\n",
       "2  153.51594 -0.21494329\n",
       "3   72.09498 -0.05014374\n",
       "4  123.76607  0.10634113\n",
       "5  101.85724  0.21114565\n",
       "6 -103.69409  0.14120842"
      ]
     },
     "metadata": {},
     "output_type": "display_data"
    }
   ],
   "source": [
    "fixest::demean(df[, c('cases', 'value')], df[, c('country', 'year')]) %>% head()"
   ]
  },
  {
   "cell_type": "code",
   "execution_count": 17,
   "metadata": {
    "vscode": {
     "languageId": "r"
    }
   },
   "outputs": [
    {
     "name": "stderr",
     "output_type": "stream",
     "text": [
      "Warning message:\n",
      "\"\u001b[1m\u001b[22mRemoved 6 rows containing missing values or values outside the scale range\n",
      "(`geom_point()`).\"\n"
     ]
    },
    {
     "data": {
      "image/png": "[encoded data removed]",
      "text/plain": [
       "plot without title"
      ]
     },
     "metadata": {
      "image/png": {
       "height": 420,
       "width": 420
      }
     },
     "output_type": "display_data"
    }
   ],
   "source": [
    "p = ggplot(df, aes(x = log(cases), y = value, text = factor(country), color = factor(year)\n",
    "    )) + geom_point()+ theme(legend.position = \"none\")\n",
    "# ggplotly(p)   \n",
    "p "
   ]
  },
  {
   "cell_type": "code",
   "execution_count": 18,
   "metadata": {
    "vscode": {
     "languageId": "r"
    }
   },
   "outputs": [
    {
     "data": {
      "image/png": "[encoded data removed]",
      "text/plain": [
       "plot without title"
      ]
     },
     "metadata": {
      "image/png": {
       "height": 420,
       "width": 420
      }
     },
     "output_type": "display_data"
    }
   ],
   "source": [
    "country_means_df = df %>% group_by(country) %>%\n",
    " summarize(avg_value = mean(value, na.rm = TRUE), avg_log_cases = mean(log(cases), na.rm = TRUE))  %>% filter(avg_log_cases > -1000)\n",
    "\n",
    "demeaned_df = df %>% merge(., country_means_df, by = 'country')  %>%\n",
    "  mutate(log_cases = log(cases)- avg_log_cases, value = value- avg_value) %>%\n",
    "   select(country, year, log_cases, value)\n",
    "p = ggplot(demeaned_df, aes(x = log_cases, y = value, text = factor(country), color = factor(year)\n",
    "    )) + geom_point()+ theme(legend.position = \"none\")\n",
    "# ggplotly(p)  \n",
    "p  "
   ]
  },
  {
   "cell_type": "code",
   "execution_count": 19,
   "metadata": {
    "vscode": {
     "languageId": "r"
    }
   },
   "outputs": [
    {
     "data": {
      "text/html": [
       "<table class=\"dataframe\">\n",
       "<caption>A tibble: 3 × 3</caption>\n",
       "<thead>\n",
       "\t<tr><th scope=col>year</th><th scope=col>avg_value</th><th scope=col>avg_log_cases</th></tr>\n",
       "\t<tr><th scope=col>&lt;chr&gt;</th><th scope=col>&lt;dbl&gt;</th><th scope=col>&lt;dbl&gt;</th></tr>\n",
       "</thead>\n",
       "<tbody>\n",
       "\t<tr><td>2020</td><td>-2.752748</td><td>-1.0799770</td></tr>\n",
       "\t<tr><td>2021</td><td>-1.667404</td><td> 0.4683864</td></tr>\n",
       "\t<tr><td>2022</td><td> 4.420130</td><td> 0.6776799</td></tr>\n",
       "</tbody>\n",
       "</table>\n"
      ],
      "text/latex": [
       "A tibble: 3 × 3\n",
       "\\begin{tabular}{lll}\n",
       " year & avg\\_value & avg\\_log\\_cases\\\\\n",
       " <chr> & <dbl> & <dbl>\\\\\n",
       "\\hline\n",
       "\t 2020 & -2.752748 & -1.0799770\\\\\n",
       "\t 2021 & -1.667404 &  0.4683864\\\\\n",
       "\t 2022 &  4.420130 &  0.6776799\\\\\n",
       "\\end{tabular}\n"
      ],
      "text/markdown": [
       "\n",
       "A tibble: 3 × 3\n",
       "\n",
       "| year &lt;chr&gt; | avg_value &lt;dbl&gt; | avg_log_cases &lt;dbl&gt; |\n",
       "|---|---|---|\n",
       "| 2020 | -2.752748 | -1.0799770 |\n",
       "| 2021 | -1.667404 |  0.4683864 |\n",
       "| 2022 |  4.420130 |  0.6776799 |\n",
       "\n"
      ],
      "text/plain": [
       "  year avg_value avg_log_cases\n",
       "1 2020 -2.752748 -1.0799770   \n",
       "2 2021 -1.667404  0.4683864   \n",
       "3 2022  4.420130  0.6776799   "
      ]
     },
     "metadata": {},
     "output_type": "display_data"
    }
   ],
   "source": [
    "year_means_df"
   ]
  },
  {
   "cell_type": "code",
   "execution_count": 20,
   "metadata": {
    "vscode": {
     "languageId": "r"
    }
   },
   "outputs": [
    {
     "data": {
      "image/png": "[encoded data removed]",
      "text/plain": [
       "plot without title"
      ]
     },
     "metadata": {
      "image/png": {
       "height": 420,
       "width": 420
      }
     },
     "output_type": "display_data"
    }
   ],
   "source": [
    "year_means_df = demeaned_df %>% filter(log_cases > -5) %>% group_by(year) %>%\n",
    " summarize(avg_value = mean(value, na.rm = TRUE), avg_log_cases = mean(log_cases, na.rm = TRUE))\n",
    "\n",
    "demeaned_df2 = demeaned_df %>% merge(., year_means_df, by = 'year')  %>%\n",
    "  mutate(log_cases = log_cases- avg_log_cases, value = value - avg_value) %>%\n",
    "   select(country, year, log_cases, value)\n",
    "\n",
    "p = ggplot(demeaned_df2, aes(x = log_cases, y = value, text = factor(country), color = factor(year)\n",
    "    )) + geom_point()#+ theme(legend.position = \"none\")\n",
    "# ggplotly(p)   \n",
    "p "
   ]
  },
  {
   "cell_type": "markdown",
   "metadata": {},
   "source": [
    "### Сами регрессии"
   ]
  },
  {
   "cell_type": "code",
   "execution_count": 21,
   "metadata": {
    "vscode": {
     "languageId": "r"
    }
   },
   "outputs": [
    {
     "name": "stderr",
     "output_type": "stream",
     "text": [
      "NOTE: 139 observations removed because of NA and infinite values (RHS: 139).\n",
      "\n"
     ]
    },
    {
     "data": {
      "text/plain": [
       "OLS estimation, Dep. Var.: value\n",
       "Observations: 521\n",
       "Fixed-effects: year: 3\n",
       "Standard-errors: Clustered (country) \n",
       "                                   Estimate Std. Error  t value Pr(>|t|) \n",
       "log(cases)                         0.031419   0.223268 0.140725  0.88825 \n",
       "C8EV_International_travel_controls 0.713550   0.769504 0.927286  0.35506 \n",
       "---\n",
       "Signif. codes:  0 '***' 0.001 '**' 0.01 '*' 0.05 '.' 0.1 ' ' 1\n",
       "RMSE: 7.39765     Adj. R2: 0.15667 \n",
       "                Within R2: 0.003359"
      ]
     },
     "metadata": {},
     "output_type": "display_data"
    }
   ],
   "source": [
    "# Pulled OLS\n",
    "import_m0 = feols(value ~ log(cases) +\n",
    " C8EV_International_travel_controls| year,\n",
    " data = df)\n",
    "import_m0 %>% summary(vcov = ~country)"
   ]
  },
  {
   "cell_type": "code",
   "execution_count": 22,
   "metadata": {
    "vscode": {
     "languageId": "r"
    }
   },
   "outputs": [
    {
     "name": "stderr",
     "output_type": "stream",
     "text": [
      "NOTE: 139 observations removed because of NA and infinite values (RHS: 139).\n",
      "\n"
     ]
    },
    {
     "data": {
      "text/plain": [
       "OLS estimation, Dep. Var.: value\n",
       "Observations: 521\n",
       "Fixed-effects: country: 175,  year: 3\n",
       "Standard-errors: Clustered (country) \n",
       "                                    Estimate Std. Error   t value Pr(>|t|) \n",
       "log(cases)                          0.001900   0.007616  0.249432  0.80332 \n",
       "C8EV_International_travel_controls -0.032755   0.020467 -1.600389  0.11133 \n",
       "---\n",
       "Signif. codes:  0 '***' 0.001 '**' 0.01 '*' 0.05 '.' 0.1 ' ' 1\n",
       "RMSE: 0.142679     Adj. R2: 0.999527\n",
       "                 Within R2: 0.008703"
      ]
     },
     "metadata": {},
     "output_type": "display_data"
    }
   ],
   "source": [
    "import_m1 = feols(value ~ log(cases) +\n",
    " C8EV_International_travel_controls| country + year,\n",
    " data = df)\n",
    "import_m1 %>% summary(vcov = ~country)"
   ]
  },
  {
   "cell_type": "code",
   "execution_count": 23,
   "metadata": {
    "vscode": {
     "languageId": "r"
    }
   },
   "outputs": [
    {
     "name": "stderr",
     "output_type": "stream",
     "text": [
      "NOTE: 141 observations removed because of NA and infinite values (RHS: 126, IV: 35/130).\n",
      "\n"
     ]
    },
    {
     "data": {
      "text/plain": [
       "TSLS estimation - Dep. Var.: value\n",
       "                  Endo.    : log(cases)\n",
       "                  Instr.   : C1M_School_closing, median_age, population_density\n",
       "Second stage: Dep. Var.: value\n",
       "Observations: 519\n",
       "Fixed-effects: country: 175,  year: 3\n",
       "Standard-errors: Clustered (country) \n",
       "                                    Estimate Std. Error   t value Pr(>|t|)    \n",
       "fit_log(cases)                     -0.004139   0.025942 -0.159556 0.873416    \n",
       "C8EV_International_travel_controls -0.034439   0.019698 -1.748366 0.082164 .  \n",
       "---\n",
       "Signif. codes:  0 '***' 0.001 '**' 0.01 '*' 0.05 '.' 0.1 ' ' 1\n",
       "RMSE: 0.143035     Adj. R2: 0.999522\n",
       "                 Within R2: 0.006428\n",
       "F-test (1st stage), log(cases): stat = 25.6     , p = 2.025e-15, on 3 and 512 DoF.\n",
       "                    Wu-Hausman: stat =  0.106867, p = 0.743942 , on 1 and 339 DoF.\n",
       "                        Sargan: stat =  0.838753, p = 0.657457 , on 2 DoF."
      ]
     },
     "metadata": {},
     "output_type": "display_data"
    }
   ],
   "source": [
    "\n",
    "import_m1_iv = feols(value ~ 1 +\n",
    " C8EV_International_travel_controls|country + year|\n",
    " log(cases) ~  C1M_School_closing+median_age+population_density,\n",
    " data = df)\n",
    "import_m1_iv %>% summary(vcov = ~country)"
   ]
  },
  {
   "cell_type": "code",
   "execution_count": 24,
   "metadata": {
    "vscode": {
     "languageId": "r"
    }
   },
   "outputs": [
    {
     "name": "stderr",
     "output_type": "stream",
     "text": [
      "NOTE: 139 observations removed because of NA and infinite values (RHS: 139).\n",
      "\n"
     ]
    },
    {
     "data": {
      "text/plain": [
       "OLS estimation, Dep. Var.: value\n",
       "Observations: 521\n",
       "Fixed-effects: country: 175\n",
       "Standard-errors: Clustered (country) \n",
       "                                             Estimate Std. Error    t value\n",
       "year2021                                    -1.212015   0.078992 -15.343596\n",
       "year2022                                    -7.306150   0.114756 -63.666960\n",
       "year2020:log(cases)                         -0.012978   0.009892  -1.311999\n",
       "year2021:log(cases)                          0.004933   0.010398   0.474403\n",
       "year2022:log(cases)                          0.019971   0.008517   2.344937\n",
       "year2020:C8EV_International_travel_controls -0.024784   0.032070  -0.772791\n",
       "year2021:C8EV_International_travel_controls  0.018529   0.017197   1.077429\n",
       "year2022:C8EV_International_travel_controls -0.086923   0.071303  -1.219058\n",
       "                                             Pr(>|t|)    \n",
       "year2021                                    < 2.2e-16 ***\n",
       "year2022                                    < 2.2e-16 ***\n",
       "year2020:log(cases)                          0.191249    \n",
       "year2021:log(cases)                          0.635808    \n",
       "year2022:log(cases)                          0.020158 *  \n",
       "year2020:C8EV_International_travel_controls  0.440694    \n",
       "year2021:C8EV_International_travel_controls  0.282780    \n",
       "year2022:C8EV_International_travel_controls  0.224472    \n",
       "---\n",
       "Signif. codes:  0 '***' 0.001 '**' 0.01 '*' 0.05 '.' 0.1 ' ' 1\n",
       "RMSE: 0.137038     Adj. R2: 0.999558\n",
       "                 Within R2: 0.998142"
      ]
     },
     "metadata": {},
     "output_type": "display_data"
    }
   ],
   "source": [
    "# Гетерогенность во времени\n",
    "import_m2 = feols(value ~ year/log(cases) + year/C8EV_International_travel_controls| country,\n",
    " data = df)\n",
    "import_m2 %>% summary(vcov = ~country)"
   ]
  },
  {
   "cell_type": "code",
   "execution_count": 25,
   "metadata": {
    "vscode": {
     "languageId": "r"
    }
   },
   "outputs": [
    {
     "data": {
      "text/html": [
       "<table class=\"dataframe\">\n",
       "<caption>A etable_df: 20 × 5</caption>\n",
       "<thead>\n",
       "\t<tr><th></th><th scope=col></th><th scope=col>import_m0</th><th scope=col>import_m1</th><th scope=col>import_m1_iv</th><th scope=col>import_m2</th></tr>\n",
       "\t<tr><th></th><th scope=col>&lt;chr&gt;</th><th scope=col>&lt;chr&gt;</th><th scope=col>&lt;chr&gt;</th><th scope=col>&lt;chr&gt;</th><th scope=col>&lt;chr&gt;</th></tr>\n",
       "</thead>\n",
       "<tbody>\n",
       "\t<tr><th scope=row>1</th><td>Dependent Var.:                              </td><td>value          </td><td>value           </td><td>value            </td><td>value             </td></tr>\n",
       "\t<tr><th scope=row>2</th><td>                                             </td><td>               </td><td>                </td><td>                 </td><td>                  </td></tr>\n",
       "\t<tr><th scope=row>3</th><td>log(cases)                                   </td><td>0.0314 (0.2233)</td><td>0.0019 (0.0076) </td><td>-0.0041 (0.0259) </td><td>                  </td></tr>\n",
       "\t<tr><th scope=row>4</th><td>C8EV_International_travel_controls           </td><td>0.7135 (0.7695)</td><td>-0.0328 (0.0205)</td><td>-0.0344. (0.0197)</td><td>                  </td></tr>\n",
       "\t<tr><th scope=row>5</th><td>year2021                                     </td><td>               </td><td>                </td><td>                 </td><td>-1.212*** (0.0790)</td></tr>\n",
       "\t<tr><th scope=row>6</th><td>year2022                                     </td><td>               </td><td>                </td><td>                 </td><td>-7.306*** (0.1148)</td></tr>\n",
       "\t<tr><th scope=row>7</th><td>year2020 x log(cases)                        </td><td>               </td><td>                </td><td>                 </td><td>-0.0130 (0.0099)  </td></tr>\n",
       "\t<tr><th scope=row>8</th><td>year2021 x log(cases)                        </td><td>               </td><td>                </td><td>                 </td><td>0.0049 (0.0104)   </td></tr>\n",
       "\t<tr><th scope=row>9</th><td>year2022 x log(cases)                        </td><td>               </td><td>                </td><td>                 </td><td>0.0200* (0.0085)  </td></tr>\n",
       "\t<tr><th scope=row>10</th><td>year2020 x C8EV_International_travel_controls</td><td>               </td><td>                </td><td>                 </td><td>-0.0248 (0.0321)  </td></tr>\n",
       "\t<tr><th scope=row>11</th><td>year2021 x C8EV_International_travel_controls</td><td>               </td><td>                </td><td>                 </td><td>0.0185 (0.0172)   </td></tr>\n",
       "\t<tr><th scope=row>12</th><td>year2022 x C8EV_International_travel_controls</td><td>               </td><td>                </td><td>                 </td><td>-0.0869 (0.0713)  </td></tr>\n",
       "\t<tr><th scope=row>13</th><td>Fixed-Effects:                               </td><td>---------------</td><td>----------------</td><td>-----------------</td><td>------------------</td></tr>\n",
       "\t<tr><th scope=row>14</th><td>year                                         </td><td>Yes            </td><td>Yes             </td><td>Yes              </td><td>No                </td></tr>\n",
       "\t<tr><th scope=row>15</th><td>country                                      </td><td>No             </td><td>Yes             </td><td>Yes              </td><td>Yes               </td></tr>\n",
       "\t<tr><th scope=row>16</th><td>________________________________________     </td><td>_______________</td><td>________________</td><td>_________________</td><td>__________________</td></tr>\n",
       "\t<tr><th scope=row>17</th><td>S.E.: Clustered                              </td><td>by: country    </td><td>by: country     </td><td>by: country      </td><td>by: country       </td></tr>\n",
       "\t<tr><th scope=row>18</th><td>Observations                                 </td><td>521            </td><td>521             </td><td>519              </td><td>521               </td></tr>\n",
       "\t<tr><th scope=row>19</th><td>R2                                           </td><td>0.16316        </td><td>0.99969         </td><td>0.99969          </td><td>0.99971           </td></tr>\n",
       "\t<tr><th scope=row>20</th><td>Within R2                                    </td><td>0.00336        </td><td>0.00870         </td><td>0.00643          </td><td>0.99814           </td></tr>\n",
       "</tbody>\n",
       "</table>\n"
      ],
      "text/latex": [
       "A etable\\_df: 20 × 5\n",
       "\\begin{tabular}{r|lllll}\n",
       "  &  & import\\_m0 & import\\_m1 & import\\_m1\\_iv & import\\_m2\\\\\n",
       "  & <chr> & <chr> & <chr> & <chr> & <chr>\\\\\n",
       "\\hline\n",
       "\t1 & Dependent Var.:                               & value           & value            & value             & value             \\\\\n",
       "\t2 &                                               &                 &                  &                   &                   \\\\\n",
       "\t3 & log(cases)                                    & 0.0314 (0.2233) & 0.0019 (0.0076)  & -0.0041 (0.0259)  &                   \\\\\n",
       "\t4 & C8EV\\_International\\_travel\\_controls            & 0.7135 (0.7695) & -0.0328 (0.0205) & -0.0344. (0.0197) &                   \\\\\n",
       "\t5 & year2021                                      &                 &                  &                   & -1.212*** (0.0790)\\\\\n",
       "\t6 & year2022                                      &                 &                  &                   & -7.306*** (0.1148)\\\\\n",
       "\t7 & year2020 x log(cases)                         &                 &                  &                   & -0.0130 (0.0099)  \\\\\n",
       "\t8 & year2021 x log(cases)                         &                 &                  &                   & 0.0049 (0.0104)   \\\\\n",
       "\t9 & year2022 x log(cases)                         &                 &                  &                   & 0.0200* (0.0085)  \\\\\n",
       "\t10 & year2020 x C8EV\\_International\\_travel\\_controls &                 &                  &                   & -0.0248 (0.0321)  \\\\\n",
       "\t11 & year2021 x C8EV\\_International\\_travel\\_controls &                 &                  &                   & 0.0185 (0.0172)   \\\\\n",
       "\t12 & year2022 x C8EV\\_International\\_travel\\_controls &                 &                  &                   & -0.0869 (0.0713)  \\\\\n",
       "\t13 & Fixed-Effects:                                & --------------- & ---------------- & ----------------- & ------------------\\\\\n",
       "\t14 & year                                          & Yes             & Yes              & Yes               & No                \\\\\n",
       "\t15 & country                                       & No              & Yes              & Yes               & Yes               \\\\\n",
       "\t16 & \\_\\_\\_\\_\\_\\_\\_\\_\\_\\_\\_\\_\\_\\_\\_\\_\\_\\_\\_\\_\\_\\_\\_\\_\\_\\_\\_\\_\\_\\_\\_\\_\\_\\_\\_\\_\\_\\_\\_\\_      & \\_\\_\\_\\_\\_\\_\\_\\_\\_\\_\\_\\_\\_\\_\\_ & \\_\\_\\_\\_\\_\\_\\_\\_\\_\\_\\_\\_\\_\\_\\_\\_ & \\_\\_\\_\\_\\_\\_\\_\\_\\_\\_\\_\\_\\_\\_\\_\\_\\_ & \\_\\_\\_\\_\\_\\_\\_\\_\\_\\_\\_\\_\\_\\_\\_\\_\\_\\_\\\\\n",
       "\t17 & S.E.: Clustered                               & by: country     & by: country      & by: country       & by: country       \\\\\n",
       "\t18 & Observations                                  & 521             & 521              & 519               & 521               \\\\\n",
       "\t19 & R2                                            & 0.16316         & 0.99969          & 0.99969           & 0.99971           \\\\\n",
       "\t20 & Within R2                                     & 0.00336         & 0.00870          & 0.00643           & 0.99814           \\\\\n",
       "\\end{tabular}\n"
      ],
      "text/markdown": [
       "\n",
       "A etable_df: 20 × 5\n",
       "\n",
       "| <!--/--> | <!----> &lt;chr&gt; | import_m0 &lt;chr&gt; | import_m1 &lt;chr&gt; | import_m1_iv &lt;chr&gt; | import_m2 &lt;chr&gt; |\n",
       "|---|---|---|---|---|---|\n",
       "| 1 | Dependent Var.:                               | value           | value            | value             | value              |\n",
       "| 2 | <!----> | <!----> | <!----> | <!----> | <!----> |\n",
       "| 3 | log(cases)                                    | 0.0314 (0.2233) | 0.0019 (0.0076)  | -0.0041 (0.0259)  | <!----> |\n",
       "| 4 | C8EV_International_travel_controls            | 0.7135 (0.7695) | -0.0328 (0.0205) | -0.0344. (0.0197) | <!----> |\n",
       "| 5 | year2021                                      | <!----> | <!----> | <!----> | -1.212*** (0.0790) |\n",
       "| 6 | year2022                                      | <!----> | <!----> | <!----> | -7.306*** (0.1148) |\n",
       "| 7 | year2020 x log(cases)                         | <!----> | <!----> | <!----> | -0.0130 (0.0099)   |\n",
       "| 8 | year2021 x log(cases)                         | <!----> | <!----> | <!----> | 0.0049 (0.0104)    |\n",
       "| 9 | year2022 x log(cases)                         | <!----> | <!----> | <!----> | 0.0200* (0.0085)   |\n",
       "| 10 | year2020 x C8EV_International_travel_controls | <!----> | <!----> | <!----> | -0.0248 (0.0321)   |\n",
       "| 11 | year2021 x C8EV_International_travel_controls | <!----> | <!----> | <!----> | 0.0185 (0.0172)    |\n",
       "| 12 | year2022 x C8EV_International_travel_controls | <!----> | <!----> | <!----> | -0.0869 (0.0713)   |\n",
       "| 13 | Fixed-Effects:                                | --------------- | ---------------- | ----------------- | ------------------ |\n",
       "| 14 | year                                          | Yes             | Yes              | Yes               | No                 |\n",
       "| 15 | country                                       | No              | Yes              | Yes               | Yes                |\n",
       "| 16 | ________________________________________      | _______________ | ________________ | _________________ | __________________ |\n",
       "| 17 | S.E.: Clustered                               | by: country     | by: country      | by: country       | by: country        |\n",
       "| 18 | Observations                                  | 521             | 521              | 519               | 521                |\n",
       "| 19 | R2                                            | 0.16316         | 0.99969          | 0.99969           | 0.99971            |\n",
       "| 20 | Within R2                                     | 0.00336         | 0.00870          | 0.00643           | 0.99814            |\n",
       "\n"
      ],
      "text/plain": [
       "                                                 import_m0      \n",
       "1  Dependent Var.:                               value          \n",
       "2                                                               \n",
       "3  log(cases)                                    0.0314 (0.2233)\n",
       "4  C8EV_International_travel_controls            0.7135 (0.7695)\n",
       "5  year2021                                                     \n",
       "6  year2022                                                     \n",
       "7  year2020 x log(cases)                                        \n",
       "8  year2021 x log(cases)                                        \n",
       "9  year2022 x log(cases)                                        \n",
       "10 year2020 x C8EV_International_travel_controls                \n",
       "11 year2021 x C8EV_International_travel_controls                \n",
       "12 year2022 x C8EV_International_travel_controls                \n",
       "13 Fixed-Effects:                                ---------------\n",
       "14 year                                          Yes            \n",
       "15 country                                       No             \n",
       "16 ________________________________________      _______________\n",
       "17 S.E.: Clustered                               by: country    \n",
       "18 Observations                                  521            \n",
       "19 R2                                            0.16316        \n",
       "20 Within R2                                     0.00336        \n",
       "   import_m1        import_m1_iv      import_m2         \n",
       "1  value            value             value             \n",
       "2                                                       \n",
       "3  0.0019 (0.0076)  -0.0041 (0.0259)                    \n",
       "4  -0.0328 (0.0205) -0.0344. (0.0197)                   \n",
       "5                                     -1.212*** (0.0790)\n",
       "6                                     -7.306*** (0.1148)\n",
       "7                                     -0.0130 (0.0099)  \n",
       "8                                     0.0049 (0.0104)   \n",
       "9                                     0.0200* (0.0085)  \n",
       "10                                    -0.0248 (0.0321)  \n",
       "11                                    0.0185 (0.0172)   \n",
       "12                                    -0.0869 (0.0713)  \n",
       "13 ---------------- ----------------- ------------------\n",
       "14 Yes              Yes               No                \n",
       "15 Yes              Yes               Yes               \n",
       "16 ________________ _________________ __________________\n",
       "17 by: country      by: country       by: country       \n",
       "18 521              519               521               \n",
       "19 0.99969          0.99969           0.99971           \n",
       "20 0.00870          0.00643           0.99814           "
      ]
     },
     "metadata": {},
     "output_type": "display_data"
    }
   ],
   "source": [
    "# Для импортёра вообще ничто не значимо.\n",
    "etable(import_m0, import_m1, import_m1_iv, import_m2, vcov = ~country)"
   ]
  },
  {
   "cell_type": "code",
   "execution_count": 26,
   "metadata": {
    "vscode": {
     "languageId": "r"
    }
   },
   "outputs": [
    {
     "data": {
      "text/html": [
       "<table class=\"dataframe\">\n",
       "<caption>A etable_df: 20 × 5</caption>\n",
       "<thead>\n",
       "\t<tr><th></th><th scope=col></th><th scope=col>import_m0</th><th scope=col>import_m1</th><th scope=col>import_m1_iv</th><th scope=col>import_m2</th></tr>\n",
       "\t<tr><th></th><th scope=col>&lt;chr&gt;</th><th scope=col>&lt;chr&gt;</th><th scope=col>&lt;chr&gt;</th><th scope=col>&lt;chr&gt;</th><th scope=col>&lt;chr&gt;</th></tr>\n",
       "</thead>\n",
       "<tbody>\n",
       "\t<tr><th scope=row>1</th><td>Dependent Var.:                              </td><td>value          </td><td>value           </td><td>value           </td><td>value             </td></tr>\n",
       "\t<tr><th scope=row>2</th><td>                                             </td><td>               </td><td>                </td><td>                </td><td>                  </td></tr>\n",
       "\t<tr><th scope=row>3</th><td>log(cases)                                   </td><td>0.0314 (0.2100)</td><td>0.0019 (0.0076) </td><td>-0.0041 (0.0261)</td><td>                  </td></tr>\n",
       "\t<tr><th scope=row>4</th><td>C8EV_International_travel_controls           </td><td>0.7135 (0.8180)</td><td>-0.0328 (0.0223)</td><td>-0.0344 (0.0211)</td><td>                  </td></tr>\n",
       "\t<tr><th scope=row>5</th><td>year2021                                     </td><td>               </td><td>                </td><td>                </td><td>-1.212** (0.0828) </td></tr>\n",
       "\t<tr><th scope=row>6</th><td>year2022                                     </td><td>               </td><td>                </td><td>                </td><td>-7.306*** (0.1063)</td></tr>\n",
       "\t<tr><th scope=row>7</th><td>year2020 x log(cases)                        </td><td>               </td><td>                </td><td>                </td><td>-0.0130 (0.0094)  </td></tr>\n",
       "\t<tr><th scope=row>8</th><td>year2021 x log(cases)                        </td><td>               </td><td>                </td><td>                </td><td>0.0049 (0.0111)   </td></tr>\n",
       "\t<tr><th scope=row>9</th><td>year2022 x log(cases)                        </td><td>               </td><td>                </td><td>                </td><td>0.0200 (0.0084)   </td></tr>\n",
       "\t<tr><th scope=row>10</th><td>year2020 x C8EV_International_travel_controls</td><td>               </td><td>                </td><td>                </td><td>-0.0248 (0.0312)  </td></tr>\n",
       "\t<tr><th scope=row>11</th><td>year2021 x C8EV_International_travel_controls</td><td>               </td><td>                </td><td>                </td><td>0.0185 (0.0226)   </td></tr>\n",
       "\t<tr><th scope=row>12</th><td>year2022 x C8EV_International_travel_controls</td><td>               </td><td>                </td><td>                </td><td>-0.0869 (0.0703)  </td></tr>\n",
       "\t<tr><th scope=row>13</th><td>Fixed-Effects:                               </td><td>---------------</td><td>----------------</td><td>----------------</td><td>------------------</td></tr>\n",
       "\t<tr><th scope=row>14</th><td>year                                         </td><td>Yes            </td><td>Yes             </td><td>Yes             </td><td>No                </td></tr>\n",
       "\t<tr><th scope=row>15</th><td>country                                      </td><td>No             </td><td>Yes             </td><td>Yes             </td><td>Yes               </td></tr>\n",
       "\t<tr><th scope=row>16</th><td>________________________________________     </td><td>_______________</td><td>________________</td><td>________________</td><td>__________________</td></tr>\n",
       "\t<tr><th scope=row>17</th><td>S.E. type                                    </td><td>New.-West (L=1)</td><td>Newey-West (L=1)</td><td>Newey-West (L=1)</td><td>Newey-West (L=1)  </td></tr>\n",
       "\t<tr><th scope=row>18</th><td>Observations                                 </td><td>521            </td><td>521             </td><td>519             </td><td>521               </td></tr>\n",
       "\t<tr><th scope=row>19</th><td>R2                                           </td><td>0.16316        </td><td>0.99969         </td><td>0.99969         </td><td>0.99971           </td></tr>\n",
       "\t<tr><th scope=row>20</th><td>Within R2                                    </td><td>0.00336        </td><td>0.00870         </td><td>0.00643         </td><td>0.99814           </td></tr>\n",
       "</tbody>\n",
       "</table>\n"
      ],
      "text/latex": [
       "A etable\\_df: 20 × 5\n",
       "\\begin{tabular}{r|lllll}\n",
       "  &  & import\\_m0 & import\\_m1 & import\\_m1\\_iv & import\\_m2\\\\\n",
       "  & <chr> & <chr> & <chr> & <chr> & <chr>\\\\\n",
       "\\hline\n",
       "\t1 & Dependent Var.:                               & value           & value            & value            & value             \\\\\n",
       "\t2 &                                               &                 &                  &                  &                   \\\\\n",
       "\t3 & log(cases)                                    & 0.0314 (0.2100) & 0.0019 (0.0076)  & -0.0041 (0.0261) &                   \\\\\n",
       "\t4 & C8EV\\_International\\_travel\\_controls            & 0.7135 (0.8180) & -0.0328 (0.0223) & -0.0344 (0.0211) &                   \\\\\n",
       "\t5 & year2021                                      &                 &                  &                  & -1.212** (0.0828) \\\\\n",
       "\t6 & year2022                                      &                 &                  &                  & -7.306*** (0.1063)\\\\\n",
       "\t7 & year2020 x log(cases)                         &                 &                  &                  & -0.0130 (0.0094)  \\\\\n",
       "\t8 & year2021 x log(cases)                         &                 &                  &                  & 0.0049 (0.0111)   \\\\\n",
       "\t9 & year2022 x log(cases)                         &                 &                  &                  & 0.0200 (0.0084)   \\\\\n",
       "\t10 & year2020 x C8EV\\_International\\_travel\\_controls &                 &                  &                  & -0.0248 (0.0312)  \\\\\n",
       "\t11 & year2021 x C8EV\\_International\\_travel\\_controls &                 &                  &                  & 0.0185 (0.0226)   \\\\\n",
       "\t12 & year2022 x C8EV\\_International\\_travel\\_controls &                 &                  &                  & -0.0869 (0.0703)  \\\\\n",
       "\t13 & Fixed-Effects:                                & --------------- & ---------------- & ---------------- & ------------------\\\\\n",
       "\t14 & year                                          & Yes             & Yes              & Yes              & No                \\\\\n",
       "\t15 & country                                       & No              & Yes              & Yes              & Yes               \\\\\n",
       "\t16 & \\_\\_\\_\\_\\_\\_\\_\\_\\_\\_\\_\\_\\_\\_\\_\\_\\_\\_\\_\\_\\_\\_\\_\\_\\_\\_\\_\\_\\_\\_\\_\\_\\_\\_\\_\\_\\_\\_\\_\\_      & \\_\\_\\_\\_\\_\\_\\_\\_\\_\\_\\_\\_\\_\\_\\_ & \\_\\_\\_\\_\\_\\_\\_\\_\\_\\_\\_\\_\\_\\_\\_\\_ & \\_\\_\\_\\_\\_\\_\\_\\_\\_\\_\\_\\_\\_\\_\\_\\_ & \\_\\_\\_\\_\\_\\_\\_\\_\\_\\_\\_\\_\\_\\_\\_\\_\\_\\_\\\\\n",
       "\t17 & S.E. type                                     & New.-West (L=1) & Newey-West (L=1) & Newey-West (L=1) & Newey-West (L=1)  \\\\\n",
       "\t18 & Observations                                  & 521             & 521              & 519              & 521               \\\\\n",
       "\t19 & R2                                            & 0.16316         & 0.99969          & 0.99969          & 0.99971           \\\\\n",
       "\t20 & Within R2                                     & 0.00336         & 0.00870          & 0.00643          & 0.99814           \\\\\n",
       "\\end{tabular}\n"
      ],
      "text/markdown": [
       "\n",
       "A etable_df: 20 × 5\n",
       "\n",
       "| <!--/--> | <!----> &lt;chr&gt; | import_m0 &lt;chr&gt; | import_m1 &lt;chr&gt; | import_m1_iv &lt;chr&gt; | import_m2 &lt;chr&gt; |\n",
       "|---|---|---|---|---|---|\n",
       "| 1 | Dependent Var.:                               | value           | value            | value            | value              |\n",
       "| 2 | <!----> | <!----> | <!----> | <!----> | <!----> |\n",
       "| 3 | log(cases)                                    | 0.0314 (0.2100) | 0.0019 (0.0076)  | -0.0041 (0.0261) | <!----> |\n",
       "| 4 | C8EV_International_travel_controls            | 0.7135 (0.8180) | -0.0328 (0.0223) | -0.0344 (0.0211) | <!----> |\n",
       "| 5 | year2021                                      | <!----> | <!----> | <!----> | -1.212** (0.0828)  |\n",
       "| 6 | year2022                                      | <!----> | <!----> | <!----> | -7.306*** (0.1063) |\n",
       "| 7 | year2020 x log(cases)                         | <!----> | <!----> | <!----> | -0.0130 (0.0094)   |\n",
       "| 8 | year2021 x log(cases)                         | <!----> | <!----> | <!----> | 0.0049 (0.0111)    |\n",
       "| 9 | year2022 x log(cases)                         | <!----> | <!----> | <!----> | 0.0200 (0.0084)    |\n",
       "| 10 | year2020 x C8EV_International_travel_controls | <!----> | <!----> | <!----> | -0.0248 (0.0312)   |\n",
       "| 11 | year2021 x C8EV_International_travel_controls | <!----> | <!----> | <!----> | 0.0185 (0.0226)    |\n",
       "| 12 | year2022 x C8EV_International_travel_controls | <!----> | <!----> | <!----> | -0.0869 (0.0703)   |\n",
       "| 13 | Fixed-Effects:                                | --------------- | ---------------- | ---------------- | ------------------ |\n",
       "| 14 | year                                          | Yes             | Yes              | Yes              | No                 |\n",
       "| 15 | country                                       | No              | Yes              | Yes              | Yes                |\n",
       "| 16 | ________________________________________      | _______________ | ________________ | ________________ | __________________ |\n",
       "| 17 | S.E. type                                     | New.-West (L=1) | Newey-West (L=1) | Newey-West (L=1) | Newey-West (L=1)   |\n",
       "| 18 | Observations                                  | 521             | 521              | 519              | 521                |\n",
       "| 19 | R2                                            | 0.16316         | 0.99969          | 0.99969          | 0.99971            |\n",
       "| 20 | Within R2                                     | 0.00336         | 0.00870          | 0.00643          | 0.99814            |\n",
       "\n"
      ],
      "text/plain": [
       "                                                 import_m0      \n",
       "1  Dependent Var.:                               value          \n",
       "2                                                               \n",
       "3  log(cases)                                    0.0314 (0.2100)\n",
       "4  C8EV_International_travel_controls            0.7135 (0.8180)\n",
       "5  year2021                                                     \n",
       "6  year2022                                                     \n",
       "7  year2020 x log(cases)                                        \n",
       "8  year2021 x log(cases)                                        \n",
       "9  year2022 x log(cases)                                        \n",
       "10 year2020 x C8EV_International_travel_controls                \n",
       "11 year2021 x C8EV_International_travel_controls                \n",
       "12 year2022 x C8EV_International_travel_controls                \n",
       "13 Fixed-Effects:                                ---------------\n",
       "14 year                                          Yes            \n",
       "15 country                                       No             \n",
       "16 ________________________________________      _______________\n",
       "17 S.E. type                                     New.-West (L=1)\n",
       "18 Observations                                  521            \n",
       "19 R2                                            0.16316        \n",
       "20 Within R2                                     0.00336        \n",
       "   import_m1        import_m1_iv     import_m2         \n",
       "1  value            value            value             \n",
       "2                                                      \n",
       "3  0.0019 (0.0076)  -0.0041 (0.0261)                   \n",
       "4  -0.0328 (0.0223) -0.0344 (0.0211)                   \n",
       "5                                    -1.212** (0.0828) \n",
       "6                                    -7.306*** (0.1063)\n",
       "7                                    -0.0130 (0.0094)  \n",
       "8                                    0.0049 (0.0111)   \n",
       "9                                    0.0200 (0.0084)   \n",
       "10                                   -0.0248 (0.0312)  \n",
       "11                                   0.0185 (0.0226)   \n",
       "12                                   -0.0869 (0.0703)  \n",
       "13 ---------------- ---------------- ------------------\n",
       "14 Yes              Yes              No                \n",
       "15 Yes              Yes              Yes               \n",
       "16 ________________ ________________ __________________\n",
       "17 Newey-West (L=1) Newey-West (L=1) Newey-West (L=1)  \n",
       "18 521              519              521               \n",
       "19 0.99969          0.99969          0.99971           \n",
       "20 0.00870          0.00643          0.99814           "
      ]
     },
     "metadata": {},
     "output_type": "display_data"
    }
   ],
   "source": [
    "etable(import_m0, import_m1, import_m1_iv, import_m2, vcov = vcov_NW(unit = 'country', time = 'year'))"
   ]
  },
  {
   "cell_type": "markdown",
   "metadata": {},
   "source": [
    "## Суммарный экспорт/импорт"
   ]
  },
  {
   "cell_type": "markdown",
   "metadata": {},
   "source": []
  }
 ],
 "metadata": {
  "kernelspec": {
   "display_name": "R",
   "language": "R",
   "name": "ir"
  },
  "language_info": {
   "codemirror_mode": "r",
   "file_extension": ".r",
   "mimetype": "text/x-r-source",
   "name": "R",
   "pygments_lexer": "r",
   "version": "4.4.1"
  }
 },
 "nbformat": 4,
 "nbformat_minor": 2
}
