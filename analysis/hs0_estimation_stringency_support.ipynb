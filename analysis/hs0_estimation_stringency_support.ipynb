{
 "cells": [
  {
   "cell_type": "markdown",
   "metadata": {},
   "source": [
    "# Оцениваем регрессии на данных HS0 в спецификациях:\n",
    "- Сырые данные ~ ковид и ограничения + контроль на дамми\n",
    "- Сырые данные ~ ковид и ограничения + контроль на дамми | инструментальные переменные\n",
    "\n",
    "Для второй спецификации считаем бутстраповские доверительные интервалы"
   ]
  },
  {
   "cell_type": "code",
   "execution_count": 12,
   "metadata": {
    "vscode": {
     "languageId": "r"
    }
   },
   "outputs": [],
   "source": [
    "library(arrow)\n",
    "library(stargazer)\n",
    "library(tidyverse)\n",
    "library(plotly)\n",
    "library(fixest)\n",
    "signif.code = signif.code = c(\"***\" = 0.001, \"**\" = 0.01, \"*\" = 0.05, \".\" = 0.10)"
   ]
  },
  {
   "cell_type": "markdown",
   "metadata": {},
   "source": [
    "## Сырые данные\n",
    "\n",
    "Под каждой регрессией вывожу summary с кластеризацией ошибок. В конце блока сравниваю робастность результата по используемым ошибкам."
   ]
  },
  {
   "cell_type": "code",
   "execution_count": 4,
   "metadata": {
    "vscode": {
     "languageId": "r"
    }
   },
   "outputs": [
    {
     "data": {
      "text/html": [
       "<table class=\"dataframe\">\n",
       "<caption>A tibble: 6 × 146</caption>\n",
       "<thead>\n",
       "\t<tr><th scope=col>t</th><th scope=col>i</th><th scope=col>j</th><th scope=col>v</th><th scope=col>q</th><th scope=col>v19</th><th scope=col>q19</th><th scope=col>country</th><th scope=col>t:r_i</th><th scope=col>cases</th><th scope=col>⋯</th><th scope=col>StringencyIndex_Average_i</th><th scope=col>StringencyIndex_Average_j</th><th scope=col>share_1_members_i</th><th scope=col>share_1_members_j</th><th scope=col>H6M_Facial_Coverings_i</th><th scope=col>H6M_Facial_Coverings_j</th><th scope=col>EconomicSupportIndex_i</th><th scope=col>EconomicSupportIndex_j</th><th scope=col>C8EV_International_travel_controls_i</th><th scope=col>C8EV_International_travel_controls_j</th></tr>\n",
       "\t<tr><th scope=col>&lt;int&gt;</th><th scope=col>&lt;chr&gt;</th><th scope=col>&lt;chr&gt;</th><th scope=col>&lt;dbl&gt;</th><th scope=col>&lt;dbl&gt;</th><th scope=col>&lt;dbl&gt;</th><th scope=col>&lt;dbl&gt;</th><th scope=col>&lt;chr&gt;</th><th scope=col>&lt;int&gt;</th><th scope=col>&lt;dbl&gt;</th><th scope=col>⋯</th><th scope=col>&lt;dbl&gt;</th><th scope=col>&lt;dbl&gt;</th><th scope=col>&lt;dbl&gt;</th><th scope=col>&lt;dbl&gt;</th><th scope=col>&lt;dbl&gt;</th><th scope=col>&lt;dbl&gt;</th><th scope=col>&lt;dbl&gt;</th><th scope=col>&lt;dbl&gt;</th><th scope=col>&lt;dbl&gt;</th><th scope=col>&lt;dbl&gt;</th></tr>\n",
       "</thead>\n",
       "<tbody>\n",
       "\t<tr><td>2021</td><td>LUX</td><td>LBY</td><td>    968.018</td><td>    210.173</td><td>   501.858</td><td>    127.012</td><td>LUX</td><td>2021</td><td>241.1512329</td><td>⋯</td><td>46.04334</td><td>63.24680</td><td>33.34</td><td>   NA</td><td>2.0082192</td><td>2.827397</td><td>43.184933</td><td> 0.00000</td><td>2.534247</td><td>2.520548</td></tr>\n",
       "\t<tr><td>2021</td><td>RUS</td><td>SEN</td><td>1307165.125</td><td>3131615.500</td><td>789625.305</td><td>2232100.632</td><td>RUS</td><td>2021</td><td>138.1677534</td><td>⋯</td><td>46.46488</td><td>24.90279</td><td>25.69</td><td> 6.92</td><td>2.3150685</td><td>3.402740</td><td>50.753426</td><td> 0.00000</td><td>2.610959</td><td>2.561644</td></tr>\n",
       "\t<tr><td>2020</td><td>SOM</td><td>KOR</td><td>   3136.611</td><td>   2045.876</td><td>  5608.268</td><td>   4002.770</td><td>SOM</td><td>2020</td><td>  0.7276796</td><td>⋯</td><td>34.65910</td><td>49.42956</td><td> 1.53</td><td>31.75</td><td>0.7622951</td><td>1.653005</td><td> 2.254098</td><td>38.72951</td><td>2.101093</td><td>2.415301</td></tr>\n",
       "\t<tr><td>2020</td><td>TUR</td><td>CRI</td><td>  57792.285</td><td>  98850.453</td><td> 60858.013</td><td>  86163.873</td><td>TUR</td><td>2020</td><td> 67.6935912</td><td>⋯</td><td>54.57148</td><td>54.39423</td><td> 6.37</td><td>12.07</td><td>2.2732241</td><td>1.218579</td><td>60.211750</td><td>37.84153</td><td>2.040984</td><td>2.322404</td></tr>\n",
       "\t<tr><td>2021</td><td>KNA</td><td>BIH</td><td>      0.520</td><td>      0.008</td><td>     0.460</td><td>      0.005</td><td>KNA</td><td>2021</td><td>164.5090411</td><td>⋯</td><td>      NA</td><td>38.78658</td><td>   NA</td><td>11.50</td><td>       NA</td><td>2.476712</td><td>       NA</td><td>44.96575</td><td>      NA</td><td>1.000000</td></tr>\n",
       "\t<tr><td>2022</td><td>AZE</td><td>MLT</td><td>  22060.938</td><td>  39007.156</td><td> 12476.490</td><td>  33493.400</td><td>AZE</td><td>2022</td><td> 56.3560822</td><td>⋯</td><td>49.01625</td><td>22.13003</td><td> 6.77</td><td>22.64</td><td>0.6575342</td><td>2.323288</td><td> 9.863013</td><td>15.51370</td><td>3.000000</td><td>1.263014</td></tr>\n",
       "</tbody>\n",
       "</table>\n"
      ],
      "text/latex": [
       "A tibble: 6 × 146\n",
       "\\begin{tabular}{lllllllllllllllllllll}\n",
       " t & i & j & v & q & v19 & q19 & country & t:r\\_i & cases & ⋯ & StringencyIndex\\_Average\\_i & StringencyIndex\\_Average\\_j & share\\_1\\_members\\_i & share\\_1\\_members\\_j & H6M\\_Facial\\_Coverings\\_i & H6M\\_Facial\\_Coverings\\_j & EconomicSupportIndex\\_i & EconomicSupportIndex\\_j & C8EV\\_International\\_travel\\_controls\\_i & C8EV\\_International\\_travel\\_controls\\_j\\\\\n",
       " <int> & <chr> & <chr> & <dbl> & <dbl> & <dbl> & <dbl> & <chr> & <int> & <dbl> & ⋯ & <dbl> & <dbl> & <dbl> & <dbl> & <dbl> & <dbl> & <dbl> & <dbl> & <dbl> & <dbl>\\\\\n",
       "\\hline\n",
       "\t 2021 & LUX & LBY &     968.018 &     210.173 &    501.858 &     127.012 & LUX & 2021 & 241.1512329 & ⋯ & 46.04334 & 63.24680 & 33.34 &    NA & 2.0082192 & 2.827397 & 43.184933 &  0.00000 & 2.534247 & 2.520548\\\\\n",
       "\t 2021 & RUS & SEN & 1307165.125 & 3131615.500 & 789625.305 & 2232100.632 & RUS & 2021 & 138.1677534 & ⋯ & 46.46488 & 24.90279 & 25.69 &  6.92 & 2.3150685 & 3.402740 & 50.753426 &  0.00000 & 2.610959 & 2.561644\\\\\n",
       "\t 2020 & SOM & KOR &    3136.611 &    2045.876 &   5608.268 &    4002.770 & SOM & 2020 &   0.7276796 & ⋯ & 34.65910 & 49.42956 &  1.53 & 31.75 & 0.7622951 & 1.653005 &  2.254098 & 38.72951 & 2.101093 & 2.415301\\\\\n",
       "\t 2020 & TUR & CRI &   57792.285 &   98850.453 &  60858.013 &   86163.873 & TUR & 2020 &  67.6935912 & ⋯ & 54.57148 & 54.39423 &  6.37 & 12.07 & 2.2732241 & 1.218579 & 60.211750 & 37.84153 & 2.040984 & 2.322404\\\\\n",
       "\t 2021 & KNA & BIH &       0.520 &       0.008 &      0.460 &       0.005 & KNA & 2021 & 164.5090411 & ⋯ &       NA & 38.78658 &    NA & 11.50 &        NA & 2.476712 &        NA & 44.96575 &       NA & 1.000000\\\\\n",
       "\t 2022 & AZE & MLT &   22060.938 &   39007.156 &  12476.490 &   33493.400 & AZE & 2022 &  56.3560822 & ⋯ & 49.01625 & 22.13003 &  6.77 & 22.64 & 0.6575342 & 2.323288 &  9.863013 & 15.51370 & 3.000000 & 1.263014\\\\\n",
       "\\end{tabular}\n"
      ],
      "text/markdown": [
       "\n",
       "A tibble: 6 × 146\n",
       "\n",
       "| t &lt;int&gt; | i &lt;chr&gt; | j &lt;chr&gt; | v &lt;dbl&gt; | q &lt;dbl&gt; | v19 &lt;dbl&gt; | q19 &lt;dbl&gt; | country &lt;chr&gt; | t:r_i &lt;int&gt; | cases &lt;dbl&gt; | ⋯ ⋯ | StringencyIndex_Average_i &lt;dbl&gt; | StringencyIndex_Average_j &lt;dbl&gt; | share_1_members_i &lt;dbl&gt; | share_1_members_j &lt;dbl&gt; | H6M_Facial_Coverings_i &lt;dbl&gt; | H6M_Facial_Coverings_j &lt;dbl&gt; | EconomicSupportIndex_i &lt;dbl&gt; | EconomicSupportIndex_j &lt;dbl&gt; | C8EV_International_travel_controls_i &lt;dbl&gt; | C8EV_International_travel_controls_j &lt;dbl&gt; |\n",
       "|---|---|---|---|---|---|---|---|---|---|---|---|---|---|---|---|---|---|---|---|---|\n",
       "| 2021 | LUX | LBY |     968.018 |     210.173 |    501.858 |     127.012 | LUX | 2021 | 241.1512329 | ⋯ | 46.04334 | 63.24680 | 33.34 |    NA | 2.0082192 | 2.827397 | 43.184933 |  0.00000 | 2.534247 | 2.520548 |\n",
       "| 2021 | RUS | SEN | 1307165.125 | 3131615.500 | 789625.305 | 2232100.632 | RUS | 2021 | 138.1677534 | ⋯ | 46.46488 | 24.90279 | 25.69 |  6.92 | 2.3150685 | 3.402740 | 50.753426 |  0.00000 | 2.610959 | 2.561644 |\n",
       "| 2020 | SOM | KOR |    3136.611 |    2045.876 |   5608.268 |    4002.770 | SOM | 2020 |   0.7276796 | ⋯ | 34.65910 | 49.42956 |  1.53 | 31.75 | 0.7622951 | 1.653005 |  2.254098 | 38.72951 | 2.101093 | 2.415301 |\n",
       "| 2020 | TUR | CRI |   57792.285 |   98850.453 |  60858.013 |   86163.873 | TUR | 2020 |  67.6935912 | ⋯ | 54.57148 | 54.39423 |  6.37 | 12.07 | 2.2732241 | 1.218579 | 60.211750 | 37.84153 | 2.040984 | 2.322404 |\n",
       "| 2021 | KNA | BIH |       0.520 |       0.008 |      0.460 |       0.005 | KNA | 2021 | 164.5090411 | ⋯ |       NA | 38.78658 |    NA | 11.50 |        NA | 2.476712 |        NA | 44.96575 |       NA | 1.000000 |\n",
       "| 2022 | AZE | MLT |   22060.938 |   39007.156 |  12476.490 |   33493.400 | AZE | 2022 |  56.3560822 | ⋯ | 49.01625 | 22.13003 |  6.77 | 22.64 | 0.6575342 | 2.323288 |  9.863013 | 15.51370 | 3.000000 | 1.263014 |\n",
       "\n"
      ],
      "text/plain": [
       "  t    i   j   v           q           v19        q19         country t:r_i\n",
       "1 2021 LUX LBY     968.018     210.173    501.858     127.012 LUX     2021 \n",
       "2 2021 RUS SEN 1307165.125 3131615.500 789625.305 2232100.632 RUS     2021 \n",
       "3 2020 SOM KOR    3136.611    2045.876   5608.268    4002.770 SOM     2020 \n",
       "4 2020 TUR CRI   57792.285   98850.453  60858.013   86163.873 TUR     2020 \n",
       "5 2021 KNA BIH       0.520       0.008      0.460       0.005 KNA     2021 \n",
       "6 2022 AZE MLT   22060.938   39007.156  12476.490   33493.400 AZE     2022 \n",
       "  cases       ⋯ StringencyIndex_Average_i StringencyIndex_Average_j\n",
       "1 241.1512329 ⋯ 46.04334                  63.24680                 \n",
       "2 138.1677534 ⋯ 46.46488                  24.90279                 \n",
       "3   0.7276796 ⋯ 34.65910                  49.42956                 \n",
       "4  67.6935912 ⋯ 54.57148                  54.39423                 \n",
       "5 164.5090411 ⋯       NA                  38.78658                 \n",
       "6  56.3560822 ⋯ 49.01625                  22.13003                 \n",
       "  share_1_members_i share_1_members_j H6M_Facial_Coverings_i\n",
       "1 33.34                NA             2.0082192             \n",
       "2 25.69              6.92             2.3150685             \n",
       "3  1.53             31.75             0.7622951             \n",
       "4  6.37             12.07             2.2732241             \n",
       "5    NA             11.50                    NA             \n",
       "6  6.77             22.64             0.6575342             \n",
       "  H6M_Facial_Coverings_j EconomicSupportIndex_i EconomicSupportIndex_j\n",
       "1 2.827397               43.184933               0.00000              \n",
       "2 3.402740               50.753426               0.00000              \n",
       "3 1.653005                2.254098              38.72951              \n",
       "4 1.218579               60.211750              37.84153              \n",
       "5 2.476712                      NA              44.96575              \n",
       "6 2.323288                9.863013              15.51370              \n",
       "  C8EV_International_travel_controls_i C8EV_International_travel_controls_j\n",
       "1 2.534247                             2.520548                            \n",
       "2 2.610959                             2.561644                            \n",
       "3 2.101093                             2.415301                            \n",
       "4 2.040984                             2.322404                            \n",
       "5       NA                             1.000000                            \n",
       "6 3.000000                             1.263014                            "
      ]
     },
     "metadata": {},
     "output_type": "display_data"
    }
   ],
   "source": [
    "# Скачиваю данные и переназываю переменные\n",
    "df = read_parquet('../data/processed_data/trade_hs0_x_covid.parquet.gzip')\n",
    "# Переменная pair нужна, чтобы считать НАС стандартные ошибки\n",
    "df = df %>% mutate(pair = paste(i, j))\n",
    "\n",
    "df$deaths_i = df$deaths\n",
    "df$deaths_j = df$`deaths:r_j`\n",
    "\n",
    "df$median_age_i = df$median_age\n",
    "df$median_age_j = df$`median_age:r_j`\n",
    "\n",
    "df$average_surface_temperature_i = df$average_surface_temperature\n",
    "df$average_surface_temperature_j = df$`average_surface_temperature:r_j`\n",
    "\n",
    "df$C1M_School_closing_i = df$C1M_School_closing\n",
    "df$C1M_School_closing_j = df$`C1M_School_closing:r_j`\n",
    "\n",
    "df$population_density_i = df$population_density\n",
    "df$population_density_j = df$`population_density:r_j`\n",
    "\n",
    "df$StringencyIndex_Average_i = df$StringencyIndex_Average\n",
    "df$StringencyIndex_Average_j = df$`StringencyIndex_Average:r_j`\n",
    "\n",
    "df$share_1_members_i = df$share_1_members\n",
    "df$share_1_members_j = df$`share_1_members:r_j`\n",
    "\n",
    "df$H6M_Facial_Coverings_i = df$H6M_Facial_Coverings\n",
    "df$H6M_Facial_Coverings_j = df$`H6M_Facial_Coverings:r_j`\n",
    "\n",
    "df$EconomicSupportIndex_i = df$EconomicSupportIndex\n",
    "df$EconomicSupportIndex_j = df$`EconomicSupportIndex:r_j`\n",
    "\n",
    "df$C8EV_International_travel_controls_i = df$C8EV_International_travel_controls\n",
    "df$C8EV_International_travel_controls_j = df$`C8EV_International_travel_controls:r_j`\n",
    "df %>% head()"
   ]
  },
  {
   "cell_type": "code",
   "execution_count": 13,
   "metadata": {
    "vscode": {
     "languageId": "r"
    }
   },
   "outputs": [
    {
     "name": "stderr",
     "output_type": "stream",
     "text": [
      "NOTE: 13,568 observations removed because of NA and infinite values (RHS: 13,568).\n",
      "\n"
     ]
    },
    {
     "data": {
      "text/plain": [
       "OLS estimation, Dep. Var.: log(v/v19)\n",
       "Observations: 56,739\n",
       "Fixed-effects: i: 175,  j: 175,  year: 3\n",
       "Standard-errors: Clustered (i & j) \n",
       "                           Estimate Std. Error   t value Pr(>|t|)    \n",
       "log(deaths_i)             -0.011664   0.005799 -2.011600 0.045805 *  \n",
       "log(deaths_j)              0.001111   0.005060  0.219590 0.826448    \n",
       "StringencyIndex_Average_i -0.001249   0.000833 -1.500382 0.135328    \n",
       "StringencyIndex_Average_j -0.001689   0.000789 -2.140834 0.033680 *  \n",
       "EconomicSupportIndex_i    -0.000649   0.000405 -1.604036 0.110520    \n",
       "EconomicSupportIndex_j    -0.000057   0.000354 -0.161464 0.871915    \n",
       "---\n",
       "Signif. codes:  0 '***' 0.001 '**' 0.01 '*' 0.05 '.' 0.1 ' ' 1\n",
       "RMSE: 0.981472     Adj. R2: 0.038429\n",
       "                 Within R2: 4.537e-4"
      ]
     },
     "metadata": {},
     "output_type": "display_data"
    }
   ],
   "source": [
    "# FE (т.е. оценка на панельных данных с использованием внутригрупповой дисперсии)\n",
    "fe_no_iv = feols(log(v/v19) ~ log(deaths_i) + log(deaths_j) +\n",
    "#  C8EV_International_travel_controls_i + C8EV_International_travel_controls_j + \n",
    " StringencyIndex_Average_i + StringencyIndex_Average_j+ \n",
    " EconomicSupportIndex_i + EconomicSupportIndex_j| i + j + year,\n",
    " data = df)\n",
    "fe_no_iv %>% summary(cluster = ~ i+j)"
   ]
  },
  {
   "cell_type": "code",
   "execution_count": 14,
   "metadata": {
    "vscode": {
     "languageId": "r"
    }
   },
   "outputs": [
    {
     "name": "stderr",
     "output_type": "stream",
     "text": [
      "NOTE: 13,568 observations removed because of NA and infinite values (RHS: 13,568).\n",
      "\n"
     ]
    },
    {
     "data": {
      "text/plain": [
       "OLS estimation, Dep. Var.: log(v/v19)\n",
       "Observations: 56,739\n",
       "Fixed-effects: i: 175,  j: 175\n",
       "Standard-errors: Clustered (i & j) \n",
       "                                    Estimate Std. Error   t value   Pr(>|t|)\n",
       "year2021                           -0.078750   0.087680 -0.898147 0.37034849\n",
       "year2022                           -0.138452   0.117884 -1.174482 0.24180688\n",
       "year2020:log(deaths_i)             -0.003142   0.006363 -0.493806 0.62206614\n",
       "year2021:log(deaths_i)             -0.000548   0.006579 -0.083230 0.93376468\n",
       "year2022:log(deaths_i)             -0.016525   0.007314 -2.259296 0.02510570\n",
       "year2020:log(deaths_j)             -0.002142   0.006636 -0.322756 0.74726791\n",
       "year2021:log(deaths_j)             -0.000596   0.006193 -0.096176 0.92349137\n",
       "year2022:log(deaths_j)              0.003218   0.007229  0.445212 0.65671986\n",
       "year2020:StringencyIndex_Average_i -0.004521   0.001335 -3.386177 0.00087616\n",
       "year2021:StringencyIndex_Average_i -0.002291   0.001021 -2.243425 0.02613087\n",
       "year2022:StringencyIndex_Average_i -0.000120   0.001147 -0.104342 0.91701840\n",
       "year2020:StringencyIndex_Average_j -0.003536   0.001426 -2.480183 0.01408244\n",
       "year2021:StringencyIndex_Average_j -0.000617   0.000976 -0.631648 0.52844604\n",
       "year2022:StringencyIndex_Average_j -0.001293   0.001277 -1.012431 0.31273761\n",
       "year2020:EconomicSupportIndex_i    -0.000376   0.000872 -0.430512 0.66735629\n",
       "year2021:EconomicSupportIndex_i    -0.000968   0.000446 -2.168728 0.03146062\n",
       "year2022:EconomicSupportIndex_i    -0.000660   0.000444 -1.486118 0.13905769\n",
       "year2020:EconomicSupportIndex_j    -0.001105   0.000755 -1.462354 0.14544805\n",
       "year2021:EconomicSupportIndex_j     0.000067   0.000455  0.146113 0.88400107\n",
       "year2022:EconomicSupportIndex_j     0.000145   0.000396  0.365803 0.71495663\n",
       "                                      \n",
       "year2021                              \n",
       "year2022                              \n",
       "year2020:log(deaths_i)                \n",
       "year2021:log(deaths_i)                \n",
       "year2022:log(deaths_i)             *  \n",
       "year2020:log(deaths_j)                \n",
       "year2021:log(deaths_j)                \n",
       "year2022:log(deaths_j)                \n",
       "year2020:StringencyIndex_Average_i ***\n",
       "year2021:StringencyIndex_Average_i *  \n",
       "year2022:StringencyIndex_Average_i    \n",
       "year2020:StringencyIndex_Average_j *  \n",
       "year2021:StringencyIndex_Average_j    \n",
       "year2022:StringencyIndex_Average_j    \n",
       "year2020:EconomicSupportIndex_i       \n",
       "year2021:EconomicSupportIndex_i    *  \n",
       "year2022:EconomicSupportIndex_i       \n",
       "year2020:EconomicSupportIndex_j       \n",
       "year2021:EconomicSupportIndex_j       \n",
       "year2022:EconomicSupportIndex_j       \n",
       "---\n",
       "Signif. codes:  0 '***' 0.001 '**' 0.01 '*' 0.05 '.' 0.1 ' ' 1\n",
       "RMSE: 0.98102     Adj. R2: 0.039109\n",
       "                Within R2: 0.016655"
      ]
     },
     "metadata": {},
     "output_type": "display_data"
    }
   ],
   "source": [
    "# Добавляю гетерогенность эффектов во времени\n",
    "heterogenous_fe = feols(log(v/v19) ~ year/log(deaths_i) + year/log(deaths_j) +\n",
    "# year/C8EV_International_travel_controls_i + year/C8EV_International_travel_controls_j + \n",
    "year/StringencyIndex_Average_i + year/StringencyIndex_Average_j + \n",
    "year/EconomicSupportIndex_i + year/EconomicSupportIndex_j|\n",
    "i + j ,\n",
    "data = df)\n",
    "heterogenous_fe %>% summary(cluster = ~ i+j)"
   ]
  },
  {
   "cell_type": "markdown",
   "metadata": {},
   "source": [
    "### Инструментальные переменные на панельных данных"
   ]
  },
  {
   "cell_type": "code",
   "execution_count": 15,
   "metadata": {
    "vscode": {
     "languageId": "r"
    }
   },
   "outputs": [
    {
     "name": "stderr",
     "output_type": "stream",
     "text": [
      "NOTE: 13,906 observations removed because of NA and infinite values (RHS: 9,802, IV: 6,067/10,661).\n",
      "\n"
     ]
    },
    {
     "data": {
      "text/plain": [
       "TSLS estimation - Dep. Var.: log(v/v19)\n",
       "                  Endo.    : log(deaths_i), log(deaths_j)\n",
       "                  Instr.   : C1M_School_closing_i, C1M_School_closing_j, median_age_i, median_age_j, population_density_i, population_density_j\n",
       "Second stage: Dep. Var.: log(v/v19)\n",
       "Observations: 56,401\n",
       "Fixed-effects: year: 3,  i: 175,  j: 175\n",
       "Standard-errors: Clustered (i & j) \n",
       "                           Estimate Std. Error   t value Pr(>|t|)    \n",
       "fit_log(deaths_i)         -0.065089   0.033134 -1.964411 0.051075 .  \n",
       "fit_log(deaths_j)          0.055612   0.038818  1.432637 0.153756    \n",
       "StringencyIndex_Average_i -0.000047   0.001174 -0.040263 0.967929    \n",
       "StringencyIndex_Average_j -0.002824   0.001325 -2.132414 0.034375 *  \n",
       "EconomicSupportIndex_i    -0.000745   0.000459 -1.621591 0.106702    \n",
       "EconomicSupportIndex_j     0.000072   0.000441  0.164377 0.869625    \n",
       "---\n",
       "Signif. codes:  0 '***' 0.001 '**' 0.01 '*' 0.05 '.' 0.1 ' ' 1\n",
       "RMSE: 0.983068     Adj. R2:  0.034393\n",
       "                 Within R2: -0.003789\n",
       "F-test (1st stage), log(deaths_i): stat = 339.6    , p < 2.2e-16 , on 6 and 56,042 DoF.\n",
       "F-test (1st stage), log(deaths_j): stat = 335.5    , p < 2.2e-16 , on 6 and 56,042 DoF.\n",
       "                       Wu-Hausman: stat =   3.91213, p = 0.020003, on 2 and 56,042 DoF.\n",
       "                           Sargan: stat =   7.31003, p = 0.120384, on 4 DoF."
      ]
     },
     "metadata": {},
     "output_type": "display_data"
    }
   ],
   "source": [
    "# Спецификация с фиксированными эффектами, куда я добавил инструменты, чтобы убрать потенциальную двустороннюю связь. \n",
    "\n",
    "fe_iv = feols(log(v/v19) ~  1 +\n",
    "#  C8EV_International_travel_controls_i + C8EV_International_travel_controls_j +\n",
    " StringencyIndex_Average_i + StringencyIndex_Average_j+\n",
    " EconomicSupportIndex_i + EconomicSupportIndex_j\n",
    " | year+i+j|\n",
    " log(deaths_i) + log(deaths_j) ~ \n",
    "# H6M_Facial_Coverings_i+H6M_Facial_Coverings_j\n",
    "# +\n",
    "C1M_School_closing_i+C1M_School_closing_j\n",
    "+\n",
    "median_age_i + median_age_j\n",
    "+\n",
    "population_density_i + population_density_j\n",
    "# +\n",
    "# average_surface_temperature_i + average_surface_temperature_j # Добавляет пропусков\n",
    "\n",
    " ,\n",
    " data = df\n",
    " )\n",
    "fe_iv %>% summary(cluster = ~ i+j)"
   ]
  },
  {
   "cell_type": "markdown",
   "metadata": {},
   "source": [
    "### Экспорт результатов в латех"
   ]
  },
  {
   "cell_type": "code",
   "execution_count": 16,
   "metadata": {
    "vscode": {
     "languageId": "r"
    }
   },
   "outputs": [
    {
     "data": {
      "text/html": [
       "<table class=\"dataframe\">\n",
       "<caption>A etable_df: 41 × 4</caption>\n",
       "<thead>\n",
       "\t<tr><th></th><th scope=col></th><th scope=col>fe_no_iv</th><th scope=col>heterogenous_fe</th><th scope=col>fe_iv</th></tr>\n",
       "\t<tr><th></th><th scope=col>&lt;chr&gt;</th><th scope=col>&lt;chr&gt;</th><th scope=col>&lt;chr&gt;</th><th scope=col>&lt;chr&gt;</th></tr>\n",
       "</thead>\n",
       "<tbody>\n",
       "\t<tr><th scope=row>1</th><td>Dependent Var.:                     </td><td>log(v/v19)       </td><td>log(v/v19)         </td><td>log(v/v19)       </td></tr>\n",
       "\t<tr><th scope=row>2</th><td>                                    </td><td>                 </td><td>                   </td><td>                 </td></tr>\n",
       "\t<tr><th scope=row>3</th><td>log(deaths_i)                       </td><td>-0.0117* (0.0058)</td><td>                   </td><td>-0.0651. (0.0331)</td></tr>\n",
       "\t<tr><th scope=row>4</th><td>log(deaths_j)                       </td><td>0.0011 (0.0051)  </td><td>                   </td><td>0.0556 (0.0388)  </td></tr>\n",
       "\t<tr><th scope=row>5</th><td>StringencyIndex_Average_i           </td><td>-0.0012 (0.0008) </td><td>                   </td><td>-4.73e-5 (0.0012)</td></tr>\n",
       "\t<tr><th scope=row>6</th><td>StringencyIndex_Average_j           </td><td>-0.0017* (0.0008)</td><td>                   </td><td>-0.0028* (0.0013)</td></tr>\n",
       "\t<tr><th scope=row>7</th><td>EconomicSupportIndex_i              </td><td>-0.0006 (0.0004) </td><td>                   </td><td>-0.0007 (0.0005) </td></tr>\n",
       "\t<tr><th scope=row>8</th><td>EconomicSupportIndex_j              </td><td>-5.71e-5 (0.0004)</td><td>                   </td><td>7.24e-5 (0.0004) </td></tr>\n",
       "\t<tr><th scope=row>9</th><td>year2021                            </td><td>                 </td><td>-0.0788 (0.0877)   </td><td>                 </td></tr>\n",
       "\t<tr><th scope=row>10</th><td>year2022                            </td><td>                 </td><td>-0.1385 (0.1179)   </td><td>                 </td></tr>\n",
       "\t<tr><th scope=row>11</th><td>year2020 x log(deaths_i)            </td><td>                 </td><td>-0.0031 (0.0064)   </td><td>                 </td></tr>\n",
       "\t<tr><th scope=row>12</th><td>year2021 x log(deaths_i)            </td><td>                 </td><td>-0.0005 (0.0066)   </td><td>                 </td></tr>\n",
       "\t<tr><th scope=row>13</th><td>year2022 x log(deaths_i)            </td><td>                 </td><td>-0.0165* (0.0073)  </td><td>                 </td></tr>\n",
       "\t<tr><th scope=row>14</th><td>year2020 x log(deaths_j)            </td><td>                 </td><td>-0.0021 (0.0066)   </td><td>                 </td></tr>\n",
       "\t<tr><th scope=row>15</th><td>year2021 x log(deaths_j)            </td><td>                 </td><td>-0.0006 (0.0062)   </td><td>                 </td></tr>\n",
       "\t<tr><th scope=row>16</th><td>year2022 x log(deaths_j)            </td><td>                 </td><td>0.0032 (0.0072)    </td><td>                 </td></tr>\n",
       "\t<tr><th scope=row>17</th><td>year2020 x StringencyIndex_Average_i</td><td>                 </td><td>-0.0045*** (0.0013)</td><td>                 </td></tr>\n",
       "\t<tr><th scope=row>18</th><td>year2021 x StringencyIndex_Average_i</td><td>                 </td><td>-0.0023* (0.0010)  </td><td>                 </td></tr>\n",
       "\t<tr><th scope=row>19</th><td>year2022 x StringencyIndex_Average_i</td><td>                 </td><td>-0.0001 (0.0011)   </td><td>                 </td></tr>\n",
       "\t<tr><th scope=row>20</th><td>year2020 x StringencyIndex_Average_j</td><td>                 </td><td>-0.0035* (0.0014)  </td><td>                 </td></tr>\n",
       "\t<tr><th scope=row>21</th><td>year2021 x StringencyIndex_Average_j</td><td>                 </td><td>-0.0006 (0.0010)   </td><td>                 </td></tr>\n",
       "\t<tr><th scope=row>22</th><td>year2022 x StringencyIndex_Average_j</td><td>                 </td><td>-0.0013 (0.0013)   </td><td>                 </td></tr>\n",
       "\t<tr><th scope=row>23</th><td>year2020 x EconomicSupportIndex_i   </td><td>                 </td><td>-0.0004 (0.0009)   </td><td>                 </td></tr>\n",
       "\t<tr><th scope=row>24</th><td>year2021 x EconomicSupportIndex_i   </td><td>                 </td><td>-0.0010* (0.0004)  </td><td>                 </td></tr>\n",
       "\t<tr><th scope=row>25</th><td>year2022 x EconomicSupportIndex_i   </td><td>                 </td><td>-0.0007 (0.0004)   </td><td>                 </td></tr>\n",
       "\t<tr><th scope=row>26</th><td>year2020 x EconomicSupportIndex_j   </td><td>                 </td><td>-0.0011 (0.0008)   </td><td>                 </td></tr>\n",
       "\t<tr><th scope=row>27</th><td>year2021 x EconomicSupportIndex_j   </td><td>                 </td><td>6.66e-5 (0.0005)   </td><td>                 </td></tr>\n",
       "\t<tr><th scope=row>28</th><td>year2022 x EconomicSupportIndex_j   </td><td>                 </td><td>0.0001 (0.0004)    </td><td>                 </td></tr>\n",
       "\t<tr><th scope=row>29</th><td>Fixed-Effects:                      </td><td>-----------------</td><td>-------------------</td><td>-----------------</td></tr>\n",
       "\t<tr><th scope=row>30</th><td>i                                   </td><td>Yes              </td><td>Yes                </td><td>Yes              </td></tr>\n",
       "\t<tr><th scope=row>31</th><td>j                                   </td><td>Yes              </td><td>Yes                </td><td>Yes              </td></tr>\n",
       "\t<tr><th scope=row>32</th><td>year                                </td><td>Yes              </td><td>No                 </td><td>Yes              </td></tr>\n",
       "\t<tr><th scope=row>33</th><td>____________________________________</td><td>_________________</td><td>___________________</td><td>_________________</td></tr>\n",
       "\t<tr><th scope=row>34</th><td><span style=white-space:pre-wrap>S.E.: Clustered                     </span></td><td><span style=white-space:pre-wrap>by: i &amp; j        </span></td><td><span style=white-space:pre-wrap>by: i &amp; j          </span></td><td><span style=white-space:pre-wrap>by: i &amp; j        </span></td></tr>\n",
       "\t<tr><th scope=row>35</th><td>Observations                        </td><td>56,739           </td><td>56,739             </td><td>56,401           </td></tr>\n",
       "\t<tr><th scope=row>36</th><td>R2                                  </td><td>0.04446          </td><td>0.04534            </td><td>0.04049          </td></tr>\n",
       "\t<tr><th scope=row>37</th><td>Within R2                           </td><td>0.00045          </td><td>0.01665            </td><td>-0.00379         </td></tr>\n",
       "\t<tr><th scope=row>38</th><td>Sargan, p-value                     </td><td>--               </td><td>--                 </td><td>0.12038          </td></tr>\n",
       "\t<tr><th scope=row>39</th><td>Wu-Hausman, p-value                 </td><td>--               </td><td>--                 </td><td>0.02000          </td></tr>\n",
       "\t<tr><th scope=row>40</th><td>F-test (1st stage), log(deaths_i)   </td><td>--               </td><td>--                 </td><td>339.63           </td></tr>\n",
       "\t<tr><th scope=row>41</th><td>F-test (1st stage), log(deaths_j)   </td><td>--               </td><td>--                 </td><td>335.47           </td></tr>\n",
       "</tbody>\n",
       "</table>\n"
      ],
      "text/latex": [
       "A etable\\_df: 41 × 4\n",
       "\\begin{tabular}{r|llll}\n",
       "  &  & fe\\_no\\_iv & heterogenous\\_fe & fe\\_iv\\\\\n",
       "  & <chr> & <chr> & <chr> & <chr>\\\\\n",
       "\\hline\n",
       "\t1 & Dependent Var.:                      & log(v/v19)        & log(v/v19)          & log(v/v19)       \\\\\n",
       "\t2 &                                      &                   &                     &                  \\\\\n",
       "\t3 & log(deaths\\_i)                        & -0.0117* (0.0058) &                     & -0.0651. (0.0331)\\\\\n",
       "\t4 & log(deaths\\_j)                        & 0.0011 (0.0051)   &                     & 0.0556 (0.0388)  \\\\\n",
       "\t5 & StringencyIndex\\_Average\\_i            & -0.0012 (0.0008)  &                     & -4.73e-5 (0.0012)\\\\\n",
       "\t6 & StringencyIndex\\_Average\\_j            & -0.0017* (0.0008) &                     & -0.0028* (0.0013)\\\\\n",
       "\t7 & EconomicSupportIndex\\_i               & -0.0006 (0.0004)  &                     & -0.0007 (0.0005) \\\\\n",
       "\t8 & EconomicSupportIndex\\_j               & -5.71e-5 (0.0004) &                     & 7.24e-5 (0.0004) \\\\\n",
       "\t9 & year2021                             &                   & -0.0788 (0.0877)    &                  \\\\\n",
       "\t10 & year2022                             &                   & -0.1385 (0.1179)    &                  \\\\\n",
       "\t11 & year2020 x log(deaths\\_i)             &                   & -0.0031 (0.0064)    &                  \\\\\n",
       "\t12 & year2021 x log(deaths\\_i)             &                   & -0.0005 (0.0066)    &                  \\\\\n",
       "\t13 & year2022 x log(deaths\\_i)             &                   & -0.0165* (0.0073)   &                  \\\\\n",
       "\t14 & year2020 x log(deaths\\_j)             &                   & -0.0021 (0.0066)    &                  \\\\\n",
       "\t15 & year2021 x log(deaths\\_j)             &                   & -0.0006 (0.0062)    &                  \\\\\n",
       "\t16 & year2022 x log(deaths\\_j)             &                   & 0.0032 (0.0072)     &                  \\\\\n",
       "\t17 & year2020 x StringencyIndex\\_Average\\_i &                   & -0.0045*** (0.0013) &                  \\\\\n",
       "\t18 & year2021 x StringencyIndex\\_Average\\_i &                   & -0.0023* (0.0010)   &                  \\\\\n",
       "\t19 & year2022 x StringencyIndex\\_Average\\_i &                   & -0.0001 (0.0011)    &                  \\\\\n",
       "\t20 & year2020 x StringencyIndex\\_Average\\_j &                   & -0.0035* (0.0014)   &                  \\\\\n",
       "\t21 & year2021 x StringencyIndex\\_Average\\_j &                   & -0.0006 (0.0010)    &                  \\\\\n",
       "\t22 & year2022 x StringencyIndex\\_Average\\_j &                   & -0.0013 (0.0013)    &                  \\\\\n",
       "\t23 & year2020 x EconomicSupportIndex\\_i    &                   & -0.0004 (0.0009)    &                  \\\\\n",
       "\t24 & year2021 x EconomicSupportIndex\\_i    &                   & -0.0010* (0.0004)   &                  \\\\\n",
       "\t25 & year2022 x EconomicSupportIndex\\_i    &                   & -0.0007 (0.0004)    &                  \\\\\n",
       "\t26 & year2020 x EconomicSupportIndex\\_j    &                   & -0.0011 (0.0008)    &                  \\\\\n",
       "\t27 & year2021 x EconomicSupportIndex\\_j    &                   & 6.66e-5 (0.0005)    &                  \\\\\n",
       "\t28 & year2022 x EconomicSupportIndex\\_j    &                   & 0.0001 (0.0004)     &                  \\\\\n",
       "\t29 & Fixed-Effects:                       & ----------------- & ------------------- & -----------------\\\\\n",
       "\t30 & i                                    & Yes               & Yes                 & Yes              \\\\\n",
       "\t31 & j                                    & Yes               & Yes                 & Yes              \\\\\n",
       "\t32 & year                                 & Yes               & No                  & Yes              \\\\\n",
       "\t33 & \\_\\_\\_\\_\\_\\_\\_\\_\\_\\_\\_\\_\\_\\_\\_\\_\\_\\_\\_\\_\\_\\_\\_\\_\\_\\_\\_\\_\\_\\_\\_\\_\\_\\_\\_\\_ & \\_\\_\\_\\_\\_\\_\\_\\_\\_\\_\\_\\_\\_\\_\\_\\_\\_ & \\_\\_\\_\\_\\_\\_\\_\\_\\_\\_\\_\\_\\_\\_\\_\\_\\_\\_\\_ & \\_\\_\\_\\_\\_\\_\\_\\_\\_\\_\\_\\_\\_\\_\\_\\_\\_\\\\\n",
       "\t34 & S.E.: Clustered                      & by: i \\& j         & by: i \\& j           & by: i \\& j        \\\\\n",
       "\t35 & Observations                         & 56,739            & 56,739              & 56,401           \\\\\n",
       "\t36 & R2                                   & 0.04446           & 0.04534             & 0.04049          \\\\\n",
       "\t37 & Within R2                            & 0.00045           & 0.01665             & -0.00379         \\\\\n",
       "\t38 & Sargan, p-value                      & --                & --                  & 0.12038          \\\\\n",
       "\t39 & Wu-Hausman, p-value                  & --                & --                  & 0.02000          \\\\\n",
       "\t40 & F-test (1st stage), log(deaths\\_i)    & --                & --                  & 339.63           \\\\\n",
       "\t41 & F-test (1st stage), log(deaths\\_j)    & --                & --                  & 335.47           \\\\\n",
       "\\end{tabular}\n"
      ],
      "text/markdown": [
       "\n",
       "A etable_df: 41 × 4\n",
       "\n",
       "| <!--/--> | <!----> &lt;chr&gt; | fe_no_iv &lt;chr&gt; | heterogenous_fe &lt;chr&gt; | fe_iv &lt;chr&gt; |\n",
       "|---|---|---|---|---|\n",
       "| 1 | Dependent Var.:                      | log(v/v19)        | log(v/v19)          | log(v/v19)        |\n",
       "| 2 | <!----> | <!----> | <!----> | <!----> |\n",
       "| 3 | log(deaths_i)                        | -0.0117* (0.0058) | <!----> | -0.0651. (0.0331) |\n",
       "| 4 | log(deaths_j)                        | 0.0011 (0.0051)   | <!----> | 0.0556 (0.0388)   |\n",
       "| 5 | StringencyIndex_Average_i            | -0.0012 (0.0008)  | <!----> | -4.73e-5 (0.0012) |\n",
       "| 6 | StringencyIndex_Average_j            | -0.0017* (0.0008) | <!----> | -0.0028* (0.0013) |\n",
       "| 7 | EconomicSupportIndex_i               | -0.0006 (0.0004)  | <!----> | -0.0007 (0.0005)  |\n",
       "| 8 | EconomicSupportIndex_j               | -5.71e-5 (0.0004) | <!----> | 7.24e-5 (0.0004)  |\n",
       "| 9 | year2021                             | <!----> | -0.0788 (0.0877)    | <!----> |\n",
       "| 10 | year2022                             | <!----> | -0.1385 (0.1179)    | <!----> |\n",
       "| 11 | year2020 x log(deaths_i)             | <!----> | -0.0031 (0.0064)    | <!----> |\n",
       "| 12 | year2021 x log(deaths_i)             | <!----> | -0.0005 (0.0066)    | <!----> |\n",
       "| 13 | year2022 x log(deaths_i)             | <!----> | -0.0165* (0.0073)   | <!----> |\n",
       "| 14 | year2020 x log(deaths_j)             | <!----> | -0.0021 (0.0066)    | <!----> |\n",
       "| 15 | year2021 x log(deaths_j)             | <!----> | -0.0006 (0.0062)    | <!----> |\n",
       "| 16 | year2022 x log(deaths_j)             | <!----> | 0.0032 (0.0072)     | <!----> |\n",
       "| 17 | year2020 x StringencyIndex_Average_i | <!----> | -0.0045*** (0.0013) | <!----> |\n",
       "| 18 | year2021 x StringencyIndex_Average_i | <!----> | -0.0023* (0.0010)   | <!----> |\n",
       "| 19 | year2022 x StringencyIndex_Average_i | <!----> | -0.0001 (0.0011)    | <!----> |\n",
       "| 20 | year2020 x StringencyIndex_Average_j | <!----> | -0.0035* (0.0014)   | <!----> |\n",
       "| 21 | year2021 x StringencyIndex_Average_j | <!----> | -0.0006 (0.0010)    | <!----> |\n",
       "| 22 | year2022 x StringencyIndex_Average_j | <!----> | -0.0013 (0.0013)    | <!----> |\n",
       "| 23 | year2020 x EconomicSupportIndex_i    | <!----> | -0.0004 (0.0009)    | <!----> |\n",
       "| 24 | year2021 x EconomicSupportIndex_i    | <!----> | -0.0010* (0.0004)   | <!----> |\n",
       "| 25 | year2022 x EconomicSupportIndex_i    | <!----> | -0.0007 (0.0004)    | <!----> |\n",
       "| 26 | year2020 x EconomicSupportIndex_j    | <!----> | -0.0011 (0.0008)    | <!----> |\n",
       "| 27 | year2021 x EconomicSupportIndex_j    | <!----> | 6.66e-5 (0.0005)    | <!----> |\n",
       "| 28 | year2022 x EconomicSupportIndex_j    | <!----> | 0.0001 (0.0004)     | <!----> |\n",
       "| 29 | Fixed-Effects:                       | ----------------- | ------------------- | ----------------- |\n",
       "| 30 | i                                    | Yes               | Yes                 | Yes               |\n",
       "| 31 | j                                    | Yes               | Yes                 | Yes               |\n",
       "| 32 | year                                 | Yes               | No                  | Yes               |\n",
       "| 33 | ____________________________________ | _________________ | ___________________ | _________________ |\n",
       "| 34 | S.E.: Clustered                      | by: i &amp; j         | by: i &amp; j           | by: i &amp; j         |\n",
       "| 35 | Observations                         | 56,739            | 56,739              | 56,401            |\n",
       "| 36 | R2                                   | 0.04446           | 0.04534             | 0.04049           |\n",
       "| 37 | Within R2                            | 0.00045           | 0.01665             | -0.00379          |\n",
       "| 38 | Sargan, p-value                      | --                | --                  | 0.12038           |\n",
       "| 39 | Wu-Hausman, p-value                  | --                | --                  | 0.02000           |\n",
       "| 40 | F-test (1st stage), log(deaths_i)    | --                | --                  | 339.63            |\n",
       "| 41 | F-test (1st stage), log(deaths_j)    | --                | --                  | 335.47            |\n",
       "\n"
      ],
      "text/plain": [
       "                                        fe_no_iv          heterogenous_fe    \n",
       "1  Dependent Var.:                      log(v/v19)        log(v/v19)         \n",
       "2                                                                            \n",
       "3  log(deaths_i)                        -0.0117* (0.0058)                    \n",
       "4  log(deaths_j)                        0.0011 (0.0051)                      \n",
       "5  StringencyIndex_Average_i            -0.0012 (0.0008)                     \n",
       "6  StringencyIndex_Average_j            -0.0017* (0.0008)                    \n",
       "7  EconomicSupportIndex_i               -0.0006 (0.0004)                     \n",
       "8  EconomicSupportIndex_j               -5.71e-5 (0.0004)                    \n",
       "9  year2021                                               -0.0788 (0.0877)   \n",
       "10 year2022                                               -0.1385 (0.1179)   \n",
       "11 year2020 x log(deaths_i)                               -0.0031 (0.0064)   \n",
       "12 year2021 x log(deaths_i)                               -0.0005 (0.0066)   \n",
       "13 year2022 x log(deaths_i)                               -0.0165* (0.0073)  \n",
       "14 year2020 x log(deaths_j)                               -0.0021 (0.0066)   \n",
       "15 year2021 x log(deaths_j)                               -0.0006 (0.0062)   \n",
       "16 year2022 x log(deaths_j)                               0.0032 (0.0072)    \n",
       "17 year2020 x StringencyIndex_Average_i                   -0.0045*** (0.0013)\n",
       "18 year2021 x StringencyIndex_Average_i                   -0.0023* (0.0010)  \n",
       "19 year2022 x StringencyIndex_Average_i                   -0.0001 (0.0011)   \n",
       "20 year2020 x StringencyIndex_Average_j                   -0.0035* (0.0014)  \n",
       "21 year2021 x StringencyIndex_Average_j                   -0.0006 (0.0010)   \n",
       "22 year2022 x StringencyIndex_Average_j                   -0.0013 (0.0013)   \n",
       "23 year2020 x EconomicSupportIndex_i                      -0.0004 (0.0009)   \n",
       "24 year2021 x EconomicSupportIndex_i                      -0.0010* (0.0004)  \n",
       "25 year2022 x EconomicSupportIndex_i                      -0.0007 (0.0004)   \n",
       "26 year2020 x EconomicSupportIndex_j                      -0.0011 (0.0008)   \n",
       "27 year2021 x EconomicSupportIndex_j                      6.66e-5 (0.0005)   \n",
       "28 year2022 x EconomicSupportIndex_j                      0.0001 (0.0004)    \n",
       "29 Fixed-Effects:                       ----------------- -------------------\n",
       "30 i                                    Yes               Yes                \n",
       "31 j                                    Yes               Yes                \n",
       "32 year                                 Yes               No                 \n",
       "33 ____________________________________ _________________ ___________________\n",
       "34 S.E.: Clustered                      by: i & j         by: i & j          \n",
       "35 Observations                         56,739            56,739             \n",
       "36 R2                                   0.04446           0.04534            \n",
       "37 Within R2                            0.00045           0.01665            \n",
       "38 Sargan, p-value                      --                --                 \n",
       "39 Wu-Hausman, p-value                  --                --                 \n",
       "40 F-test (1st stage), log(deaths_i)    --                --                 \n",
       "41 F-test (1st stage), log(deaths_j)    --                --                 \n",
       "   fe_iv            \n",
       "1  log(v/v19)       \n",
       "2                   \n",
       "3  -0.0651. (0.0331)\n",
       "4  0.0556 (0.0388)  \n",
       "5  -4.73e-5 (0.0012)\n",
       "6  -0.0028* (0.0013)\n",
       "7  -0.0007 (0.0005) \n",
       "8  7.24e-5 (0.0004) \n",
       "9                   \n",
       "10                  \n",
       "11                  \n",
       "12                  \n",
       "13                  \n",
       "14                  \n",
       "15                  \n",
       "16                  \n",
       "17                  \n",
       "18                  \n",
       "19                  \n",
       "20                  \n",
       "21                  \n",
       "22                  \n",
       "23                  \n",
       "24                  \n",
       "25                  \n",
       "26                  \n",
       "27                  \n",
       "28                  \n",
       "29 -----------------\n",
       "30 Yes              \n",
       "31 Yes              \n",
       "32 Yes              \n",
       "33 _________________\n",
       "34 by: i & j        \n",
       "35 56,401           \n",
       "36 0.04049          \n",
       "37 -0.00379         \n",
       "38 0.12038          \n",
       "39 0.02000          \n",
       "40 339.63           \n",
       "41 335.47           "
      ]
     },
     "metadata": {},
     "output_type": "display_data"
    }
   ],
   "source": [
    "etable(fe_no_iv, heterogenous_fe, fe_iv, vcov = ~i+j, signif.code=signif.code, fitstat=~ . + sargan.p + wh.p + ivf, tex=FALSE)"
   ]
  },
  {
   "cell_type": "code",
   "execution_count": 17,
   "metadata": {
    "vscode": {
     "languageId": "r"
    }
   },
   "outputs": [
    {
     "data": {
      "text/plain": [
       "\\begingroup\n",
       "\\centering\n",
       "\\begin{tabular}{lccc}\n",
       "   \\tabularnewline \\midrule \\midrule\n",
       "   Dependent Variable: & \\multicolumn{3}{c}{log(v/v19)}\\\\\n",
       "   Model:                                           & (1)                    & (2)                   & (3)\\\\  \n",
       "   \\midrule\n",
       "   \\emph{Variables}\\\\\n",
       "   log(deaths\\_i)                                   & -0.0117$^{*}$          &                       & -0.0651$^{.}$\\\\   \n",
       "                                                    & (0.0058)               &                       & (0.0331)\\\\   \n",
       "   log(deaths\\_j)                                   & 0.0011                 &                       & 0.0556\\\\   \n",
       "                                                    & (0.0051)               &                       & (0.0388)\\\\   \n",
       "   StringencyIndex\\_Average\\_i                      & -0.0012                &                       & $-4.73\\times 10^{-5}$\\\\    \n",
       "                                                    & (0.0008)               &                       & (0.0012)\\\\   \n",
       "   StringencyIndex\\_Average\\_j                      & -0.0017$^{*}$          &                       & -0.0028$^{*}$\\\\   \n",
       "                                                    & (0.0008)               &                       & (0.0013)\\\\   \n",
       "   EconomicSupportIndex\\_i                          & -0.0006                &                       & -0.0007\\\\   \n",
       "                                                    & (0.0004)               &                       & (0.0005)\\\\   \n",
       "   EconomicSupportIndex\\_j                          & $-5.71\\times 10^{-5}$  &                       & $7.24\\times 10^{-5}$\\\\    \n",
       "                                                    & (0.0004)               &                       & (0.0004)\\\\   \n",
       "   year2021                                         &                        & -0.0788               &   \\\\   \n",
       "                                                    &                        & (0.0877)              &   \\\\   \n",
       "   year2022                                         &                        & -0.1385               &   \\\\   \n",
       "                                                    &                        & (0.1179)              &   \\\\   \n",
       "   year2020 $\\times$ log(deaths\\_i)                 &                        & -0.0031               &   \\\\   \n",
       "                                                    &                        & (0.0064)              &   \\\\   \n",
       "   year2021 $\\times$ log(deaths\\_i)                 &                        & -0.0005               &   \\\\   \n",
       "                                                    &                        & (0.0066)              &   \\\\   \n",
       "   year2022 $\\times$ log(deaths\\_i)                 &                        & -0.0165$^{*}$         &   \\\\   \n",
       "                                                    &                        & (0.0073)              &   \\\\   \n",
       "   year2020 $\\times$ log(deaths\\_j)                 &                        & -0.0021               &   \\\\   \n",
       "                                                    &                        & (0.0066)              &   \\\\   \n",
       "   year2021 $\\times$ log(deaths\\_j)                 &                        & -0.0006               &   \\\\   \n",
       "                                                    &                        & (0.0062)              &   \\\\   \n",
       "   year2022 $\\times$ log(deaths\\_j)                 &                        & 0.0032                &   \\\\   \n",
       "                                                    &                        & (0.0072)              &   \\\\   \n",
       "   year2020 $\\times$ StringencyIndex\\_Average\\_i    &                        & -0.0045$^{***}$       &   \\\\   \n",
       "                                                    &                        & (0.0013)              &   \\\\   \n",
       "   year2021 $\\times$ StringencyIndex\\_Average\\_i    &                        & -0.0023$^{*}$         &   \\\\   \n",
       "                                                    &                        & (0.0010)              &   \\\\   \n",
       "   year2022 $\\times$ StringencyIndex\\_Average\\_i    &                        & -0.0001               &   \\\\   \n",
       "                                                    &                        & (0.0011)              &   \\\\   \n",
       "   year2020 $\\times$ StringencyIndex\\_Average\\_j    &                        & -0.0035$^{*}$         &   \\\\   \n",
       "                                                    &                        & (0.0014)              &   \\\\   \n",
       "   year2021 $\\times$ StringencyIndex\\_Average\\_j    &                        & -0.0006               &   \\\\   \n",
       "                                                    &                        & (0.0010)              &   \\\\   \n",
       "   year2022 $\\times$ StringencyIndex\\_Average\\_j    &                        & -0.0013               &   \\\\   \n",
       "                                                    &                        & (0.0013)              &   \\\\   \n",
       "   year2020 $\\times$ EconomicSupportIndex\\_i        &                        & -0.0004               &   \\\\   \n",
       "                                                    &                        & (0.0009)              &   \\\\   \n",
       "   year2021 $\\times$ EconomicSupportIndex\\_i        &                        & -0.0010$^{*}$         &   \\\\   \n",
       "                                                    &                        & (0.0004)              &   \\\\   \n",
       "   year2022 $\\times$ EconomicSupportIndex\\_i        &                        & -0.0007               &   \\\\   \n",
       "                                                    &                        & (0.0004)              &   \\\\   \n",
       "   year2020 $\\times$ EconomicSupportIndex\\_j        &                        & -0.0011               &   \\\\   \n",
       "                                                    &                        & (0.0008)              &   \\\\   \n",
       "   year2021 $\\times$ EconomicSupportIndex\\_j        &                        & $6.66\\times 10^{-5}$  &   \\\\   \n",
       "                                                    &                        & (0.0005)              &   \\\\   \n",
       "   year2022 $\\times$ EconomicSupportIndex\\_j        &                        & 0.0001                &   \\\\   \n",
       "                                                    &                        & (0.0004)              &   \\\\   \n",
       "   \\midrule\n",
       "   \\emph{Fixed-effects}\\\\\n",
       "   i                                                & Yes                    & Yes                   & Yes\\\\  \n",
       "   j                                                & Yes                    & Yes                   & Yes\\\\  \n",
       "   year                                             & Yes                    &                       & Yes\\\\  \n",
       "   \\midrule\n",
       "   \\emph{Fit statistics}\\\\\n",
       "   Observations                                     & 56,739                 & 56,739                & 56,401\\\\  \n",
       "   R$^2$                                            & 0.04446                & 0.04534               & 0.04049\\\\  \n",
       "   Within R$^2$                                     & 0.00045                & 0.01665               & -0.00379\\\\  \n",
       "   Sargan, p-value                                  &                        &                       & 0.12038\\\\  \n",
       "   Wu-Hausman, p-value                              &                        &                       & 0.02000\\\\  \n",
       "   F-test (1st stage), log(deaths\\_i)               &                        &                       & 339.63\\\\  \n",
       "   F-test (1st stage), log(deaths\\_j)               &                        &                       & 335.47\\\\  \n",
       "   \\midrule \\midrule\n",
       "   \\multicolumn{4}{l}{\\emph{Clustered (i \\& j) standard-errors in parentheses}}\\\\\n",
       "   \\multicolumn{4}{l}{\\emph{Signif. Codes: ***: 0.001, **: 0.01, *: 0.05, .: 0.1}}\\\\\n",
       "\\end{tabular}\n",
       "\\par\\endgroup"
      ]
     },
     "metadata": {},
     "output_type": "display_data"
    }
   ],
   "source": [
    "etable(fe_no_iv, heterogenous_fe, fe_iv, vcov = ~i+j, signif.code=signif.code, fitstat=~ . + sargan.p + wh.p + ivf, tex=TRUE)"
   ]
  }
 ],
 "metadata": {
  "kernelspec": {
   "display_name": "R",
   "language": "R",
   "name": "ir"
  },
  "language_info": {
   "codemirror_mode": "r",
   "file_extension": ".r",
   "mimetype": "text/x-r-source",
   "name": "R",
   "pygments_lexer": "r",
   "version": "4.4.1"
  }
 },
 "nbformat": 4,
 "nbformat_minor": 2
}
