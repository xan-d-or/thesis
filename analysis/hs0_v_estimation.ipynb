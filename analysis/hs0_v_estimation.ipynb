{
 "cells": [
  {
   "cell_type": "markdown",
   "metadata": {},
   "source": [
    "# Оцениваем регрессии на данных HS0 в спецификациях:\n",
    "- Сырые данные ~ ковид и ограничения + контроль на дамми\n",
    "- Сырые данные ~ ковид и ограничения + контроль на дамми | инструментальные переменные\n",
    "\n",
    "Для второй спецификации считаем бутстраповские доверительные интервалы"
   ]
  },
  {
   "cell_type": "code",
   "execution_count": 1,
   "metadata": {
    "vscode": {
     "languageId": "r"
    }
   },
   "outputs": [
    {
     "name": "stderr",
     "output_type": "stream",
     "text": [
      "\n",
      "Присоединяю пакет: 'arrow'\n",
      "\n",
      "\n",
      "Следующий объект скрыт от 'package:utils':\n",
      "\n",
      "    timestamp\n",
      "\n",
      "\n",
      "\n",
      "Please cite as: \n",
      "\n",
      "\n",
      " Hlavac, Marek (2022). stargazer: Well-Formatted Regression and Summary Statistics Tables.\n",
      "\n",
      " R package version 5.2.3. https://CRAN.R-project.org/package=stargazer \n",
      "\n",
      "\n",
      "Warning message:\n",
      "\"пакет 'tidyverse' был собран под R версии 4.4.2\"\n",
      "── \u001b[1mAttaching core tidyverse packages\u001b[22m ──────────────────────── tidyverse 2.0.0 ──\n",
      "\u001b[32m✔\u001b[39m \u001b[34mdplyr    \u001b[39m 1.1.4     \u001b[32m✔\u001b[39m \u001b[34mreadr    \u001b[39m 2.1.5\n",
      "\u001b[32m✔\u001b[39m \u001b[34mforcats  \u001b[39m 1.0.0     \u001b[32m✔\u001b[39m \u001b[34mstringr  \u001b[39m 1.5.1\n",
      "\u001b[32m✔\u001b[39m \u001b[34mggplot2  \u001b[39m 3.5.1     \u001b[32m✔\u001b[39m \u001b[34mtibble   \u001b[39m 3.2.1\n",
      "\u001b[32m✔\u001b[39m \u001b[34mlubridate\u001b[39m 1.9.3     \u001b[32m✔\u001b[39m \u001b[34mtidyr    \u001b[39m 1.3.1\n",
      "\u001b[32m✔\u001b[39m \u001b[34mpurrr    \u001b[39m 1.0.2     \n",
      "── \u001b[1mConflicts\u001b[22m ────────────────────────────────────────── tidyverse_conflicts() ──\n",
      "\u001b[31m✖\u001b[39m \u001b[34mlubridate\u001b[39m::\u001b[32mduration()\u001b[39m masks \u001b[34marrow\u001b[39m::duration()\n",
      "\u001b[31m✖\u001b[39m \u001b[34mdplyr\u001b[39m::\u001b[32mfilter()\u001b[39m       masks \u001b[34mstats\u001b[39m::filter()\n",
      "\u001b[31m✖\u001b[39m \u001b[34mdplyr\u001b[39m::\u001b[32mlag()\u001b[39m          masks \u001b[34mstats\u001b[39m::lag()\n",
      "\u001b[36mℹ\u001b[39m Use the conflicted package (\u001b[3m\u001b[34m<http://conflicted.r-lib.org/>\u001b[39m\u001b[23m) to force all conflicts to become errors\n",
      "Warning message:\n",
      "\"пакет 'plotly' был собран под R версии 4.4.2\"\n",
      "\n",
      "Присоединяю пакет: 'plotly'\n",
      "\n",
      "\n",
      "Следующий объект скрыт от 'package:ggplot2':\n",
      "\n",
      "    last_plot\n",
      "\n",
      "\n",
      "Следующий объект скрыт от 'package:arrow':\n",
      "\n",
      "    schema\n",
      "\n",
      "\n",
      "Следующий объект скрыт от 'package:stats':\n",
      "\n",
      "    filter\n",
      "\n",
      "\n",
      "Следующий объект скрыт от 'package:graphics':\n",
      "\n",
      "    layout\n",
      "\n",
      "\n"
     ]
    }
   ],
   "source": [
    "library(arrow)\n",
    "library(stargazer)\n",
    "library(tidyverse)\n",
    "library(plotly)\n",
    "library(fixest)\n",
    "signif.code = signif.code = c(\"***\" = 0.001, \"**\" = 0.01, \"*\" = 0.05, \".\" = 0.10)"
   ]
  },
  {
   "cell_type": "markdown",
   "metadata": {},
   "source": [
    "## Сырые данные\n",
    "\n",
    "Под каждой регрессией вывожу summary с кластеризацией ошибок. В конце блока сравниваю робастность результата по используемым ошибкам."
   ]
  },
  {
   "cell_type": "code",
   "execution_count": 2,
   "metadata": {
    "vscode": {
     "languageId": "r"
    }
   },
   "outputs": [
    {
     "data": {
      "text/html": [
       "<table class=\"dataframe\">\n",
       "<caption>A tibble: 6 × 142</caption>\n",
       "<thead>\n",
       "\t<tr><th scope=col>t</th><th scope=col>i</th><th scope=col>j</th><th scope=col>v</th><th scope=col>q</th><th scope=col>v19</th><th scope=col>q19</th><th scope=col>country</th><th scope=col>t:r_i</th><th scope=col>cases</th><th scope=col>⋯</th><th scope=col>C1M_School_closing_i</th><th scope=col>C1M_School_closing_j</th><th scope=col>population_density_i</th><th scope=col>population_density_j</th><th scope=col>share_1_members_i</th><th scope=col>share_1_members_j</th><th scope=col>H6M_Facial_Coverings_i</th><th scope=col>H6M_Facial_Coverings_j</th><th scope=col>C8EV_International_travel_controls_i</th><th scope=col>C8EV_International_travel_controls_j</th></tr>\n",
       "\t<tr><th scope=col>&lt;int&gt;</th><th scope=col>&lt;chr&gt;</th><th scope=col>&lt;chr&gt;</th><th scope=col>&lt;dbl&gt;</th><th scope=col>&lt;dbl&gt;</th><th scope=col>&lt;dbl&gt;</th><th scope=col>&lt;dbl&gt;</th><th scope=col>&lt;chr&gt;</th><th scope=col>&lt;int&gt;</th><th scope=col>&lt;dbl&gt;</th><th scope=col>⋯</th><th scope=col>&lt;dbl&gt;</th><th scope=col>&lt;dbl&gt;</th><th scope=col>&lt;dbl&gt;</th><th scope=col>&lt;dbl&gt;</th><th scope=col>&lt;dbl&gt;</th><th scope=col>&lt;dbl&gt;</th><th scope=col>&lt;dbl&gt;</th><th scope=col>&lt;dbl&gt;</th><th scope=col>&lt;dbl&gt;</th><th scope=col>&lt;dbl&gt;</th></tr>\n",
       "</thead>\n",
       "<tbody>\n",
       "\t<tr><td>2021</td><td>LUX</td><td>LBY</td><td>    968.018</td><td>    210.173</td><td>   501.858</td><td>    127.012</td><td>LUX</td><td>2021</td><td>241.1512329</td><td>⋯</td><td>1.183562</td><td>1.49315071</td><td>248.620682</td><td>   4.055137</td><td>33.34</td><td>   NA</td><td>2.0082192</td><td>2.827397</td><td>2.534247</td><td>2.520548</td></tr>\n",
       "\t<tr><td>2021</td><td>RUS</td><td>SEN</td><td>1307165.125</td><td>3131615.500</td><td>789625.305</td><td>2232100.632</td><td>RUS</td><td>2021</td><td>138.1677534</td><td>⋯</td><td>1.290411</td><td>0.07671233</td><td>  8.838488</td><td>  89.445110</td><td>25.69</td><td> 6.92</td><td>2.3150685</td><td>3.402740</td><td>2.610959</td><td>2.561644</td></tr>\n",
       "\t<tr><td>2020</td><td>SOM</td><td>KOR</td><td>   3136.611</td><td>   2045.876</td><td>  5608.268</td><td>   4002.770</td><td>SOM</td><td>2020</td><td>  0.7276796</td><td>⋯</td><td>1.584700</td><td>1.98087430</td><td> 26.542530</td><td> 531.109006</td><td> 1.53</td><td>31.75</td><td>0.7622951</td><td>1.653005</td><td>2.101093</td><td>2.415301</td></tr>\n",
       "\t<tr><td>2020</td><td>TUR</td><td>CRI</td><td>  57792.285</td><td>  98850.453</td><td> 60858.013</td><td>  86163.873</td><td>TUR</td><td>2020</td><td> 67.6935912</td><td>⋯</td><td>2.153005</td><td>2.40437150</td><td>108.343854</td><td>  98.596161</td><td> 6.37</td><td>12.07</td><td>2.2732241</td><td>1.218579</td><td>2.040984</td><td>2.322404</td></tr>\n",
       "\t<tr><td>2021</td><td>KNA</td><td>BIH</td><td>      0.520</td><td>      0.008</td><td>     0.460</td><td>      0.005</td><td>KNA</td><td>2021</td><td>164.5090411</td><td>⋯</td><td>      NA</td><td>1.00000000</td><td>179.857692</td><td>  63.377090</td><td>   NA</td><td>11.50</td><td>       NA</td><td>2.476712</td><td>      NA</td><td>1.000000</td></tr>\n",
       "\t<tr><td>2022</td><td>AZE</td><td>MLT</td><td>  22060.938</td><td>  39007.156</td><td> 12476.490</td><td>  33493.400</td><td>AZE</td><td>2022</td><td> 56.3560822</td><td>⋯</td><td>2.000000</td><td>0.27945206</td><td>122.707272</td><td>1660.971875</td><td> 6.77</td><td>22.64</td><td>0.6575342</td><td>2.323288</td><td>3.000000</td><td>1.263014</td></tr>\n",
       "</tbody>\n",
       "</table>\n"
      ],
      "text/latex": [
       "A tibble: 6 × 142\n",
       "\\begin{tabular}{lllllllllllllllllllll}\n",
       " t & i & j & v & q & v19 & q19 & country & t:r\\_i & cases & ⋯ & C1M\\_School\\_closing\\_i & C1M\\_School\\_closing\\_j & population\\_density\\_i & population\\_density\\_j & share\\_1\\_members\\_i & share\\_1\\_members\\_j & H6M\\_Facial\\_Coverings\\_i & H6M\\_Facial\\_Coverings\\_j & C8EV\\_International\\_travel\\_controls\\_i & C8EV\\_International\\_travel\\_controls\\_j\\\\\n",
       " <int> & <chr> & <chr> & <dbl> & <dbl> & <dbl> & <dbl> & <chr> & <int> & <dbl> & ⋯ & <dbl> & <dbl> & <dbl> & <dbl> & <dbl> & <dbl> & <dbl> & <dbl> & <dbl> & <dbl>\\\\\n",
       "\\hline\n",
       "\t 2021 & LUX & LBY &     968.018 &     210.173 &    501.858 &     127.012 & LUX & 2021 & 241.1512329 & ⋯ & 1.183562 & 1.49315071 & 248.620682 &    4.055137 & 33.34 &    NA & 2.0082192 & 2.827397 & 2.534247 & 2.520548\\\\\n",
       "\t 2021 & RUS & SEN & 1307165.125 & 3131615.500 & 789625.305 & 2232100.632 & RUS & 2021 & 138.1677534 & ⋯ & 1.290411 & 0.07671233 &   8.838488 &   89.445110 & 25.69 &  6.92 & 2.3150685 & 3.402740 & 2.610959 & 2.561644\\\\\n",
       "\t 2020 & SOM & KOR &    3136.611 &    2045.876 &   5608.268 &    4002.770 & SOM & 2020 &   0.7276796 & ⋯ & 1.584700 & 1.98087430 &  26.542530 &  531.109006 &  1.53 & 31.75 & 0.7622951 & 1.653005 & 2.101093 & 2.415301\\\\\n",
       "\t 2020 & TUR & CRI &   57792.285 &   98850.453 &  60858.013 &   86163.873 & TUR & 2020 &  67.6935912 & ⋯ & 2.153005 & 2.40437150 & 108.343854 &   98.596161 &  6.37 & 12.07 & 2.2732241 & 1.218579 & 2.040984 & 2.322404\\\\\n",
       "\t 2021 & KNA & BIH &       0.520 &       0.008 &      0.460 &       0.005 & KNA & 2021 & 164.5090411 & ⋯ &       NA & 1.00000000 & 179.857692 &   63.377090 &    NA & 11.50 &        NA & 2.476712 &       NA & 1.000000\\\\\n",
       "\t 2022 & AZE & MLT &   22060.938 &   39007.156 &  12476.490 &   33493.400 & AZE & 2022 &  56.3560822 & ⋯ & 2.000000 & 0.27945206 & 122.707272 & 1660.971875 &  6.77 & 22.64 & 0.6575342 & 2.323288 & 3.000000 & 1.263014\\\\\n",
       "\\end{tabular}\n"
      ],
      "text/markdown": [
       "\n",
       "A tibble: 6 × 142\n",
       "\n",
       "| t &lt;int&gt; | i &lt;chr&gt; | j &lt;chr&gt; | v &lt;dbl&gt; | q &lt;dbl&gt; | v19 &lt;dbl&gt; | q19 &lt;dbl&gt; | country &lt;chr&gt; | t:r_i &lt;int&gt; | cases &lt;dbl&gt; | ⋯ ⋯ | C1M_School_closing_i &lt;dbl&gt; | C1M_School_closing_j &lt;dbl&gt; | population_density_i &lt;dbl&gt; | population_density_j &lt;dbl&gt; | share_1_members_i &lt;dbl&gt; | share_1_members_j &lt;dbl&gt; | H6M_Facial_Coverings_i &lt;dbl&gt; | H6M_Facial_Coverings_j &lt;dbl&gt; | C8EV_International_travel_controls_i &lt;dbl&gt; | C8EV_International_travel_controls_j &lt;dbl&gt; |\n",
       "|---|---|---|---|---|---|---|---|---|---|---|---|---|---|---|---|---|---|---|---|---|\n",
       "| 2021 | LUX | LBY |     968.018 |     210.173 |    501.858 |     127.012 | LUX | 2021 | 241.1512329 | ⋯ | 1.183562 | 1.49315071 | 248.620682 |    4.055137 | 33.34 |    NA | 2.0082192 | 2.827397 | 2.534247 | 2.520548 |\n",
       "| 2021 | RUS | SEN | 1307165.125 | 3131615.500 | 789625.305 | 2232100.632 | RUS | 2021 | 138.1677534 | ⋯ | 1.290411 | 0.07671233 |   8.838488 |   89.445110 | 25.69 |  6.92 | 2.3150685 | 3.402740 | 2.610959 | 2.561644 |\n",
       "| 2020 | SOM | KOR |    3136.611 |    2045.876 |   5608.268 |    4002.770 | SOM | 2020 |   0.7276796 | ⋯ | 1.584700 | 1.98087430 |  26.542530 |  531.109006 |  1.53 | 31.75 | 0.7622951 | 1.653005 | 2.101093 | 2.415301 |\n",
       "| 2020 | TUR | CRI |   57792.285 |   98850.453 |  60858.013 |   86163.873 | TUR | 2020 |  67.6935912 | ⋯ | 2.153005 | 2.40437150 | 108.343854 |   98.596161 |  6.37 | 12.07 | 2.2732241 | 1.218579 | 2.040984 | 2.322404 |\n",
       "| 2021 | KNA | BIH |       0.520 |       0.008 |      0.460 |       0.005 | KNA | 2021 | 164.5090411 | ⋯ |       NA | 1.00000000 | 179.857692 |   63.377090 |    NA | 11.50 |        NA | 2.476712 |       NA | 1.000000 |\n",
       "| 2022 | AZE | MLT |   22060.938 |   39007.156 |  12476.490 |   33493.400 | AZE | 2022 |  56.3560822 | ⋯ | 2.000000 | 0.27945206 | 122.707272 | 1660.971875 |  6.77 | 22.64 | 0.6575342 | 2.323288 | 3.000000 | 1.263014 |\n",
       "\n"
      ],
      "text/plain": [
       "  t    i   j   v           q           v19        q19         country t:r_i\n",
       "1 2021 LUX LBY     968.018     210.173    501.858     127.012 LUX     2021 \n",
       "2 2021 RUS SEN 1307165.125 3131615.500 789625.305 2232100.632 RUS     2021 \n",
       "3 2020 SOM KOR    3136.611    2045.876   5608.268    4002.770 SOM     2020 \n",
       "4 2020 TUR CRI   57792.285   98850.453  60858.013   86163.873 TUR     2020 \n",
       "5 2021 KNA BIH       0.520       0.008      0.460       0.005 KNA     2021 \n",
       "6 2022 AZE MLT   22060.938   39007.156  12476.490   33493.400 AZE     2022 \n",
       "  cases       ⋯ C1M_School_closing_i C1M_School_closing_j population_density_i\n",
       "1 241.1512329 ⋯ 1.183562             1.49315071           248.620682          \n",
       "2 138.1677534 ⋯ 1.290411             0.07671233             8.838488          \n",
       "3   0.7276796 ⋯ 1.584700             1.98087430            26.542530          \n",
       "4  67.6935912 ⋯ 2.153005             2.40437150           108.343854          \n",
       "5 164.5090411 ⋯       NA             1.00000000           179.857692          \n",
       "6  56.3560822 ⋯ 2.000000             0.27945206           122.707272          \n",
       "  population_density_j share_1_members_i share_1_members_j\n",
       "1    4.055137          33.34                NA            \n",
       "2   89.445110          25.69              6.92            \n",
       "3  531.109006           1.53             31.75            \n",
       "4   98.596161           6.37             12.07            \n",
       "5   63.377090             NA             11.50            \n",
       "6 1660.971875           6.77             22.64            \n",
       "  H6M_Facial_Coverings_i H6M_Facial_Coverings_j\n",
       "1 2.0082192              2.827397              \n",
       "2 2.3150685              3.402740              \n",
       "3 0.7622951              1.653005              \n",
       "4 2.2732241              1.218579              \n",
       "5        NA              2.476712              \n",
       "6 0.6575342              2.323288              \n",
       "  C8EV_International_travel_controls_i C8EV_International_travel_controls_j\n",
       "1 2.534247                             2.520548                            \n",
       "2 2.610959                             2.561644                            \n",
       "3 2.101093                             2.415301                            \n",
       "4 2.040984                             2.322404                            \n",
       "5       NA                             1.000000                            \n",
       "6 3.000000                             1.263014                            "
      ]
     },
     "metadata": {},
     "output_type": "display_data"
    }
   ],
   "source": [
    "# Скачиваю данные и переназываю переменные\n",
    "df = read_parquet('../data/processed_data/trade_hs0_x_covid.parquet.gzip')\n",
    "# Переменная pair нужна, чтобы считать НАС стандартные ошибки\n",
    "df = df %>% mutate(pair = paste(i, j))\n",
    "\n",
    "df$deaths_i = df$deaths\n",
    "df$deaths_j = df$`deaths:r_j`\n",
    "\n",
    "df$median_age_i = df$median_age\n",
    "df$median_age_j = df$`median_age:r_j`\n",
    "\n",
    "df$average_surface_temperature_i = df$average_surface_temperature\n",
    "df$average_surface_temperature_j = df$`average_surface_temperature:r_j`\n",
    "\n",
    "df$C1M_School_closing_i = df$C1M_School_closing\n",
    "df$C1M_School_closing_j = df$`C1M_School_closing:r_j`\n",
    "\n",
    "df$population_density_i = df$population_density\n",
    "df$population_density_j = df$`population_density:r_j`\n",
    "\n",
    "df$share_1_members_i = df$share_1_members\n",
    "df$share_1_members_j = df$`share_1_members:r_j`\n",
    "\n",
    "df$H6M_Facial_Coverings_i = df$H6M_Facial_Coverings\n",
    "df$H6M_Facial_Coverings_j = df$`H6M_Facial_Coverings:r_j`\n",
    "\n",
    "df$C8EV_International_travel_controls_i = df$C8EV_International_travel_controls\n",
    "df$C8EV_International_travel_controls_j = df$`C8EV_International_travel_controls:r_j`\n",
    "df %>% head()"
   ]
  },
  {
   "cell_type": "code",
   "execution_count": 6,
   "metadata": {
    "vscode": {
     "languageId": "r"
    }
   },
   "outputs": [
    {
     "name": "stderr",
     "output_type": "stream",
     "text": [
      "NOTE: 13,568 observations removed because of NA and infinite values (RHS: 13,568).\n",
      "\n"
     ]
    },
    {
     "data": {
      "text/plain": [
       "OLS estimation, Dep. Var.: log(v)\n",
       "Observations: 56,739\n",
       "Fixed-effects: i: 175,  j: 175,  year: 3,  i^j: 20,608\n",
       "Standard-errors: Clustered (i & j) \n",
       "                                      Estimate Std. Error  t value Pr(>|t|)    \n",
       "log(deaths_i)                        -0.015511   0.007764 -1.99787 0.047289 *  \n",
       "log(deaths_j)                        -0.007561   0.007003 -1.07965 0.281790    \n",
       "C8EV_International_travel_controls_i -0.038251   0.019968 -1.91564 0.057051 .  \n",
       "C8EV_International_travel_controls_j -0.027171   0.020064 -1.35425 0.177411    \n",
       "---\n",
       "Signif. codes:  0 '***' 0.001 '**' 0.01 '*' 0.05 '.' 0.1 ' ' 1\n",
       "RMSE: 0.702574     Adj. R2: 0.954989\n",
       "                 Within R2: 8.835e-4"
      ]
     },
     "metadata": {},
     "output_type": "display_data"
    }
   ],
   "source": [
    "# FE (т.е. оценка на панельных данных с использованием внутригрупповой дисперсии)\n",
    "fe_no_iv = feols(log(v) ~ log(deaths_i) + log(deaths_j) +\n",
    " C8EV_International_travel_controls_i + C8EV_International_travel_controls_j| i + j + year + i^j,\n",
    " data = df)\n",
    "fe_no_iv %>% summary(cluster = ~ i+j)"
   ]
  },
  {
   "cell_type": "code",
   "execution_count": 7,
   "metadata": {
    "vscode": {
     "languageId": "r"
    }
   },
   "outputs": [
    {
     "name": "stderr",
     "output_type": "stream",
     "text": [
      "NOTE: 13,568 observations removed because of NA and infinite values (RHS: 13,568).\n",
      "\n"
     ]
    },
    {
     "data": {
      "text/plain": [
       "OLS estimation, Dep. Var.: log(v)\n",
       "Observations: 56,739\n",
       "Fixed-effects: i: 175,  j: 175,  i^j: 20,608\n",
       "Standard-errors: Clustered (i & j) \n",
       "                                               Estimate Std. Error   t value\n",
       "year2021                                      -0.063500   0.092210 -0.688639\n",
       "year2022                                       0.002725   0.108219  0.025184\n",
       "year2020:log(deaths_i)                        -0.018044   0.008895 -2.028577\n",
       "year2021:log(deaths_i)                        -0.016126   0.008817 -1.828983\n",
       "year2022:log(deaths_i)                        -0.016141   0.010470 -1.541676\n",
       "year2020:log(deaths_j)                        -0.018412   0.009123 -2.018171\n",
       "year2021:log(deaths_j)                         0.001634   0.009407  0.173663\n",
       "year2022:log(deaths_j)                         0.005853   0.010745  0.544703\n",
       "year2020:C8EV_International_travel_controls_i -0.080207   0.030382 -2.639977\n",
       "year2021:C8EV_International_travel_controls_i -0.031253   0.019420 -1.609341\n",
       "year2022:C8EV_International_travel_controls_i -0.018944   0.057400 -0.330035\n",
       "year2020:C8EV_International_travel_controls_j -0.018786   0.026852 -0.699611\n",
       "year2021:C8EV_International_travel_controls_j  0.011139   0.014409  0.773038\n",
       "year2022:C8EV_International_travel_controls_j -0.100533   0.078708 -1.277291\n",
       "                                               Pr(>|t|)    \n",
       "year2021                                      0.4919679    \n",
       "year2022                                      0.9799368    \n",
       "year2020:log(deaths_i)                        0.0440259 *  \n",
       "year2021:log(deaths_i)                        0.0691141 .  \n",
       "year2022:log(deaths_i)                        0.1249691    \n",
       "year2020:log(deaths_j)                        0.0451094 *  \n",
       "year2021:log(deaths_j)                        0.8623319    \n",
       "year2022:log(deaths_j)                        0.5866554    \n",
       "year2020:C8EV_International_travel_controls_i 0.0090447 ** \n",
       "year2021:C8EV_International_travel_controls_i 0.1093546    \n",
       "year2022:C8EV_International_travel_controls_i 0.7417708    \n",
       "year2020:C8EV_International_travel_controls_j 0.4851045    \n",
       "year2021:C8EV_International_travel_controls_j 0.4405486    \n",
       "year2022:C8EV_International_travel_controls_j 0.2032013    \n",
       "---\n",
       "Signif. codes:  0 '***' 0.001 '**' 0.01 '*' 0.05 '.' 0.1 ' ' 1\n",
       "RMSE: 0.701786     Adj. R2: 0.95508 \n",
       "                 Within R2: 0.007789"
      ]
     },
     "metadata": {},
     "output_type": "display_data"
    }
   ],
   "source": [
    "# Добавляю гетерогенность эффектов во времени\n",
    "heterogenous_fe = feols(log(v) ~ year/log(deaths_i) + year/log(deaths_j) +\n",
    "year/C8EV_International_travel_controls_i + year/C8EV_International_travel_controls_j|\n",
    "i + j + i^j,\n",
    "data = df)\n",
    "heterogenous_fe %>% summary(cluster = ~ i+j)"
   ]
  },
  {
   "cell_type": "markdown",
   "metadata": {},
   "source": [
    "### Инструментальные переменные на панельных данных"
   ]
  },
  {
   "cell_type": "code",
   "execution_count": 15,
   "metadata": {
    "vscode": {
     "languageId": "r"
    }
   },
   "outputs": [
    {
     "name": "stderr",
     "output_type": "stream",
     "text": [
      "NOTE: 13,906 observations removed because of NA and infinite values (RHS: 9,802, IV: 6,067/10,661).\n",
      "\n"
     ]
    },
    {
     "data": {
      "text/plain": [
       "TSLS estimation - Dep. Var.: log(v)\n",
       "                  Endo.    : log(deaths_i), log(deaths_j)\n",
       "                  Instr.   : C1M_School_closing_i, C1M_School_closing_j, median_age_i, median_age_j, population_density_i, population_density_j\n",
       "Second stage: Dep. Var.: log(v)\n",
       "Observations: 56,401\n",
       "Fixed-effects: year: 3,  i: 175,  j: 175,  i^j: 20,605\n",
       "Standard-errors: Clustered (i & j) \n",
       "                                      Estimate Std. Error   t value Pr(>|t|)\n",
       "fit_log(deaths_i)                    -0.041512   0.033647 -1.233737 0.218965\n",
       "fit_log(deaths_j)                     0.009252   0.031410  0.294565 0.768678\n",
       "C8EV_International_travel_controls_i -0.050164   0.025373 -1.977088 0.049611\n",
       "C8EV_International_travel_controls_j -0.018634   0.019891 -0.936790 0.350165\n",
       "                                        \n",
       "fit_log(deaths_i)                       \n",
       "fit_log(deaths_j)                       \n",
       "C8EV_International_travel_controls_i *  \n",
       "C8EV_International_travel_controls_j    \n",
       "---\n",
       "Signif. codes:  0 '***' 0.001 '**' 0.01 '*' 0.05 '.' 0.1 ' ' 1\n",
       "RMSE: 0.702864     Adj. R2:  0.954849\n",
       "                 Within R2: -3.951e-4\n",
       "F-test (1st stage), log(deaths_i): stat = 605.3    , p < 2.2e-16 , on 6 and 35,440 DoF.\n",
       "F-test (1st stage), log(deaths_j): stat = 583.1    , p < 2.2e-16 , on 6 and 35,440 DoF.\n",
       "                       Wu-Hausman: stat =   2.20242, p = 0.11055 , on 2 and 35,440 DoF.\n",
       "                           Sargan: stat =  17.6    , p = 0.001457, on 4 DoF."
      ]
     },
     "metadata": {},
     "output_type": "display_data"
    }
   ],
   "source": [
    "# Спецификация с фиксированными эффектами, куда я добавил инструменты, чтобы убрать потенциальную двустороннюю связь. \n",
    "\n",
    "fe_iv = feols(log(v) ~  1 +\n",
    " C8EV_International_travel_controls_i + C8EV_International_travel_controls_j | year+i+j+i^j|\n",
    " log(deaths_i) + log(deaths_j) ~ \n",
    "# H6M_Facial_Coverings_i+H6M_Facial_Coverings_j\n",
    "# +\n",
    "C1M_School_closing_i+C1M_School_closing_j\n",
    "+\n",
    "median_age_i + median_age_j\n",
    "+\n",
    "population_density_i + population_density_j\n",
    "# +\n",
    "# average_surface_temperature_i + average_surface_temperature_j # Добавляет пропусков\n",
    "\n",
    " ,\n",
    " data = df\n",
    " )\n",
    "fe_iv %>% summary(cluster = ~ i+j)"
   ]
  },
  {
   "cell_type": "code",
   "execution_count": 16,
   "metadata": {
    "vscode": {
     "languageId": "r"
    }
   },
   "outputs": [
    {
     "name": "stderr",
     "output_type": "stream",
     "text": [
      "NOTE: 17,571 observations removed because of NA and infinite values (RHS: 9,802, IV: 6,067/15,000).\n",
      "\n"
     ]
    },
    {
     "data": {
      "text/plain": [
       "TSLS estimation - Dep. Var.: log(v)\n",
       "                  Endo.    : log(deaths_i), log(deaths_j)\n",
       "                  Instr.   : H6M_Facial_Coverings_i, H6M_Facial_Coverings_j, C1M_School_closing_i, C1M_School_closing_j, median_age_i, median_age_j, population_density_i, population_density_j, average_surface_temperature_i, average_surface_temperature_j\n",
       "Second stage: Dep. Var.: log(v)\n",
       "Observations: 52,736\n",
       "Fixed-effects: year: 3,  i: 166,  j: 166,  i^j: 19,208\n",
       "Standard-errors: Clustered (i & j) \n",
       "                                      Estimate Std. Error   t value Pr(>|t|)\n",
       "fit_log(deaths_i)                    -0.050296   0.034750 -1.447372 0.149690\n",
       "fit_log(deaths_j)                    -0.003506   0.029923 -0.117158 0.906877\n",
       "C8EV_International_travel_controls_i -0.052973   0.026625 -1.989565 0.048291\n",
       "C8EV_International_travel_controls_j -0.023170   0.022520 -1.028838 0.305062\n",
       "                                        \n",
       "fit_log(deaths_i)                       \n",
       "fit_log(deaths_j)                       \n",
       "C8EV_International_travel_controls_i *  \n",
       "C8EV_International_travel_controls_j    \n",
       "---\n",
       "Signif. codes:  0 '***' 0.001 '**' 0.01 '*' 0.05 '.' 0.1 ' ' 1\n",
       "RMSE: 0.696651     Adj. R2:  0.955057\n",
       "                 Within R2: -6.236e-4\n",
       "F-test (1st stage), log(deaths_i): stat = 336.1    , p < 2.2e-16  , on 10 and 33,186 DoF.\n",
       "F-test (1st stage), log(deaths_j): stat = 328.9    , p < 2.2e-16  , on 10 and 33,186 DoF.\n",
       "                       Wu-Hausman: stat =   2.55982, p = 0.077334 , on 2 and 33,190 DoF.\n",
       "                           Sargan: stat =  72.2    , p = 1.786e-12, on 8 DoF."
      ]
     },
     "metadata": {},
     "output_type": "display_data"
    }
   ],
   "source": [
    "# Спецификация с фиксированными эффектами, куда я добавил инструменты, чтобы убрать потенциальную двустороннюю связь. \n",
    "\n",
    "fe_iv_no_school = feols(log(v) ~  1 +\n",
    " C8EV_International_travel_controls_i + C8EV_International_travel_controls_j | year+i+j+ i^j|\n",
    " log(deaths_i) + log(deaths_j) ~ \n",
    "H6M_Facial_Coverings_i+H6M_Facial_Coverings_j\n",
    "+\n",
    "C1M_School_closing_i+C1M_School_closing_j\n",
    "+\n",
    "median_age_i + median_age_j\n",
    "+\n",
    "population_density_i + population_density_j\n",
    "+\n",
    "average_surface_temperature_i + average_surface_temperature_j # Добавляет пропусков\n",
    "\n",
    " ,\n",
    " data = df\n",
    " )\n",
    "fe_iv_no_school %>% summary(cluster = ~ i+j)"
   ]
  },
  {
   "cell_type": "markdown",
   "metadata": {},
   "source": [
    "### Экспорт результатов в латех"
   ]
  },
  {
   "cell_type": "code",
   "execution_count": 17,
   "metadata": {
    "vscode": {
     "languageId": "r"
    }
   },
   "outputs": [
    {
     "data": {
      "text/html": [
       "<table class=\"dataframe\">\n",
       "<caption>A etable_df: 34 × 4</caption>\n",
       "<thead>\n",
       "\t<tr><th></th><th scope=col></th><th scope=col>fe_no_iv</th><th scope=col>heterogenous_fe</th><th scope=col>fe_iv</th></tr>\n",
       "\t<tr><th></th><th scope=col>&lt;chr&gt;</th><th scope=col>&lt;chr&gt;</th><th scope=col>&lt;chr&gt;</th><th scope=col>&lt;chr&gt;</th></tr>\n",
       "</thead>\n",
       "<tbody>\n",
       "\t<tr><th scope=row>1</th><td>Dependent Var.:                                </td><td>log(v)           </td><td>log(v)            </td><td>log(v)           </td></tr>\n",
       "\t<tr><th scope=row>2</th><td>                                               </td><td>                 </td><td>                  </td><td>                 </td></tr>\n",
       "\t<tr><th scope=row>3</th><td>log(deaths_i)                                  </td><td>-0.0155* (0.0078)</td><td>                  </td><td>-0.0415 (0.0336) </td></tr>\n",
       "\t<tr><th scope=row>4</th><td>log(deaths_j)                                  </td><td>-0.0076 (0.0070) </td><td>                  </td><td>0.0093 (0.0314)  </td></tr>\n",
       "\t<tr><th scope=row>5</th><td>C8EV_International_travel_controls_i           </td><td>-0.0382. (0.0200)</td><td>                  </td><td>-0.0502* (0.0254)</td></tr>\n",
       "\t<tr><th scope=row>6</th><td>C8EV_International_travel_controls_j           </td><td>-0.0272 (0.0201) </td><td>                  </td><td>-0.0186 (0.0199) </td></tr>\n",
       "\t<tr><th scope=row>7</th><td>year2021                                       </td><td>                 </td><td>-0.0635 (0.0922)  </td><td>                 </td></tr>\n",
       "\t<tr><th scope=row>8</th><td>year2022                                       </td><td>                 </td><td>0.0027 (0.1082)   </td><td>                 </td></tr>\n",
       "\t<tr><th scope=row>9</th><td>year2020 x log(deaths_i)                       </td><td>                 </td><td>-0.0180* (0.0089) </td><td>                 </td></tr>\n",
       "\t<tr><th scope=row>10</th><td>year2021 x log(deaths_i)                       </td><td>                 </td><td>-0.0161. (0.0088) </td><td>                 </td></tr>\n",
       "\t<tr><th scope=row>11</th><td>year2022 x log(deaths_i)                       </td><td>                 </td><td>-0.0161 (0.0105)  </td><td>                 </td></tr>\n",
       "\t<tr><th scope=row>12</th><td>year2020 x log(deaths_j)                       </td><td>                 </td><td>-0.0184* (0.0091) </td><td>                 </td></tr>\n",
       "\t<tr><th scope=row>13</th><td>year2021 x log(deaths_j)                       </td><td>                 </td><td>0.0016 (0.0094)   </td><td>                 </td></tr>\n",
       "\t<tr><th scope=row>14</th><td>year2022 x log(deaths_j)                       </td><td>                 </td><td>0.0059 (0.0107)   </td><td>                 </td></tr>\n",
       "\t<tr><th scope=row>15</th><td>year2020 x C8EV_International_travel_controls_i</td><td>                 </td><td>-0.0802** (0.0304)</td><td>                 </td></tr>\n",
       "\t<tr><th scope=row>16</th><td>year2021 x C8EV_International_travel_controls_i</td><td>                 </td><td>-0.0312 (0.0194)  </td><td>                 </td></tr>\n",
       "\t<tr><th scope=row>17</th><td>year2022 x C8EV_International_travel_controls_i</td><td>                 </td><td>-0.0189 (0.0574)  </td><td>                 </td></tr>\n",
       "\t<tr><th scope=row>18</th><td>year2020 x C8EV_International_travel_controls_j</td><td>                 </td><td>-0.0188 (0.0268)  </td><td>                 </td></tr>\n",
       "\t<tr><th scope=row>19</th><td>year2021 x C8EV_International_travel_controls_j</td><td>                 </td><td>0.0111 (0.0144)   </td><td>                 </td></tr>\n",
       "\t<tr><th scope=row>20</th><td>year2022 x C8EV_International_travel_controls_j</td><td>                 </td><td>-0.1005 (0.0787)  </td><td>                 </td></tr>\n",
       "\t<tr><th scope=row>21</th><td>Fixed-Effects:                                 </td><td>-----------------</td><td>------------------</td><td>-----------------</td></tr>\n",
       "\t<tr><th scope=row>22</th><td>i                                              </td><td>Yes              </td><td>Yes               </td><td>Yes              </td></tr>\n",
       "\t<tr><th scope=row>23</th><td>j                                              </td><td>Yes              </td><td>Yes               </td><td>Yes              </td></tr>\n",
       "\t<tr><th scope=row>24</th><td>year                                           </td><td>Yes              </td><td>No                </td><td>Yes              </td></tr>\n",
       "\t<tr><th scope=row>25</th><td>i-j                                            </td><td>Yes              </td><td>Yes               </td><td>Yes              </td></tr>\n",
       "\t<tr><th scope=row>26</th><td>________________________________________       </td><td>_________________</td><td>__________________</td><td>_________________</td></tr>\n",
       "\t<tr><th scope=row>27</th><td><span style=white-space:pre-wrap>S.E.: Clustered                                </span></td><td><span style=white-space:pre-wrap>by: i &amp; j        </span></td><td><span style=white-space:pre-wrap>by: i &amp; j         </span></td><td><span style=white-space:pre-wrap>by: i &amp; j        </span></td></tr>\n",
       "\t<tr><th scope=row>28</th><td>Observations                                   </td><td>56,739           </td><td>56,739            </td><td>56,401           </td></tr>\n",
       "\t<tr><th scope=row>29</th><td>R2                                             </td><td>0.97162          </td><td>0.97168           </td><td>0.97163          </td></tr>\n",
       "\t<tr><th scope=row>30</th><td>Within R2                                      </td><td>0.00088          </td><td>0.00779           </td><td>-0.00040         </td></tr>\n",
       "\t<tr><th scope=row>31</th><td>Sargan, p-value                                </td><td>--               </td><td>--                </td><td>0.00146          </td></tr>\n",
       "\t<tr><th scope=row>32</th><td>Wu-Hausman, p-value                            </td><td>--               </td><td>--                </td><td>0.11055          </td></tr>\n",
       "\t<tr><th scope=row>33</th><td>F-test (1st stage), log(deaths_i)              </td><td>--               </td><td>--                </td><td>605.31           </td></tr>\n",
       "\t<tr><th scope=row>34</th><td>F-test (1st stage), log(deaths_j)              </td><td>--               </td><td>--                </td><td>583.09           </td></tr>\n",
       "</tbody>\n",
       "</table>\n"
      ],
      "text/latex": [
       "A etable\\_df: 34 × 4\n",
       "\\begin{tabular}{r|llll}\n",
       "  &  & fe\\_no\\_iv & heterogenous\\_fe & fe\\_iv\\\\\n",
       "  & <chr> & <chr> & <chr> & <chr>\\\\\n",
       "\\hline\n",
       "\t1 & Dependent Var.:                                 & log(v)            & log(v)             & log(v)           \\\\\n",
       "\t2 &                                                 &                   &                    &                  \\\\\n",
       "\t3 & log(deaths\\_i)                                   & -0.0155* (0.0078) &                    & -0.0415 (0.0336) \\\\\n",
       "\t4 & log(deaths\\_j)                                   & -0.0076 (0.0070)  &                    & 0.0093 (0.0314)  \\\\\n",
       "\t5 & C8EV\\_International\\_travel\\_controls\\_i            & -0.0382. (0.0200) &                    & -0.0502* (0.0254)\\\\\n",
       "\t6 & C8EV\\_International\\_travel\\_controls\\_j            & -0.0272 (0.0201)  &                    & -0.0186 (0.0199) \\\\\n",
       "\t7 & year2021                                        &                   & -0.0635 (0.0922)   &                  \\\\\n",
       "\t8 & year2022                                        &                   & 0.0027 (0.1082)    &                  \\\\\n",
       "\t9 & year2020 x log(deaths\\_i)                        &                   & -0.0180* (0.0089)  &                  \\\\\n",
       "\t10 & year2021 x log(deaths\\_i)                        &                   & -0.0161. (0.0088)  &                  \\\\\n",
       "\t11 & year2022 x log(deaths\\_i)                        &                   & -0.0161 (0.0105)   &                  \\\\\n",
       "\t12 & year2020 x log(deaths\\_j)                        &                   & -0.0184* (0.0091)  &                  \\\\\n",
       "\t13 & year2021 x log(deaths\\_j)                        &                   & 0.0016 (0.0094)    &                  \\\\\n",
       "\t14 & year2022 x log(deaths\\_j)                        &                   & 0.0059 (0.0107)    &                  \\\\\n",
       "\t15 & year2020 x C8EV\\_International\\_travel\\_controls\\_i &                   & -0.0802** (0.0304) &                  \\\\\n",
       "\t16 & year2021 x C8EV\\_International\\_travel\\_controls\\_i &                   & -0.0312 (0.0194)   &                  \\\\\n",
       "\t17 & year2022 x C8EV\\_International\\_travel\\_controls\\_i &                   & -0.0189 (0.0574)   &                  \\\\\n",
       "\t18 & year2020 x C8EV\\_International\\_travel\\_controls\\_j &                   & -0.0188 (0.0268)   &                  \\\\\n",
       "\t19 & year2021 x C8EV\\_International\\_travel\\_controls\\_j &                   & 0.0111 (0.0144)    &                  \\\\\n",
       "\t20 & year2022 x C8EV\\_International\\_travel\\_controls\\_j &                   & -0.1005 (0.0787)   &                  \\\\\n",
       "\t21 & Fixed-Effects:                                  & ----------------- & ------------------ & -----------------\\\\\n",
       "\t22 & i                                               & Yes               & Yes                & Yes              \\\\\n",
       "\t23 & j                                               & Yes               & Yes                & Yes              \\\\\n",
       "\t24 & year                                            & Yes               & No                 & Yes              \\\\\n",
       "\t25 & i-j                                             & Yes               & Yes                & Yes              \\\\\n",
       "\t26 & \\_\\_\\_\\_\\_\\_\\_\\_\\_\\_\\_\\_\\_\\_\\_\\_\\_\\_\\_\\_\\_\\_\\_\\_\\_\\_\\_\\_\\_\\_\\_\\_\\_\\_\\_\\_\\_\\_\\_\\_        & \\_\\_\\_\\_\\_\\_\\_\\_\\_\\_\\_\\_\\_\\_\\_\\_\\_ & \\_\\_\\_\\_\\_\\_\\_\\_\\_\\_\\_\\_\\_\\_\\_\\_\\_\\_ & \\_\\_\\_\\_\\_\\_\\_\\_\\_\\_\\_\\_\\_\\_\\_\\_\\_\\\\\n",
       "\t27 & S.E.: Clustered                                 & by: i \\& j         & by: i \\& j          & by: i \\& j        \\\\\n",
       "\t28 & Observations                                    & 56,739            & 56,739             & 56,401           \\\\\n",
       "\t29 & R2                                              & 0.97162           & 0.97168            & 0.97163          \\\\\n",
       "\t30 & Within R2                                       & 0.00088           & 0.00779            & -0.00040         \\\\\n",
       "\t31 & Sargan, p-value                                 & --                & --                 & 0.00146          \\\\\n",
       "\t32 & Wu-Hausman, p-value                             & --                & --                 & 0.11055          \\\\\n",
       "\t33 & F-test (1st stage), log(deaths\\_i)               & --                & --                 & 605.31           \\\\\n",
       "\t34 & F-test (1st stage), log(deaths\\_j)               & --                & --                 & 583.09           \\\\\n",
       "\\end{tabular}\n"
      ],
      "text/markdown": [
       "\n",
       "A etable_df: 34 × 4\n",
       "\n",
       "| <!--/--> | <!----> &lt;chr&gt; | fe_no_iv &lt;chr&gt; | heterogenous_fe &lt;chr&gt; | fe_iv &lt;chr&gt; |\n",
       "|---|---|---|---|---|\n",
       "| 1 | Dependent Var.:                                 | log(v)            | log(v)             | log(v)            |\n",
       "| 2 | <!----> | <!----> | <!----> | <!----> |\n",
       "| 3 | log(deaths_i)                                   | -0.0155* (0.0078) | <!----> | -0.0415 (0.0336)  |\n",
       "| 4 | log(deaths_j)                                   | -0.0076 (0.0070)  | <!----> | 0.0093 (0.0314)   |\n",
       "| 5 | C8EV_International_travel_controls_i            | -0.0382. (0.0200) | <!----> | -0.0502* (0.0254) |\n",
       "| 6 | C8EV_International_travel_controls_j            | -0.0272 (0.0201)  | <!----> | -0.0186 (0.0199)  |\n",
       "| 7 | year2021                                        | <!----> | -0.0635 (0.0922)   | <!----> |\n",
       "| 8 | year2022                                        | <!----> | 0.0027 (0.1082)    | <!----> |\n",
       "| 9 | year2020 x log(deaths_i)                        | <!----> | -0.0180* (0.0089)  | <!----> |\n",
       "| 10 | year2021 x log(deaths_i)                        | <!----> | -0.0161. (0.0088)  | <!----> |\n",
       "| 11 | year2022 x log(deaths_i)                        | <!----> | -0.0161 (0.0105)   | <!----> |\n",
       "| 12 | year2020 x log(deaths_j)                        | <!----> | -0.0184* (0.0091)  | <!----> |\n",
       "| 13 | year2021 x log(deaths_j)                        | <!----> | 0.0016 (0.0094)    | <!----> |\n",
       "| 14 | year2022 x log(deaths_j)                        | <!----> | 0.0059 (0.0107)    | <!----> |\n",
       "| 15 | year2020 x C8EV_International_travel_controls_i | <!----> | -0.0802** (0.0304) | <!----> |\n",
       "| 16 | year2021 x C8EV_International_travel_controls_i | <!----> | -0.0312 (0.0194)   | <!----> |\n",
       "| 17 | year2022 x C8EV_International_travel_controls_i | <!----> | -0.0189 (0.0574)   | <!----> |\n",
       "| 18 | year2020 x C8EV_International_travel_controls_j | <!----> | -0.0188 (0.0268)   | <!----> |\n",
       "| 19 | year2021 x C8EV_International_travel_controls_j | <!----> | 0.0111 (0.0144)    | <!----> |\n",
       "| 20 | year2022 x C8EV_International_travel_controls_j | <!----> | -0.1005 (0.0787)   | <!----> |\n",
       "| 21 | Fixed-Effects:                                  | ----------------- | ------------------ | ----------------- |\n",
       "| 22 | i                                               | Yes               | Yes                | Yes               |\n",
       "| 23 | j                                               | Yes               | Yes                | Yes               |\n",
       "| 24 | year                                            | Yes               | No                 | Yes               |\n",
       "| 25 | i-j                                             | Yes               | Yes                | Yes               |\n",
       "| 26 | ________________________________________        | _________________ | __________________ | _________________ |\n",
       "| 27 | S.E.: Clustered                                 | by: i &amp; j         | by: i &amp; j          | by: i &amp; j         |\n",
       "| 28 | Observations                                    | 56,739            | 56,739             | 56,401            |\n",
       "| 29 | R2                                              | 0.97162           | 0.97168            | 0.97163           |\n",
       "| 30 | Within R2                                       | 0.00088           | 0.00779            | -0.00040          |\n",
       "| 31 | Sargan, p-value                                 | --                | --                 | 0.00146           |\n",
       "| 32 | Wu-Hausman, p-value                             | --                | --                 | 0.11055           |\n",
       "| 33 | F-test (1st stage), log(deaths_i)               | --                | --                 | 605.31            |\n",
       "| 34 | F-test (1st stage), log(deaths_j)               | --                | --                 | 583.09            |\n",
       "\n"
      ],
      "text/plain": [
       "                                                   fe_no_iv         \n",
       "1  Dependent Var.:                                 log(v)           \n",
       "2                                                                   \n",
       "3  log(deaths_i)                                   -0.0155* (0.0078)\n",
       "4  log(deaths_j)                                   -0.0076 (0.0070) \n",
       "5  C8EV_International_travel_controls_i            -0.0382. (0.0200)\n",
       "6  C8EV_International_travel_controls_j            -0.0272 (0.0201) \n",
       "7  year2021                                                         \n",
       "8  year2022                                                         \n",
       "9  year2020 x log(deaths_i)                                         \n",
       "10 year2021 x log(deaths_i)                                         \n",
       "11 year2022 x log(deaths_i)                                         \n",
       "12 year2020 x log(deaths_j)                                         \n",
       "13 year2021 x log(deaths_j)                                         \n",
       "14 year2022 x log(deaths_j)                                         \n",
       "15 year2020 x C8EV_International_travel_controls_i                  \n",
       "16 year2021 x C8EV_International_travel_controls_i                  \n",
       "17 year2022 x C8EV_International_travel_controls_i                  \n",
       "18 year2020 x C8EV_International_travel_controls_j                  \n",
       "19 year2021 x C8EV_International_travel_controls_j                  \n",
       "20 year2022 x C8EV_International_travel_controls_j                  \n",
       "21 Fixed-Effects:                                  -----------------\n",
       "22 i                                               Yes              \n",
       "23 j                                               Yes              \n",
       "24 year                                            Yes              \n",
       "25 i-j                                             Yes              \n",
       "26 ________________________________________        _________________\n",
       "27 S.E.: Clustered                                 by: i & j        \n",
       "28 Observations                                    56,739           \n",
       "29 R2                                              0.97162          \n",
       "30 Within R2                                       0.00088          \n",
       "31 Sargan, p-value                                 --               \n",
       "32 Wu-Hausman, p-value                             --               \n",
       "33 F-test (1st stage), log(deaths_i)               --               \n",
       "34 F-test (1st stage), log(deaths_j)               --               \n",
       "   heterogenous_fe    fe_iv            \n",
       "1  log(v)             log(v)           \n",
       "2                                      \n",
       "3                     -0.0415 (0.0336) \n",
       "4                     0.0093 (0.0314)  \n",
       "5                     -0.0502* (0.0254)\n",
       "6                     -0.0186 (0.0199) \n",
       "7  -0.0635 (0.0922)                    \n",
       "8  0.0027 (0.1082)                     \n",
       "9  -0.0180* (0.0089)                   \n",
       "10 -0.0161. (0.0088)                   \n",
       "11 -0.0161 (0.0105)                    \n",
       "12 -0.0184* (0.0091)                   \n",
       "13 0.0016 (0.0094)                     \n",
       "14 0.0059 (0.0107)                     \n",
       "15 -0.0802** (0.0304)                  \n",
       "16 -0.0312 (0.0194)                    \n",
       "17 -0.0189 (0.0574)                    \n",
       "18 -0.0188 (0.0268)                    \n",
       "19 0.0111 (0.0144)                     \n",
       "20 -0.1005 (0.0787)                    \n",
       "21 ------------------ -----------------\n",
       "22 Yes                Yes              \n",
       "23 Yes                Yes              \n",
       "24 No                 Yes              \n",
       "25 Yes                Yes              \n",
       "26 __________________ _________________\n",
       "27 by: i & j          by: i & j        \n",
       "28 56,739             56,401           \n",
       "29 0.97168            0.97163          \n",
       "30 0.00779            -0.00040         \n",
       "31 --                 0.00146          \n",
       "32 --                 0.11055          \n",
       "33 --                 605.31           \n",
       "34 --                 583.09           "
      ]
     },
     "metadata": {},
     "output_type": "display_data"
    }
   ],
   "source": [
    "etable(fe_no_iv, heterogenous_fe, fe_iv, vcov = ~i+j, signif.code=signif.code, fitstat=~ . + sargan.p + wh.p + ivf)"
   ]
  },
  {
   "cell_type": "code",
   "execution_count": 18,
   "metadata": {
    "vscode": {
     "languageId": "r"
    }
   },
   "outputs": [
    {
     "data": {
      "text/plain": [
       "\\begingroup\n",
       "\\centering\n",
       "\\begin{tabular}{lccc}\n",
       "   \\tabularnewline \\midrule \\midrule\n",
       "   Dependent Variable: & \\multicolumn{3}{c}{log(v)}\\\\\n",
       "   Model:                                                          & (1)           & (2)            & (3)\\\\  \n",
       "   \\midrule\n",
       "   \\emph{Variables}\\\\\n",
       "   log(deaths\\_i)                                                  & -0.0155$^{*}$ &                & -0.0415\\\\   \n",
       "                                                                   & (0.0078)      &                & (0.0336)\\\\   \n",
       "   log(deaths\\_j)                                                  & -0.0076       &                & 0.0093\\\\   \n",
       "                                                                   & (0.0070)      &                & (0.0314)\\\\   \n",
       "   C8EV\\_International\\_travel\\_controls\\_i                        & -0.0382$^{.}$ &                & -0.0502$^{*}$\\\\   \n",
       "                                                                   & (0.0200)      &                & (0.0254)\\\\   \n",
       "   C8EV\\_International\\_travel\\_controls\\_j                        & -0.0272       &                & -0.0186\\\\   \n",
       "                                                                   & (0.0201)      &                & (0.0199)\\\\   \n",
       "   year2021                                                        &               & -0.0635        &   \\\\   \n",
       "                                                                   &               & (0.0922)       &   \\\\   \n",
       "   year2022                                                        &               & 0.0027         &   \\\\   \n",
       "                                                                   &               & (0.1082)       &   \\\\   \n",
       "   year2020 $\\times$ log(deaths\\_i)                                &               & -0.0180$^{*}$  &   \\\\   \n",
       "                                                                   &               & (0.0089)       &   \\\\   \n",
       "   year2021 $\\times$ log(deaths\\_i)                                &               & -0.0161$^{.}$  &   \\\\   \n",
       "                                                                   &               & (0.0088)       &   \\\\   \n",
       "   year2022 $\\times$ log(deaths\\_i)                                &               & -0.0161        &   \\\\   \n",
       "                                                                   &               & (0.0105)       &   \\\\   \n",
       "   year2020 $\\times$ log(deaths\\_j)                                &               & -0.0184$^{*}$  &   \\\\   \n",
       "                                                                   &               & (0.0091)       &   \\\\   \n",
       "   year2021 $\\times$ log(deaths\\_j)                                &               & 0.0016         &   \\\\   \n",
       "                                                                   &               & (0.0094)       &   \\\\   \n",
       "   year2022 $\\times$ log(deaths\\_j)                                &               & 0.0059         &   \\\\   \n",
       "                                                                   &               & (0.0107)       &   \\\\   \n",
       "   year2020 $\\times$ C8EV\\_International\\_travel\\_controls\\_i      &               & -0.0802$^{**}$ &   \\\\   \n",
       "                                                                   &               & (0.0304)       &   \\\\   \n",
       "   year2021 $\\times$ C8EV\\_International\\_travel\\_controls\\_i      &               & -0.0312        &   \\\\   \n",
       "                                                                   &               & (0.0194)       &   \\\\   \n",
       "   year2022 $\\times$ C8EV\\_International\\_travel\\_controls\\_i      &               & -0.0189        &   \\\\   \n",
       "                                                                   &               & (0.0574)       &   \\\\   \n",
       "   year2020 $\\times$ C8EV\\_International\\_travel\\_controls\\_j      &               & -0.0188        &   \\\\   \n",
       "                                                                   &               & (0.0268)       &   \\\\   \n",
       "   year2021 $\\times$ C8EV\\_International\\_travel\\_controls\\_j      &               & 0.0111         &   \\\\   \n",
       "                                                                   &               & (0.0144)       &   \\\\   \n",
       "   year2022 $\\times$ C8EV\\_International\\_travel\\_controls\\_j      &               & -0.1005        &   \\\\   \n",
       "                                                                   &               & (0.0787)       &   \\\\   \n",
       "   \\midrule\n",
       "   \\emph{Fixed-effects}\\\\\n",
       "   i                                                               & Yes           & Yes            & Yes\\\\  \n",
       "   j                                                               & Yes           & Yes            & Yes\\\\  \n",
       "   year                                                            & Yes           &                & Yes\\\\  \n",
       "   i-j                                                             & Yes           & Yes            & Yes\\\\  \n",
       "   \\midrule\n",
       "   \\emph{Fit statistics}\\\\\n",
       "   Observations                                                    & 56,739        & 56,739         & 56,401\\\\  \n",
       "   R$^2$                                                           & 0.97162       & 0.97168        & 0.97163\\\\  \n",
       "   Within R$^2$                                                    & 0.00088       & 0.00779        & -0.00040\\\\  \n",
       "   Sargan, p-value                                                 &               &                & 0.00146\\\\  \n",
       "   Wu-Hausman, p-value                                             &               &                & 0.11055\\\\  \n",
       "   F-test (1st stage), log(deaths\\_i)                              &               &                & 605.31\\\\  \n",
       "   F-test (1st stage), log(deaths\\_j)                              &               &                & 583.09\\\\  \n",
       "   \\midrule \\midrule\n",
       "   \\multicolumn{4}{l}{\\emph{Clustered (i \\& j) standard-errors in parentheses}}\\\\\n",
       "   \\multicolumn{4}{l}{\\emph{Signif. Codes: ***: 0.001, **: 0.01, *: 0.05, .: 0.1}}\\\\\n",
       "\\end{tabular}\n",
       "\\par\\endgroup"
      ]
     },
     "metadata": {},
     "output_type": "display_data"
    }
   ],
   "source": [
    "etable(fe_no_iv, heterogenous_fe, fe_iv, vcov = ~i+j, signif.code=signif.code, fitstat=~ . + sargan.p + wh.p + ivf, tex=TRUE)"
   ]
  }
 ],
 "metadata": {
  "kernelspec": {
   "display_name": "R",
   "language": "R",
   "name": "ir"
  },
  "language_info": {
   "codemirror_mode": "r",
   "file_extension": ".r",
   "mimetype": "text/x-r-source",
   "name": "R",
   "pygments_lexer": "r",
   "version": "4.4.1"
  }
 },
 "nbformat": 4,
 "nbformat_minor": 2
}
