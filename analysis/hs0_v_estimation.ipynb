{
 "cells": [
  {
   "cell_type": "markdown",
   "metadata": {},
   "source": [
    "# Оцениваем регрессии на данных HS0 в спецификациях:\n",
    "- Сырые данные ~ ковид и ограничения + контроль на дамми\n",
    "- Сырые данные ~ ковид и ограничения + контроль на дамми | инструментальные переменные"
   ]
  },
  {
   "cell_type": "code",
   "execution_count": 1,
   "metadata": {
    "vscode": {
     "languageId": "r"
    }
   },
   "outputs": [
    {
     "name": "stderr",
     "output_type": "stream",
     "text": [
      "\n",
      "Присоединяю пакет: 'arrow'\n",
      "\n",
      "\n",
      "Следующий объект скрыт от 'package:utils':\n",
      "\n",
      "    timestamp\n",
      "\n",
      "\n",
      "\n",
      "Please cite as: \n",
      "\n",
      "\n",
      " Hlavac, Marek (2022). stargazer: Well-Formatted Regression and Summary Statistics Tables.\n",
      "\n",
      " R package version 5.2.3. https://CRAN.R-project.org/package=stargazer \n",
      "\n",
      "\n",
      "Warning message:\n",
      "\"пакет 'tidyverse' был собран под R версии 4.4.2\"\n",
      "── \u001b[1mAttaching core tidyverse packages\u001b[22m ──────────────────────── tidyverse 2.0.0 ──\n",
      "\u001b[32m✔\u001b[39m \u001b[34mdplyr    \u001b[39m 1.1.4     \u001b[32m✔\u001b[39m \u001b[34mreadr    \u001b[39m 2.1.5\n",
      "\u001b[32m✔\u001b[39m \u001b[34mforcats  \u001b[39m 1.0.0     \u001b[32m✔\u001b[39m \u001b[34mstringr  \u001b[39m 1.5.1\n",
      "\u001b[32m✔\u001b[39m \u001b[34mggplot2  \u001b[39m 3.5.1     \u001b[32m✔\u001b[39m \u001b[34mtibble   \u001b[39m 3.2.1\n",
      "\u001b[32m✔\u001b[39m \u001b[34mlubridate\u001b[39m 1.9.3     \u001b[32m✔\u001b[39m \u001b[34mtidyr    \u001b[39m 1.3.1\n",
      "\u001b[32m✔\u001b[39m \u001b[34mpurrr    \u001b[39m 1.0.2     \n",
      "── \u001b[1mConflicts\u001b[22m ────────────────────────────────────────── tidyverse_conflicts() ──\n",
      "\u001b[31m✖\u001b[39m \u001b[34mlubridate\u001b[39m::\u001b[32mduration()\u001b[39m masks \u001b[34marrow\u001b[39m::duration()\n",
      "\u001b[31m✖\u001b[39m \u001b[34mdplyr\u001b[39m::\u001b[32mfilter()\u001b[39m       masks \u001b[34mstats\u001b[39m::filter()\n",
      "\u001b[31m✖\u001b[39m \u001b[34mdplyr\u001b[39m::\u001b[32mlag()\u001b[39m          masks \u001b[34mstats\u001b[39m::lag()\n",
      "\u001b[36mℹ\u001b[39m Use the conflicted package (\u001b[3m\u001b[34m<http://conflicted.r-lib.org/>\u001b[39m\u001b[23m) to force all conflicts to become errors\n",
      "Warning message:\n",
      "\"пакет 'plotly' был собран под R версии 4.4.2\"\n",
      "\n",
      "Присоединяю пакет: 'plotly'\n",
      "\n",
      "\n",
      "Следующий объект скрыт от 'package:ggplot2':\n",
      "\n",
      "    last_plot\n",
      "\n",
      "\n",
      "Следующий объект скрыт от 'package:arrow':\n",
      "\n",
      "    schema\n",
      "\n",
      "\n",
      "Следующий объект скрыт от 'package:stats':\n",
      "\n",
      "    filter\n",
      "\n",
      "\n",
      "Следующий объект скрыт от 'package:graphics':\n",
      "\n",
      "    layout\n",
      "\n",
      "\n"
     ]
    }
   ],
   "source": [
    "library(arrow)\n",
    "library(stargazer)\n",
    "library(tidyverse)\n",
    "library(plotly)\n",
    "library(fixest)\n",
    "signif.code = signif.code = c(\"***\" = 0.001, \"**\" = 0.01, \"*\" = 0.05, \".\" = 0.10)"
   ]
  },
  {
   "cell_type": "markdown",
   "metadata": {},
   "source": [
    "## Сырые данные\n",
    "\n",
    "Под каждой регрессией вывожу summary с кластеризацией ошибок. В конце блока сравниваю робастность результата по используемым ошибкам."
   ]
  },
  {
   "cell_type": "code",
   "execution_count": 2,
   "metadata": {
    "vscode": {
     "languageId": "r"
    }
   },
   "outputs": [
    {
     "data": {
      "text/html": [
       "<table class=\"dataframe\">\n",
       "<caption>A tibble: 6 × 142</caption>\n",
       "<thead>\n",
       "\t<tr><th scope=col>t</th><th scope=col>i</th><th scope=col>j</th><th scope=col>v</th><th scope=col>q</th><th scope=col>v19</th><th scope=col>q19</th><th scope=col>country</th><th scope=col>t:r_i</th><th scope=col>cases</th><th scope=col>⋯</th><th scope=col>C1M_School_closing_i</th><th scope=col>C1M_School_closing_j</th><th scope=col>population_density_i</th><th scope=col>population_density_j</th><th scope=col>share_1_members_i</th><th scope=col>share_1_members_j</th><th scope=col>H6M_Facial_Coverings_i</th><th scope=col>H6M_Facial_Coverings_j</th><th scope=col>C8EV_International_travel_controls_i</th><th scope=col>C8EV_International_travel_controls_j</th></tr>\n",
       "\t<tr><th scope=col>&lt;int&gt;</th><th scope=col>&lt;chr&gt;</th><th scope=col>&lt;chr&gt;</th><th scope=col>&lt;dbl&gt;</th><th scope=col>&lt;dbl&gt;</th><th scope=col>&lt;dbl&gt;</th><th scope=col>&lt;dbl&gt;</th><th scope=col>&lt;chr&gt;</th><th scope=col>&lt;int&gt;</th><th scope=col>&lt;dbl&gt;</th><th scope=col>⋯</th><th scope=col>&lt;dbl&gt;</th><th scope=col>&lt;dbl&gt;</th><th scope=col>&lt;dbl&gt;</th><th scope=col>&lt;dbl&gt;</th><th scope=col>&lt;dbl&gt;</th><th scope=col>&lt;dbl&gt;</th><th scope=col>&lt;dbl&gt;</th><th scope=col>&lt;dbl&gt;</th><th scope=col>&lt;dbl&gt;</th><th scope=col>&lt;dbl&gt;</th></tr>\n",
       "</thead>\n",
       "<tbody>\n",
       "\t<tr><td>2021</td><td>LUX</td><td>LBY</td><td>    968.018</td><td>    210.173</td><td>   501.858</td><td>    127.012</td><td>LUX</td><td>2021</td><td>241.1512329</td><td>⋯</td><td>1.183562</td><td>1.49315071</td><td>248.620682</td><td>   4.055137</td><td>33.34</td><td>   NA</td><td>2.0082192</td><td>2.827397</td><td>2.534247</td><td>2.520548</td></tr>\n",
       "\t<tr><td>2021</td><td>RUS</td><td>SEN</td><td>1307165.125</td><td>3131615.500</td><td>789625.305</td><td>2232100.632</td><td>RUS</td><td>2021</td><td>138.1677534</td><td>⋯</td><td>1.290411</td><td>0.07671233</td><td>  8.838488</td><td>  89.445110</td><td>25.69</td><td> 6.92</td><td>2.3150685</td><td>3.402740</td><td>2.610959</td><td>2.561644</td></tr>\n",
       "\t<tr><td>2020</td><td>SOM</td><td>KOR</td><td>   3136.611</td><td>   2045.876</td><td>  5608.268</td><td>   4002.770</td><td>SOM</td><td>2020</td><td>  0.7276796</td><td>⋯</td><td>1.584700</td><td>1.98087430</td><td> 26.542530</td><td> 531.109006</td><td> 1.53</td><td>31.75</td><td>0.7622951</td><td>1.653005</td><td>2.101093</td><td>2.415301</td></tr>\n",
       "\t<tr><td>2020</td><td>TUR</td><td>CRI</td><td>  57792.285</td><td>  98850.453</td><td> 60858.013</td><td>  86163.873</td><td>TUR</td><td>2020</td><td> 67.6935912</td><td>⋯</td><td>2.153005</td><td>2.40437150</td><td>108.343854</td><td>  98.596161</td><td> 6.37</td><td>12.07</td><td>2.2732241</td><td>1.218579</td><td>2.040984</td><td>2.322404</td></tr>\n",
       "\t<tr><td>2021</td><td>KNA</td><td>BIH</td><td>      0.520</td><td>      0.008</td><td>     0.460</td><td>      0.005</td><td>KNA</td><td>2021</td><td>164.5090411</td><td>⋯</td><td>      NA</td><td>1.00000000</td><td>179.857692</td><td>  63.377090</td><td>   NA</td><td>11.50</td><td>       NA</td><td>2.476712</td><td>      NA</td><td>1.000000</td></tr>\n",
       "\t<tr><td>2022</td><td>AZE</td><td>MLT</td><td>  22060.938</td><td>  39007.156</td><td> 12476.490</td><td>  33493.400</td><td>AZE</td><td>2022</td><td> 56.3560822</td><td>⋯</td><td>2.000000</td><td>0.27945206</td><td>122.707272</td><td>1660.971875</td><td> 6.77</td><td>22.64</td><td>0.6575342</td><td>2.323288</td><td>3.000000</td><td>1.263014</td></tr>\n",
       "</tbody>\n",
       "</table>\n"
      ],
      "text/latex": [
       "A tibble: 6 × 142\n",
       "\\begin{tabular}{lllllllllllllllllllll}\n",
       " t & i & j & v & q & v19 & q19 & country & t:r\\_i & cases & ⋯ & C1M\\_School\\_closing\\_i & C1M\\_School\\_closing\\_j & population\\_density\\_i & population\\_density\\_j & share\\_1\\_members\\_i & share\\_1\\_members\\_j & H6M\\_Facial\\_Coverings\\_i & H6M\\_Facial\\_Coverings\\_j & C8EV\\_International\\_travel\\_controls\\_i & C8EV\\_International\\_travel\\_controls\\_j\\\\\n",
       " <int> & <chr> & <chr> & <dbl> & <dbl> & <dbl> & <dbl> & <chr> & <int> & <dbl> & ⋯ & <dbl> & <dbl> & <dbl> & <dbl> & <dbl> & <dbl> & <dbl> & <dbl> & <dbl> & <dbl>\\\\\n",
       "\\hline\n",
       "\t 2021 & LUX & LBY &     968.018 &     210.173 &    501.858 &     127.012 & LUX & 2021 & 241.1512329 & ⋯ & 1.183562 & 1.49315071 & 248.620682 &    4.055137 & 33.34 &    NA & 2.0082192 & 2.827397 & 2.534247 & 2.520548\\\\\n",
       "\t 2021 & RUS & SEN & 1307165.125 & 3131615.500 & 789625.305 & 2232100.632 & RUS & 2021 & 138.1677534 & ⋯ & 1.290411 & 0.07671233 &   8.838488 &   89.445110 & 25.69 &  6.92 & 2.3150685 & 3.402740 & 2.610959 & 2.561644\\\\\n",
       "\t 2020 & SOM & KOR &    3136.611 &    2045.876 &   5608.268 &    4002.770 & SOM & 2020 &   0.7276796 & ⋯ & 1.584700 & 1.98087430 &  26.542530 &  531.109006 &  1.53 & 31.75 & 0.7622951 & 1.653005 & 2.101093 & 2.415301\\\\\n",
       "\t 2020 & TUR & CRI &   57792.285 &   98850.453 &  60858.013 &   86163.873 & TUR & 2020 &  67.6935912 & ⋯ & 2.153005 & 2.40437150 & 108.343854 &   98.596161 &  6.37 & 12.07 & 2.2732241 & 1.218579 & 2.040984 & 2.322404\\\\\n",
       "\t 2021 & KNA & BIH &       0.520 &       0.008 &      0.460 &       0.005 & KNA & 2021 & 164.5090411 & ⋯ &       NA & 1.00000000 & 179.857692 &   63.377090 &    NA & 11.50 &        NA & 2.476712 &       NA & 1.000000\\\\\n",
       "\t 2022 & AZE & MLT &   22060.938 &   39007.156 &  12476.490 &   33493.400 & AZE & 2022 &  56.3560822 & ⋯ & 2.000000 & 0.27945206 & 122.707272 & 1660.971875 &  6.77 & 22.64 & 0.6575342 & 2.323288 & 3.000000 & 1.263014\\\\\n",
       "\\end{tabular}\n"
      ],
      "text/markdown": [
       "\n",
       "A tibble: 6 × 142\n",
       "\n",
       "| t &lt;int&gt; | i &lt;chr&gt; | j &lt;chr&gt; | v &lt;dbl&gt; | q &lt;dbl&gt; | v19 &lt;dbl&gt; | q19 &lt;dbl&gt; | country &lt;chr&gt; | t:r_i &lt;int&gt; | cases &lt;dbl&gt; | ⋯ ⋯ | C1M_School_closing_i &lt;dbl&gt; | C1M_School_closing_j &lt;dbl&gt; | population_density_i &lt;dbl&gt; | population_density_j &lt;dbl&gt; | share_1_members_i &lt;dbl&gt; | share_1_members_j &lt;dbl&gt; | H6M_Facial_Coverings_i &lt;dbl&gt; | H6M_Facial_Coverings_j &lt;dbl&gt; | C8EV_International_travel_controls_i &lt;dbl&gt; | C8EV_International_travel_controls_j &lt;dbl&gt; |\n",
       "|---|---|---|---|---|---|---|---|---|---|---|---|---|---|---|---|---|---|---|---|---|\n",
       "| 2021 | LUX | LBY |     968.018 |     210.173 |    501.858 |     127.012 | LUX | 2021 | 241.1512329 | ⋯ | 1.183562 | 1.49315071 | 248.620682 |    4.055137 | 33.34 |    NA | 2.0082192 | 2.827397 | 2.534247 | 2.520548 |\n",
       "| 2021 | RUS | SEN | 1307165.125 | 3131615.500 | 789625.305 | 2232100.632 | RUS | 2021 | 138.1677534 | ⋯ | 1.290411 | 0.07671233 |   8.838488 |   89.445110 | 25.69 |  6.92 | 2.3150685 | 3.402740 | 2.610959 | 2.561644 |\n",
       "| 2020 | SOM | KOR |    3136.611 |    2045.876 |   5608.268 |    4002.770 | SOM | 2020 |   0.7276796 | ⋯ | 1.584700 | 1.98087430 |  26.542530 |  531.109006 |  1.53 | 31.75 | 0.7622951 | 1.653005 | 2.101093 | 2.415301 |\n",
       "| 2020 | TUR | CRI |   57792.285 |   98850.453 |  60858.013 |   86163.873 | TUR | 2020 |  67.6935912 | ⋯ | 2.153005 | 2.40437150 | 108.343854 |   98.596161 |  6.37 | 12.07 | 2.2732241 | 1.218579 | 2.040984 | 2.322404 |\n",
       "| 2021 | KNA | BIH |       0.520 |       0.008 |      0.460 |       0.005 | KNA | 2021 | 164.5090411 | ⋯ |       NA | 1.00000000 | 179.857692 |   63.377090 |    NA | 11.50 |        NA | 2.476712 |       NA | 1.000000 |\n",
       "| 2022 | AZE | MLT |   22060.938 |   39007.156 |  12476.490 |   33493.400 | AZE | 2022 |  56.3560822 | ⋯ | 2.000000 | 0.27945206 | 122.707272 | 1660.971875 |  6.77 | 22.64 | 0.6575342 | 2.323288 | 3.000000 | 1.263014 |\n",
       "\n"
      ],
      "text/plain": [
       "  t    i   j   v           q           v19        q19         country t:r_i\n",
       "1 2021 LUX LBY     968.018     210.173    501.858     127.012 LUX     2021 \n",
       "2 2021 RUS SEN 1307165.125 3131615.500 789625.305 2232100.632 RUS     2021 \n",
       "3 2020 SOM KOR    3136.611    2045.876   5608.268    4002.770 SOM     2020 \n",
       "4 2020 TUR CRI   57792.285   98850.453  60858.013   86163.873 TUR     2020 \n",
       "5 2021 KNA BIH       0.520       0.008      0.460       0.005 KNA     2021 \n",
       "6 2022 AZE MLT   22060.938   39007.156  12476.490   33493.400 AZE     2022 \n",
       "  cases       ⋯ C1M_School_closing_i C1M_School_closing_j population_density_i\n",
       "1 241.1512329 ⋯ 1.183562             1.49315071           248.620682          \n",
       "2 138.1677534 ⋯ 1.290411             0.07671233             8.838488          \n",
       "3   0.7276796 ⋯ 1.584700             1.98087430            26.542530          \n",
       "4  67.6935912 ⋯ 2.153005             2.40437150           108.343854          \n",
       "5 164.5090411 ⋯       NA             1.00000000           179.857692          \n",
       "6  56.3560822 ⋯ 2.000000             0.27945206           122.707272          \n",
       "  population_density_j share_1_members_i share_1_members_j\n",
       "1    4.055137          33.34                NA            \n",
       "2   89.445110          25.69              6.92            \n",
       "3  531.109006           1.53             31.75            \n",
       "4   98.596161           6.37             12.07            \n",
       "5   63.377090             NA             11.50            \n",
       "6 1660.971875           6.77             22.64            \n",
       "  H6M_Facial_Coverings_i H6M_Facial_Coverings_j\n",
       "1 2.0082192              2.827397              \n",
       "2 2.3150685              3.402740              \n",
       "3 0.7622951              1.653005              \n",
       "4 2.2732241              1.218579              \n",
       "5        NA              2.476712              \n",
       "6 0.6575342              2.323288              \n",
       "  C8EV_International_travel_controls_i C8EV_International_travel_controls_j\n",
       "1 2.534247                             2.520548                            \n",
       "2 2.610959                             2.561644                            \n",
       "3 2.101093                             2.415301                            \n",
       "4 2.040984                             2.322404                            \n",
       "5       NA                             1.000000                            \n",
       "6 3.000000                             1.263014                            "
      ]
     },
     "metadata": {},
     "output_type": "display_data"
    }
   ],
   "source": [
    "# Скачиваю данные и переназываю переменные\n",
    "df = read_parquet('../data/processed_data/trade_hs0_x_covid.parquet.gzip')\n",
    "# Переменная pair нужна, чтобы считать НАС стандартные ошибки\n",
    "df = df %>% mutate(pair = paste(i, j))\n",
    "\n",
    "df$deaths_i = df$deaths\n",
    "df$deaths_j = df$`deaths:r_j`\n",
    "\n",
    "df$median_age_i = df$median_age\n",
    "df$median_age_j = df$`median_age:r_j`\n",
    "\n",
    "df$average_surface_temperature_i = df$average_surface_temperature\n",
    "df$average_surface_temperature_j = df$`average_surface_temperature:r_j`\n",
    "\n",
    "df$C1M_School_closing_i = df$C1M_School_closing\n",
    "df$C1M_School_closing_j = df$`C1M_School_closing:r_j`\n",
    "\n",
    "df$population_density_i = df$population_density\n",
    "df$population_density_j = df$`population_density:r_j`\n",
    "\n",
    "df$share_1_members_i = df$share_1_members\n",
    "df$share_1_members_j = df$`share_1_members:r_j`\n",
    "\n",
    "df$H6M_Facial_Coverings_i = df$H6M_Facial_Coverings\n",
    "df$H6M_Facial_Coverings_j = df$`H6M_Facial_Coverings:r_j`\n",
    "\n",
    "df$C8EV_International_travel_controls_i = df$C8EV_International_travel_controls\n",
    "df$C8EV_International_travel_controls_j = df$`C8EV_International_travel_controls:r_j`\n",
    "df %>% head()"
   ]
  },
  {
   "cell_type": "code",
   "execution_count": 3,
   "metadata": {
    "vscode": {
     "languageId": "r"
    }
   },
   "outputs": [
    {
     "name": "stderr",
     "output_type": "stream",
     "text": [
      "NOTE: 13,568 observations removed because of NA and infinite values (RHS: 13,568).\n",
      "\n"
     ]
    },
    {
     "data": {
      "text/plain": [
       "OLS estimation, Dep. Var.: log(v)\n",
       "Observations: 56,739\n",
       "Standard-errors: Clustered (i & j) \n",
       "                                      Estimate Std. Error   t value   Pr(>|t|)\n",
       "(Intercept)                           8.748607   0.301364 29.030005  < 2.2e-16\n",
       "log(deaths_i)                         0.325192   0.090876  3.578422 0.00044799\n",
       "log(deaths_j)                         0.150638   0.065264  2.308131 0.02216840\n",
       "C8EV_International_travel_controls_i  0.234891   0.157781  1.488711 0.13837363\n",
       "C8EV_International_travel_controls_j -0.020201   0.137475 -0.146944 0.88334648\n",
       "                                        \n",
       "(Intercept)                          ***\n",
       "log(deaths_i)                        ***\n",
       "log(deaths_j)                        *  \n",
       "C8EV_International_travel_controls_i    \n",
       "C8EV_International_travel_controls_j    \n",
       "---\n",
       "Signif. codes:  0 '***' 0.001 '**' 0.01 '*' 0.05 '.' 0.1 ' ' 1\n",
       "RMSE: 4.09796   Adj. R2: 0.034332"
      ]
     },
     "metadata": {},
     "output_type": "display_data"
    }
   ],
   "source": [
    "# Делаю pulled OLS ради интереса\n",
    "pulled_ols = feols(log(v) ~ log(deaths_i) + log(deaths_j) +\n",
    " C8EV_International_travel_controls_i + C8EV_International_travel_controls_j,\n",
    " data = df)\n",
    "pulled_ols %>% summary(cluster = ~ i+j)"
   ]
  },
  {
   "cell_type": "code",
   "execution_count": 4,
   "metadata": {
    "vscode": {
     "languageId": "r"
    }
   },
   "outputs": [
    {
     "name": "stderr",
     "output_type": "stream",
     "text": [
      "NOTE: 13,568 observations removed because of NA and infinite values (RHS: 13,568).\n",
      "\n"
     ]
    },
    {
     "data": {
      "text/plain": [
       "OLS estimation, Dep. Var.: log(v)\n",
       "Observations: 56,739\n",
       "Fixed-effects: i: 175,  j: 175,  year: 3\n",
       "Standard-errors: Clustered (i & j) \n",
       "                                      Estimate Std. Error   t value Pr(>|t|) \n",
       "log(deaths_i)                        -0.013392   0.009686 -1.382547  0.16858 \n",
       "log(deaths_j)                        -0.000571   0.008342 -0.068415  0.94553 \n",
       "C8EV_International_travel_controls_i -0.023257   0.020419 -1.138968  0.25628 \n",
       "C8EV_International_travel_controls_j -0.002680   0.017059 -0.157115  0.87534 \n",
       "---\n",
       "Signif. codes:  0 '***' 0.001 '**' 0.01 '*' 0.05 '.' 0.1 ' ' 1\n",
       "RMSE: 2.53245     Adj. R2: 0.628924\n",
       "                Within R2: 2.681e-5"
      ]
     },
     "metadata": {},
     "output_type": "display_data"
    }
   ],
   "source": [
    "# FE (т.е. оценка на панельных данных с использованием внутригрупповой дисперсии)\n",
    "fe_no_iv = feols(log(v) ~ log(deaths_i) + log(deaths_j) +\n",
    " C8EV_International_travel_controls_i + C8EV_International_travel_controls_j| i + j + year,\n",
    " data = df)\n",
    "fe_no_iv %>% summary(cluster = ~ i+j)"
   ]
  },
  {
   "cell_type": "code",
   "execution_count": 5,
   "metadata": {
    "vscode": {
     "languageId": "r"
    }
   },
   "outputs": [
    {
     "name": "stderr",
     "output_type": "stream",
     "text": [
      "NOTE: 13,568 observations removed because of NA and infinite values (RHS: 13,568).\n",
      "\n"
     ]
    },
    {
     "data": {
      "text/plain": [
       "OLS estimation, Dep. Var.: log(v)\n",
       "Observations: 56,739\n",
       "Fixed-effects: i: 175,  j: 175\n",
       "Standard-errors: Clustered (i & j) \n",
       "                                               Estimate Std. Error   t value\n",
       "year2021                                       0.022962   0.115784  0.198314\n",
       "year2022                                       0.070461   0.124519  0.565864\n",
       "year2020:log(deaths_i)                        -0.011340   0.011314 -1.002314\n",
       "year2021:log(deaths_i)                        -0.016472   0.010987 -1.499205\n",
       "year2022:log(deaths_i)                        -0.019750   0.011870 -1.663835\n",
       "year2020:log(deaths_j)                        -0.008217   0.010192 -0.806233\n",
       "year2021:log(deaths_j)                         0.002133   0.010104  0.211126\n",
       "year2022:log(deaths_j)                         0.010205   0.011284  0.904311\n",
       "year2020:C8EV_International_travel_controls_i -0.071633   0.034438 -2.080066\n",
       "year2021:C8EV_International_travel_controls_i -0.023306   0.020801 -1.120400\n",
       "year2022:C8EV_International_travel_controls_i  0.003314   0.053212  0.062285\n",
       "year2020:C8EV_International_travel_controls_j  0.019291   0.030298  0.636710\n",
       "year2021:C8EV_International_travel_controls_j  0.012106   0.015604  0.775804\n",
       "year2022:C8EV_International_travel_controls_j -0.025578   0.059153 -0.432411\n",
       "                                              Pr(>|t|)    \n",
       "year2021                                      0.843031    \n",
       "year2022                                      0.572215    \n",
       "year2020:log(deaths_i)                        0.317584    \n",
       "year2021:log(deaths_i)                        0.135633    \n",
       "year2022:log(deaths_i)                        0.097945 .  \n",
       "year2020:log(deaths_j)                        0.421209    \n",
       "year2021:log(deaths_j)                        0.833036    \n",
       "year2022:log(deaths_j)                        0.367081    \n",
       "year2020:C8EV_International_travel_controls_i 0.038985 *  \n",
       "year2021:C8EV_International_travel_controls_i 0.264087    \n",
       "year2022:C8EV_International_travel_controls_i 0.950407    \n",
       "year2020:C8EV_International_travel_controls_j 0.525151    \n",
       "year2021:C8EV_International_travel_controls_j 0.438918    \n",
       "year2022:C8EV_International_travel_controls_j 0.665978    \n",
       "---\n",
       "Signif. codes:  0 '***' 0.001 '**' 0.01 '*' 0.05 '.' 0.1 ' ' 1\n",
       "RMSE: 2.53234     Adj. R2: 0.628904\n",
       "                Within R2: 8.24e-4 "
      ]
     },
     "metadata": {},
     "output_type": "display_data"
    }
   ],
   "source": [
    "# Добавляю гетерогенность эффектов во времени\n",
    "heterogenous_fe = feols(log(v) ~ year/log(deaths_i) + year/log(deaths_j) +\n",
    "year/C8EV_International_travel_controls_i + year/C8EV_International_travel_controls_j|\n",
    "i + j ,\n",
    "data = df)\n",
    "heterogenous_fe %>% summary(cluster = ~ i+j)"
   ]
  },
  {
   "cell_type": "code",
   "execution_count": 6,
   "metadata": {
    "vscode": {
     "languageId": "r"
    }
   },
   "outputs": [
    {
     "data": {
      "text/html": [
       "<table class=\"dataframe\">\n",
       "<caption>A etable_df: 30 × 4</caption>\n",
       "<thead>\n",
       "\t<tr><th></th><th scope=col></th><th scope=col>pulled_ols</th><th scope=col>fe_no_iv</th><th scope=col>heterogenous_fe</th></tr>\n",
       "\t<tr><th></th><th scope=col>&lt;chr&gt;</th><th scope=col>&lt;chr&gt;</th><th scope=col>&lt;chr&gt;</th><th scope=col>&lt;chr&gt;</th></tr>\n",
       "</thead>\n",
       "<tbody>\n",
       "\t<tr><th scope=row>1</th><td>Dependent Var.:                                </td><td>log(v)            </td><td>log(v)          </td><td>log(v)           </td></tr>\n",
       "\t<tr><th scope=row>2</th><td>                                               </td><td>                  </td><td>                </td><td>                 </td></tr>\n",
       "\t<tr><th scope=row>3</th><td>Constant                                       </td><td>8.749*** (0.3014) </td><td>                </td><td>                 </td></tr>\n",
       "\t<tr><th scope=row>4</th><td>log(deaths_i)                                  </td><td>0.3252*** (0.0909)</td><td>-0.0134 (0.0097)</td><td>                 </td></tr>\n",
       "\t<tr><th scope=row>5</th><td>log(deaths_j)                                  </td><td>0.1506* (0.0653)  </td><td>-0.0006 (0.0083)</td><td>                 </td></tr>\n",
       "\t<tr><th scope=row>6</th><td>C8EV_International_travel_controls_i           </td><td>0.2349 (0.1578)   </td><td>-0.0233 (0.0204)</td><td>                 </td></tr>\n",
       "\t<tr><th scope=row>7</th><td>C8EV_International_travel_controls_j           </td><td>-0.0202 (0.1375)  </td><td>-0.0027 (0.0171)</td><td>                 </td></tr>\n",
       "\t<tr><th scope=row>8</th><td>year2021                                       </td><td>                  </td><td>                </td><td>0.0230 (0.1158)  </td></tr>\n",
       "\t<tr><th scope=row>9</th><td>year2022                                       </td><td>                  </td><td>                </td><td>0.0705 (0.1245)  </td></tr>\n",
       "\t<tr><th scope=row>10</th><td>year2020 x log(deaths_i)                       </td><td>                  </td><td>                </td><td>-0.0113 (0.0113) </td></tr>\n",
       "\t<tr><th scope=row>11</th><td>year2021 x log(deaths_i)                       </td><td>                  </td><td>                </td><td>-0.0165 (0.0110) </td></tr>\n",
       "\t<tr><th scope=row>12</th><td>year2022 x log(deaths_i)                       </td><td>                  </td><td>                </td><td>-0.0198. (0.0119)</td></tr>\n",
       "\t<tr><th scope=row>13</th><td>year2020 x log(deaths_j)                       </td><td>                  </td><td>                </td><td>-0.0082 (0.0102) </td></tr>\n",
       "\t<tr><th scope=row>14</th><td>year2021 x log(deaths_j)                       </td><td>                  </td><td>                </td><td>0.0021 (0.0101)  </td></tr>\n",
       "\t<tr><th scope=row>15</th><td>year2022 x log(deaths_j)                       </td><td>                  </td><td>                </td><td>0.0102 (0.0113)  </td></tr>\n",
       "\t<tr><th scope=row>16</th><td>year2020 x C8EV_International_travel_controls_i</td><td>                  </td><td>                </td><td>-0.0716* (0.0344)</td></tr>\n",
       "\t<tr><th scope=row>17</th><td>year2021 x C8EV_International_travel_controls_i</td><td>                  </td><td>                </td><td>-0.0233 (0.0208) </td></tr>\n",
       "\t<tr><th scope=row>18</th><td>year2022 x C8EV_International_travel_controls_i</td><td>                  </td><td>                </td><td>0.0033 (0.0532)  </td></tr>\n",
       "\t<tr><th scope=row>19</th><td>year2020 x C8EV_International_travel_controls_j</td><td>                  </td><td>                </td><td>0.0193 (0.0303)  </td></tr>\n",
       "\t<tr><th scope=row>20</th><td>year2021 x C8EV_International_travel_controls_j</td><td>                  </td><td>                </td><td>0.0121 (0.0156)  </td></tr>\n",
       "\t<tr><th scope=row>21</th><td>year2022 x C8EV_International_travel_controls_j</td><td>                  </td><td>                </td><td>-0.0256 (0.0592) </td></tr>\n",
       "\t<tr><th scope=row>22</th><td>Fixed-Effects:                                 </td><td>------------------</td><td>----------------</td><td>-----------------</td></tr>\n",
       "\t<tr><th scope=row>23</th><td>i                                              </td><td>No                </td><td>Yes             </td><td>Yes              </td></tr>\n",
       "\t<tr><th scope=row>24</th><td>j                                              </td><td>No                </td><td>Yes             </td><td>Yes              </td></tr>\n",
       "\t<tr><th scope=row>25</th><td>year                                           </td><td>No                </td><td>Yes             </td><td>No               </td></tr>\n",
       "\t<tr><th scope=row>26</th><td>________________________________________       </td><td>__________________</td><td>________________</td><td>_________________</td></tr>\n",
       "\t<tr><th scope=row>27</th><td><span style=white-space:pre-wrap>S.E.: Clustered                                </span></td><td><span style=white-space:pre-wrap>by: i &amp; j         </span></td><td><span style=white-space:pre-wrap>by: i &amp; j       </span></td><td><span style=white-space:pre-wrap>by: i &amp; j        </span></td></tr>\n",
       "\t<tr><th scope=row>28</th><td>Observations                                   </td><td>56,739            </td><td>56,739          </td><td>56,739           </td></tr>\n",
       "\t<tr><th scope=row>29</th><td>R2                                             </td><td>0.03440           </td><td>0.63124         </td><td>0.63127          </td></tr>\n",
       "\t<tr><th scope=row>30</th><td>Within R2                                      </td><td>--                </td><td>2.68e-5         </td><td>0.00082          </td></tr>\n",
       "</tbody>\n",
       "</table>\n"
      ],
      "text/latex": [
       "A etable\\_df: 30 × 4\n",
       "\\begin{tabular}{r|llll}\n",
       "  &  & pulled\\_ols & fe\\_no\\_iv & heterogenous\\_fe\\\\\n",
       "  & <chr> & <chr> & <chr> & <chr>\\\\\n",
       "\\hline\n",
       "\t1 & Dependent Var.:                                 & log(v)             & log(v)           & log(v)           \\\\\n",
       "\t2 &                                                 &                    &                  &                  \\\\\n",
       "\t3 & Constant                                        & 8.749*** (0.3014)  &                  &                  \\\\\n",
       "\t4 & log(deaths\\_i)                                   & 0.3252*** (0.0909) & -0.0134 (0.0097) &                  \\\\\n",
       "\t5 & log(deaths\\_j)                                   & 0.1506* (0.0653)   & -0.0006 (0.0083) &                  \\\\\n",
       "\t6 & C8EV\\_International\\_travel\\_controls\\_i            & 0.2349 (0.1578)    & -0.0233 (0.0204) &                  \\\\\n",
       "\t7 & C8EV\\_International\\_travel\\_controls\\_j            & -0.0202 (0.1375)   & -0.0027 (0.0171) &                  \\\\\n",
       "\t8 & year2021                                        &                    &                  & 0.0230 (0.1158)  \\\\\n",
       "\t9 & year2022                                        &                    &                  & 0.0705 (0.1245)  \\\\\n",
       "\t10 & year2020 x log(deaths\\_i)                        &                    &                  & -0.0113 (0.0113) \\\\\n",
       "\t11 & year2021 x log(deaths\\_i)                        &                    &                  & -0.0165 (0.0110) \\\\\n",
       "\t12 & year2022 x log(deaths\\_i)                        &                    &                  & -0.0198. (0.0119)\\\\\n",
       "\t13 & year2020 x log(deaths\\_j)                        &                    &                  & -0.0082 (0.0102) \\\\\n",
       "\t14 & year2021 x log(deaths\\_j)                        &                    &                  & 0.0021 (0.0101)  \\\\\n",
       "\t15 & year2022 x log(deaths\\_j)                        &                    &                  & 0.0102 (0.0113)  \\\\\n",
       "\t16 & year2020 x C8EV\\_International\\_travel\\_controls\\_i &                    &                  & -0.0716* (0.0344)\\\\\n",
       "\t17 & year2021 x C8EV\\_International\\_travel\\_controls\\_i &                    &                  & -0.0233 (0.0208) \\\\\n",
       "\t18 & year2022 x C8EV\\_International\\_travel\\_controls\\_i &                    &                  & 0.0033 (0.0532)  \\\\\n",
       "\t19 & year2020 x C8EV\\_International\\_travel\\_controls\\_j &                    &                  & 0.0193 (0.0303)  \\\\\n",
       "\t20 & year2021 x C8EV\\_International\\_travel\\_controls\\_j &                    &                  & 0.0121 (0.0156)  \\\\\n",
       "\t21 & year2022 x C8EV\\_International\\_travel\\_controls\\_j &                    &                  & -0.0256 (0.0592) \\\\\n",
       "\t22 & Fixed-Effects:                                  & ------------------ & ---------------- & -----------------\\\\\n",
       "\t23 & i                                               & No                 & Yes              & Yes              \\\\\n",
       "\t24 & j                                               & No                 & Yes              & Yes              \\\\\n",
       "\t25 & year                                            & No                 & Yes              & No               \\\\\n",
       "\t26 & \\_\\_\\_\\_\\_\\_\\_\\_\\_\\_\\_\\_\\_\\_\\_\\_\\_\\_\\_\\_\\_\\_\\_\\_\\_\\_\\_\\_\\_\\_\\_\\_\\_\\_\\_\\_\\_\\_\\_\\_        & \\_\\_\\_\\_\\_\\_\\_\\_\\_\\_\\_\\_\\_\\_\\_\\_\\_\\_ & \\_\\_\\_\\_\\_\\_\\_\\_\\_\\_\\_\\_\\_\\_\\_\\_ & \\_\\_\\_\\_\\_\\_\\_\\_\\_\\_\\_\\_\\_\\_\\_\\_\\_\\\\\n",
       "\t27 & S.E.: Clustered                                 & by: i \\& j          & by: i \\& j        & by: i \\& j        \\\\\n",
       "\t28 & Observations                                    & 56,739             & 56,739           & 56,739           \\\\\n",
       "\t29 & R2                                              & 0.03440            & 0.63124          & 0.63127          \\\\\n",
       "\t30 & Within R2                                       & --                 & 2.68e-5          & 0.00082          \\\\\n",
       "\\end{tabular}\n"
      ],
      "text/markdown": [
       "\n",
       "A etable_df: 30 × 4\n",
       "\n",
       "| <!--/--> | <!----> &lt;chr&gt; | pulled_ols &lt;chr&gt; | fe_no_iv &lt;chr&gt; | heterogenous_fe &lt;chr&gt; |\n",
       "|---|---|---|---|---|\n",
       "| 1 | Dependent Var.:                                 | log(v)             | log(v)           | log(v)            |\n",
       "| 2 | <!----> | <!----> | <!----> | <!----> |\n",
       "| 3 | Constant                                        | 8.749*** (0.3014)  | <!----> | <!----> |\n",
       "| 4 | log(deaths_i)                                   | 0.3252*** (0.0909) | -0.0134 (0.0097) | <!----> |\n",
       "| 5 | log(deaths_j)                                   | 0.1506* (0.0653)   | -0.0006 (0.0083) | <!----> |\n",
       "| 6 | C8EV_International_travel_controls_i            | 0.2349 (0.1578)    | -0.0233 (0.0204) | <!----> |\n",
       "| 7 | C8EV_International_travel_controls_j            | -0.0202 (0.1375)   | -0.0027 (0.0171) | <!----> |\n",
       "| 8 | year2021                                        | <!----> | <!----> | 0.0230 (0.1158)   |\n",
       "| 9 | year2022                                        | <!----> | <!----> | 0.0705 (0.1245)   |\n",
       "| 10 | year2020 x log(deaths_i)                        | <!----> | <!----> | -0.0113 (0.0113)  |\n",
       "| 11 | year2021 x log(deaths_i)                        | <!----> | <!----> | -0.0165 (0.0110)  |\n",
       "| 12 | year2022 x log(deaths_i)                        | <!----> | <!----> | -0.0198. (0.0119) |\n",
       "| 13 | year2020 x log(deaths_j)                        | <!----> | <!----> | -0.0082 (0.0102)  |\n",
       "| 14 | year2021 x log(deaths_j)                        | <!----> | <!----> | 0.0021 (0.0101)   |\n",
       "| 15 | year2022 x log(deaths_j)                        | <!----> | <!----> | 0.0102 (0.0113)   |\n",
       "| 16 | year2020 x C8EV_International_travel_controls_i | <!----> | <!----> | -0.0716* (0.0344) |\n",
       "| 17 | year2021 x C8EV_International_travel_controls_i | <!----> | <!----> | -0.0233 (0.0208)  |\n",
       "| 18 | year2022 x C8EV_International_travel_controls_i | <!----> | <!----> | 0.0033 (0.0532)   |\n",
       "| 19 | year2020 x C8EV_International_travel_controls_j | <!----> | <!----> | 0.0193 (0.0303)   |\n",
       "| 20 | year2021 x C8EV_International_travel_controls_j | <!----> | <!----> | 0.0121 (0.0156)   |\n",
       "| 21 | year2022 x C8EV_International_travel_controls_j | <!----> | <!----> | -0.0256 (0.0592)  |\n",
       "| 22 | Fixed-Effects:                                  | ------------------ | ---------------- | ----------------- |\n",
       "| 23 | i                                               | No                 | Yes              | Yes               |\n",
       "| 24 | j                                               | No                 | Yes              | Yes               |\n",
       "| 25 | year                                            | No                 | Yes              | No                |\n",
       "| 26 | ________________________________________        | __________________ | ________________ | _________________ |\n",
       "| 27 | S.E.: Clustered                                 | by: i &amp; j          | by: i &amp; j        | by: i &amp; j         |\n",
       "| 28 | Observations                                    | 56,739             | 56,739           | 56,739            |\n",
       "| 29 | R2                                              | 0.03440            | 0.63124          | 0.63127           |\n",
       "| 30 | Within R2                                       | --                 | 2.68e-5          | 0.00082           |\n",
       "\n"
      ],
      "text/plain": [
       "                                                   pulled_ols        \n",
       "1  Dependent Var.:                                 log(v)            \n",
       "2                                                                    \n",
       "3  Constant                                        8.749*** (0.3014) \n",
       "4  log(deaths_i)                                   0.3252*** (0.0909)\n",
       "5  log(deaths_j)                                   0.1506* (0.0653)  \n",
       "6  C8EV_International_travel_controls_i            0.2349 (0.1578)   \n",
       "7  C8EV_International_travel_controls_j            -0.0202 (0.1375)  \n",
       "8  year2021                                                          \n",
       "9  year2022                                                          \n",
       "10 year2020 x log(deaths_i)                                          \n",
       "11 year2021 x log(deaths_i)                                          \n",
       "12 year2022 x log(deaths_i)                                          \n",
       "13 year2020 x log(deaths_j)                                          \n",
       "14 year2021 x log(deaths_j)                                          \n",
       "15 year2022 x log(deaths_j)                                          \n",
       "16 year2020 x C8EV_International_travel_controls_i                   \n",
       "17 year2021 x C8EV_International_travel_controls_i                   \n",
       "18 year2022 x C8EV_International_travel_controls_i                   \n",
       "19 year2020 x C8EV_International_travel_controls_j                   \n",
       "20 year2021 x C8EV_International_travel_controls_j                   \n",
       "21 year2022 x C8EV_International_travel_controls_j                   \n",
       "22 Fixed-Effects:                                  ------------------\n",
       "23 i                                               No                \n",
       "24 j                                               No                \n",
       "25 year                                            No                \n",
       "26 ________________________________________        __________________\n",
       "27 S.E.: Clustered                                 by: i & j         \n",
       "28 Observations                                    56,739            \n",
       "29 R2                                              0.03440           \n",
       "30 Within R2                                       --                \n",
       "   fe_no_iv         heterogenous_fe  \n",
       "1  log(v)           log(v)           \n",
       "2                                    \n",
       "3                                    \n",
       "4  -0.0134 (0.0097)                  \n",
       "5  -0.0006 (0.0083)                  \n",
       "6  -0.0233 (0.0204)                  \n",
       "7  -0.0027 (0.0171)                  \n",
       "8                   0.0230 (0.1158)  \n",
       "9                   0.0705 (0.1245)  \n",
       "10                  -0.0113 (0.0113) \n",
       "11                  -0.0165 (0.0110) \n",
       "12                  -0.0198. (0.0119)\n",
       "13                  -0.0082 (0.0102) \n",
       "14                  0.0021 (0.0101)  \n",
       "15                  0.0102 (0.0113)  \n",
       "16                  -0.0716* (0.0344)\n",
       "17                  -0.0233 (0.0208) \n",
       "18                  0.0033 (0.0532)  \n",
       "19                  0.0193 (0.0303)  \n",
       "20                  0.0121 (0.0156)  \n",
       "21                  -0.0256 (0.0592) \n",
       "22 ---------------- -----------------\n",
       "23 Yes              Yes              \n",
       "24 Yes              Yes              \n",
       "25 Yes              No               \n",
       "26 ________________ _________________\n",
       "27 by: i & j        by: i & j        \n",
       "28 56,739           56,739           \n",
       "29 0.63124          0.63127          \n",
       "30 2.68e-5          0.00082          "
      ]
     },
     "metadata": {},
     "output_type": "display_data"
    }
   ],
   "source": [
    "# С кластеризацией ошибок есть значимый эффект и наблюдается гетерогенность во времени (+ направление связи соотносится с описанным в литературе)\n",
    "etable(pulled_ols, fe_no_iv, heterogenous_fe, vcov = ~i+j, signif.code=signif.code)\n",
    "# А чем такая кластеризация отличается от i^j?"
   ]
  },
  {
   "cell_type": "code",
   "execution_count": 7,
   "metadata": {
    "vscode": {
     "languageId": "r"
    }
   },
   "outputs": [
    {
     "data": {
      "text/html": [
       "<table class=\"dataframe\">\n",
       "<caption>A etable_df: 30 × 4</caption>\n",
       "<thead>\n",
       "\t<tr><th></th><th scope=col></th><th scope=col>pulled_ols</th><th scope=col>fe_no_iv</th><th scope=col>heterogenous_fe</th></tr>\n",
       "\t<tr><th></th><th scope=col>&lt;chr&gt;</th><th scope=col>&lt;chr&gt;</th><th scope=col>&lt;chr&gt;</th><th scope=col>&lt;chr&gt;</th></tr>\n",
       "</thead>\n",
       "<tbody>\n",
       "\t<tr><th scope=row>1</th><td>Dependent Var.:                                </td><td>log(v)           </td><td>log(v)          </td><td>log(v)          </td></tr>\n",
       "\t<tr><th scope=row>2</th><td>                                               </td><td>                 </td><td>                </td><td>                </td></tr>\n",
       "\t<tr><th scope=row>3</th><td>Constant                                       </td><td>8.749*** (0.0565)</td><td>                </td><td>                </td></tr>\n",
       "\t<tr><th scope=row>4</th><td>log(deaths_i)                                  </td><td>0.3252** (0.0129)</td><td>-0.0134 (0.0136)</td><td>                </td></tr>\n",
       "\t<tr><th scope=row>5</th><td>log(deaths_j)                                  </td><td>0.1506** (0.0118)</td><td>-0.0006 (0.0140)</td><td>                </td></tr>\n",
       "\t<tr><th scope=row>6</th><td>C8EV_International_travel_controls_i           </td><td>0.2349* (0.0298) </td><td>-0.0233 (0.0279)</td><td>                </td></tr>\n",
       "\t<tr><th scope=row>7</th><td>C8EV_International_travel_controls_j           </td><td>-0.0202 (0.0303) </td><td>-0.0027 (0.0274)</td><td>                </td></tr>\n",
       "\t<tr><th scope=row>8</th><td>year2021                                       </td><td>                 </td><td>                </td><td>0.0230 (0.1856) </td></tr>\n",
       "\t<tr><th scope=row>9</th><td>year2022                                       </td><td>                 </td><td>                </td><td>0.0705 (0.1981) </td></tr>\n",
       "\t<tr><th scope=row>10</th><td>year2020 x log(deaths_i)                       </td><td>                 </td><td>                </td><td>-0.0113 (0.0156)</td></tr>\n",
       "\t<tr><th scope=row>11</th><td>year2021 x log(deaths_i)                       </td><td>                 </td><td>                </td><td>-0.0165 (0.0169)</td></tr>\n",
       "\t<tr><th scope=row>12</th><td>year2022 x log(deaths_i)                       </td><td>                 </td><td>                </td><td>-0.0198 (0.0182)</td></tr>\n",
       "\t<tr><th scope=row>13</th><td>year2020 x log(deaths_j)                       </td><td>                 </td><td>                </td><td>-0.0082 (0.0163)</td></tr>\n",
       "\t<tr><th scope=row>14</th><td>year2021 x log(deaths_j)                       </td><td>                 </td><td>                </td><td>0.0021 (0.0172) </td></tr>\n",
       "\t<tr><th scope=row>15</th><td>year2022 x log(deaths_j)                       </td><td>                 </td><td>                </td><td>0.0102 (0.0171) </td></tr>\n",
       "\t<tr><th scope=row>16</th><td>year2020 x C8EV_International_travel_controls_i</td><td>                 </td><td>                </td><td>-0.0716 (0.0547)</td></tr>\n",
       "\t<tr><th scope=row>17</th><td>year2021 x C8EV_International_travel_controls_i</td><td>                 </td><td>                </td><td>-0.0233 (0.0289)</td></tr>\n",
       "\t<tr><th scope=row>18</th><td>year2022 x C8EV_International_travel_controls_i</td><td>                 </td><td>                </td><td>0.0033 (0.0619) </td></tr>\n",
       "\t<tr><th scope=row>19</th><td>year2020 x C8EV_International_travel_controls_j</td><td>                 </td><td>                </td><td>0.0193 (0.0536) </td></tr>\n",
       "\t<tr><th scope=row>20</th><td>year2021 x C8EV_International_travel_controls_j</td><td>                 </td><td>                </td><td>0.0121 (0.0285) </td></tr>\n",
       "\t<tr><th scope=row>21</th><td>year2022 x C8EV_International_travel_controls_j</td><td>                 </td><td>                </td><td>-0.0256 (0.0583)</td></tr>\n",
       "\t<tr><th scope=row>22</th><td>Fixed-Effects:                                 </td><td>-----------------</td><td>----------------</td><td>----------------</td></tr>\n",
       "\t<tr><th scope=row>23</th><td>i                                              </td><td>No               </td><td>Yes             </td><td>Yes             </td></tr>\n",
       "\t<tr><th scope=row>24</th><td>j                                              </td><td>No               </td><td>Yes             </td><td>Yes             </td></tr>\n",
       "\t<tr><th scope=row>25</th><td>year                                           </td><td>No               </td><td>Yes             </td><td>No              </td></tr>\n",
       "\t<tr><th scope=row>26</th><td>________________________________________       </td><td>_________________</td><td>________________</td><td>________________</td></tr>\n",
       "\t<tr><th scope=row>27</th><td>S.E. type                                      </td><td>Newey-West (L=1) </td><td>Newey-West (L=1)</td><td>Newey-West (L=1)</td></tr>\n",
       "\t<tr><th scope=row>28</th><td>Observations                                   </td><td>56,739           </td><td>56,739          </td><td>56,739          </td></tr>\n",
       "\t<tr><th scope=row>29</th><td>R2                                             </td><td>0.03440          </td><td>0.63124         </td><td>0.63127         </td></tr>\n",
       "\t<tr><th scope=row>30</th><td>Within R2                                      </td><td>--               </td><td>2.68e-5         </td><td>0.00082         </td></tr>\n",
       "</tbody>\n",
       "</table>\n"
      ],
      "text/latex": [
       "A etable\\_df: 30 × 4\n",
       "\\begin{tabular}{r|llll}\n",
       "  &  & pulled\\_ols & fe\\_no\\_iv & heterogenous\\_fe\\\\\n",
       "  & <chr> & <chr> & <chr> & <chr>\\\\\n",
       "\\hline\n",
       "\t1 & Dependent Var.:                                 & log(v)            & log(v)           & log(v)          \\\\\n",
       "\t2 &                                                 &                   &                  &                 \\\\\n",
       "\t3 & Constant                                        & 8.749*** (0.0565) &                  &                 \\\\\n",
       "\t4 & log(deaths\\_i)                                   & 0.3252** (0.0129) & -0.0134 (0.0136) &                 \\\\\n",
       "\t5 & log(deaths\\_j)                                   & 0.1506** (0.0118) & -0.0006 (0.0140) &                 \\\\\n",
       "\t6 & C8EV\\_International\\_travel\\_controls\\_i            & 0.2349* (0.0298)  & -0.0233 (0.0279) &                 \\\\\n",
       "\t7 & C8EV\\_International\\_travel\\_controls\\_j            & -0.0202 (0.0303)  & -0.0027 (0.0274) &                 \\\\\n",
       "\t8 & year2021                                        &                   &                  & 0.0230 (0.1856) \\\\\n",
       "\t9 & year2022                                        &                   &                  & 0.0705 (0.1981) \\\\\n",
       "\t10 & year2020 x log(deaths\\_i)                        &                   &                  & -0.0113 (0.0156)\\\\\n",
       "\t11 & year2021 x log(deaths\\_i)                        &                   &                  & -0.0165 (0.0169)\\\\\n",
       "\t12 & year2022 x log(deaths\\_i)                        &                   &                  & -0.0198 (0.0182)\\\\\n",
       "\t13 & year2020 x log(deaths\\_j)                        &                   &                  & -0.0082 (0.0163)\\\\\n",
       "\t14 & year2021 x log(deaths\\_j)                        &                   &                  & 0.0021 (0.0172) \\\\\n",
       "\t15 & year2022 x log(deaths\\_j)                        &                   &                  & 0.0102 (0.0171) \\\\\n",
       "\t16 & year2020 x C8EV\\_International\\_travel\\_controls\\_i &                   &                  & -0.0716 (0.0547)\\\\\n",
       "\t17 & year2021 x C8EV\\_International\\_travel\\_controls\\_i &                   &                  & -0.0233 (0.0289)\\\\\n",
       "\t18 & year2022 x C8EV\\_International\\_travel\\_controls\\_i &                   &                  & 0.0033 (0.0619) \\\\\n",
       "\t19 & year2020 x C8EV\\_International\\_travel\\_controls\\_j &                   &                  & 0.0193 (0.0536) \\\\\n",
       "\t20 & year2021 x C8EV\\_International\\_travel\\_controls\\_j &                   &                  & 0.0121 (0.0285) \\\\\n",
       "\t21 & year2022 x C8EV\\_International\\_travel\\_controls\\_j &                   &                  & -0.0256 (0.0583)\\\\\n",
       "\t22 & Fixed-Effects:                                  & ----------------- & ---------------- & ----------------\\\\\n",
       "\t23 & i                                               & No                & Yes              & Yes             \\\\\n",
       "\t24 & j                                               & No                & Yes              & Yes             \\\\\n",
       "\t25 & year                                            & No                & Yes              & No              \\\\\n",
       "\t26 & \\_\\_\\_\\_\\_\\_\\_\\_\\_\\_\\_\\_\\_\\_\\_\\_\\_\\_\\_\\_\\_\\_\\_\\_\\_\\_\\_\\_\\_\\_\\_\\_\\_\\_\\_\\_\\_\\_\\_\\_        & \\_\\_\\_\\_\\_\\_\\_\\_\\_\\_\\_\\_\\_\\_\\_\\_\\_ & \\_\\_\\_\\_\\_\\_\\_\\_\\_\\_\\_\\_\\_\\_\\_\\_ & \\_\\_\\_\\_\\_\\_\\_\\_\\_\\_\\_\\_\\_\\_\\_\\_\\\\\n",
       "\t27 & S.E. type                                       & Newey-West (L=1)  & Newey-West (L=1) & Newey-West (L=1)\\\\\n",
       "\t28 & Observations                                    & 56,739            & 56,739           & 56,739          \\\\\n",
       "\t29 & R2                                              & 0.03440           & 0.63124          & 0.63127         \\\\\n",
       "\t30 & Within R2                                       & --                & 2.68e-5          & 0.00082         \\\\\n",
       "\\end{tabular}\n"
      ],
      "text/markdown": [
       "\n",
       "A etable_df: 30 × 4\n",
       "\n",
       "| <!--/--> | <!----> &lt;chr&gt; | pulled_ols &lt;chr&gt; | fe_no_iv &lt;chr&gt; | heterogenous_fe &lt;chr&gt; |\n",
       "|---|---|---|---|---|\n",
       "| 1 | Dependent Var.:                                 | log(v)            | log(v)           | log(v)           |\n",
       "| 2 | <!----> | <!----> | <!----> | <!----> |\n",
       "| 3 | Constant                                        | 8.749*** (0.0565) | <!----> | <!----> |\n",
       "| 4 | log(deaths_i)                                   | 0.3252** (0.0129) | -0.0134 (0.0136) | <!----> |\n",
       "| 5 | log(deaths_j)                                   | 0.1506** (0.0118) | -0.0006 (0.0140) | <!----> |\n",
       "| 6 | C8EV_International_travel_controls_i            | 0.2349* (0.0298)  | -0.0233 (0.0279) | <!----> |\n",
       "| 7 | C8EV_International_travel_controls_j            | -0.0202 (0.0303)  | -0.0027 (0.0274) | <!----> |\n",
       "| 8 | year2021                                        | <!----> | <!----> | 0.0230 (0.1856)  |\n",
       "| 9 | year2022                                        | <!----> | <!----> | 0.0705 (0.1981)  |\n",
       "| 10 | year2020 x log(deaths_i)                        | <!----> | <!----> | -0.0113 (0.0156) |\n",
       "| 11 | year2021 x log(deaths_i)                        | <!----> | <!----> | -0.0165 (0.0169) |\n",
       "| 12 | year2022 x log(deaths_i)                        | <!----> | <!----> | -0.0198 (0.0182) |\n",
       "| 13 | year2020 x log(deaths_j)                        | <!----> | <!----> | -0.0082 (0.0163) |\n",
       "| 14 | year2021 x log(deaths_j)                        | <!----> | <!----> | 0.0021 (0.0172)  |\n",
       "| 15 | year2022 x log(deaths_j)                        | <!----> | <!----> | 0.0102 (0.0171)  |\n",
       "| 16 | year2020 x C8EV_International_travel_controls_i | <!----> | <!----> | -0.0716 (0.0547) |\n",
       "| 17 | year2021 x C8EV_International_travel_controls_i | <!----> | <!----> | -0.0233 (0.0289) |\n",
       "| 18 | year2022 x C8EV_International_travel_controls_i | <!----> | <!----> | 0.0033 (0.0619)  |\n",
       "| 19 | year2020 x C8EV_International_travel_controls_j | <!----> | <!----> | 0.0193 (0.0536)  |\n",
       "| 20 | year2021 x C8EV_International_travel_controls_j | <!----> | <!----> | 0.0121 (0.0285)  |\n",
       "| 21 | year2022 x C8EV_International_travel_controls_j | <!----> | <!----> | -0.0256 (0.0583) |\n",
       "| 22 | Fixed-Effects:                                  | ----------------- | ---------------- | ---------------- |\n",
       "| 23 | i                                               | No                | Yes              | Yes              |\n",
       "| 24 | j                                               | No                | Yes              | Yes              |\n",
       "| 25 | year                                            | No                | Yes              | No               |\n",
       "| 26 | ________________________________________        | _________________ | ________________ | ________________ |\n",
       "| 27 | S.E. type                                       | Newey-West (L=1)  | Newey-West (L=1) | Newey-West (L=1) |\n",
       "| 28 | Observations                                    | 56,739            | 56,739           | 56,739           |\n",
       "| 29 | R2                                              | 0.03440           | 0.63124          | 0.63127          |\n",
       "| 30 | Within R2                                       | --                | 2.68e-5          | 0.00082          |\n",
       "\n"
      ],
      "text/plain": [
       "                                                   pulled_ols       \n",
       "1  Dependent Var.:                                 log(v)           \n",
       "2                                                                   \n",
       "3  Constant                                        8.749*** (0.0565)\n",
       "4  log(deaths_i)                                   0.3252** (0.0129)\n",
       "5  log(deaths_j)                                   0.1506** (0.0118)\n",
       "6  C8EV_International_travel_controls_i            0.2349* (0.0298) \n",
       "7  C8EV_International_travel_controls_j            -0.0202 (0.0303) \n",
       "8  year2021                                                         \n",
       "9  year2022                                                         \n",
       "10 year2020 x log(deaths_i)                                         \n",
       "11 year2021 x log(deaths_i)                                         \n",
       "12 year2022 x log(deaths_i)                                         \n",
       "13 year2020 x log(deaths_j)                                         \n",
       "14 year2021 x log(deaths_j)                                         \n",
       "15 year2022 x log(deaths_j)                                         \n",
       "16 year2020 x C8EV_International_travel_controls_i                  \n",
       "17 year2021 x C8EV_International_travel_controls_i                  \n",
       "18 year2022 x C8EV_International_travel_controls_i                  \n",
       "19 year2020 x C8EV_International_travel_controls_j                  \n",
       "20 year2021 x C8EV_International_travel_controls_j                  \n",
       "21 year2022 x C8EV_International_travel_controls_j                  \n",
       "22 Fixed-Effects:                                  -----------------\n",
       "23 i                                               No               \n",
       "24 j                                               No               \n",
       "25 year                                            No               \n",
       "26 ________________________________________        _________________\n",
       "27 S.E. type                                       Newey-West (L=1) \n",
       "28 Observations                                    56,739           \n",
       "29 R2                                              0.03440          \n",
       "30 Within R2                                       --               \n",
       "   fe_no_iv         heterogenous_fe \n",
       "1  log(v)           log(v)          \n",
       "2                                   \n",
       "3                                   \n",
       "4  -0.0134 (0.0136)                 \n",
       "5  -0.0006 (0.0140)                 \n",
       "6  -0.0233 (0.0279)                 \n",
       "7  -0.0027 (0.0274)                 \n",
       "8                   0.0230 (0.1856) \n",
       "9                   0.0705 (0.1981) \n",
       "10                  -0.0113 (0.0156)\n",
       "11                  -0.0165 (0.0169)\n",
       "12                  -0.0198 (0.0182)\n",
       "13                  -0.0082 (0.0163)\n",
       "14                  0.0021 (0.0172) \n",
       "15                  0.0102 (0.0171) \n",
       "16                  -0.0716 (0.0547)\n",
       "17                  -0.0233 (0.0289)\n",
       "18                  0.0033 (0.0619) \n",
       "19                  0.0193 (0.0536) \n",
       "20                  0.0121 (0.0285) \n",
       "21                  -0.0256 (0.0583)\n",
       "22 ---------------- ----------------\n",
       "23 Yes              Yes             \n",
       "24 Yes              Yes             \n",
       "25 Yes              No              \n",
       "26 ________________ ________________\n",
       "27 Newey-West (L=1) Newey-West (L=1)\n",
       "28 56,739           56,739          \n",
       "29 0.63124          0.63127         \n",
       "30 2.68e-5          0.00082         "
      ]
     },
     "metadata": {},
     "output_type": "display_data"
    }
   ],
   "source": [
    "# При использовании НАС ошибок все эффекты становятся незначимыми\n",
    "etable(pulled_ols, fe_no_iv, heterogenous_fe, vcov = vcov_NW(unit = 'pair', time = 'year'), signif.code=signif.code)"
   ]
  },
  {
   "cell_type": "code",
   "execution_count": 8,
   "metadata": {
    "vscode": {
     "languageId": "r"
    }
   },
   "outputs": [
    {
     "name": "stderr",
     "output_type": "stream",
     "text": [
      "Variance contained negative values in the diagonal and was 'fixed' (a la Cameron, Gelbach & Miller 2011).\n",
      "\n",
      "Variance contained negative values in the diagonal and was 'fixed' (a la Cameron, Gelbach & Miller 2011).\n",
      "\n"
     ]
    },
    {
     "data": {
      "text/html": [
       "<table class=\"dataframe\">\n",
       "<caption>A etable_df: 30 × 4</caption>\n",
       "<thead>\n",
       "\t<tr><th></th><th scope=col></th><th scope=col>pulled_ols</th><th scope=col>fe_no_iv</th><th scope=col>heterogenous_fe</th></tr>\n",
       "\t<tr><th></th><th scope=col>&lt;chr&gt;</th><th scope=col>&lt;chr&gt;</th><th scope=col>&lt;chr&gt;</th><th scope=col>&lt;chr&gt;</th></tr>\n",
       "</thead>\n",
       "<tbody>\n",
       "\t<tr><th scope=row>1</th><td>Dependent Var.:                                </td><td>log(v)          </td><td>log(v)           </td><td>log(v)           </td></tr>\n",
       "\t<tr><th scope=row>2</th><td>                                               </td><td>                </td><td>                 </td><td>                 </td></tr>\n",
       "\t<tr><th scope=row>3</th><td>Constant                                       </td><td>8.749* (0.9627) </td><td>                 </td><td>                 </td></tr>\n",
       "\t<tr><th scope=row>4</th><td>log(deaths_i)                                  </td><td>0.3252. (0.1003)</td><td>-0.0134*** (1e-5)</td><td>                 </td></tr>\n",
       "\t<tr><th scope=row>5</th><td>log(deaths_j)                                  </td><td>0.1506 (0.0827) </td><td>-0.0006*** (1e-5)</td><td>                 </td></tr>\n",
       "\t<tr><th scope=row>6</th><td>C8EV_International_travel_controls_i           </td><td>0.2349 (0.1954) </td><td>-0.0233*** (1e-5)</td><td>                 </td></tr>\n",
       "\t<tr><th scope=row>7</th><td>C8EV_International_travel_controls_j           </td><td>-0.0202 (0.1655)</td><td>-0.0027*** (1e-5)</td><td>                 </td></tr>\n",
       "\t<tr><th scope=row>8</th><td>year2021                                       </td><td>                </td><td>                 </td><td>0.0230 (0.0086)  </td></tr>\n",
       "\t<tr><th scope=row>9</th><td>year2022                                       </td><td>                </td><td>                 </td><td>0.0705* (0.0120) </td></tr>\n",
       "\t<tr><th scope=row>10</th><td>year2020 x log(deaths_i)                       </td><td>                </td><td>                 </td><td>-0.0113 (0.0057) </td></tr>\n",
       "\t<tr><th scope=row>11</th><td>year2021 x log(deaths_i)                       </td><td>                </td><td>                 </td><td>-0.0165 (0.0125) </td></tr>\n",
       "\t<tr><th scope=row>12</th><td>year2022 x log(deaths_i)                       </td><td>                </td><td>                 </td><td>-0.0198 (0.0106) </td></tr>\n",
       "\t<tr><th scope=row>13</th><td>year2020 x log(deaths_j)                       </td><td>                </td><td>                 </td><td>-0.0082 (0.0139) </td></tr>\n",
       "\t<tr><th scope=row>14</th><td>year2021 x log(deaths_j)                       </td><td>                </td><td>                 </td><td>0.0021 (0.0126)  </td></tr>\n",
       "\t<tr><th scope=row>15</th><td>year2022 x log(deaths_j)                       </td><td>                </td><td>                 </td><td>0.0102 (0.0102)  </td></tr>\n",
       "\t<tr><th scope=row>16</th><td>year2020 x C8EV_International_travel_controls_i</td><td>                </td><td>                 </td><td>-0.0716. (0.0179)</td></tr>\n",
       "\t<tr><th scope=row>17</th><td>year2021 x C8EV_International_travel_controls_i</td><td>                </td><td>                 </td><td>-0.0233 (0.0128) </td></tr>\n",
       "\t<tr><th scope=row>18</th><td>year2022 x C8EV_International_travel_controls_i</td><td>                </td><td>                 </td><td>0.0033 (0.0456)  </td></tr>\n",
       "\t<tr><th scope=row>19</th><td>year2020 x C8EV_International_travel_controls_j</td><td>                </td><td>                 </td><td>0.0193 (0.0334)  </td></tr>\n",
       "\t<tr><th scope=row>20</th><td>year2021 x C8EV_International_travel_controls_j</td><td>                </td><td>                 </td><td>0.0121 (0.0163)  </td></tr>\n",
       "\t<tr><th scope=row>21</th><td>year2022 x C8EV_International_travel_controls_j</td><td>                </td><td>                 </td><td>-0.0256 (0.0397) </td></tr>\n",
       "\t<tr><th scope=row>22</th><td>Fixed-Effects:                                 </td><td>----------------</td><td>-----------------</td><td>-----------------</td></tr>\n",
       "\t<tr><th scope=row>23</th><td>i                                              </td><td>No              </td><td>Yes              </td><td>Yes              </td></tr>\n",
       "\t<tr><th scope=row>24</th><td>j                                              </td><td>No              </td><td>Yes              </td><td>Yes              </td></tr>\n",
       "\t<tr><th scope=row>25</th><td>year                                           </td><td>No              </td><td>Yes              </td><td>No               </td></tr>\n",
       "\t<tr><th scope=row>26</th><td>________________________________________       </td><td>________________</td><td>_________________</td><td>_________________</td></tr>\n",
       "\t<tr><th scope=row>27</th><td><span style=white-space:pre-wrap>S.E.: Clustered                                </span></td><td>by: i &amp; j &amp; year</td><td>by: i &amp; j &amp; year </td><td>by: i &amp; j &amp; year </td></tr>\n",
       "\t<tr><th scope=row>28</th><td>Observations                                   </td><td>56,739          </td><td>56,739           </td><td>56,739           </td></tr>\n",
       "\t<tr><th scope=row>29</th><td>R2                                             </td><td>0.03440         </td><td>0.63124          </td><td>0.63127          </td></tr>\n",
       "\t<tr><th scope=row>30</th><td>Within R2                                      </td><td>--              </td><td>2.68e-5          </td><td>0.00082          </td></tr>\n",
       "</tbody>\n",
       "</table>\n"
      ],
      "text/latex": [
       "A etable\\_df: 30 × 4\n",
       "\\begin{tabular}{r|llll}\n",
       "  &  & pulled\\_ols & fe\\_no\\_iv & heterogenous\\_fe\\\\\n",
       "  & <chr> & <chr> & <chr> & <chr>\\\\\n",
       "\\hline\n",
       "\t1 & Dependent Var.:                                 & log(v)           & log(v)            & log(v)           \\\\\n",
       "\t2 &                                                 &                  &                   &                  \\\\\n",
       "\t3 & Constant                                        & 8.749* (0.9627)  &                   &                  \\\\\n",
       "\t4 & log(deaths\\_i)                                   & 0.3252. (0.1003) & -0.0134*** (1e-5) &                  \\\\\n",
       "\t5 & log(deaths\\_j)                                   & 0.1506 (0.0827)  & -0.0006*** (1e-5) &                  \\\\\n",
       "\t6 & C8EV\\_International\\_travel\\_controls\\_i            & 0.2349 (0.1954)  & -0.0233*** (1e-5) &                  \\\\\n",
       "\t7 & C8EV\\_International\\_travel\\_controls\\_j            & -0.0202 (0.1655) & -0.0027*** (1e-5) &                  \\\\\n",
       "\t8 & year2021                                        &                  &                   & 0.0230 (0.0086)  \\\\\n",
       "\t9 & year2022                                        &                  &                   & 0.0705* (0.0120) \\\\\n",
       "\t10 & year2020 x log(deaths\\_i)                        &                  &                   & -0.0113 (0.0057) \\\\\n",
       "\t11 & year2021 x log(deaths\\_i)                        &                  &                   & -0.0165 (0.0125) \\\\\n",
       "\t12 & year2022 x log(deaths\\_i)                        &                  &                   & -0.0198 (0.0106) \\\\\n",
       "\t13 & year2020 x log(deaths\\_j)                        &                  &                   & -0.0082 (0.0139) \\\\\n",
       "\t14 & year2021 x log(deaths\\_j)                        &                  &                   & 0.0021 (0.0126)  \\\\\n",
       "\t15 & year2022 x log(deaths\\_j)                        &                  &                   & 0.0102 (0.0102)  \\\\\n",
       "\t16 & year2020 x C8EV\\_International\\_travel\\_controls\\_i &                  &                   & -0.0716. (0.0179)\\\\\n",
       "\t17 & year2021 x C8EV\\_International\\_travel\\_controls\\_i &                  &                   & -0.0233 (0.0128) \\\\\n",
       "\t18 & year2022 x C8EV\\_International\\_travel\\_controls\\_i &                  &                   & 0.0033 (0.0456)  \\\\\n",
       "\t19 & year2020 x C8EV\\_International\\_travel\\_controls\\_j &                  &                   & 0.0193 (0.0334)  \\\\\n",
       "\t20 & year2021 x C8EV\\_International\\_travel\\_controls\\_j &                  &                   & 0.0121 (0.0163)  \\\\\n",
       "\t21 & year2022 x C8EV\\_International\\_travel\\_controls\\_j &                  &                   & -0.0256 (0.0397) \\\\\n",
       "\t22 & Fixed-Effects:                                  & ---------------- & ----------------- & -----------------\\\\\n",
       "\t23 & i                                               & No               & Yes               & Yes              \\\\\n",
       "\t24 & j                                               & No               & Yes               & Yes              \\\\\n",
       "\t25 & year                                            & No               & Yes               & No               \\\\\n",
       "\t26 & \\_\\_\\_\\_\\_\\_\\_\\_\\_\\_\\_\\_\\_\\_\\_\\_\\_\\_\\_\\_\\_\\_\\_\\_\\_\\_\\_\\_\\_\\_\\_\\_\\_\\_\\_\\_\\_\\_\\_\\_        & \\_\\_\\_\\_\\_\\_\\_\\_\\_\\_\\_\\_\\_\\_\\_\\_ & \\_\\_\\_\\_\\_\\_\\_\\_\\_\\_\\_\\_\\_\\_\\_\\_\\_ & \\_\\_\\_\\_\\_\\_\\_\\_\\_\\_\\_\\_\\_\\_\\_\\_\\_\\\\\n",
       "\t27 & S.E.: Clustered                                 & by: i \\& j \\& year & by: i \\& j \\& year  & by: i \\& j \\& year \\\\\n",
       "\t28 & Observations                                    & 56,739           & 56,739            & 56,739           \\\\\n",
       "\t29 & R2                                              & 0.03440          & 0.63124           & 0.63127          \\\\\n",
       "\t30 & Within R2                                       & --               & 2.68e-5           & 0.00082          \\\\\n",
       "\\end{tabular}\n"
      ],
      "text/markdown": [
       "\n",
       "A etable_df: 30 × 4\n",
       "\n",
       "| <!--/--> | <!----> &lt;chr&gt; | pulled_ols &lt;chr&gt; | fe_no_iv &lt;chr&gt; | heterogenous_fe &lt;chr&gt; |\n",
       "|---|---|---|---|---|\n",
       "| 1 | Dependent Var.:                                 | log(v)           | log(v)            | log(v)            |\n",
       "| 2 | <!----> | <!----> | <!----> | <!----> |\n",
       "| 3 | Constant                                        | 8.749* (0.9627)  | <!----> | <!----> |\n",
       "| 4 | log(deaths_i)                                   | 0.3252. (0.1003) | -0.0134*** (1e-5) | <!----> |\n",
       "| 5 | log(deaths_j)                                   | 0.1506 (0.0827)  | -0.0006*** (1e-5) | <!----> |\n",
       "| 6 | C8EV_International_travel_controls_i            | 0.2349 (0.1954)  | -0.0233*** (1e-5) | <!----> |\n",
       "| 7 | C8EV_International_travel_controls_j            | -0.0202 (0.1655) | -0.0027*** (1e-5) | <!----> |\n",
       "| 8 | year2021                                        | <!----> | <!----> | 0.0230 (0.0086)   |\n",
       "| 9 | year2022                                        | <!----> | <!----> | 0.0705* (0.0120)  |\n",
       "| 10 | year2020 x log(deaths_i)                        | <!----> | <!----> | -0.0113 (0.0057)  |\n",
       "| 11 | year2021 x log(deaths_i)                        | <!----> | <!----> | -0.0165 (0.0125)  |\n",
       "| 12 | year2022 x log(deaths_i)                        | <!----> | <!----> | -0.0198 (0.0106)  |\n",
       "| 13 | year2020 x log(deaths_j)                        | <!----> | <!----> | -0.0082 (0.0139)  |\n",
       "| 14 | year2021 x log(deaths_j)                        | <!----> | <!----> | 0.0021 (0.0126)   |\n",
       "| 15 | year2022 x log(deaths_j)                        | <!----> | <!----> | 0.0102 (0.0102)   |\n",
       "| 16 | year2020 x C8EV_International_travel_controls_i | <!----> | <!----> | -0.0716. (0.0179) |\n",
       "| 17 | year2021 x C8EV_International_travel_controls_i | <!----> | <!----> | -0.0233 (0.0128)  |\n",
       "| 18 | year2022 x C8EV_International_travel_controls_i | <!----> | <!----> | 0.0033 (0.0456)   |\n",
       "| 19 | year2020 x C8EV_International_travel_controls_j | <!----> | <!----> | 0.0193 (0.0334)   |\n",
       "| 20 | year2021 x C8EV_International_travel_controls_j | <!----> | <!----> | 0.0121 (0.0163)   |\n",
       "| 21 | year2022 x C8EV_International_travel_controls_j | <!----> | <!----> | -0.0256 (0.0397)  |\n",
       "| 22 | Fixed-Effects:                                  | ---------------- | ----------------- | ----------------- |\n",
       "| 23 | i                                               | No               | Yes               | Yes               |\n",
       "| 24 | j                                               | No               | Yes               | Yes               |\n",
       "| 25 | year                                            | No               | Yes               | No                |\n",
       "| 26 | ________________________________________        | ________________ | _________________ | _________________ |\n",
       "| 27 | S.E.: Clustered                                 | by: i &amp; j &amp; year | by: i &amp; j &amp; year  | by: i &amp; j &amp; year  |\n",
       "| 28 | Observations                                    | 56,739           | 56,739            | 56,739            |\n",
       "| 29 | R2                                              | 0.03440          | 0.63124           | 0.63127           |\n",
       "| 30 | Within R2                                       | --               | 2.68e-5           | 0.00082           |\n",
       "\n"
      ],
      "text/plain": [
       "                                                   pulled_ols      \n",
       "1  Dependent Var.:                                 log(v)          \n",
       "2                                                                  \n",
       "3  Constant                                        8.749* (0.9627) \n",
       "4  log(deaths_i)                                   0.3252. (0.1003)\n",
       "5  log(deaths_j)                                   0.1506 (0.0827) \n",
       "6  C8EV_International_travel_controls_i            0.2349 (0.1954) \n",
       "7  C8EV_International_travel_controls_j            -0.0202 (0.1655)\n",
       "8  year2021                                                        \n",
       "9  year2022                                                        \n",
       "10 year2020 x log(deaths_i)                                        \n",
       "11 year2021 x log(deaths_i)                                        \n",
       "12 year2022 x log(deaths_i)                                        \n",
       "13 year2020 x log(deaths_j)                                        \n",
       "14 year2021 x log(deaths_j)                                        \n",
       "15 year2022 x log(deaths_j)                                        \n",
       "16 year2020 x C8EV_International_travel_controls_i                 \n",
       "17 year2021 x C8EV_International_travel_controls_i                 \n",
       "18 year2022 x C8EV_International_travel_controls_i                 \n",
       "19 year2020 x C8EV_International_travel_controls_j                 \n",
       "20 year2021 x C8EV_International_travel_controls_j                 \n",
       "21 year2022 x C8EV_International_travel_controls_j                 \n",
       "22 Fixed-Effects:                                  ----------------\n",
       "23 i                                               No              \n",
       "24 j                                               No              \n",
       "25 year                                            No              \n",
       "26 ________________________________________        ________________\n",
       "27 S.E.: Clustered                                 by: i & j & year\n",
       "28 Observations                                    56,739          \n",
       "29 R2                                              0.03440         \n",
       "30 Within R2                                       --              \n",
       "   fe_no_iv          heterogenous_fe  \n",
       "1  log(v)            log(v)           \n",
       "2                                     \n",
       "3                                     \n",
       "4  -0.0134*** (1e-5)                  \n",
       "5  -0.0006*** (1e-5)                  \n",
       "6  -0.0233*** (1e-5)                  \n",
       "7  -0.0027*** (1e-5)                  \n",
       "8                    0.0230 (0.0086)  \n",
       "9                    0.0705* (0.0120) \n",
       "10                   -0.0113 (0.0057) \n",
       "11                   -0.0165 (0.0125) \n",
       "12                   -0.0198 (0.0106) \n",
       "13                   -0.0082 (0.0139) \n",
       "14                   0.0021 (0.0126)  \n",
       "15                   0.0102 (0.0102)  \n",
       "16                   -0.0716. (0.0179)\n",
       "17                   -0.0233 (0.0128) \n",
       "18                   0.0033 (0.0456)  \n",
       "19                   0.0193 (0.0334)  \n",
       "20                   0.0121 (0.0163)  \n",
       "21                   -0.0256 (0.0397) \n",
       "22 ----------------- -----------------\n",
       "23 Yes               Yes              \n",
       "24 Yes               Yes              \n",
       "25 Yes               No               \n",
       "26 _________________ _________________\n",
       "27 by: i & j & year  by: i & j & year \n",
       "28 56,739            56,739           \n",
       "29 0.63124           0.63127          \n",
       "30 2.68e-5           0.00082          "
      ]
     },
     "metadata": {},
     "output_type": "display_data"
    }
   ],
   "source": [
    "# Всё-таки кластеризовать только по году нельзя, потому что мы в формуле указываем кусочки ошибок которые скоррелированные\n",
    "    # Пробую кластеризацию ошибок по годам: с теоретической точки зрения это обосновано тем,\n",
    "    # что все связанные с одной страной наблюдения связаны, значит и во всём графе наблюдения связаны.\n",
    "    # При этом если нет автокорреляции (учитывая, что у меня 3 периода, это вроде ОК), то кластеризация по годам именно так и делает.\n",
    "    # Но в статьях пишут, что нельзя использовать кластеризацию ошибок, если меньше чем 50 кластеров...\n",
    "    # Интересно, что здесь эффект импортёра значимый, а в предыдущей спецификации эффект экспортёра...\n",
    "etable(pulled_ols, fe_no_iv, heterogenous_fe, vcov = ~i+j+year, signif.code=signif.code)"
   ]
  },
  {
   "cell_type": "code",
   "execution_count": 9,
   "metadata": {
    "vscode": {
     "languageId": "r"
    }
   },
   "outputs": [
    {
     "data": {
      "text/html": [
       "<table class=\"dataframe\">\n",
       "<caption>A etable_df: 30 × 4</caption>\n",
       "<thead>\n",
       "\t<tr><th></th><th scope=col></th><th scope=col>pulled_ols</th><th scope=col>fe_no_iv</th><th scope=col>heterogenous_fe</th></tr>\n",
       "\t<tr><th></th><th scope=col>&lt;chr&gt;</th><th scope=col>&lt;chr&gt;</th><th scope=col>&lt;chr&gt;</th><th scope=col>&lt;chr&gt;</th></tr>\n",
       "</thead>\n",
       "<tbody>\n",
       "\t<tr><th scope=row>1</th><td>Dependent Var.:                                </td><td>log(v)             </td><td>log(v)           </td><td>log(v)           </td></tr>\n",
       "\t<tr><th scope=row>2</th><td>                                               </td><td>                   </td><td>                 </td><td>                 </td></tr>\n",
       "\t<tr><th scope=row>3</th><td>Constant                                       </td><td>8.749*** (0.3347)  </td><td>                 </td><td>                 </td></tr>\n",
       "\t<tr><th scope=row>4</th><td>log(deaths_i)                                  </td><td>0.3252*** (0.0634) </td><td>-0.0134 (0.0155) </td><td>                 </td></tr>\n",
       "\t<tr><th scope=row>5</th><td>log(deaths_j)                                  </td><td>0.1506** (0.0461)  </td><td>-0.0006 (0.0180) </td><td>                 </td></tr>\n",
       "\t<tr><th scope=row>6</th><td>C8EV_International_travel_controls_i           </td><td>0.2349. (0.1421)   </td><td>-0.0233 (0.0313) </td><td>                 </td></tr>\n",
       "\t<tr><th scope=row>7</th><td>C8EV_International_travel_controls_j           </td><td>-0.0202 (0.1340)   </td><td>-0.0027 (0.0289) </td><td>                 </td></tr>\n",
       "\t<tr><th scope=row>8</th><td>year2021                                       </td><td>                   </td><td>                 </td><td>0.0230 (0.1639)  </td></tr>\n",
       "\t<tr><th scope=row>9</th><td>year2022                                       </td><td>                   </td><td>                 </td><td>0.0705 (0.1865)  </td></tr>\n",
       "\t<tr><th scope=row>10</th><td>year2020 x log(deaths_i)                       </td><td>                   </td><td>                 </td><td>-0.0113 (0.0221) </td></tr>\n",
       "\t<tr><th scope=row>11</th><td>year2021 x log(deaths_i)                       </td><td>                   </td><td>                 </td><td>-0.0165 (0.0227) </td></tr>\n",
       "\t<tr><th scope=row>12</th><td>year2022 x log(deaths_i)                       </td><td>                   </td><td>                 </td><td>-0.0198 (0.0290) </td></tr>\n",
       "\t<tr><th scope=row>13</th><td>year2020 x log(deaths_j)                       </td><td>                   </td><td>                 </td><td>-0.0082 (0.0250) </td></tr>\n",
       "\t<tr><th scope=row>14</th><td>year2021 x log(deaths_j)                       </td><td>                   </td><td>                 </td><td>0.0021 (0.0244)  </td></tr>\n",
       "\t<tr><th scope=row>15</th><td>year2022 x log(deaths_j)                       </td><td>                   </td><td>                 </td><td>0.0102 (0.0314)  </td></tr>\n",
       "\t<tr><th scope=row>16</th><td>year2020 x C8EV_International_travel_controls_i</td><td>                   </td><td>                 </td><td>-0.0716 (0.0469) </td></tr>\n",
       "\t<tr><th scope=row>17</th><td>year2021 x C8EV_International_travel_controls_i</td><td>                   </td><td>                 </td><td>-0.0233 (0.0400) </td></tr>\n",
       "\t<tr><th scope=row>18</th><td>year2022 x C8EV_International_travel_controls_i</td><td>                   </td><td>                 </td><td>0.0033 (0.0462)  </td></tr>\n",
       "\t<tr><th scope=row>19</th><td>year2020 x C8EV_International_travel_controls_j</td><td>                   </td><td>                 </td><td>0.0193 (0.0199)  </td></tr>\n",
       "\t<tr><th scope=row>20</th><td>year2021 x C8EV_International_travel_controls_j</td><td>                   </td><td>                 </td><td>0.0121 (0.0315)  </td></tr>\n",
       "\t<tr><th scope=row>21</th><td>year2022 x C8EV_International_travel_controls_j</td><td>                   </td><td>                 </td><td>-0.0256 (0.0600) </td></tr>\n",
       "\t<tr><th scope=row>22</th><td>Fixed-Effects:                                 </td><td>------------------ </td><td>---------------- </td><td>---------------- </td></tr>\n",
       "\t<tr><th scope=row>23</th><td>i                                              </td><td>No                 </td><td>Yes              </td><td>Yes              </td></tr>\n",
       "\t<tr><th scope=row>24</th><td>j                                              </td><td>No                 </td><td>Yes              </td><td>Yes              </td></tr>\n",
       "\t<tr><th scope=row>25</th><td>year                                           </td><td>No                 </td><td>Yes              </td><td>No               </td></tr>\n",
       "\t<tr><th scope=row>26</th><td>________________________________________       </td><td>__________________ </td><td>________________ </td><td>________________ </td></tr>\n",
       "\t<tr><th scope=row>27</th><td><span style=white-space:pre-wrap>S.E.: Clustered                                </span></td><td>by: i-year &amp; j-year</td><td>by: i-ye. &amp; j-ye.</td><td>by: i-ye. &amp; j-ye.</td></tr>\n",
       "\t<tr><th scope=row>28</th><td>Observations                                   </td><td>56,739             </td><td>56,739           </td><td>56,739           </td></tr>\n",
       "\t<tr><th scope=row>29</th><td>R2                                             </td><td>0.03440            </td><td>0.63124          </td><td>0.63127          </td></tr>\n",
       "\t<tr><th scope=row>30</th><td>Within R2                                      </td><td>--                 </td><td>2.68e-5          </td><td>0.00082          </td></tr>\n",
       "</tbody>\n",
       "</table>\n"
      ],
      "text/latex": [
       "A etable\\_df: 30 × 4\n",
       "\\begin{tabular}{r|llll}\n",
       "  &  & pulled\\_ols & fe\\_no\\_iv & heterogenous\\_fe\\\\\n",
       "  & <chr> & <chr> & <chr> & <chr>\\\\\n",
       "\\hline\n",
       "\t1 & Dependent Var.:                                 & log(v)              & log(v)            & log(v)           \\\\\n",
       "\t2 &                                                 &                     &                   &                  \\\\\n",
       "\t3 & Constant                                        & 8.749*** (0.3347)   &                   &                  \\\\\n",
       "\t4 & log(deaths\\_i)                                   & 0.3252*** (0.0634)  & -0.0134 (0.0155)  &                  \\\\\n",
       "\t5 & log(deaths\\_j)                                   & 0.1506** (0.0461)   & -0.0006 (0.0180)  &                  \\\\\n",
       "\t6 & C8EV\\_International\\_travel\\_controls\\_i            & 0.2349. (0.1421)    & -0.0233 (0.0313)  &                  \\\\\n",
       "\t7 & C8EV\\_International\\_travel\\_controls\\_j            & -0.0202 (0.1340)    & -0.0027 (0.0289)  &                  \\\\\n",
       "\t8 & year2021                                        &                     &                   & 0.0230 (0.1639)  \\\\\n",
       "\t9 & year2022                                        &                     &                   & 0.0705 (0.1865)  \\\\\n",
       "\t10 & year2020 x log(deaths\\_i)                        &                     &                   & -0.0113 (0.0221) \\\\\n",
       "\t11 & year2021 x log(deaths\\_i)                        &                     &                   & -0.0165 (0.0227) \\\\\n",
       "\t12 & year2022 x log(deaths\\_i)                        &                     &                   & -0.0198 (0.0290) \\\\\n",
       "\t13 & year2020 x log(deaths\\_j)                        &                     &                   & -0.0082 (0.0250) \\\\\n",
       "\t14 & year2021 x log(deaths\\_j)                        &                     &                   & 0.0021 (0.0244)  \\\\\n",
       "\t15 & year2022 x log(deaths\\_j)                        &                     &                   & 0.0102 (0.0314)  \\\\\n",
       "\t16 & year2020 x C8EV\\_International\\_travel\\_controls\\_i &                     &                   & -0.0716 (0.0469) \\\\\n",
       "\t17 & year2021 x C8EV\\_International\\_travel\\_controls\\_i &                     &                   & -0.0233 (0.0400) \\\\\n",
       "\t18 & year2022 x C8EV\\_International\\_travel\\_controls\\_i &                     &                   & 0.0033 (0.0462)  \\\\\n",
       "\t19 & year2020 x C8EV\\_International\\_travel\\_controls\\_j &                     &                   & 0.0193 (0.0199)  \\\\\n",
       "\t20 & year2021 x C8EV\\_International\\_travel\\_controls\\_j &                     &                   & 0.0121 (0.0315)  \\\\\n",
       "\t21 & year2022 x C8EV\\_International\\_travel\\_controls\\_j &                     &                   & -0.0256 (0.0600) \\\\\n",
       "\t22 & Fixed-Effects:                                  & ------------------  & ----------------  & ---------------- \\\\\n",
       "\t23 & i                                               & No                  & Yes               & Yes              \\\\\n",
       "\t24 & j                                               & No                  & Yes               & Yes              \\\\\n",
       "\t25 & year                                            & No                  & Yes               & No               \\\\\n",
       "\t26 & \\_\\_\\_\\_\\_\\_\\_\\_\\_\\_\\_\\_\\_\\_\\_\\_\\_\\_\\_\\_\\_\\_\\_\\_\\_\\_\\_\\_\\_\\_\\_\\_\\_\\_\\_\\_\\_\\_\\_\\_        & \\_\\_\\_\\_\\_\\_\\_\\_\\_\\_\\_\\_\\_\\_\\_\\_\\_\\_  & \\_\\_\\_\\_\\_\\_\\_\\_\\_\\_\\_\\_\\_\\_\\_\\_  & \\_\\_\\_\\_\\_\\_\\_\\_\\_\\_\\_\\_\\_\\_\\_\\_ \\\\\n",
       "\t27 & S.E.: Clustered                                 & by: i-year \\& j-year & by: i-ye. \\& j-ye. & by: i-ye. \\& j-ye.\\\\\n",
       "\t28 & Observations                                    & 56,739              & 56,739            & 56,739           \\\\\n",
       "\t29 & R2                                              & 0.03440             & 0.63124           & 0.63127          \\\\\n",
       "\t30 & Within R2                                       & --                  & 2.68e-5           & 0.00082          \\\\\n",
       "\\end{tabular}\n"
      ],
      "text/markdown": [
       "\n",
       "A etable_df: 30 × 4\n",
       "\n",
       "| <!--/--> | <!----> &lt;chr&gt; | pulled_ols &lt;chr&gt; | fe_no_iv &lt;chr&gt; | heterogenous_fe &lt;chr&gt; |\n",
       "|---|---|---|---|---|\n",
       "| 1 | Dependent Var.:                                 | log(v)              | log(v)            | log(v)            |\n",
       "| 2 | <!----> | <!----> | <!----> | <!----> |\n",
       "| 3 | Constant                                        | 8.749*** (0.3347)   | <!----> | <!----> |\n",
       "| 4 | log(deaths_i)                                   | 0.3252*** (0.0634)  | -0.0134 (0.0155)  | <!----> |\n",
       "| 5 | log(deaths_j)                                   | 0.1506** (0.0461)   | -0.0006 (0.0180)  | <!----> |\n",
       "| 6 | C8EV_International_travel_controls_i            | 0.2349. (0.1421)    | -0.0233 (0.0313)  | <!----> |\n",
       "| 7 | C8EV_International_travel_controls_j            | -0.0202 (0.1340)    | -0.0027 (0.0289)  | <!----> |\n",
       "| 8 | year2021                                        | <!----> | <!----> | 0.0230 (0.1639)   |\n",
       "| 9 | year2022                                        | <!----> | <!----> | 0.0705 (0.1865)   |\n",
       "| 10 | year2020 x log(deaths_i)                        | <!----> | <!----> | -0.0113 (0.0221)  |\n",
       "| 11 | year2021 x log(deaths_i)                        | <!----> | <!----> | -0.0165 (0.0227)  |\n",
       "| 12 | year2022 x log(deaths_i)                        | <!----> | <!----> | -0.0198 (0.0290)  |\n",
       "| 13 | year2020 x log(deaths_j)                        | <!----> | <!----> | -0.0082 (0.0250)  |\n",
       "| 14 | year2021 x log(deaths_j)                        | <!----> | <!----> | 0.0021 (0.0244)   |\n",
       "| 15 | year2022 x log(deaths_j)                        | <!----> | <!----> | 0.0102 (0.0314)   |\n",
       "| 16 | year2020 x C8EV_International_travel_controls_i | <!----> | <!----> | -0.0716 (0.0469)  |\n",
       "| 17 | year2021 x C8EV_International_travel_controls_i | <!----> | <!----> | -0.0233 (0.0400)  |\n",
       "| 18 | year2022 x C8EV_International_travel_controls_i | <!----> | <!----> | 0.0033 (0.0462)   |\n",
       "| 19 | year2020 x C8EV_International_travel_controls_j | <!----> | <!----> | 0.0193 (0.0199)   |\n",
       "| 20 | year2021 x C8EV_International_travel_controls_j | <!----> | <!----> | 0.0121 (0.0315)   |\n",
       "| 21 | year2022 x C8EV_International_travel_controls_j | <!----> | <!----> | -0.0256 (0.0600)  |\n",
       "| 22 | Fixed-Effects:                                  | ------------------  | ----------------  | ----------------  |\n",
       "| 23 | i                                               | No                  | Yes               | Yes               |\n",
       "| 24 | j                                               | No                  | Yes               | Yes               |\n",
       "| 25 | year                                            | No                  | Yes               | No                |\n",
       "| 26 | ________________________________________        | __________________  | ________________  | ________________  |\n",
       "| 27 | S.E.: Clustered                                 | by: i-year &amp; j-year | by: i-ye. &amp; j-ye. | by: i-ye. &amp; j-ye. |\n",
       "| 28 | Observations                                    | 56,739              | 56,739            | 56,739            |\n",
       "| 29 | R2                                              | 0.03440             | 0.63124           | 0.63127           |\n",
       "| 30 | Within R2                                       | --                  | 2.68e-5           | 0.00082           |\n",
       "\n"
      ],
      "text/plain": [
       "                                                   pulled_ols         \n",
       "1  Dependent Var.:                                 log(v)             \n",
       "2                                                                     \n",
       "3  Constant                                        8.749*** (0.3347)  \n",
       "4  log(deaths_i)                                   0.3252*** (0.0634) \n",
       "5  log(deaths_j)                                   0.1506** (0.0461)  \n",
       "6  C8EV_International_travel_controls_i            0.2349. (0.1421)   \n",
       "7  C8EV_International_travel_controls_j            -0.0202 (0.1340)   \n",
       "8  year2021                                                           \n",
       "9  year2022                                                           \n",
       "10 year2020 x log(deaths_i)                                           \n",
       "11 year2021 x log(deaths_i)                                           \n",
       "12 year2022 x log(deaths_i)                                           \n",
       "13 year2020 x log(deaths_j)                                           \n",
       "14 year2021 x log(deaths_j)                                           \n",
       "15 year2022 x log(deaths_j)                                           \n",
       "16 year2020 x C8EV_International_travel_controls_i                    \n",
       "17 year2021 x C8EV_International_travel_controls_i                    \n",
       "18 year2022 x C8EV_International_travel_controls_i                    \n",
       "19 year2020 x C8EV_International_travel_controls_j                    \n",
       "20 year2021 x C8EV_International_travel_controls_j                    \n",
       "21 year2022 x C8EV_International_travel_controls_j                    \n",
       "22 Fixed-Effects:                                  ------------------ \n",
       "23 i                                               No                 \n",
       "24 j                                               No                 \n",
       "25 year                                            No                 \n",
       "26 ________________________________________        __________________ \n",
       "27 S.E.: Clustered                                 by: i-year & j-year\n",
       "28 Observations                                    56,739             \n",
       "29 R2                                              0.03440            \n",
       "30 Within R2                                       --                 \n",
       "   fe_no_iv          heterogenous_fe  \n",
       "1  log(v)            log(v)           \n",
       "2                                     \n",
       "3                                     \n",
       "4  -0.0134 (0.0155)                   \n",
       "5  -0.0006 (0.0180)                   \n",
       "6  -0.0233 (0.0313)                   \n",
       "7  -0.0027 (0.0289)                   \n",
       "8                    0.0230 (0.1639)  \n",
       "9                    0.0705 (0.1865)  \n",
       "10                   -0.0113 (0.0221) \n",
       "11                   -0.0165 (0.0227) \n",
       "12                   -0.0198 (0.0290) \n",
       "13                   -0.0082 (0.0250) \n",
       "14                   0.0021 (0.0244)  \n",
       "15                   0.0102 (0.0314)  \n",
       "16                   -0.0716 (0.0469) \n",
       "17                   -0.0233 (0.0400) \n",
       "18                   0.0033 (0.0462)  \n",
       "19                   0.0193 (0.0199)  \n",
       "20                   0.0121 (0.0315)  \n",
       "21                   -0.0256 (0.0600) \n",
       "22 ----------------  ---------------- \n",
       "23 Yes               Yes              \n",
       "24 Yes               Yes              \n",
       "25 Yes               No               \n",
       "26 ________________  ________________ \n",
       "27 by: i-ye. & j-ye. by: i-ye. & j-ye.\n",
       "28 56,739            56,739           \n",
       "29 0.63124           0.63127          \n",
       "30 2.68e-5           0.00082          "
      ]
     },
     "metadata": {},
     "output_type": "display_data"
    }
   ],
   "source": [
    "# Не понятно, насколько это осмысленно, но сделал на всякий случай\n",
    "etable(pulled_ols, fe_no_iv, heterogenous_fe, vcov = ~i^year+j^year, signif.code=signif.code)"
   ]
  },
  {
   "cell_type": "markdown",
   "metadata": {},
   "source": [
    "### Инструментальные переменные на панельных данных"
   ]
  },
  {
   "cell_type": "code",
   "execution_count": 10,
   "metadata": {
    "vscode": {
     "languageId": "r"
    }
   },
   "outputs": [
    {
     "name": "stderr",
     "output_type": "stream",
     "text": [
      "NOTE: 13,906 observations removed because of NA and infinite values (RHS: 9,802, IV: 6,067/10,661).\n",
      "\n"
     ]
    },
    {
     "data": {
      "text/plain": [
       "TSLS estimation - Dep. Var.: log(v)\n",
       "                  Endo.    : log(deaths_i), log(deaths_j)\n",
       "                  Instr.   : H6M_Facial_Coverings_i, H6M_Facial_Coverings_j, population_density, population_density_j\n",
       "Second stage: Dep. Var.: log(v)\n",
       "Observations: 56,401\n",
       "Standard-errors: Clustered (i & j) \n",
       "                                      Estimate Std. Error   t value  Pr(>|t|)\n",
       "(Intercept)                           7.558642   0.555417 13.608954 < 2.2e-16\n",
       "fit_log(deaths_i)                    -0.187273   0.569224 -0.328997   0.74255\n",
       "fit_log(deaths_j)                    -0.373980   0.617327 -0.605806   0.54543\n",
       "C8EV_International_travel_controls_i  0.319239   0.239136  1.334971   0.18363\n",
       "C8EV_International_travel_controls_j  0.037631   0.227472  0.165429   0.86880\n",
       "                                        \n",
       "(Intercept)                          ***\n",
       "fit_log(deaths_i)                       \n",
       "fit_log(deaths_j)                       \n",
       "C8EV_International_travel_controls_i    \n",
       "C8EV_International_travel_controls_j    \n",
       "---\n",
       "Signif. codes:  0 '***' 0.001 '**' 0.01 '*' 0.05 '.' 0.1 ' ' 1\n",
       "RMSE: 4.3733   Adj. R2: -0.098534\n",
       "F-test (1st stage), log(deaths_i): stat = 336.7, p < 2.2e-16, on 4 and 56,394 DoF.\n",
       "F-test (1st stage), log(deaths_j): stat = 322.8, p < 2.2e-16, on 4 and 56,394 DoF.\n",
       "                       Wu-Hausman: stat = 144.2, p < 2.2e-16, on 2 and 56,394 DoF.\n",
       "                           Sargan: stat = 110.9, p < 2.2e-16, on 2 DoF."
      ]
     },
     "metadata": {},
     "output_type": "display_data"
    }
   ],
   "source": [
    "# Pulled TSLS\n",
    "# Подумать про эндогенность пропусков. Мб пропуски в инструментальных переменных можно смело заполнять?\n",
    "pulled_tsls = feols(log(v) ~  1+\n",
    " C8EV_International_travel_controls_i + C8EV_International_travel_controls_j |\n",
    " log(deaths_i) + log(deaths_j) \n",
    " ~ \n",
    "H6M_Facial_Coverings_i+H6M_Facial_Coverings_j\n",
    "+\n",
    "population_density + population_density_j\n",
    "  ,\n",
    " data = df\n",
    " )\n",
    "pulled_tsls %>% summary(vcov = ~i+j)"
   ]
  },
  {
   "cell_type": "code",
   "execution_count": 11,
   "metadata": {
    "vscode": {
     "languageId": "r"
    }
   },
   "outputs": [
    {
     "name": "stderr",
     "output_type": "stream",
     "text": [
      "NOTE: 13,906 observations removed because of NA and infinite values (RHS: 9,802, IV: 6,067/10,661).\n",
      "\n"
     ]
    },
    {
     "data": {
      "text/plain": [
       "TSLS estimation - Dep. Var.: log(v)\n",
       "                  Endo.    : log(deaths_i), log(deaths_j)\n",
       "                  Instr.   : median_age_i, median_age_j, H6M_Facial_Coverings_i, H6M_Facial_Coverings_j, population_density, population_density_j\n",
       "Second stage: Dep. Var.: log(v)\n",
       "Observations: 56,401\n",
       "Fixed-effects: year: 3\n",
       "Standard-errors: Clustered (i & j) \n",
       "                                     Estimate Std. Error t value   Pr(>|t|)    \n",
       "fit_log(deaths_i)                    1.016266   0.148505 6.84330 1.2697e-10 ***\n",
       "fit_log(deaths_j)                    0.624096   0.115088 5.42276 1.9388e-07 ***\n",
       "C8EV_International_travel_controls_i 1.204183   0.270775 4.44718 1.5470e-05 ***\n",
       "C8EV_International_travel_controls_j 0.833436   0.201166 4.14302 5.3404e-05 ***\n",
       "---\n",
       "Signif. codes:  0 '***' 0.001 '**' 0.01 '*' 0.05 '.' 0.1 ' ' 1\n",
       "RMSE: 4.27872     Adj. R2: -0.051569\n",
       "                Within R2: -0.051726\n",
       "F-test (1st stage), log(deaths_i): stat = 7,515.0, p < 2.2e-16, on 6 and 56,392 DoF.\n",
       "F-test (1st stage), log(deaths_j): stat = 8,009.6, p < 2.2e-16, on 6 and 56,392 DoF.\n",
       "                       Wu-Hausman: stat = 3,010.2, p < 2.2e-16, on 2 and 56,392 DoF.\n",
       "                           Sargan: stat =   341.6, p < 2.2e-16, on 4 DoF."
      ]
     },
     "metadata": {},
     "output_type": "display_data"
    }
   ],
   "source": [
    "# Только FE года (инструменты эндогенные)\n",
    "fe_iv_year = feols(log(v) ~  1 +\n",
    " C8EV_International_travel_controls_i + C8EV_International_travel_controls_j | year|\n",
    " log(deaths_i) + log(deaths_j) ~ \n",
    " median_age_i + median_age_j \n",
    "+\n",
    "H6M_Facial_Coverings_i+H6M_Facial_Coverings_j\n",
    "+\n",
    "  population_density + population_density_j\n",
    " ,\n",
    " data = df\n",
    " )\n",
    "fe_iv_year %>% summary(cluster = ~ i+j)"
   ]
  },
  {
   "cell_type": "code",
   "execution_count": 13,
   "metadata": {
    "vscode": {
     "languageId": "r"
    }
   },
   "outputs": [
    {
     "name": "stderr",
     "output_type": "stream",
     "text": [
      "NOTE: 13,906 observations removed because of NA and infinite values (RHS: 9,802, IV: 6,067/10,661).\n",
      "\n"
     ]
    },
    {
     "data": {
      "text/plain": [
       "TSLS estimation - Dep. Var.: log(v)\n",
       "                  Endo.    : log(deaths_i), log(deaths_j)\n",
       "                  Instr.   : H6M_Facial_Coverings_i, H6M_Facial_Coverings_j, C1M_School_closing_i, C1M_School_closing_j, median_age_i, median_age_j, population_density_i, population_density_j\n",
       "Second stage: Dep. Var.: log(v)\n",
       "Observations: 56,401\n",
       "Fixed-effects: year: 3,  i: 175,  j: 175\n",
       "Standard-errors: Clustered (i & j) \n",
       "                                      Estimate Std. Error   t value Pr(>|t|) \n",
       "fit_log(deaths_i)                    -0.013846   0.031045 -0.446018  0.65614 \n",
       "fit_log(deaths_j)                    -0.000788   0.029761 -0.026472  0.97891 \n",
       "C8EV_International_travel_controls_i -0.021464   0.024483 -0.876701  0.38186 \n",
       "C8EV_International_travel_controls_j  0.001011   0.019822  0.051024  0.95936 \n",
       "---\n",
       "Signif. codes:  0 '***' 0.001 '**' 0.01 '*' 0.05 '.' 0.1 ' ' 1\n",
       "RMSE: 2.53447     Adj. R2: 0.628745\n",
       "                Within R2: 2.504e-5\n",
       "F-test (1st stage), log(deaths_i): stat = 738.3     , p < 2.2e-16 , on 8 and 56,042 DoF.\n",
       "F-test (1st stage), log(deaths_j): stat = 721.0     , p < 2.2e-16 , on 8 and 56,042 DoF.\n",
       "                       Wu-Hausman: stat =   1.548e-4, p = 0.999845, on 2 and 56,044 DoF.\n",
       "                           Sargan: stat =   3.29647 , p = 0.770822, on 6 DoF."
      ]
     },
     "metadata": {},
     "output_type": "display_data"
    }
   ],
   "source": [
    "feols(log(v) ~  1 +\n",
    " C8EV_International_travel_controls_i + C8EV_International_travel_controls_j | year+i+j|\n",
    " log(deaths_i) + log(deaths_j) ~ \n",
    "H6M_Facial_Coverings_i+H6M_Facial_Coverings_j\n",
    "+\n",
    "C1M_School_closing_i+C1M_School_closing_j\n",
    "+\n",
    "median_age_i + median_age_j\n",
    "+\n",
    "population_density_i + population_density_j\n",
    "\n",
    " ,\n",
    " data = df\n",
    " ) %>% summary(cluster = ~ i+j)"
   ]
  },
  {
   "cell_type": "code",
   "execution_count": 14,
   "metadata": {
    "vscode": {
     "languageId": "r"
    }
   },
   "outputs": [
    {
     "name": "stderr",
     "output_type": "stream",
     "text": [
      "NOTE: 13,906 observations removed because of NA and infinite values (RHS: 9,802, IV: 6,067/10,661).\n",
      "\n"
     ]
    },
    {
     "data": {
      "text/plain": [
       "TSLS estimation - Dep. Var.: log(v)\n",
       "                  Endo.    : log(deaths_i), log(deaths_j)\n",
       "                  Instr.   : C1M_School_closing_i, C1M_School_closing_j, median_age_i, median_age_j, population_density_i, population_density_j\n",
       "Second stage: Dep. Var.: log(v)\n",
       "Observations: 56,401\n",
       "Fixed-effects: year: 3,  i: 175,  j: 175\n",
       "Standard-errors: Clustered (i & j) \n",
       "                                      Estimate Std. Error   t value Pr(>|t|) \n",
       "fit_log(deaths_i)                    -0.014023   0.032718 -0.428591  0.66875 \n",
       "fit_log(deaths_j)                     0.009889   0.030230  0.327118  0.74397 \n",
       "C8EV_International_travel_controls_i -0.021767   0.024814 -0.877200  0.38159 \n",
       "C8EV_International_travel_controls_j  0.005725   0.018770  0.305018  0.76072 \n",
       "---\n",
       "Signif. codes:  0 '***' 0.001 '**' 0.01 '*' 0.05 '.' 0.1 ' ' 1\n",
       "RMSE: 2.53448     Adj. R2: 0.628741\n",
       "                Within R2: 1.4e-5  \n",
       "F-test (1st stage), log(deaths_i): stat = 948.9    , p < 2.2e-16 , on 6 and 56,044 DoF.\n",
       "F-test (1st stage), log(deaths_j): stat = 919.6    , p < 2.2e-16 , on 6 and 56,044 DoF.\n",
       "                       Wu-Hausman: stat =   0.03042, p = 0.970038, on 2 and 56,044 DoF.\n",
       "                           Sargan: stat =   1.72692, p = 0.785822, on 4 DoF."
      ]
     },
     "metadata": {},
     "output_type": "display_data"
    }
   ],
   "source": [
    "# Спецификация с фиксированными эффектами, куда я добавил инструменты, чтобы убрать потенциальную двустороннюю связь. \n",
    "# Добавить больше инструментов, которые меняются во времени. Мб плотность населения или медианный возраст брать не за 2019 год а в динамике, \n",
    "# чтобы использовать их как инструменты в этой спецификации.\n",
    "fe_iv = feols(log(v) ~  1 +\n",
    " C8EV_International_travel_controls_i + C8EV_International_travel_controls_j | year+i+j|\n",
    " log(deaths_i) + log(deaths_j) ~ \n",
    "# H6M_Facial_Coverings_i+H6M_Facial_Coverings_j\n",
    "# +\n",
    "C1M_School_closing_i+C1M_School_closing_j\n",
    "+\n",
    "median_age_i + median_age_j\n",
    "+\n",
    "population_density_i + population_density_j\n",
    "# +\n",
    "# average_surface_temperature_i + average_surface_temperature_j # Добавляет пропусков\n",
    "\n",
    " ,\n",
    " data = df\n",
    " )\n",
    "fe_iv %>% summary(cluster = ~ i+j)"
   ]
  },
  {
   "cell_type": "code",
   "execution_count": 15,
   "metadata": {
    "vscode": {
     "languageId": "r"
    }
   },
   "outputs": [
    {
     "name": "stderr",
     "output_type": "stream",
     "text": [
      "NOTE: 13,568 observations removed because of NA and infinite values (RHS: 9,802, IV: 6,067/47).\n",
      "\n"
     ]
    },
    {
     "data": {
      "text/plain": [
       "TSLS estimation - Dep. Var.: log(v)\n",
       "                  Endo.    : log(deaths_i), log(deaths_j)\n",
       "                  Instr.   : median_age_i, median_age_j\n",
       "Second stage: Dep. Var.: log(v)\n",
       "Observations: 56,739\n",
       "Fixed-effects: year: 3,  i: 175,  j: 175\n",
       "Standard-errors: Clustered (i & j) \n",
       "                                     Estimate Std. Error  t value Pr(>|t|)    \n",
       "fit_log(deaths_i)                    0.062870   0.037782 1.664004 0.097912 .  \n",
       "fit_log(deaths_j)                    0.013908   0.024925 0.557997 0.577563    \n",
       "C8EV_International_travel_controls_i 0.007723   0.024735 0.312216 0.755250    \n",
       "C8EV_International_travel_controls_j 0.002525   0.018784 0.134415 0.893230    \n",
       "---\n",
       "Signif. codes:  0 '***' 0.001 '**' 0.01 '*' 0.05 '.' 0.1 ' ' 1\n",
       "RMSE: 2.53325     Adj. R2:  0.628689\n",
       "                Within R2: -6.044e-4\n",
       "F-test (1st stage), log(deaths_i): stat =   946.4     , p < 2.2e-16, on 2 and 56,386 DoF.\n",
       "F-test (1st stage), log(deaths_j): stat = 1,028.4     , p < 2.2e-16, on 2 and 56,386 DoF.\n",
       "                       Wu-Hausman: stat =     0.602417, p = 0.54749, on 2 and 56,382 DoF."
      ]
     },
     "metadata": {},
     "output_type": "display_data"
    }
   ],
   "source": [
    "fe_iv_age = feols(log(v) ~  1 +\n",
    " C8EV_International_travel_controls_i + C8EV_International_travel_controls_j | year+i+j|\n",
    " log(deaths_i) + log(deaths_j) ~ \n",
    "median_age_i + median_age_j\n",
    " ,\n",
    " data = df\n",
    " )\n",
    "fe_iv_age %>% summary(cluster = ~ i+j)"
   ]
  },
  {
   "cell_type": "code",
   "execution_count": 16,
   "metadata": {
    "vscode": {
     "languageId": "r"
    }
   },
   "outputs": [
    {
     "name": "stderr",
     "output_type": "stream",
     "text": [
      "NOTE: 17,245 observations removed because of NA and infinite values (RHS: 9,802, IV: 6,067/8,783).\n",
      "\n"
     ]
    },
    {
     "data": {
      "text/plain": [
       "TSLS estimation - Dep. Var.: log(v)\n",
       "                  Endo.    : log(deaths_i), log(deaths_j)\n",
       "                  Instr.   : median_age_i, median_age_j, average_surface_temperature_i, average_surface_temperature_j\n",
       "Second stage: Dep. Var.: log(v)\n",
       "Observations: 53,062\n",
       "Fixed-effects: year: 3,  i: 166,  j: 166\n",
       "Standard-errors: Clustered (i & j) \n",
       "                                     Estimate Std. Error  t value Pr(>|t|) \n",
       "fit_log(deaths_i)                    0.050013   0.036093 1.385651  0.16772 \n",
       "fit_log(deaths_j)                    0.019970   0.025539 0.781922  0.43538 \n",
       "C8EV_International_travel_controls_i 0.005865   0.023861 0.245780  0.80616 \n",
       "C8EV_International_travel_controls_j 0.008908   0.019118 0.465933  0.64188 \n",
       "---\n",
       "Signif. codes:  0 '***' 0.001 '**' 0.01 '*' 0.05 '.' 0.1 ' ' 1\n",
       "RMSE: 2.5157     Adj. R2:  0.628299\n",
       "               Within R2: -4.844e-4\n",
       "F-test (1st stage), log(deaths_i): stat = 472.0     , p < 2.2e-16 , on 4 and 52,725 DoF.\n",
       "F-test (1st stage), log(deaths_j): stat = 501.1     , p < 2.2e-16 , on 4 and 52,725 DoF.\n",
       "                       Wu-Hausman: stat =   0.491485, p = 0.61172 , on 2 and 52,723 DoF.\n",
       "                           Sargan: stat =   0.299779, p = 0.860803, on 2 DoF."
      ]
     },
     "metadata": {},
     "output_type": "display_data"
    }
   ],
   "source": [
    "fe_iv_age_temp = feols(log(v) ~  1 +\n",
    " C8EV_International_travel_controls_i + C8EV_International_travel_controls_j | year+i+j|\n",
    " log(deaths_i) + log(deaths_j) ~ \n",
    "median_age_i + median_age_j\n",
    "+\n",
    "average_surface_temperature_i + average_surface_temperature_j \n",
    " ,\n",
    " data = df\n",
    " )\n",
    "fe_iv_age_temp %>% summary(cluster = ~ i+j)"
   ]
  },
  {
   "cell_type": "code",
   "execution_count": 17,
   "metadata": {
    "vscode": {
     "languageId": "r"
    }
   },
   "outputs": [
    {
     "name": "stderr",
     "output_type": "stream",
     "text": [
      "NOTE: 13,906 observations removed because of NA and infinite values (IV: 13,568/10,661).\n",
      "\n"
     ]
    },
    {
     "data": {
      "text/plain": [
       "TSLS estimation - Dep. Var.: log(v)\n",
       "                  Endo.    : log(deaths_i), log(deaths_j), C8EV_International_travel_controls_i, C8EV_International_travel_controls_j\n",
       "                  Instr.   : C1M_School_closing_i, C1M_School_closing_j, median_age_i, median_age_j, population_density_i, population_density_j\n",
       "Second stage: Dep. Var.: log(v)\n",
       "Observations: 56,401\n",
       "Fixed-effects: year: 3,  i: 175,  j: 175\n",
       "Standard-errors: Clustered (i & j) \n",
       "                                          Estimate Std. Error   t value\n",
       "fit_log(deaths_i)                         0.048098   0.037600  1.279196\n",
       "fit_log(deaths_j)                         0.005798   0.034050  0.170285\n",
       "fit_C8EV_International_travel_controls_i -0.165073   0.103613 -1.593180\n",
       "fit_C8EV_International_travel_controls_j  0.003470   0.077292  0.044895\n",
       "                                         Pr(>|t|) \n",
       "fit_log(deaths_i)                         0.20253 \n",
       "fit_log(deaths_j)                         0.86498 \n",
       "fit_C8EV_International_travel_controls_i  0.11293 \n",
       "fit_C8EV_International_travel_controls_j  0.96424 \n",
       "---\n",
       "Signif. codes:  0 '***' 0.001 '**' 0.01 '*' 0.05 '.' 0.1 ' ' 1\n",
       "RMSE: 2.53586     Adj. R2:  0.628338\n",
       "                Within R2: -0.001073\n",
       "F-test (1st stage), log(deaths_i)                       : stat = 618.4     , p < 2.2e-16 , on 6 and 56,046 DoF.\n",
       "F-test (1st stage), log(deaths_j)                       : stat = 573.6     , p < 2.2e-16 , on 6 and 56,046 DoF.\n",
       "F-test (1st stage), C8EV_International_travel_controls_i: stat = 700.6     , p < 2.2e-16 , on 6 and 56,046 DoF.\n",
       "F-test (1st stage), C8EV_International_travel_controls_j: stat = 778.3     , p < 2.2e-16 , on 6 and 56,046 DoF.\n",
       "                                              Wu-Hausman: stat =   0.224154, p = 0.925045, on 4 and 56,042 DoF.\n",
       "                                                  Sargan: stat =   0.884851, p = 0.642476, on 2 DoF."
      ]
     },
     "metadata": {},
     "output_type": "display_data"
    }
   ],
   "source": [
    "iv_both_endo = feols(log(v) ~  1 | year+i+j|\n",
    " log(deaths_i) + log(deaths_j) +\n",
    " C8EV_International_travel_controls_i + C8EV_International_travel_controls_j ~ \n",
    "# H6M_Facial_Coverings_i+H6M_Facial_Coverings_j\n",
    "# +\n",
    "C1M_School_closing_i+C1M_School_closing_j\n",
    "+\n",
    "median_age_i + median_age_j\n",
    "+\n",
    "population_density_i + population_density_j\n",
    "# +\n",
    "# average_surface_temperature_i + average_surface_temperature_j # Добавляет пропусков\n",
    "\n",
    " ,\n",
    " data = df\n",
    " )\n",
    "iv_both_endo %>% summary(cluster = ~ i+j)"
   ]
  },
  {
   "cell_type": "code",
   "execution_count": 18,
   "metadata": {
    "vscode": {
     "languageId": "r"
    }
   },
   "outputs": [
    {
     "name": "stdout",
     "output_type": "stream",
     "text": [
      "Wald test, H0: joint nullity of fit_log(deaths_i), fit_log(deaths_j), fit_C8EV_International_travel_controls_i and fit_C8EV_International_travel_controls_j\n",
      " stat = 0.788987, p-value = 0.53208, on 4 and 56,046 DoF, VCOV: Clustered (i & j)."
     ]
    }
   ],
   "source": [
    "# Даже тест Вальда говорит, что ничего не значимо...\n",
    "wald(iv_both_endo, keep = 'log|C8', vcov = ~i+j)"
   ]
  },
  {
   "cell_type": "code",
   "execution_count": 19,
   "metadata": {
    "vscode": {
     "languageId": "r"
    }
   },
   "outputs": [
    {
     "name": "stderr",
     "output_type": "stream",
     "text": [
      "NOTE: 13,906 observations removed because of NA and infinite values (IV: 13,568/10,661).\n",
      "\n"
     ]
    },
    {
     "data": {
      "text/plain": [
       "TSLS estimation - Dep. Var.: log(v)\n",
       "                  Endo.    : log(deaths_i), log(deaths_j), C8EV_International_travel_controls_i, C8EV_International_travel_controls_j\n",
       "                  Instr.   : C1M_School_closing_i, C1M_School_closing_j, median_age_i, median_age_j, population_density_i, population_density_j\n",
       "Second stage: Dep. Var.: log(v)\n",
       "Observations: 56,401\n",
       "Fixed-effects: year: 3\n",
       "Standard-errors: Clustered (i & j) \n",
       "                                         Estimate Std. Error  t value\n",
       "fit_log(deaths_i)                        1.017800   0.165012 6.168040\n",
       "fit_log(deaths_j)                        0.626120   0.130734 4.789287\n",
       "fit_C8EV_International_travel_controls_i 0.200526   1.619977 0.123783\n",
       "fit_C8EV_International_travel_controls_j 0.038021   1.173255 0.032407\n",
       "                                           Pr(>|t|)    \n",
       "fit_log(deaths_i)                        4.6996e-09 ***\n",
       "fit_log(deaths_j)                        3.5657e-06 ***\n",
       "fit_C8EV_International_travel_controls_i 9.0163e-01    \n",
       "fit_C8EV_International_travel_controls_j 9.7418e-01    \n",
       "---\n",
       "Signif. codes:  0 '***' 0.001 '**' 0.01 '*' 0.05 '.' 0.1 ' ' 1\n",
       "RMSE: 4.34542     Adj. R2: -0.084613\n",
       "                Within R2: -0.084775\n",
       "F-test (1st stage), log(deaths_i)                       : stat = 7,656.7, p < 2.2e-16, on 6 and 56,394 DoF.\n",
       "F-test (1st stage), log(deaths_j)                       : stat = 8,181.8, p < 2.2e-16, on 6 and 56,394 DoF.\n",
       "F-test (1st stage), C8EV_International_travel_controls_i: stat =   700.3, p < 2.2e-16, on 6 and 56,394 DoF.\n",
       "F-test (1st stage), C8EV_International_travel_controls_j: stat =   723.4, p < 2.2e-16, on 6 and 56,394 DoF.\n",
       "                                              Wu-Hausman: stat = 1,474.4, p < 2.2e-16, on 4 and 56,390 DoF.\n",
       "                                                  Sargan: stat =   395.4, p < 2.2e-16, on 2 DoF."
      ]
     },
     "metadata": {},
     "output_type": "display_data"
    }
   ],
   "source": [
    "# Тут всё плохо в тесте Саргана\n",
    "# Мы верим в синюю схему, поэтому такая спецификация бессмысленна. Утверждение в ВКР: если схема верна, то влияение отрицательное.\n",
    "feols(log(v) ~  1 | year|\n",
    " log(deaths_i) + log(deaths_j) +\n",
    " C8EV_International_travel_controls_i + C8EV_International_travel_controls_j ~ \n",
    "# H6M_Facial_Coverings_i+H6M_Facial_Coverings_j\n",
    "# +\n",
    "C1M_School_closing_i+C1M_School_closing_j\n",
    "+\n",
    "median_age_i + median_age_j\n",
    "+\n",
    "population_density_i + population_density_j\n",
    "# +\n",
    "# average_surface_temperature_i + average_surface_temperature_j # Добавляет пропусков\n",
    "\n",
    " ,\n",
    " data = df\n",
    " ) %>% summary(cluster = ~ i+j)"
   ]
  },
  {
   "cell_type": "code",
   "execution_count": null,
   "metadata": {
    "vscode": {
     "languageId": "r"
    }
   },
   "outputs": [
    {
     "name": "stderr",
     "output_type": "stream",
     "text": [
      "NOTE: 17,571 observations removed because of NA and infinite values (IV: 13,568/15,000).\n",
      "\n"
     ]
    },
    {
     "data": {
      "text/plain": [
       "TSLS estimation - Dep. Var.: log(v)\n",
       "                  Endo.    : log(deaths_i), log(deaths_j), C8EV_International_travel_controls_i, C8EV_International_travel_controls_j\n",
       "                  Instr.   : C1M_School_closing_i, C1M_School_closing_j, median_age_i, median_age_j, population_density_i, population_density_j, average_surface_temperature_i, average_surface_temperature_j\n",
       "Second stage: Dep. Var.: log(v)\n",
       "Observations: 52,736\n",
       "Fixed-effects: year: 3,  i: 166,  j: 166\n",
       "Standard-errors: Clustered (i & j) \n",
       "                                          Estimate Std. Error   t value\n",
       "fit_log(deaths_i)                        -0.019786   0.064143 -0.308461\n",
       "fit_log(deaths_j)                         0.045376   0.039469  1.149661\n",
       "fit_C8EV_International_travel_controls_i -0.032627   0.122657 -0.266001\n",
       "fit_C8EV_International_travel_controls_j -0.044376   0.082666 -0.536816\n",
       "                                         Pr(>|t|) \n",
       "fit_log(deaths_i)                         0.75812 \n",
       "fit_log(deaths_j)                         0.25195 \n",
       "fit_C8EV_International_travel_controls_i  0.79057 \n",
       "fit_C8EV_International_travel_controls_j  0.59212 \n",
       "---\n",
       "Signif. codes:  0 '***' 0.001 '**' 0.01 '*' 0.05 '.' 0.1 ' ' 1\n",
       "RMSE: 2.51758     Adj. R2:  0.628199\n",
       "                Within R2: -3.391e-4\n",
       "F-test (1st stage), log(deaths_i)                       : stat = 416.1     , p < 2.2e-16 , on 8 and 52,397 DoF.\n",
       "F-test (1st stage), log(deaths_j)                       : stat = 396.3     , p < 2.2e-16 , on 8 and 52,397 DoF.\n",
       "F-test (1st stage), C8EV_International_travel_controls_i: stat = 527.9     , p < 2.2e-16 , on 8 and 52,397 DoF.\n",
       "F-test (1st stage), C8EV_International_travel_controls_j: stat = 587.3     , p < 2.2e-16 , on 8 and 52,397 DoF.\n",
       "                                              Wu-Hausman: stat =   0.145447, p = 0.965065, on 4 and 52,395 DoF.\n",
       "                                                  Sargan: stat =   2.26576 , p = 0.68701 , on 4 DoF."
      ]
     },
     "metadata": {},
     "output_type": "display_data"
    },
    {
     "name": "stdout",
     "output_type": "stream",
     "text": [
      "Wald test, H0: joint nullity of fit_log(deaths_i), fit_log(deaths_j), fit_C8EV_International_travel_controls_i and fit_C8EV_International_travel_controls_j\n",
      " stat = 0.493658, p-value = 0.740425, on 4 and 52,399 DoF, VCOV: Clustered (i & j)."
     ]
    }
   ],
   "source": [
    "iv_both_endo_temperature = feols(log(v) ~  1 | year+i+j|\n",
    " log(deaths_i) + log(deaths_j) +\n",
    " C8EV_International_travel_controls_i + C8EV_International_travel_controls_j ~ \n",
    "# H6M_Facial_Coverings_i+H6M_Facial_Coverings_j\n",
    "# +\n",
    "C1M_School_closing_i+C1M_School_closing_j\n",
    "+\n",
    "median_age_i + median_age_j\n",
    "+\n",
    "population_density_i + population_density_j\n",
    "+\n",
    "average_surface_temperature_i + average_surface_temperature_j # Добавляет пропусков\n",
    "\n",
    " ,\n",
    " data = df\n",
    " )\n",
    "iv_both_endo_temperature %>% summary(cluster = ~ i+j)\n",
    "wald(iv_both_endo_temperature, keep = 'log|C8', vcov = ~i+j)"
   ]
  },
  {
   "cell_type": "code",
   "execution_count": 21,
   "metadata": {
    "vscode": {
     "languageId": "r"
    }
   },
   "outputs": [
    {
     "name": "stderr",
     "output_type": "stream",
     "text": [
      "NOTE: 13,906 observations removed because of NA and infinite values (RHS: 6,067, IV: 9,802/10,661).\n",
      "\n"
     ]
    },
    {
     "data": {
      "text/plain": [
       "TSLS estimation - Dep. Var.: log(v)\n",
       "                  Endo.    : C8EV_International_travel_controls_i, C8EV_International_travel_controls_j\n",
       "                  Instr.   : C1M_School_closing_i, C1M_School_closing_j, median_age_i, median_age_j, population_density_i, population_density_j\n",
       "Second stage: Dep. Var.: log(v)\n",
       "Observations: 56,401\n",
       "Fixed-effects: year: 3,  i: 175,  j: 175\n",
       "Standard-errors: Clustered (i & j) \n",
       "                                          Estimate Std. Error   t value\n",
       "fit_C8EV_International_travel_controls_i -0.054602   0.073744 -0.740420\n",
       "fit_C8EV_International_travel_controls_j  0.016396   0.060523  0.270902\n",
       "log(deaths_i)                            -0.016555   0.012230 -1.353598\n",
       "log(deaths_j)                             0.001426   0.009702  0.147030\n",
       "                                         Pr(>|t|) \n",
       "fit_C8EV_International_travel_controls_i  0.46004 \n",
       "fit_C8EV_International_travel_controls_j  0.78679 \n",
       "log(deaths_i)                             0.17762 \n",
       "log(deaths_j)                             0.88328 \n",
       "---\n",
       "Signif. codes:  0 '***' 0.001 '**' 0.01 '*' 0.05 '.' 0.1 ' ' 1\n",
       "RMSE: 2.53451     Adj. R2:  0.628733\n",
       "                Within R2: -6.785e-6\n",
       "F-test (1st stage), C8EV_International_travel_controls_i: stat = 1,033.6     , p < 2.2e-16 , on 6 and 56,044 DoF.\n",
       "F-test (1st stage), C8EV_International_travel_controls_j: stat = 1,131.1     , p < 2.2e-16 , on 6 and 56,044 DoF.\n",
       "                                              Wu-Hausman: stat =     0.103061, p = 0.902072, on 2 and 56,044 DoF.\n",
       "                                                  Sargan: stat =     1.58068 , p = 0.81226 , on 4 DoF."
      ]
     },
     "metadata": {},
     "output_type": "display_data"
    }
   ],
   "source": [
    "# Как будто ограничения тоже эндогенные...\n",
    "# Но в своей схеме я считаю, что они экзогенные, потому что обосновали схему.\n",
    "# Если бы они были эндогенными, то наша оценка была бы смещена куда-то\n",
    "iv_itc_endo = feols(log(v) ~  1 + log(deaths_i) + log(deaths_j) | year+i+j|\n",
    " C8EV_International_travel_controls_i + C8EV_International_travel_controls_j ~ \n",
    "# H6M_Facial_Coverings_i+H6M_Facial_Coverings_j\n",
    "# +\n",
    "C1M_School_closing_i+C1M_School_closing_j\n",
    "+\n",
    "median_age_i + median_age_j\n",
    "+\n",
    "population_density_i + population_density_j\n",
    "# +\n",
    "# average_surface_temperature_i + average_surface_temperature_j # Добавляет пропусков\n",
    "\n",
    " ,\n",
    " data = df\n",
    " )\n",
    "iv_itc_endo %>% summary(cluster = ~ i+j)"
   ]
  },
  {
   "cell_type": "code",
   "execution_count": 22,
   "metadata": {
    "vscode": {
     "languageId": "r"
    }
   },
   "outputs": [
    {
     "name": "stderr",
     "output_type": "stream",
     "text": [
      "NOTE: 10,661 observations removed because of NA values (IV: 9,802/10,661).\n",
      "\n"
     ]
    },
    {
     "data": {
      "text/plain": [
       "TSLS estimation - Dep. Var.: log(v)\n",
       "                  Endo.    : C8EV_International_travel_controls_i, C8EV_International_travel_controls_j\n",
       "                  Instr.   : C1M_School_closing_i, C1M_School_closing_j, median_age_i, median_age_j, population_density_i, population_density_j\n",
       "Second stage: Dep. Var.: log(v)\n",
       "Observations: 59,646\n",
       "Fixed-effects: year: 3,  i: 178,  j: 178\n",
       "Standard-errors: Clustered (i & j) \n",
       "                                          Estimate Std. Error   t value\n",
       "fit_C8EV_International_travel_controls_i -0.102452   0.088111 -1.162762\n",
       "fit_C8EV_International_travel_controls_j -0.040139   0.070984 -0.565457\n",
       "                                         Pr(>|t|) \n",
       "fit_C8EV_International_travel_controls_i  0.24649 \n",
       "fit_C8EV_International_travel_controls_j  0.57248 \n",
       "---\n",
       "Signif. codes:  0 '***' 0.001 '**' 0.01 '*' 0.05 '.' 0.1 ' ' 1\n",
       "RMSE: 2.56168     Adj. R2:  0.622218\n",
       "                Within R2: -2.484e-4\n",
       "F-test (1st stage), C8EV_International_travel_controls_i: stat = 719.1     , p < 2.2e-16 , on 6 and 59,285 DoF.\n",
       "F-test (1st stage), C8EV_International_travel_controls_j: stat = 750.5     , p < 2.2e-16 , on 6 and 59,285 DoF.\n",
       "                                              Wu-Hausman: stat =   0.524193, p = 0.592036, on 2 and 59,285 DoF.\n",
       "                                                  Sargan: stat =   0.87394 , p = 0.928269, on 4 DoF."
      ]
     },
     "metadata": {},
     "output_type": "display_data"
    }
   ],
   "source": [
    "# Как будто ограничения тоже эндогенные...\n",
    "m8 = feols(log(v) ~  1 | year+i+j|\n",
    " C8EV_International_travel_controls_i + C8EV_International_travel_controls_j ~ \n",
    "# H6M_Facial_Coverings_i+H6M_Facial_Coverings_j\n",
    "# +\n",
    "C1M_School_closing_i+C1M_School_closing_j\n",
    "+\n",
    "median_age_i + median_age_j\n",
    "+\n",
    "population_density_i + population_density_j\n",
    "# +\n",
    "# average_surface_temperature_i + average_surface_temperature_j # Добавляет пропусков\n",
    "\n",
    " ,\n",
    " data = df\n",
    " )\n",
    "m8 %>% summary(cluster = ~ i+j)"
   ]
  },
  {
   "cell_type": "code",
   "execution_count": 23,
   "metadata": {
    "vscode": {
     "languageId": "r"
    }
   },
   "outputs": [
    {
     "name": "stderr",
     "output_type": "stream",
     "text": [
      "NOTE: 13,906 observations removed because of NA and infinite values (IV: 6,067/10,661).\n",
      "\n"
     ]
    },
    {
     "data": {
      "text/plain": [
       "TSLS estimation - Dep. Var.: log(v)\n",
       "                  Endo.    : log(deaths_i), log(deaths_j)\n",
       "                  Instr.   : C1M_School_closing_i, C1M_School_closing_j, median_age_i, median_age_j, population_density_i, population_density_j\n",
       "Second stage: Dep. Var.: log(v)\n",
       "Observations: 56,401\n",
       "Fixed-effects: year: 3,  i: 175,  j: 175\n",
       "Standard-errors: Clustered (i & j) \n",
       "                   Estimate Std. Error   t value Pr(>|t|) \n",
       "fit_log(deaths_i) -0.015813   0.036559 -0.432530  0.66589 \n",
       "fit_log(deaths_j)  0.012139   0.032889  0.369087  0.71251 \n",
       "---\n",
       "Signif. codes:  0 '***' 0.001 '**' 0.01 '*' 0.05 '.' 0.1 ' ' 1\n",
       "RMSE: 2.53451     Adj. R2:  0.628747\n",
       "                Within R2: -5.738e-6\n",
       "F-test (1st stage), log(deaths_i): stat = 618.4    , p < 2.2e-16 , on 6 and 56,046 DoF.\n",
       "F-test (1st stage), log(deaths_j): stat = 573.6    , p < 2.2e-16 , on 6 and 56,046 DoF.\n",
       "                       Wu-Hausman: stat =   0.03291, p = 0.967625, on 2 and 56,046 DoF.\n",
       "                           Sargan: stat =   1.95828, p = 0.743432, on 4 DoF."
      ]
     },
     "metadata": {},
     "output_type": "display_data"
    }
   ],
   "source": [
    "m9 = feols(log(v) ~  1 | year+i+j|\n",
    " log(deaths_i) + log(deaths_j) ~ \n",
    "# H6M_Facial_Coverings_i+H6M_Facial_Coverings_j\n",
    "# +\n",
    "C1M_School_closing_i+C1M_School_closing_j\n",
    "+\n",
    "median_age_i + median_age_j\n",
    "+\n",
    "population_density_i + population_density_j\n",
    "# +\n",
    "# average_surface_temperature_i + average_surface_temperature_j # Добавляет пропусков\n",
    "\n",
    " ,\n",
    " data = df\n",
    " )\n",
    "m9 %>% summary(cluster = ~ i+j)"
   ]
  },
  {
   "cell_type": "code",
   "execution_count": 24,
   "metadata": {
    "vscode": {
     "languageId": "r"
    }
   },
   "outputs": [
    {
     "data": {
      "text/html": [
       "<table class=\"dataframe\">\n",
       "<caption>A etable_df: 16 × 7</caption>\n",
       "<thead>\n",
       "\t<tr><th></th><th scope=col></th><th scope=col>pulled_tsls</th><th scope=col>fe_iv_year</th><th scope=col>fe_iv</th><th scope=col>iv_both_endo</th><th scope=col>iv_both_endo_t..</th><th scope=col>iv_itc_endo</th></tr>\n",
       "\t<tr><th></th><th scope=col>&lt;chr&gt;</th><th scope=col>&lt;chr&gt;</th><th scope=col>&lt;chr&gt;</th><th scope=col>&lt;chr&gt;</th><th scope=col>&lt;chr&gt;</th><th scope=col>&lt;chr&gt;</th><th scope=col>&lt;chr&gt;</th></tr>\n",
       "</thead>\n",
       "<tbody>\n",
       "\t<tr><th scope=row>1</th><td>Dependent Var.:                     </td><td>log(v)           </td><td>log(v)            </td><td>log(v)          </td><td>log(v)          </td><td>log(v)          </td><td>log(v)          </td></tr>\n",
       "\t<tr><th scope=row>2</th><td>                                    </td><td>                 </td><td>                  </td><td>                </td><td>                </td><td>                </td><td>                </td></tr>\n",
       "\t<tr><th scope=row>3</th><td>Constant                            </td><td>7.559*** (0.5554)</td><td>                  </td><td>                </td><td>                </td><td>                </td><td>                </td></tr>\n",
       "\t<tr><th scope=row>4</th><td>log(deaths_i)                       </td><td>-0.1873 (0.5692) </td><td>1.016*** (0.1485) </td><td>-0.0140 (0.0327)</td><td>0.0481 (0.0376) </td><td>-0.0198 (0.0641)</td><td>-0.0165 (0.0122)</td></tr>\n",
       "\t<tr><th scope=row>5</th><td>log(deaths_j)                       </td><td>-0.3740 (0.6173) </td><td>0.6241*** (0.1151)</td><td>0.0099 (0.0302) </td><td>0.0058 (0.0340) </td><td>0.0454 (0.0395) </td><td>0.0014 (0.0097) </td></tr>\n",
       "\t<tr><th scope=row>6</th><td>C8EV_International_travel_controls_i</td><td>0.3192 (0.2391)  </td><td>1.204*** (0.2708) </td><td>-0.0218 (0.0248)</td><td>-0.1651 (0.1036)</td><td>-0.0326 (0.1227)</td><td>-0.0546 (0.0737)</td></tr>\n",
       "\t<tr><th scope=row>7</th><td>C8EV_International_travel_controls_j</td><td>0.0376 (0.2275)  </td><td>0.8334*** (0.2012)</td><td>0.0057 (0.0188) </td><td>0.0035 (0.0773) </td><td>-0.0444 (0.0827)</td><td>0.0164 (0.0605) </td></tr>\n",
       "\t<tr><th scope=row>8</th><td>Fixed-Effects:                      </td><td>-----------------</td><td>------------------</td><td>----------------</td><td>----------------</td><td>----------------</td><td>----------------</td></tr>\n",
       "\t<tr><th scope=row>9</th><td>year                                </td><td>No               </td><td>Yes               </td><td>Yes             </td><td>Yes             </td><td>Yes             </td><td>Yes             </td></tr>\n",
       "\t<tr><th scope=row>10</th><td>i                                   </td><td>No               </td><td>No                </td><td>Yes             </td><td>Yes             </td><td>Yes             </td><td>Yes             </td></tr>\n",
       "\t<tr><th scope=row>11</th><td>j                                   </td><td>No               </td><td>No                </td><td>Yes             </td><td>Yes             </td><td>Yes             </td><td>Yes             </td></tr>\n",
       "\t<tr><th scope=row>12</th><td>____________________________________</td><td>_________________</td><td>__________________</td><td>________________</td><td>________________</td><td>________________</td><td>________________</td></tr>\n",
       "\t<tr><th scope=row>13</th><td><span style=white-space:pre-wrap>S.E.: Clustered                     </span></td><td><span style=white-space:pre-wrap>by: i &amp; j        </span></td><td><span style=white-space:pre-wrap>by: i &amp; j         </span></td><td><span style=white-space:pre-wrap>by: i &amp; j       </span></td><td><span style=white-space:pre-wrap>by: i &amp; j       </span></td><td><span style=white-space:pre-wrap>by: i &amp; j       </span></td><td><span style=white-space:pre-wrap>by: i &amp; j       </span></td></tr>\n",
       "\t<tr><th scope=row>14</th><td>Observations                        </td><td>56,401           </td><td>56,401            </td><td>56,401          </td><td>56,401          </td><td>52,736          </td><td>56,401          </td></tr>\n",
       "\t<tr><th scope=row>15</th><td>R2                                  </td><td>-0.09846         </td><td>-0.05146          </td><td>0.63107         </td><td>0.63067         </td><td>0.63057         </td><td>0.63106         </td></tr>\n",
       "\t<tr><th scope=row>16</th><td>Within R2                           </td><td>--               </td><td>-0.05173          </td><td>1.4e-5          </td><td>-0.00107        </td><td>-0.00034        </td><td>-6.78e-6        </td></tr>\n",
       "</tbody>\n",
       "</table>\n"
      ],
      "text/latex": [
       "A etable\\_df: 16 × 7\n",
       "\\begin{tabular}{r|lllllll}\n",
       "  &  & pulled\\_tsls & fe\\_iv\\_year & fe\\_iv & iv\\_both\\_endo & iv\\_both\\_endo\\_t.. & iv\\_itc\\_endo\\\\\n",
       "  & <chr> & <chr> & <chr> & <chr> & <chr> & <chr> & <chr>\\\\\n",
       "\\hline\n",
       "\t1 & Dependent Var.:                      & log(v)            & log(v)             & log(v)           & log(v)           & log(v)           & log(v)          \\\\\n",
       "\t2 &                                      &                   &                    &                  &                  &                  &                 \\\\\n",
       "\t3 & Constant                             & 7.559*** (0.5554) &                    &                  &                  &                  &                 \\\\\n",
       "\t4 & log(deaths\\_i)                        & -0.1873 (0.5692)  & 1.016*** (0.1485)  & -0.0140 (0.0327) & 0.0481 (0.0376)  & -0.0198 (0.0641) & -0.0165 (0.0122)\\\\\n",
       "\t5 & log(deaths\\_j)                        & -0.3740 (0.6173)  & 0.6241*** (0.1151) & 0.0099 (0.0302)  & 0.0058 (0.0340)  & 0.0454 (0.0395)  & 0.0014 (0.0097) \\\\\n",
       "\t6 & C8EV\\_International\\_travel\\_controls\\_i & 0.3192 (0.2391)   & 1.204*** (0.2708)  & -0.0218 (0.0248) & -0.1651 (0.1036) & -0.0326 (0.1227) & -0.0546 (0.0737)\\\\\n",
       "\t7 & C8EV\\_International\\_travel\\_controls\\_j & 0.0376 (0.2275)   & 0.8334*** (0.2012) & 0.0057 (0.0188)  & 0.0035 (0.0773)  & -0.0444 (0.0827) & 0.0164 (0.0605) \\\\\n",
       "\t8 & Fixed-Effects:                       & ----------------- & ------------------ & ---------------- & ---------------- & ---------------- & ----------------\\\\\n",
       "\t9 & year                                 & No                & Yes                & Yes              & Yes              & Yes              & Yes             \\\\\n",
       "\t10 & i                                    & No                & No                 & Yes              & Yes              & Yes              & Yes             \\\\\n",
       "\t11 & j                                    & No                & No                 & Yes              & Yes              & Yes              & Yes             \\\\\n",
       "\t12 & \\_\\_\\_\\_\\_\\_\\_\\_\\_\\_\\_\\_\\_\\_\\_\\_\\_\\_\\_\\_\\_\\_\\_\\_\\_\\_\\_\\_\\_\\_\\_\\_\\_\\_\\_\\_ & \\_\\_\\_\\_\\_\\_\\_\\_\\_\\_\\_\\_\\_\\_\\_\\_\\_ & \\_\\_\\_\\_\\_\\_\\_\\_\\_\\_\\_\\_\\_\\_\\_\\_\\_\\_ & \\_\\_\\_\\_\\_\\_\\_\\_\\_\\_\\_\\_\\_\\_\\_\\_ & \\_\\_\\_\\_\\_\\_\\_\\_\\_\\_\\_\\_\\_\\_\\_\\_ & \\_\\_\\_\\_\\_\\_\\_\\_\\_\\_\\_\\_\\_\\_\\_\\_ & \\_\\_\\_\\_\\_\\_\\_\\_\\_\\_\\_\\_\\_\\_\\_\\_\\\\\n",
       "\t13 & S.E.: Clustered                      & by: i \\& j         & by: i \\& j          & by: i \\& j        & by: i \\& j        & by: i \\& j        & by: i \\& j       \\\\\n",
       "\t14 & Observations                         & 56,401            & 56,401             & 56,401           & 56,401           & 52,736           & 56,401          \\\\\n",
       "\t15 & R2                                   & -0.09846          & -0.05146           & 0.63107          & 0.63067          & 0.63057          & 0.63106         \\\\\n",
       "\t16 & Within R2                            & --                & -0.05173           & 1.4e-5           & -0.00107         & -0.00034         & -6.78e-6        \\\\\n",
       "\\end{tabular}\n"
      ],
      "text/markdown": [
       "\n",
       "A etable_df: 16 × 7\n",
       "\n",
       "| <!--/--> | <!----> &lt;chr&gt; | pulled_tsls &lt;chr&gt; | fe_iv_year &lt;chr&gt; | fe_iv &lt;chr&gt; | iv_both_endo &lt;chr&gt; | iv_both_endo_t.. &lt;chr&gt; | iv_itc_endo &lt;chr&gt; |\n",
       "|---|---|---|---|---|---|---|---|\n",
       "| 1 | Dependent Var.:                      | log(v)            | log(v)             | log(v)           | log(v)           | log(v)           | log(v)           |\n",
       "| 2 | <!----> | <!----> | <!----> | <!----> | <!----> | <!----> | <!----> |\n",
       "| 3 | Constant                             | 7.559*** (0.5554) | <!----> | <!----> | <!----> | <!----> | <!----> |\n",
       "| 4 | log(deaths_i)                        | -0.1873 (0.5692)  | 1.016*** (0.1485)  | -0.0140 (0.0327) | 0.0481 (0.0376)  | -0.0198 (0.0641) | -0.0165 (0.0122) |\n",
       "| 5 | log(deaths_j)                        | -0.3740 (0.6173)  | 0.6241*** (0.1151) | 0.0099 (0.0302)  | 0.0058 (0.0340)  | 0.0454 (0.0395)  | 0.0014 (0.0097)  |\n",
       "| 6 | C8EV_International_travel_controls_i | 0.3192 (0.2391)   | 1.204*** (0.2708)  | -0.0218 (0.0248) | -0.1651 (0.1036) | -0.0326 (0.1227) | -0.0546 (0.0737) |\n",
       "| 7 | C8EV_International_travel_controls_j | 0.0376 (0.2275)   | 0.8334*** (0.2012) | 0.0057 (0.0188)  | 0.0035 (0.0773)  | -0.0444 (0.0827) | 0.0164 (0.0605)  |\n",
       "| 8 | Fixed-Effects:                       | ----------------- | ------------------ | ---------------- | ---------------- | ---------------- | ---------------- |\n",
       "| 9 | year                                 | No                | Yes                | Yes              | Yes              | Yes              | Yes              |\n",
       "| 10 | i                                    | No                | No                 | Yes              | Yes              | Yes              | Yes              |\n",
       "| 11 | j                                    | No                | No                 | Yes              | Yes              | Yes              | Yes              |\n",
       "| 12 | ____________________________________ | _________________ | __________________ | ________________ | ________________ | ________________ | ________________ |\n",
       "| 13 | S.E.: Clustered                      | by: i &amp; j         | by: i &amp; j          | by: i &amp; j        | by: i &amp; j        | by: i &amp; j        | by: i &amp; j        |\n",
       "| 14 | Observations                         | 56,401            | 56,401             | 56,401           | 56,401           | 52,736           | 56,401           |\n",
       "| 15 | R2                                   | -0.09846          | -0.05146           | 0.63107          | 0.63067          | 0.63057          | 0.63106          |\n",
       "| 16 | Within R2                            | --                | -0.05173           | 1.4e-5           | -0.00107         | -0.00034         | -6.78e-6         |\n",
       "\n"
      ],
      "text/plain": [
       "                                        pulled_tsls       fe_iv_year        \n",
       "1  Dependent Var.:                      log(v)            log(v)            \n",
       "2                                                                           \n",
       "3  Constant                             7.559*** (0.5554)                   \n",
       "4  log(deaths_i)                        -0.1873 (0.5692)  1.016*** (0.1485) \n",
       "5  log(deaths_j)                        -0.3740 (0.6173)  0.6241*** (0.1151)\n",
       "6  C8EV_International_travel_controls_i 0.3192 (0.2391)   1.204*** (0.2708) \n",
       "7  C8EV_International_travel_controls_j 0.0376 (0.2275)   0.8334*** (0.2012)\n",
       "8  Fixed-Effects:                       ----------------- ------------------\n",
       "9  year                                 No                Yes               \n",
       "10 i                                    No                No                \n",
       "11 j                                    No                No                \n",
       "12 ____________________________________ _________________ __________________\n",
       "13 S.E.: Clustered                      by: i & j         by: i & j         \n",
       "14 Observations                         56,401            56,401            \n",
       "15 R2                                   -0.09846          -0.05146          \n",
       "16 Within R2                            --                -0.05173          \n",
       "   fe_iv            iv_both_endo     iv_both_endo_t.. iv_itc_endo     \n",
       "1  log(v)           log(v)           log(v)           log(v)          \n",
       "2                                                                     \n",
       "3                                                                     \n",
       "4  -0.0140 (0.0327) 0.0481 (0.0376)  -0.0198 (0.0641) -0.0165 (0.0122)\n",
       "5  0.0099 (0.0302)  0.0058 (0.0340)  0.0454 (0.0395)  0.0014 (0.0097) \n",
       "6  -0.0218 (0.0248) -0.1651 (0.1036) -0.0326 (0.1227) -0.0546 (0.0737)\n",
       "7  0.0057 (0.0188)  0.0035 (0.0773)  -0.0444 (0.0827) 0.0164 (0.0605) \n",
       "8  ---------------- ---------------- ---------------- ----------------\n",
       "9  Yes              Yes              Yes              Yes             \n",
       "10 Yes              Yes              Yes              Yes             \n",
       "11 Yes              Yes              Yes              Yes             \n",
       "12 ________________ ________________ ________________ ________________\n",
       "13 by: i & j        by: i & j        by: i & j        by: i & j       \n",
       "14 56,401           56,401           52,736           56,401          \n",
       "15 0.63107          0.63067          0.63057          0.63106         \n",
       "16 1.4e-5           -0.00107         -0.00034         -6.78e-6        "
      ]
     },
     "metadata": {},
     "output_type": "display_data"
    }
   ],
   "source": [
    "# Слово влияние это экспертное мнение на основе методов\n",
    "# Температура это ложная корреляция, не надо\n",
    "# Колонка 4 --- у нас нет данных, чтобы оценить эту связь. Недоидентифицированная система (всё на всё влияет)\n",
    "etable(pulled_tsls, fe_iv_year, fe_iv, iv_both_endo, iv_both_endo_temperature, iv_itc_endo, vcov = ~i+j, signif.code = signif.code)"
   ]
  },
  {
   "cell_type": "code",
   "execution_count": 25,
   "metadata": {
    "vscode": {
     "languageId": "r"
    }
   },
   "outputs": [
    {
     "data": {
      "text/html": [
       "<table class=\"dataframe\">\n",
       "<caption>A etable_df: 16 × 7</caption>\n",
       "<thead>\n",
       "\t<tr><th></th><th scope=col></th><th scope=col>pulled_tsls</th><th scope=col>fe_iv_year</th><th scope=col>fe_iv</th><th scope=col>iv_both_endo</th><th scope=col>iv_both_endo_t..</th><th scope=col>iv_itc_endo</th></tr>\n",
       "\t<tr><th></th><th scope=col>&lt;chr&gt;</th><th scope=col>&lt;chr&gt;</th><th scope=col>&lt;chr&gt;</th><th scope=col>&lt;chr&gt;</th><th scope=col>&lt;chr&gt;</th><th scope=col>&lt;chr&gt;</th><th scope=col>&lt;chr&gt;</th></tr>\n",
       "</thead>\n",
       "<tbody>\n",
       "\t<tr><th scope=row>1</th><td>Dependent Var.:                     </td><td>log(v)           </td><td>log(v)           </td><td>log(v)          </td><td>log(v)          </td><td>log(v)          </td><td>log(v)          </td></tr>\n",
       "\t<tr><th scope=row>2</th><td>                                    </td><td>                 </td><td>                 </td><td>                </td><td>                </td><td>                </td><td>                </td></tr>\n",
       "\t<tr><th scope=row>3</th><td>Constant                            </td><td>7.559*** (0.1142)</td><td>                 </td><td>                </td><td>                </td><td>                </td><td>                </td></tr>\n",
       "\t<tr><th scope=row>4</th><td>log(deaths_i)                       </td><td>-0.1873 (0.1072) </td><td>1.016*** (0.0212)</td><td>-0.0140 (0.0509)</td><td>0.0481 (0.0918) </td><td>-0.0198 (0.0902)</td><td>-0.0165 (0.0161)</td></tr>\n",
       "\t<tr><th scope=row>5</th><td>log(deaths_j)                       </td><td>-0.3740. (0.1061)</td><td>0.6241** (0.0199)</td><td>0.0099 (0.0449) </td><td>0.0058 (0.0745) </td><td>0.0454 (0.0689) </td><td>0.0014 (0.0164) </td></tr>\n",
       "\t<tr><th scope=row>6</th><td>C8EV_International_travel_controls_i</td><td>0.3192* (0.0447) </td><td>1.204** (0.0428) </td><td>-0.0218 (0.0357)</td><td>-0.1651 (0.1557)</td><td>-0.0326 (0.1447)</td><td>-0.0546 (0.0950)</td></tr>\n",
       "\t<tr><th scope=row>7</th><td>C8EV_International_travel_controls_j</td><td>0.0376 (0.0448)  </td><td>0.8334** (0.0420)</td><td>0.0057 (0.0331) </td><td>0.0035 (0.1390) </td><td>-0.0444 (0.1207)</td><td>0.0164 (0.0860) </td></tr>\n",
       "\t<tr><th scope=row>8</th><td>Fixed-Effects:                      </td><td>-----------------</td><td>-----------------</td><td>----------------</td><td>----------------</td><td>----------------</td><td>----------------</td></tr>\n",
       "\t<tr><th scope=row>9</th><td>year                                </td><td>No               </td><td>Yes              </td><td>Yes             </td><td>Yes             </td><td>Yes             </td><td>Yes             </td></tr>\n",
       "\t<tr><th scope=row>10</th><td>i                                   </td><td>No               </td><td>No               </td><td>Yes             </td><td>Yes             </td><td>Yes             </td><td>Yes             </td></tr>\n",
       "\t<tr><th scope=row>11</th><td>j                                   </td><td>No               </td><td>No               </td><td>Yes             </td><td>Yes             </td><td>Yes             </td><td>Yes             </td></tr>\n",
       "\t<tr><th scope=row>12</th><td>____________________________________</td><td>_________________</td><td>_________________</td><td>________________</td><td>________________</td><td>________________</td><td>________________</td></tr>\n",
       "\t<tr><th scope=row>13</th><td>S.E. type                           </td><td>Newey-West (L=1) </td><td>Newey-West (L=1) </td><td>Newey-West (L=1)</td><td>Newey-West (L=1)</td><td>Newey-West (L=1)</td><td>Newey-West (L=1)</td></tr>\n",
       "\t<tr><th scope=row>14</th><td>Observations                        </td><td>56,401           </td><td>56,401           </td><td>56,401          </td><td>56,401          </td><td>52,736          </td><td>56,401          </td></tr>\n",
       "\t<tr><th scope=row>15</th><td>R2                                  </td><td>-0.09846         </td><td>-0.05146         </td><td>0.63107         </td><td>0.63067         </td><td>0.63057         </td><td>0.63106         </td></tr>\n",
       "\t<tr><th scope=row>16</th><td>Within R2                           </td><td>--               </td><td>-0.05173         </td><td>1.4e-5          </td><td>-0.00107        </td><td>-0.00034        </td><td>-6.78e-6        </td></tr>\n",
       "</tbody>\n",
       "</table>\n"
      ],
      "text/latex": [
       "A etable\\_df: 16 × 7\n",
       "\\begin{tabular}{r|lllllll}\n",
       "  &  & pulled\\_tsls & fe\\_iv\\_year & fe\\_iv & iv\\_both\\_endo & iv\\_both\\_endo\\_t.. & iv\\_itc\\_endo\\\\\n",
       "  & <chr> & <chr> & <chr> & <chr> & <chr> & <chr> & <chr>\\\\\n",
       "\\hline\n",
       "\t1 & Dependent Var.:                      & log(v)            & log(v)            & log(v)           & log(v)           & log(v)           & log(v)          \\\\\n",
       "\t2 &                                      &                   &                   &                  &                  &                  &                 \\\\\n",
       "\t3 & Constant                             & 7.559*** (0.1142) &                   &                  &                  &                  &                 \\\\\n",
       "\t4 & log(deaths\\_i)                        & -0.1873 (0.1072)  & 1.016*** (0.0212) & -0.0140 (0.0509) & 0.0481 (0.0918)  & -0.0198 (0.0902) & -0.0165 (0.0161)\\\\\n",
       "\t5 & log(deaths\\_j)                        & -0.3740. (0.1061) & 0.6241** (0.0199) & 0.0099 (0.0449)  & 0.0058 (0.0745)  & 0.0454 (0.0689)  & 0.0014 (0.0164) \\\\\n",
       "\t6 & C8EV\\_International\\_travel\\_controls\\_i & 0.3192* (0.0447)  & 1.204** (0.0428)  & -0.0218 (0.0357) & -0.1651 (0.1557) & -0.0326 (0.1447) & -0.0546 (0.0950)\\\\\n",
       "\t7 & C8EV\\_International\\_travel\\_controls\\_j & 0.0376 (0.0448)   & 0.8334** (0.0420) & 0.0057 (0.0331)  & 0.0035 (0.1390)  & -0.0444 (0.1207) & 0.0164 (0.0860) \\\\\n",
       "\t8 & Fixed-Effects:                       & ----------------- & ----------------- & ---------------- & ---------------- & ---------------- & ----------------\\\\\n",
       "\t9 & year                                 & No                & Yes               & Yes              & Yes              & Yes              & Yes             \\\\\n",
       "\t10 & i                                    & No                & No                & Yes              & Yes              & Yes              & Yes             \\\\\n",
       "\t11 & j                                    & No                & No                & Yes              & Yes              & Yes              & Yes             \\\\\n",
       "\t12 & \\_\\_\\_\\_\\_\\_\\_\\_\\_\\_\\_\\_\\_\\_\\_\\_\\_\\_\\_\\_\\_\\_\\_\\_\\_\\_\\_\\_\\_\\_\\_\\_\\_\\_\\_\\_ & \\_\\_\\_\\_\\_\\_\\_\\_\\_\\_\\_\\_\\_\\_\\_\\_\\_ & \\_\\_\\_\\_\\_\\_\\_\\_\\_\\_\\_\\_\\_\\_\\_\\_\\_ & \\_\\_\\_\\_\\_\\_\\_\\_\\_\\_\\_\\_\\_\\_\\_\\_ & \\_\\_\\_\\_\\_\\_\\_\\_\\_\\_\\_\\_\\_\\_\\_\\_ & \\_\\_\\_\\_\\_\\_\\_\\_\\_\\_\\_\\_\\_\\_\\_\\_ & \\_\\_\\_\\_\\_\\_\\_\\_\\_\\_\\_\\_\\_\\_\\_\\_\\\\\n",
       "\t13 & S.E. type                            & Newey-West (L=1)  & Newey-West (L=1)  & Newey-West (L=1) & Newey-West (L=1) & Newey-West (L=1) & Newey-West (L=1)\\\\\n",
       "\t14 & Observations                         & 56,401            & 56,401            & 56,401           & 56,401           & 52,736           & 56,401          \\\\\n",
       "\t15 & R2                                   & -0.09846          & -0.05146          & 0.63107          & 0.63067          & 0.63057          & 0.63106         \\\\\n",
       "\t16 & Within R2                            & --                & -0.05173          & 1.4e-5           & -0.00107         & -0.00034         & -6.78e-6        \\\\\n",
       "\\end{tabular}\n"
      ],
      "text/markdown": [
       "\n",
       "A etable_df: 16 × 7\n",
       "\n",
       "| <!--/--> | <!----> &lt;chr&gt; | pulled_tsls &lt;chr&gt; | fe_iv_year &lt;chr&gt; | fe_iv &lt;chr&gt; | iv_both_endo &lt;chr&gt; | iv_both_endo_t.. &lt;chr&gt; | iv_itc_endo &lt;chr&gt; |\n",
       "|---|---|---|---|---|---|---|---|\n",
       "| 1 | Dependent Var.:                      | log(v)            | log(v)            | log(v)           | log(v)           | log(v)           | log(v)           |\n",
       "| 2 | <!----> | <!----> | <!----> | <!----> | <!----> | <!----> | <!----> |\n",
       "| 3 | Constant                             | 7.559*** (0.1142) | <!----> | <!----> | <!----> | <!----> | <!----> |\n",
       "| 4 | log(deaths_i)                        | -0.1873 (0.1072)  | 1.016*** (0.0212) | -0.0140 (0.0509) | 0.0481 (0.0918)  | -0.0198 (0.0902) | -0.0165 (0.0161) |\n",
       "| 5 | log(deaths_j)                        | -0.3740. (0.1061) | 0.6241** (0.0199) | 0.0099 (0.0449)  | 0.0058 (0.0745)  | 0.0454 (0.0689)  | 0.0014 (0.0164)  |\n",
       "| 6 | C8EV_International_travel_controls_i | 0.3192* (0.0447)  | 1.204** (0.0428)  | -0.0218 (0.0357) | -0.1651 (0.1557) | -0.0326 (0.1447) | -0.0546 (0.0950) |\n",
       "| 7 | C8EV_International_travel_controls_j | 0.0376 (0.0448)   | 0.8334** (0.0420) | 0.0057 (0.0331)  | 0.0035 (0.1390)  | -0.0444 (0.1207) | 0.0164 (0.0860)  |\n",
       "| 8 | Fixed-Effects:                       | ----------------- | ----------------- | ---------------- | ---------------- | ---------------- | ---------------- |\n",
       "| 9 | year                                 | No                | Yes               | Yes              | Yes              | Yes              | Yes              |\n",
       "| 10 | i                                    | No                | No                | Yes              | Yes              | Yes              | Yes              |\n",
       "| 11 | j                                    | No                | No                | Yes              | Yes              | Yes              | Yes              |\n",
       "| 12 | ____________________________________ | _________________ | _________________ | ________________ | ________________ | ________________ | ________________ |\n",
       "| 13 | S.E. type                            | Newey-West (L=1)  | Newey-West (L=1)  | Newey-West (L=1) | Newey-West (L=1) | Newey-West (L=1) | Newey-West (L=1) |\n",
       "| 14 | Observations                         | 56,401            | 56,401            | 56,401           | 56,401           | 52,736           | 56,401           |\n",
       "| 15 | R2                                   | -0.09846          | -0.05146          | 0.63107          | 0.63067          | 0.63057          | 0.63106          |\n",
       "| 16 | Within R2                            | --                | -0.05173          | 1.4e-5           | -0.00107         | -0.00034         | -6.78e-6         |\n",
       "\n"
      ],
      "text/plain": [
       "                                        pulled_tsls       fe_iv_year       \n",
       "1  Dependent Var.:                      log(v)            log(v)           \n",
       "2                                                                          \n",
       "3  Constant                             7.559*** (0.1142)                  \n",
       "4  log(deaths_i)                        -0.1873 (0.1072)  1.016*** (0.0212)\n",
       "5  log(deaths_j)                        -0.3740. (0.1061) 0.6241** (0.0199)\n",
       "6  C8EV_International_travel_controls_i 0.3192* (0.0447)  1.204** (0.0428) \n",
       "7  C8EV_International_travel_controls_j 0.0376 (0.0448)   0.8334** (0.0420)\n",
       "8  Fixed-Effects:                       ----------------- -----------------\n",
       "9  year                                 No                Yes              \n",
       "10 i                                    No                No               \n",
       "11 j                                    No                No               \n",
       "12 ____________________________________ _________________ _________________\n",
       "13 S.E. type                            Newey-West (L=1)  Newey-West (L=1) \n",
       "14 Observations                         56,401            56,401           \n",
       "15 R2                                   -0.09846          -0.05146         \n",
       "16 Within R2                            --                -0.05173         \n",
       "   fe_iv            iv_both_endo     iv_both_endo_t.. iv_itc_endo     \n",
       "1  log(v)           log(v)           log(v)           log(v)          \n",
       "2                                                                     \n",
       "3                                                                     \n",
       "4  -0.0140 (0.0509) 0.0481 (0.0918)  -0.0198 (0.0902) -0.0165 (0.0161)\n",
       "5  0.0099 (0.0449)  0.0058 (0.0745)  0.0454 (0.0689)  0.0014 (0.0164) \n",
       "6  -0.0218 (0.0357) -0.1651 (0.1557) -0.0326 (0.1447) -0.0546 (0.0950)\n",
       "7  0.0057 (0.0331)  0.0035 (0.1390)  -0.0444 (0.1207) 0.0164 (0.0860) \n",
       "8  ---------------- ---------------- ---------------- ----------------\n",
       "9  Yes              Yes              Yes              Yes             \n",
       "10 Yes              Yes              Yes              Yes             \n",
       "11 Yes              Yes              Yes              Yes             \n",
       "12 ________________ ________________ ________________ ________________\n",
       "13 Newey-West (L=1) Newey-West (L=1) Newey-West (L=1) Newey-West (L=1)\n",
       "14 56,401           56,401           52,736           56,401          \n",
       "15 0.63107          0.63067          0.63057          0.63106         \n",
       "16 1.4e-5           -0.00107         -0.00034         -6.78e-6        "
      ]
     },
     "metadata": {},
     "output_type": "display_data"
    }
   ],
   "source": [
    "etable(pulled_tsls, fe_iv_year, fe_iv, iv_both_endo, iv_both_endo_temperature, iv_itc_endo, vcov = vcov_NW(unit = 'pair', time = 'year'), signif.code = signif.code)"
   ]
  },
  {
   "cell_type": "code",
   "execution_count": 26,
   "metadata": {
    "vscode": {
     "languageId": "r"
    }
   },
   "outputs": [
    {
     "name": "stderr",
     "output_type": "stream",
     "text": [
      "Variance contained negative values in the diagonal and was 'fixed' (a la Cameron, Gelbach & Miller 2011).\n",
      "\n",
      "Variance contained negative values in the diagonal and was 'fixed' (a la Cameron, Gelbach & Miller 2011).\n",
      "\n",
      "Variance contained negative values in the diagonal and was 'fixed' (a la Cameron, Gelbach & Miller 2011).\n",
      "\n",
      "Variance contained negative values in the diagonal and was 'fixed' (a la Cameron, Gelbach & Miller 2011).\n",
      "\n"
     ]
    },
    {
     "data": {
      "text/html": [
       "<table class=\"dataframe\">\n",
       "<caption>A etable_df: 16 × 7</caption>\n",
       "<thead>\n",
       "\t<tr><th></th><th scope=col></th><th scope=col>pulled_tsls</th><th scope=col>fe_iv_year</th><th scope=col>fe_iv</th><th scope=col>iv_both_endo</th><th scope=col>iv_both_endo_te..</th><th scope=col>iv_itc_endo</th></tr>\n",
       "\t<tr><th></th><th scope=col>&lt;chr&gt;</th><th scope=col>&lt;chr&gt;</th><th scope=col>&lt;chr&gt;</th><th scope=col>&lt;chr&gt;</th><th scope=col>&lt;chr&gt;</th><th scope=col>&lt;chr&gt;</th><th scope=col>&lt;chr&gt;</th></tr>\n",
       "</thead>\n",
       "<tbody>\n",
       "\t<tr><th scope=row>1</th><td>Dependent Var.:                     </td><td>log(v)          </td><td>log(v)          </td><td>log(v)           </td><td>log(v)           </td><td>log(v)           </td><td>log(v)           </td></tr>\n",
       "\t<tr><th scope=row>2</th><td>                                    </td><td>                </td><td>                </td><td>                 </td><td>                 </td><td>                 </td><td>                 </td></tr>\n",
       "\t<tr><th scope=row>3</th><td>Constant                            </td><td>7.559* (1.204)  </td><td>                </td><td>                 </td><td>                 </td><td>                 </td><td>                 </td></tr>\n",
       "\t<tr><th scope=row>4</th><td>log(deaths_i)                       </td><td>-0.1873 (0.6614)</td><td>1.016* (0.1772) </td><td>-0.0140*** (1e-5)</td><td>0.0481*** (1e-5) </td><td>-0.0198*** (1e-5)</td><td>-0.0165*** (1e-5)</td></tr>\n",
       "\t<tr><th scope=row>5</th><td>log(deaths_j)                       </td><td>-0.3740 (0.8467)</td><td>0.6241* (0.1220)</td><td>0.0099*** (1e-5) </td><td>0.0058*** (1e-5) </td><td>0.0454*** (1e-5) </td><td>0.0014*** (1e-5) </td></tr>\n",
       "\t<tr><th scope=row>6</th><td>C8EV_International_travel_controls_i</td><td>0.3192 (0.3054) </td><td>1.204* (0.2109) </td><td>-0.0218*** (1e-5)</td><td>-0.1651*** (1e-5)</td><td>-0.0326*** (1e-5)</td><td>-0.0546*** (1e-5)</td></tr>\n",
       "\t<tr><th scope=row>7</th><td>C8EV_International_travel_controls_j</td><td>0.0376 (0.2133) </td><td>0.8334* (0.1547)</td><td>0.0057*** (1e-5) </td><td>0.0035*** (1e-5) </td><td>-0.0444*** (1e-5)</td><td>0.0164*** (1e-5) </td></tr>\n",
       "\t<tr><th scope=row>8</th><td>Fixed-Effects:                      </td><td>----------------</td><td>----------------</td><td>-----------------</td><td>-----------------</td><td>-----------------</td><td>-----------------</td></tr>\n",
       "\t<tr><th scope=row>9</th><td>year                                </td><td>No              </td><td>Yes             </td><td>Yes              </td><td>Yes              </td><td>Yes              </td><td>Yes              </td></tr>\n",
       "\t<tr><th scope=row>10</th><td>i                                   </td><td>No              </td><td>No              </td><td>Yes              </td><td>Yes              </td><td>Yes              </td><td>Yes              </td></tr>\n",
       "\t<tr><th scope=row>11</th><td>j                                   </td><td>No              </td><td>No              </td><td>Yes              </td><td>Yes              </td><td>Yes              </td><td>Yes              </td></tr>\n",
       "\t<tr><th scope=row>12</th><td>____________________________________</td><td>________________</td><td>________________</td><td>_________________</td><td>_________________</td><td>_________________</td><td>_________________</td></tr>\n",
       "\t<tr><th scope=row>13</th><td><span style=white-space:pre-wrap>S.E.: Clustered                     </span></td><td>by: i &amp; j &amp; year</td><td>by: i &amp; j &amp; year</td><td>by: i &amp; j &amp; year </td><td>by: i &amp; j &amp; year </td><td>by: i &amp; j &amp; year </td><td>by: i &amp; j &amp; year </td></tr>\n",
       "\t<tr><th scope=row>14</th><td>Observations                        </td><td>56,401          </td><td>56,401          </td><td>56,401           </td><td>56,401           </td><td>52,736           </td><td>56,401           </td></tr>\n",
       "\t<tr><th scope=row>15</th><td>R2                                  </td><td>-0.09846        </td><td>-0.05146        </td><td>0.63107          </td><td>0.63067          </td><td>0.63057          </td><td>0.63106          </td></tr>\n",
       "\t<tr><th scope=row>16</th><td>Within R2                           </td><td>--              </td><td>-0.05173        </td><td>1.4e-5           </td><td>-0.00107         </td><td>-0.00034         </td><td>-6.78e-6         </td></tr>\n",
       "</tbody>\n",
       "</table>\n"
      ],
      "text/latex": [
       "A etable\\_df: 16 × 7\n",
       "\\begin{tabular}{r|lllllll}\n",
       "  &  & pulled\\_tsls & fe\\_iv\\_year & fe\\_iv & iv\\_both\\_endo & iv\\_both\\_endo\\_te.. & iv\\_itc\\_endo\\\\\n",
       "  & <chr> & <chr> & <chr> & <chr> & <chr> & <chr> & <chr>\\\\\n",
       "\\hline\n",
       "\t1 & Dependent Var.:                      & log(v)           & log(v)           & log(v)            & log(v)            & log(v)            & log(v)           \\\\\n",
       "\t2 &                                      &                  &                  &                   &                   &                   &                  \\\\\n",
       "\t3 & Constant                             & 7.559* (1.204)   &                  &                   &                   &                   &                  \\\\\n",
       "\t4 & log(deaths\\_i)                        & -0.1873 (0.6614) & 1.016* (0.1772)  & -0.0140*** (1e-5) & 0.0481*** (1e-5)  & -0.0198*** (1e-5) & -0.0165*** (1e-5)\\\\\n",
       "\t5 & log(deaths\\_j)                        & -0.3740 (0.8467) & 0.6241* (0.1220) & 0.0099*** (1e-5)  & 0.0058*** (1e-5)  & 0.0454*** (1e-5)  & 0.0014*** (1e-5) \\\\\n",
       "\t6 & C8EV\\_International\\_travel\\_controls\\_i & 0.3192 (0.3054)  & 1.204* (0.2109)  & -0.0218*** (1e-5) & -0.1651*** (1e-5) & -0.0326*** (1e-5) & -0.0546*** (1e-5)\\\\\n",
       "\t7 & C8EV\\_International\\_travel\\_controls\\_j & 0.0376 (0.2133)  & 0.8334* (0.1547) & 0.0057*** (1e-5)  & 0.0035*** (1e-5)  & -0.0444*** (1e-5) & 0.0164*** (1e-5) \\\\\n",
       "\t8 & Fixed-Effects:                       & ---------------- & ---------------- & ----------------- & ----------------- & ----------------- & -----------------\\\\\n",
       "\t9 & year                                 & No               & Yes              & Yes               & Yes               & Yes               & Yes              \\\\\n",
       "\t10 & i                                    & No               & No               & Yes               & Yes               & Yes               & Yes              \\\\\n",
       "\t11 & j                                    & No               & No               & Yes               & Yes               & Yes               & Yes              \\\\\n",
       "\t12 & \\_\\_\\_\\_\\_\\_\\_\\_\\_\\_\\_\\_\\_\\_\\_\\_\\_\\_\\_\\_\\_\\_\\_\\_\\_\\_\\_\\_\\_\\_\\_\\_\\_\\_\\_\\_ & \\_\\_\\_\\_\\_\\_\\_\\_\\_\\_\\_\\_\\_\\_\\_\\_ & \\_\\_\\_\\_\\_\\_\\_\\_\\_\\_\\_\\_\\_\\_\\_\\_ & \\_\\_\\_\\_\\_\\_\\_\\_\\_\\_\\_\\_\\_\\_\\_\\_\\_ & \\_\\_\\_\\_\\_\\_\\_\\_\\_\\_\\_\\_\\_\\_\\_\\_\\_ & \\_\\_\\_\\_\\_\\_\\_\\_\\_\\_\\_\\_\\_\\_\\_\\_\\_ & \\_\\_\\_\\_\\_\\_\\_\\_\\_\\_\\_\\_\\_\\_\\_\\_\\_\\\\\n",
       "\t13 & S.E.: Clustered                      & by: i \\& j \\& year & by: i \\& j \\& year & by: i \\& j \\& year  & by: i \\& j \\& year  & by: i \\& j \\& year  & by: i \\& j \\& year \\\\\n",
       "\t14 & Observations                         & 56,401           & 56,401           & 56,401            & 56,401            & 52,736            & 56,401           \\\\\n",
       "\t15 & R2                                   & -0.09846         & -0.05146         & 0.63107           & 0.63067           & 0.63057           & 0.63106          \\\\\n",
       "\t16 & Within R2                            & --               & -0.05173         & 1.4e-5            & -0.00107          & -0.00034          & -6.78e-6         \\\\\n",
       "\\end{tabular}\n"
      ],
      "text/markdown": [
       "\n",
       "A etable_df: 16 × 7\n",
       "\n",
       "| <!--/--> | <!----> &lt;chr&gt; | pulled_tsls &lt;chr&gt; | fe_iv_year &lt;chr&gt; | fe_iv &lt;chr&gt; | iv_both_endo &lt;chr&gt; | iv_both_endo_te.. &lt;chr&gt; | iv_itc_endo &lt;chr&gt; |\n",
       "|---|---|---|---|---|---|---|---|\n",
       "| 1 | Dependent Var.:                      | log(v)           | log(v)           | log(v)            | log(v)            | log(v)            | log(v)            |\n",
       "| 2 | <!----> | <!----> | <!----> | <!----> | <!----> | <!----> | <!----> |\n",
       "| 3 | Constant                             | 7.559* (1.204)   | <!----> | <!----> | <!----> | <!----> | <!----> |\n",
       "| 4 | log(deaths_i)                        | -0.1873 (0.6614) | 1.016* (0.1772)  | -0.0140*** (1e-5) | 0.0481*** (1e-5)  | -0.0198*** (1e-5) | -0.0165*** (1e-5) |\n",
       "| 5 | log(deaths_j)                        | -0.3740 (0.8467) | 0.6241* (0.1220) | 0.0099*** (1e-5)  | 0.0058*** (1e-5)  | 0.0454*** (1e-5)  | 0.0014*** (1e-5)  |\n",
       "| 6 | C8EV_International_travel_controls_i | 0.3192 (0.3054)  | 1.204* (0.2109)  | -0.0218*** (1e-5) | -0.1651*** (1e-5) | -0.0326*** (1e-5) | -0.0546*** (1e-5) |\n",
       "| 7 | C8EV_International_travel_controls_j | 0.0376 (0.2133)  | 0.8334* (0.1547) | 0.0057*** (1e-5)  | 0.0035*** (1e-5)  | -0.0444*** (1e-5) | 0.0164*** (1e-5)  |\n",
       "| 8 | Fixed-Effects:                       | ---------------- | ---------------- | ----------------- | ----------------- | ----------------- | ----------------- |\n",
       "| 9 | year                                 | No               | Yes              | Yes               | Yes               | Yes               | Yes               |\n",
       "| 10 | i                                    | No               | No               | Yes               | Yes               | Yes               | Yes               |\n",
       "| 11 | j                                    | No               | No               | Yes               | Yes               | Yes               | Yes               |\n",
       "| 12 | ____________________________________ | ________________ | ________________ | _________________ | _________________ | _________________ | _________________ |\n",
       "| 13 | S.E.: Clustered                      | by: i &amp; j &amp; year | by: i &amp; j &amp; year | by: i &amp; j &amp; year  | by: i &amp; j &amp; year  | by: i &amp; j &amp; year  | by: i &amp; j &amp; year  |\n",
       "| 14 | Observations                         | 56,401           | 56,401           | 56,401            | 56,401            | 52,736            | 56,401            |\n",
       "| 15 | R2                                   | -0.09846         | -0.05146         | 0.63107           | 0.63067           | 0.63057           | 0.63106           |\n",
       "| 16 | Within R2                            | --               | -0.05173         | 1.4e-5            | -0.00107          | -0.00034          | -6.78e-6          |\n",
       "\n"
      ],
      "text/plain": [
       "                                        pulled_tsls      fe_iv_year      \n",
       "1  Dependent Var.:                      log(v)           log(v)          \n",
       "2                                                                        \n",
       "3  Constant                             7.559* (1.204)                   \n",
       "4  log(deaths_i)                        -0.1873 (0.6614) 1.016* (0.1772) \n",
       "5  log(deaths_j)                        -0.3740 (0.8467) 0.6241* (0.1220)\n",
       "6  C8EV_International_travel_controls_i 0.3192 (0.3054)  1.204* (0.2109) \n",
       "7  C8EV_International_travel_controls_j 0.0376 (0.2133)  0.8334* (0.1547)\n",
       "8  Fixed-Effects:                       ---------------- ----------------\n",
       "9  year                                 No               Yes             \n",
       "10 i                                    No               No              \n",
       "11 j                                    No               No              \n",
       "12 ____________________________________ ________________ ________________\n",
       "13 S.E.: Clustered                      by: i & j & year by: i & j & year\n",
       "14 Observations                         56,401           56,401          \n",
       "15 R2                                   -0.09846         -0.05146        \n",
       "16 Within R2                            --               -0.05173        \n",
       "   fe_iv             iv_both_endo      iv_both_endo_te.. iv_itc_endo      \n",
       "1  log(v)            log(v)            log(v)            log(v)           \n",
       "2                                                                         \n",
       "3                                                                         \n",
       "4  -0.0140*** (1e-5) 0.0481*** (1e-5)  -0.0198*** (1e-5) -0.0165*** (1e-5)\n",
       "5  0.0099*** (1e-5)  0.0058*** (1e-5)  0.0454*** (1e-5)  0.0014*** (1e-5) \n",
       "6  -0.0218*** (1e-5) -0.1651*** (1e-5) -0.0326*** (1e-5) -0.0546*** (1e-5)\n",
       "7  0.0057*** (1e-5)  0.0035*** (1e-5)  -0.0444*** (1e-5) 0.0164*** (1e-5) \n",
       "8  ----------------- ----------------- ----------------- -----------------\n",
       "9  Yes               Yes               Yes               Yes              \n",
       "10 Yes               Yes               Yes               Yes              \n",
       "11 Yes               Yes               Yes               Yes              \n",
       "12 _________________ _________________ _________________ _________________\n",
       "13 by: i & j & year  by: i & j & year  by: i & j & year  by: i & j & year \n",
       "14 56,401            56,401            52,736            56,401           \n",
       "15 0.63107           0.63067           0.63057           0.63106          \n",
       "16 1.4e-5            -0.00107          -0.00034          -6.78e-6         "
      ]
     },
     "metadata": {},
     "output_type": "display_data"
    }
   ],
   "source": [
    "    # Всё ещё странно использовать кластеризацию по году... \n",
    "    # etable(m3, m4, vcov = function(x) vcovHC(x, method=\"arellano\", type=\"HC1\"), signif.code = signif.code) Не сработало\n",
    "etable(pulled_tsls, fe_iv_year, fe_iv, iv_both_endo, iv_both_endo_temperature, iv_itc_endo, vcov = ~i+j+year, signif.code = signif.code)"
   ]
  },
  {
   "cell_type": "code",
   "execution_count": 27,
   "metadata": {
    "vscode": {
     "languageId": "r"
    }
   },
   "outputs": [
    {
     "data": {
      "text/html": [
       "<table class=\"dataframe\">\n",
       "<caption>A etable_df: 16 × 7</caption>\n",
       "<thead>\n",
       "\t<tr><th></th><th scope=col></th><th scope=col>pulled_tsls</th><th scope=col>fe_iv_year</th><th scope=col>fe_iv</th><th scope=col>iv_both_endo</th><th scope=col>iv_both_endo_t..</th><th scope=col>iv_itc_endo</th></tr>\n",
       "\t<tr><th></th><th scope=col>&lt;chr&gt;</th><th scope=col>&lt;chr&gt;</th><th scope=col>&lt;chr&gt;</th><th scope=col>&lt;chr&gt;</th><th scope=col>&lt;chr&gt;</th><th scope=col>&lt;chr&gt;</th><th scope=col>&lt;chr&gt;</th></tr>\n",
       "</thead>\n",
       "<tbody>\n",
       "\t<tr><th scope=row>1</th><td>Dependent Var.:                     </td><td>log(v)           </td><td>log(v)             </td><td>log(v)           </td><td>log(v)           </td><td>log(v)           </td><td>log(v)           </td></tr>\n",
       "\t<tr><th scope=row>2</th><td>                                    </td><td>                 </td><td>                   </td><td>                 </td><td>                 </td><td>                 </td><td>                 </td></tr>\n",
       "\t<tr><th scope=row>3</th><td>Constant                            </td><td>7.559*** (0.5707)</td><td>                   </td><td>                 </td><td>                 </td><td>                 </td><td>                 </td></tr>\n",
       "\t<tr><th scope=row>4</th><td>log(deaths_i)                       </td><td>-0.1873 (0.4280) </td><td>1.016*** (0.0909)  </td><td>-0.0140 (0.0586) </td><td>0.0481 (0.0757)  </td><td>-0.0198 (0.0912) </td><td>-0.0165 (0.0173) </td></tr>\n",
       "\t<tr><th scope=row>5</th><td>log(deaths_j)                       </td><td>-0.3740 (0.4746) </td><td>0.6241*** (0.0691) </td><td>0.0099 (0.0518)  </td><td>0.0058 (0.0651)  </td><td>0.0454 (0.0818)  </td><td>0.0014 (0.0188)  </td></tr>\n",
       "\t<tr><th scope=row>6</th><td>C8EV_International_travel_controls_i</td><td>0.3192 (0.2006)  </td><td>1.204*** (0.2129)  </td><td>-0.0218 (0.0460) </td><td>-0.1651 (0.1523) </td><td>-0.0326 (0.1922) </td><td>-0.0546 (0.1339) </td></tr>\n",
       "\t<tr><th scope=row>7</th><td>C8EV_International_travel_controls_j</td><td>0.0376 (0.1921)  </td><td>0.8334*** (0.1561) </td><td>0.0057 (0.0429)  </td><td>0.0035 (0.1375)  </td><td>-0.0444 (0.1751) </td><td>0.0164 (0.1169)  </td></tr>\n",
       "\t<tr><th scope=row>8</th><td>Fixed-Effects:                      </td><td>-----------------</td><td>------------------ </td><td>---------------- </td><td>---------------- </td><td>---------------- </td><td>---------------- </td></tr>\n",
       "\t<tr><th scope=row>9</th><td>year                                </td><td>No               </td><td>Yes                </td><td>Yes              </td><td>Yes              </td><td>Yes              </td><td>Yes              </td></tr>\n",
       "\t<tr><th scope=row>10</th><td>i                                   </td><td>No               </td><td>No                 </td><td>Yes              </td><td>Yes              </td><td>Yes              </td><td>Yes              </td></tr>\n",
       "\t<tr><th scope=row>11</th><td>j                                   </td><td>No               </td><td>No                 </td><td>Yes              </td><td>Yes              </td><td>Yes              </td><td>Yes              </td></tr>\n",
       "\t<tr><th scope=row>12</th><td>____________________________________</td><td>_________________</td><td>__________________ </td><td>________________ </td><td>________________ </td><td>________________ </td><td>________________ </td></tr>\n",
       "\t<tr><th scope=row>13</th><td><span style=white-space:pre-wrap>S.E.: Clustered                     </span></td><td>by: i-ye. &amp; j-ye.</td><td>by: i-year &amp; j-year</td><td>by: i-ye. &amp; j-ye.</td><td>by: i-ye. &amp; j-ye.</td><td>by: i-ye. &amp; j-ye.</td><td>by: i-ye. &amp; j-ye.</td></tr>\n",
       "\t<tr><th scope=row>14</th><td>Observations                        </td><td>56,401           </td><td>56,401             </td><td>56,401           </td><td>56,401           </td><td>52,736           </td><td>56,401           </td></tr>\n",
       "\t<tr><th scope=row>15</th><td>R2                                  </td><td>-0.09846         </td><td>-0.05146           </td><td>0.63107          </td><td>0.63067          </td><td>0.63057          </td><td>0.63106          </td></tr>\n",
       "\t<tr><th scope=row>16</th><td>Within R2                           </td><td>--               </td><td>-0.05173           </td><td>1.4e-5           </td><td>-0.00107         </td><td>-0.00034         </td><td>-6.78e-6         </td></tr>\n",
       "</tbody>\n",
       "</table>\n"
      ],
      "text/latex": [
       "A etable\\_df: 16 × 7\n",
       "\\begin{tabular}{r|lllllll}\n",
       "  &  & pulled\\_tsls & fe\\_iv\\_year & fe\\_iv & iv\\_both\\_endo & iv\\_both\\_endo\\_t.. & iv\\_itc\\_endo\\\\\n",
       "  & <chr> & <chr> & <chr> & <chr> & <chr> & <chr> & <chr>\\\\\n",
       "\\hline\n",
       "\t1 & Dependent Var.:                      & log(v)            & log(v)              & log(v)            & log(v)            & log(v)            & log(v)           \\\\\n",
       "\t2 &                                      &                   &                     &                   &                   &                   &                  \\\\\n",
       "\t3 & Constant                             & 7.559*** (0.5707) &                     &                   &                   &                   &                  \\\\\n",
       "\t4 & log(deaths\\_i)                        & -0.1873 (0.4280)  & 1.016*** (0.0909)   & -0.0140 (0.0586)  & 0.0481 (0.0757)   & -0.0198 (0.0912)  & -0.0165 (0.0173) \\\\\n",
       "\t5 & log(deaths\\_j)                        & -0.3740 (0.4746)  & 0.6241*** (0.0691)  & 0.0099 (0.0518)   & 0.0058 (0.0651)   & 0.0454 (0.0818)   & 0.0014 (0.0188)  \\\\\n",
       "\t6 & C8EV\\_International\\_travel\\_controls\\_i & 0.3192 (0.2006)   & 1.204*** (0.2129)   & -0.0218 (0.0460)  & -0.1651 (0.1523)  & -0.0326 (0.1922)  & -0.0546 (0.1339) \\\\\n",
       "\t7 & C8EV\\_International\\_travel\\_controls\\_j & 0.0376 (0.1921)   & 0.8334*** (0.1561)  & 0.0057 (0.0429)   & 0.0035 (0.1375)   & -0.0444 (0.1751)  & 0.0164 (0.1169)  \\\\\n",
       "\t8 & Fixed-Effects:                       & ----------------- & ------------------  & ----------------  & ----------------  & ----------------  & ---------------- \\\\\n",
       "\t9 & year                                 & No                & Yes                 & Yes               & Yes               & Yes               & Yes              \\\\\n",
       "\t10 & i                                    & No                & No                  & Yes               & Yes               & Yes               & Yes              \\\\\n",
       "\t11 & j                                    & No                & No                  & Yes               & Yes               & Yes               & Yes              \\\\\n",
       "\t12 & \\_\\_\\_\\_\\_\\_\\_\\_\\_\\_\\_\\_\\_\\_\\_\\_\\_\\_\\_\\_\\_\\_\\_\\_\\_\\_\\_\\_\\_\\_\\_\\_\\_\\_\\_\\_ & \\_\\_\\_\\_\\_\\_\\_\\_\\_\\_\\_\\_\\_\\_\\_\\_\\_ & \\_\\_\\_\\_\\_\\_\\_\\_\\_\\_\\_\\_\\_\\_\\_\\_\\_\\_  & \\_\\_\\_\\_\\_\\_\\_\\_\\_\\_\\_\\_\\_\\_\\_\\_  & \\_\\_\\_\\_\\_\\_\\_\\_\\_\\_\\_\\_\\_\\_\\_\\_  & \\_\\_\\_\\_\\_\\_\\_\\_\\_\\_\\_\\_\\_\\_\\_\\_  & \\_\\_\\_\\_\\_\\_\\_\\_\\_\\_\\_\\_\\_\\_\\_\\_ \\\\\n",
       "\t13 & S.E.: Clustered                      & by: i-ye. \\& j-ye. & by: i-year \\& j-year & by: i-ye. \\& j-ye. & by: i-ye. \\& j-ye. & by: i-ye. \\& j-ye. & by: i-ye. \\& j-ye.\\\\\n",
       "\t14 & Observations                         & 56,401            & 56,401              & 56,401            & 56,401            & 52,736            & 56,401           \\\\\n",
       "\t15 & R2                                   & -0.09846          & -0.05146            & 0.63107           & 0.63067           & 0.63057           & 0.63106          \\\\\n",
       "\t16 & Within R2                            & --                & -0.05173            & 1.4e-5            & -0.00107          & -0.00034          & -6.78e-6         \\\\\n",
       "\\end{tabular}\n"
      ],
      "text/markdown": [
       "\n",
       "A etable_df: 16 × 7\n",
       "\n",
       "| <!--/--> | <!----> &lt;chr&gt; | pulled_tsls &lt;chr&gt; | fe_iv_year &lt;chr&gt; | fe_iv &lt;chr&gt; | iv_both_endo &lt;chr&gt; | iv_both_endo_t.. &lt;chr&gt; | iv_itc_endo &lt;chr&gt; |\n",
       "|---|---|---|---|---|---|---|---|\n",
       "| 1 | Dependent Var.:                      | log(v)            | log(v)              | log(v)            | log(v)            | log(v)            | log(v)            |\n",
       "| 2 | <!----> | <!----> | <!----> | <!----> | <!----> | <!----> | <!----> |\n",
       "| 3 | Constant                             | 7.559*** (0.5707) | <!----> | <!----> | <!----> | <!----> | <!----> |\n",
       "| 4 | log(deaths_i)                        | -0.1873 (0.4280)  | 1.016*** (0.0909)   | -0.0140 (0.0586)  | 0.0481 (0.0757)   | -0.0198 (0.0912)  | -0.0165 (0.0173)  |\n",
       "| 5 | log(deaths_j)                        | -0.3740 (0.4746)  | 0.6241*** (0.0691)  | 0.0099 (0.0518)   | 0.0058 (0.0651)   | 0.0454 (0.0818)   | 0.0014 (0.0188)   |\n",
       "| 6 | C8EV_International_travel_controls_i | 0.3192 (0.2006)   | 1.204*** (0.2129)   | -0.0218 (0.0460)  | -0.1651 (0.1523)  | -0.0326 (0.1922)  | -0.0546 (0.1339)  |\n",
       "| 7 | C8EV_International_travel_controls_j | 0.0376 (0.1921)   | 0.8334*** (0.1561)  | 0.0057 (0.0429)   | 0.0035 (0.1375)   | -0.0444 (0.1751)  | 0.0164 (0.1169)   |\n",
       "| 8 | Fixed-Effects:                       | ----------------- | ------------------  | ----------------  | ----------------  | ----------------  | ----------------  |\n",
       "| 9 | year                                 | No                | Yes                 | Yes               | Yes               | Yes               | Yes               |\n",
       "| 10 | i                                    | No                | No                  | Yes               | Yes               | Yes               | Yes               |\n",
       "| 11 | j                                    | No                | No                  | Yes               | Yes               | Yes               | Yes               |\n",
       "| 12 | ____________________________________ | _________________ | __________________  | ________________  | ________________  | ________________  | ________________  |\n",
       "| 13 | S.E.: Clustered                      | by: i-ye. &amp; j-ye. | by: i-year &amp; j-year | by: i-ye. &amp; j-ye. | by: i-ye. &amp; j-ye. | by: i-ye. &amp; j-ye. | by: i-ye. &amp; j-ye. |\n",
       "| 14 | Observations                         | 56,401            | 56,401              | 56,401            | 56,401            | 52,736            | 56,401            |\n",
       "| 15 | R2                                   | -0.09846          | -0.05146            | 0.63107           | 0.63067           | 0.63057           | 0.63106           |\n",
       "| 16 | Within R2                            | --                | -0.05173            | 1.4e-5            | -0.00107          | -0.00034          | -6.78e-6          |\n",
       "\n"
      ],
      "text/plain": [
       "                                        pulled_tsls       fe_iv_year         \n",
       "1  Dependent Var.:                      log(v)            log(v)             \n",
       "2                                                                            \n",
       "3  Constant                             7.559*** (0.5707)                    \n",
       "4  log(deaths_i)                        -0.1873 (0.4280)  1.016*** (0.0909)  \n",
       "5  log(deaths_j)                        -0.3740 (0.4746)  0.6241*** (0.0691) \n",
       "6  C8EV_International_travel_controls_i 0.3192 (0.2006)   1.204*** (0.2129)  \n",
       "7  C8EV_International_travel_controls_j 0.0376 (0.1921)   0.8334*** (0.1561) \n",
       "8  Fixed-Effects:                       ----------------- ------------------ \n",
       "9  year                                 No                Yes                \n",
       "10 i                                    No                No                 \n",
       "11 j                                    No                No                 \n",
       "12 ____________________________________ _________________ __________________ \n",
       "13 S.E.: Clustered                      by: i-ye. & j-ye. by: i-year & j-year\n",
       "14 Observations                         56,401            56,401             \n",
       "15 R2                                   -0.09846          -0.05146           \n",
       "16 Within R2                            --                -0.05173           \n",
       "   fe_iv             iv_both_endo      iv_both_endo_t..  iv_itc_endo      \n",
       "1  log(v)            log(v)            log(v)            log(v)           \n",
       "2                                                                         \n",
       "3                                                                         \n",
       "4  -0.0140 (0.0586)  0.0481 (0.0757)   -0.0198 (0.0912)  -0.0165 (0.0173) \n",
       "5  0.0099 (0.0518)   0.0058 (0.0651)   0.0454 (0.0818)   0.0014 (0.0188)  \n",
       "6  -0.0218 (0.0460)  -0.1651 (0.1523)  -0.0326 (0.1922)  -0.0546 (0.1339) \n",
       "7  0.0057 (0.0429)   0.0035 (0.1375)   -0.0444 (0.1751)  0.0164 (0.1169)  \n",
       "8  ----------------  ----------------  ----------------  ---------------- \n",
       "9  Yes               Yes               Yes               Yes              \n",
       "10 Yes               Yes               Yes               Yes              \n",
       "11 Yes               Yes               Yes               Yes              \n",
       "12 ________________  ________________  ________________  ________________ \n",
       "13 by: i-ye. & j-ye. by: i-ye. & j-ye. by: i-ye. & j-ye. by: i-ye. & j-ye.\n",
       "14 56,401            56,401            52,736            56,401           \n",
       "15 0.63107           0.63067           0.63057           0.63106          \n",
       "16 1.4e-5            -0.00107          -0.00034          -6.78e-6         "
      ]
     },
     "metadata": {},
     "output_type": "display_data"
    }
   ],
   "source": [
    "# Так вроде не очень корректно делать, если мы верим в возможную автокорреляцию\n",
    "etable(pulled_tsls, fe_iv_year, fe_iv, iv_both_endo, iv_both_endo_temperature, iv_itc_endo, vcov = ~i^year+j^year, signif.code = signif.code)"
   ]
  },
  {
   "cell_type": "markdown",
   "metadata": {},
   "source": [
    "## Три пространственные регрессии (как в курсовой)\n",
    "\n",
    "Но в такую спецификацию нельзя добавить фиксированные эффекты, поэтому почти наверное без инструментов будет смещение из-за пропущенных переменных"
   ]
  },
  {
   "cell_type": "code",
   "execution_count": 28,
   "metadata": {
    "vscode": {
     "languageId": "r"
    }
   },
   "outputs": [
    {
     "name": "stderr",
     "output_type": "stream",
     "text": [
      "NOTE: 5,531 observations removed because of NA and infinite values (RHS: 5,531).\n",
      "\n",
      "NOTE: 4,126 observations removed because of NA and infinite values (RHS: 4,126).\n",
      "\n",
      "NOTE: 3,911 observations removed because of NA and infinite values (RHS: 3,911).\n",
      "\n"
     ]
    },
    {
     "data": {
      "text/plain": [
       "OLS estimation, Dep. Var.: log(v)\n",
       "Observations: 18,391\n",
       "Standard-errors: Heteroskedasticity-robust \n",
       "                                     Estimate Std. Error t value  Pr(>|t|)    \n",
       "(Intercept)                          5.563712   0.202765 27.4392 < 2.2e-16 ***\n",
       "log(deaths_i)                        0.372474   0.014981 24.8636 < 2.2e-16 ***\n",
       "log(deaths_j)                        0.244586   0.014349 17.0458 < 2.2e-16 ***\n",
       "C8EV_International_travel_controls_i 0.895261   0.056778 15.7678 < 2.2e-16 ***\n",
       "C8EV_International_travel_controls_j 0.680061   0.057191 11.8910 < 2.2e-16 ***\n",
       "---\n",
       "Signif. codes:  0 '***' 0.001 '**' 0.01 '*' 0.05 '.' 0.1 ' ' 1\n",
       "RMSE: 3.9653   Adj. R2: 0.064359"
      ]
     },
     "metadata": {},
     "output_type": "display_data"
    },
    {
     "data": {
      "text/plain": [
       "OLS estimation, Dep. Var.: log(v)\n",
       "Observations: 19,432\n",
       "Standard-errors: Heteroskedasticity-robust \n",
       "                                     Estimate Std. Error  t value   Pr(>|t|)\n",
       "(Intercept)                          4.294474   0.128804 33.34124  < 2.2e-16\n",
       "log(deaths_i)                        0.291123   0.019402 15.00443  < 2.2e-16\n",
       "log(deaths_j)                        0.111539   0.017035  6.54750 5.9973e-11\n",
       "C8EV_International_travel_controls_i 1.147440   0.038908 29.49124  < 2.2e-16\n",
       "C8EV_International_travel_controls_j 0.835839   0.039068 21.39448  < 2.2e-16\n",
       "                                        \n",
       "(Intercept)                          ***\n",
       "log(deaths_i)                        ***\n",
       "log(deaths_j)                        ***\n",
       "C8EV_International_travel_controls_i ***\n",
       "C8EV_International_travel_controls_j ***\n",
       "---\n",
       "Signif. codes:  0 '***' 0.001 '**' 0.01 '*' 0.05 '.' 0.1 ' ' 1\n",
       "RMSE: 4.03296   Adj. R2: 0.077936"
      ]
     },
     "metadata": {},
     "output_type": "display_data"
    },
    {
     "data": {
      "text/plain": [
       "OLS estimation, Dep. Var.: log(v)\n",
       "Observations: 18,916\n",
       "Standard-errors: Heteroskedasticity-robust \n",
       "                                     Estimate Std. Error   t value   Pr(>|t|)\n",
       "(Intercept)                          8.909318   0.078977 112.80953  < 2.2e-16\n",
       "log(deaths_i)                        0.483443   0.015579  31.03087  < 2.2e-16\n",
       "log(deaths_j)                        0.258449   0.014147  18.26831  < 2.2e-16\n",
       "C8EV_International_travel_controls_i 0.671115   0.072550   9.25034  < 2.2e-16\n",
       "C8EV_International_travel_controls_j 0.365265   0.066691   5.47697 4.3819e-08\n",
       "                                        \n",
       "(Intercept)                          ***\n",
       "log(deaths_i)                        ***\n",
       "log(deaths_j)                        ***\n",
       "C8EV_International_travel_controls_i ***\n",
       "C8EV_International_travel_controls_j ***\n",
       "---\n",
       "Signif. codes:  0 '***' 0.001 '**' 0.01 '*' 0.05 '.' 0.1 ' ' 1\n",
       "RMSE: 4.07348   Adj. R2: 0.061527"
      ]
     },
     "metadata": {},
     "output_type": "display_data"
    },
    {
     "data": {
      "text/html": [
       "<table class=\"dataframe\">\n",
       "<caption>A etable_df: 12 × 4</caption>\n",
       "<thead>\n",
       "\t<tr><th></th><th scope=col></th><th scope=col>m_2020</th><th scope=col>m_2021</th><th scope=col>m_2022</th></tr>\n",
       "\t<tr><th></th><th scope=col>&lt;chr&gt;</th><th scope=col>&lt;chr&gt;</th><th scope=col>&lt;chr&gt;</th><th scope=col>&lt;chr&gt;</th></tr>\n",
       "</thead>\n",
       "<tbody>\n",
       "\t<tr><th scope=row>1</th><td>Dependent Var.:                     </td><td>log(v)            </td><td>log(v)            </td><td>log(v)            </td></tr>\n",
       "\t<tr><th scope=row>2</th><td>                                    </td><td>                  </td><td>                  </td><td>                  </td></tr>\n",
       "\t<tr><th scope=row>3</th><td>Constant                            </td><td>5.564*** (0.2028) </td><td>4.294*** (0.1288) </td><td>8.909*** (0.0790) </td></tr>\n",
       "\t<tr><th scope=row>4</th><td>log(deaths_i)                       </td><td>0.3725*** (0.0150)</td><td>0.2911*** (0.0194)</td><td>0.4834*** (0.0156)</td></tr>\n",
       "\t<tr><th scope=row>5</th><td>log(deaths_j)                       </td><td>0.2446*** (0.0143)</td><td>0.1115*** (0.0170)</td><td>0.2584*** (0.0141)</td></tr>\n",
       "\t<tr><th scope=row>6</th><td>C8EV_International_travel_controls_i</td><td>0.8953*** (0.0568)</td><td>1.147*** (0.0389) </td><td>0.6711*** (0.0726)</td></tr>\n",
       "\t<tr><th scope=row>7</th><td>C8EV_International_travel_controls_j</td><td>0.6801*** (0.0572)</td><td>0.8358*** (0.0391)</td><td>0.3653*** (0.0667)</td></tr>\n",
       "\t<tr><th scope=row>8</th><td>____________________________________</td><td>__________________</td><td>__________________</td><td>__________________</td></tr>\n",
       "\t<tr><th scope=row>9</th><td>S.E. type                           </td><td>Heteroskedas.-rob.</td><td>Heteroskedas.-rob.</td><td>Heteroskedas.-rob.</td></tr>\n",
       "\t<tr><th scope=row>10</th><td>Observations                        </td><td>18,391            </td><td>19,432            </td><td>18,916            </td></tr>\n",
       "\t<tr><th scope=row>11</th><td>R2                                  </td><td>0.06456           </td><td>0.07813           </td><td>0.06173           </td></tr>\n",
       "\t<tr><th scope=row>12</th><td>Adj. R2                             </td><td>0.06436           </td><td>0.07794           </td><td>0.06153           </td></tr>\n",
       "</tbody>\n",
       "</table>\n"
      ],
      "text/latex": [
       "A etable\\_df: 12 × 4\n",
       "\\begin{tabular}{r|llll}\n",
       "  &  & m\\_2020 & m\\_2021 & m\\_2022\\\\\n",
       "  & <chr> & <chr> & <chr> & <chr>\\\\\n",
       "\\hline\n",
       "\t1 & Dependent Var.:                      & log(v)             & log(v)             & log(v)            \\\\\n",
       "\t2 &                                      &                    &                    &                   \\\\\n",
       "\t3 & Constant                             & 5.564*** (0.2028)  & 4.294*** (0.1288)  & 8.909*** (0.0790) \\\\\n",
       "\t4 & log(deaths\\_i)                        & 0.3725*** (0.0150) & 0.2911*** (0.0194) & 0.4834*** (0.0156)\\\\\n",
       "\t5 & log(deaths\\_j)                        & 0.2446*** (0.0143) & 0.1115*** (0.0170) & 0.2584*** (0.0141)\\\\\n",
       "\t6 & C8EV\\_International\\_travel\\_controls\\_i & 0.8953*** (0.0568) & 1.147*** (0.0389)  & 0.6711*** (0.0726)\\\\\n",
       "\t7 & C8EV\\_International\\_travel\\_controls\\_j & 0.6801*** (0.0572) & 0.8358*** (0.0391) & 0.3653*** (0.0667)\\\\\n",
       "\t8 & \\_\\_\\_\\_\\_\\_\\_\\_\\_\\_\\_\\_\\_\\_\\_\\_\\_\\_\\_\\_\\_\\_\\_\\_\\_\\_\\_\\_\\_\\_\\_\\_\\_\\_\\_\\_ & \\_\\_\\_\\_\\_\\_\\_\\_\\_\\_\\_\\_\\_\\_\\_\\_\\_\\_ & \\_\\_\\_\\_\\_\\_\\_\\_\\_\\_\\_\\_\\_\\_\\_\\_\\_\\_ & \\_\\_\\_\\_\\_\\_\\_\\_\\_\\_\\_\\_\\_\\_\\_\\_\\_\\_\\\\\n",
       "\t9 & S.E. type                            & Heteroskedas.-rob. & Heteroskedas.-rob. & Heteroskedas.-rob.\\\\\n",
       "\t10 & Observations                         & 18,391             & 19,432             & 18,916            \\\\\n",
       "\t11 & R2                                   & 0.06456            & 0.07813            & 0.06173           \\\\\n",
       "\t12 & Adj. R2                              & 0.06436            & 0.07794            & 0.06153           \\\\\n",
       "\\end{tabular}\n"
      ],
      "text/markdown": [
       "\n",
       "A etable_df: 12 × 4\n",
       "\n",
       "| <!--/--> | <!----> &lt;chr&gt; | m_2020 &lt;chr&gt; | m_2021 &lt;chr&gt; | m_2022 &lt;chr&gt; |\n",
       "|---|---|---|---|---|\n",
       "| 1 | Dependent Var.:                      | log(v)             | log(v)             | log(v)             |\n",
       "| 2 | <!----> | <!----> | <!----> | <!----> |\n",
       "| 3 | Constant                             | 5.564*** (0.2028)  | 4.294*** (0.1288)  | 8.909*** (0.0790)  |\n",
       "| 4 | log(deaths_i)                        | 0.3725*** (0.0150) | 0.2911*** (0.0194) | 0.4834*** (0.0156) |\n",
       "| 5 | log(deaths_j)                        | 0.2446*** (0.0143) | 0.1115*** (0.0170) | 0.2584*** (0.0141) |\n",
       "| 6 | C8EV_International_travel_controls_i | 0.8953*** (0.0568) | 1.147*** (0.0389)  | 0.6711*** (0.0726) |\n",
       "| 7 | C8EV_International_travel_controls_j | 0.6801*** (0.0572) | 0.8358*** (0.0391) | 0.3653*** (0.0667) |\n",
       "| 8 | ____________________________________ | __________________ | __________________ | __________________ |\n",
       "| 9 | S.E. type                            | Heteroskedas.-rob. | Heteroskedas.-rob. | Heteroskedas.-rob. |\n",
       "| 10 | Observations                         | 18,391             | 19,432             | 18,916             |\n",
       "| 11 | R2                                   | 0.06456            | 0.07813            | 0.06173            |\n",
       "| 12 | Adj. R2                              | 0.06436            | 0.07794            | 0.06153            |\n",
       "\n"
      ],
      "text/plain": [
       "                                        m_2020             m_2021            \n",
       "1  Dependent Var.:                      log(v)             log(v)            \n",
       "2                                                                            \n",
       "3  Constant                             5.564*** (0.2028)  4.294*** (0.1288) \n",
       "4  log(deaths_i)                        0.3725*** (0.0150) 0.2911*** (0.0194)\n",
       "5  log(deaths_j)                        0.2446*** (0.0143) 0.1115*** (0.0170)\n",
       "6  C8EV_International_travel_controls_i 0.8953*** (0.0568) 1.147*** (0.0389) \n",
       "7  C8EV_International_travel_controls_j 0.6801*** (0.0572) 0.8358*** (0.0391)\n",
       "8  ____________________________________ __________________ __________________\n",
       "9  S.E. type                            Heteroskedas.-rob. Heteroskedas.-rob.\n",
       "10 Observations                         18,391             19,432            \n",
       "11 R2                                   0.06456            0.07813           \n",
       "12 Adj. R2                              0.06436            0.07794           \n",
       "   m_2022            \n",
       "1  log(v)            \n",
       "2                    \n",
       "3  8.909*** (0.0790) \n",
       "4  0.4834*** (0.0156)\n",
       "5  0.2584*** (0.0141)\n",
       "6  0.6711*** (0.0726)\n",
       "7  0.3653*** (0.0667)\n",
       "8  __________________\n",
       "9  Heteroskedas.-rob.\n",
       "10 18,916            \n",
       "11 0.06173           \n",
       "12 0.06153           "
      ]
     },
     "metadata": {},
     "output_type": "display_data"
    }
   ],
   "source": [
    "# Без инструментов.\n",
    "m_2020 = feols(log(v) ~  1+log(deaths_i) + log(deaths_j) +\n",
    " C8EV_International_travel_controls_i + C8EV_International_travel_controls_j ,\n",
    " data = df %>% filter(year == '2020')\n",
    " )\n",
    "m_2021 = feols(log(v) ~  1+log(deaths_i) + log(deaths_j) +\n",
    " C8EV_International_travel_controls_i + C8EV_International_travel_controls_j,\n",
    " data = df %>% filter(year == '2021')\n",
    " )\n",
    "m_2022 = feols(log(v) ~  1+log(deaths_i) + log(deaths_j) +\n",
    " C8EV_International_travel_controls_i + C8EV_International_travel_controls_j,\n",
    " data = df %>% filter(year == '2022')\n",
    " )\n",
    "summary(m_2020, vcov = 'hc1') \n",
    "summary(m_2021, vcov = 'hc1') \n",
    "summary(m_2022, vcov = 'hc1') \n",
    "etable(m_2020, m_2021, m_2022, vcov = 'hc1', signif.code = signif.code)"
   ]
  },
  {
   "cell_type": "code",
   "execution_count": 29,
   "metadata": {
    "vscode": {
     "languageId": "r"
    }
   },
   "outputs": [
    {
     "name": "stderr",
     "output_type": "stream",
     "text": [
      "NOTE: 5,531 observations removed because of NA and infinite values (RHS: 3,419, IV: 3,381/3,419).\n",
      "\n",
      "NOTE: 4,126 observations removed because of NA and infinite values (RHS: 3,290, IV: 1,557/3,290).\n",
      "\n",
      "NOTE: 4,249 observations removed because of NA and infinite values (RHS: 3,093, IV: 1,129/3,952).\n",
      "\n"
     ]
    },
    {
     "data": {
      "text/plain": [
       "TSLS estimation - Dep. Var.: log(v)\n",
       "                  Endo.    : log(deaths_i), log(deaths_j)\n",
       "                  Instr.   : C1M_School_closing_i, C1M_School_closing_j, median_age_i, median_age_j, population_density_i, population_density_j\n",
       "Second stage: Dep. Var.: log(v)\n",
       "Observations: 18,391\n",
       "Standard-errors: Heteroskedasticity-robust \n",
       "                                     Estimate Std. Error t value  Pr(>|t|)    \n",
       "(Intercept)                          5.969386   0.213890 27.9086 < 2.2e-16 ***\n",
       "fit_log(deaths_i)                    0.902226   0.022833 39.5137 < 2.2e-16 ***\n",
       "fit_log(deaths_j)                    0.558973   0.020960 26.6685 < 2.2e-16 ***\n",
       "C8EV_International_travel_controls_i 1.056775   0.061515 17.1791 < 2.2e-16 ***\n",
       "C8EV_International_travel_controls_j 0.784651   0.060168 13.0409 < 2.2e-16 ***\n",
       "---\n",
       "Signif. codes:  0 '***' 0.001 '**' 0.01 '*' 0.05 '.' 0.1 ' ' 1\n",
       "RMSE: 4.16015   Adj. R2: -0.029856\n",
       "F-test (1st stage), log(deaths_i): stat = 2,699.8, p < 2.2e-16, on 6 and 18,382 DoF.\n",
       "F-test (1st stage), log(deaths_j): stat = 2,843.7, p < 2.2e-16, on 6 and 18,382 DoF.\n",
       "                       Wu-Hausman: stat =   885.3, p < 2.2e-16, on 2 and 18,384 DoF.\n",
       "                           Sargan: stat =   507.3, p < 2.2e-16, on 4 DoF."
      ]
     },
     "metadata": {},
     "output_type": "display_data"
    },
    {
     "data": {
      "text/plain": [
       "TSLS estimation - Dep. Var.: log(v)\n",
       "                  Endo.    : log(deaths_i), log(deaths_j)\n",
       "                  Instr.   : C1M_School_closing_i, C1M_School_closing_j, median_age_i, median_age_j, population_density_i, population_density_j\n",
       "Second stage: Dep. Var.: log(v)\n",
       "Observations: 19,432\n",
       "Standard-errors: Heteroskedasticity-robust \n",
       "                                     Estimate Std. Error t value  Pr(>|t|)    \n",
       "(Intercept)                          4.481759   0.137363 32.6271 < 2.2e-16 ***\n",
       "fit_log(deaths_i)                    1.039850   0.029786 34.9101 < 2.2e-16 ***\n",
       "fit_log(deaths_j)                    0.568131   0.026997 21.0446 < 2.2e-16 ***\n",
       "C8EV_International_travel_controls_i 1.146007   0.041462 27.6397 < 2.2e-16 ***\n",
       "C8EV_International_travel_controls_j 0.833670   0.041619 20.0308 < 2.2e-16 ***\n",
       "---\n",
       "Signif. codes:  0 '***' 0.001 '**' 0.01 '*' 0.05 '.' 0.1 ' ' 1\n",
       "RMSE: 4.31431   Adj. R2: -0.055203\n",
       "F-test (1st stage), log(deaths_i): stat = 2,100.5, p < 2.2e-16, on 6 and 19,423 DoF.\n",
       "F-test (1st stage), log(deaths_j): stat = 2,295.0, p < 2.2e-16, on 6 and 19,423 DoF.\n",
       "                       Wu-Hausman: stat = 1,026.2, p < 2.2e-16, on 2 and 19,425 DoF.\n",
       "                           Sargan: stat =   203.5, p < 2.2e-16, on 4 DoF."
      ]
     },
     "metadata": {},
     "output_type": "display_data"
    },
    {
     "data": {
      "text/plain": [
       "TSLS estimation - Dep. Var.: log(v)\n",
       "                  Endo.    : log(deaths_i), log(deaths_j)\n",
       "                  Instr.   : C1M_School_closing_i, C1M_School_closing_j, median_age_i, median_age_j, population_density_i, population_density_j\n",
       "Second stage: Dep. Var.: log(v)\n",
       "Observations: 18,578\n",
       "Standard-errors: Heteroskedasticity-robust \n",
       "                                     Estimate Std. Error  t value  Pr(>|t|)    \n",
       "(Intercept)                          8.938381   0.082064 108.9203 < 2.2e-16 ***\n",
       "fit_log(deaths_i)                    0.871966   0.020231  43.1007 < 2.2e-16 ***\n",
       "fit_log(deaths_j)                    0.561645   0.019106  29.3965 < 2.2e-16 ***\n",
       "C8EV_International_travel_controls_i 1.289039   0.078296  16.4637 < 2.2e-16 ***\n",
       "C8EV_International_travel_controls_j 0.796659   0.073831  10.7904 < 2.2e-16 ***\n",
       "---\n",
       "Signif. codes:  0 '***' 0.001 '**' 0.01 '*' 0.05 '.' 0.1 ' ' 1\n",
       "RMSE: 4.18539   Adj. R2: 0.013015\n",
       "F-test (1st stage), log(deaths_i): stat = 5,398.6, p < 2.2e-16 , on 6 and 18,569 DoF.\n",
       "F-test (1st stage), log(deaths_j): stat = 5,644.8, p < 2.2e-16 , on 6 and 18,569 DoF.\n",
       "                       Wu-Hausman: stat =   898.9, p < 2.2e-16 , on 2 and 18,571 DoF.\n",
       "                           Sargan: stat =    31.0, p = 3.067e-6, on 4 DoF."
      ]
     },
     "metadata": {},
     "output_type": "display_data"
    },
    {
     "data": {
      "text/html": [
       "<table class=\"dataframe\">\n",
       "<caption>A etable_df: 12 × 4</caption>\n",
       "<thead>\n",
       "\t<tr><th></th><th scope=col></th><th scope=col>m_2020</th><th scope=col>m_2021</th><th scope=col>m_2022</th></tr>\n",
       "\t<tr><th></th><th scope=col>&lt;chr&gt;</th><th scope=col>&lt;chr&gt;</th><th scope=col>&lt;chr&gt;</th><th scope=col>&lt;chr&gt;</th></tr>\n",
       "</thead>\n",
       "<tbody>\n",
       "\t<tr><th scope=row>1</th><td>Dependent Var.:                     </td><td>log(v)            </td><td>log(v)            </td><td>log(v)            </td></tr>\n",
       "\t<tr><th scope=row>2</th><td>                                    </td><td>                  </td><td>                  </td><td>                  </td></tr>\n",
       "\t<tr><th scope=row>3</th><td>Constant                            </td><td>5.969*** (0.2139) </td><td>4.482*** (0.1374) </td><td>8.938*** (0.0821) </td></tr>\n",
       "\t<tr><th scope=row>4</th><td>log(deaths_i)                       </td><td>0.9022*** (0.0228)</td><td>1.040*** (0.0298) </td><td>0.8720*** (0.0202)</td></tr>\n",
       "\t<tr><th scope=row>5</th><td>log(deaths_j)                       </td><td>0.5590*** (0.0210)</td><td>0.5681*** (0.0270)</td><td>0.5616*** (0.0191)</td></tr>\n",
       "\t<tr><th scope=row>6</th><td>C8EV_International_travel_controls_i</td><td>1.057*** (0.0615) </td><td>1.146*** (0.0415) </td><td>1.289*** (0.0783) </td></tr>\n",
       "\t<tr><th scope=row>7</th><td>C8EV_International_travel_controls_j</td><td>0.7847*** (0.0602)</td><td>0.8337*** (0.0416)</td><td>0.7967*** (0.0738)</td></tr>\n",
       "\t<tr><th scope=row>8</th><td>____________________________________</td><td>__________________</td><td>__________________</td><td>__________________</td></tr>\n",
       "\t<tr><th scope=row>9</th><td>S.E. type                           </td><td>Heteroskedas.-rob.</td><td>Heteroskedas.-rob.</td><td>Heteroskedas.-rob.</td></tr>\n",
       "\t<tr><th scope=row>10</th><td>Observations                        </td><td>18,391            </td><td>19,432            </td><td>18,578            </td></tr>\n",
       "\t<tr><th scope=row>11</th><td>R2                                  </td><td>-0.02963          </td><td>-0.05499          </td><td>0.01323           </td></tr>\n",
       "\t<tr><th scope=row>12</th><td>Adj. R2                             </td><td>-0.02986          </td><td>-0.05520          </td><td>0.01302           </td></tr>\n",
       "</tbody>\n",
       "</table>\n"
      ],
      "text/latex": [
       "A etable\\_df: 12 × 4\n",
       "\\begin{tabular}{r|llll}\n",
       "  &  & m\\_2020 & m\\_2021 & m\\_2022\\\\\n",
       "  & <chr> & <chr> & <chr> & <chr>\\\\\n",
       "\\hline\n",
       "\t1 & Dependent Var.:                      & log(v)             & log(v)             & log(v)            \\\\\n",
       "\t2 &                                      &                    &                    &                   \\\\\n",
       "\t3 & Constant                             & 5.969*** (0.2139)  & 4.482*** (0.1374)  & 8.938*** (0.0821) \\\\\n",
       "\t4 & log(deaths\\_i)                        & 0.9022*** (0.0228) & 1.040*** (0.0298)  & 0.8720*** (0.0202)\\\\\n",
       "\t5 & log(deaths\\_j)                        & 0.5590*** (0.0210) & 0.5681*** (0.0270) & 0.5616*** (0.0191)\\\\\n",
       "\t6 & C8EV\\_International\\_travel\\_controls\\_i & 1.057*** (0.0615)  & 1.146*** (0.0415)  & 1.289*** (0.0783) \\\\\n",
       "\t7 & C8EV\\_International\\_travel\\_controls\\_j & 0.7847*** (0.0602) & 0.8337*** (0.0416) & 0.7967*** (0.0738)\\\\\n",
       "\t8 & \\_\\_\\_\\_\\_\\_\\_\\_\\_\\_\\_\\_\\_\\_\\_\\_\\_\\_\\_\\_\\_\\_\\_\\_\\_\\_\\_\\_\\_\\_\\_\\_\\_\\_\\_\\_ & \\_\\_\\_\\_\\_\\_\\_\\_\\_\\_\\_\\_\\_\\_\\_\\_\\_\\_ & \\_\\_\\_\\_\\_\\_\\_\\_\\_\\_\\_\\_\\_\\_\\_\\_\\_\\_ & \\_\\_\\_\\_\\_\\_\\_\\_\\_\\_\\_\\_\\_\\_\\_\\_\\_\\_\\\\\n",
       "\t9 & S.E. type                            & Heteroskedas.-rob. & Heteroskedas.-rob. & Heteroskedas.-rob.\\\\\n",
       "\t10 & Observations                         & 18,391             & 19,432             & 18,578            \\\\\n",
       "\t11 & R2                                   & -0.02963           & -0.05499           & 0.01323           \\\\\n",
       "\t12 & Adj. R2                              & -0.02986           & -0.05520           & 0.01302           \\\\\n",
       "\\end{tabular}\n"
      ],
      "text/markdown": [
       "\n",
       "A etable_df: 12 × 4\n",
       "\n",
       "| <!--/--> | <!----> &lt;chr&gt; | m_2020 &lt;chr&gt; | m_2021 &lt;chr&gt; | m_2022 &lt;chr&gt; |\n",
       "|---|---|---|---|---|\n",
       "| 1 | Dependent Var.:                      | log(v)             | log(v)             | log(v)             |\n",
       "| 2 | <!----> | <!----> | <!----> | <!----> |\n",
       "| 3 | Constant                             | 5.969*** (0.2139)  | 4.482*** (0.1374)  | 8.938*** (0.0821)  |\n",
       "| 4 | log(deaths_i)                        | 0.9022*** (0.0228) | 1.040*** (0.0298)  | 0.8720*** (0.0202) |\n",
       "| 5 | log(deaths_j)                        | 0.5590*** (0.0210) | 0.5681*** (0.0270) | 0.5616*** (0.0191) |\n",
       "| 6 | C8EV_International_travel_controls_i | 1.057*** (0.0615)  | 1.146*** (0.0415)  | 1.289*** (0.0783)  |\n",
       "| 7 | C8EV_International_travel_controls_j | 0.7847*** (0.0602) | 0.8337*** (0.0416) | 0.7967*** (0.0738) |\n",
       "| 8 | ____________________________________ | __________________ | __________________ | __________________ |\n",
       "| 9 | S.E. type                            | Heteroskedas.-rob. | Heteroskedas.-rob. | Heteroskedas.-rob. |\n",
       "| 10 | Observations                         | 18,391             | 19,432             | 18,578             |\n",
       "| 11 | R2                                   | -0.02963           | -0.05499           | 0.01323            |\n",
       "| 12 | Adj. R2                              | -0.02986           | -0.05520           | 0.01302            |\n",
       "\n"
      ],
      "text/plain": [
       "                                        m_2020             m_2021            \n",
       "1  Dependent Var.:                      log(v)             log(v)            \n",
       "2                                                                            \n",
       "3  Constant                             5.969*** (0.2139)  4.482*** (0.1374) \n",
       "4  log(deaths_i)                        0.9022*** (0.0228) 1.040*** (0.0298) \n",
       "5  log(deaths_j)                        0.5590*** (0.0210) 0.5681*** (0.0270)\n",
       "6  C8EV_International_travel_controls_i 1.057*** (0.0615)  1.146*** (0.0415) \n",
       "7  C8EV_International_travel_controls_j 0.7847*** (0.0602) 0.8337*** (0.0416)\n",
       "8  ____________________________________ __________________ __________________\n",
       "9  S.E. type                            Heteroskedas.-rob. Heteroskedas.-rob.\n",
       "10 Observations                         18,391             19,432            \n",
       "11 R2                                   -0.02963           -0.05499          \n",
       "12 Adj. R2                              -0.02986           -0.05520          \n",
       "   m_2022            \n",
       "1  log(v)            \n",
       "2                    \n",
       "3  8.938*** (0.0821) \n",
       "4  0.8720*** (0.0202)\n",
       "5  0.5616*** (0.0191)\n",
       "6  1.289*** (0.0783) \n",
       "7  0.7967*** (0.0738)\n",
       "8  __________________\n",
       "9  Heteroskedas.-rob.\n",
       "10 18,578            \n",
       "11 0.01323           \n",
       "12 0.01302           "
      ]
     },
     "metadata": {},
     "output_type": "display_data"
    },
    {
     "data": {
      "text/html": [
       "<table class=\"dataframe\">\n",
       "<caption>A etable_df: 12 × 4</caption>\n",
       "<thead>\n",
       "\t<tr><th></th><th scope=col></th><th scope=col>m_2020</th><th scope=col>m_2021</th><th scope=col>m_2022</th></tr>\n",
       "\t<tr><th></th><th scope=col>&lt;chr&gt;</th><th scope=col>&lt;chr&gt;</th><th scope=col>&lt;chr&gt;</th><th scope=col>&lt;chr&gt;</th></tr>\n",
       "</thead>\n",
       "<tbody>\n",
       "\t<tr><th scope=row>1</th><td>Dependent Var.:                     </td><td>log(v)            </td><td>log(v)            </td><td>log(v)            </td></tr>\n",
       "\t<tr><th scope=row>2</th><td>                                    </td><td>                  </td><td>                  </td><td>                  </td></tr>\n",
       "\t<tr><th scope=row>3</th><td>Constant                            </td><td>5.969*** (1.265)  </td><td>4.482*** (0.7216) </td><td>8.938*** (0.5137) </td></tr>\n",
       "\t<tr><th scope=row>4</th><td>log(deaths_i)                       </td><td>0.9022*** (0.1570)</td><td>1.040*** (0.2066) </td><td>0.8720*** (0.1270)</td></tr>\n",
       "\t<tr><th scope=row>5</th><td>log(deaths_j)                       </td><td>0.5590*** (0.1119)</td><td>0.5681*** (0.1414)</td><td>0.5616*** (0.1046)</td></tr>\n",
       "\t<tr><th scope=row>6</th><td>C8EV_International_travel_controls_i</td><td>1.057* (0.4228)   </td><td>1.146*** (0.2648) </td><td>1.289* (0.5608)   </td></tr>\n",
       "\t<tr><th scope=row>7</th><td>C8EV_International_travel_controls_j</td><td>0.7847** (0.2893) </td><td>0.8337*** (0.1878)</td><td>0.7967. (0.4445)  </td></tr>\n",
       "\t<tr><th scope=row>8</th><td>____________________________________</td><td>__________________</td><td>__________________</td><td>__________________</td></tr>\n",
       "\t<tr><th scope=row>9</th><td><span style=white-space:pre-wrap>S.E.: Clustered                     </span></td><td><span style=white-space:pre-wrap>by: i &amp; j         </span></td><td><span style=white-space:pre-wrap>by: i &amp; j         </span></td><td><span style=white-space:pre-wrap>by: i &amp; j         </span></td></tr>\n",
       "\t<tr><th scope=row>10</th><td>Observations                        </td><td>18,391            </td><td>19,432            </td><td>18,578            </td></tr>\n",
       "\t<tr><th scope=row>11</th><td>R2                                  </td><td>-0.02963          </td><td>-0.05499          </td><td>0.01323           </td></tr>\n",
       "\t<tr><th scope=row>12</th><td>Adj. R2                             </td><td>-0.02986          </td><td>-0.05520          </td><td>0.01302           </td></tr>\n",
       "</tbody>\n",
       "</table>\n"
      ],
      "text/latex": [
       "A etable\\_df: 12 × 4\n",
       "\\begin{tabular}{r|llll}\n",
       "  &  & m\\_2020 & m\\_2021 & m\\_2022\\\\\n",
       "  & <chr> & <chr> & <chr> & <chr>\\\\\n",
       "\\hline\n",
       "\t1 & Dependent Var.:                      & log(v)             & log(v)             & log(v)            \\\\\n",
       "\t2 &                                      &                    &                    &                   \\\\\n",
       "\t3 & Constant                             & 5.969*** (1.265)   & 4.482*** (0.7216)  & 8.938*** (0.5137) \\\\\n",
       "\t4 & log(deaths\\_i)                        & 0.9022*** (0.1570) & 1.040*** (0.2066)  & 0.8720*** (0.1270)\\\\\n",
       "\t5 & log(deaths\\_j)                        & 0.5590*** (0.1119) & 0.5681*** (0.1414) & 0.5616*** (0.1046)\\\\\n",
       "\t6 & C8EV\\_International\\_travel\\_controls\\_i & 1.057* (0.4228)    & 1.146*** (0.2648)  & 1.289* (0.5608)   \\\\\n",
       "\t7 & C8EV\\_International\\_travel\\_controls\\_j & 0.7847** (0.2893)  & 0.8337*** (0.1878) & 0.7967. (0.4445)  \\\\\n",
       "\t8 & \\_\\_\\_\\_\\_\\_\\_\\_\\_\\_\\_\\_\\_\\_\\_\\_\\_\\_\\_\\_\\_\\_\\_\\_\\_\\_\\_\\_\\_\\_\\_\\_\\_\\_\\_\\_ & \\_\\_\\_\\_\\_\\_\\_\\_\\_\\_\\_\\_\\_\\_\\_\\_\\_\\_ & \\_\\_\\_\\_\\_\\_\\_\\_\\_\\_\\_\\_\\_\\_\\_\\_\\_\\_ & \\_\\_\\_\\_\\_\\_\\_\\_\\_\\_\\_\\_\\_\\_\\_\\_\\_\\_\\\\\n",
       "\t9 & S.E.: Clustered                      & by: i \\& j          & by: i \\& j          & by: i \\& j         \\\\\n",
       "\t10 & Observations                         & 18,391             & 19,432             & 18,578            \\\\\n",
       "\t11 & R2                                   & -0.02963           & -0.05499           & 0.01323           \\\\\n",
       "\t12 & Adj. R2                              & -0.02986           & -0.05520           & 0.01302           \\\\\n",
       "\\end{tabular}\n"
      ],
      "text/markdown": [
       "\n",
       "A etable_df: 12 × 4\n",
       "\n",
       "| <!--/--> | <!----> &lt;chr&gt; | m_2020 &lt;chr&gt; | m_2021 &lt;chr&gt; | m_2022 &lt;chr&gt; |\n",
       "|---|---|---|---|---|\n",
       "| 1 | Dependent Var.:                      | log(v)             | log(v)             | log(v)             |\n",
       "| 2 | <!----> | <!----> | <!----> | <!----> |\n",
       "| 3 | Constant                             | 5.969*** (1.265)   | 4.482*** (0.7216)  | 8.938*** (0.5137)  |\n",
       "| 4 | log(deaths_i)                        | 0.9022*** (0.1570) | 1.040*** (0.2066)  | 0.8720*** (0.1270) |\n",
       "| 5 | log(deaths_j)                        | 0.5590*** (0.1119) | 0.5681*** (0.1414) | 0.5616*** (0.1046) |\n",
       "| 6 | C8EV_International_travel_controls_i | 1.057* (0.4228)    | 1.146*** (0.2648)  | 1.289* (0.5608)    |\n",
       "| 7 | C8EV_International_travel_controls_j | 0.7847** (0.2893)  | 0.8337*** (0.1878) | 0.7967. (0.4445)   |\n",
       "| 8 | ____________________________________ | __________________ | __________________ | __________________ |\n",
       "| 9 | S.E.: Clustered                      | by: i &amp; j          | by: i &amp; j          | by: i &amp; j          |\n",
       "| 10 | Observations                         | 18,391             | 19,432             | 18,578             |\n",
       "| 11 | R2                                   | -0.02963           | -0.05499           | 0.01323            |\n",
       "| 12 | Adj. R2                              | -0.02986           | -0.05520           | 0.01302            |\n",
       "\n"
      ],
      "text/plain": [
       "                                        m_2020             m_2021            \n",
       "1  Dependent Var.:                      log(v)             log(v)            \n",
       "2                                                                            \n",
       "3  Constant                             5.969*** (1.265)   4.482*** (0.7216) \n",
       "4  log(deaths_i)                        0.9022*** (0.1570) 1.040*** (0.2066) \n",
       "5  log(deaths_j)                        0.5590*** (0.1119) 0.5681*** (0.1414)\n",
       "6  C8EV_International_travel_controls_i 1.057* (0.4228)    1.146*** (0.2648) \n",
       "7  C8EV_International_travel_controls_j 0.7847** (0.2893)  0.8337*** (0.1878)\n",
       "8  ____________________________________ __________________ __________________\n",
       "9  S.E.: Clustered                      by: i & j          by: i & j         \n",
       "10 Observations                         18,391             19,432            \n",
       "11 R2                                   -0.02963           -0.05499          \n",
       "12 Adj. R2                              -0.02986           -0.05520          \n",
       "   m_2022            \n",
       "1  log(v)            \n",
       "2                    \n",
       "3  8.938*** (0.5137) \n",
       "4  0.8720*** (0.1270)\n",
       "5  0.5616*** (0.1046)\n",
       "6  1.289* (0.5608)   \n",
       "7  0.7967. (0.4445)  \n",
       "8  __________________\n",
       "9  by: i & j         \n",
       "10 18,578            \n",
       "11 0.01323           \n",
       "12 0.01302           "
      ]
     },
     "metadata": {},
     "output_type": "display_data"
    }
   ],
   "source": [
    "# С инструментами оценки коэффициентов всё равно не похожи на панельные данные (пространственные смещённые, т.к должно быть много unobservables)\n",
    "# Использую ошибки hc1\n",
    "# Подумать про эндогенность пропусков. Мб пропуски в инструментальных переменных можно смело заполнять?\n",
    "# Почему экзогенные в панельной спецификации инструменты эндогенны в пространственной?\n",
    "m_2020 = feols(log(v) ~  1+\n",
    " C8EV_International_travel_controls_i + C8EV_International_travel_controls_j |\n",
    " log(deaths_i) + log(deaths_j) ~ \n",
    " C1M_School_closing_i+C1M_School_closing_j+median_age_i + median_age_j + population_density_i + population_density_j,\n",
    " data = df %>% filter(year == '2020')\n",
    " )\n",
    "m_2021 = feols(log(v) ~  1+\n",
    " C8EV_International_travel_controls_i + C8EV_International_travel_controls_j |\n",
    " log(deaths_i) + log(deaths_j) ~ \n",
    " C1M_School_closing_i+C1M_School_closing_j+ median_age_i + median_age_j + population_density_i + population_density_j,\n",
    " data = df %>% filter(year == '2021')\n",
    " )\n",
    "m_2022 = feols(log(v) ~  1+\n",
    " C8EV_International_travel_controls_i + C8EV_International_travel_controls_j |\n",
    " log(deaths_i) + log(deaths_j) ~ \n",
    " C1M_School_closing_i+C1M_School_closing_j+ median_age_i + median_age_j + population_density_i + population_density_j,\n",
    " data = df %>% filter(year == '2022')\n",
    " )\n",
    "summary(m_2020, vcov = 'hc1') \n",
    "summary(m_2021, vcov = 'hc1') \n",
    "summary(m_2022, vcov = 'hc1') \n",
    "etable(m_2020, m_2021, m_2022, vcov = 'hc1', signif.code = signif.code)\n",
    "etable(m_2020, m_2021, m_2022, vcov = ~i+j, signif.code = signif.code)"
   ]
  }
 ],
 "metadata": {
  "kernelspec": {
   "display_name": "R",
   "language": "R",
   "name": "ir"
  },
  "language_info": {
   "codemirror_mode": "r",
   "file_extension": ".r",
   "mimetype": "text/x-r-source",
   "name": "R",
   "pygments_lexer": "r",
   "version": "4.4.1"
  }
 },
 "nbformat": 4,
 "nbformat_minor": 2
}
