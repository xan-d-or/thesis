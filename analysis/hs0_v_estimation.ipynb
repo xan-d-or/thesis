{
 "cells": [
  {
   "cell_type": "markdown",
   "metadata": {},
   "source": [
    "# Оцениваем регрессии на данных HS0 в спецификациях:\n",
    "- Сырые данные ~ ковид и ограничения + контроль на дамми\n",
    "- Сырые данные ~ ковид и ограничения + контроль на дамми | инструментальные переменные"
   ]
  },
  {
   "cell_type": "code",
   "execution_count": 1,
   "metadata": {
    "vscode": {
     "languageId": "r"
    }
   },
   "outputs": [
    {
     "name": "stderr",
     "output_type": "stream",
     "text": [
      "\n",
      "Присоединяю пакет: 'arrow'\n",
      "\n",
      "\n",
      "Следующий объект скрыт от 'package:utils':\n",
      "\n",
      "    timestamp\n",
      "\n",
      "\n",
      "\n",
      "Please cite as: \n",
      "\n",
      "\n",
      " Hlavac, Marek (2022). stargazer: Well-Formatted Regression and Summary Statistics Tables.\n",
      "\n",
      " R package version 5.2.3. https://CRAN.R-project.org/package=stargazer \n",
      "\n",
      "\n",
      "Warning message:\n",
      "\"пакет 'tidyverse' был собран под R версии 4.4.2\"\n",
      "── \u001b[1mAttaching core tidyverse packages\u001b[22m ──────────────────────── tidyverse 2.0.0 ──\n",
      "\u001b[32m✔\u001b[39m \u001b[34mdplyr    \u001b[39m 1.1.4     \u001b[32m✔\u001b[39m \u001b[34mreadr    \u001b[39m 2.1.5\n",
      "\u001b[32m✔\u001b[39m \u001b[34mforcats  \u001b[39m 1.0.0     \u001b[32m✔\u001b[39m \u001b[34mstringr  \u001b[39m 1.5.1\n",
      "\u001b[32m✔\u001b[39m \u001b[34mggplot2  \u001b[39m 3.5.1     \u001b[32m✔\u001b[39m \u001b[34mtibble   \u001b[39m 3.2.1\n",
      "\u001b[32m✔\u001b[39m \u001b[34mlubridate\u001b[39m 1.9.3     \u001b[32m✔\u001b[39m \u001b[34mtidyr    \u001b[39m 1.3.1\n",
      "\u001b[32m✔\u001b[39m \u001b[34mpurrr    \u001b[39m 1.0.2     \n",
      "── \u001b[1mConflicts\u001b[22m ────────────────────────────────────────── tidyverse_conflicts() ──\n",
      "\u001b[31m✖\u001b[39m \u001b[34mlubridate\u001b[39m::\u001b[32mduration()\u001b[39m masks \u001b[34marrow\u001b[39m::duration()\n",
      "\u001b[31m✖\u001b[39m \u001b[34mdplyr\u001b[39m::\u001b[32mfilter()\u001b[39m       masks \u001b[34mstats\u001b[39m::filter()\n",
      "\u001b[31m✖\u001b[39m \u001b[34mdplyr\u001b[39m::\u001b[32mlag()\u001b[39m          masks \u001b[34mstats\u001b[39m::lag()\n",
      "\u001b[36mℹ\u001b[39m Use the conflicted package (\u001b[3m\u001b[34m<http://conflicted.r-lib.org/>\u001b[39m\u001b[23m) to force all conflicts to become errors\n",
      "Warning message:\n",
      "\"пакет 'plotly' был собран под R версии 4.4.2\"\n",
      "\n",
      "Присоединяю пакет: 'plotly'\n",
      "\n",
      "\n",
      "Следующий объект скрыт от 'package:ggplot2':\n",
      "\n",
      "    last_plot\n",
      "\n",
      "\n",
      "Следующий объект скрыт от 'package:arrow':\n",
      "\n",
      "    schema\n",
      "\n",
      "\n",
      "Следующий объект скрыт от 'package:stats':\n",
      "\n",
      "    filter\n",
      "\n",
      "\n",
      "Следующий объект скрыт от 'package:graphics':\n",
      "\n",
      "    layout\n",
      "\n",
      "\n"
     ]
    }
   ],
   "source": [
    "library(arrow)\n",
    "library(stargazer)\n",
    "library(tidyverse)\n",
    "library(plotly)\n",
    "library(fixest)\n",
    "signif.code = signif.code = c(\"***\" = 0.001, \"**\" = 0.01, \"*\" = 0.05, \".\" = 0.10)"
   ]
  },
  {
   "cell_type": "markdown",
   "metadata": {},
   "source": [
    "## Сырые данные\n",
    "\n",
    "Под каждой регрессией вывожу summary с кластеризацией ошибок. В конце блока сравниваю робастность результата по используемым ошибкам."
   ]
  },
  {
   "cell_type": "code",
   "execution_count": 2,
   "metadata": {
    "vscode": {
     "languageId": "r"
    }
   },
   "outputs": [
    {
     "data": {
      "text/html": [
       "<table class=\"dataframe\">\n",
       "<caption>A tibble: 6 × 142</caption>\n",
       "<thead>\n",
       "\t<tr><th scope=col>t</th><th scope=col>i</th><th scope=col>j</th><th scope=col>v</th><th scope=col>q</th><th scope=col>v19</th><th scope=col>q19</th><th scope=col>country</th><th scope=col>t:r_i</th><th scope=col>cases</th><th scope=col>⋯</th><th scope=col>C1M_School_closing_i</th><th scope=col>C1M_School_closing_j</th><th scope=col>population_density_i</th><th scope=col>population_density_j</th><th scope=col>share_1_members_i</th><th scope=col>share_1_members_j</th><th scope=col>H6M_Facial_Coverings_i</th><th scope=col>H6M_Facial_Coverings_j</th><th scope=col>C8EV_International_travel_controls_i</th><th scope=col>C8EV_International_travel_controls_j</th></tr>\n",
       "\t<tr><th scope=col>&lt;int&gt;</th><th scope=col>&lt;chr&gt;</th><th scope=col>&lt;chr&gt;</th><th scope=col>&lt;dbl&gt;</th><th scope=col>&lt;dbl&gt;</th><th scope=col>&lt;dbl&gt;</th><th scope=col>&lt;dbl&gt;</th><th scope=col>&lt;chr&gt;</th><th scope=col>&lt;int&gt;</th><th scope=col>&lt;dbl&gt;</th><th scope=col>⋯</th><th scope=col>&lt;dbl&gt;</th><th scope=col>&lt;dbl&gt;</th><th scope=col>&lt;dbl&gt;</th><th scope=col>&lt;dbl&gt;</th><th scope=col>&lt;dbl&gt;</th><th scope=col>&lt;dbl&gt;</th><th scope=col>&lt;dbl&gt;</th><th scope=col>&lt;dbl&gt;</th><th scope=col>&lt;dbl&gt;</th><th scope=col>&lt;dbl&gt;</th></tr>\n",
       "</thead>\n",
       "<tbody>\n",
       "\t<tr><td>2021</td><td>LUX</td><td>LBY</td><td>    968.018</td><td>    210.173</td><td>   501.858</td><td>    127.012</td><td>LUX</td><td>2021</td><td>241.1512329</td><td>⋯</td><td>1.183562</td><td>1.49315071</td><td>248.620682</td><td>   4.055137</td><td>33.34</td><td>   NA</td><td>2.0082192</td><td>2.827397</td><td>2.534247</td><td>2.520548</td></tr>\n",
       "\t<tr><td>2021</td><td>RUS</td><td>SEN</td><td>1307165.125</td><td>3131615.500</td><td>789625.305</td><td>2232100.632</td><td>RUS</td><td>2021</td><td>138.1677534</td><td>⋯</td><td>1.290411</td><td>0.07671233</td><td>  8.838488</td><td>  89.445110</td><td>25.69</td><td> 6.92</td><td>2.3150685</td><td>3.402740</td><td>2.610959</td><td>2.561644</td></tr>\n",
       "\t<tr><td>2020</td><td>SOM</td><td>KOR</td><td>   3136.611</td><td>   2045.876</td><td>  5608.268</td><td>   4002.770</td><td>SOM</td><td>2020</td><td>  0.7276796</td><td>⋯</td><td>1.584700</td><td>1.98087430</td><td> 26.542530</td><td> 531.109006</td><td> 1.53</td><td>31.75</td><td>0.7622951</td><td>1.653005</td><td>2.101093</td><td>2.415301</td></tr>\n",
       "\t<tr><td>2020</td><td>TUR</td><td>CRI</td><td>  57792.285</td><td>  98850.453</td><td> 60858.013</td><td>  86163.873</td><td>TUR</td><td>2020</td><td> 67.6935912</td><td>⋯</td><td>2.153005</td><td>2.40437150</td><td>108.343854</td><td>  98.596161</td><td> 6.37</td><td>12.07</td><td>2.2732241</td><td>1.218579</td><td>2.040984</td><td>2.322404</td></tr>\n",
       "\t<tr><td>2021</td><td>KNA</td><td>BIH</td><td>      0.520</td><td>      0.008</td><td>     0.460</td><td>      0.005</td><td>KNA</td><td>2021</td><td>164.5090411</td><td>⋯</td><td>      NA</td><td>1.00000000</td><td>179.857692</td><td>  63.377090</td><td>   NA</td><td>11.50</td><td>       NA</td><td>2.476712</td><td>      NA</td><td>1.000000</td></tr>\n",
       "\t<tr><td>2022</td><td>AZE</td><td>MLT</td><td>  22060.938</td><td>  39007.156</td><td> 12476.490</td><td>  33493.400</td><td>AZE</td><td>2022</td><td> 56.3560822</td><td>⋯</td><td>2.000000</td><td>0.27945206</td><td>122.707272</td><td>1660.971875</td><td> 6.77</td><td>22.64</td><td>0.6575342</td><td>2.323288</td><td>3.000000</td><td>1.263014</td></tr>\n",
       "</tbody>\n",
       "</table>\n"
      ],
      "text/latex": [
       "A tibble: 6 × 142\n",
       "\\begin{tabular}{lllllllllllllllllllll}\n",
       " t & i & j & v & q & v19 & q19 & country & t:r\\_i & cases & ⋯ & C1M\\_School\\_closing\\_i & C1M\\_School\\_closing\\_j & population\\_density\\_i & population\\_density\\_j & share\\_1\\_members\\_i & share\\_1\\_members\\_j & H6M\\_Facial\\_Coverings\\_i & H6M\\_Facial\\_Coverings\\_j & C8EV\\_International\\_travel\\_controls\\_i & C8EV\\_International\\_travel\\_controls\\_j\\\\\n",
       " <int> & <chr> & <chr> & <dbl> & <dbl> & <dbl> & <dbl> & <chr> & <int> & <dbl> & ⋯ & <dbl> & <dbl> & <dbl> & <dbl> & <dbl> & <dbl> & <dbl> & <dbl> & <dbl> & <dbl>\\\\\n",
       "\\hline\n",
       "\t 2021 & LUX & LBY &     968.018 &     210.173 &    501.858 &     127.012 & LUX & 2021 & 241.1512329 & ⋯ & 1.183562 & 1.49315071 & 248.620682 &    4.055137 & 33.34 &    NA & 2.0082192 & 2.827397 & 2.534247 & 2.520548\\\\\n",
       "\t 2021 & RUS & SEN & 1307165.125 & 3131615.500 & 789625.305 & 2232100.632 & RUS & 2021 & 138.1677534 & ⋯ & 1.290411 & 0.07671233 &   8.838488 &   89.445110 & 25.69 &  6.92 & 2.3150685 & 3.402740 & 2.610959 & 2.561644\\\\\n",
       "\t 2020 & SOM & KOR &    3136.611 &    2045.876 &   5608.268 &    4002.770 & SOM & 2020 &   0.7276796 & ⋯ & 1.584700 & 1.98087430 &  26.542530 &  531.109006 &  1.53 & 31.75 & 0.7622951 & 1.653005 & 2.101093 & 2.415301\\\\\n",
       "\t 2020 & TUR & CRI &   57792.285 &   98850.453 &  60858.013 &   86163.873 & TUR & 2020 &  67.6935912 & ⋯ & 2.153005 & 2.40437150 & 108.343854 &   98.596161 &  6.37 & 12.07 & 2.2732241 & 1.218579 & 2.040984 & 2.322404\\\\\n",
       "\t 2021 & KNA & BIH &       0.520 &       0.008 &      0.460 &       0.005 & KNA & 2021 & 164.5090411 & ⋯ &       NA & 1.00000000 & 179.857692 &   63.377090 &    NA & 11.50 &        NA & 2.476712 &       NA & 1.000000\\\\\n",
       "\t 2022 & AZE & MLT &   22060.938 &   39007.156 &  12476.490 &   33493.400 & AZE & 2022 &  56.3560822 & ⋯ & 2.000000 & 0.27945206 & 122.707272 & 1660.971875 &  6.77 & 22.64 & 0.6575342 & 2.323288 & 3.000000 & 1.263014\\\\\n",
       "\\end{tabular}\n"
      ],
      "text/markdown": [
       "\n",
       "A tibble: 6 × 142\n",
       "\n",
       "| t &lt;int&gt; | i &lt;chr&gt; | j &lt;chr&gt; | v &lt;dbl&gt; | q &lt;dbl&gt; | v19 &lt;dbl&gt; | q19 &lt;dbl&gt; | country &lt;chr&gt; | t:r_i &lt;int&gt; | cases &lt;dbl&gt; | ⋯ ⋯ | C1M_School_closing_i &lt;dbl&gt; | C1M_School_closing_j &lt;dbl&gt; | population_density_i &lt;dbl&gt; | population_density_j &lt;dbl&gt; | share_1_members_i &lt;dbl&gt; | share_1_members_j &lt;dbl&gt; | H6M_Facial_Coverings_i &lt;dbl&gt; | H6M_Facial_Coverings_j &lt;dbl&gt; | C8EV_International_travel_controls_i &lt;dbl&gt; | C8EV_International_travel_controls_j &lt;dbl&gt; |\n",
       "|---|---|---|---|---|---|---|---|---|---|---|---|---|---|---|---|---|---|---|---|---|\n",
       "| 2021 | LUX | LBY |     968.018 |     210.173 |    501.858 |     127.012 | LUX | 2021 | 241.1512329 | ⋯ | 1.183562 | 1.49315071 | 248.620682 |    4.055137 | 33.34 |    NA | 2.0082192 | 2.827397 | 2.534247 | 2.520548 |\n",
       "| 2021 | RUS | SEN | 1307165.125 | 3131615.500 | 789625.305 | 2232100.632 | RUS | 2021 | 138.1677534 | ⋯ | 1.290411 | 0.07671233 |   8.838488 |   89.445110 | 25.69 |  6.92 | 2.3150685 | 3.402740 | 2.610959 | 2.561644 |\n",
       "| 2020 | SOM | KOR |    3136.611 |    2045.876 |   5608.268 |    4002.770 | SOM | 2020 |   0.7276796 | ⋯ | 1.584700 | 1.98087430 |  26.542530 |  531.109006 |  1.53 | 31.75 | 0.7622951 | 1.653005 | 2.101093 | 2.415301 |\n",
       "| 2020 | TUR | CRI |   57792.285 |   98850.453 |  60858.013 |   86163.873 | TUR | 2020 |  67.6935912 | ⋯ | 2.153005 | 2.40437150 | 108.343854 |   98.596161 |  6.37 | 12.07 | 2.2732241 | 1.218579 | 2.040984 | 2.322404 |\n",
       "| 2021 | KNA | BIH |       0.520 |       0.008 |      0.460 |       0.005 | KNA | 2021 | 164.5090411 | ⋯ |       NA | 1.00000000 | 179.857692 |   63.377090 |    NA | 11.50 |        NA | 2.476712 |       NA | 1.000000 |\n",
       "| 2022 | AZE | MLT |   22060.938 |   39007.156 |  12476.490 |   33493.400 | AZE | 2022 |  56.3560822 | ⋯ | 2.000000 | 0.27945206 | 122.707272 | 1660.971875 |  6.77 | 22.64 | 0.6575342 | 2.323288 | 3.000000 | 1.263014 |\n",
       "\n"
      ],
      "text/plain": [
       "  t    i   j   v           q           v19        q19         country t:r_i\n",
       "1 2021 LUX LBY     968.018     210.173    501.858     127.012 LUX     2021 \n",
       "2 2021 RUS SEN 1307165.125 3131615.500 789625.305 2232100.632 RUS     2021 \n",
       "3 2020 SOM KOR    3136.611    2045.876   5608.268    4002.770 SOM     2020 \n",
       "4 2020 TUR CRI   57792.285   98850.453  60858.013   86163.873 TUR     2020 \n",
       "5 2021 KNA BIH       0.520       0.008      0.460       0.005 KNA     2021 \n",
       "6 2022 AZE MLT   22060.938   39007.156  12476.490   33493.400 AZE     2022 \n",
       "  cases       ⋯ C1M_School_closing_i C1M_School_closing_j population_density_i\n",
       "1 241.1512329 ⋯ 1.183562             1.49315071           248.620682          \n",
       "2 138.1677534 ⋯ 1.290411             0.07671233             8.838488          \n",
       "3   0.7276796 ⋯ 1.584700             1.98087430            26.542530          \n",
       "4  67.6935912 ⋯ 2.153005             2.40437150           108.343854          \n",
       "5 164.5090411 ⋯       NA             1.00000000           179.857692          \n",
       "6  56.3560822 ⋯ 2.000000             0.27945206           122.707272          \n",
       "  population_density_j share_1_members_i share_1_members_j\n",
       "1    4.055137          33.34                NA            \n",
       "2   89.445110          25.69              6.92            \n",
       "3  531.109006           1.53             31.75            \n",
       "4   98.596161           6.37             12.07            \n",
       "5   63.377090             NA             11.50            \n",
       "6 1660.971875           6.77             22.64            \n",
       "  H6M_Facial_Coverings_i H6M_Facial_Coverings_j\n",
       "1 2.0082192              2.827397              \n",
       "2 2.3150685              3.402740              \n",
       "3 0.7622951              1.653005              \n",
       "4 2.2732241              1.218579              \n",
       "5        NA              2.476712              \n",
       "6 0.6575342              2.323288              \n",
       "  C8EV_International_travel_controls_i C8EV_International_travel_controls_j\n",
       "1 2.534247                             2.520548                            \n",
       "2 2.610959                             2.561644                            \n",
       "3 2.101093                             2.415301                            \n",
       "4 2.040984                             2.322404                            \n",
       "5       NA                             1.000000                            \n",
       "6 3.000000                             1.263014                            "
      ]
     },
     "metadata": {},
     "output_type": "display_data"
    }
   ],
   "source": [
    "# Скачиваю данные и переназываю переменные\n",
    "df = read_parquet('../data/processed_data/trade_hs0_x_covid.parquet.gzip')\n",
    "# Переменная pair нужна, чтобы считать НАС стандартные ошибки\n",
    "df = df %>% mutate(pair = paste(i, j))\n",
    "\n",
    "df$deaths_i = df$deaths\n",
    "df$deaths_j = df$`deaths:r_j`\n",
    "\n",
    "df$median_age_i = df$median_age\n",
    "df$median_age_j = df$`median_age:r_j`\n",
    "\n",
    "df$average_surface_temperature_i = df$average_surface_temperature\n",
    "df$average_surface_temperature_j = df$`average_surface_temperature:r_j`\n",
    "\n",
    "df$C1M_School_closing_i = df$C1M_School_closing\n",
    "df$C1M_School_closing_j = df$`C1M_School_closing:r_j`\n",
    "\n",
    "df$population_density_i = df$population_density\n",
    "df$population_density_j = df$`population_density:r_j`\n",
    "\n",
    "df$share_1_members_i = df$share_1_members\n",
    "df$share_1_members_j = df$`share_1_members:r_j`\n",
    "\n",
    "df$H6M_Facial_Coverings_i = df$H6M_Facial_Coverings\n",
    "df$H6M_Facial_Coverings_j = df$`H6M_Facial_Coverings:r_j`\n",
    "\n",
    "df$C8EV_International_travel_controls_i = df$C8EV_International_travel_controls\n",
    "df$C8EV_International_travel_controls_j = df$`C8EV_International_travel_controls:r_j`\n",
    "df %>% head()"
   ]
  },
  {
   "cell_type": "code",
   "execution_count": 3,
   "metadata": {
    "vscode": {
     "languageId": "r"
    }
   },
   "outputs": [
    {
     "name": "stderr",
     "output_type": "stream",
     "text": [
      "NOTE: 13,568 observations removed because of NA and infinite values (RHS: 13,568).\n",
      "\n"
     ]
    },
    {
     "data": {
      "text/plain": [
       "OLS estimation, Dep. Var.: log(v)\n",
       "Observations: 56,739\n",
       "Standard-errors: Clustered (i & j) \n",
       "                                      Estimate Std. Error   t value   Pr(>|t|)\n",
       "(Intercept)                           8.748607   0.301364 29.030005  < 2.2e-16\n",
       "log(deaths_i)                         0.325192   0.090876  3.578422 0.00044799\n",
       "log(deaths_j)                         0.150638   0.065264  2.308131 0.02216840\n",
       "C8EV_International_travel_controls_i  0.234891   0.157781  1.488711 0.13837363\n",
       "C8EV_International_travel_controls_j -0.020201   0.137475 -0.146944 0.88334648\n",
       "                                        \n",
       "(Intercept)                          ***\n",
       "log(deaths_i)                        ***\n",
       "log(deaths_j)                        *  \n",
       "C8EV_International_travel_controls_i    \n",
       "C8EV_International_travel_controls_j    \n",
       "---\n",
       "Signif. codes:  0 '***' 0.001 '**' 0.01 '*' 0.05 '.' 0.1 ' ' 1\n",
       "RMSE: 4.09796   Adj. R2: 0.034332"
      ]
     },
     "metadata": {},
     "output_type": "display_data"
    }
   ],
   "source": [
    "# Делаю pulled OLS ради интереса\n",
    "pulled_ols = feols(log(v) ~ log(deaths_i) + log(deaths_j) +\n",
    " C8EV_International_travel_controls_i + C8EV_International_travel_controls_j,\n",
    " data = df)\n",
    "pulled_ols %>% summary(cluster = ~ i+j)"
   ]
  },
  {
   "cell_type": "code",
   "execution_count": 34,
   "metadata": {
    "vscode": {
     "languageId": "r"
    }
   },
   "outputs": [
    {
     "name": "stderr",
     "output_type": "stream",
     "text": [
      "NOTE: 13,568 observations removed because of NA and infinite values (RHS: 13,568).\n",
      "\n"
     ]
    },
    {
     "data": {
      "text/plain": [
       "OLS estimation, Dep. Var.: log(v)\n",
       "Observations: 56,739\n",
       "Fixed-effects: i^j: 20,608,  year: 3\n",
       "Standard-errors: Clustered (i & j) \n",
       "                                      Estimate Std. Error  t value Pr(>|t|)    \n",
       "log(deaths_i)                        -0.015511   0.007764 -1.99787 0.047289 *  \n",
       "log(deaths_j)                        -0.007561   0.007003 -1.07965 0.281790    \n",
       "C8EV_International_travel_controls_i -0.038251   0.019968 -1.91564 0.057051 .  \n",
       "C8EV_International_travel_controls_j -0.027171   0.020064 -1.35425 0.177411    \n",
       "---\n",
       "Signif. codes:  0 '***' 0.001 '**' 0.01 '*' 0.05 '.' 0.1 ' ' 1\n",
       "RMSE: 0.702574     Adj. R2: 0.955423\n",
       "                 Within R2: 8.835e-4"
      ]
     },
     "metadata": {},
     "output_type": "display_data"
    }
   ],
   "source": [
    "# FE (т.е. оценка на панельных данных с использованием внутригрупповой дисперсии)\n",
    "fe_no_iv = feols(log(v) ~ log(deaths_i) + log(deaths_j) +\n",
    " C8EV_International_travel_controls_i + C8EV_International_travel_controls_j| i ^ j + year,\n",
    " data = df)\n",
    "fe_no_iv %>% summary(cluster = ~ i+j)"
   ]
  },
  {
   "cell_type": "code",
   "execution_count": 35,
   "metadata": {
    "vscode": {
     "languageId": "r"
    }
   },
   "outputs": [
    {
     "name": "stderr",
     "output_type": "stream",
     "text": [
      "NOTE: 13,568 observations removed because of NA and infinite values (RHS: 13,568).\n",
      "\n"
     ]
    },
    {
     "data": {
      "text/plain": [
       "OLS estimation, Dep. Var.: log(v)\n",
       "Observations: 56,739\n",
       "Fixed-effects: i^j: 20,608\n",
       "Standard-errors: Clustered (i & j) \n",
       "                                               Estimate Std. Error   t value\n",
       "year2021                                      -0.063500   0.092210 -0.688639\n",
       "year2022                                       0.002725   0.108219  0.025184\n",
       "year2020:log(deaths_i)                        -0.018044   0.008895 -2.028577\n",
       "year2021:log(deaths_i)                        -0.016126   0.008817 -1.828983\n",
       "year2022:log(deaths_i)                        -0.016141   0.010470 -1.541676\n",
       "year2020:log(deaths_j)                        -0.018412   0.009123 -2.018171\n",
       "year2021:log(deaths_j)                         0.001634   0.009407  0.173663\n",
       "year2022:log(deaths_j)                         0.005853   0.010745  0.544703\n",
       "year2020:C8EV_International_travel_controls_i -0.080207   0.030382 -2.639977\n",
       "year2021:C8EV_International_travel_controls_i -0.031253   0.019420 -1.609341\n",
       "year2022:C8EV_International_travel_controls_i -0.018944   0.057400 -0.330035\n",
       "year2020:C8EV_International_travel_controls_j -0.018786   0.026852 -0.699611\n",
       "year2021:C8EV_International_travel_controls_j  0.011139   0.014409  0.773038\n",
       "year2022:C8EV_International_travel_controls_j -0.100533   0.078708 -1.277291\n",
       "                                               Pr(>|t|)    \n",
       "year2021                                      0.4919679    \n",
       "year2022                                      0.9799368    \n",
       "year2020:log(deaths_i)                        0.0440259 *  \n",
       "year2021:log(deaths_i)                        0.0691141 .  \n",
       "year2022:log(deaths_i)                        0.1249691    \n",
       "year2020:log(deaths_j)                        0.0451094 *  \n",
       "year2021:log(deaths_j)                        0.8623319    \n",
       "year2022:log(deaths_j)                        0.5866554    \n",
       "year2020:C8EV_International_travel_controls_i 0.0090447 ** \n",
       "year2021:C8EV_International_travel_controls_i 0.1093546    \n",
       "year2022:C8EV_International_travel_controls_i 0.7417708    \n",
       "year2020:C8EV_International_travel_controls_j 0.4851045    \n",
       "year2021:C8EV_International_travel_controls_j 0.4405486    \n",
       "year2022:C8EV_International_travel_controls_j 0.2032013    \n",
       "---\n",
       "Signif. codes:  0 '***' 0.001 '**' 0.01 '*' 0.05 '.' 0.1 ' ' 1\n",
       "RMSE: 0.701786     Adj. R2: 0.955513\n",
       "                 Within R2: 0.007789"
      ]
     },
     "metadata": {},
     "output_type": "display_data"
    }
   ],
   "source": [
    "# Добавляю гетерогенность эффектов во времени\n",
    "heterogenous_fe = feols(log(v) ~ year/log(deaths_i) + year/log(deaths_j) +\n",
    "year/C8EV_International_travel_controls_i + year/C8EV_International_travel_controls_j|\n",
    "i ^ j ,\n",
    "data = df)\n",
    "heterogenous_fe %>% summary(cluster = ~ i+j)"
   ]
  },
  {
   "cell_type": "code",
   "execution_count": 36,
   "metadata": {
    "vscode": {
     "languageId": "r"
    }
   },
   "outputs": [
    {
     "data": {
      "text/html": [
       "<table class=\"dataframe\">\n",
       "<caption>A etable_df: 29 × 4</caption>\n",
       "<thead>\n",
       "\t<tr><th></th><th scope=col></th><th scope=col>pulled_ols</th><th scope=col>fe_no_iv</th><th scope=col>heterogenous_fe</th></tr>\n",
       "\t<tr><th></th><th scope=col>&lt;chr&gt;</th><th scope=col>&lt;chr&gt;</th><th scope=col>&lt;chr&gt;</th><th scope=col>&lt;chr&gt;</th></tr>\n",
       "</thead>\n",
       "<tbody>\n",
       "\t<tr><th scope=row>1</th><td>Dependent Var.:                                </td><td>log(v)            </td><td>log(v)           </td><td>log(v)            </td></tr>\n",
       "\t<tr><th scope=row>2</th><td>                                               </td><td>                  </td><td>                 </td><td>                  </td></tr>\n",
       "\t<tr><th scope=row>3</th><td>Constant                                       </td><td>8.749*** (0.3014) </td><td>                 </td><td>                  </td></tr>\n",
       "\t<tr><th scope=row>4</th><td>log(deaths_i)                                  </td><td>0.3252*** (0.0909)</td><td>-0.0155* (0.0078)</td><td>                  </td></tr>\n",
       "\t<tr><th scope=row>5</th><td>log(deaths_j)                                  </td><td>0.1506* (0.0653)  </td><td>-0.0076 (0.0070) </td><td>                  </td></tr>\n",
       "\t<tr><th scope=row>6</th><td>C8EV_International_travel_controls_i           </td><td>0.2349 (0.1578)   </td><td>-0.0382. (0.0200)</td><td>                  </td></tr>\n",
       "\t<tr><th scope=row>7</th><td>C8EV_International_travel_controls_j           </td><td>-0.0202 (0.1375)  </td><td>-0.0272 (0.0201) </td><td>                  </td></tr>\n",
       "\t<tr><th scope=row>8</th><td>year2021                                       </td><td>                  </td><td>                 </td><td>-0.0635 (0.0922)  </td></tr>\n",
       "\t<tr><th scope=row>9</th><td>year2022                                       </td><td>                  </td><td>                 </td><td>0.0027 (0.1082)   </td></tr>\n",
       "\t<tr><th scope=row>10</th><td>year2020 x log(deaths_i)                       </td><td>                  </td><td>                 </td><td>-0.0180* (0.0089) </td></tr>\n",
       "\t<tr><th scope=row>11</th><td>year2021 x log(deaths_i)                       </td><td>                  </td><td>                 </td><td>-0.0161. (0.0088) </td></tr>\n",
       "\t<tr><th scope=row>12</th><td>year2022 x log(deaths_i)                       </td><td>                  </td><td>                 </td><td>-0.0161 (0.0105)  </td></tr>\n",
       "\t<tr><th scope=row>13</th><td>year2020 x log(deaths_j)                       </td><td>                  </td><td>                 </td><td>-0.0184* (0.0091) </td></tr>\n",
       "\t<tr><th scope=row>14</th><td>year2021 x log(deaths_j)                       </td><td>                  </td><td>                 </td><td>0.0016 (0.0094)   </td></tr>\n",
       "\t<tr><th scope=row>15</th><td>year2022 x log(deaths_j)                       </td><td>                  </td><td>                 </td><td>0.0059 (0.0107)   </td></tr>\n",
       "\t<tr><th scope=row>16</th><td>year2020 x C8EV_International_travel_controls_i</td><td>                  </td><td>                 </td><td>-0.0802** (0.0304)</td></tr>\n",
       "\t<tr><th scope=row>17</th><td>year2021 x C8EV_International_travel_controls_i</td><td>                  </td><td>                 </td><td>-0.0312 (0.0194)  </td></tr>\n",
       "\t<tr><th scope=row>18</th><td>year2022 x C8EV_International_travel_controls_i</td><td>                  </td><td>                 </td><td>-0.0189 (0.0574)  </td></tr>\n",
       "\t<tr><th scope=row>19</th><td>year2020 x C8EV_International_travel_controls_j</td><td>                  </td><td>                 </td><td>-0.0188 (0.0268)  </td></tr>\n",
       "\t<tr><th scope=row>20</th><td>year2021 x C8EV_International_travel_controls_j</td><td>                  </td><td>                 </td><td>0.0111 (0.0144)   </td></tr>\n",
       "\t<tr><th scope=row>21</th><td>year2022 x C8EV_International_travel_controls_j</td><td>                  </td><td>                 </td><td>-0.1005 (0.0787)  </td></tr>\n",
       "\t<tr><th scope=row>22</th><td>Fixed-Effects:                                 </td><td>------------------</td><td>-----------------</td><td>------------------</td></tr>\n",
       "\t<tr><th scope=row>23</th><td>i-j                                            </td><td>No                </td><td>Yes              </td><td>Yes               </td></tr>\n",
       "\t<tr><th scope=row>24</th><td>year                                           </td><td>No                </td><td>Yes              </td><td>No                </td></tr>\n",
       "\t<tr><th scope=row>25</th><td>________________________________________       </td><td>__________________</td><td>_________________</td><td>__________________</td></tr>\n",
       "\t<tr><th scope=row>26</th><td><span style=white-space:pre-wrap>S.E.: Clustered                                </span></td><td><span style=white-space:pre-wrap>by: i &amp; j         </span></td><td><span style=white-space:pre-wrap>by: i &amp; j        </span></td><td><span style=white-space:pre-wrap>by: i &amp; j         </span></td></tr>\n",
       "\t<tr><th scope=row>27</th><td>Observations                                   </td><td>56,739            </td><td>56,739           </td><td>56,739            </td></tr>\n",
       "\t<tr><th scope=row>28</th><td>R2                                             </td><td>0.03440           </td><td>0.97162          </td><td>0.97168           </td></tr>\n",
       "\t<tr><th scope=row>29</th><td>Within R2                                      </td><td>--                </td><td>0.00088          </td><td>0.00779           </td></tr>\n",
       "</tbody>\n",
       "</table>\n"
      ],
      "text/latex": [
       "A etable\\_df: 29 × 4\n",
       "\\begin{tabular}{r|llll}\n",
       "  &  & pulled\\_ols & fe\\_no\\_iv & heterogenous\\_fe\\\\\n",
       "  & <chr> & <chr> & <chr> & <chr>\\\\\n",
       "\\hline\n",
       "\t1 & Dependent Var.:                                 & log(v)             & log(v)            & log(v)            \\\\\n",
       "\t2 &                                                 &                    &                   &                   \\\\\n",
       "\t3 & Constant                                        & 8.749*** (0.3014)  &                   &                   \\\\\n",
       "\t4 & log(deaths\\_i)                                   & 0.3252*** (0.0909) & -0.0155* (0.0078) &                   \\\\\n",
       "\t5 & log(deaths\\_j)                                   & 0.1506* (0.0653)   & -0.0076 (0.0070)  &                   \\\\\n",
       "\t6 & C8EV\\_International\\_travel\\_controls\\_i            & 0.2349 (0.1578)    & -0.0382. (0.0200) &                   \\\\\n",
       "\t7 & C8EV\\_International\\_travel\\_controls\\_j            & -0.0202 (0.1375)   & -0.0272 (0.0201)  &                   \\\\\n",
       "\t8 & year2021                                        &                    &                   & -0.0635 (0.0922)  \\\\\n",
       "\t9 & year2022                                        &                    &                   & 0.0027 (0.1082)   \\\\\n",
       "\t10 & year2020 x log(deaths\\_i)                        &                    &                   & -0.0180* (0.0089) \\\\\n",
       "\t11 & year2021 x log(deaths\\_i)                        &                    &                   & -0.0161. (0.0088) \\\\\n",
       "\t12 & year2022 x log(deaths\\_i)                        &                    &                   & -0.0161 (0.0105)  \\\\\n",
       "\t13 & year2020 x log(deaths\\_j)                        &                    &                   & -0.0184* (0.0091) \\\\\n",
       "\t14 & year2021 x log(deaths\\_j)                        &                    &                   & 0.0016 (0.0094)   \\\\\n",
       "\t15 & year2022 x log(deaths\\_j)                        &                    &                   & 0.0059 (0.0107)   \\\\\n",
       "\t16 & year2020 x C8EV\\_International\\_travel\\_controls\\_i &                    &                   & -0.0802** (0.0304)\\\\\n",
       "\t17 & year2021 x C8EV\\_International\\_travel\\_controls\\_i &                    &                   & -0.0312 (0.0194)  \\\\\n",
       "\t18 & year2022 x C8EV\\_International\\_travel\\_controls\\_i &                    &                   & -0.0189 (0.0574)  \\\\\n",
       "\t19 & year2020 x C8EV\\_International\\_travel\\_controls\\_j &                    &                   & -0.0188 (0.0268)  \\\\\n",
       "\t20 & year2021 x C8EV\\_International\\_travel\\_controls\\_j &                    &                   & 0.0111 (0.0144)   \\\\\n",
       "\t21 & year2022 x C8EV\\_International\\_travel\\_controls\\_j &                    &                   & -0.1005 (0.0787)  \\\\\n",
       "\t22 & Fixed-Effects:                                  & ------------------ & ----------------- & ------------------\\\\\n",
       "\t23 & i-j                                             & No                 & Yes               & Yes               \\\\\n",
       "\t24 & year                                            & No                 & Yes               & No                \\\\\n",
       "\t25 & \\_\\_\\_\\_\\_\\_\\_\\_\\_\\_\\_\\_\\_\\_\\_\\_\\_\\_\\_\\_\\_\\_\\_\\_\\_\\_\\_\\_\\_\\_\\_\\_\\_\\_\\_\\_\\_\\_\\_\\_        & \\_\\_\\_\\_\\_\\_\\_\\_\\_\\_\\_\\_\\_\\_\\_\\_\\_\\_ & \\_\\_\\_\\_\\_\\_\\_\\_\\_\\_\\_\\_\\_\\_\\_\\_\\_ & \\_\\_\\_\\_\\_\\_\\_\\_\\_\\_\\_\\_\\_\\_\\_\\_\\_\\_\\\\\n",
       "\t26 & S.E.: Clustered                                 & by: i \\& j          & by: i \\& j         & by: i \\& j         \\\\\n",
       "\t27 & Observations                                    & 56,739             & 56,739            & 56,739            \\\\\n",
       "\t28 & R2                                              & 0.03440            & 0.97162           & 0.97168           \\\\\n",
       "\t29 & Within R2                                       & --                 & 0.00088           & 0.00779           \\\\\n",
       "\\end{tabular}\n"
      ],
      "text/markdown": [
       "\n",
       "A etable_df: 29 × 4\n",
       "\n",
       "| <!--/--> | <!----> &lt;chr&gt; | pulled_ols &lt;chr&gt; | fe_no_iv &lt;chr&gt; | heterogenous_fe &lt;chr&gt; |\n",
       "|---|---|---|---|---|\n",
       "| 1 | Dependent Var.:                                 | log(v)             | log(v)            | log(v)             |\n",
       "| 2 | <!----> | <!----> | <!----> | <!----> |\n",
       "| 3 | Constant                                        | 8.749*** (0.3014)  | <!----> | <!----> |\n",
       "| 4 | log(deaths_i)                                   | 0.3252*** (0.0909) | -0.0155* (0.0078) | <!----> |\n",
       "| 5 | log(deaths_j)                                   | 0.1506* (0.0653)   | -0.0076 (0.0070)  | <!----> |\n",
       "| 6 | C8EV_International_travel_controls_i            | 0.2349 (0.1578)    | -0.0382. (0.0200) | <!----> |\n",
       "| 7 | C8EV_International_travel_controls_j            | -0.0202 (0.1375)   | -0.0272 (0.0201)  | <!----> |\n",
       "| 8 | year2021                                        | <!----> | <!----> | -0.0635 (0.0922)   |\n",
       "| 9 | year2022                                        | <!----> | <!----> | 0.0027 (0.1082)    |\n",
       "| 10 | year2020 x log(deaths_i)                        | <!----> | <!----> | -0.0180* (0.0089)  |\n",
       "| 11 | year2021 x log(deaths_i)                        | <!----> | <!----> | -0.0161. (0.0088)  |\n",
       "| 12 | year2022 x log(deaths_i)                        | <!----> | <!----> | -0.0161 (0.0105)   |\n",
       "| 13 | year2020 x log(deaths_j)                        | <!----> | <!----> | -0.0184* (0.0091)  |\n",
       "| 14 | year2021 x log(deaths_j)                        | <!----> | <!----> | 0.0016 (0.0094)    |\n",
       "| 15 | year2022 x log(deaths_j)                        | <!----> | <!----> | 0.0059 (0.0107)    |\n",
       "| 16 | year2020 x C8EV_International_travel_controls_i | <!----> | <!----> | -0.0802** (0.0304) |\n",
       "| 17 | year2021 x C8EV_International_travel_controls_i | <!----> | <!----> | -0.0312 (0.0194)   |\n",
       "| 18 | year2022 x C8EV_International_travel_controls_i | <!----> | <!----> | -0.0189 (0.0574)   |\n",
       "| 19 | year2020 x C8EV_International_travel_controls_j | <!----> | <!----> | -0.0188 (0.0268)   |\n",
       "| 20 | year2021 x C8EV_International_travel_controls_j | <!----> | <!----> | 0.0111 (0.0144)    |\n",
       "| 21 | year2022 x C8EV_International_travel_controls_j | <!----> | <!----> | -0.1005 (0.0787)   |\n",
       "| 22 | Fixed-Effects:                                  | ------------------ | ----------------- | ------------------ |\n",
       "| 23 | i-j                                             | No                 | Yes               | Yes                |\n",
       "| 24 | year                                            | No                 | Yes               | No                 |\n",
       "| 25 | ________________________________________        | __________________ | _________________ | __________________ |\n",
       "| 26 | S.E.: Clustered                                 | by: i &amp; j          | by: i &amp; j         | by: i &amp; j          |\n",
       "| 27 | Observations                                    | 56,739             | 56,739            | 56,739             |\n",
       "| 28 | R2                                              | 0.03440            | 0.97162           | 0.97168            |\n",
       "| 29 | Within R2                                       | --                 | 0.00088           | 0.00779            |\n",
       "\n"
      ],
      "text/plain": [
       "                                                   pulled_ols        \n",
       "1  Dependent Var.:                                 log(v)            \n",
       "2                                                                    \n",
       "3  Constant                                        8.749*** (0.3014) \n",
       "4  log(deaths_i)                                   0.3252*** (0.0909)\n",
       "5  log(deaths_j)                                   0.1506* (0.0653)  \n",
       "6  C8EV_International_travel_controls_i            0.2349 (0.1578)   \n",
       "7  C8EV_International_travel_controls_j            -0.0202 (0.1375)  \n",
       "8  year2021                                                          \n",
       "9  year2022                                                          \n",
       "10 year2020 x log(deaths_i)                                          \n",
       "11 year2021 x log(deaths_i)                                          \n",
       "12 year2022 x log(deaths_i)                                          \n",
       "13 year2020 x log(deaths_j)                                          \n",
       "14 year2021 x log(deaths_j)                                          \n",
       "15 year2022 x log(deaths_j)                                          \n",
       "16 year2020 x C8EV_International_travel_controls_i                   \n",
       "17 year2021 x C8EV_International_travel_controls_i                   \n",
       "18 year2022 x C8EV_International_travel_controls_i                   \n",
       "19 year2020 x C8EV_International_travel_controls_j                   \n",
       "20 year2021 x C8EV_International_travel_controls_j                   \n",
       "21 year2022 x C8EV_International_travel_controls_j                   \n",
       "22 Fixed-Effects:                                  ------------------\n",
       "23 i-j                                             No                \n",
       "24 year                                            No                \n",
       "25 ________________________________________        __________________\n",
       "26 S.E.: Clustered                                 by: i & j         \n",
       "27 Observations                                    56,739            \n",
       "28 R2                                              0.03440           \n",
       "29 Within R2                                       --                \n",
       "   fe_no_iv          heterogenous_fe   \n",
       "1  log(v)            log(v)            \n",
       "2                                      \n",
       "3                                      \n",
       "4  -0.0155* (0.0078)                   \n",
       "5  -0.0076 (0.0070)                    \n",
       "6  -0.0382. (0.0200)                   \n",
       "7  -0.0272 (0.0201)                    \n",
       "8                    -0.0635 (0.0922)  \n",
       "9                    0.0027 (0.1082)   \n",
       "10                   -0.0180* (0.0089) \n",
       "11                   -0.0161. (0.0088) \n",
       "12                   -0.0161 (0.0105)  \n",
       "13                   -0.0184* (0.0091) \n",
       "14                   0.0016 (0.0094)   \n",
       "15                   0.0059 (0.0107)   \n",
       "16                   -0.0802** (0.0304)\n",
       "17                   -0.0312 (0.0194)  \n",
       "18                   -0.0189 (0.0574)  \n",
       "19                   -0.0188 (0.0268)  \n",
       "20                   0.0111 (0.0144)   \n",
       "21                   -0.1005 (0.0787)  \n",
       "22 ----------------- ------------------\n",
       "23 Yes               Yes               \n",
       "24 Yes               No                \n",
       "25 _________________ __________________\n",
       "26 by: i & j         by: i & j         \n",
       "27 56,739            56,739            \n",
       "28 0.97162           0.97168           \n",
       "29 0.00088           0.00779           "
      ]
     },
     "metadata": {},
     "output_type": "display_data"
    }
   ],
   "source": [
    "# С кластеризацией ошибок есть значимый эффект и наблюдается гетерогенность во времени (+ направление связи соотносится с описанным в литературе)\n",
    "etable(pulled_ols, fe_no_iv, heterogenous_fe, vcov = ~i+j, signif.code=signif.code)\n",
    "# А чем такая кластеризация отличается от i^j?"
   ]
  },
  {
   "cell_type": "markdown",
   "metadata": {},
   "source": [
    "### Инструментальные переменные на панельных данных"
   ]
  },
  {
   "cell_type": "code",
   "execution_count": 37,
   "metadata": {
    "vscode": {
     "languageId": "r"
    }
   },
   "outputs": [
    {
     "name": "stderr",
     "output_type": "stream",
     "text": [
      "NOTE: 13,906 observations removed because of NA and infinite values (RHS: 9,802, IV: 6,067/10,661).\n",
      "\n"
     ]
    },
    {
     "data": {
      "text/plain": [
       "TSLS estimation - Dep. Var.: log(v)\n",
       "                  Endo.    : log(deaths_i), log(deaths_j)\n",
       "                  Instr.   : H6M_Facial_Coverings_i, H6M_Facial_Coverings_j, population_density, population_density_j\n",
       "Second stage: Dep. Var.: log(v)\n",
       "Observations: 56,401\n",
       "Standard-errors: Clustered (i & j) \n",
       "                                      Estimate Std. Error   t value  Pr(>|t|)\n",
       "(Intercept)                           7.558642   0.555417 13.608954 < 2.2e-16\n",
       "fit_log(deaths_i)                    -0.187273   0.569224 -0.328997   0.74255\n",
       "fit_log(deaths_j)                    -0.373980   0.617327 -0.605806   0.54543\n",
       "C8EV_International_travel_controls_i  0.319239   0.239136  1.334971   0.18363\n",
       "C8EV_International_travel_controls_j  0.037631   0.227472  0.165429   0.86880\n",
       "                                        \n",
       "(Intercept)                          ***\n",
       "fit_log(deaths_i)                       \n",
       "fit_log(deaths_j)                       \n",
       "C8EV_International_travel_controls_i    \n",
       "C8EV_International_travel_controls_j    \n",
       "---\n",
       "Signif. codes:  0 '***' 0.001 '**' 0.01 '*' 0.05 '.' 0.1 ' ' 1\n",
       "RMSE: 4.3733   Adj. R2: -0.098534\n",
       "F-test (1st stage), log(deaths_i): stat = 336.7, p < 2.2e-16, on 4 and 56,394 DoF.\n",
       "F-test (1st stage), log(deaths_j): stat = 322.8, p < 2.2e-16, on 4 and 56,394 DoF.\n",
       "                       Wu-Hausman: stat = 144.2, p < 2.2e-16, on 2 and 56,394 DoF.\n",
       "                           Sargan: stat = 110.9, p < 2.2e-16, on 2 DoF."
      ]
     },
     "metadata": {},
     "output_type": "display_data"
    }
   ],
   "source": [
    "# Pulled TSLS\n",
    "# Подумать про эндогенность пропусков. Мб пропуски в инструментальных переменных можно смело заполнять?\n",
    "pulled_tsls = feols(log(v) ~  1+\n",
    " C8EV_International_travel_controls_i + C8EV_International_travel_controls_j |\n",
    " log(deaths_i) + log(deaths_j) \n",
    " ~ \n",
    "H6M_Facial_Coverings_i+H6M_Facial_Coverings_j\n",
    "+\n",
    "population_density + population_density_j\n",
    "  ,\n",
    " data = df\n",
    " )\n",
    "pulled_tsls %>% summary(vcov = ~i+j)"
   ]
  },
  {
   "cell_type": "code",
   "execution_count": 38,
   "metadata": {
    "vscode": {
     "languageId": "r"
    }
   },
   "outputs": [
    {
     "name": "stderr",
     "output_type": "stream",
     "text": [
      "NOTE: 13,906 observations removed because of NA and infinite values (RHS: 9,802, IV: 6,067/10,661).\n",
      "\n"
     ]
    },
    {
     "data": {
      "text/plain": [
       "TSLS estimation - Dep. Var.: log(v)\n",
       "                  Endo.    : log(deaths_i), log(deaths_j)\n",
       "                  Instr.   : median_age_i, median_age_j, H6M_Facial_Coverings_i, H6M_Facial_Coverings_j, population_density, population_density_j\n",
       "Second stage: Dep. Var.: log(v)\n",
       "Observations: 56,401\n",
       "Fixed-effects: year: 3\n",
       "Standard-errors: Clustered (i & j) \n",
       "                                     Estimate Std. Error t value   Pr(>|t|)    \n",
       "fit_log(deaths_i)                    1.016266   0.148505 6.84330 1.2697e-10 ***\n",
       "fit_log(deaths_j)                    0.624096   0.115088 5.42276 1.9388e-07 ***\n",
       "C8EV_International_travel_controls_i 1.204183   0.270775 4.44718 1.5470e-05 ***\n",
       "C8EV_International_travel_controls_j 0.833436   0.201166 4.14302 5.3404e-05 ***\n",
       "---\n",
       "Signif. codes:  0 '***' 0.001 '**' 0.01 '*' 0.05 '.' 0.1 ' ' 1\n",
       "RMSE: 4.27872     Adj. R2: -0.051569\n",
       "                Within R2: -0.051726\n",
       "F-test (1st stage), log(deaths_i): stat = 7,515.0, p < 2.2e-16, on 6 and 56,392 DoF.\n",
       "F-test (1st stage), log(deaths_j): stat = 8,009.6, p < 2.2e-16, on 6 and 56,392 DoF.\n",
       "                       Wu-Hausman: stat = 3,010.2, p < 2.2e-16, on 2 and 56,392 DoF.\n",
       "                           Sargan: stat =   341.6, p < 2.2e-16, on 4 DoF."
      ]
     },
     "metadata": {},
     "output_type": "display_data"
    }
   ],
   "source": [
    "# Только FE года (инструменты эндогенные)\n",
    "fe_iv_year = feols(log(v) ~  1 +\n",
    " C8EV_International_travel_controls_i + C8EV_International_travel_controls_j | year|\n",
    " log(deaths_i) + log(deaths_j) ~ \n",
    " median_age_i + median_age_j \n",
    "+\n",
    "H6M_Facial_Coverings_i+H6M_Facial_Coverings_j\n",
    "+\n",
    "  population_density + population_density_j\n",
    " ,\n",
    " data = df\n",
    " )\n",
    "fe_iv_year %>% summary(cluster = ~ i+j)"
   ]
  },
  {
   "cell_type": "code",
   "execution_count": 39,
   "metadata": {
    "vscode": {
     "languageId": "r"
    }
   },
   "outputs": [
    {
     "name": "stderr",
     "output_type": "stream",
     "text": [
      "NOTE: 13,906 observations removed because of NA and infinite values (RHS: 9,802, IV: 6,067/10,661).\n",
      "\n"
     ]
    },
    {
     "data": {
      "text/plain": [
       "TSLS estimation - Dep. Var.: log(v)\n",
       "                  Endo.    : log(deaths_i), log(deaths_j)\n",
       "                  Instr.   : H6M_Facial_Coverings_i, H6M_Facial_Coverings_j, C1M_School_closing_i, C1M_School_closing_j, median_age_i, median_age_j, population_density_i, population_density_j\n",
       "Second stage: Dep. Var.: log(v)\n",
       "Observations: 56,401\n",
       "Fixed-effects: year: 3,  i^j: 20,605\n",
       "Standard-errors: Clustered (i & j) \n",
       "                                      Estimate Std. Error   t value Pr(>|t|)\n",
       "fit_log(deaths_i)                    -0.041419   0.031374 -1.320168 0.188513\n",
       "fit_log(deaths_j)                    -0.006355   0.029966 -0.212090 0.832285\n",
       "C8EV_International_travel_controls_i -0.049724   0.024681 -2.014698 0.045476\n",
       "C8EV_International_travel_controls_j -0.025527   0.020830 -1.225487 0.222048\n",
       "                                        \n",
       "fit_log(deaths_i)                       \n",
       "fit_log(deaths_j)                       \n",
       "C8EV_International_travel_controls_i *  \n",
       "C8EV_International_travel_controls_j    \n",
       "---\n",
       "Signif. codes:  0 '***' 0.001 '**' 0.01 '*' 0.05 '.' 0.1 ' ' 1\n",
       "RMSE: 0.702726     Adj. R2:  0.955306\n",
       "                 Within R2: -2.927e-6\n",
       "F-test (1st stage), log(deaths_i): stat = 476.2    , p < 2.2e-16  , on 8 and 35,786 DoF.\n",
       "F-test (1st stage), log(deaths_j): stat = 463.3    , p < 2.2e-16  , on 8 and 35,786 DoF.\n",
       "                       Wu-Hausman: stat =   1.68338, p = 0.18576  , on 2 and 35,788 DoF.\n",
       "                           Sargan: stat =  56.8    , p = 2.003e-10, on 6 DoF."
      ]
     },
     "metadata": {},
     "output_type": "display_data"
    }
   ],
   "source": [
    "feols(log(v) ~  1 +\n",
    " C8EV_International_travel_controls_i + C8EV_International_travel_controls_j | year+i^j|\n",
    " log(deaths_i) + log(deaths_j) ~ \n",
    "H6M_Facial_Coverings_i+H6M_Facial_Coverings_j\n",
    "+\n",
    "C1M_School_closing_i+C1M_School_closing_j\n",
    "+\n",
    "median_age_i + median_age_j\n",
    "+\n",
    "population_density_i + population_density_j\n",
    "\n",
    " ,\n",
    " data = df\n",
    " ) %>% summary(cluster = ~ i+j)"
   ]
  },
  {
   "cell_type": "code",
   "execution_count": 45,
   "metadata": {
    "vscode": {
     "languageId": "r"
    }
   },
   "outputs": [
    {
     "name": "stderr",
     "output_type": "stream",
     "text": [
      "NOTE: 13,906 observations removed because of NA and infinite values (RHS: 9,802, IV: 6,067/2,257).\n",
      "\n"
     ]
    },
    {
     "data": {
      "text/plain": [
       "TSLS estimation - Dep. Var.: log(v)\n",
       "                  Endo.    : log(deaths_i), log(deaths_j)\n",
       "                  Instr.   : median_age_i, median_age_j, population_density_i, population_density_j\n",
       "Second stage: Dep. Var.: log(v)\n",
       "Observations: 56,401\n",
       "Fixed-effects: year: 3,  i^j: 20,605\n",
       "Standard-errors: Clustered (i & j) \n",
       "                                      Estimate Std. Error   t value Pr(>|t|) \n",
       "fit_log(deaths_i)                     0.013198   0.039977  0.330131  0.74170 \n",
       "fit_log(deaths_j)                     0.019157   0.028555  0.670870  0.50319 \n",
       "C8EV_International_travel_controls_i -0.028114   0.024680 -1.139166  0.25620 \n",
       "C8EV_International_travel_controls_j -0.015314   0.021951 -0.697624  0.48634 \n",
       "---\n",
       "Signif. codes:  0 '***' 0.001 '**' 0.01 '*' 0.05 '.' 0.1 ' ' 1\n",
       "RMSE: 0.703126     Adj. R2:  0.955255\n",
       "                 Within R2: -0.001143\n",
       "F-test (1st stage), log(deaths_i): stat = 330.8    , p < 2.2e-16 , on 4 and 35,790 DoF.\n",
       "F-test (1st stage), log(deaths_j): stat = 358.4    , p < 2.2e-16 , on 4 and 35,790 DoF.\n",
       "                       Wu-Hausman: stat =   1.43003, p = 0.239315, on 2 and 35,788 DoF.\n",
       "                           Sargan: stat =   4.27702, p = 0.11783 , on 2 DoF."
      ]
     },
     "metadata": {},
     "output_type": "display_data"
    }
   ],
   "source": [
    "# Спецификация с фиксированными эффектами, куда я добавил инструменты, чтобы убрать потенциальную двустороннюю связь. \n",
    "# Добавить больше инструментов, которые меняются во времени. Мб плотность населения или медианный возраст брать не за 2019 год а в динамике, \n",
    "# чтобы использовать их как инструменты в этой спецификации.\n",
    "fe_iv = feols(log(v) ~  1 +\n",
    " C8EV_International_travel_controls_i + C8EV_International_travel_controls_j | year+i^j|\n",
    " log(deaths_i) + log(deaths_j) ~ \n",
    "# H6M_Facial_Coverings_i+H6M_Facial_Coverings_j\n",
    "# +\n",
    "# C1M_School_closing_i+C1M_School_closing_j\n",
    "# +\n",
    "median_age_i + median_age_j\n",
    "+\n",
    "population_density_i + population_density_j\n",
    "# +\n",
    "# average_surface_temperature_i + average_surface_temperature_j # Добавляет пропусков\n",
    "\n",
    " ,\n",
    " data = df\n",
    " )\n",
    "fe_iv %>% summary(cluster = ~ i+j)"
   ]
  },
  {
   "cell_type": "code",
   "execution_count": 46,
   "metadata": {
    "vscode": {
     "languageId": "r"
    }
   },
   "outputs": [
    {
     "name": "stderr",
     "output_type": "stream",
     "text": [
      "NOTE: 13,568 observations removed because of NA and infinite values (RHS: 9,802, IV: 6,067/47).\n",
      "\n"
     ]
    },
    {
     "data": {
      "text/plain": [
       "TSLS estimation - Dep. Var.: log(v)\n",
       "                  Endo.    : log(deaths_i), log(deaths_j)\n",
       "                  Instr.   : median_age_i, median_age_j\n",
       "Second stage: Dep. Var.: log(v)\n",
       "Observations: 56,739\n",
       "Fixed-effects: year: 3,  i^j: 20,608\n",
       "Standard-errors: Clustered (i & j) \n",
       "                                      Estimate Std. Error   t value Pr(>|t|) \n",
       "fit_log(deaths_i)                     0.022034   0.046722  0.471598  0.63780 \n",
       "fit_log(deaths_j)                     0.026544   0.028271  0.938910  0.34908 \n",
       "C8EV_International_travel_controls_i -0.023805   0.025684 -0.926835  0.35530 \n",
       "C8EV_International_travel_controls_j -0.012833   0.020749 -0.618492  0.53706 \n",
       "---\n",
       "Signif. codes:  0 '***' 0.001 '**' 0.01 '*' 0.05 '.' 0.1 ' ' 1\n",
       "RMSE: 0.703764     Adj. R2:  0.955272\n",
       "                 Within R2: -0.002504\n",
       "F-test (1st stage), log(deaths_i): stat = 611.6    , p < 2.2e-16 , on 2 and 36,127 DoF.\n",
       "F-test (1st stage), log(deaths_j): stat = 666.0    , p < 2.2e-16 , on 2 and 36,127 DoF.\n",
       "                       Wu-Hausman: stat =   2.18822, p = 0.112131, on 2 and 36,123 DoF."
      ]
     },
     "metadata": {},
     "output_type": "display_data"
    }
   ],
   "source": [
    "fe_iv_age = feols(log(v) ~  1 +\n",
    " C8EV_International_travel_controls_i + C8EV_International_travel_controls_j | year+i^j|\n",
    " log(deaths_i) + log(deaths_j) ~ \n",
    "median_age_i + median_age_j\n",
    " ,\n",
    " data = df\n",
    " )\n",
    "fe_iv_age %>% summary(cluster = ~ i+j)"
   ]
  },
  {
   "cell_type": "code",
   "execution_count": 47,
   "metadata": {
    "vscode": {
     "languageId": "r"
    }
   },
   "outputs": [
    {
     "name": "stderr",
     "output_type": "stream",
     "text": [
      "NOTE: 17,245 observations removed because of NA and infinite values (RHS: 9,802, IV: 6,067/8,783).\n",
      "\n"
     ]
    },
    {
     "data": {
      "text/plain": [
       "TSLS estimation - Dep. Var.: log(v)\n",
       "                  Endo.    : log(deaths_i), log(deaths_j)\n",
       "                  Instr.   : median_age_i, median_age_j, average_surface_temperature_i, average_surface_temperature_j\n",
       "Second stage: Dep. Var.: log(v)\n",
       "Observations: 53,062\n",
       "Fixed-effects: year: 3,  i^j: 19,210\n",
       "Standard-errors: Clustered (i & j) \n",
       "                                      Estimate Std. Error   t value Pr(>|t|) \n",
       "fit_log(deaths_i)                     0.017085   0.047429  0.360231  0.71914 \n",
       "fit_log(deaths_j)                     0.029085   0.028332  1.026576  0.30612 \n",
       "C8EV_International_travel_controls_i -0.024841   0.025816 -0.962238  0.33734 \n",
       "C8EV_International_travel_controls_j -0.010740   0.021333 -0.503453  0.61532 \n",
       "---\n",
       "Signif. codes:  0 '***' 0.001 '**' 0.01 '*' 0.05 '.' 0.1 ' ' 1\n",
       "RMSE: 0.697462     Adj. R2:  0.955493\n",
       "                 Within R2: -0.002325\n",
       "F-test (1st stage), log(deaths_i): stat = 306.2    , p < 2.2e-16 , on 4 and 33,846 DoF.\n",
       "F-test (1st stage), log(deaths_j): stat = 326.0    , p < 2.2e-16 , on 4 and 33,846 DoF.\n",
       "                       Wu-Hausman: stat =   2.03402, p = 0.130825, on 2 and 33,844 DoF.\n",
       "                           Sargan: stat =  12.8    , p = 0.00165 , on 2 DoF."
      ]
     },
     "metadata": {},
     "output_type": "display_data"
    }
   ],
   "source": [
    "fe_iv_age_temp = feols(log(v) ~  1 +\n",
    " C8EV_International_travel_controls_i + C8EV_International_travel_controls_j | year+i^j|\n",
    " log(deaths_i) + log(deaths_j) ~ \n",
    "median_age_i + median_age_j\n",
    "+\n",
    "average_surface_temperature_i + average_surface_temperature_j \n",
    " ,\n",
    " data = df\n",
    " )\n",
    "fe_iv_age_temp %>% summary(cluster = ~ i+j)"
   ]
  },
  {
   "cell_type": "code",
   "execution_count": 48,
   "metadata": {
    "vscode": {
     "languageId": "r"
    }
   },
   "outputs": [
    {
     "name": "stderr",
     "output_type": "stream",
     "text": [
      "NOTE: 13,906 observations removed because of NA and infinite values (IV: 13,568/10,661).\n",
      "\n"
     ]
    },
    {
     "data": {
      "text/plain": [
       "TSLS estimation - Dep. Var.: log(v)\n",
       "                  Endo.    : log(deaths_i), log(deaths_j), C8EV_International_travel_controls_i, C8EV_International_travel_controls_j\n",
       "                  Instr.   : C1M_School_closing_i, C1M_School_closing_j, median_age_i, median_age_j, population_density_i, population_density_j\n",
       "Second stage: Dep. Var.: log(v)\n",
       "Observations: 56,401\n",
       "Fixed-effects: year: 3,  i^j: 20,605\n",
       "Standard-errors: Clustered (i & j) \n",
       "                                          Estimate Std. Error   t value\n",
       "fit_log(deaths_i)                         0.002597   0.037209  0.069792\n",
       "fit_log(deaths_j)                         0.005924   0.036975  0.160225\n",
       "fit_C8EV_International_travel_controls_i -0.152683   0.097821 -1.560837\n",
       "fit_C8EV_International_travel_controls_j -0.019369   0.086120 -0.224905\n",
       "                                         Pr(>|t|) \n",
       "fit_log(deaths_i)                         0.94444 \n",
       "fit_log(deaths_j)                         0.87289 \n",
       "fit_C8EV_International_travel_controls_i  0.12038 \n",
       "fit_C8EV_International_travel_controls_j  0.82232 \n",
       "---\n",
       "Signif. codes:  0 '***' 0.001 '**' 0.01 '*' 0.05 '.' 0.1 ' ' 1\n",
       "RMSE: 0.704213     Adj. R2:  0.955116\n",
       "                 Within R2: -0.004238\n",
       "F-test (1st stage), log(deaths_i)                       : stat = 400.1    , p < 2.2e-16 , on 6 and 35,790 DoF.\n",
       "F-test (1st stage), log(deaths_j)                       : stat = 366.2    , p < 2.2e-16 , on 6 and 35,790 DoF.\n",
       "F-test (1st stage), C8EV_International_travel_controls_i: stat = 443.2    , p < 2.2e-16 , on 6 and 35,790 DoF.\n",
       "F-test (1st stage), C8EV_International_travel_controls_j: stat = 500.8    , p < 2.2e-16 , on 6 and 35,790 DoF.\n",
       "                                              Wu-Hausman: stat =   1.95048, p = 0.099134, on 4 and 35,786 DoF.\n",
       "                                                  Sargan: stat =  12.3    , p = 0.002128, on 2 DoF."
      ]
     },
     "metadata": {},
     "output_type": "display_data"
    }
   ],
   "source": [
    "iv_both_endo = feols(log(v) ~  1 | year+i^j|\n",
    " log(deaths_i) + log(deaths_j) +\n",
    " C8EV_International_travel_controls_i + C8EV_International_travel_controls_j ~ \n",
    "# H6M_Facial_Coverings_i+H6M_Facial_Coverings_j\n",
    "# +\n",
    "C1M_School_closing_i+C1M_School_closing_j\n",
    "+\n",
    "median_age_i + median_age_j\n",
    "+\n",
    "population_density_i + population_density_j\n",
    "# +\n",
    "# average_surface_temperature_i + average_surface_temperature_j # Добавляет пропусков\n",
    "\n",
    " ,\n",
    " data = df\n",
    " )\n",
    "iv_both_endo %>% summary(cluster = ~ i+j)"
   ]
  },
  {
   "cell_type": "code",
   "execution_count": 49,
   "metadata": {
    "vscode": {
     "languageId": "r"
    }
   },
   "outputs": [
    {
     "name": "stdout",
     "output_type": "stream",
     "text": [
      "Wald test, H0: joint nullity of fit_log(deaths_i), fit_log(deaths_j), fit_C8EV_International_travel_controls_i and fit_C8EV_International_travel_controls_j\n",
      " stat = 0.767096, p-value = 0.546455, on 4 and 35,790 DoF, VCOV: Clustered (i & j)."
     ]
    }
   ],
   "source": [
    "# Даже тест Вальда говорит, что ничего не значимо...\n",
    "wald(iv_both_endo, keep = 'log|C8', vcov = ~i+j)"
   ]
  },
  {
   "cell_type": "code",
   "execution_count": 50,
   "metadata": {
    "vscode": {
     "languageId": "r"
    }
   },
   "outputs": [
    {
     "name": "stderr",
     "output_type": "stream",
     "text": [
      "NOTE: 13,906 observations removed because of NA and infinite values (IV: 13,568/10,661).\n",
      "\n"
     ]
    },
    {
     "data": {
      "text/plain": [
       "TSLS estimation - Dep. Var.: log(v)\n",
       "                  Endo.    : log(deaths_i), log(deaths_j), C8EV_International_travel_controls_i, C8EV_International_travel_controls_j\n",
       "                  Instr.   : C1M_School_closing_i, C1M_School_closing_j, median_age_i, median_age_j, population_density_i, population_density_j\n",
       "Second stage: Dep. Var.: log(v)\n",
       "Observations: 56,401\n",
       "Fixed-effects: year: 3\n",
       "Standard-errors: Clustered (i & j) \n",
       "                                         Estimate Std. Error  t value\n",
       "fit_log(deaths_i)                        1.017800   0.165012 6.168040\n",
       "fit_log(deaths_j)                        0.626120   0.130734 4.789287\n",
       "fit_C8EV_International_travel_controls_i 0.200526   1.619977 0.123783\n",
       "fit_C8EV_International_travel_controls_j 0.038021   1.173255 0.032407\n",
       "                                           Pr(>|t|)    \n",
       "fit_log(deaths_i)                        4.6996e-09 ***\n",
       "fit_log(deaths_j)                        3.5657e-06 ***\n",
       "fit_C8EV_International_travel_controls_i 9.0163e-01    \n",
       "fit_C8EV_International_travel_controls_j 9.7418e-01    \n",
       "---\n",
       "Signif. codes:  0 '***' 0.001 '**' 0.01 '*' 0.05 '.' 0.1 ' ' 1\n",
       "RMSE: 4.34542     Adj. R2: -0.084613\n",
       "                Within R2: -0.084775\n",
       "F-test (1st stage), log(deaths_i)                       : stat = 7,656.7, p < 2.2e-16, on 6 and 56,394 DoF.\n",
       "F-test (1st stage), log(deaths_j)                       : stat = 8,181.8, p < 2.2e-16, on 6 and 56,394 DoF.\n",
       "F-test (1st stage), C8EV_International_travel_controls_i: stat =   700.3, p < 2.2e-16, on 6 and 56,394 DoF.\n",
       "F-test (1st stage), C8EV_International_travel_controls_j: stat =   723.4, p < 2.2e-16, on 6 and 56,394 DoF.\n",
       "                                              Wu-Hausman: stat = 1,474.4, p < 2.2e-16, on 4 and 56,390 DoF.\n",
       "                                                  Sargan: stat =   395.4, p < 2.2e-16, on 2 DoF."
      ]
     },
     "metadata": {},
     "output_type": "display_data"
    }
   ],
   "source": [
    "# Тут всё плохо в тесте Саргана\n",
    "# Мы верим в синюю схему, поэтому такая спецификация бессмысленна. Утверждение в ВКР: если схема верна, то влияение отрицательное.\n",
    "feols(log(v) ~  1 | year|\n",
    " log(deaths_i) + log(deaths_j) +\n",
    " C8EV_International_travel_controls_i + C8EV_International_travel_controls_j ~ \n",
    "# H6M_Facial_Coverings_i+H6M_Facial_Coverings_j\n",
    "# +\n",
    "C1M_School_closing_i+C1M_School_closing_j\n",
    "+\n",
    "median_age_i + median_age_j\n",
    "+\n",
    "population_density_i + population_density_j\n",
    "# +\n",
    "# average_surface_temperature_i + average_surface_temperature_j # Добавляет пропусков\n",
    "\n",
    " ,\n",
    " data = df\n",
    " ) %>% summary(cluster = ~ i+j)"
   ]
  },
  {
   "cell_type": "code",
   "execution_count": 51,
   "metadata": {
    "vscode": {
     "languageId": "r"
    }
   },
   "outputs": [
    {
     "name": "stderr",
     "output_type": "stream",
     "text": [
      "NOTE: 17,571 observations removed because of NA and infinite values (IV: 13,568/15,000).\n",
      "\n"
     ]
    },
    {
     "data": {
      "text/plain": [
       "TSLS estimation - Dep. Var.: log(v)\n",
       "                  Endo.    : log(deaths_i), log(deaths_j), C8EV_International_travel_controls_i, C8EV_International_travel_controls_j\n",
       "                  Instr.   : C1M_School_closing_i, C1M_School_closing_j, median_age_i, median_age_j, population_density_i, population_density_j, average_surface_temperature_i, average_surface_temperature_j\n",
       "Second stage: Dep. Var.: log(v)\n",
       "Observations: 52,736\n",
       "Fixed-effects: year: 3,  i^j: 19,208\n",
       "Standard-errors: Clustered (i & j) \n",
       "                                          Estimate Std. Error   t value\n",
       "fit_log(deaths_i)                        -0.039411   0.053465 -0.737125\n",
       "fit_log(deaths_j)                         0.032362   0.037318  0.867213\n",
       "fit_C8EV_International_travel_controls_i -0.079222   0.111158 -0.712696\n",
       "fit_C8EV_International_travel_controls_j -0.053372   0.081279 -0.656655\n",
       "                                         Pr(>|t|) \n",
       "fit_log(deaths_i)                         0.46209 \n",
       "fit_log(deaths_j)                         0.38708 \n",
       "fit_C8EV_International_travel_controls_i  0.47704 \n",
       "fit_C8EV_International_travel_controls_j  0.51232 \n",
       "---\n",
       "Signif. codes:  0 '***' 0.001 '**' 0.01 '*' 0.05 '.' 0.1 ' ' 1\n",
       "RMSE: 0.69744     Adj. R2:  0.955398\n",
       "                Within R2: -0.002891\n",
       "F-test (1st stage), log(deaths_i)                       : stat = 272.0    , p < 2.2e-16 , on 8 and 33,520 DoF.\n",
       "F-test (1st stage), log(deaths_j)                       : stat = 254.9    , p < 2.2e-16 , on 8 and 33,520 DoF.\n",
       "F-test (1st stage), C8EV_International_travel_controls_i: stat = 334.4    , p < 2.2e-16 , on 8 and 33,520 DoF.\n",
       "F-test (1st stage), C8EV_International_travel_controls_j: stat = 378.5    , p < 2.2e-16 , on 8 and 33,520 DoF.\n",
       "                                              Wu-Hausman: stat =   1.97925, p = 0.094693, on 4 and 33,518 DoF.\n",
       "                                                  Sargan: stat =  34.3    , p = 6.337e-7, on 4 DoF."
      ]
     },
     "metadata": {},
     "output_type": "display_data"
    },
    {
     "name": "stdout",
     "output_type": "stream",
     "text": [
      "Wald test, H0: joint nullity of fit_log(deaths_i), fit_log(deaths_j), fit_C8EV_International_travel_controls_i and fit_C8EV_International_travel_controls_j\n",
      " stat = 0.838281, p-value = 0.50057, on 4 and 33,522 DoF, VCOV: Clustered (i & j)."
     ]
    }
   ],
   "source": [
    "iv_both_endo_temperature = feols(log(v) ~  1 | year+i^j|\n",
    " log(deaths_i) + log(deaths_j) +\n",
    " C8EV_International_travel_controls_i + C8EV_International_travel_controls_j ~ \n",
    "# H6M_Facial_Coverings_i+H6M_Facial_Coverings_j\n",
    "# +\n",
    "C1M_School_closing_i+C1M_School_closing_j\n",
    "+\n",
    "median_age_i + median_age_j\n",
    "+\n",
    "population_density_i + population_density_j\n",
    "+\n",
    "average_surface_temperature_i + average_surface_temperature_j # Добавляет пропусков\n",
    "\n",
    " ,\n",
    " data = df\n",
    " )\n",
    "iv_both_endo_temperature %>% summary(cluster = ~ i+j)\n",
    "wald(iv_both_endo_temperature, keep = 'log|C8', vcov = ~i+j)"
   ]
  },
  {
   "cell_type": "code",
   "execution_count": 52,
   "metadata": {
    "vscode": {
     "languageId": "r"
    }
   },
   "outputs": [
    {
     "name": "stderr",
     "output_type": "stream",
     "text": [
      "NOTE: 13,906 observations removed because of NA and infinite values (RHS: 6,067, IV: 9,802/10,661).\n",
      "\n"
     ]
    },
    {
     "data": {
      "text/plain": [
       "TSLS estimation - Dep. Var.: log(v)\n",
       "                  Endo.    : C8EV_International_travel_controls_i, C8EV_International_travel_controls_j\n",
       "                  Instr.   : C1M_School_closing_i, C1M_School_closing_j, median_age_i, median_age_j, population_density_i, population_density_j\n",
       "Second stage: Dep. Var.: log(v)\n",
       "Observations: 56,401\n",
       "Fixed-effects: year: 3,  i^j: 20,605\n",
       "Standard-errors: Clustered (i & j) \n",
       "                                          Estimate Std. Error   t value\n",
       "fit_C8EV_International_travel_controls_i -0.109243   0.074697 -1.462470\n",
       "fit_C8EV_International_travel_controls_j -0.001104   0.063304 -0.017442\n",
       "log(deaths_i)                            -0.022025   0.011323 -1.945050\n",
       "log(deaths_j)                            -0.004603   0.008709 -0.528482\n",
       "                                         Pr(>|t|)    \n",
       "fit_C8EV_International_travel_controls_i 0.145416    \n",
       "fit_C8EV_International_travel_controls_j 0.986104    \n",
       "log(deaths_i)                            0.053381 .  \n",
       "log(deaths_j)                            0.597838    \n",
       "---\n",
       "Signif. codes:  0 '***' 0.001 '**' 0.01 '*' 0.05 '.' 0.1 ' ' 1\n",
       "RMSE: 0.702997     Adj. R2:  0.955271\n",
       "                 Within R2: -7.757e-4\n",
       "F-test (1st stage), C8EV_International_travel_controls_i: stat = 655.6    , p < 2.2e-16 , on 6 and 35,788 DoF.\n",
       "F-test (1st stage), C8EV_International_travel_controls_j: stat = 728.0    , p < 2.2e-16 , on 6 and 35,788 DoF.\n",
       "                                              Wu-Hausman: stat =   3.38946, p = 0.033738, on 2 and 35,788 DoF.\n",
       "                                                  Sargan: stat =  14.0    , p = 0.007432, on 4 DoF."
      ]
     },
     "metadata": {},
     "output_type": "display_data"
    }
   ],
   "source": [
    "# Как будто ограничения тоже эндогенные...\n",
    "# Но в своей схеме я считаю, что они экзогенные, потому что обосновали схему.\n",
    "# Если бы они были эндогенными, то наша оценка была бы смещена куда-то\n",
    "iv_itc_endo = feols(log(v) ~  1 + log(deaths_i) + log(deaths_j) | year+i^j|\n",
    " C8EV_International_travel_controls_i + C8EV_International_travel_controls_j ~ \n",
    "# H6M_Facial_Coverings_i+H6M_Facial_Coverings_j\n",
    "# +\n",
    "C1M_School_closing_i+C1M_School_closing_j\n",
    "+\n",
    "median_age_i + median_age_j\n",
    "+\n",
    "population_density_i + population_density_j\n",
    "# +\n",
    "# average_surface_temperature_i + average_surface_temperature_j # Добавляет пропусков\n",
    "\n",
    " ,\n",
    " data = df\n",
    " )\n",
    "iv_itc_endo %>% summary(cluster = ~ i+j)"
   ]
  },
  {
   "cell_type": "code",
   "execution_count": 53,
   "metadata": {
    "vscode": {
     "languageId": "r"
    }
   },
   "outputs": [
    {
     "name": "stderr",
     "output_type": "stream",
     "text": [
      "NOTE: 10,661 observations removed because of NA values (IV: 9,802/10,661).\n",
      "\n"
     ]
    },
    {
     "data": {
      "text/plain": [
       "TSLS estimation - Dep. Var.: log(v)\n",
       "                  Endo.    : C8EV_International_travel_controls_i, C8EV_International_travel_controls_j\n",
       "                  Instr.   : C1M_School_closing_i, C1M_School_closing_j, median_age_i, median_age_j, population_density_i, population_density_j\n",
       "Second stage: Dep. Var.: log(v)\n",
       "Observations: 59,646\n",
       "Fixed-effects: year: 3,  i^j: 21,418\n",
       "Standard-errors: Clustered (i & j) \n",
       "                                          Estimate Std. Error   t value\n",
       "fit_C8EV_International_travel_controls_i -0.171016   0.089467 -1.911504\n",
       "fit_C8EV_International_travel_controls_j -0.011865   0.070332 -0.168705\n",
       "                                         Pr(>|t|)    \n",
       "fit_C8EV_International_travel_controls_i 0.057556 .  \n",
       "fit_C8EV_International_travel_controls_j 0.866221    \n",
       "---\n",
       "Signif. codes:  0 '***' 0.001 '**' 0.01 '*' 0.05 '.' 0.1 ' ' 1\n",
       "RMSE: 0.719076     Adj. R2:  0.953829\n",
       "                 Within R2: -0.0052  \n",
       "F-test (1st stage), C8EV_International_travel_controls_i: stat = 464.1    , p < 2.2e-16 , on 6 and 38,222 DoF.\n",
       "F-test (1st stage), C8EV_International_travel_controls_j: stat = 492.7    , p < 2.2e-16 , on 6 and 38,222 DoF.\n",
       "                                              Wu-Hausman: stat =   7.93862, p = 3.573e-4, on 2 and 38,222 DoF.\n",
       "                                                  Sargan: stat =  13.5    , p = 0.009062, on 4 DoF."
      ]
     },
     "metadata": {},
     "output_type": "display_data"
    }
   ],
   "source": [
    "# Как будто ограничения тоже эндогенные...\n",
    "m8 = feols(log(v) ~  1 | year+i^j|\n",
    " C8EV_International_travel_controls_i + C8EV_International_travel_controls_j ~ \n",
    "# H6M_Facial_Coverings_i+H6M_Facial_Coverings_j\n",
    "# +\n",
    "C1M_School_closing_i+C1M_School_closing_j\n",
    "+\n",
    "median_age_i + median_age_j\n",
    "+\n",
    "population_density_i + population_density_j\n",
    "# +\n",
    "# average_surface_temperature_i + average_surface_temperature_j # Добавляет пропусков\n",
    "\n",
    " ,\n",
    " data = df\n",
    " )\n",
    "m8 %>% summary(cluster = ~ i+j)"
   ]
  },
  {
   "cell_type": "code",
   "execution_count": 54,
   "metadata": {
    "vscode": {
     "languageId": "r"
    }
   },
   "outputs": [
    {
     "name": "stderr",
     "output_type": "stream",
     "text": [
      "NOTE: 13,906 observations removed because of NA and infinite values (IV: 6,067/10,661).\n",
      "\n"
     ]
    },
    {
     "data": {
      "text/plain": [
       "TSLS estimation - Dep. Var.: log(v)\n",
       "                  Endo.    : log(deaths_i), log(deaths_j)\n",
       "                  Instr.   : C1M_School_closing_i, C1M_School_closing_j, median_age_i, median_age_j, population_density_i, population_density_j\n",
       "Second stage: Dep. Var.: log(v)\n",
       "Observations: 56,401\n",
       "Fixed-effects: year: 3,  i^j: 20,605\n",
       "Standard-errors: Clustered (i & j) \n",
       "                   Estimate Std. Error   t value Pr(>|t|) \n",
       "fit_log(deaths_i) -0.055536   0.039093 -1.420614  0.15722 \n",
       "fit_log(deaths_j)  0.002794   0.032980  0.084726  0.93258 \n",
       "---\n",
       "Signif. codes:  0 '***' 0.001 '**' 0.01 '*' 0.05 '.' 0.1 ' ' 1\n",
       "RMSE: 0.703585     Adj. R2:  0.955199\n",
       "                 Within R2: -0.002449\n",
       "F-test (1st stage), log(deaths_i): stat = 400.1    , p < 2.2e-16 , on 6 and 35,790 DoF.\n",
       "F-test (1st stage), log(deaths_j): stat = 366.2    , p < 2.2e-16 , on 6 and 35,790 DoF.\n",
       "                       Wu-Hausman: stat =   3.10761, p = 0.04472 , on 2 and 35,790 DoF.\n",
       "                           Sargan: stat =  23.7    , p = 9.052e-5, on 4 DoF."
      ]
     },
     "metadata": {},
     "output_type": "display_data"
    }
   ],
   "source": [
    "m9 = feols(log(v) ~  1 | year+i^j|\n",
    " log(deaths_i) + log(deaths_j) ~ \n",
    "# H6M_Facial_Coverings_i+H6M_Facial_Coverings_j\n",
    "# +\n",
    "C1M_School_closing_i+C1M_School_closing_j\n",
    "+\n",
    "median_age_i + median_age_j\n",
    "+\n",
    "population_density_i + population_density_j\n",
    "# +\n",
    "# average_surface_temperature_i + average_surface_temperature_j # Добавляет пропусков\n",
    "\n",
    " ,\n",
    " data = df\n",
    " )\n",
    "m9 %>% summary(cluster = ~ i+j)"
   ]
  },
  {
   "cell_type": "code",
   "execution_count": 55,
   "metadata": {
    "vscode": {
     "languageId": "r"
    }
   },
   "outputs": [
    {
     "data": {
      "text/html": [
       "<table class=\"dataframe\">\n",
       "<caption>A etable_df: 15 × 7</caption>\n",
       "<thead>\n",
       "\t<tr><th></th><th scope=col></th><th scope=col>pulled_tsls</th><th scope=col>fe_iv_year</th><th scope=col>fe_iv</th><th scope=col>iv_both_endo</th><th scope=col>iv_both_endo_t..</th><th scope=col>iv_itc_endo</th></tr>\n",
       "\t<tr><th></th><th scope=col>&lt;chr&gt;</th><th scope=col>&lt;chr&gt;</th><th scope=col>&lt;chr&gt;</th><th scope=col>&lt;chr&gt;</th><th scope=col>&lt;chr&gt;</th><th scope=col>&lt;chr&gt;</th><th scope=col>&lt;chr&gt;</th></tr>\n",
       "</thead>\n",
       "<tbody>\n",
       "\t<tr><th scope=row>1</th><td>Dependent Var.:                     </td><td>log(v)           </td><td>log(v)            </td><td>log(v)          </td><td>log(v)          </td><td>log(v)          </td><td>log(v)           </td></tr>\n",
       "\t<tr><th scope=row>2</th><td>                                    </td><td>                 </td><td>                  </td><td>                </td><td>                </td><td>                </td><td>                 </td></tr>\n",
       "\t<tr><th scope=row>3</th><td>Constant                            </td><td>7.559*** (0.5554)</td><td>                  </td><td>                </td><td>                </td><td>                </td><td>                 </td></tr>\n",
       "\t<tr><th scope=row>4</th><td>log(deaths_i)                       </td><td>-0.1873 (0.5692) </td><td>1.016*** (0.1485) </td><td>0.0132 (0.0400) </td><td>0.0026 (0.0372) </td><td>-0.0394 (0.0535)</td><td>-0.0220. (0.0113)</td></tr>\n",
       "\t<tr><th scope=row>5</th><td>log(deaths_j)                       </td><td>-0.3740 (0.6173) </td><td>0.6241*** (0.1151)</td><td>0.0192 (0.0285) </td><td>0.0059 (0.0370) </td><td>0.0324 (0.0373) </td><td>-0.0046 (0.0087) </td></tr>\n",
       "\t<tr><th scope=row>6</th><td>C8EV_International_travel_controls_i</td><td>0.3192 (0.2391)  </td><td>1.204*** (0.2708) </td><td>-0.0281 (0.0247)</td><td>-0.1527 (0.0978)</td><td>-0.0792 (0.1112)</td><td>-0.1092 (0.0747) </td></tr>\n",
       "\t<tr><th scope=row>7</th><td>C8EV_International_travel_controls_j</td><td>0.0376 (0.2275)  </td><td>0.8334*** (0.2012)</td><td>-0.0153 (0.0220)</td><td>-0.0194 (0.0861)</td><td>-0.0534 (0.0813)</td><td>-0.0011 (0.0633) </td></tr>\n",
       "\t<tr><th scope=row>8</th><td>Fixed-Effects:                      </td><td>-----------------</td><td>------------------</td><td>----------------</td><td>----------------</td><td>----------------</td><td>-----------------</td></tr>\n",
       "\t<tr><th scope=row>9</th><td>year                                </td><td>No               </td><td>Yes               </td><td>Yes             </td><td>Yes             </td><td>Yes             </td><td>Yes              </td></tr>\n",
       "\t<tr><th scope=row>10</th><td>i-j                                 </td><td>No               </td><td>No                </td><td>Yes             </td><td>Yes             </td><td>Yes             </td><td>Yes              </td></tr>\n",
       "\t<tr><th scope=row>11</th><td>____________________________________</td><td>_________________</td><td>__________________</td><td>________________</td><td>________________</td><td>________________</td><td>_________________</td></tr>\n",
       "\t<tr><th scope=row>12</th><td><span style=white-space:pre-wrap>S.E.: Clustered                     </span></td><td><span style=white-space:pre-wrap>by: i &amp; j        </span></td><td><span style=white-space:pre-wrap>by: i &amp; j         </span></td><td><span style=white-space:pre-wrap>by: i &amp; j       </span></td><td><span style=white-space:pre-wrap>by: i &amp; j       </span></td><td><span style=white-space:pre-wrap>by: i &amp; j       </span></td><td><span style=white-space:pre-wrap>by: i &amp; j        </span></td></tr>\n",
       "\t<tr><th scope=row>13</th><td>Observations                        </td><td>56,401           </td><td>56,401            </td><td>56,401          </td><td>56,401          </td><td>52,736          </td><td>56,401           </td></tr>\n",
       "\t<tr><th scope=row>14</th><td>R2                                  </td><td>-0.09846         </td><td>-0.05146          </td><td>0.97161         </td><td>0.97152         </td><td>0.97165         </td><td>0.97162          </td></tr>\n",
       "\t<tr><th scope=row>15</th><td>Within R2                           </td><td>--               </td><td>-0.05173          </td><td>-0.00114        </td><td>-0.00424        </td><td>-0.00289        </td><td>-0.00078         </td></tr>\n",
       "</tbody>\n",
       "</table>\n"
      ],
      "text/latex": [
       "A etable\\_df: 15 × 7\n",
       "\\begin{tabular}{r|lllllll}\n",
       "  &  & pulled\\_tsls & fe\\_iv\\_year & fe\\_iv & iv\\_both\\_endo & iv\\_both\\_endo\\_t.. & iv\\_itc\\_endo\\\\\n",
       "  & <chr> & <chr> & <chr> & <chr> & <chr> & <chr> & <chr>\\\\\n",
       "\\hline\n",
       "\t1 & Dependent Var.:                      & log(v)            & log(v)             & log(v)           & log(v)           & log(v)           & log(v)           \\\\\n",
       "\t2 &                                      &                   &                    &                  &                  &                  &                  \\\\\n",
       "\t3 & Constant                             & 7.559*** (0.5554) &                    &                  &                  &                  &                  \\\\\n",
       "\t4 & log(deaths\\_i)                        & -0.1873 (0.5692)  & 1.016*** (0.1485)  & 0.0132 (0.0400)  & 0.0026 (0.0372)  & -0.0394 (0.0535) & -0.0220. (0.0113)\\\\\n",
       "\t5 & log(deaths\\_j)                        & -0.3740 (0.6173)  & 0.6241*** (0.1151) & 0.0192 (0.0285)  & 0.0059 (0.0370)  & 0.0324 (0.0373)  & -0.0046 (0.0087) \\\\\n",
       "\t6 & C8EV\\_International\\_travel\\_controls\\_i & 0.3192 (0.2391)   & 1.204*** (0.2708)  & -0.0281 (0.0247) & -0.1527 (0.0978) & -0.0792 (0.1112) & -0.1092 (0.0747) \\\\\n",
       "\t7 & C8EV\\_International\\_travel\\_controls\\_j & 0.0376 (0.2275)   & 0.8334*** (0.2012) & -0.0153 (0.0220) & -0.0194 (0.0861) & -0.0534 (0.0813) & -0.0011 (0.0633) \\\\\n",
       "\t8 & Fixed-Effects:                       & ----------------- & ------------------ & ---------------- & ---------------- & ---------------- & -----------------\\\\\n",
       "\t9 & year                                 & No                & Yes                & Yes              & Yes              & Yes              & Yes              \\\\\n",
       "\t10 & i-j                                  & No                & No                 & Yes              & Yes              & Yes              & Yes              \\\\\n",
       "\t11 & \\_\\_\\_\\_\\_\\_\\_\\_\\_\\_\\_\\_\\_\\_\\_\\_\\_\\_\\_\\_\\_\\_\\_\\_\\_\\_\\_\\_\\_\\_\\_\\_\\_\\_\\_\\_ & \\_\\_\\_\\_\\_\\_\\_\\_\\_\\_\\_\\_\\_\\_\\_\\_\\_ & \\_\\_\\_\\_\\_\\_\\_\\_\\_\\_\\_\\_\\_\\_\\_\\_\\_\\_ & \\_\\_\\_\\_\\_\\_\\_\\_\\_\\_\\_\\_\\_\\_\\_\\_ & \\_\\_\\_\\_\\_\\_\\_\\_\\_\\_\\_\\_\\_\\_\\_\\_ & \\_\\_\\_\\_\\_\\_\\_\\_\\_\\_\\_\\_\\_\\_\\_\\_ & \\_\\_\\_\\_\\_\\_\\_\\_\\_\\_\\_\\_\\_\\_\\_\\_\\_\\\\\n",
       "\t12 & S.E.: Clustered                      & by: i \\& j         & by: i \\& j          & by: i \\& j        & by: i \\& j        & by: i \\& j        & by: i \\& j        \\\\\n",
       "\t13 & Observations                         & 56,401            & 56,401             & 56,401           & 56,401           & 52,736           & 56,401           \\\\\n",
       "\t14 & R2                                   & -0.09846          & -0.05146           & 0.97161          & 0.97152          & 0.97165          & 0.97162          \\\\\n",
       "\t15 & Within R2                            & --                & -0.05173           & -0.00114         & -0.00424         & -0.00289         & -0.00078         \\\\\n",
       "\\end{tabular}\n"
      ],
      "text/markdown": [
       "\n",
       "A etable_df: 15 × 7\n",
       "\n",
       "| <!--/--> | <!----> &lt;chr&gt; | pulled_tsls &lt;chr&gt; | fe_iv_year &lt;chr&gt; | fe_iv &lt;chr&gt; | iv_both_endo &lt;chr&gt; | iv_both_endo_t.. &lt;chr&gt; | iv_itc_endo &lt;chr&gt; |\n",
       "|---|---|---|---|---|---|---|---|\n",
       "| 1 | Dependent Var.:                      | log(v)            | log(v)             | log(v)           | log(v)           | log(v)           | log(v)            |\n",
       "| 2 | <!----> | <!----> | <!----> | <!----> | <!----> | <!----> | <!----> |\n",
       "| 3 | Constant                             | 7.559*** (0.5554) | <!----> | <!----> | <!----> | <!----> | <!----> |\n",
       "| 4 | log(deaths_i)                        | -0.1873 (0.5692)  | 1.016*** (0.1485)  | 0.0132 (0.0400)  | 0.0026 (0.0372)  | -0.0394 (0.0535) | -0.0220. (0.0113) |\n",
       "| 5 | log(deaths_j)                        | -0.3740 (0.6173)  | 0.6241*** (0.1151) | 0.0192 (0.0285)  | 0.0059 (0.0370)  | 0.0324 (0.0373)  | -0.0046 (0.0087)  |\n",
       "| 6 | C8EV_International_travel_controls_i | 0.3192 (0.2391)   | 1.204*** (0.2708)  | -0.0281 (0.0247) | -0.1527 (0.0978) | -0.0792 (0.1112) | -0.1092 (0.0747)  |\n",
       "| 7 | C8EV_International_travel_controls_j | 0.0376 (0.2275)   | 0.8334*** (0.2012) | -0.0153 (0.0220) | -0.0194 (0.0861) | -0.0534 (0.0813) | -0.0011 (0.0633)  |\n",
       "| 8 | Fixed-Effects:                       | ----------------- | ------------------ | ---------------- | ---------------- | ---------------- | ----------------- |\n",
       "| 9 | year                                 | No                | Yes                | Yes              | Yes              | Yes              | Yes               |\n",
       "| 10 | i-j                                  | No                | No                 | Yes              | Yes              | Yes              | Yes               |\n",
       "| 11 | ____________________________________ | _________________ | __________________ | ________________ | ________________ | ________________ | _________________ |\n",
       "| 12 | S.E.: Clustered                      | by: i &amp; j         | by: i &amp; j          | by: i &amp; j        | by: i &amp; j        | by: i &amp; j        | by: i &amp; j         |\n",
       "| 13 | Observations                         | 56,401            | 56,401             | 56,401           | 56,401           | 52,736           | 56,401            |\n",
       "| 14 | R2                                   | -0.09846          | -0.05146           | 0.97161          | 0.97152          | 0.97165          | 0.97162           |\n",
       "| 15 | Within R2                            | --                | -0.05173           | -0.00114         | -0.00424         | -0.00289         | -0.00078          |\n",
       "\n"
      ],
      "text/plain": [
       "                                        pulled_tsls       fe_iv_year        \n",
       "1  Dependent Var.:                      log(v)            log(v)            \n",
       "2                                                                           \n",
       "3  Constant                             7.559*** (0.5554)                   \n",
       "4  log(deaths_i)                        -0.1873 (0.5692)  1.016*** (0.1485) \n",
       "5  log(deaths_j)                        -0.3740 (0.6173)  0.6241*** (0.1151)\n",
       "6  C8EV_International_travel_controls_i 0.3192 (0.2391)   1.204*** (0.2708) \n",
       "7  C8EV_International_travel_controls_j 0.0376 (0.2275)   0.8334*** (0.2012)\n",
       "8  Fixed-Effects:                       ----------------- ------------------\n",
       "9  year                                 No                Yes               \n",
       "10 i-j                                  No                No                \n",
       "11 ____________________________________ _________________ __________________\n",
       "12 S.E.: Clustered                      by: i & j         by: i & j         \n",
       "13 Observations                         56,401            56,401            \n",
       "14 R2                                   -0.09846          -0.05146          \n",
       "15 Within R2                            --                -0.05173          \n",
       "   fe_iv            iv_both_endo     iv_both_endo_t.. iv_itc_endo      \n",
       "1  log(v)           log(v)           log(v)           log(v)           \n",
       "2                                                                      \n",
       "3                                                                      \n",
       "4  0.0132 (0.0400)  0.0026 (0.0372)  -0.0394 (0.0535) -0.0220. (0.0113)\n",
       "5  0.0192 (0.0285)  0.0059 (0.0370)  0.0324 (0.0373)  -0.0046 (0.0087) \n",
       "6  -0.0281 (0.0247) -0.1527 (0.0978) -0.0792 (0.1112) -0.1092 (0.0747) \n",
       "7  -0.0153 (0.0220) -0.0194 (0.0861) -0.0534 (0.0813) -0.0011 (0.0633) \n",
       "8  ---------------- ---------------- ---------------- -----------------\n",
       "9  Yes              Yes              Yes              Yes              \n",
       "10 Yes              Yes              Yes              Yes              \n",
       "11 ________________ ________________ ________________ _________________\n",
       "12 by: i & j        by: i & j        by: i & j        by: i & j        \n",
       "13 56,401           56,401           52,736           56,401           \n",
       "14 0.97161          0.97152          0.97165          0.97162          \n",
       "15 -0.00114         -0.00424         -0.00289         -0.00078         "
      ]
     },
     "metadata": {},
     "output_type": "display_data"
    }
   ],
   "source": [
    "# Слово влияние это экспертное мнение на основе методов\n",
    "# Температура это ложная корреляция, не надо\n",
    "# Колонка 4 --- у нас нет данных, чтобы оценить эту связь. Недоидентифицированная система (всё на всё влияет)\n",
    "etable(pulled_tsls, fe_iv_year, fe_iv, iv_both_endo, iv_both_endo_temperature, iv_itc_endo, vcov = ~i+j, signif.code = signif.code)"
   ]
  },
  {
   "cell_type": "markdown",
   "metadata": {},
   "source": [
    "## Три пространственные регрессии (как в курсовой)\n",
    "\n",
    "Но в такую спецификацию нельзя добавить фиксированные эффекты, поэтому почти наверное без инструментов будет смещение из-за пропущенных переменных"
   ]
  },
  {
   "cell_type": "code",
   "execution_count": 28,
   "metadata": {
    "vscode": {
     "languageId": "r"
    }
   },
   "outputs": [
    {
     "name": "stderr",
     "output_type": "stream",
     "text": [
      "NOTE: 5,531 observations removed because of NA and infinite values (RHS: 5,531).\n",
      "\n",
      "NOTE: 4,126 observations removed because of NA and infinite values (RHS: 4,126).\n",
      "\n",
      "NOTE: 3,911 observations removed because of NA and infinite values (RHS: 3,911).\n",
      "\n"
     ]
    },
    {
     "data": {
      "text/plain": [
       "OLS estimation, Dep. Var.: log(v)\n",
       "Observations: 18,391\n",
       "Standard-errors: Heteroskedasticity-robust \n",
       "                                     Estimate Std. Error t value  Pr(>|t|)    \n",
       "(Intercept)                          5.563712   0.202765 27.4392 < 2.2e-16 ***\n",
       "log(deaths_i)                        0.372474   0.014981 24.8636 < 2.2e-16 ***\n",
       "log(deaths_j)                        0.244586   0.014349 17.0458 < 2.2e-16 ***\n",
       "C8EV_International_travel_controls_i 0.895261   0.056778 15.7678 < 2.2e-16 ***\n",
       "C8EV_International_travel_controls_j 0.680061   0.057191 11.8910 < 2.2e-16 ***\n",
       "---\n",
       "Signif. codes:  0 '***' 0.001 '**' 0.01 '*' 0.05 '.' 0.1 ' ' 1\n",
       "RMSE: 3.9653   Adj. R2: 0.064359"
      ]
     },
     "metadata": {},
     "output_type": "display_data"
    },
    {
     "data": {
      "text/plain": [
       "OLS estimation, Dep. Var.: log(v)\n",
       "Observations: 19,432\n",
       "Standard-errors: Heteroskedasticity-robust \n",
       "                                     Estimate Std. Error  t value   Pr(>|t|)\n",
       "(Intercept)                          4.294474   0.128804 33.34124  < 2.2e-16\n",
       "log(deaths_i)                        0.291123   0.019402 15.00443  < 2.2e-16\n",
       "log(deaths_j)                        0.111539   0.017035  6.54750 5.9973e-11\n",
       "C8EV_International_travel_controls_i 1.147440   0.038908 29.49124  < 2.2e-16\n",
       "C8EV_International_travel_controls_j 0.835839   0.039068 21.39448  < 2.2e-16\n",
       "                                        \n",
       "(Intercept)                          ***\n",
       "log(deaths_i)                        ***\n",
       "log(deaths_j)                        ***\n",
       "C8EV_International_travel_controls_i ***\n",
       "C8EV_International_travel_controls_j ***\n",
       "---\n",
       "Signif. codes:  0 '***' 0.001 '**' 0.01 '*' 0.05 '.' 0.1 ' ' 1\n",
       "RMSE: 4.03296   Adj. R2: 0.077936"
      ]
     },
     "metadata": {},
     "output_type": "display_data"
    },
    {
     "data": {
      "text/plain": [
       "OLS estimation, Dep. Var.: log(v)\n",
       "Observations: 18,916\n",
       "Standard-errors: Heteroskedasticity-robust \n",
       "                                     Estimate Std. Error   t value   Pr(>|t|)\n",
       "(Intercept)                          8.909318   0.078977 112.80953  < 2.2e-16\n",
       "log(deaths_i)                        0.483443   0.015579  31.03087  < 2.2e-16\n",
       "log(deaths_j)                        0.258449   0.014147  18.26831  < 2.2e-16\n",
       "C8EV_International_travel_controls_i 0.671115   0.072550   9.25034  < 2.2e-16\n",
       "C8EV_International_travel_controls_j 0.365265   0.066691   5.47697 4.3819e-08\n",
       "                                        \n",
       "(Intercept)                          ***\n",
       "log(deaths_i)                        ***\n",
       "log(deaths_j)                        ***\n",
       "C8EV_International_travel_controls_i ***\n",
       "C8EV_International_travel_controls_j ***\n",
       "---\n",
       "Signif. codes:  0 '***' 0.001 '**' 0.01 '*' 0.05 '.' 0.1 ' ' 1\n",
       "RMSE: 4.07348   Adj. R2: 0.061527"
      ]
     },
     "metadata": {},
     "output_type": "display_data"
    },
    {
     "data": {
      "text/html": [
       "<table class=\"dataframe\">\n",
       "<caption>A etable_df: 12 × 4</caption>\n",
       "<thead>\n",
       "\t<tr><th></th><th scope=col></th><th scope=col>m_2020</th><th scope=col>m_2021</th><th scope=col>m_2022</th></tr>\n",
       "\t<tr><th></th><th scope=col>&lt;chr&gt;</th><th scope=col>&lt;chr&gt;</th><th scope=col>&lt;chr&gt;</th><th scope=col>&lt;chr&gt;</th></tr>\n",
       "</thead>\n",
       "<tbody>\n",
       "\t<tr><th scope=row>1</th><td>Dependent Var.:                     </td><td>log(v)            </td><td>log(v)            </td><td>log(v)            </td></tr>\n",
       "\t<tr><th scope=row>2</th><td>                                    </td><td>                  </td><td>                  </td><td>                  </td></tr>\n",
       "\t<tr><th scope=row>3</th><td>Constant                            </td><td>5.564*** (0.2028) </td><td>4.294*** (0.1288) </td><td>8.909*** (0.0790) </td></tr>\n",
       "\t<tr><th scope=row>4</th><td>log(deaths_i)                       </td><td>0.3725*** (0.0150)</td><td>0.2911*** (0.0194)</td><td>0.4834*** (0.0156)</td></tr>\n",
       "\t<tr><th scope=row>5</th><td>log(deaths_j)                       </td><td>0.2446*** (0.0143)</td><td>0.1115*** (0.0170)</td><td>0.2584*** (0.0141)</td></tr>\n",
       "\t<tr><th scope=row>6</th><td>C8EV_International_travel_controls_i</td><td>0.8953*** (0.0568)</td><td>1.147*** (0.0389) </td><td>0.6711*** (0.0726)</td></tr>\n",
       "\t<tr><th scope=row>7</th><td>C8EV_International_travel_controls_j</td><td>0.6801*** (0.0572)</td><td>0.8358*** (0.0391)</td><td>0.3653*** (0.0667)</td></tr>\n",
       "\t<tr><th scope=row>8</th><td>____________________________________</td><td>__________________</td><td>__________________</td><td>__________________</td></tr>\n",
       "\t<tr><th scope=row>9</th><td>S.E. type                           </td><td>Heteroskedas.-rob.</td><td>Heteroskedas.-rob.</td><td>Heteroskedas.-rob.</td></tr>\n",
       "\t<tr><th scope=row>10</th><td>Observations                        </td><td>18,391            </td><td>19,432            </td><td>18,916            </td></tr>\n",
       "\t<tr><th scope=row>11</th><td>R2                                  </td><td>0.06456           </td><td>0.07813           </td><td>0.06173           </td></tr>\n",
       "\t<tr><th scope=row>12</th><td>Adj. R2                             </td><td>0.06436           </td><td>0.07794           </td><td>0.06153           </td></tr>\n",
       "</tbody>\n",
       "</table>\n"
      ],
      "text/latex": [
       "A etable\\_df: 12 × 4\n",
       "\\begin{tabular}{r|llll}\n",
       "  &  & m\\_2020 & m\\_2021 & m\\_2022\\\\\n",
       "  & <chr> & <chr> & <chr> & <chr>\\\\\n",
       "\\hline\n",
       "\t1 & Dependent Var.:                      & log(v)             & log(v)             & log(v)            \\\\\n",
       "\t2 &                                      &                    &                    &                   \\\\\n",
       "\t3 & Constant                             & 5.564*** (0.2028)  & 4.294*** (0.1288)  & 8.909*** (0.0790) \\\\\n",
       "\t4 & log(deaths\\_i)                        & 0.3725*** (0.0150) & 0.2911*** (0.0194) & 0.4834*** (0.0156)\\\\\n",
       "\t5 & log(deaths\\_j)                        & 0.2446*** (0.0143) & 0.1115*** (0.0170) & 0.2584*** (0.0141)\\\\\n",
       "\t6 & C8EV\\_International\\_travel\\_controls\\_i & 0.8953*** (0.0568) & 1.147*** (0.0389)  & 0.6711*** (0.0726)\\\\\n",
       "\t7 & C8EV\\_International\\_travel\\_controls\\_j & 0.6801*** (0.0572) & 0.8358*** (0.0391) & 0.3653*** (0.0667)\\\\\n",
       "\t8 & \\_\\_\\_\\_\\_\\_\\_\\_\\_\\_\\_\\_\\_\\_\\_\\_\\_\\_\\_\\_\\_\\_\\_\\_\\_\\_\\_\\_\\_\\_\\_\\_\\_\\_\\_\\_ & \\_\\_\\_\\_\\_\\_\\_\\_\\_\\_\\_\\_\\_\\_\\_\\_\\_\\_ & \\_\\_\\_\\_\\_\\_\\_\\_\\_\\_\\_\\_\\_\\_\\_\\_\\_\\_ & \\_\\_\\_\\_\\_\\_\\_\\_\\_\\_\\_\\_\\_\\_\\_\\_\\_\\_\\\\\n",
       "\t9 & S.E. type                            & Heteroskedas.-rob. & Heteroskedas.-rob. & Heteroskedas.-rob.\\\\\n",
       "\t10 & Observations                         & 18,391             & 19,432             & 18,916            \\\\\n",
       "\t11 & R2                                   & 0.06456            & 0.07813            & 0.06173           \\\\\n",
       "\t12 & Adj. R2                              & 0.06436            & 0.07794            & 0.06153           \\\\\n",
       "\\end{tabular}\n"
      ],
      "text/markdown": [
       "\n",
       "A etable_df: 12 × 4\n",
       "\n",
       "| <!--/--> | <!----> &lt;chr&gt; | m_2020 &lt;chr&gt; | m_2021 &lt;chr&gt; | m_2022 &lt;chr&gt; |\n",
       "|---|---|---|---|---|\n",
       "| 1 | Dependent Var.:                      | log(v)             | log(v)             | log(v)             |\n",
       "| 2 | <!----> | <!----> | <!----> | <!----> |\n",
       "| 3 | Constant                             | 5.564*** (0.2028)  | 4.294*** (0.1288)  | 8.909*** (0.0790)  |\n",
       "| 4 | log(deaths_i)                        | 0.3725*** (0.0150) | 0.2911*** (0.0194) | 0.4834*** (0.0156) |\n",
       "| 5 | log(deaths_j)                        | 0.2446*** (0.0143) | 0.1115*** (0.0170) | 0.2584*** (0.0141) |\n",
       "| 6 | C8EV_International_travel_controls_i | 0.8953*** (0.0568) | 1.147*** (0.0389)  | 0.6711*** (0.0726) |\n",
       "| 7 | C8EV_International_travel_controls_j | 0.6801*** (0.0572) | 0.8358*** (0.0391) | 0.3653*** (0.0667) |\n",
       "| 8 | ____________________________________ | __________________ | __________________ | __________________ |\n",
       "| 9 | S.E. type                            | Heteroskedas.-rob. | Heteroskedas.-rob. | Heteroskedas.-rob. |\n",
       "| 10 | Observations                         | 18,391             | 19,432             | 18,916             |\n",
       "| 11 | R2                                   | 0.06456            | 0.07813            | 0.06173            |\n",
       "| 12 | Adj. R2                              | 0.06436            | 0.07794            | 0.06153            |\n",
       "\n"
      ],
      "text/plain": [
       "                                        m_2020             m_2021            \n",
       "1  Dependent Var.:                      log(v)             log(v)            \n",
       "2                                                                            \n",
       "3  Constant                             5.564*** (0.2028)  4.294*** (0.1288) \n",
       "4  log(deaths_i)                        0.3725*** (0.0150) 0.2911*** (0.0194)\n",
       "5  log(deaths_j)                        0.2446*** (0.0143) 0.1115*** (0.0170)\n",
       "6  C8EV_International_travel_controls_i 0.8953*** (0.0568) 1.147*** (0.0389) \n",
       "7  C8EV_International_travel_controls_j 0.6801*** (0.0572) 0.8358*** (0.0391)\n",
       "8  ____________________________________ __________________ __________________\n",
       "9  S.E. type                            Heteroskedas.-rob. Heteroskedas.-rob.\n",
       "10 Observations                         18,391             19,432            \n",
       "11 R2                                   0.06456            0.07813           \n",
       "12 Adj. R2                              0.06436            0.07794           \n",
       "   m_2022            \n",
       "1  log(v)            \n",
       "2                    \n",
       "3  8.909*** (0.0790) \n",
       "4  0.4834*** (0.0156)\n",
       "5  0.2584*** (0.0141)\n",
       "6  0.6711*** (0.0726)\n",
       "7  0.3653*** (0.0667)\n",
       "8  __________________\n",
       "9  Heteroskedas.-rob.\n",
       "10 18,916            \n",
       "11 0.06173           \n",
       "12 0.06153           "
      ]
     },
     "metadata": {},
     "output_type": "display_data"
    }
   ],
   "source": [
    "# Без инструментов.\n",
    "m_2020 = feols(log(v) ~  1+log(deaths_i) + log(deaths_j) +\n",
    " C8EV_International_travel_controls_i + C8EV_International_travel_controls_j ,\n",
    " data = df %>% filter(year == '2020')\n",
    " )\n",
    "m_2021 = feols(log(v) ~  1+log(deaths_i) + log(deaths_j) +\n",
    " C8EV_International_travel_controls_i + C8EV_International_travel_controls_j,\n",
    " data = df %>% filter(year == '2021')\n",
    " )\n",
    "m_2022 = feols(log(v) ~  1+log(deaths_i) + log(deaths_j) +\n",
    " C8EV_International_travel_controls_i + C8EV_International_travel_controls_j,\n",
    " data = df %>% filter(year == '2022')\n",
    " )\n",
    "summary(m_2020, vcov = 'hc1') \n",
    "summary(m_2021, vcov = 'hc1') \n",
    "summary(m_2022, vcov = 'hc1') \n",
    "etable(m_2020, m_2021, m_2022, vcov = 'hc1', signif.code = signif.code)"
   ]
  },
  {
   "cell_type": "code",
   "execution_count": 29,
   "metadata": {
    "vscode": {
     "languageId": "r"
    }
   },
   "outputs": [
    {
     "name": "stderr",
     "output_type": "stream",
     "text": [
      "NOTE: 5,531 observations removed because of NA and infinite values (RHS: 3,419, IV: 3,381/3,419).\n",
      "\n",
      "NOTE: 4,126 observations removed because of NA and infinite values (RHS: 3,290, IV: 1,557/3,290).\n",
      "\n",
      "NOTE: 4,249 observations removed because of NA and infinite values (RHS: 3,093, IV: 1,129/3,952).\n",
      "\n"
     ]
    },
    {
     "data": {
      "text/plain": [
       "TSLS estimation - Dep. Var.: log(v)\n",
       "                  Endo.    : log(deaths_i), log(deaths_j)\n",
       "                  Instr.   : C1M_School_closing_i, C1M_School_closing_j, median_age_i, median_age_j, population_density_i, population_density_j\n",
       "Second stage: Dep. Var.: log(v)\n",
       "Observations: 18,391\n",
       "Standard-errors: Heteroskedasticity-robust \n",
       "                                     Estimate Std. Error t value  Pr(>|t|)    \n",
       "(Intercept)                          5.969386   0.213890 27.9086 < 2.2e-16 ***\n",
       "fit_log(deaths_i)                    0.902226   0.022833 39.5137 < 2.2e-16 ***\n",
       "fit_log(deaths_j)                    0.558973   0.020960 26.6685 < 2.2e-16 ***\n",
       "C8EV_International_travel_controls_i 1.056775   0.061515 17.1791 < 2.2e-16 ***\n",
       "C8EV_International_travel_controls_j 0.784651   0.060168 13.0409 < 2.2e-16 ***\n",
       "---\n",
       "Signif. codes:  0 '***' 0.001 '**' 0.01 '*' 0.05 '.' 0.1 ' ' 1\n",
       "RMSE: 4.16015   Adj. R2: -0.029856\n",
       "F-test (1st stage), log(deaths_i): stat = 2,699.8, p < 2.2e-16, on 6 and 18,382 DoF.\n",
       "F-test (1st stage), log(deaths_j): stat = 2,843.7, p < 2.2e-16, on 6 and 18,382 DoF.\n",
       "                       Wu-Hausman: stat =   885.3, p < 2.2e-16, on 2 and 18,384 DoF.\n",
       "                           Sargan: stat =   507.3, p < 2.2e-16, on 4 DoF."
      ]
     },
     "metadata": {},
     "output_type": "display_data"
    },
    {
     "data": {
      "text/plain": [
       "TSLS estimation - Dep. Var.: log(v)\n",
       "                  Endo.    : log(deaths_i), log(deaths_j)\n",
       "                  Instr.   : C1M_School_closing_i, C1M_School_closing_j, median_age_i, median_age_j, population_density_i, population_density_j\n",
       "Second stage: Dep. Var.: log(v)\n",
       "Observations: 19,432\n",
       "Standard-errors: Heteroskedasticity-robust \n",
       "                                     Estimate Std. Error t value  Pr(>|t|)    \n",
       "(Intercept)                          4.481759   0.137363 32.6271 < 2.2e-16 ***\n",
       "fit_log(deaths_i)                    1.039850   0.029786 34.9101 < 2.2e-16 ***\n",
       "fit_log(deaths_j)                    0.568131   0.026997 21.0446 < 2.2e-16 ***\n",
       "C8EV_International_travel_controls_i 1.146007   0.041462 27.6397 < 2.2e-16 ***\n",
       "C8EV_International_travel_controls_j 0.833670   0.041619 20.0308 < 2.2e-16 ***\n",
       "---\n",
       "Signif. codes:  0 '***' 0.001 '**' 0.01 '*' 0.05 '.' 0.1 ' ' 1\n",
       "RMSE: 4.31431   Adj. R2: -0.055203\n",
       "F-test (1st stage), log(deaths_i): stat = 2,100.5, p < 2.2e-16, on 6 and 19,423 DoF.\n",
       "F-test (1st stage), log(deaths_j): stat = 2,295.0, p < 2.2e-16, on 6 and 19,423 DoF.\n",
       "                       Wu-Hausman: stat = 1,026.2, p < 2.2e-16, on 2 and 19,425 DoF.\n",
       "                           Sargan: stat =   203.5, p < 2.2e-16, on 4 DoF."
      ]
     },
     "metadata": {},
     "output_type": "display_data"
    },
    {
     "data": {
      "text/plain": [
       "TSLS estimation - Dep. Var.: log(v)\n",
       "                  Endo.    : log(deaths_i), log(deaths_j)\n",
       "                  Instr.   : C1M_School_closing_i, C1M_School_closing_j, median_age_i, median_age_j, population_density_i, population_density_j\n",
       "Second stage: Dep. Var.: log(v)\n",
       "Observations: 18,578\n",
       "Standard-errors: Heteroskedasticity-robust \n",
       "                                     Estimate Std. Error  t value  Pr(>|t|)    \n",
       "(Intercept)                          8.938381   0.082064 108.9203 < 2.2e-16 ***\n",
       "fit_log(deaths_i)                    0.871966   0.020231  43.1007 < 2.2e-16 ***\n",
       "fit_log(deaths_j)                    0.561645   0.019106  29.3965 < 2.2e-16 ***\n",
       "C8EV_International_travel_controls_i 1.289039   0.078296  16.4637 < 2.2e-16 ***\n",
       "C8EV_International_travel_controls_j 0.796659   0.073831  10.7904 < 2.2e-16 ***\n",
       "---\n",
       "Signif. codes:  0 '***' 0.001 '**' 0.01 '*' 0.05 '.' 0.1 ' ' 1\n",
       "RMSE: 4.18539   Adj. R2: 0.013015\n",
       "F-test (1st stage), log(deaths_i): stat = 5,398.6, p < 2.2e-16 , on 6 and 18,569 DoF.\n",
       "F-test (1st stage), log(deaths_j): stat = 5,644.8, p < 2.2e-16 , on 6 and 18,569 DoF.\n",
       "                       Wu-Hausman: stat =   898.9, p < 2.2e-16 , on 2 and 18,571 DoF.\n",
       "                           Sargan: stat =    31.0, p = 3.067e-6, on 4 DoF."
      ]
     },
     "metadata": {},
     "output_type": "display_data"
    },
    {
     "data": {
      "text/html": [
       "<table class=\"dataframe\">\n",
       "<caption>A etable_df: 12 × 4</caption>\n",
       "<thead>\n",
       "\t<tr><th></th><th scope=col></th><th scope=col>m_2020</th><th scope=col>m_2021</th><th scope=col>m_2022</th></tr>\n",
       "\t<tr><th></th><th scope=col>&lt;chr&gt;</th><th scope=col>&lt;chr&gt;</th><th scope=col>&lt;chr&gt;</th><th scope=col>&lt;chr&gt;</th></tr>\n",
       "</thead>\n",
       "<tbody>\n",
       "\t<tr><th scope=row>1</th><td>Dependent Var.:                     </td><td>log(v)            </td><td>log(v)            </td><td>log(v)            </td></tr>\n",
       "\t<tr><th scope=row>2</th><td>                                    </td><td>                  </td><td>                  </td><td>                  </td></tr>\n",
       "\t<tr><th scope=row>3</th><td>Constant                            </td><td>5.969*** (0.2139) </td><td>4.482*** (0.1374) </td><td>8.938*** (0.0821) </td></tr>\n",
       "\t<tr><th scope=row>4</th><td>log(deaths_i)                       </td><td>0.9022*** (0.0228)</td><td>1.040*** (0.0298) </td><td>0.8720*** (0.0202)</td></tr>\n",
       "\t<tr><th scope=row>5</th><td>log(deaths_j)                       </td><td>0.5590*** (0.0210)</td><td>0.5681*** (0.0270)</td><td>0.5616*** (0.0191)</td></tr>\n",
       "\t<tr><th scope=row>6</th><td>C8EV_International_travel_controls_i</td><td>1.057*** (0.0615) </td><td>1.146*** (0.0415) </td><td>1.289*** (0.0783) </td></tr>\n",
       "\t<tr><th scope=row>7</th><td>C8EV_International_travel_controls_j</td><td>0.7847*** (0.0602)</td><td>0.8337*** (0.0416)</td><td>0.7967*** (0.0738)</td></tr>\n",
       "\t<tr><th scope=row>8</th><td>____________________________________</td><td>__________________</td><td>__________________</td><td>__________________</td></tr>\n",
       "\t<tr><th scope=row>9</th><td>S.E. type                           </td><td>Heteroskedas.-rob.</td><td>Heteroskedas.-rob.</td><td>Heteroskedas.-rob.</td></tr>\n",
       "\t<tr><th scope=row>10</th><td>Observations                        </td><td>18,391            </td><td>19,432            </td><td>18,578            </td></tr>\n",
       "\t<tr><th scope=row>11</th><td>R2                                  </td><td>-0.02963          </td><td>-0.05499          </td><td>0.01323           </td></tr>\n",
       "\t<tr><th scope=row>12</th><td>Adj. R2                             </td><td>-0.02986          </td><td>-0.05520          </td><td>0.01302           </td></tr>\n",
       "</tbody>\n",
       "</table>\n"
      ],
      "text/latex": [
       "A etable\\_df: 12 × 4\n",
       "\\begin{tabular}{r|llll}\n",
       "  &  & m\\_2020 & m\\_2021 & m\\_2022\\\\\n",
       "  & <chr> & <chr> & <chr> & <chr>\\\\\n",
       "\\hline\n",
       "\t1 & Dependent Var.:                      & log(v)             & log(v)             & log(v)            \\\\\n",
       "\t2 &                                      &                    &                    &                   \\\\\n",
       "\t3 & Constant                             & 5.969*** (0.2139)  & 4.482*** (0.1374)  & 8.938*** (0.0821) \\\\\n",
       "\t4 & log(deaths\\_i)                        & 0.9022*** (0.0228) & 1.040*** (0.0298)  & 0.8720*** (0.0202)\\\\\n",
       "\t5 & log(deaths\\_j)                        & 0.5590*** (0.0210) & 0.5681*** (0.0270) & 0.5616*** (0.0191)\\\\\n",
       "\t6 & C8EV\\_International\\_travel\\_controls\\_i & 1.057*** (0.0615)  & 1.146*** (0.0415)  & 1.289*** (0.0783) \\\\\n",
       "\t7 & C8EV\\_International\\_travel\\_controls\\_j & 0.7847*** (0.0602) & 0.8337*** (0.0416) & 0.7967*** (0.0738)\\\\\n",
       "\t8 & \\_\\_\\_\\_\\_\\_\\_\\_\\_\\_\\_\\_\\_\\_\\_\\_\\_\\_\\_\\_\\_\\_\\_\\_\\_\\_\\_\\_\\_\\_\\_\\_\\_\\_\\_\\_ & \\_\\_\\_\\_\\_\\_\\_\\_\\_\\_\\_\\_\\_\\_\\_\\_\\_\\_ & \\_\\_\\_\\_\\_\\_\\_\\_\\_\\_\\_\\_\\_\\_\\_\\_\\_\\_ & \\_\\_\\_\\_\\_\\_\\_\\_\\_\\_\\_\\_\\_\\_\\_\\_\\_\\_\\\\\n",
       "\t9 & S.E. type                            & Heteroskedas.-rob. & Heteroskedas.-rob. & Heteroskedas.-rob.\\\\\n",
       "\t10 & Observations                         & 18,391             & 19,432             & 18,578            \\\\\n",
       "\t11 & R2                                   & -0.02963           & -0.05499           & 0.01323           \\\\\n",
       "\t12 & Adj. R2                              & -0.02986           & -0.05520           & 0.01302           \\\\\n",
       "\\end{tabular}\n"
      ],
      "text/markdown": [
       "\n",
       "A etable_df: 12 × 4\n",
       "\n",
       "| <!--/--> | <!----> &lt;chr&gt; | m_2020 &lt;chr&gt; | m_2021 &lt;chr&gt; | m_2022 &lt;chr&gt; |\n",
       "|---|---|---|---|---|\n",
       "| 1 | Dependent Var.:                      | log(v)             | log(v)             | log(v)             |\n",
       "| 2 | <!----> | <!----> | <!----> | <!----> |\n",
       "| 3 | Constant                             | 5.969*** (0.2139)  | 4.482*** (0.1374)  | 8.938*** (0.0821)  |\n",
       "| 4 | log(deaths_i)                        | 0.9022*** (0.0228) | 1.040*** (0.0298)  | 0.8720*** (0.0202) |\n",
       "| 5 | log(deaths_j)                        | 0.5590*** (0.0210) | 0.5681*** (0.0270) | 0.5616*** (0.0191) |\n",
       "| 6 | C8EV_International_travel_controls_i | 1.057*** (0.0615)  | 1.146*** (0.0415)  | 1.289*** (0.0783)  |\n",
       "| 7 | C8EV_International_travel_controls_j | 0.7847*** (0.0602) | 0.8337*** (0.0416) | 0.7967*** (0.0738) |\n",
       "| 8 | ____________________________________ | __________________ | __________________ | __________________ |\n",
       "| 9 | S.E. type                            | Heteroskedas.-rob. | Heteroskedas.-rob. | Heteroskedas.-rob. |\n",
       "| 10 | Observations                         | 18,391             | 19,432             | 18,578             |\n",
       "| 11 | R2                                   | -0.02963           | -0.05499           | 0.01323            |\n",
       "| 12 | Adj. R2                              | -0.02986           | -0.05520           | 0.01302            |\n",
       "\n"
      ],
      "text/plain": [
       "                                        m_2020             m_2021            \n",
       "1  Dependent Var.:                      log(v)             log(v)            \n",
       "2                                                                            \n",
       "3  Constant                             5.969*** (0.2139)  4.482*** (0.1374) \n",
       "4  log(deaths_i)                        0.9022*** (0.0228) 1.040*** (0.0298) \n",
       "5  log(deaths_j)                        0.5590*** (0.0210) 0.5681*** (0.0270)\n",
       "6  C8EV_International_travel_controls_i 1.057*** (0.0615)  1.146*** (0.0415) \n",
       "7  C8EV_International_travel_controls_j 0.7847*** (0.0602) 0.8337*** (0.0416)\n",
       "8  ____________________________________ __________________ __________________\n",
       "9  S.E. type                            Heteroskedas.-rob. Heteroskedas.-rob.\n",
       "10 Observations                         18,391             19,432            \n",
       "11 R2                                   -0.02963           -0.05499          \n",
       "12 Adj. R2                              -0.02986           -0.05520          \n",
       "   m_2022            \n",
       "1  log(v)            \n",
       "2                    \n",
       "3  8.938*** (0.0821) \n",
       "4  0.8720*** (0.0202)\n",
       "5  0.5616*** (0.0191)\n",
       "6  1.289*** (0.0783) \n",
       "7  0.7967*** (0.0738)\n",
       "8  __________________\n",
       "9  Heteroskedas.-rob.\n",
       "10 18,578            \n",
       "11 0.01323           \n",
       "12 0.01302           "
      ]
     },
     "metadata": {},
     "output_type": "display_data"
    },
    {
     "data": {
      "text/html": [
       "<table class=\"dataframe\">\n",
       "<caption>A etable_df: 12 × 4</caption>\n",
       "<thead>\n",
       "\t<tr><th></th><th scope=col></th><th scope=col>m_2020</th><th scope=col>m_2021</th><th scope=col>m_2022</th></tr>\n",
       "\t<tr><th></th><th scope=col>&lt;chr&gt;</th><th scope=col>&lt;chr&gt;</th><th scope=col>&lt;chr&gt;</th><th scope=col>&lt;chr&gt;</th></tr>\n",
       "</thead>\n",
       "<tbody>\n",
       "\t<tr><th scope=row>1</th><td>Dependent Var.:                     </td><td>log(v)            </td><td>log(v)            </td><td>log(v)            </td></tr>\n",
       "\t<tr><th scope=row>2</th><td>                                    </td><td>                  </td><td>                  </td><td>                  </td></tr>\n",
       "\t<tr><th scope=row>3</th><td>Constant                            </td><td>5.969*** (1.265)  </td><td>4.482*** (0.7216) </td><td>8.938*** (0.5137) </td></tr>\n",
       "\t<tr><th scope=row>4</th><td>log(deaths_i)                       </td><td>0.9022*** (0.1570)</td><td>1.040*** (0.2066) </td><td>0.8720*** (0.1270)</td></tr>\n",
       "\t<tr><th scope=row>5</th><td>log(deaths_j)                       </td><td>0.5590*** (0.1119)</td><td>0.5681*** (0.1414)</td><td>0.5616*** (0.1046)</td></tr>\n",
       "\t<tr><th scope=row>6</th><td>C8EV_International_travel_controls_i</td><td>1.057* (0.4228)   </td><td>1.146*** (0.2648) </td><td>1.289* (0.5608)   </td></tr>\n",
       "\t<tr><th scope=row>7</th><td>C8EV_International_travel_controls_j</td><td>0.7847** (0.2893) </td><td>0.8337*** (0.1878)</td><td>0.7967. (0.4445)  </td></tr>\n",
       "\t<tr><th scope=row>8</th><td>____________________________________</td><td>__________________</td><td>__________________</td><td>__________________</td></tr>\n",
       "\t<tr><th scope=row>9</th><td><span style=white-space:pre-wrap>S.E.: Clustered                     </span></td><td><span style=white-space:pre-wrap>by: i &amp; j         </span></td><td><span style=white-space:pre-wrap>by: i &amp; j         </span></td><td><span style=white-space:pre-wrap>by: i &amp; j         </span></td></tr>\n",
       "\t<tr><th scope=row>10</th><td>Observations                        </td><td>18,391            </td><td>19,432            </td><td>18,578            </td></tr>\n",
       "\t<tr><th scope=row>11</th><td>R2                                  </td><td>-0.02963          </td><td>-0.05499          </td><td>0.01323           </td></tr>\n",
       "\t<tr><th scope=row>12</th><td>Adj. R2                             </td><td>-0.02986          </td><td>-0.05520          </td><td>0.01302           </td></tr>\n",
       "</tbody>\n",
       "</table>\n"
      ],
      "text/latex": [
       "A etable\\_df: 12 × 4\n",
       "\\begin{tabular}{r|llll}\n",
       "  &  & m\\_2020 & m\\_2021 & m\\_2022\\\\\n",
       "  & <chr> & <chr> & <chr> & <chr>\\\\\n",
       "\\hline\n",
       "\t1 & Dependent Var.:                      & log(v)             & log(v)             & log(v)            \\\\\n",
       "\t2 &                                      &                    &                    &                   \\\\\n",
       "\t3 & Constant                             & 5.969*** (1.265)   & 4.482*** (0.7216)  & 8.938*** (0.5137) \\\\\n",
       "\t4 & log(deaths\\_i)                        & 0.9022*** (0.1570) & 1.040*** (0.2066)  & 0.8720*** (0.1270)\\\\\n",
       "\t5 & log(deaths\\_j)                        & 0.5590*** (0.1119) & 0.5681*** (0.1414) & 0.5616*** (0.1046)\\\\\n",
       "\t6 & C8EV\\_International\\_travel\\_controls\\_i & 1.057* (0.4228)    & 1.146*** (0.2648)  & 1.289* (0.5608)   \\\\\n",
       "\t7 & C8EV\\_International\\_travel\\_controls\\_j & 0.7847** (0.2893)  & 0.8337*** (0.1878) & 0.7967. (0.4445)  \\\\\n",
       "\t8 & \\_\\_\\_\\_\\_\\_\\_\\_\\_\\_\\_\\_\\_\\_\\_\\_\\_\\_\\_\\_\\_\\_\\_\\_\\_\\_\\_\\_\\_\\_\\_\\_\\_\\_\\_\\_ & \\_\\_\\_\\_\\_\\_\\_\\_\\_\\_\\_\\_\\_\\_\\_\\_\\_\\_ & \\_\\_\\_\\_\\_\\_\\_\\_\\_\\_\\_\\_\\_\\_\\_\\_\\_\\_ & \\_\\_\\_\\_\\_\\_\\_\\_\\_\\_\\_\\_\\_\\_\\_\\_\\_\\_\\\\\n",
       "\t9 & S.E.: Clustered                      & by: i \\& j          & by: i \\& j          & by: i \\& j         \\\\\n",
       "\t10 & Observations                         & 18,391             & 19,432             & 18,578            \\\\\n",
       "\t11 & R2                                   & -0.02963           & -0.05499           & 0.01323           \\\\\n",
       "\t12 & Adj. R2                              & -0.02986           & -0.05520           & 0.01302           \\\\\n",
       "\\end{tabular}\n"
      ],
      "text/markdown": [
       "\n",
       "A etable_df: 12 × 4\n",
       "\n",
       "| <!--/--> | <!----> &lt;chr&gt; | m_2020 &lt;chr&gt; | m_2021 &lt;chr&gt; | m_2022 &lt;chr&gt; |\n",
       "|---|---|---|---|---|\n",
       "| 1 | Dependent Var.:                      | log(v)             | log(v)             | log(v)             |\n",
       "| 2 | <!----> | <!----> | <!----> | <!----> |\n",
       "| 3 | Constant                             | 5.969*** (1.265)   | 4.482*** (0.7216)  | 8.938*** (0.5137)  |\n",
       "| 4 | log(deaths_i)                        | 0.9022*** (0.1570) | 1.040*** (0.2066)  | 0.8720*** (0.1270) |\n",
       "| 5 | log(deaths_j)                        | 0.5590*** (0.1119) | 0.5681*** (0.1414) | 0.5616*** (0.1046) |\n",
       "| 6 | C8EV_International_travel_controls_i | 1.057* (0.4228)    | 1.146*** (0.2648)  | 1.289* (0.5608)    |\n",
       "| 7 | C8EV_International_travel_controls_j | 0.7847** (0.2893)  | 0.8337*** (0.1878) | 0.7967. (0.4445)   |\n",
       "| 8 | ____________________________________ | __________________ | __________________ | __________________ |\n",
       "| 9 | S.E.: Clustered                      | by: i &amp; j          | by: i &amp; j          | by: i &amp; j          |\n",
       "| 10 | Observations                         | 18,391             | 19,432             | 18,578             |\n",
       "| 11 | R2                                   | -0.02963           | -0.05499           | 0.01323            |\n",
       "| 12 | Adj. R2                              | -0.02986           | -0.05520           | 0.01302            |\n",
       "\n"
      ],
      "text/plain": [
       "                                        m_2020             m_2021            \n",
       "1  Dependent Var.:                      log(v)             log(v)            \n",
       "2                                                                            \n",
       "3  Constant                             5.969*** (1.265)   4.482*** (0.7216) \n",
       "4  log(deaths_i)                        0.9022*** (0.1570) 1.040*** (0.2066) \n",
       "5  log(deaths_j)                        0.5590*** (0.1119) 0.5681*** (0.1414)\n",
       "6  C8EV_International_travel_controls_i 1.057* (0.4228)    1.146*** (0.2648) \n",
       "7  C8EV_International_travel_controls_j 0.7847** (0.2893)  0.8337*** (0.1878)\n",
       "8  ____________________________________ __________________ __________________\n",
       "9  S.E.: Clustered                      by: i & j          by: i & j         \n",
       "10 Observations                         18,391             19,432            \n",
       "11 R2                                   -0.02963           -0.05499          \n",
       "12 Adj. R2                              -0.02986           -0.05520          \n",
       "   m_2022            \n",
       "1  log(v)            \n",
       "2                    \n",
       "3  8.938*** (0.5137) \n",
       "4  0.8720*** (0.1270)\n",
       "5  0.5616*** (0.1046)\n",
       "6  1.289* (0.5608)   \n",
       "7  0.7967. (0.4445)  \n",
       "8  __________________\n",
       "9  by: i & j         \n",
       "10 18,578            \n",
       "11 0.01323           \n",
       "12 0.01302           "
      ]
     },
     "metadata": {},
     "output_type": "display_data"
    }
   ],
   "source": [
    "# С инструментами оценки коэффициентов всё равно не похожи на панельные данные (пространственные смещённые, т.к должно быть много unobservables)\n",
    "# Использую ошибки hc1\n",
    "# Подумать про эндогенность пропусков. Мб пропуски в инструментальных переменных можно смело заполнять?\n",
    "# Почему экзогенные в панельной спецификации инструменты эндогенны в пространственной?\n",
    "m_2020 = feols(log(v) ~  1+\n",
    " C8EV_International_travel_controls_i + C8EV_International_travel_controls_j |\n",
    " log(deaths_i) + log(deaths_j) ~ \n",
    " C1M_School_closing_i+C1M_School_closing_j+median_age_i + median_age_j + population_density_i + population_density_j,\n",
    " data = df %>% filter(year == '2020')\n",
    " )\n",
    "m_2021 = feols(log(v) ~  1+\n",
    " C8EV_International_travel_controls_i + C8EV_International_travel_controls_j |\n",
    " log(deaths_i) + log(deaths_j) ~ \n",
    " C1M_School_closing_i+C1M_School_closing_j+ median_age_i + median_age_j + population_density_i + population_density_j,\n",
    " data = df %>% filter(year == '2021')\n",
    " )\n",
    "m_2022 = feols(log(v) ~  1+\n",
    " C8EV_International_travel_controls_i + C8EV_International_travel_controls_j |\n",
    " log(deaths_i) + log(deaths_j) ~ \n",
    " C1M_School_closing_i+C1M_School_closing_j+ median_age_i + median_age_j + population_density_i + population_density_j,\n",
    " data = df %>% filter(year == '2022')\n",
    " )\n",
    "summary(m_2020, vcov = 'hc1') \n",
    "summary(m_2021, vcov = 'hc1') \n",
    "summary(m_2022, vcov = 'hc1') \n",
    "etable(m_2020, m_2021, m_2022, vcov = 'hc1', signif.code = signif.code)\n",
    "etable(m_2020, m_2021, m_2022, vcov = ~i+j, signif.code = signif.code)"
   ]
  }
 ],
 "metadata": {
  "kernelspec": {
   "display_name": "R",
   "language": "R",
   "name": "ir"
  },
  "language_info": {
   "codemirror_mode": "r",
   "file_extension": ".r",
   "mimetype": "text/x-r-source",
   "name": "R",
   "pygments_lexer": "r",
   "version": "4.4.1"
  }
 },
 "nbformat": 4,
 "nbformat_minor": 2
}
