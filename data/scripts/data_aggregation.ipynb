{
 "cells": [
  {
   "cell_type": "markdown",
   "metadata": {},
   "source": [
    "# Предобрабатываю данные (избавляюсь от дубликатов), агрегирую до года, соединяю таблицы"
   ]
  },
  {
   "cell_type": "code",
   "execution_count": 1,
   "metadata": {
    "vscode": {
     "languageId": "shellscript"
    }
   },
   "outputs": [
    {
     "name": "stdout",
     "output_type": "stream",
     "text": [
      "Requirement already satisfied: polars==1.22.0 in c:\\users\\unstr\\documents\\7 семестр работы\\диплом\\thesis-repo\\thesis\\.venv\\lib\\site-packages (from -r requirements.txt (line 1)) (1.22.0)\n",
      "Requirement already satisfied: pandas==2.2.3 in c:\\users\\unstr\\documents\\7 семестр работы\\диплом\\thesis-repo\\thesis\\.venv\\lib\\site-packages (from -r requirements.txt (line 2)) (2.2.3)\n",
      "Requirement already satisfied: numpy==2.2 in c:\\users\\unstr\\documents\\7 семестр работы\\диплом\\thesis-repo\\thesis\\.venv\\lib\\site-packages (from -r requirements.txt (line 3)) (2.2.0)\n",
      "Requirement already satisfied: plotly==6.0.0 in c:\\users\\unstr\\documents\\7 семестр работы\\диплом\\thesis-repo\\thesis\\.venv\\lib\\site-packages (from -r requirements.txt (line 4)) (6.0.0)\n",
      "Requirement already satisfied: fastexcel in c:\\users\\unstr\\documents\\7 семестр работы\\диплом\\thesis-repo\\thesis\\.venv\\lib\\site-packages (from -r requirements.txt (line 5)) (0.12.1)\n",
      "Requirement already satisfied: python-dateutil>=2.8.2 in c:\\users\\unstr\\documents\\7 семестр работы\\диплом\\thesis-repo\\thesis\\.venv\\lib\\site-packages (from pandas==2.2.3->-r requirements.txt (line 2)) (2.9.0.post0)\n",
      "Requirement already satisfied: pytz>=2020.1 in c:\\users\\unstr\\documents\\7 семестр работы\\диплом\\thesis-repo\\thesis\\.venv\\lib\\site-packages (from pandas==2.2.3->-r requirements.txt (line 2)) (2025.1)\n",
      "Requirement already satisfied: tzdata>=2022.7 in c:\\users\\unstr\\documents\\7 семестр работы\\диплом\\thesis-repo\\thesis\\.venv\\lib\\site-packages (from pandas==2.2.3->-r requirements.txt (line 2)) (2025.1)\n",
      "Requirement already satisfied: narwhals>=1.15.1 in c:\\users\\unstr\\documents\\7 семестр работы\\диплом\\thesis-repo\\thesis\\.venv\\lib\\site-packages (from plotly==6.0.0->-r requirements.txt (line 4)) (1.25.2)\n",
      "Requirement already satisfied: packaging in c:\\users\\unstr\\documents\\7 семестр работы\\диплом\\thesis-repo\\thesis\\.venv\\lib\\site-packages (from plotly==6.0.0->-r requirements.txt (line 4)) (24.2)\n",
      "Requirement already satisfied: pyarrow>=8.0.0 in c:\\users\\unstr\\documents\\7 семестр работы\\диплом\\thesis-repo\\thesis\\.venv\\lib\\site-packages (from fastexcel->-r requirements.txt (line 5)) (19.0.0)\n",
      "Requirement already satisfied: six>=1.5 in c:\\users\\unstr\\documents\\7 семестр работы\\диплом\\thesis-repo\\thesis\\.venv\\lib\\site-packages (from python-dateutil>=2.8.2->pandas==2.2.3->-r requirements.txt (line 2)) (1.17.0)\n",
      "Note: you may need to restart the kernel to use updated packages.\n"
     ]
    },
    {
     "name": "stderr",
     "output_type": "stream",
     "text": [
      "\n",
      "[notice] A new release of pip is available: 24.3.1 -> 25.0\n",
      "[notice] To update, run: python.exe -m pip install --upgrade pip\n"
     ]
    }
   ],
   "source": [
    "pip install -r requirements.txt"
   ]
  },
  {
   "cell_type": "code",
   "execution_count": 3,
   "metadata": {
    "vscode": {
     "languageId": "shellscript"
    }
   },
   "outputs": [
    {
     "name": "stdout",
     "output_type": "stream",
     "text": [
      "c:\\Users\\unstr\\Documents\\7 семестр работы\\Диплом\\thesis-repo\\thesis\\data\n"
     ]
    },
    {
     "name": "stderr",
     "output_type": "stream",
     "text": [
      "c:\\Users\\unstr\\Documents\\7 семестр работы\\Диплом\\thesis-repo\\thesis\\.venv\\Lib\\site-packages\\IPython\\core\\magics\\osm.py:417: UserWarning: This is now an optional IPython functionality, setting dhist requires you to install the `pickleshare` library.\n",
      "  self.shell.db['dhist'] = compress_dhist(dhist)[-100:]\n"
     ]
    }
   ],
   "source": [
    "cd .."
   ]
  },
  {
   "cell_type": "code",
   "execution_count": 1,
   "metadata": {},
   "outputs": [],
   "source": [
    "import polars as pl"
   ]
  },
  {
   "cell_type": "code",
   "execution_count": null,
   "metadata": {},
   "outputs": [],
   "source": [
    "trade19 = pl.read_csv('./raw_data/BACI_HS17_V202501/BACI_HS17_Y2019_V202501.csv')\n",
    "trade20 = pl.read_csv('./raw_data/BACI_HS17_V202501/BACI_HS17_Y2020_V202501.csv')\n",
    "trade21 = pl.read_csv('./raw_data/BACI_HS17_V202501/BACI_HS17_Y2021_V202501.csv')\n",
    "trade22 = pl.read_csv('./raw_data/BACI_HS17_V202501/BACI_HS17_Y2022_V202501.csv')\n",
    "country_codes = pl.read_csv('./raw_data/BACI_HS17_V202501/country_codes_V202501.csv')\n",
    "sql = pl.SQLContext(register_globals=True)"
   ]
  },
  {
   "cell_type": "code",
   "execution_count": 4,
   "metadata": {},
   "outputs": [
    {
     "data": {
      "text/html": [
       "<div><style>\n",
       ".dataframe > thead > tr,\n",
       ".dataframe > tbody > tr {\n",
       "  text-align: right;\n",
       "  white-space: pre-wrap;\n",
       "}\n",
       "</style>\n",
       "<small>shape: (1, 6)</small><table border=\"1\" class=\"dataframe\"><thead><tr><th>t</th><th>i</th><th>j</th><th>k</th><th>v</th><th>q</th></tr><tr><td>i64</td><td>i64</td><td>i64</td><td>i64</td><td>f64</td><td>f64</td></tr></thead><tbody><tr><td>2019</td><td>4</td><td>20</td><td>420229</td><td>0.471</td><td>0.001</td></tr></tbody></table></div>"
      ],
      "text/plain": [
       "shape: (1, 6)\n",
       "┌──────┬─────┬─────┬────────┬───────┬───────┐\n",
       "│ t    ┆ i   ┆ j   ┆ k      ┆ v     ┆ q     │\n",
       "│ ---  ┆ --- ┆ --- ┆ ---    ┆ ---   ┆ ---   │\n",
       "│ i64  ┆ i64 ┆ i64 ┆ i64    ┆ f64   ┆ f64   │\n",
       "╞══════╪═════╪═════╪════════╪═══════╪═══════╡\n",
       "│ 2019 ┆ 4   ┆ 20  ┆ 420229 ┆ 0.471 ┆ 0.001 │\n",
       "└──────┴─────┴─────┴────────┴───────┴───────┘"
      ]
     },
     "execution_count": 4,
     "metadata": {},
     "output_type": "execute_result"
    }
   ],
   "source": [
    "#Структура данных. t, i , j , k --- ключ.\n",
    "sql.execute('''select * from trade19 limit 1;''').collect()"
   ]
  },
  {
   "cell_type": "code",
   "execution_count": 5,
   "metadata": {},
   "outputs": [
    {
     "name": "stdout",
     "output_type": "stream",
     "text": [
      "shape: (1, 4)\n",
      "┌─────┬─────┬────────┬─────┐\n",
      "│ i   ┆ j   ┆ k      ┆ cnt │\n",
      "│ --- ┆ --- ┆ ---    ┆ --- │\n",
      "│ i64 ┆ i64 ┆ i64    ┆ u32 │\n",
      "╞═════╪═════╪════════╪═════╡\n",
      "│ 246 ┆ 458 ┆ 621149 ┆ 1   │\n",
      "└─────┴─────┴────────┴─────┘\n",
      "shape: (1, 4)\n",
      "┌─────┬─────┬────────┬─────┐\n",
      "│ i   ┆ j   ┆ k      ┆ cnt │\n",
      "│ --- ┆ --- ┆ ---    ┆ --- │\n",
      "│ i64 ┆ i64 ┆ i64    ┆ u32 │\n",
      "╞═════╪═════╪════════╪═════╡\n",
      "│ 170 ┆ 528 ┆ 620192 ┆ 1   │\n",
      "└─────┴─────┴────────┴─────┘\n",
      "shape: (1, 4)\n",
      "┌─────┬─────┬────────┬─────┐\n",
      "│ i   ┆ j   ┆ k      ┆ cnt │\n",
      "│ --- ┆ --- ┆ ---    ┆ --- │\n",
      "│ i64 ┆ i64 ┆ i64    ┆ u32 │\n",
      "╞═════╪═════╪════════╪═════╡\n",
      "│ 724 ┆ 251 ┆ 600192 ┆ 1   │\n",
      "└─────┴─────┴────────┴─────┘\n",
      "shape: (1, 4)\n",
      "┌─────┬─────┬────────┬─────┐\n",
      "│ i   ┆ j   ┆ k      ┆ cnt │\n",
      "│ --- ┆ --- ┆ ---    ┆ --- │\n",
      "│ i64 ┆ i64 ┆ i64    ┆ u32 │\n",
      "╞═════╪═════╪════════╪═════╡\n",
      "│ 764 ┆ 56  ┆ 551599 ┆ 1   │\n",
      "└─────┴─────┴────────┴─────┘\n"
     ]
    }
   ],
   "source": [
    "#Проверяю, что в данных нет дублей\n",
    "print(sql.execute('''select i, j, k, count(*) as cnt from trade19 group by 1, 2, 3 order by 4 desc limit 1;''').collect())\n",
    "print(sql.execute('''select i, j, k, count(*) as cnt from trade20 group by 1, 2, 3 order by 4 desc limit 1;''').collect())\n",
    "print(sql.execute('''select i, j, k, count(*) as cnt from trade21 group by 1, 2, 3 order by 4 desc limit 1;''').collect())\n",
    "print(sql.execute('''select i, j, k, count(*) as cnt from trade22 group by 1, 2, 3 order by 4 desc limit 1;''').collect())"
   ]
  },
  {
   "cell_type": "code",
   "execution_count": 4,
   "metadata": {},
   "outputs": [
    {
     "data": {
      "text/html": [
       "<div><style>\n",
       ".dataframe > thead > tr,\n",
       ".dataframe > tbody > tr {\n",
       "  text-align: right;\n",
       "  white-space: pre-wrap;\n",
       "}\n",
       "</style>\n",
       "<small>shape: (1, 1)</small><table border=\"1\" class=\"dataframe\"><thead><tr><th>len</th></tr><tr><td>u32</td></tr></thead><tbody><tr><td>34145929</td></tr></tbody></table></div>"
      ],
      "text/plain": [
       "shape: (1, 1)\n",
       "┌──────────┐\n",
       "│ len      │\n",
       "│ ---      │\n",
       "│ u32      │\n",
       "╞══════════╡\n",
       "│ 34145929 │\n",
       "└──────────┘"
      ]
     },
     "execution_count": 4,
     "metadata": {},
     "output_type": "execute_result"
    }
   ],
   "source": [
    "# Меняю типы данных на более экономные, где это возможно, и объединяю таблицы для трёх лет\n",
    "trade_tmp = sql.execute(''' \n",
    "            select \n",
    "                    t::smallint\n",
    "                    , i::smallint\n",
    "                    , j::smallint\n",
    "                    , k\n",
    "                    , v::float4\n",
    "                    , q::float4\n",
    "                    ,  case when length(k::varchar) = 5 then '0'||(k::varchar) \n",
    "                            else k::varchar end as category \n",
    "                    from trade20\n",
    "            union all\n",
    "            select \n",
    "                    t::smallint\n",
    "                    , i::smallint\n",
    "                    , j::smallint\n",
    "                    , k\n",
    "                    , v::float4\n",
    "                    , q::float4\n",
    "                    ,  case when length(k::varchar) = 5 then '0'||(k::varchar) \n",
    "                            else k::varchar end as category \n",
    "                    from trade21\n",
    "            union all\n",
    "            select \n",
    "                    t::smallint\n",
    "                    , i::smallint\n",
    "                    , j::smallint\n",
    "                    , k\n",
    "                    , v::float4\n",
    "                    , q::float4\n",
    "                    ,  case when length(k::varchar) = 5 then '0'||(k::varchar) \n",
    "                            else k::varchar end as category \n",
    "                    from trade22\n",
    "            ;\n",
    "            ''').collect()\n",
    "sql.register('trade_tmp', trade_tmp)\n",
    "sql.execute('''select count(*) from trade_tmp;''').collect()"
   ]
  },
  {
   "cell_type": "code",
   "execution_count": 5,
   "metadata": {},
   "outputs": [
    {
     "data": {
      "text/plain": [
       "23"
      ]
     },
     "execution_count": 5,
     "metadata": {},
     "output_type": "execute_result"
    }
   ],
   "source": [
    "# Удаляю лишние таблицы, чтобы не засоряли оперативку\n",
    "import gc\n",
    "del trade20\n",
    "del trade21\n",
    "del trade22\n",
    "gc.collect()"
   ]
  },
  {
   "cell_type": "code",
   "execution_count": 6,
   "metadata": {},
   "outputs": [
    {
     "data": {
      "text/plain": [
       "0"
      ]
     },
     "execution_count": 6,
     "metadata": {},
     "output_type": "execute_result"
    }
   ],
   "source": [
    "# Джоиню данные за 2019 год, чтобы было потом на них нормировать\n",
    "trade_tmp2 = sql.execute('''\n",
    "            select \n",
    "                tr.t\n",
    "                , tr.i\n",
    "                , tr.j\n",
    "                , tr.category    \n",
    "                , tr.v\n",
    "                , tr.q             \n",
    "                , t19.v as v19\n",
    "                , t19.q as q19    \n",
    "            from trade_tmp tr\n",
    "            inner join trade19 t19\n",
    "                on tr.i = t19.i\n",
    "                and tr.j = t19.j\n",
    "                and tr.k = t19.k\n",
    "            ;''').collect()\n",
    "sql.register('trade_tmp2', trade_tmp2)\n",
    "del trade19\n",
    "del trade_tmp\n",
    "gc.collect()"
   ]
  },
  {
   "cell_type": "code",
   "execution_count": null,
   "metadata": {},
   "outputs": [],
   "source": [
    "# Материализовал тяжёлый запрос, чтобы больше не мучить компьютер\n",
    "# trade_tmp2.write_parquet('preprocessed_data/trade_tmp2.parquet.gzip')"
   ]
  },
  {
   "cell_type": "code",
   "execution_count": 8,
   "metadata": {},
   "outputs": [
    {
     "data": {
      "text/html": [
       "<div><style>\n",
       ".dataframe > thead > tr,\n",
       ".dataframe > tbody > tr {\n",
       "  text-align: right;\n",
       "  white-space: pre-wrap;\n",
       "}\n",
       "</style>\n",
       "<small>shape: (4, 2)</small><table border=\"1\" class=\"dataframe\"><thead><tr><th>country_iso3</th><th>len</th></tr><tr><td>str</td><td>u32</td></tr></thead><tbody><tr><td>&quot;BEL&quot;</td><td>2</td></tr><tr><td>&quot;DEU&quot;</td><td>2</td></tr><tr><td>&quot;SDN&quot;</td><td>2</td></tr><tr><td>&quot;KWT&quot;</td><td>1</td></tr></tbody></table></div>"
      ],
      "text/plain": [
       "shape: (4, 2)\n",
       "┌──────────────┬─────┐\n",
       "│ country_iso3 ┆ len │\n",
       "│ ---          ┆ --- │\n",
       "│ str          ┆ u32 │\n",
       "╞══════════════╪═════╡\n",
       "│ BEL          ┆ 2   │\n",
       "│ DEU          ┆ 2   │\n",
       "│ SDN          ┆ 2   │\n",
       "│ KWT          ┆ 1   │\n",
       "└──────────────┴─────┘"
      ]
     },
     "execution_count": 8,
     "metadata": {},
     "output_type": "execute_result"
    }
   ],
   "source": [
    "# Хотя в country_codes есть страны, у которых два типа country_code, но один iso3, это соответствует кейсам преемственности. \n",
    "# На интервале 2019 -- 2022 этого не возникает (т.е. можно считать, что iso3 --- PK)\n",
    "sql.execute('''select country_iso3, count(*) from country_codes group by 1, order by 2 desc limit 4;''').collect()"
   ]
  },
  {
   "cell_type": "code",
   "execution_count": 9,
   "metadata": {},
   "outputs": [
    {
     "data": {
      "text/html": [
       "<div><style>\n",
       ".dataframe > thead > tr,\n",
       ".dataframe > tbody > tr {\n",
       "  text-align: right;\n",
       "  white-space: pre-wrap;\n",
       "}\n",
       "</style>\n",
       "<small>shape: (2, 8)</small><table border=\"1\" class=\"dataframe\"><thead><tr><th>t</th><th>i</th><th>j</th><th>category</th><th>v</th><th>q</th><th>v19</th><th>q19</th></tr><tr><td>i16</td><td>str</td><td>str</td><td>str</td><td>f32</td><td>f32</td><td>f64</td><td>f64</td></tr></thead><tbody><tr><td>2020</td><td>&quot;AFG&quot;</td><td>&quot;AUS&quot;</td><td>&quot;080211&quot;</td><td>2.456</td><td>0.71</td><td>6.944</td><td>1.198</td></tr><tr><td>2020</td><td>&quot;AFG&quot;</td><td>&quot;AUS&quot;</td><td>&quot;080420&quot;</td><td>1.398</td><td>1.331</td><td>0.87</td><td>0.8</td></tr></tbody></table></div>"
      ],
      "text/plain": [
       "shape: (2, 8)\n",
       "┌──────┬─────┬─────┬──────────┬───────┬───────┬───────┬───────┐\n",
       "│ t    ┆ i   ┆ j   ┆ category ┆ v     ┆ q     ┆ v19   ┆ q19   │\n",
       "│ ---  ┆ --- ┆ --- ┆ ---      ┆ ---   ┆ ---   ┆ ---   ┆ ---   │\n",
       "│ i16  ┆ str ┆ str ┆ str      ┆ f32   ┆ f32   ┆ f64   ┆ f64   │\n",
       "╞══════╪═════╪═════╪══════════╪═══════╪═══════╪═══════╪═══════╡\n",
       "│ 2020 ┆ AFG ┆ AUS ┆ 080211   ┆ 2.456 ┆ 0.71  ┆ 6.944 ┆ 1.198 │\n",
       "│ 2020 ┆ AFG ┆ AUS ┆ 080420   ┆ 1.398 ┆ 1.331 ┆ 0.87  ┆ 0.8   │\n",
       "└──────┴─────┴─────┴──────────┴───────┴───────┴───────┴───────┘"
      ]
     },
     "execution_count": 9,
     "metadata": {},
     "output_type": "execute_result"
    }
   ],
   "source": [
    "# У некоторых стран два country_code, но один iso3 код. Чтобы убрать дубли, группирую и суммирую\n",
    "trade = sql.execute('''\n",
    "    select \n",
    "        tr.t\n",
    "        , cc_i.country_iso3 as i\n",
    "        , cc_j.country_iso3 as j\n",
    "        , tr.category    \n",
    "        , v\n",
    "        , q             \n",
    "        , v19\n",
    "        , q19\n",
    "    from trade_tmp2 tr\n",
    "    inner join country_codes cc_i\n",
    "        on tr.i = cc_i.country_code \n",
    "    inner join country_codes cc_j\n",
    "        on tr.j = cc_j.country_code                      \n",
    ";''').collect()\n",
    "sql.register('trade', trade)\n",
    "sql.execute('''select * from trade limit 2;''').collect()"
   ]
  },
  {
   "cell_type": "code",
   "execution_count": 10,
   "metadata": {},
   "outputs": [],
   "source": [
    "trade.write_parquet('preprocessed_data/trade_hs6.parquet.gzip')"
   ]
  },
  {
   "cell_type": "code",
   "execution_count": null,
   "metadata": {},
   "outputs": [],
   "source": [
    "# Агрегирую данные о торговле с разной гранулярностью гармонизированной системы\n",
    "sql.execute('''\n",
    "            select \n",
    "                t, i, j, left(category, 4) as category\n",
    "                , sum(v) as v\n",
    "                , sum(q) as q\n",
    "                , sum(v19) as v19\n",
    "                , sum(q19) as q19\n",
    "            from trade\n",
    "            group by 1, 2, 3, 4\n",
    "            ;''').collect().write_parquet('preprocessed_data/trade_hs4.parquet.gzip')"
   ]
  },
  {
   "cell_type": "code",
   "execution_count": 12,
   "metadata": {},
   "outputs": [],
   "source": [
    "sql.execute('''select \n",
    "                t, i, j, left(category, 2) as category\n",
    "                , sum(v) as v\n",
    "                , sum(q) as q\n",
    "                , sum(v19) as v19\n",
    "                , sum(q19) as q19\n",
    "            from trade\n",
    "            group by 1, 2, 3, 4\n",
    "            ;''').collect().write_parquet('preprocessed_data/trade_hs2.parquet.gzip')"
   ]
  },
  {
   "cell_type": "code",
   "execution_count": 13,
   "metadata": {},
   "outputs": [],
   "source": [
    "sql.execute('''select \n",
    "                t, i, j\n",
    "                , sum(v) as v\n",
    "                , sum(q) as q\n",
    "                , sum(v19) as v19\n",
    "                , sum(q19) as q19\n",
    "            from trade\n",
    "            group by 1, 2, 3\n",
    "            ;''').collect().write_parquet('preprocessed_data/trade_hs0.parquet.gzip')"
   ]
  },
  {
   "cell_type": "code",
   "execution_count": 14,
   "metadata": {},
   "outputs": [
    {
     "data": {
      "text/plain": [
       "21"
      ]
     },
     "execution_count": 14,
     "metadata": {},
     "output_type": "execute_result"
    }
   ],
   "source": [
    "del trade_tmp2\n",
    "del trade\n",
    "gc.collect()"
   ]
  },
  {
   "cell_type": "markdown",
   "metadata": {},
   "source": [
    "## Регрессоры и инструменты"
   ]
  },
  {
   "cell_type": "markdown",
   "metadata": {},
   "source": [
    "### Заболеваемость и смертность"
   ]
  },
  {
   "cell_type": "code",
   "execution_count": 27,
   "metadata": {},
   "outputs": [
    {
     "data": {
      "text/html": [
       "<div><style>\n",
       ".dataframe > thead > tr,\n",
       ".dataframe > tbody > tr {\n",
       "  text-align: right;\n",
       "  white-space: pre-wrap;\n",
       "}\n",
       "</style>\n",
       "<small>shape: (2, 67)</small><table border=\"1\" class=\"dataframe\"><thead><tr><th>iso_code</th><th>continent</th><th>location</th><th>date</th><th>total_cases</th><th>new_cases</th><th>new_cases_smoothed</th><th>total_deaths</th><th>new_deaths</th><th>new_deaths_smoothed</th><th>total_cases_per_million</th><th>new_cases_per_million</th><th>new_cases_smoothed_per_million</th><th>total_deaths_per_million</th><th>new_deaths_per_million</th><th>new_deaths_smoothed_per_million</th><th>reproduction_rate</th><th>icu_patients</th><th>icu_patients_per_million</th><th>hosp_patients</th><th>hosp_patients_per_million</th><th>weekly_icu_admissions</th><th>weekly_icu_admissions_per_million</th><th>weekly_hosp_admissions</th><th>weekly_hosp_admissions_per_million</th><th>total_tests</th><th>new_tests</th><th>total_tests_per_thousand</th><th>new_tests_per_thousand</th><th>new_tests_smoothed</th><th>new_tests_smoothed_per_thousand</th><th>positive_rate</th><th>tests_per_case</th><th>tests_units</th><th>total_vaccinations</th><th>people_vaccinated</th><th>people_fully_vaccinated</th><th>total_boosters</th><th>new_vaccinations</th><th>new_vaccinations_smoothed</th><th>total_vaccinations_per_hundred</th><th>people_vaccinated_per_hundred</th><th>people_fully_vaccinated_per_hundred</th><th>total_boosters_per_hundred</th><th>new_vaccinations_smoothed_per_million</th><th>new_people_vaccinated_smoothed</th><th>new_people_vaccinated_smoothed_per_hundred</th><th>stringency_index</th><th>population_density</th><th>median_age</th><th>aged_65_older</th><th>aged_70_older</th><th>gdp_per_capita</th><th>extreme_poverty</th><th>cardiovasc_death_rate</th><th>diabetes_prevalence</th><th>female_smokers</th><th>male_smokers</th><th>handwashing_facilities</th><th>hospital_beds_per_thousand</th><th>life_expectancy</th><th>human_development_index</th><th>population</th><th>excess_mortality_cumulative_absolute</th><th>excess_mortality_cumulative</th><th>excess_mortality</th><th>excess_mortality_cumulative_per_million</th></tr><tr><td>str</td><td>str</td><td>str</td><td>str</td><td>i64</td><td>i64</td><td>f64</td><td>i64</td><td>i64</td><td>f64</td><td>f64</td><td>f64</td><td>f64</td><td>f64</td><td>f64</td><td>f64</td><td>f64</td><td>str</td><td>str</td><td>str</td><td>str</td><td>str</td><td>str</td><td>str</td><td>str</td><td>str</td><td>str</td><td>str</td><td>str</td><td>str</td><td>str</td><td>str</td><td>str</td><td>str</td><td>str</td><td>str</td><td>str</td><td>str</td><td>str</td><td>str</td><td>str</td><td>str</td><td>str</td><td>str</td><td>str</td><td>str</td><td>str</td><td>f64</td><td>f64</td><td>f64</td><td>f64</td><td>f64</td><td>f64</td><td>str</td><td>f64</td><td>f64</td><td>str</td><td>str</td><td>f64</td><td>f64</td><td>f64</td><td>f64</td><td>i64</td><td>str</td><td>str</td><td>str</td><td>str</td></tr></thead><tbody><tr><td>&quot;AFG&quot;</td><td>&quot;Asia&quot;</td><td>&quot;Afghanistan&quot;</td><td>&quot;2020-01-05&quot;</td><td>0</td><td>0</td><td>null</td><td>0</td><td>0</td><td>null</td><td>0.0</td><td>0.0</td><td>null</td><td>0.0</td><td>0.0</td><td>null</td><td>null</td><td>null</td><td>null</td><td>null</td><td>null</td><td>null</td><td>null</td><td>null</td><td>null</td><td>null</td><td>null</td><td>null</td><td>null</td><td>null</td><td>null</td><td>null</td><td>null</td><td>null</td><td>null</td><td>null</td><td>null</td><td>null</td><td>null</td><td>null</td><td>null</td><td>null</td><td>null</td><td>null</td><td>null</td><td>null</td><td>null</td><td>0.0</td><td>54.42</td><td>18.6</td><td>2.58</td><td>1.34</td><td>1803.99</td><td>null</td><td>597.03</td><td>9.59</td><td>null</td><td>null</td><td>37.75</td><td>0.5</td><td>64.83</td><td>0.51</td><td>41128772</td><td>null</td><td>null</td><td>null</td><td>null</td></tr><tr><td>&quot;AFG&quot;</td><td>&quot;Asia&quot;</td><td>&quot;Afghanistan&quot;</td><td>&quot;2020-01-06&quot;</td><td>0</td><td>0</td><td>null</td><td>0</td><td>0</td><td>null</td><td>0.0</td><td>0.0</td><td>null</td><td>0.0</td><td>0.0</td><td>null</td><td>null</td><td>null</td><td>null</td><td>null</td><td>null</td><td>null</td><td>null</td><td>null</td><td>null</td><td>null</td><td>null</td><td>null</td><td>null</td><td>null</td><td>null</td><td>null</td><td>null</td><td>null</td><td>null</td><td>null</td><td>null</td><td>null</td><td>null</td><td>null</td><td>null</td><td>null</td><td>null</td><td>null</td><td>null</td><td>null</td><td>null</td><td>0.0</td><td>54.42</td><td>18.6</td><td>2.58</td><td>1.34</td><td>1803.99</td><td>null</td><td>597.03</td><td>9.59</td><td>null</td><td>null</td><td>37.75</td><td>0.5</td><td>64.83</td><td>0.51</td><td>41128772</td><td>null</td><td>null</td><td>null</td><td>null</td></tr></tbody></table></div>"
      ],
      "text/plain": [
       "shape: (2, 67)\n",
       "┌──────────┬───────────┬───────────┬───────────┬───┬───────────┬───────────┬───────────┬───────────┐\n",
       "│ iso_code ┆ continent ┆ location  ┆ date      ┆ … ┆ excess_mo ┆ excess_mo ┆ excess_mo ┆ excess_mo │\n",
       "│ ---      ┆ ---       ┆ ---       ┆ ---       ┆   ┆ rtality_c ┆ rtality_c ┆ rtality   ┆ rtality_c │\n",
       "│ str      ┆ str       ┆ str       ┆ str       ┆   ┆ umulative ┆ umulative ┆ ---       ┆ umulative │\n",
       "│          ┆           ┆           ┆           ┆   ┆ _ab…      ┆ ---       ┆ str       ┆ _pe…      │\n",
       "│          ┆           ┆           ┆           ┆   ┆ ---       ┆ str       ┆           ┆ ---       │\n",
       "│          ┆           ┆           ┆           ┆   ┆ str       ┆           ┆           ┆ str       │\n",
       "╞══════════╪═══════════╪═══════════╪═══════════╪═══╪═══════════╪═══════════╪═══════════╪═══════════╡\n",
       "│ AFG      ┆ Asia      ┆ Afghanist ┆ 2020-01-0 ┆ … ┆ null      ┆ null      ┆ null      ┆ null      │\n",
       "│          ┆           ┆ an        ┆ 5         ┆   ┆           ┆           ┆           ┆           │\n",
       "│ AFG      ┆ Asia      ┆ Afghanist ┆ 2020-01-0 ┆ … ┆ null      ┆ null      ┆ null      ┆ null      │\n",
       "│          ┆           ┆ an        ┆ 6         ┆   ┆           ┆           ┆           ┆           │\n",
       "└──────────┴───────────┴───────────┴───────────┴───┴───────────┴───────────┴───────────┴───────────┘"
      ]
     },
     "execution_count": 27,
     "metadata": {},
     "output_type": "execute_result"
    }
   ],
   "source": [
    "covid_tmp = pl.read_csv('raw_data/Our World In Data/owid-covid-data.csv')\n",
    "sql.register('covid_tmp', covid_tmp)\n",
    "sql.execute('''select * from covid_tmp limit 2;''').collect()"
   ]
  },
  {
   "cell_type": "code",
   "execution_count": 56,
   "metadata": {},
   "outputs": [
    {
     "data": {
      "text/html": [
       "<div><style>\n",
       ".dataframe > thead > tr,\n",
       ".dataframe > tbody > tr {\n",
       "  text-align: right;\n",
       "  white-space: pre-wrap;\n",
       "}\n",
       "</style>\n",
       "<small>shape: (2, 5)</small><table border=\"1\" class=\"dataframe\"><thead><tr><th>country</th><th>t</th><th>cases</th><th>deaths</th><th>tests</th></tr><tr><td>str</td><td>i16</td><td>f64</td><td>f64</td><td>str</td></tr></thead><tbody><tr><td>&quot;BTN&quot;</td><td>2021</td><td>7.237644</td><td>0.010521</td><td>null</td></tr><tr><td>&quot;PNG&quot;</td><td>2022</td><td>2.836027</td><td>0.02126</td><td>null</td></tr></tbody></table></div>"
      ],
      "text/plain": [
       "shape: (2, 5)\n",
       "┌─────────┬──────┬──────────┬──────────┬───────┐\n",
       "│ country ┆ t    ┆ cases    ┆ deaths   ┆ tests │\n",
       "│ ---     ┆ ---  ┆ ---      ┆ ---      ┆ ---   │\n",
       "│ str     ┆ i16  ┆ f64      ┆ f64      ┆ str   │\n",
       "╞═════════╪══════╪══════════╪══════════╪═══════╡\n",
       "│ BTN     ┆ 2021 ┆ 7.237644 ┆ 0.010521 ┆ null  │\n",
       "│ PNG     ┆ 2022 ┆ 2.836027 ┆ 0.02126  ┆ null  │\n",
       "└─────────┴──────┴──────────┴──────────┴───────┘"
      ]
     },
     "execution_count": 56,
     "metadata": {},
     "output_type": "execute_result"
    }
   ],
   "source": [
    "# Надо подумать, нет ли тут эндогенных пропусков (т.е. если у страны нулевая заболеваемость,\n",
    "#  значит ли это, что она ничего не репортит, а не репортит 0)\n",
    "sql.execute('''create table covid as\n",
    "    select \n",
    "        iso_code as country\n",
    "        , left(date, 4)::smallint as t\n",
    "        , avg(new_cases_per_million) as cases\n",
    "        , avg(new_deaths_per_million) as deaths\n",
    "        , avg(new_tests_per_thousand) as tests\n",
    "        /*Лучше воспрользоваться данными ООН, чтобы точно использовать доковидные данные\n",
    "        , avg(population_density) as population_density\n",
    "        , avg(median_age) as median_age \n",
    "        , avg(aged_65_older) as aged_65_older\n",
    "        , avg(aged_70_older) as aged_70_older\n",
    "        , avg(cardiovasc_death_rate) as cardiovasc_death_rate\n",
    "        , avg(handwashing_facilities) as handwashing_facilities\n",
    "        , avg(life_expectancy) as life_expectancy */\n",
    "    from covid_tmp\n",
    "    where date <= '2022-12-31'\n",
    "    group by iso_code, left(date, 4)        \n",
    ";''')\n",
    "sql.execute('''select * from covid limit 2;''').collect()"
   ]
  },
  {
   "cell_type": "markdown",
   "metadata": {},
   "source": [
    "### Коронавирусные ограничения"
   ]
  },
  {
   "cell_type": "code",
   "execution_count": 29,
   "metadata": {},
   "outputs": [
    {
     "data": {
      "text/html": [
       "<div><style>\n",
       ".dataframe > thead > tr,\n",
       ".dataframe > tbody > tr {\n",
       "  text-align: right;\n",
       "  white-space: pre-wrap;\n",
       "}\n",
       "</style>\n",
       "<small>shape: (2, 56)</small><table border=\"1\" class=\"dataframe\"><thead><tr><th>CountryName</th><th>CountryCode</th><th>RegionName</th><th>RegionCode</th><th>Jurisdiction</th><th>Date</th><th>C1M_School closing</th><th>C1M_Flag</th><th>C2M_Workplace closing</th><th>C2M_Flag</th><th>C3M_Cancel public events</th><th>C3M_Flag</th><th>C4M_Restrictions on gatherings</th><th>C4M_Flag</th><th>C5M_Close public transport</th><th>C5M_Flag</th><th>C6M_Stay at home requirements</th><th>C6M_Flag</th><th>C7M_Restrictions on internal movement</th><th>C7M_Flag</th><th>C8EV_International travel controls</th><th>E1_Income support</th><th>E1_Flag</th><th>E2_Debt/contract relief</th><th>E3_Fiscal measures</th><th>E4_International support</th><th>H1_Public information campaigns</th><th>H1_Flag</th><th>H2_Testing policy</th><th>H3_Contact tracing</th><th>H4_Emergency investment in healthcare</th><th>H5_Investment in vaccines</th><th>H6M_Facial Coverings</th><th>H6M_Flag</th><th>H7_Vaccination policy</th><th>H7_Flag</th><th>H8M_Protection of elderly people</th><th>H8M_Flag</th><th>V1_Vaccine Prioritisation (summary)</th><th>V2A_Vaccine Availability (summary)</th><th>V2B_Vaccine age eligibility/availability age floor (general population summary)</th><th>V2C_Vaccine age eligibility/availability age floor (at risk summary)</th><th>V2D_Medically/ clinically vulnerable (Non-elderly)</th><th>V2E_Education</th><th>V2F_Frontline workers  (non healthcare)</th><th>V2G_Frontline workers  (healthcare)</th><th>V3_Vaccine Financial Support (summary)</th><th>V4_Mandatory Vaccination (summary)</th><th>ConfirmedCases</th><th>ConfirmedDeaths</th><th>MajorityVaccinated</th><th>PopulationVaccinated</th><th>StringencyIndex_Average</th><th>GovernmentResponseIndex_Average</th><th>ContainmentHealthIndex_Average</th><th>EconomicSupportIndex</th></tr><tr><td>str</td><td>str</td><td>str</td><td>str</td><td>str</td><td>i64</td><td>f64</td><td>i64</td><td>f64</td><td>i64</td><td>f64</td><td>i64</td><td>f64</td><td>i64</td><td>f64</td><td>str</td><td>f64</td><td>i64</td><td>f64</td><td>i64</td><td>f64</td><td>f64</td><td>i64</td><td>f64</td><td>f64</td><td>f64</td><td>f64</td><td>i64</td><td>f64</td><td>f64</td><td>f64</td><td>f64</td><td>f64</td><td>str</td><td>f64</td><td>str</td><td>f64</td><td>i64</td><td>i64</td><td>i64</td><td>str</td><td>str</td><td>str</td><td>str</td><td>str</td><td>str</td><td>i64</td><td>str</td><td>i64</td><td>i64</td><td>str</td><td>f64</td><td>f64</td><td>f64</td><td>f64</td><td>f64</td></tr></thead><tbody><tr><td>&quot;Aruba&quot;</td><td>&quot;ABW&quot;</td><td>null</td><td>null</td><td>&quot;NAT_TOTAL&quot;</td><td>20200101</td><td>0.0</td><td>null</td><td>0.0</td><td>null</td><td>0.0</td><td>null</td><td>0.0</td><td>null</td><td>0.0</td><td>null</td><td>0.0</td><td>null</td><td>0.0</td><td>null</td><td>0.0</td><td>0.0</td><td>null</td><td>0.0</td><td>0.0</td><td>0.0</td><td>0.0</td><td>null</td><td>0.0</td><td>0.0</td><td>0.0</td><td>0.0</td><td>0.0</td><td>null</td><td>0.0</td><td>null</td><td>0.0</td><td>null</td><td>0</td><td>0</td><td>null</td><td>null</td><td>null</td><td>null</td><td>null</td><td>null</td><td>0</td><td>null</td><td>0</td><td>0</td><td>&quot;NV&quot;</td><td>0.0</td><td>0.0</td><td>0.0</td><td>0.0</td><td>0.0</td></tr><tr><td>&quot;Aruba&quot;</td><td>&quot;ABW&quot;</td><td>null</td><td>null</td><td>&quot;NAT_TOTAL&quot;</td><td>20200102</td><td>0.0</td><td>null</td><td>0.0</td><td>null</td><td>0.0</td><td>null</td><td>0.0</td><td>null</td><td>0.0</td><td>null</td><td>0.0</td><td>null</td><td>0.0</td><td>null</td><td>0.0</td><td>0.0</td><td>null</td><td>0.0</td><td>0.0</td><td>0.0</td><td>0.0</td><td>null</td><td>0.0</td><td>0.0</td><td>0.0</td><td>0.0</td><td>0.0</td><td>null</td><td>0.0</td><td>null</td><td>0.0</td><td>null</td><td>0</td><td>0</td><td>null</td><td>null</td><td>null</td><td>null</td><td>null</td><td>null</td><td>0</td><td>null</td><td>0</td><td>0</td><td>&quot;NV&quot;</td><td>0.0</td><td>0.0</td><td>0.0</td><td>0.0</td><td>0.0</td></tr></tbody></table></div>"
      ],
      "text/plain": [
       "shape: (2, 56)\n",
       "┌───────────┬───────────┬───────────┬───────────┬───┬───────────┬───────────┬───────────┬──────────┐\n",
       "│ CountryNa ┆ CountryCo ┆ RegionNam ┆ RegionCod ┆ … ┆ Stringenc ┆ Governmen ┆ Containme ┆ Economic │\n",
       "│ me        ┆ de        ┆ e         ┆ e         ┆   ┆ yIndex_Av ┆ tResponse ┆ ntHealthI ┆ SupportI │\n",
       "│ ---       ┆ ---       ┆ ---       ┆ ---       ┆   ┆ erage     ┆ Index_Ave ┆ ndex_Aver ┆ ndex     │\n",
       "│ str       ┆ str       ┆ str       ┆ str       ┆   ┆ ---       ┆ rag…      ┆ age       ┆ ---      │\n",
       "│           ┆           ┆           ┆           ┆   ┆ f64       ┆ ---       ┆ ---       ┆ f64      │\n",
       "│           ┆           ┆           ┆           ┆   ┆           ┆ f64       ┆ f64       ┆          │\n",
       "╞═══════════╪═══════════╪═══════════╪═══════════╪═══╪═══════════╪═══════════╪═══════════╪══════════╡\n",
       "│ Aruba     ┆ ABW       ┆ null      ┆ null      ┆ … ┆ 0.0       ┆ 0.0       ┆ 0.0       ┆ 0.0      │\n",
       "│ Aruba     ┆ ABW       ┆ null      ┆ null      ┆ … ┆ 0.0       ┆ 0.0       ┆ 0.0       ┆ 0.0      │\n",
       "└───────────┴───────────┴───────────┴───────────┴───┴───────────┴───────────┴───────────┴──────────┘"
      ]
     },
     "execution_count": 29,
     "metadata": {},
     "output_type": "execute_result"
    }
   ],
   "source": [
    "restrictions_tmp = pl.read_csv('raw_data/OxCGRT/OxCGRT_compact_national_v1.csv')\n",
    "sql.register('restrictions_tmp', restrictions_tmp)\n",
    "sql.execute('''select * from restrictions_tmp \n",
    "            -- where `E3_Fiscal measures` is not null and `E3_Fiscal measures` > 0 \n",
    "            limit 2;''').collect()"
   ]
  },
  {
   "cell_type": "code",
   "execution_count": 31,
   "metadata": {},
   "outputs": [
    {
     "data": {
      "text/html": [
       "<div><style>\n",
       ".dataframe > thead > tr,\n",
       ".dataframe > tbody > tr {\n",
       "  text-align: right;\n",
       "  white-space: pre-wrap;\n",
       "}\n",
       "</style>\n",
       "<small>shape: (10, 28)</small><table border=\"1\" class=\"dataframe\"><thead><tr><th>country</th><th>t</th><th>C1M_School_closing</th><th>C2M_Workplace_closing</th><th>C3M_Cancel_public_events</th><th>C4M_Restrictions_on_gatherings</th><th>C5M_Close_public_transport</th><th>C6M_Stay_at_home_requirements</th><th>C7M_Restrictions_on_internal_movement</th><th>C8EV_International_travel_controls</th><th>E1_Income_support</th><th>E2_Debt_contract_relief</th><th>E3_Fiscal_measures</th><th>E4_International_support</th><th>H1_Public_information_campaigns</th><th>H2_Testing_policy</th><th>H3_Contact_tracing</th><th>H4_Emergency_investment_in_healthcare</th><th>H5_Investment_in_vaccines</th><th>H6M_Facial_Coverings</th><th>H7_Vaccination_policy</th><th>H8M_Protection_of_elderly_people</th><th>StringencyIndex_Average</th><th>GovernmentResponseIndex_Average</th><th>ContainmentHealthIndex_Average</th><th>EconomicSupportIndex</th><th>MajorityVaccinated</th><th>PopulationVaccinated</th></tr><tr><td>str</td><td>i16</td><td>f32</td><td>f32</td><td>f32</td><td>f32</td><td>f32</td><td>f32</td><td>f32</td><td>f32</td><td>f32</td><td>f32</td><td>f32</td><td>f32</td><td>f32</td><td>f32</td><td>f32</td><td>f32</td><td>f32</td><td>f32</td><td>f32</td><td>f32</td><td>f32</td><td>f32</td><td>f32</td><td>f32</td><td>f32</td><td>f32</td></tr></thead><tbody><tr><td>&quot;DOM&quot;</td><td>2021</td><td>2.136986</td><td>1.567123</td><td>1.90137</td><td>3.983562</td><td>0.849315</td><td>1.569863</td><td>0.29863</td><td>1.380822</td><td>0.589041</td><td>0.0</td><td>1.9299e6</td><td>0.0</td><td>1.783562</td><td>2.621918</td><td>1.0</td><td>450450.4375</td><td>2157.925049</td><td>3.347945</td><td>3.709589</td><td>2.463014</td><td>60.448685</td><td>59.022686</td><td>65.815262</td><td>11.472603</td><td>0.079452</td><td>24.325588</td></tr><tr><td>&quot;LKA&quot;</td><td>2021</td><td>2.230137</td><td>1.967123</td><td>1.967123</td><td>3.827397</td><td>1.172603</td><td>1.956164</td><td>1.657534</td><td>2.142466</td><td>0.0</td><td>2.0</td><td>0.0</td><td>0.0</td><td>2.0</td><td>2.994521</td><td>2.0</td><td>0.0</td><td>719178.0625</td><td>3.383562</td><td>3.720548</td><td>1.956164</td><td>72.744797</td><td>73.395592</td><td>76.737343</td><td>50.0</td><td>0.287671</td><td>21.986658</td></tr><tr><td>&quot;UZB&quot;</td><td>2022</td><td>0.293151</td><td>0.216438</td><td>0.693151</td><td>0.819178</td><td>0.0</td><td>0.0</td><td>0.263014</td><td>0.843836</td><td>0.235616</td><td>0.528767</td><td>null</td><td>null</td><td>1.567123</td><td>1.786301</td><td>0.0</td><td>null</td><td>0.0</td><td>1.230137</td><td>5.0</td><td>0.161644</td><td>20.527315</td><td>26.165342</td><td>27.171124</td><td>19.109589</td><td>0.172603</td><td>43.971889</td></tr><tr><td>&quot;UGA&quot;</td><td>2022</td><td>0.364384</td><td>2.0</td><td>0.583562</td><td>0.958904</td><td>1.934247</td><td>0.131507</td><td>0.021918</td><td>1.0</td><td>0.0</td><td>0.191781</td><td>null</td><td>null</td><td>1.778082</td><td>3.0</td><td>0.024658</td><td>null</td><td>0.0</td><td>3.753425</td><td>4.934247</td><td>0.257534</td><td>34.912987</td><td>38.661396</td><td>43.499207</td><td>4.79452</td><td>0.0</td><td>20.547398</td></tr><tr><td>&quot;PER&quot;</td><td>2020</td><td>2.295082</td><td>1.715847</td><td>1.612022</td><td>3.20765</td><td>1.224044</td><td>1.743169</td><td>1.374317</td><td>2.846995</td><td>0.795082</td><td>1.456284</td><td>3.4251532e7</td><td>0.0</td><td>1.650273</td><td>1.653005</td><td>1.385246</td><td>1.332446e6</td><td>0.0</td><td>2.412568</td><td>0.0</td><td>1.811475</td><td>67.374481</td><td>60.129646</td><td>60.679726</td><td>56.284153</td><td>0.0</td><td>0.0</td></tr><tr><td>&quot;ZAF&quot;</td><td>2021</td><td>1.169863</td><td>1.317808</td><td>1.284932</td><td>2.986301</td><td>1.0</td><td>1.989041</td><td>0.153425</td><td>1.221918</td><td>0.923288</td><td>1.413699</td><td>0.0</td><td>0.0</td><td>2.0</td><td>2.739726</td><td>2.0</td><td>0.0</td><td>0.0</td><td>3.019178</td><td>2.920548</td><td>2.235616</td><td>52.714439</td><td>61.93959</td><td>62.440548</td><td>58.424656</td><td>0.0</td><td>7.596795</td></tr><tr><td>&quot;SGP&quot;</td><td>2022</td><td>1.0</td><td>0.756164</td><td>0.657534</td><td>1.260274</td><td>0.0</td><td>0.315068</td><td>0.0</td><td>1.068493</td><td>2.0</td><td>2.0</td><td>null</td><td>null</td><td>2.0</td><td>3.0</td><td>2.0</td><td>null</td><td>0.0</td><td>2.476712</td><td>5.0</td><td>3.0</td><td>30.077179</td><td>58.289234</td><td>52.32811</td><td>100.0</td><td>1.0</td><td>88.951096</td></tr><tr><td>&quot;FRO&quot;</td><td>2022</td><td>0.158904</td><td>0.084932</td><td>0.084932</td><td>0.282192</td><td>0.0</td><td>0.0</td><td>0.0</td><td>0.136986</td><td>0.0</td><td>0.0</td><td>null</td><td>null</td><td>2.0</td><td>1.246575</td><td>0.208219</td><td>null</td><td>0.0</td><td>0.0</td><td>5.0</td><td>0.063014</td><td>13.649616</td><td>17.304356</td><td>19.782576</td><td>0.0</td><td>1.0</td><td>76.959892</td></tr><tr><td>&quot;UGA&quot;</td><td>2021</td><td>2.323288</td><td>2.0</td><td>1.389041</td><td>2.106849</td><td>1.060274</td><td>1.942466</td><td>1.20274</td><td>1.383562</td><td>0.408219</td><td>0.0</td><td>0.0</td><td>0.0</td><td>2.0</td><td>2.690411</td><td>0.356164</td><td>0.0</td><td>13698.629883</td><td>2.978082</td><td>2.216438</td><td>1.772603</td><td>63.781452</td><td>54.792988</td><td>61.161892</td><td>10.20548</td><td>0.0</td><td>0.501425</td></tr><tr><td>&quot;JOR&quot;</td><td>2022</td><td>0.0</td><td>0.449315</td><td>0.161644</td><td>0.89863</td><td>0.0</td><td>0.0</td><td>0.0</td><td>0.484931</td><td>0.775342</td><td>0.134247</td><td>null</td><td>null</td><td>1.550685</td><td>3.0</td><td>0.668493</td><td>null</td><td>0.0</td><td>1.643836</td><td>5.0</td><td>0.0</td><td>15.019945</td><td>28.447371</td><td>29.265972</td><td>22.739725</td><td>0.0</td><td>39.539341</td></tr></tbody></table></div>"
      ],
      "text/plain": [
       "shape: (10, 28)\n",
       "┌─────────┬──────┬────────────┬────────────┬───┬────────────┬────────────┬────────────┬────────────┐\n",
       "│ country ┆ t    ┆ C1M_School ┆ C2M_Workpl ┆ … ┆ Containmen ┆ EconomicSu ┆ MajorityVa ┆ Population │\n",
       "│ ---     ┆ ---  ┆ _closing   ┆ ace_closin ┆   ┆ tHealthInd ┆ pportIndex ┆ ccinated   ┆ Vaccinated │\n",
       "│ str     ┆ i16  ┆ ---        ┆ g          ┆   ┆ ex_Average ┆ ---        ┆ ---        ┆ ---        │\n",
       "│         ┆      ┆ f32        ┆ ---        ┆   ┆ ---        ┆ f32        ┆ f32        ┆ f32        │\n",
       "│         ┆      ┆            ┆ f32        ┆   ┆ f32        ┆            ┆            ┆            │\n",
       "╞═════════╪══════╪════════════╪════════════╪═══╪════════════╪════════════╪════════════╪════════════╡\n",
       "│ DOM     ┆ 2021 ┆ 2.136986   ┆ 1.567123   ┆ … ┆ 65.815262  ┆ 11.472603  ┆ 0.079452   ┆ 24.325588  │\n",
       "│ LKA     ┆ 2021 ┆ 2.230137   ┆ 1.967123   ┆ … ┆ 76.737343  ┆ 50.0       ┆ 0.287671   ┆ 21.986658  │\n",
       "│ UZB     ┆ 2022 ┆ 0.293151   ┆ 0.216438   ┆ … ┆ 27.171124  ┆ 19.109589  ┆ 0.172603   ┆ 43.971889  │\n",
       "│ UGA     ┆ 2022 ┆ 0.364384   ┆ 2.0        ┆ … ┆ 43.499207  ┆ 4.79452    ┆ 0.0        ┆ 20.547398  │\n",
       "│ PER     ┆ 2020 ┆ 2.295082   ┆ 1.715847   ┆ … ┆ 60.679726  ┆ 56.284153  ┆ 0.0        ┆ 0.0        │\n",
       "│ ZAF     ┆ 2021 ┆ 1.169863   ┆ 1.317808   ┆ … ┆ 62.440548  ┆ 58.424656  ┆ 0.0        ┆ 7.596795   │\n",
       "│ SGP     ┆ 2022 ┆ 1.0        ┆ 0.756164   ┆ … ┆ 52.32811   ┆ 100.0      ┆ 1.0        ┆ 88.951096  │\n",
       "│ FRO     ┆ 2022 ┆ 0.158904   ┆ 0.084932   ┆ … ┆ 19.782576  ┆ 0.0        ┆ 1.0        ┆ 76.959892  │\n",
       "│ UGA     ┆ 2021 ┆ 2.323288   ┆ 2.0        ┆ … ┆ 61.161892  ┆ 10.20548   ┆ 0.0        ┆ 0.501425   │\n",
       "│ JOR     ┆ 2022 ┆ 0.0        ┆ 0.449315   ┆ … ┆ 29.265972  ┆ 22.739725  ┆ 0.0        ┆ 39.539341  │\n",
       "└─────────┴──────┴────────────┴────────────┴───┴────────────┴────────────┴────────────┴────────────┘"
      ]
     },
     "execution_count": 31,
     "metadata": {},
     "output_type": "execute_result"
    }
   ],
   "source": [
    "sql.execute('''create table restrictions as\n",
    "    select \n",
    "        CountryCode as country\n",
    "        , left(Date::varchar, 4)::smallint as t\n",
    "        , avg(`C1M_School closing`)::float4 as C1M_School_closing\n",
    "        , avg(`C2M_Workplace closing`)::float4 as C2M_Workplace_closing\n",
    "        , avg(`C3M_Cancel public events`)::float4 as C3M_Cancel_public_events\n",
    "        , avg(`C4M_Restrictions on gatherings`)::float4 as C4M_Restrictions_on_gatherings\n",
    "        , avg(`C5M_Close public transport`)::float4 as C5M_Close_public_transport\n",
    "        , avg(`C6M_Stay at home requirements`)::float4 as C6M_Stay_at_home_requirements\n",
    "        , avg(`C7M_Restrictions on internal movement`)::float4 as C7M_Restrictions_on_internal_movement                              \n",
    "        , avg(`C8EV_International travel controls`)::float4 as C8EV_International_travel_controls\n",
    "        , avg(`E1_Income support`)::float4 as E1_Income_support\n",
    "        , avg(`E2_Debt/contract relief`)::float4 as E2_Debt_contract_relief\n",
    "        , avg(`E3_Fiscal measures`)::float4 as E3_Fiscal_measures\n",
    "        , avg(`E4_International support`)::float4 as E4_International_support\n",
    "        , avg(`H1_Public information campaigns`)::float4 as H1_Public_information_campaigns\t\n",
    "        , avg(`H2_Testing policy`)::float4 as H2_Testing_policy\n",
    "        , avg(`H3_Contact tracing`)::float4 as H3_Contact_tracing\n",
    "        , avg(`H4_Emergency investment in healthcare`)::float4 as H4_Emergency_investment_in_healthcare\n",
    "        , avg(`H5_Investment in vaccines`)::float4 as H5_Investment_in_vaccines\n",
    "        , avg(`H6M_Facial Coverings`)::float4 as H6M_Facial_Coverings\n",
    "        , avg(`H7_Vaccination policy`)::float4 as H7_Vaccination_policy\n",
    "        , avg(`H8M_Protection of elderly people`)::float4 as H8M_Protection_of_elderly_people\n",
    "        , avg(`StringencyIndex_Average`)::float4 as StringencyIndex_Average\n",
    "        , avg(`GovernmentResponseIndex_Average`)::float4 as GovernmentResponseIndex_Average\n",
    "        , avg(`ContainmentHealthIndex_Average`)::float4 as ContainmentHealthIndex_Average\n",
    "        , avg(`EconomicSupportIndex`)::float4 as EconomicSupportIndex\n",
    "        , avg(case when MajorityVaccinated = 'V' then 1 \n",
    "                   else 0 end)::float4 as MajorityVaccinated\n",
    "        , avg(PopulationVaccinated)::float4 as PopulationVaccinated        \n",
    "    from restrictions_tmp\n",
    "    group by CountryCode, left(Date::varchar, 4)::smallint           \n",
    ";''')\n",
    "sql.execute('''select * from restrictions limit 10;''').collect()"
   ]
  },
  {
   "cell_type": "markdown",
   "metadata": {},
   "source": [
    "### Температура"
   ]
  },
  {
   "cell_type": "code",
   "execution_count": 32,
   "metadata": {},
   "outputs": [
    {
     "data": {
      "text/html": [
       "<div><style>\n",
       ".dataframe > thead > tr,\n",
       ".dataframe > tbody > tr {\n",
       "  text-align: right;\n",
       "  white-space: pre-wrap;\n",
       "}\n",
       "</style>\n",
       "<small>shape: (2, 6)</small><table border=\"1\" class=\"dataframe\"><thead><tr><th>Entity</th><th>Code</th><th>year</th><th>Day</th><th>Average surface temperature</th><th>Average surface temperature_duplicated_0</th></tr><tr><td>str</td><td>str</td><td>i64</td><td>str</td><td>f64</td><td>f64</td></tr></thead><tbody><tr><td>&quot;Afghanistan&quot;</td><td>&quot;AFG&quot;</td><td>1940</td><td>&quot;1940-01-15&quot;</td><td>-2.032494</td><td>11.327695</td></tr><tr><td>&quot;Afghanistan&quot;</td><td>&quot;AFG&quot;</td><td>1940</td><td>&quot;1940-02-15&quot;</td><td>-0.733503</td><td>11.327695</td></tr></tbody></table></div>"
      ],
      "text/plain": [
       "shape: (2, 6)\n",
       "┌─────────────┬──────┬──────┬────────────┬─────────────────┬─────────────────────────────────┐\n",
       "│ Entity      ┆ Code ┆ year ┆ Day        ┆ Average surface ┆ Average surface temperature_du… │\n",
       "│ ---         ┆ ---  ┆ ---  ┆ ---        ┆ temperature     ┆ ---                             │\n",
       "│ str         ┆ str  ┆ i64  ┆ str        ┆ ---             ┆ f64                             │\n",
       "│             ┆      ┆      ┆            ┆ f64             ┆                                 │\n",
       "╞═════════════╪══════╪══════╪════════════╪═════════════════╪═════════════════════════════════╡\n",
       "│ Afghanistan ┆ AFG  ┆ 1940 ┆ 1940-01-15 ┆ -2.032494       ┆ 11.327695                       │\n",
       "│ Afghanistan ┆ AFG  ┆ 1940 ┆ 1940-02-15 ┆ -0.733503       ┆ 11.327695                       │\n",
       "└─────────────┴──────┴──────┴────────────┴─────────────────┴─────────────────────────────────┘"
      ]
     },
     "execution_count": 32,
     "metadata": {},
     "output_type": "execute_result"
    }
   ],
   "source": [
    "temperature_tmp = pl.read_csv('raw_data/Our World In Data/average-monthly-surface-temperature.csv')\n",
    "sql.register('temperature_tmp', temperature_tmp)\n",
    "sql.execute('''select * from temperature_tmp limit 2;''').collect()"
   ]
  },
  {
   "cell_type": "code",
   "execution_count": 57,
   "metadata": {},
   "outputs": [
    {
     "data": {
      "text/html": [
       "<div><style>\n",
       ".dataframe > thead > tr,\n",
       ".dataframe > tbody > tr {\n",
       "  text-align: right;\n",
       "  white-space: pre-wrap;\n",
       "}\n",
       "</style>\n",
       "<small>shape: (2, 3)</small><table border=\"1\" class=\"dataframe\"><thead><tr><th>country</th><th>t</th><th>average_surface_temperature</th></tr><tr><td>str</td><td>i64</td><td>f64</td></tr></thead><tbody><tr><td>&quot;CHN&quot;</td><td>2020</td><td>7.606333</td></tr><tr><td>&quot;CYP&quot;</td><td>2024</td><td>20.615953</td></tr></tbody></table></div>"
      ],
      "text/plain": [
       "shape: (2, 3)\n",
       "┌─────────┬──────┬─────────────────────────────┐\n",
       "│ country ┆ t    ┆ average_surface_temperature │\n",
       "│ ---     ┆ ---  ┆ ---                         │\n",
       "│ str     ┆ i64  ┆ f64                         │\n",
       "╞═════════╪══════╪═════════════════════════════╡\n",
       "│ CHN     ┆ 2020 ┆ 7.606333                    │\n",
       "│ CYP     ┆ 2024 ┆ 20.615953                   │\n",
       "└─────────┴──────┴─────────────────────────────┘"
      ]
     },
     "execution_count": 57,
     "metadata": {},
     "output_type": "execute_result"
    }
   ],
   "source": [
    "sql.execute('''create table temperature as\n",
    "    select \n",
    "        Code as country\n",
    "        , year t   \n",
    "        , avg(`Average surface temperature`) as average_surface_temperature\n",
    "    from temperature_tmp\n",
    "    where year >= 2020 --and year <= 2019\n",
    "    group by Code, year               \n",
    ";''')\n",
    "sql.execute('''select * from temperature limit 2;''').collect()"
   ]
  },
  {
   "cell_type": "markdown",
   "metadata": {},
   "source": [
    "### Median age"
   ]
  },
  {
   "cell_type": "code",
   "execution_count": 58,
   "metadata": {},
   "outputs": [
    {
     "name": "stderr",
     "output_type": "stream",
     "text": [
      "Could not determine dtype for column 5, falling back to string\n",
      "Could not determine dtype for column 6, falling back to string\n"
     ]
    },
    {
     "data": {
      "text/html": [
       "<div><style>\n",
       ".dataframe > thead > tr,\n",
       ".dataframe > tbody > tr {\n",
       "  text-align: right;\n",
       "  white-space: pre-wrap;\n",
       "}\n",
       "</style>\n",
       "<small>shape: (2, 65)</small><table border=\"1\" class=\"dataframe\"><thead><tr><th>Index</th><th>Variant</th><th>Region, subregion, country or area *</th><th>Notes</th><th>Location code</th><th>ISO3 Alpha-code</th><th>ISO2 Alpha-code</th><th>SDMX code**</th><th>Type</th><th>Parent code</th><th>Year</th><th>Total Population, as of 1 January (thousands)</th><th>Total Population, as of 1 July (thousands)</th><th>Male Population, as of 1 July (thousands)</th><th>Female Population, as of 1 July (thousands)</th><th>Population Density, as of 1 July (persons per square km)</th><th>Population Sex Ratio, as of 1 July (males per 100 females)</th><th>MedianAge1July</th><th>Natural Change, Births minus Deaths (thousands)</th><th>Rate of Natural Change (per 1,000 population)</th><th>Population Change (thousands)</th><th>Population Growth Rate (percentage)</th><th>Population Annual Doubling Time (years)</th><th>Births (thousands)</th><th>Births by women aged 15 to 19 (thousands)</th><th>Crude Birth Rate (births per 1,000 population)</th><th>Total Fertility Rate (live births per woman)</th><th>Net Reproduction Rate (surviving daughters per woman)</th><th>Mean Age Childbearing (years)</th><th>Sex Ratio at Birth (males per 100 female births)</th><th>Total Deaths (thousands)</th><th>Male Deaths (thousands)</th><th>Female Deaths (thousands)</th><th>Crude Death Rate (deaths per 1,000 population)</th><th>Life Expectancy at Birth, both sexes (years)</th><th>Male Life Expectancy at Birth (years)</th><th>Female Life Expectancy at Birth (years)</th><th>Life Expectancy at Age 15, both sexes (years)</th><th>Male Life Expectancy at Age 15 (years)</th><th>Female Life Expectancy at Age 15 (years)</th><th>Life Expectancy at Age 65, both sexes (years)</th><th>Male Life Expectancy at Age 65 (years)</th><th>Female Life Expectancy at Age 65 (years)</th><th>Life Expectancy at Age 80, both sexes (years)</th><th>Male Life Expectancy at Age 80 (years)</th><th>Female Life Expectancy at Age 80 (years)</th><th>Infant Deaths, under age 1 (thousands)</th><th>Infant Mortality Rate (infant deaths per 1,000 live births)</th><th>Live Births Surviving to Age 1 (thousands)</th><th>Under-Five Deaths, under age 5 (thousands)</th><th>Under-Five Mortality (deaths under age 5 per 1,000 live births)</th><th>Mortality before Age 40, both sexes (deaths under age 40 per 1,000 live births)</th><th>Male Mortality before Age 40 (deaths under age 40 per 1,000 male live births)</th><th>Female Mortality before Age 40 (deaths under age 40 per 1,000 female live births)</th><th>Mortality before Age 60, both sexes (deaths under age 60 per 1,000 live births)</th><th>Male Mortality before Age 60 (deaths under age 60 per 1,000 male live births)</th><th>Female Mortality before Age 60 (deaths under age 60 per 1,000 female live births)</th><th>Mortality between Age 15 and 50, both sexes (deaths under age 50 per 1,000 alive at age 15)</th><th>Male Mortality between Age 15 and 50 (deaths under age 50 per 1,000 males alive at age 15)</th><th>Female Mortality between Age 15 and 50 (deaths under age 50 per 1,000 females alive at age 15)</th><th>Mortality between Age 15 and 60, both sexes (deaths under age 60 per 1,000 alive at age 15)</th><th>Male Mortality between Age 15 and 60 (deaths under age 60 per 1,000 males alive at age 15)</th><th>Female Mortality between Age 15 and 60 (deaths under age 60 per 1,000 females alive at age 15)</th><th>Net Number of Migrants (thousands)</th><th>Net Migration Rate (per 1,000 population)</th></tr><tr><td>i64</td><td>str</td><td>str</td><td>str</td><td>i64</td><td>str</td><td>str</td><td>i64</td><td>str</td><td>i64</td><td>i64</td><td>str</td><td>str</td><td>str</td><td>str</td><td>str</td><td>str</td><td>str</td><td>str</td><td>str</td><td>str</td><td>str</td><td>str</td><td>str</td><td>str</td><td>str</td><td>str</td><td>str</td><td>str</td><td>str</td><td>str</td><td>str</td><td>str</td><td>str</td><td>str</td><td>str</td><td>str</td><td>str</td><td>str</td><td>str</td><td>str</td><td>str</td><td>str</td><td>str</td><td>str</td><td>str</td><td>str</td><td>str</td><td>str</td><td>str</td><td>str</td><td>str</td><td>str</td><td>str</td><td>str</td><td>str</td><td>str</td><td>str</td><td>str</td><td>str</td><td>str</td><td>str</td><td>str</td><td>str</td><td>str</td></tr></thead><tbody><tr><td>2595</td><td>&quot;Estimates&quot;</td><td>&quot;Burundi&quot;</td><td>&quot;&quot;</td><td>108</td><td>&quot;BDI&quot;</td><td>&quot;BI&quot;</td><td>108</td><td>&quot;Country/Area&quot;</td><td>910</td><td>1950</td><td>&quot;2229.322&quot;</td><td>&quot;2254.938&quot;</td><td>&quot;1080.184&quot;</td><td>&quot;1174.755&quot;</td><td>&quot;86.895&quot;</td><td>&quot;91.95&quot;</td><td>&quot;18.305&quot;</td><td>&quot;64.551&quot;</td><td>&quot;28.627&quot;</td><td>&quot;51.232&quot;</td><td>&quot;2.272&quot;</td><td>&quot;30.508&quot;</td><td>&quot;117.211&quot;</td><td>&quot;11.582&quot;</td><td>&quot;51.98&quot;</td><td>&quot;6.923&quot;</td><td>&quot;2.072&quot;</td><td>&quot;30.674&quot;</td><td>&quot;102.5&quot;</td><td>&quot;52.66&quot;</td><td>&quot;26.76&quot;</td><td>&quot;25.899&quot;</td><td>&quot;23.353&quot;</td><td>&quot;40.938&quot;</td><td>&quot;39.571&quot;</td><td>&quot;42.245&quot;</td><td>&quot;44.916&quot;</td><td>&quot;43.636&quot;</td><td>&quot;46.095&quot;</td><td>&quot;11.048&quot;</td><td>&quot;10.594&quot;</td><td>&quot;11.423&quot;</td><td>&quot;4.728&quot;</td><td>&quot;4.454&quot;</td><td>&quot;4.937&quot;</td><td>&quot;17.777&quot;</td><td>&quot;162.866&quot;</td><td>&quot;104.421&quot;</td><td>&quot;28.358&quot;</td><td>&quot;276.13&quot;</td><td>&quot;457.62&quot;</td><td>&quot;471.554&quot;</td><td>&quot;444.227&quot;</td><td>&quot;614.352&quot;</td><td>&quot;639.661&quot;</td><td>&quot;590.518&quot;</td><td>&quot;290.807&quot;</td><td>&quot;309.954&quot;</td><td>&quot;273.27&quot;</td><td>&quot;423.97&quot;</td><td>&quot;454.751&quot;</td><td>&quot;395.92&quot;</td><td>&quot;-13.334&quot;</td><td>&quot;-5.913&quot;</td></tr><tr><td>2596</td><td>&quot;Estimates&quot;</td><td>&quot;Burundi&quot;</td><td>&quot;&quot;</td><td>108</td><td>&quot;BDI&quot;</td><td>&quot;BI&quot;</td><td>108</td><td>&quot;Country/Area&quot;</td><td>910</td><td>1951</td><td>&quot;2280.554&quot;</td><td>&quot;2305.746&quot;</td><td>&quot;1105.816&quot;</td><td>&quot;1199.93&quot;</td><td>&quot;88.853&quot;</td><td>&quot;92.157&quot;</td><td>&quot;18.056&quot;</td><td>&quot;63.595&quot;</td><td>&quot;27.581&quot;</td><td>&quot;50.384&quot;</td><td>&quot;2.185&quot;</td><td>&quot;31.723&quot;</td><td>&quot;118.043&quot;</td><td>&quot;11.668&quot;</td><td>&quot;51.195&quot;</td><td>&quot;6.914&quot;</td><td>&quot;2.084&quot;</td><td>&quot;30.674&quot;</td><td>&quot;102.5&quot;</td><td>&quot;54.448&quot;</td><td>&quot;27.79&quot;</td><td>&quot;26.659&quot;</td><td>&quot;23.614&quot;</td><td>&quot;41.229&quot;</td><td>&quot;39.791&quot;</td><td>&quot;42.61&quot;</td><td>&quot;45.059&quot;</td><td>&quot;43.712&quot;</td><td>&quot;46.3&quot;</td><td>&quot;11.101&quot;</td><td>&quot;10.618&quot;</td><td>&quot;11.499&quot;</td><td>&quot;4.758&quot;</td><td>&quot;4.466&quot;</td><td>&quot;4.977&quot;</td><td>&quot;18.99&quot;</td><td>&quot;161.198&quot;</td><td>&quot;105.294&quot;</td><td>&quot;29.948&quot;</td><td>&quot;273.119&quot;</td><td>&quot;453.776&quot;</td><td>&quot;468.57&quot;</td><td>&quot;439.498&quot;</td><td>&quot;610.436&quot;</td><td>&quot;636.943&quot;</td><td>&quot;585.391&quot;</td><td>&quot;288.479&quot;</td><td>&quot;308.601&quot;</td><td>&quot;270.021&quot;</td><td>&quot;421.038&quot;</td><td>&quot;453.082&quot;</td><td>&quot;391.799&quot;</td><td>&quot;-13.202&quot;</td><td>&quot;-5.726&quot;</td></tr></tbody></table></div>"
      ],
      "text/plain": [
       "shape: (2, 65)\n",
       "┌───────┬───────────┬─────────────┬───────┬───┬─────────────┬────────────┬────────────┬────────────┐\n",
       "│ Index ┆ Variant   ┆ Region,     ┆ Notes ┆ … ┆ Male        ┆ Female     ┆ Net Number ┆ Net        │\n",
       "│ ---   ┆ ---       ┆ subregion,  ┆ ---   ┆   ┆ Mortality   ┆ Mortality  ┆ of         ┆ Migration  │\n",
       "│ i64   ┆ str       ┆ country or  ┆ str   ┆   ┆ between Age ┆ between    ┆ Migrants   ┆ Rate (per  │\n",
       "│       ┆           ┆ …           ┆       ┆   ┆ 15 …        ┆ Age 1…     ┆ (thousa…   ┆ 1,000 …    │\n",
       "│       ┆           ┆ ---         ┆       ┆   ┆ ---         ┆ ---        ┆ ---        ┆ ---        │\n",
       "│       ┆           ┆ str         ┆       ┆   ┆ str         ┆ str        ┆ str        ┆ str        │\n",
       "╞═══════╪═══════════╪═════════════╪═══════╪═══╪═════════════╪════════════╪════════════╪════════════╡\n",
       "│ 2595  ┆ Estimates ┆ Burundi     ┆       ┆ … ┆ 454.751     ┆ 395.92     ┆ -13.334    ┆ -5.913     │\n",
       "│ 2596  ┆ Estimates ┆ Burundi     ┆       ┆ … ┆ 453.082     ┆ 391.799    ┆ -13.202    ┆ -5.726     │\n",
       "└───────┴───────────┴─────────────┴───────┴───┴─────────────┴────────────┴────────────┴────────────┘"
      ]
     },
     "execution_count": 58,
     "metadata": {},
     "output_type": "execute_result"
    }
   ],
   "source": [
    "median_age_tmp = pl.read_excel('raw_data/United Nations/WPP2024_GEN_F01_DEMOGRAPHIC_INDICATORS_COMPACT.xlsx')\n",
    "sql.register('median_age_tmp', median_age_tmp)\n",
    "sql.execute('''select * from median_age_tmp where `ISO3 Alpha-code` <> '' limit 2;''').collect()"
   ]
  },
  {
   "cell_type": "code",
   "execution_count": 59,
   "metadata": {},
   "outputs": [
    {
     "data": {
      "text/html": [
       "<div><style>\n",
       ".dataframe > thead > tr,\n",
       ".dataframe > tbody > tr {\n",
       "  text-align: right;\n",
       "  white-space: pre-wrap;\n",
       "}\n",
       "</style>\n",
       "<small>shape: (2, 3)</small><table border=\"1\" class=\"dataframe\"><thead><tr><th>country</th><th>t</th><th>median_age</th></tr><tr><td>str</td><td>i64</td><td>f32</td></tr></thead><tbody><tr><td>&quot;URY&quot;</td><td>2022</td><td>35.495998</td></tr><tr><td>&quot;BGR&quot;</td><td>2021</td><td>44.042999</td></tr></tbody></table></div>"
      ],
      "text/plain": [
       "shape: (2, 3)\n",
       "┌─────────┬──────┬────────────┐\n",
       "│ country ┆ t    ┆ median_age │\n",
       "│ ---     ┆ ---  ┆ ---        │\n",
       "│ str     ┆ i64  ┆ f32        │\n",
       "╞═════════╪══════╪════════════╡\n",
       "│ URY     ┆ 2022 ┆ 35.495998  │\n",
       "│ BGR     ┆ 2021 ┆ 44.042999  │\n",
       "└─────────┴──────┴────────────┘"
      ]
     },
     "execution_count": 59,
     "metadata": {},
     "output_type": "execute_result"
    }
   ],
   "source": [
    "sql.execute('''create table median_age_table as\n",
    "    select \n",
    "        `ISO3 Alpha-code` as country\n",
    "        , Year as t\n",
    "        , avg(MedianAge1July::float4) as median_age\n",
    "    from median_age_tmp\n",
    "    where `ISO3 Alpha-code` <> '' \n",
    "            and Year >= 2020       \n",
    "    group by `ISO3 Alpha-code`, Year       \n",
    ";''')\n",
    "sql.execute('''select * from median_age_table limit 2;''').collect()"
   ]
  },
  {
   "cell_type": "markdown",
   "metadata": {},
   "source": [
    "### SARS"
   ]
  },
  {
   "cell_type": "code",
   "execution_count": 60,
   "metadata": {},
   "outputs": [
    {
     "data": {
      "text/html": [
       "<div><style>\n",
       ".dataframe > thead > tr,\n",
       ".dataframe > tbody > tr {\n",
       "  text-align: right;\n",
       "  white-space: pre-wrap;\n",
       "}\n",
       "</style>\n",
       "<small>shape: (2, 2)</small><table border=\"1\" class=\"dataframe\"><thead><tr><th>country</th><th>SARS_total_cases</th></tr><tr><td>str</td><td>i64</td></tr></thead><tbody><tr><td>&quot;AUT&quot;</td><td>6</td></tr><tr><td>&quot;CAN&quot;</td><td>251</td></tr></tbody></table></div>"
      ],
      "text/plain": [
       "shape: (2, 2)\n",
       "┌─────────┬──────────────────┐\n",
       "│ country ┆ SARS_total_cases │\n",
       "│ ---     ┆ ---              │\n",
       "│ str     ┆ i64              │\n",
       "╞═════════╪══════════════════╡\n",
       "│ AUT     ┆ 6                │\n",
       "│ CAN     ┆ 251              │\n",
       "└─────────┴──────────────────┘"
      ]
     },
     "execution_count": 60,
     "metadata": {},
     "output_type": "execute_result"
    }
   ],
   "source": [
    "SARS_table_tmp = pl.read_excel('raw_data/WHO/SARS.xlsx')\n",
    "sql.register('SARS_table_tmp', SARS_table_tmp)\n",
    "sql.execute('''create table SARS_table as \n",
    "            select iso3 as country, Total as SARS_total_cases \n",
    "            from SARS_table_tmp;''').collect()\n",
    "sql.execute('''select * from SARS_table limit 2;''').collect()"
   ]
  },
  {
   "cell_type": "markdown",
   "metadata": {},
   "source": [
    "### Плотность населения и смертность"
   ]
  },
  {
   "cell_type": "code",
   "execution_count": 61,
   "metadata": {},
   "outputs": [
    {
     "data": {
      "text/html": [
       "<div><style>\n",
       ".dataframe > thead > tr,\n",
       ".dataframe > tbody > tr {\n",
       "  text-align: right;\n",
       "  white-space: pre-wrap;\n",
       "}\n",
       "</style>\n",
       "<small>shape: (2, 16)</small><table border=\"1\" class=\"dataframe\"><thead><tr><th>Time</th><th>Time Code</th><th>Country Name</th><th>Country Code</th><th>Population density (people per sq. km of land area) [EN.POP.DNST]</th><th>Population, female (% of total population) [SP.POP.TOTL.FE.ZS]</th><th>Maternal mortality ratio (national estimate, per 100,000 live births) [SH.STA.MMRT.NE]</th><th>Mortality from CVD, cancer, diabetes or CRD between exact ages 30 and 70 (%) [SH.DYN.NCOM.ZS]</th><th>Mortality rate attributed to household and ambient air pollution, age-standardized (per 100,000 population) [SH.STA.AIRP.P5]</th><th>Mortality rate attributed to unintentional poisoning (per 100,000 population) [SH.STA.POIS.P5]</th><th>Mortality rate attributed to unsafe water, unsafe sanitation and lack of hygiene (per 100,000 population) [SH.STA.WASH.P5]</th><th>Mortality rate, adult, female (per 1,000 female adults) [SP.DYN.AMRT.FE]</th><th>Mortality rate, adult, male (per 1,000 male adults) [SP.DYN.AMRT.MA]</th><th>Mortality rate, infant (per 1,000 live births) [SP.DYN.IMRT.IN]</th><th>Population in the largest city (% of urban population) [EN.URB.LCTY.UR.ZS]</th><th>Population in urban agglomerations of more than 1 million (% of total population) [EN.URB.MCTY.TL.ZS]</th></tr><tr><td>i64</td><td>str</td><td>str</td><td>str</td><td>f64</td><td>f64</td><td>i64</td><td>str</td><td>str</td><td>str</td><td>str</td><td>f64</td><td>f64</td><td>f64</td><td>f64</td><td>f64</td></tr></thead><tbody><tr><td>1990</td><td>&quot;YR1990&quot;</td><td>&quot;Afghanistan&quot;</td><td>&quot;AFG&quot;</td><td>18.468424</td><td>50.096823</td><td>null</td><td>null</td><td>null</td><td>null</td><td>null</td><td>382.051</td><td>510.052</td><td>122.5</td><td>60.735996</td><td>12.86206</td></tr><tr><td>1990</td><td>&quot;YR1990&quot;</td><td>&quot;Albania&quot;</td><td>&quot;ALB&quot;</td><td>119.946788</td><td>49.765495</td><td>null</td><td>null</td><td>null</td><td>null</td><td>null</td><td>66.103</td><td>127.21</td><td>35.2</td><td>20.653647</td><td>null</td></tr></tbody></table></div>"
      ],
      "text/plain": [
       "shape: (2, 16)\n",
       "┌──────┬───────────┬────────────┬────────────┬───┬────────────┬────────────┬───────────┬───────────┐\n",
       "│ Time ┆ Time Code ┆ Country    ┆ Country    ┆ … ┆ Mortality  ┆ Mortality  ┆ Populatio ┆ Populatio │\n",
       "│ ---  ┆ ---       ┆ Name       ┆ Code       ┆   ┆ rate,      ┆ rate,      ┆ n in the  ┆ n in      │\n",
       "│ i64  ┆ str       ┆ ---        ┆ ---        ┆   ┆ adult,     ┆ infant     ┆ largest   ┆ urban agg │\n",
       "│      ┆           ┆ str        ┆ str        ┆   ┆ male (p…   ┆ (per 1,…   ┆ city…     ┆ lomerat…  │\n",
       "│      ┆           ┆            ┆            ┆   ┆ ---        ┆ ---        ┆ ---       ┆ ---       │\n",
       "│      ┆           ┆            ┆            ┆   ┆ f64        ┆ f64        ┆ f64       ┆ f64       │\n",
       "╞══════╪═══════════╪════════════╪════════════╪═══╪════════════╪════════════╪═══════════╪═══════════╡\n",
       "│ 1990 ┆ YR1990    ┆ Afghanista ┆ AFG        ┆ … ┆ 510.052    ┆ 122.5      ┆ 60.735996 ┆ 12.86206  │\n",
       "│      ┆           ┆ n          ┆            ┆   ┆            ┆            ┆           ┆           │\n",
       "│ 1990 ┆ YR1990    ┆ Albania    ┆ ALB        ┆ … ┆ 127.21     ┆ 35.2       ┆ 20.653647 ┆ null      │\n",
       "└──────┴───────────┴────────────┴────────────┴───┴────────────┴────────────┴───────────┴───────────┘"
      ]
     },
     "execution_count": 61,
     "metadata": {},
     "output_type": "execute_result"
    }
   ],
   "source": [
    "density_and_mortality_tmp = pl.read_csv('raw_data/World Bank/pop_dens_and_mortality.csv')\n",
    "sql.register('density_and_mortality_tmp', density_and_mortality_tmp)\n",
    "sql.execute('''select * from density_and_mortality_tmp limit 2;''').collect()"
   ]
  },
  {
   "cell_type": "code",
   "execution_count": 63,
   "metadata": {},
   "outputs": [
    {
     "data": {
      "text/html": [
       "<div><style>\n",
       ".dataframe > thead > tr,\n",
       ".dataframe > tbody > tr {\n",
       "  text-align: right;\n",
       "  white-space: pre-wrap;\n",
       "}\n",
       "</style>\n",
       "<small>shape: (10, 14)</small><table border=\"1\" class=\"dataframe\"><thead><tr><th>country</th><th>t</th><th>population_density</th><th>female_ratio</th><th>maternal_mortality</th><th>cvd_mortality</th><th>pollution_mortality</th><th>poisoning_mortality</th><th>hygiene_mortality</th><th>female_mortality</th><th>male_mortality</th><th>infant_mortality</th><th>largest_city_share</th><th>urbanization</th></tr><tr><td>str</td><td>i64</td><td>f64</td><td>f64</td><td>f32</td><td>f32</td><td>f32</td><td>f32</td><td>f32</td><td>f32</td><td>f32</td><td>f32</td><td>f32</td><td>f32</td></tr></thead><tbody><tr><td>&quot;ABW&quot;</td><td>2020</td><td>603.261111</td><td>52.844507</td><td>null</td><td>null</td><td>null</td><td>null</td><td>null</td><td>59.681999</td><td>124.098999</td><td>null</td><td>null</td><td>null</td></tr><tr><td>&quot;ABW&quot;</td><td>2021</td><td>598.333333</td><td>52.83196</td><td>null</td><td>null</td><td>null</td><td>null</td><td>null</td><td>70.364998</td><td>140.466003</td><td>null</td><td>null</td><td>null</td></tr><tr><td>&quot;ABW&quot;</td><td>2022</td><td>596.166667</td><td>52.792674</td><td>null</td><td>null</td><td>null</td><td>null</td><td>null</td><td>67.945999</td><td>137.216003</td><td>null</td><td>null</td><td>null</td></tr><tr><td>&quot;ABW&quot;</td><td>2023</td><td>null</td><td>52.76962</td><td>null</td><td>null</td><td>null</td><td>null</td><td>null</td><td>null</td><td>null</td><td>null</td><td>null</td><td>null</td></tr><tr><td>&quot;AFE&quot;</td><td>2020</td><td>46.779514</td><td>50.525117</td><td>null</td><td>null</td><td>null</td><td>null</td><td>null</td><td>224.25235</td><td>311.401581</td><td>42.858887</td><td>27.929363</td><td>14.379939</td></tr><tr><td>&quot;AFE&quot;</td><td>2021</td><td>48.035473</td><td>50.519416</td><td>null</td><td>null</td><td>null</td><td>null</td><td>null</td><td>237.652527</td><td>332.734894</td><td>41.823822</td><td>27.894281</td><td>14.508222</td></tr><tr><td>&quot;AFE&quot;</td><td>2022</td><td>49.297201</td><td>50.51171</td><td>null</td><td>null</td><td>null</td><td>null</td><td>null</td><td>233.05043</td><td>326.323669</td><td>40.797623</td><td>27.883209</td><td>14.649723</td></tr><tr><td>&quot;AFE&quot;</td><td>2023</td><td>null</td><td>50.502844</td><td>null</td><td>null</td><td>null</td><td>null</td><td>null</td><td>null</td><td>null</td><td>null</td><td>27.901375</td><td>14.812855</td></tr><tr><td>&quot;AFG&quot;</td><td>2020</td><td>59.900616</td><td>49.511222</td><td>null</td><td>null</td><td>null</td><td>null</td><td>null</td><td>210.052994</td><td>318.587006</td><td>47.400002</td><td>41.517445</td><td>10.805329</td></tr><tr><td>&quot;AFG&quot;</td><td>2021</td><td>61.328691</td><td>49.53438</td><td>null</td><td>null</td><td>null</td><td>null</td><td>null</td><td>214.240997</td><td>342.15799</td><td>46.099998</td><td>41.192192</td><td>10.839314</td></tr></tbody></table></div>"
      ],
      "text/plain": [
       "shape: (10, 14)\n",
       "┌─────────┬──────┬────────────┬────────────┬───┬────────────┬────────────┬────────────┬────────────┐\n",
       "│ country ┆ t    ┆ population ┆ female_rat ┆ … ┆ male_morta ┆ infant_mor ┆ largest_ci ┆ urbanizati │\n",
       "│ ---     ┆ ---  ┆ _density   ┆ io         ┆   ┆ lity       ┆ tality     ┆ ty_share   ┆ on         │\n",
       "│ str     ┆ i64  ┆ ---        ┆ ---        ┆   ┆ ---        ┆ ---        ┆ ---        ┆ ---        │\n",
       "│         ┆      ┆ f64        ┆ f64        ┆   ┆ f32        ┆ f32        ┆ f32        ┆ f32        │\n",
       "╞═════════╪══════╪════════════╪════════════╪═══╪════════════╪════════════╪════════════╪════════════╡\n",
       "│ ABW     ┆ 2020 ┆ 603.261111 ┆ 52.844507  ┆ … ┆ 124.098999 ┆ null       ┆ null       ┆ null       │\n",
       "│ ABW     ┆ 2021 ┆ 598.333333 ┆ 52.83196   ┆ … ┆ 140.466003 ┆ null       ┆ null       ┆ null       │\n",
       "│ ABW     ┆ 2022 ┆ 596.166667 ┆ 52.792674  ┆ … ┆ 137.216003 ┆ null       ┆ null       ┆ null       │\n",
       "│ ABW     ┆ 2023 ┆ null       ┆ 52.76962   ┆ … ┆ null       ┆ null       ┆ null       ┆ null       │\n",
       "│ AFE     ┆ 2020 ┆ 46.779514  ┆ 50.525117  ┆ … ┆ 311.401581 ┆ 42.858887  ┆ 27.929363  ┆ 14.379939  │\n",
       "│ AFE     ┆ 2021 ┆ 48.035473  ┆ 50.519416  ┆ … ┆ 332.734894 ┆ 41.823822  ┆ 27.894281  ┆ 14.508222  │\n",
       "│ AFE     ┆ 2022 ┆ 49.297201  ┆ 50.51171   ┆ … ┆ 326.323669 ┆ 40.797623  ┆ 27.883209  ┆ 14.649723  │\n",
       "│ AFE     ┆ 2023 ┆ null       ┆ 50.502844  ┆ … ┆ null       ┆ null       ┆ 27.901375  ┆ 14.812855  │\n",
       "│ AFG     ┆ 2020 ┆ 59.900616  ┆ 49.511222  ┆ … ┆ 318.587006 ┆ 47.400002  ┆ 41.517445  ┆ 10.805329  │\n",
       "│ AFG     ┆ 2021 ┆ 61.328691  ┆ 49.53438   ┆ … ┆ 342.15799  ┆ 46.099998  ┆ 41.192192  ┆ 10.839314  │\n",
       "└─────────┴──────┴────────────┴────────────┴───┴────────────┴────────────┴────────────┴────────────┘"
      ]
     },
     "execution_count": 63,
     "metadata": {},
     "output_type": "execute_result"
    }
   ],
   "source": [
    "sql.execute('''create table density_and_mortality as\n",
    "    select \n",
    "        `Country Code` as country\n",
    "        , Time as t\n",
    "        , avg(`Population density (people per sq. km of land area) [EN.POP.DNST]`) population_density\n",
    "        , avg(`Population, female (% of total population) [SP.POP.TOTL.FE.ZS]`) female_ratio\n",
    "        , avg(`Maternal mortality ratio (national estimate, per 100,000 live births) [SH.STA.MMRT.NE]`)::float4 maternal_mortality\n",
    "        , avg(`Mortality from CVD, cancer, diabetes or CRD between exact ages 30 and 70 (%) [SH.DYN.NCOM.ZS]`)::float4 cvd_mortality\n",
    "        , avg(`Mortality rate attributed to household and ambient air pollution, age-standardized (per 100,000 population) [SH.STA.AIRP.P5]`)::float4 pollution_mortality\n",
    "        , avg(`Mortality rate attributed to unintentional poisoning (per 100,000 population) [SH.STA.POIS.P5]`)::float4 poisoning_mortality \n",
    "        , avg(`Mortality rate attributed to unsafe water, unsafe sanitation and lack of hygiene (per 100,000 population) [SH.STA.WASH.P5]`)::float4 hygiene_mortality\n",
    "        , avg(`Mortality rate, adult, female (per 1,000 female adults) [SP.DYN.AMRT.FE]`)::float4 female_mortality\n",
    "        , avg(`Mortality rate, adult, male (per 1,000 male adults) [SP.DYN.AMRT.MA]`)::float4 male_mortality\n",
    "        , avg(`Mortality rate, infant (per 1,000 live births) [SP.DYN.IMRT.IN]`)::float4 infant_mortality\n",
    "        , avg(`Population in the largest city (% of urban population) [EN.URB.LCTY.UR.ZS]`)::float4 largest_city_share\n",
    "        , avg(`Population in urban agglomerations of more than 1 million (% of total population) [EN.URB.MCTY.TL.ZS]`)::float4 urbanization \n",
    "    from density_and_mortality_tmp\n",
    "    where Time >= 2020        \n",
    "    group by `Country Code`, Time\n",
    ";''')\n",
    "sql.execute('''select * from density_and_mortality order by country, t limit 10;''').collect()"
   ]
  },
  {
   "cell_type": "markdown",
   "metadata": {},
   "source": [
    "## Переменные, которые не входят в первый приоритет"
   ]
  },
  {
   "cell_type": "code",
   "execution_count": 64,
   "metadata": {},
   "outputs": [
    {
     "name": "stderr",
     "output_type": "stream",
     "text": [
      "Could not determine dtype for column 9, falling back to string\n",
      "Could not determine dtype for column 10, falling back to string\n"
     ]
    },
    {
     "data": {
      "text/html": [
       "<div><style>\n",
       ".dataframe > thead > tr,\n",
       ".dataframe > tbody > tr {\n",
       "  text-align: right;\n",
       "  white-space: pre-wrap;\n",
       "}\n",
       "</style>\n",
       "<small>shape: (2, 9)</small><table border=\"1\" class=\"dataframe\"><thead><tr><th>Country or area</th><th>ISO Code</th><th>Data source category</th><th>Reference date (dd/mm/yyyy)</th><th>Average household size (number of members)</th><th>1 member</th><th>2-3 members</th><th>4-5 members</th><th>6 or more members</th></tr><tr><td>str</td><td>i64</td><td>str</td><td>str</td><td>f64</td><td>f64</td><td>f64</td><td>f64</td><td>f64</td></tr></thead><tbody><tr><td>&quot;Afghanistan&quot;</td><td>4</td><td>&quot;MICS&quot;</td><td>&quot;2010-01-07 00:00:00&quot;</td><td>7.75</td><td>0.15</td><td>7.41</td><td>18.59</td><td>73.85</td></tr><tr><td>&quot;Afghanistan&quot;</td><td>4</td><td>&quot;DHS&quot;</td><td>&quot;19/10/2015&quot;</td><td>8.04</td><td>0.19</td><td>6.45</td><td>16.84</td><td>76.52</td></tr></tbody></table></div>"
      ],
      "text/plain": [
       "shape: (2, 9)\n",
       "┌────────────┬──────────┬───────────┬───────────┬───┬──────────┬───────────┬───────────┬───────────┐\n",
       "│ Country or ┆ ISO Code ┆ Data      ┆ Reference ┆ … ┆ 1 member ┆ 2-3       ┆ 4-5       ┆ 6 or more │\n",
       "│ area       ┆ ---      ┆ source    ┆ date (dd/ ┆   ┆ ---      ┆ members   ┆ members   ┆ members   │\n",
       "│ ---        ┆ i64      ┆ category  ┆ mm/yyyy)  ┆   ┆ f64      ┆ ---       ┆ ---       ┆ ---       │\n",
       "│ str        ┆          ┆ ---       ┆ ---       ┆   ┆          ┆ f64       ┆ f64       ┆ f64       │\n",
       "│            ┆          ┆ str       ┆ str       ┆   ┆          ┆           ┆           ┆           │\n",
       "╞════════════╪══════════╪═══════════╪═══════════╪═══╪══════════╪═══════════╪═══════════╪═══════════╡\n",
       "│ Afghanista ┆ 4        ┆ MICS      ┆ 2010-01-0 ┆ … ┆ 0.15     ┆ 7.41      ┆ 18.59     ┆ 73.85     │\n",
       "│ n          ┆          ┆           ┆ 7         ┆   ┆          ┆           ┆           ┆           │\n",
       "│            ┆          ┆           ┆ 00:00:00  ┆   ┆          ┆           ┆           ┆           │\n",
       "│ Afghanista ┆ 4        ┆ DHS       ┆ 19/10/201 ┆ … ┆ 0.19     ┆ 6.45      ┆ 16.84     ┆ 76.52     │\n",
       "│ n          ┆          ┆           ┆ 5         ┆   ┆          ┆           ┆           ┆           │\n",
       "└────────────┴──────────┴───────────┴───────────┴───┴──────────┴───────────┴───────────┴───────────┘"
      ]
     },
     "execution_count": 64,
     "metadata": {},
     "output_type": "execute_result"
    }
   ],
   "source": [
    "household_size_tmp = pl.read_excel('raw_data/United Nations/undesa_pd_2022_hh-size-composition.xlsx')\n",
    "sql.register('household_size_tmp', household_size_tmp)\n",
    "sql.execute('''select * from household_size_tmp limit 2;''').collect()"
   ]
  },
  {
   "cell_type": "code",
   "execution_count": 65,
   "metadata": {},
   "outputs": [
    {
     "data": {
      "text/html": [
       "<div><style>\n",
       ".dataframe > thead > tr,\n",
       ".dataframe > tbody > tr {\n",
       "  text-align: right;\n",
       "  white-space: pre-wrap;\n",
       "}\n",
       "</style>\n",
       "<small>shape: (10, 5)</small><table border=\"1\" class=\"dataframe\"><thead><tr><th>country</th><th>avg_hh_size</th><th>share_1_members</th><th>share_2_3_members</th><th>share_4_5_members</th></tr><tr><td>str</td><td>f32</td><td>f32</td><td>f32</td><td>f32</td></tr></thead><tbody><tr><td>&quot;AUS&quot;</td><td>2.55</td><td>null</td><td>null</td><td>null</td></tr><tr><td>&quot;JAM&quot;</td><td>3.06</td><td>null</td><td>null</td><td>null</td></tr><tr><td>&quot;KNA&quot;</td><td>null</td><td>null</td><td>null</td><td>null</td></tr><tr><td>&quot;NZL&quot;</td><td>2.6</td><td>null</td><td>null</td><td>null</td></tr><tr><td>&quot;LVA&quot;</td><td>2.26</td><td>41.080002</td><td>40.799999</td><td>14.41</td></tr><tr><td>&quot;FIN&quot;</td><td>2.07</td><td>41.009998</td><td>44.459999</td><td>12.97</td></tr><tr><td>&quot;BLR&quot;</td><td>2.16</td><td>37.959999</td><td>47.02</td><td>13.54</td></tr><tr><td>&quot;DEU&quot;</td><td>2.14</td><td>37.27</td><td>48.09</td><td>13.21</td></tr><tr><td>&quot;AUT&quot;</td><td>2.27</td><td>36.290001</td><td>44.93</td><td>16.49</td></tr><tr><td>&quot;NLD&quot;</td><td>2.23</td><td>35.110001</td><td>45.529999</td><td>18.01</td></tr></tbody></table></div>"
      ],
      "text/plain": [
       "shape: (10, 5)\n",
       "┌─────────┬─────────────┬─────────────────┬───────────────────┬───────────────────┐\n",
       "│ country ┆ avg_hh_size ┆ share_1_members ┆ share_2_3_members ┆ share_4_5_members │\n",
       "│ ---     ┆ ---         ┆ ---             ┆ ---               ┆ ---               │\n",
       "│ str     ┆ f32         ┆ f32             ┆ f32               ┆ f32               │\n",
       "╞═════════╪═════════════╪═════════════════╪═══════════════════╪═══════════════════╡\n",
       "│ AUS     ┆ 2.55        ┆ null            ┆ null              ┆ null              │\n",
       "│ JAM     ┆ 3.06        ┆ null            ┆ null              ┆ null              │\n",
       "│ KNA     ┆ null        ┆ null            ┆ null              ┆ null              │\n",
       "│ NZL     ┆ 2.6         ┆ null            ┆ null              ┆ null              │\n",
       "│ LVA     ┆ 2.26        ┆ 41.080002       ┆ 40.799999         ┆ 14.41             │\n",
       "│ FIN     ┆ 2.07        ┆ 41.009998       ┆ 44.459999         ┆ 12.97             │\n",
       "│ BLR     ┆ 2.16        ┆ 37.959999       ┆ 47.02             ┆ 13.54             │\n",
       "│ DEU     ┆ 2.14        ┆ 37.27           ┆ 48.09             ┆ 13.21             │\n",
       "│ AUT     ┆ 2.27        ┆ 36.290001       ┆ 44.93             ┆ 16.49             │\n",
       "│ NLD     ┆ 2.23        ┆ 35.110001       ┆ 45.529999         ┆ 18.01             │\n",
       "└─────────┴─────────────┴─────────────────┴───────────────────┴───────────────────┘"
      ]
     },
     "execution_count": 65,
     "metadata": {},
     "output_type": "execute_result"
    }
   ],
   "source": [
    "sql.execute('''create table household_size as\n",
    "            select country, avg_hh_size, share_1_members, share_2_3_members, share_4_5_members\n",
    "            from\n",
    "            (select distinct on(country)\n",
    "                cc.country_iso3 as country\n",
    "                , case when `Reference date (dd/mm/yyyy)` like '__/__/____' then right(`Reference date (dd/mm/yyyy)`, 4)\n",
    "                    else left(`Reference date (dd/mm/yyyy)`, 4) end ::int as year \n",
    "                , `Data source category` as data_source\n",
    "                , `Average household size (number of members)`::float4 avg_hh_size\n",
    "                , `1 member`::float4 as share_1_members\n",
    "                , `2-3 members`::float4 as share_2_3_members\n",
    "                , `4-5 members`::float4 as share_4_5_members\n",
    "            from household_size_tmp hh\n",
    "            inner join country_codes cc\n",
    "                on hh.`ISO Code` = cc.country_code\n",
    "            order by 1, 2 desc\n",
    "            , data_source -- для детерминированности\n",
    "            ) sub\n",
    ";\n",
    "''')\n",
    "sql.execute('''select * from household_size order by 3 desc limit 10;''').collect()"
   ]
  },
  {
   "cell_type": "markdown",
   "metadata": {},
   "source": [
    "## Соединяю информацию о коронавирусе, ограничениях и контрольных переменных в одну таблицу и экспортирую её"
   ]
  },
  {
   "cell_type": "code",
   "execution_count": 66,
   "metadata": {},
   "outputs": [
    {
     "data": {
      "text/html": [
       "<div><style>\n",
       ".dataframe > thead > tr,\n",
       ".dataframe > tbody > tr {\n",
       "  text-align: right;\n",
       "  white-space: pre-wrap;\n",
       "}\n",
       "</style>\n",
       "<small>shape: (765, 58)</small><table border=\"1\" class=\"dataframe\"><thead><tr><th>country</th><th>t</th><th>cases</th><th>deaths</th><th>tests</th><th>C1M_School_closing</th><th>C2M_Workplace_closing</th><th>C3M_Cancel_public_events</th><th>C4M_Restrictions_on_gatherings</th><th>C5M_Close_public_transport</th><th>C6M_Stay_at_home_requirements</th><th>C7M_Restrictions_on_internal_movement</th><th>C8EV_International_travel_controls</th><th>E1_Income_support</th><th>E2_Debt_contract_relief</th><th>E3_Fiscal_measures</th><th>E4_International_support</th><th>H1_Public_information_campaigns</th><th>H2_Testing_policy</th><th>H3_Contact_tracing</th><th>H4_Emergency_investment_in_healthcare</th><th>H5_Investment_in_vaccines</th><th>H6M_Facial_Coverings</th><th>H7_Vaccination_policy</th><th>H8M_Protection_of_elderly_people</th><th>StringencyIndex_Average</th><th>GovernmentResponseIndex_Average</th><th>ContainmentHealthIndex_Average</th><th>EconomicSupportIndex</th><th>MajorityVaccinated</th><th>PopulationVaccinated</th><th>country:temp</th><th>t:temp</th><th>average_surface_temperature</th><th>country:median_age_table</th><th>t:median_age_table</th><th>median_age</th><th>country:SARS_table</th><th>SARS_total_cases</th><th>country:density_and_mortality</th><th>t:density_and_mortality</th><th>population_density</th><th>female_ratio</th><th>maternal_mortality</th><th>cvd_mortality</th><th>pollution_mortality</th><th>poisoning_mortality</th><th>hygiene_mortality</th><th>female_mortality</th><th>male_mortality</th><th>infant_mortality</th><th>largest_city_share</th><th>urbanization</th><th>country:household_size</th><th>avg_hh_size</th><th>share_1_members</th><th>share_2_3_members</th><th>share_4_5_members</th></tr><tr><td>str</td><td>i16</td><td>f64</td><td>f64</td><td>str</td><td>f32</td><td>f32</td><td>f32</td><td>f32</td><td>f32</td><td>f32</td><td>f32</td><td>f32</td><td>f32</td><td>f32</td><td>f32</td><td>f32</td><td>f32</td><td>f32</td><td>f32</td><td>f32</td><td>f32</td><td>f32</td><td>f32</td><td>f32</td><td>f32</td><td>f32</td><td>f32</td><td>f32</td><td>f32</td><td>f32</td><td>str</td><td>i64</td><td>f64</td><td>str</td><td>i64</td><td>f32</td><td>str</td><td>i64</td><td>str</td><td>i64</td><td>f64</td><td>f64</td><td>f32</td><td>f32</td><td>f32</td><td>f32</td><td>f32</td><td>f32</td><td>f32</td><td>f32</td><td>f32</td><td>f32</td><td>str</td><td>f32</td><td>f32</td><td>f32</td><td>f32</td></tr></thead><tbody><tr><td>&quot;SLV&quot;</td><td>2020</td><td>19.625912</td><td>0.570608</td><td>null</td><td>2.426229</td><td>1.434426</td><td>1.306011</td><td>2.297814</td><td>0.833333</td><td>1.800546</td><td>1.295082</td><td>2.70765</td><td>0.751366</td><td>1.445355</td><td>4.871233e6</td><td>0.0</td><td>1.879781</td><td>0.808743</td><td>0.631148</td><td>489863.0</td><td>0.0</td><td>2.196721</td><td>0.0</td><td>2.046448</td><td>63.594536</td><td>53.958168</td><td>53.822815</td><td>54.918034</td><td>0.0</td><td>0.0</td><td>&quot;SLV&quot;</td><td>2020</td><td>26.48445</td><td>&quot;SLV&quot;</td><td>2020</td><td>25.691</td><td>null</td><td>null</td><td>&quot;SLV&quot;</td><td>2020</td><td>300.901207</td><td>52.477556</td><td>null</td><td>null</td><td>null</td><td>null</td><td>null</td><td>124.344002</td><td>293.265015</td><td>11.0</td><td>24.148672</td><td>17.73575</td><td>&quot;SLV&quot;</td><td>3.92</td><td>8.46</td><td>36.009998</td><td>37.84</td></tr><tr><td>&quot;ASM&quot;</td><td>2022</td><td>467.620027</td><td>1.926</td><td>null</td><td>null</td><td>null</td><td>null</td><td>null</td><td>null</td><td>null</td><td>null</td><td>null</td><td>null</td><td>null</td><td>null</td><td>null</td><td>null</td><td>null</td><td>null</td><td>null</td><td>null</td><td>null</td><td>null</td><td>null</td><td>null</td><td>null</td><td>null</td><td>null</td><td>null</td><td>null</td><td>&quot;ASM&quot;</td><td>2022</td><td>26.570254</td><td>&quot;ASM&quot;</td><td>2022</td><td>27.927</td><td>null</td><td>null</td><td>&quot;ASM&quot;</td><td>2022</td><td>241.71</td><td>49.464234</td><td>null</td><td>null</td><td>null</td><td>null</td><td>null</td><td>null</td><td>null</td><td>null</td><td>null</td><td>null</td><td>null</td><td>null</td><td>null</td><td>null</td><td>null</td></tr><tr><td>&quot;BOL&quot;</td><td>2020</td><td>35.130884</td><td>2.077541</td><td>null</td><td>2.418033</td><td>1.830601</td><td>1.527322</td><td>2.844262</td><td>1.420765</td><td>1.510929</td><td>1.478142</td><td>2.202186</td><td>0.754098</td><td>0.251366</td><td>3.198088e6</td><td>0.0</td><td>1.614754</td><td>0.734973</td><td>0.581967</td><td>340103.40625</td><td>0.0</td><td>1.904372</td><td>0.0</td><td>1.9153</td><td>67.19986</td><td>51.258606</td><td>54.988361</td><td>25.136612</td><td>0.0</td><td>0.0</td><td>&quot;BOL&quot;</td><td>2020</td><td>21.083227</td><td>&quot;BOL&quot;</td><td>2020</td><td>24.02</td><td>null</td><td>null</td><td>&quot;BOL&quot;</td><td>2020</td><td>10.907689</td><td>49.729903</td><td>null</td><td>null</td><td>null</td><td>null</td><td>null</td><td>190.705002</td><td>316.665009</td><td>21.0</td><td>22.421068</td><td>41.251427</td><td>&quot;BOL&quot;</td><td>3.53</td><td>20.34</td><td>34.82</td><td>27.639999</td></tr><tr><td>&quot;SLE&quot;</td><td>2020</td><td>0.850718</td><td>0.025304</td><td>null</td><td>1.606557</td><td>0.234973</td><td>1.087432</td><td>1.822404</td><td>0.336066</td><td>0.36612</td><td>0.349727</td><td>1.770492</td><td>0.0</td><td>0.418033</td><td>20491.802734</td><td>0.0</td><td>1.489071</td><td>1.508197</td><td>1.508197</td><td>10109.290039</td><td>0.0</td><td>2.081967</td><td>0.0</td><td>1.519126</td><td>35.848171</td><td>35.743771</td><td>39.356613</td><td>10.45082</td><td>0.0</td><td>0.0</td><td>&quot;SLE&quot;</td><td>2020</td><td>26.401541</td><td>&quot;SLE&quot;</td><td>2020</td><td>18.605</td><td>null</td><td>null</td><td>&quot;SLE&quot;</td><td>2020</td><td>109.622582</td><td>50.152719</td><td>null</td><td>null</td><td>null</td><td>null</td><td>null</td><td>228.945999</td><td>270.278992</td><td>80.300003</td><td>35.388439</td><td>15.189778</td><td>&quot;SLE&quot;</td><td>5.29</td><td>6.42</td><td>20.52</td><td>33.279999</td></tr><tr><td>&quot;LKA&quot;</td><td>2020</td><td>4.966492</td><td>0.023094</td><td>null</td><td>1.931694</td><td>0.554645</td><td>1.027322</td><td>2.180328</td><td>0.45082</td><td>1.543716</td><td>0.775956</td><td>2.308743</td><td>0.0</td><td>1.327869</td><td>2460477.5</td><td>370076.5</td><td>1.726776</td><td>1.636612</td><td>1.803279</td><td>365565.84375</td><td>0.0</td><td>2.469945</td><td>0.0</td><td>1.434426</td><td>47.475082</td><td>46.428089</td><td>48.318417</td><td>33.19672</td><td>0.0</td><td>0.0</td><td>&quot;LKA&quot;</td><td>2020</td><td>26.989581</td><td>&quot;LKA&quot;</td><td>2020</td><td>32.074001</td><td>null</td><td>null</td><td>&quot;LKA&quot;</td><td>2020</td><td>354.332363</td><td>51.572804</td><td>null</td><td>null</td><td>null</td><td>null</td><td>null</td><td>65.980003</td><td>152.108994</td><td>6.0</td><td>14.933679</td><td>null</td><td>null</td><td>null</td><td>null</td><td>null</td><td>null</td></tr><tr><td>&hellip;</td><td>&hellip;</td><td>&hellip;</td><td>&hellip;</td><td>&hellip;</td><td>&hellip;</td><td>&hellip;</td><td>&hellip;</td><td>&hellip;</td><td>&hellip;</td><td>&hellip;</td><td>&hellip;</td><td>&hellip;</td><td>&hellip;</td><td>&hellip;</td><td>&hellip;</td><td>&hellip;</td><td>&hellip;</td><td>&hellip;</td><td>&hellip;</td><td>&hellip;</td><td>&hellip;</td><td>&hellip;</td><td>&hellip;</td><td>&hellip;</td><td>&hellip;</td><td>&hellip;</td><td>&hellip;</td><td>&hellip;</td><td>&hellip;</td><td>&hellip;</td><td>&hellip;</td><td>&hellip;</td><td>&hellip;</td><td>&hellip;</td><td>&hellip;</td><td>&hellip;</td><td>&hellip;</td><td>&hellip;</td><td>&hellip;</td><td>&hellip;</td><td>&hellip;</td><td>&hellip;</td><td>&hellip;</td><td>&hellip;</td><td>&hellip;</td><td>&hellip;</td><td>&hellip;</td><td>&hellip;</td><td>&hellip;</td><td>&hellip;</td><td>&hellip;</td><td>&hellip;</td><td>&hellip;</td><td>&hellip;</td><td>&hellip;</td><td>&hellip;</td><td>&hellip;</td></tr><tr><td>&quot;MKD&quot;</td><td>2021</td><td>210.683233</td><td>8.122795</td><td>null</td><td>null</td><td>null</td><td>null</td><td>null</td><td>null</td><td>null</td><td>null</td><td>null</td><td>null</td><td>null</td><td>null</td><td>null</td><td>null</td><td>null</td><td>null</td><td>null</td><td>null</td><td>null</td><td>null</td><td>null</td><td>null</td><td>null</td><td>null</td><td>null</td><td>null</td><td>null</td><td>&quot;MKD&quot;</td><td>2021</td><td>11.432134</td><td>&quot;MKD&quot;</td><td>2021</td><td>39.647999</td><td>null</td><td>null</td><td>&quot;MKD&quot;</td><td>2021</td><td>72.843537</td><td>51.352433</td><td>null</td><td>null</td><td>null</td><td>null</td><td>null</td><td>73.846001</td><td>128.363998</td><td>4.6</td><td>55.622864</td><td>null</td><td>&quot;MKD&quot;</td><td>3.45</td><td>11.85</td><td>42.720001</td><td>31.940001</td></tr><tr><td>&quot;RKS&quot;</td><td>2020</td><td>null</td><td>null</td><td>null</td><td>1.822404</td><td>1.595628</td><td>1.461749</td><td>3.046448</td><td>0.983607</td><td>1.387978</td><td>0.934426</td><td>1.483607</td><td>0.756831</td><td>1.540984</td><td>4.0164e6</td><td>0.0</td><td>1.614754</td><td>1.054645</td><td>0.871585</td><td>0.0</td><td>0.0</td><td>1.967213</td><td>0.0</td><td>1.551913</td><td>57.463444</td><td>49.54866</td><td>49.772949</td><td>47.984974</td><td>0.0</td><td>0.0</td><td>null</td><td>null</td><td>null</td><td>null</td><td>null</td><td>null</td><td>null</td><td>null</td><td>null</td><td>null</td><td>null</td><td>null</td><td>null</td><td>null</td><td>null</td><td>null</td><td>null</td><td>null</td><td>null</td><td>null</td><td>null</td><td>null</td><td>null</td><td>null</td><td>null</td><td>null</td><td>null</td></tr><tr><td>&quot;RKS&quot;</td><td>2021</td><td>null</td><td>null</td><td>null</td><td>1.20274</td><td>1.679452</td><td>1.186301</td><td>3.227397</td><td>0.980822</td><td>1.430137</td><td>0.230137</td><td>1.786301</td><td>1.0</td><td>0.991781</td><td>2.2e6</td><td>0.0</td><td>1.627397</td><td>3.0</td><td>1.030137</td><td>0.0</td><td>0.0</td><td>3.315068</td><td>3.115068</td><td>0.99726</td><td>52.047234</td><td>54.559837</td><td>57.025726</td><td>37.294521</td><td>0.0</td><td>13.505095</td><td>null</td><td>null</td><td>null</td><td>null</td><td>null</td><td>null</td><td>null</td><td>null</td><td>null</td><td>null</td><td>null</td><td>null</td><td>null</td><td>null</td><td>null</td><td>null</td><td>null</td><td>null</td><td>null</td><td>null</td><td>null</td><td>null</td><td>null</td><td>null</td><td>null</td><td>null</td><td>null</td></tr><tr><td>&quot;MAC&quot;</td><td>2020</td><td>null</td><td>null</td><td>null</td><td>1.494536</td><td>0.153005</td><td>0.846995</td><td>0.0</td><td>0.0</td><td>0.0</td><td>0.0</td><td>2.73224</td><td>0.882514</td><td>1.765027</td><td>1.7112666e7</td><td>0.0</td><td>2.0</td><td>1.898907</td><td>1.885246</td><td>0.0</td><td>143743.171875</td><td>1.819672</td><td>0.0</td><td>2.702186</td><td>29.509289</td><td>43.191994</td><td>39.906174</td><td>66.188522</td><td>0.0</td><td>0.0</td><td>null</td><td>null</td><td>null</td><td>&quot;MAC&quot;</td><td>2020</td><td>36.987999</td><td>&quot;MAC&quot;</td><td>1</td><td>&quot;MAC&quot;</td><td>2020</td><td>20832.826748</td><td>53.533694</td><td>null</td><td>null</td><td>null</td><td>null</td><td>null</td><td>24.268</td><td>48.424</td><td>null</td><td>95.108696</td><td>null</td><td>&quot;MAC&quot;</td><td>3.07</td><td>15.13</td><td>48.16</td><td>31.059999</td></tr><tr><td>&quot;RKS&quot;</td><td>2022</td><td>null</td><td>null</td><td>null</td><td>2.0</td><td>2.0</td><td>2.0</td><td>1.457534</td><td>0.728767</td><td>0.334247</td><td>0.0</td><td>0.328767</td><td>0.0</td><td>0.0</td><td>null</td><td>null</td><td>2.0</td><td>2.493151</td><td>0.0</td><td>null</td><td>0.0</td><td>1.421918</td><td>5.0</td><td>0.0</td><td>35.665096</td><td>33.72707</td><td>38.544765</td><td>0.0</td><td>0.0</td><td>46.015068</td><td>null</td><td>null</td><td>null</td><td>null</td><td>null</td><td>null</td><td>null</td><td>null</td><td>null</td><td>null</td><td>null</td><td>null</td><td>null</td><td>null</td><td>null</td><td>null</td><td>null</td><td>null</td><td>null</td><td>null</td><td>null</td><td>null</td><td>null</td><td>null</td><td>null</td><td>null</td><td>null</td></tr></tbody></table></div>"
      ],
      "text/plain": [
       "shape: (765, 58)\n",
       "┌─────────┬──────┬────────────┬──────────┬───┬─────────────┬─────────────┬────────────┬────────────┐\n",
       "│ country ┆ t    ┆ cases      ┆ deaths   ┆ … ┆ avg_hh_size ┆ share_1_mem ┆ share_2_3_ ┆ share_4_5_ │\n",
       "│ ---     ┆ ---  ┆ ---        ┆ ---      ┆   ┆ ---         ┆ bers        ┆ members    ┆ members    │\n",
       "│ str     ┆ i16  ┆ f64        ┆ f64      ┆   ┆ f32         ┆ ---         ┆ ---        ┆ ---        │\n",
       "│         ┆      ┆            ┆          ┆   ┆             ┆ f32         ┆ f32        ┆ f32        │\n",
       "╞═════════╪══════╪════════════╪══════════╪═══╪═════════════╪═════════════╪════════════╪════════════╡\n",
       "│ SLV     ┆ 2020 ┆ 19.625912  ┆ 0.570608 ┆ … ┆ 3.92        ┆ 8.46        ┆ 36.009998  ┆ 37.84      │\n",
       "│ ASM     ┆ 2022 ┆ 467.620027 ┆ 1.926    ┆ … ┆ null        ┆ null        ┆ null       ┆ null       │\n",
       "│ BOL     ┆ 2020 ┆ 35.130884  ┆ 2.077541 ┆ … ┆ 3.53        ┆ 20.34       ┆ 34.82      ┆ 27.639999  │\n",
       "│ SLE     ┆ 2020 ┆ 0.850718   ┆ 0.025304 ┆ … ┆ 5.29        ┆ 6.42        ┆ 20.52      ┆ 33.279999  │\n",
       "│ LKA     ┆ 2020 ┆ 4.966492   ┆ 0.023094 ┆ … ┆ null        ┆ null        ┆ null       ┆ null       │\n",
       "│ …       ┆ …    ┆ …          ┆ …        ┆ … ┆ …           ┆ …           ┆ …          ┆ …          │\n",
       "│ MKD     ┆ 2021 ┆ 210.683233 ┆ 8.122795 ┆ … ┆ 3.45        ┆ 11.85       ┆ 42.720001  ┆ 31.940001  │\n",
       "│ RKS     ┆ 2020 ┆ null       ┆ null     ┆ … ┆ null        ┆ null        ┆ null       ┆ null       │\n",
       "│ RKS     ┆ 2021 ┆ null       ┆ null     ┆ … ┆ null        ┆ null        ┆ null       ┆ null       │\n",
       "│ MAC     ┆ 2020 ┆ null       ┆ null     ┆ … ┆ 3.07        ┆ 15.13       ┆ 48.16      ┆ 31.059999  │\n",
       "│ RKS     ┆ 2022 ┆ null       ┆ null     ┆ … ┆ null        ┆ null        ┆ null       ┆ null       │\n",
       "└─────────┴──────┴────────────┴──────────┴───┴─────────────┴─────────────┴────────────┴────────────┘"
      ]
     },
     "execution_count": 66,
     "metadata": {},
     "output_type": "execute_result"
    }
   ],
   "source": [
    "sql.register('regressors_tmp',\n",
    "            sql.execute('''\n",
    "    select \n",
    "        *\n",
    "    from covid c\n",
    "    full outer join restrictions r\n",
    "        using(country, t)\n",
    "    ;''').collect().with_columns(pl.coalesce(['country', 'country:r']).alias(\"country\")\n",
    "                                    , pl.coalesce(['t', 't:r']).alias(\"t\")).drop(['country:r', 't:r']))\n",
    "regressors = sql.execute('''\n",
    "    select * \n",
    "    from regressors_tmp r\n",
    "    left join temperature temp\n",
    "        using(country, t)\n",
    "    left join median_age_table\n",
    "        using(country, t) \n",
    "    left join SARS_table\n",
    "        using(country)\n",
    "    left join density_and_mortality\n",
    "        using(country, t) \n",
    "    left join household_size\n",
    "        using(country)\n",
    "    ;''').collect()\n",
    "regressors"
   ]
  },
  {
   "cell_type": "code",
   "execution_count": 67,
   "metadata": {},
   "outputs": [],
   "source": [
    "regressors.write_parquet('preprocessed_data/regressors.parquet.gzip')"
   ]
  }
 ],
 "metadata": {
  "kernelspec": {
   "display_name": ".venv",
   "language": "python",
   "name": "python3"
  },
  "language_info": {
   "codemirror_mode": {
    "name": "ipython",
    "version": 3
   },
   "file_extension": ".py",
   "mimetype": "text/x-python",
   "name": "python",
   "nbconvert_exporter": "python",
   "pygments_lexer": "ipython3",
   "version": "3.13.2"
  }
 },
 "nbformat": 4,
 "nbformat_minor": 2
}
