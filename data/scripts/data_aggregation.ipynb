{
 "cells": [
  {
   "cell_type": "markdown",
   "metadata": {},
   "source": [
    "# Предобрабатываю данные (избавляюсь от дубликатов), агрегирую до года, соединяю таблицы"
   ]
  },
  {
   "cell_type": "code",
   "execution_count": 2,
   "metadata": {
    "vscode": {
     "languageId": "shellscript"
    }
   },
   "outputs": [
    {
     "name": "stdout",
     "output_type": "stream",
     "text": [
      "Note: you may need to restart the kernel to use updated packages.Collecting polars==1.22.0 (from -r requirements.txt (line 1))\n",
      "  Downloading polars-1.22.0-cp39-abi3-win_amd64.whl.metadata (15 kB)\n",
      "Collecting pandas==2.2.3 (from -r requirements.txt (line 2))\n",
      "  Using cached pandas-2.2.3-cp313-cp313-win_amd64.whl.metadata (19 kB)\n",
      "Collecting numpy==2.2 (from -r requirements.txt (line 3))\n",
      "  Downloading numpy-2.2.0-cp313-cp313-win_amd64.whl.metadata (60 kB)\n",
      "Collecting plotly==6.0.0 (from -r requirements.txt (line 4))\n",
      "  Downloading plotly-6.0.0-py3-none-any.whl.metadata (5.6 kB)\n",
      "Requirement already satisfied: python-dateutil>=2.8.2 in c:\\users\\unstr\\documents\\7 семестр работы\\диплом\\thesis-repo\\thesis\\.venv\\lib\\site-packages (from pandas==2.2.3->-r requirements.txt (line 2)) (2.9.0.post0)\n",
      "Collecting pytz>=2020.1 (from pandas==2.2.3->-r requirements.txt (line 2))\n",
      "  Using cached pytz-2025.1-py2.py3-none-any.whl.metadata (22 kB)\n",
      "Collecting tzdata>=2022.7 (from pandas==2.2.3->-r requirements.txt (line 2))\n",
      "  Using cached tzdata-2025.1-py2.py3-none-any.whl.metadata (1.4 kB)\n",
      "Collecting narwhals>=1.15.1 (from plotly==6.0.0->-r requirements.txt (line 4))\n",
      "  Downloading narwhals-1.25.2-py3-none-any.whl.metadata (10 kB)\n",
      "Requirement already satisfied: packaging in c:\\users\\unstr\\documents\\7 семестр работы\\диплом\\thesis-repo\\thesis\\.venv\\lib\\site-packages (from plotly==6.0.0->-r requirements.txt (line 4)) (24.2)\n",
      "Requirement already satisfied: six>=1.5 in c:\\users\\unstr\\documents\\7 семестр работы\\диплом\\thesis-repo\\thesis\\.venv\\lib\\site-packages (from python-dateutil>=2.8.2->pandas==2.2.3->-r requirements.txt (line 2)) (1.17.0)\n",
      "Downloading polars-1.22.0-cp39-abi3-win_amd64.whl (33.2 MB)\n",
      "   ---------------------------------------- 0.0/33.2 MB ? eta -:--:--\n",
      "   -- ------------------------------------- 2.1/33.2 MB 11.7 MB/s eta 0:00:03\n",
      "   ----- ---------------------------------- 4.5/33.2 MB 11.8 MB/s eta 0:00:03\n",
      "   -------- ------------------------------- 7.1/33.2 MB 11.8 MB/s eta 0:00:03\n",
      "   ----------- ---------------------------- 9.7/33.2 MB 11.8 MB/s eta 0:00:02\n",
      "   -------------- ------------------------- 12.1/33.2 MB 11.8 MB/s eta 0:00:02\n",
      "   ----------------- ---------------------- 14.7/33.2 MB 11.8 MB/s eta 0:00:02\n",
      "   -------------------- ------------------- 17.0/33.2 MB 11.8 MB/s eta 0:00:02\n",
      "   --------------------- ------------------ 17.8/33.2 MB 11.8 MB/s eta 0:00:02\n",
      "   ------------------------ --------------- 20.4/33.2 MB 10.9 MB/s eta 0:00:02\n",
      "   --------------------------- ------------ 22.8/33.2 MB 11.0 MB/s eta 0:00:01\n",
      "   ------------------------------ --------- 25.4/33.2 MB 11.1 MB/s eta 0:00:01\n",
      "   --------------------------------- ------ 27.8/33.2 MB 11.1 MB/s eta 0:00:01\n",
      "   ------------------------------------ --- 30.1/33.2 MB 11.2 MB/s eta 0:00:01\n",
      "   ---------------------------------------  32.8/33.2 MB 11.2 MB/s eta 0:00:01\n",
      "   ---------------------------------------- 33.2/33.2 MB 10.9 MB/s eta 0:00:00\n",
      "Using cached pandas-2.2.3-cp313-cp313-win_amd64.whl (11.5 MB)\n",
      "Downloading numpy-2.2.0-cp313-cp313-win_amd64.whl (12.6 MB)\n",
      "   ---------------------------------------- 0.0/12.6 MB ? eta -:--:--\n",
      "   ------- -------------------------------- 2.4/12.6 MB 11.8 MB/s eta 0:00:01\n",
      "   -------------- ------------------------- 4.7/12.6 MB 11.8 MB/s eta 0:00:01\n",
      "   ----------------------- ---------------- 7.3/12.6 MB 11.8 MB/s eta 0:00:01\n",
      "   ------------------------------- -------- 10.0/12.6 MB 11.8 MB/s eta 0:00:01\n",
      "   ---------------------------------------  12.3/12.6 MB 11.8 MB/s eta 0:00:01\n",
      "   ---------------------------------------- 12.6/12.6 MB 11.5 MB/s eta 0:00:00\n",
      "Downloading plotly-6.0.0-py3-none-any.whl (14.8 MB)\n",
      "   ---------------------------------------- 0.0/14.8 MB ? eta -:--:--\n",
      "   ------ --------------------------------- 2.4/14.8 MB 11.8 MB/s eta 0:00:02\n",
      "   ------------- -------------------------- 5.0/14.8 MB 11.8 MB/s eta 0:00:01\n",
      "   -------------------- ------------------- 7.6/14.8 MB 11.8 MB/s eta 0:00:01\n",
      "   -------------------------- ------------- 10.0/14.8 MB 11.8 MB/s eta 0:00:01\n",
      "   --------------------------------- ------ 12.3/14.8 MB 11.6 MB/s eta 0:00:01\n",
      "   ---------------------------------------  14.7/14.8 MB 11.7 MB/s eta 0:00:01\n",
      "   ---------------------------------------- 14.8/14.8 MB 11.4 MB/s eta 0:00:00\n",
      "Downloading narwhals-1.25.2-py3-none-any.whl (305 kB)\n",
      "Using cached pytz-2025.1-py2.py3-none-any.whl (507 kB)\n",
      "Using cached tzdata-2025.1-py2.py3-none-any.whl (346 kB)\n",
      "Installing collected packages: pytz, tzdata, polars, numpy, narwhals, plotly, pandas\n",
      "Successfully installed narwhals-1.25.2 numpy-2.2.0 pandas-2.2.3 plotly-6.0.0 polars-1.22.0 pytz-2025.1 tzdata-2025.1\n",
      "\n"
     ]
    },
    {
     "name": "stderr",
     "output_type": "stream",
     "text": [
      "\n",
      "[notice] A new release of pip is available: 24.3.1 -> 25.0\n",
      "[notice] To update, run: python.exe -m pip install --upgrade pip\n"
     ]
    }
   ],
   "source": [
    "pip install -r requirements.txt"
   ]
  },
  {
   "cell_type": "code",
   "execution_count": 1,
   "metadata": {
    "vscode": {
     "languageId": "shellscript"
    }
   },
   "outputs": [
    {
     "name": "stdout",
     "output_type": "stream",
     "text": [
      "c:\\Users\\unstr\\Documents\\7 семестр работы\\Диплом\\thesis-repo\\thesis\\data\n"
     ]
    },
    {
     "name": "stderr",
     "output_type": "stream",
     "text": [
      "c:\\Users\\unstr\\Documents\\7 семестр работы\\Диплом\\thesis-repo\\thesis\\.venv\\Lib\\site-packages\\IPython\\core\\magics\\osm.py:417: UserWarning: This is now an optional IPython functionality, setting dhist requires you to install the `pickleshare` library.\n",
      "  self.shell.db['dhist'] = compress_dhist(dhist)[-100:]\n"
     ]
    }
   ],
   "source": [
    "cd .."
   ]
  },
  {
   "cell_type": "code",
   "execution_count": 2,
   "metadata": {},
   "outputs": [],
   "source": [
    "import polars as pl"
   ]
  },
  {
   "cell_type": "code",
   "execution_count": 3,
   "metadata": {},
   "outputs": [],
   "source": [
    "trade19 = pl.read_csv('./raw_data/BACI_HS17_V202501/BACI_HS17_Y2019_V202501.csv')\n",
    "trade20 = pl.read_csv('./raw_data/BACI_HS17_V202501/BACI_HS17_Y2020_V202501.csv')\n",
    "trade21 = pl.read_csv('./raw_data/BACI_HS17_V202501/BACI_HS17_Y2021_V202501.csv')\n",
    "trade22 = pl.read_csv('./raw_data/BACI_HS17_V202501/BACI_HS17_Y2022_V202501.csv')\n",
    "sql = pl.SQLContext(register_globals=True)"
   ]
  },
  {
   "cell_type": "code",
   "execution_count": 4,
   "metadata": {},
   "outputs": [
    {
     "data": {
      "text/html": [
       "<div><style>\n",
       ".dataframe > thead > tr,\n",
       ".dataframe > tbody > tr {\n",
       "  text-align: right;\n",
       "  white-space: pre-wrap;\n",
       "}\n",
       "</style>\n",
       "<small>shape: (1, 6)</small><table border=\"1\" class=\"dataframe\"><thead><tr><th>t</th><th>i</th><th>j</th><th>k</th><th>v</th><th>q</th></tr><tr><td>i64</td><td>i64</td><td>i64</td><td>i64</td><td>f64</td><td>f64</td></tr></thead><tbody><tr><td>2019</td><td>4</td><td>20</td><td>420229</td><td>0.471</td><td>0.001</td></tr></tbody></table></div>"
      ],
      "text/plain": [
       "shape: (1, 6)\n",
       "┌──────┬─────┬─────┬────────┬───────┬───────┐\n",
       "│ t    ┆ i   ┆ j   ┆ k      ┆ v     ┆ q     │\n",
       "│ ---  ┆ --- ┆ --- ┆ ---    ┆ ---   ┆ ---   │\n",
       "│ i64  ┆ i64 ┆ i64 ┆ i64    ┆ f64   ┆ f64   │\n",
       "╞══════╪═════╪═════╪════════╪═══════╪═══════╡\n",
       "│ 2019 ┆ 4   ┆ 20  ┆ 420229 ┆ 0.471 ┆ 0.001 │\n",
       "└──────┴─────┴─────┴────────┴───────┴───────┘"
      ]
     },
     "execution_count": 4,
     "metadata": {},
     "output_type": "execute_result"
    }
   ],
   "source": [
    "#Структура данных. t, i , j , k --- ключ.\n",
    "sql.execute('''select * from trade19 limit 1;''').collect()"
   ]
  },
  {
   "cell_type": "code",
   "execution_count": 5,
   "metadata": {},
   "outputs": [
    {
     "name": "stdout",
     "output_type": "stream",
     "text": [
      "shape: (1, 4)\n",
      "┌─────┬─────┬────────┬─────┐\n",
      "│ i   ┆ j   ┆ k      ┆ cnt │\n",
      "│ --- ┆ --- ┆ ---    ┆ --- │\n",
      "│ i64 ┆ i64 ┆ i64    ┆ u32 │\n",
      "╞═════╪═════╪════════╪═════╡\n",
      "│ 757 ┆ 528 ┆ 551511 ┆ 1   │\n",
      "└─────┴─────┴────────┴─────┘\n",
      "shape: (1, 4)\n",
      "┌─────┬─────┬────────┬─────┐\n",
      "│ i   ┆ j   ┆ k      ┆ cnt │\n",
      "│ --- ┆ --- ┆ ---    ┆ --- │\n",
      "│ i64 ┆ i64 ┆ i64    ┆ u32 │\n",
      "╞═════╪═════╪════════╪═════╡\n",
      "│ 757 ┆ 686 ┆ 580632 ┆ 1   │\n",
      "└─────┴─────┴────────┴─────┘\n",
      "shape: (1, 4)\n",
      "┌─────┬─────┬────────┬─────┐\n",
      "│ i   ┆ j   ┆ k      ┆ cnt │\n",
      "│ --- ┆ --- ┆ ---    ┆ --- │\n",
      "│ i64 ┆ i64 ┆ i64    ┆ u32 │\n",
      "╞═════╪═════╪════════╪═════╡\n",
      "│ 702 ┆ 196 ┆ 630491 ┆ 1   │\n",
      "└─────┴─────┴────────┴─────┘\n",
      "shape: (1, 4)\n",
      "┌─────┬─────┬────────┬─────┐\n",
      "│ i   ┆ j   ┆ k      ┆ cnt │\n",
      "│ --- ┆ --- ┆ ---    ┆ --- │\n",
      "│ i64 ┆ i64 ┆ i64    ┆ u32 │\n",
      "╞═════╪═════╪════════╪═════╡\n",
      "│ 604 ┆ 484 ┆ 620193 ┆ 1   │\n",
      "└─────┴─────┴────────┴─────┘\n"
     ]
    }
   ],
   "source": [
    "#Проверяю, что в данных нет дублей\n",
    "print(sql.execute('''select i, j, k, count(*) as cnt from trade19 group by 1, 2, 3 order by 4 desc limit 1;''').collect())\n",
    "print(sql.execute('''select i, j, k, count(*) as cnt from trade20 group by 1, 2, 3 order by 4 desc limit 1;''').collect())\n",
    "print(sql.execute('''select i, j, k, count(*) as cnt from trade21 group by 1, 2, 3 order by 4 desc limit 1;''').collect())\n",
    "print(sql.execute('''select i, j, k, count(*) as cnt from trade22 group by 1, 2, 3 order by 4 desc limit 1;''').collect())"
   ]
  },
  {
   "cell_type": "code",
   "execution_count": 6,
   "metadata": {},
   "outputs": [
    {
     "data": {
      "text/html": [
       "<div><style>\n",
       ".dataframe > thead > tr,\n",
       ".dataframe > tbody > tr {\n",
       "  text-align: right;\n",
       "  white-space: pre-wrap;\n",
       "}\n",
       "</style>\n",
       "<small>shape: (1, 1)</small><table border=\"1\" class=\"dataframe\"><thead><tr><th>len</th></tr><tr><td>u32</td></tr></thead><tbody><tr><td>34145929</td></tr></tbody></table></div>"
      ],
      "text/plain": [
       "shape: (1, 1)\n",
       "┌──────────┐\n",
       "│ len      │\n",
       "│ ---      │\n",
       "│ u32      │\n",
       "╞══════════╡\n",
       "│ 34145929 │\n",
       "└──────────┘"
      ]
     },
     "execution_count": 6,
     "metadata": {},
     "output_type": "execute_result"
    }
   ],
   "source": [
    "sql.execute(''' \n",
    "            create table trade_tmp as\n",
    "            select \n",
    "                    t::smallint\n",
    "                    , i::smallint\n",
    "                    , j::smallint\n",
    "                    , k\n",
    "                    , v::float4\n",
    "                    , q::float4\n",
    "                    ,  case when length(k::varchar) = 5 then '0'||(k::varchar) \n",
    "                            else k::varchar end as category \n",
    "                    from trade20\n",
    "            union all\n",
    "            select \n",
    "                    t::smallint\n",
    "                    , i::smallint\n",
    "                    , j::smallint\n",
    "                    , k\n",
    "                    , v::float4\n",
    "                    , q::float4\n",
    "                    ,  case when length(k::varchar) = 5 then '0'||(k::varchar) \n",
    "                            else k::varchar end as category \n",
    "                    from trade21\n",
    "            union all\n",
    "            select \n",
    "                    t::smallint\n",
    "                    , i::smallint\n",
    "                    , j::smallint\n",
    "                    , k\n",
    "                    , v::float4\n",
    "                    , q::float4\n",
    "                    ,  case when length(k::varchar) = 5 then '0'||(k::varchar) \n",
    "                            else k::varchar end as category \n",
    "                    from trade22\n",
    "            ;\n",
    "            ''').collect()\n",
    "sql.execute('''select count(*) from trade_tmp;''').collect()"
   ]
  },
  {
   "cell_type": "code",
   "execution_count": 7,
   "metadata": {},
   "outputs": [],
   "source": [
    "del trade20\n",
    "del trade21\n",
    "del trade22"
   ]
  },
  {
   "cell_type": "code",
   "execution_count": 8,
   "metadata": {},
   "outputs": [
    {
     "data": {
      "text/plain": [
       "<SQLContext [tables:6] at 0x1b055930590>"
      ]
     },
     "execution_count": 8,
     "metadata": {},
     "output_type": "execute_result"
    }
   ],
   "source": [
    "trade = sql.execute('''select \n",
    "                tr.*\n",
    "                , t19.v as v19\n",
    "                , t19.q as q19    \n",
    "            from trade_tmp tr\n",
    "            inner join trade19 t19\n",
    "                on tr.i = t19.i\n",
    "                and tr.j = t19.j\n",
    "                and tr.k = t19.k\n",
    "            ;''').collect()\n",
    "sql.register('trade', trade)"
   ]
  },
  {
   "cell_type": "markdown",
   "metadata": {},
   "source": [
    "## Агрегирую заболеваемость и смертность"
   ]
  },
  {
   "cell_type": "code",
   "execution_count": 9,
   "metadata": {},
   "outputs": [
    {
     "data": {
      "text/html": [
       "<div><style>\n",
       ".dataframe > thead > tr,\n",
       ".dataframe > tbody > tr {\n",
       "  text-align: right;\n",
       "  white-space: pre-wrap;\n",
       "}\n",
       "</style>\n",
       "<small>shape: (2, 67)</small><table border=\"1\" class=\"dataframe\"><thead><tr><th>iso_code</th><th>continent</th><th>location</th><th>date</th><th>total_cases</th><th>new_cases</th><th>new_cases_smoothed</th><th>total_deaths</th><th>new_deaths</th><th>new_deaths_smoothed</th><th>total_cases_per_million</th><th>new_cases_per_million</th><th>new_cases_smoothed_per_million</th><th>total_deaths_per_million</th><th>new_deaths_per_million</th><th>new_deaths_smoothed_per_million</th><th>reproduction_rate</th><th>icu_patients</th><th>icu_patients_per_million</th><th>hosp_patients</th><th>hosp_patients_per_million</th><th>weekly_icu_admissions</th><th>weekly_icu_admissions_per_million</th><th>weekly_hosp_admissions</th><th>weekly_hosp_admissions_per_million</th><th>total_tests</th><th>new_tests</th><th>total_tests_per_thousand</th><th>new_tests_per_thousand</th><th>new_tests_smoothed</th><th>new_tests_smoothed_per_thousand</th><th>positive_rate</th><th>tests_per_case</th><th>tests_units</th><th>total_vaccinations</th><th>people_vaccinated</th><th>people_fully_vaccinated</th><th>total_boosters</th><th>new_vaccinations</th><th>new_vaccinations_smoothed</th><th>total_vaccinations_per_hundred</th><th>people_vaccinated_per_hundred</th><th>people_fully_vaccinated_per_hundred</th><th>total_boosters_per_hundred</th><th>new_vaccinations_smoothed_per_million</th><th>new_people_vaccinated_smoothed</th><th>new_people_vaccinated_smoothed_per_hundred</th><th>stringency_index</th><th>population_density</th><th>median_age</th><th>aged_65_older</th><th>aged_70_older</th><th>gdp_per_capita</th><th>extreme_poverty</th><th>cardiovasc_death_rate</th><th>diabetes_prevalence</th><th>female_smokers</th><th>male_smokers</th><th>handwashing_facilities</th><th>hospital_beds_per_thousand</th><th>life_expectancy</th><th>human_development_index</th><th>population</th><th>excess_mortality_cumulative_absolute</th><th>excess_mortality_cumulative</th><th>excess_mortality</th><th>excess_mortality_cumulative_per_million</th></tr><tr><td>str</td><td>str</td><td>str</td><td>str</td><td>i64</td><td>i64</td><td>f64</td><td>i64</td><td>i64</td><td>f64</td><td>f64</td><td>f64</td><td>f64</td><td>f64</td><td>f64</td><td>f64</td><td>f64</td><td>str</td><td>str</td><td>str</td><td>str</td><td>str</td><td>str</td><td>str</td><td>str</td><td>str</td><td>str</td><td>str</td><td>str</td><td>str</td><td>str</td><td>str</td><td>str</td><td>str</td><td>str</td><td>str</td><td>str</td><td>str</td><td>str</td><td>str</td><td>str</td><td>str</td><td>str</td><td>str</td><td>str</td><td>str</td><td>str</td><td>f64</td><td>f64</td><td>f64</td><td>f64</td><td>f64</td><td>f64</td><td>str</td><td>f64</td><td>f64</td><td>str</td><td>str</td><td>f64</td><td>f64</td><td>f64</td><td>f64</td><td>i64</td><td>str</td><td>str</td><td>str</td><td>str</td></tr></thead><tbody><tr><td>&quot;AFG&quot;</td><td>&quot;Asia&quot;</td><td>&quot;Afghanistan&quot;</td><td>&quot;2020-01-05&quot;</td><td>0</td><td>0</td><td>null</td><td>0</td><td>0</td><td>null</td><td>0.0</td><td>0.0</td><td>null</td><td>0.0</td><td>0.0</td><td>null</td><td>null</td><td>null</td><td>null</td><td>null</td><td>null</td><td>null</td><td>null</td><td>null</td><td>null</td><td>null</td><td>null</td><td>null</td><td>null</td><td>null</td><td>null</td><td>null</td><td>null</td><td>null</td><td>null</td><td>null</td><td>null</td><td>null</td><td>null</td><td>null</td><td>null</td><td>null</td><td>null</td><td>null</td><td>null</td><td>null</td><td>null</td><td>0.0</td><td>54.42</td><td>18.6</td><td>2.58</td><td>1.34</td><td>1803.99</td><td>null</td><td>597.03</td><td>9.59</td><td>null</td><td>null</td><td>37.75</td><td>0.5</td><td>64.83</td><td>0.51</td><td>41128772</td><td>null</td><td>null</td><td>null</td><td>null</td></tr><tr><td>&quot;AFG&quot;</td><td>&quot;Asia&quot;</td><td>&quot;Afghanistan&quot;</td><td>&quot;2020-01-06&quot;</td><td>0</td><td>0</td><td>null</td><td>0</td><td>0</td><td>null</td><td>0.0</td><td>0.0</td><td>null</td><td>0.0</td><td>0.0</td><td>null</td><td>null</td><td>null</td><td>null</td><td>null</td><td>null</td><td>null</td><td>null</td><td>null</td><td>null</td><td>null</td><td>null</td><td>null</td><td>null</td><td>null</td><td>null</td><td>null</td><td>null</td><td>null</td><td>null</td><td>null</td><td>null</td><td>null</td><td>null</td><td>null</td><td>null</td><td>null</td><td>null</td><td>null</td><td>null</td><td>null</td><td>null</td><td>0.0</td><td>54.42</td><td>18.6</td><td>2.58</td><td>1.34</td><td>1803.99</td><td>null</td><td>597.03</td><td>9.59</td><td>null</td><td>null</td><td>37.75</td><td>0.5</td><td>64.83</td><td>0.51</td><td>41128772</td><td>null</td><td>null</td><td>null</td><td>null</td></tr></tbody></table></div>"
      ],
      "text/plain": [
       "shape: (2, 67)\n",
       "┌──────────┬───────────┬───────────┬───────────┬───┬───────────┬───────────┬───────────┬───────────┐\n",
       "│ iso_code ┆ continent ┆ location  ┆ date      ┆ … ┆ excess_mo ┆ excess_mo ┆ excess_mo ┆ excess_mo │\n",
       "│ ---      ┆ ---       ┆ ---       ┆ ---       ┆   ┆ rtality_c ┆ rtality_c ┆ rtality   ┆ rtality_c │\n",
       "│ str      ┆ str       ┆ str       ┆ str       ┆   ┆ umulative ┆ umulative ┆ ---       ┆ umulative │\n",
       "│          ┆           ┆           ┆           ┆   ┆ _ab…      ┆ ---       ┆ str       ┆ _pe…      │\n",
       "│          ┆           ┆           ┆           ┆   ┆ ---       ┆ str       ┆           ┆ ---       │\n",
       "│          ┆           ┆           ┆           ┆   ┆ str       ┆           ┆           ┆ str       │\n",
       "╞══════════╪═══════════╪═══════════╪═══════════╪═══╪═══════════╪═══════════╪═══════════╪═══════════╡\n",
       "│ AFG      ┆ Asia      ┆ Afghanist ┆ 2020-01-0 ┆ … ┆ null      ┆ null      ┆ null      ┆ null      │\n",
       "│          ┆           ┆ an        ┆ 5         ┆   ┆           ┆           ┆           ┆           │\n",
       "│ AFG      ┆ Asia      ┆ Afghanist ┆ 2020-01-0 ┆ … ┆ null      ┆ null      ┆ null      ┆ null      │\n",
       "│          ┆           ┆ an        ┆ 6         ┆   ┆           ┆           ┆           ┆           │\n",
       "└──────────┴───────────┴───────────┴───────────┴───┴───────────┴───────────┴───────────┴───────────┘"
      ]
     },
     "execution_count": 9,
     "metadata": {},
     "output_type": "execute_result"
    }
   ],
   "source": [
    "covid_tmp = pl.read_csv('raw_data/Our World In Data/owid-covid-data.csv')\n",
    "sql.register('covid_tmp', covid_tmp)\n",
    "sql.execute('''select * from covid_tmp limit 2;''').collect()"
   ]
  },
  {
   "cell_type": "code",
   "execution_count": 10,
   "metadata": {},
   "outputs": [
    {
     "data": {
      "text/html": [
       "<div><style>\n",
       ".dataframe > thead > tr,\n",
       ".dataframe > tbody > tr {\n",
       "  text-align: right;\n",
       "  white-space: pre-wrap;\n",
       "}\n",
       "</style>\n",
       "<small>shape: (2, 12)</small><table border=\"1\" class=\"dataframe\"><thead><tr><th>iso</th><th>t</th><th>cases</th><th>deaths</th><th>tests</th><th>population_density</th><th>median_age</th><th>aged_65_older</th><th>aged_70_older</th><th>cardiovasc_death_rate</th><th>handwashing_facilities</th><th>life_expectancy</th></tr><tr><td>str</td><td>i16</td><td>f64</td><td>f64</td><td>str</td><td>f64</td><td>f64</td><td>f64</td><td>f64</td><td>f64</td><td>f64</td><td>f64</td></tr></thead><tbody><tr><td>&quot;VNM&quot;</td><td>2020</td><td>0.039834</td><td>0.000967</td><td>null</td><td>308.13</td><td>32.6</td><td>7.15</td><td>4.72</td><td>245.46</td><td>85.85</td><td>75.4</td></tr><tr><td>&quot;PCN&quot;</td><td>2022</td><td>265.33997</td><td>0.0</td><td>null</td><td>null</td><td>null</td><td>null</td><td>null</td><td>null</td><td>null</td><td>null</td></tr></tbody></table></div>"
      ],
      "text/plain": [
       "shape: (2, 12)\n",
       "┌─────┬──────┬───────────┬──────────┬───┬──────────────┬──────────────┬──────────────┬─────────────┐\n",
       "│ iso ┆ t    ┆ cases     ┆ deaths   ┆ … ┆ aged_70_olde ┆ cardiovasc_d ┆ handwashing_ ┆ life_expect │\n",
       "│ --- ┆ ---  ┆ ---       ┆ ---      ┆   ┆ r            ┆ eath_rate    ┆ facilities   ┆ ancy        │\n",
       "│ str ┆ i16  ┆ f64       ┆ f64      ┆   ┆ ---          ┆ ---          ┆ ---          ┆ ---         │\n",
       "│     ┆      ┆           ┆          ┆   ┆ f64          ┆ f64          ┆ f64          ┆ f64         │\n",
       "╞═════╪══════╪═══════════╪══════════╪═══╪══════════════╪══════════════╪══════════════╪═════════════╡\n",
       "│ VNM ┆ 2020 ┆ 0.039834  ┆ 0.000967 ┆ … ┆ 4.72         ┆ 245.46       ┆ 85.85        ┆ 75.4        │\n",
       "│ PCN ┆ 2022 ┆ 265.33997 ┆ 0.0      ┆ … ┆ null         ┆ null         ┆ null         ┆ null        │\n",
       "└─────┴──────┴───────────┴──────────┴───┴──────────────┴──────────────┴──────────────┴─────────────┘"
      ]
     },
     "execution_count": 10,
     "metadata": {},
     "output_type": "execute_result"
    }
   ],
   "source": [
    "#Надо подумать, нет ли тут эндогенных пропусков (т.е. если у страны нулевая заболеваемость, значит ли это, что она ничего не репортит, а не репортит 0)\n",
    "sql.execute('''create table covid as\n",
    "    select \n",
    "            iso_code as iso\n",
    "            , left(date, 4)::smallint as t\n",
    "            , avg(new_cases_per_million) as cases\n",
    "            , avg(new_deaths_per_million) as deaths\n",
    "            , avg(new_tests_per_thousand) as tests\n",
    "            , avg(population_density) as population_density\n",
    "            , avg(median_age) as median_age\n",
    "            , avg(aged_65_older) as aged_65_older\n",
    "            , avg(aged_70_older) as aged_70_older\n",
    "            , avg(cardiovasc_death_rate) as cardiovasc_death_rate\n",
    "            , avg(handwashing_facilities) as handwashing_facilities\n",
    "            , avg(life_expectancy) as life_expectancy\n",
    "    from covid_tmp\n",
    "    where date <= '2022-12-01'\n",
    "    group by iso_code, left(date, 4)        \n",
    ";''')\n",
    "sql.execute('''select * from covid limit 2;''').collect()"
   ]
  },
  {
   "cell_type": "code",
   "execution_count": null,
   "metadata": {},
   "outputs": [],
   "source": []
  }
 ],
 "metadata": {
  "kernelspec": {
   "display_name": ".venv",
   "language": "python",
   "name": "python3"
  },
  "language_info": {
   "codemirror_mode": {
    "name": "ipython",
    "version": 3
   },
   "file_extension": ".py",
   "mimetype": "text/x-python",
   "name": "python",
   "nbconvert_exporter": "python",
   "pygments_lexer": "ipython3",
   "version": "3.13.2"
  }
 },
 "nbformat": 4,
 "nbformat_minor": 2
}
