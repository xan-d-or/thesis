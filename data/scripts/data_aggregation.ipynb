{
 "cells": [
  {
   "cell_type": "markdown",
   "metadata": {},
   "source": [
    "# Предобрабатываю данные (избавляюсь от дубликатов), агрегирую до года, соединяю таблицы"
   ]
  },
  {
   "cell_type": "code",
   "execution_count": 1,
   "metadata": {
    "vscode": {
     "languageId": "shellscript"
    }
   },
   "outputs": [
    {
     "name": "stdout",
     "output_type": "stream",
     "text": [
      "Requirement already satisfied: polars==1.22.0 in c:\\users\\unstr\\documents\\7 семестр работы\\диплом\\thesis-repo\\thesis\\.venv\\lib\\site-packages (from -r requirements.txt (line 1)) (1.22.0)\n",
      "Requirement already satisfied: pandas==2.2.3 in c:\\users\\unstr\\documents\\7 семестр работы\\диплом\\thesis-repo\\thesis\\.venv\\lib\\site-packages (from -r requirements.txt (line 2)) (2.2.3)\n",
      "Requirement already satisfied: numpy==2.2 in c:\\users\\unstr\\documents\\7 семестр работы\\диплом\\thesis-repo\\thesis\\.venv\\lib\\site-packages (from -r requirements.txt (line 3)) (2.2.0)\n",
      "Requirement already satisfied: plotly==6.0.0 in c:\\users\\unstr\\documents\\7 семестр работы\\диплом\\thesis-repo\\thesis\\.venv\\lib\\site-packages (from -r requirements.txt (line 4)) (6.0.0)\n",
      "Requirement already satisfied: fastexcel in c:\\users\\unstr\\documents\\7 семестр работы\\диплом\\thesis-repo\\thesis\\.venv\\lib\\site-packages (from -r requirements.txt (line 5)) (0.12.1)\n",
      "Requirement already satisfied: python-dateutil>=2.8.2 in c:\\users\\unstr\\documents\\7 семестр работы\\диплом\\thesis-repo\\thesis\\.venv\\lib\\site-packages (from pandas==2.2.3->-r requirements.txt (line 2)) (2.9.0.post0)\n",
      "Requirement already satisfied: pytz>=2020.1 in c:\\users\\unstr\\documents\\7 семестр работы\\диплом\\thesis-repo\\thesis\\.venv\\lib\\site-packages (from pandas==2.2.3->-r requirements.txt (line 2)) (2025.1)\n",
      "Requirement already satisfied: tzdata>=2022.7 in c:\\users\\unstr\\documents\\7 семестр работы\\диплом\\thesis-repo\\thesis\\.venv\\lib\\site-packages (from pandas==2.2.3->-r requirements.txt (line 2)) (2025.1)\n",
      "Requirement already satisfied: narwhals>=1.15.1 in c:\\users\\unstr\\documents\\7 семестр работы\\диплом\\thesis-repo\\thesis\\.venv\\lib\\site-packages (from plotly==6.0.0->-r requirements.txt (line 4)) (1.25.2)\n",
      "Requirement already satisfied: packaging in c:\\users\\unstr\\documents\\7 семестр работы\\диплом\\thesis-repo\\thesis\\.venv\\lib\\site-packages (from plotly==6.0.0->-r requirements.txt (line 4)) (24.2)\n",
      "Requirement already satisfied: pyarrow>=8.0.0 in c:\\users\\unstr\\documents\\7 семестр работы\\диплом\\thesis-repo\\thesis\\.venv\\lib\\site-packages (from fastexcel->-r requirements.txt (line 5)) (19.0.0)\n",
      "Requirement already satisfied: six>=1.5 in c:\\users\\unstr\\documents\\7 семестр работы\\диплом\\thesis-repo\\thesis\\.venv\\lib\\site-packages (from python-dateutil>=2.8.2->pandas==2.2.3->-r requirements.txt (line 2)) (1.17.0)\n",
      "Note: you may need to restart the kernel to use updated packages.\n"
     ]
    },
    {
     "name": "stderr",
     "output_type": "stream",
     "text": [
      "\n",
      "[notice] A new release of pip is available: 24.3.1 -> 25.0\n",
      "[notice] To update, run: python.exe -m pip install --upgrade pip\n"
     ]
    }
   ],
   "source": [
    "pip install -r requirements.txt"
   ]
  },
  {
   "cell_type": "code",
   "execution_count": 1,
   "metadata": {
    "vscode": {
     "languageId": "shellscript"
    }
   },
   "outputs": [
    {
     "name": "stdout",
     "output_type": "stream",
     "text": [
      "c:\\Users\\unstr\\Documents\\7 семестр работы\\Диплом\\thesis-repo\\thesis\\data\n"
     ]
    },
    {
     "name": "stderr",
     "output_type": "stream",
     "text": [
      "c:\\Users\\unstr\\Documents\\7 семестр работы\\Диплом\\thesis-repo\\thesis\\.venv\\Lib\\site-packages\\IPython\\core\\magics\\osm.py:417: UserWarning: This is now an optional IPython functionality, setting dhist requires you to install the `pickleshare` library.\n",
      "  self.shell.db['dhist'] = compress_dhist(dhist)[-100:]\n"
     ]
    }
   ],
   "source": [
    "cd .."
   ]
  },
  {
   "cell_type": "code",
   "execution_count": 2,
   "metadata": {},
   "outputs": [],
   "source": [
    "import polars as pl"
   ]
  },
  {
   "cell_type": "code",
   "execution_count": 3,
   "metadata": {},
   "outputs": [],
   "source": [
    "trade19 = pl.read_csv('./raw_data/BACI_HS17_V202501/BACI_HS17_Y2019_V202501.csv')\n",
    "trade20 = pl.read_csv('./raw_data/BACI_HS17_V202501/BACI_HS17_Y2020_V202501.csv')\n",
    "trade21 = pl.read_csv('./raw_data/BACI_HS17_V202501/BACI_HS17_Y2021_V202501.csv')\n",
    "trade22 = pl.read_csv('./raw_data/BACI_HS17_V202501/BACI_HS17_Y2022_V202501.csv')\n",
    "country_codes = pl.read_csv('./raw_data/BACI_HS17_V202501/country_codes_V202501.csv')\n",
    "sql = pl.SQLContext(register_globals=True)"
   ]
  },
  {
   "cell_type": "code",
   "execution_count": 4,
   "metadata": {},
   "outputs": [
    {
     "data": {
      "text/html": [
       "<div><style>\n",
       ".dataframe > thead > tr,\n",
       ".dataframe > tbody > tr {\n",
       "  text-align: right;\n",
       "  white-space: pre-wrap;\n",
       "}\n",
       "</style>\n",
       "<small>shape: (1, 6)</small><table border=\"1\" class=\"dataframe\"><thead><tr><th>t</th><th>i</th><th>j</th><th>k</th><th>v</th><th>q</th></tr><tr><td>i64</td><td>i64</td><td>i64</td><td>i64</td><td>f64</td><td>f64</td></tr></thead><tbody><tr><td>2019</td><td>4</td><td>20</td><td>420229</td><td>0.471</td><td>0.001</td></tr></tbody></table></div>"
      ],
      "text/plain": [
       "shape: (1, 6)\n",
       "┌──────┬─────┬─────┬────────┬───────┬───────┐\n",
       "│ t    ┆ i   ┆ j   ┆ k      ┆ v     ┆ q     │\n",
       "│ ---  ┆ --- ┆ --- ┆ ---    ┆ ---   ┆ ---   │\n",
       "│ i64  ┆ i64 ┆ i64 ┆ i64    ┆ f64   ┆ f64   │\n",
       "╞══════╪═════╪═════╪════════╪═══════╪═══════╡\n",
       "│ 2019 ┆ 4   ┆ 20  ┆ 420229 ┆ 0.471 ┆ 0.001 │\n",
       "└──────┴─────┴─────┴────────┴───────┴───────┘"
      ]
     },
     "execution_count": 4,
     "metadata": {},
     "output_type": "execute_result"
    }
   ],
   "source": [
    "#Структура данных. t, i , j , k --- ключ.\n",
    "sql.execute('''select * from trade19 limit 1;''').collect()"
   ]
  },
  {
   "cell_type": "code",
   "execution_count": 5,
   "metadata": {},
   "outputs": [
    {
     "name": "stdout",
     "output_type": "stream",
     "text": [
      "shape: (1, 4)\n",
      "┌─────┬─────┬────────┬─────┐\n",
      "│ i   ┆ j   ┆ k      ┆ cnt │\n",
      "│ --- ┆ --- ┆ ---    ┆ --- │\n",
      "│ i64 ┆ i64 ┆ i64    ┆ u32 │\n",
      "╞═════╪═════╪════════╪═════╡\n",
      "│ 246 ┆ 458 ┆ 621149 ┆ 1   │\n",
      "└─────┴─────┴────────┴─────┘\n",
      "shape: (1, 4)\n",
      "┌─────┬─────┬────────┬─────┐\n",
      "│ i   ┆ j   ┆ k      ┆ cnt │\n",
      "│ --- ┆ --- ┆ ---    ┆ --- │\n",
      "│ i64 ┆ i64 ┆ i64    ┆ u32 │\n",
      "╞═════╪═════╪════════╪═════╡\n",
      "│ 170 ┆ 528 ┆ 620192 ┆ 1   │\n",
      "└─────┴─────┴────────┴─────┘\n",
      "shape: (1, 4)\n",
      "┌─────┬─────┬────────┬─────┐\n",
      "│ i   ┆ j   ┆ k      ┆ cnt │\n",
      "│ --- ┆ --- ┆ ---    ┆ --- │\n",
      "│ i64 ┆ i64 ┆ i64    ┆ u32 │\n",
      "╞═════╪═════╪════════╪═════╡\n",
      "│ 724 ┆ 251 ┆ 600192 ┆ 1   │\n",
      "└─────┴─────┴────────┴─────┘\n",
      "shape: (1, 4)\n",
      "┌─────┬─────┬────────┬─────┐\n",
      "│ i   ┆ j   ┆ k      ┆ cnt │\n",
      "│ --- ┆ --- ┆ ---    ┆ --- │\n",
      "│ i64 ┆ i64 ┆ i64    ┆ u32 │\n",
      "╞═════╪═════╪════════╪═════╡\n",
      "│ 764 ┆ 56  ┆ 551599 ┆ 1   │\n",
      "└─────┴─────┴────────┴─────┘\n"
     ]
    }
   ],
   "source": [
    "#Проверяю, что в данных нет дублей\n",
    "print(sql.execute('''select i, j, k, count(*) as cnt from trade19 group by 1, 2, 3 order by 4 desc limit 1;''').collect())\n",
    "print(sql.execute('''select i, j, k, count(*) as cnt from trade20 group by 1, 2, 3 order by 4 desc limit 1;''').collect())\n",
    "print(sql.execute('''select i, j, k, count(*) as cnt from trade21 group by 1, 2, 3 order by 4 desc limit 1;''').collect())\n",
    "print(sql.execute('''select i, j, k, count(*) as cnt from trade22 group by 1, 2, 3 order by 4 desc limit 1;''').collect())"
   ]
  },
  {
   "cell_type": "code",
   "execution_count": 4,
   "metadata": {},
   "outputs": [
    {
     "data": {
      "text/html": [
       "<div><style>\n",
       ".dataframe > thead > tr,\n",
       ".dataframe > tbody > tr {\n",
       "  text-align: right;\n",
       "  white-space: pre-wrap;\n",
       "}\n",
       "</style>\n",
       "<small>shape: (1, 1)</small><table border=\"1\" class=\"dataframe\"><thead><tr><th>len</th></tr><tr><td>u32</td></tr></thead><tbody><tr><td>34145929</td></tr></tbody></table></div>"
      ],
      "text/plain": [
       "shape: (1, 1)\n",
       "┌──────────┐\n",
       "│ len      │\n",
       "│ ---      │\n",
       "│ u32      │\n",
       "╞══════════╡\n",
       "│ 34145929 │\n",
       "└──────────┘"
      ]
     },
     "execution_count": 4,
     "metadata": {},
     "output_type": "execute_result"
    }
   ],
   "source": [
    "# Меняю типы данных на более экономные, где это возможно, и объединяю таблицы для трёх лет\n",
    "trade_tmp = sql.execute(''' \n",
    "            select \n",
    "                    t::smallint\n",
    "                    , i::smallint\n",
    "                    , j::smallint\n",
    "                    , k\n",
    "                    , v::float4\n",
    "                    , q::float4\n",
    "                    ,  case when length(k::varchar) = 5 then '0'||(k::varchar) \n",
    "                            else k::varchar end as category \n",
    "                    from trade20\n",
    "            union all\n",
    "            select \n",
    "                    t::smallint\n",
    "                    , i::smallint\n",
    "                    , j::smallint\n",
    "                    , k\n",
    "                    , v::float4\n",
    "                    , q::float4\n",
    "                    ,  case when length(k::varchar) = 5 then '0'||(k::varchar) \n",
    "                            else k::varchar end as category \n",
    "                    from trade21\n",
    "            union all\n",
    "            select \n",
    "                    t::smallint\n",
    "                    , i::smallint\n",
    "                    , j::smallint\n",
    "                    , k\n",
    "                    , v::float4\n",
    "                    , q::float4\n",
    "                    ,  case when length(k::varchar) = 5 then '0'||(k::varchar) \n",
    "                            else k::varchar end as category \n",
    "                    from trade22\n",
    "            ;\n",
    "            ''').collect()\n",
    "sql.register('trade_tmp', trade_tmp)\n",
    "sql.execute('''select count(*) from trade_tmp;''').collect()"
   ]
  },
  {
   "cell_type": "code",
   "execution_count": 5,
   "metadata": {},
   "outputs": [
    {
     "data": {
      "text/plain": [
       "23"
      ]
     },
     "execution_count": 5,
     "metadata": {},
     "output_type": "execute_result"
    }
   ],
   "source": [
    "# Удаляю лишние таблицы, чтобы не засоряли оперативку\n",
    "import gc\n",
    "del trade20\n",
    "del trade21\n",
    "del trade22\n",
    "gc.collect()"
   ]
  },
  {
   "cell_type": "code",
   "execution_count": 6,
   "metadata": {},
   "outputs": [
    {
     "data": {
      "text/plain": [
       "0"
      ]
     },
     "execution_count": 6,
     "metadata": {},
     "output_type": "execute_result"
    }
   ],
   "source": [
    "# Джоиню данные за 2019 год, чтобы было потом на них нормировать\n",
    "trade_tmp2 = sql.execute('''\n",
    "            select \n",
    "                tr.t\n",
    "                , tr.i\n",
    "                , tr.j\n",
    "                , tr.category    \n",
    "                , tr.v\n",
    "                , tr.q             \n",
    "                , t19.v as v19\n",
    "                , t19.q as q19    \n",
    "            from trade_tmp tr\n",
    "            inner join trade19 t19\n",
    "                on tr.i = t19.i\n",
    "                and tr.j = t19.j\n",
    "                and tr.k = t19.k\n",
    "            ;''').collect()\n",
    "sql.register('trade_tmp2', trade_tmp2)\n",
    "del trade19\n",
    "del trade_tmp\n",
    "gc.collect()"
   ]
  },
  {
   "cell_type": "code",
   "execution_count": null,
   "metadata": {},
   "outputs": [],
   "source": [
    "# Материализовал тяжёлый запрос, чтобы больше не мучить компьютер\n",
    "# trade_tmp2.write_parquet('preprocessed_data/trade_tmp2.parquet.gzip')"
   ]
  },
  {
   "cell_type": "code",
   "execution_count": 8,
   "metadata": {},
   "outputs": [
    {
     "data": {
      "text/html": [
       "<div><style>\n",
       ".dataframe > thead > tr,\n",
       ".dataframe > tbody > tr {\n",
       "  text-align: right;\n",
       "  white-space: pre-wrap;\n",
       "}\n",
       "</style>\n",
       "<small>shape: (4, 2)</small><table border=\"1\" class=\"dataframe\"><thead><tr><th>country_iso3</th><th>len</th></tr><tr><td>str</td><td>u32</td></tr></thead><tbody><tr><td>&quot;BEL&quot;</td><td>2</td></tr><tr><td>&quot;DEU&quot;</td><td>2</td></tr><tr><td>&quot;SDN&quot;</td><td>2</td></tr><tr><td>&quot;KWT&quot;</td><td>1</td></tr></tbody></table></div>"
      ],
      "text/plain": [
       "shape: (4, 2)\n",
       "┌──────────────┬─────┐\n",
       "│ country_iso3 ┆ len │\n",
       "│ ---          ┆ --- │\n",
       "│ str          ┆ u32 │\n",
       "╞══════════════╪═════╡\n",
       "│ BEL          ┆ 2   │\n",
       "│ DEU          ┆ 2   │\n",
       "│ SDN          ┆ 2   │\n",
       "│ KWT          ┆ 1   │\n",
       "└──────────────┴─────┘"
      ]
     },
     "execution_count": 8,
     "metadata": {},
     "output_type": "execute_result"
    }
   ],
   "source": [
    "# Хотя в country_codes есть страны, у которых два типа country_code, но один iso3, это соответствует кейсам преемственности. \n",
    "# На интервале 2019 -- 2022 этого не возникает (т.е. можно считать, что iso3 --- PK)\n",
    "sql.execute('''select country_iso3, count(*) from country_codes group by 1, order by 2 desc limit 4;''').collect()"
   ]
  },
  {
   "cell_type": "code",
   "execution_count": 9,
   "metadata": {},
   "outputs": [
    {
     "data": {
      "text/html": [
       "<div><style>\n",
       ".dataframe > thead > tr,\n",
       ".dataframe > tbody > tr {\n",
       "  text-align: right;\n",
       "  white-space: pre-wrap;\n",
       "}\n",
       "</style>\n",
       "<small>shape: (2, 8)</small><table border=\"1\" class=\"dataframe\"><thead><tr><th>t</th><th>i</th><th>j</th><th>category</th><th>v</th><th>q</th><th>v19</th><th>q19</th></tr><tr><td>i16</td><td>str</td><td>str</td><td>str</td><td>f32</td><td>f32</td><td>f64</td><td>f64</td></tr></thead><tbody><tr><td>2020</td><td>&quot;AFG&quot;</td><td>&quot;AUS&quot;</td><td>&quot;080211&quot;</td><td>2.456</td><td>0.71</td><td>6.944</td><td>1.198</td></tr><tr><td>2020</td><td>&quot;AFG&quot;</td><td>&quot;AUS&quot;</td><td>&quot;080420&quot;</td><td>1.398</td><td>1.331</td><td>0.87</td><td>0.8</td></tr></tbody></table></div>"
      ],
      "text/plain": [
       "shape: (2, 8)\n",
       "┌──────┬─────┬─────┬──────────┬───────┬───────┬───────┬───────┐\n",
       "│ t    ┆ i   ┆ j   ┆ category ┆ v     ┆ q     ┆ v19   ┆ q19   │\n",
       "│ ---  ┆ --- ┆ --- ┆ ---      ┆ ---   ┆ ---   ┆ ---   ┆ ---   │\n",
       "│ i16  ┆ str ┆ str ┆ str      ┆ f32   ┆ f32   ┆ f64   ┆ f64   │\n",
       "╞══════╪═════╪═════╪══════════╪═══════╪═══════╪═══════╪═══════╡\n",
       "│ 2020 ┆ AFG ┆ AUS ┆ 080211   ┆ 2.456 ┆ 0.71  ┆ 6.944 ┆ 1.198 │\n",
       "│ 2020 ┆ AFG ┆ AUS ┆ 080420   ┆ 1.398 ┆ 1.331 ┆ 0.87  ┆ 0.8   │\n",
       "└──────┴─────┴─────┴──────────┴───────┴───────┴───────┴───────┘"
      ]
     },
     "execution_count": 9,
     "metadata": {},
     "output_type": "execute_result"
    }
   ],
   "source": [
    "# У некоторых стран два country_code, но один iso3 код. Чтобы убрать дубли, группирую и суммирую\n",
    "trade = sql.execute('''\n",
    "    select \n",
    "        tr.t\n",
    "        , cc_i.country_iso3 as i\n",
    "        , cc_j.country_iso3 as j\n",
    "        , tr.category    \n",
    "        , v\n",
    "        , q             \n",
    "        , v19\n",
    "        , q19\n",
    "    from trade_tmp2 tr\n",
    "    inner join country_codes cc_i\n",
    "        on tr.i = cc_i.country_code \n",
    "    inner join country_codes cc_j\n",
    "        on tr.j = cc_j.country_code                      \n",
    ";''').collect()\n",
    "sql.register('trade', trade)\n",
    "sql.execute('''select * from trade limit 2;''').collect()"
   ]
  },
  {
   "cell_type": "code",
   "execution_count": 10,
   "metadata": {},
   "outputs": [],
   "source": [
    "trade.write_parquet('preprocessed_data/trade_hs6.parquet.gzip')"
   ]
  },
  {
   "cell_type": "code",
   "execution_count": null,
   "metadata": {},
   "outputs": [],
   "source": [
    "# Агрегирую данные о торговле с разной гранулярностью гармонизированной системы\n",
    "sql.execute('''\n",
    "            select \n",
    "                t, i, j, left(category, 4) as category\n",
    "                , sum(v) as v\n",
    "                , sum(q) as q\n",
    "                , sum(v19) as v19\n",
    "                , sum(q19) as q19\n",
    "            from trade\n",
    "            group by 1, 2, 3, 4\n",
    "            ;''').collect().write_parquet('preprocessed_data/trade_hs4.parquet.gzip')"
   ]
  },
  {
   "cell_type": "code",
   "execution_count": 12,
   "metadata": {},
   "outputs": [],
   "source": [
    "sql.execute('''select \n",
    "                t, i, j, left(category, 2) as category\n",
    "                , sum(v) as v\n",
    "                , sum(q) as q\n",
    "                , sum(v19) as v19\n",
    "                , sum(q19) as q19\n",
    "            from trade\n",
    "            group by 1, 2, 3, 4\n",
    "            ;''').collect().write_parquet('preprocessed_data/trade_hs2.parquet.gzip')"
   ]
  },
  {
   "cell_type": "code",
   "execution_count": 13,
   "metadata": {},
   "outputs": [],
   "source": [
    "sql.execute('''select \n",
    "                t, i, j\n",
    "                , sum(v) as v\n",
    "                , sum(q) as q\n",
    "                , sum(v19) as v19\n",
    "                , sum(q19) as q19\n",
    "            from trade\n",
    "            group by 1, 2, 3\n",
    "            ;''').collect().write_parquet('preprocessed_data/trade_hs0.parquet.gzip')"
   ]
  },
  {
   "cell_type": "code",
   "execution_count": 14,
   "metadata": {},
   "outputs": [
    {
     "data": {
      "text/plain": [
       "21"
      ]
     },
     "execution_count": 14,
     "metadata": {},
     "output_type": "execute_result"
    }
   ],
   "source": [
    "del trade_tmp2\n",
    "del trade\n",
    "gc.collect()"
   ]
  },
  {
   "cell_type": "markdown",
   "metadata": {},
   "source": [
    "## Агрегирую заболеваемость и смертность"
   ]
  },
  {
   "cell_type": "code",
   "execution_count": 16,
   "metadata": {},
   "outputs": [
    {
     "data": {
      "text/html": [
       "<div><style>\n",
       ".dataframe > thead > tr,\n",
       ".dataframe > tbody > tr {\n",
       "  text-align: right;\n",
       "  white-space: pre-wrap;\n",
       "}\n",
       "</style>\n",
       "<small>shape: (2, 67)</small><table border=\"1\" class=\"dataframe\"><thead><tr><th>iso_code</th><th>continent</th><th>location</th><th>date</th><th>total_cases</th><th>new_cases</th><th>new_cases_smoothed</th><th>total_deaths</th><th>new_deaths</th><th>new_deaths_smoothed</th><th>total_cases_per_million</th><th>new_cases_per_million</th><th>new_cases_smoothed_per_million</th><th>total_deaths_per_million</th><th>new_deaths_per_million</th><th>new_deaths_smoothed_per_million</th><th>reproduction_rate</th><th>icu_patients</th><th>icu_patients_per_million</th><th>hosp_patients</th><th>hosp_patients_per_million</th><th>weekly_icu_admissions</th><th>weekly_icu_admissions_per_million</th><th>weekly_hosp_admissions</th><th>weekly_hosp_admissions_per_million</th><th>total_tests</th><th>new_tests</th><th>total_tests_per_thousand</th><th>new_tests_per_thousand</th><th>new_tests_smoothed</th><th>new_tests_smoothed_per_thousand</th><th>positive_rate</th><th>tests_per_case</th><th>tests_units</th><th>total_vaccinations</th><th>people_vaccinated</th><th>people_fully_vaccinated</th><th>total_boosters</th><th>new_vaccinations</th><th>new_vaccinations_smoothed</th><th>total_vaccinations_per_hundred</th><th>people_vaccinated_per_hundred</th><th>people_fully_vaccinated_per_hundred</th><th>total_boosters_per_hundred</th><th>new_vaccinations_smoothed_per_million</th><th>new_people_vaccinated_smoothed</th><th>new_people_vaccinated_smoothed_per_hundred</th><th>stringency_index</th><th>population_density</th><th>median_age</th><th>aged_65_older</th><th>aged_70_older</th><th>gdp_per_capita</th><th>extreme_poverty</th><th>cardiovasc_death_rate</th><th>diabetes_prevalence</th><th>female_smokers</th><th>male_smokers</th><th>handwashing_facilities</th><th>hospital_beds_per_thousand</th><th>life_expectancy</th><th>human_development_index</th><th>population</th><th>excess_mortality_cumulative_absolute</th><th>excess_mortality_cumulative</th><th>excess_mortality</th><th>excess_mortality_cumulative_per_million</th></tr><tr><td>str</td><td>str</td><td>str</td><td>str</td><td>i64</td><td>i64</td><td>f64</td><td>i64</td><td>i64</td><td>f64</td><td>f64</td><td>f64</td><td>f64</td><td>f64</td><td>f64</td><td>f64</td><td>f64</td><td>str</td><td>str</td><td>str</td><td>str</td><td>str</td><td>str</td><td>str</td><td>str</td><td>str</td><td>str</td><td>str</td><td>str</td><td>str</td><td>str</td><td>str</td><td>str</td><td>str</td><td>str</td><td>str</td><td>str</td><td>str</td><td>str</td><td>str</td><td>str</td><td>str</td><td>str</td><td>str</td><td>str</td><td>str</td><td>str</td><td>f64</td><td>f64</td><td>f64</td><td>f64</td><td>f64</td><td>f64</td><td>str</td><td>f64</td><td>f64</td><td>str</td><td>str</td><td>f64</td><td>f64</td><td>f64</td><td>f64</td><td>i64</td><td>str</td><td>str</td><td>str</td><td>str</td></tr></thead><tbody><tr><td>&quot;AFG&quot;</td><td>&quot;Asia&quot;</td><td>&quot;Afghanistan&quot;</td><td>&quot;2020-01-05&quot;</td><td>0</td><td>0</td><td>null</td><td>0</td><td>0</td><td>null</td><td>0.0</td><td>0.0</td><td>null</td><td>0.0</td><td>0.0</td><td>null</td><td>null</td><td>null</td><td>null</td><td>null</td><td>null</td><td>null</td><td>null</td><td>null</td><td>null</td><td>null</td><td>null</td><td>null</td><td>null</td><td>null</td><td>null</td><td>null</td><td>null</td><td>null</td><td>null</td><td>null</td><td>null</td><td>null</td><td>null</td><td>null</td><td>null</td><td>null</td><td>null</td><td>null</td><td>null</td><td>null</td><td>null</td><td>0.0</td><td>54.42</td><td>18.6</td><td>2.58</td><td>1.34</td><td>1803.99</td><td>null</td><td>597.03</td><td>9.59</td><td>null</td><td>null</td><td>37.75</td><td>0.5</td><td>64.83</td><td>0.51</td><td>41128772</td><td>null</td><td>null</td><td>null</td><td>null</td></tr><tr><td>&quot;AFG&quot;</td><td>&quot;Asia&quot;</td><td>&quot;Afghanistan&quot;</td><td>&quot;2020-01-06&quot;</td><td>0</td><td>0</td><td>null</td><td>0</td><td>0</td><td>null</td><td>0.0</td><td>0.0</td><td>null</td><td>0.0</td><td>0.0</td><td>null</td><td>null</td><td>null</td><td>null</td><td>null</td><td>null</td><td>null</td><td>null</td><td>null</td><td>null</td><td>null</td><td>null</td><td>null</td><td>null</td><td>null</td><td>null</td><td>null</td><td>null</td><td>null</td><td>null</td><td>null</td><td>null</td><td>null</td><td>null</td><td>null</td><td>null</td><td>null</td><td>null</td><td>null</td><td>null</td><td>null</td><td>null</td><td>0.0</td><td>54.42</td><td>18.6</td><td>2.58</td><td>1.34</td><td>1803.99</td><td>null</td><td>597.03</td><td>9.59</td><td>null</td><td>null</td><td>37.75</td><td>0.5</td><td>64.83</td><td>0.51</td><td>41128772</td><td>null</td><td>null</td><td>null</td><td>null</td></tr></tbody></table></div>"
      ],
      "text/plain": [
       "shape: (2, 67)\n",
       "┌──────────┬───────────┬───────────┬───────────┬───┬───────────┬───────────┬───────────┬───────────┐\n",
       "│ iso_code ┆ continent ┆ location  ┆ date      ┆ … ┆ excess_mo ┆ excess_mo ┆ excess_mo ┆ excess_mo │\n",
       "│ ---      ┆ ---       ┆ ---       ┆ ---       ┆   ┆ rtality_c ┆ rtality_c ┆ rtality   ┆ rtality_c │\n",
       "│ str      ┆ str       ┆ str       ┆ str       ┆   ┆ umulative ┆ umulative ┆ ---       ┆ umulative │\n",
       "│          ┆           ┆           ┆           ┆   ┆ _ab…      ┆ ---       ┆ str       ┆ _pe…      │\n",
       "│          ┆           ┆           ┆           ┆   ┆ ---       ┆ str       ┆           ┆ ---       │\n",
       "│          ┆           ┆           ┆           ┆   ┆ str       ┆           ┆           ┆ str       │\n",
       "╞══════════╪═══════════╪═══════════╪═══════════╪═══╪═══════════╪═══════════╪═══════════╪═══════════╡\n",
       "│ AFG      ┆ Asia      ┆ Afghanist ┆ 2020-01-0 ┆ … ┆ null      ┆ null      ┆ null      ┆ null      │\n",
       "│          ┆           ┆ an        ┆ 5         ┆   ┆           ┆           ┆           ┆           │\n",
       "│ AFG      ┆ Asia      ┆ Afghanist ┆ 2020-01-0 ┆ … ┆ null      ┆ null      ┆ null      ┆ null      │\n",
       "│          ┆           ┆ an        ┆ 6         ┆   ┆           ┆           ┆           ┆           │\n",
       "└──────────┴───────────┴───────────┴───────────┴───┴───────────┴───────────┴───────────┴───────────┘"
      ]
     },
     "execution_count": 16,
     "metadata": {},
     "output_type": "execute_result"
    }
   ],
   "source": [
    "covid_tmp = pl.read_csv('raw_data/Our World In Data/owid-covid-data.csv')\n",
    "sql.register('covid_tmp', covid_tmp)\n",
    "sql.execute('''select * from covid_tmp limit 2;''').collect()"
   ]
  },
  {
   "cell_type": "code",
   "execution_count": null,
   "metadata": {},
   "outputs": [
    {
     "data": {
      "text/html": [
       "<div><style>\n",
       ".dataframe > thead > tr,\n",
       ".dataframe > tbody > tr {\n",
       "  text-align: right;\n",
       "  white-space: pre-wrap;\n",
       "}\n",
       "</style>\n",
       "<small>shape: (2, 5)</small><table border=\"1\" class=\"dataframe\"><thead><tr><th>country</th><th>t</th><th>cases</th><th>deaths</th><th>tests</th></tr><tr><td>str</td><td>i16</td><td>f64</td><td>f64</td><td>str</td></tr></thead><tbody><tr><td>&quot;AIA&quot;</td><td>2022</td><td>435.593671</td><td>1.350329</td><td>null</td></tr><tr><td>&quot;LCA&quot;</td><td>2020</td><td>4.712348</td><td>0.077265</td><td>null</td></tr></tbody></table></div>"
      ],
      "text/plain": [
       "shape: (2, 5)\n",
       "┌─────────┬──────┬────────────┬──────────┬───────┐\n",
       "│ country ┆ t    ┆ cases      ┆ deaths   ┆ tests │\n",
       "│ ---     ┆ ---  ┆ ---        ┆ ---      ┆ ---   │\n",
       "│ str     ┆ i16  ┆ f64        ┆ f64      ┆ str   │\n",
       "╞═════════╪══════╪════════════╪══════════╪═══════╡\n",
       "│ AIA     ┆ 2022 ┆ 435.593671 ┆ 1.350329 ┆ null  │\n",
       "│ LCA     ┆ 2020 ┆ 4.712348   ┆ 0.077265 ┆ null  │\n",
       "└─────────┴──────┴────────────┴──────────┴───────┘"
      ]
     },
     "execution_count": 17,
     "metadata": {},
     "output_type": "execute_result"
    }
   ],
   "source": [
    "# Надо подумать, нет ли тут эндогенных пропусков (т.е. если у страны нулевая заболеваемость,\n",
    "#  значит ли это, что она ничего не репортит, а не репортит 0)\n",
    "sql.execute('''create table covid as\n",
    "    select \n",
    "        iso_code as country\n",
    "        , left(date, 4)::smallint as t\n",
    "        , avg(new_cases_per_million) as cases\n",
    "        , avg(new_deaths_per_million) as deaths\n",
    "        , avg(new_tests_per_thousand) as tests\n",
    "        /*Лучше воспрользоваться данными ООН, чтобы точно использовать доковидные данные\n",
    "        , avg(population_density) as population_density\n",
    "        , avg(median_age) as median_age \n",
    "        , avg(aged_65_older) as aged_65_older\n",
    "        , avg(aged_70_older) as aged_70_older\n",
    "        , avg(cardiovasc_death_rate) as cardiovasc_death_rate\n",
    "        , avg(handwashing_facilities) as handwashing_facilities\n",
    "        , avg(life_expectancy) as life_expectancy */\n",
    "    from covid_tmp\n",
    "    where date <= '2022-12-31'\n",
    "    group by iso_code, left(date, 4)        \n",
    ";''')\n",
    "sql.execute('''select * from covid limit 2;''').collect()"
   ]
  },
  {
   "cell_type": "markdown",
   "metadata": {},
   "source": [
    "## Агрегирую коронавирусные ограничения"
   ]
  },
  {
   "cell_type": "code",
   "execution_count": 18,
   "metadata": {},
   "outputs": [
    {
     "data": {
      "text/html": [
       "<div><style>\n",
       ".dataframe > thead > tr,\n",
       ".dataframe > tbody > tr {\n",
       "  text-align: right;\n",
       "  white-space: pre-wrap;\n",
       "}\n",
       "</style>\n",
       "<small>shape: (2, 56)</small><table border=\"1\" class=\"dataframe\"><thead><tr><th>CountryName</th><th>CountryCode</th><th>RegionName</th><th>RegionCode</th><th>Jurisdiction</th><th>Date</th><th>C1M_School closing</th><th>C1M_Flag</th><th>C2M_Workplace closing</th><th>C2M_Flag</th><th>C3M_Cancel public events</th><th>C3M_Flag</th><th>C4M_Restrictions on gatherings</th><th>C4M_Flag</th><th>C5M_Close public transport</th><th>C5M_Flag</th><th>C6M_Stay at home requirements</th><th>C6M_Flag</th><th>C7M_Restrictions on internal movement</th><th>C7M_Flag</th><th>C8EV_International travel controls</th><th>E1_Income support</th><th>E1_Flag</th><th>E2_Debt/contract relief</th><th>E3_Fiscal measures</th><th>E4_International support</th><th>H1_Public information campaigns</th><th>H1_Flag</th><th>H2_Testing policy</th><th>H3_Contact tracing</th><th>H4_Emergency investment in healthcare</th><th>H5_Investment in vaccines</th><th>H6M_Facial Coverings</th><th>H6M_Flag</th><th>H7_Vaccination policy</th><th>H7_Flag</th><th>H8M_Protection of elderly people</th><th>H8M_Flag</th><th>V1_Vaccine Prioritisation (summary)</th><th>V2A_Vaccine Availability (summary)</th><th>V2B_Vaccine age eligibility/availability age floor (general population summary)</th><th>V2C_Vaccine age eligibility/availability age floor (at risk summary)</th><th>V2D_Medically/ clinically vulnerable (Non-elderly)</th><th>V2E_Education</th><th>V2F_Frontline workers  (non healthcare)</th><th>V2G_Frontline workers  (healthcare)</th><th>V3_Vaccine Financial Support (summary)</th><th>V4_Mandatory Vaccination (summary)</th><th>ConfirmedCases</th><th>ConfirmedDeaths</th><th>MajorityVaccinated</th><th>PopulationVaccinated</th><th>StringencyIndex_Average</th><th>GovernmentResponseIndex_Average</th><th>ContainmentHealthIndex_Average</th><th>EconomicSupportIndex</th></tr><tr><td>str</td><td>str</td><td>str</td><td>str</td><td>str</td><td>i64</td><td>f64</td><td>i64</td><td>f64</td><td>i64</td><td>f64</td><td>i64</td><td>f64</td><td>i64</td><td>f64</td><td>str</td><td>f64</td><td>i64</td><td>f64</td><td>i64</td><td>f64</td><td>f64</td><td>i64</td><td>f64</td><td>f64</td><td>f64</td><td>f64</td><td>i64</td><td>f64</td><td>f64</td><td>f64</td><td>f64</td><td>f64</td><td>str</td><td>f64</td><td>str</td><td>f64</td><td>i64</td><td>i64</td><td>i64</td><td>str</td><td>str</td><td>str</td><td>str</td><td>str</td><td>str</td><td>i64</td><td>str</td><td>i64</td><td>i64</td><td>str</td><td>f64</td><td>f64</td><td>f64</td><td>f64</td><td>f64</td></tr></thead><tbody><tr><td>&quot;Aruba&quot;</td><td>&quot;ABW&quot;</td><td>null</td><td>null</td><td>&quot;NAT_TOTAL&quot;</td><td>20200101</td><td>0.0</td><td>null</td><td>0.0</td><td>null</td><td>0.0</td><td>null</td><td>0.0</td><td>null</td><td>0.0</td><td>null</td><td>0.0</td><td>null</td><td>0.0</td><td>null</td><td>0.0</td><td>0.0</td><td>null</td><td>0.0</td><td>0.0</td><td>0.0</td><td>0.0</td><td>null</td><td>0.0</td><td>0.0</td><td>0.0</td><td>0.0</td><td>0.0</td><td>null</td><td>0.0</td><td>null</td><td>0.0</td><td>null</td><td>0</td><td>0</td><td>null</td><td>null</td><td>null</td><td>null</td><td>null</td><td>null</td><td>0</td><td>null</td><td>0</td><td>0</td><td>&quot;NV&quot;</td><td>0.0</td><td>0.0</td><td>0.0</td><td>0.0</td><td>0.0</td></tr><tr><td>&quot;Aruba&quot;</td><td>&quot;ABW&quot;</td><td>null</td><td>null</td><td>&quot;NAT_TOTAL&quot;</td><td>20200102</td><td>0.0</td><td>null</td><td>0.0</td><td>null</td><td>0.0</td><td>null</td><td>0.0</td><td>null</td><td>0.0</td><td>null</td><td>0.0</td><td>null</td><td>0.0</td><td>null</td><td>0.0</td><td>0.0</td><td>null</td><td>0.0</td><td>0.0</td><td>0.0</td><td>0.0</td><td>null</td><td>0.0</td><td>0.0</td><td>0.0</td><td>0.0</td><td>0.0</td><td>null</td><td>0.0</td><td>null</td><td>0.0</td><td>null</td><td>0</td><td>0</td><td>null</td><td>null</td><td>null</td><td>null</td><td>null</td><td>null</td><td>0</td><td>null</td><td>0</td><td>0</td><td>&quot;NV&quot;</td><td>0.0</td><td>0.0</td><td>0.0</td><td>0.0</td><td>0.0</td></tr></tbody></table></div>"
      ],
      "text/plain": [
       "shape: (2, 56)\n",
       "┌───────────┬───────────┬───────────┬───────────┬───┬───────────┬───────────┬───────────┬──────────┐\n",
       "│ CountryNa ┆ CountryCo ┆ RegionNam ┆ RegionCod ┆ … ┆ Stringenc ┆ Governmen ┆ Containme ┆ Economic │\n",
       "│ me        ┆ de        ┆ e         ┆ e         ┆   ┆ yIndex_Av ┆ tResponse ┆ ntHealthI ┆ SupportI │\n",
       "│ ---       ┆ ---       ┆ ---       ┆ ---       ┆   ┆ erage     ┆ Index_Ave ┆ ndex_Aver ┆ ndex     │\n",
       "│ str       ┆ str       ┆ str       ┆ str       ┆   ┆ ---       ┆ rag…      ┆ age       ┆ ---      │\n",
       "│           ┆           ┆           ┆           ┆   ┆ f64       ┆ ---       ┆ ---       ┆ f64      │\n",
       "│           ┆           ┆           ┆           ┆   ┆           ┆ f64       ┆ f64       ┆          │\n",
       "╞═══════════╪═══════════╪═══════════╪═══════════╪═══╪═══════════╪═══════════╪═══════════╪══════════╡\n",
       "│ Aruba     ┆ ABW       ┆ null      ┆ null      ┆ … ┆ 0.0       ┆ 0.0       ┆ 0.0       ┆ 0.0      │\n",
       "│ Aruba     ┆ ABW       ┆ null      ┆ null      ┆ … ┆ 0.0       ┆ 0.0       ┆ 0.0       ┆ 0.0      │\n",
       "└───────────┴───────────┴───────────┴───────────┴───┴───────────┴───────────┴───────────┴──────────┘"
      ]
     },
     "execution_count": 18,
     "metadata": {},
     "output_type": "execute_result"
    }
   ],
   "source": [
    "restrictions_tmp = pl.read_csv('raw_data/OxCGRT/OxCGRT_compact_national_v1.csv')\n",
    "sql.register('restrictions_tmp', restrictions_tmp)\n",
    "sql.execute('''select * from restrictions_tmp \n",
    "            -- where `E3_Fiscal measures` is not null and `E3_Fiscal measures` > 0 \n",
    "            limit 2;''').collect()"
   ]
  },
  {
   "cell_type": "code",
   "execution_count": null,
   "metadata": {},
   "outputs": [
    {
     "data": {
      "text/html": [
       "<div><style>\n",
       ".dataframe > thead > tr,\n",
       ".dataframe > tbody > tr {\n",
       "  text-align: right;\n",
       "  white-space: pre-wrap;\n",
       "}\n",
       "</style>\n",
       "<small>shape: (10, 12)</small><table border=\"1\" class=\"dataframe\"><thead><tr><th>country</th><th>t</th><th>C8EV_International_travel_controls</th><th>E1_Income_support</th><th>E2_Debt_contract_relief</th><th>E3_Fiscal_measures</th><th>E4_International_support</th><th>H6M_Facial_Coverings</th><th>StringencyIndex_Average</th><th>GovernmentResponseIndex_Average</th><th>ContainmentHealthIndex_Average</th><th>EconomicSupportIndex</th></tr><tr><td>str</td><td>i16</td><td>f32</td><td>f32</td><td>f32</td><td>f32</td><td>f32</td><td>f32</td><td>f32</td><td>f32</td><td>f32</td><td>f32</td></tr></thead><tbody><tr><td>&quot;SOM&quot;</td><td>2021</td><td>1.328767</td><td>0.0</td><td>0.805479</td><td>0.0</td><td>0.0</td><td>2.838356</td><td>35.55463</td><td>40.044685</td><td>42.891125</td><td>20.136986</td></tr><tr><td>&quot;IRQ&quot;</td><td>2020</td><td>2.407104</td><td>0.625683</td><td>0.625683</td><td>1.374136e6</td><td>0.0</td><td>2.797814</td><td>64.680519</td><td>53.440929</td><td>56.606529</td><td>31.284153</td></tr><tr><td>&quot;AFG&quot;</td><td>2020</td><td>1.461749</td><td>0.0</td><td>0.084699</td><td>0.0</td><td>107650.273438</td><td>1.743169</td><td>41.487267</td><td>33.816692</td><td>38.345192</td><td>2.117486</td></tr><tr><td>&quot;KOR&quot;</td><td>2021</td><td>2.435616</td><td>1.0</td><td>0.0</td><td>5.7709252e7</td><td>0.0</td><td>3.0</td><td>51.278656</td><td>56.760632</td><td>61.298466</td><td>25.0</td></tr><tr><td>&quot;TLS&quot;</td><td>2020</td><td>3.10929</td><td>1.065574</td><td>0.579235</td><td>236625.109375</td><td>0.0</td><td>1.562842</td><td>31.876421</td><td>35.320518</td><td>34.490601</td><td>41.12022</td></tr><tr><td>&quot;BMU&quot;</td><td>2022</td><td>0.868493</td><td>0.805479</td><td>1.610959</td><td>null</td><td>null</td><td>2.243836</td><td>23.291725</td><td>42.869781</td><td>40.366932</td><td>60.410957</td></tr><tr><td>&quot;PSE&quot;</td><td>2020</td><td>3.295082</td><td>0.0</td><td>1.016393</td><td>0.0</td><td>0.0</td><td>0.046448</td><td>66.277298</td><td>47.251995</td><td>50.372894</td><td>25.409836</td></tr><tr><td>&quot;DOM&quot;</td><td>2022</td><td>0.306849</td><td>0.0</td><td>0.0</td><td>null</td><td>null</td><td>0.852055</td><td>11.384027</td><td>23.000219</td><td>26.289343</td><td>0.0</td></tr><tr><td>&quot;KEN&quot;</td><td>2020</td><td>2.322404</td><td>0.540984</td><td>0.644809</td><td>4.66864e6</td><td>0.0</td><td>2.084699</td><td>58.033062</td><td>48.092949</td><td>50.72858</td><td>29.644808</td></tr><tr><td>&quot;MDA&quot;</td><td>2021</td><td>1.879452</td><td>1.0</td><td>1.0</td><td>0.0</td><td>0.0</td><td>2.852055</td><td>53.748219</td><td>54.892796</td><td>57.378521</td><td>37.5</td></tr></tbody></table></div>"
      ],
      "text/plain": [
       "shape: (10, 12)\n",
       "┌─────────┬──────┬────────────┬────────────┬───┬────────────┬────────────┬────────────┬────────────┐\n",
       "│ country ┆ t    ┆ C8EV_Inter ┆ E1_Income_ ┆ … ┆ Stringency ┆ Government ┆ Containmen ┆ EconomicSu │\n",
       "│ ---     ┆ ---  ┆ national_t ┆ support    ┆   ┆ Index_Aver ┆ ResponseIn ┆ tHealthInd ┆ pportIndex │\n",
       "│ str     ┆ i16  ┆ ravel_cont ┆ ---        ┆   ┆ age        ┆ dex_Averag ┆ ex_Average ┆ ---        │\n",
       "│         ┆      ┆ …          ┆ f32        ┆   ┆ ---        ┆ …          ┆ ---        ┆ f32        │\n",
       "│         ┆      ┆ ---        ┆            ┆   ┆ f32        ┆ ---        ┆ f32        ┆            │\n",
       "│         ┆      ┆ f32        ┆            ┆   ┆            ┆ f32        ┆            ┆            │\n",
       "╞═════════╪══════╪════════════╪════════════╪═══╪════════════╪════════════╪════════════╪════════════╡\n",
       "│ SOM     ┆ 2021 ┆ 1.328767   ┆ 0.0        ┆ … ┆ 35.55463   ┆ 40.044685  ┆ 42.891125  ┆ 20.136986  │\n",
       "│ IRQ     ┆ 2020 ┆ 2.407104   ┆ 0.625683   ┆ … ┆ 64.680519  ┆ 53.440929  ┆ 56.606529  ┆ 31.284153  │\n",
       "│ AFG     ┆ 2020 ┆ 1.461749   ┆ 0.0        ┆ … ┆ 41.487267  ┆ 33.816692  ┆ 38.345192  ┆ 2.117486   │\n",
       "│ KOR     ┆ 2021 ┆ 2.435616   ┆ 1.0        ┆ … ┆ 51.278656  ┆ 56.760632  ┆ 61.298466  ┆ 25.0       │\n",
       "│ TLS     ┆ 2020 ┆ 3.10929    ┆ 1.065574   ┆ … ┆ 31.876421  ┆ 35.320518  ┆ 34.490601  ┆ 41.12022   │\n",
       "│ BMU     ┆ 2022 ┆ 0.868493   ┆ 0.805479   ┆ … ┆ 23.291725  ┆ 42.869781  ┆ 40.366932  ┆ 60.410957  │\n",
       "│ PSE     ┆ 2020 ┆ 3.295082   ┆ 0.0        ┆ … ┆ 66.277298  ┆ 47.251995  ┆ 50.372894  ┆ 25.409836  │\n",
       "│ DOM     ┆ 2022 ┆ 0.306849   ┆ 0.0        ┆ … ┆ 11.384027  ┆ 23.000219  ┆ 26.289343  ┆ 0.0        │\n",
       "│ KEN     ┆ 2020 ┆ 2.322404   ┆ 0.540984   ┆ … ┆ 58.033062  ┆ 48.092949  ┆ 50.72858   ┆ 29.644808  │\n",
       "│ MDA     ┆ 2021 ┆ 1.879452   ┆ 1.0        ┆ … ┆ 53.748219  ┆ 54.892796  ┆ 57.378521  ┆ 37.5       │\n",
       "└─────────┴──────┴────────────┴────────────┴───┴────────────┴────────────┴────────────┴────────────┘"
      ]
     },
     "execution_count": 19,
     "metadata": {},
     "output_type": "execute_result"
    }
   ],
   "source": [
    "sql.execute('''create table restrictions as\n",
    "    select \n",
    "        CountryCode as country\n",
    "        , left(Date::varchar, 4)::smallint as t\n",
    "        , avg(`C8EV_International travel controls`)::float4 as C8EV_International_travel_controls\n",
    "        , avg(`E1_Income support`)::float4 as E1_Income_support\n",
    "        , avg(`E2_Debt/contract relief`)::float4 as E2_Debt_contract_relief\n",
    "        , avg(`E3_Fiscal measures`)::float4 as E3_Fiscal_measures\n",
    "        , avg(`E4_International support`)::float4 as E4_International_support\n",
    "        , avg(`H6M_Facial Coverings`)::float4 as H6M_Facial_Coverings\n",
    "        , avg(`StringencyIndex_Average`)::float4 as StringencyIndex_Average\n",
    "        , avg(`GovernmentResponseIndex_Average`)::float4 as GovernmentResponseIndex_Average\n",
    "        , avg(`ContainmentHealthIndex_Average`)::float4 as ContainmentHealthIndex_Average\n",
    "        , avg(`EconomicSupportIndex`)::float4 as EconomicSupportIndex\n",
    "    from restrictions_tmp\n",
    "    group by CountryCode, left(Date::varchar, 4)::smallint           \n",
    ";''')\n",
    "sql.execute('''select * from restrictions limit 10;''').collect()"
   ]
  },
  {
   "cell_type": "markdown",
   "metadata": {},
   "source": [
    "## Агрегирую инструментальные переменные"
   ]
  },
  {
   "cell_type": "code",
   "execution_count": 20,
   "metadata": {},
   "outputs": [
    {
     "data": {
      "text/html": [
       "<div><style>\n",
       ".dataframe > thead > tr,\n",
       ".dataframe > tbody > tr {\n",
       "  text-align: right;\n",
       "  white-space: pre-wrap;\n",
       "}\n",
       "</style>\n",
       "<small>shape: (2, 6)</small><table border=\"1\" class=\"dataframe\"><thead><tr><th>Entity</th><th>Code</th><th>year</th><th>Day</th><th>Average surface temperature</th><th>Average surface temperature_duplicated_0</th></tr><tr><td>str</td><td>str</td><td>i64</td><td>str</td><td>f64</td><td>f64</td></tr></thead><tbody><tr><td>&quot;Afghanistan&quot;</td><td>&quot;AFG&quot;</td><td>1940</td><td>&quot;1940-01-15&quot;</td><td>-2.032494</td><td>11.327695</td></tr><tr><td>&quot;Afghanistan&quot;</td><td>&quot;AFG&quot;</td><td>1940</td><td>&quot;1940-02-15&quot;</td><td>-0.733503</td><td>11.327695</td></tr></tbody></table></div>"
      ],
      "text/plain": [
       "shape: (2, 6)\n",
       "┌─────────────┬──────┬──────┬────────────┬─────────────────┬─────────────────────────────────┐\n",
       "│ Entity      ┆ Code ┆ year ┆ Day        ┆ Average surface ┆ Average surface temperature_du… │\n",
       "│ ---         ┆ ---  ┆ ---  ┆ ---        ┆ temperature     ┆ ---                             │\n",
       "│ str         ┆ str  ┆ i64  ┆ str        ┆ ---             ┆ f64                             │\n",
       "│             ┆      ┆      ┆            ┆ f64             ┆                                 │\n",
       "╞═════════════╪══════╪══════╪════════════╪═════════════════╪═════════════════════════════════╡\n",
       "│ Afghanistan ┆ AFG  ┆ 1940 ┆ 1940-01-15 ┆ -2.032494       ┆ 11.327695                       │\n",
       "│ Afghanistan ┆ AFG  ┆ 1940 ┆ 1940-02-15 ┆ -0.733503       ┆ 11.327695                       │\n",
       "└─────────────┴──────┴──────┴────────────┴─────────────────┴─────────────────────────────────┘"
      ]
     },
     "execution_count": 20,
     "metadata": {},
     "output_type": "execute_result"
    }
   ],
   "source": [
    "temperature_tmp = pl.read_csv('raw_data/Our World In Data/average-monthly-surface-temperature.csv')\n",
    "sql.register('temperature_tmp', temperature_tmp)\n",
    "sql.execute('''select * from temperature_tmp limit 2;''').collect()"
   ]
  },
  {
   "cell_type": "code",
   "execution_count": null,
   "metadata": {},
   "outputs": [
    {
     "data": {
      "text/html": [
       "<div><style>\n",
       ".dataframe > thead > tr,\n",
       ".dataframe > tbody > tr {\n",
       "  text-align: right;\n",
       "  white-space: pre-wrap;\n",
       "}\n",
       "</style>\n",
       "<small>shape: (2, 2)</small><table border=\"1\" class=\"dataframe\"><thead><tr><th>country</th><th>average_surface_temperature</th></tr><tr><td>str</td><td>f64</td></tr></thead><tbody><tr><td>&quot;COK&quot;</td><td>24.407138</td></tr><tr><td>&quot;HMD&quot;</td><td>1.65656</td></tr></tbody></table></div>"
      ],
      "text/plain": [
       "shape: (2, 2)\n",
       "┌─────────┬─────────────────────────────┐\n",
       "│ country ┆ average_surface_temperature │\n",
       "│ ---     ┆ ---                         │\n",
       "│ str     ┆ f64                         │\n",
       "╞═════════╪═════════════════════════════╡\n",
       "│ COK     ┆ 24.407138                   │\n",
       "│ HMD     ┆ 1.65656                     │\n",
       "└─────────┴─────────────────────────────┘"
      ]
     },
     "execution_count": 21,
     "metadata": {},
     "output_type": "execute_result"
    }
   ],
   "source": [
    "sql.execute('''create table temperature as\n",
    "    select \n",
    "        Code as country\n",
    "        , avg(`Average surface temperature`) as average_surface_temperature\n",
    "    from temperature_tmp\n",
    "    where year >= 2000 and year <= 2019\n",
    "    group by Code               \n",
    ";''')\n",
    "sql.execute('''select * from temperature limit 2;''').collect()"
   ]
  },
  {
   "cell_type": "code",
   "execution_count": 22,
   "metadata": {},
   "outputs": [
    {
     "name": "stderr",
     "output_type": "stream",
     "text": [
      "Could not determine dtype for column 5, falling back to string\n",
      "Could not determine dtype for column 6, falling back to string\n"
     ]
    },
    {
     "data": {
      "text/html": [
       "<div><style>\n",
       ".dataframe > thead > tr,\n",
       ".dataframe > tbody > tr {\n",
       "  text-align: right;\n",
       "  white-space: pre-wrap;\n",
       "}\n",
       "</style>\n",
       "<small>shape: (2, 65)</small><table border=\"1\" class=\"dataframe\"><thead><tr><th>Index</th><th>Variant</th><th>Region, subregion, country or area *</th><th>Notes</th><th>Location code</th><th>ISO3 Alpha-code</th><th>ISO2 Alpha-code</th><th>SDMX code**</th><th>Type</th><th>Parent code</th><th>Year</th><th>Total Population, as of 1 January (thousands)</th><th>Total Population, as of 1 July (thousands)</th><th>Male Population, as of 1 July (thousands)</th><th>Female Population, as of 1 July (thousands)</th><th>Population Density, as of 1 July (persons per square km)</th><th>Population Sex Ratio, as of 1 July (males per 100 females)</th><th>Median Age, as of 1 July (years)</th><th>Natural Change, Births minus Deaths (thousands)</th><th>Rate of Natural Change (per 1,000 population)</th><th>Population Change (thousands)</th><th>Population Growth Rate (percentage)</th><th>Population Annual Doubling Time (years)</th><th>Births (thousands)</th><th>Births by women aged 15 to 19 (thousands)</th><th>Crude Birth Rate (births per 1,000 population)</th><th>Total Fertility Rate (live births per woman)</th><th>Net Reproduction Rate (surviving daughters per woman)</th><th>Mean Age Childbearing (years)</th><th>Sex Ratio at Birth (males per 100 female births)</th><th>Total Deaths (thousands)</th><th>Male Deaths (thousands)</th><th>Female Deaths (thousands)</th><th>Crude Death Rate (deaths per 1,000 population)</th><th>Life Expectancy at Birth, both sexes (years)</th><th>Male Life Expectancy at Birth (years)</th><th>Female Life Expectancy at Birth (years)</th><th>Life Expectancy at Age 15, both sexes (years)</th><th>Male Life Expectancy at Age 15 (years)</th><th>Female Life Expectancy at Age 15 (years)</th><th>Life Expectancy at Age 65, both sexes (years)</th><th>Male Life Expectancy at Age 65 (years)</th><th>Female Life Expectancy at Age 65 (years)</th><th>Life Expectancy at Age 80, both sexes (years)</th><th>Male Life Expectancy at Age 80 (years)</th><th>Female Life Expectancy at Age 80 (years)</th><th>Infant Deaths, under age 1 (thousands)</th><th>Infant Mortality Rate (infant deaths per 1,000 live births)</th><th>Live Births Surviving to Age 1 (thousands)</th><th>Under-Five Deaths, under age 5 (thousands)</th><th>Under-Five Mortality (deaths under age 5 per 1,000 live births)</th><th>Mortality before Age 40, both sexes (deaths under age 40 per 1,000 live births)</th><th>Male Mortality before Age 40 (deaths under age 40 per 1,000 male live births)</th><th>Female Mortality before Age 40 (deaths under age 40 per 1,000 female live births)</th><th>Mortality before Age 60, both sexes (deaths under age 60 per 1,000 live births)</th><th>Male Mortality before Age 60 (deaths under age 60 per 1,000 male live births)</th><th>Female Mortality before Age 60 (deaths under age 60 per 1,000 female live births)</th><th>Mortality between Age 15 and 50, both sexes (deaths under age 50 per 1,000 alive at age 15)</th><th>Male Mortality between Age 15 and 50 (deaths under age 50 per 1,000 males alive at age 15)</th><th>Female Mortality between Age 15 and 50 (deaths under age 50 per 1,000 females alive at age 15)</th><th>Mortality between Age 15 and 60, both sexes (deaths under age 60 per 1,000 alive at age 15)</th><th>Male Mortality between Age 15 and 60 (deaths under age 60 per 1,000 males alive at age 15)</th><th>Female Mortality between Age 15 and 60 (deaths under age 60 per 1,000 females alive at age 15)</th><th>Net Number of Migrants (thousands)</th><th>Net Migration Rate (per 1,000 population)</th></tr><tr><td>i64</td><td>str</td><td>str</td><td>str</td><td>i64</td><td>str</td><td>str</td><td>i64</td><td>str</td><td>i64</td><td>i64</td><td>str</td><td>str</td><td>str</td><td>str</td><td>str</td><td>str</td><td>str</td><td>str</td><td>str</td><td>str</td><td>str</td><td>str</td><td>str</td><td>str</td><td>str</td><td>str</td><td>str</td><td>str</td><td>str</td><td>str</td><td>str</td><td>str</td><td>str</td><td>str</td><td>str</td><td>str</td><td>str</td><td>str</td><td>str</td><td>str</td><td>str</td><td>str</td><td>str</td><td>str</td><td>str</td><td>str</td><td>str</td><td>str</td><td>str</td><td>str</td><td>str</td><td>str</td><td>str</td><td>str</td><td>str</td><td>str</td><td>str</td><td>str</td><td>str</td><td>str</td><td>str</td><td>str</td><td>str</td><td>str</td></tr></thead><tbody><tr><td>2595</td><td>&quot;Estimates&quot;</td><td>&quot;Burundi&quot;</td><td>&quot;&quot;</td><td>108</td><td>&quot;BDI&quot;</td><td>&quot;BI&quot;</td><td>108</td><td>&quot;Country/Area&quot;</td><td>910</td><td>1950</td><td>&quot;2229.322&quot;</td><td>&quot;2254.938&quot;</td><td>&quot;1080.184&quot;</td><td>&quot;1174.755&quot;</td><td>&quot;86.895&quot;</td><td>&quot;91.95&quot;</td><td>&quot;18.305&quot;</td><td>&quot;64.551&quot;</td><td>&quot;28.627&quot;</td><td>&quot;51.232&quot;</td><td>&quot;2.272&quot;</td><td>&quot;30.508&quot;</td><td>&quot;117.211&quot;</td><td>&quot;11.582&quot;</td><td>&quot;51.98&quot;</td><td>&quot;6.923&quot;</td><td>&quot;2.072&quot;</td><td>&quot;30.674&quot;</td><td>&quot;102.5&quot;</td><td>&quot;52.66&quot;</td><td>&quot;26.76&quot;</td><td>&quot;25.899&quot;</td><td>&quot;23.353&quot;</td><td>&quot;40.938&quot;</td><td>&quot;39.571&quot;</td><td>&quot;42.245&quot;</td><td>&quot;44.916&quot;</td><td>&quot;43.636&quot;</td><td>&quot;46.095&quot;</td><td>&quot;11.048&quot;</td><td>&quot;10.594&quot;</td><td>&quot;11.423&quot;</td><td>&quot;4.728&quot;</td><td>&quot;4.454&quot;</td><td>&quot;4.937&quot;</td><td>&quot;17.777&quot;</td><td>&quot;162.866&quot;</td><td>&quot;104.421&quot;</td><td>&quot;28.358&quot;</td><td>&quot;276.13&quot;</td><td>&quot;457.62&quot;</td><td>&quot;471.554&quot;</td><td>&quot;444.227&quot;</td><td>&quot;614.352&quot;</td><td>&quot;639.661&quot;</td><td>&quot;590.518&quot;</td><td>&quot;290.807&quot;</td><td>&quot;309.954&quot;</td><td>&quot;273.27&quot;</td><td>&quot;423.97&quot;</td><td>&quot;454.751&quot;</td><td>&quot;395.92&quot;</td><td>&quot;-13.334&quot;</td><td>&quot;-5.913&quot;</td></tr><tr><td>2596</td><td>&quot;Estimates&quot;</td><td>&quot;Burundi&quot;</td><td>&quot;&quot;</td><td>108</td><td>&quot;BDI&quot;</td><td>&quot;BI&quot;</td><td>108</td><td>&quot;Country/Area&quot;</td><td>910</td><td>1951</td><td>&quot;2280.554&quot;</td><td>&quot;2305.746&quot;</td><td>&quot;1105.816&quot;</td><td>&quot;1199.93&quot;</td><td>&quot;88.853&quot;</td><td>&quot;92.157&quot;</td><td>&quot;18.056&quot;</td><td>&quot;63.595&quot;</td><td>&quot;27.581&quot;</td><td>&quot;50.384&quot;</td><td>&quot;2.185&quot;</td><td>&quot;31.723&quot;</td><td>&quot;118.043&quot;</td><td>&quot;11.668&quot;</td><td>&quot;51.195&quot;</td><td>&quot;6.914&quot;</td><td>&quot;2.084&quot;</td><td>&quot;30.674&quot;</td><td>&quot;102.5&quot;</td><td>&quot;54.448&quot;</td><td>&quot;27.79&quot;</td><td>&quot;26.659&quot;</td><td>&quot;23.614&quot;</td><td>&quot;41.229&quot;</td><td>&quot;39.791&quot;</td><td>&quot;42.61&quot;</td><td>&quot;45.059&quot;</td><td>&quot;43.712&quot;</td><td>&quot;46.3&quot;</td><td>&quot;11.101&quot;</td><td>&quot;10.618&quot;</td><td>&quot;11.499&quot;</td><td>&quot;4.758&quot;</td><td>&quot;4.466&quot;</td><td>&quot;4.977&quot;</td><td>&quot;18.99&quot;</td><td>&quot;161.198&quot;</td><td>&quot;105.294&quot;</td><td>&quot;29.948&quot;</td><td>&quot;273.119&quot;</td><td>&quot;453.776&quot;</td><td>&quot;468.57&quot;</td><td>&quot;439.498&quot;</td><td>&quot;610.436&quot;</td><td>&quot;636.943&quot;</td><td>&quot;585.391&quot;</td><td>&quot;288.479&quot;</td><td>&quot;308.601&quot;</td><td>&quot;270.021&quot;</td><td>&quot;421.038&quot;</td><td>&quot;453.082&quot;</td><td>&quot;391.799&quot;</td><td>&quot;-13.202&quot;</td><td>&quot;-5.726&quot;</td></tr></tbody></table></div>"
      ],
      "text/plain": [
       "shape: (2, 65)\n",
       "┌───────┬───────────┬─────────────┬───────┬───┬─────────────┬────────────┬────────────┬────────────┐\n",
       "│ Index ┆ Variant   ┆ Region,     ┆ Notes ┆ … ┆ Male        ┆ Female     ┆ Net Number ┆ Net        │\n",
       "│ ---   ┆ ---       ┆ subregion,  ┆ ---   ┆   ┆ Mortality   ┆ Mortality  ┆ of         ┆ Migration  │\n",
       "│ i64   ┆ str       ┆ country or  ┆ str   ┆   ┆ between Age ┆ between    ┆ Migrants   ┆ Rate (per  │\n",
       "│       ┆           ┆ …           ┆       ┆   ┆ 15 …        ┆ Age 1…     ┆ (thousa…   ┆ 1,000 …    │\n",
       "│       ┆           ┆ ---         ┆       ┆   ┆ ---         ┆ ---        ┆ ---        ┆ ---        │\n",
       "│       ┆           ┆ str         ┆       ┆   ┆ str         ┆ str        ┆ str        ┆ str        │\n",
       "╞═══════╪═══════════╪═════════════╪═══════╪═══╪═════════════╪════════════╪════════════╪════════════╡\n",
       "│ 2595  ┆ Estimates ┆ Burundi     ┆       ┆ … ┆ 454.751     ┆ 395.92     ┆ -13.334    ┆ -5.913     │\n",
       "│ 2596  ┆ Estimates ┆ Burundi     ┆       ┆ … ┆ 453.082     ┆ 391.799    ┆ -13.202    ┆ -5.726     │\n",
       "└───────┴───────────┴─────────────┴───────┴───┴─────────────┴────────────┴────────────┴────────────┘"
      ]
     },
     "execution_count": 22,
     "metadata": {},
     "output_type": "execute_result"
    }
   ],
   "source": [
    "median_age_tmp = pl.read_excel('raw_data/United Nations/WPP2024_GEN_F01_DEMOGRAPHIC_INDICATORS_COMPACT.xlsx')\n",
    "sql.register('median_age_tmp', median_age_tmp)\n",
    "sql.execute('''select * from median_age_tmp where `ISO3 Alpha-code` <> '' limit 2;''').collect()"
   ]
  },
  {
   "cell_type": "code",
   "execution_count": null,
   "metadata": {},
   "outputs": [
    {
     "data": {
      "text/html": [
       "<div><style>\n",
       ".dataframe > thead > tr,\n",
       ".dataframe > tbody > tr {\n",
       "  text-align: right;\n",
       "  white-space: pre-wrap;\n",
       "}\n",
       "</style>\n",
       "<small>shape: (10, 2)</small><table border=\"1\" class=\"dataframe\"><thead><tr><th>country</th><th>median_age</th></tr><tr><td>str</td><td>f32</td></tr></thead><tbody><tr><td>&quot;VAT&quot;</td><td>60.292</td></tr><tr><td>&quot;MCO&quot;</td><td>54.641998</td></tr><tr><td>&quot;SHN&quot;</td><td>48.547001</td></tr><tr><td>&quot;JPN&quot;</td><td>47.262001</td></tr><tr><td>&quot;MTQ&quot;</td><td>47.029999</td></tr><tr><td>&quot;ITA&quot;</td><td>45.998001</td></tr><tr><td>&quot;SMR&quot;</td><td>45.332001</td></tr><tr><td>&quot;DEU&quot;</td><td>44.903999</td></tr><tr><td>&quot;IMN&quot;</td><td>44.831001</td></tr><tr><td>&quot;PRT&quot;</td><td>44.604</td></tr></tbody></table></div>"
      ],
      "text/plain": [
       "shape: (10, 2)\n",
       "┌─────────┬────────────┐\n",
       "│ country ┆ median_age │\n",
       "│ ---     ┆ ---        │\n",
       "│ str     ┆ f32        │\n",
       "╞═════════╪════════════╡\n",
       "│ VAT     ┆ 60.292     │\n",
       "│ MCO     ┆ 54.641998  │\n",
       "│ SHN     ┆ 48.547001  │\n",
       "│ JPN     ┆ 47.262001  │\n",
       "│ MTQ     ┆ 47.029999  │\n",
       "│ ITA     ┆ 45.998001  │\n",
       "│ SMR     ┆ 45.332001  │\n",
       "│ DEU     ┆ 44.903999  │\n",
       "│ IMN     ┆ 44.831001  │\n",
       "│ PRT     ┆ 44.604     │\n",
       "└─────────┴────────────┘"
      ]
     },
     "execution_count": 46,
     "metadata": {},
     "output_type": "execute_result"
    }
   ],
   "source": [
    "sql.execute('''create table median_age_table as\n",
    "    select country, median_age\n",
    "    from (         \n",
    "    select distinct on(country)\n",
    "        `ISO3 Alpha-code` as country\n",
    "        , Year as year\n",
    "        , `Median Age, as of 1 July (years)`::float4 as median_age\n",
    "    from median_age_tmp\n",
    "    where `ISO3 Alpha-code` <> '' \n",
    "            and Year <= 2019       \n",
    "    order by country, year desc \n",
    "            ) sub       \n",
    ";''')\n",
    "sql.execute('''select * from median_age_table order by 2 desc limit 10;''').collect()"
   ]
  },
  {
   "cell_type": "code",
   "execution_count": 62,
   "metadata": {},
   "outputs": [
    {
     "data": {
      "text/html": [
       "<div><style>\n",
       ".dataframe > thead > tr,\n",
       ".dataframe > tbody > tr {\n",
       "  text-align: right;\n",
       "  white-space: pre-wrap;\n",
       "}\n",
       "</style>\n",
       "<small>shape: (2, 2)</small><table border=\"1\" class=\"dataframe\"><thead><tr><th>country</th><th>SARS_total_cases</th></tr><tr><td>str</td><td>i64</td></tr></thead><tbody><tr><td>&quot;AUT&quot;</td><td>6</td></tr><tr><td>&quot;CAN&quot;</td><td>251</td></tr></tbody></table></div>"
      ],
      "text/plain": [
       "shape: (2, 2)\n",
       "┌─────────┬──────────────────┐\n",
       "│ country ┆ SARS_total_cases │\n",
       "│ ---     ┆ ---              │\n",
       "│ str     ┆ i64              │\n",
       "╞═════════╪══════════════════╡\n",
       "│ AUT     ┆ 6                │\n",
       "│ CAN     ┆ 251              │\n",
       "└─────────┴──────────────────┘"
      ]
     },
     "execution_count": 62,
     "metadata": {},
     "output_type": "execute_result"
    }
   ],
   "source": [
    "SARS_table = pl.read_excel('raw_data/WHO/SARS.xlsx')\n",
    "sql.register('SARS_table', sql.execute('''select iso3 as country, Total as SARS_total_cases from SARS_table;''').collect())\n",
    "sql.execute('''select * from SARS_table limit 2;''').collect()"
   ]
  },
  {
   "cell_type": "code",
   "execution_count": 25,
   "metadata": {},
   "outputs": [
    {
     "data": {
      "text/html": [
       "<div><style>\n",
       ".dataframe > thead > tr,\n",
       ".dataframe > tbody > tr {\n",
       "  text-align: right;\n",
       "  white-space: pre-wrap;\n",
       "}\n",
       "</style>\n",
       "<small>shape: (2, 16)</small><table border=\"1\" class=\"dataframe\"><thead><tr><th>Time</th><th>Time Code</th><th>Country Name</th><th>Country Code</th><th>Population density (people per sq. km of land area) [EN.POP.DNST]</th><th>Population, female (% of total population) [SP.POP.TOTL.FE.ZS]</th><th>Maternal mortality ratio (national estimate, per 100,000 live births) [SH.STA.MMRT.NE]</th><th>Mortality from CVD, cancer, diabetes or CRD between exact ages 30 and 70 (%) [SH.DYN.NCOM.ZS]</th><th>Mortality rate attributed to household and ambient air pollution, age-standardized (per 100,000 population) [SH.STA.AIRP.P5]</th><th>Mortality rate attributed to unintentional poisoning (per 100,000 population) [SH.STA.POIS.P5]</th><th>Mortality rate attributed to unsafe water, unsafe sanitation and lack of hygiene (per 100,000 population) [SH.STA.WASH.P5]</th><th>Mortality rate, adult, female (per 1,000 female adults) [SP.DYN.AMRT.FE]</th><th>Mortality rate, adult, male (per 1,000 male adults) [SP.DYN.AMRT.MA]</th><th>Mortality rate, infant (per 1,000 live births) [SP.DYN.IMRT.IN]</th><th>Population in the largest city (% of urban population) [EN.URB.LCTY.UR.ZS]</th><th>Population in urban agglomerations of more than 1 million (% of total population) [EN.URB.MCTY.TL.ZS]</th></tr><tr><td>i64</td><td>str</td><td>str</td><td>str</td><td>f64</td><td>f64</td><td>i64</td><td>str</td><td>str</td><td>str</td><td>str</td><td>f64</td><td>f64</td><td>f64</td><td>f64</td><td>f64</td></tr></thead><tbody><tr><td>1990</td><td>&quot;YR1990&quot;</td><td>&quot;Afghanistan&quot;</td><td>&quot;AFG&quot;</td><td>18.468424</td><td>50.096823</td><td>null</td><td>null</td><td>null</td><td>null</td><td>null</td><td>382.051</td><td>510.052</td><td>122.5</td><td>60.735996</td><td>12.86206</td></tr><tr><td>1990</td><td>&quot;YR1990&quot;</td><td>&quot;Albania&quot;</td><td>&quot;ALB&quot;</td><td>119.946788</td><td>49.765495</td><td>null</td><td>null</td><td>null</td><td>null</td><td>null</td><td>66.103</td><td>127.21</td><td>35.2</td><td>20.653647</td><td>null</td></tr></tbody></table></div>"
      ],
      "text/plain": [
       "shape: (2, 16)\n",
       "┌──────┬───────────┬────────────┬────────────┬───┬────────────┬────────────┬───────────┬───────────┐\n",
       "│ Time ┆ Time Code ┆ Country    ┆ Country    ┆ … ┆ Mortality  ┆ Mortality  ┆ Populatio ┆ Populatio │\n",
       "│ ---  ┆ ---       ┆ Name       ┆ Code       ┆   ┆ rate,      ┆ rate,      ┆ n in the  ┆ n in      │\n",
       "│ i64  ┆ str       ┆ ---        ┆ ---        ┆   ┆ adult,     ┆ infant     ┆ largest   ┆ urban agg │\n",
       "│      ┆           ┆ str        ┆ str        ┆   ┆ male (p…   ┆ (per 1,…   ┆ city…     ┆ lomerat…  │\n",
       "│      ┆           ┆            ┆            ┆   ┆ ---        ┆ ---        ┆ ---       ┆ ---       │\n",
       "│      ┆           ┆            ┆            ┆   ┆ f64        ┆ f64        ┆ f64       ┆ f64       │\n",
       "╞══════╪═══════════╪════════════╪════════════╪═══╪════════════╪════════════╪═══════════╪═══════════╡\n",
       "│ 1990 ┆ YR1990    ┆ Afghanista ┆ AFG        ┆ … ┆ 510.052    ┆ 122.5      ┆ 60.735996 ┆ 12.86206  │\n",
       "│      ┆           ┆ n          ┆            ┆   ┆            ┆            ┆           ┆           │\n",
       "│ 1990 ┆ YR1990    ┆ Albania    ┆ ALB        ┆ … ┆ 127.21     ┆ 35.2       ┆ 20.653647 ┆ null      │\n",
       "└──────┴───────────┴────────────┴────────────┴───┴────────────┴────────────┴───────────┴───────────┘"
      ]
     },
     "execution_count": 25,
     "metadata": {},
     "output_type": "execute_result"
    }
   ],
   "source": [
    "density_and_mortality_tmp = pl.read_csv('raw_data/World Bank/pop_dens_and_mortality.csv')\n",
    "sql.register('density_and_mortality_tmp', density_and_mortality_tmp)\n",
    "sql.execute('''select * from density_and_mortality_tmp limit 2;''').collect()"
   ]
  },
  {
   "cell_type": "code",
   "execution_count": null,
   "metadata": {},
   "outputs": [
    {
     "data": {
      "text/html": [
       "<div><style>\n",
       ".dataframe > thead > tr,\n",
       ".dataframe > tbody > tr {\n",
       "  text-align: right;\n",
       "  white-space: pre-wrap;\n",
       "}\n",
       "</style>\n",
       "<small>shape: (10, 13)</small><table border=\"1\" class=\"dataframe\"><thead><tr><th>country</th><th>population_density</th><th>female_ratio</th><th>maternal_mortality</th><th>cvd_mortality</th><th>pollution_mortality</th><th>poisoning_mortality</th><th>hygiene_mortality</th><th>female_mortality</th><th>male_mortality</th><th>infant_mortality</th><th>largest_city_share</th><th>urbanization</th></tr><tr><td>str</td><td>f64</td><td>f64</td><td>f32</td><td>f32</td><td>f32</td><td>f32</td><td>f32</td><td>f32</td><td>f32</td><td>f32</td><td>f32</td><td>f32</td></tr></thead><tbody><tr><td>&quot;QAT&quot;</td><td>229.648129</td><td>26.710807</td><td>null</td><td>10.7</td><td>90.800003</td><td>0.3</td><td>0.4</td><td>37.437</td><td>46.422001</td><td>5.3</td><td>27.357042</td><td>null</td></tr><tr><td>&quot;ARE&quot;</td><td>133.00176</td><td>35.48185</td><td>null</td><td>18.5</td><td>70.0</td><td>0.4</td><td>0.8</td><td>44.261002</td><td>68.244003</td><td>5.0</td><td>34.558586</td><td>62.610657</td></tr><tr><td>&quot;OMN&quot;</td><td>14.834381</td><td>36.346578</td><td>null</td><td>21.5</td><td>104.0</td><td>0.9</td><td>1.6</td><td>53.222</td><td>76.462997</td><td>9.3</td><td>38.278755</td><td>32.706516</td></tr><tr><td>&quot;BHR&quot;</td><td>1902.251282</td><td>37.517391</td><td>null</td><td>16.1</td><td>68.099998</td><td>0.3</td><td>0.8</td><td>48.797001</td><td>58.199001</td><td>6.0</td><td>45.268242</td><td>null</td></tr><tr><td>&quot;KWT&quot;</td><td>249.288215</td><td>38.318484</td><td>null</td><td>11.9</td><td>45.200001</td><td>0.4</td><td>0.8</td><td>31.812</td><td>59.479</td><td>7.5</td><td>68.713997</td><td>68.713997</td></tr><tr><td>&quot;SAU&quot;</td><td>13.985179</td><td>38.831635</td><td>null</td><td>20.9</td><td>91.099998</td><td>0.8</td><td>1.9</td><td>81.362999</td><td>100.896004</td><td>6.2</td><td>27.977003</td><td>54.159729</td></tr><tr><td>&quot;MDV&quot;</td><td>1625.77</td><td>38.838087</td><td>null</td><td>11.6</td><td>32.0</td><td>0.0</td><td>2.3</td><td>41.924999</td><td>56.172001</td><td>6.0</td><td>null</td><td>null</td></tr><tr><td>&quot;SYC&quot;</td><td>212.228261</td><td>45.395279</td><td>null</td><td>21.1</td><td>43.099998</td><td>0.5</td><td>8.4</td><td>79.568001</td><td>188.007996</td><td>12.8</td><td>null</td><td>null</td></tr><tr><td>&quot;PLW&quot;</td><td>38.691304</td><td>45.982695</td><td>null</td><td>null</td><td>null</td><td>null</td><td>null</td><td>null</td><td>null</td><td>22.9</td><td>null</td><td>null</td></tr><tr><td>&quot;BTN&quot;</td><td>20.053068</td><td>46.280129</td><td>null</td><td>18.5</td><td>94.300003</td><td>0.2</td><td>15.7</td><td>116.444</td><td>158.171997</td><td>22.1</td><td>null</td><td>null</td></tr></tbody></table></div>"
      ],
      "text/plain": [
       "shape: (10, 13)\n",
       "┌─────────┬────────────┬───────────┬───────────┬───┬───────────┬───────────┬───────────┬───────────┐\n",
       "│ country ┆ population ┆ female_ra ┆ maternal_ ┆ … ┆ male_mort ┆ infant_mo ┆ largest_c ┆ urbanizat │\n",
       "│ ---     ┆ _density   ┆ tio       ┆ mortality ┆   ┆ ality     ┆ rtality   ┆ ity_share ┆ ion       │\n",
       "│ str     ┆ ---        ┆ ---       ┆ ---       ┆   ┆ ---       ┆ ---       ┆ ---       ┆ ---       │\n",
       "│         ┆ f64        ┆ f64       ┆ f32       ┆   ┆ f32       ┆ f32       ┆ f32       ┆ f32       │\n",
       "╞═════════╪════════════╪═══════════╪═══════════╪═══╪═══════════╪═══════════╪═══════════╪═══════════╡\n",
       "│ QAT     ┆ 229.648129 ┆ 26.710807 ┆ null      ┆ … ┆ 46.422001 ┆ 5.3       ┆ 27.357042 ┆ null      │\n",
       "│ ARE     ┆ 133.00176  ┆ 35.48185  ┆ null      ┆ … ┆ 68.244003 ┆ 5.0       ┆ 34.558586 ┆ 62.610657 │\n",
       "│ OMN     ┆ 14.834381  ┆ 36.346578 ┆ null      ┆ … ┆ 76.462997 ┆ 9.3       ┆ 38.278755 ┆ 32.706516 │\n",
       "│ BHR     ┆ 1902.25128 ┆ 37.517391 ┆ null      ┆ … ┆ 58.199001 ┆ 6.0       ┆ 45.268242 ┆ null      │\n",
       "│         ┆ 2          ┆           ┆           ┆   ┆           ┆           ┆           ┆           │\n",
       "│ KWT     ┆ 249.288215 ┆ 38.318484 ┆ null      ┆ … ┆ 59.479    ┆ 7.5       ┆ 68.713997 ┆ 68.713997 │\n",
       "│ SAU     ┆ 13.985179  ┆ 38.831635 ┆ null      ┆ … ┆ 100.89600 ┆ 6.2       ┆ 27.977003 ┆ 54.159729 │\n",
       "│         ┆            ┆           ┆           ┆   ┆ 4         ┆           ┆           ┆           │\n",
       "│ MDV     ┆ 1625.77    ┆ 38.838087 ┆ null      ┆ … ┆ 56.172001 ┆ 6.0       ┆ null      ┆ null      │\n",
       "│ SYC     ┆ 212.228261 ┆ 45.395279 ┆ null      ┆ … ┆ 188.00799 ┆ 12.8      ┆ null      ┆ null      │\n",
       "│         ┆            ┆           ┆           ┆   ┆ 6         ┆           ┆           ┆           │\n",
       "│ PLW     ┆ 38.691304  ┆ 45.982695 ┆ null      ┆ … ┆ null      ┆ 22.9      ┆ null      ┆ null      │\n",
       "│ BTN     ┆ 20.053068  ┆ 46.280129 ┆ null      ┆ … ┆ 158.17199 ┆ 22.1      ┆ null      ┆ null      │\n",
       "│         ┆            ┆           ┆           ┆   ┆ 7         ┆           ┆           ┆           │\n",
       "└─────────┴────────────┴───────────┴───────────┴───┴───────────┴───────────┴───────────┴───────────┘"
      ]
     },
     "execution_count": 42,
     "metadata": {},
     "output_type": "execute_result"
    }
   ],
   "source": [
    "sql.execute('''create table density_and_mortality as\n",
    "    select country, population_density, female_ratio, maternal_mortality\n",
    "            , cvd_mortality, pollution_mortality, poisoning_mortality\n",
    "            , hygiene_mortality, female_mortality, male_mortality\n",
    "            , infant_mortality, largest_city_share, urbanization\n",
    "    from (        \n",
    "    select distinct on(country)\n",
    "        `Country Code` as country\n",
    "        , Time as year\n",
    "        , `Population density (people per sq. km of land area) [EN.POP.DNST]` population_density\n",
    "        , `Population, female (% of total population) [SP.POP.TOTL.FE.ZS]` female_ratio\n",
    "        , `Maternal mortality ratio (national estimate, per 100,000 live births) [SH.STA.MMRT.NE]`::float4 maternal_mortality\n",
    "        , `Mortality from CVD, cancer, diabetes or CRD between exact ages 30 and 70 (%) [SH.DYN.NCOM.ZS]`::float4 cvd_mortality\n",
    "        , `Mortality rate attributed to household and ambient air pollution, age-standardized (per 100,000 population) [SH.STA.AIRP.P5]`::float4 pollution_mortality\n",
    "        , `Mortality rate attributed to unintentional poisoning (per 100,000 population) [SH.STA.POIS.P5]`::float4 poisoning_mortality \n",
    "        , `Mortality rate attributed to unsafe water, unsafe sanitation and lack of hygiene (per 100,000 population) [SH.STA.WASH.P5]`::float4 hygiene_mortality\n",
    "        , `Mortality rate, adult, female (per 1,000 female adults) [SP.DYN.AMRT.FE]`::float4 female_mortality\n",
    "        , `Mortality rate, adult, male (per 1,000 male adults) [SP.DYN.AMRT.MA]`::float4 male_mortality\n",
    "        , `Mortality rate, infant (per 1,000 live births) [SP.DYN.IMRT.IN]`::float4 infant_mortality\n",
    "        , `Population in the largest city (% of urban population) [EN.URB.LCTY.UR.ZS]`::float4 largest_city_share\n",
    "        , `Population in urban agglomerations of more than 1 million (% of total population) [EN.URB.MCTY.TL.ZS]`::float4 urbanization \n",
    "    from density_and_mortality_tmp\n",
    "    where Time <= 2019        \n",
    "    order by country, year desc\n",
    "    ) sub        \n",
    ";''')\n",
    "sql.execute('''select * from density_and_mortality order by female_ratio limit 10;''').collect()"
   ]
  },
  {
   "cell_type": "markdown",
   "metadata": {},
   "source": [
    "## Переменные, которые не входят в первый приоритет"
   ]
  },
  {
   "cell_type": "code",
   "execution_count": 27,
   "metadata": {},
   "outputs": [
    {
     "name": "stderr",
     "output_type": "stream",
     "text": [
      "Could not determine dtype for column 9, falling back to string\n",
      "Could not determine dtype for column 10, falling back to string\n"
     ]
    },
    {
     "data": {
      "text/html": [
       "<div><style>\n",
       ".dataframe > thead > tr,\n",
       ".dataframe > tbody > tr {\n",
       "  text-align: right;\n",
       "  white-space: pre-wrap;\n",
       "}\n",
       "</style>\n",
       "<small>shape: (2, 9)</small><table border=\"1\" class=\"dataframe\"><thead><tr><th>Country or area</th><th>ISO Code</th><th>Data source category</th><th>Reference date (dd/mm/yyyy)</th><th>Average household size (number of members)</th><th>1 member</th><th>2-3 members</th><th>4-5 members</th><th>6 or more members</th></tr><tr><td>str</td><td>i64</td><td>str</td><td>str</td><td>f64</td><td>f64</td><td>f64</td><td>f64</td><td>f64</td></tr></thead><tbody><tr><td>&quot;Afghanistan&quot;</td><td>4</td><td>&quot;MICS&quot;</td><td>&quot;2010-01-07 00:00:00&quot;</td><td>7.75</td><td>0.15</td><td>7.41</td><td>18.59</td><td>73.85</td></tr><tr><td>&quot;Afghanistan&quot;</td><td>4</td><td>&quot;DHS&quot;</td><td>&quot;19/10/2015&quot;</td><td>8.04</td><td>0.19</td><td>6.45</td><td>16.84</td><td>76.52</td></tr></tbody></table></div>"
      ],
      "text/plain": [
       "shape: (2, 9)\n",
       "┌────────────┬──────────┬───────────┬───────────┬───┬──────────┬───────────┬───────────┬───────────┐\n",
       "│ Country or ┆ ISO Code ┆ Data      ┆ Reference ┆ … ┆ 1 member ┆ 2-3       ┆ 4-5       ┆ 6 or more │\n",
       "│ area       ┆ ---      ┆ source    ┆ date (dd/ ┆   ┆ ---      ┆ members   ┆ members   ┆ members   │\n",
       "│ ---        ┆ i64      ┆ category  ┆ mm/yyyy)  ┆   ┆ f64      ┆ ---       ┆ ---       ┆ ---       │\n",
       "│ str        ┆          ┆ ---       ┆ ---       ┆   ┆          ┆ f64       ┆ f64       ┆ f64       │\n",
       "│            ┆          ┆ str       ┆ str       ┆   ┆          ┆           ┆           ┆           │\n",
       "╞════════════╪══════════╪═══════════╪═══════════╪═══╪══════════╪═══════════╪═══════════╪═══════════╡\n",
       "│ Afghanista ┆ 4        ┆ MICS      ┆ 2010-01-0 ┆ … ┆ 0.15     ┆ 7.41      ┆ 18.59     ┆ 73.85     │\n",
       "│ n          ┆          ┆           ┆ 7         ┆   ┆          ┆           ┆           ┆           │\n",
       "│            ┆          ┆           ┆ 00:00:00  ┆   ┆          ┆           ┆           ┆           │\n",
       "│ Afghanista ┆ 4        ┆ DHS       ┆ 19/10/201 ┆ … ┆ 0.19     ┆ 6.45      ┆ 16.84     ┆ 76.52     │\n",
       "│ n          ┆          ┆           ┆ 5         ┆   ┆          ┆           ┆           ┆           │\n",
       "└────────────┴──────────┴───────────┴───────────┴───┴──────────┴───────────┴───────────┴───────────┘"
      ]
     },
     "execution_count": 27,
     "metadata": {},
     "output_type": "execute_result"
    }
   ],
   "source": [
    "household_size_tmp = pl.read_excel('raw_data/United Nations/undesa_pd_2022_hh-size-composition.xlsx')\n",
    "sql.register('household_size_tmp', household_size_tmp)\n",
    "sql.execute('''select * from household_size_tmp limit 2;''').collect()"
   ]
  },
  {
   "cell_type": "code",
   "execution_count": 48,
   "metadata": {},
   "outputs": [
    {
     "data": {
      "text/html": [
       "<div><style>\n",
       ".dataframe > thead > tr,\n",
       ".dataframe > tbody > tr {\n",
       "  text-align: right;\n",
       "  white-space: pre-wrap;\n",
       "}\n",
       "</style>\n",
       "<small>shape: (10, 5)</small><table border=\"1\" class=\"dataframe\"><thead><tr><th>country</th><th>avg_hh_size</th><th>share_1_members</th><th>share_2_3_members</th><th>share_4_5_members</th></tr><tr><td>str</td><td>f32</td><td>f32</td><td>f32</td><td>f32</td></tr></thead><tbody><tr><td>&quot;AUS&quot;</td><td>2.55</td><td>null</td><td>null</td><td>null</td></tr><tr><td>&quot;JAM&quot;</td><td>3.06</td><td>null</td><td>null</td><td>null</td></tr><tr><td>&quot;KNA&quot;</td><td>null</td><td>null</td><td>null</td><td>null</td></tr><tr><td>&quot;NZL&quot;</td><td>2.6</td><td>null</td><td>null</td><td>null</td></tr><tr><td>&quot;LVA&quot;</td><td>2.26</td><td>41.080002</td><td>40.799999</td><td>14.41</td></tr><tr><td>&quot;FIN&quot;</td><td>2.07</td><td>41.009998</td><td>44.459999</td><td>12.97</td></tr><tr><td>&quot;BLR&quot;</td><td>2.16</td><td>37.959999</td><td>47.02</td><td>13.54</td></tr><tr><td>&quot;DEU&quot;</td><td>2.14</td><td>37.27</td><td>48.09</td><td>13.21</td></tr><tr><td>&quot;AUT&quot;</td><td>2.27</td><td>36.290001</td><td>44.93</td><td>16.49</td></tr><tr><td>&quot;NLD&quot;</td><td>2.23</td><td>35.110001</td><td>45.529999</td><td>18.01</td></tr></tbody></table></div>"
      ],
      "text/plain": [
       "shape: (10, 5)\n",
       "┌─────────┬─────────────┬─────────────────┬───────────────────┬───────────────────┐\n",
       "│ country ┆ avg_hh_size ┆ share_1_members ┆ share_2_3_members ┆ share_4_5_members │\n",
       "│ ---     ┆ ---         ┆ ---             ┆ ---               ┆ ---               │\n",
       "│ str     ┆ f32         ┆ f32             ┆ f32               ┆ f32               │\n",
       "╞═════════╪═════════════╪═════════════════╪═══════════════════╪═══════════════════╡\n",
       "│ AUS     ┆ 2.55        ┆ null            ┆ null              ┆ null              │\n",
       "│ JAM     ┆ 3.06        ┆ null            ┆ null              ┆ null              │\n",
       "│ KNA     ┆ null        ┆ null            ┆ null              ┆ null              │\n",
       "│ NZL     ┆ 2.6         ┆ null            ┆ null              ┆ null              │\n",
       "│ LVA     ┆ 2.26        ┆ 41.080002       ┆ 40.799999         ┆ 14.41             │\n",
       "│ FIN     ┆ 2.07        ┆ 41.009998       ┆ 44.459999         ┆ 12.97             │\n",
       "│ BLR     ┆ 2.16        ┆ 37.959999       ┆ 47.02             ┆ 13.54             │\n",
       "│ DEU     ┆ 2.14        ┆ 37.27           ┆ 48.09             ┆ 13.21             │\n",
       "│ AUT     ┆ 2.27        ┆ 36.290001       ┆ 44.93             ┆ 16.49             │\n",
       "│ NLD     ┆ 2.23        ┆ 35.110001       ┆ 45.529999         ┆ 18.01             │\n",
       "└─────────┴─────────────┴─────────────────┴───────────────────┴───────────────────┘"
      ]
     },
     "execution_count": 48,
     "metadata": {},
     "output_type": "execute_result"
    }
   ],
   "source": [
    "sql.execute('''create table household_size as\n",
    "            select country, avg_hh_size, share_1_members, share_2_3_members, share_4_5_members\n",
    "            from\n",
    "            (select distinct on(country)\n",
    "                cc.country_iso3 as country\n",
    "                , case when `Reference date (dd/mm/yyyy)` like '__/__/____' then right(`Reference date (dd/mm/yyyy)`, 4)\n",
    "                    else left(`Reference date (dd/mm/yyyy)`, 4) end ::int as year \n",
    "                , `Data source category` as data_source\n",
    "                , `Average household size (number of members)`::float4 avg_hh_size\n",
    "                , `1 member`::float4 as share_1_members\n",
    "                , `2-3 members`::float4 as share_2_3_members\n",
    "                , `4-5 members`::float4 as share_4_5_members\n",
    "            from household_size_tmp hh\n",
    "            inner join country_codes cc\n",
    "                on hh.`ISO Code` = cc.country_code\n",
    "            order by 1, 2 desc\n",
    "            , data_source -- для детерминированности\n",
    "            ) sub\n",
    ";\n",
    "''')\n",
    "sql.execute('''select * from household_size order by 3 desc limit 10;''').collect()"
   ]
  },
  {
   "cell_type": "markdown",
   "metadata": {},
   "source": [
    "## Соединяю информацию о коронавирусе, ограничениях и контрольных переменных в одну таблицу и экспортирую её"
   ]
  },
  {
   "cell_type": "code",
   "execution_count": null,
   "metadata": {},
   "outputs": [
    {
     "data": {
      "text/html": [
       "<div><style>\n",
       ".dataframe > thead > tr,\n",
       ".dataframe > tbody > tr {\n",
       "  text-align: right;\n",
       "  white-space: pre-wrap;\n",
       "}\n",
       "</style>\n",
       "<small>shape: (765, 39)</small><table border=\"1\" class=\"dataframe\"><thead><tr><th>country</th><th>t</th><th>cases</th><th>deaths</th><th>tests</th><th>C8EV_International_travel_controls</th><th>E1_Income_support</th><th>E2_Debt_contract_relief</th><th>E3_Fiscal_measures</th><th>E4_International_support</th><th>H6M_Facial_Coverings</th><th>StringencyIndex_Average</th><th>GovernmentResponseIndex_Average</th><th>ContainmentHealthIndex_Average</th><th>EconomicSupportIndex</th><th>country:t</th><th>average_surface_temperature</th><th>country:median_age_table</th><th>median_age</th><th>country:SARS_table</th><th>SARS_total_cases</th><th>country:density_and_mortality</th><th>population_density</th><th>female_ratio</th><th>maternal_mortality</th><th>cvd_mortality</th><th>pollution_mortality</th><th>poisoning_mortality</th><th>hygiene_mortality</th><th>female_mortality</th><th>male_mortality</th><th>infant_mortality</th><th>largest_city_share</th><th>urbanization</th><th>country:household_size</th><th>avg_hh_size</th><th>share_1_members</th><th>share_2_3_members</th><th>share_4_5_members</th></tr><tr><td>str</td><td>i16</td><td>f64</td><td>f64</td><td>str</td><td>f32</td><td>f32</td><td>f32</td><td>f32</td><td>f32</td><td>f32</td><td>f32</td><td>f32</td><td>f32</td><td>f32</td><td>str</td><td>f64</td><td>str</td><td>f32</td><td>str</td><td>i64</td><td>str</td><td>f64</td><td>f64</td><td>f32</td><td>f32</td><td>f32</td><td>f32</td><td>f32</td><td>f32</td><td>f32</td><td>f32</td><td>f32</td><td>f32</td><td>str</td><td>f32</td><td>f32</td><td>f32</td><td>f32</td></tr></thead><tbody><tr><td>&quot;BMU&quot;</td><td>2021</td><td>232.765781</td><td>4.102904</td><td>null</td><td>1.339726</td><td>1.641096</td><td>0.361644</td><td>700934.5625</td><td>0.0</td><td>2.123288</td><td>49.389946</td><td>56.705837</td><td>59.150932</td><td>39.589043</td><td>null</td><td>null</td><td>&quot;BMU&quot;</td><td>43.743999</td><td>null</td><td>null</td><td>&quot;BMU&quot;</td><td>1187.166667</td><td>50.701171</td><td>null</td><td>null</td><td>null</td><td>null</td><td>null</td><td>42.748001</td><td>98.474998</td><td>null</td><td>null</td><td>null</td><td>&quot;BMU&quot;</td><td>2.26</td><td>34.09</td><td>48.389999</td><td>15.81</td></tr><tr><td>&quot;FLK&quot;</td><td>2020</td><td>22.791077</td><td>0.0</td><td>null</td><td>null</td><td>null</td><td>null</td><td>null</td><td>null</td><td>null</td><td>null</td><td>null</td><td>null</td><td>null</td><td>&quot;FLK&quot;</td><td>6.645397</td><td>&quot;FLK&quot;</td><td>39.458</td><td>null</td><td>null</td><td>null</td><td>null</td><td>null</td><td>null</td><td>null</td><td>null</td><td>null</td><td>null</td><td>null</td><td>null</td><td>null</td><td>null</td><td>null</td><td>null</td><td>null</td><td>null</td><td>null</td><td>null</td></tr><tr><td>&quot;MAR&quot;</td><td>2020</td><td>31.862597</td><td>0.533094</td><td>null</td><td>2.896175</td><td>0.775956</td><td>1.240437</td><td>4.6284076e7</td><td>0.0</td><td>2.713115</td><td>61.154781</td><td>55.317104</td><td>56.017677</td><td>50.409836</td><td>&quot;MAR&quot;</td><td>18.634238</td><td>&quot;MAR&quot;</td><td>27.874001</td><td>null</td><td>null</td><td>&quot;MAR&quot;</td><td>81.135779</td><td>49.505473</td><td>null</td><td>24.1</td><td>66.599998</td><td>0.7</td><td>4.6</td><td>85.392998</td><td>127.667999</td><td>16.700001</td><td>16.291014</td><td>21.930796</td><td>&quot;MAR&quot;</td><td>4.58</td><td>7.2</td><td>26.18</td><td>37.939999</td></tr><tr><td>&quot;CRI&quot;</td><td>2022</td><td>319.252767</td><td>0.928932</td><td>null</td><td>0.238356</td><td>0.0</td><td>0.468493</td><td>null</td><td>null</td><td>1.912329</td><td>19.169371</td><td>30.04896</td><td>32.667973</td><td>11.712329</td><td>&quot;CRI&quot;</td><td>23.097835</td><td>&quot;CRI&quot;</td><td>32.014</td><td>null</td><td>null</td><td>&quot;CRI&quot;</td><td>97.915257</td><td>50.509616</td><td>null</td><td>9.5</td><td>17.799999</td><td>0.1</td><td>2.9</td><td>51.240002</td><td>103.413002</td><td>7.2</td><td>34.434021</td><td>27.573385</td><td>&quot;CRI&quot;</td><td>3.21</td><td>12.07</td><td>48.799999</td><td>31.610001</td></tr><tr><td>&quot;SSD&quot;</td><td>2021</td><td>2.810219</td><td>0.01789</td><td>null</td><td>1.652055</td><td>0.326027</td><td>0.0</td><td>0.0</td><td>0.0</td><td>2.364383</td><td>45.307178</td><td>41.671341</td><td>46.461479</td><td>8.150685</td><td>&quot;SSD&quot;</td><td>27.990809</td><td>&quot;SSD&quot;</td><td>16.594</td><td>null</td><td>null</td><td>&quot;SSD&quot;</td><td>16.494523</td><td>50.809699</td><td>null</td><td>16.799999</td><td>134.5</td><td>2.3</td><td>68.099998</td><td>303.281006</td><td>360.368011</td><td>63.799999</td><td>18.598713</td><td>null</td><td>&quot;SSD&quot;</td><td>5.98</td><td>3.15</td><td>14.56</td><td>29.370001</td></tr><tr><td>&hellip;</td><td>&hellip;</td><td>&hellip;</td><td>&hellip;</td><td>&hellip;</td><td>&hellip;</td><td>&hellip;</td><td>&hellip;</td><td>&hellip;</td><td>&hellip;</td><td>&hellip;</td><td>&hellip;</td><td>&hellip;</td><td>&hellip;</td><td>&hellip;</td><td>&hellip;</td><td>&hellip;</td><td>&hellip;</td><td>&hellip;</td><td>&hellip;</td><td>&hellip;</td><td>&hellip;</td><td>&hellip;</td><td>&hellip;</td><td>&hellip;</td><td>&hellip;</td><td>&hellip;</td><td>&hellip;</td><td>&hellip;</td><td>&hellip;</td><td>&hellip;</td><td>&hellip;</td><td>&hellip;</td><td>&hellip;</td><td>&hellip;</td><td>&hellip;</td><td>&hellip;</td><td>&hellip;</td><td>&hellip;</td></tr><tr><td>&quot;KOR&quot;</td><td>2021</td><td>29.354219</td><td>0.237644</td><td>null</td><td>2.435616</td><td>1.0</td><td>0.0</td><td>5.7709252e7</td><td>0.0</td><td>3.0</td><td>51.278656</td><td>56.760632</td><td>61.298466</td><td>25.0</td><td>&quot;KOR&quot;</td><td>12.504002</td><td>&quot;KOR&quot;</td><td>42.183998</td><td>&quot;KOR&quot;</td><td>3</td><td>&quot;KOR&quot;</td><td>530.377275</td><td>50.002248</td><td>null</td><td>7.3</td><td>18.9</td><td>0.2</td><td>5.2</td><td>22.07</td><td>57.021</td><td>2.7</td><td>23.634396</td><td>50.157372</td><td>&quot;KOR&quot;</td><td>2.34</td><td>31.75</td><td>48.099998</td><td>19.27</td></tr><tr><td>&quot;RKS&quot;</td><td>2020</td><td>null</td><td>null</td><td>null</td><td>1.483607</td><td>0.756831</td><td>1.540984</td><td>4.0164e6</td><td>0.0</td><td>1.967213</td><td>57.463444</td><td>49.54866</td><td>49.772949</td><td>47.984974</td><td>null</td><td>null</td><td>null</td><td>null</td><td>null</td><td>null</td><td>null</td><td>null</td><td>null</td><td>null</td><td>null</td><td>null</td><td>null</td><td>null</td><td>null</td><td>null</td><td>null</td><td>null</td><td>null</td><td>null</td><td>null</td><td>null</td><td>null</td><td>null</td></tr><tr><td>&quot;MAC&quot;</td><td>2020</td><td>null</td><td>null</td><td>null</td><td>2.73224</td><td>0.882514</td><td>1.765027</td><td>1.7112666e7</td><td>0.0</td><td>1.819672</td><td>29.509289</td><td>43.191994</td><td>39.906174</td><td>66.188522</td><td>null</td><td>null</td><td>&quot;MAC&quot;</td><td>36.713001</td><td>&quot;MAC&quot;</td><td>1</td><td>&quot;MAC&quot;</td><td>20425.531915</td><td>53.410564</td><td>null</td><td>null</td><td>null</td><td>null</td><td>null</td><td>25.018999</td><td>49.986</td><td>null</td><td>95.54911</td><td>null</td><td>&quot;MAC&quot;</td><td>3.07</td><td>15.13</td><td>48.16</td><td>31.059999</td></tr><tr><td>&quot;RKS&quot;</td><td>2022</td><td>null</td><td>null</td><td>null</td><td>0.328767</td><td>0.0</td><td>0.0</td><td>null</td><td>null</td><td>1.421918</td><td>35.665096</td><td>33.72707</td><td>38.544765</td><td>0.0</td><td>null</td><td>null</td><td>null</td><td>null</td><td>null</td><td>null</td><td>null</td><td>null</td><td>null</td><td>null</td><td>null</td><td>null</td><td>null</td><td>null</td><td>null</td><td>null</td><td>null</td><td>null</td><td>null</td><td>null</td><td>null</td><td>null</td><td>null</td><td>null</td></tr><tr><td>&quot;RKS&quot;</td><td>2021</td><td>null</td><td>null</td><td>null</td><td>1.786301</td><td>1.0</td><td>0.991781</td><td>2.2e6</td><td>0.0</td><td>3.315068</td><td>52.047234</td><td>54.559837</td><td>57.025726</td><td>37.294521</td><td>null</td><td>null</td><td>null</td><td>null</td><td>null</td><td>null</td><td>null</td><td>null</td><td>null</td><td>null</td><td>null</td><td>null</td><td>null</td><td>null</td><td>null</td><td>null</td><td>null</td><td>null</td><td>null</td><td>null</td><td>null</td><td>null</td><td>null</td><td>null</td></tr></tbody></table></div>"
      ],
      "text/plain": [
       "shape: (765, 39)\n",
       "┌─────────┬──────┬────────────┬──────────┬───┬─────────────┬─────────────┬────────────┬────────────┐\n",
       "│ country ┆ t    ┆ cases      ┆ deaths   ┆ … ┆ avg_hh_size ┆ share_1_mem ┆ share_2_3_ ┆ share_4_5_ │\n",
       "│ ---     ┆ ---  ┆ ---        ┆ ---      ┆   ┆ ---         ┆ bers        ┆ members    ┆ members    │\n",
       "│ str     ┆ i16  ┆ f64        ┆ f64      ┆   ┆ f32         ┆ ---         ┆ ---        ┆ ---        │\n",
       "│         ┆      ┆            ┆          ┆   ┆             ┆ f32         ┆ f32        ┆ f32        │\n",
       "╞═════════╪══════╪════════════╪══════════╪═══╪═════════════╪═════════════╪════════════╪════════════╡\n",
       "│ BMU     ┆ 2021 ┆ 232.765781 ┆ 4.102904 ┆ … ┆ 2.26        ┆ 34.09       ┆ 48.389999  ┆ 15.81      │\n",
       "│ FLK     ┆ 2020 ┆ 22.791077  ┆ 0.0      ┆ … ┆ null        ┆ null        ┆ null       ┆ null       │\n",
       "│ MAR     ┆ 2020 ┆ 31.862597  ┆ 0.533094 ┆ … ┆ 4.58        ┆ 7.2         ┆ 26.18      ┆ 37.939999  │\n",
       "│ CRI     ┆ 2022 ┆ 319.252767 ┆ 0.928932 ┆ … ┆ 3.21        ┆ 12.07       ┆ 48.799999  ┆ 31.610001  │\n",
       "│ SSD     ┆ 2021 ┆ 2.810219   ┆ 0.01789  ┆ … ┆ 5.98        ┆ 3.15        ┆ 14.56      ┆ 29.370001  │\n",
       "│ …       ┆ …    ┆ …          ┆ …        ┆ … ┆ …           ┆ …           ┆ …          ┆ …          │\n",
       "│ KOR     ┆ 2021 ┆ 29.354219  ┆ 0.237644 ┆ … ┆ 2.34        ┆ 31.75       ┆ 48.099998  ┆ 19.27      │\n",
       "│ RKS     ┆ 2020 ┆ null       ┆ null     ┆ … ┆ null        ┆ null        ┆ null       ┆ null       │\n",
       "│ MAC     ┆ 2020 ┆ null       ┆ null     ┆ … ┆ 3.07        ┆ 15.13       ┆ 48.16      ┆ 31.059999  │\n",
       "│ RKS     ┆ 2022 ┆ null       ┆ null     ┆ … ┆ null        ┆ null        ┆ null       ┆ null       │\n",
       "│ RKS     ┆ 2021 ┆ null       ┆ null     ┆ … ┆ null        ┆ null        ┆ null       ┆ null       │\n",
       "└─────────┴──────┴────────────┴──────────┴───┴─────────────┴─────────────┴────────────┴────────────┘"
      ]
     },
     "execution_count": 67,
     "metadata": {},
     "output_type": "execute_result"
    }
   ],
   "source": [
    "sql.register('regressors_tmp',\n",
    "            sql.execute('''\n",
    "    select \n",
    "        *\n",
    "    from covid c\n",
    "    full outer join restrictions r\n",
    "        using(country, t)\n",
    "    ;''').collect().with_columns(pl.coalesce(['country', 'country:r']).alias(\"country\")\n",
    "                                    , pl.coalesce(['t', 't:r']).alias(\"t\")).drop(['country:r', 't:r']))\n",
    "regressors = sql.execute('''\n",
    "    select * \n",
    "    from regressors_tmp r\n",
    "    left join temperature t\n",
    "        using(country)\n",
    "    left join median_age_table\n",
    "        using(country) \n",
    "    left join SARS_table\n",
    "        using(country)\n",
    "    left join density_and_mortality\n",
    "        using(country) \n",
    "    left join household_size\n",
    "        using(country)\n",
    "    ;''').collect()\n",
    "regressors"
   ]
  },
  {
   "cell_type": "code",
   "execution_count": 68,
   "metadata": {},
   "outputs": [],
   "source": [
    "regressors.write_parquet('preprocessed_data/regressors.parquet.gzip')"
   ]
  }
 ],
 "metadata": {
  "kernelspec": {
   "display_name": ".venv",
   "language": "python",
   "name": "python3"
  },
  "language_info": {
   "codemirror_mode": {
    "name": "ipython",
    "version": 3
   },
   "file_extension": ".py",
   "mimetype": "text/x-python",
   "name": "python",
   "nbconvert_exporter": "python",
   "pygments_lexer": "ipython3",
   "version": "3.13.2"
  }
 },
 "nbformat": 4,
 "nbformat_minor": 2
}
