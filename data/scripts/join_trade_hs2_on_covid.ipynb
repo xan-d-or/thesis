{
 "cells": [
  {
   "cell_type": "markdown",
   "metadata": {},
   "source": [
    "# Готовим данные, на которых будут строиться регрессии\n",
    "\n",
    "- Джоиним сырые данные о торговле на регрессоры\n",
    "- Джоиним фиксированные торговые эффекты на регрессоры\n",
    "\n",
    "Рисуем scatterplot, чтобы выбрать правильную спецификацию модели"
   ]
  },
  {
   "cell_type": "code",
   "execution_count": 1,
   "metadata": {},
   "outputs": [],
   "source": [
    "import polars as pl\n",
    "import plotly.express as  px\n"
   ]
  },
  {
   "cell_type": "code",
   "execution_count": 2,
   "metadata": {},
   "outputs": [
    {
     "data": {
      "text/html": [
       "<div><style>\n",
       ".dataframe > thead > tr,\n",
       ".dataframe > tbody > tr {\n",
       "  text-align: right;\n",
       "  white-space: pre-wrap;\n",
       "}\n",
       "</style>\n",
       "<small>shape: (2, 59)</small><table border=\"1\" class=\"dataframe\"><thead><tr><th>country</th><th>t</th><th>cases</th><th>deaths</th><th>tests</th><th>C1M_School_closing</th><th>C2M_Workplace_closing</th><th>C3M_Cancel_public_events</th><th>C4M_Restrictions_on_gatherings</th><th>C5M_Close_public_transport</th><th>C6M_Stay_at_home_requirements</th><th>C7M_Restrictions_on_internal_movement</th><th>C8EV_International_travel_controls</th><th>E1_Income_support</th><th>E2_Debt_contract_relief</th><th>E3_Fiscal_measures</th><th>E4_International_support</th><th>H1_Public_information_campaigns</th><th>H2_Testing_policy</th><th>H3_Contact_tracing</th><th>H4_Emergency_investment_in_healthcare</th><th>H5_Investment_in_vaccines</th><th>H6M_Facial_Coverings</th><th>H7_Vaccination_policy</th><th>H8M_Protection_of_elderly_people</th><th>StringencyIndex_Average</th><th>GovernmentResponseIndex_Average</th><th>ContainmentHealthIndex_Average</th><th>EconomicSupportIndex</th><th>MajorityVaccinated</th><th>PopulationVaccinated</th><th>country:temp</th><th>t:temp</th><th>average_surface_temperature</th><th>country:median_age_table</th><th>t:median_age_table</th><th>median_age</th><th>country:SARS_table</th><th>SARS_total_cases</th><th>country:density_and_mortality</th><th>t:density_and_mortality</th><th>population_density</th><th>female_ratio</th><th>maternal_mortality</th><th>cvd_mortality</th><th>pollution_mortality</th><th>poisoning_mortality</th><th>hygiene_mortality</th><th>female_mortality</th><th>male_mortality</th><th>infant_mortality</th><th>largest_city_share</th><th>urbanization</th><th>country:household_size</th><th>avg_hh_size</th><th>share_1_members</th><th>share_2_3_members</th><th>share_4_5_members</th><th>year</th></tr><tr><td>str</td><td>i16</td><td>f64</td><td>f64</td><td>str</td><td>f32</td><td>f32</td><td>f32</td><td>f32</td><td>f32</td><td>f32</td><td>f32</td><td>f32</td><td>f32</td><td>f32</td><td>f32</td><td>f32</td><td>f32</td><td>f32</td><td>f32</td><td>f32</td><td>f32</td><td>f32</td><td>f32</td><td>f32</td><td>f32</td><td>f32</td><td>f32</td><td>f32</td><td>f32</td><td>f32</td><td>str</td><td>i64</td><td>f64</td><td>str</td><td>i64</td><td>f32</td><td>str</td><td>i64</td><td>str</td><td>i64</td><td>f64</td><td>f64</td><td>f32</td><td>f32</td><td>f32</td><td>f32</td><td>f32</td><td>f32</td><td>f32</td><td>f32</td><td>f32</td><td>f32</td><td>str</td><td>f32</td><td>f32</td><td>f32</td><td>f32</td><td>str</td></tr></thead><tbody><tr><td>&quot;SLV&quot;</td><td>2020</td><td>19.625912</td><td>0.570608</td><td>null</td><td>2.426229</td><td>1.434426</td><td>1.306011</td><td>2.297814</td><td>0.833333</td><td>1.800546</td><td>1.295082</td><td>2.70765</td><td>0.751366</td><td>1.445355</td><td>4.871233e6</td><td>0.0</td><td>1.879781</td><td>0.808743</td><td>0.631148</td><td>489863.0</td><td>0.0</td><td>2.196721</td><td>0.0</td><td>2.046448</td><td>63.594536</td><td>53.958168</td><td>53.822815</td><td>54.918034</td><td>0.0</td><td>0.0</td><td>&quot;SLV&quot;</td><td>2020</td><td>26.48445</td><td>&quot;SLV&quot;</td><td>2020</td><td>25.691</td><td>null</td><td>null</td><td>&quot;SLV&quot;</td><td>2020</td><td>300.901207</td><td>52.477556</td><td>null</td><td>null</td><td>null</td><td>null</td><td>null</td><td>124.344002</td><td>293.265015</td><td>11.0</td><td>24.148672</td><td>17.73575</td><td>&quot;SLV&quot;</td><td>3.92</td><td>8.46</td><td>36.009998</td><td>37.84</td><td>&quot;2020&quot;</td></tr><tr><td>&quot;ASM&quot;</td><td>2022</td><td>467.620027</td><td>1.926</td><td>null</td><td>null</td><td>null</td><td>null</td><td>null</td><td>null</td><td>null</td><td>null</td><td>null</td><td>null</td><td>null</td><td>null</td><td>null</td><td>null</td><td>null</td><td>null</td><td>null</td><td>null</td><td>null</td><td>null</td><td>null</td><td>null</td><td>null</td><td>null</td><td>null</td><td>null</td><td>null</td><td>&quot;ASM&quot;</td><td>2022</td><td>26.570254</td><td>&quot;ASM&quot;</td><td>2022</td><td>27.927</td><td>null</td><td>null</td><td>&quot;ASM&quot;</td><td>2022</td><td>241.71</td><td>49.464234</td><td>null</td><td>null</td><td>null</td><td>null</td><td>null</td><td>null</td><td>null</td><td>null</td><td>null</td><td>null</td><td>null</td><td>null</td><td>null</td><td>null</td><td>null</td><td>&quot;2022&quot;</td></tr></tbody></table></div>"
      ],
      "text/plain": [
       "shape: (2, 59)\n",
       "┌─────────┬──────┬────────────┬──────────┬───┬───────────────┬───────────────┬──────────────┬──────┐\n",
       "│ country ┆ t    ┆ cases      ┆ deaths   ┆ … ┆ share_1_membe ┆ share_2_3_mem ┆ share_4_5_me ┆ year │\n",
       "│ ---     ┆ ---  ┆ ---        ┆ ---      ┆   ┆ rs            ┆ bers          ┆ mbers        ┆ ---  │\n",
       "│ str     ┆ i16  ┆ f64        ┆ f64      ┆   ┆ ---           ┆ ---           ┆ ---          ┆ str  │\n",
       "│         ┆      ┆            ┆          ┆   ┆ f32           ┆ f32           ┆ f32          ┆      │\n",
       "╞═════════╪══════╪════════════╪══════════╪═══╪═══════════════╪═══════════════╪══════════════╪══════╡\n",
       "│ SLV     ┆ 2020 ┆ 19.625912  ┆ 0.570608 ┆ … ┆ 8.46          ┆ 36.009998     ┆ 37.84        ┆ 2020 │\n",
       "│ ASM     ┆ 2022 ┆ 467.620027 ┆ 1.926    ┆ … ┆ null          ┆ null          ┆ null         ┆ 2022 │\n",
       "└─────────┴──────┴────────────┴──────────┴───┴───────────────┴───────────────┴──────────────┴──────┘"
      ]
     },
     "execution_count": 2,
     "metadata": {},
     "output_type": "execute_result"
    }
   ],
   "source": [
    "regressors = pl.read_parquet('../preprocessed_data/regressors.parquet.gzip').with_columns(pl.col(\"t\").cast(pl.Utf8).alias(\"year\"))\n",
    "sql = pl.SQLContext(register_globals=True)\n",
    "sql.execute('''select * from regressors limit 2;''').collect()"
   ]
  },
  {
   "cell_type": "markdown",
   "metadata": {},
   "source": [
    "## Сырые данные о торговле"
   ]
  },
  {
   "cell_type": "code",
   "execution_count": 3,
   "metadata": {},
   "outputs": [
    {
     "data": {
      "text/html": [
       "<div><style>\n",
       ".dataframe > thead > tr,\n",
       ".dataframe > tbody > tr {\n",
       "  text-align: right;\n",
       "  white-space: pre-wrap;\n",
       "}\n",
       "</style>\n",
       "<small>shape: (2, 126)</small><table border=\"1\" class=\"dataframe\"><thead><tr><th>t</th><th>i</th><th>j</th><th>category</th><th>v</th><th>q</th><th>v19</th><th>q19</th><th>country</th><th>t:r_i</th><th>cases</th><th>deaths</th><th>tests</th><th>C1M_School_closing</th><th>C2M_Workplace_closing</th><th>C3M_Cancel_public_events</th><th>C4M_Restrictions_on_gatherings</th><th>C5M_Close_public_transport</th><th>C6M_Stay_at_home_requirements</th><th>C7M_Restrictions_on_internal_movement</th><th>C8EV_International_travel_controls</th><th>E1_Income_support</th><th>E2_Debt_contract_relief</th><th>E3_Fiscal_measures</th><th>E4_International_support</th><th>H1_Public_information_campaigns</th><th>H2_Testing_policy</th><th>H3_Contact_tracing</th><th>H4_Emergency_investment_in_healthcare</th><th>H5_Investment_in_vaccines</th><th>H6M_Facial_Coverings</th><th>H7_Vaccination_policy</th><th>H8M_Protection_of_elderly_people</th><th>StringencyIndex_Average</th><th>GovernmentResponseIndex_Average</th><th>ContainmentHealthIndex_Average</th><th>EconomicSupportIndex</th><th>&hellip;</th><th>H6M_Facial_Coverings:r_j</th><th>H7_Vaccination_policy:r_j</th><th>H8M_Protection_of_elderly_people:r_j</th><th>StringencyIndex_Average:r_j</th><th>GovernmentResponseIndex_Average:r_j</th><th>ContainmentHealthIndex_Average:r_j</th><th>EconomicSupportIndex:r_j</th><th>MajorityVaccinated:r_j</th><th>PopulationVaccinated:r_j</th><th>country:temp:r_j</th><th>t:temp:r_j</th><th>average_surface_temperature:r_j</th><th>country:median_age_table:r_j</th><th>t:median_age_table:r_j</th><th>median_age:r_j</th><th>country:SARS_table:r_j</th><th>SARS_total_cases:r_j</th><th>country:density_and_mortality:r_j</th><th>t:density_and_mortality:r_j</th><th>population_density:r_j</th><th>female_ratio:r_j</th><th>maternal_mortality:r_j</th><th>cvd_mortality:r_j</th><th>pollution_mortality:r_j</th><th>poisoning_mortality:r_j</th><th>hygiene_mortality:r_j</th><th>female_mortality:r_j</th><th>male_mortality:r_j</th><th>infant_mortality:r_j</th><th>largest_city_share:r_j</th><th>urbanization:r_j</th><th>country:household_size:r_j</th><th>avg_hh_size:r_j</th><th>share_1_members:r_j</th><th>share_2_3_members:r_j</th><th>share_4_5_members:r_j</th><th>year:r_j</th></tr><tr><td>i16</td><td>str</td><td>str</td><td>str</td><td>f32</td><td>f32</td><td>f64</td><td>f64</td><td>str</td><td>i16</td><td>f64</td><td>f64</td><td>str</td><td>f32</td><td>f32</td><td>f32</td><td>f32</td><td>f32</td><td>f32</td><td>f32</td><td>f32</td><td>f32</td><td>f32</td><td>f32</td><td>f32</td><td>f32</td><td>f32</td><td>f32</td><td>f32</td><td>f32</td><td>f32</td><td>f32</td><td>f32</td><td>f32</td><td>f32</td><td>f32</td><td>f32</td><td>&hellip;</td><td>f32</td><td>f32</td><td>f32</td><td>f32</td><td>f32</td><td>f32</td><td>f32</td><td>f32</td><td>f32</td><td>str</td><td>i64</td><td>f64</td><td>str</td><td>i64</td><td>f32</td><td>str</td><td>i64</td><td>str</td><td>i64</td><td>f64</td><td>f64</td><td>f32</td><td>f32</td><td>f32</td><td>f32</td><td>f32</td><td>f32</td><td>f32</td><td>f32</td><td>f32</td><td>f32</td><td>str</td><td>f32</td><td>f32</td><td>f32</td><td>f32</td><td>str</td></tr></thead><tbody><tr><td>2021</td><td>&quot;SVK&quot;</td><td>&quot;RUS&quot;</td><td>&quot;12&quot;</td><td>37.881001</td><td>18.0</td><td>310.385</td><td>104.0</td><td>&quot;SVK&quot;</td><td>2021</td><td>329.429178</td><td>7.320849</td><td>null</td><td>1.961644</td><td>2.115068</td><td>2.0</td><td>3.764384</td><td>0.0</td><td>0.936986</td><td>0.684932</td><td>1.545205</td><td>2.0</td><td>2.0</td><td>2.2361996e7</td><td>0.0</td><td>1.912329</td><td>2.953425</td><td>1.350685</td><td>0.0</td><td>0.0</td><td>3.065753</td><td>4.172603</td><td>2.106849</td><td>52.952766</td><td>66.085045</td><td>62.081944</td><td>94.109589</td><td>&hellip;</td><td>2.315068</td><td>4.80274</td><td>1.421918</td><td>46.464878</td><td>54.567123</td><td>55.111725</td><td>50.753426</td><td>0.0</td><td>16.470549</td><td>&quot;RUS&quot;</td><td>2021</td><td>-3.462058</td><td>&quot;RUS&quot;</td><td>2021</td><td>38.855999</td><td>&quot;RUS&quot;</td><td>1</td><td>&quot;RUS&quot;</td><td>2021</td><td>8.838488</td><td>53.545736</td><td>null</td><td>null</td><td>null</td><td>null</td><td>null</td><td>null</td><td>null</td><td>4.1</td><td>11.610478</td><td>23.469076</td><td>&quot;RUS&quot;</td><td>2.58</td><td>25.690001</td><td>51.040001</td><td>19.84</td><td>&quot;2021&quot;</td></tr><tr><td>2021</td><td>&quot;JAM&quot;</td><td>&quot;FRA&quot;</td><td>&quot;04&quot;</td><td>7.27</td><td>4.502</td><td>0.16</td><td>0.022</td><td>&quot;JAM&quot;</td><td>2021</td><td>76.880959</td><td>2.092082</td><td>null</td><td>1.446575</td><td>2.227397</td><td>1.917808</td><td>3.586301</td><td>1.041096</td><td>2.128767</td><td>1.986301</td><td>2.427397</td><td>0.460274</td><td>0.460274</td><td>0.0</td><td>5479.452148</td><td>1.547945</td><td>2.90137</td><td>2.0</td><td>4.7945204e7</td><td>113009.179688</td><td>3.095891</td><td>3.336986</td><td>2.336986</td><td>73.649231</td><td>70.476463</td><td>77.257805</td><td>23.013699</td><td>&hellip;</td><td>3.2</td><td>4.186301</td><td>2.435616</td><td>52.678246</td><td>58.881783</td><td>61.343643</td><td>41.643837</td><td>0.40274</td><td>34.622875</td><td>&quot;FRA&quot;</td><td>2021</td><td>13.359396</td><td>&quot;FRA&quot;</td><td>2021</td><td>41.389999</td><td>&quot;FRA&quot;</td><td>7</td><td>&quot;FRA&quot;</td><td>2021</td><td>123.900911</td><td>51.551507</td><td>null</td><td>null</td><td>null</td><td>null</td><td>null</td><td>46.098</td><td>93.640999</td><td>3.3</td><td>20.100105</td><td>22.838049</td><td>null</td><td>null</td><td>null</td><td>null</td><td>null</td><td>&quot;2021&quot;</td></tr></tbody></table></div>"
      ],
      "text/plain": [
       "shape: (2, 126)\n",
       "┌──────┬─────┬─────┬──────────┬───┬─────────────────┬─────────────────┬─────────────────┬──────────┐\n",
       "│ t    ┆ i   ┆ j   ┆ category ┆ … ┆ share_1_members ┆ share_2_3_membe ┆ share_4_5_membe ┆ year:r_j │\n",
       "│ ---  ┆ --- ┆ --- ┆ ---      ┆   ┆ :r_j            ┆ rs:r_j          ┆ rs:r_j          ┆ ---      │\n",
       "│ i16  ┆ str ┆ str ┆ str      ┆   ┆ ---             ┆ ---             ┆ ---             ┆ str      │\n",
       "│      ┆     ┆     ┆          ┆   ┆ f32             ┆ f32             ┆ f32             ┆          │\n",
       "╞══════╪═════╪═════╪══════════╪═══╪═════════════════╪═════════════════╪═════════════════╪══════════╡\n",
       "│ 2021 ┆ SVK ┆ RUS ┆ 12       ┆ … ┆ 25.690001       ┆ 51.040001       ┆ 19.84           ┆ 2021     │\n",
       "│ 2021 ┆ JAM ┆ FRA ┆ 04       ┆ … ┆ null            ┆ null            ┆ null            ┆ 2021     │\n",
       "└──────┴─────┴─────┴──────────┴───┴─────────────────┴─────────────────┴─────────────────┴──────────┘"
      ]
     },
     "execution_count": 3,
     "metadata": {},
     "output_type": "execute_result"
    }
   ],
   "source": [
    "trade = pl.read_parquet('../preprocessed_data/trade_hs2.parquet.gzip')\n",
    "sql.register('trade', trade)\n",
    "# sql.execute('''select * from trade limit 2;''').collect()\n",
    "sql.execute('''create table trade_x_covid as\n",
    "    select *\n",
    "    from trade tr\n",
    "    inner join regressors r_i \n",
    "        on tr.i = r_i.country\n",
    "        and tr.t = r_i.t        \n",
    "    inner join regressors r_j \n",
    "        on tr.j = r_j.country\n",
    "        and tr.t = r_j.t                               \n",
    ";''')\n",
    "sql.execute('''select * from trade_x_covid limit 2;''').collect()"
   ]
  },
  {
   "cell_type": "code",
   "execution_count": 4,
   "metadata": {},
   "outputs": [],
   "source": [
    "sql.execute('''select * from trade_x_covid;''').collect().write_parquet('../processed_data/trade_hs2_x_covid.parquet.gzip')"
   ]
  },
  {
   "cell_type": "markdown",
   "metadata": {},
   "source": [
    "## Фиксированные эффекты"
   ]
  },
  {
   "cell_type": "markdown",
   "metadata": {},
   "source": [
    "### Экспорт"
   ]
  },
  {
   "cell_type": "code",
   "execution_count": 5,
   "metadata": {},
   "outputs": [
    {
     "data": {
      "text/html": [
       "<div><style>\n",
       ".dataframe > thead > tr,\n",
       ".dataframe > tbody > tr {\n",
       "  text-align: right;\n",
       "  white-space: pre-wrap;\n",
       "}\n",
       "</style>\n",
       "<small>shape: (2, 63)</small><table border=\"1\" class=\"dataframe\"><thead><tr><th>year</th><th>country</th><th>category</th><th>value</th><th>country:r</th><th>t</th><th>cases</th><th>deaths</th><th>tests</th><th>C1M_School_closing</th><th>C2M_Workplace_closing</th><th>C3M_Cancel_public_events</th><th>C4M_Restrictions_on_gatherings</th><th>C5M_Close_public_transport</th><th>C6M_Stay_at_home_requirements</th><th>C7M_Restrictions_on_internal_movement</th><th>C8EV_International_travel_controls</th><th>E1_Income_support</th><th>E2_Debt_contract_relief</th><th>E3_Fiscal_measures</th><th>E4_International_support</th><th>H1_Public_information_campaigns</th><th>H2_Testing_policy</th><th>H3_Contact_tracing</th><th>H4_Emergency_investment_in_healthcare</th><th>H5_Investment_in_vaccines</th><th>H6M_Facial_Coverings</th><th>H7_Vaccination_policy</th><th>H8M_Protection_of_elderly_people</th><th>StringencyIndex_Average</th><th>GovernmentResponseIndex_Average</th><th>ContainmentHealthIndex_Average</th><th>EconomicSupportIndex</th><th>MajorityVaccinated</th><th>PopulationVaccinated</th><th>country:temp</th><th>t:temp</th><th>average_surface_temperature</th><th>country:median_age_table</th><th>t:median_age_table</th><th>median_age</th><th>country:SARS_table</th><th>SARS_total_cases</th><th>country:density_and_mortality</th><th>t:density_and_mortality</th><th>population_density</th><th>female_ratio</th><th>maternal_mortality</th><th>cvd_mortality</th><th>pollution_mortality</th><th>poisoning_mortality</th><th>hygiene_mortality</th><th>female_mortality</th><th>male_mortality</th><th>infant_mortality</th><th>largest_city_share</th><th>urbanization</th><th>country:household_size</th><th>avg_hh_size</th><th>share_1_members</th><th>share_2_3_members</th><th>share_4_5_members</th><th>year:r</th></tr><tr><td>i32</td><td>str</td><td>str</td><td>f64</td><td>str</td><td>i16</td><td>f64</td><td>f64</td><td>str</td><td>f32</td><td>f32</td><td>f32</td><td>f32</td><td>f32</td><td>f32</td><td>f32</td><td>f32</td><td>f32</td><td>f32</td><td>f32</td><td>f32</td><td>f32</td><td>f32</td><td>f32</td><td>f32</td><td>f32</td><td>f32</td><td>f32</td><td>f32</td><td>f32</td><td>f32</td><td>f32</td><td>f32</td><td>f32</td><td>f32</td><td>str</td><td>i64</td><td>f64</td><td>str</td><td>i64</td><td>f32</td><td>str</td><td>i64</td><td>str</td><td>i64</td><td>f64</td><td>f64</td><td>f32</td><td>f32</td><td>f32</td><td>f32</td><td>f32</td><td>f32</td><td>f32</td><td>f32</td><td>f32</td><td>f32</td><td>str</td><td>f32</td><td>f32</td><td>f32</td><td>f32</td><td>str</td></tr></thead><tbody><tr><td>2020</td><td>&quot;ABW&quot;</td><td>&quot;03&quot;</td><td>5.267693</td><td>&quot;ABW&quot;</td><td>2020</td><td>133.980138</td><td>1.204475</td><td>null</td><td>1.385246</td><td>1.191257</td><td>1.4153</td><td>2.081967</td><td>0.0</td><td>1.103825</td><td>0.614754</td><td>2.051913</td><td>1.051913</td><td>1.448087</td><td>0.0</td><td>0.0</td><td>1.579235</td><td>0.811475</td><td>0.786885</td><td>0.0</td><td>0.0</td><td>1.054645</td><td>0.0</td><td>2.150273</td><td>45.165165</td><td>42.321583</td><td>40.779865</td><td>53.107922</td><td>0.0</td><td>0.0</td><td>null</td><td>null</td><td>null</td><td>&quot;ABW&quot;</td><td>2020</td><td>40.398998</td><td>null</td><td>null</td><td>&quot;ABW&quot;</td><td>2020</td><td>603.261111</td><td>52.844507</td><td>null</td><td>null</td><td>null</td><td>null</td><td>null</td><td>59.681999</td><td>124.098999</td><td>null</td><td>null</td><td>null</td><td>&quot;ABW&quot;</td><td>2.89</td><td>21.370001</td><td>46.77</td><td>25.59</td><td>&quot;2020&quot;</td></tr><tr><td>2020</td><td>&quot;ABW&quot;</td><td>&quot;07&quot;</td><td>-1.537117</td><td>&quot;ABW&quot;</td><td>2020</td><td>133.980138</td><td>1.204475</td><td>null</td><td>1.385246</td><td>1.191257</td><td>1.4153</td><td>2.081967</td><td>0.0</td><td>1.103825</td><td>0.614754</td><td>2.051913</td><td>1.051913</td><td>1.448087</td><td>0.0</td><td>0.0</td><td>1.579235</td><td>0.811475</td><td>0.786885</td><td>0.0</td><td>0.0</td><td>1.054645</td><td>0.0</td><td>2.150273</td><td>45.165165</td><td>42.321583</td><td>40.779865</td><td>53.107922</td><td>0.0</td><td>0.0</td><td>null</td><td>null</td><td>null</td><td>&quot;ABW&quot;</td><td>2020</td><td>40.398998</td><td>null</td><td>null</td><td>&quot;ABW&quot;</td><td>2020</td><td>603.261111</td><td>52.844507</td><td>null</td><td>null</td><td>null</td><td>null</td><td>null</td><td>59.681999</td><td>124.098999</td><td>null</td><td>null</td><td>null</td><td>&quot;ABW&quot;</td><td>2.89</td><td>21.370001</td><td>46.77</td><td>25.59</td><td>&quot;2020&quot;</td></tr></tbody></table></div>"
      ],
      "text/plain": [
       "shape: (2, 63)\n",
       "┌──────┬─────────┬──────────┬───────────┬───┬───────────────┬──────────────┬──────────────┬────────┐\n",
       "│ year ┆ country ┆ category ┆ value     ┆ … ┆ share_1_membe ┆ share_2_3_me ┆ share_4_5_me ┆ year:r │\n",
       "│ ---  ┆ ---     ┆ ---      ┆ ---       ┆   ┆ rs            ┆ mbers        ┆ mbers        ┆ ---    │\n",
       "│ i32  ┆ str     ┆ str      ┆ f64       ┆   ┆ ---           ┆ ---          ┆ ---          ┆ str    │\n",
       "│      ┆         ┆          ┆           ┆   ┆ f32           ┆ f32          ┆ f32          ┆        │\n",
       "╞══════╪═════════╪══════════╪═══════════╪═══╪═══════════════╪══════════════╪══════════════╪════════╡\n",
       "│ 2020 ┆ ABW     ┆ 03       ┆ 5.267693  ┆ … ┆ 21.370001     ┆ 46.77        ┆ 25.59        ┆ 2020   │\n",
       "│ 2020 ┆ ABW     ┆ 07       ┆ -1.537117 ┆ … ┆ 21.370001     ┆ 46.77        ┆ 25.59        ┆ 2020   │\n",
       "└──────┴─────────┴──────────┴───────────┴───┴───────────────┴──────────────┴──────────────┴────────┘"
      ]
     },
     "execution_count": 5,
     "metadata": {},
     "output_type": "execute_result"
    }
   ],
   "source": [
    "trade = pl.read_parquet('../preprocessed_data/trade_hs2_cat_interact_value_plain_export_fe.parquet.gzip')\n",
    "sql.register('trade', trade)\n",
    "# sql.execute('''select * from trade limit 2;''').collect()\n",
    "sql.execute('''create table trade_x_covid as\n",
    "    select *\n",
    "    from trade t\n",
    "    inner join regressors r \n",
    "    on t.country = r.country\n",
    "    and t.year = r.t                       \n",
    ";''')\n",
    "sql.execute('''select * from trade_x_covid limit 2;''').collect()"
   ]
  },
  {
   "cell_type": "code",
   "execution_count": 6,
   "metadata": {},
   "outputs": [],
   "source": [
    "sql.execute('''select * from trade_x_covid;''').collect().write_parquet('../processed_data/trade_hs2_export_fe_x_covid.parquet.gzip')"
   ]
  },
  {
   "cell_type": "markdown",
   "metadata": {},
   "source": [
    "### Импорт"
   ]
  },
  {
   "cell_type": "code",
   "execution_count": 7,
   "metadata": {},
   "outputs": [
    {
     "data": {
      "text/html": [
       "<div><style>\n",
       ".dataframe > thead > tr,\n",
       ".dataframe > tbody > tr {\n",
       "  text-align: right;\n",
       "  white-space: pre-wrap;\n",
       "}\n",
       "</style>\n",
       "<small>shape: (2, 63)</small><table border=\"1\" class=\"dataframe\"><thead><tr><th>year</th><th>country</th><th>category</th><th>value</th><th>country:r</th><th>t</th><th>cases</th><th>deaths</th><th>tests</th><th>C1M_School_closing</th><th>C2M_Workplace_closing</th><th>C3M_Cancel_public_events</th><th>C4M_Restrictions_on_gatherings</th><th>C5M_Close_public_transport</th><th>C6M_Stay_at_home_requirements</th><th>C7M_Restrictions_on_internal_movement</th><th>C8EV_International_travel_controls</th><th>E1_Income_support</th><th>E2_Debt_contract_relief</th><th>E3_Fiscal_measures</th><th>E4_International_support</th><th>H1_Public_information_campaigns</th><th>H2_Testing_policy</th><th>H3_Contact_tracing</th><th>H4_Emergency_investment_in_healthcare</th><th>H5_Investment_in_vaccines</th><th>H6M_Facial_Coverings</th><th>H7_Vaccination_policy</th><th>H8M_Protection_of_elderly_people</th><th>StringencyIndex_Average</th><th>GovernmentResponseIndex_Average</th><th>ContainmentHealthIndex_Average</th><th>EconomicSupportIndex</th><th>MajorityVaccinated</th><th>PopulationVaccinated</th><th>country:temp</th><th>t:temp</th><th>average_surface_temperature</th><th>country:median_age_table</th><th>t:median_age_table</th><th>median_age</th><th>country:SARS_table</th><th>SARS_total_cases</th><th>country:density_and_mortality</th><th>t:density_and_mortality</th><th>population_density</th><th>female_ratio</th><th>maternal_mortality</th><th>cvd_mortality</th><th>pollution_mortality</th><th>poisoning_mortality</th><th>hygiene_mortality</th><th>female_mortality</th><th>male_mortality</th><th>infant_mortality</th><th>largest_city_share</th><th>urbanization</th><th>country:household_size</th><th>avg_hh_size</th><th>share_1_members</th><th>share_2_3_members</th><th>share_4_5_members</th><th>year:r</th></tr><tr><td>i32</td><td>str</td><td>str</td><td>f64</td><td>str</td><td>i16</td><td>f64</td><td>f64</td><td>str</td><td>f32</td><td>f32</td><td>f32</td><td>f32</td><td>f32</td><td>f32</td><td>f32</td><td>f32</td><td>f32</td><td>f32</td><td>f32</td><td>f32</td><td>f32</td><td>f32</td><td>f32</td><td>f32</td><td>f32</td><td>f32</td><td>f32</td><td>f32</td><td>f32</td><td>f32</td><td>f32</td><td>f32</td><td>f32</td><td>f32</td><td>str</td><td>i64</td><td>f64</td><td>str</td><td>i64</td><td>f32</td><td>str</td><td>i64</td><td>str</td><td>i64</td><td>f64</td><td>f64</td><td>f32</td><td>f32</td><td>f32</td><td>f32</td><td>f32</td><td>f32</td><td>f32</td><td>f32</td><td>f32</td><td>f32</td><td>str</td><td>f32</td><td>f32</td><td>f32</td><td>f32</td><td>str</td></tr></thead><tbody><tr><td>2020</td><td>&quot;ABW&quot;</td><td>&quot;01&quot;</td><td>-1.876429</td><td>&quot;ABW&quot;</td><td>2020</td><td>133.980138</td><td>1.204475</td><td>null</td><td>1.385246</td><td>1.191257</td><td>1.4153</td><td>2.081967</td><td>0.0</td><td>1.103825</td><td>0.614754</td><td>2.051913</td><td>1.051913</td><td>1.448087</td><td>0.0</td><td>0.0</td><td>1.579235</td><td>0.811475</td><td>0.786885</td><td>0.0</td><td>0.0</td><td>1.054645</td><td>0.0</td><td>2.150273</td><td>45.165165</td><td>42.321583</td><td>40.779865</td><td>53.107922</td><td>0.0</td><td>0.0</td><td>null</td><td>null</td><td>null</td><td>&quot;ABW&quot;</td><td>2020</td><td>40.398998</td><td>null</td><td>null</td><td>&quot;ABW&quot;</td><td>2020</td><td>603.261111</td><td>52.844507</td><td>null</td><td>null</td><td>null</td><td>null</td><td>null</td><td>59.681999</td><td>124.098999</td><td>null</td><td>null</td><td>null</td><td>&quot;ABW&quot;</td><td>2.89</td><td>21.370001</td><td>46.77</td><td>25.59</td><td>&quot;2020&quot;</td></tr><tr><td>2020</td><td>&quot;ABW&quot;</td><td>&quot;02&quot;</td><td>-1.192187</td><td>&quot;ABW&quot;</td><td>2020</td><td>133.980138</td><td>1.204475</td><td>null</td><td>1.385246</td><td>1.191257</td><td>1.4153</td><td>2.081967</td><td>0.0</td><td>1.103825</td><td>0.614754</td><td>2.051913</td><td>1.051913</td><td>1.448087</td><td>0.0</td><td>0.0</td><td>1.579235</td><td>0.811475</td><td>0.786885</td><td>0.0</td><td>0.0</td><td>1.054645</td><td>0.0</td><td>2.150273</td><td>45.165165</td><td>42.321583</td><td>40.779865</td><td>53.107922</td><td>0.0</td><td>0.0</td><td>null</td><td>null</td><td>null</td><td>&quot;ABW&quot;</td><td>2020</td><td>40.398998</td><td>null</td><td>null</td><td>&quot;ABW&quot;</td><td>2020</td><td>603.261111</td><td>52.844507</td><td>null</td><td>null</td><td>null</td><td>null</td><td>null</td><td>59.681999</td><td>124.098999</td><td>null</td><td>null</td><td>null</td><td>&quot;ABW&quot;</td><td>2.89</td><td>21.370001</td><td>46.77</td><td>25.59</td><td>&quot;2020&quot;</td></tr></tbody></table></div>"
      ],
      "text/plain": [
       "shape: (2, 63)\n",
       "┌──────┬─────────┬──────────┬───────────┬───┬───────────────┬──────────────┬──────────────┬────────┐\n",
       "│ year ┆ country ┆ category ┆ value     ┆ … ┆ share_1_membe ┆ share_2_3_me ┆ share_4_5_me ┆ year:r │\n",
       "│ ---  ┆ ---     ┆ ---      ┆ ---       ┆   ┆ rs            ┆ mbers        ┆ mbers        ┆ ---    │\n",
       "│ i32  ┆ str     ┆ str      ┆ f64       ┆   ┆ ---           ┆ ---          ┆ ---          ┆ str    │\n",
       "│      ┆         ┆          ┆           ┆   ┆ f32           ┆ f32          ┆ f32          ┆        │\n",
       "╞══════╪═════════╪══════════╪═══════════╪═══╪═══════════════╪══════════════╪══════════════╪════════╡\n",
       "│ 2020 ┆ ABW     ┆ 01       ┆ -1.876429 ┆ … ┆ 21.370001     ┆ 46.77        ┆ 25.59        ┆ 2020   │\n",
       "│ 2020 ┆ ABW     ┆ 02       ┆ -1.192187 ┆ … ┆ 21.370001     ┆ 46.77        ┆ 25.59        ┆ 2020   │\n",
       "└──────┴─────────┴──────────┴───────────┴───┴───────────────┴──────────────┴──────────────┴────────┘"
      ]
     },
     "execution_count": 7,
     "metadata": {},
     "output_type": "execute_result"
    }
   ],
   "source": [
    "trade = pl.read_parquet('../preprocessed_data/trade_hs2_cat_interact_value_plain_import_fe.parquet.gzip')\n",
    "sql.register('trade', trade)\n",
    "# sql.execute('''select * from trade limit 2;''').collect()\n",
    "sql.execute('''create table trade_x_covid as\n",
    "    select *\n",
    "    from trade t\n",
    "    inner join regressors r \n",
    "    on t.country = r.country\n",
    "    and t.year = r.t                       \n",
    ";''')\n",
    "sql.execute('''select * from trade_x_covid limit 2;''').collect()"
   ]
  },
  {
   "cell_type": "code",
   "execution_count": 8,
   "metadata": {},
   "outputs": [],
   "source": [
    "sql.execute('''select * from trade_x_covid;''').collect().write_parquet('../processed_data/trade_hs2_import_fe_x_covid.parquet.gzip')"
   ]
  }
 ],
 "metadata": {
  "kernelspec": {
   "display_name": ".venv",
   "language": "python",
   "name": "python3"
  },
  "language_info": {
   "codemirror_mode": {
    "name": "ipython",
    "version": 3
   },
   "file_extension": ".py",
   "mimetype": "text/x-python",
   "name": "python",
   "nbconvert_exporter": "python",
   "pygments_lexer": "ipython3",
   "version": "3.13.2"
  }
 },
 "nbformat": 4,
 "nbformat_minor": 2
}
