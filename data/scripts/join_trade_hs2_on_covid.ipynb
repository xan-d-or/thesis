{
 "cells": [
  {
   "cell_type": "markdown",
   "metadata": {},
   "source": [
    "# Готовим данные, на которых будут строиться регрессии\n",
    "\n",
    "- Джоиним сырые данные о торговле на регрессоры\n",
    "- Джоиним фиксированные торговые эффекты на регрессоры\n",
    "\n",
    "Рисуем scatterplot, чтобы выбрать правильную спецификацию модели"
   ]
  },
  {
   "cell_type": "code",
   "execution_count": 1,
   "metadata": {},
   "outputs": [],
   "source": [
    "import polars as pl\n",
    "import plotly.express as  px\n"
   ]
  },
  {
   "cell_type": "code",
   "execution_count": 2,
   "metadata": {},
   "outputs": [
    {
     "data": {
      "text/html": [
       "<div><style>\n",
       ".dataframe > thead > tr,\n",
       ".dataframe > tbody > tr {\n",
       "  text-align: right;\n",
       "  white-space: pre-wrap;\n",
       "}\n",
       "</style>\n",
       "<small>shape: (2, 40)</small><table border=\"1\" class=\"dataframe\"><thead><tr><th>country</th><th>t</th><th>cases</th><th>deaths</th><th>tests</th><th>C8EV_International_travel_controls</th><th>E1_Income_support</th><th>E2_Debt_contract_relief</th><th>E3_Fiscal_measures</th><th>E4_International_support</th><th>H6M_Facial_Coverings</th><th>StringencyIndex_Average</th><th>GovernmentResponseIndex_Average</th><th>ContainmentHealthIndex_Average</th><th>EconomicSupportIndex</th><th>country:t</th><th>average_surface_temperature</th><th>country:median_age_table</th><th>median_age</th><th>country:SARS_table</th><th>SARS_total_cases</th><th>country:density_and_mortality</th><th>population_density</th><th>female_ratio</th><th>maternal_mortality</th><th>cvd_mortality</th><th>pollution_mortality</th><th>poisoning_mortality</th><th>hygiene_mortality</th><th>female_mortality</th><th>male_mortality</th><th>infant_mortality</th><th>largest_city_share</th><th>urbanization</th><th>country:household_size</th><th>avg_hh_size</th><th>share_1_members</th><th>share_2_3_members</th><th>share_4_5_members</th><th>year</th></tr><tr><td>str</td><td>i16</td><td>f64</td><td>f64</td><td>str</td><td>f32</td><td>f32</td><td>f32</td><td>f32</td><td>f32</td><td>f32</td><td>f32</td><td>f32</td><td>f32</td><td>f32</td><td>str</td><td>f64</td><td>str</td><td>f32</td><td>str</td><td>i64</td><td>str</td><td>f64</td><td>f64</td><td>f32</td><td>f32</td><td>f32</td><td>f32</td><td>f32</td><td>f32</td><td>f32</td><td>f32</td><td>f32</td><td>f32</td><td>str</td><td>f32</td><td>f32</td><td>f32</td><td>f32</td><td>str</td></tr></thead><tbody><tr><td>&quot;BMU&quot;</td><td>2021</td><td>232.765781</td><td>4.102904</td><td>null</td><td>1.339726</td><td>1.641096</td><td>0.361644</td><td>700934.5625</td><td>0.0</td><td>2.123288</td><td>49.389946</td><td>56.705837</td><td>59.150932</td><td>39.589043</td><td>null</td><td>null</td><td>&quot;BMU&quot;</td><td>43.743999</td><td>null</td><td>null</td><td>&quot;BMU&quot;</td><td>1187.166667</td><td>50.701171</td><td>null</td><td>null</td><td>null</td><td>null</td><td>null</td><td>42.748001</td><td>98.474998</td><td>null</td><td>null</td><td>null</td><td>&quot;BMU&quot;</td><td>2.26</td><td>34.09</td><td>48.389999</td><td>15.81</td><td>&quot;2021&quot;</td></tr><tr><td>&quot;FLK&quot;</td><td>2020</td><td>22.791077</td><td>0.0</td><td>null</td><td>null</td><td>null</td><td>null</td><td>null</td><td>null</td><td>null</td><td>null</td><td>null</td><td>null</td><td>null</td><td>&quot;FLK&quot;</td><td>6.645397</td><td>&quot;FLK&quot;</td><td>39.458</td><td>null</td><td>null</td><td>null</td><td>null</td><td>null</td><td>null</td><td>null</td><td>null</td><td>null</td><td>null</td><td>null</td><td>null</td><td>null</td><td>null</td><td>null</td><td>null</td><td>null</td><td>null</td><td>null</td><td>null</td><td>&quot;2020&quot;</td></tr></tbody></table></div>"
      ],
      "text/plain": [
       "shape: (2, 40)\n",
       "┌─────────┬──────┬────────────┬──────────┬───┬───────────────┬───────────────┬──────────────┬──────┐\n",
       "│ country ┆ t    ┆ cases      ┆ deaths   ┆ … ┆ share_1_membe ┆ share_2_3_mem ┆ share_4_5_me ┆ year │\n",
       "│ ---     ┆ ---  ┆ ---        ┆ ---      ┆   ┆ rs            ┆ bers          ┆ mbers        ┆ ---  │\n",
       "│ str     ┆ i16  ┆ f64        ┆ f64      ┆   ┆ ---           ┆ ---           ┆ ---          ┆ str  │\n",
       "│         ┆      ┆            ┆          ┆   ┆ f32           ┆ f32           ┆ f32          ┆      │\n",
       "╞═════════╪══════╪════════════╪══════════╪═══╪═══════════════╪═══════════════╪══════════════╪══════╡\n",
       "│ BMU     ┆ 2021 ┆ 232.765781 ┆ 4.102904 ┆ … ┆ 34.09         ┆ 48.389999     ┆ 15.81        ┆ 2021 │\n",
       "│ FLK     ┆ 2020 ┆ 22.791077  ┆ 0.0      ┆ … ┆ null          ┆ null          ┆ null         ┆ 2020 │\n",
       "└─────────┴──────┴────────────┴──────────┴───┴───────────────┴───────────────┴──────────────┴──────┘"
      ]
     },
     "execution_count": 2,
     "metadata": {},
     "output_type": "execute_result"
    }
   ],
   "source": [
    "regressors = pl.read_parquet('../preprocessed_data/regressors.parquet.gzip').with_columns(pl.col(\"t\").cast(pl.Utf8).alias(\"year\"))\n",
    "sql = pl.SQLContext(register_globals=True)\n",
    "sql.execute('''select * from regressors limit 2;''').collect()"
   ]
  },
  {
   "cell_type": "markdown",
   "metadata": {},
   "source": [
    "## Сырые данные о торговле"
   ]
  },
  {
   "cell_type": "code",
   "execution_count": 3,
   "metadata": {},
   "outputs": [
    {
     "data": {
      "text/html": [
       "<div><style>\n",
       ".dataframe > thead > tr,\n",
       ".dataframe > tbody > tr {\n",
       "  text-align: right;\n",
       "  white-space: pre-wrap;\n",
       "}\n",
       "</style>\n",
       "<small>shape: (2, 88)</small><table border=\"1\" class=\"dataframe\"><thead><tr><th>t</th><th>i</th><th>j</th><th>category</th><th>v</th><th>q</th><th>v19</th><th>q19</th><th>country</th><th>t:r_i</th><th>cases</th><th>deaths</th><th>tests</th><th>C8EV_International_travel_controls</th><th>E1_Income_support</th><th>E2_Debt_contract_relief</th><th>E3_Fiscal_measures</th><th>E4_International_support</th><th>H6M_Facial_Coverings</th><th>StringencyIndex_Average</th><th>GovernmentResponseIndex_Average</th><th>ContainmentHealthIndex_Average</th><th>EconomicSupportIndex</th><th>country:t</th><th>average_surface_temperature</th><th>country:median_age_table</th><th>median_age</th><th>country:SARS_table</th><th>SARS_total_cases</th><th>country:density_and_mortality</th><th>population_density</th><th>female_ratio</th><th>maternal_mortality</th><th>cvd_mortality</th><th>pollution_mortality</th><th>poisoning_mortality</th><th>hygiene_mortality</th><th>&hellip;</th><th>deaths:r_j</th><th>tests:r_j</th><th>C8EV_International_travel_controls:r_j</th><th>E1_Income_support:r_j</th><th>E2_Debt_contract_relief:r_j</th><th>E3_Fiscal_measures:r_j</th><th>E4_International_support:r_j</th><th>H6M_Facial_Coverings:r_j</th><th>StringencyIndex_Average:r_j</th><th>GovernmentResponseIndex_Average:r_j</th><th>ContainmentHealthIndex_Average:r_j</th><th>EconomicSupportIndex:r_j</th><th>country:t:r_j</th><th>average_surface_temperature:r_j</th><th>country:median_age_table:r_j</th><th>median_age:r_j</th><th>country:SARS_table:r_j</th><th>SARS_total_cases:r_j</th><th>country:density_and_mortality:r_j</th><th>population_density:r_j</th><th>female_ratio:r_j</th><th>maternal_mortality:r_j</th><th>cvd_mortality:r_j</th><th>pollution_mortality:r_j</th><th>poisoning_mortality:r_j</th><th>hygiene_mortality:r_j</th><th>female_mortality:r_j</th><th>male_mortality:r_j</th><th>infant_mortality:r_j</th><th>largest_city_share:r_j</th><th>urbanization:r_j</th><th>country:household_size:r_j</th><th>avg_hh_size:r_j</th><th>share_1_members:r_j</th><th>share_2_3_members:r_j</th><th>share_4_5_members:r_j</th><th>year:r_j</th></tr><tr><td>i16</td><td>str</td><td>str</td><td>str</td><td>f32</td><td>f32</td><td>f64</td><td>f64</td><td>str</td><td>i16</td><td>f64</td><td>f64</td><td>str</td><td>f32</td><td>f32</td><td>f32</td><td>f32</td><td>f32</td><td>f32</td><td>f32</td><td>f32</td><td>f32</td><td>f32</td><td>str</td><td>f64</td><td>str</td><td>f32</td><td>str</td><td>i64</td><td>str</td><td>f64</td><td>f64</td><td>f32</td><td>f32</td><td>f32</td><td>f32</td><td>f32</td><td>&hellip;</td><td>f64</td><td>str</td><td>f32</td><td>f32</td><td>f32</td><td>f32</td><td>f32</td><td>f32</td><td>f32</td><td>f32</td><td>f32</td><td>f32</td><td>str</td><td>f64</td><td>str</td><td>f32</td><td>str</td><td>i64</td><td>str</td><td>f64</td><td>f64</td><td>f32</td><td>f32</td><td>f32</td><td>f32</td><td>f32</td><td>f32</td><td>f32</td><td>f32</td><td>f32</td><td>f32</td><td>str</td><td>f32</td><td>f32</td><td>f32</td><td>f32</td><td>str</td></tr></thead><tbody><tr><td>2021</td><td>&quot;SVK&quot;</td><td>&quot;RUS&quot;</td><td>&quot;12&quot;</td><td>37.881001</td><td>18.0</td><td>310.385</td><td>104.0</td><td>&quot;SVK&quot;</td><td>2021</td><td>329.429178</td><td>7.320849</td><td>null</td><td>1.545205</td><td>2.0</td><td>2.0</td><td>2.2361996e7</td><td>0.0</td><td>3.065753</td><td>52.952766</td><td>66.085045</td><td>62.081944</td><td>94.109589</td><td>&quot;SVK&quot;</td><td>8.925647</td><td>&quot;SVK&quot;</td><td>39.805</td><td>null</td><td>null</td><td>&quot;SVK&quot;</td><td>113.438998</td><td>51.163077</td><td>null</td><td>15.5</td><td>30.299999</td><td>0.5</td><td>3.6</td><td>&hellip;</td><td>4.694274</td><td>null</td><td>2.610959</td><td>1.364384</td><td>0.890411</td><td>0.0</td><td>0.0</td><td>2.315068</td><td>46.464878</td><td>54.567123</td><td>55.111725</td><td>50.753426</td><td>&quot;RUS&quot;</td><td>-3.355751</td><td>&quot;RUS&quot;</td><td>38.441002</td><td>&quot;RUS&quot;</td><td>1</td><td>&quot;RUS&quot;</td><td>8.881629</td><td>53.56394</td><td>null</td><td>24.200001</td><td>67.099998</td><td>3.8</td><td>3.2</td><td>null</td><td>null</td><td>4.7</td><td>11.499915</td><td>23.151096</td><td>&quot;RUS&quot;</td><td>2.58</td><td>25.690001</td><td>51.040001</td><td>19.84</td><td>&quot;2021&quot;</td></tr><tr><td>2021</td><td>&quot;JAM&quot;</td><td>&quot;FRA&quot;</td><td>&quot;04&quot;</td><td>7.27</td><td>4.502</td><td>0.16</td><td>0.022</td><td>&quot;JAM&quot;</td><td>2021</td><td>76.880959</td><td>2.092082</td><td>null</td><td>2.427397</td><td>0.460274</td><td>0.460274</td><td>0.0</td><td>5479.452148</td><td>3.095891</td><td>73.649231</td><td>70.476463</td><td>77.257805</td><td>23.013699</td><td>&quot;JAM&quot;</td><td>25.767766</td><td>&quot;JAM&quot;</td><td>29.746</td><td>null</td><td>null</td><td>&quot;JAM&quot;</td><td>260.689843</td><td>50.456209</td><td>null</td><td>16.9</td><td>35.900002</td><td>0.1</td><td>2.3</td><td>&hellip;</td><td>2.584219</td><td>null</td><td>2.052055</td><td>1.665753</td><td>0.0</td><td>0.0</td><td>0.0</td><td>3.2</td><td>52.678246</td><td>58.881783</td><td>61.343643</td><td>41.643837</td><td>&quot;FRA&quot;</td><td>13.560508</td><td>&quot;FRA&quot;</td><td>41.080002</td><td>&quot;FRA&quot;</td><td>7</td><td>&quot;FRA&quot;</td><td>123.059446</td><td>51.570609</td><td>null</td><td>10.6</td><td>10.0</td><td>0.3</td><td>3.4</td><td>47.022999</td><td>91.761002</td><td>3.3</td><td>20.149879</td><td>22.74317</td><td>null</td><td>null</td><td>null</td><td>null</td><td>null</td><td>&quot;2021&quot;</td></tr></tbody></table></div>"
      ],
      "text/plain": [
       "shape: (2, 88)\n",
       "┌──────┬─────┬─────┬──────────┬───┬─────────────────┬─────────────────┬─────────────────┬──────────┐\n",
       "│ t    ┆ i   ┆ j   ┆ category ┆ … ┆ share_1_members ┆ share_2_3_membe ┆ share_4_5_membe ┆ year:r_j │\n",
       "│ ---  ┆ --- ┆ --- ┆ ---      ┆   ┆ :r_j            ┆ rs:r_j          ┆ rs:r_j          ┆ ---      │\n",
       "│ i16  ┆ str ┆ str ┆ str      ┆   ┆ ---             ┆ ---             ┆ ---             ┆ str      │\n",
       "│      ┆     ┆     ┆          ┆   ┆ f32             ┆ f32             ┆ f32             ┆          │\n",
       "╞══════╪═════╪═════╪══════════╪═══╪═════════════════╪═════════════════╪═════════════════╪══════════╡\n",
       "│ 2021 ┆ SVK ┆ RUS ┆ 12       ┆ … ┆ 25.690001       ┆ 51.040001       ┆ 19.84           ┆ 2021     │\n",
       "│ 2021 ┆ JAM ┆ FRA ┆ 04       ┆ … ┆ null            ┆ null            ┆ null            ┆ 2021     │\n",
       "└──────┴─────┴─────┴──────────┴───┴─────────────────┴─────────────────┴─────────────────┴──────────┘"
      ]
     },
     "execution_count": 3,
     "metadata": {},
     "output_type": "execute_result"
    }
   ],
   "source": [
    "trade = pl.read_parquet('../preprocessed_data/trade_hs2.parquet.gzip')\n",
    "sql.register('trade', trade)\n",
    "# sql.execute('''select * from trade limit 2;''').collect()\n",
    "sql.execute('''create table trade_x_covid as\n",
    "    select *\n",
    "    from trade tr\n",
    "    inner join regressors r_i \n",
    "        on tr.i = r_i.country\n",
    "        and tr.t = r_i.t        \n",
    "    inner join regressors r_j \n",
    "        on tr.j = r_j.country\n",
    "        and tr.t = r_j.t                               \n",
    ";''')\n",
    "sql.execute('''select * from trade_x_covid limit 2;''').collect()"
   ]
  },
  {
   "cell_type": "code",
   "execution_count": 5,
   "metadata": {},
   "outputs": [],
   "source": [
    "sql.execute('''select * from trade_x_covid;''').collect().write_parquet('../processed_data/trade_hs2_x_covid.parquet.gzip')"
   ]
  },
  {
   "cell_type": "markdown",
   "metadata": {},
   "source": [
    "## Фиксированные эффекты"
   ]
  },
  {
   "cell_type": "markdown",
   "metadata": {},
   "source": [
    "### Экспорт"
   ]
  },
  {
   "cell_type": "code",
   "execution_count": 7,
   "metadata": {},
   "outputs": [
    {
     "data": {
      "text/html": [
       "<div><style>\n",
       ".dataframe > thead > tr,\n",
       ".dataframe > tbody > tr {\n",
       "  text-align: right;\n",
       "  white-space: pre-wrap;\n",
       "}\n",
       "</style>\n",
       "<small>shape: (2, 44)</small><table border=\"1\" class=\"dataframe\"><thead><tr><th>year</th><th>country</th><th>category</th><th>value</th><th>country:r</th><th>t</th><th>cases</th><th>deaths</th><th>tests</th><th>C8EV_International_travel_controls</th><th>E1_Income_support</th><th>E2_Debt_contract_relief</th><th>E3_Fiscal_measures</th><th>E4_International_support</th><th>H6M_Facial_Coverings</th><th>StringencyIndex_Average</th><th>GovernmentResponseIndex_Average</th><th>ContainmentHealthIndex_Average</th><th>EconomicSupportIndex</th><th>country:t</th><th>average_surface_temperature</th><th>country:median_age_table</th><th>median_age</th><th>country:SARS_table</th><th>SARS_total_cases</th><th>country:density_and_mortality</th><th>population_density</th><th>female_ratio</th><th>maternal_mortality</th><th>cvd_mortality</th><th>pollution_mortality</th><th>poisoning_mortality</th><th>hygiene_mortality</th><th>female_mortality</th><th>male_mortality</th><th>infant_mortality</th><th>largest_city_share</th><th>urbanization</th><th>country:household_size</th><th>avg_hh_size</th><th>share_1_members</th><th>share_2_3_members</th><th>share_4_5_members</th><th>year:r</th></tr><tr><td>i32</td><td>str</td><td>str</td><td>f64</td><td>str</td><td>i16</td><td>f64</td><td>f64</td><td>str</td><td>f32</td><td>f32</td><td>f32</td><td>f32</td><td>f32</td><td>f32</td><td>f32</td><td>f32</td><td>f32</td><td>f32</td><td>str</td><td>f64</td><td>str</td><td>f32</td><td>str</td><td>i64</td><td>str</td><td>f64</td><td>f64</td><td>f32</td><td>f32</td><td>f32</td><td>f32</td><td>f32</td><td>f32</td><td>f32</td><td>f32</td><td>f32</td><td>f32</td><td>str</td><td>f32</td><td>f32</td><td>f32</td><td>f32</td><td>str</td></tr></thead><tbody><tr><td>2020</td><td>&quot;ABW&quot;</td><td>&quot;03&quot;</td><td>5.267693</td><td>&quot;ABW&quot;</td><td>2020</td><td>133.980138</td><td>1.204475</td><td>null</td><td>2.051913</td><td>1.051913</td><td>1.448087</td><td>0.0</td><td>0.0</td><td>1.054645</td><td>45.165165</td><td>42.321583</td><td>40.779865</td><td>53.107922</td><td>null</td><td>null</td><td>&quot;ABW&quot;</td><td>40.088001</td><td>null</td><td>null</td><td>&quot;ABW&quot;</td><td>606.683333</td><td>52.796145</td><td>null</td><td>null</td><td>null</td><td>null</td><td>null</td><td>58.035999</td><td>124.311996</td><td>null</td><td>null</td><td>null</td><td>&quot;ABW&quot;</td><td>2.89</td><td>21.370001</td><td>46.77</td><td>25.59</td><td>&quot;2020&quot;</td></tr><tr><td>2020</td><td>&quot;ABW&quot;</td><td>&quot;07&quot;</td><td>-1.537117</td><td>&quot;ABW&quot;</td><td>2020</td><td>133.980138</td><td>1.204475</td><td>null</td><td>2.051913</td><td>1.051913</td><td>1.448087</td><td>0.0</td><td>0.0</td><td>1.054645</td><td>45.165165</td><td>42.321583</td><td>40.779865</td><td>53.107922</td><td>null</td><td>null</td><td>&quot;ABW&quot;</td><td>40.088001</td><td>null</td><td>null</td><td>&quot;ABW&quot;</td><td>606.683333</td><td>52.796145</td><td>null</td><td>null</td><td>null</td><td>null</td><td>null</td><td>58.035999</td><td>124.311996</td><td>null</td><td>null</td><td>null</td><td>&quot;ABW&quot;</td><td>2.89</td><td>21.370001</td><td>46.77</td><td>25.59</td><td>&quot;2020&quot;</td></tr></tbody></table></div>"
      ],
      "text/plain": [
       "shape: (2, 44)\n",
       "┌──────┬─────────┬──────────┬───────────┬───┬───────────────┬──────────────┬──────────────┬────────┐\n",
       "│ year ┆ country ┆ category ┆ value     ┆ … ┆ share_1_membe ┆ share_2_3_me ┆ share_4_5_me ┆ year:r │\n",
       "│ ---  ┆ ---     ┆ ---      ┆ ---       ┆   ┆ rs            ┆ mbers        ┆ mbers        ┆ ---    │\n",
       "│ i32  ┆ str     ┆ str      ┆ f64       ┆   ┆ ---           ┆ ---          ┆ ---          ┆ str    │\n",
       "│      ┆         ┆          ┆           ┆   ┆ f32           ┆ f32          ┆ f32          ┆        │\n",
       "╞══════╪═════════╪══════════╪═══════════╪═══╪═══════════════╪══════════════╪══════════════╪════════╡\n",
       "│ 2020 ┆ ABW     ┆ 03       ┆ 5.267693  ┆ … ┆ 21.370001     ┆ 46.77        ┆ 25.59        ┆ 2020   │\n",
       "│ 2020 ┆ ABW     ┆ 07       ┆ -1.537117 ┆ … ┆ 21.370001     ┆ 46.77        ┆ 25.59        ┆ 2020   │\n",
       "└──────┴─────────┴──────────┴───────────┴───┴───────────────┴──────────────┴──────────────┴────────┘"
      ]
     },
     "execution_count": 7,
     "metadata": {},
     "output_type": "execute_result"
    }
   ],
   "source": [
    "trade = pl.read_parquet('../preprocessed_data/trade_hs2_cat_interact_value_plain_export_fe.parquet.gzip')\n",
    "sql.register('trade', trade)\n",
    "# sql.execute('''select * from trade limit 2;''').collect()\n",
    "sql.execute('''create table trade_x_covid as\n",
    "    select *\n",
    "    from trade t\n",
    "    inner join regressors r \n",
    "    on t.country = r.country\n",
    "    and t.year = r.t                       \n",
    ";''')\n",
    "sql.execute('''select * from trade_x_covid limit 2;''').collect()"
   ]
  },
  {
   "cell_type": "code",
   "execution_count": 8,
   "metadata": {},
   "outputs": [],
   "source": [
    "sql.execute('''select * from trade_x_covid;''').collect().write_parquet('../processed_data/trade_hs2_export_fe_x_covid.parquet.gzip')"
   ]
  },
  {
   "cell_type": "markdown",
   "metadata": {},
   "source": [
    "### Импорт"
   ]
  },
  {
   "cell_type": "code",
   "execution_count": 10,
   "metadata": {},
   "outputs": [
    {
     "data": {
      "text/html": [
       "<div><style>\n",
       ".dataframe > thead > tr,\n",
       ".dataframe > tbody > tr {\n",
       "  text-align: right;\n",
       "  white-space: pre-wrap;\n",
       "}\n",
       "</style>\n",
       "<small>shape: (2, 44)</small><table border=\"1\" class=\"dataframe\"><thead><tr><th>year</th><th>country</th><th>category</th><th>value</th><th>country:r</th><th>t</th><th>cases</th><th>deaths</th><th>tests</th><th>C8EV_International_travel_controls</th><th>E1_Income_support</th><th>E2_Debt_contract_relief</th><th>E3_Fiscal_measures</th><th>E4_International_support</th><th>H6M_Facial_Coverings</th><th>StringencyIndex_Average</th><th>GovernmentResponseIndex_Average</th><th>ContainmentHealthIndex_Average</th><th>EconomicSupportIndex</th><th>country:t</th><th>average_surface_temperature</th><th>country:median_age_table</th><th>median_age</th><th>country:SARS_table</th><th>SARS_total_cases</th><th>country:density_and_mortality</th><th>population_density</th><th>female_ratio</th><th>maternal_mortality</th><th>cvd_mortality</th><th>pollution_mortality</th><th>poisoning_mortality</th><th>hygiene_mortality</th><th>female_mortality</th><th>male_mortality</th><th>infant_mortality</th><th>largest_city_share</th><th>urbanization</th><th>country:household_size</th><th>avg_hh_size</th><th>share_1_members</th><th>share_2_3_members</th><th>share_4_5_members</th><th>year:r</th></tr><tr><td>i32</td><td>str</td><td>str</td><td>f64</td><td>str</td><td>i16</td><td>f64</td><td>f64</td><td>str</td><td>f32</td><td>f32</td><td>f32</td><td>f32</td><td>f32</td><td>f32</td><td>f32</td><td>f32</td><td>f32</td><td>f32</td><td>str</td><td>f64</td><td>str</td><td>f32</td><td>str</td><td>i64</td><td>str</td><td>f64</td><td>f64</td><td>f32</td><td>f32</td><td>f32</td><td>f32</td><td>f32</td><td>f32</td><td>f32</td><td>f32</td><td>f32</td><td>f32</td><td>str</td><td>f32</td><td>f32</td><td>f32</td><td>f32</td><td>str</td></tr></thead><tbody><tr><td>2020</td><td>&quot;ABW&quot;</td><td>&quot;01&quot;</td><td>-1.876429</td><td>&quot;ABW&quot;</td><td>2020</td><td>133.980138</td><td>1.204475</td><td>null</td><td>2.051913</td><td>1.051913</td><td>1.448087</td><td>0.0</td><td>0.0</td><td>1.054645</td><td>45.165165</td><td>42.321583</td><td>40.779865</td><td>53.107922</td><td>null</td><td>null</td><td>&quot;ABW&quot;</td><td>40.088001</td><td>null</td><td>null</td><td>&quot;ABW&quot;</td><td>606.683333</td><td>52.796145</td><td>null</td><td>null</td><td>null</td><td>null</td><td>null</td><td>58.035999</td><td>124.311996</td><td>null</td><td>null</td><td>null</td><td>&quot;ABW&quot;</td><td>2.89</td><td>21.370001</td><td>46.77</td><td>25.59</td><td>&quot;2020&quot;</td></tr><tr><td>2020</td><td>&quot;ABW&quot;</td><td>&quot;02&quot;</td><td>-1.192187</td><td>&quot;ABW&quot;</td><td>2020</td><td>133.980138</td><td>1.204475</td><td>null</td><td>2.051913</td><td>1.051913</td><td>1.448087</td><td>0.0</td><td>0.0</td><td>1.054645</td><td>45.165165</td><td>42.321583</td><td>40.779865</td><td>53.107922</td><td>null</td><td>null</td><td>&quot;ABW&quot;</td><td>40.088001</td><td>null</td><td>null</td><td>&quot;ABW&quot;</td><td>606.683333</td><td>52.796145</td><td>null</td><td>null</td><td>null</td><td>null</td><td>null</td><td>58.035999</td><td>124.311996</td><td>null</td><td>null</td><td>null</td><td>&quot;ABW&quot;</td><td>2.89</td><td>21.370001</td><td>46.77</td><td>25.59</td><td>&quot;2020&quot;</td></tr></tbody></table></div>"
      ],
      "text/plain": [
       "shape: (2, 44)\n",
       "┌──────┬─────────┬──────────┬───────────┬───┬───────────────┬──────────────┬──────────────┬────────┐\n",
       "│ year ┆ country ┆ category ┆ value     ┆ … ┆ share_1_membe ┆ share_2_3_me ┆ share_4_5_me ┆ year:r │\n",
       "│ ---  ┆ ---     ┆ ---      ┆ ---       ┆   ┆ rs            ┆ mbers        ┆ mbers        ┆ ---    │\n",
       "│ i32  ┆ str     ┆ str      ┆ f64       ┆   ┆ ---           ┆ ---          ┆ ---          ┆ str    │\n",
       "│      ┆         ┆          ┆           ┆   ┆ f32           ┆ f32          ┆ f32          ┆        │\n",
       "╞══════╪═════════╪══════════╪═══════════╪═══╪═══════════════╪══════════════╪══════════════╪════════╡\n",
       "│ 2020 ┆ ABW     ┆ 01       ┆ -1.876429 ┆ … ┆ 21.370001     ┆ 46.77        ┆ 25.59        ┆ 2020   │\n",
       "│ 2020 ┆ ABW     ┆ 02       ┆ -1.192187 ┆ … ┆ 21.370001     ┆ 46.77        ┆ 25.59        ┆ 2020   │\n",
       "└──────┴─────────┴──────────┴───────────┴───┴───────────────┴──────────────┴──────────────┴────────┘"
      ]
     },
     "execution_count": 10,
     "metadata": {},
     "output_type": "execute_result"
    }
   ],
   "source": [
    "trade = pl.read_parquet('../preprocessed_data/trade_hs2_cat_interact_value_plain_import_fe.parquet.gzip')\n",
    "sql.register('trade', trade)\n",
    "# sql.execute('''select * from trade limit 2;''').collect()\n",
    "sql.execute('''create table trade_x_covid as\n",
    "    select *\n",
    "    from trade t\n",
    "    inner join regressors r \n",
    "    on t.country = r.country\n",
    "    and t.year = r.t                       \n",
    ";''')\n",
    "sql.execute('''select * from trade_x_covid limit 2;''').collect()"
   ]
  },
  {
   "cell_type": "code",
   "execution_count": 11,
   "metadata": {},
   "outputs": [],
   "source": [
    "sql.execute('''select * from trade_x_covid;''').collect().write_parquet('../processed_data/trade_hs2_import_fe_x_covid.parquet.gzip')"
   ]
  }
 ],
 "metadata": {
  "kernelspec": {
   "display_name": ".venv",
   "language": "python",
   "name": "python3"
  },
  "language_info": {
   "codemirror_mode": {
    "name": "ipython",
    "version": 3
   },
   "file_extension": ".py",
   "mimetype": "text/x-python",
   "name": "python",
   "nbconvert_exporter": "python",
   "pygments_lexer": "ipython3",
   "version": "3.13.2"
  }
 },
 "nbformat": 4,
 "nbformat_minor": 2
}
