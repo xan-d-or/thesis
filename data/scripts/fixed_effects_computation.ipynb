{
 "cells": [
  {
   "cell_type": "markdown",
   "metadata": {},
   "source": [
    "# Считаю фиксированные эффекты в международной торговле, чтобы потом строить на них регрессии\n",
    "\n",
    "Несколько спецификаций модели:\n",
    "\n",
    "* hs0 или hs2 (hs4 и hs6 слишком тяжёлые) (указываю имя файла)\n",
    "* log(v) или log(v/v19) (plain_or_change)\n",
    "* v или q (value_or_quantity)\n",
    "\n",
    "P.S. hs2 пока тоже не получаются из-за большого числа фиксированных эффектов"
   ]
  },
  {
   "cell_type": "code",
   "execution_count": 2,
   "metadata": {
    "vscode": {
     "languageId": "r"
    }
   },
   "outputs": [
    {
     "name": "stderr",
     "output_type": "stream",
     "text": [
      "Warning message:\n",
      "\"пакет 'tidyverse' был собран под R версии 4.4.2\"\n",
      "── \u001b[1mAttaching core tidyverse packages\u001b[22m ──────────────────────── tidyverse 2.0.0 ──\n",
      "\u001b[32m✔\u001b[39m \u001b[34mdplyr    \u001b[39m 1.1.4     \u001b[32m✔\u001b[39m \u001b[34mreadr    \u001b[39m 2.1.5\n",
      "\u001b[32m✔\u001b[39m \u001b[34mforcats  \u001b[39m 1.0.0     \u001b[32m✔\u001b[39m \u001b[34mstringr  \u001b[39m 1.5.1\n",
      "\u001b[32m✔\u001b[39m \u001b[34mggplot2  \u001b[39m 3.5.1     \u001b[32m✔\u001b[39m \u001b[34mtibble   \u001b[39m 3.2.1\n",
      "\u001b[32m✔\u001b[39m \u001b[34mlubridate\u001b[39m 1.9.3     \u001b[32m✔\u001b[39m \u001b[34mtidyr    \u001b[39m 1.3.1\n",
      "\u001b[32m✔\u001b[39m \u001b[34mpurrr    \u001b[39m 1.0.2     \n",
      "── \u001b[1mConflicts\u001b[22m ────────────────────────────────────────── tidyverse_conflicts() ──\n",
      "\u001b[31m✖\u001b[39m \u001b[34mdplyr\u001b[39m::\u001b[32mfilter()\u001b[39m masks \u001b[34mstats\u001b[39m::filter()\n",
      "\u001b[31m✖\u001b[39m \u001b[34mdplyr\u001b[39m::\u001b[32mlag()\u001b[39m    masks \u001b[34mstats\u001b[39m::lag()\n",
      "\u001b[36mℹ\u001b[39m Use the conflicted package (\u001b[3m\u001b[34m<http://conflicted.r-lib.org/>\u001b[39m\u001b[23m) to force all conflicts to become errors\n",
      "\n",
      "Присоединяю пакет: 'arrow'\n",
      "\n",
      "\n",
      "Следующий объект скрыт от 'package:lubridate':\n",
      "\n",
      "    duration\n",
      "\n",
      "\n",
      "Следующий объект скрыт от 'package:utils':\n",
      "\n",
      "    timestamp\n",
      "\n",
      "\n"
     ]
    }
   ],
   "source": [
    "source('fixed_effects_computation.R')"
   ]
  },
  {
   "cell_type": "code",
   "execution_count": 3,
   "metadata": {
    "vscode": {
     "languageId": "r"
    }
   },
   "outputs": [
    {
     "name": "stdout",
     "output_type": "stream",
     "text": [
      "OLS estimation, Dep. Var.: log(v)\n",
      "Observations: 71,789\n",
      "Fixed-effects: export_fe: 678,  import_fe: 678,  bilateral_fe: 25,779\n",
      "RMSE: 0.718774   Adj. R2: 0.954757\n"
     ]
    },
    {
     "name": "stderr",
     "output_type": "stream",
     "text": [
      "NOTE: The fixed-effects are not regular, they cannot be straightforwardly interpreted.\n",
      "\n"
     ]
    }
   ],
   "source": [
    "ComputeFE(\"../preprocessed_data/trade_hs0.parquet.gzip\", \n",
    "                 is_category_aggregated = F, \n",
    "                 value_or_quantity = \"value\",\n",
    "                 plain_or_change = 'plain',\n",
    "                 save_path = \"../preprocessed_data/trade_hs0\")"
   ]
  },
  {
   "cell_type": "code",
   "execution_count": 4,
   "metadata": {
    "vscode": {
     "languageId": "r"
    }
   },
   "outputs": [
    {
     "name": "stderr",
     "output_type": "stream",
     "text": [
      "NOTE: 423 observations removed because of infinite values (LHS: 423).\n",
      "\n"
     ]
    },
    {
     "name": "stdout",
     "output_type": "stream",
     "text": [
      "OLS estimation, Dep. Var.: log(q)\n",
      "Observations: 71,366\n",
      "Fixed-effects: export_fe: 678,  import_fe: 678,  bilateral_fe: 25,640\n",
      "RMSE: 0.903216   Adj. R2: 0.949483\n"
     ]
    },
    {
     "name": "stderr",
     "output_type": "stream",
     "text": [
      "NOTE: The fixed-effects are not regular, they cannot be straightforwardly interpreted.\n",
      "\n"
     ]
    }
   ],
   "source": [
    "ComputeFE(\"../preprocessed_data/trade_hs0.parquet.gzip\", \n",
    "                 is_category_aggregated = F, \n",
    "                 value_or_quantity = \"quantity\",\n",
    "                 plain_or_change = 'plain',\n",
    "                 save_path = \"../preprocessed_data/trade_hs0\")"
   ]
  },
  {
   "cell_type": "code",
   "execution_count": 5,
   "metadata": {
    "vscode": {
     "languageId": "r"
    }
   },
   "outputs": [
    {
     "name": "stdout",
     "output_type": "stream",
     "text": [
      "OLS estimation, Dep. Var.: log_change\n",
      "Observations: 71,789\n",
      "Fixed-effects: export_fe: 678,  import_fe: 678,  bilateral_fe: 25,779\n",
      "RMSE: 0.592473   Adj. R2: 0.47783\n"
     ]
    },
    {
     "name": "stderr",
     "output_type": "stream",
     "text": [
      "NOTE: The fixed-effects are not regular, they cannot be straightforwardly interpreted.\n",
      "\n"
     ]
    }
   ],
   "source": [
    "ComputeFE(\"../preprocessed_data/trade_hs0.parquet.gzip\", \n",
    "                 is_category_aggregated = F, \n",
    "                 value_or_quantity = \"value\",\n",
    "                 plain_or_change = 'change',\n",
    "                 save_path = \"../preprocessed_data/trade_hs0\")"
   ]
  },
  {
   "cell_type": "code",
   "execution_count": 6,
   "metadata": {
    "vscode": {
     "languageId": "r"
    }
   },
   "outputs": [
    {
     "name": "stderr",
     "output_type": "stream",
     "text": [
      "NOTE: 647 observations removed because of NA and infinite values (LHS: 647).\n",
      "\n"
     ]
    },
    {
     "name": "stdout",
     "output_type": "stream",
     "text": [
      "OLS estimation, Dep. Var.: log_change\n",
      "Observations: 71,142\n",
      "Fixed-effects: export_fe: 678,  import_fe: 678,  bilateral_fe: 25,541\n",
      "RMSE: 0.689779   Adj. R2: 0.462826\n"
     ]
    },
    {
     "name": "stderr",
     "output_type": "stream",
     "text": [
      "NOTE: The fixed-effects are not regular, they cannot be straightforwardly interpreted.\n",
      "\n"
     ]
    }
   ],
   "source": [
    "ComputeFE(\"../preprocessed_data/trade_hs0.parquet.gzip\", \n",
    "                 is_category_aggregated = F, \n",
    "                 value_or_quantity = \"quantity\",\n",
    "                 plain_or_change = 'change',\n",
    "                 save_path = \"../preprocessed_data/trade_hs0\")"
   ]
  },
  {
   "cell_type": "code",
   "execution_count": null,
   "metadata": {
    "vscode": {
     "languageId": "r"
    }
   },
   "outputs": [],
   "source": [
    "ComputeFE(\"../preprocessed_data/trade_hs2.parquet.gzip\", \n",
    "                 is_category_aggregated = T, \n",
    "                 value_or_quantity = \"value\",\n",
    "                 plain_or_change = 'plain',\n",
    "                 save_path = \"../preprocessed_data/trade_hs2\",\n",
    "                 fixef.tol = 1e-5)"
   ]
  }
 ],
 "metadata": {
  "kernelspec": {
   "display_name": "R",
   "language": "R",
   "name": "ir"
  },
  "language_info": {
   "codemirror_mode": "r",
   "file_extension": ".r",
   "mimetype": "text/x-r-source",
   "name": "R",
   "pygments_lexer": "r",
   "version": "4.4.1"
  }
 },
 "nbformat": 4,
 "nbformat_minor": 2
}
