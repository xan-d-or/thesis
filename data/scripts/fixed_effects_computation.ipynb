{
 "cells": [
  {
   "cell_type": "markdown",
   "metadata": {},
   "source": [
    "# Считаю фиксированные эффекты в международной торговле, чтобы потом строить на них регрессии\n",
    "\n",
    "Несколько спецификаций модели:\n",
    "\n",
    "* hs0 или hs2 (hs4 и hs6 слишком тяжёлые) (указываю имя файла)\n",
    "* log(v) или log(v/v19) (plain_or_change)\n",
    "* v или q (value_or_quantity)\n",
    "\n",
    "P.S. hs2 пока тоже не получаются из-за большого числа фиксированных эффектов"
   ]
  },
  {
   "cell_type": "code",
   "execution_count": 9,
   "metadata": {
    "vscode": {
     "languageId": "r"
    }
   },
   "outputs": [],
   "source": [
    "source('fixed_effects_computation.R')"
   ]
  },
  {
   "cell_type": "markdown",
   "metadata": {},
   "source": [
    "## HS0"
   ]
  },
  {
   "cell_type": "code",
   "execution_count": 12,
   "metadata": {
    "vscode": {
     "languageId": "r"
    }
   },
   "outputs": [
    {
     "name": "stdout",
     "output_type": "stream",
     "text": [
      "           Demeaning: 0.24s (iter: 4)\n",
      "          Estimation: 0.09s\n",
      "OLS estimation, Dep. Var.: log(v)\n",
      "Observations: 71,789\n",
      "Fixed-effects: export_fe: 678,  import_fe: 678,  bilateral_fe: 25,779\n",
      "RMSE: 0.718774   Adj. R2: 0.954757\n"
     ]
    },
    {
     "name": "stderr",
     "output_type": "stream",
     "text": [
      "NOTE: The fixed-effects are not regular, they cannot be straightforwardly interpreted.\n",
      "\n"
     ]
    },
    {
     "name": "stdout",
     "output_type": "stream",
     "text": [
      "Fixed_effects coefficients\n",
      "                        export_fe import_fe bilateral_fe\n",
      "Number of fixed-effects       678       678        25779\n",
      "Number of references            0         3          451\n",
      "Mean                         2.54       1.9         -0.6\n",
      "Standard-deviation           8.85      8.44         9.77\n",
      "\n",
      "COEFFICIENTS:\n",
      "  export_fe: 2020 _ ABW 2020 _ AFG 2020 _ AGO 2020 _ AIA 2020 _ ALB\n",
      "                  3.891      3.008      3.601      -22.1      7.573\n",
      "                   \n",
      "  ... 673 remaining\n",
      "-----\n",
      "  import_fe: 2020 _ ABW 2020 _ AFG 2020 _ AGO 2020 _ AIA 2020 _ ALB\n",
      "                  4.354      1.348      2.371     -5.754      22.83\n",
      "                   \n",
      "  ... 673 remaining\n",
      "-----\n",
      "  bilateral_fe: ABW _ ARE ABW _ AUT ABW _ BEL ABW _ BRB ABW _ CAN\n",
      "                   -10.18    -13.74    -12.71   -0.4086    -27.79\n",
      "                      \n",
      "  ... 25,774 remaining\n",
      "NULL\n"
     ]
    }
   ],
   "source": [
    "ComputeFE(\"../preprocessed_data/trade_hs0.parquet.gzip\", \n",
    "                 is_category_aggregated = F, \n",
    "                 value_or_quantity = \"value\",\n",
    "                 plain_or_change = 'plain',\n",
    "                 save_path = \"../preprocessed_data/trade_hs0\")"
   ]
  },
  {
   "cell_type": "code",
   "execution_count": 13,
   "metadata": {
    "vscode": {
     "languageId": "r"
    }
   },
   "outputs": [
    {
     "name": "stderr",
     "output_type": "stream",
     "text": [
      "NOTE: 423 observations removed because of infinite values (LHS: 423).\n",
      "\n"
     ]
    },
    {
     "name": "stdout",
     "output_type": "stream",
     "text": [
      "           Demeaning: 0.23s (iter: 5)\n",
      "          Estimation: 0.09s\n",
      "OLS estimation, Dep. Var.: log(q)\n",
      "Observations: 71,366\n",
      "Fixed-effects: export_fe: 678,  import_fe: 678,  bilateral_fe: 25,640\n",
      "RMSE: 0.903216   Adj. R2: 0.949483\n"
     ]
    },
    {
     "name": "stderr",
     "output_type": "stream",
     "text": [
      "NOTE: The fixed-effects are not regular, they cannot be straightforwardly interpreted.\n",
      "\n"
     ]
    },
    {
     "name": "stdout",
     "output_type": "stream",
     "text": [
      "Fixed_effects coefficients\n",
      "                        export_fe import_fe bilateral_fe\n",
      "Number of fixed-effects       678       678        25640\n",
      "Number of references            0         3          451\n",
      "Mean                        0.665      2.13       -0.569\n",
      "Standard-deviation           10.4      10.6         12.9\n",
      "\n",
      "COEFFICIENTS:\n",
      "  export_fe: 2020 _ ABW 2020 _ AFG 2020 _ AGO 2020 _ AIA 2020 _ ALB\n",
      "                  9.721      3.983     -2.184     -27.71       3.52\n",
      "                   \n",
      "  ... 673 remaining\n",
      "-----\n",
      "  import_fe: 2020 _ ABW 2020 _ AFG 2020 _ AGO 2020 _ AIA 2020 _ ALB\n",
      "                  2.307      6.749     0.4296     -5.227      24.86\n",
      "                   \n",
      "  ... 673 remaining\n",
      "-----\n",
      "  bilateral_fe: ABW _ ARE ABW _ AUT ABW _ BEL ABW _ BRB ABW _ CAN\n",
      "                   -10.48    -29.39    -26.18    -8.407    -38.14\n",
      "                      \n",
      "  ... 25,635 remaining\n",
      "NULL\n"
     ]
    }
   ],
   "source": [
    "ComputeFE(\"../preprocessed_data/trade_hs0.parquet.gzip\", \n",
    "                 is_category_aggregated = F, \n",
    "                 value_or_quantity = \"quantity\",\n",
    "                 plain_or_change = 'plain',\n",
    "                 save_path = \"../preprocessed_data/trade_hs0\")"
   ]
  },
  {
   "cell_type": "code",
   "execution_count": 14,
   "metadata": {
    "vscode": {
     "languageId": "r"
    }
   },
   "outputs": [
    {
     "name": "stdout",
     "output_type": "stream",
     "text": [
      "           Demeaning: 0.23s (iter: 5)\n",
      "          Estimation: 0.11s\n",
      "OLS estimation, Dep. Var.: log_change\n",
      "Observations: 71,789\n",
      "Fixed-effects: export_fe: 678,  import_fe: 678,  bilateral_fe: 25,779\n",
      "RMSE: 0.592473   Adj. R2: 0.47783\n"
     ]
    },
    {
     "name": "stderr",
     "output_type": "stream",
     "text": [
      "NOTE: The fixed-effects are not regular, they cannot be straightforwardly interpreted.\n",
      "\n"
     ]
    },
    {
     "name": "stdout",
     "output_type": "stream",
     "text": [
      "Fixed_effects coefficients\n",
      "                        export_fe import_fe bilateral_fe\n",
      "Number of fixed-effects       678       678        25779\n",
      "Number of references            0         3          451\n",
      "Mean                       0.0991    -0.186       0.0342\n",
      "Standard-deviation           2.08       1.6         2.31\n",
      "\n",
      "COEFFICIENTS:\n",
      "  export_fe: 2020 _ ABW 2020 _ AFG 2020 _ AGO 2020 _ AIA 2020 _ ALB\n",
      "                0.09362     0.2921      1.769      3.877     -1.546\n",
      "                   \n",
      "  ... 673 remaining\n",
      "-----\n",
      "  import_fe: 2020 _ ABW 2020 _ AFG 2020 _ AGO 2020 _ AIA 2020 _ ALB\n",
      "                  2.347     0.9312    -0.7634    -0.4088      -1.47\n",
      "                   \n",
      "  ... 673 remaining\n",
      "-----\n",
      "  bilateral_fe: ABW _ ARE ABW _ AUT ABW _ BEL ABW _ BRB ABW _ CAN\n",
      "                    4.471     1.789    0.7316     4.512   -0.8552\n",
      "                      \n",
      "  ... 25,774 remaining\n",
      "NULL\n"
     ]
    }
   ],
   "source": [
    "ComputeFE(\"../preprocessed_data/trade_hs0.parquet.gzip\", \n",
    "                 is_category_aggregated = F, \n",
    "                 value_or_quantity = \"value\",\n",
    "                 plain_or_change = 'change',\n",
    "                 save_path = \"../preprocessed_data/trade_hs0\")"
   ]
  },
  {
   "cell_type": "code",
   "execution_count": 15,
   "metadata": {
    "vscode": {
     "languageId": "r"
    }
   },
   "outputs": [
    {
     "name": "stderr",
     "output_type": "stream",
     "text": [
      "NOTE: 647 observations removed because of NA and infinite values (LHS: 647).\n",
      "\n"
     ]
    },
    {
     "name": "stdout",
     "output_type": "stream",
     "text": [
      "           Demeaning: 0.25s (iter: 4)\n",
      "          Estimation: 0.11s\n",
      "OLS estimation, Dep. Var.: log_change\n",
      "Observations: 71,142\n",
      "Fixed-effects: export_fe: 678,  import_fe: 678,  bilateral_fe: 25,541\n",
      "RMSE: 0.689779   Adj. R2: 0.462826\n"
     ]
    },
    {
     "name": "stderr",
     "output_type": "stream",
     "text": [
      "NOTE: The fixed-effects are not regular, they cannot be straightforwardly interpreted.\n",
      "\n"
     ]
    },
    {
     "name": "stdout",
     "output_type": "stream",
     "text": [
      "Fixed_effects coefficients\n",
      "                        export_fe import_fe bilateral_fe\n",
      "Number of fixed-effects       678       678        25541\n",
      "Number of references            0         3          451\n",
      "Mean                       0.0253   -0.0544       -0.176\n",
      "Standard-deviation           2.15      1.88         2.86\n",
      "\n",
      "COEFFICIENTS:\n",
      "  export_fe: 2020 _ ABW 2020 _ AFG 2020 _ AGO 2020 _ AIA 2020 _ ALB\n",
      "                  2.302    -0.7849       1.64     -4.887     -1.609\n",
      "                   \n",
      "  ... 673 remaining\n",
      "-----\n",
      "  import_fe: 2020 _ ABW 2020 _ AFG 2020 _ AGO 2020 _ AIA 2020 _ ALB\n",
      "                  2.157     0.7903     -1.953     -1.152     -2.827\n",
      "                   \n",
      "  ... 673 remaining\n",
      "-----\n",
      "  bilateral_fe: ABW _ ARE ABW _ AUT ABW _ BEL ABW _ BRB ABW _ CAN\n",
      "                    1.183     1.077   -0.9636      5.73    -11.96\n",
      "                      \n",
      "  ... 25,536 remaining\n",
      "NULL\n"
     ]
    }
   ],
   "source": [
    "ComputeFE(\"../preprocessed_data/trade_hs0.parquet.gzip\", \n",
    "                 is_category_aggregated = F, \n",
    "                 value_or_quantity = \"quantity\",\n",
    "                 plain_or_change = 'change',\n",
    "                 save_path = \"../preprocessed_data/trade_hs0\")"
   ]
  },
  {
   "cell_type": "markdown",
   "metadata": {},
   "source": [
    "## HS2\n",
    "\n",
    "### Problem getting FE --- следствие i^j^category"
   ]
  },
  {
   "cell_type": "code",
   "execution_count": 5,
   "metadata": {
    "vscode": {
     "languageId": "r"
    }
   },
   "outputs": [
    {
     "name": "stdout",
     "output_type": "stream",
     "text": [
      "               Setup: 1.35s\n",
      "           Demeaning: 1.39s (iter: 14)\n",
      "          Estimation: 0.18s\n",
      "     Post-processing: 0.44s\n",
      "OLS estimation, Dep. Var.: log(v)\n",
      "Observations: 1,935,761\n",
      "Fixed-effects: export_fe: 48,921,  import_fe: 61,114,  bilateral_fe: 725,916\n",
      "RMSE: 0.786325   Adj. R2: 0.924503\n",
      "Problem getting FE, maximum iterations reached (1st order loop)."
     ]
    },
    {
     "name": "stderr",
     "output_type": "stream",
     "text": [
      "NOTE: The fixed-effects are not regular, they cannot be straightforwardly interpreted. The number of references is only approximate.\n",
      "\n"
     ]
    },
    {
     "name": "stdout",
     "output_type": "stream",
     "text": [
      "Fixed_effects coefficients\n",
      "                        export_fe import_fe bilateral_fe\n",
      "Number of fixed-effects     48921     61114       725916\n",
      "Number of references            0        77         9948\n",
      "Mean                         3.21     -1.01       -0.289\n",
      "Standard-deviation           2.62      1.86         2.76\n",
      "\n",
      "COEFFICIENTS:\n",
      "  export_fe: 2020 _ ABW _ 03 2020 _ ABW _ 07 2020 _ ABW _ 15 2020 _ ABW _ 16\n",
      "                       5.268          -1.537           4.672          -1.565\n",
      "  2020 _ ABW _ 17                     \n",
      "           -5.133 ... 48,916 remaining\n",
      "-----\n",
      "  import_fe: 2020 _ ABW _ 01 2020 _ ABW _ 02 2020 _ ABW _ 03 2020 _ ABW _ 04\n",
      "                      -1.876          -1.192          -1.966          -0.996\n",
      "  2020 _ ABW _ 05                     \n",
      "           -2.468 ... 61,109 remaining\n",
      "-----\n",
      "  bilateral_fe: ABW _ ARE _ 22 ABW _ ARE _ 38 ABW _ ARE _ 40 ABW _ ARE _ 44\n",
      "                        -2.899          2.545        -0.8632            1.3\n",
      "  ABW _ ARE _ 70                      \n",
      "          0.5381 ... 725,911 remaining\n",
      "NULL\n"
     ]
    }
   ],
   "source": [
    "ComputeFE(\"../preprocessed_data/trade_hs2.parquet.gzip\", \n",
    "                 is_category_aggregated = T, \n",
    "                 value_or_quantity = \"value\",\n",
    "                 plain_or_change = 'plain',\n",
    "                 save_path = \"../preprocessed_data/trade_hs2\",\n",
    "                 interact_category = TRUE,\n",
    "                 verbose = 100)"
   ]
  },
  {
   "cell_type": "code",
   "execution_count": null,
   "metadata": {
    "vscode": {
     "languageId": "r"
    }
   },
   "outputs": [],
   "source": [
    "ComputeFE(\"../preprocessed_data/trade_hs2.parquet.gzip\", \n",
    "                 is_category_aggregated = T, \n",
    "                 value_or_quantity = \"quantity\",\n",
    "                 plain_or_change = 'plain',\n",
    "                 save_path = \"../preprocessed_data/trade_hs2\",\n",
    "                 interact_category = TRUE,\n",
    "                 verbose = 100)"
   ]
  },
  {
   "cell_type": "code",
   "execution_count": null,
   "metadata": {
    "vscode": {
     "languageId": "r"
    }
   },
   "outputs": [],
   "source": [
    "ComputeFE(\"../preprocessed_data/trade_hs2.parquet.gzip\", \n",
    "                 is_category_aggregated = T, \n",
    "                 value_or_quantity = \"value\",\n",
    "                 plain_or_change = 'change',\n",
    "                 save_path = \"../preprocessed_data/trade_hs2\",\n",
    "                 interact_category = TRUE,\n",
    "                 verbose = 100)"
   ]
  },
  {
   "cell_type": "code",
   "execution_count": null,
   "metadata": {
    "vscode": {
     "languageId": "r"
    }
   },
   "outputs": [],
   "source": [
    "ComputeFE(\"../preprocessed_data/trade_hs2.parquet.gzip\", \n",
    "                 is_category_aggregated = T, \n",
    "                 value_or_quantity = \"quantity\",\n",
    "                 plain_or_change = 'change',\n",
    "                 save_path = \"../preprocessed_data/trade_hs2\",\n",
    "                 interact_category = TRUE,\n",
    "                 verbose = 100)"
   ]
  },
  {
   "cell_type": "markdown",
   "metadata": {},
   "source": [
    "### HS2: i^j + category"
   ]
  },
  {
   "cell_type": "code",
   "execution_count": 4,
   "metadata": {
    "vscode": {
     "languageId": "r"
    }
   },
   "outputs": [
    {
     "name": "stdout",
     "output_type": "stream",
     "text": [
      "               Setup: 0.66s\n",
      "           Demeaning: 2.53s (iter: 30)\n",
      "          Estimation: 0.11s\n",
      "     Post-processing: 0.25s\n",
      "OLS estimation, Dep. Var.: log(v)\n",
      "Observations: 1,935,761\n",
      "Fixed-effects: export_fe: 48,921,  import_fe: 61,114,  bilateral_fe: 25,779,  category: 96\n",
      "RMSE: 1.99538   Adj. R2: 0.70293\n"
     ]
    },
    {
     "name": "stderr",
     "output_type": "stream",
     "text": [
      "NOTE: The fixed-effects are not regular, they cannot be straightforwardly interpreted. The number of references is only approximate.\n",
      "\n"
     ]
    },
    {
     "name": "stdout",
     "output_type": "stream",
     "text": [
      "Fixed_effects coefficients\n",
      "                        export_fe import_fe bilateral_fe category\n",
      "Number of fixed-effects     48921     61114        25779       96\n",
      "Number of references            0       298          744       96\n",
      "Mean                       -0.856    -0.408         -2.6     4.78\n",
      "Standard-deviation           2.28      1.46          2.9     1.08\n",
      "\n",
      "COEFFICIENTS:\n",
      "  export_fe: 2020 _ ABW _ 03 2020 _ ABW _ 07 2020 _ ABW _ 15 2020 _ ABW _ 16\n",
      "                       2.004       5.005e-07           1.484          -1.813\n",
      "  2020 _ ABW _ 17                     \n",
      "           -6.143 ... 48,916 remaining\n",
      "-----\n",
      "  import_fe: 2020 _ ABW _ 01 2020 _ ABW _ 02 2020 _ ABW _ 03 2020 _ ABW _ 04\n",
      "                     -0.6648          0.4556         -0.3906           1.123\n",
      "  2020 _ ABW _ 05                     \n",
      "           -1.156 ... 61,109 remaining\n",
      "-----\n",
      "  bilateral_fe: ABW _ ARE ABW _ AUT ABW _ BEL ABW _ BRB ABW _ CAN\n",
      "                    -5.34    -3.649    -7.629     0.602    -7.255\n",
      "                      \n",
      "  ... 25,774 remaining\n",
      "-----\n",
      "  category:     1     2     3     4    5                 \n",
      "            3.986 6.762 6.231 5.906 4.78 ... 91 remaining\n",
      "NULL\n"
     ]
    }
   ],
   "source": [
    "ComputeFE(\"../preprocessed_data/trade_hs2.parquet.gzip\", \n",
    "                 is_category_aggregated = T, \n",
    "                 value_or_quantity = \"value\",\n",
    "                 plain_or_change = 'plain',\n",
    "                 save_path = \"../preprocessed_data/trade_hs2\",\n",
    "                 interact_category = FALSE,\n",
    "                 verbose = 100)"
   ]
  },
  {
   "cell_type": "code",
   "execution_count": null,
   "metadata": {
    "vscode": {
     "languageId": "r"
    }
   },
   "outputs": [],
   "source": [
    "ComputeFE(\"../preprocessed_data/trade_hs2.parquet.gzip\", \n",
    "                 is_category_aggregated = T, \n",
    "                 value_or_quantity = \"quantity\",\n",
    "                 plain_or_change = 'plain',\n",
    "                 save_path = \"../preprocessed_data/trade_hs2\",\n",
    "                 interact_category = FALSE,\n",
    "                 verbose = 100)"
   ]
  },
  {
   "cell_type": "code",
   "execution_count": null,
   "metadata": {
    "vscode": {
     "languageId": "r"
    }
   },
   "outputs": [],
   "source": [
    "ComputeFE(\"../preprocessed_data/trade_hs2.parquet.gzip\", \n",
    "                 is_category_aggregated = T, \n",
    "                 value_or_quantity = \"value\",\n",
    "                 plain_or_change = 'change',\n",
    "                 save_path = \"../preprocessed_data/trade_hs2\",\n",
    "                 interact_category = FALSE,\n",
    "                 verbose = 100)"
   ]
  },
  {
   "cell_type": "code",
   "execution_count": null,
   "metadata": {
    "vscode": {
     "languageId": "r"
    }
   },
   "outputs": [],
   "source": [
    "ComputeFE(\"../preprocessed_data/trade_hs2.parquet.gzip\", \n",
    "                 is_category_aggregated = T, \n",
    "                 value_or_quantity = \"quantity\",\n",
    "                 plain_or_change = 'change',\n",
    "                 save_path = \"../preprocessed_data/trade_hs2\",\n",
    "                 interact_category = FALSE,\n",
    "                 verbose = 100)"
   ]
  }
 ],
 "metadata": {
  "kernelspec": {
   "display_name": "R",
   "language": "R",
   "name": "ir"
  },
  "language_info": {
   "codemirror_mode": "r",
   "file_extension": ".r",
   "mimetype": "text/x-r-source",
   "name": "R",
   "pygments_lexer": "r",
   "version": "4.4.1"
  }
 },
 "nbformat": 4,
 "nbformat_minor": 2
}
