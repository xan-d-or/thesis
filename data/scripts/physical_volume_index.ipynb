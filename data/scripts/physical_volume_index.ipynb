{
 "cells": [
  {
   "cell_type": "markdown",
   "id": "129a3067",
   "metadata": {},
   "source": [
    "### Рассчитываю индекс физического объём для наблюдений\n",
    "\n",
    "- Считаю цены 2019 года для товаров, у которых логируется масса\n",
    "- Джоиню их на товаропотоки\n",
    "- Считаю индексы физического объёма"
   ]
  },
  {
   "cell_type": "code",
   "execution_count": 1,
   "id": "28c0a395",
   "metadata": {},
   "outputs": [],
   "source": [
    "import polars as pl"
   ]
  },
  {
   "cell_type": "code",
   "execution_count": null,
   "id": "b341d4b6",
   "metadata": {},
   "outputs": [],
   "source": [
    "trade19 = pl.read_csv('../raw_data/BACI_HS17_V202501/BACI_HS17_Y2019_V202501.csv')\n",
    "trade20 = pl.read_csv('../raw_data/BACI_HS17_V202501/BACI_HS17_Y2020_V202501.csv')\n",
    "trade21 = pl.read_csv('../raw_data/BACI_HS17_V202501/BACI_HS17_Y2021_V202501.csv')\n",
    "trade22 = pl.read_csv('../raw_data/BACI_HS17_V202501/BACI_HS17_Y2022_V202501.csv')"
   ]
  },
  {
   "cell_type": "code",
   "execution_count": 2,
   "id": "94dc7c4f",
   "metadata": {},
   "outputs": [],
   "source": [
    "country_codes = pl.read_csv('../raw_data/BACI_HS17_V202501/country_codes_V202501.csv')\n",
    "sql = pl.SQLContext(register_globals=True)"
   ]
  },
  {
   "cell_type": "code",
   "execution_count": 3,
   "id": "d292db7a",
   "metadata": {},
   "outputs": [
    {
     "data": {
      "text/html": [
       "<div><style>\n",
       ".dataframe > thead > tr,\n",
       ".dataframe > tbody > tr {\n",
       "  text-align: right;\n",
       "  white-space: pre-wrap;\n",
       "}\n",
       "</style>\n",
       "<small>shape: (10, 7)</small><table border=\"1\" class=\"dataframe\"><thead><tr><th>t</th><th>i</th><th>j</th><th>k</th><th>v</th><th>q</th><th>p</th></tr><tr><td>i64</td><td>i64</td><td>i64</td><td>i64</td><td>f64</td><td>f64</td><td>f64</td></tr></thead><tbody><tr><td>2019</td><td>4</td><td>20</td><td>420229</td><td>0.471</td><td>0.001</td><td>471.0</td></tr><tr><td>2019</td><td>4</td><td>24</td><td>481940</td><td>1.426</td><td>1.0</td><td>1.426</td></tr><tr><td>2019</td><td>4</td><td>24</td><td>847141</td><td>0.966</td><td>0.022</td><td>43.909091</td></tr><tr><td>2019</td><td>4</td><td>31</td><td>70310</td><td>6.404</td><td>22.0</td><td>0.291091</td></tr><tr><td>2019</td><td>4</td><td>31</td><td>80211</td><td>2.472</td><td>0.196</td><td>12.612245</td></tr><tr><td>2019</td><td>4</td><td>31</td><td>80620</td><td>0.187</td><td>0.028</td><td>6.678571</td></tr><tr><td>2019</td><td>4</td><td>31</td><td>80711</td><td>6.513</td><td>37.83</td><td>0.172165</td></tr><tr><td>2019</td><td>4</td><td>31</td><td>81310</td><td>0.118</td><td>0.014</td><td>8.428571</td></tr><tr><td>2019</td><td>4</td><td>31</td><td>81340</td><td>0.128</td><td>0.02</td><td>6.4</td></tr><tr><td>2019</td><td>4</td><td>31</td><td>91020</td><td>2.684</td><td>0.003</td><td>894.666667</td></tr></tbody></table></div>"
      ],
      "text/plain": [
       "shape: (10, 7)\n",
       "┌──────┬─────┬─────┬────────┬───────┬───────┬────────────┐\n",
       "│ t    ┆ i   ┆ j   ┆ k      ┆ v     ┆ q     ┆ p          │\n",
       "│ ---  ┆ --- ┆ --- ┆ ---    ┆ ---   ┆ ---   ┆ ---        │\n",
       "│ i64  ┆ i64 ┆ i64 ┆ i64    ┆ f64   ┆ f64   ┆ f64        │\n",
       "╞══════╪═════╪═════╪════════╪═══════╪═══════╪════════════╡\n",
       "│ 2019 ┆ 4   ┆ 20  ┆ 420229 ┆ 0.471 ┆ 0.001 ┆ 471.0      │\n",
       "│ 2019 ┆ 4   ┆ 24  ┆ 481940 ┆ 1.426 ┆ 1.0   ┆ 1.426      │\n",
       "│ 2019 ┆ 4   ┆ 24  ┆ 847141 ┆ 0.966 ┆ 0.022 ┆ 43.909091  │\n",
       "│ 2019 ┆ 4   ┆ 31  ┆ 70310  ┆ 6.404 ┆ 22.0  ┆ 0.291091   │\n",
       "│ 2019 ┆ 4   ┆ 31  ┆ 80211  ┆ 2.472 ┆ 0.196 ┆ 12.612245  │\n",
       "│ 2019 ┆ 4   ┆ 31  ┆ 80620  ┆ 0.187 ┆ 0.028 ┆ 6.678571   │\n",
       "│ 2019 ┆ 4   ┆ 31  ┆ 80711  ┆ 6.513 ┆ 37.83 ┆ 0.172165   │\n",
       "│ 2019 ┆ 4   ┆ 31  ┆ 81310  ┆ 0.118 ┆ 0.014 ┆ 8.428571   │\n",
       "│ 2019 ┆ 4   ┆ 31  ┆ 81340  ┆ 0.128 ┆ 0.02  ┆ 6.4        │\n",
       "│ 2019 ┆ 4   ┆ 31  ┆ 91020  ┆ 2.684 ┆ 0.003 ┆ 894.666667 │\n",
       "└──────┴─────┴─────┴────────┴───────┴───────┴────────────┘"
      ]
     },
     "execution_count": 3,
     "metadata": {},
     "output_type": "execute_result"
    }
   ],
   "source": [
    "sql.execute('''select *, v/q as p from trade19 limit 10;''').collect()"
   ]
  },
  {
   "cell_type": "code",
   "execution_count": 4,
   "id": "73ff3933",
   "metadata": {},
   "outputs": [
    {
     "data": {
      "text/html": [
       "<div><style>\n",
       ".dataframe > thead > tr,\n",
       ".dataframe > tbody > tr {\n",
       "  text-align: right;\n",
       "  white-space: pre-wrap;\n",
       "}\n",
       "</style>\n",
       "<small>shape: (1, 1)</small><table border=\"1\" class=\"dataframe\"><thead><tr><th>len</th></tr><tr><td>u32</td></tr></thead><tbody><tr><td>34145929</td></tr></tbody></table></div>"
      ],
      "text/plain": [
       "shape: (1, 1)\n",
       "┌──────────┐\n",
       "│ len      │\n",
       "│ ---      │\n",
       "│ u32      │\n",
       "╞══════════╡\n",
       "│ 34145929 │\n",
       "└──────────┘"
      ]
     },
     "execution_count": 4,
     "metadata": {},
     "output_type": "execute_result"
    }
   ],
   "source": [
    "# Меняю типы данных на более экономные, где это возможно, и объединяю таблицы для трёх лет\n",
    "trade_tmp = sql.execute(''' \n",
    "            select \n",
    "                    t::smallint\n",
    "                    , i::smallint\n",
    "                    , j::smallint\n",
    "                    , k\n",
    "                    , v::float4\n",
    "                    , q::float4\n",
    "                    ,  case when length(k::varchar) = 5 then '0'||(k::varchar) \n",
    "                            else k::varchar end as category \n",
    "                    from trade20\n",
    "            union all\n",
    "            select \n",
    "                    t::smallint\n",
    "                    , i::smallint\n",
    "                    , j::smallint\n",
    "                    , k\n",
    "                    , v::float4\n",
    "                    , q::float4\n",
    "                    ,  case when length(k::varchar) = 5 then '0'||(k::varchar) \n",
    "                            else k::varchar end as category \n",
    "                    from trade21\n",
    "            union all\n",
    "            select \n",
    "                    t::smallint\n",
    "                    , i::smallint\n",
    "                    , j::smallint\n",
    "                    , k\n",
    "                    , v::float4\n",
    "                    , q::float4\n",
    "                    ,  case when length(k::varchar) = 5 then '0'||(k::varchar) \n",
    "                            else k::varchar end as category \n",
    "                    from trade22\n",
    "            ;\n",
    "            ''').collect()\n",
    "sql.register('trade_tmp', trade_tmp)\n",
    "sql.execute('''select count(*) from trade_tmp;''').collect()"
   ]
  },
  {
   "cell_type": "code",
   "execution_count": 5,
   "id": "95186f36",
   "metadata": {},
   "outputs": [
    {
     "data": {
      "text/plain": [
       "23"
      ]
     },
     "execution_count": 5,
     "metadata": {},
     "output_type": "execute_result"
    }
   ],
   "source": [
    "# Удаляю лишние таблицы, чтобы не засоряли оперативку\n",
    "import gc\n",
    "del trade20\n",
    "del trade21\n",
    "del trade22\n",
    "gc.collect()"
   ]
  },
  {
   "cell_type": "code",
   "execution_count": 6,
   "id": "0bbbddea",
   "metadata": {},
   "outputs": [
    {
     "data": {
      "text/plain": [
       "0"
      ]
     },
     "execution_count": 6,
     "metadata": {},
     "output_type": "execute_result"
    }
   ],
   "source": [
    "# Джоиню данные за 2019 год, чтобы было потом на них нормировать\n",
    "trade_tmp2 = sql.execute('''\n",
    "            select \n",
    "                tr.t\n",
    "                , tr.i\n",
    "                , tr.j\n",
    "                , tr.category    \n",
    "                , tr.v\n",
    "                , tr.q             \n",
    "                , t19.v as v19\n",
    "                , t19.q as q19\n",
    "                , t19.v/t19.q as p19             \n",
    "            from trade_tmp tr\n",
    "            inner join trade19 t19\n",
    "                on tr.i = t19.i\n",
    "                and tr.j = t19.j\n",
    "                and tr.k = t19.k\n",
    "            ;''').collect()\n",
    "sql.register('trade_tmp2', trade_tmp2)\n",
    "del trade19\n",
    "del trade_tmp\n",
    "gc.collect()"
   ]
  },
  {
   "cell_type": "code",
   "execution_count": 7,
   "id": "9ed98cc7",
   "metadata": {},
   "outputs": [
    {
     "data": {
      "text/html": [
       "<div><style>\n",
       ".dataframe > thead > tr,\n",
       ".dataframe > tbody > tr {\n",
       "  text-align: right;\n",
       "  white-space: pre-wrap;\n",
       "}\n",
       "</style>\n",
       "<small>shape: (2, 9)</small><table border=\"1\" class=\"dataframe\"><thead><tr><th>t</th><th>i</th><th>j</th><th>category</th><th>v</th><th>q</th><th>v19</th><th>q19</th><th>p19</th></tr><tr><td>i16</td><td>i16</td><td>i16</td><td>str</td><td>f32</td><td>f32</td><td>f64</td><td>f64</td><td>f64</td></tr></thead><tbody><tr><td>2020</td><td>4</td><td>36</td><td>&quot;080211&quot;</td><td>2.456</td><td>0.71</td><td>6.944</td><td>1.198</td><td>5.796327</td></tr><tr><td>2020</td><td>4</td><td>36</td><td>&quot;080420&quot;</td><td>1.398</td><td>1.331</td><td>0.87</td><td>0.8</td><td>1.0875</td></tr></tbody></table></div>"
      ],
      "text/plain": [
       "shape: (2, 9)\n",
       "┌──────┬─────┬─────┬──────────┬───┬───────┬───────┬───────┬──────────┐\n",
       "│ t    ┆ i   ┆ j   ┆ category ┆ … ┆ q     ┆ v19   ┆ q19   ┆ p19      │\n",
       "│ ---  ┆ --- ┆ --- ┆ ---      ┆   ┆ ---   ┆ ---   ┆ ---   ┆ ---      │\n",
       "│ i16  ┆ i16 ┆ i16 ┆ str      ┆   ┆ f32   ┆ f64   ┆ f64   ┆ f64      │\n",
       "╞══════╪═════╪═════╪══════════╪═══╪═══════╪═══════╪═══════╪══════════╡\n",
       "│ 2020 ┆ 4   ┆ 36  ┆ 080211   ┆ … ┆ 0.71  ┆ 6.944 ┆ 1.198 ┆ 5.796327 │\n",
       "│ 2020 ┆ 4   ┆ 36  ┆ 080420   ┆ … ┆ 1.331 ┆ 0.87  ┆ 0.8   ┆ 1.0875   │\n",
       "└──────┴─────┴─────┴──────────┴───┴───────┴───────┴───────┴──────────┘"
      ]
     },
     "execution_count": 7,
     "metadata": {},
     "output_type": "execute_result"
    }
   ],
   "source": [
    "sql.execute('''select * from trade_tmp2 limit 2;''').collect()"
   ]
  },
  {
   "cell_type": "code",
   "execution_count": 5,
   "id": "061c8c7f",
   "metadata": {},
   "outputs": [
    {
     "data": {
      "text/plain": [
       "<SQLContext [tables:2] at 0x223309c7e00>"
      ]
     },
     "execution_count": 5,
     "metadata": {},
     "output_type": "execute_result"
    }
   ],
   "source": [
    "# Материализую\n",
    "# trade_tmp2.write_parquet('../preprocessed_data/trade_tmp2_with_prices.parquet.gzip')\n",
    "trade_tmp2 = pl.read_parquet('../preprocessed_data/trade_tmp2_with_prices.parquet.gzip')\n",
    "sql.register('trade_tmp2', trade_tmp2)"
   ]
  },
  {
   "cell_type": "code",
   "execution_count": 7,
   "id": "2bd67b2b",
   "metadata": {},
   "outputs": [
    {
     "data": {
      "text/html": [
       "<div><style>\n",
       ".dataframe > thead > tr,\n",
       ".dataframe > tbody > tr {\n",
       "  text-align: right;\n",
       "  white-space: pre-wrap;\n",
       "}\n",
       "</style>\n",
       "<small>shape: (2, 9)</small><table border=\"1\" class=\"dataframe\"><thead><tr><th>t</th><th>i</th><th>j</th><th>category</th><th>v</th><th>q</th><th>v19</th><th>q19</th><th>p19</th></tr><tr><td>i16</td><td>str</td><td>str</td><td>str</td><td>f32</td><td>f32</td><td>f64</td><td>f64</td><td>f64</td></tr></thead><tbody><tr><td>2020</td><td>&quot;AFG&quot;</td><td>&quot;AUS&quot;</td><td>&quot;080211&quot;</td><td>2.456</td><td>0.71</td><td>6.944</td><td>1.198</td><td>5.796327</td></tr><tr><td>2020</td><td>&quot;AFG&quot;</td><td>&quot;AUS&quot;</td><td>&quot;080420&quot;</td><td>1.398</td><td>1.331</td><td>0.87</td><td>0.8</td><td>1.0875</td></tr></tbody></table></div>"
      ],
      "text/plain": [
       "shape: (2, 9)\n",
       "┌──────┬─────┬─────┬──────────┬───┬───────┬───────┬───────┬──────────┐\n",
       "│ t    ┆ i   ┆ j   ┆ category ┆ … ┆ q     ┆ v19   ┆ q19   ┆ p19      │\n",
       "│ ---  ┆ --- ┆ --- ┆ ---      ┆   ┆ ---   ┆ ---   ┆ ---   ┆ ---      │\n",
       "│ i16  ┆ str ┆ str ┆ str      ┆   ┆ f32   ┆ f64   ┆ f64   ┆ f64      │\n",
       "╞══════╪═════╪═════╪══════════╪═══╪═══════╪═══════╪═══════╪══════════╡\n",
       "│ 2020 ┆ AFG ┆ AUS ┆ 080211   ┆ … ┆ 0.71  ┆ 6.944 ┆ 1.198 ┆ 5.796327 │\n",
       "│ 2020 ┆ AFG ┆ AUS ┆ 080420   ┆ … ┆ 1.331 ┆ 0.87  ┆ 0.8   ┆ 1.0875   │\n",
       "└──────┴─────┴─────┴──────────┴───┴───────┴───────┴───────┴──────────┘"
      ]
     },
     "execution_count": 7,
     "metadata": {},
     "output_type": "execute_result"
    }
   ],
   "source": [
    "# У некоторых стран два country_code, но один iso3 код. Чтобы убрать дубли, группирую и суммирую\n",
    "trade = sql.execute('''\n",
    "    select \n",
    "        tr.t\n",
    "        , cc_i.country_iso3 as i\n",
    "        , cc_j.country_iso3 as j\n",
    "        , tr.category    \n",
    "        , v\n",
    "        , q             \n",
    "        , v19\n",
    "        , q19\n",
    "        , p19            \n",
    "    from trade_tmp2 tr\n",
    "    inner join country_codes cc_i\n",
    "        on tr.i = cc_i.country_code \n",
    "    inner join country_codes cc_j\n",
    "        on tr.j = cc_j.country_code                      \n",
    ";''').collect()\n",
    "sql.register('trade', trade)\n",
    "sql.execute('''select * from trade limit 2;''').collect()"
   ]
  },
  {
   "cell_type": "code",
   "execution_count": null,
   "id": "86ee5d60",
   "metadata": {},
   "outputs": [
    {
     "data": {
      "text/html": [
       "<div><style>\n",
       ".dataframe > thead > tr,\n",
       ".dataframe > tbody > tr {\n",
       "  text-align: right;\n",
       "  white-space: pre-wrap;\n",
       "}\n",
       "</style>\n",
       "<small>shape: (1, 1)</small><table border=\"1\" class=\"dataframe\"><thead><tr><th>len</th></tr><tr><td>u32</td></tr></thead><tbody><tr><td>383132</td></tr></tbody></table></div>"
      ],
      "text/plain": [
       "shape: (1, 1)\n",
       "┌────────┐\n",
       "│ len    │\n",
       "│ ---    │\n",
       "│ u32    │\n",
       "╞════════╡\n",
       "│ 383132 │\n",
       "└────────┘"
      ]
     },
     "execution_count": 8,
     "metadata": {},
     "output_type": "execute_result"
    }
   ],
   "source": [
    "sql.execute('''select count(*) from trade where p19 is null limit 2;''').collect()"
   ]
  },
  {
   "cell_type": "code",
   "execution_count": 11,
   "id": "8c66a851",
   "metadata": {},
   "outputs": [
    {
     "data": {
      "text/html": [
       "<div><style>\n",
       ".dataframe > thead > tr,\n",
       ".dataframe > tbody > tr {\n",
       "  text-align: right;\n",
       "  white-space: pre-wrap;\n",
       "}\n",
       "</style>\n",
       "<small>shape: (2, 4)</small><table border=\"1\" class=\"dataframe\"><thead><tr><th>t</th><th>i</th><th>j</th><th>pvi</th></tr><tr><td>i16</td><td>str</td><td>str</td><td>f64</td></tr></thead><tbody><tr><td>2020</td><td>&quot;BGD&quot;</td><td>&quot;SVK&quot;</td><td>1.046154</td></tr><tr><td>2020</td><td>&quot;BRA&quot;</td><td>&quot;TCA&quot;</td><td>0.705113</td></tr></tbody></table></div>"
      ],
      "text/plain": [
       "shape: (2, 4)\n",
       "┌──────┬─────┬─────┬──────────┐\n",
       "│ t    ┆ i   ┆ j   ┆ pvi      │\n",
       "│ ---  ┆ --- ┆ --- ┆ ---      │\n",
       "│ i16  ┆ str ┆ str ┆ f64      │\n",
       "╞══════╪═════╪═════╪══════════╡\n",
       "│ 2020 ┆ BGD ┆ SVK ┆ 1.046154 │\n",
       "│ 2020 ┆ BRA ┆ TCA ┆ 0.705113 │\n",
       "└──────┴─────┴─────┴──────────┘"
      ]
     },
     "execution_count": 11,
     "metadata": {},
     "output_type": "execute_result"
    }
   ],
   "source": [
    "trade_hs0_pvi = sql.execute('''\n",
    "select         \n",
    "    t\n",
    "    , i\n",
    "    , j    \n",
    "    , sum(p19*q)/sum(p19*q19) as pvi\n",
    "from trade \n",
    "group by 1, 2, 3 \n",
    ";''').collect()\n",
    "sql.register('trade_hs0_pvi', trade_hs0_pvi)\n",
    "sql.execute('''select * from trade_hs0_pvi limit 2;''').collect()"
   ]
  },
  {
   "cell_type": "markdown",
   "id": "c9c0901a",
   "metadata": {},
   "source": [
    "### Джоиню регрессоры"
   ]
  },
  {
   "cell_type": "code",
   "execution_count": 12,
   "id": "afdfe842",
   "metadata": {},
   "outputs": [
    {
     "data": {
      "text/html": [
       "<div><style>\n",
       ".dataframe > thead > tr,\n",
       ".dataframe > tbody > tr {\n",
       "  text-align: right;\n",
       "  white-space: pre-wrap;\n",
       "}\n",
       "</style>\n",
       "<small>shape: (2, 59)</small><table border=\"1\" class=\"dataframe\"><thead><tr><th>country</th><th>t</th><th>cases</th><th>deaths</th><th>tests</th><th>C1M_School_closing</th><th>C2M_Workplace_closing</th><th>C3M_Cancel_public_events</th><th>C4M_Restrictions_on_gatherings</th><th>C5M_Close_public_transport</th><th>C6M_Stay_at_home_requirements</th><th>C7M_Restrictions_on_internal_movement</th><th>C8EV_International_travel_controls</th><th>E1_Income_support</th><th>E2_Debt_contract_relief</th><th>E3_Fiscal_measures</th><th>E4_International_support</th><th>H1_Public_information_campaigns</th><th>H2_Testing_policy</th><th>H3_Contact_tracing</th><th>H4_Emergency_investment_in_healthcare</th><th>H5_Investment_in_vaccines</th><th>H6M_Facial_Coverings</th><th>H7_Vaccination_policy</th><th>H8M_Protection_of_elderly_people</th><th>StringencyIndex_Average</th><th>GovernmentResponseIndex_Average</th><th>ContainmentHealthIndex_Average</th><th>EconomicSupportIndex</th><th>MajorityVaccinated</th><th>PopulationVaccinated</th><th>country:temp</th><th>t:temp</th><th>average_surface_temperature</th><th>country:median_age_table</th><th>t:median_age_table</th><th>median_age</th><th>country:SARS_table</th><th>SARS_total_cases</th><th>country:density_and_mortality</th><th>t:density_and_mortality</th><th>population_density</th><th>female_ratio</th><th>maternal_mortality</th><th>cvd_mortality</th><th>pollution_mortality</th><th>poisoning_mortality</th><th>hygiene_mortality</th><th>female_mortality</th><th>male_mortality</th><th>infant_mortality</th><th>largest_city_share</th><th>urbanization</th><th>country:household_size</th><th>avg_hh_size</th><th>share_1_members</th><th>share_2_3_members</th><th>share_4_5_members</th><th>year</th></tr><tr><td>str</td><td>i16</td><td>f64</td><td>f64</td><td>str</td><td>f32</td><td>f32</td><td>f32</td><td>f32</td><td>f32</td><td>f32</td><td>f32</td><td>f32</td><td>f32</td><td>f32</td><td>f32</td><td>f32</td><td>f32</td><td>f32</td><td>f32</td><td>f32</td><td>f32</td><td>f32</td><td>f32</td><td>f32</td><td>f32</td><td>f32</td><td>f32</td><td>f32</td><td>f32</td><td>f32</td><td>str</td><td>i64</td><td>f64</td><td>str</td><td>i64</td><td>f32</td><td>str</td><td>i64</td><td>str</td><td>i64</td><td>f64</td><td>f64</td><td>f32</td><td>f32</td><td>f32</td><td>f32</td><td>f32</td><td>f32</td><td>f32</td><td>f32</td><td>f32</td><td>f32</td><td>str</td><td>f32</td><td>f32</td><td>f32</td><td>f32</td><td>str</td></tr></thead><tbody><tr><td>&quot;SLV&quot;</td><td>2020</td><td>19.625912</td><td>0.570608</td><td>null</td><td>2.426229</td><td>1.434426</td><td>1.306011</td><td>2.297814</td><td>0.833333</td><td>1.800546</td><td>1.295082</td><td>2.70765</td><td>0.751366</td><td>1.445355</td><td>4.871233e6</td><td>0.0</td><td>1.879781</td><td>0.808743</td><td>0.631148</td><td>489863.0</td><td>0.0</td><td>2.196721</td><td>0.0</td><td>2.046448</td><td>63.594536</td><td>53.958168</td><td>53.822815</td><td>54.918034</td><td>0.0</td><td>0.0</td><td>&quot;SLV&quot;</td><td>2020</td><td>26.48445</td><td>&quot;SLV&quot;</td><td>2020</td><td>25.691</td><td>null</td><td>null</td><td>&quot;SLV&quot;</td><td>2020</td><td>300.901207</td><td>52.477556</td><td>null</td><td>null</td><td>null</td><td>null</td><td>null</td><td>124.344002</td><td>293.265015</td><td>11.0</td><td>24.148672</td><td>17.73575</td><td>&quot;SLV&quot;</td><td>3.92</td><td>8.46</td><td>36.009998</td><td>37.84</td><td>&quot;2020&quot;</td></tr><tr><td>&quot;ASM&quot;</td><td>2022</td><td>467.620027</td><td>1.926</td><td>null</td><td>null</td><td>null</td><td>null</td><td>null</td><td>null</td><td>null</td><td>null</td><td>null</td><td>null</td><td>null</td><td>null</td><td>null</td><td>null</td><td>null</td><td>null</td><td>null</td><td>null</td><td>null</td><td>null</td><td>null</td><td>null</td><td>null</td><td>null</td><td>null</td><td>null</td><td>null</td><td>&quot;ASM&quot;</td><td>2022</td><td>26.570254</td><td>&quot;ASM&quot;</td><td>2022</td><td>27.927</td><td>null</td><td>null</td><td>&quot;ASM&quot;</td><td>2022</td><td>241.71</td><td>49.464234</td><td>null</td><td>null</td><td>null</td><td>null</td><td>null</td><td>null</td><td>null</td><td>null</td><td>null</td><td>null</td><td>null</td><td>null</td><td>null</td><td>null</td><td>null</td><td>&quot;2022&quot;</td></tr></tbody></table></div>"
      ],
      "text/plain": [
       "shape: (2, 59)\n",
       "┌─────────┬──────┬────────────┬──────────┬───┬───────────────┬───────────────┬──────────────┬──────┐\n",
       "│ country ┆ t    ┆ cases      ┆ deaths   ┆ … ┆ share_1_membe ┆ share_2_3_mem ┆ share_4_5_me ┆ year │\n",
       "│ ---     ┆ ---  ┆ ---        ┆ ---      ┆   ┆ rs            ┆ bers          ┆ mbers        ┆ ---  │\n",
       "│ str     ┆ i16  ┆ f64        ┆ f64      ┆   ┆ ---           ┆ ---           ┆ ---          ┆ str  │\n",
       "│         ┆      ┆            ┆          ┆   ┆ f32           ┆ f32           ┆ f32          ┆      │\n",
       "╞═════════╪══════╪════════════╪══════════╪═══╪═══════════════╪═══════════════╪══════════════╪══════╡\n",
       "│ SLV     ┆ 2020 ┆ 19.625912  ┆ 0.570608 ┆ … ┆ 8.46          ┆ 36.009998     ┆ 37.84        ┆ 2020 │\n",
       "│ ASM     ┆ 2022 ┆ 467.620027 ┆ 1.926    ┆ … ┆ null          ┆ null          ┆ null         ┆ 2022 │\n",
       "└─────────┴──────┴────────────┴──────────┴───┴───────────────┴───────────────┴──────────────┴──────┘"
      ]
     },
     "execution_count": 12,
     "metadata": {},
     "output_type": "execute_result"
    }
   ],
   "source": [
    "regressors = pl.read_parquet('../preprocessed_data/regressors.parquet.gzip').with_columns(pl.col(\"t\").cast(pl.Utf8).alias(\"year\"))\n",
    "sql.register('regressors', regressors)\n",
    "sql.execute('''select * from regressors limit 2;''').collect()"
   ]
  },
  {
   "cell_type": "code",
   "execution_count": 13,
   "id": "5a337ee7",
   "metadata": {},
   "outputs": [
    {
     "data": {
      "text/html": [
       "<div><style>\n",
       ".dataframe > thead > tr,\n",
       ".dataframe > tbody > tr {\n",
       "  text-align: right;\n",
       "  white-space: pre-wrap;\n",
       "}\n",
       "</style>\n",
       "<small>shape: (2, 122)</small><table border=\"1\" class=\"dataframe\"><thead><tr><th>t</th><th>i</th><th>j</th><th>pvi</th><th>country</th><th>t:r_i</th><th>cases</th><th>deaths</th><th>tests</th><th>C1M_School_closing</th><th>C2M_Workplace_closing</th><th>C3M_Cancel_public_events</th><th>C4M_Restrictions_on_gatherings</th><th>C5M_Close_public_transport</th><th>C6M_Stay_at_home_requirements</th><th>C7M_Restrictions_on_internal_movement</th><th>C8EV_International_travel_controls</th><th>E1_Income_support</th><th>E2_Debt_contract_relief</th><th>E3_Fiscal_measures</th><th>E4_International_support</th><th>H1_Public_information_campaigns</th><th>H2_Testing_policy</th><th>H3_Contact_tracing</th><th>H4_Emergency_investment_in_healthcare</th><th>H5_Investment_in_vaccines</th><th>H6M_Facial_Coverings</th><th>H7_Vaccination_policy</th><th>H8M_Protection_of_elderly_people</th><th>StringencyIndex_Average</th><th>GovernmentResponseIndex_Average</th><th>ContainmentHealthIndex_Average</th><th>EconomicSupportIndex</th><th>MajorityVaccinated</th><th>PopulationVaccinated</th><th>country:temp</th><th>t:temp</th><th>&hellip;</th><th>H6M_Facial_Coverings:r_j</th><th>H7_Vaccination_policy:r_j</th><th>H8M_Protection_of_elderly_people:r_j</th><th>StringencyIndex_Average:r_j</th><th>GovernmentResponseIndex_Average:r_j</th><th>ContainmentHealthIndex_Average:r_j</th><th>EconomicSupportIndex:r_j</th><th>MajorityVaccinated:r_j</th><th>PopulationVaccinated:r_j</th><th>country:temp:r_j</th><th>t:temp:r_j</th><th>average_surface_temperature:r_j</th><th>country:median_age_table:r_j</th><th>t:median_age_table:r_j</th><th>median_age:r_j</th><th>country:SARS_table:r_j</th><th>SARS_total_cases:r_j</th><th>country:density_and_mortality:r_j</th><th>t:density_and_mortality:r_j</th><th>population_density:r_j</th><th>female_ratio:r_j</th><th>maternal_mortality:r_j</th><th>cvd_mortality:r_j</th><th>pollution_mortality:r_j</th><th>poisoning_mortality:r_j</th><th>hygiene_mortality:r_j</th><th>female_mortality:r_j</th><th>male_mortality:r_j</th><th>infant_mortality:r_j</th><th>largest_city_share:r_j</th><th>urbanization:r_j</th><th>country:household_size:r_j</th><th>avg_hh_size:r_j</th><th>share_1_members:r_j</th><th>share_2_3_members:r_j</th><th>share_4_5_members:r_j</th><th>year:r_j</th></tr><tr><td>i16</td><td>str</td><td>str</td><td>f64</td><td>str</td><td>i16</td><td>f64</td><td>f64</td><td>str</td><td>f32</td><td>f32</td><td>f32</td><td>f32</td><td>f32</td><td>f32</td><td>f32</td><td>f32</td><td>f32</td><td>f32</td><td>f32</td><td>f32</td><td>f32</td><td>f32</td><td>f32</td><td>f32</td><td>f32</td><td>f32</td><td>f32</td><td>f32</td><td>f32</td><td>f32</td><td>f32</td><td>f32</td><td>f32</td><td>f32</td><td>str</td><td>i64</td><td>&hellip;</td><td>f32</td><td>f32</td><td>f32</td><td>f32</td><td>f32</td><td>f32</td><td>f32</td><td>f32</td><td>f32</td><td>str</td><td>i64</td><td>f64</td><td>str</td><td>i64</td><td>f32</td><td>str</td><td>i64</td><td>str</td><td>i64</td><td>f64</td><td>f64</td><td>f32</td><td>f32</td><td>f32</td><td>f32</td><td>f32</td><td>f32</td><td>f32</td><td>f32</td><td>f32</td><td>f32</td><td>str</td><td>f32</td><td>f32</td><td>f32</td><td>f32</td><td>str</td></tr></thead><tbody><tr><td>2020</td><td>&quot;BGD&quot;</td><td>&quot;SVK&quot;</td><td>1.046154</td><td>&quot;BGD&quot;</td><td>2020</td><td>8.303453</td><td>0.121436</td><td>null</td><td>2.385246</td><td>2.065574</td><td>1.576503</td><td>3.103825</td><td>1.128415</td><td>1.486339</td><td>1.486339</td><td>2.491803</td><td>0.084699</td><td>1.530055</td><td>2.5275566e7</td><td>4098.36084</td><td>1.871585</td><td>1.653005</td><td>0.937158</td><td>354836.90625</td><td>0.0</td><td>2.360656</td><td>0.04918</td><td>0.0</td><td>66.011719</td><td>52.2994</td><td>54.002678</td><td>40.368851</td><td>0.0</td><td>0.0</td><td>&quot;BGD&quot;</td><td>2020</td><td>&hellip;</td><td>2.245902</td><td>0.016393</td><td>2.122951</td><td>45.505875</td><td>52.073471</td><td>49.803879</td><td>67.964478</td><td>0.0</td><td>0.0</td><td>&quot;SVK&quot;</td><td>2020</td><td>9.500336</td><td>&quot;SVK&quot;</td><td>2020</td><td>40.195999</td><td>null</td><td>null</td><td>&quot;SVK&quot;</td><td>2020</td><td>113.536335</td><td>51.156851</td><td>null</td><td>null</td><td>null</td><td>null</td><td>null</td><td>null</td><td>null</td><td>4.9</td><td>14.820294</td><td>null</td><td>&quot;SVK&quot;</td><td>2.9</td><td>25.33</td><td>41.369999</td><td>26.809999</td><td>&quot;2020&quot;</td></tr><tr><td>2020</td><td>&quot;BRA&quot;</td><td>&quot;TCA&quot;</td><td>0.705113</td><td>&quot;BRA&quot;</td><td>2020</td><td>97.838812</td><td>2.502044</td><td>null</td><td>2.418033</td><td>2.125683</td><td>1.612022</td><td>2.874317</td><td>1.31694</td><td>1.480874</td><td>1.5847</td><td>1.879781</td><td>0.740437</td><td>0.740437</td><td>5.07706816e8</td><td>0.0</td><td>1.756831</td><td>1.519126</td><td>1.502732</td><td>2.8938184e7</td><td>346994.53125</td><td>3.060109</td><td>0.0</td><td>0.781421</td><td>57.505627</td><td>50.881092</td><td>52.861641</td><td>37.021858</td><td>0.0</td><td>0.0</td><td>&quot;BRA&quot;</td><td>2020</td><td>&hellip;</td><td>null</td><td>null</td><td>null</td><td>null</td><td>null</td><td>null</td><td>null</td><td>null</td><td>null</td><td>null</td><td>null</td><td>null</td><td>&quot;TCA&quot;</td><td>2020</td><td>37.028999</td><td>null</td><td>null</td><td>&quot;TCA&quot;</td><td>2020</td><td>46.722105</td><td>49.843416</td><td>null</td><td>null</td><td>null</td><td>null</td><td>null</td><td>74.804001</td><td>130.348007</td><td>4.3</td><td>null</td><td>null</td><td>&quot;TCA&quot;</td><td>2.37</td><td>33.59</td><td>46.610001</td><td>16.780001</td><td>&quot;2020&quot;</td></tr></tbody></table></div>"
      ],
      "text/plain": [
       "shape: (2, 122)\n",
       "┌──────┬─────┬─────┬──────────┬───┬─────────────────┬─────────────────┬─────────────────┬──────────┐\n",
       "│ t    ┆ i   ┆ j   ┆ pvi      ┆ … ┆ share_1_members ┆ share_2_3_membe ┆ share_4_5_membe ┆ year:r_j │\n",
       "│ ---  ┆ --- ┆ --- ┆ ---      ┆   ┆ :r_j            ┆ rs:r_j          ┆ rs:r_j          ┆ ---      │\n",
       "│ i16  ┆ str ┆ str ┆ f64      ┆   ┆ ---             ┆ ---             ┆ ---             ┆ str      │\n",
       "│      ┆     ┆     ┆          ┆   ┆ f32             ┆ f32             ┆ f32             ┆          │\n",
       "╞══════╪═════╪═════╪══════════╪═══╪═════════════════╪═════════════════╪═════════════════╪══════════╡\n",
       "│ 2020 ┆ BGD ┆ SVK ┆ 1.046154 ┆ … ┆ 25.33           ┆ 41.369999       ┆ 26.809999       ┆ 2020     │\n",
       "│ 2020 ┆ BRA ┆ TCA ┆ 0.705113 ┆ … ┆ 33.59           ┆ 46.610001       ┆ 16.780001       ┆ 2020     │\n",
       "└──────┴─────┴─────┴──────────┴───┴─────────────────┴─────────────────┴─────────────────┴──────────┘"
      ]
     },
     "execution_count": 13,
     "metadata": {},
     "output_type": "execute_result"
    }
   ],
   "source": [
    "sql.execute('''create table trade_x_covid as\n",
    "    select *\n",
    "    from trade_hs0_pvi tr\n",
    "    inner join regressors r_i \n",
    "        on tr.i = r_i.country\n",
    "        and tr.t = r_i.t        \n",
    "    inner join regressors r_j \n",
    "        on tr.j = r_j.country\n",
    "        and tr.t = r_j.t                               \n",
    ";''')\n",
    "sql.execute('''select * from trade_x_covid limit 2;''').collect()"
   ]
  },
  {
   "cell_type": "code",
   "execution_count": 14,
   "id": "be42c9c3",
   "metadata": {},
   "outputs": [],
   "source": [
    "sql.execute('''select * from trade_x_covid;''').collect().write_parquet('../processed_data/trade_pvi_hs0_x_covid.parquet.gzip')"
   ]
  }
 ],
 "metadata": {
  "kernelspec": {
   "display_name": ".venv",
   "language": "python",
   "name": "python3"
  },
  "language_info": {
   "codemirror_mode": {
    "name": "ipython",
    "version": 3
   },
   "file_extension": ".py",
   "mimetype": "text/x-python",
   "name": "python",
   "nbconvert_exporter": "python",
   "pygments_lexer": "ipython3",
   "version": "3.13.3"
  }
 },
 "nbformat": 4,
 "nbformat_minor": 5
}
